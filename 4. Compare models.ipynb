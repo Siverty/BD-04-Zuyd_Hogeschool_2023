{
 "cells": [
  {
   "attachments": {},
   "cell_type": "markdown",
   "metadata": {},
   "source": [
    "# General Imports"
   ]
  },
  {
   "attachments": {},
   "cell_type": "markdown",
   "metadata": {},
   "source": [
    "**Importing all libraries**"
   ]
  },
  {
   "cell_type": "code",
   "execution_count": 34,
   "metadata": {},
   "outputs": [],
   "source": [
    "from sklearn.datasets import make_regression\n",
    "import numpy as np\n",
    "import pandas as pd\n",
    "import warnings\n",
    "\n",
    "from sklearn.model_selection import cross_val_score, train_test_split\n",
    "from sklearn.linear_model import LinearRegression\n",
    "from sklearn.svm import SVR\n",
    "\n",
    "import plotly.graph_objects as go\n",
    "from bayes_opt import BayesianOptimization\n",
    "import matplotlib.pyplot as plt\n",
    "\n",
    "\n",
    "import pandas as pd\n",
    "import numpy as np\n",
    "import seaborn as sns\n",
    "import matplotlib.pyplot as plt\n",
    "from matplotlib import pyplot\n",
    "\n",
    "import statsmodels.api as sm\n",
    "\n",
    "import plotly.express as px\n",
    "import plotly.graph_objects as go\n",
    "\n",
    "from scipy import stats\n",
    "from scipy.stats import mode\n",
    "\n",
    "from sklearn import tree\n",
    "from sklearn.preprocessing import StandardScaler\n",
    "from sklearn.model_selection import train_test_split, cross_val_score, cross_val_predict, StratifiedKFold\n",
    "from sklearn import linear_model\n",
    "from sklearn.linear_model import LinearRegression, LogisticRegression\n",
    "from sklearn.tree import DecisionTreeRegressor\n",
    "from sklearn.ensemble import RandomForestClassifier\n",
    "from sklearn.svm import SVC\n",
    "from sklearn.neural_network import MLPRegressor\n",
    "from sklearn.metrics import r2_score, mean_squared_error, mean_absolute_error, accuracy_score, recall_score, precision_score, f1_score\n",
    "from sklearn import metrics\n",
    "from sklearn.model_selection import GridSearchCV\n",
    "from sklearn.inspection import permutation_importance\n",
    "\n",
    "from bayes_opt import BayesianOptimization\n"
   ]
  },
  {
   "cell_type": "code",
   "execution_count": null,
   "metadata": {},
   "outputs": [],
   "source": [
    "from sklearn.datasets import make_regression\n",
    "import numpy as np\n",
    "import pandas as pd\n",
    "import warnings\n",
    "\n",
    "from sklearn.model_selection import cross_val_score, train_test_split\n",
    "from sklearn.linear_model import LinearRegression\n",
    "from sklearn.svm import SVR\n",
    "\n",
    "import plotly.graph_objects as go\n",
    "from bayes_opt import BayesianOptimization\n",
    "import matplotlib.pyplot as plt\n",
    "\n",
    "import seaborn as sns\n",
    "from matplotlib import pyplot\n",
    "import statsmodels.api as sm\n",
    "import plotly.express as px\n",
    "from scipy import stats\n",
    "from scipy.stats import mode\n",
    "from sklearn.preprocessing import StandardScaler\n",
    "from sklearn.model_selection import cross_val_predict, StratifiedKFold\n",
    "from sklearn import linear_model\n",
    "from sklearn.ensemble import RandomForestClassifier\n",
    "from sklearn.svm import SVC\n",
    "from sklearn.neural_network import MLPRegressor\n",
    "from sklearn.metrics import r2_score, mean_squared_error, mean_absolute_error\n",
    "from sklearn import metrics\n",
    "from sklearn.inspection import permutation_importance\n"
   ]
  },
  {
   "attachments": {},
   "cell_type": "markdown",
   "metadata": {},
   "source": [
    "Disable warnings"
   ]
  },
  {
   "cell_type": "code",
   "execution_count": 35,
   "metadata": {},
   "outputs": [],
   "source": [
    "# Disable all warnings\n",
    "warnings.filterwarnings(\"ignore\")\n",
    "\n",
    "# Enable warnings again\n",
    "## warnings.filterwarnings(\"default\")"
   ]
  },
  {
   "attachments": {},
   "cell_type": "markdown",
   "metadata": {},
   "source": [
    "Generate train and test data"
   ]
  },
  {
   "cell_type": "code",
   "execution_count": 36,
   "metadata": {},
   "outputs": [],
   "source": [
    "# Read Data\n",
    "df = pd.read_csv(\"data_finish_prep.csv\")\n",
    "\n",
    "# Select only the usefull part of the df\n",
    "df.drop(columns=['verschil_Lengte',\n",
    "               'verschil_6 MWT', 'verschil_TUG',\n",
    "               'verschil_BMI', 'verschil_Conditie',\n",
    "               'verschil_Lenigheid', 'verschil_Knijpkracht'], inplace=True)\n",
    "\n",
    "# Drop NaN values\n",
    "df.dropna(inplace=True)\n",
    "\n",
    "# Define X and y\n",
    "X = df.drop(columns=['verschil_Gewicht'])\n",
    "y = df['verschil_Gewicht']\n",
    "\n",
    "# Split data into train & test data\n",
    "X_train, X_test, y_train, y_test = train_test_split(X, y, test_size=0.2, random_state=42)"
   ]
  },
  {
   "cell_type": "code",
   "execution_count": 37,
   "metadata": {},
   "outputs": [],
   "source": [
    "def bo_params_generic(model, params, X_train, y_train):\n",
    "    # Create the model instance with the specified parameters\n",
    "    regressor = model(**params)\n",
    "    \n",
    "    # Assuming you have X_train, y_train defined for regression\n",
    "    scores = cross_val_score(regressor, X_train, y_train, cv=10, scoring='neg_root_mean_squared_error')\n",
    "    return -scores.mean()"
   ]
  },
  {
   "attachments": {},
   "cell_type": "markdown",
   "metadata": {},
   "source": [
    "# MLR"
   ]
  },
  {
   "attachments": {},
   "cell_type": "markdown",
   "metadata": {},
   "source": [
    "**feature selection**"
   ]
  },
  {
   "cell_type": "code",
   "execution_count": 38,
   "metadata": {},
   "outputs": [
    {
     "name": "stdout",
     "output_type": "stream",
     "text": [
      "Best features: ['AfstandTotRestaurant', 'AfstandTotSportterrein', 'AfstandTotKunstijsbaan', 'AfstandTotMuseum', 'AfstandTotPodiumkunstenTotaal', 'AfstandTotBioscoop', 'AfstandTotSauna', 'BeperkingInZien', 'VoldoetAanBeweegrichtlijn', 'UrenMantelzorgPerWeek']\n",
      "Dropped features: ['AfstandTotAttractie', 'EenOfMeerLangdurigeAandoeningen', 'kPersonenMetLaagsteInkomen', 'AfstandTotBuitenschoolseOpvang', 'BouwjaarVanaf2000', 'AfstandTotPoppodium', 'AfstandTotCafetariaED', 'AfstandTotDagrecreatiefTerrein', 'EigendomOnbekend', 'PersonenautoSPerHuishouden', 'AfstandTotOpenNatNatuurlijkTerrein', 'AfstandTotVolkstuin', 'AfstandTotOpenDroogNatTerrein', 'AfstandTotConsultatiebureau', 'BeperkingInHoren', 'OvermatigDrinker', 'ErvarenGezondheidGoedZeerGoed', 'AfstandTotBibliotheek', 'AfstandTotOpenbaarGroenTotaal', 'GeboorteRelatief', 'AfstandTotHuisartsenpraktijk', 'AfstandTotZwembad', 'AfstandTotBos', 'InBezitOverigeVerhuurders', 'GeweldsEnSeksueleMisdrijven', 'PercentageOnbewoond', 'AfstandTotHotelED', 'AfstandTotWarenhuis', 'AfstandTotSchool', 'Ondergewicht', 'MatigOvergewicht', 'VernielingMisdrijfTegenOpenbareOrde', 'PersonenautoSNaarOppervlakte', 'AfstandTotHuisartsenpost', 'PersonenautoSOverigeBrandstof', 'AfstandTotCafeED', 'AfstandTotSemiOpenbaarGroenTotaal', 'KLFinancieleDienstenOnroerendGoed', 'Mantelzorger', 'TotaalDiefstalUitWoningSchuurED', 'InBezitWoningcorporatie', 'AfstandTotTreinstationsTotaal', 'AfstandTotApotheek', 'GemiddeldeWoningwaarde', 'SterfteRelatief', 'NederlandseAntillenEnAruba', 'AfstandTotOvDagelLevensmiddelen', 'AfstandTotBelangrijkOverstapstation', 'ALandbouwBosbouwEnVisserij', 'AfstandTotKinderdagverblijf', 'ErnstigOvergewichtObesitas', 'OppervlakteWater', 'ZwaarBelasteMantelzorgers', 'AfstandTotVerblijfsrecreatiefTerrein', 'Rokers', 'AfstandTotBegraafplaats', 'AfstandTotBrandweerkazerne', 'VoldoetAanRichtlijnAlcoholgebruik', 'AfstandTotZonnebank', 'AfstandTotOpenNatTerreinTotaal']\n"
     ]
    }
   ],
   "source": [
    "# Fit the Full Model\n",
    "X =  sm.add_constant(X_train)  # Add constant term for the intercept\n",
    "model = sm.OLS(y_train, X_train).fit()  # Fit the MLR model\n",
    "best_model = model  # Initialize the best model\n",
    "selected_features = X_train.columns.tolist()\n",
    "best_features = X_train.columns.tolist()\n",
    "best_features_rmse = np.sqrt(-cross_val_score(LinearRegression(), X_train, y_train, cv=10, scoring='neg_mean_squared_error').mean())\n",
    "\n",
    "# Iteratively remove one feature at a time based on p-values\n",
    "while True:\n",
    "    # Compute p-values\n",
    "    p_values = model.pvalues[1:]  # Exclude the constant term\n",
    "\n",
    "    # Identify Insignificant Features\n",
    "    insignificant_feature = p_values.idxmax()\n",
    "    max_p_value = p_values.max()\n",
    "\n",
    "    # Remove Insignificant Feature\n",
    "    X = X.drop(insignificant_feature, axis=1)\n",
    "    selected_features.remove(insignificant_feature)\n",
    "\n",
    "    # When there a no features left\n",
    "    if len(selected_features) == 0:\n",
    "        break\n",
    "    \n",
    "    # Refit the Model\n",
    "    model = sm.OLS(y_train, X).fit()\n",
    "    \n",
    "    # Evaluate Model Performance\n",
    "    rmse = np.sqrt(-cross_val_score(LinearRegression(), X_train[selected_features], y_train, cv=10, scoring='neg_mean_squared_error').mean())\n",
    "\n",
    "    # Check if the model performs better without the insignificant features\n",
    "    if rmse <= best_features_rmse:\n",
    "        best_features_rmse = rmse\n",
    "        best_features = selected_features.copy()\n",
    "        best_model = model\n",
    "\n",
    "# Save results\n",
    "best_model_mlr = LinearRegression().fit(X_train[best_features], y_train)\n",
    "best_features_mlr = best_features\n",
    "\n",
    "# Show results\n",
    "print(\"Best features:\", best_features)\n",
    "print(\"Dropped features:\", list(set(X_train.columns.tolist()) - set(best_features)))"
   ]
  },
  {
   "attachments": {},
   "cell_type": "markdown",
   "metadata": {},
   "source": [
    "*Er zijn geen hyperparameters om te optimaliseren.*"
   ]
  },
  {
   "attachments": {},
   "cell_type": "markdown",
   "metadata": {},
   "source": [
    "# Support Vector Machines"
   ]
  },
  {
   "attachments": {},
   "cell_type": "markdown",
   "metadata": {},
   "source": [
    "**Hyperparameter optimalisatie**"
   ]
  },
  {
   "cell_type": "code",
   "execution_count": 39,
   "metadata": {},
   "outputs": [
    {
     "name": "stdout",
     "output_type": "stream",
     "text": [
      "|   iter    |  target   |     C     |   gamma   | kernel... |\n",
      "-------------------------------------------------------------\n",
      "| \u001b[0m1        \u001b[0m | \u001b[0m-11.63   \u001b[0m | \u001b[0m9.469    \u001b[0m | \u001b[0m0.04878  \u001b[0m | \u001b[0m3.63     \u001b[0m |\n",
      "| \u001b[95m2        \u001b[0m | \u001b[95m-11.63   \u001b[0m | \u001b[95m5.625    \u001b[0m | \u001b[95m0.09757  \u001b[0m | \u001b[95m2.575    \u001b[0m |\n",
      "| \u001b[0m3        \u001b[0m | \u001b[0m-11.63   \u001b[0m | \u001b[0m0.5236   \u001b[0m | \u001b[0m0.03564  \u001b[0m | \u001b[0m1.344    \u001b[0m |\n",
      "| \u001b[0m4        \u001b[0m | \u001b[0m-11.66   \u001b[0m | \u001b[0m4.537    \u001b[0m | \u001b[0m0.05762  \u001b[0m | \u001b[0m1.631    \u001b[0m |\n",
      "| \u001b[0m5        \u001b[0m | \u001b[0m-11.66   \u001b[0m | \u001b[0m7.067    \u001b[0m | \u001b[0m0.03837  \u001b[0m | \u001b[0m1.562    \u001b[0m |\n",
      "| \u001b[0m6        \u001b[0m | \u001b[0m-11.64   \u001b[0m | \u001b[0m5.473    \u001b[0m | \u001b[0m0.06367  \u001b[0m | \u001b[0m3.283    \u001b[0m |\n",
      "| \u001b[95m7        \u001b[0m | \u001b[95m-11.62   \u001b[0m | \u001b[95m2.223    \u001b[0m | \u001b[95m0.02886  \u001b[0m | \u001b[95m2.415    \u001b[0m |\n",
      "| \u001b[0m8        \u001b[0m | \u001b[0m-11.63   \u001b[0m | \u001b[0m3.309    \u001b[0m | \u001b[0m0.03722  \u001b[0m | \u001b[0m3.316    \u001b[0m |\n",
      "| \u001b[0m9        \u001b[0m | \u001b[0m-11.63   \u001b[0m | \u001b[0m7.955    \u001b[0m | \u001b[0m0.07763  \u001b[0m | \u001b[0m2.329    \u001b[0m |\n",
      "| \u001b[0m10       \u001b[0m | \u001b[0m-11.65   \u001b[0m | \u001b[0m1.978    \u001b[0m | \u001b[0m0.06698  \u001b[0m | \u001b[0m1.81     \u001b[0m |\n",
      "| \u001b[0m11       \u001b[0m | \u001b[0m-11.62   \u001b[0m | \u001b[0m7.376    \u001b[0m | \u001b[0m0.01786  \u001b[0m | \u001b[0m2.386    \u001b[0m |\n",
      "| \u001b[0m12       \u001b[0m | \u001b[0m-11.66   \u001b[0m | \u001b[0m9.78     \u001b[0m | \u001b[0m0.04432  \u001b[0m | \u001b[0m1.238    \u001b[0m |\n",
      "| \u001b[95m13       \u001b[0m | \u001b[95m-11.62   \u001b[0m | \u001b[95m2.43     \u001b[0m | \u001b[95m0.04866  \u001b[0m | \u001b[95m2.487    \u001b[0m |\n",
      "| \u001b[0m14       \u001b[0m | \u001b[0m-11.62   \u001b[0m | \u001b[0m1.985    \u001b[0m | \u001b[0m0.08665  \u001b[0m | \u001b[0m2.489    \u001b[0m |\n",
      "| \u001b[0m15       \u001b[0m | \u001b[0m-11.63   \u001b[0m | \u001b[0m8.435    \u001b[0m | \u001b[0m0.09662  \u001b[0m | \u001b[0m2.147    \u001b[0m |\n",
      "| \u001b[0m16       \u001b[0m | \u001b[0m-11.69   \u001b[0m | \u001b[0m2.399    \u001b[0m | \u001b[0m0.001    \u001b[0m | \u001b[0m3.083    \u001b[0m |\n",
      "| \u001b[0m17       \u001b[0m | \u001b[0m-11.63   \u001b[0m | \u001b[0m2.541    \u001b[0m | \u001b[0m0.07038  \u001b[0m | \u001b[0m2.185    \u001b[0m |\n",
      "| \u001b[0m18       \u001b[0m | \u001b[0m-11.62   \u001b[0m | \u001b[0m2.218    \u001b[0m | \u001b[0m0.05762  \u001b[0m | \u001b[0m2.44     \u001b[0m |\n",
      "| \u001b[0m19       \u001b[0m | \u001b[0m-11.63   \u001b[0m | \u001b[0m7.622    \u001b[0m | \u001b[0m0.003478 \u001b[0m | \u001b[0m2.695    \u001b[0m |\n",
      "| \u001b[0m20       \u001b[0m | \u001b[0m-11.63   \u001b[0m | \u001b[0m7.027    \u001b[0m | \u001b[0m0.06159  \u001b[0m | \u001b[0m2.551    \u001b[0m |\n",
      "| \u001b[0m21       \u001b[0m | \u001b[0m-11.63   \u001b[0m | \u001b[0m0.9126   \u001b[0m | \u001b[0m0.09915  \u001b[0m | \u001b[0m3.055    \u001b[0m |\n",
      "| \u001b[0m22       \u001b[0m | \u001b[0m-11.63   \u001b[0m | \u001b[0m7.613    \u001b[0m | \u001b[0m0.1      \u001b[0m | \u001b[0m2.091    \u001b[0m |\n",
      "| \u001b[0m23       \u001b[0m | \u001b[0m-11.62   \u001b[0m | \u001b[0m2.843    \u001b[0m | \u001b[0m0.01727  \u001b[0m | \u001b[0m2.458    \u001b[0m |\n",
      "| \u001b[0m24       \u001b[0m | \u001b[0m-11.66   \u001b[0m | \u001b[0m2.315    \u001b[0m | \u001b[0m0.09984  \u001b[0m | \u001b[0m1.263    \u001b[0m |\n",
      "| \u001b[0m25       \u001b[0m | \u001b[0m-11.62   \u001b[0m | \u001b[0m3.346    \u001b[0m | \u001b[0m0.03327  \u001b[0m | \u001b[0m2.691    \u001b[0m |\n",
      "| \u001b[0m26       \u001b[0m | \u001b[0m-11.62   \u001b[0m | \u001b[0m3.361    \u001b[0m | \u001b[0m0.001    \u001b[0m | \u001b[0m2.289    \u001b[0m |\n",
      "| \u001b[0m27       \u001b[0m | \u001b[0m-11.63   \u001b[0m | \u001b[0m3.754    \u001b[0m | \u001b[0m0.06529  \u001b[0m | \u001b[0m2.512    \u001b[0m |\n",
      "| \u001b[0m28       \u001b[0m | \u001b[0m-11.65   \u001b[0m | \u001b[0m3.311    \u001b[0m | \u001b[0m0.02791  \u001b[0m | \u001b[0m1.852    \u001b[0m |\n",
      "| \u001b[0m29       \u001b[0m | \u001b[0m-11.66   \u001b[0m | \u001b[0m6.818    \u001b[0m | \u001b[0m0.05636  \u001b[0m | \u001b[0m1.317    \u001b[0m |\n",
      "| \u001b[95m30       \u001b[0m | \u001b[95m-11.6    \u001b[0m | \u001b[95m1.413    \u001b[0m | \u001b[95m0.001    \u001b[0m | \u001b[95m2.489    \u001b[0m |\n",
      "| \u001b[0m31       \u001b[0m | \u001b[0m-11.61   \u001b[0m | \u001b[0m1.108    \u001b[0m | \u001b[0m0.001    \u001b[0m | \u001b[0m2.332    \u001b[0m |\n",
      "| \u001b[0m32       \u001b[0m | \u001b[0m-11.62   \u001b[0m | \u001b[0m1.436    \u001b[0m | \u001b[0m0.02732  \u001b[0m | \u001b[0m2.148    \u001b[0m |\n",
      "| \u001b[0m33       \u001b[0m | \u001b[0m-11.62   \u001b[0m | \u001b[0m1.335    \u001b[0m | \u001b[0m0.09736  \u001b[0m | \u001b[0m2.758    \u001b[0m |\n",
      "| \u001b[0m34       \u001b[0m | \u001b[0m-11.61   \u001b[0m | \u001b[0m0.5069   \u001b[0m | \u001b[0m0.02269  \u001b[0m | \u001b[0m2.354    \u001b[0m |\n",
      "| \u001b[0m35       \u001b[0m | \u001b[0m-11.61   \u001b[0m | \u001b[0m0.1375   \u001b[0m | \u001b[0m0.08414  \u001b[0m | \u001b[0m2.825    \u001b[0m |\n",
      "| \u001b[0m36       \u001b[0m | \u001b[0m-11.62   \u001b[0m | \u001b[0m6.574    \u001b[0m | \u001b[0m0.01947  \u001b[0m | \u001b[0m2.167    \u001b[0m |\n",
      "| \u001b[0m37       \u001b[0m | \u001b[0m-11.7    \u001b[0m | \u001b[0m0.1      \u001b[0m | \u001b[0m0.001    \u001b[0m | \u001b[0m3.331    \u001b[0m |\n",
      "| \u001b[0m38       \u001b[0m | \u001b[0m-11.61   \u001b[0m | \u001b[0m0.1061   \u001b[0m | \u001b[0m0.05186  \u001b[0m | \u001b[0m2.421    \u001b[0m |\n",
      "| \u001b[0m39       \u001b[0m | \u001b[0m-11.61   \u001b[0m | \u001b[0m0.5096   \u001b[0m | \u001b[0m0.01488  \u001b[0m | \u001b[0m2.37     \u001b[0m |\n",
      "| \u001b[0m40       \u001b[0m | \u001b[0m-11.63   \u001b[0m | \u001b[0m0.5221   \u001b[0m | \u001b[0m0.001    \u001b[0m | \u001b[0m2.48     \u001b[0m |\n",
      "| \u001b[0m41       \u001b[0m | \u001b[0m-11.62   \u001b[0m | \u001b[0m1.388    \u001b[0m | \u001b[0m0.02836  \u001b[0m | \u001b[0m2.564    \u001b[0m |\n",
      "| \u001b[0m42       \u001b[0m | \u001b[0m-11.63   \u001b[0m | \u001b[0m0.8224   \u001b[0m | \u001b[0m0.06362  \u001b[0m | \u001b[0m3.095    \u001b[0m |\n",
      "| \u001b[0m43       \u001b[0m | \u001b[0m-11.61   \u001b[0m | \u001b[0m1.332    \u001b[0m | \u001b[0m0.005304 \u001b[0m | \u001b[0m2.445    \u001b[0m |\n",
      "| \u001b[0m44       \u001b[0m | \u001b[0m-11.62   \u001b[0m | \u001b[0m8.959    \u001b[0m | \u001b[0m0.01379  \u001b[0m | \u001b[0m2.669    \u001b[0m |\n",
      "| \u001b[0m45       \u001b[0m | \u001b[0m-11.61   \u001b[0m | \u001b[0m1.433    \u001b[0m | \u001b[0m0.04655  \u001b[0m | \u001b[0m2.423    \u001b[0m |\n",
      "| \u001b[95m46       \u001b[0m | \u001b[95m-11.6    \u001b[0m | \u001b[95m9.874    \u001b[0m | \u001b[95m0.009086 \u001b[0m | \u001b[95m3.418    \u001b[0m |\n",
      "| \u001b[0m47       \u001b[0m | \u001b[0m-11.63   \u001b[0m | \u001b[0m7.807    \u001b[0m | \u001b[0m0.07071  \u001b[0m | \u001b[0m2.35     \u001b[0m |\n",
      "| \u001b[0m48       \u001b[0m | \u001b[0m-11.63   \u001b[0m | \u001b[0m1.05     \u001b[0m | \u001b[0m0.09073  \u001b[0m | \u001b[0m3.122    \u001b[0m |\n",
      "| \u001b[0m49       \u001b[0m | \u001b[0m-11.65   \u001b[0m | \u001b[0m9.946    \u001b[0m | \u001b[0m0.05991  \u001b[0m | \u001b[0m3.383    \u001b[0m |\n",
      "| \u001b[0m50       \u001b[0m | \u001b[0m-11.63   \u001b[0m | \u001b[0m6.737    \u001b[0m | \u001b[0m0.08509  \u001b[0m | \u001b[0m2.934    \u001b[0m |\n",
      "=============================================================\n"
     ]
    },
    {
     "data": {
      "text/html": [
       "<style>#sk-container-id-7 {color: black;background-color: white;}#sk-container-id-7 pre{padding: 0;}#sk-container-id-7 div.sk-toggleable {background-color: white;}#sk-container-id-7 label.sk-toggleable__label {cursor: pointer;display: block;width: 100%;margin-bottom: 0;padding: 0.3em;box-sizing: border-box;text-align: center;}#sk-container-id-7 label.sk-toggleable__label-arrow:before {content: \"▸\";float: left;margin-right: 0.25em;color: #696969;}#sk-container-id-7 label.sk-toggleable__label-arrow:hover:before {color: black;}#sk-container-id-7 div.sk-estimator:hover label.sk-toggleable__label-arrow:before {color: black;}#sk-container-id-7 div.sk-toggleable__content {max-height: 0;max-width: 0;overflow: hidden;text-align: left;background-color: #f0f8ff;}#sk-container-id-7 div.sk-toggleable__content pre {margin: 0.2em;color: black;border-radius: 0.25em;background-color: #f0f8ff;}#sk-container-id-7 input.sk-toggleable__control:checked~div.sk-toggleable__content {max-height: 200px;max-width: 100%;overflow: auto;}#sk-container-id-7 input.sk-toggleable__control:checked~label.sk-toggleable__label-arrow:before {content: \"▾\";}#sk-container-id-7 div.sk-estimator input.sk-toggleable__control:checked~label.sk-toggleable__label {background-color: #d4ebff;}#sk-container-id-7 div.sk-label input.sk-toggleable__control:checked~label.sk-toggleable__label {background-color: #d4ebff;}#sk-container-id-7 input.sk-hidden--visually {border: 0;clip: rect(1px 1px 1px 1px);clip: rect(1px, 1px, 1px, 1px);height: 1px;margin: -1px;overflow: hidden;padding: 0;position: absolute;width: 1px;}#sk-container-id-7 div.sk-estimator {font-family: monospace;background-color: #f0f8ff;border: 1px dotted black;border-radius: 0.25em;box-sizing: border-box;margin-bottom: 0.5em;}#sk-container-id-7 div.sk-estimator:hover {background-color: #d4ebff;}#sk-container-id-7 div.sk-parallel-item::after {content: \"\";width: 100%;border-bottom: 1px solid gray;flex-grow: 1;}#sk-container-id-7 div.sk-label:hover label.sk-toggleable__label {background-color: #d4ebff;}#sk-container-id-7 div.sk-serial::before {content: \"\";position: absolute;border-left: 1px solid gray;box-sizing: border-box;top: 0;bottom: 0;left: 50%;z-index: 0;}#sk-container-id-7 div.sk-serial {display: flex;flex-direction: column;align-items: center;background-color: white;padding-right: 0.2em;padding-left: 0.2em;position: relative;}#sk-container-id-7 div.sk-item {position: relative;z-index: 1;}#sk-container-id-7 div.sk-parallel {display: flex;align-items: stretch;justify-content: center;background-color: white;position: relative;}#sk-container-id-7 div.sk-item::before, #sk-container-id-7 div.sk-parallel-item::before {content: \"\";position: absolute;border-left: 1px solid gray;box-sizing: border-box;top: 0;bottom: 0;left: 50%;z-index: -1;}#sk-container-id-7 div.sk-parallel-item {display: flex;flex-direction: column;z-index: 1;position: relative;background-color: white;}#sk-container-id-7 div.sk-parallel-item:first-child::after {align-self: flex-end;width: 50%;}#sk-container-id-7 div.sk-parallel-item:last-child::after {align-self: flex-start;width: 50%;}#sk-container-id-7 div.sk-parallel-item:only-child::after {width: 0;}#sk-container-id-7 div.sk-dashed-wrapped {border: 1px dashed gray;margin: 0 0.4em 0.5em 0.4em;box-sizing: border-box;padding-bottom: 0.4em;background-color: white;}#sk-container-id-7 div.sk-label label {font-family: monospace;font-weight: bold;display: inline-block;line-height: 1.2em;}#sk-container-id-7 div.sk-label-container {text-align: center;}#sk-container-id-7 div.sk-container {/* jupyter's `normalize.less` sets `[hidden] { display: none; }` but bootstrap.min.css set `[hidden] { display: none !important; }` so we also need the `!important` here to be able to override the default hidden behavior on the sphinx rendered scikit-learn.org. See: https://github.com/scikit-learn/scikit-learn/issues/21755 */display: inline-block !important;position: relative;}#sk-container-id-7 div.sk-text-repr-fallback {display: none;}</style><div id=\"sk-container-id-7\" class=\"sk-top-container\"><div class=\"sk-text-repr-fallback\"><pre>SVR(C=9.873984723455573, gamma=0.009086011668760496, kernel=&#x27;poly&#x27;)</pre><b>In a Jupyter environment, please rerun this cell to show the HTML representation or trust the notebook. <br />On GitHub, the HTML representation is unable to render, please try loading this page with nbviewer.org.</b></div><div class=\"sk-container\" hidden><div class=\"sk-item\"><div class=\"sk-estimator sk-toggleable\"><input class=\"sk-toggleable__control sk-hidden--visually\" id=\"sk-estimator-id-7\" type=\"checkbox\" checked><label for=\"sk-estimator-id-7\" class=\"sk-toggleable__label sk-toggleable__label-arrow\">SVR</label><div class=\"sk-toggleable__content\"><pre>SVR(C=9.873984723455573, gamma=0.009086011668760496, kernel=&#x27;poly&#x27;)</pre></div></div></div></div></div>"
      ],
      "text/plain": [
       "SVR(C=9.873984723455573, gamma=0.009086011668760496, kernel='poly')"
      ]
     },
     "execution_count": 39,
     "metadata": {},
     "output_type": "execute_result"
    }
   ],
   "source": [
    "def bo_params_generic(model, params, X_train, y_train):\n",
    "    # Create the model instance with the specified parameters\n",
    "    classifier = model(**params)\n",
    "    \n",
    "    # Calculating accuracy based on cross-validation\n",
    "    scores = cross_val_score(classifier, X_train, y_train, cv=10, scoring='neg_mean_squared_error')\n",
    "    return scores.mean()\n",
    "\n",
    "params_ranges = {\n",
    "    'C': (0.1, 10),\n",
    "    'kernel_int': (1, 4),\n",
    "    'gamma': (0.001, 0.1)\n",
    "}\n",
    "\n",
    "kernel_mapping 'linear',\n",
    "    2: 'rbf',\n",
    "    3: 'poly',\n",
    "    4: 'sigmoid'= {\n",
    "    1: \n",
    "}\n",
    "\n",
    "# Example usage with SVM\n",
    "model = SVR\n",
    "model_bo = BayesianOptimization(f=lambda C, kernel_int, gamma:\n",
    "                                    bo_params_generic(model, {\n",
    "                                        'C': C,\n",
    "                                        'kernel': kernel_mapping[int(kernel_int)],\n",
    "                                        'gamma': gamma\n",
    "                                    }, X_train, y_train),\n",
    "                             pbounds=params_ranges)\n",
    "\n",
    "results = model_bo.maximize(n_iter=40, init_points=10)\n",
    "params = model_bo.max['params']\n",
    "\n",
    "# Creating a model with the best hyperparameters\n",
    "best_model_svm = model(\n",
    "    C=params['C'],\n",
    "    kernel=kernel_mapping[int(params['kernel_int'])],\n",
    "    gamma=params['gamma']\n",
    ")\n",
    "\n",
    "# Fit the model\n",
    "best_model_svm.fit(X_train, y_train)\n"
   ]
  },
  {
   "attachments": {},
   "cell_type": "markdown",
   "metadata": {},
   "source": [
    "**Feature Selection**"
   ]
  },
  {
   "cell_type": "code",
   "execution_count": 40,
   "metadata": {},
   "outputs": [
    {
     "name": "stdout",
     "output_type": "stream",
     "text": [
      "Scince the kernal is not linear, this feature selection is not possible\n",
      "Best features: Index(['NederlandseAntillenEnAruba', 'GeboorteRelatief', 'SterfteRelatief',\n",
      "       'GemiddeldeWoningwaarde', 'PercentageOnbewoond',\n",
      "       'InBezitWoningcorporatie', 'InBezitOverigeVerhuurders',\n",
      "       'EigendomOnbekend', 'BouwjaarVanaf2000', 'kPersonenMetLaagsteInkomen',\n",
      "       'ALandbouwBosbouwEnVisserij', 'KLFinancieleDienstenOnroerendGoed',\n",
      "       'PersonenautoSOverigeBrandstof', 'PersonenautoSPerHuishouden',\n",
      "       'PersonenautoSNaarOppervlakte', 'AfstandTotHuisartsenpraktijk',\n",
      "       'AfstandTotKinderdagverblijf', 'AfstandTotSchool', 'OppervlakteWater',\n",
      "       'TotaalDiefstalUitWoningSchuurED',\n",
      "       'VernielingMisdrijfTegenOpenbareOrde', 'GeweldsEnSeksueleMisdrijven',\n",
      "       'AfstandTotHuisartsenpost', 'AfstandTotApotheek',\n",
      "       'AfstandTotConsultatiebureau', 'AfstandTotOvDagelLevensmiddelen',\n",
      "       'AfstandTotWarenhuis', 'AfstandTotCafeED', 'AfstandTotCafetariaED',\n",
      "       'AfstandTotRestaurant', 'AfstandTotHotelED',\n",
      "       'AfstandTotBuitenschoolseOpvang', 'AfstandTotOpenbaarGroenTotaal',\n",
      "       'AfstandTotDagrecreatiefTerrein', 'AfstandTotBos',\n",
      "       'AfstandTotOpenNatTerreinTotaal', 'AfstandTotOpenDroogNatTerrein',\n",
      "       'AfstandTotOpenNatNatuurlijkTerrein',\n",
      "       'AfstandTotSemiOpenbaarGroenTotaal', 'AfstandTotSportterrein',\n",
      "       'AfstandTotVolkstuin', 'AfstandTotVerblijfsrecreatiefTerrein',\n",
      "       'AfstandTotBegraafplaats', 'AfstandTotTreinstationsTotaal',\n",
      "       'AfstandTotBelangrijkOverstapstation', 'AfstandTotBibliotheek',\n",
      "       'AfstandTotZwembad', 'AfstandTotKunstijsbaan', 'AfstandTotMuseum',\n",
      "       'AfstandTotPodiumkunstenTotaal', 'AfstandTotPoppodium',\n",
      "       'AfstandTotBioscoop', 'AfstandTotSauna', 'AfstandTotZonnebank',\n",
      "       'AfstandTotAttractie', 'AfstandTotBrandweerkazerne',\n",
      "       'ErvarenGezondheidGoedZeerGoed', 'EenOfMeerLangdurigeAandoeningen',\n",
      "       'BeperkingInHoren', 'BeperkingInZien', 'Ondergewicht',\n",
      "       'MatigOvergewicht', 'ErnstigOvergewichtObesitas',\n",
      "       'VoldoetAanBeweegrichtlijn', 'Mantelzorger',\n",
      "       'ZwaarBelasteMantelzorgers', 'UrenMantelzorgPerWeek', 'Rokers',\n",
      "       'VoldoetAanRichtlijnAlcoholgebruik', 'OvermatigDrinker'],\n",
      "      dtype='object')\n",
      "Dropped features: []\n"
     ]
    }
   ],
   "source": [
    "# Get the accuracy score of the model with all features\n",
    "best_accuracy = cross_val_score(best_model_svm, X_train, y_train, cv=10, scoring='neg_mean_squared_error', n_jobs=-1).mean()\n",
    "best_model = best_model_svm\n",
    "selected_features = X_train.columns\n",
    "best_features = selected_features\n",
    "\n",
    "while len(selected_features) > 1:\n",
    "    try:\n",
    "        # Retrieve the coefficients from the SVM model\n",
    "        coefficients = best_model_svm.coef_[0]\n",
    "\n",
    "        # Sort features based on their coefficient magnitudes\n",
    "        sorted_indices = np.argsort(np.abs(coefficients))\n",
    "        selected_features = [X_train.columns[i] for i in sorted_indices[::-1]]\n",
    "\n",
    "        # Remove the least important feature\n",
    "        selected_features = selected_features[:-1]\n",
    "        \n",
    "        # Refit the linear SVM classifier\n",
    "        best_model_svm_classification.fit(X_train[selected_features], y_train)\n",
    "        \n",
    "        # Evaluate Model Performance\n",
    "        accuracy = cross_val_score(best_model_svm, X_train[selected_features], y_train, cv=10, scoring='neg_mean_squared_error', n_jobs=-1).mean()\n",
    "\n",
    "        # Check if the model performs better without the insignificant features\n",
    "        if accuracy >= best_accuracy:\n",
    "            best_accuracy = accuracy\n",
    "            best_features = selected_features.copy()\n",
    "            best_model = best_model_svm\n",
    "    except:\n",
    "        print(\"Scince the kernal is not linear, this feature selection is not possible\") \n",
    "        break\n",
    "\n",
    "# Save results\n",
    "best_model_svm = best_model\n",
    "best_features_svm = best_features\n",
    "\n",
    "# Show results\n",
    "print(\"Best features:\", best_features_svm)\n",
    "print(\"Dropped features:\", list(set(X_train.columns.tolist()) - set(best_features_svm)))"
   ]
  },
  {
   "attachments": {},
   "cell_type": "markdown",
   "metadata": {},
   "source": [
    "# Random Forest"
   ]
  },
  {
   "attachments": {},
   "cell_type": "markdown",
   "metadata": {},
   "source": [
    "**Feature selection**"
   ]
  },
  {
   "cell_type": "code",
   "execution_count": 41,
   "metadata": {},
   "outputs": [
    {
     "name": "stdout",
     "output_type": "stream",
     "text": [
      "Best features: ['AfstandTotTreinstationsTotaal', 'AfstandTotZonnebank']\n",
      "Dropped features: ['AfstandTotAttractie', 'EenOfMeerLangdurigeAandoeningen', 'kPersonenMetLaagsteInkomen', 'AfstandTotBuitenschoolseOpvang', 'AfstandTotSauna', 'AfstandTotMuseum', 'BouwjaarVanaf2000', 'AfstandTotPoppodium', 'AfstandTotCafetariaED', 'BeperkingInZien', 'AfstandTotDagrecreatiefTerrein', 'EigendomOnbekend', 'PersonenautoSPerHuishouden', 'AfstandTotOpenNatNatuurlijkTerrein', 'AfstandTotVolkstuin', 'AfstandTotOpenDroogNatTerrein', 'AfstandTotConsultatiebureau', 'BeperkingInHoren', 'AfstandTotRestaurant', 'UrenMantelzorgPerWeek', 'OvermatigDrinker', 'ErvarenGezondheidGoedZeerGoed', 'AfstandTotBibliotheek', 'AfstandTotOpenbaarGroenTotaal', 'AfstandTotPodiumkunstenTotaal', 'GeboorteRelatief', 'AfstandTotHuisartsenpraktijk', 'AfstandTotBioscoop', 'AfstandTotZwembad', 'AfstandTotBos', 'InBezitOverigeVerhuurders', 'GeweldsEnSeksueleMisdrijven', 'PercentageOnbewoond', 'AfstandTotHotelED', 'AfstandTotWarenhuis', 'AfstandTotSchool', 'Ondergewicht', 'MatigOvergewicht', 'VoldoetAanBeweegrichtlijn', 'VernielingMisdrijfTegenOpenbareOrde', 'PersonenautoSNaarOppervlakte', 'AfstandTotHuisartsenpost', 'PersonenautoSOverigeBrandstof', 'AfstandTotSportterrein', 'AfstandTotCafeED', 'AfstandTotSemiOpenbaarGroenTotaal', 'AfstandTotKunstijsbaan', 'KLFinancieleDienstenOnroerendGoed', 'Mantelzorger', 'TotaalDiefstalUitWoningSchuurED', 'InBezitWoningcorporatie', 'AfstandTotApotheek', 'GemiddeldeWoningwaarde', 'SterfteRelatief', 'NederlandseAntillenEnAruba', 'AfstandTotOvDagelLevensmiddelen', 'AfstandTotBelangrijkOverstapstation', 'ALandbouwBosbouwEnVisserij', 'AfstandTotKinderdagverblijf', 'ErnstigOvergewichtObesitas', 'OppervlakteWater', 'ZwaarBelasteMantelzorgers', 'AfstandTotVerblijfsrecreatiefTerrein', 'Rokers', 'AfstandTotBegraafplaats', 'AfstandTotBrandweerkazerne', 'VoldoetAanRichtlijnAlcoholgebruik', 'AfstandTotOpenNatTerreinTotaal']\n"
     ]
    }
   ],
   "source": [
    "# Get the accuracy score of the model with all the features\n",
    "rf = RandomForestRegressor(n_estimators=100, random_state=0).fit(X_train, y_train)\n",
    "best_rf = rf\n",
    "selected_features = X_train.columns.tolist()\n",
    "best_features = selected_features\n",
    "best_features_accuracy = cross_val_score(RandomForestRegressor(n_estimators=100, random_state=0), X_train, y_train, cv=10, scoring='neg_mean_squared_error', n_jobs=-1).mean()\n",
    "\n",
    "while True:\n",
    "    # Make DataFrame of feature impotances\n",
    "    result = permutation_importance(\n",
    "            rf, X_train[selected_features], y_train, n_repeats=10, random_state=42, n_jobs=-1\n",
    "        )\n",
    "    df_importances = pd.DataFrame({'feature': X_train[selected_features].columns, 'importance': result.importances_mean, 'std': result.importances_std})\n",
    "    df_importances = df_importances.sort_values('importance')\n",
    "\n",
    "    # Remove least important feature\n",
    "    selected_features.remove(df_importances['feature'].iloc[0])\n",
    "\n",
    "    # When there are no features left\n",
    "    if len(selected_features) == 0:\n",
    "        break\n",
    "    \n",
    "    # Refit the Model\n",
    "    rf = RandomForestRegressor(n_estimators=100, random_state=0).fit(X_train[selected_features], y_train)\n",
    "\n",
    "    # Evaluate Model Performance\n",
    "    accuracy = cross_val_score(RandomForestRegressor(n_estimators=100, random_state=0), X_train[selected_features], y_train, cv=10, scoring='neg_mean_squared_error', n_jobs=-1).mean()\n",
    "\n",
    "    # Check if the model performs better without the insignificant features\n",
    "    if accuracy >= best_features_accuracy:\n",
    "        best_features_accuracy = accuracy\n",
    "        best_features = selected_features.copy()\n",
    "        best_model = rf\n",
    "\n",
    "# Save results\n",
    "best_model_rf = best_model\n",
    "best_features_rf = best_features\n",
    "\n",
    "# Show results\n",
    "print(\"Best features:\", best_features_rf)\n",
    "print(\"Dropped features:\", list(set(X_train.columns.tolist()) - set(best_features_rf)))"
   ]
  },
  {
   "attachments": {},
   "cell_type": "markdown",
   "metadata": {},
   "source": [
    "**Hyperparameter optimalisatie**"
   ]
  },
  {
   "cell_type": "code",
   "execution_count": 42,
   "metadata": {},
   "outputs": [
    {
     "name": "stdout",
     "output_type": "stream",
     "text": [
      "|   iter    |  target   | max_depth | max_fe... | min_sa... | n_esti... |\n",
      "-------------------------------------------------------------------------\n"
     ]
    },
    {
     "name": "stdout",
     "output_type": "stream",
     "text": [
      "| \u001b[0m1        \u001b[0m | \u001b[0m-11.45   \u001b[0m | \u001b[0m6.09     \u001b[0m | \u001b[0m0.1975   \u001b[0m | \u001b[0m10.19    \u001b[0m | \u001b[0m889.2    \u001b[0m |\n",
      "| \u001b[0m2        \u001b[0m | \u001b[0m-11.49   \u001b[0m | \u001b[0m3.423    \u001b[0m | \u001b[0m0.1755   \u001b[0m | \u001b[0m6.768    \u001b[0m | \u001b[0m604.6    \u001b[0m |\n",
      "| \u001b[95m3        \u001b[0m | \u001b[95m-11.4    \u001b[0m | \u001b[95m1.17     \u001b[0m | \u001b[95m0.4598   \u001b[0m | \u001b[95m3.312    \u001b[0m | \u001b[95m535.7    \u001b[0m |\n",
      "| \u001b[0m4        \u001b[0m | \u001b[0m-11.44   \u001b[0m | \u001b[0m17.01    \u001b[0m | \u001b[0m0.8947   \u001b[0m | \u001b[0m4.264    \u001b[0m | \u001b[0m982.1    \u001b[0m |\n",
      "| \u001b[0m5        \u001b[0m | \u001b[0m-11.49   \u001b[0m | \u001b[0m2.618    \u001b[0m | \u001b[0m0.8813   \u001b[0m | \u001b[0m8.614    \u001b[0m | \u001b[0m994.3    \u001b[0m |\n",
      "| \u001b[0m6        \u001b[0m | \u001b[0m-11.44   \u001b[0m | \u001b[0m8.151    \u001b[0m | \u001b[0m0.397    \u001b[0m | \u001b[0m10.54    \u001b[0m | \u001b[0m985.5    \u001b[0m |\n",
      "| \u001b[0m7        \u001b[0m | \u001b[0m-11.44   \u001b[0m | \u001b[0m16.27    \u001b[0m | \u001b[0m0.1455   \u001b[0m | \u001b[0m11.93    \u001b[0m | \u001b[0m327.1    \u001b[0m |\n",
      "| \u001b[0m8        \u001b[0m | \u001b[0m-11.44   \u001b[0m | \u001b[0m1.982    \u001b[0m | \u001b[0m0.6501   \u001b[0m | \u001b[0m3.436    \u001b[0m | \u001b[0m180.9    \u001b[0m |\n",
      "| \u001b[0m9        \u001b[0m | \u001b[0m-11.44   \u001b[0m | \u001b[0m2.457    \u001b[0m | \u001b[0m0.5042   \u001b[0m | \u001b[0m10.14    \u001b[0m | \u001b[0m844.3    \u001b[0m |\n",
      "| \u001b[0m10       \u001b[0m | \u001b[0m-11.44   \u001b[0m | \u001b[0m11.5     \u001b[0m | \u001b[0m0.2246   \u001b[0m | \u001b[0m10.82    \u001b[0m | \u001b[0m284.5    \u001b[0m |\n",
      "| \u001b[0m11       \u001b[0m | \u001b[0m-11.44   \u001b[0m | \u001b[0m18.85    \u001b[0m | \u001b[0m0.6649   \u001b[0m | \u001b[0m4.393    \u001b[0m | \u001b[0m239.9    \u001b[0m |\n",
      "| \u001b[0m12       \u001b[0m | \u001b[0m-11.44   \u001b[0m | \u001b[0m18.62    \u001b[0m | \u001b[0m0.8436   \u001b[0m | \u001b[0m6.019    \u001b[0m | \u001b[0m852.3    \u001b[0m |\n",
      "| \u001b[0m13       \u001b[0m | \u001b[0m-11.44   \u001b[0m | \u001b[0m9.524    \u001b[0m | \u001b[0m0.2059   \u001b[0m | \u001b[0m10.96    \u001b[0m | \u001b[0m953.3    \u001b[0m |\n",
      "| \u001b[0m14       \u001b[0m | \u001b[0m-11.44   \u001b[0m | \u001b[0m11.13    \u001b[0m | \u001b[0m0.9647   \u001b[0m | \u001b[0m6.373    \u001b[0m | \u001b[0m106.7    \u001b[0m |\n",
      "| \u001b[0m15       \u001b[0m | \u001b[0m-11.44   \u001b[0m | \u001b[0m10.42    \u001b[0m | \u001b[0m0.9128   \u001b[0m | \u001b[0m11.96    \u001b[0m | \u001b[0m541.0    \u001b[0m |\n",
      "| \u001b[95m16       \u001b[0m | \u001b[95m-11.4    \u001b[0m | \u001b[95m1.387    \u001b[0m | \u001b[95m0.9685   \u001b[0m | \u001b[95m2.574    \u001b[0m | \u001b[95m354.1    \u001b[0m |\n",
      "| \u001b[0m17       \u001b[0m | \u001b[0m-11.44   \u001b[0m | \u001b[0m2.232    \u001b[0m | \u001b[0m0.7623   \u001b[0m | \u001b[0m2.519    \u001b[0m | \u001b[0m353.5    \u001b[0m |\n",
      "| \u001b[0m18       \u001b[0m | \u001b[0m-11.4    \u001b[0m | \u001b[0m1.285    \u001b[0m | \u001b[0m0.7833   \u001b[0m | \u001b[0m3.97     \u001b[0m | \u001b[0m536.4    \u001b[0m |\n",
      "| \u001b[0m19       \u001b[0m | \u001b[0m-11.44   \u001b[0m | \u001b[0m2.349    \u001b[0m | \u001b[0m0.2796   \u001b[0m | \u001b[0m4.027    \u001b[0m | \u001b[0m536.7    \u001b[0m |\n",
      "| \u001b[95m20       \u001b[0m | \u001b[95m-11.4    \u001b[0m | \u001b[95m1.374    \u001b[0m | \u001b[95m0.9414   \u001b[0m | \u001b[95m3.881    \u001b[0m | \u001b[95m536.0    \u001b[0m |\n",
      "| \u001b[95m21       \u001b[0m | \u001b[95m-11.4    \u001b[0m | \u001b[95m1.41     \u001b[0m | \u001b[95m0.2703   \u001b[0m | \u001b[95m3.954    \u001b[0m | \u001b[95m534.5    \u001b[0m |\n",
      "| \u001b[0m22       \u001b[0m | \u001b[0m-11.44   \u001b[0m | \u001b[0m2.228    \u001b[0m | \u001b[0m0.2676   \u001b[0m | \u001b[0m2.589    \u001b[0m | \u001b[0m534.7    \u001b[0m |\n",
      "| \u001b[0m23       \u001b[0m | \u001b[0m-11.4    \u001b[0m | \u001b[0m1.498    \u001b[0m | \u001b[0m0.907    \u001b[0m | \u001b[0m3.22     \u001b[0m | \u001b[0m355.5    \u001b[0m |\n",
      "| \u001b[0m24       \u001b[0m | \u001b[0m-11.49   \u001b[0m | \u001b[0m2.614    \u001b[0m | \u001b[0m0.5286   \u001b[0m | \u001b[0m5.071    \u001b[0m | \u001b[0m355.7    \u001b[0m |\n",
      "| \u001b[0m25       \u001b[0m | \u001b[0m-11.4    \u001b[0m | \u001b[0m1.016    \u001b[0m | \u001b[0m0.471    \u001b[0m | \u001b[0m5.626    \u001b[0m | \u001b[0m533.2    \u001b[0m |\n",
      "| \u001b[0m26       \u001b[0m | \u001b[0m-11.4    \u001b[0m | \u001b[0m1.254    \u001b[0m | \u001b[0m0.9959   \u001b[0m | \u001b[0m6.948    \u001b[0m | \u001b[0m532.6    \u001b[0m |\n",
      "| \u001b[0m27       \u001b[0m | \u001b[0m-11.47   \u001b[0m | \u001b[0m3.512    \u001b[0m | \u001b[0m0.1625   \u001b[0m | \u001b[0m6.421    \u001b[0m | \u001b[0m532.7    \u001b[0m |\n",
      "| \u001b[0m28       \u001b[0m | \u001b[0m-11.44   \u001b[0m | \u001b[0m1.938    \u001b[0m | \u001b[0m0.8502   \u001b[0m | \u001b[0m6.052    \u001b[0m | \u001b[0m534.5    \u001b[0m |\n",
      "| \u001b[0m29       \u001b[0m | \u001b[0m-11.44   \u001b[0m | \u001b[0m1.683    \u001b[0m | \u001b[0m0.3562   \u001b[0m | \u001b[0m6.242    \u001b[0m | \u001b[0m530.5    \u001b[0m |\n",
      "| \u001b[0m30       \u001b[0m | \u001b[0m-11.4    \u001b[0m | \u001b[0m1.256    \u001b[0m | \u001b[0m0.7548   \u001b[0m | \u001b[0m4.985    \u001b[0m | \u001b[0m535.6    \u001b[0m |\n",
      "| \u001b[0m31       \u001b[0m | \u001b[0m-11.44   \u001b[0m | \u001b[0m2.036    \u001b[0m | \u001b[0m0.5749   \u001b[0m | \u001b[0m3.98     \u001b[0m | \u001b[0m532.8    \u001b[0m |\n",
      "| \u001b[0m32       \u001b[0m | \u001b[0m-11.4    \u001b[0m | \u001b[0m1.202    \u001b[0m | \u001b[0m0.3427   \u001b[0m | \u001b[0m5.908    \u001b[0m | \u001b[0m538.9    \u001b[0m |\n",
      "| \u001b[0m33       \u001b[0m | \u001b[0m-11.4    \u001b[0m | \u001b[0m1.283    \u001b[0m | \u001b[0m0.427    \u001b[0m | \u001b[0m7.868    \u001b[0m | \u001b[0m539.9    \u001b[0m |\n",
      "| \u001b[0m34       \u001b[0m | \u001b[0m-11.49   \u001b[0m | \u001b[0m3.052    \u001b[0m | \u001b[0m0.2329   \u001b[0m | \u001b[0m7.351    \u001b[0m | \u001b[0m539.9    \u001b[0m |\n",
      "| \u001b[0m35       \u001b[0m | \u001b[0m-11.44   \u001b[0m | \u001b[0m1.686    \u001b[0m | \u001b[0m0.5728   \u001b[0m | \u001b[0m4.093    \u001b[0m | \u001b[0m539.1    \u001b[0m |\n",
      "| \u001b[0m36       \u001b[0m | \u001b[0m-11.44   \u001b[0m | \u001b[0m1.766    \u001b[0m | \u001b[0m0.6132   \u001b[0m | \u001b[0m5.932    \u001b[0m | \u001b[0m537.6    \u001b[0m |\n",
      "| \u001b[0m37       \u001b[0m | \u001b[0m-11.44   \u001b[0m | \u001b[0m1.544    \u001b[0m | \u001b[0m0.736    \u001b[0m | \u001b[0m3.572    \u001b[0m | \u001b[0m354.4    \u001b[0m |\n",
      "| \u001b[0m38       \u001b[0m | \u001b[0m-11.4    \u001b[0m | \u001b[0m1.167    \u001b[0m | \u001b[0m0.8075   \u001b[0m | \u001b[0m7.602    \u001b[0m | \u001b[0m533.6    \u001b[0m |\n",
      "| \u001b[0m39       \u001b[0m | \u001b[0m-11.4    \u001b[0m | \u001b[0m1.461    \u001b[0m | \u001b[0m0.9698   \u001b[0m | \u001b[0m8.104    \u001b[0m | \u001b[0m532.7    \u001b[0m |\n",
      "| \u001b[0m40       \u001b[0m | \u001b[0m-11.4    \u001b[0m | \u001b[0m1.438    \u001b[0m | \u001b[0m0.4157   \u001b[0m | \u001b[0m4.705    \u001b[0m | \u001b[0m534.7    \u001b[0m |\n",
      "| \u001b[0m41       \u001b[0m | \u001b[0m-11.4    \u001b[0m | \u001b[0m1.178    \u001b[0m | \u001b[0m0.6343   \u001b[0m | \u001b[0m9.504    \u001b[0m | \u001b[0m539.6    \u001b[0m |\n",
      "| \u001b[0m42       \u001b[0m | \u001b[0m-11.44   \u001b[0m | \u001b[0m2.1      \u001b[0m | \u001b[0m0.7172   \u001b[0m | \u001b[0m9.686    \u001b[0m | \u001b[0m533.0    \u001b[0m |\n",
      "| \u001b[0m43       \u001b[0m | \u001b[0m-11.49   \u001b[0m | \u001b[0m2.714    \u001b[0m | \u001b[0m0.472    \u001b[0m | \u001b[0m11.35    \u001b[0m | \u001b[0m538.6    \u001b[0m |\n",
      "| \u001b[0m44       \u001b[0m | \u001b[0m-11.4    \u001b[0m | \u001b[0m1.385    \u001b[0m | \u001b[0m0.8491   \u001b[0m | \u001b[0m9.135    \u001b[0m | \u001b[0m541.0    \u001b[0m |\n",
      "| \u001b[0m45       \u001b[0m | \u001b[0m-11.44   \u001b[0m | \u001b[0m1.854    \u001b[0m | \u001b[0m0.2612   \u001b[0m | \u001b[0m11.01    \u001b[0m | \u001b[0m543.6    \u001b[0m |\n",
      "| \u001b[0m46       \u001b[0m | \u001b[0m-11.49   \u001b[0m | \u001b[0m2.808    \u001b[0m | \u001b[0m0.3567   \u001b[0m | \u001b[0m2.198    \u001b[0m | \u001b[0m361.6    \u001b[0m |\n",
      "| \u001b[95m47       \u001b[0m | \u001b[95m-11.4    \u001b[0m | \u001b[95m1.435    \u001b[0m | \u001b[95m0.5138   \u001b[0m | \u001b[95m5.747    \u001b[0m | \u001b[95m542.7    \u001b[0m |\n",
      "| \u001b[0m48       \u001b[0m | \u001b[0m-11.44   \u001b[0m | \u001b[0m1.91     \u001b[0m | \u001b[0m0.5203   \u001b[0m | \u001b[0m6.979    \u001b[0m | \u001b[0m543.8    \u001b[0m |\n",
      "| \u001b[0m49       \u001b[0m | \u001b[0m-11.4    \u001b[0m | \u001b[0m1.017    \u001b[0m | \u001b[0m0.3396   \u001b[0m | \u001b[0m7.385    \u001b[0m | \u001b[0m538.3    \u001b[0m |\n",
      "| \u001b[0m50       \u001b[0m | \u001b[0m-11.4    \u001b[0m | \u001b[0m1.463    \u001b[0m | \u001b[0m0.6966   \u001b[0m | \u001b[0m4.088    \u001b[0m | \u001b[0m544.2    \u001b[0m |\n",
      "=========================================================================\n"
     ]
    },
    {
     "data": {
      "text/html": [
       "<style>#sk-container-id-8 {color: black;background-color: white;}#sk-container-id-8 pre{padding: 0;}#sk-container-id-8 div.sk-toggleable {background-color: white;}#sk-container-id-8 label.sk-toggleable__label {cursor: pointer;display: block;width: 100%;margin-bottom: 0;padding: 0.3em;box-sizing: border-box;text-align: center;}#sk-container-id-8 label.sk-toggleable__label-arrow:before {content: \"▸\";float: left;margin-right: 0.25em;color: #696969;}#sk-container-id-8 label.sk-toggleable__label-arrow:hover:before {color: black;}#sk-container-id-8 div.sk-estimator:hover label.sk-toggleable__label-arrow:before {color: black;}#sk-container-id-8 div.sk-toggleable__content {max-height: 0;max-width: 0;overflow: hidden;text-align: left;background-color: #f0f8ff;}#sk-container-id-8 div.sk-toggleable__content pre {margin: 0.2em;color: black;border-radius: 0.25em;background-color: #f0f8ff;}#sk-container-id-8 input.sk-toggleable__control:checked~div.sk-toggleable__content {max-height: 200px;max-width: 100%;overflow: auto;}#sk-container-id-8 input.sk-toggleable__control:checked~label.sk-toggleable__label-arrow:before {content: \"▾\";}#sk-container-id-8 div.sk-estimator input.sk-toggleable__control:checked~label.sk-toggleable__label {background-color: #d4ebff;}#sk-container-id-8 div.sk-label input.sk-toggleable__control:checked~label.sk-toggleable__label {background-color: #d4ebff;}#sk-container-id-8 input.sk-hidden--visually {border: 0;clip: rect(1px 1px 1px 1px);clip: rect(1px, 1px, 1px, 1px);height: 1px;margin: -1px;overflow: hidden;padding: 0;position: absolute;width: 1px;}#sk-container-id-8 div.sk-estimator {font-family: monospace;background-color: #f0f8ff;border: 1px dotted black;border-radius: 0.25em;box-sizing: border-box;margin-bottom: 0.5em;}#sk-container-id-8 div.sk-estimator:hover {background-color: #d4ebff;}#sk-container-id-8 div.sk-parallel-item::after {content: \"\";width: 100%;border-bottom: 1px solid gray;flex-grow: 1;}#sk-container-id-8 div.sk-label:hover label.sk-toggleable__label {background-color: #d4ebff;}#sk-container-id-8 div.sk-serial::before {content: \"\";position: absolute;border-left: 1px solid gray;box-sizing: border-box;top: 0;bottom: 0;left: 50%;z-index: 0;}#sk-container-id-8 div.sk-serial {display: flex;flex-direction: column;align-items: center;background-color: white;padding-right: 0.2em;padding-left: 0.2em;position: relative;}#sk-container-id-8 div.sk-item {position: relative;z-index: 1;}#sk-container-id-8 div.sk-parallel {display: flex;align-items: stretch;justify-content: center;background-color: white;position: relative;}#sk-container-id-8 div.sk-item::before, #sk-container-id-8 div.sk-parallel-item::before {content: \"\";position: absolute;border-left: 1px solid gray;box-sizing: border-box;top: 0;bottom: 0;left: 50%;z-index: -1;}#sk-container-id-8 div.sk-parallel-item {display: flex;flex-direction: column;z-index: 1;position: relative;background-color: white;}#sk-container-id-8 div.sk-parallel-item:first-child::after {align-self: flex-end;width: 50%;}#sk-container-id-8 div.sk-parallel-item:last-child::after {align-self: flex-start;width: 50%;}#sk-container-id-8 div.sk-parallel-item:only-child::after {width: 0;}#sk-container-id-8 div.sk-dashed-wrapped {border: 1px dashed gray;margin: 0 0.4em 0.5em 0.4em;box-sizing: border-box;padding-bottom: 0.4em;background-color: white;}#sk-container-id-8 div.sk-label label {font-family: monospace;font-weight: bold;display: inline-block;line-height: 1.2em;}#sk-container-id-8 div.sk-label-container {text-align: center;}#sk-container-id-8 div.sk-container {/* jupyter's `normalize.less` sets `[hidden] { display: none; }` but bootstrap.min.css set `[hidden] { display: none !important; }` so we also need the `!important` here to be able to override the default hidden behavior on the sphinx rendered scikit-learn.org. See: https://github.com/scikit-learn/scikit-learn/issues/21755 */display: inline-block !important;position: relative;}#sk-container-id-8 div.sk-text-repr-fallback {display: none;}</style><div id=\"sk-container-id-8\" class=\"sk-top-container\"><div class=\"sk-text-repr-fallback\"><pre>RandomForestRegressor(bootstrap=False, max_depth=1,\n",
       "                      max_features=0.5137722493710422, min_samples_split=6,\n",
       "                      n_estimators=543)</pre><b>In a Jupyter environment, please rerun this cell to show the HTML representation or trust the notebook. <br />On GitHub, the HTML representation is unable to render, please try loading this page with nbviewer.org.</b></div><div class=\"sk-container\" hidden><div class=\"sk-item\"><div class=\"sk-estimator sk-toggleable\"><input class=\"sk-toggleable__control sk-hidden--visually\" id=\"sk-estimator-id-8\" type=\"checkbox\" checked><label for=\"sk-estimator-id-8\" class=\"sk-toggleable__label sk-toggleable__label-arrow\">RandomForestRegressor</label><div class=\"sk-toggleable__content\"><pre>RandomForestRegressor(bootstrap=False, max_depth=1,\n",
       "                      max_features=0.5137722493710422, min_samples_split=6,\n",
       "                      n_estimators=543)</pre></div></div></div></div></div>"
      ],
      "text/plain": [
       "RandomForestRegressor(bootstrap=False, max_depth=1,\n",
       "                      max_features=0.5137722493710422, min_samples_split=6,\n",
       "                      n_estimators=543)"
      ]
     },
     "execution_count": 42,
     "metadata": {},
     "output_type": "execute_result"
    }
   ],
   "source": [
    "def bo_params_rf(min_samples_split,max_depth,max_features,n_estimators):\n",
    "    \n",
    "    params = {\n",
    "        'min_samples_split': round(min_samples_split),\n",
    "        'max_depth': round(max_depth),\n",
    "        'max_features': max_features,\n",
    "        'n_estimators':round(n_estimators)\n",
    "    }    \n",
    "        \n",
    "    clf = RandomForestRegressor(min_samples_split=int(params['min_samples_split']), \n",
    "                                 max_depth=int(params['max_depth']), \n",
    "                                 max_features=params['max_features'],\n",
    "                                 n_estimators=int(params['n_estimators']), \n",
    "                                 bootstrap=False,\n",
    "                                 n_jobs = -1)\n",
    "    return cross_val_score(clf, X_train[best_features_rf], y_train, cv=10, scoring='neg_mean_squared_error', n_jobs=-1).mean()\n",
    "\n",
    "# Create Bayesian Optimization\n",
    "rf_bo = BayesianOptimization(f=bo_params_rf, pbounds={\n",
    "    'n_estimators': (100, 1000),\n",
    "    'max_depth': (1, 20),\n",
    "    'max_features': (0.1, 1),\n",
    "    'min_samples_split': (2, 12)\n",
    "})\n",
    "\n",
    "# Bayesian optimization\n",
    "results = rf_bo.maximize(n_iter=40, init_points=10)\n",
    "\n",
    "# Getting best hyperparameters from bayesian optimization\n",
    "params = rf_bo.max['params']\n",
    "params['n_estimators']= round(params['n_estimators'])\n",
    "params['min_samples_split']= round(params['min_samples_split'])\n",
    "params['max_depth']= round(params['max_depth'])\n",
    "\n",
    "# Making random forest model with the best hyperparameters\n",
    "# criterion entropy is after the hyperparameter optimization since it's more accurate but increases training time\n",
    "best_model_rf_classification = RandomForestRegressor(min_samples_split=params['min_samples_split'],\n",
    "                                                max_depth=params['max_depth'],\n",
    "                                                max_features=params['max_features'],\n",
    "                                                n_estimators=params['n_estimators'],\n",
    "                                                bootstrap=False)\n",
    "\n",
    "best_model_rf_classification.fit(X_train[best_features_rf], y_train)"
   ]
  },
  {
   "attachments": {},
   "cell_type": "markdown",
   "metadata": {},
   "source": [
    "# neural network"
   ]
  },
  {
   "attachments": {},
   "cell_type": "markdown",
   "metadata": {},
   "source": [
    "**Feature selection**"
   ]
  },
  {
   "cell_type": "code",
   "execution_count": 43,
   "metadata": {},
   "outputs": [
    {
     "name": "stdout",
     "output_type": "stream",
     "text": [
      "Best features: ['AfstandTotCafetariaED']\n",
      "Dropped features: ['AfstandTotAttractie', 'EenOfMeerLangdurigeAandoeningen', 'kPersonenMetLaagsteInkomen', 'AfstandTotBuitenschoolseOpvang', 'AfstandTotSauna', 'AfstandTotMuseum', 'BouwjaarVanaf2000', 'AfstandTotPoppodium', 'BeperkingInZien', 'AfstandTotDagrecreatiefTerrein', 'EigendomOnbekend', 'PersonenautoSPerHuishouden', 'AfstandTotOpenNatNatuurlijkTerrein', 'AfstandTotVolkstuin', 'AfstandTotOpenDroogNatTerrein', 'AfstandTotConsultatiebureau', 'BeperkingInHoren', 'AfstandTotRestaurant', 'UrenMantelzorgPerWeek', 'OvermatigDrinker', 'ErvarenGezondheidGoedZeerGoed', 'AfstandTotBibliotheek', 'AfstandTotOpenbaarGroenTotaal', 'AfstandTotPodiumkunstenTotaal', 'GeboorteRelatief', 'AfstandTotHuisartsenpraktijk', 'AfstandTotBioscoop', 'AfstandTotZwembad', 'AfstandTotBos', 'InBezitOverigeVerhuurders', 'GeweldsEnSeksueleMisdrijven', 'PercentageOnbewoond', 'AfstandTotHotelED', 'AfstandTotWarenhuis', 'AfstandTotSchool', 'Ondergewicht', 'MatigOvergewicht', 'VoldoetAanBeweegrichtlijn', 'VernielingMisdrijfTegenOpenbareOrde', 'PersonenautoSNaarOppervlakte', 'AfstandTotHuisartsenpost', 'PersonenautoSOverigeBrandstof', 'AfstandTotSportterrein', 'AfstandTotCafeED', 'AfstandTotSemiOpenbaarGroenTotaal', 'AfstandTotKunstijsbaan', 'KLFinancieleDienstenOnroerendGoed', 'Mantelzorger', 'TotaalDiefstalUitWoningSchuurED', 'InBezitWoningcorporatie', 'AfstandTotTreinstationsTotaal', 'AfstandTotApotheek', 'GemiddeldeWoningwaarde', 'SterfteRelatief', 'NederlandseAntillenEnAruba', 'AfstandTotOvDagelLevensmiddelen', 'AfstandTotBelangrijkOverstapstation', 'ALandbouwBosbouwEnVisserij', 'AfstandTotKinderdagverblijf', 'ErnstigOvergewichtObesitas', 'OppervlakteWater', 'ZwaarBelasteMantelzorgers', 'AfstandTotVerblijfsrecreatiefTerrein', 'Rokers', 'AfstandTotBegraafplaats', 'AfstandTotBrandweerkazerne', 'VoldoetAanRichtlijnAlcoholgebruik', 'AfstandTotZonnebank', 'AfstandTotOpenNatTerreinTotaal']\n"
     ]
    }
   ],
   "source": [
    "# Get the accuracy score of the model with all the features\n",
    "mlp = MLPRegressor(random_state=0).fit(X_train, y_train)\n",
    "best_model = mlp\n",
    "selected_features = X_train.columns.tolist()\n",
    "best_features = selected_features\n",
    "best_features_accuracy = cross_val_score(MLPRegressor(random_state=0), X_train, y_train, cv=10, scoring='neg_mean_squared_error', n_jobs=-1).mean()\n",
    "\n",
    "while True:\n",
    "    # Retrieve the learned weights\n",
    "    weights = mlp.coefs_[0]  # Weights connecting input features to the first hidden layer\n",
    "\n",
    "    # Normalize the weights\n",
    "    normalized_weights = np.abs(weights) / np.sum(np.abs(weights), axis=0)\n",
    "\n",
    "    # Calculate feature importance\n",
    "    feature_importance = np.mean(normalized_weights, axis=1)\n",
    "\n",
    "    # Sort features based on their importance\n",
    "    sorted_indices = np.argsort(feature_importance)\n",
    "    selected_features = [selected_features[i] for i in sorted_indices[:-1]]\n",
    "\n",
    "    # When there are no features left\n",
    "    if len(selected_features) == 0:\n",
    "        break\n",
    "    \n",
    "    # Refit the Model\n",
    "    mlp = MLPRegressor(random_state=0).fit(X_train[selected_features], y_train)\n",
    "\n",
    "    # Evaluate Model Performance\n",
    "    accuracy = cross_val_score(MLPRegressor(random_state=0), X_train[selected_features], y_train, cv=10, scoring='neg_mean_squared_error', n_jobs=-1).mean()\n",
    "\n",
    "    # Check if the model performs better without the insignificant features\n",
    "    if accuracy >= best_features_accuracy:\n",
    "        best_features_accuracy = accuracy\n",
    "        best_features = selected_features.copy()\n",
    "        best_model = mlp\n",
    "\n",
    "# Save results\n",
    "best_model_nn = best_model\n",
    "best_features_nn = best_features\n",
    "\n",
    "# Show results\n",
    "print(\"Best features:\", best_features_nn)\n",
    "print(\"Dropped features:\", list(set(X_train.columns.tolist()) - set(best_features_nn)))"
   ]
  },
  {
   "attachments": {},
   "cell_type": "markdown",
   "metadata": {},
   "source": [
    "**Hyperparameter optimalisatie**"
   ]
  },
  {
   "cell_type": "code",
   "execution_count": 44,
   "metadata": {},
   "outputs": [
    {
     "name": "stdout",
     "output_type": "stream",
     "text": [
      "|   iter    |  target   |   alpha   | hidden... | learni... | max_iter  |\n",
      "-------------------------------------------------------------------------\n",
      "| \u001b[0m1        \u001b[0m | \u001b[0m-3.347   \u001b[0m | \u001b[0m0.08506  \u001b[0m | \u001b[0m19.2     \u001b[0m | \u001b[0m0.01035  \u001b[0m | \u001b[0m573.3    \u001b[0m |\n",
      "| \u001b[0m2        \u001b[0m | \u001b[0m-3.349   \u001b[0m | \u001b[0m0.04066  \u001b[0m | \u001b[0m58.81    \u001b[0m | \u001b[0m0.04671  \u001b[0m | \u001b[0m986.4    \u001b[0m |\n",
      "| \u001b[0m3        \u001b[0m | \u001b[0m-3.358   \u001b[0m | \u001b[0m0.08994  \u001b[0m | \u001b[0m78.98    \u001b[0m | \u001b[0m0.09923  \u001b[0m | \u001b[0m664.3    \u001b[0m |\n",
      "| \u001b[0m4        \u001b[0m | \u001b[0m-3.357   \u001b[0m | \u001b[0m0.0507   \u001b[0m | \u001b[0m82.34    \u001b[0m | \u001b[0m0.05477  \u001b[0m | \u001b[0m215.9    \u001b[0m |\n",
      "| \u001b[0m5        \u001b[0m | \u001b[0m-3.35    \u001b[0m | \u001b[0m0.0701   \u001b[0m | \u001b[0m37.25    \u001b[0m | \u001b[0m0.01183  \u001b[0m | \u001b[0m734.9    \u001b[0m |\n",
      "| \u001b[0m6        \u001b[0m | \u001b[0m-3.355   \u001b[0m | \u001b[0m0.02041  \u001b[0m | \u001b[0m46.33    \u001b[0m | \u001b[0m0.04747  \u001b[0m | \u001b[0m945.9    \u001b[0m |\n",
      "| \u001b[0m7        \u001b[0m | \u001b[0m-3.353   \u001b[0m | \u001b[0m0.07767  \u001b[0m | \u001b[0m64.76    \u001b[0m | \u001b[0m0.0491   \u001b[0m | \u001b[0m738.9    \u001b[0m |\n",
      "| \u001b[0m8        \u001b[0m | \u001b[0m-3.362   \u001b[0m | \u001b[0m0.02314  \u001b[0m | \u001b[0m72.35    \u001b[0m | \u001b[0m0.05508  \u001b[0m | \u001b[0m523.8    \u001b[0m |\n",
      "| \u001b[0m9        \u001b[0m | \u001b[0m-3.353   \u001b[0m | \u001b[0m0.08948  \u001b[0m | \u001b[0m15.25    \u001b[0m | \u001b[0m0.07658  \u001b[0m | \u001b[0m623.0    \u001b[0m |\n",
      "| \u001b[0m10       \u001b[0m | \u001b[0m-3.353   \u001b[0m | \u001b[0m0.04144  \u001b[0m | \u001b[0m86.78    \u001b[0m | \u001b[0m0.07472  \u001b[0m | \u001b[0m331.9    \u001b[0m |\n",
      "| \u001b[0m11       \u001b[0m | \u001b[0m-3.35    \u001b[0m | \u001b[0m0.06723  \u001b[0m | \u001b[0m29.64    \u001b[0m | \u001b[0m0.02028  \u001b[0m | \u001b[0m587.1    \u001b[0m |\n",
      "| \u001b[0m12       \u001b[0m | \u001b[0m-3.365   \u001b[0m | \u001b[0m0.04941  \u001b[0m | \u001b[0m18.57    \u001b[0m | \u001b[0m0.0901   \u001b[0m | \u001b[0m570.8    \u001b[0m |\n",
      "| \u001b[0m13       \u001b[0m | \u001b[0m-3.355   \u001b[0m | \u001b[0m0.03456  \u001b[0m | \u001b[0m44.7     \u001b[0m | \u001b[0m0.03528  \u001b[0m | \u001b[0m372.9    \u001b[0m |\n",
      "| \u001b[0m14       \u001b[0m | \u001b[0m-3.359   \u001b[0m | \u001b[0m0.09112  \u001b[0m | \u001b[0m81.56    \u001b[0m | \u001b[0m0.03914  \u001b[0m | \u001b[0m212.3    \u001b[0m |\n",
      "| \u001b[0m15       \u001b[0m | \u001b[0m-3.348   \u001b[0m | \u001b[0m0.08561  \u001b[0m | \u001b[0m18.69    \u001b[0m | \u001b[0m0.02075  \u001b[0m | \u001b[0m752.9    \u001b[0m |\n",
      "| \u001b[0m16       \u001b[0m | \u001b[0m-3.347   \u001b[0m | \u001b[0m0.025    \u001b[0m | \u001b[0m91.77    \u001b[0m | \u001b[0m0.06677  \u001b[0m | \u001b[0m431.3    \u001b[0m |\n",
      "| \u001b[0m17       \u001b[0m | \u001b[0m-3.357   \u001b[0m | \u001b[0m0.0198   \u001b[0m | \u001b[0m62.91    \u001b[0m | \u001b[0m0.05161  \u001b[0m | \u001b[0m141.7    \u001b[0m |\n",
      "| \u001b[0m18       \u001b[0m | \u001b[0m-3.352   \u001b[0m | \u001b[0m0.01224  \u001b[0m | \u001b[0m58.04    \u001b[0m | \u001b[0m0.02746  \u001b[0m | \u001b[0m432.5    \u001b[0m |\n",
      "| \u001b[95m19       \u001b[0m | \u001b[95m-3.346   \u001b[0m | \u001b[95m0.04734  \u001b[0m | \u001b[95m82.07    \u001b[0m | \u001b[95m0.07903  \u001b[0m | \u001b[95m848.7    \u001b[0m |\n",
      "| \u001b[0m20       \u001b[0m | \u001b[0m-3.349   \u001b[0m | \u001b[0m0.08119  \u001b[0m | \u001b[0m56.68    \u001b[0m | \u001b[0m0.007025 \u001b[0m | \u001b[0m776.0    \u001b[0m |\n",
      "| \u001b[0m21       \u001b[0m | \u001b[0m-3.353   \u001b[0m | \u001b[0m0.01725  \u001b[0m | \u001b[0m60.06    \u001b[0m | \u001b[0m0.006853 \u001b[0m | \u001b[0m609.4    \u001b[0m |\n",
      "| \u001b[0m22       \u001b[0m | \u001b[0m-3.36    \u001b[0m | \u001b[0m0.06076  \u001b[0m | \u001b[0m40.69    \u001b[0m | \u001b[0m0.09564  \u001b[0m | \u001b[0m541.7    \u001b[0m |\n",
      "| \u001b[0m23       \u001b[0m | \u001b[0m-3.354   \u001b[0m | \u001b[0m0.03979  \u001b[0m | \u001b[0m40.45    \u001b[0m | \u001b[0m0.02145  \u001b[0m | \u001b[0m422.7    \u001b[0m |\n",
      "| \u001b[0m24       \u001b[0m | \u001b[0m-3.353   \u001b[0m | \u001b[0m0.09332  \u001b[0m | \u001b[0m40.05    \u001b[0m | \u001b[0m0.07477  \u001b[0m | \u001b[0m509.2    \u001b[0m |\n",
      "| \u001b[0m25       \u001b[0m | \u001b[0m-3.355   \u001b[0m | \u001b[0m0.07633  \u001b[0m | \u001b[0m24.5     \u001b[0m | \u001b[0m0.05301  \u001b[0m | \u001b[0m556.2    \u001b[0m |\n",
      "| \u001b[0m26       \u001b[0m | \u001b[0m-3.353   \u001b[0m | \u001b[0m0.07107  \u001b[0m | \u001b[0m68.26    \u001b[0m | \u001b[0m0.05708  \u001b[0m | \u001b[0m617.6    \u001b[0m |\n",
      "| \u001b[0m27       \u001b[0m | \u001b[0m-3.359   \u001b[0m | \u001b[0m0.0672   \u001b[0m | \u001b[0m46.15    \u001b[0m | \u001b[0m0.07737  \u001b[0m | \u001b[0m705.9    \u001b[0m |\n",
      "| \u001b[0m28       \u001b[0m | \u001b[0m-3.361   \u001b[0m | \u001b[0m0.02694  \u001b[0m | \u001b[0m45.63    \u001b[0m | \u001b[0m0.08675  \u001b[0m | \u001b[0m465.5    \u001b[0m |\n",
      "| \u001b[0m29       \u001b[0m | \u001b[0m-3.349   \u001b[0m | \u001b[0m0.04767  \u001b[0m | \u001b[0m82.92    \u001b[0m | \u001b[0m0.07185  \u001b[0m | \u001b[0m815.0    \u001b[0m |\n",
      "| \u001b[0m30       \u001b[0m | \u001b[0m-3.359   \u001b[0m | \u001b[0m0.08317  \u001b[0m | \u001b[0m98.22    \u001b[0m | \u001b[0m0.06423  \u001b[0m | \u001b[0m333.8    \u001b[0m |\n",
      "| \u001b[0m31       \u001b[0m | \u001b[0m-3.354   \u001b[0m | \u001b[0m0.02237  \u001b[0m | \u001b[0m65.23    \u001b[0m | \u001b[0m0.03419  \u001b[0m | \u001b[0m739.0    \u001b[0m |\n",
      "| \u001b[0m32       \u001b[0m | \u001b[0m-3.359   \u001b[0m | \u001b[0m0.07045  \u001b[0m | \u001b[0m81.38    \u001b[0m | \u001b[0m0.01752  \u001b[0m | \u001b[0m848.4    \u001b[0m |\n",
      "| \u001b[0m33       \u001b[0m | \u001b[0m-3.352   \u001b[0m | \u001b[0m0.09079  \u001b[0m | \u001b[0m37.54    \u001b[0m | \u001b[0m0.08849  \u001b[0m | \u001b[0m734.8    \u001b[0m |\n",
      "| \u001b[95m34       \u001b[0m | \u001b[95m-3.346   \u001b[0m | \u001b[95m0.025    \u001b[0m | \u001b[95m51.64    \u001b[0m | \u001b[95m0.06457  \u001b[0m | \u001b[95m307.6    \u001b[0m |\n",
      "| \u001b[0m35       \u001b[0m | \u001b[0m-3.358   \u001b[0m | \u001b[0m0.02641  \u001b[0m | \u001b[0m47.58    \u001b[0m | \u001b[0m0.02891  \u001b[0m | \u001b[0m382.2    \u001b[0m |\n",
      "| \u001b[0m36       \u001b[0m | \u001b[0m-3.359   \u001b[0m | \u001b[0m0.0007467\u001b[0m | \u001b[0m82.08    \u001b[0m | \u001b[0m0.0546   \u001b[0m | \u001b[0m848.4    \u001b[0m |\n",
      "| \u001b[0m37       \u001b[0m | \u001b[0m-3.355   \u001b[0m | \u001b[0m0.02421  \u001b[0m | \u001b[0m21.7     \u001b[0m | \u001b[0m0.08288  \u001b[0m | \u001b[0m405.4    \u001b[0m |\n",
      "| \u001b[0m38       \u001b[0m | \u001b[0m-3.36    \u001b[0m | \u001b[0m0.04749  \u001b[0m | \u001b[0m77.03    \u001b[0m | \u001b[0m0.06493  \u001b[0m | \u001b[0m156.3    \u001b[0m |\n",
      "| \u001b[0m39       \u001b[0m | \u001b[0m-3.348   \u001b[0m | \u001b[0m0.09822  \u001b[0m | \u001b[0m54.48    \u001b[0m | \u001b[0m0.0137   \u001b[0m | \u001b[0m527.4    \u001b[0m |\n",
      "| \u001b[0m40       \u001b[0m | \u001b[0m-3.354   \u001b[0m | \u001b[0m0.05449  \u001b[0m | \u001b[0m76.63    \u001b[0m | \u001b[0m0.05928  \u001b[0m | \u001b[0m555.6    \u001b[0m |\n",
      "| \u001b[0m41       \u001b[0m | \u001b[0m-3.367   \u001b[0m | \u001b[0m0.0005598\u001b[0m | \u001b[0m47.55    \u001b[0m | \u001b[0m0.07559  \u001b[0m | \u001b[0m938.3    \u001b[0m |\n",
      "| \u001b[0m42       \u001b[0m | \u001b[0m-3.348   \u001b[0m | \u001b[0m0.09186  \u001b[0m | \u001b[0m25.4     \u001b[0m | \u001b[0m0.0391   \u001b[0m | \u001b[0m486.3    \u001b[0m |\n",
      "| \u001b[0m43       \u001b[0m | \u001b[0m-3.362   \u001b[0m | \u001b[0m0.08325  \u001b[0m | \u001b[0m18.08    \u001b[0m | \u001b[0m0.07862  \u001b[0m | \u001b[0m116.2    \u001b[0m |\n",
      "| \u001b[0m44       \u001b[0m | \u001b[0m-3.353   \u001b[0m | \u001b[0m0.07834  \u001b[0m | \u001b[0m75.85    \u001b[0m | \u001b[0m0.01831  \u001b[0m | \u001b[0m152.9    \u001b[0m |\n",
      "| \u001b[0m45       \u001b[0m | \u001b[0m-3.352   \u001b[0m | \u001b[0m0.06779  \u001b[0m | \u001b[0m15.44    \u001b[0m | \u001b[0m0.03272  \u001b[0m | \u001b[0m153.3    \u001b[0m |\n",
      "| \u001b[95m46       \u001b[0m | \u001b[95m-3.345   \u001b[0m | \u001b[95m0.09797  \u001b[0m | \u001b[95m40.3     \u001b[0m | \u001b[95m0.04216  \u001b[0m | \u001b[95m458.0    \u001b[0m |\n",
      "| \u001b[95m47       \u001b[0m | \u001b[95m-3.339   \u001b[0m | \u001b[95m0.02873  \u001b[0m | \u001b[95m78.91    \u001b[0m | \u001b[95m0.05495  \u001b[0m | \u001b[95m713.7    \u001b[0m |\n",
      "| \u001b[0m48       \u001b[0m | \u001b[0m-3.354   \u001b[0m | \u001b[0m0.01963  \u001b[0m | \u001b[0m60.75    \u001b[0m | \u001b[0m0.03387  \u001b[0m | \u001b[0m430.2    \u001b[0m |\n",
      "| \u001b[0m49       \u001b[0m | \u001b[0m-3.356   \u001b[0m | \u001b[0m0.06306  \u001b[0m | \u001b[0m17.66    \u001b[0m | \u001b[0m0.04209  \u001b[0m | \u001b[0m312.6    \u001b[0m |\n",
      "| \u001b[0m50       \u001b[0m | \u001b[0m-3.349   \u001b[0m | \u001b[0m0.01203  \u001b[0m | \u001b[0m80.6     \u001b[0m | \u001b[0m0.0492   \u001b[0m | \u001b[0m947.2    \u001b[0m |\n",
      "=========================================================================\n"
     ]
    },
    {
     "data": {
      "text/html": [
       "<style>#sk-container-id-9 {color: black;background-color: white;}#sk-container-id-9 pre{padding: 0;}#sk-container-id-9 div.sk-toggleable {background-color: white;}#sk-container-id-9 label.sk-toggleable__label {cursor: pointer;display: block;width: 100%;margin-bottom: 0;padding: 0.3em;box-sizing: border-box;text-align: center;}#sk-container-id-9 label.sk-toggleable__label-arrow:before {content: \"▸\";float: left;margin-right: 0.25em;color: #696969;}#sk-container-id-9 label.sk-toggleable__label-arrow:hover:before {color: black;}#sk-container-id-9 div.sk-estimator:hover label.sk-toggleable__label-arrow:before {color: black;}#sk-container-id-9 div.sk-toggleable__content {max-height: 0;max-width: 0;overflow: hidden;text-align: left;background-color: #f0f8ff;}#sk-container-id-9 div.sk-toggleable__content pre {margin: 0.2em;color: black;border-radius: 0.25em;background-color: #f0f8ff;}#sk-container-id-9 input.sk-toggleable__control:checked~div.sk-toggleable__content {max-height: 200px;max-width: 100%;overflow: auto;}#sk-container-id-9 input.sk-toggleable__control:checked~label.sk-toggleable__label-arrow:before {content: \"▾\";}#sk-container-id-9 div.sk-estimator input.sk-toggleable__control:checked~label.sk-toggleable__label {background-color: #d4ebff;}#sk-container-id-9 div.sk-label input.sk-toggleable__control:checked~label.sk-toggleable__label {background-color: #d4ebff;}#sk-container-id-9 input.sk-hidden--visually {border: 0;clip: rect(1px 1px 1px 1px);clip: rect(1px, 1px, 1px, 1px);height: 1px;margin: -1px;overflow: hidden;padding: 0;position: absolute;width: 1px;}#sk-container-id-9 div.sk-estimator {font-family: monospace;background-color: #f0f8ff;border: 1px dotted black;border-radius: 0.25em;box-sizing: border-box;margin-bottom: 0.5em;}#sk-container-id-9 div.sk-estimator:hover {background-color: #d4ebff;}#sk-container-id-9 div.sk-parallel-item::after {content: \"\";width: 100%;border-bottom: 1px solid gray;flex-grow: 1;}#sk-container-id-9 div.sk-label:hover label.sk-toggleable__label {background-color: #d4ebff;}#sk-container-id-9 div.sk-serial::before {content: \"\";position: absolute;border-left: 1px solid gray;box-sizing: border-box;top: 0;bottom: 0;left: 50%;z-index: 0;}#sk-container-id-9 div.sk-serial {display: flex;flex-direction: column;align-items: center;background-color: white;padding-right: 0.2em;padding-left: 0.2em;position: relative;}#sk-container-id-9 div.sk-item {position: relative;z-index: 1;}#sk-container-id-9 div.sk-parallel {display: flex;align-items: stretch;justify-content: center;background-color: white;position: relative;}#sk-container-id-9 div.sk-item::before, #sk-container-id-9 div.sk-parallel-item::before {content: \"\";position: absolute;border-left: 1px solid gray;box-sizing: border-box;top: 0;bottom: 0;left: 50%;z-index: -1;}#sk-container-id-9 div.sk-parallel-item {display: flex;flex-direction: column;z-index: 1;position: relative;background-color: white;}#sk-container-id-9 div.sk-parallel-item:first-child::after {align-self: flex-end;width: 50%;}#sk-container-id-9 div.sk-parallel-item:last-child::after {align-self: flex-start;width: 50%;}#sk-container-id-9 div.sk-parallel-item:only-child::after {width: 0;}#sk-container-id-9 div.sk-dashed-wrapped {border: 1px dashed gray;margin: 0 0.4em 0.5em 0.4em;box-sizing: border-box;padding-bottom: 0.4em;background-color: white;}#sk-container-id-9 div.sk-label label {font-family: monospace;font-weight: bold;display: inline-block;line-height: 1.2em;}#sk-container-id-9 div.sk-label-container {text-align: center;}#sk-container-id-9 div.sk-container {/* jupyter's `normalize.less` sets `[hidden] { display: none; }` but bootstrap.min.css set `[hidden] { display: none !important; }` so we also need the `!important` here to be able to override the default hidden behavior on the sphinx rendered scikit-learn.org. See: https://github.com/scikit-learn/scikit-learn/issues/21755 */display: inline-block !important;position: relative;}#sk-container-id-9 div.sk-text-repr-fallback {display: none;}</style><div id=\"sk-container-id-9\" class=\"sk-top-container\"><div class=\"sk-text-repr-fallback\"><pre>MLPRegressor(alpha=0.028732258891203594, hidden_layer_sizes=(79,),\n",
       "             learning_rate_init=0.05495494366203554, max_iter=714)</pre><b>In a Jupyter environment, please rerun this cell to show the HTML representation or trust the notebook. <br />On GitHub, the HTML representation is unable to render, please try loading this page with nbviewer.org.</b></div><div class=\"sk-container\" hidden><div class=\"sk-item\"><div class=\"sk-estimator sk-toggleable\"><input class=\"sk-toggleable__control sk-hidden--visually\" id=\"sk-estimator-id-9\" type=\"checkbox\" checked><label for=\"sk-estimator-id-9\" class=\"sk-toggleable__label sk-toggleable__label-arrow\">MLPRegressor</label><div class=\"sk-toggleable__content\"><pre>MLPRegressor(alpha=0.028732258891203594, hidden_layer_sizes=(79,),\n",
       "             learning_rate_init=0.05495494366203554, max_iter=714)</pre></div></div></div></div></div>"
      ],
      "text/plain": [
       "MLPRegressor(alpha=0.028732258891203594, hidden_layer_sizes=(79,),\n",
       "             learning_rate_init=0.05495494366203554, max_iter=714)"
      ]
     },
     "execution_count": 44,
     "metadata": {},
     "output_type": "execute_result"
    }
   ],
   "source": [
    "def bo_params_generic(model, params, X_train, y_train):\n",
    "    # Create the model instance with the specified parameters\n",
    "    regressor = model(**params)\n",
    "    \n",
    "    # Calculating rmse based on\n",
    "    scores = cross_val_score(regressor, X_train, y_train, cv=10, scoring='neg_root_mean_squared_error')\n",
    "    return scores.mean()\n",
    "\n",
    "params_ranges = {\n",
    "    'hidden_layer_sizes': (10, 100),\n",
    "    'alpha': (0.0001, 0.1),\n",
    "    'learning_rate_init': (0.001, 0.1),\n",
    "    'max_iter': (100, 1000)\n",
    "}\n",
    "\n",
    "# Example usage with Neural Network\n",
    "model = MLPRegressor\n",
    "model_bo = BayesianOptimization(f=lambda hidden_layer_sizes, alpha, learning_rate_init, max_iter:\n",
    "                                    bo_params_generic(model, {\n",
    "                                        'hidden_layer_sizes': (int(round(hidden_layer_sizes)),),\n",
    "                                        'alpha': alpha,\n",
    "                                        'learning_rate_init': learning_rate_init,\n",
    "                                        'max_iter': int(round(max_iter))\n",
    "                                    }, X_train[best_features_nn], y_train),\n",
    "                             pbounds=params_ranges)\n",
    "\n",
    "results = model_bo.maximize(n_iter=40, init_points=10)\n",
    "params = model_bo.max['params']\n",
    "\n",
    "# Creating a model with the best hyperparameters\n",
    "best_model_nn = model(\n",
    "    hidden_layer_sizes=(int(round(params['hidden_layer_sizes'])),),\n",
    "    alpha=params['alpha'],\n",
    "    learning_rate_init=params['learning_rate_init'],\n",
    "    max_iter=int(round(params['max_iter']))\n",
    ")\n",
    "\n",
    "# Fit the model\n",
    "best_model_nn.fit(X_train[best_features_nn], y_train)"
   ]
  },
  {
   "attachments": {},
   "cell_type": "markdown",
   "metadata": {},
   "source": [
    "# plotting the bar chart"
   ]
  },
  {
   "attachments": {},
   "cell_type": "markdown",
   "metadata": {},
   "source": [
    "**using train dataset**"
   ]
  },
  {
   "cell_type": "code",
   "execution_count": 45,
   "metadata": {},
   "outputs": [
    {
     "data": {
      "text/plain": [
       "[{'model': 'Multiple Linear Regression',\n",
       "  'mae': 2.4324810322722312,\n",
       "  'mse': 11.407483187566488,\n",
       "  'rmse': 3.3774965858704413,\n",
       "  'r2': 0.001819433776709789,\n",
       "  'adj_r2': -0.07363698051662748},\n",
       " {'model': 'Random Forest',\n",
       "  'mae': 2.444316719603332,\n",
       "  'mse': 11.431662965555118,\n",
       "  'rmse': 3.381074232482203,\n",
       "  'r2': -0.0002963514571576731,\n",
       "  'adj_r2': -0.07591270631892977},\n",
       " {'model': 'Neural Network',\n",
       "  'mae': 2.4328018364948565,\n",
       "  'mse': 11.472097018233946,\n",
       "  'rmse': 3.387048422776673,\n",
       "  'r2': -0.003834422470196275,\n",
       "  'adj_r2': -0.07971823410401235},\n",
       " {'model': 'Support Vector Machine',\n",
       "  'mae': 2.387038367026042,\n",
       "  'mse': 11.592430604582425,\n",
       "  'rmse': 3.4047658663383045,\n",
       "  'r2': -0.014363883297096702,\n",
       "  'adj_r2': -0.09104365849234153}]"
      ]
     },
     "execution_count": 45,
     "metadata": {},
     "output_type": "execute_result"
    }
   ],
   "source": [
    "regression_models = [\n",
    "    {\n",
    "        'name': 'Multiple Linear Regression',\n",
    "        'model': best_model_mlr,\n",
    "        'features': best_features_mlr\n",
    "    },\n",
    "    {\n",
    "        'name': 'Random Forest',\n",
    "        'model': best_model_rf,\n",
    "        'features': best_features_rf\n",
    "    },\n",
    "    {\n",
    "        'name': 'Neural Network',\n",
    "        'model': best_model_nn,\n",
    "        'features': best_features_nn\n",
    "    },\n",
    "    {\n",
    "        'name': 'Support Vector Machine',\n",
    "        'model': best_model_svm,\n",
    "        'features': best_features_svm\n",
    "    }\n",
    "]\n",
    "\n",
    "regression_stats_val = []\n",
    "\n",
    "for model in regression_models:\n",
    "    try:\n",
    "        # Perform cross-validation and calculate predictions and metrics\n",
    "        y_pred = cross_val_predict(model['model'], X_train[model['features']], y_train, cv=10)\n",
    "        y_true = y_train\n",
    "    except: # cv can't be higher then n_splits in the dt\n",
    "        # Perform cross-validation and calculate predictions and metrics\n",
    "        y_pred = cross_val_predict(model['model'], X_train[model['features']], y_train, cv=5)\n",
    "        y_true = y_train\n",
    "\n",
    "    # R2 Score\n",
    "    r2 = r2_score(y_true, y_pred)\n",
    "\n",
    "    # Adjusted R2 Score\n",
    "    n = len(y_true)  # Number of samples\n",
    "    p = X_test.shape[1]  # Number of predictors (features) in X\n",
    "    adj_r2 = 1 - ((1 - r2) * (n - 1)) / (n - p - 1)\n",
    "\n",
    "    # Save stats\n",
    "    regression_stats_val.append(\n",
    "        {\n",
    "            'model': model['name'],\n",
    "            'mae': mean_absolute_error(y_true, y_pred),\n",
    "            'mse': mean_squared_error(y_true, y_pred),\n",
    "            'rmse': np.sqrt(mean_squared_error(y_true, y_pred)),\n",
    "            'r2': r2,\n",
    "            'adj_r2': adj_r2\n",
    "        }\n",
    "    )\n",
    "\n",
    "# View stats\n",
    "regression_stats_val"
   ]
  },
  {
   "cell_type": "code",
   "execution_count": 46,
   "metadata": {},
   "outputs": [
    {
     "data": {
      "application/vnd.plotly.v1+json": {
       "config": {
        "plotlyServerURL": "https://plot.ly"
       },
       "data": [
        {
         "name": "mae",
         "type": "bar",
         "x": [
          "Multiple Linear Regression",
          "Random Forest",
          "Neural Network",
          "Support Vector Machine"
         ],
         "y": [
          2.4324810322722312,
          2.444316719603332,
          2.4328018364948565,
          2.387038367026042
         ]
        },
        {
         "name": "mse",
         "type": "bar",
         "x": [
          "Multiple Linear Regression",
          "Random Forest",
          "Neural Network",
          "Support Vector Machine"
         ],
         "y": [
          11.407483187566488,
          11.431662965555118,
          11.472097018233946,
          11.592430604582425
         ]
        },
        {
         "name": "rmse",
         "type": "bar",
         "x": [
          "Multiple Linear Regression",
          "Random Forest",
          "Neural Network",
          "Support Vector Machine"
         ],
         "y": [
          3.3774965858704413,
          3.381074232482203,
          3.387048422776673,
          3.4047658663383045
         ]
        },
        {
         "name": "r2",
         "type": "bar",
         "x": [
          "Multiple Linear Regression",
          "Random Forest",
          "Neural Network",
          "Support Vector Machine"
         ],
         "y": [
          0.001819433776709789,
          -0.0002963514571576731,
          -0.003834422470196275,
          -0.014363883297096702
         ]
        },
        {
         "name": "adj_r2",
         "type": "bar",
         "x": [
          "Multiple Linear Regression",
          "Random Forest",
          "Neural Network",
          "Support Vector Machine"
         ],
         "y": [
          -0.07363698051662748,
          -0.07591270631892977,
          -0.07971823410401235,
          -0.09104365849234153
         ]
        }
       ],
       "layout": {
        "barmode": "group",
        "template": {
         "data": {
          "bar": [
           {
            "error_x": {
             "color": "#2a3f5f"
            },
            "error_y": {
             "color": "#2a3f5f"
            },
            "marker": {
             "line": {
              "color": "#E5ECF6",
              "width": 0.5
             },
             "pattern": {
              "fillmode": "overlay",
              "size": 10,
              "solidity": 0.2
             }
            },
            "type": "bar"
           }
          ],
          "barpolar": [
           {
            "marker": {
             "line": {
              "color": "#E5ECF6",
              "width": 0.5
             },
             "pattern": {
              "fillmode": "overlay",
              "size": 10,
              "solidity": 0.2
             }
            },
            "type": "barpolar"
           }
          ],
          "carpet": [
           {
            "aaxis": {
             "endlinecolor": "#2a3f5f",
             "gridcolor": "white",
             "linecolor": "white",
             "minorgridcolor": "white",
             "startlinecolor": "#2a3f5f"
            },
            "baxis": {
             "endlinecolor": "#2a3f5f",
             "gridcolor": "white",
             "linecolor": "white",
             "minorgridcolor": "white",
             "startlinecolor": "#2a3f5f"
            },
            "type": "carpet"
           }
          ],
          "choropleth": [
           {
            "colorbar": {
             "outlinewidth": 0,
             "ticks": ""
            },
            "type": "choropleth"
           }
          ],
          "contour": [
           {
            "colorbar": {
             "outlinewidth": 0,
             "ticks": ""
            },
            "colorscale": [
             [
              0,
              "#0d0887"
             ],
             [
              0.1111111111111111,
              "#46039f"
             ],
             [
              0.2222222222222222,
              "#7201a8"
             ],
             [
              0.3333333333333333,
              "#9c179e"
             ],
             [
              0.4444444444444444,
              "#bd3786"
             ],
             [
              0.5555555555555556,
              "#d8576b"
             ],
             [
              0.6666666666666666,
              "#ed7953"
             ],
             [
              0.7777777777777778,
              "#fb9f3a"
             ],
             [
              0.8888888888888888,
              "#fdca26"
             ],
             [
              1,
              "#f0f921"
             ]
            ],
            "type": "contour"
           }
          ],
          "contourcarpet": [
           {
            "colorbar": {
             "outlinewidth": 0,
             "ticks": ""
            },
            "type": "contourcarpet"
           }
          ],
          "heatmap": [
           {
            "colorbar": {
             "outlinewidth": 0,
             "ticks": ""
            },
            "colorscale": [
             [
              0,
              "#0d0887"
             ],
             [
              0.1111111111111111,
              "#46039f"
             ],
             [
              0.2222222222222222,
              "#7201a8"
             ],
             [
              0.3333333333333333,
              "#9c179e"
             ],
             [
              0.4444444444444444,
              "#bd3786"
             ],
             [
              0.5555555555555556,
              "#d8576b"
             ],
             [
              0.6666666666666666,
              "#ed7953"
             ],
             [
              0.7777777777777778,
              "#fb9f3a"
             ],
             [
              0.8888888888888888,
              "#fdca26"
             ],
             [
              1,
              "#f0f921"
             ]
            ],
            "type": "heatmap"
           }
          ],
          "heatmapgl": [
           {
            "colorbar": {
             "outlinewidth": 0,
             "ticks": ""
            },
            "colorscale": [
             [
              0,
              "#0d0887"
             ],
             [
              0.1111111111111111,
              "#46039f"
             ],
             [
              0.2222222222222222,
              "#7201a8"
             ],
             [
              0.3333333333333333,
              "#9c179e"
             ],
             [
              0.4444444444444444,
              "#bd3786"
             ],
             [
              0.5555555555555556,
              "#d8576b"
             ],
             [
              0.6666666666666666,
              "#ed7953"
             ],
             [
              0.7777777777777778,
              "#fb9f3a"
             ],
             [
              0.8888888888888888,
              "#fdca26"
             ],
             [
              1,
              "#f0f921"
             ]
            ],
            "type": "heatmapgl"
           }
          ],
          "histogram": [
           {
            "marker": {
             "pattern": {
              "fillmode": "overlay",
              "size": 10,
              "solidity": 0.2
             }
            },
            "type": "histogram"
           }
          ],
          "histogram2d": [
           {
            "colorbar": {
             "outlinewidth": 0,
             "ticks": ""
            },
            "colorscale": [
             [
              0,
              "#0d0887"
             ],
             [
              0.1111111111111111,
              "#46039f"
             ],
             [
              0.2222222222222222,
              "#7201a8"
             ],
             [
              0.3333333333333333,
              "#9c179e"
             ],
             [
              0.4444444444444444,
              "#bd3786"
             ],
             [
              0.5555555555555556,
              "#d8576b"
             ],
             [
              0.6666666666666666,
              "#ed7953"
             ],
             [
              0.7777777777777778,
              "#fb9f3a"
             ],
             [
              0.8888888888888888,
              "#fdca26"
             ],
             [
              1,
              "#f0f921"
             ]
            ],
            "type": "histogram2d"
           }
          ],
          "histogram2dcontour": [
           {
            "colorbar": {
             "outlinewidth": 0,
             "ticks": ""
            },
            "colorscale": [
             [
              0,
              "#0d0887"
             ],
             [
              0.1111111111111111,
              "#46039f"
             ],
             [
              0.2222222222222222,
              "#7201a8"
             ],
             [
              0.3333333333333333,
              "#9c179e"
             ],
             [
              0.4444444444444444,
              "#bd3786"
             ],
             [
              0.5555555555555556,
              "#d8576b"
             ],
             [
              0.6666666666666666,
              "#ed7953"
             ],
             [
              0.7777777777777778,
              "#fb9f3a"
             ],
             [
              0.8888888888888888,
              "#fdca26"
             ],
             [
              1,
              "#f0f921"
             ]
            ],
            "type": "histogram2dcontour"
           }
          ],
          "mesh3d": [
           {
            "colorbar": {
             "outlinewidth": 0,
             "ticks": ""
            },
            "type": "mesh3d"
           }
          ],
          "parcoords": [
           {
            "line": {
             "colorbar": {
              "outlinewidth": 0,
              "ticks": ""
             }
            },
            "type": "parcoords"
           }
          ],
          "pie": [
           {
            "automargin": true,
            "type": "pie"
           }
          ],
          "scatter": [
           {
            "fillpattern": {
             "fillmode": "overlay",
             "size": 10,
             "solidity": 0.2
            },
            "type": "scatter"
           }
          ],
          "scatter3d": [
           {
            "line": {
             "colorbar": {
              "outlinewidth": 0,
              "ticks": ""
             }
            },
            "marker": {
             "colorbar": {
              "outlinewidth": 0,
              "ticks": ""
             }
            },
            "type": "scatter3d"
           }
          ],
          "scattercarpet": [
           {
            "marker": {
             "colorbar": {
              "outlinewidth": 0,
              "ticks": ""
             }
            },
            "type": "scattercarpet"
           }
          ],
          "scattergeo": [
           {
            "marker": {
             "colorbar": {
              "outlinewidth": 0,
              "ticks": ""
             }
            },
            "type": "scattergeo"
           }
          ],
          "scattergl": [
           {
            "marker": {
             "colorbar": {
              "outlinewidth": 0,
              "ticks": ""
             }
            },
            "type": "scattergl"
           }
          ],
          "scattermapbox": [
           {
            "marker": {
             "colorbar": {
              "outlinewidth": 0,
              "ticks": ""
             }
            },
            "type": "scattermapbox"
           }
          ],
          "scatterpolar": [
           {
            "marker": {
             "colorbar": {
              "outlinewidth": 0,
              "ticks": ""
             }
            },
            "type": "scatterpolar"
           }
          ],
          "scatterpolargl": [
           {
            "marker": {
             "colorbar": {
              "outlinewidth": 0,
              "ticks": ""
             }
            },
            "type": "scatterpolargl"
           }
          ],
          "scatterternary": [
           {
            "marker": {
             "colorbar": {
              "outlinewidth": 0,
              "ticks": ""
             }
            },
            "type": "scatterternary"
           }
          ],
          "surface": [
           {
            "colorbar": {
             "outlinewidth": 0,
             "ticks": ""
            },
            "colorscale": [
             [
              0,
              "#0d0887"
             ],
             [
              0.1111111111111111,
              "#46039f"
             ],
             [
              0.2222222222222222,
              "#7201a8"
             ],
             [
              0.3333333333333333,
              "#9c179e"
             ],
             [
              0.4444444444444444,
              "#bd3786"
             ],
             [
              0.5555555555555556,
              "#d8576b"
             ],
             [
              0.6666666666666666,
              "#ed7953"
             ],
             [
              0.7777777777777778,
              "#fb9f3a"
             ],
             [
              0.8888888888888888,
              "#fdca26"
             ],
             [
              1,
              "#f0f921"
             ]
            ],
            "type": "surface"
           }
          ],
          "table": [
           {
            "cells": {
             "fill": {
              "color": "#EBF0F8"
             },
             "line": {
              "color": "white"
             }
            },
            "header": {
             "fill": {
              "color": "#C8D4E3"
             },
             "line": {
              "color": "white"
             }
            },
            "type": "table"
           }
          ]
         },
         "layout": {
          "annotationdefaults": {
           "arrowcolor": "#2a3f5f",
           "arrowhead": 0,
           "arrowwidth": 1
          },
          "autotypenumbers": "strict",
          "coloraxis": {
           "colorbar": {
            "outlinewidth": 0,
            "ticks": ""
           }
          },
          "colorscale": {
           "diverging": [
            [
             0,
             "#8e0152"
            ],
            [
             0.1,
             "#c51b7d"
            ],
            [
             0.2,
             "#de77ae"
            ],
            [
             0.3,
             "#f1b6da"
            ],
            [
             0.4,
             "#fde0ef"
            ],
            [
             0.5,
             "#f7f7f7"
            ],
            [
             0.6,
             "#e6f5d0"
            ],
            [
             0.7,
             "#b8e186"
            ],
            [
             0.8,
             "#7fbc41"
            ],
            [
             0.9,
             "#4d9221"
            ],
            [
             1,
             "#276419"
            ]
           ],
           "sequential": [
            [
             0,
             "#0d0887"
            ],
            [
             0.1111111111111111,
             "#46039f"
            ],
            [
             0.2222222222222222,
             "#7201a8"
            ],
            [
             0.3333333333333333,
             "#9c179e"
            ],
            [
             0.4444444444444444,
             "#bd3786"
            ],
            [
             0.5555555555555556,
             "#d8576b"
            ],
            [
             0.6666666666666666,
             "#ed7953"
            ],
            [
             0.7777777777777778,
             "#fb9f3a"
            ],
            [
             0.8888888888888888,
             "#fdca26"
            ],
            [
             1,
             "#f0f921"
            ]
           ],
           "sequentialminus": [
            [
             0,
             "#0d0887"
            ],
            [
             0.1111111111111111,
             "#46039f"
            ],
            [
             0.2222222222222222,
             "#7201a8"
            ],
            [
             0.3333333333333333,
             "#9c179e"
            ],
            [
             0.4444444444444444,
             "#bd3786"
            ],
            [
             0.5555555555555556,
             "#d8576b"
            ],
            [
             0.6666666666666666,
             "#ed7953"
            ],
            [
             0.7777777777777778,
             "#fb9f3a"
            ],
            [
             0.8888888888888888,
             "#fdca26"
            ],
            [
             1,
             "#f0f921"
            ]
           ]
          },
          "colorway": [
           "#636efa",
           "#EF553B",
           "#00cc96",
           "#ab63fa",
           "#FFA15A",
           "#19d3f3",
           "#FF6692",
           "#B6E880",
           "#FF97FF",
           "#FECB52"
          ],
          "font": {
           "color": "#2a3f5f"
          },
          "geo": {
           "bgcolor": "white",
           "lakecolor": "white",
           "landcolor": "#E5ECF6",
           "showlakes": true,
           "showland": true,
           "subunitcolor": "white"
          },
          "hoverlabel": {
           "align": "left"
          },
          "hovermode": "closest",
          "mapbox": {
           "style": "light"
          },
          "paper_bgcolor": "white",
          "plot_bgcolor": "#E5ECF6",
          "polar": {
           "angularaxis": {
            "gridcolor": "white",
            "linecolor": "white",
            "ticks": ""
           },
           "bgcolor": "#E5ECF6",
           "radialaxis": {
            "gridcolor": "white",
            "linecolor": "white",
            "ticks": ""
           }
          },
          "scene": {
           "xaxis": {
            "backgroundcolor": "#E5ECF6",
            "gridcolor": "white",
            "gridwidth": 2,
            "linecolor": "white",
            "showbackground": true,
            "ticks": "",
            "zerolinecolor": "white"
           },
           "yaxis": {
            "backgroundcolor": "#E5ECF6",
            "gridcolor": "white",
            "gridwidth": 2,
            "linecolor": "white",
            "showbackground": true,
            "ticks": "",
            "zerolinecolor": "white"
           },
           "zaxis": {
            "backgroundcolor": "#E5ECF6",
            "gridcolor": "white",
            "gridwidth": 2,
            "linecolor": "white",
            "showbackground": true,
            "ticks": "",
            "zerolinecolor": "white"
           }
          },
          "shapedefaults": {
           "line": {
            "color": "#2a3f5f"
           }
          },
          "ternary": {
           "aaxis": {
            "gridcolor": "white",
            "linecolor": "white",
            "ticks": ""
           },
           "baxis": {
            "gridcolor": "white",
            "linecolor": "white",
            "ticks": ""
           },
           "bgcolor": "#E5ECF6",
           "caxis": {
            "gridcolor": "white",
            "linecolor": "white",
            "ticks": ""
           }
          },
          "title": {
           "x": 0.05
          },
          "xaxis": {
           "automargin": true,
           "gridcolor": "white",
           "linecolor": "white",
           "ticks": "",
           "title": {
            "standoff": 15
           },
           "zerolinecolor": "white",
           "zerolinewidth": 2
          },
          "yaxis": {
           "automargin": true,
           "gridcolor": "white",
           "linecolor": "white",
           "ticks": "",
           "title": {
            "standoff": 15
           },
           "zerolinecolor": "white",
           "zerolinewidth": 2
          }
         }
        },
        "title": {
         "text": "Evaluation Metrics Comparison"
        },
        "xaxis": {
         "title": {
          "text": "Models"
         }
        },
        "yaxis": {
         "title": {
          "text": "Scores"
         }
        }
       }
      }
     },
     "metadata": {},
     "output_type": "display_data"
    }
   ],
   "source": [
    "# Extracting model names and metric scores\n",
    "model_names = [d['model'] for d in regression_stats_val]\n",
    "metric_labels = list(regression_stats_val[0].keys())[1:]\n",
    "metric_scores = {metric: [d[metric] for d in regression_stats_val] for metric in metric_labels}\n",
    "\n",
    "# Plotting the bar chart\n",
    "fig = go.Figure()\n",
    "\n",
    "for metric in metric_labels:\n",
    "    fig.add_trace(go.Bar(\n",
    "        x=model_names,\n",
    "        y=metric_scores[metric],\n",
    "        name=metric\n",
    "    ))\n",
    "\n",
    "# Updating the layout\n",
    "fig.update_layout(\n",
    "    title='Evaluation Metrics Comparison',\n",
    "    xaxis_title='Models',\n",
    "    yaxis_title='Scores',\n",
    "    barmode='group'\n",
    ")\n",
    "\n",
    "# Display the plot\n",
    "fig.show()"
   ]
  },
  {
   "attachments": {},
   "cell_type": "markdown",
   "metadata": {},
   "source": [
    "**Evaluating on test data**"
   ]
  },
  {
   "cell_type": "code",
   "execution_count": 48,
   "metadata": {},
   "outputs": [
    {
     "data": {
      "text/plain": [
       "[{'model': 'Multiple Linear Regression',\n",
       "  'mae': 2.7085294488746827,\n",
       "  'mse': 15.159529909991816,\n",
       "  'rmse': 3.8935240990639595,\n",
       "  'r2': -0.006618760105282728,\n",
       "  'adj_r2': -0.40026855455986254},\n",
       " {'model': 'Random Forest',\n",
       "  'mae': 2.6953939551701644,\n",
       "  'mse': 15.035564193768085,\n",
       "  'rmse': 3.8775719456598203,\n",
       "  'r2': 0.0016127758527318958,\n",
       "  'adj_r2': -0.3888179821936859},\n",
       " {'model': 'Neural Network',\n",
       "  'mae': 2.715724947759168,\n",
       "  'mse': 15.075797514041405,\n",
       "  'rmse': 3.8827564324898627,\n",
       "  'r2': -0.001058785548506247,\n",
       "  'adj_r2': -0.39253428827697245},\n",
       " {'model': 'Support Vector Machine',\n",
       "  'mae': 2.699337207626536,\n",
       "  'mse': 15.845489347425053,\n",
       "  'rmse': 3.9806393139073846,\n",
       "  'r2': -0.05216764206213331,\n",
       "  'adj_r2': -0.4636298484551462}]"
      ]
     },
     "execution_count": 48,
     "metadata": {},
     "output_type": "execute_result"
    }
   ],
   "source": [
    "regression_models = [\n",
    "    {\n",
    "        'name': 'Multiple Linear Regression',\n",
    "        'model': best_model_mlr,\n",
    "        'features': best_features_mlr\n",
    "    },\n",
    "    {\n",
    "        'name': 'Random Forest',\n",
    "        'model': best_model_rf,\n",
    "        'features': best_features_rf\n",
    "    },\n",
    "    {\n",
    "        'name': 'Neural Network',\n",
    "        'model': best_model_nn,\n",
    "        'features': best_features_nn\n",
    "    },\n",
    "    {\n",
    "        'name': 'Support Vector Machine',\n",
    "        'model': best_model_svm,\n",
    "        'features': best_features_svm\n",
    "    }\n",
    "]\n",
    "\n",
    "regression_stats_test = []\n",
    "\n",
    "for model in regression_models:\n",
    "    # Make predictions on the test set\n",
    "    y_pred = model['model'].predict(X_test[model['features']])\n",
    "\n",
    "    # Defining Actual values\n",
    "    y_true = y_test.copy()\n",
    "\n",
    "    # R2 Score\n",
    "    r2 = r2_score(y_true, y_pred)\n",
    "\n",
    "    # Adjusted R2 Score\n",
    "    n = len(y_true)  # Number of samples\n",
    "    p = X_test.shape[1]  # Number of predictors (features) in X\n",
    "    adj_r2 = 1 - ((1 - r2) * (n - 1)) / (n - p - 1)\n",
    "\n",
    "    # Save stats\n",
    "    regression_stats_test.append(\n",
    "        {\n",
    "            'model': model['name'],\n",
    "            'mae': mean_absolute_error(y_true, y_pred),\n",
    "            'mse': mean_squared_error(y_true, y_pred),\n",
    "            'rmse': np.sqrt(mean_squared_error(y_true, y_pred)),\n",
    "            'r2': r2,\n",
    "            'adj_r2': adj_r2\n",
    "        }\n",
    "    )\n",
    "\n",
    "# View stats\n",
    "regression_stats_test"
   ]
  },
  {
   "cell_type": "code",
   "execution_count": 49,
   "metadata": {},
   "outputs": [
    {
     "data": {
      "application/vnd.plotly.v1+json": {
       "config": {
        "plotlyServerURL": "https://plot.ly"
       },
       "data": [
        {
         "name": "mae",
         "type": "bar",
         "x": [
          "Multiple Linear Regression",
          "Random Forest",
          "Neural Network",
          "Support Vector Machine"
         ],
         "y": [
          2.7085294488746827,
          2.6953939551701644,
          2.715724947759168,
          2.699337207626536
         ]
        },
        {
         "name": "mse",
         "type": "bar",
         "x": [
          "Multiple Linear Regression",
          "Random Forest",
          "Neural Network",
          "Support Vector Machine"
         ],
         "y": [
          15.159529909991816,
          15.035564193768085,
          15.075797514041405,
          15.845489347425053
         ]
        },
        {
         "name": "rmse",
         "type": "bar",
         "x": [
          "Multiple Linear Regression",
          "Random Forest",
          "Neural Network",
          "Support Vector Machine"
         ],
         "y": [
          3.8935240990639595,
          3.8775719456598203,
          3.8827564324898627,
          3.9806393139073846
         ]
        },
        {
         "name": "r2",
         "type": "bar",
         "x": [
          "Multiple Linear Regression",
          "Random Forest",
          "Neural Network",
          "Support Vector Machine"
         ],
         "y": [
          -0.006618760105282728,
          0.0016127758527318958,
          -0.001058785548506247,
          -0.05216764206213331
         ]
        },
        {
         "name": "adj_r2",
         "type": "bar",
         "x": [
          "Multiple Linear Regression",
          "Random Forest",
          "Neural Network",
          "Support Vector Machine"
         ],
         "y": [
          -0.40026855455986254,
          -0.3888179821936859,
          -0.39253428827697245,
          -0.4636298484551462
         ]
        }
       ],
       "layout": {
        "barmode": "group",
        "template": {
         "data": {
          "bar": [
           {
            "error_x": {
             "color": "#2a3f5f"
            },
            "error_y": {
             "color": "#2a3f5f"
            },
            "marker": {
             "line": {
              "color": "#E5ECF6",
              "width": 0.5
             },
             "pattern": {
              "fillmode": "overlay",
              "size": 10,
              "solidity": 0.2
             }
            },
            "type": "bar"
           }
          ],
          "barpolar": [
           {
            "marker": {
             "line": {
              "color": "#E5ECF6",
              "width": 0.5
             },
             "pattern": {
              "fillmode": "overlay",
              "size": 10,
              "solidity": 0.2
             }
            },
            "type": "barpolar"
           }
          ],
          "carpet": [
           {
            "aaxis": {
             "endlinecolor": "#2a3f5f",
             "gridcolor": "white",
             "linecolor": "white",
             "minorgridcolor": "white",
             "startlinecolor": "#2a3f5f"
            },
            "baxis": {
             "endlinecolor": "#2a3f5f",
             "gridcolor": "white",
             "linecolor": "white",
             "minorgridcolor": "white",
             "startlinecolor": "#2a3f5f"
            },
            "type": "carpet"
           }
          ],
          "choropleth": [
           {
            "colorbar": {
             "outlinewidth": 0,
             "ticks": ""
            },
            "type": "choropleth"
           }
          ],
          "contour": [
           {
            "colorbar": {
             "outlinewidth": 0,
             "ticks": ""
            },
            "colorscale": [
             [
              0,
              "#0d0887"
             ],
             [
              0.1111111111111111,
              "#46039f"
             ],
             [
              0.2222222222222222,
              "#7201a8"
             ],
             [
              0.3333333333333333,
              "#9c179e"
             ],
             [
              0.4444444444444444,
              "#bd3786"
             ],
             [
              0.5555555555555556,
              "#d8576b"
             ],
             [
              0.6666666666666666,
              "#ed7953"
             ],
             [
              0.7777777777777778,
              "#fb9f3a"
             ],
             [
              0.8888888888888888,
              "#fdca26"
             ],
             [
              1,
              "#f0f921"
             ]
            ],
            "type": "contour"
           }
          ],
          "contourcarpet": [
           {
            "colorbar": {
             "outlinewidth": 0,
             "ticks": ""
            },
            "type": "contourcarpet"
           }
          ],
          "heatmap": [
           {
            "colorbar": {
             "outlinewidth": 0,
             "ticks": ""
            },
            "colorscale": [
             [
              0,
              "#0d0887"
             ],
             [
              0.1111111111111111,
              "#46039f"
             ],
             [
              0.2222222222222222,
              "#7201a8"
             ],
             [
              0.3333333333333333,
              "#9c179e"
             ],
             [
              0.4444444444444444,
              "#bd3786"
             ],
             [
              0.5555555555555556,
              "#d8576b"
             ],
             [
              0.6666666666666666,
              "#ed7953"
             ],
             [
              0.7777777777777778,
              "#fb9f3a"
             ],
             [
              0.8888888888888888,
              "#fdca26"
             ],
             [
              1,
              "#f0f921"
             ]
            ],
            "type": "heatmap"
           }
          ],
          "heatmapgl": [
           {
            "colorbar": {
             "outlinewidth": 0,
             "ticks": ""
            },
            "colorscale": [
             [
              0,
              "#0d0887"
             ],
             [
              0.1111111111111111,
              "#46039f"
             ],
             [
              0.2222222222222222,
              "#7201a8"
             ],
             [
              0.3333333333333333,
              "#9c179e"
             ],
             [
              0.4444444444444444,
              "#bd3786"
             ],
             [
              0.5555555555555556,
              "#d8576b"
             ],
             [
              0.6666666666666666,
              "#ed7953"
             ],
             [
              0.7777777777777778,
              "#fb9f3a"
             ],
             [
              0.8888888888888888,
              "#fdca26"
             ],
             [
              1,
              "#f0f921"
             ]
            ],
            "type": "heatmapgl"
           }
          ],
          "histogram": [
           {
            "marker": {
             "pattern": {
              "fillmode": "overlay",
              "size": 10,
              "solidity": 0.2
             }
            },
            "type": "histogram"
           }
          ],
          "histogram2d": [
           {
            "colorbar": {
             "outlinewidth": 0,
             "ticks": ""
            },
            "colorscale": [
             [
              0,
              "#0d0887"
             ],
             [
              0.1111111111111111,
              "#46039f"
             ],
             [
              0.2222222222222222,
              "#7201a8"
             ],
             [
              0.3333333333333333,
              "#9c179e"
             ],
             [
              0.4444444444444444,
              "#bd3786"
             ],
             [
              0.5555555555555556,
              "#d8576b"
             ],
             [
              0.6666666666666666,
              "#ed7953"
             ],
             [
              0.7777777777777778,
              "#fb9f3a"
             ],
             [
              0.8888888888888888,
              "#fdca26"
             ],
             [
              1,
              "#f0f921"
             ]
            ],
            "type": "histogram2d"
           }
          ],
          "histogram2dcontour": [
           {
            "colorbar": {
             "outlinewidth": 0,
             "ticks": ""
            },
            "colorscale": [
             [
              0,
              "#0d0887"
             ],
             [
              0.1111111111111111,
              "#46039f"
             ],
             [
              0.2222222222222222,
              "#7201a8"
             ],
             [
              0.3333333333333333,
              "#9c179e"
             ],
             [
              0.4444444444444444,
              "#bd3786"
             ],
             [
              0.5555555555555556,
              "#d8576b"
             ],
             [
              0.6666666666666666,
              "#ed7953"
             ],
             [
              0.7777777777777778,
              "#fb9f3a"
             ],
             [
              0.8888888888888888,
              "#fdca26"
             ],
             [
              1,
              "#f0f921"
             ]
            ],
            "type": "histogram2dcontour"
           }
          ],
          "mesh3d": [
           {
            "colorbar": {
             "outlinewidth": 0,
             "ticks": ""
            },
            "type": "mesh3d"
           }
          ],
          "parcoords": [
           {
            "line": {
             "colorbar": {
              "outlinewidth": 0,
              "ticks": ""
             }
            },
            "type": "parcoords"
           }
          ],
          "pie": [
           {
            "automargin": true,
            "type": "pie"
           }
          ],
          "scatter": [
           {
            "fillpattern": {
             "fillmode": "overlay",
             "size": 10,
             "solidity": 0.2
            },
            "type": "scatter"
           }
          ],
          "scatter3d": [
           {
            "line": {
             "colorbar": {
              "outlinewidth": 0,
              "ticks": ""
             }
            },
            "marker": {
             "colorbar": {
              "outlinewidth": 0,
              "ticks": ""
             }
            },
            "type": "scatter3d"
           }
          ],
          "scattercarpet": [
           {
            "marker": {
             "colorbar": {
              "outlinewidth": 0,
              "ticks": ""
             }
            },
            "type": "scattercarpet"
           }
          ],
          "scattergeo": [
           {
            "marker": {
             "colorbar": {
              "outlinewidth": 0,
              "ticks": ""
             }
            },
            "type": "scattergeo"
           }
          ],
          "scattergl": [
           {
            "marker": {
             "colorbar": {
              "outlinewidth": 0,
              "ticks": ""
             }
            },
            "type": "scattergl"
           }
          ],
          "scattermapbox": [
           {
            "marker": {
             "colorbar": {
              "outlinewidth": 0,
              "ticks": ""
             }
            },
            "type": "scattermapbox"
           }
          ],
          "scatterpolar": [
           {
            "marker": {
             "colorbar": {
              "outlinewidth": 0,
              "ticks": ""
             }
            },
            "type": "scatterpolar"
           }
          ],
          "scatterpolargl": [
           {
            "marker": {
             "colorbar": {
              "outlinewidth": 0,
              "ticks": ""
             }
            },
            "type": "scatterpolargl"
           }
          ],
          "scatterternary": [
           {
            "marker": {
             "colorbar": {
              "outlinewidth": 0,
              "ticks": ""
             }
            },
            "type": "scatterternary"
           }
          ],
          "surface": [
           {
            "colorbar": {
             "outlinewidth": 0,
             "ticks": ""
            },
            "colorscale": [
             [
              0,
              "#0d0887"
             ],
             [
              0.1111111111111111,
              "#46039f"
             ],
             [
              0.2222222222222222,
              "#7201a8"
             ],
             [
              0.3333333333333333,
              "#9c179e"
             ],
             [
              0.4444444444444444,
              "#bd3786"
             ],
             [
              0.5555555555555556,
              "#d8576b"
             ],
             [
              0.6666666666666666,
              "#ed7953"
             ],
             [
              0.7777777777777778,
              "#fb9f3a"
             ],
             [
              0.8888888888888888,
              "#fdca26"
             ],
             [
              1,
              "#f0f921"
             ]
            ],
            "type": "surface"
           }
          ],
          "table": [
           {
            "cells": {
             "fill": {
              "color": "#EBF0F8"
             },
             "line": {
              "color": "white"
             }
            },
            "header": {
             "fill": {
              "color": "#C8D4E3"
             },
             "line": {
              "color": "white"
             }
            },
            "type": "table"
           }
          ]
         },
         "layout": {
          "annotationdefaults": {
           "arrowcolor": "#2a3f5f",
           "arrowhead": 0,
           "arrowwidth": 1
          },
          "autotypenumbers": "strict",
          "coloraxis": {
           "colorbar": {
            "outlinewidth": 0,
            "ticks": ""
           }
          },
          "colorscale": {
           "diverging": [
            [
             0,
             "#8e0152"
            ],
            [
             0.1,
             "#c51b7d"
            ],
            [
             0.2,
             "#de77ae"
            ],
            [
             0.3,
             "#f1b6da"
            ],
            [
             0.4,
             "#fde0ef"
            ],
            [
             0.5,
             "#f7f7f7"
            ],
            [
             0.6,
             "#e6f5d0"
            ],
            [
             0.7,
             "#b8e186"
            ],
            [
             0.8,
             "#7fbc41"
            ],
            [
             0.9,
             "#4d9221"
            ],
            [
             1,
             "#276419"
            ]
           ],
           "sequential": [
            [
             0,
             "#0d0887"
            ],
            [
             0.1111111111111111,
             "#46039f"
            ],
            [
             0.2222222222222222,
             "#7201a8"
            ],
            [
             0.3333333333333333,
             "#9c179e"
            ],
            [
             0.4444444444444444,
             "#bd3786"
            ],
            [
             0.5555555555555556,
             "#d8576b"
            ],
            [
             0.6666666666666666,
             "#ed7953"
            ],
            [
             0.7777777777777778,
             "#fb9f3a"
            ],
            [
             0.8888888888888888,
             "#fdca26"
            ],
            [
             1,
             "#f0f921"
            ]
           ],
           "sequentialminus": [
            [
             0,
             "#0d0887"
            ],
            [
             0.1111111111111111,
             "#46039f"
            ],
            [
             0.2222222222222222,
             "#7201a8"
            ],
            [
             0.3333333333333333,
             "#9c179e"
            ],
            [
             0.4444444444444444,
             "#bd3786"
            ],
            [
             0.5555555555555556,
             "#d8576b"
            ],
            [
             0.6666666666666666,
             "#ed7953"
            ],
            [
             0.7777777777777778,
             "#fb9f3a"
            ],
            [
             0.8888888888888888,
             "#fdca26"
            ],
            [
             1,
             "#f0f921"
            ]
           ]
          },
          "colorway": [
           "#636efa",
           "#EF553B",
           "#00cc96",
           "#ab63fa",
           "#FFA15A",
           "#19d3f3",
           "#FF6692",
           "#B6E880",
           "#FF97FF",
           "#FECB52"
          ],
          "font": {
           "color": "#2a3f5f"
          },
          "geo": {
           "bgcolor": "white",
           "lakecolor": "white",
           "landcolor": "#E5ECF6",
           "showlakes": true,
           "showland": true,
           "subunitcolor": "white"
          },
          "hoverlabel": {
           "align": "left"
          },
          "hovermode": "closest",
          "mapbox": {
           "style": "light"
          },
          "paper_bgcolor": "white",
          "plot_bgcolor": "#E5ECF6",
          "polar": {
           "angularaxis": {
            "gridcolor": "white",
            "linecolor": "white",
            "ticks": ""
           },
           "bgcolor": "#E5ECF6",
           "radialaxis": {
            "gridcolor": "white",
            "linecolor": "white",
            "ticks": ""
           }
          },
          "scene": {
           "xaxis": {
            "backgroundcolor": "#E5ECF6",
            "gridcolor": "white",
            "gridwidth": 2,
            "linecolor": "white",
            "showbackground": true,
            "ticks": "",
            "zerolinecolor": "white"
           },
           "yaxis": {
            "backgroundcolor": "#E5ECF6",
            "gridcolor": "white",
            "gridwidth": 2,
            "linecolor": "white",
            "showbackground": true,
            "ticks": "",
            "zerolinecolor": "white"
           },
           "zaxis": {
            "backgroundcolor": "#E5ECF6",
            "gridcolor": "white",
            "gridwidth": 2,
            "linecolor": "white",
            "showbackground": true,
            "ticks": "",
            "zerolinecolor": "white"
           }
          },
          "shapedefaults": {
           "line": {
            "color": "#2a3f5f"
           }
          },
          "ternary": {
           "aaxis": {
            "gridcolor": "white",
            "linecolor": "white",
            "ticks": ""
           },
           "baxis": {
            "gridcolor": "white",
            "linecolor": "white",
            "ticks": ""
           },
           "bgcolor": "#E5ECF6",
           "caxis": {
            "gridcolor": "white",
            "linecolor": "white",
            "ticks": ""
           }
          },
          "title": {
           "x": 0.05
          },
          "xaxis": {
           "automargin": true,
           "gridcolor": "white",
           "linecolor": "white",
           "ticks": "",
           "title": {
            "standoff": 15
           },
           "zerolinecolor": "white",
           "zerolinewidth": 2
          },
          "yaxis": {
           "automargin": true,
           "gridcolor": "white",
           "linecolor": "white",
           "ticks": "",
           "title": {
            "standoff": 15
           },
           "zerolinecolor": "white",
           "zerolinewidth": 2
          }
         }
        },
        "title": {
         "text": "Evaluation Metrics Comparison"
        },
        "xaxis": {
         "title": {
          "text": "Models"
         }
        },
        "yaxis": {
         "title": {
          "text": "Scores"
         }
        }
       }
      }
     },
     "metadata": {},
     "output_type": "display_data"
    }
   ],
   "source": [
    "# Extracting model names and metric scores\n",
    "model_names = [d['model'] for d in regression_stats_test]\n",
    "metric_labels = list(regression_stats_test[0].keys())[1:]\n",
    "metric_scores = {metric: [d[metric] for d in regression_stats_test] for metric in metric_labels}\n",
    "\n",
    "# Plotting the bar chart\n",
    "fig = go.Figure()\n",
    "\n",
    "for metric in metric_labels:\n",
    "    fig.add_trace(go.Bar(\n",
    "        x=model_names,\n",
    "        y=metric_scores[metric],\n",
    "        name=metric\n",
    "    ))\n",
    "\n",
    "# Updating the layout\n",
    "fig.update_layout(\n",
    "    title='Evaluation Metrics Comparison',\n",
    "    xaxis_title='Models',\n",
    "    yaxis_title='Scores',\n",
    "    barmode='group'\n",
    ")\n",
    "\n",
    "# Display the plot\n",
    "fig.show()"
   ]
  },
  {
   "attachments": {},
   "cell_type": "markdown",
   "metadata": {},
   "source": [
    "Naive bayes"
   ]
  },
  {
   "cell_type": "code",
   "execution_count": 51,
   "metadata": {},
   "outputs": [
    {
     "name": "stdout",
     "output_type": "stream",
     "text": [
      "Mean Absolute Error: 2.717184553660983\n",
      "Mean Squared Error: 15.253915202666954\n",
      "Root Mean Squared Error: 3.905626096116595\n",
      "R2 Score: -0.012886105257073899\n",
      "Adjusted R2 Score: -0.4089868168101196\n"
     ]
    }
   ],
   "source": [
    "# Defining Actual values\n",
    "y_true = y_test.copy()\n",
    "\n",
    "# Defining Predicted values\n",
    "y_pred = np.full_like(y_test, y_train.mean())\n",
    "\n",
    "# Mean absolute error\n",
    "mae = mean_absolute_error(y_test, y_pred)\n",
    "print(\"Mean Absolute Error:\", mae)\n",
    "\n",
    "# Mean Squared Error\n",
    "mse = mean_squared_error(y_true, y_pred)\n",
    "print(\"Mean Squared Error:\", mse)\n",
    "\n",
    "# Root Mean Squared Error\n",
    "rmse = np.sqrt(mse)\n",
    "print(\"Root Mean Squared Error:\", rmse)\n",
    "\n",
    "# R2 Score\n",
    "r2 = r2_score(y_true, y_pred)\n",
    "print(\"R2 Score:\", r2)\n",
    "\n",
    "# Adjusted R2 Score\n",
    "n = len(y_true)  # Number of samples\n",
    "p = X_test.shape[1]  # Number of predictors (features) in X\n",
    "adj_r2 = 1 - ((1 - r2) * (n - 1)) / (n - p - 1)\n",
    "print(\"Adjusted R2 Score:\", adj_r2)"
   ]
  },
  {
   "attachments": {},
   "cell_type": "markdown",
   "metadata": {},
   "source": [
    "Save best model as Pickle"
   ]
  },
  {
   "cell_type": "code",
   "execution_count": null,
   "metadata": {},
   "outputs": [],
   "source": []
  }
 ],
 "metadata": {
  "kernelspec": {
   "display_name": "Python 3",
   "language": "python",
   "name": "python3"
  },
  "language_info": {
   "codemirror_mode": {
    "name": "ipython",
    "version": 3
   },
   "file_extension": ".py",
   "mimetype": "text/x-python",
   "name": "python",
   "nbconvert_exporter": "python",
   "pygments_lexer": "ipython3",
   "version": "3.9.5"
  },
  "orig_nbformat": 4
 },
 "nbformat": 4,
 "nbformat_minor": 2
}
