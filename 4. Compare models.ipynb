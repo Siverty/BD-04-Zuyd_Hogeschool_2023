{
 "cells": [
  {
   "cell_type": "code",
   "execution_count": 1,
   "metadata": {},
   "outputs": [],
   "source": [
    "from sklearn.datasets import make_regression\n",
    "\n",
    "# Generate regression toy data\n",
    "n_samples = 1000\n",
    "n_features = 5\n",
    "\n",
    "X, y = make_regression(n_samples=n_samples, n_features=n_features, random_state=42)\n",
    "\n",
    "# Split data into training and testing sets\n",
    "train_ratio = 0.8\n",
    "train_size = int(train_ratio * n_samples)\n",
    "\n",
    "X_train = X[:train_size]\n",
    "y_train = y[:train_size]\n",
    "\n",
    "# Test data\n",
    "X_test = X[train_size:]\n",
    "y_test = y[train_size:]"
   ]
  },
  {
   "cell_type": "code",
   "execution_count": 2,
   "metadata": {},
   "outputs": [],
   "source": [
    "from sklearn.model_selection import cross_val_score\n",
    "\n",
    "\n",
    "def bo_params_generic(model, params, X_train, y_train):\n",
    "    # Create the model instance with the specified parameters\n",
    "    regressor = model(**params)\n",
    "    \n",
    "    # Assuming you have X_train, y_train defined for regression\n",
    "    scores = cross_val_score(regressor, X_train, y_train, cv=10, scoring='neg_root_mean_squared_error')\n",
    "    return -scores.mean()"
   ]
  },
  {
   "cell_type": "code",
   "execution_count": 9,
   "metadata": {},
   "outputs": [],
   "source": [
    "all_models = {}"
   ]
  },
  {
   "attachments": {},
   "cell_type": "markdown",
   "metadata": {},
   "source": [
    "# Random Forest"
   ]
  },
  {
   "attachments": {},
   "cell_type": "markdown",
   "metadata": {},
   "source": [
    "**Feature selection**"
   ]
  },
  {
   "cell_type": "code",
   "execution_count": null,
   "metadata": {},
   "outputs": [],
   "source": []
  },
  {
   "attachments": {},
   "cell_type": "markdown",
   "metadata": {},
   "source": [
    "**Hyperparameter optimalisatie**"
   ]
  },
  {
   "cell_type": "code",
   "execution_count": 4,
   "metadata": {},
   "outputs": [
    {
     "name": "stdout",
     "output_type": "stream",
     "text": [
      "|   iter    |  target   | max_depth | max_fe... | max_le... | min_sa... | min_we... | splitter  |\n",
      "-------------------------------------------------------------------------------------------------\n",
      "| \u001b[0m1        \u001b[0m | \u001b[0m52.59    \u001b[0m | \u001b[0m19.83    \u001b[0m | \u001b[0m0.8834   \u001b[0m | \u001b[0m16.19    \u001b[0m | \u001b[0m6.064    \u001b[0m | \u001b[0m0.4299   \u001b[0m | \u001b[0m0.2575   \u001b[0m |\n",
      "| \u001b[95m2        \u001b[0m | \u001b[95m63.49    \u001b[0m | \u001b[95m5.666    \u001b[0m | \u001b[95m0.1317   \u001b[0m | \u001b[95m79.53    \u001b[0m | \u001b[95m2.119    \u001b[0m | \u001b[95m0.08336  \u001b[0m | \u001b[95m0.5748   \u001b[0m |\n",
      "| \u001b[0m3        \u001b[0m | \u001b[0m48.46    \u001b[0m | \u001b[0m13.45    \u001b[0m | \u001b[0m0.8559   \u001b[0m | \u001b[0m28.66    \u001b[0m | \u001b[0m3.64     \u001b[0m | \u001b[0m0.1634   \u001b[0m | \u001b[0m0.3241   \u001b[0m |\n",
      "| \u001b[0m4        \u001b[0m | \u001b[0m51.66    \u001b[0m | \u001b[0m3.851    \u001b[0m | \u001b[0m0.645    \u001b[0m | \u001b[0m73.52    \u001b[0m | \u001b[0m7.612    \u001b[0m | \u001b[0m0.1988   \u001b[0m | \u001b[0m0.1656   \u001b[0m |\n",
      "| \u001b[95m5        \u001b[0m | \u001b[95m64.51    \u001b[0m | \u001b[95m9.96     \u001b[0m | \u001b[95m0.9325   \u001b[0m | \u001b[95m96.31    \u001b[0m | \u001b[95m9.241    \u001b[0m | \u001b[95m0.4936   \u001b[0m | \u001b[95m0.547    \u001b[0m |\n",
      "| \u001b[0m6        \u001b[0m | \u001b[0m63.8     \u001b[0m | \u001b[0m4.662    \u001b[0m | \u001b[0m0.1902   \u001b[0m | \u001b[0m79.63    \u001b[0m | \u001b[0m4.108    \u001b[0m | \u001b[0m0.2016   \u001b[0m | \u001b[0m0.952    \u001b[0m |\n",
      "| \u001b[0m7        \u001b[0m | \u001b[0m55.03    \u001b[0m | \u001b[0m6.409    \u001b[0m | \u001b[0m0.669    \u001b[0m | \u001b[0m55.28    \u001b[0m | \u001b[0m9.796    \u001b[0m | \u001b[0m0.263    \u001b[0m | \u001b[0m0.2518   \u001b[0m |\n",
      "| \u001b[0m8        \u001b[0m | \u001b[0m46.17    \u001b[0m | \u001b[0m8.748    \u001b[0m | \u001b[0m0.4099   \u001b[0m | \u001b[0m35.67    \u001b[0m | \u001b[0m9.691    \u001b[0m | \u001b[0m0.05876  \u001b[0m | \u001b[0m0.1181   \u001b[0m |\n",
      "| \u001b[0m9        \u001b[0m | \u001b[0m61.38    \u001b[0m | \u001b[0m12.62    \u001b[0m | \u001b[0m0.9042   \u001b[0m | \u001b[0m59.48    \u001b[0m | \u001b[0m9.698    \u001b[0m | \u001b[0m0.2043   \u001b[0m | \u001b[0m0.6125   \u001b[0m |\n",
      "| \u001b[0m10       \u001b[0m | \u001b[0m64.22    \u001b[0m | \u001b[0m18.6     \u001b[0m | \u001b[0m0.2935   \u001b[0m | \u001b[0m78.08    \u001b[0m | \u001b[0m7.556    \u001b[0m | \u001b[0m0.2715   \u001b[0m | \u001b[0m0.7412   \u001b[0m |\n",
      "| \u001b[0m11       \u001b[0m | \u001b[0m63.12    \u001b[0m | \u001b[0m14.95    \u001b[0m | \u001b[0m0.3072   \u001b[0m | \u001b[0m32.34    \u001b[0m | \u001b[0m9.099    \u001b[0m | \u001b[0m0.4193   \u001b[0m | \u001b[0m0.6289   \u001b[0m |\n",
      "| \u001b[0m12       \u001b[0m | \u001b[0m56.88    \u001b[0m | \u001b[0m9.296    \u001b[0m | \u001b[0m0.3042   \u001b[0m | \u001b[0m47.91    \u001b[0m | \u001b[0m6.863    \u001b[0m | \u001b[0m0.1305   \u001b[0m | \u001b[0m0.2341   \u001b[0m |\n",
      "| \u001b[0m13       \u001b[0m | \u001b[0m55.83    \u001b[0m | \u001b[0m3.554    \u001b[0m | \u001b[0m0.3096   \u001b[0m | \u001b[0m48.05    \u001b[0m | \u001b[0m2.018    \u001b[0m | \u001b[0m0.241    \u001b[0m | \u001b[0m0.1119   \u001b[0m |\n",
      "| \u001b[0m14       \u001b[0m | \u001b[0m61.2     \u001b[0m | \u001b[0m8.257    \u001b[0m | \u001b[0m0.9829   \u001b[0m | \u001b[0m53.97    \u001b[0m | \u001b[0m8.535    \u001b[0m | \u001b[0m0.3187   \u001b[0m | \u001b[0m0.6158   \u001b[0m |\n",
      "| \u001b[0m15       \u001b[0m | \u001b[0m64.08    \u001b[0m | \u001b[0m18.3     \u001b[0m | \u001b[0m0.3104   \u001b[0m | \u001b[0m92.54    \u001b[0m | \u001b[0m1.562    \u001b[0m | \u001b[0m0.1983   \u001b[0m | \u001b[0m0.9508   \u001b[0m |\n",
      "| \u001b[0m16       \u001b[0m | \u001b[0m46.78    \u001b[0m | \u001b[0m14.03    \u001b[0m | \u001b[0m0.8912   \u001b[0m | \u001b[0m43.23    \u001b[0m | \u001b[0m3.707    \u001b[0m | \u001b[0m0.03865  \u001b[0m | \u001b[0m0.957    \u001b[0m |\n",
      "| \u001b[0m17       \u001b[0m | \u001b[0m55.23    \u001b[0m | \u001b[0m17.39    \u001b[0m | \u001b[0m0.9129   \u001b[0m | \u001b[0m11.44    \u001b[0m | \u001b[0m5.403    \u001b[0m | \u001b[0m0.3513   \u001b[0m | \u001b[0m0.04469  \u001b[0m |\n",
      "| \u001b[0m18       \u001b[0m | \u001b[0m56.71    \u001b[0m | \u001b[0m11.08    \u001b[0m | \u001b[0m0.4502   \u001b[0m | \u001b[0m35.28    \u001b[0m | \u001b[0m3.328    \u001b[0m | \u001b[0m0.3259   \u001b[0m | \u001b[0m0.3897   \u001b[0m |\n",
      "| \u001b[0m19       \u001b[0m | \u001b[0m51.66    \u001b[0m | \u001b[0m13.36    \u001b[0m | \u001b[0m0.6652   \u001b[0m | \u001b[0m64.29    \u001b[0m | \u001b[0m9.581    \u001b[0m | \u001b[0m0.2257   \u001b[0m | \u001b[0m0.4273   \u001b[0m |\n",
      "| \u001b[0m20       \u001b[0m | \u001b[0m64.31    \u001b[0m | \u001b[0m12.01    \u001b[0m | \u001b[0m0.1801   \u001b[0m | \u001b[0m43.73    \u001b[0m | \u001b[0m1.497    \u001b[0m | \u001b[0m0.09871  \u001b[0m | \u001b[0m0.7691   \u001b[0m |\n",
      "| \u001b[0m21       \u001b[0m | \u001b[0m64.37    \u001b[0m | \u001b[0m5.076    \u001b[0m | \u001b[0m0.1004   \u001b[0m | \u001b[0m78.8     \u001b[0m | \u001b[0m3.125    \u001b[0m | \u001b[0m0.1585   \u001b[0m | \u001b[0m0.8306   \u001b[0m |\n",
      "| \u001b[0m22       \u001b[0m | \u001b[0m64.17    \u001b[0m | \u001b[0m10.19    \u001b[0m | \u001b[0m0.1      \u001b[0m | \u001b[0m44.17    \u001b[0m | \u001b[0m1.0      \u001b[0m | \u001b[0m0.1542   \u001b[0m | \u001b[0m0.6008   \u001b[0m |\n",
      "| \u001b[0m23       \u001b[0m | \u001b[0m46.2     \u001b[0m | \u001b[0m10.67    \u001b[0m | \u001b[0m0.1      \u001b[0m | \u001b[0m41.78    \u001b[0m | \u001b[0m1.0      \u001b[0m | \u001b[0m0.0      \u001b[0m | \u001b[0m0.0      \u001b[0m |\n",
      "| \u001b[0m24       \u001b[0m | \u001b[0m52.95    \u001b[0m | \u001b[0m11.7     \u001b[0m | \u001b[0m0.127    \u001b[0m | \u001b[0m45.3     \u001b[0m | \u001b[0m1.757    \u001b[0m | \u001b[0m0.07563  \u001b[0m | \u001b[0m0.003251 \u001b[0m |\n",
      "| \u001b[0m25       \u001b[0m | \u001b[0m49.38    \u001b[0m | \u001b[0m4.33     \u001b[0m | \u001b[0m0.1891   \u001b[0m | \u001b[0m79.0     \u001b[0m | \u001b[0m3.356    \u001b[0m | \u001b[0m0.05815  \u001b[0m | \u001b[0m0.04109  \u001b[0m |\n",
      "=================================================================================================\n"
     ]
    },
    {
     "data": {
      "text/html": [
       "<style>#sk-container-id-2 {color: black;background-color: white;}#sk-container-id-2 pre{padding: 0;}#sk-container-id-2 div.sk-toggleable {background-color: white;}#sk-container-id-2 label.sk-toggleable__label {cursor: pointer;display: block;width: 100%;margin-bottom: 0;padding: 0.3em;box-sizing: border-box;text-align: center;}#sk-container-id-2 label.sk-toggleable__label-arrow:before {content: \"▸\";float: left;margin-right: 0.25em;color: #696969;}#sk-container-id-2 label.sk-toggleable__label-arrow:hover:before {color: black;}#sk-container-id-2 div.sk-estimator:hover label.sk-toggleable__label-arrow:before {color: black;}#sk-container-id-2 div.sk-toggleable__content {max-height: 0;max-width: 0;overflow: hidden;text-align: left;background-color: #f0f8ff;}#sk-container-id-2 div.sk-toggleable__content pre {margin: 0.2em;color: black;border-radius: 0.25em;background-color: #f0f8ff;}#sk-container-id-2 input.sk-toggleable__control:checked~div.sk-toggleable__content {max-height: 200px;max-width: 100%;overflow: auto;}#sk-container-id-2 input.sk-toggleable__control:checked~label.sk-toggleable__label-arrow:before {content: \"▾\";}#sk-container-id-2 div.sk-estimator input.sk-toggleable__control:checked~label.sk-toggleable__label {background-color: #d4ebff;}#sk-container-id-2 div.sk-label input.sk-toggleable__control:checked~label.sk-toggleable__label {background-color: #d4ebff;}#sk-container-id-2 input.sk-hidden--visually {border: 0;clip: rect(1px 1px 1px 1px);clip: rect(1px, 1px, 1px, 1px);height: 1px;margin: -1px;overflow: hidden;padding: 0;position: absolute;width: 1px;}#sk-container-id-2 div.sk-estimator {font-family: monospace;background-color: #f0f8ff;border: 1px dotted black;border-radius: 0.25em;box-sizing: border-box;margin-bottom: 0.5em;}#sk-container-id-2 div.sk-estimator:hover {background-color: #d4ebff;}#sk-container-id-2 div.sk-parallel-item::after {content: \"\";width: 100%;border-bottom: 1px solid gray;flex-grow: 1;}#sk-container-id-2 div.sk-label:hover label.sk-toggleable__label {background-color: #d4ebff;}#sk-container-id-2 div.sk-serial::before {content: \"\";position: absolute;border-left: 1px solid gray;box-sizing: border-box;top: 0;bottom: 0;left: 50%;z-index: 0;}#sk-container-id-2 div.sk-serial {display: flex;flex-direction: column;align-items: center;background-color: white;padding-right: 0.2em;padding-left: 0.2em;position: relative;}#sk-container-id-2 div.sk-item {position: relative;z-index: 1;}#sk-container-id-2 div.sk-parallel {display: flex;align-items: stretch;justify-content: center;background-color: white;position: relative;}#sk-container-id-2 div.sk-item::before, #sk-container-id-2 div.sk-parallel-item::before {content: \"\";position: absolute;border-left: 1px solid gray;box-sizing: border-box;top: 0;bottom: 0;left: 50%;z-index: -1;}#sk-container-id-2 div.sk-parallel-item {display: flex;flex-direction: column;z-index: 1;position: relative;background-color: white;}#sk-container-id-2 div.sk-parallel-item:first-child::after {align-self: flex-end;width: 50%;}#sk-container-id-2 div.sk-parallel-item:last-child::after {align-self: flex-start;width: 50%;}#sk-container-id-2 div.sk-parallel-item:only-child::after {width: 0;}#sk-container-id-2 div.sk-dashed-wrapped {border: 1px dashed gray;margin: 0 0.4em 0.5em 0.4em;box-sizing: border-box;padding-bottom: 0.4em;background-color: white;}#sk-container-id-2 div.sk-label label {font-family: monospace;font-weight: bold;display: inline-block;line-height: 1.2em;}#sk-container-id-2 div.sk-label-container {text-align: center;}#sk-container-id-2 div.sk-container {/* jupyter's `normalize.less` sets `[hidden] { display: none; }` but bootstrap.min.css set `[hidden] { display: none !important; }` so we also need the `!important` here to be able to override the default hidden behavior on the sphinx rendered scikit-learn.org. See: https://github.com/scikit-learn/scikit-learn/issues/21755 */display: inline-block !important;position: relative;}#sk-container-id-2 div.sk-text-repr-fallback {display: none;}</style><div id=\"sk-container-id-2\" class=\"sk-top-container\"><div class=\"sk-text-repr-fallback\"><pre>DecisionTreeRegressor(max_depth=10, max_features=0.9325423505773145,\n",
       "                      max_leaf_nodes=96, min_samples_leaf=9,\n",
       "                      min_weight_fraction_leaf=0.49359743828640723,\n",
       "                      splitter=&#x27;random&#x27;)</pre><b>In a Jupyter environment, please rerun this cell to show the HTML representation or trust the notebook. <br />On GitHub, the HTML representation is unable to render, please try loading this page with nbviewer.org.</b></div><div class=\"sk-container\" hidden><div class=\"sk-item\"><div class=\"sk-estimator sk-toggleable\"><input class=\"sk-toggleable__control sk-hidden--visually\" id=\"sk-estimator-id-2\" type=\"checkbox\" checked><label for=\"sk-estimator-id-2\" class=\"sk-toggleable__label sk-toggleable__label-arrow\">DecisionTreeRegressor</label><div class=\"sk-toggleable__content\"><pre>DecisionTreeRegressor(max_depth=10, max_features=0.9325423505773145,\n",
       "                      max_leaf_nodes=96, min_samples_leaf=9,\n",
       "                      min_weight_fraction_leaf=0.49359743828640723,\n",
       "                      splitter=&#x27;random&#x27;)</pre></div></div></div></div></div>"
      ],
      "text/plain": [
       "DecisionTreeRegressor(max_depth=10, max_features=0.9325423505773145,\n",
       "                      max_leaf_nodes=96, min_samples_leaf=9,\n",
       "                      min_weight_fraction_leaf=0.49359743828640723,\n",
       "                      splitter='random')"
      ]
     },
     "execution_count": 4,
     "metadata": {},
     "output_type": "execute_result"
    }
   ],
   "source": [
    "from sklearn.tree import DecisionTreeRegressor\n",
    "from sklearn.neural_network import MLPRegressor\n",
    "from sklearn.ensemble import RandomForestRegressor\n",
    "from bayes_opt import BayesianOptimization\n",
    "\n",
    "\n",
    "params_ranges = {\n",
    "    'splitter': (0, 1),  # Numeric mapping of string values: 'best' -> 0, 'random' -> 1\n",
    "    'max_depth': (1, 20),\n",
    "    'min_samples_leaf': (1, 10),\n",
    "    'min_weight_fraction_leaf': (0.0, 0.5),\n",
    "    'max_features': (0.1, 1),\n",
    "    'max_leaf_nodes': (10, 100)\n",
    "}\n",
    "\n",
    "# Example usage with Decision Trees\n",
    "model = DecisionTreeRegressor\n",
    "dt_bo = BayesianOptimization(f=lambda splitter, max_depth, min_samples_leaf, min_weight_fraction_leaf,\n",
    "                                    max_features, max_leaf_nodes: bo_params_generic(model, {\n",
    "                                        'splitter': 'best' if splitter < 0.5 else 'random',\n",
    "                                        'max_depth': round(max_depth),\n",
    "                                        'min_samples_leaf': round(min_samples_leaf),\n",
    "                                        'min_weight_fraction_leaf': min_weight_fraction_leaf,\n",
    "                                        'max_features': max_features,\n",
    "                                        'max_leaf_nodes': round(max_leaf_nodes)\n",
    "                                    }, X_train, y_train),\n",
    "                             pbounds=params_ranges)\n",
    "\n",
    "results = dt_bo.maximize(n_iter=5, init_points=20)\n",
    "params = dt_bo.max['params']\n",
    "\n",
    "# Creating a model with the best hyperparameters\n",
    "best_model = model(\n",
    "    splitter='best' if params['splitter'] < 0.5 else 'random',\n",
    "    max_depth=int(round(params['max_depth'])),\n",
    "    min_samples_leaf=round(params['min_samples_leaf']),\n",
    "    min_weight_fraction_leaf=params['min_weight_fraction_leaf'],\n",
    "    max_features=params['max_features'],\n",
    "    max_leaf_nodes=int(round(params['max_leaf_nodes']))\n",
    ")\n",
    "\n",
    "# Fit the model\n",
    "best_model.fit(X_train, y_train)\n"
   ]
  },
  {
   "cell_type": "code",
   "execution_count": null,
   "metadata": {},
   "outputs": [],
   "source": [
    "# Append model to list\n",
    "all_models['Random forest'] = best_model"
   ]
  }
 ],
 "metadata": {
  "kernelspec": {
   "display_name": "Python 3",
   "language": "python",
   "name": "python3"
  },
  "language_info": {
   "codemirror_mode": {
    "name": "ipython",
    "version": 3
   },
   "file_extension": ".py",
   "mimetype": "text/x-python",
   "name": "python",
   "nbconvert_exporter": "python",
   "pygments_lexer": "ipython3",
   "version": "3.9.5"
  },
  "orig_nbformat": 4
 },
 "nbformat": 4,
 "nbformat_minor": 2
}
