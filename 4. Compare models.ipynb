{
 "cells": [
  {
   "cell_type": "code",
   "execution_count": 2,
   "metadata": {},
   "outputs": [],
   "source": [
    "from sklearn.datasets import make_regression\n",
    "\n",
    "# Generate regression toy data\n",
    "n_samples = 1000\n",
    "n_features = 5\n",
    "\n",
    "X, y = make_regression(n_samples=n_samples, n_features=n_features, random_state=42)\n",
    "\n",
    "# Split data into training and testing sets\n",
    "train_ratio = 0.8\n",
    "train_size = int(train_ratio * n_samples)\n",
    "\n",
    "X_train = X[:train_size]\n",
    "y_train = y[:train_size]\n",
    "\n",
    "# Test data\n",
    "X_test = X[train_size:]\n",
    "y_test = y[train_size:]"
   ]
  },
  {
   "cell_type": "code",
   "execution_count": 5,
   "metadata": {},
   "outputs": [],
   "source": [
    "from sklearn.model_selection import cross_val_score\n",
    "\n",
    "\n",
    "def bo_params_generic(model, params, X_train, y_train):\n",
    "    # Create the model instance with the specified parameters\n",
    "    regressor = model(**params)\n",
    "    \n",
    "    # Assuming you have X_train, y_train defined for regression\n",
    "    scores = cross_val_score(regressor, X_train, y_train, cv=10, scoring='neg_root_mean_squared_error')\n",
    "    return -scores.mean()"
   ]
  },
  {
   "cell_type": "code",
   "execution_count": 9,
   "metadata": {},
   "outputs": [],
   "source": [
    "all_models = {}"
   ]
  },
  {
   "attachments": {},
   "cell_type": "markdown",
   "metadata": {},
   "source": [
    "# Random Forest"
   ]
  },
  {
   "attachments": {},
   "cell_type": "markdown",
   "metadata": {},
   "source": [
    "**Feature selection**"
   ]
  },
  {
   "cell_type": "code",
   "execution_count": null,
   "metadata": {},
   "outputs": [],
   "source": []
  },
  {
   "attachments": {},
   "cell_type": "markdown",
   "metadata": {},
   "source": [
    "**Hyperparameter optimalisatie**"
   ]
  },
  {
   "cell_type": "code",
   "execution_count": 6,
   "metadata": {},
   "outputs": [
    {
     "name": "stdout",
     "output_type": "stream",
     "text": [
      "|   iter    |  target   | max_depth | max_fe... | max_le... | min_sa... | min_we... | splitter  |\n",
      "-------------------------------------------------------------------------------------------------\n",
      "| \u001b[0m1        \u001b[0m | \u001b[0m64.01    \u001b[0m | \u001b[0m12.57    \u001b[0m | \u001b[0m0.1446   \u001b[0m | \u001b[0m77.06    \u001b[0m | \u001b[0m2.398    \u001b[0m | \u001b[0m0.2613   \u001b[0m | \u001b[0m0.9289   \u001b[0m |\n",
      "| \u001b[0m2        \u001b[0m | \u001b[0m58.44    \u001b[0m | \u001b[0m8.551    \u001b[0m | \u001b[0m0.6838   \u001b[0m | \u001b[0m33.33    \u001b[0m | \u001b[0m3.446    \u001b[0m | \u001b[0m0.1171   \u001b[0m | \u001b[0m0.6876   \u001b[0m |\n",
      "| \u001b[0m3        \u001b[0m | \u001b[0m57.91    \u001b[0m | \u001b[0m3.285    \u001b[0m | \u001b[0m0.9585   \u001b[0m | \u001b[0m34.65    \u001b[0m | \u001b[0m2.952    \u001b[0m | \u001b[0m0.258    \u001b[0m | \u001b[0m0.8719   \u001b[0m |\n",
      "| \u001b[0m4        \u001b[0m | \u001b[0m62.84    \u001b[0m | \u001b[0m19.14    \u001b[0m | \u001b[0m0.8052   \u001b[0m | \u001b[0m20.08    \u001b[0m | \u001b[0m1.248    \u001b[0m | \u001b[0m0.3745   \u001b[0m | \u001b[0m0.8301   \u001b[0m |\n",
      "| \u001b[0m5        \u001b[0m | \u001b[0m42.8     \u001b[0m | \u001b[0m6.383    \u001b[0m | \u001b[0m0.9121   \u001b[0m | \u001b[0m85.0     \u001b[0m | \u001b[0m9.198    \u001b[0m | \u001b[0m0.01511  \u001b[0m | \u001b[0m0.8201   \u001b[0m |\n",
      "| \u001b[0m6        \u001b[0m | \u001b[0m58.14    \u001b[0m | \u001b[0m8.745    \u001b[0m | \u001b[0m0.2175   \u001b[0m | \u001b[0m57.97    \u001b[0m | \u001b[0m4.526    \u001b[0m | \u001b[0m0.2292   \u001b[0m | \u001b[0m0.1572   \u001b[0m |\n",
      "| \u001b[0m7        \u001b[0m | \u001b[0m54.93    \u001b[0m | \u001b[0m14.29    \u001b[0m | \u001b[0m0.1635   \u001b[0m | \u001b[0m51.11    \u001b[0m | \u001b[0m7.019    \u001b[0m | \u001b[0m0.1587   \u001b[0m | \u001b[0m0.275    \u001b[0m |\n",
      "| \u001b[0m8        \u001b[0m | \u001b[0m56.08    \u001b[0m | \u001b[0m13.41    \u001b[0m | \u001b[0m0.3325   \u001b[0m | \u001b[0m70.84    \u001b[0m | \u001b[0m3.912    \u001b[0m | \u001b[0m0.2247   \u001b[0m | \u001b[0m0.1838   \u001b[0m |\n",
      "| \u001b[0m9        \u001b[0m | \u001b[0m58.91    \u001b[0m | \u001b[0m4.297    \u001b[0m | \u001b[0m0.7576   \u001b[0m | \u001b[0m98.05    \u001b[0m | \u001b[0m4.528    \u001b[0m | \u001b[0m0.1413   \u001b[0m | \u001b[0m0.577    \u001b[0m |\n",
      "| \u001b[0m10       \u001b[0m | \u001b[0m48.85    \u001b[0m | \u001b[0m17.9     \u001b[0m | \u001b[0m0.6233   \u001b[0m | \u001b[0m40.3     \u001b[0m | \u001b[0m9.905    \u001b[0m | \u001b[0m0.1832   \u001b[0m | \u001b[0m0.213    \u001b[0m |\n",
      "| \u001b[0m11       \u001b[0m | \u001b[0m63.95    \u001b[0m | \u001b[0m11.83    \u001b[0m | \u001b[0m0.1104   \u001b[0m | \u001b[0m90.83    \u001b[0m | \u001b[0m9.877    \u001b[0m | \u001b[0m0.3485   \u001b[0m | \u001b[0m0.9518   \u001b[0m |\n",
      "| \u001b[0m12       \u001b[0m | \u001b[0m62.61    \u001b[0m | \u001b[0m3.334    \u001b[0m | \u001b[0m0.9951   \u001b[0m | \u001b[0m87.51    \u001b[0m | \u001b[0m9.06     \u001b[0m | \u001b[0m0.4484   \u001b[0m | \u001b[0m0.7777   \u001b[0m |\n",
      "| \u001b[0m13       \u001b[0m | \u001b[0m56.37    \u001b[0m | \u001b[0m19.45    \u001b[0m | \u001b[0m0.663    \u001b[0m | \u001b[0m37.33    \u001b[0m | \u001b[0m1.99     \u001b[0m | \u001b[0m0.1023   \u001b[0m | \u001b[0m0.8286   \u001b[0m |\n",
      "| \u001b[0m14       \u001b[0m | \u001b[0m58.14    \u001b[0m | \u001b[0m13.25    \u001b[0m | \u001b[0m0.3906   \u001b[0m | \u001b[0m94.44    \u001b[0m | \u001b[0m7.85     \u001b[0m | \u001b[0m0.3061   \u001b[0m | \u001b[0m0.2952   \u001b[0m |\n",
      "| \u001b[0m15       \u001b[0m | \u001b[0m45.26    \u001b[0m | \u001b[0m6.774    \u001b[0m | \u001b[0m0.1254   \u001b[0m | \u001b[0m68.48    \u001b[0m | \u001b[0m7.827    \u001b[0m | \u001b[0m0.02204  \u001b[0m | \u001b[0m0.4053   \u001b[0m |\n",
      "| \u001b[0m16       \u001b[0m | \u001b[0m57.12    \u001b[0m | \u001b[0m18.42    \u001b[0m | \u001b[0m0.1436   \u001b[0m | \u001b[0m59.7     \u001b[0m | \u001b[0m3.83     \u001b[0m | \u001b[0m0.234    \u001b[0m | \u001b[0m0.222    \u001b[0m |\n",
      "| \u001b[0m17       \u001b[0m | \u001b[0m62.93    \u001b[0m | \u001b[0m4.478    \u001b[0m | \u001b[0m0.173    \u001b[0m | \u001b[0m72.29    \u001b[0m | \u001b[0m6.554    \u001b[0m | \u001b[0m0.138    \u001b[0m | \u001b[0m0.6643   \u001b[0m |\n",
      "| \u001b[95m18       \u001b[0m | \u001b[95m64.51    \u001b[0m | \u001b[95m11.91    \u001b[0m | \u001b[95m0.2014   \u001b[0m | \u001b[95m85.98    \u001b[0m | \u001b[95m4.232    \u001b[0m | \u001b[95m0.4742   \u001b[0m | \u001b[95m0.7093   \u001b[0m |\n",
      "| \u001b[0m19       \u001b[0m | \u001b[0m61.81    \u001b[0m | \u001b[0m1.453    \u001b[0m | \u001b[0m0.2353   \u001b[0m | \u001b[0m71.62    \u001b[0m | \u001b[0m9.805    \u001b[0m | \u001b[0m0.01888  \u001b[0m | \u001b[0m0.3761   \u001b[0m |\n",
      "| \u001b[0m20       \u001b[0m | \u001b[0m56.15    \u001b[0m | \u001b[0m13.04    \u001b[0m | \u001b[0m0.7429   \u001b[0m | \u001b[0m35.0     \u001b[0m | \u001b[0m6.245    \u001b[0m | \u001b[0m0.3851   \u001b[0m | \u001b[0m0.478    \u001b[0m |\n",
      "| \u001b[0m21       \u001b[0m | \u001b[0m47.82    \u001b[0m | \u001b[0m6.612    \u001b[0m | \u001b[0m0.6267   \u001b[0m | \u001b[0m97.53    \u001b[0m | \u001b[0m8.238    \u001b[0m | \u001b[0m0.02197  \u001b[0m | \u001b[0m0.7502   \u001b[0m |\n",
      "| \u001b[0m22       \u001b[0m | \u001b[0m55.53    \u001b[0m | \u001b[0m4.399    \u001b[0m | \u001b[0m0.6597   \u001b[0m | \u001b[0m88.53    \u001b[0m | \u001b[0m5.686    \u001b[0m | \u001b[0m0.3579   \u001b[0m | \u001b[0m0.1598   \u001b[0m |\n",
      "| \u001b[0m23       \u001b[0m | \u001b[0m53.29    \u001b[0m | \u001b[0m7.697    \u001b[0m | \u001b[0m0.8268   \u001b[0m | \u001b[0m46.51    \u001b[0m | \u001b[0m2.685    \u001b[0m | \u001b[0m0.4325   \u001b[0m | \u001b[0m0.07854  \u001b[0m |\n",
      "| \u001b[0m24       \u001b[0m | \u001b[0m58.93    \u001b[0m | \u001b[0m14.65    \u001b[0m | \u001b[0m0.3059   \u001b[0m | \u001b[0m37.53    \u001b[0m | \u001b[0m6.027    \u001b[0m | \u001b[0m0.2841   \u001b[0m | \u001b[0m0.2978   \u001b[0m |\n",
      "| \u001b[0m25       \u001b[0m | \u001b[0m62.23    \u001b[0m | \u001b[0m10.39    \u001b[0m | \u001b[0m0.3359   \u001b[0m | \u001b[0m17.12    \u001b[0m | \u001b[0m8.3      \u001b[0m | \u001b[0m0.04619  \u001b[0m | \u001b[0m0.729    \u001b[0m |\n",
      "=================================================================================================\n"
     ]
    },
    {
     "data": {
      "text/html": [
       "<style>#sk-container-id-2 {color: black;background-color: white;}#sk-container-id-2 pre{padding: 0;}#sk-container-id-2 div.sk-toggleable {background-color: white;}#sk-container-id-2 label.sk-toggleable__label {cursor: pointer;display: block;width: 100%;margin-bottom: 0;padding: 0.3em;box-sizing: border-box;text-align: center;}#sk-container-id-2 label.sk-toggleable__label-arrow:before {content: \"▸\";float: left;margin-right: 0.25em;color: #696969;}#sk-container-id-2 label.sk-toggleable__label-arrow:hover:before {color: black;}#sk-container-id-2 div.sk-estimator:hover label.sk-toggleable__label-arrow:before {color: black;}#sk-container-id-2 div.sk-toggleable__content {max-height: 0;max-width: 0;overflow: hidden;text-align: left;background-color: #f0f8ff;}#sk-container-id-2 div.sk-toggleable__content pre {margin: 0.2em;color: black;border-radius: 0.25em;background-color: #f0f8ff;}#sk-container-id-2 input.sk-toggleable__control:checked~div.sk-toggleable__content {max-height: 200px;max-width: 100%;overflow: auto;}#sk-container-id-2 input.sk-toggleable__control:checked~label.sk-toggleable__label-arrow:before {content: \"▾\";}#sk-container-id-2 div.sk-estimator input.sk-toggleable__control:checked~label.sk-toggleable__label {background-color: #d4ebff;}#sk-container-id-2 div.sk-label input.sk-toggleable__control:checked~label.sk-toggleable__label {background-color: #d4ebff;}#sk-container-id-2 input.sk-hidden--visually {border: 0;clip: rect(1px 1px 1px 1px);clip: rect(1px, 1px, 1px, 1px);height: 1px;margin: -1px;overflow: hidden;padding: 0;position: absolute;width: 1px;}#sk-container-id-2 div.sk-estimator {font-family: monospace;background-color: #f0f8ff;border: 1px dotted black;border-radius: 0.25em;box-sizing: border-box;margin-bottom: 0.5em;}#sk-container-id-2 div.sk-estimator:hover {background-color: #d4ebff;}#sk-container-id-2 div.sk-parallel-item::after {content: \"\";width: 100%;border-bottom: 1px solid gray;flex-grow: 1;}#sk-container-id-2 div.sk-label:hover label.sk-toggleable__label {background-color: #d4ebff;}#sk-container-id-2 div.sk-serial::before {content: \"\";position: absolute;border-left: 1px solid gray;box-sizing: border-box;top: 0;bottom: 0;left: 50%;z-index: 0;}#sk-container-id-2 div.sk-serial {display: flex;flex-direction: column;align-items: center;background-color: white;padding-right: 0.2em;padding-left: 0.2em;position: relative;}#sk-container-id-2 div.sk-item {position: relative;z-index: 1;}#sk-container-id-2 div.sk-parallel {display: flex;align-items: stretch;justify-content: center;background-color: white;position: relative;}#sk-container-id-2 div.sk-item::before, #sk-container-id-2 div.sk-parallel-item::before {content: \"\";position: absolute;border-left: 1px solid gray;box-sizing: border-box;top: 0;bottom: 0;left: 50%;z-index: -1;}#sk-container-id-2 div.sk-parallel-item {display: flex;flex-direction: column;z-index: 1;position: relative;background-color: white;}#sk-container-id-2 div.sk-parallel-item:first-child::after {align-self: flex-end;width: 50%;}#sk-container-id-2 div.sk-parallel-item:last-child::after {align-self: flex-start;width: 50%;}#sk-container-id-2 div.sk-parallel-item:only-child::after {width: 0;}#sk-container-id-2 div.sk-dashed-wrapped {border: 1px dashed gray;margin: 0 0.4em 0.5em 0.4em;box-sizing: border-box;padding-bottom: 0.4em;background-color: white;}#sk-container-id-2 div.sk-label label {font-family: monospace;font-weight: bold;display: inline-block;line-height: 1.2em;}#sk-container-id-2 div.sk-label-container {text-align: center;}#sk-container-id-2 div.sk-container {/* jupyter's `normalize.less` sets `[hidden] { display: none; }` but bootstrap.min.css set `[hidden] { display: none !important; }` so we also need the `!important` here to be able to override the default hidden behavior on the sphinx rendered scikit-learn.org. See: https://github.com/scikit-learn/scikit-learn/issues/21755 */display: inline-block !important;position: relative;}#sk-container-id-2 div.sk-text-repr-fallback {display: none;}</style><div id=\"sk-container-id-2\" class=\"sk-top-container\"><div class=\"sk-text-repr-fallback\"><pre>DecisionTreeRegressor(max_depth=12, max_features=0.20137628543170694,\n",
       "                      max_leaf_nodes=86, min_samples_leaf=4,\n",
       "                      min_weight_fraction_leaf=0.4742091109198674,\n",
       "                      splitter=&#x27;random&#x27;)</pre><b>In a Jupyter environment, please rerun this cell to show the HTML representation or trust the notebook. <br />On GitHub, the HTML representation is unable to render, please try loading this page with nbviewer.org.</b></div><div class=\"sk-container\" hidden><div class=\"sk-item\"><div class=\"sk-estimator sk-toggleable\"><input class=\"sk-toggleable__control sk-hidden--visually\" id=\"sk-estimator-id-2\" type=\"checkbox\" checked><label for=\"sk-estimator-id-2\" class=\"sk-toggleable__label sk-toggleable__label-arrow\">DecisionTreeRegressor</label><div class=\"sk-toggleable__content\"><pre>DecisionTreeRegressor(max_depth=12, max_features=0.20137628543170694,\n",
       "                      max_leaf_nodes=86, min_samples_leaf=4,\n",
       "                      min_weight_fraction_leaf=0.4742091109198674,\n",
       "                      splitter=&#x27;random&#x27;)</pre></div></div></div></div></div>"
      ],
      "text/plain": [
       "DecisionTreeRegressor(max_depth=12, max_features=0.20137628543170694,\n",
       "                      max_leaf_nodes=86, min_samples_leaf=4,\n",
       "                      min_weight_fraction_leaf=0.4742091109198674,\n",
       "                      splitter='random')"
      ]
     },
     "execution_count": 6,
     "metadata": {},
     "output_type": "execute_result"
    }
   ],
   "source": [
    "from sklearn.tree import DecisionTreeRegressor\n",
    "from sklearn.neural_network import MLPRegressor\n",
    "from sklearn.ensemble import RandomForestRegressor\n",
    "from bayes_opt import BayesianOptimization\n",
    "\n",
    "\n",
    "params_ranges = {\n",
    "    'splitter': (0, 1),  # Numeric mapping of string values: 'best' -> 0, 'random' -> 1\n",
    "    'max_depth': (1, 20),\n",
    "    'min_samples_leaf': (1, 10),\n",
    "    'min_weight_fraction_leaf': (0.0, 0.5),\n",
    "    'max_features': (0.1, 1),\n",
    "    'max_leaf_nodes': (10, 100)\n",
    "}\n",
    "\n",
    "# Example usage with Decision Trees\n",
    "model = DecisionTreeRegressor\n",
    "dt_bo = BayesianOptimization(f=lambda splitter, max_depth, min_samples_leaf, min_weight_fraction_leaf,\n",
    "                                    max_features, max_leaf_nodes: bo_params_generic(model, {\n",
    "                                        'splitter': 'best' if splitter < 0.5 else 'random',\n",
    "                                        'max_depth': round(max_depth),\n",
    "                                        'min_samples_leaf': round(min_samples_leaf),\n",
    "                                        'min_weight_fraction_leaf': min_weight_fraction_leaf,\n",
    "                                        'max_features': max_features,\n",
    "                                        'max_leaf_nodes': round(max_leaf_nodes)\n",
    "                                    }, X_train, y_train),\n",
    "                             pbounds=params_ranges)\n",
    "\n",
    "results = dt_bo.maximize(n_iter=5, init_points=20)\n",
    "params = dt_bo.max['params']\n",
    "\n",
    "# Creating a model with the best hyperparameters\n",
    "best_model = model(\n",
    "    splitter='best' if params['splitter'] < 0.5 else 'random',\n",
    "    max_depth=int(round(params['max_depth'])),\n",
    "    min_samples_leaf=round(params['min_samples_leaf']),\n",
    "    min_weight_fraction_leaf=params['min_weight_fraction_leaf'],\n",
    "    max_features=params['max_features'],\n",
    "    max_leaf_nodes=int(round(params['max_leaf_nodes']))\n",
    ")\n",
    "\n",
    "# Fit the model\n",
    "best_model.fit(X_train, y_train)\n"
   ]
  },
  {
   "cell_type": "code",
   "execution_count": null,
   "metadata": {},
   "outputs": [],
   "source": [
    "# Append model to list\n",
    "all_models['Random forest'] = best_model"
   ]
  }
 ],
 "metadata": {
  "kernelspec": {
   "display_name": "Python 3",
   "language": "python",
   "name": "python3"
  },
  "language_info": {
   "codemirror_mode": {
    "name": "ipython",
    "version": 3
   },
   "file_extension": ".py",
   "mimetype": "text/x-python",
   "name": "python",
   "nbconvert_exporter": "python",
   "pygments_lexer": "ipython3",
   "version": "3.9.5"
  },
  "orig_nbformat": 4
 },
 "nbformat": 4,
 "nbformat_minor": 2
}
