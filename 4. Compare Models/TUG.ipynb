{
 "cells": [
  {
   "attachments": {},
   "cell_type": "markdown",
   "metadata": {},
   "source": [
    "# General Imports"
   ]
  },
  {
   "attachments": {},
   "cell_type": "markdown",
   "metadata": {},
   "source": [
    "**Importing all libraries**"
   ]
  },
  {
   "cell_type": "code",
   "execution_count": 9,
   "metadata": {},
   "outputs": [],
   "source": [
    "import numpy as np\n",
    "import pandas as pd\n",
    "import warnings\n",
    "\n",
    "import plotly.graph_objects as go\n",
    "from bayes_opt import BayesianOptimization\n",
    "import statsmodels.api as sm\n",
    "\n",
    "from sklearn.model_selection import cross_val_score, train_test_split\n",
    "from sklearn.linear_model import LinearRegression\n",
    "from sklearn.svm import SVR\n",
    "from sklearn.model_selection import cross_val_predict\n",
    "from sklearn.ensemble import RandomForestRegressor\n",
    "from sklearn.neural_network import MLPRegressor\n",
    "from sklearn.metrics import r2_score, mean_squared_error, mean_absolute_error\n",
    "from sklearn.inspection import permutation_importance"
   ]
  },
  {
   "attachments": {},
   "cell_type": "markdown",
   "metadata": {},
   "source": [
    "Disable warnings"
   ]
  },
  {
   "cell_type": "code",
   "execution_count": 10,
   "metadata": {},
   "outputs": [],
   "source": [
    "# Disable all warnings\n",
    "warnings.filterwarnings(\"ignore\")\n",
    "\n",
    "# Enable warnings again\n",
    "## warnings.filterwarnings(\"default\")"
   ]
  },
  {
   "attachments": {},
   "cell_type": "markdown",
   "metadata": {},
   "source": [
    "Generate train and test data"
   ]
  },
  {
   "cell_type": "code",
   "execution_count": 11,
   "metadata": {},
   "outputs": [],
   "source": [
    "# Read Data\n",
    "df = pd.read_csv(\"data_finish_prep.csv\")\n",
    "\n",
    "# Select only the usefull part of the df\n",
    "df.drop(columns=['verschil_Lengte',\n",
    "               'verschil_6 MWT', 'verschil_Gewicht',\n",
    "               'verschil_BMI', 'verschil_Conditie',\n",
    "               'verschil_Lenigheid', 'verschil_Knijpkracht'], inplace=True)\n",
    "\n",
    "# Drop NaN values\n",
    "df.dropna(inplace=True)\n",
    "\n",
    "# Define X and y\n",
    "X = df.drop(columns=['verschil_TUG'])\n",
    "y = df['verschil_TUG']\n",
    "\n",
    "# Split data into train & test data\n",
    "X_train, X_test, y_train, y_test = train_test_split(X, y, test_size=0.2, random_state=42)"
   ]
  },
  {
   "cell_type": "code",
   "execution_count": 12,
   "metadata": {},
   "outputs": [],
   "source": [
    "def bo_params_generic(model, params, X_train, y_train):\n",
    "    # Create the model instance with the specified parameters\n",
    "    regressor = model(**params)\n",
    "    \n",
    "    # Assuming you have X_train, y_train defined for regression\n",
    "    scores = cross_val_score(regressor, X_train, y_train, cv=10, scoring='neg_root_mean_squared_error')\n",
    "    return -scores.mean()"
   ]
  },
  {
   "attachments": {},
   "cell_type": "markdown",
   "metadata": {},
   "source": [
    "# MLR"
   ]
  },
  {
   "attachments": {},
   "cell_type": "markdown",
   "metadata": {},
   "source": [
    "**feature selection**"
   ]
  },
  {
   "cell_type": "code",
   "execution_count": 13,
   "metadata": {},
   "outputs": [
    {
     "name": "stdout",
     "output_type": "stream",
     "text": [
      "Best features: ['AfstandTotHuisartsenpraktijk', 'AfstandTotCafetariaED', 'AfstandTotOpenNatTerreinTotaal', 'AfstandTotVerblijfsrecreatiefTerrein', 'AfstandTotPoppodium', 'AfstandTotZonnebank', 'ErvarenGezondheidGoedZeerGoed', 'EenOfMeerLangdurigeAandoeningen', 'MatigOvergewicht']\n",
      "Dropped features: ['AfstandTotOpenDroogNatTerrein', 'AfstandTotOpenbaarGroenTotaal', 'ErnstigOvergewichtObesitas', 'AfstandTotKunstijsbaan', 'GemiddeldeWoningwaarde', 'VoldoetAanBeweegrichtlijn', 'AfstandTotHuisartsenpost', 'AfstandTotVolkstuin', 'AfstandTotSportterrein', 'AfstandTotBegraafplaats', 'VoldoetAanRichtlijnAlcoholgebruik', 'OppervlakteWater', 'AfstandTotRestaurant', 'AfstandTotBibliotheek', 'InBezitWoningcorporatie', 'EigendomOnbekend', 'AfstandTotApotheek', 'ALandbouwBosbouwEnVisserij', 'Rokers', 'AfstandTotBrandweerkazerne', 'PercentageOnbewoond', 'AfstandTotHotelED', 'AfstandTotBioscoop', 'PersonenautoSNaarOppervlakte', 'VernielingMisdrijfTegenOpenbareOrde', 'AfstandTotCafeED', 'AfstandTotBos', 'UrenMantelzorgPerWeek', 'AfstandTotPodiumkunstenTotaal', 'AfstandTotTreinstationsTotaal', 'AfstandTotOvDagelLevensmiddelen', 'PersonenautoSOverigeBrandstof', 'InBezitOverigeVerhuurders', 'AfstandTotWarenhuis', 'AfstandTotSauna', 'Mantelzorger', 'TotaalDiefstalUitWoningSchuurED', 'AfstandTotBelangrijkOverstapstation', 'BeperkingInHoren', 'AfstandTotKinderdagverblijf', 'AfstandTotSemiOpenbaarGroenTotaal', 'KLFinancieleDienstenOnroerendGoed', 'BeperkingInZien', 'AfstandTotBuitenschoolseOpvang', 'AfstandTotDagrecreatiefTerrein', 'AfstandTotSchool', 'SterfteRelatief', 'kPersonenMetLaagsteInkomen', 'GeweldsEnSeksueleMisdrijven', 'OvermatigDrinker', 'Ondergewicht', 'AfstandTotMuseum', 'ZwaarBelasteMantelzorgers', 'GeboorteRelatief', 'AfstandTotZwembad', 'NederlandseAntillenEnAruba', 'PersonenautoSPerHuishouden', 'AfstandTotOpenNatNatuurlijkTerrein', 'AfstandTotAttractie', 'BouwjaarVanaf2000', 'AfstandTotConsultatiebureau']\n"
     ]
    }
   ],
   "source": [
    "# Fit the Full Model\n",
    "X =  sm.add_constant(X_train)  # Add constant term for the intercept\n",
    "model = sm.OLS(y_train, X_train).fit()  # Fit the MLR model\n",
    "best_model = model  # Initialize the best model\n",
    "selected_features = X_train.columns.tolist()\n",
    "best_features = X_train.columns.tolist()\n",
    "best_features_rmse = np.sqrt(-cross_val_score(LinearRegression(), X_train, y_train, cv=10, scoring='neg_mean_squared_error').mean())\n",
    "\n",
    "# Iteratively remove one feature at a time based on p-values\n",
    "while True:\n",
    "    # Compute p-values\n",
    "    p_values = model.pvalues[1:]  # Exclude the constant term\n",
    "\n",
    "    # Identify Insignificant Features\n",
    "    insignificant_feature = p_values.idxmax()\n",
    "    max_p_value = p_values.max()\n",
    "\n",
    "    # Remove Insignificant Feature\n",
    "    X = X.drop(insignificant_feature, axis=1)\n",
    "    selected_features.remove(insignificant_feature)\n",
    "\n",
    "    # When there a no features left\n",
    "    if len(selected_features) == 0:\n",
    "        break\n",
    "    \n",
    "    # Refit the Model\n",
    "    model = sm.OLS(y_train, X).fit()\n",
    "    \n",
    "    # Evaluate Model Performance\n",
    "    rmse = np.sqrt(-cross_val_score(LinearRegression(), X_train[selected_features], y_train, cv=10, scoring='neg_mean_squared_error').mean())\n",
    "\n",
    "    # Check if the model performs better without the insignificant features\n",
    "    if rmse <= best_features_rmse:\n",
    "        best_features_rmse = rmse\n",
    "        best_features = selected_features.copy()\n",
    "        best_model = model\n",
    "\n",
    "# Save results\n",
    "best_model_mlr = LinearRegression().fit(X_train[best_features], y_train)\n",
    "best_features_mlr = best_features\n",
    "\n",
    "# Show results\n",
    "print(\"Best features:\", best_features)\n",
    "print(\"Dropped features:\", list(set(X_train.columns.tolist()) - set(best_features)))"
   ]
  },
  {
   "attachments": {},
   "cell_type": "markdown",
   "metadata": {},
   "source": [
    "*Er zijn geen hyperparameters om te optimaliseren.*"
   ]
  },
  {
   "attachments": {},
   "cell_type": "markdown",
   "metadata": {},
   "source": [
    "# Support Vector Machines"
   ]
  },
  {
   "attachments": {},
   "cell_type": "markdown",
   "metadata": {},
   "source": [
    "**Hyperparameter optimalisatie**"
   ]
  },
  {
   "cell_type": "code",
   "execution_count": 14,
   "metadata": {},
   "outputs": [
    {
     "name": "stdout",
     "output_type": "stream",
     "text": [
      "|   iter    |  target   |     C     |   gamma   | kernel... |\n",
      "-------------------------------------------------------------\n"
     ]
    },
    {
     "name": "stdout",
     "output_type": "stream",
     "text": [
      "| \u001b[0m1        \u001b[0m | \u001b[0m-1.597   \u001b[0m | \u001b[0m6.867    \u001b[0m | \u001b[0m0.09667  \u001b[0m | \u001b[0m1.501    \u001b[0m |\n",
      "| \u001b[95m2        \u001b[0m | \u001b[95m-1.592   \u001b[0m | \u001b[95m1.652    \u001b[0m | \u001b[95m0.04881  \u001b[0m | \u001b[95m2.119    \u001b[0m |\n",
      "| \u001b[0m3        \u001b[0m | \u001b[0m-1.594   \u001b[0m | \u001b[0m3.027    \u001b[0m | \u001b[0m0.03789  \u001b[0m | \u001b[0m3.982    \u001b[0m |\n",
      "| \u001b[95m4        \u001b[0m | \u001b[95m-1.589   \u001b[0m | \u001b[95m4.279    \u001b[0m | \u001b[95m0.03372  \u001b[0m | \u001b[95m2.418    \u001b[0m |\n",
      "| \u001b[0m5        \u001b[0m | \u001b[0m-1.597   \u001b[0m | \u001b[0m8.404    \u001b[0m | \u001b[0m0.08358  \u001b[0m | \u001b[0m1.021    \u001b[0m |\n",
      "| \u001b[0m6        \u001b[0m | \u001b[0m-1.593   \u001b[0m | \u001b[0m9.647    \u001b[0m | \u001b[0m0.05252  \u001b[0m | \u001b[0m2.492    \u001b[0m |\n",
      "| \u001b[0m7        \u001b[0m | \u001b[0m-1.593   \u001b[0m | \u001b[0m9.087    \u001b[0m | \u001b[0m0.004731 \u001b[0m | \u001b[0m3.018    \u001b[0m |\n",
      "| \u001b[0m8        \u001b[0m | \u001b[0m-1.594   \u001b[0m | \u001b[0m1.902    \u001b[0m | \u001b[0m0.02902  \u001b[0m | \u001b[0m1.1      \u001b[0m |\n",
      "| \u001b[0m9        \u001b[0m | \u001b[0m-1.599   \u001b[0m | \u001b[0m9.795    \u001b[0m | \u001b[0m0.0921   \u001b[0m | \u001b[0m1.357    \u001b[0m |\n",
      "| \u001b[0m10       \u001b[0m | \u001b[0m-1.59    \u001b[0m | \u001b[0m1.673    \u001b[0m | \u001b[0m0.07138  \u001b[0m | \u001b[0m2.728    \u001b[0m |\n",
      "| \u001b[0m11       \u001b[0m | \u001b[0m-1.592   \u001b[0m | \u001b[0m3.292    \u001b[0m | \u001b[0m0.1      \u001b[0m | \u001b[0m2.219    \u001b[0m |\n",
      "| \u001b[0m12       \u001b[0m | \u001b[0m-1.649   \u001b[0m | \u001b[0m4.955    \u001b[0m | \u001b[0m0.001    \u001b[0m | \u001b[0m3.243    \u001b[0m |\n",
      "| \u001b[0m13       \u001b[0m | \u001b[0m-1.598   \u001b[0m | \u001b[0m3.95     \u001b[0m | \u001b[0m0.05784  \u001b[0m | \u001b[0m1.926    \u001b[0m |\n",
      "| \u001b[0m14       \u001b[0m | \u001b[0m-1.591   \u001b[0m | \u001b[0m2.368    \u001b[0m | \u001b[0m0.07947  \u001b[0m | \u001b[0m2.446    \u001b[0m |\n",
      "| \u001b[0m15       \u001b[0m | \u001b[0m-1.6     \u001b[0m | \u001b[0m3.034    \u001b[0m | \u001b[0m0.06235  \u001b[0m | \u001b[0m3.033    \u001b[0m |\n",
      "| \u001b[0m16       \u001b[0m | \u001b[0m-1.599   \u001b[0m | \u001b[0m9.54     \u001b[0m | \u001b[0m0.05163  \u001b[0m | \u001b[0m1.552    \u001b[0m |\n",
      "| \u001b[0m17       \u001b[0m | \u001b[0m-1.59    \u001b[0m | \u001b[0m4.291    \u001b[0m | \u001b[0m0.03984  \u001b[0m | \u001b[0m2.357    \u001b[0m |\n",
      "| \u001b[0m18       \u001b[0m | \u001b[0m-1.591   \u001b[0m | \u001b[0m1.768    \u001b[0m | \u001b[0m0.01671  \u001b[0m | \u001b[0m3.818    \u001b[0m |\n",
      "| \u001b[0m19       \u001b[0m | \u001b[0m-1.598   \u001b[0m | \u001b[0m9.231    \u001b[0m | \u001b[0m0.03787  \u001b[0m | \u001b[0m1.362    \u001b[0m |\n",
      "| \u001b[0m20       \u001b[0m | \u001b[0m-1.595   \u001b[0m | \u001b[0m3.608    \u001b[0m | \u001b[0m0.05017  \u001b[0m | \u001b[0m3.226    \u001b[0m |\n",
      "| \u001b[0m21       \u001b[0m | \u001b[0m-1.614   \u001b[0m | \u001b[0m6.781    \u001b[0m | \u001b[0m0.09669  \u001b[0m | \u001b[0m3.492    \u001b[0m |\n",
      "| \u001b[0m22       \u001b[0m | \u001b[0m-1.599   \u001b[0m | \u001b[0m0.6885   \u001b[0m | \u001b[0m0.1      \u001b[0m | \u001b[0m3.43     \u001b[0m |\n",
      "| \u001b[0m23       \u001b[0m | \u001b[0m-1.615   \u001b[0m | \u001b[0m10.0     \u001b[0m | \u001b[0m0.1      \u001b[0m | \u001b[0m3.734    \u001b[0m |\n",
      "| \u001b[0m24       \u001b[0m | \u001b[0m-1.593   \u001b[0m | \u001b[0m8.386    \u001b[0m | \u001b[0m0.001    \u001b[0m | \u001b[0m2.329    \u001b[0m |\n",
      "| \u001b[0m25       \u001b[0m | \u001b[0m-1.593   \u001b[0m | \u001b[0m0.5936   \u001b[0m | \u001b[0m0.001    \u001b[0m | \u001b[0m1.252    \u001b[0m |\n",
      "| \u001b[0m26       \u001b[0m | \u001b[0m-1.595   \u001b[0m | \u001b[0m0.1275   \u001b[0m | \u001b[0m0.005631 \u001b[0m | \u001b[0m2.214    \u001b[0m |\n",
      "| \u001b[0m27       \u001b[0m | \u001b[0m-1.595   \u001b[0m | \u001b[0m2.783    \u001b[0m | \u001b[0m0.07195  \u001b[0m | \u001b[0m1.379    \u001b[0m |\n",
      "| \u001b[0m28       \u001b[0m | \u001b[0m-1.597   \u001b[0m | \u001b[0m5.626    \u001b[0m | \u001b[0m0.001    \u001b[0m | \u001b[0m1.0      \u001b[0m |\n",
      "| \u001b[0m29       \u001b[0m | \u001b[0m-1.594   \u001b[0m | \u001b[0m9.66     \u001b[0m | \u001b[0m0.06093  \u001b[0m | \u001b[0m2.498    \u001b[0m |\n",
      "| \u001b[0m30       \u001b[0m | \u001b[0m-1.594   \u001b[0m | \u001b[0m8.344    \u001b[0m | \u001b[0m0.001    \u001b[0m | \u001b[0m4.0      \u001b[0m |\n",
      "| \u001b[0m31       \u001b[0m | \u001b[0m-1.614   \u001b[0m | \u001b[0m8.195    \u001b[0m | \u001b[0m0.1      \u001b[0m | \u001b[0m3.153    \u001b[0m |\n",
      "| \u001b[0m32       \u001b[0m | \u001b[0m-1.592   \u001b[0m | \u001b[0m0.9365   \u001b[0m | \u001b[0m0.09727  \u001b[0m | \u001b[0m2.151    \u001b[0m |\n",
      "| \u001b[0m33       \u001b[0m | \u001b[0m-1.596   \u001b[0m | \u001b[0m8.959    \u001b[0m | \u001b[0m0.08221  \u001b[0m | \u001b[0m2.177    \u001b[0m |\n",
      "| \u001b[0m34       \u001b[0m | \u001b[0m-1.597   \u001b[0m | \u001b[0m7.789    \u001b[0m | \u001b[0m0.009331 \u001b[0m | \u001b[0m1.751    \u001b[0m |\n",
      "| \u001b[0m35       \u001b[0m | \u001b[0m-1.606   \u001b[0m | \u001b[0m2.137    \u001b[0m | \u001b[0m0.1      \u001b[0m | \u001b[0m3.284    \u001b[0m |\n",
      "| \u001b[0m36       \u001b[0m | \u001b[0m-1.591   \u001b[0m | \u001b[0m3.806    \u001b[0m | \u001b[0m0.06389  \u001b[0m | \u001b[0m2.569    \u001b[0m |\n",
      "| \u001b[0m37       \u001b[0m | \u001b[0m-1.593   \u001b[0m | \u001b[0m1.176    \u001b[0m | \u001b[0m0.05737  \u001b[0m | \u001b[0m3.998    \u001b[0m |\n",
      "| \u001b[0m38       \u001b[0m | \u001b[0m-1.59    \u001b[0m | \u001b[0m2.956    \u001b[0m | \u001b[0m0.05152  \u001b[0m | \u001b[0m2.722    \u001b[0m |\n",
      "| \u001b[0m39       \u001b[0m | \u001b[0m-1.593   \u001b[0m | \u001b[0m1.25     \u001b[0m | \u001b[0m0.1      \u001b[0m | \u001b[0m1.426    \u001b[0m |\n",
      "| \u001b[0m40       \u001b[0m | \u001b[0m-1.598   \u001b[0m | \u001b[0m4.528    \u001b[0m | \u001b[0m0.001    \u001b[0m | \u001b[0m1.0      \u001b[0m |\n",
      "| \u001b[0m41       \u001b[0m | \u001b[0m-1.592   \u001b[0m | \u001b[0m2.787    \u001b[0m | \u001b[0m0.01749  \u001b[0m | \u001b[0m2.136    \u001b[0m |\n",
      "| \u001b[0m42       \u001b[0m | \u001b[0m-1.597   \u001b[0m | \u001b[0m3.519    \u001b[0m | \u001b[0m0.001    \u001b[0m | \u001b[0m1.0      \u001b[0m |\n",
      "| \u001b[0m43       \u001b[0m | \u001b[0m-1.596   \u001b[0m | \u001b[0m1.102    \u001b[0m | \u001b[0m0.001    \u001b[0m | \u001b[0m2.766    \u001b[0m |\n",
      "| \u001b[0m44       \u001b[0m | \u001b[0m-1.592   \u001b[0m | \u001b[0m2.783    \u001b[0m | \u001b[0m0.01562  \u001b[0m | \u001b[0m2.131    \u001b[0m |\n",
      "| \u001b[0m45       \u001b[0m | \u001b[0m-1.596   \u001b[0m | \u001b[0m3.055    \u001b[0m | \u001b[0m0.03257  \u001b[0m | \u001b[0m1.534    \u001b[0m |\n",
      "| \u001b[0m46       \u001b[0m | \u001b[0m-1.591   \u001b[0m | \u001b[0m0.1019   \u001b[0m | \u001b[0m0.04445  \u001b[0m | \u001b[0m3.995    \u001b[0m |\n",
      "| \u001b[0m47       \u001b[0m | \u001b[0m-8.798e+0\u001b[0m | \u001b[0m3.71     \u001b[0m | \u001b[0m0.1      \u001b[0m | \u001b[0m4.0      \u001b[0m |\n",
      "| \u001b[0m48       \u001b[0m | \u001b[0m-1.598   \u001b[0m | \u001b[0m2.515    \u001b[0m | \u001b[0m0.06256  \u001b[0m | \u001b[0m3.981    \u001b[0m |\n",
      "| \u001b[0m49       \u001b[0m | \u001b[0m-1.591   \u001b[0m | \u001b[0m5.48     \u001b[0m | \u001b[0m0.05261  \u001b[0m | \u001b[0m2.304    \u001b[0m |\n",
      "| \u001b[0m50       \u001b[0m | \u001b[0m-1.595   \u001b[0m | \u001b[0m7.158    \u001b[0m | \u001b[0m0.1      \u001b[0m | \u001b[0m2.552    \u001b[0m |\n",
      "=============================================================\n"
     ]
    },
    {
     "data": {
      "text/html": [
       "<style>#sk-container-id-2 {color: black;background-color: white;}#sk-container-id-2 pre{padding: 0;}#sk-container-id-2 div.sk-toggleable {background-color: white;}#sk-container-id-2 label.sk-toggleable__label {cursor: pointer;display: block;width: 100%;margin-bottom: 0;padding: 0.3em;box-sizing: border-box;text-align: center;}#sk-container-id-2 label.sk-toggleable__label-arrow:before {content: \"▸\";float: left;margin-right: 0.25em;color: #696969;}#sk-container-id-2 label.sk-toggleable__label-arrow:hover:before {color: black;}#sk-container-id-2 div.sk-estimator:hover label.sk-toggleable__label-arrow:before {color: black;}#sk-container-id-2 div.sk-toggleable__content {max-height: 0;max-width: 0;overflow: hidden;text-align: left;background-color: #f0f8ff;}#sk-container-id-2 div.sk-toggleable__content pre {margin: 0.2em;color: black;border-radius: 0.25em;background-color: #f0f8ff;}#sk-container-id-2 input.sk-toggleable__control:checked~div.sk-toggleable__content {max-height: 200px;max-width: 100%;overflow: auto;}#sk-container-id-2 input.sk-toggleable__control:checked~label.sk-toggleable__label-arrow:before {content: \"▾\";}#sk-container-id-2 div.sk-estimator input.sk-toggleable__control:checked~label.sk-toggleable__label {background-color: #d4ebff;}#sk-container-id-2 div.sk-label input.sk-toggleable__control:checked~label.sk-toggleable__label {background-color: #d4ebff;}#sk-container-id-2 input.sk-hidden--visually {border: 0;clip: rect(1px 1px 1px 1px);clip: rect(1px, 1px, 1px, 1px);height: 1px;margin: -1px;overflow: hidden;padding: 0;position: absolute;width: 1px;}#sk-container-id-2 div.sk-estimator {font-family: monospace;background-color: #f0f8ff;border: 1px dotted black;border-radius: 0.25em;box-sizing: border-box;margin-bottom: 0.5em;}#sk-container-id-2 div.sk-estimator:hover {background-color: #d4ebff;}#sk-container-id-2 div.sk-parallel-item::after {content: \"\";width: 100%;border-bottom: 1px solid gray;flex-grow: 1;}#sk-container-id-2 div.sk-label:hover label.sk-toggleable__label {background-color: #d4ebff;}#sk-container-id-2 div.sk-serial::before {content: \"\";position: absolute;border-left: 1px solid gray;box-sizing: border-box;top: 0;bottom: 0;left: 50%;z-index: 0;}#sk-container-id-2 div.sk-serial {display: flex;flex-direction: column;align-items: center;background-color: white;padding-right: 0.2em;padding-left: 0.2em;position: relative;}#sk-container-id-2 div.sk-item {position: relative;z-index: 1;}#sk-container-id-2 div.sk-parallel {display: flex;align-items: stretch;justify-content: center;background-color: white;position: relative;}#sk-container-id-2 div.sk-item::before, #sk-container-id-2 div.sk-parallel-item::before {content: \"\";position: absolute;border-left: 1px solid gray;box-sizing: border-box;top: 0;bottom: 0;left: 50%;z-index: -1;}#sk-container-id-2 div.sk-parallel-item {display: flex;flex-direction: column;z-index: 1;position: relative;background-color: white;}#sk-container-id-2 div.sk-parallel-item:first-child::after {align-self: flex-end;width: 50%;}#sk-container-id-2 div.sk-parallel-item:last-child::after {align-self: flex-start;width: 50%;}#sk-container-id-2 div.sk-parallel-item:only-child::after {width: 0;}#sk-container-id-2 div.sk-dashed-wrapped {border: 1px dashed gray;margin: 0 0.4em 0.5em 0.4em;box-sizing: border-box;padding-bottom: 0.4em;background-color: white;}#sk-container-id-2 div.sk-label label {font-family: monospace;font-weight: bold;display: inline-block;line-height: 1.2em;}#sk-container-id-2 div.sk-label-container {text-align: center;}#sk-container-id-2 div.sk-container {/* jupyter's `normalize.less` sets `[hidden] { display: none; }` but bootstrap.min.css set `[hidden] { display: none !important; }` so we also need the `!important` here to be able to override the default hidden behavior on the sphinx rendered scikit-learn.org. See: https://github.com/scikit-learn/scikit-learn/issues/21755 */display: inline-block !important;position: relative;}#sk-container-id-2 div.sk-text-repr-fallback {display: none;}</style><div id=\"sk-container-id-2\" class=\"sk-top-container\"><div class=\"sk-text-repr-fallback\"><pre>SVR(C=4.278683208499771, gamma=0.033717997070562944)</pre><b>In a Jupyter environment, please rerun this cell to show the HTML representation or trust the notebook. <br />On GitHub, the HTML representation is unable to render, please try loading this page with nbviewer.org.</b></div><div class=\"sk-container\" hidden><div class=\"sk-item\"><div class=\"sk-estimator sk-toggleable\"><input class=\"sk-toggleable__control sk-hidden--visually\" id=\"sk-estimator-id-2\" type=\"checkbox\" checked><label for=\"sk-estimator-id-2\" class=\"sk-toggleable__label sk-toggleable__label-arrow\">SVR</label><div class=\"sk-toggleable__content\"><pre>SVR(C=4.278683208499771, gamma=0.033717997070562944)</pre></div></div></div></div></div>"
      ],
      "text/plain": [
       "SVR(C=4.278683208499771, gamma=0.033717997070562944)"
      ]
     },
     "execution_count": 14,
     "metadata": {},
     "output_type": "execute_result"
    }
   ],
   "source": [
    "def bo_params_generic(model, params, X_train, y_train):\n",
    "    # Create the model instance with the specified parameters\n",
    "    classifier = model(**params)\n",
    "    \n",
    "    # Calculating accuracy based on cross-validation\n",
    "    scores = cross_val_score(classifier, X_train, y_train, cv=10, scoring='neg_mean_squared_error')\n",
    "    return scores.mean()\n",
    "\n",
    "params_ranges = {\n",
    "    'C': (0.1, 10),\n",
    "    'kernel_int': (1, 4),\n",
    "    'gamma': (0.001, 0.1)\n",
    "}\n",
    "\n",
    "kernel_mapping = {\n",
    "    1: 'linear',\n",
    "    2: 'rbf',\n",
    "    3: 'poly',\n",
    "    4: 'sigmoid'\n",
    "}\n",
    "\n",
    "# Example usage with SVM\n",
    "model = SVR\n",
    "model_bo = BayesianOptimization(f=lambda C, kernel_int, gamma:\n",
    "                                    bo_params_generic(model, {\n",
    "                                        'C': C,\n",
    "                                        'kernel': kernel_mapping[int(kernel_int)],\n",
    "                                        'gamma': gamma\n",
    "                                    }, X_train, y_train),\n",
    "                             pbounds=params_ranges)\n",
    "\n",
    "results = model_bo.maximize(n_iter=40, init_points=10)\n",
    "params = model_bo.max['params']\n",
    "\n",
    "# Creating a model with the best hyperparameters\n",
    "best_model_svm = model(\n",
    "    C=params['C'],\n",
    "    kernel=kernel_mapping[int(params['kernel_int'])],\n",
    "    gamma=params['gamma']\n",
    ")\n",
    "\n",
    "# Fit the model\n",
    "best_model_svm.fit(X_train, y_train)\n"
   ]
  },
  {
   "attachments": {},
   "cell_type": "markdown",
   "metadata": {},
   "source": [
    "**Feature Selection**"
   ]
  },
  {
   "cell_type": "code",
   "execution_count": 15,
   "metadata": {},
   "outputs": [
    {
     "name": "stdout",
     "output_type": "stream",
     "text": [
      "Scince the kernal is not linear, this feature selection is not possible\n",
      "Best features: Index(['NederlandseAntillenEnAruba', 'GeboorteRelatief', 'SterfteRelatief',\n",
      "       'GemiddeldeWoningwaarde', 'PercentageOnbewoond',\n",
      "       'InBezitWoningcorporatie', 'InBezitOverigeVerhuurders',\n",
      "       'EigendomOnbekend', 'BouwjaarVanaf2000', 'kPersonenMetLaagsteInkomen',\n",
      "       'ALandbouwBosbouwEnVisserij', 'KLFinancieleDienstenOnroerendGoed',\n",
      "       'PersonenautoSOverigeBrandstof', 'PersonenautoSPerHuishouden',\n",
      "       'PersonenautoSNaarOppervlakte', 'AfstandTotHuisartsenpraktijk',\n",
      "       'AfstandTotKinderdagverblijf', 'AfstandTotSchool', 'OppervlakteWater',\n",
      "       'TotaalDiefstalUitWoningSchuurED',\n",
      "       'VernielingMisdrijfTegenOpenbareOrde', 'GeweldsEnSeksueleMisdrijven',\n",
      "       'AfstandTotHuisartsenpost', 'AfstandTotApotheek',\n",
      "       'AfstandTotConsultatiebureau', 'AfstandTotOvDagelLevensmiddelen',\n",
      "       'AfstandTotWarenhuis', 'AfstandTotCafeED', 'AfstandTotCafetariaED',\n",
      "       'AfstandTotRestaurant', 'AfstandTotHotelED',\n",
      "       'AfstandTotBuitenschoolseOpvang', 'AfstandTotOpenbaarGroenTotaal',\n",
      "       'AfstandTotDagrecreatiefTerrein', 'AfstandTotBos',\n",
      "       'AfstandTotOpenNatTerreinTotaal', 'AfstandTotOpenDroogNatTerrein',\n",
      "       'AfstandTotOpenNatNatuurlijkTerrein',\n",
      "       'AfstandTotSemiOpenbaarGroenTotaal', 'AfstandTotSportterrein',\n",
      "       'AfstandTotVolkstuin', 'AfstandTotVerblijfsrecreatiefTerrein',\n",
      "       'AfstandTotBegraafplaats', 'AfstandTotTreinstationsTotaal',\n",
      "       'AfstandTotBelangrijkOverstapstation', 'AfstandTotBibliotheek',\n",
      "       'AfstandTotZwembad', 'AfstandTotKunstijsbaan', 'AfstandTotMuseum',\n",
      "       'AfstandTotPodiumkunstenTotaal', 'AfstandTotPoppodium',\n",
      "       'AfstandTotBioscoop', 'AfstandTotSauna', 'AfstandTotZonnebank',\n",
      "       'AfstandTotAttractie', 'AfstandTotBrandweerkazerne',\n",
      "       'ErvarenGezondheidGoedZeerGoed', 'EenOfMeerLangdurigeAandoeningen',\n",
      "       'BeperkingInHoren', 'BeperkingInZien', 'Ondergewicht',\n",
      "       'MatigOvergewicht', 'ErnstigOvergewichtObesitas',\n",
      "       'VoldoetAanBeweegrichtlijn', 'Mantelzorger',\n",
      "       'ZwaarBelasteMantelzorgers', 'UrenMantelzorgPerWeek', 'Rokers',\n",
      "       'VoldoetAanRichtlijnAlcoholgebruik', 'OvermatigDrinker'],\n",
      "      dtype='object')\n",
      "Dropped features: []\n"
     ]
    }
   ],
   "source": [
    "# Get the accuracy score of the model with all features\n",
    "best_accuracy = cross_val_score(best_model_svm, X_train, y_train, cv=10, scoring='neg_mean_squared_error', n_jobs=-1).mean()\n",
    "best_model = best_model_svm\n",
    "selected_features = X_train.columns\n",
    "best_features = selected_features\n",
    "\n",
    "while len(selected_features) > 1:\n",
    "    try:\n",
    "        # Retrieve the coefficients from the SVM model\n",
    "        coefficients = best_model_svm.coef_[0]\n",
    "\n",
    "        # Sort features based on their coefficient magnitudes\n",
    "        sorted_indices = np.argsort(np.abs(coefficients))\n",
    "        selected_features = [X_train.columns[i] for i in sorted_indices[::-1]]\n",
    "\n",
    "        # Remove the least important feature\n",
    "        selected_features = selected_features[:-1]\n",
    "        \n",
    "        # Refit the linear SVM classifier\n",
    "        best_model_svm_classification.fit(X_train[selected_features], y_train)\n",
    "        \n",
    "        # Evaluate Model Performance\n",
    "        accuracy = cross_val_score(best_model_svm, X_train[selected_features], y_train, cv=10, scoring='neg_mean_squared_error', n_jobs=-1).mean()\n",
    "\n",
    "        # Check if the model performs better without the insignificant features\n",
    "        if accuracy >= best_accuracy:\n",
    "            best_accuracy = accuracy\n",
    "            best_features = selected_features.copy()\n",
    "            best_model = best_model_svm\n",
    "    except:\n",
    "        print(\"Scince the kernal is not linear, this feature selection is not possible\") \n",
    "        break\n",
    "\n",
    "# Save results\n",
    "best_model_svm = best_model\n",
    "best_features_svm = best_features\n",
    "\n",
    "# Show results\n",
    "print(\"Best features:\", best_features_svm)\n",
    "print(\"Dropped features:\", list(set(X_train.columns.tolist()) - set(best_features_svm)))"
   ]
  },
  {
   "attachments": {},
   "cell_type": "markdown",
   "metadata": {},
   "source": [
    "# Random Forest"
   ]
  },
  {
   "attachments": {},
   "cell_type": "markdown",
   "metadata": {},
   "source": [
    "**Feature selection**"
   ]
  },
  {
   "cell_type": "code",
   "execution_count": 16,
   "metadata": {},
   "outputs": [
    {
     "name": "stdout",
     "output_type": "stream",
     "text": [
      "Best features: ['KLFinancieleDienstenOnroerendGoed', 'AfstandTotAttractie', 'EenOfMeerLangdurigeAandoeningen']\n",
      "Dropped features: ['AfstandTotOpenDroogNatTerrein', 'AfstandTotOpenbaarGroenTotaal', 'MatigOvergewicht', 'ErnstigOvergewichtObesitas', 'AfstandTotKunstijsbaan', 'GemiddeldeWoningwaarde', 'VoldoetAanBeweegrichtlijn', 'AfstandTotHuisartsenpost', 'AfstandTotOpenNatTerreinTotaal', 'AfstandTotVolkstuin', 'AfstandTotSportterrein', 'AfstandTotBegraafplaats', 'VoldoetAanRichtlijnAlcoholgebruik', 'OppervlakteWater', 'AfstandTotRestaurant', 'AfstandTotCafetariaED', 'AfstandTotBibliotheek', 'InBezitWoningcorporatie', 'EigendomOnbekend', 'AfstandTotApotheek', 'ALandbouwBosbouwEnVisserij', 'Rokers', 'AfstandTotBrandweerkazerne', 'AfstandTotZonnebank', 'PercentageOnbewoond', 'AfstandTotHotelED', 'AfstandTotBioscoop', 'PersonenautoSNaarOppervlakte', 'VernielingMisdrijfTegenOpenbareOrde', 'AfstandTotCafeED', 'ErvarenGezondheidGoedZeerGoed', 'AfstandTotBos', 'UrenMantelzorgPerWeek', 'AfstandTotPodiumkunstenTotaal', 'AfstandTotTreinstationsTotaal', 'AfstandTotOvDagelLevensmiddelen', 'PersonenautoSOverigeBrandstof', 'InBezitOverigeVerhuurders', 'AfstandTotWarenhuis', 'AfstandTotVerblijfsrecreatiefTerrein', 'AfstandTotSauna', 'Mantelzorger', 'TotaalDiefstalUitWoningSchuurED', 'AfstandTotBelangrijkOverstapstation', 'BeperkingInHoren', 'AfstandTotKinderdagverblijf', 'AfstandTotSemiOpenbaarGroenTotaal', 'BeperkingInZien', 'AfstandTotBuitenschoolseOpvang', 'AfstandTotDagrecreatiefTerrein', 'AfstandTotSchool', 'SterfteRelatief', 'kPersonenMetLaagsteInkomen', 'AfstandTotPoppodium', 'GeweldsEnSeksueleMisdrijven', 'OvermatigDrinker', 'Ondergewicht', 'AfstandTotMuseum', 'ZwaarBelasteMantelzorgers', 'GeboorteRelatief', 'AfstandTotZwembad', 'NederlandseAntillenEnAruba', 'PersonenautoSPerHuishouden', 'AfstandTotOpenNatNatuurlijkTerrein', 'AfstandTotHuisartsenpraktijk', 'BouwjaarVanaf2000', 'AfstandTotConsultatiebureau']\n"
     ]
    }
   ],
   "source": [
    "# Get the accuracy score of the model with all the features\n",
    "rf = RandomForestRegressor(n_estimators=100, random_state=0).fit(X_train, y_train)\n",
    "best_rf = rf\n",
    "selected_features = X_train.columns.tolist()\n",
    "best_features = selected_features\n",
    "best_features_accuracy = cross_val_score(RandomForestRegressor(n_estimators=100, random_state=0), X_train, y_train, cv=10, scoring='neg_mean_squared_error', n_jobs=-1).mean()\n",
    "\n",
    "while True:\n",
    "    # Make DataFrame of feature impotances\n",
    "    result = permutation_importance(\n",
    "            rf, X_train[selected_features], y_train, n_repeats=10, random_state=42, n_jobs=-1\n",
    "        )\n",
    "    df_importances = pd.DataFrame({'feature': X_train[selected_features].columns, 'importance': result.importances_mean, 'std': result.importances_std})\n",
    "    df_importances = df_importances.sort_values('importance')\n",
    "\n",
    "    # Remove least important feature\n",
    "    selected_features.remove(df_importances['feature'].iloc[0])\n",
    "\n",
    "    # When there are no features left\n",
    "    if len(selected_features) == 0:\n",
    "        break\n",
    "    \n",
    "    # Refit the Model\n",
    "    rf = RandomForestRegressor(n_estimators=100, random_state=0).fit(X_train[selected_features], y_train)\n",
    "\n",
    "    # Evaluate Model Performance\n",
    "    accuracy = cross_val_score(RandomForestRegressor(n_estimators=100, random_state=0), X_train[selected_features], y_train, cv=10, scoring='neg_mean_squared_error', n_jobs=-1).mean()\n",
    "\n",
    "    # Check if the model performs better without the insignificant features\n",
    "    if accuracy >= best_features_accuracy:\n",
    "        best_features_accuracy = accuracy\n",
    "        best_features = selected_features.copy()\n",
    "        best_model = rf\n",
    "\n",
    "# Save results\n",
    "best_model_rf = best_model\n",
    "best_features_rf = best_features\n",
    "\n",
    "# Show results\n",
    "print(\"Best features:\", best_features_rf)\n",
    "print(\"Dropped features:\", list(set(X_train.columns.tolist()) - set(best_features_rf)))"
   ]
  },
  {
   "attachments": {},
   "cell_type": "markdown",
   "metadata": {},
   "source": [
    "**Hyperparameter optimalisatie**"
   ]
  },
  {
   "cell_type": "code",
   "execution_count": 17,
   "metadata": {},
   "outputs": [
    {
     "name": "stdout",
     "output_type": "stream",
     "text": [
      "|   iter    |  target   | max_depth | max_fe... | min_sa... | n_esti... |\n",
      "-------------------------------------------------------------------------\n",
      "| \u001b[0m1        \u001b[0m | \u001b[0m-1.579   \u001b[0m | \u001b[0m18.55    \u001b[0m | \u001b[0m0.8457   \u001b[0m | \u001b[0m8.545    \u001b[0m | \u001b[0m425.3    \u001b[0m |\n",
      "| \u001b[95m2        \u001b[0m | \u001b[95m-1.569   \u001b[0m | \u001b[95m1.607    \u001b[0m | \u001b[95m0.7625   \u001b[0m | \u001b[95m2.742    \u001b[0m | \u001b[95m460.5    \u001b[0m |\n",
      "| \u001b[0m3        \u001b[0m | \u001b[0m-1.576   \u001b[0m | \u001b[0m6.085    \u001b[0m | \u001b[0m0.5858   \u001b[0m | \u001b[0m3.413    \u001b[0m | \u001b[0m186.8    \u001b[0m |\n",
      "| \u001b[0m4        \u001b[0m | \u001b[0m-1.572   \u001b[0m | \u001b[0m5.005    \u001b[0m | \u001b[0m0.2828   \u001b[0m | \u001b[0m3.536    \u001b[0m | \u001b[0m417.6    \u001b[0m |\n",
      "| \u001b[0m5        \u001b[0m | \u001b[0m-1.572   \u001b[0m | \u001b[0m4.645    \u001b[0m | \u001b[0m0.7627   \u001b[0m | \u001b[0m10.0     \u001b[0m | \u001b[0m290.2    \u001b[0m |\n",
      "| \u001b[95m6        \u001b[0m | \u001b[95m-1.568   \u001b[0m | \u001b[95m4.052    \u001b[0m | \u001b[95m0.3993   \u001b[0m | \u001b[95m8.585    \u001b[0m | \u001b[95m300.6    \u001b[0m |\n",
      "| \u001b[0m7        \u001b[0m | \u001b[0m-1.578   \u001b[0m | \u001b[0m7.539    \u001b[0m | \u001b[0m0.8402   \u001b[0m | \u001b[0m8.293    \u001b[0m | \u001b[0m228.9    \u001b[0m |\n",
      "| \u001b[0m8        \u001b[0m | \u001b[0m-1.579   \u001b[0m | \u001b[0m10.34    \u001b[0m | \u001b[0m0.6689   \u001b[0m | \u001b[0m7.063    \u001b[0m | \u001b[0m580.6    \u001b[0m |\n",
      "| \u001b[0m9        \u001b[0m | \u001b[0m-1.579   \u001b[0m | \u001b[0m19.43    \u001b[0m | \u001b[0m0.1476   \u001b[0m | \u001b[0m2.996    \u001b[0m | \u001b[0m638.6    \u001b[0m |\n",
      "| \u001b[0m10       \u001b[0m | \u001b[0m-1.577   \u001b[0m | \u001b[0m7.242    \u001b[0m | \u001b[0m0.1088   \u001b[0m | \u001b[0m2.997    \u001b[0m | \u001b[0m837.0    \u001b[0m |\n",
      "| \u001b[0m11       \u001b[0m | \u001b[0m-1.579   \u001b[0m | \u001b[0m11.23    \u001b[0m | \u001b[0m0.5269   \u001b[0m | \u001b[0m10.61    \u001b[0m | \u001b[0m301.3    \u001b[0m |\n",
      "| \u001b[0m12       \u001b[0m | \u001b[0m-1.57    \u001b[0m | \u001b[0m4.306    \u001b[0m | \u001b[0m0.9054   \u001b[0m | \u001b[0m6.076    \u001b[0m | \u001b[0m133.5    \u001b[0m |\n",
      "| \u001b[0m13       \u001b[0m | \u001b[0m-1.579   \u001b[0m | \u001b[0m8.793    \u001b[0m | \u001b[0m0.9488   \u001b[0m | \u001b[0m11.61    \u001b[0m | \u001b[0m294.7    \u001b[0m |\n",
      "| \u001b[0m14       \u001b[0m | \u001b[0m-1.575   \u001b[0m | \u001b[0m5.503    \u001b[0m | \u001b[0m0.4566   \u001b[0m | \u001b[0m4.134    \u001b[0m | \u001b[0m417.5    \u001b[0m |\n",
      "| \u001b[0m15       \u001b[0m | \u001b[0m-1.572   \u001b[0m | \u001b[0m5.028    \u001b[0m | \u001b[0m0.2204   \u001b[0m | \u001b[0m5.812    \u001b[0m | \u001b[0m133.4    \u001b[0m |\n",
      "| \u001b[0m16       \u001b[0m | \u001b[0m-1.572   \u001b[0m | \u001b[0m4.875    \u001b[0m | \u001b[0m0.1433   \u001b[0m | \u001b[0m8.808    \u001b[0m | \u001b[0m300.5    \u001b[0m |\n",
      "| \u001b[0m17       \u001b[0m | \u001b[0m-1.57    \u001b[0m | \u001b[0m4.252    \u001b[0m | \u001b[0m0.8077   \u001b[0m | \u001b[0m7.39     \u001b[0m | \u001b[0m300.4    \u001b[0m |\n",
      "| \u001b[95m18       \u001b[0m | \u001b[95m-1.562   \u001b[0m | \u001b[95m2.75     \u001b[0m | \u001b[95m0.7712   \u001b[0m | \u001b[95m8.126    \u001b[0m | \u001b[95m300.8    \u001b[0m |\n",
      "| \u001b[0m19       \u001b[0m | \u001b[0m-1.569   \u001b[0m | \u001b[0m1.558    \u001b[0m | \u001b[0m0.33     \u001b[0m | \u001b[0m8.364    \u001b[0m | \u001b[0m300.2    \u001b[0m |\n",
      "| \u001b[0m20       \u001b[0m | \u001b[0m-1.563   \u001b[0m | \u001b[0m3.126    \u001b[0m | \u001b[0m0.8183   \u001b[0m | \u001b[0m8.521    \u001b[0m | \u001b[0m300.6    \u001b[0m |\n",
      "| \u001b[0m21       \u001b[0m | \u001b[0m-1.563   \u001b[0m | \u001b[0m3.034    \u001b[0m | \u001b[0m0.3834   \u001b[0m | \u001b[0m10.05    \u001b[0m | \u001b[0m303.3    \u001b[0m |\n",
      "| \u001b[0m22       \u001b[0m | \u001b[0m-1.568   \u001b[0m | \u001b[0m2.303    \u001b[0m | \u001b[0m0.6803   \u001b[0m | \u001b[0m7.717    \u001b[0m | \u001b[0m302.7    \u001b[0m |\n",
      "| \u001b[0m23       \u001b[0m | \u001b[0m-1.569   \u001b[0m | \u001b[0m4.329    \u001b[0m | \u001b[0m0.9311   \u001b[0m | \u001b[0m10.96    \u001b[0m | \u001b[0m303.9    \u001b[0m |\n",
      "| \u001b[0m24       \u001b[0m | \u001b[0m-1.589   \u001b[0m | \u001b[0m1.384    \u001b[0m | \u001b[0m0.1517   \u001b[0m | \u001b[0m11.62    \u001b[0m | \u001b[0m303.2    \u001b[0m |\n",
      "| \u001b[0m25       \u001b[0m | \u001b[0m-1.563   \u001b[0m | \u001b[0m3.0      \u001b[0m | \u001b[0m0.9495   \u001b[0m | \u001b[0m8.172    \u001b[0m | \u001b[0m304.1    \u001b[0m |\n",
      "| \u001b[0m26       \u001b[0m | \u001b[0m-1.57    \u001b[0m | \u001b[0m2.048    \u001b[0m | \u001b[0m0.2965   \u001b[0m | \u001b[0m8.667    \u001b[0m | \u001b[0m304.4    \u001b[0m |\n",
      "| \u001b[0m27       \u001b[0m | \u001b[0m-1.563   \u001b[0m | \u001b[0m3.238    \u001b[0m | \u001b[0m0.2141   \u001b[0m | \u001b[0m8.738    \u001b[0m | \u001b[0m302.3    \u001b[0m |\n",
      "| \u001b[0m28       \u001b[0m | \u001b[0m-1.563   \u001b[0m | \u001b[0m3.37     \u001b[0m | \u001b[0m0.7306   \u001b[0m | \u001b[0m7.861    \u001b[0m | \u001b[0m306.9    \u001b[0m |\n",
      "| \u001b[0m29       \u001b[0m | \u001b[0m-1.575   \u001b[0m | \u001b[0m5.763    \u001b[0m | \u001b[0m0.15     \u001b[0m | \u001b[0m7.455    \u001b[0m | \u001b[0m306.4    \u001b[0m |\n",
      "| \u001b[95m30       \u001b[0m | \u001b[95m-1.562   \u001b[0m | \u001b[95m3.145    \u001b[0m | \u001b[95m0.9358   \u001b[0m | \u001b[95m9.144    \u001b[0m | \u001b[95m302.7    \u001b[0m |\n",
      "| \u001b[0m31       \u001b[0m | \u001b[0m-1.568   \u001b[0m | \u001b[0m3.727    \u001b[0m | \u001b[0m0.2653   \u001b[0m | \u001b[0m6.751    \u001b[0m | \u001b[0m304.8    \u001b[0m |\n",
      "| \u001b[0m32       \u001b[0m | \u001b[0m-1.569   \u001b[0m | \u001b[0m1.753    \u001b[0m | \u001b[0m0.3887   \u001b[0m | \u001b[0m8.181    \u001b[0m | \u001b[0m309.2    \u001b[0m |\n",
      "| \u001b[0m33       \u001b[0m | \u001b[0m-1.572   \u001b[0m | \u001b[0m4.784    \u001b[0m | \u001b[0m0.346    \u001b[0m | \u001b[0m9.466    \u001b[0m | \u001b[0m309.7    \u001b[0m |\n",
      "| \u001b[0m34       \u001b[0m | \u001b[0m-1.57    \u001b[0m | \u001b[0m2.069    \u001b[0m | \u001b[0m0.9527   \u001b[0m | \u001b[0m5.886    \u001b[0m | \u001b[0m308.6    \u001b[0m |\n",
      "| \u001b[0m35       \u001b[0m | \u001b[0m-1.568   \u001b[0m | \u001b[0m4.372    \u001b[0m | \u001b[0m0.3757   \u001b[0m | \u001b[0m3.85     \u001b[0m | \u001b[0m459.5    \u001b[0m |\n",
      "| \u001b[0m36       \u001b[0m | \u001b[0m-1.569   \u001b[0m | \u001b[0m4.409    \u001b[0m | \u001b[0m0.7628   \u001b[0m | \u001b[0m2.115    \u001b[0m | \u001b[0m462.1    \u001b[0m |\n",
      "| \u001b[0m37       \u001b[0m | \u001b[0m-1.569   \u001b[0m | \u001b[0m1.885    \u001b[0m | \u001b[0m0.2414   \u001b[0m | \u001b[0m9.037    \u001b[0m | \u001b[0m307.3    \u001b[0m |\n",
      "| \u001b[0m38       \u001b[0m | \u001b[0m-1.572   \u001b[0m | \u001b[0m4.705    \u001b[0m | \u001b[0m0.4593   \u001b[0m | \u001b[0m2.561    \u001b[0m | \u001b[0m456.8    \u001b[0m |\n",
      "| \u001b[95m39       \u001b[0m | \u001b[95m-1.562   \u001b[0m | \u001b[95m2.697    \u001b[0m | \u001b[95m0.8894   \u001b[0m | \u001b[95m6.651    \u001b[0m | \u001b[95m459.3    \u001b[0m |\n",
      "| \u001b[0m40       \u001b[0m | \u001b[0m-1.569   \u001b[0m | \u001b[0m4.271    \u001b[0m | \u001b[0m0.8196   \u001b[0m | \u001b[0m7.381    \u001b[0m | \u001b[0m460.7    \u001b[0m |\n",
      "| \u001b[0m41       \u001b[0m | \u001b[0m-1.599   \u001b[0m | \u001b[0m1.045    \u001b[0m | \u001b[0m0.745    \u001b[0m | \u001b[0m6.904    \u001b[0m | \u001b[0m460.6    \u001b[0m |\n",
      "| \u001b[0m42       \u001b[0m | \u001b[0m-1.563   \u001b[0m | \u001b[0m2.785    \u001b[0m | \u001b[0m0.5596   \u001b[0m | \u001b[0m6.105    \u001b[0m | \u001b[0m457.3    \u001b[0m |\n",
      "| \u001b[0m43       \u001b[0m | \u001b[0m-1.563   \u001b[0m | \u001b[0m3.462    \u001b[0m | \u001b[0m0.5793   \u001b[0m | \u001b[0m5.911    \u001b[0m | \u001b[0m459.2    \u001b[0m |\n",
      "| \u001b[0m44       \u001b[0m | \u001b[0m-1.562   \u001b[0m | \u001b[0m3.062    \u001b[0m | \u001b[0m0.914    \u001b[0m | \u001b[0m7.453    \u001b[0m | \u001b[0m458.7    \u001b[0m |\n",
      "| \u001b[0m45       \u001b[0m | \u001b[0m-1.568   \u001b[0m | \u001b[0m4.453    \u001b[0m | \u001b[0m0.1026   \u001b[0m | \u001b[0m9.305    \u001b[0m | \u001b[0m304.9    \u001b[0m |\n",
      "| \u001b[0m46       \u001b[0m | \u001b[0m-1.577   \u001b[0m | \u001b[0m7.339    \u001b[0m | \u001b[0m0.9801   \u001b[0m | \u001b[0m6.872    \u001b[0m | \u001b[0m458.6    \u001b[0m |\n",
      "| \u001b[0m47       \u001b[0m | \u001b[0m-1.568   \u001b[0m | \u001b[0m2.117    \u001b[0m | \u001b[0m0.7993   \u001b[0m | \u001b[0m8.397    \u001b[0m | \u001b[0m456.8    \u001b[0m |\n",
      "| \u001b[0m48       \u001b[0m | \u001b[0m-1.568   \u001b[0m | \u001b[0m3.708    \u001b[0m | \u001b[0m0.215    \u001b[0m | \u001b[0m5.244    \u001b[0m | \u001b[0m454.7    \u001b[0m |\n",
      "| \u001b[0m49       \u001b[0m | \u001b[0m-1.588   \u001b[0m | \u001b[0m1.238    \u001b[0m | \u001b[0m0.3962   \u001b[0m | \u001b[0m6.783    \u001b[0m | \u001b[0m455.6    \u001b[0m |\n",
      "| \u001b[0m50       \u001b[0m | \u001b[0m-1.562   \u001b[0m | \u001b[0m2.749    \u001b[0m | \u001b[0m0.9633   \u001b[0m | \u001b[0m4.309    \u001b[0m | \u001b[0m457.6    \u001b[0m |\n",
      "=========================================================================\n"
     ]
    },
    {
     "data": {
      "text/html": [
       "<style>#sk-container-id-3 {color: black;background-color: white;}#sk-container-id-3 pre{padding: 0;}#sk-container-id-3 div.sk-toggleable {background-color: white;}#sk-container-id-3 label.sk-toggleable__label {cursor: pointer;display: block;width: 100%;margin-bottom: 0;padding: 0.3em;box-sizing: border-box;text-align: center;}#sk-container-id-3 label.sk-toggleable__label-arrow:before {content: \"▸\";float: left;margin-right: 0.25em;color: #696969;}#sk-container-id-3 label.sk-toggleable__label-arrow:hover:before {color: black;}#sk-container-id-3 div.sk-estimator:hover label.sk-toggleable__label-arrow:before {color: black;}#sk-container-id-3 div.sk-toggleable__content {max-height: 0;max-width: 0;overflow: hidden;text-align: left;background-color: #f0f8ff;}#sk-container-id-3 div.sk-toggleable__content pre {margin: 0.2em;color: black;border-radius: 0.25em;background-color: #f0f8ff;}#sk-container-id-3 input.sk-toggleable__control:checked~div.sk-toggleable__content {max-height: 200px;max-width: 100%;overflow: auto;}#sk-container-id-3 input.sk-toggleable__control:checked~label.sk-toggleable__label-arrow:before {content: \"▾\";}#sk-container-id-3 div.sk-estimator input.sk-toggleable__control:checked~label.sk-toggleable__label {background-color: #d4ebff;}#sk-container-id-3 div.sk-label input.sk-toggleable__control:checked~label.sk-toggleable__label {background-color: #d4ebff;}#sk-container-id-3 input.sk-hidden--visually {border: 0;clip: rect(1px 1px 1px 1px);clip: rect(1px, 1px, 1px, 1px);height: 1px;margin: -1px;overflow: hidden;padding: 0;position: absolute;width: 1px;}#sk-container-id-3 div.sk-estimator {font-family: monospace;background-color: #f0f8ff;border: 1px dotted black;border-radius: 0.25em;box-sizing: border-box;margin-bottom: 0.5em;}#sk-container-id-3 div.sk-estimator:hover {background-color: #d4ebff;}#sk-container-id-3 div.sk-parallel-item::after {content: \"\";width: 100%;border-bottom: 1px solid gray;flex-grow: 1;}#sk-container-id-3 div.sk-label:hover label.sk-toggleable__label {background-color: #d4ebff;}#sk-container-id-3 div.sk-serial::before {content: \"\";position: absolute;border-left: 1px solid gray;box-sizing: border-box;top: 0;bottom: 0;left: 50%;z-index: 0;}#sk-container-id-3 div.sk-serial {display: flex;flex-direction: column;align-items: center;background-color: white;padding-right: 0.2em;padding-left: 0.2em;position: relative;}#sk-container-id-3 div.sk-item {position: relative;z-index: 1;}#sk-container-id-3 div.sk-parallel {display: flex;align-items: stretch;justify-content: center;background-color: white;position: relative;}#sk-container-id-3 div.sk-item::before, #sk-container-id-3 div.sk-parallel-item::before {content: \"\";position: absolute;border-left: 1px solid gray;box-sizing: border-box;top: 0;bottom: 0;left: 50%;z-index: -1;}#sk-container-id-3 div.sk-parallel-item {display: flex;flex-direction: column;z-index: 1;position: relative;background-color: white;}#sk-container-id-3 div.sk-parallel-item:first-child::after {align-self: flex-end;width: 50%;}#sk-container-id-3 div.sk-parallel-item:last-child::after {align-self: flex-start;width: 50%;}#sk-container-id-3 div.sk-parallel-item:only-child::after {width: 0;}#sk-container-id-3 div.sk-dashed-wrapped {border: 1px dashed gray;margin: 0 0.4em 0.5em 0.4em;box-sizing: border-box;padding-bottom: 0.4em;background-color: white;}#sk-container-id-3 div.sk-label label {font-family: monospace;font-weight: bold;display: inline-block;line-height: 1.2em;}#sk-container-id-3 div.sk-label-container {text-align: center;}#sk-container-id-3 div.sk-container {/* jupyter's `normalize.less` sets `[hidden] { display: none; }` but bootstrap.min.css set `[hidden] { display: none !important; }` so we also need the `!important` here to be able to override the default hidden behavior on the sphinx rendered scikit-learn.org. See: https://github.com/scikit-learn/scikit-learn/issues/21755 */display: inline-block !important;position: relative;}#sk-container-id-3 div.sk-text-repr-fallback {display: none;}</style><div id=\"sk-container-id-3\" class=\"sk-top-container\"><div class=\"sk-text-repr-fallback\"><pre>RandomForestRegressor(bootstrap=False, max_depth=3,\n",
       "                      max_features=0.8894082965138159, min_samples_split=7,\n",
       "                      n_estimators=459)</pre><b>In a Jupyter environment, please rerun this cell to show the HTML representation or trust the notebook. <br />On GitHub, the HTML representation is unable to render, please try loading this page with nbviewer.org.</b></div><div class=\"sk-container\" hidden><div class=\"sk-item\"><div class=\"sk-estimator sk-toggleable\"><input class=\"sk-toggleable__control sk-hidden--visually\" id=\"sk-estimator-id-3\" type=\"checkbox\" checked><label for=\"sk-estimator-id-3\" class=\"sk-toggleable__label sk-toggleable__label-arrow\">RandomForestRegressor</label><div class=\"sk-toggleable__content\"><pre>RandomForestRegressor(bootstrap=False, max_depth=3,\n",
       "                      max_features=0.8894082965138159, min_samples_split=7,\n",
       "                      n_estimators=459)</pre></div></div></div></div></div>"
      ],
      "text/plain": [
       "RandomForestRegressor(bootstrap=False, max_depth=3,\n",
       "                      max_features=0.8894082965138159, min_samples_split=7,\n",
       "                      n_estimators=459)"
      ]
     },
     "execution_count": 17,
     "metadata": {},
     "output_type": "execute_result"
    }
   ],
   "source": [
    "def bo_params_rf(min_samples_split,max_depth,max_features,n_estimators):\n",
    "    \n",
    "    params = {\n",
    "        'min_samples_split': round(min_samples_split),\n",
    "        'max_depth': round(max_depth),\n",
    "        'max_features': max_features,\n",
    "        'n_estimators':round(n_estimators)\n",
    "    }    \n",
    "        \n",
    "    clf = RandomForestRegressor(min_samples_split=int(params['min_samples_split']), \n",
    "                                 max_depth=int(params['max_depth']), \n",
    "                                 max_features=params['max_features'],\n",
    "                                 n_estimators=int(params['n_estimators']), \n",
    "                                 bootstrap=False,\n",
    "                                 n_jobs = -1)\n",
    "    return cross_val_score(clf, X_train[best_features_rf], y_train, cv=10, scoring='neg_mean_squared_error', n_jobs=-1).mean()\n",
    "\n",
    "# Create Bayesian Optimization\n",
    "rf_bo = BayesianOptimization(f=bo_params_rf, pbounds={\n",
    "    'n_estimators': (100, 1000),\n",
    "    'max_depth': (1, 20),\n",
    "    'max_features': (0.1, 1),\n",
    "    'min_samples_split': (2, 12)\n",
    "})\n",
    "\n",
    "# Bayesian optimization\n",
    "results = rf_bo.maximize(n_iter=40, init_points=10)\n",
    "\n",
    "# Getting best hyperparameters from bayesian optimization\n",
    "params = rf_bo.max['params']\n",
    "params['n_estimators']= round(params['n_estimators'])\n",
    "params['min_samples_split']= round(params['min_samples_split'])\n",
    "params['max_depth']= round(params['max_depth'])\n",
    "\n",
    "# Making random forest model with the best hyperparameters\n",
    "# criterion entropy is after the hyperparameter optimization since it's more accurate but increases training time\n",
    "best_model_rf_classification = RandomForestRegressor(min_samples_split=params['min_samples_split'],\n",
    "                                                max_depth=params['max_depth'],\n",
    "                                                max_features=params['max_features'],\n",
    "                                                n_estimators=params['n_estimators'],\n",
    "                                                bootstrap=False)\n",
    "\n",
    "best_model_rf_classification.fit(X_train[best_features_rf], y_train)"
   ]
  },
  {
   "attachments": {},
   "cell_type": "markdown",
   "metadata": {},
   "source": [
    "# neural network"
   ]
  },
  {
   "attachments": {},
   "cell_type": "markdown",
   "metadata": {},
   "source": [
    "**Feature selection**"
   ]
  },
  {
   "cell_type": "code",
   "execution_count": 18,
   "metadata": {},
   "outputs": [
    {
     "name": "stdout",
     "output_type": "stream",
     "text": [
      "Best features: ['VoldoetAanBeweegrichtlijn', 'AfstandTotVerblijfsrecreatiefTerrein', 'AfstandTotOpenbaarGroenTotaal', 'AfstandTotWarenhuis', 'BeperkingInZien', 'AfstandTotBrandweerkazerne', 'AfstandTotOpenDroogNatTerrein', 'OppervlakteWater', 'AfstandTotApotheek', 'BeperkingInHoren', 'AfstandTotDagrecreatiefTerrein', 'AfstandTotPoppodium', 'AfstandTotZonnebank', 'ALandbouwBosbouwEnVisserij', 'UrenMantelzorgPerWeek', 'GeboorteRelatief', 'AfstandTotCafeED', 'SterfteRelatief', 'EenOfMeerLangdurigeAandoeningen', 'AfstandTotOvDagelLevensmiddelen', 'AfstandTotHuisartsenpost', 'OvermatigDrinker', 'AfstandTotHotelED', 'AfstandTotKunstijsbaan', 'NederlandseAntillenEnAruba', 'AfstandTotBuitenschoolseOpvang', 'VernielingMisdrijfTegenOpenbareOrde', 'ErnstigOvergewichtObesitas', 'PersonenautoSPerHuishouden', 'AfstandTotAttractie', 'AfstandTotBioscoop', 'AfstandTotSemiOpenbaarGroenTotaal', 'AfstandTotVolkstuin', 'PersonenautoSNaarOppervlakte', 'AfstandTotOpenNatTerreinTotaal', 'KLFinancieleDienstenOnroerendGoed', 'AfstandTotOpenNatNatuurlijkTerrein', 'AfstandTotConsultatiebureau', 'AfstandTotSchool', 'GeweldsEnSeksueleMisdrijven', 'ErvarenGezondheidGoedZeerGoed', 'AfstandTotSportterrein', 'AfstandTotZwembad', 'VoldoetAanRichtlijnAlcoholgebruik', 'AfstandTotBibliotheek', 'AfstandTotKinderdagverblijf', 'AfstandTotCafetariaED', 'Ondergewicht', 'kPersonenMetLaagsteInkomen', 'EigendomOnbekend', 'Mantelzorger', 'AfstandTotHuisartsenpraktijk', 'PercentageOnbewoond', 'AfstandTotSauna', 'ZwaarBelasteMantelzorgers', 'BouwjaarVanaf2000', 'Rokers', 'AfstandTotBelangrijkOverstapstation', 'GemiddeldeWoningwaarde', 'MatigOvergewicht', 'AfstandTotBos', 'AfstandTotBegraafplaats']\n",
      "Dropped features: ['AfstandTotMuseum', 'InBezitOverigeVerhuurders', 'AfstandTotRestaurant', 'AfstandTotTreinstationsTotaal', 'InBezitWoningcorporatie', 'TotaalDiefstalUitWoningSchuurED', 'AfstandTotPodiumkunstenTotaal', 'PersonenautoSOverigeBrandstof']\n"
     ]
    }
   ],
   "source": [
    "# Get the accuracy score of the model with all the features\n",
    "mlp = MLPRegressor(random_state=0).fit(X_train, y_train)\n",
    "best_model = mlp\n",
    "selected_features = X_train.columns.tolist()\n",
    "best_features = selected_features\n",
    "best_features_accuracy = cross_val_score(MLPRegressor(random_state=0), X_train, y_train, cv=10, scoring='neg_mean_squared_error', n_jobs=-1).mean()\n",
    "\n",
    "while True:\n",
    "    # Retrieve the learned weights\n",
    "    weights = mlp.coefs_[0]  # Weights connecting input features to the first hidden layer\n",
    "\n",
    "    # Normalize the weights\n",
    "    normalized_weights = np.abs(weights) / np.sum(np.abs(weights), axis=0)\n",
    "\n",
    "    # Calculate feature importance\n",
    "    feature_importance = np.mean(normalized_weights, axis=1)\n",
    "\n",
    "    # Sort features based on their importance\n",
    "    sorted_indices = np.argsort(feature_importance)\n",
    "    selected_features = [selected_features[i] for i in sorted_indices[:-1]]\n",
    "\n",
    "    # When there are no features left\n",
    "    if len(selected_features) == 0:\n",
    "        break\n",
    "    \n",
    "    # Refit the Model\n",
    "    mlp = MLPRegressor(random_state=0).fit(X_train[selected_features], y_train)\n",
    "\n",
    "    # Evaluate Model Performance\n",
    "    accuracy = cross_val_score(MLPRegressor(random_state=0), X_train[selected_features], y_train, cv=10, scoring='neg_mean_squared_error', n_jobs=-1).mean()\n",
    "\n",
    "    # Check if the model performs better without the insignificant features\n",
    "    if accuracy >= best_features_accuracy:\n",
    "        best_features_accuracy = accuracy\n",
    "        best_features = selected_features.copy()\n",
    "        best_model = mlp\n",
    "\n",
    "# Save results\n",
    "best_model_nn = best_model\n",
    "best_features_nn = best_features\n",
    "\n",
    "# Show results\n",
    "print(\"Best features:\", best_features_nn)\n",
    "print(\"Dropped features:\", list(set(X_train.columns.tolist()) - set(best_features_nn)))"
   ]
  },
  {
   "attachments": {},
   "cell_type": "markdown",
   "metadata": {},
   "source": [
    "**Hyperparameter optimalisatie**"
   ]
  },
  {
   "cell_type": "code",
   "execution_count": 19,
   "metadata": {},
   "outputs": [
    {
     "name": "stdout",
     "output_type": "stream",
     "text": [
      "|   iter    |  target   |   alpha   | hidden... | learni... | max_iter  |\n",
      "-------------------------------------------------------------------------\n",
      "| \u001b[0m1        \u001b[0m | \u001b[0m-1.262   \u001b[0m | \u001b[0m0.01107  \u001b[0m | \u001b[0m50.59    \u001b[0m | \u001b[0m0.04931  \u001b[0m | \u001b[0m157.4    \u001b[0m |\n",
      "| \u001b[0m2        \u001b[0m | \u001b[0m-1.269   \u001b[0m | \u001b[0m0.0221   \u001b[0m | \u001b[0m48.37    \u001b[0m | \u001b[0m0.09224  \u001b[0m | \u001b[0m789.5    \u001b[0m |\n",
      "| \u001b[95m3        \u001b[0m | \u001b[95m-1.256   \u001b[0m | \u001b[95m0.009029 \u001b[0m | \u001b[95m89.67    \u001b[0m | \u001b[95m0.04827  \u001b[0m | \u001b[95m970.4    \u001b[0m |\n",
      "| \u001b[0m4        \u001b[0m | \u001b[0m-1.261   \u001b[0m | \u001b[0m0.04636  \u001b[0m | \u001b[0m82.75    \u001b[0m | \u001b[0m0.0349   \u001b[0m | \u001b[0m620.3    \u001b[0m |\n",
      "| \u001b[0m5        \u001b[0m | \u001b[0m-1.27    \u001b[0m | \u001b[0m0.0209   \u001b[0m | \u001b[0m40.9     \u001b[0m | \u001b[0m0.0962   \u001b[0m | \u001b[0m441.1    \u001b[0m |\n",
      "| \u001b[0m6        \u001b[0m | \u001b[0m-1.263   \u001b[0m | \u001b[0m0.003881 \u001b[0m | \u001b[0m88.92    \u001b[0m | \u001b[0m0.009816 \u001b[0m | \u001b[0m820.2    \u001b[0m |\n",
      "| \u001b[0m7        \u001b[0m | \u001b[0m-1.262   \u001b[0m | \u001b[0m0.06051  \u001b[0m | \u001b[0m18.15    \u001b[0m | \u001b[0m0.0201   \u001b[0m | \u001b[0m599.7    \u001b[0m |\n",
      "| \u001b[0m8        \u001b[0m | \u001b[0m-1.263   \u001b[0m | \u001b[0m0.08335  \u001b[0m | \u001b[0m83.43    \u001b[0m | \u001b[0m0.07552  \u001b[0m | \u001b[0m257.5    \u001b[0m |\n",
      "| \u001b[95m9        \u001b[0m | \u001b[95m-1.248   \u001b[0m | \u001b[95m0.03661  \u001b[0m | \u001b[95m92.76    \u001b[0m | \u001b[95m0.09476  \u001b[0m | \u001b[95m668.3    \u001b[0m |\n",
      "| \u001b[0m10       \u001b[0m | \u001b[0m-1.263   \u001b[0m | \u001b[0m0.03525  \u001b[0m | \u001b[0m85.2     \u001b[0m | \u001b[0m0.09277  \u001b[0m | \u001b[0m974.3    \u001b[0m |\n",
      "| \u001b[0m11       \u001b[0m | \u001b[0m-1.259   \u001b[0m | \u001b[0m0.002967 \u001b[0m | \u001b[0m90.1     \u001b[0m | \u001b[0m0.00878  \u001b[0m | \u001b[0m970.1    \u001b[0m |\n",
      "| \u001b[0m12       \u001b[0m | \u001b[0m-1.272   \u001b[0m | \u001b[0m0.01774  \u001b[0m | \u001b[0m94.85    \u001b[0m | \u001b[0m0.0858   \u001b[0m | \u001b[0m667.3    \u001b[0m |\n",
      "| \u001b[0m13       \u001b[0m | \u001b[0m-1.269   \u001b[0m | \u001b[0m0.07862  \u001b[0m | \u001b[0m93.51    \u001b[0m | \u001b[0m0.08519  \u001b[0m | \u001b[0m668.9    \u001b[0m |\n",
      "| \u001b[0m14       \u001b[0m | \u001b[0m-1.259   \u001b[0m | \u001b[0m0.073    \u001b[0m | \u001b[0m61.77    \u001b[0m | \u001b[0m0.01601  \u001b[0m | \u001b[0m333.8    \u001b[0m |\n",
      "| \u001b[0m15       \u001b[0m | \u001b[0m-1.262   \u001b[0m | \u001b[0m0.08363  \u001b[0m | \u001b[0m61.05    \u001b[0m | \u001b[0m0.01759  \u001b[0m | \u001b[0m333.7    \u001b[0m |\n",
      "| \u001b[0m16       \u001b[0m | \u001b[0m-1.272   \u001b[0m | \u001b[0m0.0366   \u001b[0m | \u001b[0m92.58    \u001b[0m | \u001b[0m0.09278  \u001b[0m | \u001b[0m668.1    \u001b[0m |\n",
      "| \u001b[0m17       \u001b[0m | \u001b[0m-1.254   \u001b[0m | \u001b[0m0.08254  \u001b[0m | \u001b[0m51.04    \u001b[0m | \u001b[0m0.04867  \u001b[0m | \u001b[0m583.5    \u001b[0m |\n",
      "| \u001b[0m18       \u001b[0m | \u001b[0m-1.268   \u001b[0m | \u001b[0m0.04885  \u001b[0m | \u001b[0m18.3     \u001b[0m | \u001b[0m0.04737  \u001b[0m | \u001b[0m136.0    \u001b[0m |\n",
      "| \u001b[0m19       \u001b[0m | \u001b[0m-1.259   \u001b[0m | \u001b[0m0.09358  \u001b[0m | \u001b[0m62.13    \u001b[0m | \u001b[0m0.01063  \u001b[0m | \u001b[0m705.6    \u001b[0m |\n",
      "| \u001b[0m20       \u001b[0m | \u001b[0m-1.261   \u001b[0m | \u001b[0m0.09916  \u001b[0m | \u001b[0m77.43    \u001b[0m | \u001b[0m0.04956  \u001b[0m | \u001b[0m721.5    \u001b[0m |\n",
      "| \u001b[0m21       \u001b[0m | \u001b[0m-1.258   \u001b[0m | \u001b[0m0.02364  \u001b[0m | \u001b[0m67.08    \u001b[0m | \u001b[0m0.051    \u001b[0m | \u001b[0m952.6    \u001b[0m |\n",
      "| \u001b[0m22       \u001b[0m | \u001b[0m-1.261   \u001b[0m | \u001b[0m0.08531  \u001b[0m | \u001b[0m68.13    \u001b[0m | \u001b[0m0.07151  \u001b[0m | \u001b[0m908.4    \u001b[0m |\n",
      "| \u001b[0m23       \u001b[0m | \u001b[0m-1.261   \u001b[0m | \u001b[0m0.06591  \u001b[0m | \u001b[0m90.32    \u001b[0m | \u001b[0m0.06458  \u001b[0m | \u001b[0m461.9    \u001b[0m |\n",
      "| \u001b[0m24       \u001b[0m | \u001b[0m-1.273   \u001b[0m | \u001b[0m0.05758  \u001b[0m | \u001b[0m50.93    \u001b[0m | \u001b[0m0.08959  \u001b[0m | \u001b[0m896.3    \u001b[0m |\n",
      "| \u001b[0m25       \u001b[0m | \u001b[0m-1.251   \u001b[0m | \u001b[0m0.08044  \u001b[0m | \u001b[0m18.74    \u001b[0m | \u001b[0m0.02427  \u001b[0m | \u001b[0m150.2    \u001b[0m |\n",
      "| \u001b[0m26       \u001b[0m | \u001b[0m-1.262   \u001b[0m | \u001b[0m0.078    \u001b[0m | \u001b[0m56.54    \u001b[0m | \u001b[0m0.06345  \u001b[0m | \u001b[0m328.8    \u001b[0m |\n",
      "| \u001b[0m27       \u001b[0m | \u001b[0m-1.264   \u001b[0m | \u001b[0m0.01651  \u001b[0m | \u001b[0m71.16    \u001b[0m | \u001b[0m0.03694  \u001b[0m | \u001b[0m218.5    \u001b[0m |\n",
      "| \u001b[0m28       \u001b[0m | \u001b[0m-1.255   \u001b[0m | \u001b[0m0.05569  \u001b[0m | \u001b[0m33.64    \u001b[0m | \u001b[0m0.05921  \u001b[0m | \u001b[0m863.5    \u001b[0m |\n",
      "| \u001b[0m29       \u001b[0m | \u001b[0m-1.262   \u001b[0m | \u001b[0m0.09532  \u001b[0m | \u001b[0m16.11    \u001b[0m | \u001b[0m0.03727  \u001b[0m | \u001b[0m863.3    \u001b[0m |\n",
      "| \u001b[0m30       \u001b[0m | \u001b[0m-1.261   \u001b[0m | \u001b[0m0.09389  \u001b[0m | \u001b[0m55.42    \u001b[0m | \u001b[0m0.02888  \u001b[0m | \u001b[0m136.6    \u001b[0m |\n",
      "| \u001b[0m31       \u001b[0m | \u001b[0m-1.259   \u001b[0m | \u001b[0m0.03125  \u001b[0m | \u001b[0m87.67    \u001b[0m | \u001b[0m0.07573  \u001b[0m | \u001b[0m833.8    \u001b[0m |\n",
      "| \u001b[0m32       \u001b[0m | \u001b[0m-1.275   \u001b[0m | \u001b[0m0.06098  \u001b[0m | \u001b[0m13.3     \u001b[0m | \u001b[0m0.05565  \u001b[0m | \u001b[0m807.1    \u001b[0m |\n",
      "| \u001b[0m33       \u001b[0m | \u001b[0m-1.269   \u001b[0m | \u001b[0m0.01606  \u001b[0m | \u001b[0m51.78    \u001b[0m | \u001b[0m0.03915  \u001b[0m | \u001b[0m797.8    \u001b[0m |\n",
      "| \u001b[0m34       \u001b[0m | \u001b[0m-1.263   \u001b[0m | \u001b[0m0.03006  \u001b[0m | \u001b[0m43.43    \u001b[0m | \u001b[0m0.05005  \u001b[0m | \u001b[0m516.8    \u001b[0m |\n",
      "| \u001b[0m35       \u001b[0m | \u001b[0m-1.259   \u001b[0m | \u001b[0m0.05066  \u001b[0m | \u001b[0m57.13    \u001b[0m | \u001b[0m0.08965  \u001b[0m | \u001b[0m790.5    \u001b[0m |\n",
      "| \u001b[0m36       \u001b[0m | \u001b[0m-1.262   \u001b[0m | \u001b[0m0.005643 \u001b[0m | \u001b[0m89.67    \u001b[0m | \u001b[0m0.06479  \u001b[0m | \u001b[0m634.6    \u001b[0m |\n",
      "| \u001b[0m37       \u001b[0m | \u001b[0m-1.262   \u001b[0m | \u001b[0m0.03038  \u001b[0m | \u001b[0m29.94    \u001b[0m | \u001b[0m0.03701  \u001b[0m | \u001b[0m115.2    \u001b[0m |\n",
      "| \u001b[0m38       \u001b[0m | \u001b[0m-1.26    \u001b[0m | \u001b[0m0.03803  \u001b[0m | \u001b[0m76.04    \u001b[0m | \u001b[0m0.007627 \u001b[0m | \u001b[0m875.4    \u001b[0m |\n",
      "| \u001b[0m39       \u001b[0m | \u001b[0m-1.257   \u001b[0m | \u001b[0m0.07276  \u001b[0m | \u001b[0m36.25    \u001b[0m | \u001b[0m0.04445  \u001b[0m | \u001b[0m772.8    \u001b[0m |\n",
      "| \u001b[0m40       \u001b[0m | \u001b[0m-1.256   \u001b[0m | \u001b[0m0.0434   \u001b[0m | \u001b[0m79.68    \u001b[0m | \u001b[0m0.03547  \u001b[0m | \u001b[0m438.4    \u001b[0m |\n",
      "| \u001b[0m41       \u001b[0m | \u001b[0m-1.268   \u001b[0m | \u001b[0m0.07663  \u001b[0m | \u001b[0m42.48    \u001b[0m | \u001b[0m0.08627  \u001b[0m | \u001b[0m507.3    \u001b[0m |\n",
      "| \u001b[0m42       \u001b[0m | \u001b[0m-1.261   \u001b[0m | \u001b[0m0.005572 \u001b[0m | \u001b[0m95.84    \u001b[0m | \u001b[0m0.03959  \u001b[0m | \u001b[0m381.8    \u001b[0m |\n",
      "| \u001b[0m43       \u001b[0m | \u001b[0m-1.257   \u001b[0m | \u001b[0m0.09737  \u001b[0m | \u001b[0m89.06    \u001b[0m | \u001b[0m0.01668  \u001b[0m | \u001b[0m258.6    \u001b[0m |\n",
      "| \u001b[0m44       \u001b[0m | \u001b[0m-1.257   \u001b[0m | \u001b[0m0.0957   \u001b[0m | \u001b[0m97.51    \u001b[0m | \u001b[0m0.06441  \u001b[0m | \u001b[0m751.7    \u001b[0m |\n",
      "| \u001b[0m45       \u001b[0m | \u001b[0m-1.271   \u001b[0m | \u001b[0m0.05354  \u001b[0m | \u001b[0m31.73    \u001b[0m | \u001b[0m0.07581  \u001b[0m | \u001b[0m373.8    \u001b[0m |\n",
      "| \u001b[0m46       \u001b[0m | \u001b[0m-1.264   \u001b[0m | \u001b[0m0.01655  \u001b[0m | \u001b[0m15.97    \u001b[0m | \u001b[0m0.01161  \u001b[0m | \u001b[0m388.3    \u001b[0m |\n",
      "| \u001b[0m47       \u001b[0m | \u001b[0m-1.272   \u001b[0m | \u001b[0m0.06058  \u001b[0m | \u001b[0m18.67    \u001b[0m | \u001b[0m0.07012  \u001b[0m | \u001b[0m325.2    \u001b[0m |\n",
      "| \u001b[0m48       \u001b[0m | \u001b[0m-1.256   \u001b[0m | \u001b[0m0.007981 \u001b[0m | \u001b[0m89.59    \u001b[0m | \u001b[0m0.01938  \u001b[0m | \u001b[0m190.6    \u001b[0m |\n",
      "| \u001b[0m49       \u001b[0m | \u001b[0m-1.266   \u001b[0m | \u001b[0m0.08205  \u001b[0m | \u001b[0m90.31    \u001b[0m | \u001b[0m0.007354 \u001b[0m | \u001b[0m977.5    \u001b[0m |\n",
      "| \u001b[0m50       \u001b[0m | \u001b[0m-1.258   \u001b[0m | \u001b[0m0.02229  \u001b[0m | \u001b[0m31.8     \u001b[0m | \u001b[0m0.03685  \u001b[0m | \u001b[0m668.3    \u001b[0m |\n",
      "=========================================================================\n"
     ]
    },
    {
     "data": {
      "text/html": [
       "<style>#sk-container-id-4 {color: black;background-color: white;}#sk-container-id-4 pre{padding: 0;}#sk-container-id-4 div.sk-toggleable {background-color: white;}#sk-container-id-4 label.sk-toggleable__label {cursor: pointer;display: block;width: 100%;margin-bottom: 0;padding: 0.3em;box-sizing: border-box;text-align: center;}#sk-container-id-4 label.sk-toggleable__label-arrow:before {content: \"▸\";float: left;margin-right: 0.25em;color: #696969;}#sk-container-id-4 label.sk-toggleable__label-arrow:hover:before {color: black;}#sk-container-id-4 div.sk-estimator:hover label.sk-toggleable__label-arrow:before {color: black;}#sk-container-id-4 div.sk-toggleable__content {max-height: 0;max-width: 0;overflow: hidden;text-align: left;background-color: #f0f8ff;}#sk-container-id-4 div.sk-toggleable__content pre {margin: 0.2em;color: black;border-radius: 0.25em;background-color: #f0f8ff;}#sk-container-id-4 input.sk-toggleable__control:checked~div.sk-toggleable__content {max-height: 200px;max-width: 100%;overflow: auto;}#sk-container-id-4 input.sk-toggleable__control:checked~label.sk-toggleable__label-arrow:before {content: \"▾\";}#sk-container-id-4 div.sk-estimator input.sk-toggleable__control:checked~label.sk-toggleable__label {background-color: #d4ebff;}#sk-container-id-4 div.sk-label input.sk-toggleable__control:checked~label.sk-toggleable__label {background-color: #d4ebff;}#sk-container-id-4 input.sk-hidden--visually {border: 0;clip: rect(1px 1px 1px 1px);clip: rect(1px, 1px, 1px, 1px);height: 1px;margin: -1px;overflow: hidden;padding: 0;position: absolute;width: 1px;}#sk-container-id-4 div.sk-estimator {font-family: monospace;background-color: #f0f8ff;border: 1px dotted black;border-radius: 0.25em;box-sizing: border-box;margin-bottom: 0.5em;}#sk-container-id-4 div.sk-estimator:hover {background-color: #d4ebff;}#sk-container-id-4 div.sk-parallel-item::after {content: \"\";width: 100%;border-bottom: 1px solid gray;flex-grow: 1;}#sk-container-id-4 div.sk-label:hover label.sk-toggleable__label {background-color: #d4ebff;}#sk-container-id-4 div.sk-serial::before {content: \"\";position: absolute;border-left: 1px solid gray;box-sizing: border-box;top: 0;bottom: 0;left: 50%;z-index: 0;}#sk-container-id-4 div.sk-serial {display: flex;flex-direction: column;align-items: center;background-color: white;padding-right: 0.2em;padding-left: 0.2em;position: relative;}#sk-container-id-4 div.sk-item {position: relative;z-index: 1;}#sk-container-id-4 div.sk-parallel {display: flex;align-items: stretch;justify-content: center;background-color: white;position: relative;}#sk-container-id-4 div.sk-item::before, #sk-container-id-4 div.sk-parallel-item::before {content: \"\";position: absolute;border-left: 1px solid gray;box-sizing: border-box;top: 0;bottom: 0;left: 50%;z-index: -1;}#sk-container-id-4 div.sk-parallel-item {display: flex;flex-direction: column;z-index: 1;position: relative;background-color: white;}#sk-container-id-4 div.sk-parallel-item:first-child::after {align-self: flex-end;width: 50%;}#sk-container-id-4 div.sk-parallel-item:last-child::after {align-self: flex-start;width: 50%;}#sk-container-id-4 div.sk-parallel-item:only-child::after {width: 0;}#sk-container-id-4 div.sk-dashed-wrapped {border: 1px dashed gray;margin: 0 0.4em 0.5em 0.4em;box-sizing: border-box;padding-bottom: 0.4em;background-color: white;}#sk-container-id-4 div.sk-label label {font-family: monospace;font-weight: bold;display: inline-block;line-height: 1.2em;}#sk-container-id-4 div.sk-label-container {text-align: center;}#sk-container-id-4 div.sk-container {/* jupyter's `normalize.less` sets `[hidden] { display: none; }` but bootstrap.min.css set `[hidden] { display: none !important; }` so we also need the `!important` here to be able to override the default hidden behavior on the sphinx rendered scikit-learn.org. See: https://github.com/scikit-learn/scikit-learn/issues/21755 */display: inline-block !important;position: relative;}#sk-container-id-4 div.sk-text-repr-fallback {display: none;}</style><div id=\"sk-container-id-4\" class=\"sk-top-container\"><div class=\"sk-text-repr-fallback\"><pre>MLPRegressor(alpha=0.036606516156542826, hidden_layer_sizes=(93,),\n",
       "             learning_rate_init=0.0947600635722376, max_iter=668)</pre><b>In a Jupyter environment, please rerun this cell to show the HTML representation or trust the notebook. <br />On GitHub, the HTML representation is unable to render, please try loading this page with nbviewer.org.</b></div><div class=\"sk-container\" hidden><div class=\"sk-item\"><div class=\"sk-estimator sk-toggleable\"><input class=\"sk-toggleable__control sk-hidden--visually\" id=\"sk-estimator-id-4\" type=\"checkbox\" checked><label for=\"sk-estimator-id-4\" class=\"sk-toggleable__label sk-toggleable__label-arrow\">MLPRegressor</label><div class=\"sk-toggleable__content\"><pre>MLPRegressor(alpha=0.036606516156542826, hidden_layer_sizes=(93,),\n",
       "             learning_rate_init=0.0947600635722376, max_iter=668)</pre></div></div></div></div></div>"
      ],
      "text/plain": [
       "MLPRegressor(alpha=0.036606516156542826, hidden_layer_sizes=(93,),\n",
       "             learning_rate_init=0.0947600635722376, max_iter=668)"
      ]
     },
     "execution_count": 19,
     "metadata": {},
     "output_type": "execute_result"
    }
   ],
   "source": [
    "def bo_params_generic(model, params, X_train, y_train):\n",
    "    # Create the model instance with the specified parameters\n",
    "    regressor = model(**params)\n",
    "    \n",
    "    # Calculating rmse based on\n",
    "    scores = cross_val_score(regressor, X_train, y_train, cv=10, scoring='neg_root_mean_squared_error')\n",
    "    return scores.mean()\n",
    "\n",
    "params_ranges = {\n",
    "    'hidden_layer_sizes': (10, 100),\n",
    "    'alpha': (0.0001, 0.1),\n",
    "    'learning_rate_init': (0.001, 0.1),\n",
    "    'max_iter': (100, 1000)\n",
    "}\n",
    "\n",
    "# Example usage with Neural Network\n",
    "model = MLPRegressor\n",
    "model_bo = BayesianOptimization(f=lambda hidden_layer_sizes, alpha, learning_rate_init, max_iter:\n",
    "                                    bo_params_generic(model, {\n",
    "                                        'hidden_layer_sizes': (int(round(hidden_layer_sizes)),),\n",
    "                                        'alpha': alpha,\n",
    "                                        'learning_rate_init': learning_rate_init,\n",
    "                                        'max_iter': int(round(max_iter))\n",
    "                                    }, X_train[best_features_nn], y_train),\n",
    "                             pbounds=params_ranges)\n",
    "\n",
    "results = model_bo.maximize(n_iter=40, init_points=10)\n",
    "params = model_bo.max['params']\n",
    "\n",
    "# Creating a model with the best hyperparameters\n",
    "best_model_nn = model(\n",
    "    hidden_layer_sizes=(int(round(params['hidden_layer_sizes'])),),\n",
    "    alpha=params['alpha'],\n",
    "    learning_rate_init=params['learning_rate_init'],\n",
    "    max_iter=int(round(params['max_iter']))\n",
    ")\n",
    "\n",
    "# Fit the model\n",
    "best_model_nn.fit(X_train[best_features_nn], y_train)"
   ]
  },
  {
   "attachments": {},
   "cell_type": "markdown",
   "metadata": {},
   "source": [
    "# plotting the bar chart"
   ]
  },
  {
   "attachments": {},
   "cell_type": "markdown",
   "metadata": {},
   "source": [
    "**using train dataset**"
   ]
  },
  {
   "cell_type": "code",
   "execution_count": 20,
   "metadata": {},
   "outputs": [
    {
     "data": {
      "text/plain": [
       "[{'model': 'Multiple Linear Regression',\n",
       "  'mae': 0.9325472013200807,\n",
       "  'mse': 1.5705327731730543,\n",
       "  'rmse': 1.253208990221924,\n",
       "  'r2': 0.049020213502097065,\n",
       "  'adj_r2': -0.0243740368340144},\n",
       " {'model': 'Random Forest',\n",
       "  'mae': 0.9367582101915491,\n",
       "  'mse': 1.57991811571218,\n",
       "  'rmse': 1.2569479367548124,\n",
       "  'r2': 0.04333725597550231,\n",
       "  'adj_r2': -0.03049559086211051},\n",
       " {'model': 'Neural Network',\n",
       "  'mae': 0.9397737414801397,\n",
       "  'mse': 1.5912142684164559,\n",
       "  'rmse': 1.2614334181463784,\n",
       "  'r2': 0.036497275893293435,\n",
       "  'adj_r2': -0.03786346356367387},\n",
       " {'model': 'Support Vector Machine',\n",
       "  'mae': 0.9292606022834744,\n",
       "  'mse': 1.5892102138796138,\n",
       "  'rmse': 1.2606388118250262,\n",
       "  'r2': 0.03771075923355249,\n",
       "  'adj_r2': -0.03655632660288788}]"
      ]
     },
     "execution_count": 20,
     "metadata": {},
     "output_type": "execute_result"
    }
   ],
   "source": [
    "regression_models = [\n",
    "    {\n",
    "        'name': 'Multiple Linear Regression',\n",
    "        'model': best_model_mlr,\n",
    "        'features': best_features_mlr\n",
    "    },\n",
    "    {\n",
    "        'name': 'Random Forest',\n",
    "        'model': best_model_rf,\n",
    "        'features': best_features_rf\n",
    "    },\n",
    "    {\n",
    "        'name': 'Neural Network',\n",
    "        'model': best_model_nn,\n",
    "        'features': best_features_nn\n",
    "    },\n",
    "    {\n",
    "        'name': 'Support Vector Machine',\n",
    "        'model': best_model_svm,\n",
    "        'features': best_features_svm\n",
    "    }\n",
    "]\n",
    "\n",
    "regression_stats_val = []\n",
    "\n",
    "for model in regression_models:\n",
    "    try:\n",
    "        # Perform cross-validation and calculate predictions and metrics\n",
    "        y_pred = cross_val_predict(model['model'], X_train[model['features']], y_train, cv=10)\n",
    "        y_true = y_train\n",
    "    except: # cv can't be higher then n_splits in the dt\n",
    "        # Perform cross-validation and calculate predictions and metrics\n",
    "        y_pred = cross_val_predict(model['model'], X_train[model['features']], y_train, cv=5)\n",
    "        y_true = y_train\n",
    "\n",
    "    # R2 Score\n",
    "    r2 = r2_score(y_true, y_pred)\n",
    "\n",
    "    # Adjusted R2 Score\n",
    "    n = len(y_true)  # Number of samples\n",
    "    p = X_test.shape[1]  # Number of predictors (features) in X\n",
    "    adj_r2 = 1 - ((1 - r2) * (n - 1)) / (n - p - 1)\n",
    "\n",
    "    # Save stats\n",
    "    regression_stats_val.append(\n",
    "        {\n",
    "            'model': model['name'],\n",
    "            'mae': mean_absolute_error(y_true, y_pred),\n",
    "            'mse': mean_squared_error(y_true, y_pred),\n",
    "            'rmse': np.sqrt(mean_squared_error(y_true, y_pred)),\n",
    "            'r2': r2,\n",
    "            'adj_r2': adj_r2\n",
    "        }\n",
    "    )\n",
    "\n",
    "# View stats\n",
    "regression_stats_val"
   ]
  },
  {
   "cell_type": "code",
   "execution_count": 21,
   "metadata": {},
   "outputs": [
    {
     "data": {
      "application/vnd.plotly.v1+json": {
       "config": {
        "plotlyServerURL": "https://plot.ly"
       },
       "data": [
        {
         "name": "mae",
         "type": "bar",
         "x": [
          "Multiple Linear Regression",
          "Random Forest",
          "Neural Network",
          "Support Vector Machine"
         ],
         "y": [
          0.9325472013200807,
          0.9367582101915491,
          0.9397737414801397,
          0.9292606022834744
         ]
        },
        {
         "name": "mse",
         "type": "bar",
         "x": [
          "Multiple Linear Regression",
          "Random Forest",
          "Neural Network",
          "Support Vector Machine"
         ],
         "y": [
          1.5705327731730543,
          1.57991811571218,
          1.5912142684164559,
          1.5892102138796138
         ]
        },
        {
         "name": "rmse",
         "type": "bar",
         "x": [
          "Multiple Linear Regression",
          "Random Forest",
          "Neural Network",
          "Support Vector Machine"
         ],
         "y": [
          1.253208990221924,
          1.2569479367548124,
          1.2614334181463784,
          1.2606388118250262
         ]
        },
        {
         "name": "r2",
         "type": "bar",
         "x": [
          "Multiple Linear Regression",
          "Random Forest",
          "Neural Network",
          "Support Vector Machine"
         ],
         "y": [
          0.049020213502097065,
          0.04333725597550231,
          0.036497275893293435,
          0.03771075923355249
         ]
        },
        {
         "name": "adj_r2",
         "type": "bar",
         "x": [
          "Multiple Linear Regression",
          "Random Forest",
          "Neural Network",
          "Support Vector Machine"
         ],
         "y": [
          -0.0243740368340144,
          -0.03049559086211051,
          -0.03786346356367387,
          -0.03655632660288788
         ]
        }
       ],
       "layout": {
        "barmode": "group",
        "template": {
         "data": {
          "bar": [
           {
            "error_x": {
             "color": "#2a3f5f"
            },
            "error_y": {
             "color": "#2a3f5f"
            },
            "marker": {
             "line": {
              "color": "#E5ECF6",
              "width": 0.5
             },
             "pattern": {
              "fillmode": "overlay",
              "size": 10,
              "solidity": 0.2
             }
            },
            "type": "bar"
           }
          ],
          "barpolar": [
           {
            "marker": {
             "line": {
              "color": "#E5ECF6",
              "width": 0.5
             },
             "pattern": {
              "fillmode": "overlay",
              "size": 10,
              "solidity": 0.2
             }
            },
            "type": "barpolar"
           }
          ],
          "carpet": [
           {
            "aaxis": {
             "endlinecolor": "#2a3f5f",
             "gridcolor": "white",
             "linecolor": "white",
             "minorgridcolor": "white",
             "startlinecolor": "#2a3f5f"
            },
            "baxis": {
             "endlinecolor": "#2a3f5f",
             "gridcolor": "white",
             "linecolor": "white",
             "minorgridcolor": "white",
             "startlinecolor": "#2a3f5f"
            },
            "type": "carpet"
           }
          ],
          "choropleth": [
           {
            "colorbar": {
             "outlinewidth": 0,
             "ticks": ""
            },
            "type": "choropleth"
           }
          ],
          "contour": [
           {
            "colorbar": {
             "outlinewidth": 0,
             "ticks": ""
            },
            "colorscale": [
             [
              0,
              "#0d0887"
             ],
             [
              0.1111111111111111,
              "#46039f"
             ],
             [
              0.2222222222222222,
              "#7201a8"
             ],
             [
              0.3333333333333333,
              "#9c179e"
             ],
             [
              0.4444444444444444,
              "#bd3786"
             ],
             [
              0.5555555555555556,
              "#d8576b"
             ],
             [
              0.6666666666666666,
              "#ed7953"
             ],
             [
              0.7777777777777778,
              "#fb9f3a"
             ],
             [
              0.8888888888888888,
              "#fdca26"
             ],
             [
              1,
              "#f0f921"
             ]
            ],
            "type": "contour"
           }
          ],
          "contourcarpet": [
           {
            "colorbar": {
             "outlinewidth": 0,
             "ticks": ""
            },
            "type": "contourcarpet"
           }
          ],
          "heatmap": [
           {
            "colorbar": {
             "outlinewidth": 0,
             "ticks": ""
            },
            "colorscale": [
             [
              0,
              "#0d0887"
             ],
             [
              0.1111111111111111,
              "#46039f"
             ],
             [
              0.2222222222222222,
              "#7201a8"
             ],
             [
              0.3333333333333333,
              "#9c179e"
             ],
             [
              0.4444444444444444,
              "#bd3786"
             ],
             [
              0.5555555555555556,
              "#d8576b"
             ],
             [
              0.6666666666666666,
              "#ed7953"
             ],
             [
              0.7777777777777778,
              "#fb9f3a"
             ],
             [
              0.8888888888888888,
              "#fdca26"
             ],
             [
              1,
              "#f0f921"
             ]
            ],
            "type": "heatmap"
           }
          ],
          "heatmapgl": [
           {
            "colorbar": {
             "outlinewidth": 0,
             "ticks": ""
            },
            "colorscale": [
             [
              0,
              "#0d0887"
             ],
             [
              0.1111111111111111,
              "#46039f"
             ],
             [
              0.2222222222222222,
              "#7201a8"
             ],
             [
              0.3333333333333333,
              "#9c179e"
             ],
             [
              0.4444444444444444,
              "#bd3786"
             ],
             [
              0.5555555555555556,
              "#d8576b"
             ],
             [
              0.6666666666666666,
              "#ed7953"
             ],
             [
              0.7777777777777778,
              "#fb9f3a"
             ],
             [
              0.8888888888888888,
              "#fdca26"
             ],
             [
              1,
              "#f0f921"
             ]
            ],
            "type": "heatmapgl"
           }
          ],
          "histogram": [
           {
            "marker": {
             "pattern": {
              "fillmode": "overlay",
              "size": 10,
              "solidity": 0.2
             }
            },
            "type": "histogram"
           }
          ],
          "histogram2d": [
           {
            "colorbar": {
             "outlinewidth": 0,
             "ticks": ""
            },
            "colorscale": [
             [
              0,
              "#0d0887"
             ],
             [
              0.1111111111111111,
              "#46039f"
             ],
             [
              0.2222222222222222,
              "#7201a8"
             ],
             [
              0.3333333333333333,
              "#9c179e"
             ],
             [
              0.4444444444444444,
              "#bd3786"
             ],
             [
              0.5555555555555556,
              "#d8576b"
             ],
             [
              0.6666666666666666,
              "#ed7953"
             ],
             [
              0.7777777777777778,
              "#fb9f3a"
             ],
             [
              0.8888888888888888,
              "#fdca26"
             ],
             [
              1,
              "#f0f921"
             ]
            ],
            "type": "histogram2d"
           }
          ],
          "histogram2dcontour": [
           {
            "colorbar": {
             "outlinewidth": 0,
             "ticks": ""
            },
            "colorscale": [
             [
              0,
              "#0d0887"
             ],
             [
              0.1111111111111111,
              "#46039f"
             ],
             [
              0.2222222222222222,
              "#7201a8"
             ],
             [
              0.3333333333333333,
              "#9c179e"
             ],
             [
              0.4444444444444444,
              "#bd3786"
             ],
             [
              0.5555555555555556,
              "#d8576b"
             ],
             [
              0.6666666666666666,
              "#ed7953"
             ],
             [
              0.7777777777777778,
              "#fb9f3a"
             ],
             [
              0.8888888888888888,
              "#fdca26"
             ],
             [
              1,
              "#f0f921"
             ]
            ],
            "type": "histogram2dcontour"
           }
          ],
          "mesh3d": [
           {
            "colorbar": {
             "outlinewidth": 0,
             "ticks": ""
            },
            "type": "mesh3d"
           }
          ],
          "parcoords": [
           {
            "line": {
             "colorbar": {
              "outlinewidth": 0,
              "ticks": ""
             }
            },
            "type": "parcoords"
           }
          ],
          "pie": [
           {
            "automargin": true,
            "type": "pie"
           }
          ],
          "scatter": [
           {
            "fillpattern": {
             "fillmode": "overlay",
             "size": 10,
             "solidity": 0.2
            },
            "type": "scatter"
           }
          ],
          "scatter3d": [
           {
            "line": {
             "colorbar": {
              "outlinewidth": 0,
              "ticks": ""
             }
            },
            "marker": {
             "colorbar": {
              "outlinewidth": 0,
              "ticks": ""
             }
            },
            "type": "scatter3d"
           }
          ],
          "scattercarpet": [
           {
            "marker": {
             "colorbar": {
              "outlinewidth": 0,
              "ticks": ""
             }
            },
            "type": "scattercarpet"
           }
          ],
          "scattergeo": [
           {
            "marker": {
             "colorbar": {
              "outlinewidth": 0,
              "ticks": ""
             }
            },
            "type": "scattergeo"
           }
          ],
          "scattergl": [
           {
            "marker": {
             "colorbar": {
              "outlinewidth": 0,
              "ticks": ""
             }
            },
            "type": "scattergl"
           }
          ],
          "scattermapbox": [
           {
            "marker": {
             "colorbar": {
              "outlinewidth": 0,
              "ticks": ""
             }
            },
            "type": "scattermapbox"
           }
          ],
          "scatterpolar": [
           {
            "marker": {
             "colorbar": {
              "outlinewidth": 0,
              "ticks": ""
             }
            },
            "type": "scatterpolar"
           }
          ],
          "scatterpolargl": [
           {
            "marker": {
             "colorbar": {
              "outlinewidth": 0,
              "ticks": ""
             }
            },
            "type": "scatterpolargl"
           }
          ],
          "scatterternary": [
           {
            "marker": {
             "colorbar": {
              "outlinewidth": 0,
              "ticks": ""
             }
            },
            "type": "scatterternary"
           }
          ],
          "surface": [
           {
            "colorbar": {
             "outlinewidth": 0,
             "ticks": ""
            },
            "colorscale": [
             [
              0,
              "#0d0887"
             ],
             [
              0.1111111111111111,
              "#46039f"
             ],
             [
              0.2222222222222222,
              "#7201a8"
             ],
             [
              0.3333333333333333,
              "#9c179e"
             ],
             [
              0.4444444444444444,
              "#bd3786"
             ],
             [
              0.5555555555555556,
              "#d8576b"
             ],
             [
              0.6666666666666666,
              "#ed7953"
             ],
             [
              0.7777777777777778,
              "#fb9f3a"
             ],
             [
              0.8888888888888888,
              "#fdca26"
             ],
             [
              1,
              "#f0f921"
             ]
            ],
            "type": "surface"
           }
          ],
          "table": [
           {
            "cells": {
             "fill": {
              "color": "#EBF0F8"
             },
             "line": {
              "color": "white"
             }
            },
            "header": {
             "fill": {
              "color": "#C8D4E3"
             },
             "line": {
              "color": "white"
             }
            },
            "type": "table"
           }
          ]
         },
         "layout": {
          "annotationdefaults": {
           "arrowcolor": "#2a3f5f",
           "arrowhead": 0,
           "arrowwidth": 1
          },
          "autotypenumbers": "strict",
          "coloraxis": {
           "colorbar": {
            "outlinewidth": 0,
            "ticks": ""
           }
          },
          "colorscale": {
           "diverging": [
            [
             0,
             "#8e0152"
            ],
            [
             0.1,
             "#c51b7d"
            ],
            [
             0.2,
             "#de77ae"
            ],
            [
             0.3,
             "#f1b6da"
            ],
            [
             0.4,
             "#fde0ef"
            ],
            [
             0.5,
             "#f7f7f7"
            ],
            [
             0.6,
             "#e6f5d0"
            ],
            [
             0.7,
             "#b8e186"
            ],
            [
             0.8,
             "#7fbc41"
            ],
            [
             0.9,
             "#4d9221"
            ],
            [
             1,
             "#276419"
            ]
           ],
           "sequential": [
            [
             0,
             "#0d0887"
            ],
            [
             0.1111111111111111,
             "#46039f"
            ],
            [
             0.2222222222222222,
             "#7201a8"
            ],
            [
             0.3333333333333333,
             "#9c179e"
            ],
            [
             0.4444444444444444,
             "#bd3786"
            ],
            [
             0.5555555555555556,
             "#d8576b"
            ],
            [
             0.6666666666666666,
             "#ed7953"
            ],
            [
             0.7777777777777778,
             "#fb9f3a"
            ],
            [
             0.8888888888888888,
             "#fdca26"
            ],
            [
             1,
             "#f0f921"
            ]
           ],
           "sequentialminus": [
            [
             0,
             "#0d0887"
            ],
            [
             0.1111111111111111,
             "#46039f"
            ],
            [
             0.2222222222222222,
             "#7201a8"
            ],
            [
             0.3333333333333333,
             "#9c179e"
            ],
            [
             0.4444444444444444,
             "#bd3786"
            ],
            [
             0.5555555555555556,
             "#d8576b"
            ],
            [
             0.6666666666666666,
             "#ed7953"
            ],
            [
             0.7777777777777778,
             "#fb9f3a"
            ],
            [
             0.8888888888888888,
             "#fdca26"
            ],
            [
             1,
             "#f0f921"
            ]
           ]
          },
          "colorway": [
           "#636efa",
           "#EF553B",
           "#00cc96",
           "#ab63fa",
           "#FFA15A",
           "#19d3f3",
           "#FF6692",
           "#B6E880",
           "#FF97FF",
           "#FECB52"
          ],
          "font": {
           "color": "#2a3f5f"
          },
          "geo": {
           "bgcolor": "white",
           "lakecolor": "white",
           "landcolor": "#E5ECF6",
           "showlakes": true,
           "showland": true,
           "subunitcolor": "white"
          },
          "hoverlabel": {
           "align": "left"
          },
          "hovermode": "closest",
          "mapbox": {
           "style": "light"
          },
          "paper_bgcolor": "white",
          "plot_bgcolor": "#E5ECF6",
          "polar": {
           "angularaxis": {
            "gridcolor": "white",
            "linecolor": "white",
            "ticks": ""
           },
           "bgcolor": "#E5ECF6",
           "radialaxis": {
            "gridcolor": "white",
            "linecolor": "white",
            "ticks": ""
           }
          },
          "scene": {
           "xaxis": {
            "backgroundcolor": "#E5ECF6",
            "gridcolor": "white",
            "gridwidth": 2,
            "linecolor": "white",
            "showbackground": true,
            "ticks": "",
            "zerolinecolor": "white"
           },
           "yaxis": {
            "backgroundcolor": "#E5ECF6",
            "gridcolor": "white",
            "gridwidth": 2,
            "linecolor": "white",
            "showbackground": true,
            "ticks": "",
            "zerolinecolor": "white"
           },
           "zaxis": {
            "backgroundcolor": "#E5ECF6",
            "gridcolor": "white",
            "gridwidth": 2,
            "linecolor": "white",
            "showbackground": true,
            "ticks": "",
            "zerolinecolor": "white"
           }
          },
          "shapedefaults": {
           "line": {
            "color": "#2a3f5f"
           }
          },
          "ternary": {
           "aaxis": {
            "gridcolor": "white",
            "linecolor": "white",
            "ticks": ""
           },
           "baxis": {
            "gridcolor": "white",
            "linecolor": "white",
            "ticks": ""
           },
           "bgcolor": "#E5ECF6",
           "caxis": {
            "gridcolor": "white",
            "linecolor": "white",
            "ticks": ""
           }
          },
          "title": {
           "x": 0.05
          },
          "xaxis": {
           "automargin": true,
           "gridcolor": "white",
           "linecolor": "white",
           "ticks": "",
           "title": {
            "standoff": 15
           },
           "zerolinecolor": "white",
           "zerolinewidth": 2
          },
          "yaxis": {
           "automargin": true,
           "gridcolor": "white",
           "linecolor": "white",
           "ticks": "",
           "title": {
            "standoff": 15
           },
           "zerolinecolor": "white",
           "zerolinewidth": 2
          }
         }
        },
        "title": {
         "text": "Evaluation Metrics Comparison"
        },
        "xaxis": {
         "title": {
          "text": "Models"
         }
        },
        "yaxis": {
         "title": {
          "text": "Scores"
         }
        }
       }
      }
     },
     "metadata": {},
     "output_type": "display_data"
    }
   ],
   "source": [
    "# Extracting model names and metric scores\n",
    "model_names = [d['model'] for d in regression_stats_val]\n",
    "metric_labels = list(regression_stats_val[0].keys())[1:]\n",
    "metric_scores = {metric: [d[metric] for d in regression_stats_val] for metric in metric_labels}\n",
    "\n",
    "# Plotting the bar chart\n",
    "fig = go.Figure()\n",
    "\n",
    "for metric in metric_labels:\n",
    "    fig.add_trace(go.Bar(\n",
    "        x=model_names,\n",
    "        y=metric_scores[metric],\n",
    "        name=metric\n",
    "    ))\n",
    "\n",
    "# Updating the layout\n",
    "fig.update_layout(\n",
    "    title='Evaluation Metrics Comparison',\n",
    "    xaxis_title='Models',\n",
    "    yaxis_title='Scores',\n",
    "    barmode='group'\n",
    ")\n",
    "\n",
    "# Display the plot\n",
    "fig.show()"
   ]
  },
  {
   "attachments": {},
   "cell_type": "markdown",
   "metadata": {},
   "source": [
    "**Evaluating on test data**"
   ]
  },
  {
   "cell_type": "code",
   "execution_count": 22,
   "metadata": {},
   "outputs": [
    {
     "data": {
      "text/plain": [
       "[{'model': 'Multiple Linear Regression',\n",
       "  'mae': 0.9768324368749295,\n",
       "  'mse': 1.7154191705024935,\n",
       "  'rmse': 1.309740115634584,\n",
       "  'r2': -0.0006624327837649879,\n",
       "  'adj_r2': -0.4032277793059693},\n",
       " {'model': 'Random Forest',\n",
       "  'mae': 0.961934393152983,\n",
       "  'mse': 1.6917660906320193,\n",
       "  'rmse': 1.3006790882581374,\n",
       "  'r2': 0.013135214376190696,\n",
       "  'adj_r2': -0.383879354552928},\n",
       " {'model': 'Neural Network',\n",
       "  'mae': 0.9750456502469834,\n",
       "  'mse': 1.7245631627083347,\n",
       "  'rmse': 1.313226242011762,\n",
       "  'r2': -0.005996434900211289,\n",
       "  'adj_r2': -0.41070764434282503},\n",
       " {'model': 'Support Vector Machine',\n",
       "  'mae': 0.9679885010940884,\n",
       "  'mse': 1.7352632673064325,\n",
       "  'rmse': 1.3172939183441303,\n",
       "  'r2': -0.012238170379381241,\n",
       "  'adj_r2': -0.4194604228308565}]"
      ]
     },
     "execution_count": 22,
     "metadata": {},
     "output_type": "execute_result"
    }
   ],
   "source": [
    "regression_models = [\n",
    "    {\n",
    "        'name': 'Multiple Linear Regression',\n",
    "        'model': best_model_mlr,\n",
    "        'features': best_features_mlr\n",
    "    },\n",
    "    {\n",
    "        'name': 'Random Forest',\n",
    "        'model': best_model_rf,\n",
    "        'features': best_features_rf\n",
    "    },\n",
    "    {\n",
    "        'name': 'Neural Network',\n",
    "        'model': best_model_nn,\n",
    "        'features': best_features_nn\n",
    "    },\n",
    "    {\n",
    "        'name': 'Support Vector Machine',\n",
    "        'model': best_model_svm,\n",
    "        'features': best_features_svm\n",
    "    }\n",
    "]\n",
    "\n",
    "regression_stats_test = []\n",
    "\n",
    "for model in regression_models:\n",
    "    # Make predictions on the test set\n",
    "    y_pred = model['model'].predict(X_test[model['features']])\n",
    "\n",
    "    # Defining Actual values\n",
    "    y_true = y_test.copy()\n",
    "\n",
    "    # R2 Score\n",
    "    r2 = r2_score(y_true, y_pred)\n",
    "\n",
    "    # Adjusted R2 Score\n",
    "    n = len(y_true)  # Number of samples\n",
    "    p = X_test.shape[1]  # Number of predictors (features) in X\n",
    "    adj_r2 = 1 - ((1 - r2) * (n - 1)) / (n - p - 1)\n",
    "\n",
    "    # Save stats\n",
    "    regression_stats_test.append(\n",
    "        {\n",
    "            'model': model['name'],\n",
    "            'mae': mean_absolute_error(y_true, y_pred),\n",
    "            'mse': mean_squared_error(y_true, y_pred),\n",
    "            'rmse': np.sqrt(mean_squared_error(y_true, y_pred)),\n",
    "            'r2': r2,\n",
    "            'adj_r2': adj_r2\n",
    "        }\n",
    "    )\n",
    "\n",
    "# View stats\n",
    "regression_stats_test"
   ]
  },
  {
   "cell_type": "code",
   "execution_count": 23,
   "metadata": {},
   "outputs": [
    {
     "data": {
      "application/vnd.plotly.v1+json": {
       "config": {
        "plotlyServerURL": "https://plot.ly"
       },
       "data": [
        {
         "name": "mae",
         "type": "bar",
         "x": [
          "Multiple Linear Regression",
          "Random Forest",
          "Neural Network",
          "Support Vector Machine"
         ],
         "y": [
          0.9768324368749295,
          0.961934393152983,
          0.9750456502469834,
          0.9679885010940884
         ]
        },
        {
         "name": "mse",
         "type": "bar",
         "x": [
          "Multiple Linear Regression",
          "Random Forest",
          "Neural Network",
          "Support Vector Machine"
         ],
         "y": [
          1.7154191705024935,
          1.6917660906320193,
          1.7245631627083347,
          1.7352632673064325
         ]
        },
        {
         "name": "rmse",
         "type": "bar",
         "x": [
          "Multiple Linear Regression",
          "Random Forest",
          "Neural Network",
          "Support Vector Machine"
         ],
         "y": [
          1.309740115634584,
          1.3006790882581374,
          1.313226242011762,
          1.3172939183441303
         ]
        },
        {
         "name": "r2",
         "type": "bar",
         "x": [
          "Multiple Linear Regression",
          "Random Forest",
          "Neural Network",
          "Support Vector Machine"
         ],
         "y": [
          -0.0006624327837649879,
          0.013135214376190696,
          -0.005996434900211289,
          -0.012238170379381241
         ]
        },
        {
         "name": "adj_r2",
         "type": "bar",
         "x": [
          "Multiple Linear Regression",
          "Random Forest",
          "Neural Network",
          "Support Vector Machine"
         ],
         "y": [
          -0.4032277793059693,
          -0.383879354552928,
          -0.41070764434282503,
          -0.4194604228308565
         ]
        }
       ],
       "layout": {
        "barmode": "group",
        "template": {
         "data": {
          "bar": [
           {
            "error_x": {
             "color": "#2a3f5f"
            },
            "error_y": {
             "color": "#2a3f5f"
            },
            "marker": {
             "line": {
              "color": "#E5ECF6",
              "width": 0.5
             },
             "pattern": {
              "fillmode": "overlay",
              "size": 10,
              "solidity": 0.2
             }
            },
            "type": "bar"
           }
          ],
          "barpolar": [
           {
            "marker": {
             "line": {
              "color": "#E5ECF6",
              "width": 0.5
             },
             "pattern": {
              "fillmode": "overlay",
              "size": 10,
              "solidity": 0.2
             }
            },
            "type": "barpolar"
           }
          ],
          "carpet": [
           {
            "aaxis": {
             "endlinecolor": "#2a3f5f",
             "gridcolor": "white",
             "linecolor": "white",
             "minorgridcolor": "white",
             "startlinecolor": "#2a3f5f"
            },
            "baxis": {
             "endlinecolor": "#2a3f5f",
             "gridcolor": "white",
             "linecolor": "white",
             "minorgridcolor": "white",
             "startlinecolor": "#2a3f5f"
            },
            "type": "carpet"
           }
          ],
          "choropleth": [
           {
            "colorbar": {
             "outlinewidth": 0,
             "ticks": ""
            },
            "type": "choropleth"
           }
          ],
          "contour": [
           {
            "colorbar": {
             "outlinewidth": 0,
             "ticks": ""
            },
            "colorscale": [
             [
              0,
              "#0d0887"
             ],
             [
              0.1111111111111111,
              "#46039f"
             ],
             [
              0.2222222222222222,
              "#7201a8"
             ],
             [
              0.3333333333333333,
              "#9c179e"
             ],
             [
              0.4444444444444444,
              "#bd3786"
             ],
             [
              0.5555555555555556,
              "#d8576b"
             ],
             [
              0.6666666666666666,
              "#ed7953"
             ],
             [
              0.7777777777777778,
              "#fb9f3a"
             ],
             [
              0.8888888888888888,
              "#fdca26"
             ],
             [
              1,
              "#f0f921"
             ]
            ],
            "type": "contour"
           }
          ],
          "contourcarpet": [
           {
            "colorbar": {
             "outlinewidth": 0,
             "ticks": ""
            },
            "type": "contourcarpet"
           }
          ],
          "heatmap": [
           {
            "colorbar": {
             "outlinewidth": 0,
             "ticks": ""
            },
            "colorscale": [
             [
              0,
              "#0d0887"
             ],
             [
              0.1111111111111111,
              "#46039f"
             ],
             [
              0.2222222222222222,
              "#7201a8"
             ],
             [
              0.3333333333333333,
              "#9c179e"
             ],
             [
              0.4444444444444444,
              "#bd3786"
             ],
             [
              0.5555555555555556,
              "#d8576b"
             ],
             [
              0.6666666666666666,
              "#ed7953"
             ],
             [
              0.7777777777777778,
              "#fb9f3a"
             ],
             [
              0.8888888888888888,
              "#fdca26"
             ],
             [
              1,
              "#f0f921"
             ]
            ],
            "type": "heatmap"
           }
          ],
          "heatmapgl": [
           {
            "colorbar": {
             "outlinewidth": 0,
             "ticks": ""
            },
            "colorscale": [
             [
              0,
              "#0d0887"
             ],
             [
              0.1111111111111111,
              "#46039f"
             ],
             [
              0.2222222222222222,
              "#7201a8"
             ],
             [
              0.3333333333333333,
              "#9c179e"
             ],
             [
              0.4444444444444444,
              "#bd3786"
             ],
             [
              0.5555555555555556,
              "#d8576b"
             ],
             [
              0.6666666666666666,
              "#ed7953"
             ],
             [
              0.7777777777777778,
              "#fb9f3a"
             ],
             [
              0.8888888888888888,
              "#fdca26"
             ],
             [
              1,
              "#f0f921"
             ]
            ],
            "type": "heatmapgl"
           }
          ],
          "histogram": [
           {
            "marker": {
             "pattern": {
              "fillmode": "overlay",
              "size": 10,
              "solidity": 0.2
             }
            },
            "type": "histogram"
           }
          ],
          "histogram2d": [
           {
            "colorbar": {
             "outlinewidth": 0,
             "ticks": ""
            },
            "colorscale": [
             [
              0,
              "#0d0887"
             ],
             [
              0.1111111111111111,
              "#46039f"
             ],
             [
              0.2222222222222222,
              "#7201a8"
             ],
             [
              0.3333333333333333,
              "#9c179e"
             ],
             [
              0.4444444444444444,
              "#bd3786"
             ],
             [
              0.5555555555555556,
              "#d8576b"
             ],
             [
              0.6666666666666666,
              "#ed7953"
             ],
             [
              0.7777777777777778,
              "#fb9f3a"
             ],
             [
              0.8888888888888888,
              "#fdca26"
             ],
             [
              1,
              "#f0f921"
             ]
            ],
            "type": "histogram2d"
           }
          ],
          "histogram2dcontour": [
           {
            "colorbar": {
             "outlinewidth": 0,
             "ticks": ""
            },
            "colorscale": [
             [
              0,
              "#0d0887"
             ],
             [
              0.1111111111111111,
              "#46039f"
             ],
             [
              0.2222222222222222,
              "#7201a8"
             ],
             [
              0.3333333333333333,
              "#9c179e"
             ],
             [
              0.4444444444444444,
              "#bd3786"
             ],
             [
              0.5555555555555556,
              "#d8576b"
             ],
             [
              0.6666666666666666,
              "#ed7953"
             ],
             [
              0.7777777777777778,
              "#fb9f3a"
             ],
             [
              0.8888888888888888,
              "#fdca26"
             ],
             [
              1,
              "#f0f921"
             ]
            ],
            "type": "histogram2dcontour"
           }
          ],
          "mesh3d": [
           {
            "colorbar": {
             "outlinewidth": 0,
             "ticks": ""
            },
            "type": "mesh3d"
           }
          ],
          "parcoords": [
           {
            "line": {
             "colorbar": {
              "outlinewidth": 0,
              "ticks": ""
             }
            },
            "type": "parcoords"
           }
          ],
          "pie": [
           {
            "automargin": true,
            "type": "pie"
           }
          ],
          "scatter": [
           {
            "fillpattern": {
             "fillmode": "overlay",
             "size": 10,
             "solidity": 0.2
            },
            "type": "scatter"
           }
          ],
          "scatter3d": [
           {
            "line": {
             "colorbar": {
              "outlinewidth": 0,
              "ticks": ""
             }
            },
            "marker": {
             "colorbar": {
              "outlinewidth": 0,
              "ticks": ""
             }
            },
            "type": "scatter3d"
           }
          ],
          "scattercarpet": [
           {
            "marker": {
             "colorbar": {
              "outlinewidth": 0,
              "ticks": ""
             }
            },
            "type": "scattercarpet"
           }
          ],
          "scattergeo": [
           {
            "marker": {
             "colorbar": {
              "outlinewidth": 0,
              "ticks": ""
             }
            },
            "type": "scattergeo"
           }
          ],
          "scattergl": [
           {
            "marker": {
             "colorbar": {
              "outlinewidth": 0,
              "ticks": ""
             }
            },
            "type": "scattergl"
           }
          ],
          "scattermapbox": [
           {
            "marker": {
             "colorbar": {
              "outlinewidth": 0,
              "ticks": ""
             }
            },
            "type": "scattermapbox"
           }
          ],
          "scatterpolar": [
           {
            "marker": {
             "colorbar": {
              "outlinewidth": 0,
              "ticks": ""
             }
            },
            "type": "scatterpolar"
           }
          ],
          "scatterpolargl": [
           {
            "marker": {
             "colorbar": {
              "outlinewidth": 0,
              "ticks": ""
             }
            },
            "type": "scatterpolargl"
           }
          ],
          "scatterternary": [
           {
            "marker": {
             "colorbar": {
              "outlinewidth": 0,
              "ticks": ""
             }
            },
            "type": "scatterternary"
           }
          ],
          "surface": [
           {
            "colorbar": {
             "outlinewidth": 0,
             "ticks": ""
            },
            "colorscale": [
             [
              0,
              "#0d0887"
             ],
             [
              0.1111111111111111,
              "#46039f"
             ],
             [
              0.2222222222222222,
              "#7201a8"
             ],
             [
              0.3333333333333333,
              "#9c179e"
             ],
             [
              0.4444444444444444,
              "#bd3786"
             ],
             [
              0.5555555555555556,
              "#d8576b"
             ],
             [
              0.6666666666666666,
              "#ed7953"
             ],
             [
              0.7777777777777778,
              "#fb9f3a"
             ],
             [
              0.8888888888888888,
              "#fdca26"
             ],
             [
              1,
              "#f0f921"
             ]
            ],
            "type": "surface"
           }
          ],
          "table": [
           {
            "cells": {
             "fill": {
              "color": "#EBF0F8"
             },
             "line": {
              "color": "white"
             }
            },
            "header": {
             "fill": {
              "color": "#C8D4E3"
             },
             "line": {
              "color": "white"
             }
            },
            "type": "table"
           }
          ]
         },
         "layout": {
          "annotationdefaults": {
           "arrowcolor": "#2a3f5f",
           "arrowhead": 0,
           "arrowwidth": 1
          },
          "autotypenumbers": "strict",
          "coloraxis": {
           "colorbar": {
            "outlinewidth": 0,
            "ticks": ""
           }
          },
          "colorscale": {
           "diverging": [
            [
             0,
             "#8e0152"
            ],
            [
             0.1,
             "#c51b7d"
            ],
            [
             0.2,
             "#de77ae"
            ],
            [
             0.3,
             "#f1b6da"
            ],
            [
             0.4,
             "#fde0ef"
            ],
            [
             0.5,
             "#f7f7f7"
            ],
            [
             0.6,
             "#e6f5d0"
            ],
            [
             0.7,
             "#b8e186"
            ],
            [
             0.8,
             "#7fbc41"
            ],
            [
             0.9,
             "#4d9221"
            ],
            [
             1,
             "#276419"
            ]
           ],
           "sequential": [
            [
             0,
             "#0d0887"
            ],
            [
             0.1111111111111111,
             "#46039f"
            ],
            [
             0.2222222222222222,
             "#7201a8"
            ],
            [
             0.3333333333333333,
             "#9c179e"
            ],
            [
             0.4444444444444444,
             "#bd3786"
            ],
            [
             0.5555555555555556,
             "#d8576b"
            ],
            [
             0.6666666666666666,
             "#ed7953"
            ],
            [
             0.7777777777777778,
             "#fb9f3a"
            ],
            [
             0.8888888888888888,
             "#fdca26"
            ],
            [
             1,
             "#f0f921"
            ]
           ],
           "sequentialminus": [
            [
             0,
             "#0d0887"
            ],
            [
             0.1111111111111111,
             "#46039f"
            ],
            [
             0.2222222222222222,
             "#7201a8"
            ],
            [
             0.3333333333333333,
             "#9c179e"
            ],
            [
             0.4444444444444444,
             "#bd3786"
            ],
            [
             0.5555555555555556,
             "#d8576b"
            ],
            [
             0.6666666666666666,
             "#ed7953"
            ],
            [
             0.7777777777777778,
             "#fb9f3a"
            ],
            [
             0.8888888888888888,
             "#fdca26"
            ],
            [
             1,
             "#f0f921"
            ]
           ]
          },
          "colorway": [
           "#636efa",
           "#EF553B",
           "#00cc96",
           "#ab63fa",
           "#FFA15A",
           "#19d3f3",
           "#FF6692",
           "#B6E880",
           "#FF97FF",
           "#FECB52"
          ],
          "font": {
           "color": "#2a3f5f"
          },
          "geo": {
           "bgcolor": "white",
           "lakecolor": "white",
           "landcolor": "#E5ECF6",
           "showlakes": true,
           "showland": true,
           "subunitcolor": "white"
          },
          "hoverlabel": {
           "align": "left"
          },
          "hovermode": "closest",
          "mapbox": {
           "style": "light"
          },
          "paper_bgcolor": "white",
          "plot_bgcolor": "#E5ECF6",
          "polar": {
           "angularaxis": {
            "gridcolor": "white",
            "linecolor": "white",
            "ticks": ""
           },
           "bgcolor": "#E5ECF6",
           "radialaxis": {
            "gridcolor": "white",
            "linecolor": "white",
            "ticks": ""
           }
          },
          "scene": {
           "xaxis": {
            "backgroundcolor": "#E5ECF6",
            "gridcolor": "white",
            "gridwidth": 2,
            "linecolor": "white",
            "showbackground": true,
            "ticks": "",
            "zerolinecolor": "white"
           },
           "yaxis": {
            "backgroundcolor": "#E5ECF6",
            "gridcolor": "white",
            "gridwidth": 2,
            "linecolor": "white",
            "showbackground": true,
            "ticks": "",
            "zerolinecolor": "white"
           },
           "zaxis": {
            "backgroundcolor": "#E5ECF6",
            "gridcolor": "white",
            "gridwidth": 2,
            "linecolor": "white",
            "showbackground": true,
            "ticks": "",
            "zerolinecolor": "white"
           }
          },
          "shapedefaults": {
           "line": {
            "color": "#2a3f5f"
           }
          },
          "ternary": {
           "aaxis": {
            "gridcolor": "white",
            "linecolor": "white",
            "ticks": ""
           },
           "baxis": {
            "gridcolor": "white",
            "linecolor": "white",
            "ticks": ""
           },
           "bgcolor": "#E5ECF6",
           "caxis": {
            "gridcolor": "white",
            "linecolor": "white",
            "ticks": ""
           }
          },
          "title": {
           "x": 0.05
          },
          "xaxis": {
           "automargin": true,
           "gridcolor": "white",
           "linecolor": "white",
           "ticks": "",
           "title": {
            "standoff": 15
           },
           "zerolinecolor": "white",
           "zerolinewidth": 2
          },
          "yaxis": {
           "automargin": true,
           "gridcolor": "white",
           "linecolor": "white",
           "ticks": "",
           "title": {
            "standoff": 15
           },
           "zerolinecolor": "white",
           "zerolinewidth": 2
          }
         }
        },
        "title": {
         "text": "Evaluation Metrics Comparison"
        },
        "xaxis": {
         "title": {
          "text": "Models"
         }
        },
        "yaxis": {
         "title": {
          "text": "Scores"
         }
        }
       }
      }
     },
     "metadata": {},
     "output_type": "display_data"
    }
   ],
   "source": [
    "# Extracting model names and metric scores\n",
    "model_names = [d['model'] for d in regression_stats_test]\n",
    "metric_labels = list(regression_stats_test[0].keys())[1:]\n",
    "metric_scores = {metric: [d[metric] for d in regression_stats_test] for metric in metric_labels}\n",
    "\n",
    "# Plotting the bar chart\n",
    "fig = go.Figure()\n",
    "\n",
    "for metric in metric_labels:\n",
    "    fig.add_trace(go.Bar(\n",
    "        x=model_names,\n",
    "        y=metric_scores[metric],\n",
    "        name=metric\n",
    "    ))\n",
    "\n",
    "# Updating the layout\n",
    "fig.update_layout(\n",
    "    title='Evaluation Metrics Comparison',\n",
    "    xaxis_title='Models',\n",
    "    yaxis_title='Scores',\n",
    "    barmode='group'\n",
    ")\n",
    "\n",
    "# Display the plot\n",
    "fig.show()"
   ]
  },
  {
   "attachments": {},
   "cell_type": "markdown",
   "metadata": {},
   "source": [
    "Naive bayes"
   ]
  },
  {
   "cell_type": "code",
   "execution_count": 24,
   "metadata": {},
   "outputs": [
    {
     "name": "stdout",
     "output_type": "stream",
     "text": [
      "Mean Absolute Error: 0.9708538458328116\n",
      "Mean Squared Error: 1.7233840289528939\n",
      "Root Mean Squared Error: 1.3127772198483998\n",
      "R2 Score: -0.005308606016993789\n",
      "Adjusted R2 Score: -0.40974310269049696\n"
     ]
    }
   ],
   "source": [
    "# Defining Actual values\n",
    "y_true = y_test.copy()\n",
    "\n",
    "# Defining Predicted values\n",
    "y_pred = np.full_like(y_test, y_train.mean())\n",
    "\n",
    "# Mean absolute error\n",
    "mae = mean_absolute_error(y_test, y_pred)\n",
    "print(\"Mean Absolute Error:\", mae)\n",
    "\n",
    "# Mean Squared Error\n",
    "mse = mean_squared_error(y_true, y_pred)\n",
    "print(\"Mean Squared Error:\", mse)\n",
    "\n",
    "# Root Mean Squared Error\n",
    "rmse = np.sqrt(mse)\n",
    "print(\"Root Mean Squared Error:\", rmse)\n",
    "\n",
    "# R2 Score\n",
    "r2 = r2_score(y_true, y_pred)\n",
    "print(\"R2 Score:\", r2)\n",
    "\n",
    "# Adjusted R2 Score\n",
    "n = len(y_true)  # Number of samples\n",
    "p = X_test.shape[1]  # Number of predictors (features) in X\n",
    "adj_r2 = 1 - ((1 - r2) * (n - 1)) / (n - p - 1)\n",
    "print(\"Adjusted R2 Score:\", adj_r2)"
   ]
  },
  {
   "attachments": {},
   "cell_type": "markdown",
   "metadata": {},
   "source": [
    "Save best model as Pickle"
   ]
  },
  {
   "cell_type": "code",
   "execution_count": 25,
   "metadata": {},
   "outputs": [],
   "source": [
    "import pickle\n",
    "\n",
    "# Save model\n",
    "file_path = 'Saved Models/TUG.pkl'\n",
    "\n",
    "with open(file_path, 'wb') as file:\n",
    "    pickle.dump(best_model_mlr, file)\n",
    "\n",
    "# Save features\n",
    "with open('Saved Models/best_features_TUG.txt', 'w') as file:\n",
    "    file.write(f'{best_features_mlr}')"
   ]
  }
 ],
 "metadata": {
  "kernelspec": {
   "display_name": "Python 3",
   "language": "python",
   "name": "python3"
  },
  "language_info": {
   "codemirror_mode": {
    "name": "ipython",
    "version": 3
   },
   "file_extension": ".py",
   "mimetype": "text/x-python",
   "name": "python",
   "nbconvert_exporter": "python",
   "pygments_lexer": "ipython3",
   "version": "3.9.5"
  },
  "orig_nbformat": 4
 },
 "nbformat": 4,
 "nbformat_minor": 2
}
