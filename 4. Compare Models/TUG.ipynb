{
 "cells": [
  {
   "attachments": {},
   "cell_type": "markdown",
   "metadata": {},
   "source": [
    "# General Imports"
   ]
  },
  {
   "attachments": {},
   "cell_type": "markdown",
   "metadata": {},
   "source": [
    "**Importing all libraries**"
   ]
  },
  {
   "cell_type": "code",
   "execution_count": 1,
   "metadata": {},
   "outputs": [],
   "source": [
    "import numpy as np\n",
    "import pandas as pd\n",
    "import warnings\n",
    "\n",
    "import plotly.graph_objects as go\n",
    "from bayes_opt import BayesianOptimization\n",
    "import statsmodels.api as sm\n",
    "\n",
    "from sklearn.model_selection import cross_val_score, train_test_split\n",
    "from sklearn.linear_model import LinearRegression\n",
    "from sklearn.svm import SVR\n",
    "from sklearn.model_selection import cross_val_predict\n",
    "from sklearn.ensemble import RandomForestRegressor\n",
    "from sklearn.neural_network import MLPRegressor\n",
    "from sklearn.metrics import r2_score, mean_squared_error, mean_absolute_error\n",
    "from sklearn.inspection import permutation_importance"
   ]
  },
  {
   "attachments": {},
   "cell_type": "markdown",
   "metadata": {},
   "source": [
    "Disable warnings"
   ]
  },
  {
   "cell_type": "code",
   "execution_count": 2,
   "metadata": {},
   "outputs": [],
   "source": [
    "# Disable all warnings\n",
    "warnings.filterwarnings(\"ignore\")\n",
    "\n",
    "# Enable warnings again\n",
    "## warnings.filterwarnings(\"default\")"
   ]
  },
  {
   "attachments": {},
   "cell_type": "markdown",
   "metadata": {},
   "source": [
    "Generate train and test data"
   ]
  },
  {
   "cell_type": "code",
   "execution_count": 3,
   "metadata": {},
   "outputs": [],
   "source": [
    "# Read Data\n",
    "df = pd.read_csv(\"data_finish_prep.csv\")\n",
    "\n",
    "# Select only the usefull part of the df\n",
    "df.drop(columns=['verschil_Lengte',\n",
    "               'verschil_6 MWT', 'verschil_Gewicht',\n",
    "               'verschil_BMI', 'verschil_Conditie',\n",
    "               'verschil_Lenigheid', 'verschil_Knijpkracht'], inplace=True)\n",
    "\n",
    "# Drop NaN values\n",
    "df.dropna(inplace=True)\n",
    "\n",
    "# Define X and y\n",
    "X = df.drop(columns=['verschil_TUG'])\n",
    "y = df['verschil_TUG']\n",
    "\n",
    "# Split data into train & test data\n",
    "X_train, X_test, y_train, y_test = train_test_split(X, y, test_size=0.2, random_state=42)"
   ]
  },
  {
   "cell_type": "code",
   "execution_count": 4,
   "metadata": {},
   "outputs": [],
   "source": [
    "def bo_params_generic(model, params, X_train, y_train):\n",
    "    # Create the model instance with the specified parameters\n",
    "    regressor = model(**params)\n",
    "    \n",
    "    # Assuming you have X_train, y_train defined for regression\n",
    "    scores = cross_val_score(regressor, X_train, y_train, cv=10, scoring='neg_root_mean_squared_error')\n",
    "    return -scores.mean()"
   ]
  },
  {
   "attachments": {},
   "cell_type": "markdown",
   "metadata": {},
   "source": [
    "# MLR"
   ]
  },
  {
   "attachments": {},
   "cell_type": "markdown",
   "metadata": {},
   "source": [
    "**feature selection**"
   ]
  },
  {
   "cell_type": "code",
   "execution_count": 5,
   "metadata": {},
   "outputs": [
    {
     "name": "stdout",
     "output_type": "stream",
     "text": [
      "Best features: ['NederlandseAntillenEnAruba', 'AfstandTotHuisartsenpost', 'AfstandTotApotheek', 'AfstandTotRestaurant', 'AfstandTotOpenNatNatuurlijkTerrein', 'AfstandTotVolkstuin', 'AfstandTotBioscoop', 'AfstandTotBrandweerkazerne', 'ErvarenGezondheidGoedZeerGoed', 'Rokers']\n",
      "Dropped features: ['AfstandTotBelangrijkOverstapstation', 'PersonenautoSPerHuishouden', 'InBezitWoningcorporatie', 'AfstandTotOvDagelLevensmiddelen', 'BeperkingInZien', 'AfstandTotZwembad', 'AfstandTotAttractie', 'OppervlakteWater', 'AfstandTotBuitenschoolseOpvang', 'Ondergewicht', 'GeweldsEnSeksueleMisdrijven', 'ALandbouwBosbouwEnVisserij', 'AfstandTotHuisartsenpraktijk', 'BouwjaarVanaf2000', 'AfstandTotKunstijsbaan', 'Mantelzorger', 'AfstandTotSchool', 'InBezitOverigeVerhuurders', 'GemiddeldeWoningwaarde', 'AfstandTotSemiOpenbaarGroenTotaal', 'AfstandTotBegraafplaats', 'AfstandTotBibliotheek', 'TotaalDiefstalUitWoningSchuurED', 'ZwaarBelasteMantelzorgers', 'SterfteRelatief', 'PercentageOnbewoond', 'AfstandTotMuseum', 'AfstandTotOpenDroogNatTerrein', 'kPersonenMetLaagsteInkomen', 'AfstandTotCafetariaED', 'AfstandTotVerblijfsrecreatiefTerrein', 'AfstandTotSauna', 'AfstandTotSportterrein', 'AfstandTotCafeED', 'OvermatigDrinker', 'AfstandTotKinderdagverblijf', 'EigendomOnbekend', 'ErnstigOvergewichtObesitas', 'AfstandTotPoppodium', 'MatigOvergewicht', 'UrenMantelzorgPerWeek', 'VoldoetAanBeweegrichtlijn', 'VernielingMisdrijfTegenOpenbareOrde', 'AfstandTotDagrecreatiefTerrein', 'AfstandTotConsultatiebureau', 'PersonenautoSOverigeBrandstof', 'AfstandTotHotelED', 'PersonenautoSNaarOppervlakte', 'AfstandTotOpenNatTerreinTotaal', 'AfstandTotTreinstationsTotaal', 'EenOfMeerLangdurigeAandoeningen', 'BeperkingInHoren', 'AfstandTotZonnebank', 'AfstandTotPodiumkunstenTotaal', 'AfstandTotOpenbaarGroenTotaal', 'KLFinancieleDienstenOnroerendGoed', 'VoldoetAanRichtlijnAlcoholgebruik', 'GeboorteRelatief', 'AfstandTotWarenhuis', 'AfstandTotBos']\n"
     ]
    }
   ],
   "source": [
    "# Fit the Full Model\n",
    "X =  sm.add_constant(X_train)  # Add constant term for the intercept\n",
    "model = sm.OLS(y_train, X_train).fit()  # Fit the MLR model\n",
    "best_model = model  # Initialize the best model\n",
    "selected_features = X_train.columns.tolist()\n",
    "best_features = X_train.columns.tolist()\n",
    "best_features_rmse = np.sqrt(-cross_val_score(LinearRegression(), X_train, y_train, cv=10, scoring='neg_mean_squared_error').mean())\n",
    "\n",
    "# Iteratively remove one feature at a time based on p-values\n",
    "while True:\n",
    "    # Compute p-values\n",
    "    p_values = model.pvalues[1:]  # Exclude the constant term\n",
    "\n",
    "    # Identify Insignificant Features\n",
    "    insignificant_feature = p_values.idxmax()\n",
    "    max_p_value = p_values.max()\n",
    "\n",
    "    # Remove Insignificant Feature\n",
    "    X = X.drop(insignificant_feature, axis=1)\n",
    "    selected_features.remove(insignificant_feature)\n",
    "\n",
    "    # When there a no features left\n",
    "    if len(selected_features) == 0:\n",
    "        break\n",
    "    \n",
    "    # Refit the Model\n",
    "    model = sm.OLS(y_train, X).fit()\n",
    "    \n",
    "    # Evaluate Model Performance\n",
    "    rmse = np.sqrt(-cross_val_score(LinearRegression(), X_train[selected_features], y_train, cv=10, scoring='neg_mean_squared_error').mean())\n",
    "\n",
    "    # Check if the model performs better without the insignificant features\n",
    "    if rmse <= best_features_rmse:\n",
    "        best_features_rmse = rmse\n",
    "        best_features = selected_features.copy()\n",
    "        best_model = model\n",
    "\n",
    "# Save results\n",
    "best_model_mlr = LinearRegression().fit(X_train[best_features], y_train)\n",
    "best_features_mlr = best_features\n",
    "\n",
    "# Show results\n",
    "print(\"Best features:\", best_features)\n",
    "print(\"Dropped features:\", list(set(X_train.columns.tolist()) - set(best_features)))"
   ]
  },
  {
   "attachments": {},
   "cell_type": "markdown",
   "metadata": {},
   "source": [
    "*Er zijn geen hyperparameters om te optimaliseren.*"
   ]
  },
  {
   "attachments": {},
   "cell_type": "markdown",
   "metadata": {},
   "source": [
    "# Support Vector Machines"
   ]
  },
  {
   "attachments": {},
   "cell_type": "markdown",
   "metadata": {},
   "source": [
    "**Hyperparameter optimalisatie**"
   ]
  },
  {
   "cell_type": "code",
   "execution_count": 6,
   "metadata": {},
   "outputs": [
    {
     "name": "stdout",
     "output_type": "stream",
     "text": [
      "|   iter    |  target   |     C     |   gamma   | kernel... |\n",
      "-------------------------------------------------------------\n",
      "| \u001b[0m1        \u001b[0m | \u001b[0m-1.59    \u001b[0m | \u001b[0m0.317    \u001b[0m | \u001b[0m0.05874  \u001b[0m | \u001b[0m3.678    \u001b[0m |\n",
      "| \u001b[0m2        \u001b[0m | \u001b[0m-1.614   \u001b[0m | \u001b[0m8.178    \u001b[0m | \u001b[0m0.0861   \u001b[0m | \u001b[0m3.359    \u001b[0m |\n",
      "| \u001b[0m3        \u001b[0m | \u001b[0m-1.592   \u001b[0m | \u001b[0m4.143    \u001b[0m | \u001b[0m0.0702   \u001b[0m | \u001b[0m2.554    \u001b[0m |\n",
      "| \u001b[0m4        \u001b[0m | \u001b[0m-1.606   \u001b[0m | \u001b[0m2.715    \u001b[0m | \u001b[0m0.09421  \u001b[0m | \u001b[0m3.893    \u001b[0m |\n",
      "| \u001b[0m5        \u001b[0m | \u001b[0m-1.594   \u001b[0m | \u001b[0m0.4402   \u001b[0m | \u001b[0m0.01547  \u001b[0m | \u001b[0m3.679    \u001b[0m |\n",
      "| \u001b[0m6        \u001b[0m | \u001b[0m-1.605   \u001b[0m | \u001b[0m2.712    \u001b[0m | \u001b[0m0.08572  \u001b[0m | \u001b[0m3.397    \u001b[0m |\n",
      "| \u001b[0m7        \u001b[0m | \u001b[0m-1.614   \u001b[0m | \u001b[0m7.861    \u001b[0m | \u001b[0m0.09198  \u001b[0m | \u001b[0m3.178    \u001b[0m |\n",
      "| \u001b[0m8        \u001b[0m | \u001b[0m-1.594   \u001b[0m | \u001b[0m6.81     \u001b[0m | \u001b[0m0.08272  \u001b[0m | \u001b[0m2.025    \u001b[0m |\n",
      "| \u001b[0m9        \u001b[0m | \u001b[0m-1.594   \u001b[0m | \u001b[0m0.9944   \u001b[0m | \u001b[0m0.07152  \u001b[0m | \u001b[0m1.954    \u001b[0m |\n",
      "| \u001b[0m10       \u001b[0m | \u001b[0m-1.595   \u001b[0m | \u001b[0m2.634    \u001b[0m | \u001b[0m0.02627  \u001b[0m | \u001b[0m1.164    \u001b[0m |\n",
      "| \u001b[0m11       \u001b[0m | \u001b[0m-1.591   \u001b[0m | \u001b[0m0.1      \u001b[0m | \u001b[0m0.1      \u001b[0m | \u001b[0m3.167    \u001b[0m |\n",
      "| \u001b[0m12       \u001b[0m | \u001b[0m-1.597   \u001b[0m | \u001b[0m3.731    \u001b[0m | \u001b[0m0.01969  \u001b[0m | \u001b[0m1.776    \u001b[0m |\n",
      "| \u001b[0m13       \u001b[0m | \u001b[0m-6.721   \u001b[0m | \u001b[0m0.1      \u001b[0m | \u001b[0m0.1      \u001b[0m | \u001b[0m4.0      \u001b[0m |\n",
      "| \u001b[0m14       \u001b[0m | \u001b[0m-1.595   \u001b[0m | \u001b[0m0.3825   \u001b[0m | \u001b[0m0.1      \u001b[0m | \u001b[0m3.374    \u001b[0m |\n",
      "| \u001b[0m15       \u001b[0m | \u001b[0m-1.591   \u001b[0m | \u001b[0m3.938    \u001b[0m | \u001b[0m0.04503  \u001b[0m | \u001b[0m2.166    \u001b[0m |\n",
      "| \u001b[0m16       \u001b[0m | \u001b[0m-1.614   \u001b[0m | \u001b[0m7.876    \u001b[0m | \u001b[0m0.09259  \u001b[0m | \u001b[0m3.158    \u001b[0m |\n",
      "| \u001b[0m17       \u001b[0m | \u001b[0m-1.591   \u001b[0m | \u001b[0m3.625    \u001b[0m | \u001b[0m0.06015  \u001b[0m | \u001b[0m2.565    \u001b[0m |\n",
      "| \u001b[0m18       \u001b[0m | \u001b[0m-1.593   \u001b[0m | \u001b[0m0.5347   \u001b[0m | \u001b[0m0.07342  \u001b[0m | \u001b[0m1.036    \u001b[0m |\n",
      "| \u001b[0m19       \u001b[0m | \u001b[0m-1.593   \u001b[0m | \u001b[0m3.45     \u001b[0m | \u001b[0m0.01625  \u001b[0m | \u001b[0m2.127    \u001b[0m |\n",
      "| \u001b[0m20       \u001b[0m | \u001b[0m-1.592   \u001b[0m | \u001b[0m0.7464   \u001b[0m | \u001b[0m0.08204  \u001b[0m | \u001b[0m1.508    \u001b[0m |\n",
      "| \u001b[0m21       \u001b[0m | \u001b[0m-1.595   \u001b[0m | \u001b[0m2.636    \u001b[0m | \u001b[0m0.03567  \u001b[0m | \u001b[0m1.163    \u001b[0m |\n",
      "| \u001b[0m22       \u001b[0m | \u001b[0m-1.596   \u001b[0m | \u001b[0m3.136    \u001b[0m | \u001b[0m0.00169  \u001b[0m | \u001b[0m1.575    \u001b[0m |\n",
      "| \u001b[0m23       \u001b[0m | \u001b[0m-1.595   \u001b[0m | \u001b[0m2.598    \u001b[0m | \u001b[0m0.08753  \u001b[0m | \u001b[0m1.73     \u001b[0m |\n",
      "| \u001b[0m24       \u001b[0m | \u001b[0m-1.591   \u001b[0m | \u001b[0m2.879    \u001b[0m | \u001b[0m0.02739  \u001b[0m | \u001b[0m2.177    \u001b[0m |\n",
      "| \u001b[0m25       \u001b[0m | \u001b[0m-1.591   \u001b[0m | \u001b[0m3.062    \u001b[0m | \u001b[0m0.07633  \u001b[0m | \u001b[0m2.706    \u001b[0m |\n",
      "| \u001b[0m26       \u001b[0m | \u001b[0m-1.593   \u001b[0m | \u001b[0m3.262    \u001b[0m | \u001b[0m0.04367  \u001b[0m | \u001b[0m3.224    \u001b[0m |\n",
      "| \u001b[0m27       \u001b[0m | \u001b[0m-1.605   \u001b[0m | \u001b[0m3.823    \u001b[0m | \u001b[0m0.07831  \u001b[0m | \u001b[0m3.078    \u001b[0m |\n",
      "| \u001b[0m28       \u001b[0m | \u001b[0m-1.603   \u001b[0m | \u001b[0m3.306    \u001b[0m | \u001b[0m0.07388  \u001b[0m | \u001b[0m3.771    \u001b[0m |\n",
      "| \u001b[0m29       \u001b[0m | \u001b[0m-1.595   \u001b[0m | \u001b[0m2.55     \u001b[0m | \u001b[0m0.006481 \u001b[0m | \u001b[0m2.793    \u001b[0m |\n",
      "| \u001b[0m30       \u001b[0m | \u001b[0m-1.591   \u001b[0m | \u001b[0m2.36     \u001b[0m | \u001b[0m0.1      \u001b[0m | \u001b[0m2.267    \u001b[0m |\n",
      "| \u001b[0m31       \u001b[0m | \u001b[0m-1.593   \u001b[0m | \u001b[0m3.791    \u001b[0m | \u001b[0m0.006164 \u001b[0m | \u001b[0m3.609    \u001b[0m |\n",
      "| \u001b[0m32       \u001b[0m | \u001b[0m-1.594   \u001b[0m | \u001b[0m1.072    \u001b[0m | \u001b[0m0.00951  \u001b[0m | \u001b[0m1.102    \u001b[0m |\n",
      "| \u001b[0m33       \u001b[0m | \u001b[0m-1.593   \u001b[0m | \u001b[0m1.317    \u001b[0m | \u001b[0m0.06859  \u001b[0m | \u001b[0m1.569    \u001b[0m |\n",
      "| \u001b[0m34       \u001b[0m | \u001b[0m-1.594   \u001b[0m | \u001b[0m2.051    \u001b[0m | \u001b[0m0.05061  \u001b[0m | \u001b[0m1.752    \u001b[0m |\n",
      "| \u001b[0m35       \u001b[0m | \u001b[0m-1.591   \u001b[0m | \u001b[0m1.572    \u001b[0m | \u001b[0m0.07145  \u001b[0m | \u001b[0m2.041    \u001b[0m |\n",
      "| \u001b[0m36       \u001b[0m | \u001b[0m-1.596   \u001b[0m | \u001b[0m7.7      \u001b[0m | \u001b[0m0.09513  \u001b[0m | \u001b[0m2.949    \u001b[0m |\n",
      "| \u001b[0m37       \u001b[0m | \u001b[0m-1.594   \u001b[0m | \u001b[0m1.787    \u001b[0m | \u001b[0m0.04654  \u001b[0m | \u001b[0m1.284    \u001b[0m |\n",
      "| \u001b[0m38       \u001b[0m | \u001b[0m-1.592   \u001b[0m | \u001b[0m1.887    \u001b[0m | \u001b[0m0.02789  \u001b[0m | \u001b[0m2.525    \u001b[0m |\n",
      "| \u001b[0m39       \u001b[0m | \u001b[0m-1.594   \u001b[0m | \u001b[0m1.297    \u001b[0m | \u001b[0m0.01104  \u001b[0m | \u001b[0m2.482    \u001b[0m |\n",
      "| \u001b[0m40       \u001b[0m | \u001b[0m-1.606   \u001b[0m | \u001b[0m2.088    \u001b[0m | \u001b[0m0.1      \u001b[0m | \u001b[0m3.041    \u001b[0m |\n",
      "| \u001b[0m41       \u001b[0m | \u001b[0m-1.594   \u001b[0m | \u001b[0m1.526    \u001b[0m | \u001b[0m0.007889 \u001b[0m | \u001b[0m2.981    \u001b[0m |\n",
      "| \u001b[0m42       \u001b[0m | \u001b[0m-1.593   \u001b[0m | \u001b[0m5.806    \u001b[0m | \u001b[0m0.0722   \u001b[0m | \u001b[0m2.935    \u001b[0m |\n",
      "| \u001b[0m43       \u001b[0m | \u001b[0m-1.595   \u001b[0m | \u001b[0m2.218    \u001b[0m | \u001b[0m0.05903  \u001b[0m | \u001b[0m3.595    \u001b[0m |\n",
      "| \u001b[0m44       \u001b[0m | \u001b[0m-1.605   \u001b[0m | \u001b[0m1.712    \u001b[0m | \u001b[0m0.1      \u001b[0m | \u001b[0m3.462    \u001b[0m |\n",
      "| \u001b[0m45       \u001b[0m | \u001b[0m-1.592   \u001b[0m | \u001b[0m0.2156   \u001b[0m | \u001b[0m0.08179  \u001b[0m | \u001b[0m1.457    \u001b[0m |\n",
      "| \u001b[0m46       \u001b[0m | \u001b[0m-1.593   \u001b[0m | \u001b[0m0.441    \u001b[0m | \u001b[0m0.07051  \u001b[0m | \u001b[0m1.984    \u001b[0m |\n",
      "| \u001b[0m47       \u001b[0m | \u001b[0m-1.593   \u001b[0m | \u001b[0m0.7562   \u001b[0m | \u001b[0m0.0325   \u001b[0m | \u001b[0m2.422    \u001b[0m |\n",
      "| \u001b[0m48       \u001b[0m | \u001b[0m-1.593   \u001b[0m | \u001b[0m0.9925   \u001b[0m | \u001b[0m0.02576  \u001b[0m | \u001b[0m2.892    \u001b[0m |\n",
      "| \u001b[0m49       \u001b[0m | \u001b[0m-1.611   \u001b[0m | \u001b[0m9.117    \u001b[0m | \u001b[0m0.07409  \u001b[0m | \u001b[0m3.094    \u001b[0m |\n",
      "| \u001b[0m50       \u001b[0m | \u001b[0m-1.598   \u001b[0m | \u001b[0m4.32     \u001b[0m | \u001b[0m0.01487  \u001b[0m | \u001b[0m1.854    \u001b[0m |\n",
      "=============================================================\n"
     ]
    },
    {
     "data": {
      "text/html": [
       "<style>#sk-container-id-1 {color: black;background-color: white;}#sk-container-id-1 pre{padding: 0;}#sk-container-id-1 div.sk-toggleable {background-color: white;}#sk-container-id-1 label.sk-toggleable__label {cursor: pointer;display: block;width: 100%;margin-bottom: 0;padding: 0.3em;box-sizing: border-box;text-align: center;}#sk-container-id-1 label.sk-toggleable__label-arrow:before {content: \"▸\";float: left;margin-right: 0.25em;color: #696969;}#sk-container-id-1 label.sk-toggleable__label-arrow:hover:before {color: black;}#sk-container-id-1 div.sk-estimator:hover label.sk-toggleable__label-arrow:before {color: black;}#sk-container-id-1 div.sk-toggleable__content {max-height: 0;max-width: 0;overflow: hidden;text-align: left;background-color: #f0f8ff;}#sk-container-id-1 div.sk-toggleable__content pre {margin: 0.2em;color: black;border-radius: 0.25em;background-color: #f0f8ff;}#sk-container-id-1 input.sk-toggleable__control:checked~div.sk-toggleable__content {max-height: 200px;max-width: 100%;overflow: auto;}#sk-container-id-1 input.sk-toggleable__control:checked~label.sk-toggleable__label-arrow:before {content: \"▾\";}#sk-container-id-1 div.sk-estimator input.sk-toggleable__control:checked~label.sk-toggleable__label {background-color: #d4ebff;}#sk-container-id-1 div.sk-label input.sk-toggleable__control:checked~label.sk-toggleable__label {background-color: #d4ebff;}#sk-container-id-1 input.sk-hidden--visually {border: 0;clip: rect(1px 1px 1px 1px);clip: rect(1px, 1px, 1px, 1px);height: 1px;margin: -1px;overflow: hidden;padding: 0;position: absolute;width: 1px;}#sk-container-id-1 div.sk-estimator {font-family: monospace;background-color: #f0f8ff;border: 1px dotted black;border-radius: 0.25em;box-sizing: border-box;margin-bottom: 0.5em;}#sk-container-id-1 div.sk-estimator:hover {background-color: #d4ebff;}#sk-container-id-1 div.sk-parallel-item::after {content: \"\";width: 100%;border-bottom: 1px solid gray;flex-grow: 1;}#sk-container-id-1 div.sk-label:hover label.sk-toggleable__label {background-color: #d4ebff;}#sk-container-id-1 div.sk-serial::before {content: \"\";position: absolute;border-left: 1px solid gray;box-sizing: border-box;top: 0;bottom: 0;left: 50%;z-index: 0;}#sk-container-id-1 div.sk-serial {display: flex;flex-direction: column;align-items: center;background-color: white;padding-right: 0.2em;padding-left: 0.2em;position: relative;}#sk-container-id-1 div.sk-item {position: relative;z-index: 1;}#sk-container-id-1 div.sk-parallel {display: flex;align-items: stretch;justify-content: center;background-color: white;position: relative;}#sk-container-id-1 div.sk-item::before, #sk-container-id-1 div.sk-parallel-item::before {content: \"\";position: absolute;border-left: 1px solid gray;box-sizing: border-box;top: 0;bottom: 0;left: 50%;z-index: -1;}#sk-container-id-1 div.sk-parallel-item {display: flex;flex-direction: column;z-index: 1;position: relative;background-color: white;}#sk-container-id-1 div.sk-parallel-item:first-child::after {align-self: flex-end;width: 50%;}#sk-container-id-1 div.sk-parallel-item:last-child::after {align-self: flex-start;width: 50%;}#sk-container-id-1 div.sk-parallel-item:only-child::after {width: 0;}#sk-container-id-1 div.sk-dashed-wrapped {border: 1px dashed gray;margin: 0 0.4em 0.5em 0.4em;box-sizing: border-box;padding-bottom: 0.4em;background-color: white;}#sk-container-id-1 div.sk-label label {font-family: monospace;font-weight: bold;display: inline-block;line-height: 1.2em;}#sk-container-id-1 div.sk-label-container {text-align: center;}#sk-container-id-1 div.sk-container {/* jupyter's `normalize.less` sets `[hidden] { display: none; }` but bootstrap.min.css set `[hidden] { display: none !important; }` so we also need the `!important` here to be able to override the default hidden behavior on the sphinx rendered scikit-learn.org. See: https://github.com/scikit-learn/scikit-learn/issues/21755 */display: inline-block !important;position: relative;}#sk-container-id-1 div.sk-text-repr-fallback {display: none;}</style><div id=\"sk-container-id-1\" class=\"sk-top-container\"><div class=\"sk-text-repr-fallback\"><pre>SVR(C=0.3169755719394201, gamma=0.05874191720481409, kernel=&#x27;poly&#x27;)</pre><b>In a Jupyter environment, please rerun this cell to show the HTML representation or trust the notebook. <br />On GitHub, the HTML representation is unable to render, please try loading this page with nbviewer.org.</b></div><div class=\"sk-container\" hidden><div class=\"sk-item\"><div class=\"sk-estimator sk-toggleable\"><input class=\"sk-toggleable__control sk-hidden--visually\" id=\"sk-estimator-id-1\" type=\"checkbox\" checked><label for=\"sk-estimator-id-1\" class=\"sk-toggleable__label sk-toggleable__label-arrow\">SVR</label><div class=\"sk-toggleable__content\"><pre>SVR(C=0.3169755719394201, gamma=0.05874191720481409, kernel=&#x27;poly&#x27;)</pre></div></div></div></div></div>"
      ],
      "text/plain": [
       "SVR(C=0.3169755719394201, gamma=0.05874191720481409, kernel='poly')"
      ]
     },
     "execution_count": 6,
     "metadata": {},
     "output_type": "execute_result"
    }
   ],
   "source": [
    "def bo_params_generic(model, params, X_train, y_train):\n",
    "    # Create the model instance with the specified parameters\n",
    "    classifier = model(**params)\n",
    "    \n",
    "    # Calculating accuracy based on cross-validation\n",
    "    scores = cross_val_score(classifier, X_train, y_train, cv=10, scoring='neg_mean_squared_error')\n",
    "    return scores.mean()\n",
    "\n",
    "params_ranges = {\n",
    "    'C': (0.1, 10),\n",
    "    'kernel_int': (1, 4),\n",
    "    'gamma': (0.001, 0.1)\n",
    "}\n",
    "\n",
    "kernel_mapping = {\n",
    "    1: 'linear',\n",
    "    2: 'rbf',\n",
    "    3: 'poly',\n",
    "    4: 'sigmoid'\n",
    "}\n",
    "\n",
    "# Example usage with SVM\n",
    "model = SVR\n",
    "model_bo = BayesianOptimization(f=lambda C, kernel_int, gamma:\n",
    "                                    bo_params_generic(model, {\n",
    "                                        'C': C,\n",
    "                                        'kernel': kernel_mapping[int(kernel_int)],\n",
    "                                        'gamma': gamma\n",
    "                                    }, X_train, y_train),\n",
    "                             pbounds=params_ranges)\n",
    "\n",
    "results = model_bo.maximize(n_iter=40, init_points=10)\n",
    "params = model_bo.max['params']\n",
    "\n",
    "# Creating a model with the best hyperparameters\n",
    "best_model_svm = model(\n",
    "    C=params['C'],\n",
    "    kernel=kernel_mapping[int(params['kernel_int'])],\n",
    "    gamma=params['gamma']\n",
    ")\n",
    "\n",
    "# Fit the model\n",
    "best_model_svm.fit(X_train, y_train)\n"
   ]
  },
  {
   "attachments": {},
   "cell_type": "markdown",
   "metadata": {},
   "source": [
    "**Feature Selection**"
   ]
  },
  {
   "cell_type": "code",
   "execution_count": 7,
   "metadata": {},
   "outputs": [
    {
     "name": "stdout",
     "output_type": "stream",
     "text": [
      "Scince the kernal is not linear, this feature selection is not possible\n",
      "Best features: Index(['NederlandseAntillenEnAruba', 'GeboorteRelatief', 'SterfteRelatief',\n",
      "       'GemiddeldeWoningwaarde', 'PercentageOnbewoond',\n",
      "       'InBezitWoningcorporatie', 'InBezitOverigeVerhuurders',\n",
      "       'EigendomOnbekend', 'BouwjaarVanaf2000', 'kPersonenMetLaagsteInkomen',\n",
      "       'ALandbouwBosbouwEnVisserij', 'KLFinancieleDienstenOnroerendGoed',\n",
      "       'PersonenautoSOverigeBrandstof', 'PersonenautoSPerHuishouden',\n",
      "       'PersonenautoSNaarOppervlakte', 'AfstandTotHuisartsenpraktijk',\n",
      "       'AfstandTotKinderdagverblijf', 'AfstandTotSchool', 'OppervlakteWater',\n",
      "       'TotaalDiefstalUitWoningSchuurED',\n",
      "       'VernielingMisdrijfTegenOpenbareOrde', 'GeweldsEnSeksueleMisdrijven',\n",
      "       'AfstandTotHuisartsenpost', 'AfstandTotApotheek',\n",
      "       'AfstandTotConsultatiebureau', 'AfstandTotOvDagelLevensmiddelen',\n",
      "       'AfstandTotWarenhuis', 'AfstandTotCafeED', 'AfstandTotCafetariaED',\n",
      "       'AfstandTotRestaurant', 'AfstandTotHotelED',\n",
      "       'AfstandTotBuitenschoolseOpvang', 'AfstandTotOpenbaarGroenTotaal',\n",
      "       'AfstandTotDagrecreatiefTerrein', 'AfstandTotBos',\n",
      "       'AfstandTotOpenNatTerreinTotaal', 'AfstandTotOpenDroogNatTerrein',\n",
      "       'AfstandTotOpenNatNatuurlijkTerrein',\n",
      "       'AfstandTotSemiOpenbaarGroenTotaal', 'AfstandTotSportterrein',\n",
      "       'AfstandTotVolkstuin', 'AfstandTotVerblijfsrecreatiefTerrein',\n",
      "       'AfstandTotBegraafplaats', 'AfstandTotTreinstationsTotaal',\n",
      "       'AfstandTotBelangrijkOverstapstation', 'AfstandTotBibliotheek',\n",
      "       'AfstandTotZwembad', 'AfstandTotKunstijsbaan', 'AfstandTotMuseum',\n",
      "       'AfstandTotPodiumkunstenTotaal', 'AfstandTotPoppodium',\n",
      "       'AfstandTotBioscoop', 'AfstandTotSauna', 'AfstandTotZonnebank',\n",
      "       'AfstandTotAttractie', 'AfstandTotBrandweerkazerne',\n",
      "       'ErvarenGezondheidGoedZeerGoed', 'EenOfMeerLangdurigeAandoeningen',\n",
      "       'BeperkingInHoren', 'BeperkingInZien', 'Ondergewicht',\n",
      "       'MatigOvergewicht', 'ErnstigOvergewichtObesitas',\n",
      "       'VoldoetAanBeweegrichtlijn', 'Mantelzorger',\n",
      "       'ZwaarBelasteMantelzorgers', 'UrenMantelzorgPerWeek', 'Rokers',\n",
      "       'VoldoetAanRichtlijnAlcoholgebruik', 'OvermatigDrinker'],\n",
      "      dtype='object')\n",
      "Dropped features: []\n"
     ]
    }
   ],
   "source": [
    "# Get the accuracy score of the model with all features\n",
    "best_accuracy = cross_val_score(best_model_svm, X_train, y_train, cv=10, scoring='neg_mean_squared_error', n_jobs=-1).mean()\n",
    "best_model = best_model_svm\n",
    "selected_features = X_train.columns\n",
    "best_features = selected_features\n",
    "\n",
    "while len(selected_features) > 1:\n",
    "    try:\n",
    "        # Retrieve the coefficients from the SVM model\n",
    "        coefficients = best_model_svm.coef_[0]\n",
    "\n",
    "        # Sort features based on their coefficient magnitudes\n",
    "        sorted_indices = np.argsort(np.abs(coefficients))\n",
    "        selected_features = [X_train.columns[i] for i in sorted_indices[::-1]]\n",
    "\n",
    "        # Remove the least important feature\n",
    "        selected_features = selected_features[:-1]\n",
    "        \n",
    "        # Refit the linear SVM classifier\n",
    "        best_model_svm_classification.fit(X_train[selected_features], y_train)\n",
    "        \n",
    "        # Evaluate Model Performance\n",
    "        accuracy = cross_val_score(best_model_svm, X_train[selected_features], y_train, cv=10, scoring='neg_mean_squared_error', n_jobs=-1).mean()\n",
    "\n",
    "        # Check if the model performs better without the insignificant features\n",
    "        if accuracy >= best_accuracy:\n",
    "            best_accuracy = accuracy\n",
    "            best_features = selected_features.copy()\n",
    "            best_model = best_model_svm\n",
    "    except:\n",
    "        print(\"Scince the kernal is not linear, this feature selection is not possible\") \n",
    "        break\n",
    "\n",
    "# Save results\n",
    "best_model_svm = best_model\n",
    "best_features_svm = best_features\n",
    "\n",
    "# Show results\n",
    "print(\"Best features:\", best_features_svm)\n",
    "print(\"Dropped features:\", list(set(X_train.columns.tolist()) - set(best_features_svm)))"
   ]
  },
  {
   "attachments": {},
   "cell_type": "markdown",
   "metadata": {},
   "source": [
    "# Random Forest"
   ]
  },
  {
   "attachments": {},
   "cell_type": "markdown",
   "metadata": {},
   "source": [
    "**Feature selection**"
   ]
  },
  {
   "cell_type": "code",
   "execution_count": 8,
   "metadata": {},
   "outputs": [
    {
     "name": "stdout",
     "output_type": "stream",
     "text": [
      "Best features: ['KLFinancieleDienstenOnroerendGoed', 'AfstandTotAttractie', 'EenOfMeerLangdurigeAandoeningen']\n",
      "Dropped features: ['AfstandTotBelangrijkOverstapstation', 'PersonenautoSPerHuishouden', 'InBezitWoningcorporatie', 'AfstandTotOvDagelLevensmiddelen', 'BeperkingInZien', 'AfstandTotVolkstuin', 'AfstandTotZwembad', 'AfstandTotHuisartsenpost', 'Rokers', 'NederlandseAntillenEnAruba', 'OppervlakteWater', 'AfstandTotBuitenschoolseOpvang', 'Ondergewicht', 'AfstandTotBrandweerkazerne', 'GeweldsEnSeksueleMisdrijven', 'ALandbouwBosbouwEnVisserij', 'AfstandTotHuisartsenpraktijk', 'BouwjaarVanaf2000', 'AfstandTotKunstijsbaan', 'Mantelzorger', 'AfstandTotSchool', 'InBezitOverigeVerhuurders', 'GemiddeldeWoningwaarde', 'AfstandTotSemiOpenbaarGroenTotaal', 'AfstandTotBegraafplaats', 'AfstandTotBibliotheek', 'TotaalDiefstalUitWoningSchuurED', 'ZwaarBelasteMantelzorgers', 'SterfteRelatief', 'PercentageOnbewoond', 'AfstandTotMuseum', 'AfstandTotOpenDroogNatTerrein', 'kPersonenMetLaagsteInkomen', 'AfstandTotCafetariaED', 'AfstandTotVerblijfsrecreatiefTerrein', 'AfstandTotSauna', 'AfstandTotApotheek', 'AfstandTotSportterrein', 'AfstandTotCafeED', 'OvermatigDrinker', 'AfstandTotOpenNatNatuurlijkTerrein', 'AfstandTotKinderdagverblijf', 'EigendomOnbekend', 'ErnstigOvergewichtObesitas', 'AfstandTotPoppodium', 'MatigOvergewicht', 'UrenMantelzorgPerWeek', 'AfstandTotRestaurant', 'VoldoetAanBeweegrichtlijn', 'ErvarenGezondheidGoedZeerGoed', 'VernielingMisdrijfTegenOpenbareOrde', 'AfstandTotDagrecreatiefTerrein', 'AfstandTotConsultatiebureau', 'PersonenautoSOverigeBrandstof', 'AfstandTotHotelED', 'AfstandTotBioscoop', 'PersonenautoSNaarOppervlakte', 'AfstandTotOpenNatTerreinTotaal', 'AfstandTotTreinstationsTotaal', 'BeperkingInHoren', 'AfstandTotZonnebank', 'AfstandTotPodiumkunstenTotaal', 'AfstandTotOpenbaarGroenTotaal', 'VoldoetAanRichtlijnAlcoholgebruik', 'GeboorteRelatief', 'AfstandTotWarenhuis', 'AfstandTotBos']\n"
     ]
    }
   ],
   "source": [
    "# Get the accuracy score of the model with all the features\n",
    "rf = RandomForestRegressor(n_estimators=100, random_state=0).fit(X_train, y_train)\n",
    "best_rf = rf\n",
    "selected_features = X_train.columns.tolist()\n",
    "best_features = selected_features\n",
    "best_features_accuracy = cross_val_score(RandomForestRegressor(n_estimators=100, random_state=0), X_train, y_train, cv=10, scoring='neg_mean_squared_error', n_jobs=-1).mean()\n",
    "\n",
    "while True:\n",
    "    # Make DataFrame of feature impotances\n",
    "    result = permutation_importance(\n",
    "            rf, X_train[selected_features], y_train, n_repeats=10, random_state=42, n_jobs=-1\n",
    "        )\n",
    "    df_importances = pd.DataFrame({'feature': X_train[selected_features].columns, 'importance': result.importances_mean, 'std': result.importances_std})\n",
    "    df_importances = df_importances.sort_values('importance')\n",
    "\n",
    "    # Remove least important feature\n",
    "    selected_features.remove(df_importances['feature'].iloc[0])\n",
    "\n",
    "    # When there are no features left\n",
    "    if len(selected_features) == 0:\n",
    "        break\n",
    "    \n",
    "    # Refit the Model\n",
    "    rf = RandomForestRegressor(n_estimators=100, random_state=0).fit(X_train[selected_features], y_train)\n",
    "\n",
    "    # Evaluate Model Performance\n",
    "    accuracy = cross_val_score(RandomForestRegressor(n_estimators=100, random_state=0), X_train[selected_features], y_train, cv=10, scoring='neg_mean_squared_error', n_jobs=-1).mean()\n",
    "\n",
    "    # Check if the model performs better without the insignificant features\n",
    "    if accuracy >= best_features_accuracy:\n",
    "        best_features_accuracy = accuracy\n",
    "        best_features = selected_features.copy()\n",
    "        best_model = rf\n",
    "\n",
    "# Save results\n",
    "best_model_rf = best_model\n",
    "best_features_rf = best_features\n",
    "\n",
    "# Show results\n",
    "print(\"Best features:\", best_features_rf)\n",
    "print(\"Dropped features:\", list(set(X_train.columns.tolist()) - set(best_features_rf)))"
   ]
  },
  {
   "attachments": {},
   "cell_type": "markdown",
   "metadata": {},
   "source": [
    "**Hyperparameter optimalisatie**"
   ]
  },
  {
   "cell_type": "code",
   "execution_count": 9,
   "metadata": {},
   "outputs": [
    {
     "name": "stdout",
     "output_type": "stream",
     "text": [
      "|   iter    |  target   | max_depth | max_fe... | min_sa... | n_esti... |\n",
      "-------------------------------------------------------------------------\n",
      "| \u001b[0m1        \u001b[0m | \u001b[0m-1.579   \u001b[0m | \u001b[0m10.96    \u001b[0m | \u001b[0m0.279    \u001b[0m | \u001b[0m10.69    \u001b[0m | \u001b[0m622.8    \u001b[0m |\n",
      "| \u001b[95m2        \u001b[0m | \u001b[95m-1.575   \u001b[0m | \u001b[95m5.791    \u001b[0m | \u001b[95m0.4595   \u001b[0m | \u001b[95m9.871    \u001b[0m | \u001b[95m857.9    \u001b[0m |\n",
      "| \u001b[95m3        \u001b[0m | \u001b[95m-1.572   \u001b[0m | \u001b[95m4.997    \u001b[0m | \u001b[95m0.6533   \u001b[0m | \u001b[95m9.622    \u001b[0m | \u001b[95m275.8    \u001b[0m |\n",
      "| \u001b[0m4        \u001b[0m | \u001b[0m-1.579   \u001b[0m | \u001b[0m19.04    \u001b[0m | \u001b[0m0.2379   \u001b[0m | \u001b[0m7.696    \u001b[0m | \u001b[0m538.2    \u001b[0m |\n",
      "| \u001b[0m5        \u001b[0m | \u001b[0m-1.579   \u001b[0m | \u001b[0m12.68    \u001b[0m | \u001b[0m0.704    \u001b[0m | \u001b[0m2.452    \u001b[0m | \u001b[0m733.7    \u001b[0m |\n",
      "| \u001b[0m6        \u001b[0m | \u001b[0m-1.579   \u001b[0m | \u001b[0m11.32    \u001b[0m | \u001b[0m0.482    \u001b[0m | \u001b[0m2.936    \u001b[0m | \u001b[0m542.7    \u001b[0m |\n",
      "| \u001b[0m7        \u001b[0m | \u001b[0m-1.579   \u001b[0m | \u001b[0m16.16    \u001b[0m | \u001b[0m0.8836   \u001b[0m | \u001b[0m3.449    \u001b[0m | \u001b[0m789.3    \u001b[0m |\n",
      "| \u001b[95m8        \u001b[0m | \u001b[95m-1.569   \u001b[0m | \u001b[95m1.791    \u001b[0m | \u001b[95m0.7506   \u001b[0m | \u001b[95m11.84    \u001b[0m | \u001b[95m902.3    \u001b[0m |\n",
      "| \u001b[0m9        \u001b[0m | \u001b[0m-1.579   \u001b[0m | \u001b[0m19.18    \u001b[0m | \u001b[0m0.6596   \u001b[0m | \u001b[0m2.351    \u001b[0m | \u001b[0m490.6    \u001b[0m |\n",
      "| \u001b[0m10       \u001b[0m | \u001b[0m-1.579   \u001b[0m | \u001b[0m18.28    \u001b[0m | \u001b[0m0.1219   \u001b[0m | \u001b[0m10.32    \u001b[0m | \u001b[0m211.4    \u001b[0m |\n",
      "| \u001b[95m11       \u001b[0m | \u001b[95m-1.569   \u001b[0m | \u001b[95m2.229    \u001b[0m | \u001b[95m0.6892   \u001b[0m | \u001b[95m11.89    \u001b[0m | \u001b[95m941.3    \u001b[0m |\n",
      "| \u001b[0m12       \u001b[0m | \u001b[0m-1.572   \u001b[0m | \u001b[0m4.844    \u001b[0m | \u001b[0m0.2466   \u001b[0m | \u001b[0m11.14    \u001b[0m | \u001b[0m276.1    \u001b[0m |\n",
      "| \u001b[0m13       \u001b[0m | \u001b[0m-1.569   \u001b[0m | \u001b[0m1.973    \u001b[0m | \u001b[0m0.6853   \u001b[0m | \u001b[0m2.193    \u001b[0m | \u001b[0m345.4    \u001b[0m |\n",
      "| \u001b[0m14       \u001b[0m | \u001b[0m-1.579   \u001b[0m | \u001b[0m18.18    \u001b[0m | \u001b[0m0.8532   \u001b[0m | \u001b[0m3.278    \u001b[0m | \u001b[0m999.1    \u001b[0m |\n",
      "| \u001b[0m15       \u001b[0m | \u001b[0m-1.579   \u001b[0m | \u001b[0m19.02    \u001b[0m | \u001b[0m0.8365   \u001b[0m | \u001b[0m11.34    \u001b[0m | \u001b[0m383.3    \u001b[0m |\n",
      "| \u001b[0m16       \u001b[0m | \u001b[0m-1.579   \u001b[0m | \u001b[0m18.61    \u001b[0m | \u001b[0m0.6533   \u001b[0m | \u001b[0m2.122    \u001b[0m | \u001b[0m316.6    \u001b[0m |\n",
      "| \u001b[0m17       \u001b[0m | \u001b[0m-1.579   \u001b[0m | \u001b[0m11.73    \u001b[0m | \u001b[0m0.3731   \u001b[0m | \u001b[0m5.287    \u001b[0m | \u001b[0m922.3    \u001b[0m |\n",
      "| \u001b[95m18       \u001b[0m | \u001b[95m-1.563   \u001b[0m | \u001b[95m3.324    \u001b[0m | \u001b[95m0.808    \u001b[0m | \u001b[95m11.34    \u001b[0m | \u001b[95m950.4    \u001b[0m |\n",
      "| \u001b[0m19       \u001b[0m | \u001b[0m-1.57    \u001b[0m | \u001b[0m1.894    \u001b[0m | \u001b[0m0.4345   \u001b[0m | \u001b[0m4.146    \u001b[0m | \u001b[0m955.0    \u001b[0m |\n",
      "| \u001b[0m20       \u001b[0m | \u001b[0m-1.579   \u001b[0m | \u001b[0m10.39    \u001b[0m | \u001b[0m1.0      \u001b[0m | \u001b[0m12.0     \u001b[0m | \u001b[0m950.9    \u001b[0m |\n",
      "| \u001b[0m21       \u001b[0m | \u001b[0m-1.569   \u001b[0m | \u001b[0m1.923    \u001b[0m | \u001b[0m0.8928   \u001b[0m | \u001b[0m6.479    \u001b[0m | \u001b[0m949.4    \u001b[0m |\n",
      "| \u001b[0m22       \u001b[0m | \u001b[0m-1.589   \u001b[0m | \u001b[0m1.0      \u001b[0m | \u001b[0m0.1      \u001b[0m | \u001b[0m12.0     \u001b[0m | \u001b[0m948.3    \u001b[0m |\n",
      "| \u001b[0m23       \u001b[0m | \u001b[0m-1.569   \u001b[0m | \u001b[0m2.309    \u001b[0m | \u001b[0m0.2362   \u001b[0m | \u001b[0m6.109    \u001b[0m | \u001b[0m948.7    \u001b[0m |\n",
      "| \u001b[0m24       \u001b[0m | \u001b[0m-1.563   \u001b[0m | \u001b[0m3.478    \u001b[0m | \u001b[0m0.4133   \u001b[0m | \u001b[0m10.95    \u001b[0m | \u001b[0m949.9    \u001b[0m |\n",
      "| \u001b[0m25       \u001b[0m | \u001b[0m-1.569   \u001b[0m | \u001b[0m4.134    \u001b[0m | \u001b[0m0.8259   \u001b[0m | \u001b[0m11.99    \u001b[0m | \u001b[0m949.0    \u001b[0m |\n",
      "| \u001b[0m26       \u001b[0m | \u001b[0m-1.572   \u001b[0m | \u001b[0m4.69     \u001b[0m | \u001b[0m0.8196   \u001b[0m | \u001b[0m10.79    \u001b[0m | \u001b[0m950.4    \u001b[0m |\n",
      "| \u001b[0m27       \u001b[0m | \u001b[0m-1.569   \u001b[0m | \u001b[0m1.973    \u001b[0m | \u001b[0m0.8317   \u001b[0m | \u001b[0m10.22    \u001b[0m | \u001b[0m951.4    \u001b[0m |\n",
      "| \u001b[0m28       \u001b[0m | \u001b[0m-1.569   \u001b[0m | \u001b[0m2.135    \u001b[0m | \u001b[0m0.199    \u001b[0m | \u001b[0m8.112    \u001b[0m | \u001b[0m948.8    \u001b[0m |\n",
      "| \u001b[0m29       \u001b[0m | \u001b[0m-1.563   \u001b[0m | \u001b[0m2.653    \u001b[0m | \u001b[0m0.2662   \u001b[0m | \u001b[0m7.519    \u001b[0m | \u001b[0m950.6    \u001b[0m |\n",
      "| \u001b[0m30       \u001b[0m | \u001b[0m-1.563   \u001b[0m | \u001b[0m2.586    \u001b[0m | \u001b[0m0.3794   \u001b[0m | \u001b[0m6.871    \u001b[0m | \u001b[0m951.6    \u001b[0m |\n",
      "| \u001b[0m31       \u001b[0m | \u001b[0m-1.567   \u001b[0m | \u001b[0m4.453    \u001b[0m | \u001b[0m0.4371   \u001b[0m | \u001b[0m8.314    \u001b[0m | \u001b[0m951.1    \u001b[0m |\n",
      "| \u001b[0m32       \u001b[0m | \u001b[0m-1.572   \u001b[0m | \u001b[0m4.746    \u001b[0m | \u001b[0m0.6917   \u001b[0m | \u001b[0m5.687    \u001b[0m | \u001b[0m951.6    \u001b[0m |\n",
      "| \u001b[0m33       \u001b[0m | \u001b[0m-1.589   \u001b[0m | \u001b[0m1.102    \u001b[0m | \u001b[0m0.6057   \u001b[0m | \u001b[0m7.05     \u001b[0m | \u001b[0m951.2    \u001b[0m |\n",
      "| \u001b[0m34       \u001b[0m | \u001b[0m-1.568   \u001b[0m | \u001b[0m3.516    \u001b[0m | \u001b[0m0.6044   \u001b[0m | \u001b[0m8.914    \u001b[0m | \u001b[0m951.5    \u001b[0m |\n",
      "| \u001b[0m35       \u001b[0m | \u001b[0m-1.569   \u001b[0m | \u001b[0m3.933    \u001b[0m | \u001b[0m0.7716   \u001b[0m | \u001b[0m7.058    \u001b[0m | \u001b[0m951.4    \u001b[0m |\n",
      "| \u001b[0m36       \u001b[0m | \u001b[0m-1.564   \u001b[0m | \u001b[0m3.314    \u001b[0m | \u001b[0m0.4131   \u001b[0m | \u001b[0m6.055    \u001b[0m | \u001b[0m950.1    \u001b[0m |\n",
      "| \u001b[0m37       \u001b[0m | \u001b[0m-1.568   \u001b[0m | \u001b[0m3.747    \u001b[0m | \u001b[0m0.5128   \u001b[0m | \u001b[0m9.022    \u001b[0m | \u001b[0m949.5    \u001b[0m |\n",
      "| \u001b[0m38       \u001b[0m | \u001b[0m-1.568   \u001b[0m | \u001b[0m4.267    \u001b[0m | \u001b[0m0.1887   \u001b[0m | \u001b[0m7.072    \u001b[0m | \u001b[0m950.0    \u001b[0m |\n",
      "| \u001b[0m39       \u001b[0m | \u001b[0m-1.568   \u001b[0m | \u001b[0m3.526    \u001b[0m | \u001b[0m0.4663   \u001b[0m | \u001b[0m8.118    \u001b[0m | \u001b[0m948.1    \u001b[0m |\n",
      "| \u001b[95m40       \u001b[0m | \u001b[95m-1.563   \u001b[0m | \u001b[95m3.123    \u001b[0m | \u001b[95m0.7134   \u001b[0m | \u001b[95m7.751    \u001b[0m | \u001b[95m953.4    \u001b[0m |\n",
      "| \u001b[0m41       \u001b[0m | \u001b[0m-1.563   \u001b[0m | \u001b[0m3.327    \u001b[0m | \u001b[0m0.9317   \u001b[0m | \u001b[0m6.964    \u001b[0m | \u001b[0m953.8    \u001b[0m |\n",
      "| \u001b[0m42       \u001b[0m | \u001b[0m-1.564   \u001b[0m | \u001b[0m2.664    \u001b[0m | \u001b[0m0.2819   \u001b[0m | \u001b[0m6.008    \u001b[0m | \u001b[0m953.6    \u001b[0m |\n",
      "| \u001b[0m43       \u001b[0m | \u001b[0m-1.569   \u001b[0m | \u001b[0m4.233    \u001b[0m | \u001b[0m0.786    \u001b[0m | \u001b[0m8.359    \u001b[0m | \u001b[0m953.5    \u001b[0m |\n",
      "| \u001b[0m44       \u001b[0m | \u001b[0m-1.569   \u001b[0m | \u001b[0m2.096    \u001b[0m | \u001b[0m0.2056   \u001b[0m | \u001b[0m8.302    \u001b[0m | \u001b[0m954.8    \u001b[0m |\n",
      "| \u001b[0m45       \u001b[0m | \u001b[0m-1.563   \u001b[0m | \u001b[0m3.438    \u001b[0m | \u001b[0m0.1106   \u001b[0m | \u001b[0m5.714    \u001b[0m | \u001b[0m951.9    \u001b[0m |\n",
      "| \u001b[0m46       \u001b[0m | \u001b[0m-1.569   \u001b[0m | \u001b[0m3.515    \u001b[0m | \u001b[0m0.9611   \u001b[0m | \u001b[0m6.504    \u001b[0m | \u001b[0m955.3    \u001b[0m |\n",
      "| \u001b[0m47       \u001b[0m | \u001b[0m-1.568   \u001b[0m | \u001b[0m3.837    \u001b[0m | \u001b[0m0.485    \u001b[0m | \u001b[0m6.741    \u001b[0m | \u001b[0m953.0    \u001b[0m |\n",
      "| \u001b[0m48       \u001b[0m | \u001b[0m-1.563   \u001b[0m | \u001b[0m3.371    \u001b[0m | \u001b[0m0.2172   \u001b[0m | \u001b[0m3.24     \u001b[0m | \u001b[0m952.9    \u001b[0m |\n",
      "| \u001b[0m49       \u001b[0m | \u001b[0m-1.572   \u001b[0m | \u001b[0m4.644    \u001b[0m | \u001b[0m0.9796   \u001b[0m | \u001b[0m3.526    \u001b[0m | \u001b[0m952.1    \u001b[0m |\n",
      "| \u001b[0m50       \u001b[0m | \u001b[0m-1.564   \u001b[0m | \u001b[0m3.068    \u001b[0m | \u001b[0m0.3873   \u001b[0m | \u001b[0m2.645    \u001b[0m | \u001b[0m954.3    \u001b[0m |\n",
      "=========================================================================\n"
     ]
    },
    {
     "data": {
      "text/html": [
       "<style>#sk-container-id-2 {color: black;background-color: white;}#sk-container-id-2 pre{padding: 0;}#sk-container-id-2 div.sk-toggleable {background-color: white;}#sk-container-id-2 label.sk-toggleable__label {cursor: pointer;display: block;width: 100%;margin-bottom: 0;padding: 0.3em;box-sizing: border-box;text-align: center;}#sk-container-id-2 label.sk-toggleable__label-arrow:before {content: \"▸\";float: left;margin-right: 0.25em;color: #696969;}#sk-container-id-2 label.sk-toggleable__label-arrow:hover:before {color: black;}#sk-container-id-2 div.sk-estimator:hover label.sk-toggleable__label-arrow:before {color: black;}#sk-container-id-2 div.sk-toggleable__content {max-height: 0;max-width: 0;overflow: hidden;text-align: left;background-color: #f0f8ff;}#sk-container-id-2 div.sk-toggleable__content pre {margin: 0.2em;color: black;border-radius: 0.25em;background-color: #f0f8ff;}#sk-container-id-2 input.sk-toggleable__control:checked~div.sk-toggleable__content {max-height: 200px;max-width: 100%;overflow: auto;}#sk-container-id-2 input.sk-toggleable__control:checked~label.sk-toggleable__label-arrow:before {content: \"▾\";}#sk-container-id-2 div.sk-estimator input.sk-toggleable__control:checked~label.sk-toggleable__label {background-color: #d4ebff;}#sk-container-id-2 div.sk-label input.sk-toggleable__control:checked~label.sk-toggleable__label {background-color: #d4ebff;}#sk-container-id-2 input.sk-hidden--visually {border: 0;clip: rect(1px 1px 1px 1px);clip: rect(1px, 1px, 1px, 1px);height: 1px;margin: -1px;overflow: hidden;padding: 0;position: absolute;width: 1px;}#sk-container-id-2 div.sk-estimator {font-family: monospace;background-color: #f0f8ff;border: 1px dotted black;border-radius: 0.25em;box-sizing: border-box;margin-bottom: 0.5em;}#sk-container-id-2 div.sk-estimator:hover {background-color: #d4ebff;}#sk-container-id-2 div.sk-parallel-item::after {content: \"\";width: 100%;border-bottom: 1px solid gray;flex-grow: 1;}#sk-container-id-2 div.sk-label:hover label.sk-toggleable__label {background-color: #d4ebff;}#sk-container-id-2 div.sk-serial::before {content: \"\";position: absolute;border-left: 1px solid gray;box-sizing: border-box;top: 0;bottom: 0;left: 50%;z-index: 0;}#sk-container-id-2 div.sk-serial {display: flex;flex-direction: column;align-items: center;background-color: white;padding-right: 0.2em;padding-left: 0.2em;position: relative;}#sk-container-id-2 div.sk-item {position: relative;z-index: 1;}#sk-container-id-2 div.sk-parallel {display: flex;align-items: stretch;justify-content: center;background-color: white;position: relative;}#sk-container-id-2 div.sk-item::before, #sk-container-id-2 div.sk-parallel-item::before {content: \"\";position: absolute;border-left: 1px solid gray;box-sizing: border-box;top: 0;bottom: 0;left: 50%;z-index: -1;}#sk-container-id-2 div.sk-parallel-item {display: flex;flex-direction: column;z-index: 1;position: relative;background-color: white;}#sk-container-id-2 div.sk-parallel-item:first-child::after {align-self: flex-end;width: 50%;}#sk-container-id-2 div.sk-parallel-item:last-child::after {align-self: flex-start;width: 50%;}#sk-container-id-2 div.sk-parallel-item:only-child::after {width: 0;}#sk-container-id-2 div.sk-dashed-wrapped {border: 1px dashed gray;margin: 0 0.4em 0.5em 0.4em;box-sizing: border-box;padding-bottom: 0.4em;background-color: white;}#sk-container-id-2 div.sk-label label {font-family: monospace;font-weight: bold;display: inline-block;line-height: 1.2em;}#sk-container-id-2 div.sk-label-container {text-align: center;}#sk-container-id-2 div.sk-container {/* jupyter's `normalize.less` sets `[hidden] { display: none; }` but bootstrap.min.css set `[hidden] { display: none !important; }` so we also need the `!important` here to be able to override the default hidden behavior on the sphinx rendered scikit-learn.org. See: https://github.com/scikit-learn/scikit-learn/issues/21755 */display: inline-block !important;position: relative;}#sk-container-id-2 div.sk-text-repr-fallback {display: none;}</style><div id=\"sk-container-id-2\" class=\"sk-top-container\"><div class=\"sk-text-repr-fallback\"><pre>RandomForestRegressor(bootstrap=False, max_depth=3,\n",
       "                      max_features=0.7133990896286735, min_samples_split=8,\n",
       "                      n_estimators=953)</pre><b>In a Jupyter environment, please rerun this cell to show the HTML representation or trust the notebook. <br />On GitHub, the HTML representation is unable to render, please try loading this page with nbviewer.org.</b></div><div class=\"sk-container\" hidden><div class=\"sk-item\"><div class=\"sk-estimator sk-toggleable\"><input class=\"sk-toggleable__control sk-hidden--visually\" id=\"sk-estimator-id-2\" type=\"checkbox\" checked><label for=\"sk-estimator-id-2\" class=\"sk-toggleable__label sk-toggleable__label-arrow\">RandomForestRegressor</label><div class=\"sk-toggleable__content\"><pre>RandomForestRegressor(bootstrap=False, max_depth=3,\n",
       "                      max_features=0.7133990896286735, min_samples_split=8,\n",
       "                      n_estimators=953)</pre></div></div></div></div></div>"
      ],
      "text/plain": [
       "RandomForestRegressor(bootstrap=False, max_depth=3,\n",
       "                      max_features=0.7133990896286735, min_samples_split=8,\n",
       "                      n_estimators=953)"
      ]
     },
     "execution_count": 9,
     "metadata": {},
     "output_type": "execute_result"
    }
   ],
   "source": [
    "def bo_params_rf(min_samples_split,max_depth,max_features,n_estimators):\n",
    "    \n",
    "    params = {\n",
    "        'min_samples_split': round(min_samples_split),\n",
    "        'max_depth': round(max_depth),\n",
    "        'max_features': max_features,\n",
    "        'n_estimators':round(n_estimators)\n",
    "    }    \n",
    "        \n",
    "    clf = RandomForestRegressor(min_samples_split=int(params['min_samples_split']), \n",
    "                                 max_depth=int(params['max_depth']), \n",
    "                                 max_features=params['max_features'],\n",
    "                                 n_estimators=int(params['n_estimators']), \n",
    "                                 bootstrap=False,\n",
    "                                 n_jobs = -1)\n",
    "    return cross_val_score(clf, X_train[best_features_rf], y_train, cv=10, scoring='neg_mean_squared_error', n_jobs=-1).mean()\n",
    "\n",
    "# Create Bayesian Optimization\n",
    "rf_bo = BayesianOptimization(f=bo_params_rf, pbounds={\n",
    "    'n_estimators': (100, 1000),\n",
    "    'max_depth': (1, 20),\n",
    "    'max_features': (0.1, 1),\n",
    "    'min_samples_split': (2, 12)\n",
    "})\n",
    "\n",
    "# Bayesian optimization\n",
    "results = rf_bo.maximize(n_iter=40, init_points=10)\n",
    "\n",
    "# Getting best hyperparameters from bayesian optimization\n",
    "params = rf_bo.max['params']\n",
    "params['n_estimators']= round(params['n_estimators'])\n",
    "params['min_samples_split']= round(params['min_samples_split'])\n",
    "params['max_depth']= round(params['max_depth'])\n",
    "\n",
    "# Making random forest model with the best hyperparameters\n",
    "# criterion entropy is after the hyperparameter optimization since it's more accurate but increases training time\n",
    "best_model_rf_classification = RandomForestRegressor(min_samples_split=params['min_samples_split'],\n",
    "                                                max_depth=params['max_depth'],\n",
    "                                                max_features=params['max_features'],\n",
    "                                                n_estimators=params['n_estimators'],\n",
    "                                                bootstrap=False)\n",
    "\n",
    "best_model_rf_classification.fit(X_train[best_features_rf], y_train)"
   ]
  },
  {
   "attachments": {},
   "cell_type": "markdown",
   "metadata": {},
   "source": [
    "# neural network"
   ]
  },
  {
   "attachments": {},
   "cell_type": "markdown",
   "metadata": {},
   "source": [
    "**Feature selection**"
   ]
  },
  {
   "cell_type": "code",
   "execution_count": 10,
   "metadata": {},
   "outputs": [
    {
     "name": "stdout",
     "output_type": "stream",
     "text": [
      "Best features: ['VoldoetAanBeweegrichtlijn', 'AfstandTotVerblijfsrecreatiefTerrein', 'AfstandTotOpenbaarGroenTotaal', 'AfstandTotWarenhuis', 'BeperkingInZien', 'AfstandTotBrandweerkazerne', 'AfstandTotOpenDroogNatTerrein', 'OppervlakteWater', 'AfstandTotApotheek', 'BeperkingInHoren', 'AfstandTotDagrecreatiefTerrein', 'AfstandTotPoppodium', 'AfstandTotZonnebank', 'ALandbouwBosbouwEnVisserij', 'UrenMantelzorgPerWeek', 'GeboorteRelatief', 'AfstandTotCafeED', 'SterfteRelatief', 'EenOfMeerLangdurigeAandoeningen', 'AfstandTotOvDagelLevensmiddelen', 'AfstandTotHuisartsenpost', 'OvermatigDrinker', 'AfstandTotHotelED', 'AfstandTotKunstijsbaan', 'NederlandseAntillenEnAruba', 'AfstandTotBuitenschoolseOpvang', 'VernielingMisdrijfTegenOpenbareOrde', 'ErnstigOvergewichtObesitas', 'PersonenautoSPerHuishouden', 'AfstandTotAttractie', 'AfstandTotBioscoop', 'AfstandTotSemiOpenbaarGroenTotaal', 'AfstandTotVolkstuin', 'PersonenautoSNaarOppervlakte', 'AfstandTotOpenNatTerreinTotaal', 'KLFinancieleDienstenOnroerendGoed', 'AfstandTotOpenNatNatuurlijkTerrein', 'AfstandTotConsultatiebureau', 'AfstandTotSchool', 'GeweldsEnSeksueleMisdrijven', 'ErvarenGezondheidGoedZeerGoed', 'AfstandTotSportterrein', 'AfstandTotZwembad', 'VoldoetAanRichtlijnAlcoholgebruik', 'AfstandTotBibliotheek', 'AfstandTotKinderdagverblijf', 'AfstandTotCafetariaED', 'Ondergewicht', 'kPersonenMetLaagsteInkomen', 'EigendomOnbekend', 'Mantelzorger', 'AfstandTotHuisartsenpraktijk', 'PercentageOnbewoond', 'AfstandTotSauna', 'ZwaarBelasteMantelzorgers', 'BouwjaarVanaf2000', 'Rokers', 'AfstandTotBelangrijkOverstapstation', 'GemiddeldeWoningwaarde', 'MatigOvergewicht', 'AfstandTotBos', 'AfstandTotBegraafplaats']\n",
      "Dropped features: ['InBezitOverigeVerhuurders', 'AfstandTotPodiumkunstenTotaal', 'AfstandTotTreinstationsTotaal', 'PersonenautoSOverigeBrandstof', 'AfstandTotMuseum', 'AfstandTotRestaurant', 'InBezitWoningcorporatie', 'TotaalDiefstalUitWoningSchuurED']\n"
     ]
    }
   ],
   "source": [
    "# Get the accuracy score of the model with all the features\n",
    "mlp = MLPRegressor(random_state=0).fit(X_train, y_train)\n",
    "best_model = mlp\n",
    "selected_features = X_train.columns.tolist()\n",
    "best_features = selected_features\n",
    "best_features_accuracy = cross_val_score(MLPRegressor(random_state=0), X_train, y_train, cv=10, scoring='neg_mean_squared_error', n_jobs=-1).mean()\n",
    "\n",
    "while True:\n",
    "    # Retrieve the learned weights\n",
    "    weights = mlp.coefs_[0]  # Weights connecting input features to the first hidden layer\n",
    "\n",
    "    # Normalize the weights\n",
    "    normalized_weights = np.abs(weights) / np.sum(np.abs(weights), axis=0)\n",
    "\n",
    "    # Calculate feature importance\n",
    "    feature_importance = np.mean(normalized_weights, axis=1)\n",
    "\n",
    "    # Sort features based on their importance\n",
    "    sorted_indices = np.argsort(feature_importance)\n",
    "    selected_features = [selected_features[i] for i in sorted_indices[:-1]]\n",
    "\n",
    "    # When there are no features left\n",
    "    if len(selected_features) == 0:\n",
    "        break\n",
    "    \n",
    "    # Refit the Model\n",
    "    mlp = MLPRegressor(random_state=0).fit(X_train[selected_features], y_train)\n",
    "\n",
    "    # Evaluate Model Performance\n",
    "    accuracy = cross_val_score(MLPRegressor(random_state=0), X_train[selected_features], y_train, cv=10, scoring='neg_mean_squared_error', n_jobs=-1).mean()\n",
    "\n",
    "    # Check if the model performs better without the insignificant features\n",
    "    if accuracy >= best_features_accuracy:\n",
    "        best_features_accuracy = accuracy\n",
    "        best_features = selected_features.copy()\n",
    "        best_model = mlp\n",
    "\n",
    "# Save results\n",
    "best_model_nn = best_model\n",
    "best_features_nn = best_features\n",
    "\n",
    "# Show results\n",
    "print(\"Best features:\", best_features_nn)\n",
    "print(\"Dropped features:\", list(set(X_train.columns.tolist()) - set(best_features_nn)))"
   ]
  },
  {
   "attachments": {},
   "cell_type": "markdown",
   "metadata": {},
   "source": [
    "**Hyperparameter optimalisatie**"
   ]
  },
  {
   "cell_type": "code",
   "execution_count": 11,
   "metadata": {},
   "outputs": [
    {
     "name": "stdout",
     "output_type": "stream",
     "text": [
      "|   iter    |  target   |   alpha   | hidden... | learni... | max_iter  |\n",
      "-------------------------------------------------------------------------\n",
      "| \u001b[0m1        \u001b[0m | \u001b[0m-1.272   \u001b[0m | \u001b[0m0.006263 \u001b[0m | \u001b[0m16.72    \u001b[0m | \u001b[0m0.06893  \u001b[0m | \u001b[0m335.2    \u001b[0m |\n",
      "| \u001b[95m2        \u001b[0m | \u001b[95m-1.256   \u001b[0m | \u001b[95m0.04986  \u001b[0m | \u001b[95m82.49    \u001b[0m | \u001b[95m0.01156  \u001b[0m | \u001b[95m208.5    \u001b[0m |\n",
      "| \u001b[0m3        \u001b[0m | \u001b[0m-1.275   \u001b[0m | \u001b[0m0.01122  \u001b[0m | \u001b[0m10.67    \u001b[0m | \u001b[0m0.09512  \u001b[0m | \u001b[0m620.8    \u001b[0m |\n",
      "| \u001b[0m4        \u001b[0m | \u001b[0m-1.259   \u001b[0m | \u001b[0m0.03693  \u001b[0m | \u001b[0m15.48    \u001b[0m | \u001b[0m0.07016  \u001b[0m | \u001b[0m333.5    \u001b[0m |\n",
      "| \u001b[0m5        \u001b[0m | \u001b[0m-1.259   \u001b[0m | \u001b[0m0.005632 \u001b[0m | \u001b[0m33.28    \u001b[0m | \u001b[0m0.04079  \u001b[0m | \u001b[0m439.7    \u001b[0m |\n",
      "| \u001b[95m6        \u001b[0m | \u001b[95m-1.255   \u001b[0m | \u001b[95m0.06304  \u001b[0m | \u001b[95m94.35    \u001b[0m | \u001b[95m0.02158  \u001b[0m | \u001b[95m486.0    \u001b[0m |\n",
      "| \u001b[0m7        \u001b[0m | \u001b[0m-1.272   \u001b[0m | \u001b[0m0.05535  \u001b[0m | \u001b[0m51.97    \u001b[0m | \u001b[0m0.09253  \u001b[0m | \u001b[0m775.0    \u001b[0m |\n",
      "| \u001b[0m8        \u001b[0m | \u001b[0m-1.266   \u001b[0m | \u001b[0m0.01859  \u001b[0m | \u001b[0m47.24    \u001b[0m | \u001b[0m0.06454  \u001b[0m | \u001b[0m537.2    \u001b[0m |\n",
      "| \u001b[0m9        \u001b[0m | \u001b[0m-1.256   \u001b[0m | \u001b[0m0.03677  \u001b[0m | \u001b[0m17.37    \u001b[0m | \u001b[0m0.02801  \u001b[0m | \u001b[0m960.7    \u001b[0m |\n",
      "| \u001b[95m10       \u001b[0m | \u001b[95m-1.249   \u001b[0m | \u001b[95m0.03506  \u001b[0m | \u001b[95m36.24    \u001b[0m | \u001b[95m0.09239  \u001b[0m | \u001b[95m201.2    \u001b[0m |\n",
      "| \u001b[0m11       \u001b[0m | \u001b[0m-1.258   \u001b[0m | \u001b[0m0.05217  \u001b[0m | \u001b[0m81.45    \u001b[0m | \u001b[0m0.03675  \u001b[0m | \u001b[0m742.3    \u001b[0m |\n",
      "| \u001b[0m12       \u001b[0m | \u001b[0m-1.259   \u001b[0m | \u001b[0m0.04794  \u001b[0m | \u001b[0m94.08    \u001b[0m | \u001b[0m0.0902   \u001b[0m | \u001b[0m486.2    \u001b[0m |\n",
      "| \u001b[0m13       \u001b[0m | \u001b[0m-1.279   \u001b[0m | \u001b[0m0.06653  \u001b[0m | \u001b[0m18.0     \u001b[0m | \u001b[0m0.08438  \u001b[0m | \u001b[0m960.1    \u001b[0m |\n",
      "| \u001b[0m14       \u001b[0m | \u001b[0m-1.262   \u001b[0m | \u001b[0m0.0652   \u001b[0m | \u001b[0m94.39    \u001b[0m | \u001b[0m0.06346  \u001b[0m | \u001b[0m485.7    \u001b[0m |\n",
      "| \u001b[0m15       \u001b[0m | \u001b[0m-1.265   \u001b[0m | \u001b[0m0.0609   \u001b[0m | \u001b[0m36.21    \u001b[0m | \u001b[0m0.03287  \u001b[0m | \u001b[0m201.8    \u001b[0m |\n",
      "| \u001b[0m16       \u001b[0m | \u001b[0m-1.279   \u001b[0m | \u001b[0m0.04197  \u001b[0m | \u001b[0m22.11    \u001b[0m | \u001b[0m0.08975  \u001b[0m | \u001b[0m480.4    \u001b[0m |\n",
      "| \u001b[0m17       \u001b[0m | \u001b[0m-1.263   \u001b[0m | \u001b[0m0.0798   \u001b[0m | \u001b[0m59.49    \u001b[0m | \u001b[0m0.07198  \u001b[0m | \u001b[0m938.0    \u001b[0m |\n",
      "| \u001b[0m18       \u001b[0m | \u001b[0m-1.277   \u001b[0m | \u001b[0m0.0464   \u001b[0m | \u001b[0m15.43    \u001b[0m | \u001b[0m0.07323  \u001b[0m | \u001b[0m333.8    \u001b[0m |\n",
      "| \u001b[0m19       \u001b[0m | \u001b[0m-1.261   \u001b[0m | \u001b[0m0.02544  \u001b[0m | \u001b[0m76.03    \u001b[0m | \u001b[0m0.0609   \u001b[0m | \u001b[0m516.7    \u001b[0m |\n",
      "| \u001b[0m20       \u001b[0m | \u001b[0m-1.256   \u001b[0m | \u001b[0m0.01943  \u001b[0m | \u001b[0m47.32    \u001b[0m | \u001b[0m0.03794  \u001b[0m | \u001b[0m171.8    \u001b[0m |\n",
      "| \u001b[0m21       \u001b[0m | \u001b[0m-1.276   \u001b[0m | \u001b[0m0.07865  \u001b[0m | \u001b[0m40.82    \u001b[0m | \u001b[0m0.0854   \u001b[0m | \u001b[0m874.0    \u001b[0m |\n",
      "| \u001b[0m22       \u001b[0m | \u001b[0m-1.257   \u001b[0m | \u001b[0m0.03869  \u001b[0m | \u001b[0m54.18    \u001b[0m | \u001b[0m0.02691  \u001b[0m | \u001b[0m517.7    \u001b[0m |\n",
      "| \u001b[0m23       \u001b[0m | \u001b[0m-1.255   \u001b[0m | \u001b[0m0.005547 \u001b[0m | \u001b[0m89.22    \u001b[0m | \u001b[0m0.0113   \u001b[0m | \u001b[0m473.3    \u001b[0m |\n",
      "| \u001b[0m24       \u001b[0m | \u001b[0m-1.26    \u001b[0m | \u001b[0m0.00611  \u001b[0m | \u001b[0m51.2     \u001b[0m | \u001b[0m0.01374  \u001b[0m | \u001b[0m976.7    \u001b[0m |\n",
      "| \u001b[0m25       \u001b[0m | \u001b[0m-1.262   \u001b[0m | \u001b[0m0.000909 \u001b[0m | \u001b[0m96.87    \u001b[0m | \u001b[0m0.08729  \u001b[0m | \u001b[0m454.5    \u001b[0m |\n",
      "| \u001b[0m26       \u001b[0m | \u001b[0m-1.278   \u001b[0m | \u001b[0m0.02376  \u001b[0m | \u001b[0m24.13    \u001b[0m | \u001b[0m0.0872   \u001b[0m | \u001b[0m356.3    \u001b[0m |\n",
      "| \u001b[0m27       \u001b[0m | \u001b[0m-1.258   \u001b[0m | \u001b[0m0.04385  \u001b[0m | \u001b[0m82.14    \u001b[0m | \u001b[0m0.03974  \u001b[0m | \u001b[0m208.2    \u001b[0m |\n",
      "| \u001b[0m28       \u001b[0m | \u001b[0m-1.258   \u001b[0m | \u001b[0m0.04642  \u001b[0m | \u001b[0m47.71    \u001b[0m | \u001b[0m0.02041  \u001b[0m | \u001b[0m171.5    \u001b[0m |\n",
      "| \u001b[0m29       \u001b[0m | \u001b[0m-1.262   \u001b[0m | \u001b[0m0.0611   \u001b[0m | \u001b[0m33.67    \u001b[0m | \u001b[0m0.0426   \u001b[0m | \u001b[0m440.1    \u001b[0m |\n",
      "| \u001b[0m30       \u001b[0m | \u001b[0m-1.259   \u001b[0m | \u001b[0m0.06121  \u001b[0m | \u001b[0m85.07    \u001b[0m | \u001b[0m0.006193 \u001b[0m | \u001b[0m909.9    \u001b[0m |\n",
      "| \u001b[0m31       \u001b[0m | \u001b[0m-1.273   \u001b[0m | \u001b[0m0.07744  \u001b[0m | \u001b[0m90.46    \u001b[0m | \u001b[0m0.08816  \u001b[0m | \u001b[0m424.7    \u001b[0m |\n",
      "| \u001b[0m32       \u001b[0m | \u001b[0m-1.259   \u001b[0m | \u001b[0m0.04474  \u001b[0m | \u001b[0m60.81    \u001b[0m | \u001b[0m0.05532  \u001b[0m | \u001b[0m284.7    \u001b[0m |\n",
      "| \u001b[0m33       \u001b[0m | \u001b[0m-1.27    \u001b[0m | \u001b[0m0.06909  \u001b[0m | \u001b[0m85.26    \u001b[0m | \u001b[0m0.09767  \u001b[0m | \u001b[0m118.3    \u001b[0m |\n",
      "| \u001b[0m34       \u001b[0m | \u001b[0m-1.27    \u001b[0m | \u001b[0m0.03409  \u001b[0m | \u001b[0m59.16    \u001b[0m | \u001b[0m0.0885   \u001b[0m | \u001b[0m353.3    \u001b[0m |\n",
      "| \u001b[0m35       \u001b[0m | \u001b[0m-1.259   \u001b[0m | \u001b[0m0.01796  \u001b[0m | \u001b[0m53.92    \u001b[0m | \u001b[0m0.01711  \u001b[0m | \u001b[0m517.4    \u001b[0m |\n",
      "| \u001b[0m36       \u001b[0m | \u001b[0m-1.26    \u001b[0m | \u001b[0m0.01144  \u001b[0m | \u001b[0m60.86    \u001b[0m | \u001b[0m0.06237  \u001b[0m | \u001b[0m908.0    \u001b[0m |\n",
      "| \u001b[0m37       \u001b[0m | \u001b[0m-1.261   \u001b[0m | \u001b[0m0.02461  \u001b[0m | \u001b[0m35.0     \u001b[0m | \u001b[0m0.02957  \u001b[0m | \u001b[0m500.3    \u001b[0m |\n",
      "| \u001b[0m38       \u001b[0m | \u001b[0m-1.257   \u001b[0m | \u001b[0m0.0367   \u001b[0m | \u001b[0m81.3     \u001b[0m | \u001b[0m0.04278  \u001b[0m | \u001b[0m742.7    \u001b[0m |\n",
      "| \u001b[0m39       \u001b[0m | \u001b[0m-1.257   \u001b[0m | \u001b[0m0.04215  \u001b[0m | \u001b[0m42.77    \u001b[0m | \u001b[0m0.01377  \u001b[0m | \u001b[0m963.4    \u001b[0m |\n",
      "| \u001b[0m40       \u001b[0m | \u001b[0m-1.274   \u001b[0m | \u001b[0m0.02882  \u001b[0m | \u001b[0m16.66    \u001b[0m | \u001b[0m0.06688  \u001b[0m | \u001b[0m960.6    \u001b[0m |\n",
      "| \u001b[0m41       \u001b[0m | \u001b[0m-1.263   \u001b[0m | \u001b[0m0.03378  \u001b[0m | \u001b[0m81.23    \u001b[0m | \u001b[0m0.06781  \u001b[0m | \u001b[0m742.7    \u001b[0m |\n",
      "| \u001b[0m42       \u001b[0m | \u001b[0m-1.251   \u001b[0m | \u001b[0m0.07429  \u001b[0m | \u001b[0m54.93    \u001b[0m | \u001b[0m0.0558   \u001b[0m | \u001b[0m711.4    \u001b[0m |\n",
      "| \u001b[0m43       \u001b[0m | \u001b[0m-1.258   \u001b[0m | \u001b[0m0.03291  \u001b[0m | \u001b[0m71.11    \u001b[0m | \u001b[0m0.05578  \u001b[0m | \u001b[0m631.5    \u001b[0m |\n",
      "| \u001b[0m44       \u001b[0m | \u001b[0m-1.267   \u001b[0m | \u001b[0m0.07645  \u001b[0m | \u001b[0m39.79    \u001b[0m | \u001b[0m0.08386  \u001b[0m | \u001b[0m471.5    \u001b[0m |\n",
      "| \u001b[95m45       \u001b[0m | \u001b[95m-1.249   \u001b[0m | \u001b[95m0.06511  \u001b[0m | \u001b[95m36.68    \u001b[0m | \u001b[95m0.02956  \u001b[0m | \u001b[95m201.2    \u001b[0m |\n",
      "| \u001b[0m46       \u001b[0m | \u001b[0m-1.259   \u001b[0m | \u001b[0m0.0009695\u001b[0m | \u001b[0m74.88    \u001b[0m | \u001b[0m0.01192  \u001b[0m | \u001b[0m694.7    \u001b[0m |\n",
      "| \u001b[0m47       \u001b[0m | \u001b[0m-1.27    \u001b[0m | \u001b[0m0.05863  \u001b[0m | \u001b[0m99.32    \u001b[0m | \u001b[0m0.08906  \u001b[0m | \u001b[0m722.9    \u001b[0m |\n",
      "| \u001b[0m48       \u001b[0m | \u001b[0m-1.259   \u001b[0m | \u001b[0m0.004809 \u001b[0m | \u001b[0m45.19    \u001b[0m | \u001b[0m0.0442   \u001b[0m | \u001b[0m911.1    \u001b[0m |\n",
      "| \u001b[0m49       \u001b[0m | \u001b[0m-1.262   \u001b[0m | \u001b[0m0.08561  \u001b[0m | \u001b[0m94.26    \u001b[0m | \u001b[0m0.04904  \u001b[0m | \u001b[0m486.0    \u001b[0m |\n",
      "| \u001b[0m50       \u001b[0m | \u001b[0m-1.267   \u001b[0m | \u001b[0m0.007645 \u001b[0m | \u001b[0m42.97    \u001b[0m | \u001b[0m0.04963  \u001b[0m | \u001b[0m963.3    \u001b[0m |\n",
      "=========================================================================\n"
     ]
    },
    {
     "data": {
      "text/html": [
       "<style>#sk-container-id-3 {color: black;background-color: white;}#sk-container-id-3 pre{padding: 0;}#sk-container-id-3 div.sk-toggleable {background-color: white;}#sk-container-id-3 label.sk-toggleable__label {cursor: pointer;display: block;width: 100%;margin-bottom: 0;padding: 0.3em;box-sizing: border-box;text-align: center;}#sk-container-id-3 label.sk-toggleable__label-arrow:before {content: \"▸\";float: left;margin-right: 0.25em;color: #696969;}#sk-container-id-3 label.sk-toggleable__label-arrow:hover:before {color: black;}#sk-container-id-3 div.sk-estimator:hover label.sk-toggleable__label-arrow:before {color: black;}#sk-container-id-3 div.sk-toggleable__content {max-height: 0;max-width: 0;overflow: hidden;text-align: left;background-color: #f0f8ff;}#sk-container-id-3 div.sk-toggleable__content pre {margin: 0.2em;color: black;border-radius: 0.25em;background-color: #f0f8ff;}#sk-container-id-3 input.sk-toggleable__control:checked~div.sk-toggleable__content {max-height: 200px;max-width: 100%;overflow: auto;}#sk-container-id-3 input.sk-toggleable__control:checked~label.sk-toggleable__label-arrow:before {content: \"▾\";}#sk-container-id-3 div.sk-estimator input.sk-toggleable__control:checked~label.sk-toggleable__label {background-color: #d4ebff;}#sk-container-id-3 div.sk-label input.sk-toggleable__control:checked~label.sk-toggleable__label {background-color: #d4ebff;}#sk-container-id-3 input.sk-hidden--visually {border: 0;clip: rect(1px 1px 1px 1px);clip: rect(1px, 1px, 1px, 1px);height: 1px;margin: -1px;overflow: hidden;padding: 0;position: absolute;width: 1px;}#sk-container-id-3 div.sk-estimator {font-family: monospace;background-color: #f0f8ff;border: 1px dotted black;border-radius: 0.25em;box-sizing: border-box;margin-bottom: 0.5em;}#sk-container-id-3 div.sk-estimator:hover {background-color: #d4ebff;}#sk-container-id-3 div.sk-parallel-item::after {content: \"\";width: 100%;border-bottom: 1px solid gray;flex-grow: 1;}#sk-container-id-3 div.sk-label:hover label.sk-toggleable__label {background-color: #d4ebff;}#sk-container-id-3 div.sk-serial::before {content: \"\";position: absolute;border-left: 1px solid gray;box-sizing: border-box;top: 0;bottom: 0;left: 50%;z-index: 0;}#sk-container-id-3 div.sk-serial {display: flex;flex-direction: column;align-items: center;background-color: white;padding-right: 0.2em;padding-left: 0.2em;position: relative;}#sk-container-id-3 div.sk-item {position: relative;z-index: 1;}#sk-container-id-3 div.sk-parallel {display: flex;align-items: stretch;justify-content: center;background-color: white;position: relative;}#sk-container-id-3 div.sk-item::before, #sk-container-id-3 div.sk-parallel-item::before {content: \"\";position: absolute;border-left: 1px solid gray;box-sizing: border-box;top: 0;bottom: 0;left: 50%;z-index: -1;}#sk-container-id-3 div.sk-parallel-item {display: flex;flex-direction: column;z-index: 1;position: relative;background-color: white;}#sk-container-id-3 div.sk-parallel-item:first-child::after {align-self: flex-end;width: 50%;}#sk-container-id-3 div.sk-parallel-item:last-child::after {align-self: flex-start;width: 50%;}#sk-container-id-3 div.sk-parallel-item:only-child::after {width: 0;}#sk-container-id-3 div.sk-dashed-wrapped {border: 1px dashed gray;margin: 0 0.4em 0.5em 0.4em;box-sizing: border-box;padding-bottom: 0.4em;background-color: white;}#sk-container-id-3 div.sk-label label {font-family: monospace;font-weight: bold;display: inline-block;line-height: 1.2em;}#sk-container-id-3 div.sk-label-container {text-align: center;}#sk-container-id-3 div.sk-container {/* jupyter's `normalize.less` sets `[hidden] { display: none; }` but bootstrap.min.css set `[hidden] { display: none !important; }` so we also need the `!important` here to be able to override the default hidden behavior on the sphinx rendered scikit-learn.org. See: https://github.com/scikit-learn/scikit-learn/issues/21755 */display: inline-block !important;position: relative;}#sk-container-id-3 div.sk-text-repr-fallback {display: none;}</style><div id=\"sk-container-id-3\" class=\"sk-top-container\"><div class=\"sk-text-repr-fallback\"><pre>MLPRegressor(alpha=0.06511140675694986, hidden_layer_sizes=(37,),\n",
       "             learning_rate_init=0.029557316800464296, max_iter=201)</pre><b>In a Jupyter environment, please rerun this cell to show the HTML representation or trust the notebook. <br />On GitHub, the HTML representation is unable to render, please try loading this page with nbviewer.org.</b></div><div class=\"sk-container\" hidden><div class=\"sk-item\"><div class=\"sk-estimator sk-toggleable\"><input class=\"sk-toggleable__control sk-hidden--visually\" id=\"sk-estimator-id-3\" type=\"checkbox\" checked><label for=\"sk-estimator-id-3\" class=\"sk-toggleable__label sk-toggleable__label-arrow\">MLPRegressor</label><div class=\"sk-toggleable__content\"><pre>MLPRegressor(alpha=0.06511140675694986, hidden_layer_sizes=(37,),\n",
       "             learning_rate_init=0.029557316800464296, max_iter=201)</pre></div></div></div></div></div>"
      ],
      "text/plain": [
       "MLPRegressor(alpha=0.06511140675694986, hidden_layer_sizes=(37,),\n",
       "             learning_rate_init=0.029557316800464296, max_iter=201)"
      ]
     },
     "execution_count": 11,
     "metadata": {},
     "output_type": "execute_result"
    }
   ],
   "source": [
    "def bo_params_generic(model, params, X_train, y_train):\n",
    "    # Create the model instance with the specified parameters\n",
    "    regressor = model(**params)\n",
    "    \n",
    "    # Calculating rmse based on\n",
    "    scores = cross_val_score(regressor, X_train, y_train, cv=10, scoring='neg_root_mean_squared_error')\n",
    "    return scores.mean()\n",
    "\n",
    "params_ranges = {\n",
    "    'hidden_layer_sizes': (10, 100),\n",
    "    'alpha': (0.0001, 0.1),\n",
    "    'learning_rate_init': (0.001, 0.1),\n",
    "    'max_iter': (100, 1000)\n",
    "}\n",
    "\n",
    "# Example usage with Neural Network\n",
    "model = MLPRegressor\n",
    "model_bo = BayesianOptimization(f=lambda hidden_layer_sizes, alpha, learning_rate_init, max_iter:\n",
    "                                    bo_params_generic(model, {\n",
    "                                        'hidden_layer_sizes': (int(round(hidden_layer_sizes)),),\n",
    "                                        'alpha': alpha,\n",
    "                                        'learning_rate_init': learning_rate_init,\n",
    "                                        'max_iter': int(round(max_iter))\n",
    "                                    }, X_train[best_features_nn], y_train),\n",
    "                             pbounds=params_ranges)\n",
    "\n",
    "results = model_bo.maximize(n_iter=40, init_points=10)\n",
    "params = model_bo.max['params']\n",
    "\n",
    "# Creating a model with the best hyperparameters\n",
    "best_model_nn = model(\n",
    "    hidden_layer_sizes=(int(round(params['hidden_layer_sizes'])),),\n",
    "    alpha=params['alpha'],\n",
    "    learning_rate_init=params['learning_rate_init'],\n",
    "    max_iter=int(round(params['max_iter']))\n",
    ")\n",
    "\n",
    "# Fit the model\n",
    "best_model_nn.fit(X_train[best_features_nn], y_train)"
   ]
  },
  {
   "attachments": {},
   "cell_type": "markdown",
   "metadata": {},
   "source": [
    "# plotting the bar chart"
   ]
  },
  {
   "attachments": {},
   "cell_type": "markdown",
   "metadata": {},
   "source": [
    "**using train dataset**"
   ]
  },
  {
   "cell_type": "code",
   "execution_count": 12,
   "metadata": {},
   "outputs": [
    {
     "data": {
      "text/plain": [
       "[{'model': 'Multiple Linear Regression',\n",
       "  'mae': 0.9318617336623353,\n",
       "  'mse': 1.5680339313214782,\n",
       "  'rmse': 1.2522116160304049,\n",
       "  'r2': 0.05053329755299696,\n",
       "  'adj_r2': -0.02274417672626461},\n",
       " {'model': 'Random Forest',\n",
       "  'mae': 0.9367582101915491,\n",
       "  'mse': 1.57991811571218,\n",
       "  'rmse': 1.2569479367548124,\n",
       "  'r2': 0.04333725597550231,\n",
       "  'adj_r2': -0.03049559086211051},\n",
       " {'model': 'Neural Network',\n",
       "  'mae': 0.9431862086275417,\n",
       "  'mse': 1.594419756748425,\n",
       "  'rmse': 1.2627033526321314,\n",
       "  'r2': 0.03455630741327964,\n",
       "  'adj_r2': -0.03995423115460395},\n",
       " {'model': 'Support Vector Machine',\n",
       "  'mae': 0.9297227778915349,\n",
       "  'mse': 1.589817080686161,\n",
       "  'rmse': 1.260879486979688,\n",
       "  'r2': 0.03734329280688453,\n",
       "  'adj_r2': -0.03695215317273859}]"
      ]
     },
     "execution_count": 12,
     "metadata": {},
     "output_type": "execute_result"
    }
   ],
   "source": [
    "regression_models = [\n",
    "    {\n",
    "        'name': 'Multiple Linear Regression',\n",
    "        'model': best_model_mlr,\n",
    "        'features': best_features_mlr\n",
    "    },\n",
    "    {\n",
    "        'name': 'Random Forest',\n",
    "        'model': best_model_rf,\n",
    "        'features': best_features_rf\n",
    "    },\n",
    "    {\n",
    "        'name': 'Neural Network',\n",
    "        'model': best_model_nn,\n",
    "        'features': best_features_nn\n",
    "    },\n",
    "    {\n",
    "        'name': 'Support Vector Machine',\n",
    "        'model': best_model_svm,\n",
    "        'features': best_features_svm\n",
    "    }\n",
    "]\n",
    "\n",
    "regression_stats_val = []\n",
    "\n",
    "for model in regression_models:\n",
    "    try:\n",
    "        # Perform cross-validation and calculate predictions and metrics\n",
    "        y_pred = cross_val_predict(model['model'], X_train[model['features']], y_train, cv=10)\n",
    "        y_true = y_train\n",
    "    except: # cv can't be higher then n_splits in the dt\n",
    "        # Perform cross-validation and calculate predictions and metrics\n",
    "        y_pred = cross_val_predict(model['model'], X_train[model['features']], y_train, cv=5)\n",
    "        y_true = y_train\n",
    "\n",
    "    # R2 Score\n",
    "    r2 = r2_score(y_true, y_pred)\n",
    "\n",
    "    # Adjusted R2 Score\n",
    "    n = len(y_true)  # Number of samples\n",
    "    p = X_test.shape[1]  # Number of predictors (features) in X\n",
    "    adj_r2 = 1 - ((1 - r2) * (n - 1)) / (n - p - 1)\n",
    "\n",
    "    # Save stats\n",
    "    regression_stats_val.append(\n",
    "        {\n",
    "            'model': model['name'],\n",
    "            'mae': mean_absolute_error(y_true, y_pred),\n",
    "            'mse': mean_squared_error(y_true, y_pred),\n",
    "            'rmse': np.sqrt(mean_squared_error(y_true, y_pred)),\n",
    "            'r2': r2,\n",
    "            'adj_r2': adj_r2\n",
    "        }\n",
    "    )\n",
    "\n",
    "# View stats\n",
    "regression_stats_val"
   ]
  },
  {
   "cell_type": "code",
   "execution_count": 13,
   "metadata": {},
   "outputs": [
    {
     "data": {
      "application/vnd.plotly.v1+json": {
       "config": {
        "plotlyServerURL": "https://plot.ly"
       },
       "data": [
        {
         "name": "mae",
         "text": [
          "0.9318617336623353",
          "0.9367582101915491",
          "0.9431862086275417",
          "0.9297227778915349"
         ],
         "textposition": "auto",
         "type": "bar",
         "x": [
          "Multiple Linear Regression",
          "Random Forest",
          "Neural Network",
          "Support Vector Machine"
         ],
         "y": [
          0.9318617336623353,
          0.9367582101915491,
          0.9431862086275417,
          0.9297227778915349
         ]
        },
        {
         "name": "mse",
         "text": [
          "1.5680339313214782",
          "1.57991811571218",
          "1.594419756748425",
          "1.589817080686161"
         ],
         "textposition": "auto",
         "type": "bar",
         "x": [
          "Multiple Linear Regression",
          "Random Forest",
          "Neural Network",
          "Support Vector Machine"
         ],
         "y": [
          1.5680339313214782,
          1.57991811571218,
          1.594419756748425,
          1.589817080686161
         ]
        },
        {
         "name": "rmse",
         "text": [
          "1.2522116160304049",
          "1.2569479367548124",
          "1.2627033526321314",
          "1.260879486979688"
         ],
         "textposition": "auto",
         "type": "bar",
         "x": [
          "Multiple Linear Regression",
          "Random Forest",
          "Neural Network",
          "Support Vector Machine"
         ],
         "y": [
          1.2522116160304049,
          1.2569479367548124,
          1.2627033526321314,
          1.260879486979688
         ]
        },
        {
         "name": "r2",
         "text": [
          "0.05053329755299696",
          "0.04333725597550231",
          "0.03455630741327964",
          "0.03734329280688453"
         ],
         "textposition": "auto",
         "type": "bar",
         "x": [
          "Multiple Linear Regression",
          "Random Forest",
          "Neural Network",
          "Support Vector Machine"
         ],
         "y": [
          0.05053329755299696,
          0.04333725597550231,
          0.03455630741327964,
          0.03734329280688453
         ]
        },
        {
         "name": "adj_r2",
         "text": [
          "-0.02274417672626461",
          "-0.03049559086211051",
          "-0.03995423115460395",
          "-0.03695215317273859"
         ],
         "textposition": "auto",
         "type": "bar",
         "x": [
          "Multiple Linear Regression",
          "Random Forest",
          "Neural Network",
          "Support Vector Machine"
         ],
         "y": [
          -0.02274417672626461,
          -0.03049559086211051,
          -0.03995423115460395,
          -0.03695215317273859
         ]
        }
       ],
       "layout": {
        "barmode": "group",
        "template": {
         "data": {
          "bar": [
           {
            "error_x": {
             "color": "#2a3f5f"
            },
            "error_y": {
             "color": "#2a3f5f"
            },
            "marker": {
             "line": {
              "color": "#E5ECF6",
              "width": 0.5
             },
             "pattern": {
              "fillmode": "overlay",
              "size": 10,
              "solidity": 0.2
             }
            },
            "type": "bar"
           }
          ],
          "barpolar": [
           {
            "marker": {
             "line": {
              "color": "#E5ECF6",
              "width": 0.5
             },
             "pattern": {
              "fillmode": "overlay",
              "size": 10,
              "solidity": 0.2
             }
            },
            "type": "barpolar"
           }
          ],
          "carpet": [
           {
            "aaxis": {
             "endlinecolor": "#2a3f5f",
             "gridcolor": "white",
             "linecolor": "white",
             "minorgridcolor": "white",
             "startlinecolor": "#2a3f5f"
            },
            "baxis": {
             "endlinecolor": "#2a3f5f",
             "gridcolor": "white",
             "linecolor": "white",
             "minorgridcolor": "white",
             "startlinecolor": "#2a3f5f"
            },
            "type": "carpet"
           }
          ],
          "choropleth": [
           {
            "colorbar": {
             "outlinewidth": 0,
             "ticks": ""
            },
            "type": "choropleth"
           }
          ],
          "contour": [
           {
            "colorbar": {
             "outlinewidth": 0,
             "ticks": ""
            },
            "colorscale": [
             [
              0,
              "#0d0887"
             ],
             [
              0.1111111111111111,
              "#46039f"
             ],
             [
              0.2222222222222222,
              "#7201a8"
             ],
             [
              0.3333333333333333,
              "#9c179e"
             ],
             [
              0.4444444444444444,
              "#bd3786"
             ],
             [
              0.5555555555555556,
              "#d8576b"
             ],
             [
              0.6666666666666666,
              "#ed7953"
             ],
             [
              0.7777777777777778,
              "#fb9f3a"
             ],
             [
              0.8888888888888888,
              "#fdca26"
             ],
             [
              1,
              "#f0f921"
             ]
            ],
            "type": "contour"
           }
          ],
          "contourcarpet": [
           {
            "colorbar": {
             "outlinewidth": 0,
             "ticks": ""
            },
            "type": "contourcarpet"
           }
          ],
          "heatmap": [
           {
            "colorbar": {
             "outlinewidth": 0,
             "ticks": ""
            },
            "colorscale": [
             [
              0,
              "#0d0887"
             ],
             [
              0.1111111111111111,
              "#46039f"
             ],
             [
              0.2222222222222222,
              "#7201a8"
             ],
             [
              0.3333333333333333,
              "#9c179e"
             ],
             [
              0.4444444444444444,
              "#bd3786"
             ],
             [
              0.5555555555555556,
              "#d8576b"
             ],
             [
              0.6666666666666666,
              "#ed7953"
             ],
             [
              0.7777777777777778,
              "#fb9f3a"
             ],
             [
              0.8888888888888888,
              "#fdca26"
             ],
             [
              1,
              "#f0f921"
             ]
            ],
            "type": "heatmap"
           }
          ],
          "heatmapgl": [
           {
            "colorbar": {
             "outlinewidth": 0,
             "ticks": ""
            },
            "colorscale": [
             [
              0,
              "#0d0887"
             ],
             [
              0.1111111111111111,
              "#46039f"
             ],
             [
              0.2222222222222222,
              "#7201a8"
             ],
             [
              0.3333333333333333,
              "#9c179e"
             ],
             [
              0.4444444444444444,
              "#bd3786"
             ],
             [
              0.5555555555555556,
              "#d8576b"
             ],
             [
              0.6666666666666666,
              "#ed7953"
             ],
             [
              0.7777777777777778,
              "#fb9f3a"
             ],
             [
              0.8888888888888888,
              "#fdca26"
             ],
             [
              1,
              "#f0f921"
             ]
            ],
            "type": "heatmapgl"
           }
          ],
          "histogram": [
           {
            "marker": {
             "pattern": {
              "fillmode": "overlay",
              "size": 10,
              "solidity": 0.2
             }
            },
            "type": "histogram"
           }
          ],
          "histogram2d": [
           {
            "colorbar": {
             "outlinewidth": 0,
             "ticks": ""
            },
            "colorscale": [
             [
              0,
              "#0d0887"
             ],
             [
              0.1111111111111111,
              "#46039f"
             ],
             [
              0.2222222222222222,
              "#7201a8"
             ],
             [
              0.3333333333333333,
              "#9c179e"
             ],
             [
              0.4444444444444444,
              "#bd3786"
             ],
             [
              0.5555555555555556,
              "#d8576b"
             ],
             [
              0.6666666666666666,
              "#ed7953"
             ],
             [
              0.7777777777777778,
              "#fb9f3a"
             ],
             [
              0.8888888888888888,
              "#fdca26"
             ],
             [
              1,
              "#f0f921"
             ]
            ],
            "type": "histogram2d"
           }
          ],
          "histogram2dcontour": [
           {
            "colorbar": {
             "outlinewidth": 0,
             "ticks": ""
            },
            "colorscale": [
             [
              0,
              "#0d0887"
             ],
             [
              0.1111111111111111,
              "#46039f"
             ],
             [
              0.2222222222222222,
              "#7201a8"
             ],
             [
              0.3333333333333333,
              "#9c179e"
             ],
             [
              0.4444444444444444,
              "#bd3786"
             ],
             [
              0.5555555555555556,
              "#d8576b"
             ],
             [
              0.6666666666666666,
              "#ed7953"
             ],
             [
              0.7777777777777778,
              "#fb9f3a"
             ],
             [
              0.8888888888888888,
              "#fdca26"
             ],
             [
              1,
              "#f0f921"
             ]
            ],
            "type": "histogram2dcontour"
           }
          ],
          "mesh3d": [
           {
            "colorbar": {
             "outlinewidth": 0,
             "ticks": ""
            },
            "type": "mesh3d"
           }
          ],
          "parcoords": [
           {
            "line": {
             "colorbar": {
              "outlinewidth": 0,
              "ticks": ""
             }
            },
            "type": "parcoords"
           }
          ],
          "pie": [
           {
            "automargin": true,
            "type": "pie"
           }
          ],
          "scatter": [
           {
            "fillpattern": {
             "fillmode": "overlay",
             "size": 10,
             "solidity": 0.2
            },
            "type": "scatter"
           }
          ],
          "scatter3d": [
           {
            "line": {
             "colorbar": {
              "outlinewidth": 0,
              "ticks": ""
             }
            },
            "marker": {
             "colorbar": {
              "outlinewidth": 0,
              "ticks": ""
             }
            },
            "type": "scatter3d"
           }
          ],
          "scattercarpet": [
           {
            "marker": {
             "colorbar": {
              "outlinewidth": 0,
              "ticks": ""
             }
            },
            "type": "scattercarpet"
           }
          ],
          "scattergeo": [
           {
            "marker": {
             "colorbar": {
              "outlinewidth": 0,
              "ticks": ""
             }
            },
            "type": "scattergeo"
           }
          ],
          "scattergl": [
           {
            "marker": {
             "colorbar": {
              "outlinewidth": 0,
              "ticks": ""
             }
            },
            "type": "scattergl"
           }
          ],
          "scattermapbox": [
           {
            "marker": {
             "colorbar": {
              "outlinewidth": 0,
              "ticks": ""
             }
            },
            "type": "scattermapbox"
           }
          ],
          "scatterpolar": [
           {
            "marker": {
             "colorbar": {
              "outlinewidth": 0,
              "ticks": ""
             }
            },
            "type": "scatterpolar"
           }
          ],
          "scatterpolargl": [
           {
            "marker": {
             "colorbar": {
              "outlinewidth": 0,
              "ticks": ""
             }
            },
            "type": "scatterpolargl"
           }
          ],
          "scatterternary": [
           {
            "marker": {
             "colorbar": {
              "outlinewidth": 0,
              "ticks": ""
             }
            },
            "type": "scatterternary"
           }
          ],
          "surface": [
           {
            "colorbar": {
             "outlinewidth": 0,
             "ticks": ""
            },
            "colorscale": [
             [
              0,
              "#0d0887"
             ],
             [
              0.1111111111111111,
              "#46039f"
             ],
             [
              0.2222222222222222,
              "#7201a8"
             ],
             [
              0.3333333333333333,
              "#9c179e"
             ],
             [
              0.4444444444444444,
              "#bd3786"
             ],
             [
              0.5555555555555556,
              "#d8576b"
             ],
             [
              0.6666666666666666,
              "#ed7953"
             ],
             [
              0.7777777777777778,
              "#fb9f3a"
             ],
             [
              0.8888888888888888,
              "#fdca26"
             ],
             [
              1,
              "#f0f921"
             ]
            ],
            "type": "surface"
           }
          ],
          "table": [
           {
            "cells": {
             "fill": {
              "color": "#EBF0F8"
             },
             "line": {
              "color": "white"
             }
            },
            "header": {
             "fill": {
              "color": "#C8D4E3"
             },
             "line": {
              "color": "white"
             }
            },
            "type": "table"
           }
          ]
         },
         "layout": {
          "annotationdefaults": {
           "arrowcolor": "#2a3f5f",
           "arrowhead": 0,
           "arrowwidth": 1
          },
          "autotypenumbers": "strict",
          "coloraxis": {
           "colorbar": {
            "outlinewidth": 0,
            "ticks": ""
           }
          },
          "colorscale": {
           "diverging": [
            [
             0,
             "#8e0152"
            ],
            [
             0.1,
             "#c51b7d"
            ],
            [
             0.2,
             "#de77ae"
            ],
            [
             0.3,
             "#f1b6da"
            ],
            [
             0.4,
             "#fde0ef"
            ],
            [
             0.5,
             "#f7f7f7"
            ],
            [
             0.6,
             "#e6f5d0"
            ],
            [
             0.7,
             "#b8e186"
            ],
            [
             0.8,
             "#7fbc41"
            ],
            [
             0.9,
             "#4d9221"
            ],
            [
             1,
             "#276419"
            ]
           ],
           "sequential": [
            [
             0,
             "#0d0887"
            ],
            [
             0.1111111111111111,
             "#46039f"
            ],
            [
             0.2222222222222222,
             "#7201a8"
            ],
            [
             0.3333333333333333,
             "#9c179e"
            ],
            [
             0.4444444444444444,
             "#bd3786"
            ],
            [
             0.5555555555555556,
             "#d8576b"
            ],
            [
             0.6666666666666666,
             "#ed7953"
            ],
            [
             0.7777777777777778,
             "#fb9f3a"
            ],
            [
             0.8888888888888888,
             "#fdca26"
            ],
            [
             1,
             "#f0f921"
            ]
           ],
           "sequentialminus": [
            [
             0,
             "#0d0887"
            ],
            [
             0.1111111111111111,
             "#46039f"
            ],
            [
             0.2222222222222222,
             "#7201a8"
            ],
            [
             0.3333333333333333,
             "#9c179e"
            ],
            [
             0.4444444444444444,
             "#bd3786"
            ],
            [
             0.5555555555555556,
             "#d8576b"
            ],
            [
             0.6666666666666666,
             "#ed7953"
            ],
            [
             0.7777777777777778,
             "#fb9f3a"
            ],
            [
             0.8888888888888888,
             "#fdca26"
            ],
            [
             1,
             "#f0f921"
            ]
           ]
          },
          "colorway": [
           "#636efa",
           "#EF553B",
           "#00cc96",
           "#ab63fa",
           "#FFA15A",
           "#19d3f3",
           "#FF6692",
           "#B6E880",
           "#FF97FF",
           "#FECB52"
          ],
          "font": {
           "color": "#2a3f5f"
          },
          "geo": {
           "bgcolor": "white",
           "lakecolor": "white",
           "landcolor": "#E5ECF6",
           "showlakes": true,
           "showland": true,
           "subunitcolor": "white"
          },
          "hoverlabel": {
           "align": "left"
          },
          "hovermode": "closest",
          "mapbox": {
           "style": "light"
          },
          "paper_bgcolor": "white",
          "plot_bgcolor": "#E5ECF6",
          "polar": {
           "angularaxis": {
            "gridcolor": "white",
            "linecolor": "white",
            "ticks": ""
           },
           "bgcolor": "#E5ECF6",
           "radialaxis": {
            "gridcolor": "white",
            "linecolor": "white",
            "ticks": ""
           }
          },
          "scene": {
           "xaxis": {
            "backgroundcolor": "#E5ECF6",
            "gridcolor": "white",
            "gridwidth": 2,
            "linecolor": "white",
            "showbackground": true,
            "ticks": "",
            "zerolinecolor": "white"
           },
           "yaxis": {
            "backgroundcolor": "#E5ECF6",
            "gridcolor": "white",
            "gridwidth": 2,
            "linecolor": "white",
            "showbackground": true,
            "ticks": "",
            "zerolinecolor": "white"
           },
           "zaxis": {
            "backgroundcolor": "#E5ECF6",
            "gridcolor": "white",
            "gridwidth": 2,
            "linecolor": "white",
            "showbackground": true,
            "ticks": "",
            "zerolinecolor": "white"
           }
          },
          "shapedefaults": {
           "line": {
            "color": "#2a3f5f"
           }
          },
          "ternary": {
           "aaxis": {
            "gridcolor": "white",
            "linecolor": "white",
            "ticks": ""
           },
           "baxis": {
            "gridcolor": "white",
            "linecolor": "white",
            "ticks": ""
           },
           "bgcolor": "#E5ECF6",
           "caxis": {
            "gridcolor": "white",
            "linecolor": "white",
            "ticks": ""
           }
          },
          "title": {
           "x": 0.05
          },
          "xaxis": {
           "automargin": true,
           "gridcolor": "white",
           "linecolor": "white",
           "ticks": "",
           "title": {
            "standoff": 15
           },
           "zerolinecolor": "white",
           "zerolinewidth": 2
          },
          "yaxis": {
           "automargin": true,
           "gridcolor": "white",
           "linecolor": "white",
           "ticks": "",
           "title": {
            "standoff": 15
           },
           "zerolinecolor": "white",
           "zerolinewidth": 2
          }
         }
        },
        "title": {
         "text": "Evaluation Metrics Comparison"
        },
        "xaxis": {
         "title": {
          "text": "Models"
         }
        },
        "yaxis": {
         "title": {
          "text": "Scores"
         }
        }
       }
      }
     },
     "metadata": {},
     "output_type": "display_data"
    }
   ],
   "source": [
    "# Extracting model names and metric scores\n",
    "model_names = [d['model'] for d in regression_stats_val]\n",
    "metric_labels = list(regression_stats_val[0].keys())[1:]\n",
    "metric_scores = {metric: [d[metric] for d in regression_stats_val] for metric in metric_labels}\n",
    "\n",
    "# Plotting the bar chart\n",
    "fig = go.Figure()\n",
    "\n",
    "for metric in metric_labels:\n",
    "    fig.add_trace(go.Bar(\n",
    "        x=model_names,\n",
    "        y=metric_scores[metric],\n",
    "        text=metric_scores[metric],  # Display the values on the bars\n",
    "        textposition='auto',  # Position the text inside the bars\n",
    "        name=metric\n",
    "    ))\n",
    "\n",
    "# Updating the layout\n",
    "fig.update_layout(\n",
    "    title='Evaluation Metrics Comparison',\n",
    "    xaxis_title='Models',\n",
    "    yaxis_title='Scores',\n",
    "    barmode='group'\n",
    ")\n",
    "\n",
    "# Display the plot\n",
    "fig.show()"
   ]
  },
  {
   "attachments": {},
   "cell_type": "markdown",
   "metadata": {},
   "source": [
    "**Evaluating on test data**"
   ]
  },
  {
   "cell_type": "code",
   "execution_count": 14,
   "metadata": {},
   "outputs": [
    {
     "data": {
      "text/plain": [
       "[{'model': 'Multiple Linear Regression',\n",
       "  'mae': 0.9659436239933532,\n",
       "  'mse': 1.692135876491878,\n",
       "  'rmse': 1.300821231565613,\n",
       "  'r2': 0.012919505688484545,\n",
       "  'adj_r2': -0.38418184259775723},\n",
       " {'model': 'Random Forest',\n",
       "  'mae': 0.961934393152983,\n",
       "  'mse': 1.6917660906320193,\n",
       "  'rmse': 1.3006790882581374,\n",
       "  'r2': 0.013135214376190696,\n",
       "  'adj_r2': -0.383879354552928},\n",
       " {'model': 'Neural Network',\n",
       "  'mae': 0.9812644893785488,\n",
       "  'mse': 1.7163348334485855,\n",
       "  'rmse': 1.3100896280211463,\n",
       "  'r2': -0.0011965701695435538,\n",
       "  'adj_r2': -0.4039767995480956},\n",
       " {'model': 'Support Vector Machine',\n",
       "  'mae': 0.9749041916984684,\n",
       "  'mse': 1.7693320717847167,\n",
       "  'rmse': 1.330162423084007,\n",
       "  'r2': -0.0321116644836168,\n",
       "  'adj_r2': -0.44732900077012916}]"
      ]
     },
     "execution_count": 14,
     "metadata": {},
     "output_type": "execute_result"
    }
   ],
   "source": [
    "regression_models = [\n",
    "    {\n",
    "        'name': 'Multiple Linear Regression',\n",
    "        'model': best_model_mlr,\n",
    "        'features': best_features_mlr\n",
    "    },\n",
    "    {\n",
    "        'name': 'Random Forest',\n",
    "        'model': best_model_rf,\n",
    "        'features': best_features_rf\n",
    "    },\n",
    "    {\n",
    "        'name': 'Neural Network',\n",
    "        'model': best_model_nn,\n",
    "        'features': best_features_nn\n",
    "    },\n",
    "    {\n",
    "        'name': 'Support Vector Machine',\n",
    "        'model': best_model_svm,\n",
    "        'features': best_features_svm\n",
    "    }\n",
    "]\n",
    "\n",
    "regression_stats_test = []\n",
    "\n",
    "for model in regression_models:\n",
    "    # Make predictions on the test set\n",
    "    y_pred = model['model'].predict(X_test[model['features']])\n",
    "\n",
    "    # Defining Actual values\n",
    "    y_true = y_test.copy()\n",
    "\n",
    "    # R2 Score\n",
    "    r2 = r2_score(y_true, y_pred)\n",
    "\n",
    "    # Adjusted R2 Score\n",
    "    n = len(y_true)  # Number of samples\n",
    "    p = X_test.shape[1]  # Number of predictors (features) in X\n",
    "    adj_r2 = 1 - ((1 - r2) * (n - 1)) / (n - p - 1)\n",
    "\n",
    "    # Save stats\n",
    "    regression_stats_test.append(\n",
    "        {\n",
    "            'model': model['name'],\n",
    "            'mae': mean_absolute_error(y_true, y_pred),\n",
    "            'mse': mean_squared_error(y_true, y_pred),\n",
    "            'rmse': np.sqrt(mean_squared_error(y_true, y_pred)),\n",
    "            'r2': r2,\n",
    "            'adj_r2': adj_r2\n",
    "        }\n",
    "    )\n",
    "\n",
    "# View stats\n",
    "regression_stats_test"
   ]
  },
  {
   "cell_type": "code",
   "execution_count": 19,
   "metadata": {},
   "outputs": [
    {
     "data": {
      "application/vnd.plotly.v1+json": {
       "config": {
        "plotlyServerURL": "https://plot.ly"
       },
       "data": [
        {
         "name": "mae",
         "text": [
          "0.9659436239933532",
          "0.961934393152983",
          "0.9812644893785488",
          "0.9749041916984684"
         ],
         "textposition": "auto",
         "type": "bar",
         "x": [
          "Multiple Linear Regression",
          "Random Forest",
          "Neural Network",
          "Support Vector Machine"
         ],
         "y": [
          0.9659436239933532,
          0.961934393152983,
          0.9812644893785488,
          0.9749041916984684
         ]
        },
        {
         "name": "mse",
         "text": [
          "1.692135876491878",
          "1.6917660906320193",
          "1.7163348334485855",
          "1.7693320717847167"
         ],
         "textposition": "auto",
         "type": "bar",
         "x": [
          "Multiple Linear Regression",
          "Random Forest",
          "Neural Network",
          "Support Vector Machine"
         ],
         "y": [
          1.692135876491878,
          1.6917660906320193,
          1.7163348334485855,
          1.7693320717847167
         ]
        },
        {
         "name": "rmse",
         "text": [
          "1.300821231565613",
          "1.3006790882581374",
          "1.3100896280211463",
          "1.330162423084007"
         ],
         "textposition": "auto",
         "type": "bar",
         "x": [
          "Multiple Linear Regression",
          "Random Forest",
          "Neural Network",
          "Support Vector Machine"
         ],
         "y": [
          1.300821231565613,
          1.3006790882581374,
          1.3100896280211463,
          1.330162423084007
         ]
        },
        {
         "name": "r2",
         "text": [
          "0.012919505688484545",
          "0.013135214376190696",
          "-0.0011965701695435538",
          "-0.0321116644836168"
         ],
         "textposition": "auto",
         "type": "bar",
         "x": [
          "Multiple Linear Regression",
          "Random Forest",
          "Neural Network",
          "Support Vector Machine"
         ],
         "y": [
          0.012919505688484545,
          0.013135214376190696,
          -0.0011965701695435538,
          -0.0321116644836168
         ]
        },
        {
         "name": "adj_r2",
         "text": [
          "-0.38418184259775723",
          "-0.383879354552928",
          "-0.4039767995480956",
          "-0.44732900077012916"
         ],
         "textposition": "auto",
         "type": "bar",
         "x": [
          "Multiple Linear Regression",
          "Random Forest",
          "Neural Network",
          "Support Vector Machine"
         ],
         "y": [
          -0.38418184259775723,
          -0.383879354552928,
          -0.4039767995480956,
          -0.44732900077012916
         ]
        }
       ],
       "layout": {
        "barmode": "group",
        "template": {
         "data": {
          "bar": [
           {
            "error_x": {
             "color": "#2a3f5f"
            },
            "error_y": {
             "color": "#2a3f5f"
            },
            "marker": {
             "line": {
              "color": "#E5ECF6",
              "width": 0.5
             },
             "pattern": {
              "fillmode": "overlay",
              "size": 10,
              "solidity": 0.2
             }
            },
            "type": "bar"
           }
          ],
          "barpolar": [
           {
            "marker": {
             "line": {
              "color": "#E5ECF6",
              "width": 0.5
             },
             "pattern": {
              "fillmode": "overlay",
              "size": 10,
              "solidity": 0.2
             }
            },
            "type": "barpolar"
           }
          ],
          "carpet": [
           {
            "aaxis": {
             "endlinecolor": "#2a3f5f",
             "gridcolor": "white",
             "linecolor": "white",
             "minorgridcolor": "white",
             "startlinecolor": "#2a3f5f"
            },
            "baxis": {
             "endlinecolor": "#2a3f5f",
             "gridcolor": "white",
             "linecolor": "white",
             "minorgridcolor": "white",
             "startlinecolor": "#2a3f5f"
            },
            "type": "carpet"
           }
          ],
          "choropleth": [
           {
            "colorbar": {
             "outlinewidth": 0,
             "ticks": ""
            },
            "type": "choropleth"
           }
          ],
          "contour": [
           {
            "colorbar": {
             "outlinewidth": 0,
             "ticks": ""
            },
            "colorscale": [
             [
              0,
              "#0d0887"
             ],
             [
              0.1111111111111111,
              "#46039f"
             ],
             [
              0.2222222222222222,
              "#7201a8"
             ],
             [
              0.3333333333333333,
              "#9c179e"
             ],
             [
              0.4444444444444444,
              "#bd3786"
             ],
             [
              0.5555555555555556,
              "#d8576b"
             ],
             [
              0.6666666666666666,
              "#ed7953"
             ],
             [
              0.7777777777777778,
              "#fb9f3a"
             ],
             [
              0.8888888888888888,
              "#fdca26"
             ],
             [
              1,
              "#f0f921"
             ]
            ],
            "type": "contour"
           }
          ],
          "contourcarpet": [
           {
            "colorbar": {
             "outlinewidth": 0,
             "ticks": ""
            },
            "type": "contourcarpet"
           }
          ],
          "heatmap": [
           {
            "colorbar": {
             "outlinewidth": 0,
             "ticks": ""
            },
            "colorscale": [
             [
              0,
              "#0d0887"
             ],
             [
              0.1111111111111111,
              "#46039f"
             ],
             [
              0.2222222222222222,
              "#7201a8"
             ],
             [
              0.3333333333333333,
              "#9c179e"
             ],
             [
              0.4444444444444444,
              "#bd3786"
             ],
             [
              0.5555555555555556,
              "#d8576b"
             ],
             [
              0.6666666666666666,
              "#ed7953"
             ],
             [
              0.7777777777777778,
              "#fb9f3a"
             ],
             [
              0.8888888888888888,
              "#fdca26"
             ],
             [
              1,
              "#f0f921"
             ]
            ],
            "type": "heatmap"
           }
          ],
          "heatmapgl": [
           {
            "colorbar": {
             "outlinewidth": 0,
             "ticks": ""
            },
            "colorscale": [
             [
              0,
              "#0d0887"
             ],
             [
              0.1111111111111111,
              "#46039f"
             ],
             [
              0.2222222222222222,
              "#7201a8"
             ],
             [
              0.3333333333333333,
              "#9c179e"
             ],
             [
              0.4444444444444444,
              "#bd3786"
             ],
             [
              0.5555555555555556,
              "#d8576b"
             ],
             [
              0.6666666666666666,
              "#ed7953"
             ],
             [
              0.7777777777777778,
              "#fb9f3a"
             ],
             [
              0.8888888888888888,
              "#fdca26"
             ],
             [
              1,
              "#f0f921"
             ]
            ],
            "type": "heatmapgl"
           }
          ],
          "histogram": [
           {
            "marker": {
             "pattern": {
              "fillmode": "overlay",
              "size": 10,
              "solidity": 0.2
             }
            },
            "type": "histogram"
           }
          ],
          "histogram2d": [
           {
            "colorbar": {
             "outlinewidth": 0,
             "ticks": ""
            },
            "colorscale": [
             [
              0,
              "#0d0887"
             ],
             [
              0.1111111111111111,
              "#46039f"
             ],
             [
              0.2222222222222222,
              "#7201a8"
             ],
             [
              0.3333333333333333,
              "#9c179e"
             ],
             [
              0.4444444444444444,
              "#bd3786"
             ],
             [
              0.5555555555555556,
              "#d8576b"
             ],
             [
              0.6666666666666666,
              "#ed7953"
             ],
             [
              0.7777777777777778,
              "#fb9f3a"
             ],
             [
              0.8888888888888888,
              "#fdca26"
             ],
             [
              1,
              "#f0f921"
             ]
            ],
            "type": "histogram2d"
           }
          ],
          "histogram2dcontour": [
           {
            "colorbar": {
             "outlinewidth": 0,
             "ticks": ""
            },
            "colorscale": [
             [
              0,
              "#0d0887"
             ],
             [
              0.1111111111111111,
              "#46039f"
             ],
             [
              0.2222222222222222,
              "#7201a8"
             ],
             [
              0.3333333333333333,
              "#9c179e"
             ],
             [
              0.4444444444444444,
              "#bd3786"
             ],
             [
              0.5555555555555556,
              "#d8576b"
             ],
             [
              0.6666666666666666,
              "#ed7953"
             ],
             [
              0.7777777777777778,
              "#fb9f3a"
             ],
             [
              0.8888888888888888,
              "#fdca26"
             ],
             [
              1,
              "#f0f921"
             ]
            ],
            "type": "histogram2dcontour"
           }
          ],
          "mesh3d": [
           {
            "colorbar": {
             "outlinewidth": 0,
             "ticks": ""
            },
            "type": "mesh3d"
           }
          ],
          "parcoords": [
           {
            "line": {
             "colorbar": {
              "outlinewidth": 0,
              "ticks": ""
             }
            },
            "type": "parcoords"
           }
          ],
          "pie": [
           {
            "automargin": true,
            "type": "pie"
           }
          ],
          "scatter": [
           {
            "fillpattern": {
             "fillmode": "overlay",
             "size": 10,
             "solidity": 0.2
            },
            "type": "scatter"
           }
          ],
          "scatter3d": [
           {
            "line": {
             "colorbar": {
              "outlinewidth": 0,
              "ticks": ""
             }
            },
            "marker": {
             "colorbar": {
              "outlinewidth": 0,
              "ticks": ""
             }
            },
            "type": "scatter3d"
           }
          ],
          "scattercarpet": [
           {
            "marker": {
             "colorbar": {
              "outlinewidth": 0,
              "ticks": ""
             }
            },
            "type": "scattercarpet"
           }
          ],
          "scattergeo": [
           {
            "marker": {
             "colorbar": {
              "outlinewidth": 0,
              "ticks": ""
             }
            },
            "type": "scattergeo"
           }
          ],
          "scattergl": [
           {
            "marker": {
             "colorbar": {
              "outlinewidth": 0,
              "ticks": ""
             }
            },
            "type": "scattergl"
           }
          ],
          "scattermapbox": [
           {
            "marker": {
             "colorbar": {
              "outlinewidth": 0,
              "ticks": ""
             }
            },
            "type": "scattermapbox"
           }
          ],
          "scatterpolar": [
           {
            "marker": {
             "colorbar": {
              "outlinewidth": 0,
              "ticks": ""
             }
            },
            "type": "scatterpolar"
           }
          ],
          "scatterpolargl": [
           {
            "marker": {
             "colorbar": {
              "outlinewidth": 0,
              "ticks": ""
             }
            },
            "type": "scatterpolargl"
           }
          ],
          "scatterternary": [
           {
            "marker": {
             "colorbar": {
              "outlinewidth": 0,
              "ticks": ""
             }
            },
            "type": "scatterternary"
           }
          ],
          "surface": [
           {
            "colorbar": {
             "outlinewidth": 0,
             "ticks": ""
            },
            "colorscale": [
             [
              0,
              "#0d0887"
             ],
             [
              0.1111111111111111,
              "#46039f"
             ],
             [
              0.2222222222222222,
              "#7201a8"
             ],
             [
              0.3333333333333333,
              "#9c179e"
             ],
             [
              0.4444444444444444,
              "#bd3786"
             ],
             [
              0.5555555555555556,
              "#d8576b"
             ],
             [
              0.6666666666666666,
              "#ed7953"
             ],
             [
              0.7777777777777778,
              "#fb9f3a"
             ],
             [
              0.8888888888888888,
              "#fdca26"
             ],
             [
              1,
              "#f0f921"
             ]
            ],
            "type": "surface"
           }
          ],
          "table": [
           {
            "cells": {
             "fill": {
              "color": "#EBF0F8"
             },
             "line": {
              "color": "white"
             }
            },
            "header": {
             "fill": {
              "color": "#C8D4E3"
             },
             "line": {
              "color": "white"
             }
            },
            "type": "table"
           }
          ]
         },
         "layout": {
          "annotationdefaults": {
           "arrowcolor": "#2a3f5f",
           "arrowhead": 0,
           "arrowwidth": 1
          },
          "autotypenumbers": "strict",
          "coloraxis": {
           "colorbar": {
            "outlinewidth": 0,
            "ticks": ""
           }
          },
          "colorscale": {
           "diverging": [
            [
             0,
             "#8e0152"
            ],
            [
             0.1,
             "#c51b7d"
            ],
            [
             0.2,
             "#de77ae"
            ],
            [
             0.3,
             "#f1b6da"
            ],
            [
             0.4,
             "#fde0ef"
            ],
            [
             0.5,
             "#f7f7f7"
            ],
            [
             0.6,
             "#e6f5d0"
            ],
            [
             0.7,
             "#b8e186"
            ],
            [
             0.8,
             "#7fbc41"
            ],
            [
             0.9,
             "#4d9221"
            ],
            [
             1,
             "#276419"
            ]
           ],
           "sequential": [
            [
             0,
             "#0d0887"
            ],
            [
             0.1111111111111111,
             "#46039f"
            ],
            [
             0.2222222222222222,
             "#7201a8"
            ],
            [
             0.3333333333333333,
             "#9c179e"
            ],
            [
             0.4444444444444444,
             "#bd3786"
            ],
            [
             0.5555555555555556,
             "#d8576b"
            ],
            [
             0.6666666666666666,
             "#ed7953"
            ],
            [
             0.7777777777777778,
             "#fb9f3a"
            ],
            [
             0.8888888888888888,
             "#fdca26"
            ],
            [
             1,
             "#f0f921"
            ]
           ],
           "sequentialminus": [
            [
             0,
             "#0d0887"
            ],
            [
             0.1111111111111111,
             "#46039f"
            ],
            [
             0.2222222222222222,
             "#7201a8"
            ],
            [
             0.3333333333333333,
             "#9c179e"
            ],
            [
             0.4444444444444444,
             "#bd3786"
            ],
            [
             0.5555555555555556,
             "#d8576b"
            ],
            [
             0.6666666666666666,
             "#ed7953"
            ],
            [
             0.7777777777777778,
             "#fb9f3a"
            ],
            [
             0.8888888888888888,
             "#fdca26"
            ],
            [
             1,
             "#f0f921"
            ]
           ]
          },
          "colorway": [
           "#636efa",
           "#EF553B",
           "#00cc96",
           "#ab63fa",
           "#FFA15A",
           "#19d3f3",
           "#FF6692",
           "#B6E880",
           "#FF97FF",
           "#FECB52"
          ],
          "font": {
           "color": "#2a3f5f"
          },
          "geo": {
           "bgcolor": "white",
           "lakecolor": "white",
           "landcolor": "#E5ECF6",
           "showlakes": true,
           "showland": true,
           "subunitcolor": "white"
          },
          "hoverlabel": {
           "align": "left"
          },
          "hovermode": "closest",
          "mapbox": {
           "style": "light"
          },
          "paper_bgcolor": "white",
          "plot_bgcolor": "#E5ECF6",
          "polar": {
           "angularaxis": {
            "gridcolor": "white",
            "linecolor": "white",
            "ticks": ""
           },
           "bgcolor": "#E5ECF6",
           "radialaxis": {
            "gridcolor": "white",
            "linecolor": "white",
            "ticks": ""
           }
          },
          "scene": {
           "xaxis": {
            "backgroundcolor": "#E5ECF6",
            "gridcolor": "white",
            "gridwidth": 2,
            "linecolor": "white",
            "showbackground": true,
            "ticks": "",
            "zerolinecolor": "white"
           },
           "yaxis": {
            "backgroundcolor": "#E5ECF6",
            "gridcolor": "white",
            "gridwidth": 2,
            "linecolor": "white",
            "showbackground": true,
            "ticks": "",
            "zerolinecolor": "white"
           },
           "zaxis": {
            "backgroundcolor": "#E5ECF6",
            "gridcolor": "white",
            "gridwidth": 2,
            "linecolor": "white",
            "showbackground": true,
            "ticks": "",
            "zerolinecolor": "white"
           }
          },
          "shapedefaults": {
           "line": {
            "color": "#2a3f5f"
           }
          },
          "ternary": {
           "aaxis": {
            "gridcolor": "white",
            "linecolor": "white",
            "ticks": ""
           },
           "baxis": {
            "gridcolor": "white",
            "linecolor": "white",
            "ticks": ""
           },
           "bgcolor": "#E5ECF6",
           "caxis": {
            "gridcolor": "white",
            "linecolor": "white",
            "ticks": ""
           }
          },
          "title": {
           "x": 0.05
          },
          "xaxis": {
           "automargin": true,
           "gridcolor": "white",
           "linecolor": "white",
           "ticks": "",
           "title": {
            "standoff": 15
           },
           "zerolinecolor": "white",
           "zerolinewidth": 2
          },
          "yaxis": {
           "automargin": true,
           "gridcolor": "white",
           "linecolor": "white",
           "ticks": "",
           "title": {
            "standoff": 15
           },
           "zerolinecolor": "white",
           "zerolinewidth": 2
          }
         }
        },
        "title": {
         "text": "Evaluation Metrics Comparison TUG"
        },
        "xaxis": {
         "title": {
          "text": "Models"
         }
        },
        "yaxis": {
         "title": {
          "text": "Scores"
         }
        }
       }
      }
     },
     "metadata": {},
     "output_type": "display_data"
    }
   ],
   "source": [
    "# Extracting model names and metric scores\n",
    "model_names = [d['model'] for d in regression_stats_test]\n",
    "metric_labels = list(regression_stats_test[0].keys())[1:]\n",
    "metric_scores = {metric: [d[metric] for d in regression_stats_test] for metric in metric_labels}\n",
    "\n",
    "# Plotting the bar chart\n",
    "fig = go.Figure()\n",
    "\n",
    "for metric in metric_labels:\n",
    "    fig.add_trace(go.Bar(\n",
    "        x=model_names,\n",
    "        y=metric_scores[metric],\n",
    "        text=metric_scores[metric],  # Display the values on the bars\n",
    "        textposition='auto',  # Position the text inside the bars\n",
    "        name=metric\n",
    "    ))\n",
    "\n",
    "# Updating the layout\n",
    "fig.update_layout(\n",
    "    title='Evaluation Metrics Comparison TUG',\n",
    "    xaxis_title='Models',\n",
    "    yaxis_title='Scores',\n",
    "    barmode='group'\n",
    ")\n",
    "\n",
    "# Display the plot\n",
    "fig.show()"
   ]
  },
  {
   "attachments": {},
   "cell_type": "markdown",
   "metadata": {},
   "source": [
    "Naive bayes"
   ]
  },
  {
   "cell_type": "code",
   "execution_count": 16,
   "metadata": {},
   "outputs": [
    {
     "name": "stdout",
     "output_type": "stream",
     "text": [
      "Mean Absolute Error: 0.9708538458328116\n",
      "Mean Squared Error: 1.7233840289528939\n",
      "Root Mean Squared Error: 1.3127772198483998\n",
      "R2 Score: -0.005308606016993789\n",
      "Adjusted R2 Score: -0.40974310269049696\n"
     ]
    }
   ],
   "source": [
    "# Defining Actual values\n",
    "y_true = y_test.copy()\n",
    "\n",
    "# Defining Predicted values\n",
    "y_pred = np.full_like(y_test, y_train.mean())\n",
    "\n",
    "# Mean absolute error\n",
    "mae = mean_absolute_error(y_test, y_pred)\n",
    "print(\"Mean Absolute Error:\", mae)\n",
    "\n",
    "# Mean Squared Error\n",
    "mse = mean_squared_error(y_true, y_pred)\n",
    "print(\"Mean Squared Error:\", mse)\n",
    "\n",
    "# Root Mean Squared Error\n",
    "rmse = np.sqrt(mse)\n",
    "print(\"Root Mean Squared Error:\", rmse)\n",
    "\n",
    "# R2 Score\n",
    "r2 = r2_score(y_true, y_pred)\n",
    "print(\"R2 Score:\", r2)\n",
    "\n",
    "# Adjusted R2 Score\n",
    "n = len(y_true)  # Number of samples\n",
    "p = X_test.shape[1]  # Number of predictors (features) in X\n",
    "adj_r2 = 1 - ((1 - r2) * (n - 1)) / (n - p - 1)\n",
    "print(\"Adjusted R2 Score:\", adj_r2)"
   ]
  },
  {
   "attachments": {},
   "cell_type": "markdown",
   "metadata": {},
   "source": [
    "Save best model as Pickle"
   ]
  },
  {
   "cell_type": "code",
   "execution_count": 17,
   "metadata": {},
   "outputs": [],
   "source": [
    "import pickle\n",
    "\n",
    "# Save model\n",
    "file_path = 'Saved Models/TUG.pkl'\n",
    "\n",
    "with open(file_path, 'wb') as file:\n",
    "    pickle.dump(best_model_mlr, file)\n",
    "\n",
    "# Save features\n",
    "with open('Saved Models/best_features_TUG.txt', 'w') as file:\n",
    "    file.write(f'{best_features_mlr}')"
   ]
  }
 ],
 "metadata": {
  "kernelspec": {
   "display_name": "Python 3",
   "language": "python",
   "name": "python3"
  },
  "language_info": {
   "codemirror_mode": {
    "name": "ipython",
    "version": 3
   },
   "file_extension": ".py",
   "mimetype": "text/x-python",
   "name": "python",
   "nbconvert_exporter": "python",
   "pygments_lexer": "ipython3",
   "version": "3.10.9"
  },
  "orig_nbformat": 4
 },
 "nbformat": 4,
 "nbformat_minor": 2
}
