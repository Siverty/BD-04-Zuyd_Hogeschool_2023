{
 "cells": [
  {
   "attachments": {},
   "cell_type": "markdown",
   "metadata": {},
   "source": [
    "# General Imports"
   ]
  },
  {
   "attachments": {},
   "cell_type": "markdown",
   "metadata": {},
   "source": [
    "**Importing all libraries**"
   ]
  },
  {
   "cell_type": "code",
   "execution_count": 1,
   "metadata": {},
   "outputs": [],
   "source": [
    "import numpy as np\n",
    "import pandas as pd\n",
    "import warnings\n",
    "\n",
    "import plotly.graph_objects as go\n",
    "from bayes_opt import BayesianOptimization\n",
    "import statsmodels.api as sm\n",
    "\n",
    "from sklearn.model_selection import cross_val_score, train_test_split\n",
    "from sklearn.linear_model import LinearRegression\n",
    "from sklearn.svm import SVR\n",
    "from sklearn.model_selection import cross_val_predict\n",
    "from sklearn.ensemble import RandomForestRegressor\n",
    "from sklearn.neural_network import MLPRegressor\n",
    "from sklearn.metrics import r2_score, mean_squared_error, mean_absolute_error\n",
    "from sklearn.inspection import permutation_importance\n"
   ]
  },
  {
   "attachments": {},
   "cell_type": "markdown",
   "metadata": {},
   "source": [
    "Disable warnings"
   ]
  },
  {
   "cell_type": "code",
   "execution_count": 2,
   "metadata": {},
   "outputs": [],
   "source": [
    "# Disable all warnings\n",
    "warnings.filterwarnings(\"ignore\")\n",
    "\n",
    "# Enable warnings again\n",
    "## warnings.filterwarnings(\"default\")"
   ]
  },
  {
   "attachments": {},
   "cell_type": "markdown",
   "metadata": {},
   "source": [
    "Generate train and test data"
   ]
  },
  {
   "cell_type": "code",
   "execution_count": 3,
   "metadata": {},
   "outputs": [],
   "source": [
    "# Read Data\n",
    "df = pd.read_csv(\"data_finish_prep.csv\")\n",
    "\n",
    "# Select only the usefull part of the df\n",
    "df.drop(columns=['verschil_Lengte',\n",
    "               'verschil_6 MWT', 'verschil_TUG',\n",
    "               'verschil_BMI', 'verschil_Gewicht',\n",
    "               'verschil_Lenigheid', 'verschil_Knijpkracht'], inplace=True)\n",
    "\n",
    "# Drop NaN values\n",
    "df.dropna(inplace=True)\n",
    "\n",
    "# Define X and y\n",
    "X = df.drop(columns=['verschil_Conditie'])\n",
    "y = df['verschil_Conditie']\n",
    "\n",
    "# Split data into train & test data\n",
    "X_train, X_test, y_train, y_test = train_test_split(X, y, test_size=0.2, random_state=42)"
   ]
  },
  {
   "cell_type": "code",
   "execution_count": 4,
   "metadata": {},
   "outputs": [],
   "source": [
    "def bo_params_generic(model, params, X_train, y_train):\n",
    "    # Create the model instance with the specified parameters\n",
    "    regressor = model(**params)\n",
    "    \n",
    "    # Assuming you have X_train, y_train defined for regression\n",
    "    scores = cross_val_score(regressor, X_train, y_train, cv=10, scoring='neg_root_mean_squared_error')\n",
    "    return -scores.mean()"
   ]
  },
  {
   "attachments": {},
   "cell_type": "markdown",
   "metadata": {},
   "source": [
    "# MLR"
   ]
  },
  {
   "attachments": {},
   "cell_type": "markdown",
   "metadata": {},
   "source": [
    "**feature selection**"
   ]
  },
  {
   "cell_type": "code",
   "execution_count": 5,
   "metadata": {},
   "outputs": [
    {
     "name": "stdout",
     "output_type": "stream",
     "text": [
      "Best features: ['AfstandTotPodiumkunstenTotaal', 'AfstandTotPoppodium', 'ErvarenGezondheidGoedZeerGoed', 'Mantelzorger']\n",
      "Dropped features: ['AfstandTotKunstijsbaan', 'Rokers', 'AfstandTotBioscoop', 'AfstandTotBelangrijkOverstapstation', 'SterfteRelatief', 'AfstandTotBos', 'ALandbouwBosbouwEnVisserij', 'kPersonenMetLaagsteInkomen', 'AfstandTotSportterrein', 'GeboorteRelatief', 'TotaalDiefstalUitWoningSchuurED', 'AfstandTotBibliotheek', 'AfstandTotBrandweerkazerne', 'VoldoetAanBeweegrichtlijn', 'AfstandTotTreinstationsTotaal', 'PersonenautoSNaarOppervlakte', 'PercentageOnbewoond', 'GemiddeldeWoningwaarde', 'NederlandseAntillenEnAruba', 'PersonenautoSOverigeBrandstof', 'AfstandTotOpenNatNatuurlijkTerrein', 'AfstandTotCafeED', 'KLFinancieleDienstenOnroerendGoed', 'AfstandTotRestaurant', 'InBezitOverigeVerhuurders', 'InBezitWoningcorporatie', 'AfstandTotOpenbaarGroenTotaal', 'AfstandTotOpenDroogNatTerrein', 'AfstandTotZonnebank', 'AfstandTotCafetariaED', 'BouwjaarVanaf2000', 'AfstandTotHotelED', 'BeperkingInZien', 'AfstandTotSchool', 'VernielingMisdrijfTegenOpenbareOrde', 'AfstandTotSemiOpenbaarGroenTotaal', 'AfstandTotBegraafplaats', 'AfstandTotConsultatiebureau', 'AfstandTotKinderdagverblijf', 'AfstandTotHuisartsenpost', 'AfstandTotWarenhuis', 'UrenMantelzorgPerWeek', 'PersonenautoSPerHuishouden', 'MatigOvergewicht', 'AfstandTotZwembad', 'AfstandTotMuseum', 'AfstandTotOpenNatTerreinTotaal', 'EigendomOnbekend', 'AfstandTotVerblijfsrecreatiefTerrein', 'OvermatigDrinker', 'AfstandTotApotheek', 'AfstandTotDagrecreatiefTerrein', 'GeweldsEnSeksueleMisdrijven', 'EenOfMeerLangdurigeAandoeningen', 'AfstandTotSauna', 'AfstandTotAttractie', 'Ondergewicht', 'AfstandTotHuisartsenpraktijk', 'ErnstigOvergewichtObesitas', 'BeperkingInHoren', 'AfstandTotBuitenschoolseOpvang', 'ZwaarBelasteMantelzorgers', 'OppervlakteWater', 'VoldoetAanRichtlijnAlcoholgebruik', 'AfstandTotVolkstuin', 'AfstandTotOvDagelLevensmiddelen']\n"
     ]
    }
   ],
   "source": [
    "# Fit the Full Model\n",
    "X =  sm.add_constant(X_train)  # Add constant term for the intercept\n",
    "model = sm.OLS(y_train, X_train).fit()  # Fit the MLR model\n",
    "best_model = model  # Initialize the best model\n",
    "selected_features = X_train.columns.tolist()\n",
    "best_features = X_train.columns.tolist()\n",
    "best_features_rmse = np.sqrt(-cross_val_score(LinearRegression(), X_train, y_train, cv=10, scoring='neg_mean_squared_error').mean())\n",
    "\n",
    "# Iteratively remove one feature at a time based on p-values\n",
    "while True:\n",
    "    # Compute p-values\n",
    "    p_values = model.pvalues[1:]  # Exclude the constant term\n",
    "\n",
    "    # Identify Insignificant Features\n",
    "    insignificant_feature = p_values.idxmax()\n",
    "    max_p_value = p_values.max()\n",
    "\n",
    "    # Remove Insignificant Feature\n",
    "    X = X.drop(insignificant_feature, axis=1)\n",
    "    selected_features.remove(insignificant_feature)\n",
    "\n",
    "    # When there a no features left\n",
    "    if len(selected_features) == 0:\n",
    "        break\n",
    "    \n",
    "    # Refit the Model\n",
    "    model = sm.OLS(y_train, X).fit()\n",
    "    \n",
    "    # Evaluate Model Performance\n",
    "    rmse = np.sqrt(-cross_val_score(LinearRegression(), X_train[selected_features], y_train, cv=10, scoring='neg_mean_squared_error').mean())\n",
    "\n",
    "    # Check if the model performs better without the insignificant features\n",
    "    if rmse <= best_features_rmse:\n",
    "        best_features_rmse = rmse\n",
    "        best_features = selected_features.copy()\n",
    "        best_model = model\n",
    "\n",
    "# Save results\n",
    "best_model_mlr = LinearRegression().fit(X_train[best_features], y_train)\n",
    "best_features_mlr = best_features\n",
    "\n",
    "# Show results\n",
    "print(\"Best features:\", best_features)\n",
    "print(\"Dropped features:\", list(set(X_train.columns.tolist()) - set(best_features)))"
   ]
  },
  {
   "attachments": {},
   "cell_type": "markdown",
   "metadata": {},
   "source": [
    "*Er zijn geen hyperparameters om te optimaliseren.*"
   ]
  },
  {
   "attachments": {},
   "cell_type": "markdown",
   "metadata": {},
   "source": [
    "# Support Vector Machines"
   ]
  },
  {
   "attachments": {},
   "cell_type": "markdown",
   "metadata": {},
   "source": [
    "**Hyperparameter optimalisatie**"
   ]
  },
  {
   "cell_type": "code",
   "execution_count": 6,
   "metadata": {},
   "outputs": [
    {
     "name": "stdout",
     "output_type": "stream",
     "text": [
      "|   iter    |  target   |     C     |   gamma   | kernel... |\n",
      "-------------------------------------------------------------\n",
      "| \u001b[0m1        \u001b[0m | \u001b[0m-0.03208 \u001b[0m | \u001b[0m4.725    \u001b[0m | \u001b[0m0.03232  \u001b[0m | \u001b[0m3.986    \u001b[0m |\n",
      "| \u001b[0m2        \u001b[0m | \u001b[0m-0.0322  \u001b[0m | \u001b[0m7.571    \u001b[0m | \u001b[0m0.04263  \u001b[0m | \u001b[0m1.905    \u001b[0m |\n",
      "| \u001b[95m3        \u001b[0m | \u001b[95m-0.03169 \u001b[0m | \u001b[95m0.3848   \u001b[0m | \u001b[95m0.00674  \u001b[0m | \u001b[95m3.18     \u001b[0m |\n",
      "| \u001b[0m4        \u001b[0m | \u001b[0m-0.03196 \u001b[0m | \u001b[0m7.239    \u001b[0m | \u001b[0m0.09388  \u001b[0m | \u001b[0m2.474    \u001b[0m |\n",
      "| \u001b[0m5        \u001b[0m | \u001b[0m-0.03206 \u001b[0m | \u001b[0m6.466    \u001b[0m | \u001b[0m0.04485  \u001b[0m | \u001b[0m2.518    \u001b[0m |\n",
      "| \u001b[0m6        \u001b[0m | \u001b[0m-0.03212 \u001b[0m | \u001b[0m1.56     \u001b[0m | \u001b[0m0.07665  \u001b[0m | \u001b[0m3.058    \u001b[0m |\n",
      "| \u001b[0m7        \u001b[0m | \u001b[0m-0.03218 \u001b[0m | \u001b[0m3.707    \u001b[0m | \u001b[0m0.0125   \u001b[0m | \u001b[0m2.131    \u001b[0m |\n",
      "| \u001b[0m8        \u001b[0m | \u001b[0m-0.03217 \u001b[0m | \u001b[0m2.777    \u001b[0m | \u001b[0m0.07063  \u001b[0m | \u001b[0m1.66     \u001b[0m |\n",
      "| \u001b[0m9        \u001b[0m | \u001b[0m-0.03208 \u001b[0m | \u001b[0m6.883    \u001b[0m | \u001b[0m0.0406   \u001b[0m | \u001b[0m2.645    \u001b[0m |\n",
      "| \u001b[0m10       \u001b[0m | \u001b[0m-0.03221 \u001b[0m | \u001b[0m7.973    \u001b[0m | \u001b[0m0.07757  \u001b[0m | \u001b[0m1.807    \u001b[0m |\n",
      "| \u001b[0m11       \u001b[0m | \u001b[0m-0.03216 \u001b[0m | \u001b[0m1.757    \u001b[0m | \u001b[0m0.02954  \u001b[0m | \u001b[0m1.216    \u001b[0m |\n",
      "| \u001b[95m12       \u001b[0m | \u001b[95m-0.03168 \u001b[0m | \u001b[95m0.3989   \u001b[0m | \u001b[95m0.009462 \u001b[0m | \u001b[95m3.16     \u001b[0m |\n",
      "| \u001b[95m13       \u001b[0m | \u001b[95m-0.03164 \u001b[0m | \u001b[95m5.351    \u001b[0m | \u001b[95m0.007866 \u001b[0m | \u001b[95m3.757    \u001b[0m |\n",
      "| \u001b[0m14       \u001b[0m | \u001b[0m-0.03168 \u001b[0m | \u001b[0m0.3272   \u001b[0m | \u001b[0m0.0952   \u001b[0m | \u001b[0m2.783    \u001b[0m |\n",
      "| \u001b[0m15       \u001b[0m | \u001b[0m-0.03176 \u001b[0m | \u001b[0m5.807    \u001b[0m | \u001b[0m0.001    \u001b[0m | \u001b[0m3.731    \u001b[0m |\n",
      "| \u001b[0m16       \u001b[0m | \u001b[0m-0.03206 \u001b[0m | \u001b[0m0.822    \u001b[0m | \u001b[0m0.04645  \u001b[0m | \u001b[0m2.473    \u001b[0m |\n",
      "| \u001b[0m17       \u001b[0m | \u001b[0m-0.03218 \u001b[0m | \u001b[0m5.399    \u001b[0m | \u001b[0m0.09496  \u001b[0m | \u001b[0m3.325    \u001b[0m |\n",
      "| \u001b[0m18       \u001b[0m | \u001b[0m-0.03218 \u001b[0m | \u001b[0m5.476    \u001b[0m | \u001b[0m0.08038  \u001b[0m | \u001b[0m3.974    \u001b[0m |\n",
      "| \u001b[0m19       \u001b[0m | \u001b[0m-0.03169 \u001b[0m | \u001b[0m0.3327   \u001b[0m | \u001b[0m0.05673  \u001b[0m | \u001b[0m2.974    \u001b[0m |\n",
      "| \u001b[0m20       \u001b[0m | \u001b[0m-0.03185 \u001b[0m | \u001b[0m0.5329   \u001b[0m | \u001b[0m0.07152  \u001b[0m | \u001b[0m2.912    \u001b[0m |\n",
      "| \u001b[0m21       \u001b[0m | \u001b[0m-0.03218 \u001b[0m | \u001b[0m5.188    \u001b[0m | \u001b[0m0.07903  \u001b[0m | \u001b[0m3.689    \u001b[0m |\n",
      "| \u001b[0m22       \u001b[0m | \u001b[0m-0.03215 \u001b[0m | \u001b[0m5.491    \u001b[0m | \u001b[0m0.0592   \u001b[0m | \u001b[0m3.699    \u001b[0m |\n",
      "| \u001b[0m23       \u001b[0m | \u001b[0m-0.03219 \u001b[0m | \u001b[0m9.999    \u001b[0m | \u001b[0m0.06496  \u001b[0m | \u001b[0m3.611    \u001b[0m |\n",
      "| \u001b[0m24       \u001b[0m | \u001b[0m-0.032   \u001b[0m | \u001b[0m3.52     \u001b[0m | \u001b[0m0.07393  \u001b[0m | \u001b[0m2.838    \u001b[0m |\n",
      "| \u001b[0m25       \u001b[0m | \u001b[0m-0.03173 \u001b[0m | \u001b[0m0.3298   \u001b[0m | \u001b[0m0.02675  \u001b[0m | \u001b[0m2.866    \u001b[0m |\n",
      "| \u001b[0m26       \u001b[0m | \u001b[0m-0.03206 \u001b[0m | \u001b[0m0.3639   \u001b[0m | \u001b[0m0.06758  \u001b[0m | \u001b[0m3.091    \u001b[0m |\n",
      "| \u001b[0m27       \u001b[0m | \u001b[0m-0.03168 \u001b[0m | \u001b[0m5.611    \u001b[0m | \u001b[0m0.003953 \u001b[0m | \u001b[0m3.001    \u001b[0m |\n",
      "| \u001b[0m28       \u001b[0m | \u001b[0m-0.03173 \u001b[0m | \u001b[0m0.4012   \u001b[0m | \u001b[0m0.06374  \u001b[0m | \u001b[0m2.908    \u001b[0m |\n",
      "| \u001b[0m29       \u001b[0m | \u001b[0m-0.03218 \u001b[0m | \u001b[0m3.696    \u001b[0m | \u001b[0m0.09388  \u001b[0m | \u001b[0m3.981    \u001b[0m |\n",
      "| \u001b[0m30       \u001b[0m | \u001b[0m-0.03164 \u001b[0m | \u001b[0m0.2511   \u001b[0m | \u001b[0m0.07463  \u001b[0m | \u001b[0m2.893    \u001b[0m |\n",
      "| \u001b[0m31       \u001b[0m | \u001b[0m-0.03172 \u001b[0m | \u001b[0m0.2338   \u001b[0m | \u001b[0m0.03064  \u001b[0m | \u001b[0m2.958    \u001b[0m |\n",
      "| \u001b[0m32       \u001b[0m | \u001b[0m-0.03221 \u001b[0m | \u001b[0m8.107    \u001b[0m | \u001b[0m0.09671  \u001b[0m | \u001b[0m1.185    \u001b[0m |\n",
      "| \u001b[0m33       \u001b[0m | \u001b[0m-0.03217 \u001b[0m | \u001b[0m3.018    \u001b[0m | \u001b[0m0.06659  \u001b[0m | \u001b[0m1.003    \u001b[0m |\n",
      "| \u001b[0m34       \u001b[0m | \u001b[0m-0.03178 \u001b[0m | \u001b[0m0.4801   \u001b[0m | \u001b[0m0.001    \u001b[0m | \u001b[0m3.204    \u001b[0m |\n",
      "| \u001b[95m35       \u001b[0m | \u001b[95m-0.03163 \u001b[0m | \u001b[95m0.2047   \u001b[0m | \u001b[95m0.07922  \u001b[0m | \u001b[95m2.805    \u001b[0m |\n",
      "| \u001b[0m36       \u001b[0m | \u001b[0m-0.03209 \u001b[0m | \u001b[0m0.8424   \u001b[0m | \u001b[0m0.06046  \u001b[0m | \u001b[0m3.254    \u001b[0m |\n",
      "| \u001b[0m37       \u001b[0m | \u001b[0m-0.03172 \u001b[0m | \u001b[0m0.2324   \u001b[0m | \u001b[0m0.02755  \u001b[0m | \u001b[0m2.702    \u001b[0m |\n",
      "| \u001b[0m38       \u001b[0m | \u001b[0m-0.03172 \u001b[0m | \u001b[0m0.1369   \u001b[0m | \u001b[0m0.01603  \u001b[0m | \u001b[0m2.821    \u001b[0m |\n",
      "| \u001b[0m39       \u001b[0m | \u001b[0m-0.0322  \u001b[0m | \u001b[0m7.264    \u001b[0m | \u001b[0m0.02551  \u001b[0m | \u001b[0m1.929    \u001b[0m |\n",
      "| \u001b[95m40       \u001b[0m | \u001b[95m-0.03161 \u001b[0m | \u001b[95m0.1065   \u001b[0m | \u001b[95m0.08936  \u001b[0m | \u001b[95m2.73     \u001b[0m |\n",
      "| \u001b[0m41       \u001b[0m | \u001b[0m-0.03221 \u001b[0m | \u001b[0m7.874    \u001b[0m | \u001b[0m0.02861  \u001b[0m | \u001b[0m1.813    \u001b[0m |\n",
      "| \u001b[0m42       \u001b[0m | \u001b[0m-0.03172 \u001b[0m | \u001b[0m0.1068   \u001b[0m | \u001b[0m0.0186   \u001b[0m | \u001b[0m2.625    \u001b[0m |\n",
      "| \u001b[0m43       \u001b[0m | \u001b[0m-0.03205 \u001b[0m | \u001b[0m5.748    \u001b[0m | \u001b[0m0.05438  \u001b[0m | \u001b[0m2.967    \u001b[0m |\n",
      "| \u001b[0m44       \u001b[0m | \u001b[0m-0.0322  \u001b[0m | \u001b[0m7.149    \u001b[0m | \u001b[0m0.06726  \u001b[0m | \u001b[0m1.23     \u001b[0m |\n",
      "| \u001b[0m45       \u001b[0m | \u001b[0m-0.03207 \u001b[0m | \u001b[0m7.291    \u001b[0m | \u001b[0m0.04444  \u001b[0m | \u001b[0m2.009    \u001b[0m |\n",
      "| \u001b[0m46       \u001b[0m | \u001b[0m-0.03209 \u001b[0m | \u001b[0m5.471    \u001b[0m | \u001b[0m0.0305   \u001b[0m | \u001b[0m2.925    \u001b[0m |\n",
      "| \u001b[0m47       \u001b[0m | \u001b[0m-0.03221 \u001b[0m | \u001b[0m7.848    \u001b[0m | \u001b[0m0.02622  \u001b[0m | \u001b[0m1.806    \u001b[0m |\n",
      "| \u001b[0m48       \u001b[0m | \u001b[0m-0.03208 \u001b[0m | \u001b[0m9.186    \u001b[0m | \u001b[0m0.03905  \u001b[0m | \u001b[0m2.021    \u001b[0m |\n",
      "| \u001b[0m49       \u001b[0m | \u001b[0m-0.03209 \u001b[0m | \u001b[0m5.623    \u001b[0m | \u001b[0m0.03486  \u001b[0m | \u001b[0m3.107    \u001b[0m |\n",
      "| \u001b[95m50       \u001b[0m | \u001b[95m-0.03161 \u001b[0m | \u001b[95m0.1      \u001b[0m | \u001b[95m0.1      \u001b[0m | \u001b[95m2.867    \u001b[0m |\n",
      "=============================================================\n"
     ]
    },
    {
     "data": {
      "text/html": [
       "<style>#sk-container-id-1 {color: black;background-color: white;}#sk-container-id-1 pre{padding: 0;}#sk-container-id-1 div.sk-toggleable {background-color: white;}#sk-container-id-1 label.sk-toggleable__label {cursor: pointer;display: block;width: 100%;margin-bottom: 0;padding: 0.3em;box-sizing: border-box;text-align: center;}#sk-container-id-1 label.sk-toggleable__label-arrow:before {content: \"▸\";float: left;margin-right: 0.25em;color: #696969;}#sk-container-id-1 label.sk-toggleable__label-arrow:hover:before {color: black;}#sk-container-id-1 div.sk-estimator:hover label.sk-toggleable__label-arrow:before {color: black;}#sk-container-id-1 div.sk-toggleable__content {max-height: 0;max-width: 0;overflow: hidden;text-align: left;background-color: #f0f8ff;}#sk-container-id-1 div.sk-toggleable__content pre {margin: 0.2em;color: black;border-radius: 0.25em;background-color: #f0f8ff;}#sk-container-id-1 input.sk-toggleable__control:checked~div.sk-toggleable__content {max-height: 200px;max-width: 100%;overflow: auto;}#sk-container-id-1 input.sk-toggleable__control:checked~label.sk-toggleable__label-arrow:before {content: \"▾\";}#sk-container-id-1 div.sk-estimator input.sk-toggleable__control:checked~label.sk-toggleable__label {background-color: #d4ebff;}#sk-container-id-1 div.sk-label input.sk-toggleable__control:checked~label.sk-toggleable__label {background-color: #d4ebff;}#sk-container-id-1 input.sk-hidden--visually {border: 0;clip: rect(1px 1px 1px 1px);clip: rect(1px, 1px, 1px, 1px);height: 1px;margin: -1px;overflow: hidden;padding: 0;position: absolute;width: 1px;}#sk-container-id-1 div.sk-estimator {font-family: monospace;background-color: #f0f8ff;border: 1px dotted black;border-radius: 0.25em;box-sizing: border-box;margin-bottom: 0.5em;}#sk-container-id-1 div.sk-estimator:hover {background-color: #d4ebff;}#sk-container-id-1 div.sk-parallel-item::after {content: \"\";width: 100%;border-bottom: 1px solid gray;flex-grow: 1;}#sk-container-id-1 div.sk-label:hover label.sk-toggleable__label {background-color: #d4ebff;}#sk-container-id-1 div.sk-serial::before {content: \"\";position: absolute;border-left: 1px solid gray;box-sizing: border-box;top: 0;bottom: 0;left: 50%;z-index: 0;}#sk-container-id-1 div.sk-serial {display: flex;flex-direction: column;align-items: center;background-color: white;padding-right: 0.2em;padding-left: 0.2em;position: relative;}#sk-container-id-1 div.sk-item {position: relative;z-index: 1;}#sk-container-id-1 div.sk-parallel {display: flex;align-items: stretch;justify-content: center;background-color: white;position: relative;}#sk-container-id-1 div.sk-item::before, #sk-container-id-1 div.sk-parallel-item::before {content: \"\";position: absolute;border-left: 1px solid gray;box-sizing: border-box;top: 0;bottom: 0;left: 50%;z-index: -1;}#sk-container-id-1 div.sk-parallel-item {display: flex;flex-direction: column;z-index: 1;position: relative;background-color: white;}#sk-container-id-1 div.sk-parallel-item:first-child::after {align-self: flex-end;width: 50%;}#sk-container-id-1 div.sk-parallel-item:last-child::after {align-self: flex-start;width: 50%;}#sk-container-id-1 div.sk-parallel-item:only-child::after {width: 0;}#sk-container-id-1 div.sk-dashed-wrapped {border: 1px dashed gray;margin: 0 0.4em 0.5em 0.4em;box-sizing: border-box;padding-bottom: 0.4em;background-color: white;}#sk-container-id-1 div.sk-label label {font-family: monospace;font-weight: bold;display: inline-block;line-height: 1.2em;}#sk-container-id-1 div.sk-label-container {text-align: center;}#sk-container-id-1 div.sk-container {/* jupyter's `normalize.less` sets `[hidden] { display: none; }` but bootstrap.min.css set `[hidden] { display: none !important; }` so we also need the `!important` here to be able to override the default hidden behavior on the sphinx rendered scikit-learn.org. See: https://github.com/scikit-learn/scikit-learn/issues/21755 */display: inline-block !important;position: relative;}#sk-container-id-1 div.sk-text-repr-fallback {display: none;}</style><div id=\"sk-container-id-1\" class=\"sk-top-container\"><div class=\"sk-text-repr-fallback\"><pre>SVR(C=0.1, gamma=0.1)</pre><b>In a Jupyter environment, please rerun this cell to show the HTML representation or trust the notebook. <br />On GitHub, the HTML representation is unable to render, please try loading this page with nbviewer.org.</b></div><div class=\"sk-container\" hidden><div class=\"sk-item\"><div class=\"sk-estimator sk-toggleable\"><input class=\"sk-toggleable__control sk-hidden--visually\" id=\"sk-estimator-id-1\" type=\"checkbox\" checked><label for=\"sk-estimator-id-1\" class=\"sk-toggleable__label sk-toggleable__label-arrow\">SVR</label><div class=\"sk-toggleable__content\"><pre>SVR(C=0.1, gamma=0.1)</pre></div></div></div></div></div>"
      ],
      "text/plain": [
       "SVR(C=0.1, gamma=0.1)"
      ]
     },
     "execution_count": 6,
     "metadata": {},
     "output_type": "execute_result"
    }
   ],
   "source": [
    "def bo_params_generic(model, params, X_train, y_train):\n",
    "    # Create the model instance with the specified parameters\n",
    "    classifier = model(**params)\n",
    "    \n",
    "    # Calculating accuracy based on cross-validation\n",
    "    scores = cross_val_score(classifier, X_train, y_train, cv=10, scoring='neg_mean_squared_error')\n",
    "    return scores.mean()\n",
    "\n",
    "params_ranges = {\n",
    "    'C': (0.1, 10),\n",
    "    'kernel_int': (1, 4),\n",
    "    'gamma': (0.001, 0.1)\n",
    "}\n",
    "\n",
    "kernel_mapping = {\n",
    "    1: 'linear',\n",
    "    2: 'rbf',\n",
    "    3: 'poly',\n",
    "    4: 'sigmoid'\n",
    "}\n",
    "\n",
    "# Example usage with SVM\n",
    "model = SVR\n",
    "model_bo = BayesianOptimization(f=lambda C, kernel_int, gamma:\n",
    "                                    bo_params_generic(model, {\n",
    "                                        'C': C,\n",
    "                                        'kernel': kernel_mapping[int(kernel_int)],\n",
    "                                        'gamma': gamma\n",
    "                                    }, X_train, y_train),\n",
    "                             pbounds=params_ranges)\n",
    "\n",
    "results = model_bo.maximize(n_iter=40, init_points=10)\n",
    "params = model_bo.max['params']\n",
    "\n",
    "# Creating a model with the best hyperparameters\n",
    "best_model_svm = model(\n",
    "    C=params['C'],\n",
    "    kernel=kernel_mapping[int(params['kernel_int'])],\n",
    "    gamma=params['gamma']\n",
    ")\n",
    "\n",
    "# Fit the model\n",
    "best_model_svm.fit(X_train, y_train)\n"
   ]
  },
  {
   "attachments": {},
   "cell_type": "markdown",
   "metadata": {},
   "source": [
    "**Feature Selection**"
   ]
  },
  {
   "cell_type": "code",
   "execution_count": 7,
   "metadata": {},
   "outputs": [
    {
     "name": "stdout",
     "output_type": "stream",
     "text": [
      "Scince the kernal is not linear, this feature selection is not possible\n",
      "Best features: Index(['NederlandseAntillenEnAruba', 'GeboorteRelatief', 'SterfteRelatief',\n",
      "       'GemiddeldeWoningwaarde', 'PercentageOnbewoond',\n",
      "       'InBezitWoningcorporatie', 'InBezitOverigeVerhuurders',\n",
      "       'EigendomOnbekend', 'BouwjaarVanaf2000', 'kPersonenMetLaagsteInkomen',\n",
      "       'ALandbouwBosbouwEnVisserij', 'KLFinancieleDienstenOnroerendGoed',\n",
      "       'PersonenautoSOverigeBrandstof', 'PersonenautoSPerHuishouden',\n",
      "       'PersonenautoSNaarOppervlakte', 'AfstandTotHuisartsenpraktijk',\n",
      "       'AfstandTotKinderdagverblijf', 'AfstandTotSchool', 'OppervlakteWater',\n",
      "       'TotaalDiefstalUitWoningSchuurED',\n",
      "       'VernielingMisdrijfTegenOpenbareOrde', 'GeweldsEnSeksueleMisdrijven',\n",
      "       'AfstandTotHuisartsenpost', 'AfstandTotApotheek',\n",
      "       'AfstandTotConsultatiebureau', 'AfstandTotOvDagelLevensmiddelen',\n",
      "       'AfstandTotWarenhuis', 'AfstandTotCafeED', 'AfstandTotCafetariaED',\n",
      "       'AfstandTotRestaurant', 'AfstandTotHotelED',\n",
      "       'AfstandTotBuitenschoolseOpvang', 'AfstandTotOpenbaarGroenTotaal',\n",
      "       'AfstandTotDagrecreatiefTerrein', 'AfstandTotBos',\n",
      "       'AfstandTotOpenNatTerreinTotaal', 'AfstandTotOpenDroogNatTerrein',\n",
      "       'AfstandTotOpenNatNatuurlijkTerrein',\n",
      "       'AfstandTotSemiOpenbaarGroenTotaal', 'AfstandTotSportterrein',\n",
      "       'AfstandTotVolkstuin', 'AfstandTotVerblijfsrecreatiefTerrein',\n",
      "       'AfstandTotBegraafplaats', 'AfstandTotTreinstationsTotaal',\n",
      "       'AfstandTotBelangrijkOverstapstation', 'AfstandTotBibliotheek',\n",
      "       'AfstandTotZwembad', 'AfstandTotKunstijsbaan', 'AfstandTotMuseum',\n",
      "       'AfstandTotPodiumkunstenTotaal', 'AfstandTotPoppodium',\n",
      "       'AfstandTotBioscoop', 'AfstandTotSauna', 'AfstandTotZonnebank',\n",
      "       'AfstandTotAttractie', 'AfstandTotBrandweerkazerne',\n",
      "       'ErvarenGezondheidGoedZeerGoed', 'EenOfMeerLangdurigeAandoeningen',\n",
      "       'BeperkingInHoren', 'BeperkingInZien', 'Ondergewicht',\n",
      "       'MatigOvergewicht', 'ErnstigOvergewichtObesitas',\n",
      "       'VoldoetAanBeweegrichtlijn', 'Mantelzorger',\n",
      "       'ZwaarBelasteMantelzorgers', 'UrenMantelzorgPerWeek', 'Rokers',\n",
      "       'VoldoetAanRichtlijnAlcoholgebruik', 'OvermatigDrinker'],\n",
      "      dtype='object')\n",
      "Dropped features: []\n"
     ]
    }
   ],
   "source": [
    "# Get the accuracy score of the model with all features\n",
    "best_accuracy = cross_val_score(best_model_svm, X_train, y_train, cv=10, scoring='neg_mean_squared_error', n_jobs=-1).mean()\n",
    "best_model = best_model_svm\n",
    "selected_features = X_train.columns\n",
    "best_features = selected_features\n",
    "\n",
    "while len(selected_features) > 1:\n",
    "    try:\n",
    "        # Retrieve the coefficients from the SVM model\n",
    "        coefficients = best_model_svm.coef_[0]\n",
    "\n",
    "        # Sort features based on their coefficient magnitudes\n",
    "        sorted_indices = np.argsort(np.abs(coefficients))\n",
    "        selected_features = [X_train.columns[i] for i in sorted_indices[::-1]]\n",
    "\n",
    "        # Remove the least important feature\n",
    "        selected_features = selected_features[:-1]\n",
    "        \n",
    "        # Refit the linear SVM classifier\n",
    "        best_model_svm_classification.fit(X_train[selected_features], y_train)\n",
    "        \n",
    "        # Evaluate Model Performance\n",
    "        accuracy = cross_val_score(best_model_svm, X_train[selected_features], y_train, cv=10, scoring='neg_mean_squared_error', n_jobs=-1).mean()\n",
    "\n",
    "        # Check if the model performs better without the insignificant features\n",
    "        if accuracy >= best_accuracy:\n",
    "            best_accuracy = accuracy\n",
    "            best_features = selected_features.copy()\n",
    "            best_model = best_model_svm\n",
    "    except:\n",
    "        print(\"Scince the kernal is not linear, this feature selection is not possible\") \n",
    "        break\n",
    "\n",
    "# Save results\n",
    "best_model_svm = best_model\n",
    "best_features_svm = best_features\n",
    "\n",
    "# Show results\n",
    "print(\"Best features:\", best_features_svm)\n",
    "print(\"Dropped features:\", list(set(X_train.columns.tolist()) - set(best_features_svm)))"
   ]
  },
  {
   "attachments": {},
   "cell_type": "markdown",
   "metadata": {},
   "source": [
    "# Random Forest"
   ]
  },
  {
   "attachments": {},
   "cell_type": "markdown",
   "metadata": {},
   "source": [
    "**Feature selection**"
   ]
  },
  {
   "cell_type": "code",
   "execution_count": 8,
   "metadata": {},
   "outputs": [
    {
     "name": "stdout",
     "output_type": "stream",
     "text": [
      "Best features: ['AfstandTotApotheek']\n",
      "Dropped features: ['AfstandTotKunstijsbaan', 'Rokers', 'AfstandTotBioscoop', 'AfstandTotBelangrijkOverstapstation', 'SterfteRelatief', 'AfstandTotBos', 'ALandbouwBosbouwEnVisserij', 'kPersonenMetLaagsteInkomen', 'AfstandTotSportterrein', 'GeboorteRelatief', 'TotaalDiefstalUitWoningSchuurED', 'AfstandTotBibliotheek', 'AfstandTotPoppodium', 'AfstandTotBrandweerkazerne', 'VoldoetAanBeweegrichtlijn', 'AfstandTotTreinstationsTotaal', 'PersonenautoSNaarOppervlakte', 'PercentageOnbewoond', 'GemiddeldeWoningwaarde', 'NederlandseAntillenEnAruba', 'PersonenautoSOverigeBrandstof', 'AfstandTotOpenNatNatuurlijkTerrein', 'AfstandTotCafeED', 'KLFinancieleDienstenOnroerendGoed', 'AfstandTotRestaurant', 'InBezitOverigeVerhuurders', 'InBezitWoningcorporatie', 'AfstandTotOpenbaarGroenTotaal', 'AfstandTotOpenDroogNatTerrein', 'AfstandTotZonnebank', 'AfstandTotCafetariaED', 'BouwjaarVanaf2000', 'AfstandTotHotelED', 'BeperkingInZien', 'AfstandTotSchool', 'VernielingMisdrijfTegenOpenbareOrde', 'AfstandTotSemiOpenbaarGroenTotaal', 'AfstandTotBegraafplaats', 'AfstandTotConsultatiebureau', 'AfstandTotKinderdagverblijf', 'AfstandTotHuisartsenpost', 'AfstandTotWarenhuis', 'UrenMantelzorgPerWeek', 'PersonenautoSPerHuishouden', 'MatigOvergewicht', 'AfstandTotZwembad', 'AfstandTotMuseum', 'AfstandTotOpenNatTerreinTotaal', 'Mantelzorger', 'EigendomOnbekend', 'AfstandTotVerblijfsrecreatiefTerrein', 'OvermatigDrinker', 'ErvarenGezondheidGoedZeerGoed', 'AfstandTotDagrecreatiefTerrein', 'GeweldsEnSeksueleMisdrijven', 'EenOfMeerLangdurigeAandoeningen', 'AfstandTotSauna', 'AfstandTotAttractie', 'Ondergewicht', 'AfstandTotHuisartsenpraktijk', 'AfstandTotPodiumkunstenTotaal', 'ErnstigOvergewichtObesitas', 'BeperkingInHoren', 'AfstandTotBuitenschoolseOpvang', 'ZwaarBelasteMantelzorgers', 'OppervlakteWater', 'VoldoetAanRichtlijnAlcoholgebruik', 'AfstandTotVolkstuin', 'AfstandTotOvDagelLevensmiddelen']\n"
     ]
    }
   ],
   "source": [
    "# Get the accuracy score of the model with all the features\n",
    "rf = RandomForestRegressor(n_estimators=100, random_state=0).fit(X_train, y_train)\n",
    "best_rf = rf\n",
    "selected_features = X_train.columns.tolist()\n",
    "best_features = selected_features\n",
    "best_features_accuracy = cross_val_score(RandomForestRegressor(n_estimators=100, random_state=0), X_train, y_train, cv=10, scoring='neg_mean_squared_error', n_jobs=-1).mean()\n",
    "\n",
    "while True:\n",
    "    # Make DataFrame of feature impotances\n",
    "    result = permutation_importance(\n",
    "            rf, X_train[selected_features], y_train, n_repeats=10, random_state=42, n_jobs=-1\n",
    "        )\n",
    "    df_importances = pd.DataFrame({'feature': X_train[selected_features].columns, 'importance': result.importances_mean, 'std': result.importances_std})\n",
    "    df_importances = df_importances.sort_values('importance')\n",
    "\n",
    "    # Remove least important feature\n",
    "    selected_features.remove(df_importances['feature'].iloc[0])\n",
    "\n",
    "    # When there are no features left\n",
    "    if len(selected_features) == 0:\n",
    "        break\n",
    "    \n",
    "    # Refit the Model\n",
    "    rf = RandomForestRegressor(n_estimators=100, random_state=0).fit(X_train[selected_features], y_train)\n",
    "\n",
    "    # Evaluate Model Performance\n",
    "    accuracy = cross_val_score(RandomForestRegressor(n_estimators=100, random_state=0), X_train[selected_features], y_train, cv=10, scoring='neg_mean_squared_error', n_jobs=-1).mean()\n",
    "\n",
    "    # Check if the model performs better without the insignificant features\n",
    "    if accuracy >= best_features_accuracy:\n",
    "        best_features_accuracy = accuracy\n",
    "        best_features = selected_features.copy()\n",
    "        best_model = rf\n",
    "\n",
    "# Save results\n",
    "best_model_rf = best_model\n",
    "best_features_rf = best_features\n",
    "\n",
    "# Show results\n",
    "print(\"Best features:\", best_features_rf)\n",
    "print(\"Dropped features:\", list(set(X_train.columns.tolist()) - set(best_features_rf)))"
   ]
  },
  {
   "attachments": {},
   "cell_type": "markdown",
   "metadata": {},
   "source": [
    "**Hyperparameter optimalisatie**"
   ]
  },
  {
   "cell_type": "code",
   "execution_count": 9,
   "metadata": {},
   "outputs": [
    {
     "name": "stdout",
     "output_type": "stream",
     "text": [
      "|   iter    |  target   | max_depth | max_fe... | min_sa... | n_esti... |\n",
      "-------------------------------------------------------------------------\n"
     ]
    },
    {
     "name": "stdout",
     "output_type": "stream",
     "text": [
      "| \u001b[0m1        \u001b[0m | \u001b[0m-0.03151 \u001b[0m | \u001b[0m5.274    \u001b[0m | \u001b[0m0.9383   \u001b[0m | \u001b[0m8.457    \u001b[0m | \u001b[0m802.2    \u001b[0m |\n",
      "| \u001b[0m2        \u001b[0m | \u001b[0m-0.03151 \u001b[0m | \u001b[0m5.134    \u001b[0m | \u001b[0m0.8483   \u001b[0m | \u001b[0m3.508    \u001b[0m | \u001b[0m972.4    \u001b[0m |\n",
      "| \u001b[0m3        \u001b[0m | \u001b[0m-0.03152 \u001b[0m | \u001b[0m16.7     \u001b[0m | \u001b[0m0.4945   \u001b[0m | \u001b[0m5.424    \u001b[0m | \u001b[0m620.2    \u001b[0m |\n",
      "| \u001b[0m4        \u001b[0m | \u001b[0m-0.03152 \u001b[0m | \u001b[0m17.93    \u001b[0m | \u001b[0m0.1715   \u001b[0m | \u001b[0m4.973    \u001b[0m | \u001b[0m843.7    \u001b[0m |\n",
      "| \u001b[0m5        \u001b[0m | \u001b[0m-0.03152 \u001b[0m | \u001b[0m17.77    \u001b[0m | \u001b[0m0.149    \u001b[0m | \u001b[0m11.84    \u001b[0m | \u001b[0m188.6    \u001b[0m |\n",
      "| \u001b[0m6        \u001b[0m | \u001b[0m-0.03152 \u001b[0m | \u001b[0m15.68    \u001b[0m | \u001b[0m0.76     \u001b[0m | \u001b[0m8.094    \u001b[0m | \u001b[0m653.0    \u001b[0m |\n",
      "| \u001b[0m7        \u001b[0m | \u001b[0m-0.03152 \u001b[0m | \u001b[0m17.2     \u001b[0m | \u001b[0m0.7744   \u001b[0m | \u001b[0m2.903    \u001b[0m | \u001b[0m835.5    \u001b[0m |\n",
      "| \u001b[95m8        \u001b[0m | \u001b[95m-0.03124 \u001b[0m | \u001b[95m2.648    \u001b[0m | \u001b[95m0.6996   \u001b[0m | \u001b[95m4.704    \u001b[0m | \u001b[95m838.5    \u001b[0m |\n",
      "| \u001b[0m9        \u001b[0m | \u001b[0m-0.03152 \u001b[0m | \u001b[0m18.79    \u001b[0m | \u001b[0m0.4648   \u001b[0m | \u001b[0m6.349    \u001b[0m | \u001b[0m139.8    \u001b[0m |\n",
      "| \u001b[0m10       \u001b[0m | \u001b[0m-0.03152 \u001b[0m | \u001b[0m15.95    \u001b[0m | \u001b[0m0.1874   \u001b[0m | \u001b[0m3.409    \u001b[0m | \u001b[0m114.0    \u001b[0m |\n",
      "| \u001b[0m11       \u001b[0m | \u001b[0m-0.0317  \u001b[0m | \u001b[0m1.226    \u001b[0m | \u001b[0m0.3049   \u001b[0m | \u001b[0m6.408    \u001b[0m | \u001b[0m838.3    \u001b[0m |\n",
      "| \u001b[0m12       \u001b[0m | \u001b[0m-0.03124 \u001b[0m | \u001b[0m2.823    \u001b[0m | \u001b[0m0.4387   \u001b[0m | \u001b[0m11.35    \u001b[0m | \u001b[0m797.1    \u001b[0m |\n",
      "| \u001b[0m13       \u001b[0m | \u001b[0m-0.0317  \u001b[0m | \u001b[0m1.148    \u001b[0m | \u001b[0m0.3534   \u001b[0m | \u001b[0m4.265    \u001b[0m | \u001b[0m479.5    \u001b[0m |\n",
      "| \u001b[95m14       \u001b[0m | \u001b[95m-0.03124 \u001b[0m | \u001b[95m2.933    \u001b[0m | \u001b[95m0.825    \u001b[0m | \u001b[95m3.072    \u001b[0m | \u001b[95m132.4    \u001b[0m |\n",
      "| \u001b[0m15       \u001b[0m | \u001b[0m-0.03151 \u001b[0m | \u001b[0m6.141    \u001b[0m | \u001b[0m0.6274   \u001b[0m | \u001b[0m11.02    \u001b[0m | \u001b[0m518.4    \u001b[0m |\n",
      "| \u001b[0m16       \u001b[0m | \u001b[0m-0.03152 \u001b[0m | \u001b[0m15.57    \u001b[0m | \u001b[0m0.1649   \u001b[0m | \u001b[0m4.299    \u001b[0m | \u001b[0m240.2    \u001b[0m |\n",
      "| \u001b[0m17       \u001b[0m | \u001b[0m-0.0317  \u001b[0m | \u001b[0m1.386    \u001b[0m | \u001b[0m0.8478   \u001b[0m | \u001b[0m4.152    \u001b[0m | \u001b[0m870.1    \u001b[0m |\n",
      "| \u001b[0m18       \u001b[0m | \u001b[0m-0.03152 \u001b[0m | \u001b[0m17.72    \u001b[0m | \u001b[0m0.8498   \u001b[0m | \u001b[0m2.509    \u001b[0m | \u001b[0m692.0    \u001b[0m |\n",
      "| \u001b[0m19       \u001b[0m | \u001b[0m-0.03134 \u001b[0m | \u001b[0m4.278    \u001b[0m | \u001b[0m0.4047   \u001b[0m | \u001b[0m4.85     \u001b[0m | \u001b[0m937.9    \u001b[0m |\n",
      "| \u001b[0m20       \u001b[0m | \u001b[0m-0.03152 \u001b[0m | \u001b[0m8.648    \u001b[0m | \u001b[0m0.9916   \u001b[0m | \u001b[0m10.2     \u001b[0m | \u001b[0m383.2    \u001b[0m |\n",
      "| \u001b[0m21       \u001b[0m | \u001b[0m-0.03134 \u001b[0m | \u001b[0m3.801    \u001b[0m | \u001b[0m0.8092   \u001b[0m | \u001b[0m6.413    \u001b[0m | \u001b[0m495.4    \u001b[0m |\n",
      "| \u001b[0m22       \u001b[0m | \u001b[0m-0.03151 \u001b[0m | \u001b[0m4.98     \u001b[0m | \u001b[0m0.6857   \u001b[0m | \u001b[0m2.454    \u001b[0m | \u001b[0m376.8    \u001b[0m |\n",
      "| \u001b[0m23       \u001b[0m | \u001b[0m-0.03152 \u001b[0m | \u001b[0m14.5     \u001b[0m | \u001b[0m0.1077   \u001b[0m | \u001b[0m6.652    \u001b[0m | \u001b[0m845.8    \u001b[0m |\n",
      "| \u001b[0m24       \u001b[0m | \u001b[0m-0.03151 \u001b[0m | \u001b[0m5.889    \u001b[0m | \u001b[0m0.9399   \u001b[0m | \u001b[0m9.937    \u001b[0m | \u001b[0m693.1    \u001b[0m |\n",
      "| \u001b[0m25       \u001b[0m | \u001b[0m-0.0317  \u001b[0m | \u001b[0m1.34     \u001b[0m | \u001b[0m0.8149   \u001b[0m | \u001b[0m3.519    \u001b[0m | \u001b[0m235.7    \u001b[0m |\n",
      "| \u001b[0m26       \u001b[0m | \u001b[0m-0.03124 \u001b[0m | \u001b[0m2.932    \u001b[0m | \u001b[0m0.7311   \u001b[0m | \u001b[0m4.768    \u001b[0m | \u001b[0m838.6    \u001b[0m |\n",
      "| \u001b[95m27       \u001b[0m | \u001b[95m-0.03124 \u001b[0m | \u001b[95m2.962    \u001b[0m | \u001b[95m0.4788   \u001b[0m | \u001b[95m3.808    \u001b[0m | \u001b[95m131.3    \u001b[0m |\n",
      "| \u001b[0m28       \u001b[0m | \u001b[0m-0.03124 \u001b[0m | \u001b[0m3.321    \u001b[0m | \u001b[0m0.1021   \u001b[0m | \u001b[0m2.681    \u001b[0m | \u001b[0m131.1    \u001b[0m |\n",
      "| \u001b[95m29       \u001b[0m | \u001b[95m-0.03118 \u001b[0m | \u001b[95m1.778    \u001b[0m | \u001b[95m0.4233   \u001b[0m | \u001b[95m10.07    \u001b[0m | \u001b[95m796.5    \u001b[0m |\n",
      "| \u001b[0m30       \u001b[0m | \u001b[0m-0.03124 \u001b[0m | \u001b[0m3.114    \u001b[0m | \u001b[0m0.7893   \u001b[0m | \u001b[0m3.331    \u001b[0m | \u001b[0m838.6    \u001b[0m |\n",
      "| \u001b[0m31       \u001b[0m | \u001b[0m-0.03124 \u001b[0m | \u001b[0m2.745    \u001b[0m | \u001b[0m0.192    \u001b[0m | \u001b[0m9.398    \u001b[0m | \u001b[0m796.5    \u001b[0m |\n",
      "| \u001b[0m32       \u001b[0m | \u001b[0m-0.03124 \u001b[0m | \u001b[0m2.663    \u001b[0m | \u001b[0m0.3386   \u001b[0m | \u001b[0m11.95    \u001b[0m | \u001b[0m795.2    \u001b[0m |\n",
      "| \u001b[0m33       \u001b[0m | \u001b[0m-0.03118 \u001b[0m | \u001b[0m2.206    \u001b[0m | \u001b[0m0.8709   \u001b[0m | \u001b[0m7.792    \u001b[0m | \u001b[0m793.5    \u001b[0m |\n",
      "| \u001b[0m34       \u001b[0m | \u001b[0m-0.03118 \u001b[0m | \u001b[0m1.947    \u001b[0m | \u001b[0m0.5697   \u001b[0m | \u001b[0m5.876    \u001b[0m | \u001b[0m794.0    \u001b[0m |\n",
      "| \u001b[0m35       \u001b[0m | \u001b[0m-0.03118 \u001b[0m | \u001b[0m2.098    \u001b[0m | \u001b[0m0.7812   \u001b[0m | \u001b[0m7.944    \u001b[0m | \u001b[0m791.0    \u001b[0m |\n",
      "| \u001b[0m36       \u001b[0m | \u001b[0m-0.03134 \u001b[0m | \u001b[0m3.755    \u001b[0m | \u001b[0m0.9907   \u001b[0m | \u001b[0m4.542    \u001b[0m | \u001b[0m789.8    \u001b[0m |\n",
      "| \u001b[0m37       \u001b[0m | \u001b[0m-0.03134 \u001b[0m | \u001b[0m3.967    \u001b[0m | \u001b[0m0.472    \u001b[0m | \u001b[0m8.626    \u001b[0m | \u001b[0m788.9    \u001b[0m |\n",
      "| \u001b[0m38       \u001b[0m | \u001b[0m-0.03134 \u001b[0m | \u001b[0m4.225    \u001b[0m | \u001b[0m0.2686   \u001b[0m | \u001b[0m8.824    \u001b[0m | \u001b[0m792.8    \u001b[0m |\n",
      "| \u001b[0m39       \u001b[0m | \u001b[0m-0.0317  \u001b[0m | \u001b[0m1.264    \u001b[0m | \u001b[0m0.7384   \u001b[0m | \u001b[0m11.91    \u001b[0m | \u001b[0m790.5    \u001b[0m |\n",
      "| \u001b[0m40       \u001b[0m | \u001b[0m-0.03118 \u001b[0m | \u001b[0m1.887    \u001b[0m | \u001b[0m0.6439   \u001b[0m | \u001b[0m6.075    \u001b[0m | \u001b[0m792.3    \u001b[0m |\n",
      "| \u001b[0m41       \u001b[0m | \u001b[0m-0.03118 \u001b[0m | \u001b[0m2.425    \u001b[0m | \u001b[0m0.1183   \u001b[0m | \u001b[0m2.657    \u001b[0m | \u001b[0m795.4    \u001b[0m |\n",
      "| \u001b[0m42       \u001b[0m | \u001b[0m-0.03124 \u001b[0m | \u001b[0m2.751    \u001b[0m | \u001b[0m0.3999   \u001b[0m | \u001b[0m4.195    \u001b[0m | \u001b[0m797.1    \u001b[0m |\n",
      "| \u001b[0m43       \u001b[0m | \u001b[0m-0.03134 \u001b[0m | \u001b[0m4.188    \u001b[0m | \u001b[0m0.731    \u001b[0m | \u001b[0m3.637    \u001b[0m | \u001b[0m793.8    \u001b[0m |\n",
      "| \u001b[0m44       \u001b[0m | \u001b[0m-0.03151 \u001b[0m | \u001b[0m5.35     \u001b[0m | \u001b[0m0.451    \u001b[0m | \u001b[0m5.131    \u001b[0m | \u001b[0m131.8    \u001b[0m |\n",
      "| \u001b[95m45       \u001b[0m | \u001b[95m-0.03118 \u001b[0m | \u001b[95m1.7      \u001b[0m | \u001b[95m0.4604   \u001b[0m | \u001b[95m2.311    \u001b[0m | \u001b[95m130.0    \u001b[0m |\n",
      "| \u001b[0m46       \u001b[0m | \u001b[0m-0.0317  \u001b[0m | \u001b[0m1.056    \u001b[0m | \u001b[0m0.7371   \u001b[0m | \u001b[0m3.777    \u001b[0m | \u001b[0m795.1    \u001b[0m |\n",
      "| \u001b[0m47       \u001b[0m | \u001b[0m-0.03124 \u001b[0m | \u001b[0m3.255    \u001b[0m | \u001b[0m0.6883   \u001b[0m | \u001b[0m6.859    \u001b[0m | \u001b[0m793.0    \u001b[0m |\n",
      "| \u001b[0m48       \u001b[0m | \u001b[0m-0.03134 \u001b[0m | \u001b[0m4.081    \u001b[0m | \u001b[0m0.6271   \u001b[0m | \u001b[0m2.71     \u001b[0m | \u001b[0m797.1    \u001b[0m |\n",
      "| \u001b[0m49       \u001b[0m | \u001b[0m-0.03118 \u001b[0m | \u001b[0m1.751    \u001b[0m | \u001b[0m0.2648   \u001b[0m | \u001b[0m7.991    \u001b[0m | \u001b[0m795.7    \u001b[0m |\n",
      "| \u001b[0m50       \u001b[0m | \u001b[0m-0.03118 \u001b[0m | \u001b[0m1.947    \u001b[0m | \u001b[0m0.9531   \u001b[0m | \u001b[0m9.832    \u001b[0m | \u001b[0m794.5    \u001b[0m |\n",
      "=========================================================================\n"
     ]
    },
    {
     "data": {
      "text/html": [
       "<style>#sk-container-id-2 {color: black;background-color: white;}#sk-container-id-2 pre{padding: 0;}#sk-container-id-2 div.sk-toggleable {background-color: white;}#sk-container-id-2 label.sk-toggleable__label {cursor: pointer;display: block;width: 100%;margin-bottom: 0;padding: 0.3em;box-sizing: border-box;text-align: center;}#sk-container-id-2 label.sk-toggleable__label-arrow:before {content: \"▸\";float: left;margin-right: 0.25em;color: #696969;}#sk-container-id-2 label.sk-toggleable__label-arrow:hover:before {color: black;}#sk-container-id-2 div.sk-estimator:hover label.sk-toggleable__label-arrow:before {color: black;}#sk-container-id-2 div.sk-toggleable__content {max-height: 0;max-width: 0;overflow: hidden;text-align: left;background-color: #f0f8ff;}#sk-container-id-2 div.sk-toggleable__content pre {margin: 0.2em;color: black;border-radius: 0.25em;background-color: #f0f8ff;}#sk-container-id-2 input.sk-toggleable__control:checked~div.sk-toggleable__content {max-height: 200px;max-width: 100%;overflow: auto;}#sk-container-id-2 input.sk-toggleable__control:checked~label.sk-toggleable__label-arrow:before {content: \"▾\";}#sk-container-id-2 div.sk-estimator input.sk-toggleable__control:checked~label.sk-toggleable__label {background-color: #d4ebff;}#sk-container-id-2 div.sk-label input.sk-toggleable__control:checked~label.sk-toggleable__label {background-color: #d4ebff;}#sk-container-id-2 input.sk-hidden--visually {border: 0;clip: rect(1px 1px 1px 1px);clip: rect(1px, 1px, 1px, 1px);height: 1px;margin: -1px;overflow: hidden;padding: 0;position: absolute;width: 1px;}#sk-container-id-2 div.sk-estimator {font-family: monospace;background-color: #f0f8ff;border: 1px dotted black;border-radius: 0.25em;box-sizing: border-box;margin-bottom: 0.5em;}#sk-container-id-2 div.sk-estimator:hover {background-color: #d4ebff;}#sk-container-id-2 div.sk-parallel-item::after {content: \"\";width: 100%;border-bottom: 1px solid gray;flex-grow: 1;}#sk-container-id-2 div.sk-label:hover label.sk-toggleable__label {background-color: #d4ebff;}#sk-container-id-2 div.sk-serial::before {content: \"\";position: absolute;border-left: 1px solid gray;box-sizing: border-box;top: 0;bottom: 0;left: 50%;z-index: 0;}#sk-container-id-2 div.sk-serial {display: flex;flex-direction: column;align-items: center;background-color: white;padding-right: 0.2em;padding-left: 0.2em;position: relative;}#sk-container-id-2 div.sk-item {position: relative;z-index: 1;}#sk-container-id-2 div.sk-parallel {display: flex;align-items: stretch;justify-content: center;background-color: white;position: relative;}#sk-container-id-2 div.sk-item::before, #sk-container-id-2 div.sk-parallel-item::before {content: \"\";position: absolute;border-left: 1px solid gray;box-sizing: border-box;top: 0;bottom: 0;left: 50%;z-index: -1;}#sk-container-id-2 div.sk-parallel-item {display: flex;flex-direction: column;z-index: 1;position: relative;background-color: white;}#sk-container-id-2 div.sk-parallel-item:first-child::after {align-self: flex-end;width: 50%;}#sk-container-id-2 div.sk-parallel-item:last-child::after {align-self: flex-start;width: 50%;}#sk-container-id-2 div.sk-parallel-item:only-child::after {width: 0;}#sk-container-id-2 div.sk-dashed-wrapped {border: 1px dashed gray;margin: 0 0.4em 0.5em 0.4em;box-sizing: border-box;padding-bottom: 0.4em;background-color: white;}#sk-container-id-2 div.sk-label label {font-family: monospace;font-weight: bold;display: inline-block;line-height: 1.2em;}#sk-container-id-2 div.sk-label-container {text-align: center;}#sk-container-id-2 div.sk-container {/* jupyter's `normalize.less` sets `[hidden] { display: none; }` but bootstrap.min.css set `[hidden] { display: none !important; }` so we also need the `!important` here to be able to override the default hidden behavior on the sphinx rendered scikit-learn.org. See: https://github.com/scikit-learn/scikit-learn/issues/21755 */display: inline-block !important;position: relative;}#sk-container-id-2 div.sk-text-repr-fallback {display: none;}</style><div id=\"sk-container-id-2\" class=\"sk-top-container\"><div class=\"sk-text-repr-fallback\"><pre>RandomForestRegressor(bootstrap=False, max_depth=2,\n",
       "                      max_features=0.4603609941228868, n_estimators=130)</pre><b>In a Jupyter environment, please rerun this cell to show the HTML representation or trust the notebook. <br />On GitHub, the HTML representation is unable to render, please try loading this page with nbviewer.org.</b></div><div class=\"sk-container\" hidden><div class=\"sk-item\"><div class=\"sk-estimator sk-toggleable\"><input class=\"sk-toggleable__control sk-hidden--visually\" id=\"sk-estimator-id-2\" type=\"checkbox\" checked><label for=\"sk-estimator-id-2\" class=\"sk-toggleable__label sk-toggleable__label-arrow\">RandomForestRegressor</label><div class=\"sk-toggleable__content\"><pre>RandomForestRegressor(bootstrap=False, max_depth=2,\n",
       "                      max_features=0.4603609941228868, n_estimators=130)</pre></div></div></div></div></div>"
      ],
      "text/plain": [
       "RandomForestRegressor(bootstrap=False, max_depth=2,\n",
       "                      max_features=0.4603609941228868, n_estimators=130)"
      ]
     },
     "execution_count": 9,
     "metadata": {},
     "output_type": "execute_result"
    }
   ],
   "source": [
    "def bo_params_rf(min_samples_split,max_depth,max_features,n_estimators):\n",
    "    \n",
    "    params = {\n",
    "        'min_samples_split': round(min_samples_split),\n",
    "        'max_depth': round(max_depth),\n",
    "        'max_features': max_features,\n",
    "        'n_estimators':round(n_estimators)\n",
    "    }    \n",
    "        \n",
    "    clf = RandomForestRegressor(min_samples_split=int(params['min_samples_split']), \n",
    "                                 max_depth=int(params['max_depth']), \n",
    "                                 max_features=params['max_features'],\n",
    "                                 n_estimators=int(params['n_estimators']), \n",
    "                                 bootstrap=False,\n",
    "                                 n_jobs = -1)\n",
    "    return cross_val_score(clf, X_train[best_features_rf], y_train, cv=10, scoring='neg_mean_squared_error', n_jobs=-1).mean()\n",
    "\n",
    "# Create Bayesian Optimization\n",
    "rf_bo = BayesianOptimization(f=bo_params_rf, pbounds={\n",
    "    'n_estimators': (100, 1000),\n",
    "    'max_depth': (1, 20),\n",
    "    'max_features': (0.1, 1),\n",
    "    'min_samples_split': (2, 12)\n",
    "})\n",
    "\n",
    "# Bayesian optimization\n",
    "results = rf_bo.maximize(n_iter=40, init_points=10)\n",
    "\n",
    "# Getting best hyperparameters from bayesian optimization\n",
    "params = rf_bo.max['params']\n",
    "params['n_estimators']= round(params['n_estimators'])\n",
    "params['min_samples_split']= round(params['min_samples_split'])\n",
    "params['max_depth']= round(params['max_depth'])\n",
    "\n",
    "# Making random forest model with the best hyperparameters\n",
    "# criterion entropy is after the hyperparameter optimization since it's more accurate but increases training time\n",
    "best_model_rf_classification = RandomForestRegressor(min_samples_split=params['min_samples_split'],\n",
    "                                                max_depth=params['max_depth'],\n",
    "                                                max_features=params['max_features'],\n",
    "                                                n_estimators=params['n_estimators'],\n",
    "                                                bootstrap=False)\n",
    "\n",
    "best_model_rf_classification.fit(X_train[best_features_rf], y_train)"
   ]
  },
  {
   "attachments": {},
   "cell_type": "markdown",
   "metadata": {},
   "source": [
    "# neural network"
   ]
  },
  {
   "attachments": {},
   "cell_type": "markdown",
   "metadata": {},
   "source": [
    "**Feature selection**"
   ]
  },
  {
   "cell_type": "code",
   "execution_count": 10,
   "metadata": {},
   "outputs": [
    {
     "name": "stdout",
     "output_type": "stream",
     "text": [
      "Best features: ['AfstandTotHotelED', 'VernielingMisdrijfTegenOpenbareOrde', 'AfstandTotConsultatiebureau', 'AfstandTotOpenbaarGroenTotaal', 'AfstandTotVolkstuin', 'AfstandTotOpenDroogNatTerrein', 'InBezitWoningcorporatie', 'AfstandTotOpenNatNatuurlijkTerrein']\n",
      "Dropped features: ['AfstandTotKunstijsbaan', 'Rokers', 'AfstandTotBioscoop', 'AfstandTotBelangrijkOverstapstation', 'SterfteRelatief', 'AfstandTotBos', 'ALandbouwBosbouwEnVisserij', 'kPersonenMetLaagsteInkomen', 'AfstandTotSportterrein', 'GeboorteRelatief', 'TotaalDiefstalUitWoningSchuurED', 'AfstandTotBibliotheek', 'AfstandTotPoppodium', 'AfstandTotBrandweerkazerne', 'VoldoetAanBeweegrichtlijn', 'AfstandTotTreinstationsTotaal', 'PersonenautoSNaarOppervlakte', 'PercentageOnbewoond', 'GemiddeldeWoningwaarde', 'NederlandseAntillenEnAruba', 'PersonenautoSOverigeBrandstof', 'AfstandTotCafeED', 'KLFinancieleDienstenOnroerendGoed', 'AfstandTotRestaurant', 'InBezitOverigeVerhuurders', 'AfstandTotZonnebank', 'AfstandTotCafetariaED', 'BouwjaarVanaf2000', 'BeperkingInZien', 'AfstandTotSchool', 'AfstandTotSemiOpenbaarGroenTotaal', 'AfstandTotBegraafplaats', 'AfstandTotKinderdagverblijf', 'AfstandTotHuisartsenpost', 'AfstandTotWarenhuis', 'UrenMantelzorgPerWeek', 'PersonenautoSPerHuishouden', 'MatigOvergewicht', 'AfstandTotZwembad', 'AfstandTotMuseum', 'AfstandTotOpenNatTerreinTotaal', 'Mantelzorger', 'EigendomOnbekend', 'AfstandTotVerblijfsrecreatiefTerrein', 'OvermatigDrinker', 'ErvarenGezondheidGoedZeerGoed', 'AfstandTotApotheek', 'AfstandTotDagrecreatiefTerrein', 'GeweldsEnSeksueleMisdrijven', 'EenOfMeerLangdurigeAandoeningen', 'AfstandTotSauna', 'AfstandTotAttractie', 'Ondergewicht', 'AfstandTotHuisartsenpraktijk', 'AfstandTotPodiumkunstenTotaal', 'ErnstigOvergewichtObesitas', 'BeperkingInHoren', 'AfstandTotBuitenschoolseOpvang', 'ZwaarBelasteMantelzorgers', 'OppervlakteWater', 'VoldoetAanRichtlijnAlcoholgebruik', 'AfstandTotOvDagelLevensmiddelen']\n"
     ]
    }
   ],
   "source": [
    "# Get the accuracy score of the model with all the features\n",
    "mlp = MLPRegressor(random_state=0).fit(X_train, y_train)\n",
    "best_model = mlp\n",
    "selected_features = X_train.columns.tolist()\n",
    "best_features = selected_features\n",
    "best_features_accuracy = cross_val_score(MLPRegressor(random_state=0), X_train, y_train, cv=10, scoring='neg_mean_squared_error', n_jobs=-1).mean()\n",
    "\n",
    "while True:\n",
    "    # Retrieve the learned weights\n",
    "    weights = mlp.coefs_[0]  # Weights connecting input features to the first hidden layer\n",
    "\n",
    "    # Normalize the weights\n",
    "    normalized_weights = np.abs(weights) / np.sum(np.abs(weights), axis=0)\n",
    "\n",
    "    # Calculate feature importance\n",
    "    feature_importance = np.mean(normalized_weights, axis=1)\n",
    "\n",
    "    # Sort features based on their importance\n",
    "    sorted_indices = np.argsort(feature_importance)\n",
    "    selected_features = [selected_features[i] for i in sorted_indices[:-1]]\n",
    "\n",
    "    # When there are no features left\n",
    "    if len(selected_features) == 0:\n",
    "        break\n",
    "    \n",
    "    # Refit the Model\n",
    "    mlp = MLPRegressor(random_state=0).fit(X_train[selected_features], y_train)\n",
    "\n",
    "    # Evaluate Model Performance\n",
    "    accuracy = cross_val_score(MLPRegressor(random_state=0), X_train[selected_features], y_train, cv=10, scoring='neg_mean_squared_error', n_jobs=-1).mean()\n",
    "\n",
    "    # Check if the model performs better without the insignificant features\n",
    "    if accuracy >= best_features_accuracy:\n",
    "        best_features_accuracy = accuracy\n",
    "        best_features = selected_features.copy()\n",
    "        best_model = mlp\n",
    "\n",
    "# Save results\n",
    "best_model_nn = best_model\n",
    "best_features_nn = best_features\n",
    "\n",
    "# Show results\n",
    "print(\"Best features:\", best_features_nn)\n",
    "print(\"Dropped features:\", list(set(X_train.columns.tolist()) - set(best_features_nn)))"
   ]
  },
  {
   "attachments": {},
   "cell_type": "markdown",
   "metadata": {},
   "source": [
    "**Hyperparameter optimalisatie**"
   ]
  },
  {
   "cell_type": "code",
   "execution_count": 11,
   "metadata": {},
   "outputs": [
    {
     "name": "stdout",
     "output_type": "stream",
     "text": [
      "|   iter    |  target   |   alpha   | hidden... | learni... | max_iter  |\n",
      "-------------------------------------------------------------------------\n",
      "| \u001b[0m1        \u001b[0m | \u001b[0m-0.176   \u001b[0m | \u001b[0m0.05074  \u001b[0m | \u001b[0m90.54    \u001b[0m | \u001b[0m0.001921 \u001b[0m | \u001b[0m381.2    \u001b[0m |\n",
      "| \u001b[0m2        \u001b[0m | \u001b[0m-0.1761  \u001b[0m | \u001b[0m0.04162  \u001b[0m | \u001b[0m91.05    \u001b[0m | \u001b[0m0.006907 \u001b[0m | \u001b[0m753.0    \u001b[0m |\n",
      "| \u001b[0m3        \u001b[0m | \u001b[0m-0.1769  \u001b[0m | \u001b[0m0.07737  \u001b[0m | \u001b[0m13.63    \u001b[0m | \u001b[0m0.04402  \u001b[0m | \u001b[0m395.9    \u001b[0m |\n",
      "| \u001b[0m4        \u001b[0m | \u001b[0m-0.176   \u001b[0m | \u001b[0m0.01269  \u001b[0m | \u001b[0m67.48    \u001b[0m | \u001b[0m0.03466  \u001b[0m | \u001b[0m660.4    \u001b[0m |\n",
      "| \u001b[0m5        \u001b[0m | \u001b[0m-0.1775  \u001b[0m | \u001b[0m0.01658  \u001b[0m | \u001b[0m47.08    \u001b[0m | \u001b[0m0.05362  \u001b[0m | \u001b[0m806.5    \u001b[0m |\n",
      "| \u001b[0m6        \u001b[0m | \u001b[0m-0.1769  \u001b[0m | \u001b[0m0.01903  \u001b[0m | \u001b[0m36.67    \u001b[0m | \u001b[0m0.085    \u001b[0m | \u001b[0m479.9    \u001b[0m |\n",
      "| \u001b[0m7        \u001b[0m | \u001b[0m-0.176   \u001b[0m | \u001b[0m0.02775  \u001b[0m | \u001b[0m53.75    \u001b[0m | \u001b[0m0.08216  \u001b[0m | \u001b[0m945.2    \u001b[0m |\n",
      "| \u001b[0m8        \u001b[0m | \u001b[0m-0.1771  \u001b[0m | \u001b[0m0.07013  \u001b[0m | \u001b[0m14.95    \u001b[0m | \u001b[0m0.02648  \u001b[0m | \u001b[0m808.1    \u001b[0m |\n",
      "| \u001b[95m9        \u001b[0m | \u001b[95m-0.1758  \u001b[0m | \u001b[95m0.02231  \u001b[0m | \u001b[95m31.01    \u001b[0m | \u001b[95m0.03091  \u001b[0m | \u001b[95m407.8    \u001b[0m |\n",
      "| \u001b[95m10       \u001b[0m | \u001b[95m-0.1758  \u001b[0m | \u001b[95m0.05156  \u001b[0m | \u001b[95m54.5     \u001b[0m | \u001b[95m0.07052  \u001b[0m | \u001b[95m188.4    \u001b[0m |\n",
      "| \u001b[0m11       \u001b[0m | \u001b[0m-0.1792  \u001b[0m | \u001b[0m0.002102 \u001b[0m | \u001b[0m54.32    \u001b[0m | \u001b[0m0.02644  \u001b[0m | \u001b[0m189.7    \u001b[0m |\n",
      "| \u001b[0m12       \u001b[0m | \u001b[0m-0.1795  \u001b[0m | \u001b[0m0.002812 \u001b[0m | \u001b[0m66.81    \u001b[0m | \u001b[0m0.0969   \u001b[0m | \u001b[0m622.3    \u001b[0m |\n",
      "| \u001b[0m13       \u001b[0m | \u001b[0m-0.177   \u001b[0m | \u001b[0m0.0603   \u001b[0m | \u001b[0m63.06    \u001b[0m | \u001b[0m0.04184  \u001b[0m | \u001b[0m356.1    \u001b[0m |\n",
      "| \u001b[0m14       \u001b[0m | \u001b[0m-0.1765  \u001b[0m | \u001b[0m0.08392  \u001b[0m | \u001b[0m53.4     \u001b[0m | \u001b[0m0.04515  \u001b[0m | \u001b[0m945.5    \u001b[0m |\n",
      "| \u001b[0m15       \u001b[0m | \u001b[0m-0.1785  \u001b[0m | \u001b[0m0.02161  \u001b[0m | \u001b[0m54.41    \u001b[0m | \u001b[0m0.08913  \u001b[0m | \u001b[0m187.9    \u001b[0m |\n",
      "| \u001b[0m16       \u001b[0m | \u001b[0m-0.1762  \u001b[0m | \u001b[0m0.0467   \u001b[0m | \u001b[0m31.19    \u001b[0m | \u001b[0m0.07836  \u001b[0m | \u001b[0m407.9    \u001b[0m |\n",
      "| \u001b[0m17       \u001b[0m | \u001b[0m-0.1766  \u001b[0m | \u001b[0m0.08325  \u001b[0m | \u001b[0m31.48    \u001b[0m | \u001b[0m0.06584  \u001b[0m | \u001b[0m681.9    \u001b[0m |\n",
      "| \u001b[0m18       \u001b[0m | \u001b[0m-0.1779  \u001b[0m | \u001b[0m0.0617   \u001b[0m | \u001b[0m90.76    \u001b[0m | \u001b[0m0.01084  \u001b[0m | \u001b[0m382.3    \u001b[0m |\n",
      "| \u001b[0m19       \u001b[0m | \u001b[0m-0.1765  \u001b[0m | \u001b[0m0.09008  \u001b[0m | \u001b[0m93.1     \u001b[0m | \u001b[0m0.05783  \u001b[0m | \u001b[0m791.0    \u001b[0m |\n",
      "| \u001b[0m20       \u001b[0m | \u001b[0m-0.1762  \u001b[0m | \u001b[0m0.02749  \u001b[0m | \u001b[0m54.12    \u001b[0m | \u001b[0m0.02583  \u001b[0m | \u001b[0m945.0    \u001b[0m |\n",
      "| \u001b[95m21       \u001b[0m | \u001b[95m-0.1754  \u001b[0m | \u001b[95m0.09391  \u001b[0m | \u001b[95m68.43    \u001b[0m | \u001b[95m0.02081  \u001b[0m | \u001b[95m890.7    \u001b[0m |\n",
      "| \u001b[0m22       \u001b[0m | \u001b[0m-0.1758  \u001b[0m | \u001b[0m0.01925  \u001b[0m | \u001b[0m26.14    \u001b[0m | \u001b[0m0.01205  \u001b[0m | \u001b[0m714.3    \u001b[0m |\n",
      "| \u001b[0m23       \u001b[0m | \u001b[0m-0.1768  \u001b[0m | \u001b[0m0.03794  \u001b[0m | \u001b[0m30.69    \u001b[0m | \u001b[0m0.08175  \u001b[0m | \u001b[0m408.1    \u001b[0m |\n",
      "| \u001b[0m24       \u001b[0m | \u001b[0m-0.1769  \u001b[0m | \u001b[0m0.04888  \u001b[0m | \u001b[0m85.26    \u001b[0m | \u001b[0m0.007222 \u001b[0m | \u001b[0m811.4    \u001b[0m |\n",
      "| \u001b[0m25       \u001b[0m | \u001b[0m-0.1764  \u001b[0m | \u001b[0m0.07533  \u001b[0m | \u001b[0m25.85    \u001b[0m | \u001b[0m0.03821  \u001b[0m | \u001b[0m714.0    \u001b[0m |\n",
      "| \u001b[0m26       \u001b[0m | \u001b[0m-0.1759  \u001b[0m | \u001b[0m0.01209  \u001b[0m | \u001b[0m54.75    \u001b[0m | \u001b[0m0.06592  \u001b[0m | \u001b[0m188.7    \u001b[0m |\n",
      "| \u001b[0m27       \u001b[0m | \u001b[0m-0.1769  \u001b[0m | \u001b[0m0.05787  \u001b[0m | \u001b[0m11.03    \u001b[0m | \u001b[0m0.006275 \u001b[0m | \u001b[0m218.1    \u001b[0m |\n",
      "| \u001b[0m28       \u001b[0m | \u001b[0m-0.1761  \u001b[0m | \u001b[0m0.09787  \u001b[0m | \u001b[0m68.22    \u001b[0m | \u001b[0m0.06914  \u001b[0m | \u001b[0m660.3    \u001b[0m |\n",
      "| \u001b[0m29       \u001b[0m | \u001b[0m-0.1766  \u001b[0m | \u001b[0m0.06422  \u001b[0m | \u001b[0m69.1     \u001b[0m | \u001b[0m0.07614  \u001b[0m | \u001b[0m660.0    \u001b[0m |\n",
      "| \u001b[0m30       \u001b[0m | \u001b[0m-0.1761  \u001b[0m | \u001b[0m0.01862  \u001b[0m | \u001b[0m31.46    \u001b[0m | \u001b[0m0.05249  \u001b[0m | \u001b[0m407.9    \u001b[0m |\n",
      "| \u001b[0m31       \u001b[0m | \u001b[0m-0.1756  \u001b[0m | \u001b[0m0.07046  \u001b[0m | \u001b[0m68.89    \u001b[0m | \u001b[0m0.07828  \u001b[0m | \u001b[0m890.7    \u001b[0m |\n",
      "| \u001b[0m32       \u001b[0m | \u001b[0m-0.177   \u001b[0m | \u001b[0m0.0516   \u001b[0m | \u001b[0m68.12    \u001b[0m | \u001b[0m0.02454  \u001b[0m | \u001b[0m891.4    \u001b[0m |\n",
      "| \u001b[0m33       \u001b[0m | \u001b[0m-0.1769  \u001b[0m | \u001b[0m0.08308  \u001b[0m | \u001b[0m70.27    \u001b[0m | \u001b[0m0.01896  \u001b[0m | \u001b[0m472.5    \u001b[0m |\n",
      "| \u001b[0m34       \u001b[0m | \u001b[0m-0.1759  \u001b[0m | \u001b[0m0.07337  \u001b[0m | \u001b[0m91.57    \u001b[0m | \u001b[0m0.06318  \u001b[0m | \u001b[0m753.7    \u001b[0m |\n",
      "| \u001b[0m35       \u001b[0m | \u001b[0m-0.1766  \u001b[0m | \u001b[0m0.08729  \u001b[0m | \u001b[0m68.57    \u001b[0m | \u001b[0m0.006477 \u001b[0m | \u001b[0m889.4    \u001b[0m |\n",
      "| \u001b[0m36       \u001b[0m | \u001b[0m-0.177   \u001b[0m | \u001b[0m0.01135  \u001b[0m | \u001b[0m55.82    \u001b[0m | \u001b[0m0.06093  \u001b[0m | \u001b[0m181.0    \u001b[0m |\n",
      "| \u001b[0m37       \u001b[0m | \u001b[0m-0.1759  \u001b[0m | \u001b[0m0.06007  \u001b[0m | \u001b[0m81.66    \u001b[0m | \u001b[0m0.08116  \u001b[0m | \u001b[0m919.3    \u001b[0m |\n",
      "| \u001b[0m38       \u001b[0m | \u001b[0m-0.1765  \u001b[0m | \u001b[0m0.008964 \u001b[0m | \u001b[0m69.39    \u001b[0m | \u001b[0m0.0168   \u001b[0m | \u001b[0m891.2    \u001b[0m |\n",
      "| \u001b[0m39       \u001b[0m | \u001b[0m-0.1762  \u001b[0m | \u001b[0m0.04156  \u001b[0m | \u001b[0m91.34    \u001b[0m | \u001b[0m0.01914  \u001b[0m | \u001b[0m381.1    \u001b[0m |\n",
      "| \u001b[0m40       \u001b[0m | \u001b[0m-0.1785  \u001b[0m | \u001b[0m0.03036  \u001b[0m | \u001b[0m54.34    \u001b[0m | \u001b[0m0.01014  \u001b[0m | \u001b[0m188.7    \u001b[0m |\n",
      "| \u001b[0m41       \u001b[0m | \u001b[0m-0.1768  \u001b[0m | \u001b[0m0.08218  \u001b[0m | \u001b[0m41.85    \u001b[0m | \u001b[0m0.0274   \u001b[0m | \u001b[0m983.6    \u001b[0m |\n",
      "| \u001b[0m42       \u001b[0m | \u001b[0m-0.1765  \u001b[0m | \u001b[0m0.06505  \u001b[0m | \u001b[0m60.01    \u001b[0m | \u001b[0m0.05915  \u001b[0m | \u001b[0m306.9    \u001b[0m |\n",
      "| \u001b[0m43       \u001b[0m | \u001b[0m-0.1762  \u001b[0m | \u001b[0m0.07221  \u001b[0m | \u001b[0m90.99    \u001b[0m | \u001b[0m0.01766  \u001b[0m | \u001b[0m753.2    \u001b[0m |\n",
      "| \u001b[0m44       \u001b[0m | \u001b[0m-0.1773  \u001b[0m | \u001b[0m0.04228  \u001b[0m | \u001b[0m91.96    \u001b[0m | \u001b[0m0.01257  \u001b[0m | \u001b[0m753.8    \u001b[0m |\n",
      "| \u001b[0m45       \u001b[0m | \u001b[0m-0.1789  \u001b[0m | \u001b[0m0.06189  \u001b[0m | \u001b[0m77.35    \u001b[0m | \u001b[0m0.01033  \u001b[0m | \u001b[0m569.1    \u001b[0m |\n",
      "| \u001b[0m46       \u001b[0m | \u001b[0m-0.1769  \u001b[0m | \u001b[0m0.02678  \u001b[0m | \u001b[0m95.92    \u001b[0m | \u001b[0m0.01254  \u001b[0m | \u001b[0m926.0    \u001b[0m |\n",
      "| \u001b[0m47       \u001b[0m | \u001b[0m-0.1763  \u001b[0m | \u001b[0m0.02222  \u001b[0m | \u001b[0m25.41    \u001b[0m | \u001b[0m0.09626  \u001b[0m | \u001b[0m714.0    \u001b[0m |\n",
      "| \u001b[0m48       \u001b[0m | \u001b[0m-0.1757  \u001b[0m | \u001b[0m0.06994  \u001b[0m | \u001b[0m53.58    \u001b[0m | \u001b[0m0.08728  \u001b[0m | \u001b[0m489.0    \u001b[0m |\n",
      "| \u001b[0m49       \u001b[0m | \u001b[0m-0.1768  \u001b[0m | \u001b[0m0.08188  \u001b[0m | \u001b[0m80.17    \u001b[0m | \u001b[0m0.01787  \u001b[0m | \u001b[0m812.4    \u001b[0m |\n",
      "| \u001b[0m50       \u001b[0m | \u001b[0m-0.1768  \u001b[0m | \u001b[0m0.004516 \u001b[0m | \u001b[0m25.15    \u001b[0m | \u001b[0m0.01323  \u001b[0m | \u001b[0m713.6    \u001b[0m |\n",
      "=========================================================================\n"
     ]
    },
    {
     "data": {
      "text/html": [
       "<style>#sk-container-id-3 {color: black;background-color: white;}#sk-container-id-3 pre{padding: 0;}#sk-container-id-3 div.sk-toggleable {background-color: white;}#sk-container-id-3 label.sk-toggleable__label {cursor: pointer;display: block;width: 100%;margin-bottom: 0;padding: 0.3em;box-sizing: border-box;text-align: center;}#sk-container-id-3 label.sk-toggleable__label-arrow:before {content: \"▸\";float: left;margin-right: 0.25em;color: #696969;}#sk-container-id-3 label.sk-toggleable__label-arrow:hover:before {color: black;}#sk-container-id-3 div.sk-estimator:hover label.sk-toggleable__label-arrow:before {color: black;}#sk-container-id-3 div.sk-toggleable__content {max-height: 0;max-width: 0;overflow: hidden;text-align: left;background-color: #f0f8ff;}#sk-container-id-3 div.sk-toggleable__content pre {margin: 0.2em;color: black;border-radius: 0.25em;background-color: #f0f8ff;}#sk-container-id-3 input.sk-toggleable__control:checked~div.sk-toggleable__content {max-height: 200px;max-width: 100%;overflow: auto;}#sk-container-id-3 input.sk-toggleable__control:checked~label.sk-toggleable__label-arrow:before {content: \"▾\";}#sk-container-id-3 div.sk-estimator input.sk-toggleable__control:checked~label.sk-toggleable__label {background-color: #d4ebff;}#sk-container-id-3 div.sk-label input.sk-toggleable__control:checked~label.sk-toggleable__label {background-color: #d4ebff;}#sk-container-id-3 input.sk-hidden--visually {border: 0;clip: rect(1px 1px 1px 1px);clip: rect(1px, 1px, 1px, 1px);height: 1px;margin: -1px;overflow: hidden;padding: 0;position: absolute;width: 1px;}#sk-container-id-3 div.sk-estimator {font-family: monospace;background-color: #f0f8ff;border: 1px dotted black;border-radius: 0.25em;box-sizing: border-box;margin-bottom: 0.5em;}#sk-container-id-3 div.sk-estimator:hover {background-color: #d4ebff;}#sk-container-id-3 div.sk-parallel-item::after {content: \"\";width: 100%;border-bottom: 1px solid gray;flex-grow: 1;}#sk-container-id-3 div.sk-label:hover label.sk-toggleable__label {background-color: #d4ebff;}#sk-container-id-3 div.sk-serial::before {content: \"\";position: absolute;border-left: 1px solid gray;box-sizing: border-box;top: 0;bottom: 0;left: 50%;z-index: 0;}#sk-container-id-3 div.sk-serial {display: flex;flex-direction: column;align-items: center;background-color: white;padding-right: 0.2em;padding-left: 0.2em;position: relative;}#sk-container-id-3 div.sk-item {position: relative;z-index: 1;}#sk-container-id-3 div.sk-parallel {display: flex;align-items: stretch;justify-content: center;background-color: white;position: relative;}#sk-container-id-3 div.sk-item::before, #sk-container-id-3 div.sk-parallel-item::before {content: \"\";position: absolute;border-left: 1px solid gray;box-sizing: border-box;top: 0;bottom: 0;left: 50%;z-index: -1;}#sk-container-id-3 div.sk-parallel-item {display: flex;flex-direction: column;z-index: 1;position: relative;background-color: white;}#sk-container-id-3 div.sk-parallel-item:first-child::after {align-self: flex-end;width: 50%;}#sk-container-id-3 div.sk-parallel-item:last-child::after {align-self: flex-start;width: 50%;}#sk-container-id-3 div.sk-parallel-item:only-child::after {width: 0;}#sk-container-id-3 div.sk-dashed-wrapped {border: 1px dashed gray;margin: 0 0.4em 0.5em 0.4em;box-sizing: border-box;padding-bottom: 0.4em;background-color: white;}#sk-container-id-3 div.sk-label label {font-family: monospace;font-weight: bold;display: inline-block;line-height: 1.2em;}#sk-container-id-3 div.sk-label-container {text-align: center;}#sk-container-id-3 div.sk-container {/* jupyter's `normalize.less` sets `[hidden] { display: none; }` but bootstrap.min.css set `[hidden] { display: none !important; }` so we also need the `!important` here to be able to override the default hidden behavior on the sphinx rendered scikit-learn.org. See: https://github.com/scikit-learn/scikit-learn/issues/21755 */display: inline-block !important;position: relative;}#sk-container-id-3 div.sk-text-repr-fallback {display: none;}</style><div id=\"sk-container-id-3\" class=\"sk-top-container\"><div class=\"sk-text-repr-fallback\"><pre>MLPRegressor(alpha=0.09390643912808275, hidden_layer_sizes=(68,),\n",
       "             learning_rate_init=0.020806732740571748, max_iter=891)</pre><b>In a Jupyter environment, please rerun this cell to show the HTML representation or trust the notebook. <br />On GitHub, the HTML representation is unable to render, please try loading this page with nbviewer.org.</b></div><div class=\"sk-container\" hidden><div class=\"sk-item\"><div class=\"sk-estimator sk-toggleable\"><input class=\"sk-toggleable__control sk-hidden--visually\" id=\"sk-estimator-id-3\" type=\"checkbox\" checked><label for=\"sk-estimator-id-3\" class=\"sk-toggleable__label sk-toggleable__label-arrow\">MLPRegressor</label><div class=\"sk-toggleable__content\"><pre>MLPRegressor(alpha=0.09390643912808275, hidden_layer_sizes=(68,),\n",
       "             learning_rate_init=0.020806732740571748, max_iter=891)</pre></div></div></div></div></div>"
      ],
      "text/plain": [
       "MLPRegressor(alpha=0.09390643912808275, hidden_layer_sizes=(68,),\n",
       "             learning_rate_init=0.020806732740571748, max_iter=891)"
      ]
     },
     "execution_count": 11,
     "metadata": {},
     "output_type": "execute_result"
    }
   ],
   "source": [
    "def bo_params_generic(model, params, X_train, y_train):\n",
    "    # Create the model instance with the specified parameters\n",
    "    regressor = model(**params)\n",
    "    \n",
    "    # Calculating rmse based on\n",
    "    scores = cross_val_score(regressor, X_train, y_train, cv=10, scoring='neg_root_mean_squared_error')\n",
    "    return scores.mean()\n",
    "\n",
    "params_ranges = {\n",
    "    'hidden_layer_sizes': (10, 100),\n",
    "    'alpha': (0.0001, 0.1),\n",
    "    'learning_rate_init': (0.001, 0.1),\n",
    "    'max_iter': (100, 1000)\n",
    "}\n",
    "\n",
    "# Example usage with Neural Network\n",
    "model = MLPRegressor\n",
    "model_bo = BayesianOptimization(f=lambda hidden_layer_sizes, alpha, learning_rate_init, max_iter:\n",
    "                                    bo_params_generic(model, {\n",
    "                                        'hidden_layer_sizes': (int(round(hidden_layer_sizes)),),\n",
    "                                        'alpha': alpha,\n",
    "                                        'learning_rate_init': learning_rate_init,\n",
    "                                        'max_iter': int(round(max_iter))\n",
    "                                    }, X_train[best_features_nn], y_train),\n",
    "                             pbounds=params_ranges)\n",
    "\n",
    "results = model_bo.maximize(n_iter=40, init_points=10)\n",
    "params = model_bo.max['params']\n",
    "\n",
    "# Creating a model with the best hyperparameters\n",
    "best_model_nn = model(\n",
    "    hidden_layer_sizes=(int(round(params['hidden_layer_sizes'])),),\n",
    "    alpha=params['alpha'],\n",
    "    learning_rate_init=params['learning_rate_init'],\n",
    "    max_iter=int(round(params['max_iter']))\n",
    ")\n",
    "\n",
    "# Fit the model\n",
    "best_model_nn.fit(X_train[best_features_nn], y_train)"
   ]
  },
  {
   "attachments": {},
   "cell_type": "markdown",
   "metadata": {},
   "source": [
    "# plotting the bar chart"
   ]
  },
  {
   "attachments": {},
   "cell_type": "markdown",
   "metadata": {},
   "source": [
    "**using train dataset**"
   ]
  },
  {
   "cell_type": "code",
   "execution_count": 12,
   "metadata": {},
   "outputs": [
    {
     "data": {
      "text/plain": [
       "[{'model': 'Multiple Linear Regression',\n",
       "  'mae': 0.10773253524680768,\n",
       "  'mse': 0.03158625329778462,\n",
       "  'rmse': 0.1777252185194454,\n",
       "  'r2': 0.0034498466028937136,\n",
       "  'adj_r2': -0.07172096238180181},\n",
       " {'model': 'Random Forest',\n",
       "  'mae': 0.1089646914744536,\n",
       "  'mse': 0.03148077494974815,\n",
       "  'rmse': 0.17742822478328568,\n",
       "  'r2': 0.006777701379616752,\n",
       "  'adj_r2': -0.06814208407666222},\n",
       " {'model': 'Neural Network',\n",
       "  'mae': 0.11018138091822138,\n",
       "  'mse': 0.032112467637669916,\n",
       "  'rmse': 0.17919951907767476,\n",
       "  'r2': -0.013152280157396445,\n",
       "  'adj_r2': -0.08957540473823444},\n",
       " {'model': 'Support Vector Machine',\n",
       "  'mae': 0.10754903070023751,\n",
       "  'mse': 0.03160010852471493,\n",
       "  'rmse': 0.177764193595659,\n",
       "  'r2': 0.003012712499251169,\n",
       "  'adj_r2': -0.07219106996308988}]"
      ]
     },
     "execution_count": 12,
     "metadata": {},
     "output_type": "execute_result"
    }
   ],
   "source": [
    "regression_models = [\n",
    "    {\n",
    "        'name': 'Multiple Linear Regression',\n",
    "        'model': best_model_mlr,\n",
    "        'features': best_features_mlr\n",
    "    },\n",
    "    {\n",
    "        'name': 'Random Forest',\n",
    "        'model': best_model_rf,\n",
    "        'features': best_features_rf\n",
    "    },\n",
    "    {\n",
    "        'name': 'Neural Network',\n",
    "        'model': best_model_nn,\n",
    "        'features': best_features_nn\n",
    "    },\n",
    "    {\n",
    "        'name': 'Support Vector Machine',\n",
    "        'model': best_model_svm,\n",
    "        'features': best_features_svm\n",
    "    }\n",
    "]\n",
    "\n",
    "regression_stats_val = []\n",
    "\n",
    "for model in regression_models:\n",
    "    try:\n",
    "        # Perform cross-validation and calculate predictions and metrics\n",
    "        y_pred = cross_val_predict(model['model'], X_train[model['features']], y_train, cv=10)\n",
    "        y_true = y_train\n",
    "    except: # cv can't be higher then n_splits in the dt\n",
    "        # Perform cross-validation and calculate predictions and metrics\n",
    "        y_pred = cross_val_predict(model['model'], X_train[model['features']], y_train, cv=5)\n",
    "        y_true = y_train\n",
    "\n",
    "    # R2 Score\n",
    "    r2 = r2_score(y_true, y_pred)\n",
    "\n",
    "    # Adjusted R2 Score\n",
    "    n = len(y_true)  # Number of samples\n",
    "    p = X_test.shape[1]  # Number of predictors (features) in X\n",
    "    adj_r2 = 1 - ((1 - r2) * (n - 1)) / (n - p - 1)\n",
    "\n",
    "    # Save stats\n",
    "    regression_stats_val.append(\n",
    "        {\n",
    "            'model': model['name'],\n",
    "            'mae': mean_absolute_error(y_true, y_pred),\n",
    "            'mse': mean_squared_error(y_true, y_pred),\n",
    "            'rmse': np.sqrt(mean_squared_error(y_true, y_pred)),\n",
    "            'r2': r2,\n",
    "            'adj_r2': adj_r2\n",
    "        }\n",
    "    )\n",
    "\n",
    "# View stats\n",
    "regression_stats_val"
   ]
  },
  {
   "cell_type": "code",
   "execution_count": 13,
   "metadata": {},
   "outputs": [
    {
     "data": {
      "application/vnd.plotly.v1+json": {
       "config": {
        "plotlyServerURL": "https://plot.ly"
       },
       "data": [
        {
         "name": "mae",
         "type": "bar",
         "x": [
          "Multiple Linear Regression",
          "Random Forest",
          "Neural Network",
          "Support Vector Machine"
         ],
         "y": [
          0.10773253524680768,
          0.1089646914744536,
          0.11018138091822138,
          0.10754903070023751
         ]
        },
        {
         "name": "mse",
         "type": "bar",
         "x": [
          "Multiple Linear Regression",
          "Random Forest",
          "Neural Network",
          "Support Vector Machine"
         ],
         "y": [
          0.03158625329778462,
          0.03148077494974815,
          0.032112467637669916,
          0.03160010852471493
         ]
        },
        {
         "name": "rmse",
         "type": "bar",
         "x": [
          "Multiple Linear Regression",
          "Random Forest",
          "Neural Network",
          "Support Vector Machine"
         ],
         "y": [
          0.1777252185194454,
          0.17742822478328568,
          0.17919951907767476,
          0.177764193595659
         ]
        },
        {
         "name": "r2",
         "type": "bar",
         "x": [
          "Multiple Linear Regression",
          "Random Forest",
          "Neural Network",
          "Support Vector Machine"
         ],
         "y": [
          0.0034498466028937136,
          0.006777701379616752,
          -0.013152280157396445,
          0.003012712499251169
         ]
        },
        {
         "name": "adj_r2",
         "type": "bar",
         "x": [
          "Multiple Linear Regression",
          "Random Forest",
          "Neural Network",
          "Support Vector Machine"
         ],
         "y": [
          -0.07172096238180181,
          -0.06814208407666222,
          -0.08957540473823444,
          -0.07219106996308988
         ]
        }
       ],
       "layout": {
        "barmode": "group",
        "template": {
         "data": {
          "bar": [
           {
            "error_x": {
             "color": "#2a3f5f"
            },
            "error_y": {
             "color": "#2a3f5f"
            },
            "marker": {
             "line": {
              "color": "#E5ECF6",
              "width": 0.5
             },
             "pattern": {
              "fillmode": "overlay",
              "size": 10,
              "solidity": 0.2
             }
            },
            "type": "bar"
           }
          ],
          "barpolar": [
           {
            "marker": {
             "line": {
              "color": "#E5ECF6",
              "width": 0.5
             },
             "pattern": {
              "fillmode": "overlay",
              "size": 10,
              "solidity": 0.2
             }
            },
            "type": "barpolar"
           }
          ],
          "carpet": [
           {
            "aaxis": {
             "endlinecolor": "#2a3f5f",
             "gridcolor": "white",
             "linecolor": "white",
             "minorgridcolor": "white",
             "startlinecolor": "#2a3f5f"
            },
            "baxis": {
             "endlinecolor": "#2a3f5f",
             "gridcolor": "white",
             "linecolor": "white",
             "minorgridcolor": "white",
             "startlinecolor": "#2a3f5f"
            },
            "type": "carpet"
           }
          ],
          "choropleth": [
           {
            "colorbar": {
             "outlinewidth": 0,
             "ticks": ""
            },
            "type": "choropleth"
           }
          ],
          "contour": [
           {
            "colorbar": {
             "outlinewidth": 0,
             "ticks": ""
            },
            "colorscale": [
             [
              0,
              "#0d0887"
             ],
             [
              0.1111111111111111,
              "#46039f"
             ],
             [
              0.2222222222222222,
              "#7201a8"
             ],
             [
              0.3333333333333333,
              "#9c179e"
             ],
             [
              0.4444444444444444,
              "#bd3786"
             ],
             [
              0.5555555555555556,
              "#d8576b"
             ],
             [
              0.6666666666666666,
              "#ed7953"
             ],
             [
              0.7777777777777778,
              "#fb9f3a"
             ],
             [
              0.8888888888888888,
              "#fdca26"
             ],
             [
              1,
              "#f0f921"
             ]
            ],
            "type": "contour"
           }
          ],
          "contourcarpet": [
           {
            "colorbar": {
             "outlinewidth": 0,
             "ticks": ""
            },
            "type": "contourcarpet"
           }
          ],
          "heatmap": [
           {
            "colorbar": {
             "outlinewidth": 0,
             "ticks": ""
            },
            "colorscale": [
             [
              0,
              "#0d0887"
             ],
             [
              0.1111111111111111,
              "#46039f"
             ],
             [
              0.2222222222222222,
              "#7201a8"
             ],
             [
              0.3333333333333333,
              "#9c179e"
             ],
             [
              0.4444444444444444,
              "#bd3786"
             ],
             [
              0.5555555555555556,
              "#d8576b"
             ],
             [
              0.6666666666666666,
              "#ed7953"
             ],
             [
              0.7777777777777778,
              "#fb9f3a"
             ],
             [
              0.8888888888888888,
              "#fdca26"
             ],
             [
              1,
              "#f0f921"
             ]
            ],
            "type": "heatmap"
           }
          ],
          "heatmapgl": [
           {
            "colorbar": {
             "outlinewidth": 0,
             "ticks": ""
            },
            "colorscale": [
             [
              0,
              "#0d0887"
             ],
             [
              0.1111111111111111,
              "#46039f"
             ],
             [
              0.2222222222222222,
              "#7201a8"
             ],
             [
              0.3333333333333333,
              "#9c179e"
             ],
             [
              0.4444444444444444,
              "#bd3786"
             ],
             [
              0.5555555555555556,
              "#d8576b"
             ],
             [
              0.6666666666666666,
              "#ed7953"
             ],
             [
              0.7777777777777778,
              "#fb9f3a"
             ],
             [
              0.8888888888888888,
              "#fdca26"
             ],
             [
              1,
              "#f0f921"
             ]
            ],
            "type": "heatmapgl"
           }
          ],
          "histogram": [
           {
            "marker": {
             "pattern": {
              "fillmode": "overlay",
              "size": 10,
              "solidity": 0.2
             }
            },
            "type": "histogram"
           }
          ],
          "histogram2d": [
           {
            "colorbar": {
             "outlinewidth": 0,
             "ticks": ""
            },
            "colorscale": [
             [
              0,
              "#0d0887"
             ],
             [
              0.1111111111111111,
              "#46039f"
             ],
             [
              0.2222222222222222,
              "#7201a8"
             ],
             [
              0.3333333333333333,
              "#9c179e"
             ],
             [
              0.4444444444444444,
              "#bd3786"
             ],
             [
              0.5555555555555556,
              "#d8576b"
             ],
             [
              0.6666666666666666,
              "#ed7953"
             ],
             [
              0.7777777777777778,
              "#fb9f3a"
             ],
             [
              0.8888888888888888,
              "#fdca26"
             ],
             [
              1,
              "#f0f921"
             ]
            ],
            "type": "histogram2d"
           }
          ],
          "histogram2dcontour": [
           {
            "colorbar": {
             "outlinewidth": 0,
             "ticks": ""
            },
            "colorscale": [
             [
              0,
              "#0d0887"
             ],
             [
              0.1111111111111111,
              "#46039f"
             ],
             [
              0.2222222222222222,
              "#7201a8"
             ],
             [
              0.3333333333333333,
              "#9c179e"
             ],
             [
              0.4444444444444444,
              "#bd3786"
             ],
             [
              0.5555555555555556,
              "#d8576b"
             ],
             [
              0.6666666666666666,
              "#ed7953"
             ],
             [
              0.7777777777777778,
              "#fb9f3a"
             ],
             [
              0.8888888888888888,
              "#fdca26"
             ],
             [
              1,
              "#f0f921"
             ]
            ],
            "type": "histogram2dcontour"
           }
          ],
          "mesh3d": [
           {
            "colorbar": {
             "outlinewidth": 0,
             "ticks": ""
            },
            "type": "mesh3d"
           }
          ],
          "parcoords": [
           {
            "line": {
             "colorbar": {
              "outlinewidth": 0,
              "ticks": ""
             }
            },
            "type": "parcoords"
           }
          ],
          "pie": [
           {
            "automargin": true,
            "type": "pie"
           }
          ],
          "scatter": [
           {
            "fillpattern": {
             "fillmode": "overlay",
             "size": 10,
             "solidity": 0.2
            },
            "type": "scatter"
           }
          ],
          "scatter3d": [
           {
            "line": {
             "colorbar": {
              "outlinewidth": 0,
              "ticks": ""
             }
            },
            "marker": {
             "colorbar": {
              "outlinewidth": 0,
              "ticks": ""
             }
            },
            "type": "scatter3d"
           }
          ],
          "scattercarpet": [
           {
            "marker": {
             "colorbar": {
              "outlinewidth": 0,
              "ticks": ""
             }
            },
            "type": "scattercarpet"
           }
          ],
          "scattergeo": [
           {
            "marker": {
             "colorbar": {
              "outlinewidth": 0,
              "ticks": ""
             }
            },
            "type": "scattergeo"
           }
          ],
          "scattergl": [
           {
            "marker": {
             "colorbar": {
              "outlinewidth": 0,
              "ticks": ""
             }
            },
            "type": "scattergl"
           }
          ],
          "scattermapbox": [
           {
            "marker": {
             "colorbar": {
              "outlinewidth": 0,
              "ticks": ""
             }
            },
            "type": "scattermapbox"
           }
          ],
          "scatterpolar": [
           {
            "marker": {
             "colorbar": {
              "outlinewidth": 0,
              "ticks": ""
             }
            },
            "type": "scatterpolar"
           }
          ],
          "scatterpolargl": [
           {
            "marker": {
             "colorbar": {
              "outlinewidth": 0,
              "ticks": ""
             }
            },
            "type": "scatterpolargl"
           }
          ],
          "scatterternary": [
           {
            "marker": {
             "colorbar": {
              "outlinewidth": 0,
              "ticks": ""
             }
            },
            "type": "scatterternary"
           }
          ],
          "surface": [
           {
            "colorbar": {
             "outlinewidth": 0,
             "ticks": ""
            },
            "colorscale": [
             [
              0,
              "#0d0887"
             ],
             [
              0.1111111111111111,
              "#46039f"
             ],
             [
              0.2222222222222222,
              "#7201a8"
             ],
             [
              0.3333333333333333,
              "#9c179e"
             ],
             [
              0.4444444444444444,
              "#bd3786"
             ],
             [
              0.5555555555555556,
              "#d8576b"
             ],
             [
              0.6666666666666666,
              "#ed7953"
             ],
             [
              0.7777777777777778,
              "#fb9f3a"
             ],
             [
              0.8888888888888888,
              "#fdca26"
             ],
             [
              1,
              "#f0f921"
             ]
            ],
            "type": "surface"
           }
          ],
          "table": [
           {
            "cells": {
             "fill": {
              "color": "#EBF0F8"
             },
             "line": {
              "color": "white"
             }
            },
            "header": {
             "fill": {
              "color": "#C8D4E3"
             },
             "line": {
              "color": "white"
             }
            },
            "type": "table"
           }
          ]
         },
         "layout": {
          "annotationdefaults": {
           "arrowcolor": "#2a3f5f",
           "arrowhead": 0,
           "arrowwidth": 1
          },
          "autotypenumbers": "strict",
          "coloraxis": {
           "colorbar": {
            "outlinewidth": 0,
            "ticks": ""
           }
          },
          "colorscale": {
           "diverging": [
            [
             0,
             "#8e0152"
            ],
            [
             0.1,
             "#c51b7d"
            ],
            [
             0.2,
             "#de77ae"
            ],
            [
             0.3,
             "#f1b6da"
            ],
            [
             0.4,
             "#fde0ef"
            ],
            [
             0.5,
             "#f7f7f7"
            ],
            [
             0.6,
             "#e6f5d0"
            ],
            [
             0.7,
             "#b8e186"
            ],
            [
             0.8,
             "#7fbc41"
            ],
            [
             0.9,
             "#4d9221"
            ],
            [
             1,
             "#276419"
            ]
           ],
           "sequential": [
            [
             0,
             "#0d0887"
            ],
            [
             0.1111111111111111,
             "#46039f"
            ],
            [
             0.2222222222222222,
             "#7201a8"
            ],
            [
             0.3333333333333333,
             "#9c179e"
            ],
            [
             0.4444444444444444,
             "#bd3786"
            ],
            [
             0.5555555555555556,
             "#d8576b"
            ],
            [
             0.6666666666666666,
             "#ed7953"
            ],
            [
             0.7777777777777778,
             "#fb9f3a"
            ],
            [
             0.8888888888888888,
             "#fdca26"
            ],
            [
             1,
             "#f0f921"
            ]
           ],
           "sequentialminus": [
            [
             0,
             "#0d0887"
            ],
            [
             0.1111111111111111,
             "#46039f"
            ],
            [
             0.2222222222222222,
             "#7201a8"
            ],
            [
             0.3333333333333333,
             "#9c179e"
            ],
            [
             0.4444444444444444,
             "#bd3786"
            ],
            [
             0.5555555555555556,
             "#d8576b"
            ],
            [
             0.6666666666666666,
             "#ed7953"
            ],
            [
             0.7777777777777778,
             "#fb9f3a"
            ],
            [
             0.8888888888888888,
             "#fdca26"
            ],
            [
             1,
             "#f0f921"
            ]
           ]
          },
          "colorway": [
           "#636efa",
           "#EF553B",
           "#00cc96",
           "#ab63fa",
           "#FFA15A",
           "#19d3f3",
           "#FF6692",
           "#B6E880",
           "#FF97FF",
           "#FECB52"
          ],
          "font": {
           "color": "#2a3f5f"
          },
          "geo": {
           "bgcolor": "white",
           "lakecolor": "white",
           "landcolor": "#E5ECF6",
           "showlakes": true,
           "showland": true,
           "subunitcolor": "white"
          },
          "hoverlabel": {
           "align": "left"
          },
          "hovermode": "closest",
          "mapbox": {
           "style": "light"
          },
          "paper_bgcolor": "white",
          "plot_bgcolor": "#E5ECF6",
          "polar": {
           "angularaxis": {
            "gridcolor": "white",
            "linecolor": "white",
            "ticks": ""
           },
           "bgcolor": "#E5ECF6",
           "radialaxis": {
            "gridcolor": "white",
            "linecolor": "white",
            "ticks": ""
           }
          },
          "scene": {
           "xaxis": {
            "backgroundcolor": "#E5ECF6",
            "gridcolor": "white",
            "gridwidth": 2,
            "linecolor": "white",
            "showbackground": true,
            "ticks": "",
            "zerolinecolor": "white"
           },
           "yaxis": {
            "backgroundcolor": "#E5ECF6",
            "gridcolor": "white",
            "gridwidth": 2,
            "linecolor": "white",
            "showbackground": true,
            "ticks": "",
            "zerolinecolor": "white"
           },
           "zaxis": {
            "backgroundcolor": "#E5ECF6",
            "gridcolor": "white",
            "gridwidth": 2,
            "linecolor": "white",
            "showbackground": true,
            "ticks": "",
            "zerolinecolor": "white"
           }
          },
          "shapedefaults": {
           "line": {
            "color": "#2a3f5f"
           }
          },
          "ternary": {
           "aaxis": {
            "gridcolor": "white",
            "linecolor": "white",
            "ticks": ""
           },
           "baxis": {
            "gridcolor": "white",
            "linecolor": "white",
            "ticks": ""
           },
           "bgcolor": "#E5ECF6",
           "caxis": {
            "gridcolor": "white",
            "linecolor": "white",
            "ticks": ""
           }
          },
          "title": {
           "x": 0.05
          },
          "xaxis": {
           "automargin": true,
           "gridcolor": "white",
           "linecolor": "white",
           "ticks": "",
           "title": {
            "standoff": 15
           },
           "zerolinecolor": "white",
           "zerolinewidth": 2
          },
          "yaxis": {
           "automargin": true,
           "gridcolor": "white",
           "linecolor": "white",
           "ticks": "",
           "title": {
            "standoff": 15
           },
           "zerolinecolor": "white",
           "zerolinewidth": 2
          }
         }
        },
        "title": {
         "text": "Evaluation Metrics Comparison"
        },
        "xaxis": {
         "title": {
          "text": "Models"
         }
        },
        "yaxis": {
         "title": {
          "text": "Scores"
         }
        }
       }
      }
     },
     "metadata": {},
     "output_type": "display_data"
    }
   ],
   "source": [
    "# Extracting model names and metric scores\n",
    "model_names = [d['model'] for d in regression_stats_val]\n",
    "metric_labels = list(regression_stats_val[0].keys())[1:]\n",
    "metric_scores = {metric: [d[metric] for d in regression_stats_val] for metric in metric_labels}\n",
    "\n",
    "# Plotting the bar chart\n",
    "fig = go.Figure()\n",
    "\n",
    "for metric in metric_labels:\n",
    "    fig.add_trace(go.Bar(\n",
    "        x=model_names,\n",
    "        y=metric_scores[metric],\n",
    "        name=metric\n",
    "    ))\n",
    "\n",
    "# Updating the layout\n",
    "fig.update_layout(\n",
    "    title='Evaluation Metrics Comparison',\n",
    "    xaxis_title='Models',\n",
    "    yaxis_title='Scores',\n",
    "    barmode='group'\n",
    ")\n",
    "\n",
    "# Display the plot\n",
    "fig.show()"
   ]
  },
  {
   "attachments": {},
   "cell_type": "markdown",
   "metadata": {},
   "source": [
    "**Evaluating on test data**"
   ]
  },
  {
   "cell_type": "code",
   "execution_count": 14,
   "metadata": {},
   "outputs": [
    {
     "data": {
      "text/plain": [
       "[{'model': 'Multiple Linear Regression',\n",
       "  'mae': 0.09280639242781431,\n",
       "  'mse': 0.018599018026383588,\n",
       "  'rmse': 0.13637821683239443,\n",
       "  'r2': -0.004274933111432899,\n",
       "  'adj_r2': -0.39700814717735633},\n",
       " {'model': 'Random Forest',\n",
       "  'mae': 0.09349362222114112,\n",
       "  'mse': 0.01890203479608603,\n",
       "  'rmse': 0.13748467113131568,\n",
       "  'r2': -0.020636664988507025,\n",
       "  'adj_r2': -0.41976832168792333},\n",
       " {'model': 'Neural Network',\n",
       "  'mae': 0.09248517549053457,\n",
       "  'mse': 0.018389115275500634,\n",
       "  'rmse': 0.13560647210034127,\n",
       "  'r2': 0.007059002411606952,\n",
       "  'adj_r2': -0.3812419463659771},\n",
       " {'model': 'Support Vector Machine',\n",
       "  'mae': 0.09190357272998301,\n",
       "  'mse': 0.01830380407143621,\n",
       "  'rmse': 0.13529155210668628,\n",
       "  'r2': 0.011665476991819634,\n",
       "  'adj_r2': -0.3748340571454576}]"
      ]
     },
     "execution_count": 14,
     "metadata": {},
     "output_type": "execute_result"
    }
   ],
   "source": [
    "regression_models = [\n",
    "    {\n",
    "        'name': 'Multiple Linear Regression',\n",
    "        'model': best_model_mlr,\n",
    "        'features': best_features_mlr\n",
    "    },\n",
    "    {\n",
    "        'name': 'Random Forest',\n",
    "        'model': best_model_rf,\n",
    "        'features': best_features_rf\n",
    "    },\n",
    "    {\n",
    "        'name': 'Neural Network',\n",
    "        'model': best_model_nn,\n",
    "        'features': best_features_nn\n",
    "    },\n",
    "    {\n",
    "        'name': 'Support Vector Machine',\n",
    "        'model': best_model_svm,\n",
    "        'features': best_features_svm\n",
    "    }\n",
    "]\n",
    "\n",
    "regression_stats_test = []\n",
    "\n",
    "for model in regression_models:\n",
    "    # Make predictions on the test set\n",
    "    y_pred = model['model'].predict(X_test[model['features']])\n",
    "\n",
    "    # Defining Actual values\n",
    "    y_true = y_test.copy()\n",
    "\n",
    "    # R2 Score\n",
    "    r2 = r2_score(y_true, y_pred)\n",
    "\n",
    "    # Adjusted R2 Score\n",
    "    n = len(y_true)  # Number of samples\n",
    "    p = X_test.shape[1]  # Number of predictors (features) in X\n",
    "    adj_r2 = 1 - ((1 - r2) * (n - 1)) / (n - p - 1)\n",
    "\n",
    "    # Save stats\n",
    "    regression_stats_test.append(\n",
    "        {\n",
    "            'model': model['name'],\n",
    "            'mae': mean_absolute_error(y_true, y_pred),\n",
    "            'mse': mean_squared_error(y_true, y_pred),\n",
    "            'rmse': np.sqrt(mean_squared_error(y_true, y_pred)),\n",
    "            'r2': r2,\n",
    "            'adj_r2': adj_r2\n",
    "        }\n",
    "    )\n",
    "\n",
    "# View stats\n",
    "regression_stats_test"
   ]
  },
  {
   "cell_type": "code",
   "execution_count": 15,
   "metadata": {},
   "outputs": [
    {
     "data": {
      "application/vnd.plotly.v1+json": {
       "config": {
        "plotlyServerURL": "https://plot.ly"
       },
       "data": [
        {
         "name": "mae",
         "type": "bar",
         "x": [
          "Multiple Linear Regression",
          "Random Forest",
          "Neural Network",
          "Support Vector Machine"
         ],
         "y": [
          0.09280639242781431,
          0.09349362222114112,
          0.09248517549053457,
          0.09190357272998301
         ]
        },
        {
         "name": "mse",
         "type": "bar",
         "x": [
          "Multiple Linear Regression",
          "Random Forest",
          "Neural Network",
          "Support Vector Machine"
         ],
         "y": [
          0.018599018026383588,
          0.01890203479608603,
          0.018389115275500634,
          0.01830380407143621
         ]
        },
        {
         "name": "rmse",
         "type": "bar",
         "x": [
          "Multiple Linear Regression",
          "Random Forest",
          "Neural Network",
          "Support Vector Machine"
         ],
         "y": [
          0.13637821683239443,
          0.13748467113131568,
          0.13560647210034127,
          0.13529155210668628
         ]
        },
        {
         "name": "r2",
         "type": "bar",
         "x": [
          "Multiple Linear Regression",
          "Random Forest",
          "Neural Network",
          "Support Vector Machine"
         ],
         "y": [
          -0.004274933111432899,
          -0.020636664988507025,
          0.007059002411606952,
          0.011665476991819634
         ]
        },
        {
         "name": "adj_r2",
         "type": "bar",
         "x": [
          "Multiple Linear Regression",
          "Random Forest",
          "Neural Network",
          "Support Vector Machine"
         ],
         "y": [
          -0.39700814717735633,
          -0.41976832168792333,
          -0.3812419463659771,
          -0.3748340571454576
         ]
        }
       ],
       "layout": {
        "barmode": "group",
        "template": {
         "data": {
          "bar": [
           {
            "error_x": {
             "color": "#2a3f5f"
            },
            "error_y": {
             "color": "#2a3f5f"
            },
            "marker": {
             "line": {
              "color": "#E5ECF6",
              "width": 0.5
             },
             "pattern": {
              "fillmode": "overlay",
              "size": 10,
              "solidity": 0.2
             }
            },
            "type": "bar"
           }
          ],
          "barpolar": [
           {
            "marker": {
             "line": {
              "color": "#E5ECF6",
              "width": 0.5
             },
             "pattern": {
              "fillmode": "overlay",
              "size": 10,
              "solidity": 0.2
             }
            },
            "type": "barpolar"
           }
          ],
          "carpet": [
           {
            "aaxis": {
             "endlinecolor": "#2a3f5f",
             "gridcolor": "white",
             "linecolor": "white",
             "minorgridcolor": "white",
             "startlinecolor": "#2a3f5f"
            },
            "baxis": {
             "endlinecolor": "#2a3f5f",
             "gridcolor": "white",
             "linecolor": "white",
             "minorgridcolor": "white",
             "startlinecolor": "#2a3f5f"
            },
            "type": "carpet"
           }
          ],
          "choropleth": [
           {
            "colorbar": {
             "outlinewidth": 0,
             "ticks": ""
            },
            "type": "choropleth"
           }
          ],
          "contour": [
           {
            "colorbar": {
             "outlinewidth": 0,
             "ticks": ""
            },
            "colorscale": [
             [
              0,
              "#0d0887"
             ],
             [
              0.1111111111111111,
              "#46039f"
             ],
             [
              0.2222222222222222,
              "#7201a8"
             ],
             [
              0.3333333333333333,
              "#9c179e"
             ],
             [
              0.4444444444444444,
              "#bd3786"
             ],
             [
              0.5555555555555556,
              "#d8576b"
             ],
             [
              0.6666666666666666,
              "#ed7953"
             ],
             [
              0.7777777777777778,
              "#fb9f3a"
             ],
             [
              0.8888888888888888,
              "#fdca26"
             ],
             [
              1,
              "#f0f921"
             ]
            ],
            "type": "contour"
           }
          ],
          "contourcarpet": [
           {
            "colorbar": {
             "outlinewidth": 0,
             "ticks": ""
            },
            "type": "contourcarpet"
           }
          ],
          "heatmap": [
           {
            "colorbar": {
             "outlinewidth": 0,
             "ticks": ""
            },
            "colorscale": [
             [
              0,
              "#0d0887"
             ],
             [
              0.1111111111111111,
              "#46039f"
             ],
             [
              0.2222222222222222,
              "#7201a8"
             ],
             [
              0.3333333333333333,
              "#9c179e"
             ],
             [
              0.4444444444444444,
              "#bd3786"
             ],
             [
              0.5555555555555556,
              "#d8576b"
             ],
             [
              0.6666666666666666,
              "#ed7953"
             ],
             [
              0.7777777777777778,
              "#fb9f3a"
             ],
             [
              0.8888888888888888,
              "#fdca26"
             ],
             [
              1,
              "#f0f921"
             ]
            ],
            "type": "heatmap"
           }
          ],
          "heatmapgl": [
           {
            "colorbar": {
             "outlinewidth": 0,
             "ticks": ""
            },
            "colorscale": [
             [
              0,
              "#0d0887"
             ],
             [
              0.1111111111111111,
              "#46039f"
             ],
             [
              0.2222222222222222,
              "#7201a8"
             ],
             [
              0.3333333333333333,
              "#9c179e"
             ],
             [
              0.4444444444444444,
              "#bd3786"
             ],
             [
              0.5555555555555556,
              "#d8576b"
             ],
             [
              0.6666666666666666,
              "#ed7953"
             ],
             [
              0.7777777777777778,
              "#fb9f3a"
             ],
             [
              0.8888888888888888,
              "#fdca26"
             ],
             [
              1,
              "#f0f921"
             ]
            ],
            "type": "heatmapgl"
           }
          ],
          "histogram": [
           {
            "marker": {
             "pattern": {
              "fillmode": "overlay",
              "size": 10,
              "solidity": 0.2
             }
            },
            "type": "histogram"
           }
          ],
          "histogram2d": [
           {
            "colorbar": {
             "outlinewidth": 0,
             "ticks": ""
            },
            "colorscale": [
             [
              0,
              "#0d0887"
             ],
             [
              0.1111111111111111,
              "#46039f"
             ],
             [
              0.2222222222222222,
              "#7201a8"
             ],
             [
              0.3333333333333333,
              "#9c179e"
             ],
             [
              0.4444444444444444,
              "#bd3786"
             ],
             [
              0.5555555555555556,
              "#d8576b"
             ],
             [
              0.6666666666666666,
              "#ed7953"
             ],
             [
              0.7777777777777778,
              "#fb9f3a"
             ],
             [
              0.8888888888888888,
              "#fdca26"
             ],
             [
              1,
              "#f0f921"
             ]
            ],
            "type": "histogram2d"
           }
          ],
          "histogram2dcontour": [
           {
            "colorbar": {
             "outlinewidth": 0,
             "ticks": ""
            },
            "colorscale": [
             [
              0,
              "#0d0887"
             ],
             [
              0.1111111111111111,
              "#46039f"
             ],
             [
              0.2222222222222222,
              "#7201a8"
             ],
             [
              0.3333333333333333,
              "#9c179e"
             ],
             [
              0.4444444444444444,
              "#bd3786"
             ],
             [
              0.5555555555555556,
              "#d8576b"
             ],
             [
              0.6666666666666666,
              "#ed7953"
             ],
             [
              0.7777777777777778,
              "#fb9f3a"
             ],
             [
              0.8888888888888888,
              "#fdca26"
             ],
             [
              1,
              "#f0f921"
             ]
            ],
            "type": "histogram2dcontour"
           }
          ],
          "mesh3d": [
           {
            "colorbar": {
             "outlinewidth": 0,
             "ticks": ""
            },
            "type": "mesh3d"
           }
          ],
          "parcoords": [
           {
            "line": {
             "colorbar": {
              "outlinewidth": 0,
              "ticks": ""
             }
            },
            "type": "parcoords"
           }
          ],
          "pie": [
           {
            "automargin": true,
            "type": "pie"
           }
          ],
          "scatter": [
           {
            "fillpattern": {
             "fillmode": "overlay",
             "size": 10,
             "solidity": 0.2
            },
            "type": "scatter"
           }
          ],
          "scatter3d": [
           {
            "line": {
             "colorbar": {
              "outlinewidth": 0,
              "ticks": ""
             }
            },
            "marker": {
             "colorbar": {
              "outlinewidth": 0,
              "ticks": ""
             }
            },
            "type": "scatter3d"
           }
          ],
          "scattercarpet": [
           {
            "marker": {
             "colorbar": {
              "outlinewidth": 0,
              "ticks": ""
             }
            },
            "type": "scattercarpet"
           }
          ],
          "scattergeo": [
           {
            "marker": {
             "colorbar": {
              "outlinewidth": 0,
              "ticks": ""
             }
            },
            "type": "scattergeo"
           }
          ],
          "scattergl": [
           {
            "marker": {
             "colorbar": {
              "outlinewidth": 0,
              "ticks": ""
             }
            },
            "type": "scattergl"
           }
          ],
          "scattermapbox": [
           {
            "marker": {
             "colorbar": {
              "outlinewidth": 0,
              "ticks": ""
             }
            },
            "type": "scattermapbox"
           }
          ],
          "scatterpolar": [
           {
            "marker": {
             "colorbar": {
              "outlinewidth": 0,
              "ticks": ""
             }
            },
            "type": "scatterpolar"
           }
          ],
          "scatterpolargl": [
           {
            "marker": {
             "colorbar": {
              "outlinewidth": 0,
              "ticks": ""
             }
            },
            "type": "scatterpolargl"
           }
          ],
          "scatterternary": [
           {
            "marker": {
             "colorbar": {
              "outlinewidth": 0,
              "ticks": ""
             }
            },
            "type": "scatterternary"
           }
          ],
          "surface": [
           {
            "colorbar": {
             "outlinewidth": 0,
             "ticks": ""
            },
            "colorscale": [
             [
              0,
              "#0d0887"
             ],
             [
              0.1111111111111111,
              "#46039f"
             ],
             [
              0.2222222222222222,
              "#7201a8"
             ],
             [
              0.3333333333333333,
              "#9c179e"
             ],
             [
              0.4444444444444444,
              "#bd3786"
             ],
             [
              0.5555555555555556,
              "#d8576b"
             ],
             [
              0.6666666666666666,
              "#ed7953"
             ],
             [
              0.7777777777777778,
              "#fb9f3a"
             ],
             [
              0.8888888888888888,
              "#fdca26"
             ],
             [
              1,
              "#f0f921"
             ]
            ],
            "type": "surface"
           }
          ],
          "table": [
           {
            "cells": {
             "fill": {
              "color": "#EBF0F8"
             },
             "line": {
              "color": "white"
             }
            },
            "header": {
             "fill": {
              "color": "#C8D4E3"
             },
             "line": {
              "color": "white"
             }
            },
            "type": "table"
           }
          ]
         },
         "layout": {
          "annotationdefaults": {
           "arrowcolor": "#2a3f5f",
           "arrowhead": 0,
           "arrowwidth": 1
          },
          "autotypenumbers": "strict",
          "coloraxis": {
           "colorbar": {
            "outlinewidth": 0,
            "ticks": ""
           }
          },
          "colorscale": {
           "diverging": [
            [
             0,
             "#8e0152"
            ],
            [
             0.1,
             "#c51b7d"
            ],
            [
             0.2,
             "#de77ae"
            ],
            [
             0.3,
             "#f1b6da"
            ],
            [
             0.4,
             "#fde0ef"
            ],
            [
             0.5,
             "#f7f7f7"
            ],
            [
             0.6,
             "#e6f5d0"
            ],
            [
             0.7,
             "#b8e186"
            ],
            [
             0.8,
             "#7fbc41"
            ],
            [
             0.9,
             "#4d9221"
            ],
            [
             1,
             "#276419"
            ]
           ],
           "sequential": [
            [
             0,
             "#0d0887"
            ],
            [
             0.1111111111111111,
             "#46039f"
            ],
            [
             0.2222222222222222,
             "#7201a8"
            ],
            [
             0.3333333333333333,
             "#9c179e"
            ],
            [
             0.4444444444444444,
             "#bd3786"
            ],
            [
             0.5555555555555556,
             "#d8576b"
            ],
            [
             0.6666666666666666,
             "#ed7953"
            ],
            [
             0.7777777777777778,
             "#fb9f3a"
            ],
            [
             0.8888888888888888,
             "#fdca26"
            ],
            [
             1,
             "#f0f921"
            ]
           ],
           "sequentialminus": [
            [
             0,
             "#0d0887"
            ],
            [
             0.1111111111111111,
             "#46039f"
            ],
            [
             0.2222222222222222,
             "#7201a8"
            ],
            [
             0.3333333333333333,
             "#9c179e"
            ],
            [
             0.4444444444444444,
             "#bd3786"
            ],
            [
             0.5555555555555556,
             "#d8576b"
            ],
            [
             0.6666666666666666,
             "#ed7953"
            ],
            [
             0.7777777777777778,
             "#fb9f3a"
            ],
            [
             0.8888888888888888,
             "#fdca26"
            ],
            [
             1,
             "#f0f921"
            ]
           ]
          },
          "colorway": [
           "#636efa",
           "#EF553B",
           "#00cc96",
           "#ab63fa",
           "#FFA15A",
           "#19d3f3",
           "#FF6692",
           "#B6E880",
           "#FF97FF",
           "#FECB52"
          ],
          "font": {
           "color": "#2a3f5f"
          },
          "geo": {
           "bgcolor": "white",
           "lakecolor": "white",
           "landcolor": "#E5ECF6",
           "showlakes": true,
           "showland": true,
           "subunitcolor": "white"
          },
          "hoverlabel": {
           "align": "left"
          },
          "hovermode": "closest",
          "mapbox": {
           "style": "light"
          },
          "paper_bgcolor": "white",
          "plot_bgcolor": "#E5ECF6",
          "polar": {
           "angularaxis": {
            "gridcolor": "white",
            "linecolor": "white",
            "ticks": ""
           },
           "bgcolor": "#E5ECF6",
           "radialaxis": {
            "gridcolor": "white",
            "linecolor": "white",
            "ticks": ""
           }
          },
          "scene": {
           "xaxis": {
            "backgroundcolor": "#E5ECF6",
            "gridcolor": "white",
            "gridwidth": 2,
            "linecolor": "white",
            "showbackground": true,
            "ticks": "",
            "zerolinecolor": "white"
           },
           "yaxis": {
            "backgroundcolor": "#E5ECF6",
            "gridcolor": "white",
            "gridwidth": 2,
            "linecolor": "white",
            "showbackground": true,
            "ticks": "",
            "zerolinecolor": "white"
           },
           "zaxis": {
            "backgroundcolor": "#E5ECF6",
            "gridcolor": "white",
            "gridwidth": 2,
            "linecolor": "white",
            "showbackground": true,
            "ticks": "",
            "zerolinecolor": "white"
           }
          },
          "shapedefaults": {
           "line": {
            "color": "#2a3f5f"
           }
          },
          "ternary": {
           "aaxis": {
            "gridcolor": "white",
            "linecolor": "white",
            "ticks": ""
           },
           "baxis": {
            "gridcolor": "white",
            "linecolor": "white",
            "ticks": ""
           },
           "bgcolor": "#E5ECF6",
           "caxis": {
            "gridcolor": "white",
            "linecolor": "white",
            "ticks": ""
           }
          },
          "title": {
           "x": 0.05
          },
          "xaxis": {
           "automargin": true,
           "gridcolor": "white",
           "linecolor": "white",
           "ticks": "",
           "title": {
            "standoff": 15
           },
           "zerolinecolor": "white",
           "zerolinewidth": 2
          },
          "yaxis": {
           "automargin": true,
           "gridcolor": "white",
           "linecolor": "white",
           "ticks": "",
           "title": {
            "standoff": 15
           },
           "zerolinecolor": "white",
           "zerolinewidth": 2
          }
         }
        },
        "title": {
         "text": "Evaluation Metrics Comparison"
        },
        "xaxis": {
         "title": {
          "text": "Models"
         }
        },
        "yaxis": {
         "title": {
          "text": "Scores"
         }
        }
       }
      }
     },
     "metadata": {},
     "output_type": "display_data"
    }
   ],
   "source": [
    "# Extracting model names and metric scores\n",
    "model_names = [d['model'] for d in regression_stats_test]\n",
    "metric_labels = list(regression_stats_test[0].keys())[1:]\n",
    "metric_scores = {metric: [d[metric] for d in regression_stats_test] for metric in metric_labels}\n",
    "\n",
    "# Plotting the bar chart\n",
    "fig = go.Figure()\n",
    "\n",
    "for metric in metric_labels:\n",
    "    fig.add_trace(go.Bar(\n",
    "        x=model_names,\n",
    "        y=metric_scores[metric],\n",
    "        name=metric\n",
    "    ))\n",
    "\n",
    "# Updating the layout\n",
    "fig.update_layout(\n",
    "    title='Evaluation Metrics Comparison',\n",
    "    xaxis_title='Models',\n",
    "    yaxis_title='Scores',\n",
    "    barmode='group'\n",
    ")\n",
    "\n",
    "# Display the plot\n",
    "fig.show()"
   ]
  },
  {
   "attachments": {},
   "cell_type": "markdown",
   "metadata": {},
   "source": [
    "Naive bayes"
   ]
  },
  {
   "cell_type": "code",
   "execution_count": 16,
   "metadata": {},
   "outputs": [
    {
     "name": "stdout",
     "output_type": "stream",
     "text": [
      "Mean Absolute Error: 0.09220708558461792\n",
      "Mean Squared Error: 0.018520778761338827\n",
      "Root Mean Squared Error: 0.13609106789697414\n",
      "R2 Score: -5.031584626036256e-05\n",
      "Adjusted R2 Score: -0.3911314449481498\n"
     ]
    }
   ],
   "source": [
    "# Defining Actual values\n",
    "y_true = y_test.copy()\n",
    "\n",
    "# Defining Predicted values\n",
    "y_pred = np.full_like(y_test, y_train.mean())\n",
    "\n",
    "# Mean absolute error\n",
    "mae = mean_absolute_error(y_test, y_pred)\n",
    "print(\"Mean Absolute Error:\", mae)\n",
    "\n",
    "# Mean Squared Error\n",
    "mse = mean_squared_error(y_true, y_pred)\n",
    "print(\"Mean Squared Error:\", mse)\n",
    "\n",
    "# Root Mean Squared Error\n",
    "rmse = np.sqrt(mse)\n",
    "print(\"Root Mean Squared Error:\", rmse)\n",
    "\n",
    "# R2 Score\n",
    "r2 = r2_score(y_true, y_pred)\n",
    "print(\"R2 Score:\", r2)\n",
    "\n",
    "# Adjusted R2 Score\n",
    "n = len(y_true)  # Number of samples\n",
    "p = X_test.shape[1]  # Number of predictors (features) in X\n",
    "adj_r2 = 1 - ((1 - r2) * (n - 1)) / (n - p - 1)\n",
    "print(\"Adjusted R2 Score:\", adj_r2)"
   ]
  },
  {
   "attachments": {},
   "cell_type": "markdown",
   "metadata": {},
   "source": [
    "Save best model as Pickle"
   ]
  },
  {
   "cell_type": "code",
   "execution_count": 17,
   "metadata": {},
   "outputs": [],
   "source": [
    "import pickle\n",
    "\n",
    "# Save model\n",
    "file_path = 'Saved Models/Conditie.pkl'\n",
    "\n",
    "with open(file_path, 'wb') as file:\n",
    "    pickle.dump(best_model_mlr, file)\n",
    "\n",
    "# Save features\n",
    "with open('Saved Models/best_features_Conditie.txt', 'w') as file:\n",
    "    file.write(f'{best_features_mlr}')"
   ]
  }
 ],
 "metadata": {
  "kernelspec": {
   "display_name": "Python 3",
   "language": "python",
   "name": "python3"
  },
  "language_info": {
   "codemirror_mode": {
    "name": "ipython",
    "version": 3
   },
   "file_extension": ".py",
   "mimetype": "text/x-python",
   "name": "python",
   "nbconvert_exporter": "python",
   "pygments_lexer": "ipython3",
   "version": "3.9.5"
  },
  "orig_nbformat": 4
 },
 "nbformat": 4,
 "nbformat_minor": 2
}
