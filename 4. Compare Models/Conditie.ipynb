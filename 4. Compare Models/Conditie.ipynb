{
 "cells": [
  {
   "attachments": {},
   "cell_type": "markdown",
   "metadata": {},
   "source": [
    "# General Imports"
   ]
  },
  {
   "attachments": {},
   "cell_type": "markdown",
   "metadata": {},
   "source": [
    "**Importing all libraries**"
   ]
  },
  {
   "cell_type": "code",
   "execution_count": 1,
   "metadata": {},
   "outputs": [],
   "source": [
    "import numpy as np\n",
    "import pandas as pd\n",
    "import warnings\n",
    "\n",
    "import plotly.graph_objects as go\n",
    "from bayes_opt import BayesianOptimization\n",
    "import statsmodels.api as sm\n",
    "\n",
    "from sklearn.model_selection import cross_val_score, train_test_split\n",
    "from sklearn.linear_model import LinearRegression\n",
    "from sklearn.svm import SVR\n",
    "from sklearn.model_selection import cross_val_predict\n",
    "from sklearn.ensemble import RandomForestRegressor\n",
    "from sklearn.neural_network import MLPRegressor\n",
    "from sklearn.metrics import r2_score, mean_squared_error, mean_absolute_error\n",
    "from sklearn.inspection import permutation_importance\n"
   ]
  },
  {
   "attachments": {},
   "cell_type": "markdown",
   "metadata": {},
   "source": [
    "Disable warnings"
   ]
  },
  {
   "cell_type": "code",
   "execution_count": 2,
   "metadata": {},
   "outputs": [],
   "source": [
    "# Disable all warnings\n",
    "warnings.filterwarnings(\"ignore\")\n",
    "\n",
    "# Enable warnings again\n",
    "## warnings.filterwarnings(\"default\")"
   ]
  },
  {
   "attachments": {},
   "cell_type": "markdown",
   "metadata": {},
   "source": [
    "Generate train and test data"
   ]
  },
  {
   "cell_type": "code",
   "execution_count": 3,
   "metadata": {},
   "outputs": [],
   "source": [
    "# Read Data\n",
    "df = pd.read_csv(\"data_finish_prep.csv\")\n",
    "\n",
    "# Select only the usefull part of the df\n",
    "df.drop(columns=['verschil_Lengte',\n",
    "               'verschil_6 MWT', 'verschil_TUG',\n",
    "               'verschil_BMI', 'verschil_Gewicht',\n",
    "               'verschil_Lenigheid', 'verschil_Knijpkracht'], inplace=True)\n",
    "\n",
    "# Drop NaN values\n",
    "df.dropna(inplace=True)\n",
    "\n",
    "# Define X and y\n",
    "X = df.drop(columns=['verschil_Conditie'])\n",
    "y = df['verschil_Conditie']\n",
    "\n",
    "# Split data into train & test data\n",
    "X_train, X_test, y_train, y_test = train_test_split(X, y, test_size=0.2, random_state=42)"
   ]
  },
  {
   "cell_type": "code",
   "execution_count": 4,
   "metadata": {},
   "outputs": [],
   "source": [
    "def bo_params_generic(model, params, X_train, y_train):\n",
    "    # Create the model instance with the specified parameters\n",
    "    regressor = model(**params)\n",
    "    \n",
    "    # Assuming you have X_train, y_train defined for regression\n",
    "    scores = cross_val_score(regressor, X_train, y_train, cv=10, scoring='neg_root_mean_squared_error')\n",
    "    return -scores.mean()"
   ]
  },
  {
   "attachments": {},
   "cell_type": "markdown",
   "metadata": {},
   "source": [
    "# MLR"
   ]
  },
  {
   "attachments": {},
   "cell_type": "markdown",
   "metadata": {},
   "source": [
    "**feature selection**"
   ]
  },
  {
   "cell_type": "code",
   "execution_count": 5,
   "metadata": {},
   "outputs": [
    {
     "name": "stdout",
     "output_type": "stream",
     "text": [
      "Best features: ['kPersonenMetLaagsteInkomen', 'AfstandTotKinderdagverblijf', 'AfstandTotConsultatiebureau', 'AfstandTotBuitenschoolseOpvang', 'AfstandTotOpenbaarGroenTotaal', 'AfstandTotOpenNatNatuurlijkTerrein', 'AfstandTotSemiOpenbaarGroenTotaal', 'AfstandTotBioscoop', 'AfstandTotSauna', 'BeperkingInHoren']\n",
      "Dropped features: ['AfstandTotCafetariaED', 'ErvarenGezondheidGoedZeerGoed', 'AfstandTotRestaurant', 'OvermatigDrinker', 'AfstandTotHuisartsenpraktijk', 'GeweldsEnSeksueleMisdrijven', 'BouwjaarVanaf2000', 'ErnstigOvergewichtObesitas', 'AfstandTotPoppodium', 'GemiddeldeWoningwaarde', 'PersonenautoSNaarOppervlakte', 'EigendomOnbekend', 'AfstandTotBibliotheek', 'AfstandTotVolkstuin', 'BeperkingInZien', 'AfstandTotAttractie', 'AfstandTotOvDagelLevensmiddelen', 'UrenMantelzorgPerWeek', 'PercentageOnbewoond', 'PersonenautoSOverigeBrandstof', 'InBezitWoningcorporatie', 'VoldoetAanRichtlijnAlcoholgebruik', 'AfstandTotKunstijsbaan', 'AfstandTotSportterrein', 'PersonenautoSPerHuishouden', 'AfstandTotPodiumkunstenTotaal', 'AfstandTotTreinstationsTotaal', 'ALandbouwBosbouwEnVisserij', 'AfstandTotHotelED', 'GeboorteRelatief', 'AfstandTotZwembad', 'AfstandTotOpenDroogNatTerrein', 'AfstandTotZonnebank', 'OppervlakteWater', 'AfstandTotWarenhuis', 'AfstandTotMuseum', 'KLFinancieleDienstenOnroerendGoed', 'AfstandTotBos', 'NederlandseAntillenEnAruba', 'AfstandTotVerblijfsrecreatiefTerrein', 'AfstandTotApotheek', 'SterfteRelatief', 'AfstandTotDagrecreatiefTerrein', 'AfstandTotCafeED', 'ZwaarBelasteMantelzorgers', 'EenOfMeerLangdurigeAandoeningen', 'AfstandTotBrandweerkazerne', 'AfstandTotSchool', 'AfstandTotHuisartsenpost', 'Rokers', 'Mantelzorger', 'InBezitOverigeVerhuurders', 'VernielingMisdrijfTegenOpenbareOrde', 'AfstandTotBelangrijkOverstapstation', 'TotaalDiefstalUitWoningSchuurED', 'AfstandTotBegraafplaats', 'Ondergewicht', 'MatigOvergewicht', 'AfstandTotOpenNatTerreinTotaal', 'VoldoetAanBeweegrichtlijn']\n"
     ]
    }
   ],
   "source": [
    "# Fit the Full Model\n",
    "X =  sm.add_constant(X_train)  # Add constant term for the intercept\n",
    "model = sm.OLS(y_train, X_train).fit()  # Fit the MLR model\n",
    "best_model = model  # Initialize the best model\n",
    "selected_features = X_train.columns.tolist()\n",
    "best_features = X_train.columns.tolist()\n",
    "best_features_rmse = np.sqrt(-cross_val_score(LinearRegression(), X_train, y_train, cv=10, scoring='neg_mean_squared_error').mean())\n",
    "\n",
    "# Iteratively remove one feature at a time based on p-values\n",
    "while True:\n",
    "    # Compute p-values\n",
    "    p_values = model.pvalues[1:]  # Exclude the constant term\n",
    "\n",
    "    # Identify Insignificant Features\n",
    "    insignificant_feature = p_values.idxmax()\n",
    "    max_p_value = p_values.max()\n",
    "\n",
    "    # Remove Insignificant Feature\n",
    "    X = X.drop(insignificant_feature, axis=1)\n",
    "    selected_features.remove(insignificant_feature)\n",
    "\n",
    "    # When there a no features left\n",
    "    if len(selected_features) == 0:\n",
    "        break\n",
    "    \n",
    "    # Refit the Model\n",
    "    model = sm.OLS(y_train, X).fit()\n",
    "    \n",
    "    # Evaluate Model Performance\n",
    "    rmse = np.sqrt(-cross_val_score(LinearRegression(), X_train[selected_features], y_train, cv=10, scoring='neg_mean_squared_error').mean())\n",
    "\n",
    "    # Check if the model performs better without the insignificant features\n",
    "    if rmse <= best_features_rmse:\n",
    "        best_features_rmse = rmse\n",
    "        best_features = selected_features.copy()\n",
    "        best_model = model\n",
    "\n",
    "# Save results\n",
    "best_model_mlr = LinearRegression().fit(X_train[best_features], y_train)\n",
    "best_features_mlr = best_features\n",
    "\n",
    "# Show results\n",
    "print(\"Best features:\", best_features)\n",
    "print(\"Dropped features:\", list(set(X_train.columns.tolist()) - set(best_features)))"
   ]
  },
  {
   "attachments": {},
   "cell_type": "markdown",
   "metadata": {},
   "source": [
    "*Er zijn geen hyperparameters om te optimaliseren.*"
   ]
  },
  {
   "attachments": {},
   "cell_type": "markdown",
   "metadata": {},
   "source": [
    "# Support Vector Machines"
   ]
  },
  {
   "attachments": {},
   "cell_type": "markdown",
   "metadata": {},
   "source": [
    "**Hyperparameter optimalisatie**"
   ]
  },
  {
   "cell_type": "code",
   "execution_count": 6,
   "metadata": {},
   "outputs": [
    {
     "name": "stdout",
     "output_type": "stream",
     "text": [
      "|   iter    |  target   |     C     |   gamma   | kernel... |\n",
      "-------------------------------------------------------------\n",
      "| \u001b[0m1        \u001b[0m | \u001b[0m-0.0322  \u001b[0m | \u001b[0m9.672    \u001b[0m | \u001b[0m0.08727  \u001b[0m | \u001b[0m1.222    \u001b[0m |\n",
      "| \u001b[95m2        \u001b[0m | \u001b[95m-0.03219 \u001b[0m | \u001b[95m6.215    \u001b[0m | \u001b[95m0.05407  \u001b[0m | \u001b[95m1.196    \u001b[0m |\n",
      "| \u001b[95m3        \u001b[0m | \u001b[95m-0.03217 \u001b[0m | \u001b[95m3.526    \u001b[0m | \u001b[95m0.01261  \u001b[0m | \u001b[95m1.799    \u001b[0m |\n",
      "| \u001b[95m4        \u001b[0m | \u001b[95m-0.03216 \u001b[0m | \u001b[95m1.996    \u001b[0m | \u001b[95m0.08047  \u001b[0m | \u001b[95m1.107    \u001b[0m |\n",
      "| \u001b[0m5        \u001b[0m | \u001b[0m-0.03219 \u001b[0m | \u001b[0m6.398    \u001b[0m | \u001b[0m0.03826  \u001b[0m | \u001b[0m1.956    \u001b[0m |\n",
      "| \u001b[0m6        \u001b[0m | \u001b[0m-0.03218 \u001b[0m | \u001b[0m4.875    \u001b[0m | \u001b[0m0.0986   \u001b[0m | \u001b[0m3.117    \u001b[0m |\n",
      "| \u001b[95m7        \u001b[0m | \u001b[95m-0.03196 \u001b[0m | \u001b[95m3.49     \u001b[0m | \u001b[95m0.08538  \u001b[0m | \u001b[95m2.063    \u001b[0m |\n",
      "| \u001b[0m8        \u001b[0m | \u001b[0m-0.03217 \u001b[0m | \u001b[0m2.23     \u001b[0m | \u001b[0m0.02202  \u001b[0m | \u001b[0m1.869    \u001b[0m |\n",
      "| \u001b[0m9        \u001b[0m | \u001b[0m-0.0322  \u001b[0m | \u001b[0m7.209    \u001b[0m | \u001b[0m0.01775  \u001b[0m | \u001b[0m1.001    \u001b[0m |\n",
      "| \u001b[0m10       \u001b[0m | \u001b[0m-0.0322  \u001b[0m | \u001b[0m7.639    \u001b[0m | \u001b[0m0.06598  \u001b[0m | \u001b[0m1.178    \u001b[0m |\n",
      "| \u001b[0m11       \u001b[0m | \u001b[0m-0.0322  \u001b[0m | \u001b[0m9.592    \u001b[0m | \u001b[0m0.05043  \u001b[0m | \u001b[0m1.886    \u001b[0m |\n",
      "| \u001b[0m12       \u001b[0m | \u001b[0m-0.03197 \u001b[0m | \u001b[0m3.508    \u001b[0m | \u001b[0m0.08171  \u001b[0m | \u001b[0m2.088    \u001b[0m |\n",
      "| \u001b[0m13       \u001b[0m | \u001b[0m-0.03197 \u001b[0m | \u001b[0m3.427    \u001b[0m | \u001b[0m0.08291  \u001b[0m | \u001b[0m2.149    \u001b[0m |\n",
      "| \u001b[95m14       \u001b[0m | \u001b[95m-0.0319  \u001b[0m | \u001b[95m3.2      \u001b[0m | \u001b[95m0.006563 \u001b[0m | \u001b[95m2.051    \u001b[0m |\n",
      "| \u001b[0m15       \u001b[0m | \u001b[0m-0.03218 \u001b[0m | \u001b[0m5.954    \u001b[0m | \u001b[0m0.08645  \u001b[0m | \u001b[0m3.249    \u001b[0m |\n",
      "| \u001b[0m16       \u001b[0m | \u001b[0m-0.03218 \u001b[0m | \u001b[0m5.451    \u001b[0m | \u001b[0m0.04415  \u001b[0m | \u001b[0m1.617    \u001b[0m |\n",
      "| \u001b[0m17       \u001b[0m | \u001b[0m-0.03216 \u001b[0m | \u001b[0m1.775    \u001b[0m | \u001b[0m0.09502  \u001b[0m | \u001b[0m3.192    \u001b[0m |\n",
      "| \u001b[0m18       \u001b[0m | \u001b[0m-0.03193 \u001b[0m | \u001b[0m3.043    \u001b[0m | \u001b[0m0.1      \u001b[0m | \u001b[0m2.124    \u001b[0m |\n",
      "| \u001b[0m19       \u001b[0m | \u001b[0m-0.03217 \u001b[0m | \u001b[0m3.072    \u001b[0m | \u001b[0m0.09183  \u001b[0m | \u001b[0m1.859    \u001b[0m |\n",
      "| \u001b[0m20       \u001b[0m | \u001b[0m-0.03212 \u001b[0m | \u001b[0m3.115    \u001b[0m | \u001b[0m0.03003  \u001b[0m | \u001b[0m2.267    \u001b[0m |\n",
      "| \u001b[95m21       \u001b[0m | \u001b[95m-0.03173 \u001b[0m | \u001b[95m3.113    \u001b[0m | \u001b[95m0.001271 \u001b[0m | \u001b[95m2.258    \u001b[0m |\n",
      "| \u001b[0m22       \u001b[0m | \u001b[0m-0.03213 \u001b[0m | \u001b[0m8.644    \u001b[0m | \u001b[0m0.02297  \u001b[0m | \u001b[0m2.157    \u001b[0m |\n",
      "| \u001b[0m23       \u001b[0m | \u001b[0m-0.03197 \u001b[0m | \u001b[0m3.411    \u001b[0m | \u001b[0m0.08419  \u001b[0m | \u001b[0m2.136    \u001b[0m |\n",
      "| \u001b[0m24       \u001b[0m | \u001b[0m-0.03201 \u001b[0m | \u001b[0m3.419    \u001b[0m | \u001b[0m0.06994  \u001b[0m | \u001b[0m2.098    \u001b[0m |\n",
      "| \u001b[0m25       \u001b[0m | \u001b[0m-0.032   \u001b[0m | \u001b[0m3.42     \u001b[0m | \u001b[0m0.07083  \u001b[0m | \u001b[0m2.171    \u001b[0m |\n",
      "| \u001b[0m26       \u001b[0m | \u001b[0m-0.03218 \u001b[0m | \u001b[0m3.228    \u001b[0m | \u001b[0m0.01396  \u001b[0m | \u001b[0m2.063    \u001b[0m |\n",
      "| \u001b[0m27       \u001b[0m | \u001b[0m-0.03203 \u001b[0m | \u001b[0m9.202    \u001b[0m | \u001b[0m0.05748  \u001b[0m | \u001b[0m2.857    \u001b[0m |\n",
      "| \u001b[0m28       \u001b[0m | \u001b[0m-0.03219 \u001b[0m | \u001b[0m7.116    \u001b[0m | \u001b[0m0.04142  \u001b[0m | \u001b[0m1.475    \u001b[0m |\n",
      "| \u001b[0m29       \u001b[0m | \u001b[0m-0.03217 \u001b[0m | \u001b[0m3.09     \u001b[0m | \u001b[0m0.01324  \u001b[0m | \u001b[0m2.265    \u001b[0m |\n",
      "| \u001b[0m30       \u001b[0m | \u001b[0m-0.03205 \u001b[0m | \u001b[0m9.197    \u001b[0m | \u001b[0m0.04663  \u001b[0m | \u001b[0m2.854    \u001b[0m |\n",
      "| \u001b[0m31       \u001b[0m | \u001b[0m-0.03216 \u001b[0m | \u001b[0m1.698    \u001b[0m | \u001b[0m0.02477  \u001b[0m | \u001b[0m1.914    \u001b[0m |\n",
      "| \u001b[0m32       \u001b[0m | \u001b[0m-0.03217 \u001b[0m | \u001b[0m3.2      \u001b[0m | \u001b[0m0.09449  \u001b[0m | \u001b[0m1.134    \u001b[0m |\n",
      "| \u001b[0m33       \u001b[0m | \u001b[0m-0.03208 \u001b[0m | \u001b[0m8.78     \u001b[0m | \u001b[0m0.03949  \u001b[0m | \u001b[0m2.829    \u001b[0m |\n",
      "| \u001b[0m34       \u001b[0m | \u001b[0m-0.03217 \u001b[0m | \u001b[0m4.417    \u001b[0m | \u001b[0m0.07079  \u001b[0m | \u001b[0m3.027    \u001b[0m |\n",
      "| \u001b[0m35       \u001b[0m | \u001b[0m-0.03217 \u001b[0m | \u001b[0m4.268    \u001b[0m | \u001b[0m0.05022  \u001b[0m | \u001b[0m1.793    \u001b[0m |\n",
      "| \u001b[0m36       \u001b[0m | \u001b[0m-0.03217 \u001b[0m | \u001b[0m3.128    \u001b[0m | \u001b[0m0.01211  \u001b[0m | \u001b[0m2.274    \u001b[0m |\n",
      "| \u001b[0m37       \u001b[0m | \u001b[0m-0.03203 \u001b[0m | \u001b[0m8.804    \u001b[0m | \u001b[0m0.06406  \u001b[0m | \u001b[0m2.815    \u001b[0m |\n",
      "| \u001b[0m38       \u001b[0m | \u001b[0m-0.03218 \u001b[0m | \u001b[0m9.569    \u001b[0m | \u001b[0m0.07273  \u001b[0m | \u001b[0m3.534    \u001b[0m |\n",
      "| \u001b[0m39       \u001b[0m | \u001b[0m-0.03202 \u001b[0m | \u001b[0m3.422    \u001b[0m | \u001b[0m0.06074  \u001b[0m | \u001b[0m2.109    \u001b[0m |\n",
      "| \u001b[0m40       \u001b[0m | \u001b[0m-0.03199 \u001b[0m | \u001b[0m3.415    \u001b[0m | \u001b[0m0.07213  \u001b[0m | \u001b[0m2.124    \u001b[0m |\n",
      "| \u001b[0m41       \u001b[0m | \u001b[0m-0.03207 \u001b[0m | \u001b[0m8.355    \u001b[0m | \u001b[0m0.01418  \u001b[0m | \u001b[0m3.617    \u001b[0m |\n",
      "| \u001b[0m42       \u001b[0m | \u001b[0m-0.03216 \u001b[0m | \u001b[0m8.603    \u001b[0m | \u001b[0m0.01159  \u001b[0m | \u001b[0m2.824    \u001b[0m |\n",
      "| \u001b[0m43       \u001b[0m | \u001b[0m-0.03217 \u001b[0m | \u001b[0m4.182    \u001b[0m | \u001b[0m0.06242  \u001b[0m | \u001b[0m1.281    \u001b[0m |\n",
      "| \u001b[0m44       \u001b[0m | \u001b[0m-0.03195 \u001b[0m | \u001b[0m3.396    \u001b[0m | \u001b[0m0.09165  \u001b[0m | \u001b[0m2.143    \u001b[0m |\n",
      "| \u001b[0m45       \u001b[0m | \u001b[0m-0.03197 \u001b[0m | \u001b[0m3.397    \u001b[0m | \u001b[0m0.08272  \u001b[0m | \u001b[0m2.129    \u001b[0m |\n",
      "| \u001b[0m46       \u001b[0m | \u001b[0m-0.03196 \u001b[0m | \u001b[0m3.054    \u001b[0m | \u001b[0m0.08567  \u001b[0m | \u001b[0m2.145    \u001b[0m |\n",
      "| \u001b[0m47       \u001b[0m | \u001b[0m-0.03217 \u001b[0m | \u001b[0m5.257    \u001b[0m | \u001b[0m0.09591  \u001b[0m | \u001b[0m1.106    \u001b[0m |\n",
      "| \u001b[0m48       \u001b[0m | \u001b[0m-0.03199 \u001b[0m | \u001b[0m3.388    \u001b[0m | \u001b[0m0.07807  \u001b[0m | \u001b[0m2.155    \u001b[0m |\n",
      "| \u001b[0m49       \u001b[0m | \u001b[0m-0.03196 \u001b[0m | \u001b[0m3.429    \u001b[0m | \u001b[0m0.08849  \u001b[0m | \u001b[0m2.168    \u001b[0m |\n",
      "| \u001b[0m50       \u001b[0m | \u001b[0m-0.03219 \u001b[0m | \u001b[0m6.193    \u001b[0m | \u001b[0m0.02198  \u001b[0m | \u001b[0m1.339    \u001b[0m |\n",
      "=============================================================\n"
     ]
    },
    {
     "data": {
      "text/html": [
       "<style>#sk-container-id-1 {color: black;background-color: white;}#sk-container-id-1 pre{padding: 0;}#sk-container-id-1 div.sk-toggleable {background-color: white;}#sk-container-id-1 label.sk-toggleable__label {cursor: pointer;display: block;width: 100%;margin-bottom: 0;padding: 0.3em;box-sizing: border-box;text-align: center;}#sk-container-id-1 label.sk-toggleable__label-arrow:before {content: \"▸\";float: left;margin-right: 0.25em;color: #696969;}#sk-container-id-1 label.sk-toggleable__label-arrow:hover:before {color: black;}#sk-container-id-1 div.sk-estimator:hover label.sk-toggleable__label-arrow:before {color: black;}#sk-container-id-1 div.sk-toggleable__content {max-height: 0;max-width: 0;overflow: hidden;text-align: left;background-color: #f0f8ff;}#sk-container-id-1 div.sk-toggleable__content pre {margin: 0.2em;color: black;border-radius: 0.25em;background-color: #f0f8ff;}#sk-container-id-1 input.sk-toggleable__control:checked~div.sk-toggleable__content {max-height: 200px;max-width: 100%;overflow: auto;}#sk-container-id-1 input.sk-toggleable__control:checked~label.sk-toggleable__label-arrow:before {content: \"▾\";}#sk-container-id-1 div.sk-estimator input.sk-toggleable__control:checked~label.sk-toggleable__label {background-color: #d4ebff;}#sk-container-id-1 div.sk-label input.sk-toggleable__control:checked~label.sk-toggleable__label {background-color: #d4ebff;}#sk-container-id-1 input.sk-hidden--visually {border: 0;clip: rect(1px 1px 1px 1px);clip: rect(1px, 1px, 1px, 1px);height: 1px;margin: -1px;overflow: hidden;padding: 0;position: absolute;width: 1px;}#sk-container-id-1 div.sk-estimator {font-family: monospace;background-color: #f0f8ff;border: 1px dotted black;border-radius: 0.25em;box-sizing: border-box;margin-bottom: 0.5em;}#sk-container-id-1 div.sk-estimator:hover {background-color: #d4ebff;}#sk-container-id-1 div.sk-parallel-item::after {content: \"\";width: 100%;border-bottom: 1px solid gray;flex-grow: 1;}#sk-container-id-1 div.sk-label:hover label.sk-toggleable__label {background-color: #d4ebff;}#sk-container-id-1 div.sk-serial::before {content: \"\";position: absolute;border-left: 1px solid gray;box-sizing: border-box;top: 0;bottom: 0;left: 50%;z-index: 0;}#sk-container-id-1 div.sk-serial {display: flex;flex-direction: column;align-items: center;background-color: white;padding-right: 0.2em;padding-left: 0.2em;position: relative;}#sk-container-id-1 div.sk-item {position: relative;z-index: 1;}#sk-container-id-1 div.sk-parallel {display: flex;align-items: stretch;justify-content: center;background-color: white;position: relative;}#sk-container-id-1 div.sk-item::before, #sk-container-id-1 div.sk-parallel-item::before {content: \"\";position: absolute;border-left: 1px solid gray;box-sizing: border-box;top: 0;bottom: 0;left: 50%;z-index: -1;}#sk-container-id-1 div.sk-parallel-item {display: flex;flex-direction: column;z-index: 1;position: relative;background-color: white;}#sk-container-id-1 div.sk-parallel-item:first-child::after {align-self: flex-end;width: 50%;}#sk-container-id-1 div.sk-parallel-item:last-child::after {align-self: flex-start;width: 50%;}#sk-container-id-1 div.sk-parallel-item:only-child::after {width: 0;}#sk-container-id-1 div.sk-dashed-wrapped {border: 1px dashed gray;margin: 0 0.4em 0.5em 0.4em;box-sizing: border-box;padding-bottom: 0.4em;background-color: white;}#sk-container-id-1 div.sk-label label {font-family: monospace;font-weight: bold;display: inline-block;line-height: 1.2em;}#sk-container-id-1 div.sk-label-container {text-align: center;}#sk-container-id-1 div.sk-container {/* jupyter's `normalize.less` sets `[hidden] { display: none; }` but bootstrap.min.css set `[hidden] { display: none !important; }` so we also need the `!important` here to be able to override the default hidden behavior on the sphinx rendered scikit-learn.org. See: https://github.com/scikit-learn/scikit-learn/issues/21755 */display: inline-block !important;position: relative;}#sk-container-id-1 div.sk-text-repr-fallback {display: none;}</style><div id=\"sk-container-id-1\" class=\"sk-top-container\"><div class=\"sk-text-repr-fallback\"><pre>SVR(C=3.1128489082554966, gamma=0.0012711768740856556)</pre><b>In a Jupyter environment, please rerun this cell to show the HTML representation or trust the notebook. <br />On GitHub, the HTML representation is unable to render, please try loading this page with nbviewer.org.</b></div><div class=\"sk-container\" hidden><div class=\"sk-item\"><div class=\"sk-estimator sk-toggleable\"><input class=\"sk-toggleable__control sk-hidden--visually\" id=\"sk-estimator-id-1\" type=\"checkbox\" checked><label for=\"sk-estimator-id-1\" class=\"sk-toggleable__label sk-toggleable__label-arrow\">SVR</label><div class=\"sk-toggleable__content\"><pre>SVR(C=3.1128489082554966, gamma=0.0012711768740856556)</pre></div></div></div></div></div>"
      ],
      "text/plain": [
       "SVR(C=3.1128489082554966, gamma=0.0012711768740856556)"
      ]
     },
     "execution_count": 6,
     "metadata": {},
     "output_type": "execute_result"
    }
   ],
   "source": [
    "def bo_params_generic(model, params, X_train, y_train):\n",
    "    # Create the model instance with the specified parameters\n",
    "    classifier = model(**params)\n",
    "    \n",
    "    # Calculating accuracy based on cross-validation\n",
    "    scores = cross_val_score(classifier, X_train, y_train, cv=10, scoring='neg_mean_squared_error')\n",
    "    return scores.mean()\n",
    "\n",
    "params_ranges = {\n",
    "    'C': (0.1, 10),\n",
    "    'kernel_int': (1, 4),\n",
    "    'gamma': (0.001, 0.1)\n",
    "}\n",
    "\n",
    "kernel_mapping = {\n",
    "    1: 'linear',\n",
    "    2: 'rbf',\n",
    "    3: 'poly',\n",
    "    4: 'sigmoid'\n",
    "}\n",
    "\n",
    "# Example usage with SVM\n",
    "model = SVR\n",
    "model_bo = BayesianOptimization(f=lambda C, kernel_int, gamma:\n",
    "                                    bo_params_generic(model, {\n",
    "                                        'C': C,\n",
    "                                        'kernel': kernel_mapping[int(kernel_int)],\n",
    "                                        'gamma': gamma\n",
    "                                    }, X_train, y_train),\n",
    "                             pbounds=params_ranges)\n",
    "\n",
    "results = model_bo.maximize(n_iter=40, init_points=10)\n",
    "params = model_bo.max['params']\n",
    "\n",
    "# Creating a model with the best hyperparameters\n",
    "best_model_svm = model(\n",
    "    C=params['C'],\n",
    "    kernel=kernel_mapping[int(params['kernel_int'])],\n",
    "    gamma=params['gamma']\n",
    ")\n",
    "\n",
    "# Fit the model\n",
    "best_model_svm.fit(X_train, y_train)\n"
   ]
  },
  {
   "attachments": {},
   "cell_type": "markdown",
   "metadata": {},
   "source": [
    "**Feature Selection**"
   ]
  },
  {
   "cell_type": "code",
   "execution_count": 7,
   "metadata": {},
   "outputs": [
    {
     "name": "stdout",
     "output_type": "stream",
     "text": [
      "Scince the kernal is not linear, this feature selection is not possible\n",
      "Best features: Index(['NederlandseAntillenEnAruba', 'GeboorteRelatief', 'SterfteRelatief',\n",
      "       'GemiddeldeWoningwaarde', 'PercentageOnbewoond',\n",
      "       'InBezitWoningcorporatie', 'InBezitOverigeVerhuurders',\n",
      "       'EigendomOnbekend', 'BouwjaarVanaf2000', 'kPersonenMetLaagsteInkomen',\n",
      "       'ALandbouwBosbouwEnVisserij', 'KLFinancieleDienstenOnroerendGoed',\n",
      "       'PersonenautoSOverigeBrandstof', 'PersonenautoSPerHuishouden',\n",
      "       'PersonenautoSNaarOppervlakte', 'AfstandTotHuisartsenpraktijk',\n",
      "       'AfstandTotKinderdagverblijf', 'AfstandTotSchool', 'OppervlakteWater',\n",
      "       'TotaalDiefstalUitWoningSchuurED',\n",
      "       'VernielingMisdrijfTegenOpenbareOrde', 'GeweldsEnSeksueleMisdrijven',\n",
      "       'AfstandTotHuisartsenpost', 'AfstandTotApotheek',\n",
      "       'AfstandTotConsultatiebureau', 'AfstandTotOvDagelLevensmiddelen',\n",
      "       'AfstandTotWarenhuis', 'AfstandTotCafeED', 'AfstandTotCafetariaED',\n",
      "       'AfstandTotRestaurant', 'AfstandTotHotelED',\n",
      "       'AfstandTotBuitenschoolseOpvang', 'AfstandTotOpenbaarGroenTotaal',\n",
      "       'AfstandTotDagrecreatiefTerrein', 'AfstandTotBos',\n",
      "       'AfstandTotOpenNatTerreinTotaal', 'AfstandTotOpenDroogNatTerrein',\n",
      "       'AfstandTotOpenNatNatuurlijkTerrein',\n",
      "       'AfstandTotSemiOpenbaarGroenTotaal', 'AfstandTotSportterrein',\n",
      "       'AfstandTotVolkstuin', 'AfstandTotVerblijfsrecreatiefTerrein',\n",
      "       'AfstandTotBegraafplaats', 'AfstandTotTreinstationsTotaal',\n",
      "       'AfstandTotBelangrijkOverstapstation', 'AfstandTotBibliotheek',\n",
      "       'AfstandTotZwembad', 'AfstandTotKunstijsbaan', 'AfstandTotMuseum',\n",
      "       'AfstandTotPodiumkunstenTotaal', 'AfstandTotPoppodium',\n",
      "       'AfstandTotBioscoop', 'AfstandTotSauna', 'AfstandTotZonnebank',\n",
      "       'AfstandTotAttractie', 'AfstandTotBrandweerkazerne',\n",
      "       'ErvarenGezondheidGoedZeerGoed', 'EenOfMeerLangdurigeAandoeningen',\n",
      "       'BeperkingInHoren', 'BeperkingInZien', 'Ondergewicht',\n",
      "       'MatigOvergewicht', 'ErnstigOvergewichtObesitas',\n",
      "       'VoldoetAanBeweegrichtlijn', 'Mantelzorger',\n",
      "       'ZwaarBelasteMantelzorgers', 'UrenMantelzorgPerWeek', 'Rokers',\n",
      "       'VoldoetAanRichtlijnAlcoholgebruik', 'OvermatigDrinker'],\n",
      "      dtype='object')\n",
      "Dropped features: []\n"
     ]
    }
   ],
   "source": [
    "# Get the accuracy score of the model with all features\n",
    "best_accuracy = cross_val_score(best_model_svm, X_train, y_train, cv=10, scoring='neg_mean_squared_error', n_jobs=-1).mean()\n",
    "best_model = best_model_svm\n",
    "selected_features = X_train.columns\n",
    "best_features = selected_features\n",
    "\n",
    "while len(selected_features) > 1:\n",
    "    try:\n",
    "        # Retrieve the coefficients from the SVM model\n",
    "        coefficients = best_model_svm.coef_[0]\n",
    "\n",
    "        # Sort features based on their coefficient magnitudes\n",
    "        sorted_indices = np.argsort(np.abs(coefficients))\n",
    "        selected_features = [X_train.columns[i] for i in sorted_indices[::-1]]\n",
    "\n",
    "        # Remove the least important feature\n",
    "        selected_features = selected_features[:-1]\n",
    "        \n",
    "        # Refit the linear SVM classifier\n",
    "        best_model_svm_classification.fit(X_train[selected_features], y_train)\n",
    "        \n",
    "        # Evaluate Model Performance\n",
    "        accuracy = cross_val_score(best_model_svm, X_train[selected_features], y_train, cv=10, scoring='neg_mean_squared_error', n_jobs=-1).mean()\n",
    "\n",
    "        # Check if the model performs better without the insignificant features\n",
    "        if accuracy >= best_accuracy:\n",
    "            best_accuracy = accuracy\n",
    "            best_features = selected_features.copy()\n",
    "            best_model = best_model_svm\n",
    "    except:\n",
    "        print(\"Scince the kernal is not linear, this feature selection is not possible\") \n",
    "        break\n",
    "\n",
    "# Save results\n",
    "best_model_svm = best_model\n",
    "best_features_svm = best_features\n",
    "\n",
    "# Show results\n",
    "print(\"Best features:\", best_features_svm)\n",
    "print(\"Dropped features:\", list(set(X_train.columns.tolist()) - set(best_features_svm)))"
   ]
  },
  {
   "attachments": {},
   "cell_type": "markdown",
   "metadata": {},
   "source": [
    "# Random Forest"
   ]
  },
  {
   "attachments": {},
   "cell_type": "markdown",
   "metadata": {},
   "source": [
    "**Feature selection**"
   ]
  },
  {
   "cell_type": "code",
   "execution_count": 8,
   "metadata": {},
   "outputs": [
    {
     "name": "stdout",
     "output_type": "stream",
     "text": [
      "Best features: ['AfstandTotApotheek']\n",
      "Dropped features: ['AfstandTotCafetariaED', 'ErvarenGezondheidGoedZeerGoed', 'BeperkingInHoren', 'AfstandTotKinderdagverblijf', 'AfstandTotBioscoop', 'AfstandTotRestaurant', 'OvermatigDrinker', 'AfstandTotHuisartsenpraktijk', 'GeweldsEnSeksueleMisdrijven', 'BouwjaarVanaf2000', 'ErnstigOvergewichtObesitas', 'AfstandTotPoppodium', 'GemiddeldeWoningwaarde', 'PersonenautoSNaarOppervlakte', 'EigendomOnbekend', 'AfstandTotBibliotheek', 'AfstandTotVolkstuin', 'BeperkingInZien', 'AfstandTotAttractie', 'AfstandTotOvDagelLevensmiddelen', 'UrenMantelzorgPerWeek', 'PercentageOnbewoond', 'PersonenautoSOverigeBrandstof', 'AfstandTotBuitenschoolseOpvang', 'InBezitWoningcorporatie', 'VoldoetAanRichtlijnAlcoholgebruik', 'AfstandTotKunstijsbaan', 'AfstandTotSemiOpenbaarGroenTotaal', 'AfstandTotSportterrein', 'PersonenautoSPerHuishouden', 'AfstandTotConsultatiebureau', 'AfstandTotPodiumkunstenTotaal', 'AfstandTotOpenbaarGroenTotaal', 'kPersonenMetLaagsteInkomen', 'AfstandTotTreinstationsTotaal', 'ALandbouwBosbouwEnVisserij', 'AfstandTotHotelED', 'GeboorteRelatief', 'AfstandTotZwembad', 'AfstandTotOpenDroogNatTerrein', 'AfstandTotZonnebank', 'OppervlakteWater', 'AfstandTotWarenhuis', 'AfstandTotMuseum', 'KLFinancieleDienstenOnroerendGoed', 'AfstandTotBos', 'NederlandseAntillenEnAruba', 'AfstandTotVerblijfsrecreatiefTerrein', 'SterfteRelatief', 'AfstandTotDagrecreatiefTerrein', 'AfstandTotCafeED', 'ZwaarBelasteMantelzorgers', 'EenOfMeerLangdurigeAandoeningen', 'AfstandTotBrandweerkazerne', 'AfstandTotSchool', 'AfstandTotHuisartsenpost', 'Rokers', 'Mantelzorger', 'InBezitOverigeVerhuurders', 'VernielingMisdrijfTegenOpenbareOrde', 'AfstandTotBelangrijkOverstapstation', 'TotaalDiefstalUitWoningSchuurED', 'AfstandTotSauna', 'AfstandTotBegraafplaats', 'Ondergewicht', 'MatigOvergewicht', 'AfstandTotOpenNatTerreinTotaal', 'VoldoetAanBeweegrichtlijn', 'AfstandTotOpenNatNatuurlijkTerrein']\n"
     ]
    }
   ],
   "source": [
    "# Get the accuracy score of the model with all the features\n",
    "rf = RandomForestRegressor(n_estimators=100, random_state=0).fit(X_train, y_train)\n",
    "best_rf = rf\n",
    "selected_features = X_train.columns.tolist()\n",
    "best_features = selected_features\n",
    "best_features_accuracy = cross_val_score(RandomForestRegressor(n_estimators=100, random_state=0), X_train, y_train, cv=10, scoring='neg_mean_squared_error', n_jobs=-1).mean()\n",
    "\n",
    "while True:\n",
    "    # Make DataFrame of feature impotances\n",
    "    result = permutation_importance(\n",
    "            rf, X_train[selected_features], y_train, n_repeats=10, random_state=42, n_jobs=-1\n",
    "        )\n",
    "    df_importances = pd.DataFrame({'feature': X_train[selected_features].columns, 'importance': result.importances_mean, 'std': result.importances_std})\n",
    "    df_importances = df_importances.sort_values('importance')\n",
    "\n",
    "    # Remove least important feature\n",
    "    selected_features.remove(df_importances['feature'].iloc[0])\n",
    "\n",
    "    # When there are no features left\n",
    "    if len(selected_features) == 0:\n",
    "        break\n",
    "    \n",
    "    # Refit the Model\n",
    "    rf = RandomForestRegressor(n_estimators=100, random_state=0).fit(X_train[selected_features], y_train)\n",
    "\n",
    "    # Evaluate Model Performance\n",
    "    accuracy = cross_val_score(RandomForestRegressor(n_estimators=100, random_state=0), X_train[selected_features], y_train, cv=10, scoring='neg_mean_squared_error', n_jobs=-1).mean()\n",
    "\n",
    "    # Check if the model performs better without the insignificant features\n",
    "    if accuracy >= best_features_accuracy:\n",
    "        best_features_accuracy = accuracy\n",
    "        best_features = selected_features.copy()\n",
    "        best_model = rf\n",
    "\n",
    "# Save results\n",
    "best_model_rf = best_model\n",
    "best_features_rf = best_features\n",
    "\n",
    "# Show results\n",
    "print(\"Best features:\", best_features_rf)\n",
    "print(\"Dropped features:\", list(set(X_train.columns.tolist()) - set(best_features_rf)))"
   ]
  },
  {
   "attachments": {},
   "cell_type": "markdown",
   "metadata": {},
   "source": [
    "**Hyperparameter optimalisatie**"
   ]
  },
  {
   "cell_type": "code",
   "execution_count": 9,
   "metadata": {},
   "outputs": [
    {
     "name": "stdout",
     "output_type": "stream",
     "text": [
      "|   iter    |  target   | max_depth | max_fe... | min_sa... | n_esti... |\n",
      "-------------------------------------------------------------------------\n",
      "| \u001b[0m1        \u001b[0m | \u001b[0m-0.03152 \u001b[0m | \u001b[0m8.369    \u001b[0m | \u001b[0m0.2351   \u001b[0m | \u001b[0m9.726    \u001b[0m | \u001b[0m133.1    \u001b[0m |\n",
      "| \u001b[95m2        \u001b[0m | \u001b[95m-0.03151 \u001b[0m | \u001b[95m6.229    \u001b[0m | \u001b[95m0.5278   \u001b[0m | \u001b[95m9.963    \u001b[0m | \u001b[95m340.4    \u001b[0m |\n",
      "| \u001b[95m3        \u001b[0m | \u001b[95m-0.03124 \u001b[0m | \u001b[95m2.988    \u001b[0m | \u001b[95m0.3545   \u001b[0m | \u001b[95m5.181    \u001b[0m | \u001b[95m565.0    \u001b[0m |\n",
      "| \u001b[0m4        \u001b[0m | \u001b[0m-0.03152 \u001b[0m | \u001b[0m17.74    \u001b[0m | \u001b[0m0.7925   \u001b[0m | \u001b[0m10.94    \u001b[0m | \u001b[0m740.6    \u001b[0m |\n",
      "| \u001b[0m5        \u001b[0m | \u001b[0m-0.03152 \u001b[0m | \u001b[0m8.032    \u001b[0m | \u001b[0m0.7366   \u001b[0m | \u001b[0m11.1     \u001b[0m | \u001b[0m709.4    \u001b[0m |\n",
      "| \u001b[0m6        \u001b[0m | \u001b[0m-0.03152 \u001b[0m | \u001b[0m8.713    \u001b[0m | \u001b[0m0.3794   \u001b[0m | \u001b[0m6.004    \u001b[0m | \u001b[0m158.2    \u001b[0m |\n",
      "| \u001b[95m7        \u001b[0m | \u001b[95m-0.03118 \u001b[0m | \u001b[95m1.719    \u001b[0m | \u001b[95m0.693    \u001b[0m | \u001b[95m3.493    \u001b[0m | \u001b[95m972.1    \u001b[0m |\n",
      "| \u001b[0m8        \u001b[0m | \u001b[0m-0.03152 \u001b[0m | \u001b[0m19.62    \u001b[0m | \u001b[0m0.5868   \u001b[0m | \u001b[0m11.46    \u001b[0m | \u001b[0m923.6    \u001b[0m |\n",
      "| \u001b[0m9        \u001b[0m | \u001b[0m-0.03151 \u001b[0m | \u001b[0m5.634    \u001b[0m | \u001b[0m0.209    \u001b[0m | \u001b[0m8.071    \u001b[0m | \u001b[0m665.2    \u001b[0m |\n",
      "| \u001b[0m10       \u001b[0m | \u001b[0m-0.03134 \u001b[0m | \u001b[0m4.276    \u001b[0m | \u001b[0m0.8614   \u001b[0m | \u001b[0m6.497    \u001b[0m | \u001b[0m470.0    \u001b[0m |\n",
      "| \u001b[0m11       \u001b[0m | \u001b[0m-0.03118 \u001b[0m | \u001b[0m1.575    \u001b[0m | \u001b[0m0.6832   \u001b[0m | \u001b[0m2.166    \u001b[0m | \u001b[0m999.9    \u001b[0m |\n",
      "| \u001b[0m12       \u001b[0m | \u001b[0m-0.03152 \u001b[0m | \u001b[0m19.78    \u001b[0m | \u001b[0m0.141    \u001b[0m | \u001b[0m9.182    \u001b[0m | \u001b[0m525.7    \u001b[0m |\n",
      "| \u001b[0m13       \u001b[0m | \u001b[0m-0.03152 \u001b[0m | \u001b[0m19.9     \u001b[0m | \u001b[0m0.6266   \u001b[0m | \u001b[0m11.72    \u001b[0m | \u001b[0m987.3    \u001b[0m |\n",
      "| \u001b[0m14       \u001b[0m | \u001b[0m-0.03118 \u001b[0m | \u001b[0m2.135    \u001b[0m | \u001b[0m0.37     \u001b[0m | \u001b[0m2.263    \u001b[0m | \u001b[0m972.5    \u001b[0m |\n",
      "| \u001b[0m15       \u001b[0m | \u001b[0m-0.0317  \u001b[0m | \u001b[0m1.242    \u001b[0m | \u001b[0m0.5603   \u001b[0m | \u001b[0m2.534    \u001b[0m | \u001b[0m988.6    \u001b[0m |\n",
      "| \u001b[0m16       \u001b[0m | \u001b[0m-0.03151 \u001b[0m | \u001b[0m5.931    \u001b[0m | \u001b[0m0.8181   \u001b[0m | \u001b[0m2.86     \u001b[0m | \u001b[0m969.7    \u001b[0m |\n",
      "| \u001b[0m17       \u001b[0m | \u001b[0m-0.03134 \u001b[0m | \u001b[0m3.666    \u001b[0m | \u001b[0m0.1129   \u001b[0m | \u001b[0m3.42     \u001b[0m | \u001b[0m999.6    \u001b[0m |\n",
      "| \u001b[0m18       \u001b[0m | \u001b[0m-0.03124 \u001b[0m | \u001b[0m3.067    \u001b[0m | \u001b[0m0.6555   \u001b[0m | \u001b[0m3.721    \u001b[0m | \u001b[0m974.9    \u001b[0m |\n",
      "| \u001b[0m19       \u001b[0m | \u001b[0m-0.03124 \u001b[0m | \u001b[0m3.333    \u001b[0m | \u001b[0m0.988    \u001b[0m | \u001b[0m8.067    \u001b[0m | \u001b[0m562.5    \u001b[0m |\n",
      "| \u001b[0m20       \u001b[0m | \u001b[0m-0.03118 \u001b[0m | \u001b[0m1.835    \u001b[0m | \u001b[0m0.5919   \u001b[0m | \u001b[0m9.565    \u001b[0m | \u001b[0m566.7    \u001b[0m |\n",
      "| \u001b[0m21       \u001b[0m | \u001b[0m-0.03151 \u001b[0m | \u001b[0m6.326    \u001b[0m | \u001b[0m0.5619   \u001b[0m | \u001b[0m7.586    \u001b[0m | \u001b[0m568.1    \u001b[0m |\n",
      "| \u001b[0m22       \u001b[0m | \u001b[0m-0.0317  \u001b[0m | \u001b[0m1.23     \u001b[0m | \u001b[0m0.5434   \u001b[0m | \u001b[0m2.567    \u001b[0m | \u001b[0m562.0    \u001b[0m |\n",
      "| \u001b[0m23       \u001b[0m | \u001b[0m-0.03124 \u001b[0m | \u001b[0m2.953    \u001b[0m | \u001b[0m0.2465   \u001b[0m | \u001b[0m7.755    \u001b[0m | \u001b[0m565.0    \u001b[0m |\n",
      "| \u001b[0m24       \u001b[0m | \u001b[0m-0.0317  \u001b[0m | \u001b[0m1.287    \u001b[0m | \u001b[0m0.6198   \u001b[0m | \u001b[0m8.126    \u001b[0m | \u001b[0m569.6    \u001b[0m |\n",
      "| \u001b[0m25       \u001b[0m | \u001b[0m-0.03118 \u001b[0m | \u001b[0m1.843    \u001b[0m | \u001b[0m0.138    \u001b[0m | \u001b[0m5.62     \u001b[0m | \u001b[0m973.5    \u001b[0m |\n",
      "| \u001b[0m26       \u001b[0m | \u001b[0m-0.03124 \u001b[0m | \u001b[0m3.235    \u001b[0m | \u001b[0m0.6559   \u001b[0m | \u001b[0m10.45    \u001b[0m | \u001b[0m563.0    \u001b[0m |\n",
      "| \u001b[0m27       \u001b[0m | \u001b[0m-0.03118 \u001b[0m | \u001b[0m1.548    \u001b[0m | \u001b[0m0.5626   \u001b[0m | \u001b[0m11.64    \u001b[0m | \u001b[0m566.4    \u001b[0m |\n",
      "| \u001b[0m28       \u001b[0m | \u001b[0m-0.03134 \u001b[0m | \u001b[0m4.304    \u001b[0m | \u001b[0m0.314    \u001b[0m | \u001b[0m11.43    \u001b[0m | \u001b[0m566.8    \u001b[0m |\n",
      "| \u001b[0m29       \u001b[0m | \u001b[0m-0.0317  \u001b[0m | \u001b[0m1.014    \u001b[0m | \u001b[0m0.2438   \u001b[0m | \u001b[0m11.98    \u001b[0m | \u001b[0m563.2    \u001b[0m |\n",
      "| \u001b[0m30       \u001b[0m | \u001b[0m-0.0317  \u001b[0m | \u001b[0m1.295    \u001b[0m | \u001b[0m0.9559   \u001b[0m | \u001b[0m3.396    \u001b[0m | \u001b[0m974.4    \u001b[0m |\n",
      "| \u001b[0m31       \u001b[0m | \u001b[0m-0.03124 \u001b[0m | \u001b[0m2.7      \u001b[0m | \u001b[0m0.2885   \u001b[0m | \u001b[0m3.254    \u001b[0m | \u001b[0m972.1    \u001b[0m |\n",
      "| \u001b[0m32       \u001b[0m | \u001b[0m-0.03124 \u001b[0m | \u001b[0m3.433    \u001b[0m | \u001b[0m0.7916   \u001b[0m | \u001b[0m9.7      \u001b[0m | \u001b[0m564.7    \u001b[0m |\n",
      "| \u001b[0m33       \u001b[0m | \u001b[0m-0.03118 \u001b[0m | \u001b[0m1.689    \u001b[0m | \u001b[0m0.8531   \u001b[0m | \u001b[0m5.135    \u001b[0m | \u001b[0m972.5    \u001b[0m |\n",
      "| \u001b[0m34       \u001b[0m | \u001b[0m-0.03124 \u001b[0m | \u001b[0m3.179    \u001b[0m | \u001b[0m0.138    \u001b[0m | \u001b[0m4.162    \u001b[0m | \u001b[0m973.2    \u001b[0m |\n",
      "| \u001b[0m35       \u001b[0m | \u001b[0m-0.03118 \u001b[0m | \u001b[0m1.893    \u001b[0m | \u001b[0m0.6809   \u001b[0m | \u001b[0m9.075    \u001b[0m | \u001b[0m564.5    \u001b[0m |\n",
      "| \u001b[0m36       \u001b[0m | \u001b[0m-0.03118 \u001b[0m | \u001b[0m2.48     \u001b[0m | \u001b[0m0.9643   \u001b[0m | \u001b[0m6.309    \u001b[0m | \u001b[0m971.7    \u001b[0m |\n",
      "| \u001b[0m37       \u001b[0m | \u001b[0m-0.03118 \u001b[0m | \u001b[0m1.965    \u001b[0m | \u001b[0m0.5613   \u001b[0m | \u001b[0m4.575    \u001b[0m | \u001b[0m970.8    \u001b[0m |\n",
      "| \u001b[0m38       \u001b[0m | \u001b[0m-0.03151 \u001b[0m | \u001b[0m5.068    \u001b[0m | \u001b[0m0.7547   \u001b[0m | \u001b[0m5.579    \u001b[0m | \u001b[0m974.6    \u001b[0m |\n",
      "| \u001b[0m39       \u001b[0m | \u001b[0m-0.0317  \u001b[0m | \u001b[0m1.129    \u001b[0m | \u001b[0m0.7947   \u001b[0m | \u001b[0m2.749    \u001b[0m | \u001b[0m969.7    \u001b[0m |\n",
      "| \u001b[0m40       \u001b[0m | \u001b[0m-0.0317  \u001b[0m | \u001b[0m1.13     \u001b[0m | \u001b[0m0.8712   \u001b[0m | \u001b[0m2.055    \u001b[0m | \u001b[0m998.1    \u001b[0m |\n",
      "| \u001b[0m41       \u001b[0m | \u001b[0m-0.03134 \u001b[0m | \u001b[0m3.86     \u001b[0m | \u001b[0m0.2788   \u001b[0m | \u001b[0m5.534    \u001b[0m | \u001b[0m971.5    \u001b[0m |\n",
      "| \u001b[0m42       \u001b[0m | \u001b[0m-0.03124 \u001b[0m | \u001b[0m2.729    \u001b[0m | \u001b[0m0.1      \u001b[0m | \u001b[0m8.914    \u001b[0m | \u001b[0m563.5    \u001b[0m |\n",
      "| \u001b[0m43       \u001b[0m | \u001b[0m-0.03118 \u001b[0m | \u001b[0m1.744    \u001b[0m | \u001b[0m0.4776   \u001b[0m | \u001b[0m10.51    \u001b[0m | \u001b[0m566.1    \u001b[0m |\n",
      "| \u001b[0m44       \u001b[0m | \u001b[0m-0.03151 \u001b[0m | \u001b[0m4.789    \u001b[0m | \u001b[0m0.1228   \u001b[0m | \u001b[0m2.214    \u001b[0m | \u001b[0m973.8    \u001b[0m |\n",
      "| \u001b[0m45       \u001b[0m | \u001b[0m-0.03118 \u001b[0m | \u001b[0m1.633    \u001b[0m | \u001b[0m0.7154   \u001b[0m | \u001b[0m7.744    \u001b[0m | \u001b[0m563.1    \u001b[0m |\n",
      "| \u001b[0m46       \u001b[0m | \u001b[0m-0.0317  \u001b[0m | \u001b[0m1.011    \u001b[0m | \u001b[0m0.9559   \u001b[0m | \u001b[0m11.86    \u001b[0m | \u001b[0m567.8    \u001b[0m |\n",
      "| \u001b[0m47       \u001b[0m | \u001b[0m-0.03118 \u001b[0m | \u001b[0m2.263    \u001b[0m | \u001b[0m0.7313   \u001b[0m | \u001b[0m8.113    \u001b[0m | \u001b[0m566.1    \u001b[0m |\n",
      "| \u001b[0m48       \u001b[0m | \u001b[0m-0.0317  \u001b[0m | \u001b[0m1.124    \u001b[0m | \u001b[0m0.7425   \u001b[0m | \u001b[0m6.583    \u001b[0m | \u001b[0m971.3    \u001b[0m |\n",
      "| \u001b[0m49       \u001b[0m | \u001b[0m-0.03124 \u001b[0m | \u001b[0m3.265    \u001b[0m | \u001b[0m0.8974   \u001b[0m | \u001b[0m6.821    \u001b[0m | \u001b[0m563.2    \u001b[0m |\n",
      "| \u001b[0m50       \u001b[0m | \u001b[0m-0.03124 \u001b[0m | \u001b[0m2.614    \u001b[0m | \u001b[0m0.7613   \u001b[0m | \u001b[0m5.018    \u001b[0m | \u001b[0m972.1    \u001b[0m |\n",
      "=========================================================================\n"
     ]
    },
    {
     "data": {
      "text/html": [
       "<style>#sk-container-id-2 {color: black;background-color: white;}#sk-container-id-2 pre{padding: 0;}#sk-container-id-2 div.sk-toggleable {background-color: white;}#sk-container-id-2 label.sk-toggleable__label {cursor: pointer;display: block;width: 100%;margin-bottom: 0;padding: 0.3em;box-sizing: border-box;text-align: center;}#sk-container-id-2 label.sk-toggleable__label-arrow:before {content: \"▸\";float: left;margin-right: 0.25em;color: #696969;}#sk-container-id-2 label.sk-toggleable__label-arrow:hover:before {color: black;}#sk-container-id-2 div.sk-estimator:hover label.sk-toggleable__label-arrow:before {color: black;}#sk-container-id-2 div.sk-toggleable__content {max-height: 0;max-width: 0;overflow: hidden;text-align: left;background-color: #f0f8ff;}#sk-container-id-2 div.sk-toggleable__content pre {margin: 0.2em;color: black;border-radius: 0.25em;background-color: #f0f8ff;}#sk-container-id-2 input.sk-toggleable__control:checked~div.sk-toggleable__content {max-height: 200px;max-width: 100%;overflow: auto;}#sk-container-id-2 input.sk-toggleable__control:checked~label.sk-toggleable__label-arrow:before {content: \"▾\";}#sk-container-id-2 div.sk-estimator input.sk-toggleable__control:checked~label.sk-toggleable__label {background-color: #d4ebff;}#sk-container-id-2 div.sk-label input.sk-toggleable__control:checked~label.sk-toggleable__label {background-color: #d4ebff;}#sk-container-id-2 input.sk-hidden--visually {border: 0;clip: rect(1px 1px 1px 1px);clip: rect(1px, 1px, 1px, 1px);height: 1px;margin: -1px;overflow: hidden;padding: 0;position: absolute;width: 1px;}#sk-container-id-2 div.sk-estimator {font-family: monospace;background-color: #f0f8ff;border: 1px dotted black;border-radius: 0.25em;box-sizing: border-box;margin-bottom: 0.5em;}#sk-container-id-2 div.sk-estimator:hover {background-color: #d4ebff;}#sk-container-id-2 div.sk-parallel-item::after {content: \"\";width: 100%;border-bottom: 1px solid gray;flex-grow: 1;}#sk-container-id-2 div.sk-label:hover label.sk-toggleable__label {background-color: #d4ebff;}#sk-container-id-2 div.sk-serial::before {content: \"\";position: absolute;border-left: 1px solid gray;box-sizing: border-box;top: 0;bottom: 0;left: 50%;z-index: 0;}#sk-container-id-2 div.sk-serial {display: flex;flex-direction: column;align-items: center;background-color: white;padding-right: 0.2em;padding-left: 0.2em;position: relative;}#sk-container-id-2 div.sk-item {position: relative;z-index: 1;}#sk-container-id-2 div.sk-parallel {display: flex;align-items: stretch;justify-content: center;background-color: white;position: relative;}#sk-container-id-2 div.sk-item::before, #sk-container-id-2 div.sk-parallel-item::before {content: \"\";position: absolute;border-left: 1px solid gray;box-sizing: border-box;top: 0;bottom: 0;left: 50%;z-index: -1;}#sk-container-id-2 div.sk-parallel-item {display: flex;flex-direction: column;z-index: 1;position: relative;background-color: white;}#sk-container-id-2 div.sk-parallel-item:first-child::after {align-self: flex-end;width: 50%;}#sk-container-id-2 div.sk-parallel-item:last-child::after {align-self: flex-start;width: 50%;}#sk-container-id-2 div.sk-parallel-item:only-child::after {width: 0;}#sk-container-id-2 div.sk-dashed-wrapped {border: 1px dashed gray;margin: 0 0.4em 0.5em 0.4em;box-sizing: border-box;padding-bottom: 0.4em;background-color: white;}#sk-container-id-2 div.sk-label label {font-family: monospace;font-weight: bold;display: inline-block;line-height: 1.2em;}#sk-container-id-2 div.sk-label-container {text-align: center;}#sk-container-id-2 div.sk-container {/* jupyter's `normalize.less` sets `[hidden] { display: none; }` but bootstrap.min.css set `[hidden] { display: none !important; }` so we also need the `!important` here to be able to override the default hidden behavior on the sphinx rendered scikit-learn.org. See: https://github.com/scikit-learn/scikit-learn/issues/21755 */display: inline-block !important;position: relative;}#sk-container-id-2 div.sk-text-repr-fallback {display: none;}</style><div id=\"sk-container-id-2\" class=\"sk-top-container\"><div class=\"sk-text-repr-fallback\"><pre>RandomForestRegressor(bootstrap=False, max_depth=2,\n",
       "                      max_features=0.6930430664086109, min_samples_split=3,\n",
       "                      n_estimators=972)</pre><b>In a Jupyter environment, please rerun this cell to show the HTML representation or trust the notebook. <br />On GitHub, the HTML representation is unable to render, please try loading this page with nbviewer.org.</b></div><div class=\"sk-container\" hidden><div class=\"sk-item\"><div class=\"sk-estimator sk-toggleable\"><input class=\"sk-toggleable__control sk-hidden--visually\" id=\"sk-estimator-id-2\" type=\"checkbox\" checked><label for=\"sk-estimator-id-2\" class=\"sk-toggleable__label sk-toggleable__label-arrow\">RandomForestRegressor</label><div class=\"sk-toggleable__content\"><pre>RandomForestRegressor(bootstrap=False, max_depth=2,\n",
       "                      max_features=0.6930430664086109, min_samples_split=3,\n",
       "                      n_estimators=972)</pre></div></div></div></div></div>"
      ],
      "text/plain": [
       "RandomForestRegressor(bootstrap=False, max_depth=2,\n",
       "                      max_features=0.6930430664086109, min_samples_split=3,\n",
       "                      n_estimators=972)"
      ]
     },
     "execution_count": 9,
     "metadata": {},
     "output_type": "execute_result"
    }
   ],
   "source": [
    "def bo_params_rf(min_samples_split,max_depth,max_features,n_estimators):\n",
    "    \n",
    "    params = {\n",
    "        'min_samples_split': round(min_samples_split),\n",
    "        'max_depth': round(max_depth),\n",
    "        'max_features': max_features,\n",
    "        'n_estimators':round(n_estimators)\n",
    "    }    \n",
    "        \n",
    "    clf = RandomForestRegressor(min_samples_split=int(params['min_samples_split']), \n",
    "                                 max_depth=int(params['max_depth']), \n",
    "                                 max_features=params['max_features'],\n",
    "                                 n_estimators=int(params['n_estimators']), \n",
    "                                 bootstrap=False,\n",
    "                                 n_jobs = -1)\n",
    "    return cross_val_score(clf, X_train[best_features_rf], y_train, cv=10, scoring='neg_mean_squared_error', n_jobs=-1).mean()\n",
    "\n",
    "# Create Bayesian Optimization\n",
    "rf_bo = BayesianOptimization(f=bo_params_rf, pbounds={\n",
    "    'n_estimators': (100, 1000),\n",
    "    'max_depth': (1, 20),\n",
    "    'max_features': (0.1, 1),\n",
    "    'min_samples_split': (2, 12)\n",
    "})\n",
    "\n",
    "# Bayesian optimization\n",
    "results = rf_bo.maximize(n_iter=40, init_points=10)\n",
    "\n",
    "# Getting best hyperparameters from bayesian optimization\n",
    "params = rf_bo.max['params']\n",
    "params['n_estimators']= round(params['n_estimators'])\n",
    "params['min_samples_split']= round(params['min_samples_split'])\n",
    "params['max_depth']= round(params['max_depth'])\n",
    "\n",
    "# Making random forest model with the best hyperparameters\n",
    "# criterion entropy is after the hyperparameter optimization since it's more accurate but increases training time\n",
    "best_model_rf_classification = RandomForestRegressor(min_samples_split=params['min_samples_split'],\n",
    "                                                max_depth=params['max_depth'],\n",
    "                                                max_features=params['max_features'],\n",
    "                                                n_estimators=params['n_estimators'],\n",
    "                                                bootstrap=False)\n",
    "\n",
    "best_model_rf_classification.fit(X_train[best_features_rf], y_train)"
   ]
  },
  {
   "attachments": {},
   "cell_type": "markdown",
   "metadata": {},
   "source": [
    "# neural network"
   ]
  },
  {
   "attachments": {},
   "cell_type": "markdown",
   "metadata": {},
   "source": [
    "**Feature selection**"
   ]
  },
  {
   "cell_type": "code",
   "execution_count": 10,
   "metadata": {},
   "outputs": [
    {
     "name": "stdout",
     "output_type": "stream",
     "text": [
      "Best features: ['AfstandTotHotelED', 'VernielingMisdrijfTegenOpenbareOrde', 'AfstandTotConsultatiebureau', 'AfstandTotOpenbaarGroenTotaal', 'AfstandTotVolkstuin', 'AfstandTotOpenDroogNatTerrein', 'InBezitWoningcorporatie', 'AfstandTotOpenNatNatuurlijkTerrein']\n",
      "Dropped features: ['AfstandTotCafetariaED', 'ErvarenGezondheidGoedZeerGoed', 'BeperkingInHoren', 'AfstandTotKinderdagverblijf', 'AfstandTotBioscoop', 'AfstandTotRestaurant', 'OvermatigDrinker', 'AfstandTotHuisartsenpraktijk', 'GeweldsEnSeksueleMisdrijven', 'BouwjaarVanaf2000', 'ErnstigOvergewichtObesitas', 'AfstandTotPoppodium', 'GemiddeldeWoningwaarde', 'PersonenautoSNaarOppervlakte', 'EigendomOnbekend', 'AfstandTotBibliotheek', 'BeperkingInZien', 'AfstandTotAttractie', 'AfstandTotOvDagelLevensmiddelen', 'UrenMantelzorgPerWeek', 'PercentageOnbewoond', 'PersonenautoSOverigeBrandstof', 'AfstandTotBuitenschoolseOpvang', 'VoldoetAanRichtlijnAlcoholgebruik', 'AfstandTotKunstijsbaan', 'AfstandTotSemiOpenbaarGroenTotaal', 'AfstandTotSportterrein', 'PersonenautoSPerHuishouden', 'AfstandTotPodiumkunstenTotaal', 'kPersonenMetLaagsteInkomen', 'AfstandTotTreinstationsTotaal', 'ALandbouwBosbouwEnVisserij', 'GeboorteRelatief', 'AfstandTotZwembad', 'AfstandTotZonnebank', 'OppervlakteWater', 'AfstandTotWarenhuis', 'AfstandTotMuseum', 'KLFinancieleDienstenOnroerendGoed', 'AfstandTotBos', 'NederlandseAntillenEnAruba', 'AfstandTotVerblijfsrecreatiefTerrein', 'AfstandTotApotheek', 'SterfteRelatief', 'AfstandTotDagrecreatiefTerrein', 'AfstandTotCafeED', 'ZwaarBelasteMantelzorgers', 'EenOfMeerLangdurigeAandoeningen', 'AfstandTotBrandweerkazerne', 'AfstandTotSchool', 'AfstandTotHuisartsenpost', 'Rokers', 'Mantelzorger', 'InBezitOverigeVerhuurders', 'AfstandTotBelangrijkOverstapstation', 'TotaalDiefstalUitWoningSchuurED', 'AfstandTotSauna', 'AfstandTotBegraafplaats', 'Ondergewicht', 'MatigOvergewicht', 'AfstandTotOpenNatTerreinTotaal', 'VoldoetAanBeweegrichtlijn']\n"
     ]
    }
   ],
   "source": [
    "# Get the accuracy score of the model with all the features\n",
    "mlp = MLPRegressor(random_state=0).fit(X_train, y_train)\n",
    "best_model = mlp\n",
    "selected_features = X_train.columns.tolist()\n",
    "best_features = selected_features\n",
    "best_features_accuracy = cross_val_score(MLPRegressor(random_state=0), X_train, y_train, cv=10, scoring='neg_mean_squared_error', n_jobs=-1).mean()\n",
    "\n",
    "while True:\n",
    "    # Retrieve the learned weights\n",
    "    weights = mlp.coefs_[0]  # Weights connecting input features to the first hidden layer\n",
    "\n",
    "    # Normalize the weights\n",
    "    normalized_weights = np.abs(weights) / np.sum(np.abs(weights), axis=0)\n",
    "\n",
    "    # Calculate feature importance\n",
    "    feature_importance = np.mean(normalized_weights, axis=1)\n",
    "\n",
    "    # Sort features based on their importance\n",
    "    sorted_indices = np.argsort(feature_importance)\n",
    "    selected_features = [selected_features[i] for i in sorted_indices[:-1]]\n",
    "\n",
    "    # When there are no features left\n",
    "    if len(selected_features) == 0:\n",
    "        break\n",
    "    \n",
    "    # Refit the Model\n",
    "    mlp = MLPRegressor(random_state=0).fit(X_train[selected_features], y_train)\n",
    "\n",
    "    # Evaluate Model Performance\n",
    "    accuracy = cross_val_score(MLPRegressor(random_state=0), X_train[selected_features], y_train, cv=10, scoring='neg_mean_squared_error', n_jobs=-1).mean()\n",
    "\n",
    "    # Check if the model performs better without the insignificant features\n",
    "    if accuracy >= best_features_accuracy:\n",
    "        best_features_accuracy = accuracy\n",
    "        best_features = selected_features.copy()\n",
    "        best_model = mlp\n",
    "\n",
    "# Save results\n",
    "best_model_nn = best_model\n",
    "best_features_nn = best_features\n",
    "\n",
    "# Show results\n",
    "print(\"Best features:\", best_features_nn)\n",
    "print(\"Dropped features:\", list(set(X_train.columns.tolist()) - set(best_features_nn)))"
   ]
  },
  {
   "attachments": {},
   "cell_type": "markdown",
   "metadata": {},
   "source": [
    "**Hyperparameter optimalisatie**"
   ]
  },
  {
   "cell_type": "code",
   "execution_count": 11,
   "metadata": {},
   "outputs": [
    {
     "name": "stdout",
     "output_type": "stream",
     "text": [
      "|   iter    |  target   |   alpha   | hidden... | learni... | max_iter  |\n",
      "-------------------------------------------------------------------------\n",
      "| \u001b[0m1        \u001b[0m | \u001b[0m-0.1768  \u001b[0m | \u001b[0m0.09271  \u001b[0m | \u001b[0m43.38    \u001b[0m | \u001b[0m0.01064  \u001b[0m | \u001b[0m507.4    \u001b[0m |\n",
      "| \u001b[0m2        \u001b[0m | \u001b[0m-0.1785  \u001b[0m | \u001b[0m0.02523  \u001b[0m | \u001b[0m13.24    \u001b[0m | \u001b[0m0.07231  \u001b[0m | \u001b[0m413.3    \u001b[0m |\n",
      "| \u001b[95m3        \u001b[0m | \u001b[95m-0.1761  \u001b[0m | \u001b[95m0.04387  \u001b[0m | \u001b[95m32.65    \u001b[0m | \u001b[95m0.04615  \u001b[0m | \u001b[95m921.6    \u001b[0m |\n",
      "| \u001b[0m4        \u001b[0m | \u001b[0m-0.1761  \u001b[0m | \u001b[0m0.09405  \u001b[0m | \u001b[0m70.31    \u001b[0m | \u001b[0m0.06619  \u001b[0m | \u001b[0m134.4    \u001b[0m |\n",
      "| \u001b[0m5        \u001b[0m | \u001b[0m-0.1765  \u001b[0m | \u001b[0m0.07256  \u001b[0m | \u001b[0m92.73    \u001b[0m | \u001b[0m0.0287   \u001b[0m | \u001b[0m650.2    \u001b[0m |\n",
      "| \u001b[95m6        \u001b[0m | \u001b[95m-0.1761  \u001b[0m | \u001b[95m0.02226  \u001b[0m | \u001b[95m67.07    \u001b[0m | \u001b[95m0.09335  \u001b[0m | \u001b[95m731.1    \u001b[0m |\n",
      "| \u001b[95m7        \u001b[0m | \u001b[95m-0.176   \u001b[0m | \u001b[95m0.01689  \u001b[0m | \u001b[95m58.72    \u001b[0m | \u001b[95m0.04637  \u001b[0m | \u001b[95m154.8    \u001b[0m |\n",
      "| \u001b[0m8        \u001b[0m | \u001b[0m-0.1767  \u001b[0m | \u001b[0m0.0382   \u001b[0m | \u001b[0m60.74    \u001b[0m | \u001b[0m0.07811  \u001b[0m | \u001b[0m175.4    \u001b[0m |\n",
      "| \u001b[0m9        \u001b[0m | \u001b[0m-0.1763  \u001b[0m | \u001b[0m0.04839  \u001b[0m | \u001b[0m27.73    \u001b[0m | \u001b[0m0.05866  \u001b[0m | \u001b[0m552.8    \u001b[0m |\n",
      "| \u001b[0m10       \u001b[0m | \u001b[0m-0.1765  \u001b[0m | \u001b[0m0.03707  \u001b[0m | \u001b[0m83.5     \u001b[0m | \u001b[0m0.01485  \u001b[0m | \u001b[0m839.3    \u001b[0m |\n",
      "| \u001b[0m11       \u001b[0m | \u001b[0m-0.1766  \u001b[0m | \u001b[0m0.09758  \u001b[0m | \u001b[0m59.31    \u001b[0m | \u001b[0m0.03966  \u001b[0m | \u001b[0m156.2    \u001b[0m |\n",
      "| \u001b[0m12       \u001b[0m | \u001b[0m-0.1761  \u001b[0m | \u001b[0m0.09311  \u001b[0m | \u001b[0m57.72    \u001b[0m | \u001b[0m0.04298  \u001b[0m | \u001b[0m152.3    \u001b[0m |\n",
      "| \u001b[0m13       \u001b[0m | \u001b[0m-0.1762  \u001b[0m | \u001b[0m0.07133  \u001b[0m | \u001b[0m62.56    \u001b[0m | \u001b[0m0.07869  \u001b[0m | \u001b[0m152.2    \u001b[0m |\n",
      "| \u001b[0m14       \u001b[0m | \u001b[0m-0.1763  \u001b[0m | \u001b[0m0.07257  \u001b[0m | \u001b[0m70.71    \u001b[0m | \u001b[0m0.001507 \u001b[0m | \u001b[0m732.5    \u001b[0m |\n",
      "| \u001b[0m15       \u001b[0m | \u001b[0m-0.1764  \u001b[0m | \u001b[0m0.0464   \u001b[0m | \u001b[0m35.23    \u001b[0m | \u001b[0m0.06403  \u001b[0m | \u001b[0m918.2    \u001b[0m |\n",
      "| \u001b[0m16       \u001b[0m | \u001b[0m-0.1763  \u001b[0m | \u001b[0m0.008475 \u001b[0m | \u001b[0m32.09    \u001b[0m | \u001b[0m0.07882  \u001b[0m | \u001b[0m925.9    \u001b[0m |\n",
      "| \u001b[0m17       \u001b[0m | \u001b[0m-0.1773  \u001b[0m | \u001b[0m0.03852  \u001b[0m | \u001b[0m68.45    \u001b[0m | \u001b[0m0.09885  \u001b[0m | \u001b[0m727.5    \u001b[0m |\n",
      "| \u001b[0m18       \u001b[0m | \u001b[0m-0.177   \u001b[0m | \u001b[0m0.05504  \u001b[0m | \u001b[0m56.15    \u001b[0m | \u001b[0m0.006122 \u001b[0m | \u001b[0m154.7    \u001b[0m |\n",
      "| \u001b[0m19       \u001b[0m | \u001b[0m-0.1763  \u001b[0m | \u001b[0m0.02525  \u001b[0m | \u001b[0m39.52    \u001b[0m | \u001b[0m0.001229 \u001b[0m | \u001b[0m346.5    \u001b[0m |\n",
      "| \u001b[0m20       \u001b[0m | \u001b[0m-0.1763  \u001b[0m | \u001b[0m0.06668  \u001b[0m | \u001b[0m41.35    \u001b[0m | \u001b[0m0.05444  \u001b[0m | \u001b[0m288.3    \u001b[0m |\n",
      "| \u001b[0m21       \u001b[0m | \u001b[0m-0.1761  \u001b[0m | \u001b[0m0.02851  \u001b[0m | \u001b[0m94.15    \u001b[0m | \u001b[0m0.07437  \u001b[0m | \u001b[0m961.5    \u001b[0m |\n",
      "| \u001b[0m22       \u001b[0m | \u001b[0m-0.1767  \u001b[0m | \u001b[0m0.03159  \u001b[0m | \u001b[0m45.12    \u001b[0m | \u001b[0m0.01071  \u001b[0m | \u001b[0m179.8    \u001b[0m |\n",
      "| \u001b[95m23       \u001b[0m | \u001b[95m-0.1758  \u001b[0m | \u001b[95m0.07847  \u001b[0m | \u001b[95m10.43    \u001b[0m | \u001b[95m0.07904  \u001b[0m | \u001b[95m983.4    \u001b[0m |\n",
      "| \u001b[0m24       \u001b[0m | \u001b[0m-0.1762  \u001b[0m | \u001b[0m0.08156  \u001b[0m | \u001b[0m97.55    \u001b[0m | \u001b[0m0.0719   \u001b[0m | \u001b[0m184.0    \u001b[0m |\n",
      "| \u001b[0m25       \u001b[0m | \u001b[0m-0.1766  \u001b[0m | \u001b[0m0.04911  \u001b[0m | \u001b[0m66.98    \u001b[0m | \u001b[0m0.03558  \u001b[0m | \u001b[0m731.7    \u001b[0m |\n",
      "| \u001b[0m26       \u001b[0m | \u001b[0m-0.1761  \u001b[0m | \u001b[0m0.04899  \u001b[0m | \u001b[0m58.71    \u001b[0m | \u001b[0m0.05741  \u001b[0m | \u001b[0m154.9    \u001b[0m |\n",
      "| \u001b[0m27       \u001b[0m | \u001b[0m-0.1781  \u001b[0m | \u001b[0m0.0952   \u001b[0m | \u001b[0m67.81    \u001b[0m | \u001b[0m0.0159   \u001b[0m | \u001b[0m731.1    \u001b[0m |\n",
      "| \u001b[0m28       \u001b[0m | \u001b[0m-0.1771  \u001b[0m | \u001b[0m0.03043  \u001b[0m | \u001b[0m15.92    \u001b[0m | \u001b[0m0.01305  \u001b[0m | \u001b[0m556.5    \u001b[0m |\n",
      "| \u001b[0m29       \u001b[0m | \u001b[0m-0.1762  \u001b[0m | \u001b[0m0.02992  \u001b[0m | \u001b[0m19.76    \u001b[0m | \u001b[0m0.07944  \u001b[0m | \u001b[0m259.7    \u001b[0m |\n",
      "| \u001b[0m30       \u001b[0m | \u001b[0m-0.1781  \u001b[0m | \u001b[0m0.04472  \u001b[0m | \u001b[0m13.01    \u001b[0m | \u001b[0m0.02778  \u001b[0m | \u001b[0m259.6    \u001b[0m |\n",
      "| \u001b[0m31       \u001b[0m | \u001b[0m-0.1771  \u001b[0m | \u001b[0m0.02464  \u001b[0m | \u001b[0m79.75    \u001b[0m | \u001b[0m0.007987 \u001b[0m | \u001b[0m265.7    \u001b[0m |\n",
      "| \u001b[0m32       \u001b[0m | \u001b[0m-0.1763  \u001b[0m | \u001b[0m0.05063  \u001b[0m | \u001b[0m59.86    \u001b[0m | \u001b[0m0.03488  \u001b[0m | \u001b[0m457.1    \u001b[0m |\n",
      "| \u001b[0m33       \u001b[0m | \u001b[0m-0.1774  \u001b[0m | \u001b[0m0.0165   \u001b[0m | \u001b[0m10.36    \u001b[0m | \u001b[0m0.05055  \u001b[0m | \u001b[0m672.4    \u001b[0m |\n",
      "| \u001b[0m34       \u001b[0m | \u001b[0m-0.1765  \u001b[0m | \u001b[0m0.04361  \u001b[0m | \u001b[0m95.84    \u001b[0m | \u001b[0m0.04066  \u001b[0m | \u001b[0m100.6    \u001b[0m |\n",
      "| \u001b[0m35       \u001b[0m | \u001b[0m-0.177   \u001b[0m | \u001b[0m0.03792  \u001b[0m | \u001b[0m32.25    \u001b[0m | \u001b[0m0.03325  \u001b[0m | \u001b[0m921.6    \u001b[0m |\n",
      "| \u001b[0m36       \u001b[0m | \u001b[0m-0.1764  \u001b[0m | \u001b[0m0.01601  \u001b[0m | \u001b[0m49.08    \u001b[0m | \u001b[0m0.04543  \u001b[0m | \u001b[0m949.8    \u001b[0m |\n",
      "| \u001b[0m37       \u001b[0m | \u001b[0m-0.177   \u001b[0m | \u001b[0m0.005457 \u001b[0m | \u001b[0m94.29    \u001b[0m | \u001b[0m0.01625  \u001b[0m | \u001b[0m961.9    \u001b[0m |\n",
      "| \u001b[0m38       \u001b[0m | \u001b[0m-0.177   \u001b[0m | \u001b[0m0.004157 \u001b[0m | \u001b[0m39.21    \u001b[0m | \u001b[0m0.05792  \u001b[0m | \u001b[0m346.3    \u001b[0m |\n",
      "| \u001b[0m39       \u001b[0m | \u001b[0m-0.1767  \u001b[0m | \u001b[0m0.06953  \u001b[0m | \u001b[0m77.71    \u001b[0m | \u001b[0m0.07196  \u001b[0m | \u001b[0m815.5    \u001b[0m |\n",
      "| \u001b[0m40       \u001b[0m | \u001b[0m-0.1768  \u001b[0m | \u001b[0m0.03931  \u001b[0m | \u001b[0m79.33    \u001b[0m | \u001b[0m0.07089  \u001b[0m | \u001b[0m874.5    \u001b[0m |\n",
      "| \u001b[0m41       \u001b[0m | \u001b[0m-0.1762  \u001b[0m | \u001b[0m0.06282  \u001b[0m | \u001b[0m70.21    \u001b[0m | \u001b[0m0.06564  \u001b[0m | \u001b[0m945.1    \u001b[0m |\n",
      "| \u001b[95m42       \u001b[0m | \u001b[95m-0.1753  \u001b[0m | \u001b[95m0.08131  \u001b[0m | \u001b[95m94.37    \u001b[0m | \u001b[95m0.07056  \u001b[0m | \u001b[95m961.5    \u001b[0m |\n",
      "| \u001b[0m43       \u001b[0m | \u001b[0m-0.1768  \u001b[0m | \u001b[0m0.09616  \u001b[0m | \u001b[0m39.51    \u001b[0m | \u001b[0m0.04207  \u001b[0m | \u001b[0m362.6    \u001b[0m |\n",
      "| \u001b[0m44       \u001b[0m | \u001b[0m-0.1761  \u001b[0m | \u001b[0m0.02875  \u001b[0m | \u001b[0m96.21    \u001b[0m | \u001b[0m0.08899  \u001b[0m | \u001b[0m960.1    \u001b[0m |\n",
      "| \u001b[0m45       \u001b[0m | \u001b[0m-0.177   \u001b[0m | \u001b[0m0.03815  \u001b[0m | \u001b[0m32.28    \u001b[0m | \u001b[0m0.006663 \u001b[0m | \u001b[0m925.6    \u001b[0m |\n",
      "| \u001b[0m46       \u001b[0m | \u001b[0m-0.1776  \u001b[0m | \u001b[0m0.07901  \u001b[0m | \u001b[0m97.85    \u001b[0m | \u001b[0m0.01843  \u001b[0m | \u001b[0m184.2    \u001b[0m |\n",
      "| \u001b[0m47       \u001b[0m | \u001b[0m-0.1763  \u001b[0m | \u001b[0m0.03878  \u001b[0m | \u001b[0m52.71    \u001b[0m | \u001b[0m0.09217  \u001b[0m | \u001b[0m897.4    \u001b[0m |\n",
      "| \u001b[0m48       \u001b[0m | \u001b[0m-0.1762  \u001b[0m | \u001b[0m0.05024  \u001b[0m | \u001b[0m99.7     \u001b[0m | \u001b[0m0.037    \u001b[0m | \u001b[0m752.4    \u001b[0m |\n",
      "| \u001b[0m49       \u001b[0m | \u001b[0m-0.1762  \u001b[0m | \u001b[0m0.09685  \u001b[0m | \u001b[0m86.89    \u001b[0m | \u001b[0m0.06703  \u001b[0m | \u001b[0m122.4    \u001b[0m |\n",
      "| \u001b[0m50       \u001b[0m | \u001b[0m-0.1767  \u001b[0m | \u001b[0m0.03027  \u001b[0m | \u001b[0m10.32    \u001b[0m | \u001b[0m0.05942  \u001b[0m | \u001b[0m983.2    \u001b[0m |\n",
      "=========================================================================\n"
     ]
    },
    {
     "data": {
      "text/html": [
       "<style>#sk-container-id-3 {color: black;background-color: white;}#sk-container-id-3 pre{padding: 0;}#sk-container-id-3 div.sk-toggleable {background-color: white;}#sk-container-id-3 label.sk-toggleable__label {cursor: pointer;display: block;width: 100%;margin-bottom: 0;padding: 0.3em;box-sizing: border-box;text-align: center;}#sk-container-id-3 label.sk-toggleable__label-arrow:before {content: \"▸\";float: left;margin-right: 0.25em;color: #696969;}#sk-container-id-3 label.sk-toggleable__label-arrow:hover:before {color: black;}#sk-container-id-3 div.sk-estimator:hover label.sk-toggleable__label-arrow:before {color: black;}#sk-container-id-3 div.sk-toggleable__content {max-height: 0;max-width: 0;overflow: hidden;text-align: left;background-color: #f0f8ff;}#sk-container-id-3 div.sk-toggleable__content pre {margin: 0.2em;color: black;border-radius: 0.25em;background-color: #f0f8ff;}#sk-container-id-3 input.sk-toggleable__control:checked~div.sk-toggleable__content {max-height: 200px;max-width: 100%;overflow: auto;}#sk-container-id-3 input.sk-toggleable__control:checked~label.sk-toggleable__label-arrow:before {content: \"▾\";}#sk-container-id-3 div.sk-estimator input.sk-toggleable__control:checked~label.sk-toggleable__label {background-color: #d4ebff;}#sk-container-id-3 div.sk-label input.sk-toggleable__control:checked~label.sk-toggleable__label {background-color: #d4ebff;}#sk-container-id-3 input.sk-hidden--visually {border: 0;clip: rect(1px 1px 1px 1px);clip: rect(1px, 1px, 1px, 1px);height: 1px;margin: -1px;overflow: hidden;padding: 0;position: absolute;width: 1px;}#sk-container-id-3 div.sk-estimator {font-family: monospace;background-color: #f0f8ff;border: 1px dotted black;border-radius: 0.25em;box-sizing: border-box;margin-bottom: 0.5em;}#sk-container-id-3 div.sk-estimator:hover {background-color: #d4ebff;}#sk-container-id-3 div.sk-parallel-item::after {content: \"\";width: 100%;border-bottom: 1px solid gray;flex-grow: 1;}#sk-container-id-3 div.sk-label:hover label.sk-toggleable__label {background-color: #d4ebff;}#sk-container-id-3 div.sk-serial::before {content: \"\";position: absolute;border-left: 1px solid gray;box-sizing: border-box;top: 0;bottom: 0;left: 50%;z-index: 0;}#sk-container-id-3 div.sk-serial {display: flex;flex-direction: column;align-items: center;background-color: white;padding-right: 0.2em;padding-left: 0.2em;position: relative;}#sk-container-id-3 div.sk-item {position: relative;z-index: 1;}#sk-container-id-3 div.sk-parallel {display: flex;align-items: stretch;justify-content: center;background-color: white;position: relative;}#sk-container-id-3 div.sk-item::before, #sk-container-id-3 div.sk-parallel-item::before {content: \"\";position: absolute;border-left: 1px solid gray;box-sizing: border-box;top: 0;bottom: 0;left: 50%;z-index: -1;}#sk-container-id-3 div.sk-parallel-item {display: flex;flex-direction: column;z-index: 1;position: relative;background-color: white;}#sk-container-id-3 div.sk-parallel-item:first-child::after {align-self: flex-end;width: 50%;}#sk-container-id-3 div.sk-parallel-item:last-child::after {align-self: flex-start;width: 50%;}#sk-container-id-3 div.sk-parallel-item:only-child::after {width: 0;}#sk-container-id-3 div.sk-dashed-wrapped {border: 1px dashed gray;margin: 0 0.4em 0.5em 0.4em;box-sizing: border-box;padding-bottom: 0.4em;background-color: white;}#sk-container-id-3 div.sk-label label {font-family: monospace;font-weight: bold;display: inline-block;line-height: 1.2em;}#sk-container-id-3 div.sk-label-container {text-align: center;}#sk-container-id-3 div.sk-container {/* jupyter's `normalize.less` sets `[hidden] { display: none; }` but bootstrap.min.css set `[hidden] { display: none !important; }` so we also need the `!important` here to be able to override the default hidden behavior on the sphinx rendered scikit-learn.org. See: https://github.com/scikit-learn/scikit-learn/issues/21755 */display: inline-block !important;position: relative;}#sk-container-id-3 div.sk-text-repr-fallback {display: none;}</style><div id=\"sk-container-id-3\" class=\"sk-top-container\"><div class=\"sk-text-repr-fallback\"><pre>MLPRegressor(alpha=0.0813060031937371, hidden_layer_sizes=(94,),\n",
       "             learning_rate_init=0.07055621355576995, max_iter=961)</pre><b>In a Jupyter environment, please rerun this cell to show the HTML representation or trust the notebook. <br />On GitHub, the HTML representation is unable to render, please try loading this page with nbviewer.org.</b></div><div class=\"sk-container\" hidden><div class=\"sk-item\"><div class=\"sk-estimator sk-toggleable\"><input class=\"sk-toggleable__control sk-hidden--visually\" id=\"sk-estimator-id-3\" type=\"checkbox\" checked><label for=\"sk-estimator-id-3\" class=\"sk-toggleable__label sk-toggleable__label-arrow\">MLPRegressor</label><div class=\"sk-toggleable__content\"><pre>MLPRegressor(alpha=0.0813060031937371, hidden_layer_sizes=(94,),\n",
       "             learning_rate_init=0.07055621355576995, max_iter=961)</pre></div></div></div></div></div>"
      ],
      "text/plain": [
       "MLPRegressor(alpha=0.0813060031937371, hidden_layer_sizes=(94,),\n",
       "             learning_rate_init=0.07055621355576995, max_iter=961)"
      ]
     },
     "execution_count": 11,
     "metadata": {},
     "output_type": "execute_result"
    }
   ],
   "source": [
    "def bo_params_generic(model, params, X_train, y_train):\n",
    "    # Create the model instance with the specified parameters\n",
    "    regressor = model(**params)\n",
    "    \n",
    "    # Calculating rmse based on\n",
    "    scores = cross_val_score(regressor, X_train, y_train, cv=10, scoring='neg_root_mean_squared_error')\n",
    "    return scores.mean()\n",
    "\n",
    "params_ranges = {\n",
    "    'hidden_layer_sizes': (10, 100),\n",
    "    'alpha': (0.0001, 0.1),\n",
    "    'learning_rate_init': (0.001, 0.1),\n",
    "    'max_iter': (100, 1000)\n",
    "}\n",
    "\n",
    "# Example usage with Neural Network\n",
    "model = MLPRegressor\n",
    "model_bo = BayesianOptimization(f=lambda hidden_layer_sizes, alpha, learning_rate_init, max_iter:\n",
    "                                    bo_params_generic(model, {\n",
    "                                        'hidden_layer_sizes': (int(round(hidden_layer_sizes)),),\n",
    "                                        'alpha': alpha,\n",
    "                                        'learning_rate_init': learning_rate_init,\n",
    "                                        'max_iter': int(round(max_iter))\n",
    "                                    }, X_train[best_features_nn], y_train),\n",
    "                             pbounds=params_ranges)\n",
    "\n",
    "results = model_bo.maximize(n_iter=40, init_points=10)\n",
    "params = model_bo.max['params']\n",
    "\n",
    "# Creating a model with the best hyperparameters\n",
    "best_model_nn = model(\n",
    "    hidden_layer_sizes=(int(round(params['hidden_layer_sizes'])),),\n",
    "    alpha=params['alpha'],\n",
    "    learning_rate_init=params['learning_rate_init'],\n",
    "    max_iter=int(round(params['max_iter']))\n",
    ")\n",
    "\n",
    "# Fit the model\n",
    "best_model_nn.fit(X_train[best_features_nn], y_train)"
   ]
  },
  {
   "attachments": {},
   "cell_type": "markdown",
   "metadata": {},
   "source": [
    "# plotting the bar chart"
   ]
  },
  {
   "attachments": {},
   "cell_type": "markdown",
   "metadata": {},
   "source": [
    "**using train dataset**"
   ]
  },
  {
   "cell_type": "code",
   "execution_count": 12,
   "metadata": {},
   "outputs": [
    {
     "data": {
      "text/plain": [
       "[{'model': 'Multiple Linear Regression',\n",
       "  'mae': 0.1093364198492914,\n",
       "  'mse': 0.03137962485868217,\n",
       "  'rmse': 0.17714295034994243,\n",
       "  'r2': 0.009968999119732369,\n",
       "  'adj_r2': -0.06471006344666708},\n",
       " {'model': 'Random Forest',\n",
       "  'mae': 0.1089646914744536,\n",
       "  'mse': 0.03148077494974815,\n",
       "  'rmse': 0.17742822478328568,\n",
       "  'r2': 0.006777701379616752,\n",
       "  'adj_r2': -0.06814208407666222},\n",
       " {'model': 'Neural Network',\n",
       "  'mae': 0.10895347391711734,\n",
       "  'mse': 0.031694704383603584,\n",
       "  'rmse': 0.17803006595405055,\n",
       "  'r2': 2.820158567495845e-05,\n",
       "  'adj_r2': -0.07540070562230206},\n",
       " {'model': 'Support Vector Machine',\n",
       "  'mae': 0.10757936537701356,\n",
       "  'mse': 0.03172211775653611,\n",
       "  'rmse': 0.17810704016555917,\n",
       "  'r2': -0.0008366936820063398,\n",
       "  'adj_r2': -0.07633084083474384}]"
      ]
     },
     "execution_count": 12,
     "metadata": {},
     "output_type": "execute_result"
    }
   ],
   "source": [
    "regression_models = [\n",
    "    {\n",
    "        'name': 'Multiple Linear Regression',\n",
    "        'model': best_model_mlr,\n",
    "        'features': best_features_mlr\n",
    "    },\n",
    "    {\n",
    "        'name': 'Random Forest',\n",
    "        'model': best_model_rf,\n",
    "        'features': best_features_rf\n",
    "    },\n",
    "    {\n",
    "        'name': 'Neural Network',\n",
    "        'model': best_model_nn,\n",
    "        'features': best_features_nn\n",
    "    },\n",
    "    {\n",
    "        'name': 'Support Vector Machine',\n",
    "        'model': best_model_svm,\n",
    "        'features': best_features_svm\n",
    "    }\n",
    "]\n",
    "\n",
    "regression_stats_val = []\n",
    "\n",
    "for model in regression_models:\n",
    "    try:\n",
    "        # Perform cross-validation and calculate predictions and metrics\n",
    "        y_pred = cross_val_predict(model['model'], X_train[model['features']], y_train, cv=10)\n",
    "        y_true = y_train\n",
    "    except: # cv can't be higher then n_splits in the dt\n",
    "        # Perform cross-validation and calculate predictions and metrics\n",
    "        y_pred = cross_val_predict(model['model'], X_train[model['features']], y_train, cv=5)\n",
    "        y_true = y_train\n",
    "\n",
    "    # R2 Score\n",
    "    r2 = r2_score(y_true, y_pred)\n",
    "\n",
    "    # Adjusted R2 Score\n",
    "    n = len(y_true)  # Number of samples\n",
    "    p = X_test.shape[1]  # Number of predictors (features) in X\n",
    "    adj_r2 = 1 - ((1 - r2) * (n - 1)) / (n - p - 1)\n",
    "\n",
    "    # Save stats\n",
    "    regression_stats_val.append(\n",
    "        {\n",
    "            'model': model['name'],\n",
    "            'mae': mean_absolute_error(y_true, y_pred),\n",
    "            'mse': mean_squared_error(y_true, y_pred),\n",
    "            'rmse': np.sqrt(mean_squared_error(y_true, y_pred)),\n",
    "            'r2': r2,\n",
    "            'adj_r2': adj_r2\n",
    "        }\n",
    "    )\n",
    "\n",
    "# View stats\n",
    "regression_stats_val"
   ]
  },
  {
   "cell_type": "code",
   "execution_count": 13,
   "metadata": {},
   "outputs": [
    {
     "data": {
      "application/vnd.plotly.v1+json": {
       "config": {
        "plotlyServerURL": "https://plot.ly"
       },
       "data": [
        {
         "name": "mae",
         "type": "bar",
         "x": [
          "Multiple Linear Regression",
          "Random Forest",
          "Neural Network",
          "Support Vector Machine"
         ],
         "y": [
          0.1093364198492914,
          0.1089646914744536,
          0.10895347391711734,
          0.10757936537701356
         ]
        },
        {
         "name": "mse",
         "type": "bar",
         "x": [
          "Multiple Linear Regression",
          "Random Forest",
          "Neural Network",
          "Support Vector Machine"
         ],
         "y": [
          0.03137962485868217,
          0.03148077494974815,
          0.031694704383603584,
          0.03172211775653611
         ]
        },
        {
         "name": "rmse",
         "type": "bar",
         "x": [
          "Multiple Linear Regression",
          "Random Forest",
          "Neural Network",
          "Support Vector Machine"
         ],
         "y": [
          0.17714295034994243,
          0.17742822478328568,
          0.17803006595405055,
          0.17810704016555917
         ]
        },
        {
         "name": "r2",
         "type": "bar",
         "x": [
          "Multiple Linear Regression",
          "Random Forest",
          "Neural Network",
          "Support Vector Machine"
         ],
         "y": [
          0.009968999119732369,
          0.006777701379616752,
          0.00002820158567495845,
          -0.0008366936820063398
         ]
        },
        {
         "name": "adj_r2",
         "type": "bar",
         "x": [
          "Multiple Linear Regression",
          "Random Forest",
          "Neural Network",
          "Support Vector Machine"
         ],
         "y": [
          -0.06471006344666708,
          -0.06814208407666222,
          -0.07540070562230206,
          -0.07633084083474384
         ]
        }
       ],
       "layout": {
        "barmode": "group",
        "template": {
         "data": {
          "bar": [
           {
            "error_x": {
             "color": "#2a3f5f"
            },
            "error_y": {
             "color": "#2a3f5f"
            },
            "marker": {
             "line": {
              "color": "#E5ECF6",
              "width": 0.5
             },
             "pattern": {
              "fillmode": "overlay",
              "size": 10,
              "solidity": 0.2
             }
            },
            "type": "bar"
           }
          ],
          "barpolar": [
           {
            "marker": {
             "line": {
              "color": "#E5ECF6",
              "width": 0.5
             },
             "pattern": {
              "fillmode": "overlay",
              "size": 10,
              "solidity": 0.2
             }
            },
            "type": "barpolar"
           }
          ],
          "carpet": [
           {
            "aaxis": {
             "endlinecolor": "#2a3f5f",
             "gridcolor": "white",
             "linecolor": "white",
             "minorgridcolor": "white",
             "startlinecolor": "#2a3f5f"
            },
            "baxis": {
             "endlinecolor": "#2a3f5f",
             "gridcolor": "white",
             "linecolor": "white",
             "minorgridcolor": "white",
             "startlinecolor": "#2a3f5f"
            },
            "type": "carpet"
           }
          ],
          "choropleth": [
           {
            "colorbar": {
             "outlinewidth": 0,
             "ticks": ""
            },
            "type": "choropleth"
           }
          ],
          "contour": [
           {
            "colorbar": {
             "outlinewidth": 0,
             "ticks": ""
            },
            "colorscale": [
             [
              0,
              "#0d0887"
             ],
             [
              0.1111111111111111,
              "#46039f"
             ],
             [
              0.2222222222222222,
              "#7201a8"
             ],
             [
              0.3333333333333333,
              "#9c179e"
             ],
             [
              0.4444444444444444,
              "#bd3786"
             ],
             [
              0.5555555555555556,
              "#d8576b"
             ],
             [
              0.6666666666666666,
              "#ed7953"
             ],
             [
              0.7777777777777778,
              "#fb9f3a"
             ],
             [
              0.8888888888888888,
              "#fdca26"
             ],
             [
              1,
              "#f0f921"
             ]
            ],
            "type": "contour"
           }
          ],
          "contourcarpet": [
           {
            "colorbar": {
             "outlinewidth": 0,
             "ticks": ""
            },
            "type": "contourcarpet"
           }
          ],
          "heatmap": [
           {
            "colorbar": {
             "outlinewidth": 0,
             "ticks": ""
            },
            "colorscale": [
             [
              0,
              "#0d0887"
             ],
             [
              0.1111111111111111,
              "#46039f"
             ],
             [
              0.2222222222222222,
              "#7201a8"
             ],
             [
              0.3333333333333333,
              "#9c179e"
             ],
             [
              0.4444444444444444,
              "#bd3786"
             ],
             [
              0.5555555555555556,
              "#d8576b"
             ],
             [
              0.6666666666666666,
              "#ed7953"
             ],
             [
              0.7777777777777778,
              "#fb9f3a"
             ],
             [
              0.8888888888888888,
              "#fdca26"
             ],
             [
              1,
              "#f0f921"
             ]
            ],
            "type": "heatmap"
           }
          ],
          "heatmapgl": [
           {
            "colorbar": {
             "outlinewidth": 0,
             "ticks": ""
            },
            "colorscale": [
             [
              0,
              "#0d0887"
             ],
             [
              0.1111111111111111,
              "#46039f"
             ],
             [
              0.2222222222222222,
              "#7201a8"
             ],
             [
              0.3333333333333333,
              "#9c179e"
             ],
             [
              0.4444444444444444,
              "#bd3786"
             ],
             [
              0.5555555555555556,
              "#d8576b"
             ],
             [
              0.6666666666666666,
              "#ed7953"
             ],
             [
              0.7777777777777778,
              "#fb9f3a"
             ],
             [
              0.8888888888888888,
              "#fdca26"
             ],
             [
              1,
              "#f0f921"
             ]
            ],
            "type": "heatmapgl"
           }
          ],
          "histogram": [
           {
            "marker": {
             "pattern": {
              "fillmode": "overlay",
              "size": 10,
              "solidity": 0.2
             }
            },
            "type": "histogram"
           }
          ],
          "histogram2d": [
           {
            "colorbar": {
             "outlinewidth": 0,
             "ticks": ""
            },
            "colorscale": [
             [
              0,
              "#0d0887"
             ],
             [
              0.1111111111111111,
              "#46039f"
             ],
             [
              0.2222222222222222,
              "#7201a8"
             ],
             [
              0.3333333333333333,
              "#9c179e"
             ],
             [
              0.4444444444444444,
              "#bd3786"
             ],
             [
              0.5555555555555556,
              "#d8576b"
             ],
             [
              0.6666666666666666,
              "#ed7953"
             ],
             [
              0.7777777777777778,
              "#fb9f3a"
             ],
             [
              0.8888888888888888,
              "#fdca26"
             ],
             [
              1,
              "#f0f921"
             ]
            ],
            "type": "histogram2d"
           }
          ],
          "histogram2dcontour": [
           {
            "colorbar": {
             "outlinewidth": 0,
             "ticks": ""
            },
            "colorscale": [
             [
              0,
              "#0d0887"
             ],
             [
              0.1111111111111111,
              "#46039f"
             ],
             [
              0.2222222222222222,
              "#7201a8"
             ],
             [
              0.3333333333333333,
              "#9c179e"
             ],
             [
              0.4444444444444444,
              "#bd3786"
             ],
             [
              0.5555555555555556,
              "#d8576b"
             ],
             [
              0.6666666666666666,
              "#ed7953"
             ],
             [
              0.7777777777777778,
              "#fb9f3a"
             ],
             [
              0.8888888888888888,
              "#fdca26"
             ],
             [
              1,
              "#f0f921"
             ]
            ],
            "type": "histogram2dcontour"
           }
          ],
          "mesh3d": [
           {
            "colorbar": {
             "outlinewidth": 0,
             "ticks": ""
            },
            "type": "mesh3d"
           }
          ],
          "parcoords": [
           {
            "line": {
             "colorbar": {
              "outlinewidth": 0,
              "ticks": ""
             }
            },
            "type": "parcoords"
           }
          ],
          "pie": [
           {
            "automargin": true,
            "type": "pie"
           }
          ],
          "scatter": [
           {
            "fillpattern": {
             "fillmode": "overlay",
             "size": 10,
             "solidity": 0.2
            },
            "type": "scatter"
           }
          ],
          "scatter3d": [
           {
            "line": {
             "colorbar": {
              "outlinewidth": 0,
              "ticks": ""
             }
            },
            "marker": {
             "colorbar": {
              "outlinewidth": 0,
              "ticks": ""
             }
            },
            "type": "scatter3d"
           }
          ],
          "scattercarpet": [
           {
            "marker": {
             "colorbar": {
              "outlinewidth": 0,
              "ticks": ""
             }
            },
            "type": "scattercarpet"
           }
          ],
          "scattergeo": [
           {
            "marker": {
             "colorbar": {
              "outlinewidth": 0,
              "ticks": ""
             }
            },
            "type": "scattergeo"
           }
          ],
          "scattergl": [
           {
            "marker": {
             "colorbar": {
              "outlinewidth": 0,
              "ticks": ""
             }
            },
            "type": "scattergl"
           }
          ],
          "scattermapbox": [
           {
            "marker": {
             "colorbar": {
              "outlinewidth": 0,
              "ticks": ""
             }
            },
            "type": "scattermapbox"
           }
          ],
          "scatterpolar": [
           {
            "marker": {
             "colorbar": {
              "outlinewidth": 0,
              "ticks": ""
             }
            },
            "type": "scatterpolar"
           }
          ],
          "scatterpolargl": [
           {
            "marker": {
             "colorbar": {
              "outlinewidth": 0,
              "ticks": ""
             }
            },
            "type": "scatterpolargl"
           }
          ],
          "scatterternary": [
           {
            "marker": {
             "colorbar": {
              "outlinewidth": 0,
              "ticks": ""
             }
            },
            "type": "scatterternary"
           }
          ],
          "surface": [
           {
            "colorbar": {
             "outlinewidth": 0,
             "ticks": ""
            },
            "colorscale": [
             [
              0,
              "#0d0887"
             ],
             [
              0.1111111111111111,
              "#46039f"
             ],
             [
              0.2222222222222222,
              "#7201a8"
             ],
             [
              0.3333333333333333,
              "#9c179e"
             ],
             [
              0.4444444444444444,
              "#bd3786"
             ],
             [
              0.5555555555555556,
              "#d8576b"
             ],
             [
              0.6666666666666666,
              "#ed7953"
             ],
             [
              0.7777777777777778,
              "#fb9f3a"
             ],
             [
              0.8888888888888888,
              "#fdca26"
             ],
             [
              1,
              "#f0f921"
             ]
            ],
            "type": "surface"
           }
          ],
          "table": [
           {
            "cells": {
             "fill": {
              "color": "#EBF0F8"
             },
             "line": {
              "color": "white"
             }
            },
            "header": {
             "fill": {
              "color": "#C8D4E3"
             },
             "line": {
              "color": "white"
             }
            },
            "type": "table"
           }
          ]
         },
         "layout": {
          "annotationdefaults": {
           "arrowcolor": "#2a3f5f",
           "arrowhead": 0,
           "arrowwidth": 1
          },
          "autotypenumbers": "strict",
          "coloraxis": {
           "colorbar": {
            "outlinewidth": 0,
            "ticks": ""
           }
          },
          "colorscale": {
           "diverging": [
            [
             0,
             "#8e0152"
            ],
            [
             0.1,
             "#c51b7d"
            ],
            [
             0.2,
             "#de77ae"
            ],
            [
             0.3,
             "#f1b6da"
            ],
            [
             0.4,
             "#fde0ef"
            ],
            [
             0.5,
             "#f7f7f7"
            ],
            [
             0.6,
             "#e6f5d0"
            ],
            [
             0.7,
             "#b8e186"
            ],
            [
             0.8,
             "#7fbc41"
            ],
            [
             0.9,
             "#4d9221"
            ],
            [
             1,
             "#276419"
            ]
           ],
           "sequential": [
            [
             0,
             "#0d0887"
            ],
            [
             0.1111111111111111,
             "#46039f"
            ],
            [
             0.2222222222222222,
             "#7201a8"
            ],
            [
             0.3333333333333333,
             "#9c179e"
            ],
            [
             0.4444444444444444,
             "#bd3786"
            ],
            [
             0.5555555555555556,
             "#d8576b"
            ],
            [
             0.6666666666666666,
             "#ed7953"
            ],
            [
             0.7777777777777778,
             "#fb9f3a"
            ],
            [
             0.8888888888888888,
             "#fdca26"
            ],
            [
             1,
             "#f0f921"
            ]
           ],
           "sequentialminus": [
            [
             0,
             "#0d0887"
            ],
            [
             0.1111111111111111,
             "#46039f"
            ],
            [
             0.2222222222222222,
             "#7201a8"
            ],
            [
             0.3333333333333333,
             "#9c179e"
            ],
            [
             0.4444444444444444,
             "#bd3786"
            ],
            [
             0.5555555555555556,
             "#d8576b"
            ],
            [
             0.6666666666666666,
             "#ed7953"
            ],
            [
             0.7777777777777778,
             "#fb9f3a"
            ],
            [
             0.8888888888888888,
             "#fdca26"
            ],
            [
             1,
             "#f0f921"
            ]
           ]
          },
          "colorway": [
           "#636efa",
           "#EF553B",
           "#00cc96",
           "#ab63fa",
           "#FFA15A",
           "#19d3f3",
           "#FF6692",
           "#B6E880",
           "#FF97FF",
           "#FECB52"
          ],
          "font": {
           "color": "#2a3f5f"
          },
          "geo": {
           "bgcolor": "white",
           "lakecolor": "white",
           "landcolor": "#E5ECF6",
           "showlakes": true,
           "showland": true,
           "subunitcolor": "white"
          },
          "hoverlabel": {
           "align": "left"
          },
          "hovermode": "closest",
          "mapbox": {
           "style": "light"
          },
          "paper_bgcolor": "white",
          "plot_bgcolor": "#E5ECF6",
          "polar": {
           "angularaxis": {
            "gridcolor": "white",
            "linecolor": "white",
            "ticks": ""
           },
           "bgcolor": "#E5ECF6",
           "radialaxis": {
            "gridcolor": "white",
            "linecolor": "white",
            "ticks": ""
           }
          },
          "scene": {
           "xaxis": {
            "backgroundcolor": "#E5ECF6",
            "gridcolor": "white",
            "gridwidth": 2,
            "linecolor": "white",
            "showbackground": true,
            "ticks": "",
            "zerolinecolor": "white"
           },
           "yaxis": {
            "backgroundcolor": "#E5ECF6",
            "gridcolor": "white",
            "gridwidth": 2,
            "linecolor": "white",
            "showbackground": true,
            "ticks": "",
            "zerolinecolor": "white"
           },
           "zaxis": {
            "backgroundcolor": "#E5ECF6",
            "gridcolor": "white",
            "gridwidth": 2,
            "linecolor": "white",
            "showbackground": true,
            "ticks": "",
            "zerolinecolor": "white"
           }
          },
          "shapedefaults": {
           "line": {
            "color": "#2a3f5f"
           }
          },
          "ternary": {
           "aaxis": {
            "gridcolor": "white",
            "linecolor": "white",
            "ticks": ""
           },
           "baxis": {
            "gridcolor": "white",
            "linecolor": "white",
            "ticks": ""
           },
           "bgcolor": "#E5ECF6",
           "caxis": {
            "gridcolor": "white",
            "linecolor": "white",
            "ticks": ""
           }
          },
          "title": {
           "x": 0.05
          },
          "xaxis": {
           "automargin": true,
           "gridcolor": "white",
           "linecolor": "white",
           "ticks": "",
           "title": {
            "standoff": 15
           },
           "zerolinecolor": "white",
           "zerolinewidth": 2
          },
          "yaxis": {
           "automargin": true,
           "gridcolor": "white",
           "linecolor": "white",
           "ticks": "",
           "title": {
            "standoff": 15
           },
           "zerolinecolor": "white",
           "zerolinewidth": 2
          }
         }
        },
        "title": {
         "text": "Evaluation Metrics Comparison Conditie"
        },
        "xaxis": {
         "title": {
          "text": "Models"
         }
        },
        "yaxis": {
         "title": {
          "text": "Scores"
         }
        }
       }
      }
     },
     "metadata": {},
     "output_type": "display_data"
    }
   ],
   "source": [
    "# Extracting model names and metric scores\n",
    "model_names = [d['model'] for d in regression_stats_val]\n",
    "metric_labels = list(regression_stats_val[0].keys())[1:]\n",
    "metric_scores = {metric: [d[metric] for d in regression_stats_val] for metric in metric_labels}\n",
    "\n",
    "# Plotting the bar chart\n",
    "fig = go.Figure()\n",
    "\n",
    "for metric in metric_labels:\n",
    "    fig.add_trace(go.Bar(\n",
    "        x=model_names,\n",
    "        y=metric_scores[metric],\n",
    "        name=metric\n",
    "    ))\n",
    "\n",
    "# Updating the layout\n",
    "fig.update_layout(\n",
    "    title='Evaluation Metrics Comparison Conditie',\n",
    "    xaxis_title='Models',\n",
    "    yaxis_title='Scores',\n",
    "    barmode='group'\n",
    ")\n",
    "\n",
    "# Display the plot\n",
    "fig.show()"
   ]
  },
  {
   "attachments": {},
   "cell_type": "markdown",
   "metadata": {},
   "source": [
    "**Evaluating on test data**"
   ]
  },
  {
   "cell_type": "code",
   "execution_count": 14,
   "metadata": {},
   "outputs": [
    {
     "data": {
      "text/plain": [
       "[{'model': 'Multiple Linear Regression',\n",
       "  'mae': 0.093769038068442,\n",
       "  'mse': 0.018923917178484576,\n",
       "  'rmse': 0.13756422928394058,\n",
       "  'r2': -0.021818228880130075,\n",
       "  'adj_r2': -0.4214119496712423},\n",
       " {'model': 'Random Forest',\n",
       "  'mae': 0.09349362222114112,\n",
       "  'mse': 0.01890203479608603,\n",
       "  'rmse': 0.13748467113131568,\n",
       "  'r2': -0.020636664988507025,\n",
       "  'adj_r2': -0.41976832168792333},\n",
       " {'model': 'Neural Network',\n",
       "  'mae': 0.09273273712628642,\n",
       "  'mse': 0.018416571876215072,\n",
       "  'rmse': 0.13570767066092865,\n",
       "  'r2': 0.005576452321766401,\n",
       "  'adj_r2': -0.3833042646473752},\n",
       " {'model': 'Support Vector Machine',\n",
       "  'mae': 0.09170750747861986,\n",
       "  'mse': 0.01829977159101541,\n",
       "  'rmse': 0.13527664835815312,\n",
       "  'r2': 0.011883215315376727,\n",
       "  'adj_r2': -0.3745311697568223}]"
      ]
     },
     "execution_count": 14,
     "metadata": {},
     "output_type": "execute_result"
    }
   ],
   "source": [
    "regression_models = [\n",
    "    {\n",
    "        'name': 'Multiple Linear Regression',\n",
    "        'model': best_model_mlr,\n",
    "        'features': best_features_mlr\n",
    "    },\n",
    "    {\n",
    "        'name': 'Random Forest',\n",
    "        'model': best_model_rf,\n",
    "        'features': best_features_rf\n",
    "    },\n",
    "    {\n",
    "        'name': 'Neural Network',\n",
    "        'model': best_model_nn,\n",
    "        'features': best_features_nn\n",
    "    },\n",
    "    {\n",
    "        'name': 'Support Vector Machine',\n",
    "        'model': best_model_svm,\n",
    "        'features': best_features_svm\n",
    "    }\n",
    "]\n",
    "\n",
    "regression_stats_test = []\n",
    "\n",
    "for model in regression_models:\n",
    "    # Make predictions on the test set\n",
    "    y_pred = model['model'].predict(X_test[model['features']])\n",
    "\n",
    "    # Defining Actual values\n",
    "    y_true = y_test.copy()\n",
    "\n",
    "    # R2 Score\n",
    "    r2 = r2_score(y_true, y_pred)\n",
    "\n",
    "    # Adjusted R2 Score\n",
    "    n = len(y_true)  # Number of samples\n",
    "    p = X_test.shape[1]  # Number of predictors (features) in X\n",
    "    adj_r2 = 1 - ((1 - r2) * (n - 1)) / (n - p - 1)\n",
    "\n",
    "    # Save stats\n",
    "    regression_stats_test.append(\n",
    "        {\n",
    "            'model': model['name'],\n",
    "            'mae': mean_absolute_error(y_true, y_pred),\n",
    "            'mse': mean_squared_error(y_true, y_pred),\n",
    "            'rmse': np.sqrt(mean_squared_error(y_true, y_pred)),\n",
    "            'r2': r2,\n",
    "            'adj_r2': adj_r2\n",
    "        }\n",
    "    )\n",
    "\n",
    "# View stats\n",
    "regression_stats_test"
   ]
  },
  {
   "cell_type": "code",
   "execution_count": 18,
   "metadata": {},
   "outputs": [
    {
     "data": {
      "application/vnd.plotly.v1+json": {
       "config": {
        "plotlyServerURL": "https://plot.ly"
       },
       "data": [
        {
         "name": "mae",
         "text": [
          "0.093769038068442",
          "0.09349362222114112",
          "0.09273273712628642",
          "0.09170750747861986"
         ],
         "textposition": "auto",
         "type": "bar",
         "x": [
          "Multiple Linear Regression",
          "Random Forest",
          "Neural Network",
          "Support Vector Machine"
         ],
         "y": [
          0.093769038068442,
          0.09349362222114112,
          0.09273273712628642,
          0.09170750747861986
         ]
        },
        {
         "name": "mse",
         "text": [
          "0.018923917178484576",
          "0.01890203479608603",
          "0.018416571876215072",
          "0.01829977159101541"
         ],
         "textposition": "auto",
         "type": "bar",
         "x": [
          "Multiple Linear Regression",
          "Random Forest",
          "Neural Network",
          "Support Vector Machine"
         ],
         "y": [
          0.018923917178484576,
          0.01890203479608603,
          0.018416571876215072,
          0.01829977159101541
         ]
        },
        {
         "name": "rmse",
         "text": [
          "0.13756422928394058",
          "0.13748467113131568",
          "0.13570767066092865",
          "0.13527664835815312"
         ],
         "textposition": "auto",
         "type": "bar",
         "x": [
          "Multiple Linear Regression",
          "Random Forest",
          "Neural Network",
          "Support Vector Machine"
         ],
         "y": [
          0.13756422928394058,
          0.13748467113131568,
          0.13570767066092865,
          0.13527664835815312
         ]
        },
        {
         "name": "r2",
         "text": [
          "-0.021818228880130075",
          "-0.020636664988507025",
          "0.005576452321766401",
          "0.011883215315376727"
         ],
         "textposition": "auto",
         "type": "bar",
         "x": [
          "Multiple Linear Regression",
          "Random Forest",
          "Neural Network",
          "Support Vector Machine"
         ],
         "y": [
          -0.021818228880130075,
          -0.020636664988507025,
          0.005576452321766401,
          0.011883215315376727
         ]
        },
        {
         "name": "adj_r2",
         "text": [
          "-0.4214119496712423",
          "-0.41976832168792333",
          "-0.3833042646473752",
          "-0.3745311697568223"
         ],
         "textposition": "auto",
         "type": "bar",
         "x": [
          "Multiple Linear Regression",
          "Random Forest",
          "Neural Network",
          "Support Vector Machine"
         ],
         "y": [
          -0.4214119496712423,
          -0.41976832168792333,
          -0.3833042646473752,
          -0.3745311697568223
         ]
        }
       ],
       "layout": {
        "barmode": "group",
        "template": {
         "data": {
          "bar": [
           {
            "error_x": {
             "color": "#2a3f5f"
            },
            "error_y": {
             "color": "#2a3f5f"
            },
            "marker": {
             "line": {
              "color": "#E5ECF6",
              "width": 0.5
             },
             "pattern": {
              "fillmode": "overlay",
              "size": 10,
              "solidity": 0.2
             }
            },
            "type": "bar"
           }
          ],
          "barpolar": [
           {
            "marker": {
             "line": {
              "color": "#E5ECF6",
              "width": 0.5
             },
             "pattern": {
              "fillmode": "overlay",
              "size": 10,
              "solidity": 0.2
             }
            },
            "type": "barpolar"
           }
          ],
          "carpet": [
           {
            "aaxis": {
             "endlinecolor": "#2a3f5f",
             "gridcolor": "white",
             "linecolor": "white",
             "minorgridcolor": "white",
             "startlinecolor": "#2a3f5f"
            },
            "baxis": {
             "endlinecolor": "#2a3f5f",
             "gridcolor": "white",
             "linecolor": "white",
             "minorgridcolor": "white",
             "startlinecolor": "#2a3f5f"
            },
            "type": "carpet"
           }
          ],
          "choropleth": [
           {
            "colorbar": {
             "outlinewidth": 0,
             "ticks": ""
            },
            "type": "choropleth"
           }
          ],
          "contour": [
           {
            "colorbar": {
             "outlinewidth": 0,
             "ticks": ""
            },
            "colorscale": [
             [
              0,
              "#0d0887"
             ],
             [
              0.1111111111111111,
              "#46039f"
             ],
             [
              0.2222222222222222,
              "#7201a8"
             ],
             [
              0.3333333333333333,
              "#9c179e"
             ],
             [
              0.4444444444444444,
              "#bd3786"
             ],
             [
              0.5555555555555556,
              "#d8576b"
             ],
             [
              0.6666666666666666,
              "#ed7953"
             ],
             [
              0.7777777777777778,
              "#fb9f3a"
             ],
             [
              0.8888888888888888,
              "#fdca26"
             ],
             [
              1,
              "#f0f921"
             ]
            ],
            "type": "contour"
           }
          ],
          "contourcarpet": [
           {
            "colorbar": {
             "outlinewidth": 0,
             "ticks": ""
            },
            "type": "contourcarpet"
           }
          ],
          "heatmap": [
           {
            "colorbar": {
             "outlinewidth": 0,
             "ticks": ""
            },
            "colorscale": [
             [
              0,
              "#0d0887"
             ],
             [
              0.1111111111111111,
              "#46039f"
             ],
             [
              0.2222222222222222,
              "#7201a8"
             ],
             [
              0.3333333333333333,
              "#9c179e"
             ],
             [
              0.4444444444444444,
              "#bd3786"
             ],
             [
              0.5555555555555556,
              "#d8576b"
             ],
             [
              0.6666666666666666,
              "#ed7953"
             ],
             [
              0.7777777777777778,
              "#fb9f3a"
             ],
             [
              0.8888888888888888,
              "#fdca26"
             ],
             [
              1,
              "#f0f921"
             ]
            ],
            "type": "heatmap"
           }
          ],
          "heatmapgl": [
           {
            "colorbar": {
             "outlinewidth": 0,
             "ticks": ""
            },
            "colorscale": [
             [
              0,
              "#0d0887"
             ],
             [
              0.1111111111111111,
              "#46039f"
             ],
             [
              0.2222222222222222,
              "#7201a8"
             ],
             [
              0.3333333333333333,
              "#9c179e"
             ],
             [
              0.4444444444444444,
              "#bd3786"
             ],
             [
              0.5555555555555556,
              "#d8576b"
             ],
             [
              0.6666666666666666,
              "#ed7953"
             ],
             [
              0.7777777777777778,
              "#fb9f3a"
             ],
             [
              0.8888888888888888,
              "#fdca26"
             ],
             [
              1,
              "#f0f921"
             ]
            ],
            "type": "heatmapgl"
           }
          ],
          "histogram": [
           {
            "marker": {
             "pattern": {
              "fillmode": "overlay",
              "size": 10,
              "solidity": 0.2
             }
            },
            "type": "histogram"
           }
          ],
          "histogram2d": [
           {
            "colorbar": {
             "outlinewidth": 0,
             "ticks": ""
            },
            "colorscale": [
             [
              0,
              "#0d0887"
             ],
             [
              0.1111111111111111,
              "#46039f"
             ],
             [
              0.2222222222222222,
              "#7201a8"
             ],
             [
              0.3333333333333333,
              "#9c179e"
             ],
             [
              0.4444444444444444,
              "#bd3786"
             ],
             [
              0.5555555555555556,
              "#d8576b"
             ],
             [
              0.6666666666666666,
              "#ed7953"
             ],
             [
              0.7777777777777778,
              "#fb9f3a"
             ],
             [
              0.8888888888888888,
              "#fdca26"
             ],
             [
              1,
              "#f0f921"
             ]
            ],
            "type": "histogram2d"
           }
          ],
          "histogram2dcontour": [
           {
            "colorbar": {
             "outlinewidth": 0,
             "ticks": ""
            },
            "colorscale": [
             [
              0,
              "#0d0887"
             ],
             [
              0.1111111111111111,
              "#46039f"
             ],
             [
              0.2222222222222222,
              "#7201a8"
             ],
             [
              0.3333333333333333,
              "#9c179e"
             ],
             [
              0.4444444444444444,
              "#bd3786"
             ],
             [
              0.5555555555555556,
              "#d8576b"
             ],
             [
              0.6666666666666666,
              "#ed7953"
             ],
             [
              0.7777777777777778,
              "#fb9f3a"
             ],
             [
              0.8888888888888888,
              "#fdca26"
             ],
             [
              1,
              "#f0f921"
             ]
            ],
            "type": "histogram2dcontour"
           }
          ],
          "mesh3d": [
           {
            "colorbar": {
             "outlinewidth": 0,
             "ticks": ""
            },
            "type": "mesh3d"
           }
          ],
          "parcoords": [
           {
            "line": {
             "colorbar": {
              "outlinewidth": 0,
              "ticks": ""
             }
            },
            "type": "parcoords"
           }
          ],
          "pie": [
           {
            "automargin": true,
            "type": "pie"
           }
          ],
          "scatter": [
           {
            "fillpattern": {
             "fillmode": "overlay",
             "size": 10,
             "solidity": 0.2
            },
            "type": "scatter"
           }
          ],
          "scatter3d": [
           {
            "line": {
             "colorbar": {
              "outlinewidth": 0,
              "ticks": ""
             }
            },
            "marker": {
             "colorbar": {
              "outlinewidth": 0,
              "ticks": ""
             }
            },
            "type": "scatter3d"
           }
          ],
          "scattercarpet": [
           {
            "marker": {
             "colorbar": {
              "outlinewidth": 0,
              "ticks": ""
             }
            },
            "type": "scattercarpet"
           }
          ],
          "scattergeo": [
           {
            "marker": {
             "colorbar": {
              "outlinewidth": 0,
              "ticks": ""
             }
            },
            "type": "scattergeo"
           }
          ],
          "scattergl": [
           {
            "marker": {
             "colorbar": {
              "outlinewidth": 0,
              "ticks": ""
             }
            },
            "type": "scattergl"
           }
          ],
          "scattermapbox": [
           {
            "marker": {
             "colorbar": {
              "outlinewidth": 0,
              "ticks": ""
             }
            },
            "type": "scattermapbox"
           }
          ],
          "scatterpolar": [
           {
            "marker": {
             "colorbar": {
              "outlinewidth": 0,
              "ticks": ""
             }
            },
            "type": "scatterpolar"
           }
          ],
          "scatterpolargl": [
           {
            "marker": {
             "colorbar": {
              "outlinewidth": 0,
              "ticks": ""
             }
            },
            "type": "scatterpolargl"
           }
          ],
          "scatterternary": [
           {
            "marker": {
             "colorbar": {
              "outlinewidth": 0,
              "ticks": ""
             }
            },
            "type": "scatterternary"
           }
          ],
          "surface": [
           {
            "colorbar": {
             "outlinewidth": 0,
             "ticks": ""
            },
            "colorscale": [
             [
              0,
              "#0d0887"
             ],
             [
              0.1111111111111111,
              "#46039f"
             ],
             [
              0.2222222222222222,
              "#7201a8"
             ],
             [
              0.3333333333333333,
              "#9c179e"
             ],
             [
              0.4444444444444444,
              "#bd3786"
             ],
             [
              0.5555555555555556,
              "#d8576b"
             ],
             [
              0.6666666666666666,
              "#ed7953"
             ],
             [
              0.7777777777777778,
              "#fb9f3a"
             ],
             [
              0.8888888888888888,
              "#fdca26"
             ],
             [
              1,
              "#f0f921"
             ]
            ],
            "type": "surface"
           }
          ],
          "table": [
           {
            "cells": {
             "fill": {
              "color": "#EBF0F8"
             },
             "line": {
              "color": "white"
             }
            },
            "header": {
             "fill": {
              "color": "#C8D4E3"
             },
             "line": {
              "color": "white"
             }
            },
            "type": "table"
           }
          ]
         },
         "layout": {
          "annotationdefaults": {
           "arrowcolor": "#2a3f5f",
           "arrowhead": 0,
           "arrowwidth": 1
          },
          "autotypenumbers": "strict",
          "coloraxis": {
           "colorbar": {
            "outlinewidth": 0,
            "ticks": ""
           }
          },
          "colorscale": {
           "diverging": [
            [
             0,
             "#8e0152"
            ],
            [
             0.1,
             "#c51b7d"
            ],
            [
             0.2,
             "#de77ae"
            ],
            [
             0.3,
             "#f1b6da"
            ],
            [
             0.4,
             "#fde0ef"
            ],
            [
             0.5,
             "#f7f7f7"
            ],
            [
             0.6,
             "#e6f5d0"
            ],
            [
             0.7,
             "#b8e186"
            ],
            [
             0.8,
             "#7fbc41"
            ],
            [
             0.9,
             "#4d9221"
            ],
            [
             1,
             "#276419"
            ]
           ],
           "sequential": [
            [
             0,
             "#0d0887"
            ],
            [
             0.1111111111111111,
             "#46039f"
            ],
            [
             0.2222222222222222,
             "#7201a8"
            ],
            [
             0.3333333333333333,
             "#9c179e"
            ],
            [
             0.4444444444444444,
             "#bd3786"
            ],
            [
             0.5555555555555556,
             "#d8576b"
            ],
            [
             0.6666666666666666,
             "#ed7953"
            ],
            [
             0.7777777777777778,
             "#fb9f3a"
            ],
            [
             0.8888888888888888,
             "#fdca26"
            ],
            [
             1,
             "#f0f921"
            ]
           ],
           "sequentialminus": [
            [
             0,
             "#0d0887"
            ],
            [
             0.1111111111111111,
             "#46039f"
            ],
            [
             0.2222222222222222,
             "#7201a8"
            ],
            [
             0.3333333333333333,
             "#9c179e"
            ],
            [
             0.4444444444444444,
             "#bd3786"
            ],
            [
             0.5555555555555556,
             "#d8576b"
            ],
            [
             0.6666666666666666,
             "#ed7953"
            ],
            [
             0.7777777777777778,
             "#fb9f3a"
            ],
            [
             0.8888888888888888,
             "#fdca26"
            ],
            [
             1,
             "#f0f921"
            ]
           ]
          },
          "colorway": [
           "#636efa",
           "#EF553B",
           "#00cc96",
           "#ab63fa",
           "#FFA15A",
           "#19d3f3",
           "#FF6692",
           "#B6E880",
           "#FF97FF",
           "#FECB52"
          ],
          "font": {
           "color": "#2a3f5f"
          },
          "geo": {
           "bgcolor": "white",
           "lakecolor": "white",
           "landcolor": "#E5ECF6",
           "showlakes": true,
           "showland": true,
           "subunitcolor": "white"
          },
          "hoverlabel": {
           "align": "left"
          },
          "hovermode": "closest",
          "mapbox": {
           "style": "light"
          },
          "paper_bgcolor": "white",
          "plot_bgcolor": "#E5ECF6",
          "polar": {
           "angularaxis": {
            "gridcolor": "white",
            "linecolor": "white",
            "ticks": ""
           },
           "bgcolor": "#E5ECF6",
           "radialaxis": {
            "gridcolor": "white",
            "linecolor": "white",
            "ticks": ""
           }
          },
          "scene": {
           "xaxis": {
            "backgroundcolor": "#E5ECF6",
            "gridcolor": "white",
            "gridwidth": 2,
            "linecolor": "white",
            "showbackground": true,
            "ticks": "",
            "zerolinecolor": "white"
           },
           "yaxis": {
            "backgroundcolor": "#E5ECF6",
            "gridcolor": "white",
            "gridwidth": 2,
            "linecolor": "white",
            "showbackground": true,
            "ticks": "",
            "zerolinecolor": "white"
           },
           "zaxis": {
            "backgroundcolor": "#E5ECF6",
            "gridcolor": "white",
            "gridwidth": 2,
            "linecolor": "white",
            "showbackground": true,
            "ticks": "",
            "zerolinecolor": "white"
           }
          },
          "shapedefaults": {
           "line": {
            "color": "#2a3f5f"
           }
          },
          "ternary": {
           "aaxis": {
            "gridcolor": "white",
            "linecolor": "white",
            "ticks": ""
           },
           "baxis": {
            "gridcolor": "white",
            "linecolor": "white",
            "ticks": ""
           },
           "bgcolor": "#E5ECF6",
           "caxis": {
            "gridcolor": "white",
            "linecolor": "white",
            "ticks": ""
           }
          },
          "title": {
           "x": 0.05
          },
          "xaxis": {
           "automargin": true,
           "gridcolor": "white",
           "linecolor": "white",
           "ticks": "",
           "title": {
            "standoff": 15
           },
           "zerolinecolor": "white",
           "zerolinewidth": 2
          },
          "yaxis": {
           "automargin": true,
           "gridcolor": "white",
           "linecolor": "white",
           "ticks": "",
           "title": {
            "standoff": 15
           },
           "zerolinecolor": "white",
           "zerolinewidth": 2
          }
         }
        },
        "title": {
         "text": "Evaluation Metrics Comparison Conditie"
        },
        "xaxis": {
         "title": {
          "text": "Models"
         }
        },
        "yaxis": {
         "title": {
          "text": "Scores"
         }
        }
       }
      }
     },
     "metadata": {},
     "output_type": "display_data"
    }
   ],
   "source": [
    "# Extracting model names and metric scores\n",
    "model_names = [d['model'] for d in regression_stats_test]\n",
    "metric_labels = list(regression_stats_test[0].keys())[1:]\n",
    "metric_scores = {metric: [d[metric] for d in regression_stats_test] for metric in metric_labels}\n",
    "\n",
    "# Plotting the bar chart\n",
    "fig = go.Figure()\n",
    "\n",
    "for metric in metric_labels:\n",
    "    fig.add_trace(go.Bar(\n",
    "        x=model_names,\n",
    "        y=metric_scores[metric],\n",
    "        text=metric_scores[metric],  # Display the values on the bars\n",
    "        textposition='auto',  # Position the text inside the bars\n",
    "        name=metric\n",
    "    ))\n",
    "\n",
    "# Updating the layout\n",
    "fig.update_layout(\n",
    "    title='Evaluation Metrics Comparison Conditie',\n",
    "    xaxis_title='Models',\n",
    "    yaxis_title='Scores',\n",
    "    barmode='group'\n",
    ")\n",
    "\n",
    "# Display the plot\n",
    "fig.show()"
   ]
  },
  {
   "attachments": {},
   "cell_type": "markdown",
   "metadata": {},
   "source": [
    "Naive bayes"
   ]
  },
  {
   "cell_type": "code",
   "execution_count": 16,
   "metadata": {},
   "outputs": [
    {
     "name": "stdout",
     "output_type": "stream",
     "text": [
      "Mean Absolute Error: 0.09220708558461792\n",
      "Mean Squared Error: 0.018520778761338827\n",
      "Root Mean Squared Error: 0.13609106789697414\n",
      "R2 Score: -5.031584626036256e-05\n",
      "Adjusted R2 Score: -0.3911314449481498\n"
     ]
    }
   ],
   "source": [
    "# Defining Actual values\n",
    "y_true = y_test.copy()\n",
    "\n",
    "# Defining Predicted values\n",
    "y_pred = np.full_like(y_test, y_train.mean())\n",
    "\n",
    "# Mean absolute error\n",
    "mae = mean_absolute_error(y_test, y_pred)\n",
    "print(\"Mean Absolute Error:\", mae)\n",
    "\n",
    "# Mean Squared Error\n",
    "mse = mean_squared_error(y_true, y_pred)\n",
    "print(\"Mean Squared Error:\", mse)\n",
    "\n",
    "# Root Mean Squared Error\n",
    "rmse = np.sqrt(mse)\n",
    "print(\"Root Mean Squared Error:\", rmse)\n",
    "\n",
    "# R2 Score\n",
    "r2 = r2_score(y_true, y_pred)\n",
    "print(\"R2 Score:\", r2)\n",
    "\n",
    "# Adjusted R2 Score\n",
    "n = len(y_true)  # Number of samples\n",
    "p = X_test.shape[1]  # Number of predictors (features) in X\n",
    "adj_r2 = 1 - ((1 - r2) * (n - 1)) / (n - p - 1)\n",
    "print(\"Adjusted R2 Score:\", adj_r2)"
   ]
  },
  {
   "attachments": {},
   "cell_type": "markdown",
   "metadata": {},
   "source": [
    "Save best model as Pickle"
   ]
  },
  {
   "cell_type": "code",
   "execution_count": 17,
   "metadata": {},
   "outputs": [],
   "source": [
    "import pickle\n",
    "\n",
    "# Save model\n",
    "file_path = 'Saved Models/Conditie.pkl'\n",
    "\n",
    "with open(file_path, 'wb') as file:\n",
    "    pickle.dump(best_model_mlr, file)\n",
    "\n",
    "# Save features\n",
    "with open('Saved Models/best_features_Conditie.txt', 'w') as file:\n",
    "    file.write(f'{best_features_mlr}')"
   ]
  }
 ],
 "metadata": {
  "kernelspec": {
   "display_name": "Python 3",
   "language": "python",
   "name": "python3"
  },
  "language_info": {
   "codemirror_mode": {
    "name": "ipython",
    "version": 3
   },
   "file_extension": ".py",
   "mimetype": "text/x-python",
   "name": "python",
   "nbconvert_exporter": "python",
   "pygments_lexer": "ipython3",
   "version": "3.10.9"
  },
  "orig_nbformat": 4
 },
 "nbformat": 4,
 "nbformat_minor": 2
}
