{
 "cells": [
  {
   "attachments": {},
   "cell_type": "markdown",
   "metadata": {},
   "source": [
    "# General Imports"
   ]
  },
  {
   "attachments": {},
   "cell_type": "markdown",
   "metadata": {},
   "source": [
    "**Importing all libraries**"
   ]
  },
  {
   "cell_type": "code",
   "execution_count": 2,
   "metadata": {},
   "outputs": [],
   "source": [
    "import numpy as np\n",
    "import pandas as pd\n",
    "import warnings\n",
    "\n",
    "import plotly.graph_objects as go\n",
    "from bayes_opt import BayesianOptimization\n",
    "import statsmodels.api as sm\n",
    "\n",
    "from sklearn.model_selection import cross_val_score, train_test_split\n",
    "from sklearn.linear_model import LinearRegression\n",
    "from sklearn.svm import SVR\n",
    "from sklearn.model_selection import cross_val_predict\n",
    "from sklearn.ensemble import RandomForestRegressor\n",
    "from sklearn.neural_network import MLPRegressor\n",
    "from sklearn.metrics import r2_score, mean_squared_error, mean_absolute_error\n",
    "from sklearn.inspection import permutation_importance\n"
   ]
  },
  {
   "attachments": {},
   "cell_type": "markdown",
   "metadata": {},
   "source": [
    "Disable warnings"
   ]
  },
  {
   "cell_type": "code",
   "execution_count": 3,
   "metadata": {},
   "outputs": [],
   "source": [
    "# Disable all warnings\n",
    "warnings.filterwarnings(\"ignore\")\n",
    "\n",
    "# Enable warnings again\n",
    "## warnings.filterwarnings(\"default\")"
   ]
  },
  {
   "attachments": {},
   "cell_type": "markdown",
   "metadata": {},
   "source": [
    "Generate train and test data"
   ]
  },
  {
   "cell_type": "code",
   "execution_count": 4,
   "metadata": {},
   "outputs": [],
   "source": [
    "# Read Data\n",
    "df = pd.read_csv(\"data_finish_prep.csv\")\n",
    "\n",
    "# Select only the usefull part of the df\n",
    "df.drop(columns=['verschil_Lengte',\n",
    "               'verschil_6 MWT', 'verschil_TUG',\n",
    "               'verschil_Gewicht', 'verschil_Conditie',\n",
    "               'verschil_Lenigheid', 'verschil_Knijpkracht'], inplace=True)\n",
    "\n",
    "# Drop NaN values\n",
    "df.dropna(inplace=True)\n",
    "\n",
    "# Define X and y\n",
    "X = df.drop(columns=['verschil_BMI'])\n",
    "y = df['verschil_BMI']\n",
    "\n",
    "# Split data into train & test data\n",
    "X_train, X_test, y_train, y_test = train_test_split(X, y, test_size=0.2, random_state=42)"
   ]
  },
  {
   "cell_type": "code",
   "execution_count": 5,
   "metadata": {},
   "outputs": [],
   "source": [
    "def bo_params_generic(model, params, X_train, y_train):\n",
    "    # Create the model instance with the specified parameters\n",
    "    regressor = model(**params)\n",
    "    \n",
    "    # Assuming you have X_train, y_train defined for regression\n",
    "    scores = cross_val_score(regressor, X_train, y_train, cv=10, scoring='neg_root_mean_squared_error')\n",
    "    return -scores.mean()"
   ]
  },
  {
   "attachments": {},
   "cell_type": "markdown",
   "metadata": {},
   "source": [
    "# MLR"
   ]
  },
  {
   "attachments": {},
   "cell_type": "markdown",
   "metadata": {},
   "source": [
    "**feature selection**"
   ]
  },
  {
   "cell_type": "code",
   "execution_count": 6,
   "metadata": {},
   "outputs": [
    {
     "name": "stdout",
     "output_type": "stream",
     "text": [
      "Best features: ['SterfteRelatief', 'AfstandTotOpenbaarGroenTotaal', 'AfstandTotDagrecreatiefTerrein', 'AfstandTotSauna', 'ErvarenGezondheidGoedZeerGoed']\n",
      "Dropped features: ['GeboorteRelatief', 'NederlandseAntillenEnAruba', 'PercentageOnbewoond', 'AfstandTotOvDagelLevensmiddelen', 'VernielingMisdrijfTegenOpenbareOrde', 'AfstandTotOpenNatNatuurlijkTerrein', 'AfstandTotHuisartsenpost', 'AfstandTotHotelED', 'InBezitOverigeVerhuurders', 'AfstandTotOpenDroogNatTerrein', 'AfstandTotPodiumkunstenTotaal', 'PersonenautoSNaarOppervlakte', 'ZwaarBelasteMantelzorgers', 'Mantelzorger', 'AfstandTotBos', 'AfstandTotHuisartsenpraktijk', 'kPersonenMetLaagsteInkomen', 'VoldoetAanRichtlijnAlcoholgebruik', 'EenOfMeerLangdurigeAandoeningen', 'KLFinancieleDienstenOnroerendGoed', 'AfstandTotVolkstuin', 'AfstandTotMuseum', 'AfstandTotBioscoop', 'AfstandTotTreinstationsTotaal', 'AfstandTotKunstijsbaan', 'AfstandTotSportterrein', 'AfstandTotZonnebank', 'AfstandTotBegraafplaats', 'MatigOvergewicht', 'UrenMantelzorgPerWeek', 'AfstandTotCafeED', 'BouwjaarVanaf2000', 'PersonenautoSOverigeBrandstof', 'AfstandTotPoppodium', 'Ondergewicht', 'AfstandTotVerblijfsrecreatiefTerrein', 'PersonenautoSPerHuishouden', 'AfstandTotKinderdagverblijf', 'TotaalDiefstalUitWoningSchuurED', 'AfstandTotCafetariaED', 'AfstandTotRestaurant', 'InBezitWoningcorporatie', 'AfstandTotOpenNatTerreinTotaal', 'EigendomOnbekend', 'AfstandTotWarenhuis', 'AfstandTotZwembad', 'AfstandTotAttractie', 'VoldoetAanBeweegrichtlijn', 'OvermatigDrinker', 'BeperkingInZien', 'AfstandTotConsultatiebureau', 'AfstandTotBrandweerkazerne', 'GemiddeldeWoningwaarde', 'Rokers', 'OppervlakteWater', 'AfstandTotBuitenschoolseOpvang', 'AfstandTotApotheek', 'AfstandTotSemiOpenbaarGroenTotaal', 'AfstandTotBelangrijkOverstapstation', 'ALandbouwBosbouwEnVisserij', 'BeperkingInHoren', 'AfstandTotBibliotheek', 'AfstandTotSchool', 'ErnstigOvergewichtObesitas', 'GeweldsEnSeksueleMisdrijven']\n"
     ]
    }
   ],
   "source": [
    "# Fit the Full Model\n",
    "X =  sm.add_constant(X_train)  # Add constant term for the intercept\n",
    "model = sm.OLS(y_train, X_train).fit()  # Fit the MLR model\n",
    "best_model = model  # Initialize the best model\n",
    "selected_features = X_train.columns.tolist()\n",
    "best_features = X_train.columns.tolist()\n",
    "best_features_rmse = np.sqrt(-cross_val_score(LinearRegression(), X_train, y_train, cv=10, scoring='neg_mean_squared_error').mean())\n",
    "\n",
    "# Iteratively remove one feature at a time based on p-values\n",
    "while True:\n",
    "    # Compute p-values\n",
    "    p_values = model.pvalues[1:]  # Exclude the constant term\n",
    "\n",
    "    # Identify Insignificant Features\n",
    "    insignificant_feature = p_values.idxmax()\n",
    "    max_p_value = p_values.max()\n",
    "\n",
    "    # Remove Insignificant Feature\n",
    "    X = X.drop(insignificant_feature, axis=1)\n",
    "    selected_features.remove(insignificant_feature)\n",
    "\n",
    "    # When there a no features left\n",
    "    if len(selected_features) == 0:\n",
    "        break\n",
    "    \n",
    "    # Refit the Model\n",
    "    model = sm.OLS(y_train, X).fit()\n",
    "    \n",
    "    # Evaluate Model Performance\n",
    "    rmse = np.sqrt(-cross_val_score(LinearRegression(), X_train[selected_features], y_train, cv=10, scoring='neg_mean_squared_error').mean())\n",
    "\n",
    "    # Check if the model performs better without the insignificant features\n",
    "    if rmse <= best_features_rmse:\n",
    "        best_features_rmse = rmse\n",
    "        best_features = selected_features.copy()\n",
    "        best_model = model\n",
    "\n",
    "# Save results\n",
    "best_model_mlr = LinearRegression().fit(X_train[best_features], y_train)\n",
    "best_features_mlr = best_features\n",
    "\n",
    "# Show results\n",
    "print(\"Best features:\", best_features)\n",
    "print(\"Dropped features:\", list(set(X_train.columns.tolist()) - set(best_features)))"
   ]
  },
  {
   "attachments": {},
   "cell_type": "markdown",
   "metadata": {},
   "source": [
    "*Er zijn geen hyperparameters om te optimaliseren.*"
   ]
  },
  {
   "attachments": {},
   "cell_type": "markdown",
   "metadata": {},
   "source": [
    "# Support Vector Machines"
   ]
  },
  {
   "attachments": {},
   "cell_type": "markdown",
   "metadata": {},
   "source": [
    "**Hyperparameter optimalisatie**"
   ]
  },
  {
   "cell_type": "code",
   "execution_count": 7,
   "metadata": {},
   "outputs": [
    {
     "name": "stdout",
     "output_type": "stream",
     "text": [
      "|   iter    |  target   |     C     |   gamma   | kernel... |\n",
      "-------------------------------------------------------------\n",
      "| \u001b[0m1        \u001b[0m | \u001b[0m-1.464   \u001b[0m | \u001b[0m8.212    \u001b[0m | \u001b[0m0.06187  \u001b[0m | \u001b[0m1.454    \u001b[0m |\n",
      "| \u001b[95m2        \u001b[0m | \u001b[95m-1.462   \u001b[0m | \u001b[95m6.616    \u001b[0m | \u001b[95m0.0192   \u001b[0m | \u001b[95m3.165    \u001b[0m |\n",
      "| \u001b[0m3        \u001b[0m | \u001b[0m-1.464   \u001b[0m | \u001b[0m8.611    \u001b[0m | \u001b[0m0.04692  \u001b[0m | \u001b[0m1.715    \u001b[0m |\n",
      "| \u001b[95m4        \u001b[0m | \u001b[95m-1.459   \u001b[0m | \u001b[95m6.991    \u001b[0m | \u001b[95m0.07612  \u001b[0m | \u001b[95m2.141    \u001b[0m |\n",
      "| \u001b[95m5        \u001b[0m | \u001b[95m-1.456   \u001b[0m | \u001b[95m7.939    \u001b[0m | \u001b[95m0.09745  \u001b[0m | \u001b[95m3.105    \u001b[0m |\n",
      "| \u001b[0m6        \u001b[0m | \u001b[0m-1.46    \u001b[0m | \u001b[0m9.544    \u001b[0m | \u001b[0m0.04993  \u001b[0m | \u001b[0m2.052    \u001b[0m |\n",
      "| \u001b[0m7        \u001b[0m | \u001b[0m-1.462   \u001b[0m | \u001b[0m7.167    \u001b[0m | \u001b[0m0.01756  \u001b[0m | \u001b[0m3.542    \u001b[0m |\n",
      "| \u001b[0m8        \u001b[0m | \u001b[0m-1.459   \u001b[0m | \u001b[0m3.804    \u001b[0m | \u001b[0m0.07632  \u001b[0m | \u001b[0m2.321    \u001b[0m |\n",
      "| \u001b[0m9        \u001b[0m | \u001b[0m-1.464   \u001b[0m | \u001b[0m5.343    \u001b[0m | \u001b[0m0.01422  \u001b[0m | \u001b[0m1.043    \u001b[0m |\n",
      "| \u001b[0m10       \u001b[0m | \u001b[0m-1.46    \u001b[0m | \u001b[0m7.557    \u001b[0m | \u001b[0m0.03421  \u001b[0m | \u001b[0m3.271    \u001b[0m |\n",
      "| \u001b[0m11       \u001b[0m | \u001b[0m-1.457   \u001b[0m | \u001b[0m8.347    \u001b[0m | \u001b[0m0.1      \u001b[0m | \u001b[0m3.167    \u001b[0m |\n",
      "| \u001b[0m12       \u001b[0m | \u001b[0m-1.46    \u001b[0m | \u001b[0m2.726    \u001b[0m | \u001b[0m0.05449  \u001b[0m | \u001b[0m2.42     \u001b[0m |\n",
      "| \u001b[0m13       \u001b[0m | \u001b[0m-1.462   \u001b[0m | \u001b[0m0.3786   \u001b[0m | \u001b[0m0.05792  \u001b[0m | \u001b[0m2.126    \u001b[0m |\n",
      "| \u001b[0m14       \u001b[0m | \u001b[0m-1.459   \u001b[0m | \u001b[0m8.1      \u001b[0m | \u001b[0m0.1      \u001b[0m | \u001b[0m2.706    \u001b[0m |\n",
      "| \u001b[0m15       \u001b[0m | \u001b[0m-1.464   \u001b[0m | \u001b[0m7.169    \u001b[0m | \u001b[0m0.05618  \u001b[0m | \u001b[0m1.686    \u001b[0m |\n",
      "| \u001b[0m16       \u001b[0m | \u001b[0m-1.457   \u001b[0m | \u001b[0m8.144    \u001b[0m | \u001b[0m0.07075  \u001b[0m | \u001b[0m3.562    \u001b[0m |\n",
      "| \u001b[0m17       \u001b[0m | \u001b[0m-1.459   \u001b[0m | \u001b[0m0.5448   \u001b[0m | \u001b[0m0.08909  \u001b[0m | \u001b[0m3.833    \u001b[0m |\n",
      "| \u001b[0m18       \u001b[0m | \u001b[0m-1.463   \u001b[0m | \u001b[0m2.226    \u001b[0m | \u001b[0m0.05033  \u001b[0m | \u001b[0m1.516    \u001b[0m |\n",
      "| \u001b[0m19       \u001b[0m | \u001b[0m-1.457   \u001b[0m | \u001b[0m8.782    \u001b[0m | \u001b[0m0.1      \u001b[0m | \u001b[0m3.692    \u001b[0m |\n",
      "| \u001b[0m20       \u001b[0m | \u001b[0m-1.46    \u001b[0m | \u001b[0m9.318    \u001b[0m | \u001b[0m0.001    \u001b[0m | \u001b[0m3.32     \u001b[0m |\n",
      "| \u001b[0m21       \u001b[0m | \u001b[0m-1.461   \u001b[0m | \u001b[0m6.094    \u001b[0m | \u001b[0m0.03308  \u001b[0m | \u001b[0m3.843    \u001b[0m |\n",
      "| \u001b[0m22       \u001b[0m | \u001b[0m-1.462   \u001b[0m | \u001b[0m8.484    \u001b[0m | \u001b[0m0.01264  \u001b[0m | \u001b[0m3.986    \u001b[0m |\n",
      "| \u001b[0m23       \u001b[0m | \u001b[0m-1.464   \u001b[0m | \u001b[0m8.971    \u001b[0m | \u001b[0m0.08488  \u001b[0m | \u001b[0m1.669    \u001b[0m |\n",
      "| \u001b[0m24       \u001b[0m | \u001b[0m-1.464   \u001b[0m | \u001b[0m9.494    \u001b[0m | \u001b[0m0.07657  \u001b[0m | \u001b[0m1.435    \u001b[0m |\n",
      "| \u001b[0m25       \u001b[0m | \u001b[0m-1.461   \u001b[0m | \u001b[0m1.235    \u001b[0m | \u001b[0m0.04715  \u001b[0m | \u001b[0m2.317    \u001b[0m |\n",
      "| \u001b[95m26       \u001b[0m | \u001b[95m-1.456   \u001b[0m | \u001b[95m8.691    \u001b[0m | \u001b[95m0.09353  \u001b[0m | \u001b[95m3.422    \u001b[0m |\n",
      "| \u001b[0m27       \u001b[0m | \u001b[0m-1.46    \u001b[0m | \u001b[0m3.38     \u001b[0m | \u001b[0m0.04722  \u001b[0m | \u001b[0m3.001    \u001b[0m |\n",
      "| \u001b[0m28       \u001b[0m | \u001b[0m-1.457   \u001b[0m | \u001b[0m5.828    \u001b[0m | \u001b[0m0.0746   \u001b[0m | \u001b[0m3.182    \u001b[0m |\n",
      "| \u001b[0m29       \u001b[0m | \u001b[0m-1.459   \u001b[0m | \u001b[0m2.669    \u001b[0m | \u001b[0m0.0778   \u001b[0m | \u001b[0m2.353    \u001b[0m |\n",
      "| \u001b[0m30       \u001b[0m | \u001b[0m-1.456   \u001b[0m | \u001b[0m5.396    \u001b[0m | \u001b[0m0.1      \u001b[0m | \u001b[0m3.057    \u001b[0m |\n",
      "| \u001b[0m31       \u001b[0m | \u001b[0m-1.464   \u001b[0m | \u001b[0m5.651    \u001b[0m | \u001b[0m0.004332 \u001b[0m | \u001b[0m2.646    \u001b[0m |\n",
      "| \u001b[0m32       \u001b[0m | \u001b[0m-1.464   \u001b[0m | \u001b[0m5.95     \u001b[0m | \u001b[0m0.09353  \u001b[0m | \u001b[0m1.525    \u001b[0m |\n",
      "| \u001b[0m33       \u001b[0m | \u001b[0m-1.457   \u001b[0m | \u001b[0m5.39     \u001b[0m | \u001b[0m0.09537  \u001b[0m | \u001b[0m3.051    \u001b[0m |\n",
      "| \u001b[0m34       \u001b[0m | \u001b[0m-1.464   \u001b[0m | \u001b[0m6.2      \u001b[0m | \u001b[0m0.03327  \u001b[0m | \u001b[0m1.334    \u001b[0m |\n",
      "| \u001b[0m35       \u001b[0m | \u001b[0m-1.464   \u001b[0m | \u001b[0m1.449    \u001b[0m | \u001b[0m0.008947 \u001b[0m | \u001b[0m2.17     \u001b[0m |\n",
      "| \u001b[0m36       \u001b[0m | \u001b[0m-1.456   \u001b[0m | \u001b[0m5.466    \u001b[0m | \u001b[0m0.1      \u001b[0m | \u001b[0m3.381    \u001b[0m |\n",
      "| \u001b[0m37       \u001b[0m | \u001b[0m-1.462   \u001b[0m | \u001b[0m5.558    \u001b[0m | \u001b[0m0.01772  \u001b[0m | \u001b[0m3.169    \u001b[0m |\n",
      "| \u001b[0m38       \u001b[0m | \u001b[0m-1.46    \u001b[0m | \u001b[0m4.321    \u001b[0m | \u001b[0m0.0416   \u001b[0m | \u001b[0m3.137    \u001b[0m |\n",
      "| \u001b[0m39       \u001b[0m | \u001b[0m-1.459   \u001b[0m | \u001b[0m9.372    \u001b[0m | \u001b[0m0.07116  \u001b[0m | \u001b[0m2.876    \u001b[0m |\n",
      "| \u001b[0m40       \u001b[0m | \u001b[0m-1.46    \u001b[0m | \u001b[0m7.404    \u001b[0m | \u001b[0m0.03867  \u001b[0m | \u001b[0m2.605    \u001b[0m |\n",
      "| \u001b[0m41       \u001b[0m | \u001b[0m-1.456   \u001b[0m | \u001b[0m5.318    \u001b[0m | \u001b[0m0.1      \u001b[0m | \u001b[0m3.233    \u001b[0m |\n",
      "| \u001b[95m42       \u001b[0m | \u001b[95m-1.456   \u001b[0m | \u001b[95m8.118    \u001b[0m | \u001b[95m0.08928  \u001b[0m | \u001b[95m3.27     \u001b[0m |\n",
      "| \u001b[0m43       \u001b[0m | \u001b[0m-1.457   \u001b[0m | \u001b[0m8.396    \u001b[0m | \u001b[0m0.0706   \u001b[0m | \u001b[0m3.403    \u001b[0m |\n",
      "| \u001b[0m44       \u001b[0m | \u001b[0m-1.46    \u001b[0m | \u001b[0m8.145    \u001b[0m | \u001b[0m0.03239  \u001b[0m | \u001b[0m3.052    \u001b[0m |\n",
      "| \u001b[0m45       \u001b[0m | \u001b[0m-1.456   \u001b[0m | \u001b[0m7.924    \u001b[0m | \u001b[0m0.1      \u001b[0m | \u001b[0m3.332    \u001b[0m |\n",
      "| \u001b[0m46       \u001b[0m | \u001b[0m-1.464   \u001b[0m | \u001b[0m8.608    \u001b[0m | \u001b[0m0.003555 \u001b[0m | \u001b[0m3.199    \u001b[0m |\n",
      "| \u001b[0m47       \u001b[0m | \u001b[0m-1.457   \u001b[0m | \u001b[0m8.647    \u001b[0m | \u001b[0m0.0627   \u001b[0m | \u001b[0m3.565    \u001b[0m |\n",
      "| \u001b[0m48       \u001b[0m | \u001b[0m-1.457   \u001b[0m | \u001b[0m8.838    \u001b[0m | \u001b[0m0.09872  \u001b[0m | \u001b[0m3.498    \u001b[0m |\n",
      "| \u001b[0m49       \u001b[0m | \u001b[0m-1.456   \u001b[0m | \u001b[0m5.303    \u001b[0m | \u001b[0m0.1      \u001b[0m | \u001b[0m3.475    \u001b[0m |\n",
      "| \u001b[0m50       \u001b[0m | \u001b[0m-1.458   \u001b[0m | \u001b[0m5.477    \u001b[0m | \u001b[0m0.06003  \u001b[0m | \u001b[0m3.58     \u001b[0m |\n",
      "=============================================================\n"
     ]
    },
    {
     "data": {
      "text/html": [
       "<style>#sk-container-id-1 {color: black;background-color: white;}#sk-container-id-1 pre{padding: 0;}#sk-container-id-1 div.sk-toggleable {background-color: white;}#sk-container-id-1 label.sk-toggleable__label {cursor: pointer;display: block;width: 100%;margin-bottom: 0;padding: 0.3em;box-sizing: border-box;text-align: center;}#sk-container-id-1 label.sk-toggleable__label-arrow:before {content: \"▸\";float: left;margin-right: 0.25em;color: #696969;}#sk-container-id-1 label.sk-toggleable__label-arrow:hover:before {color: black;}#sk-container-id-1 div.sk-estimator:hover label.sk-toggleable__label-arrow:before {color: black;}#sk-container-id-1 div.sk-toggleable__content {max-height: 0;max-width: 0;overflow: hidden;text-align: left;background-color: #f0f8ff;}#sk-container-id-1 div.sk-toggleable__content pre {margin: 0.2em;color: black;border-radius: 0.25em;background-color: #f0f8ff;}#sk-container-id-1 input.sk-toggleable__control:checked~div.sk-toggleable__content {max-height: 200px;max-width: 100%;overflow: auto;}#sk-container-id-1 input.sk-toggleable__control:checked~label.sk-toggleable__label-arrow:before {content: \"▾\";}#sk-container-id-1 div.sk-estimator input.sk-toggleable__control:checked~label.sk-toggleable__label {background-color: #d4ebff;}#sk-container-id-1 div.sk-label input.sk-toggleable__control:checked~label.sk-toggleable__label {background-color: #d4ebff;}#sk-container-id-1 input.sk-hidden--visually {border: 0;clip: rect(1px 1px 1px 1px);clip: rect(1px, 1px, 1px, 1px);height: 1px;margin: -1px;overflow: hidden;padding: 0;position: absolute;width: 1px;}#sk-container-id-1 div.sk-estimator {font-family: monospace;background-color: #f0f8ff;border: 1px dotted black;border-radius: 0.25em;box-sizing: border-box;margin-bottom: 0.5em;}#sk-container-id-1 div.sk-estimator:hover {background-color: #d4ebff;}#sk-container-id-1 div.sk-parallel-item::after {content: \"\";width: 100%;border-bottom: 1px solid gray;flex-grow: 1;}#sk-container-id-1 div.sk-label:hover label.sk-toggleable__label {background-color: #d4ebff;}#sk-container-id-1 div.sk-serial::before {content: \"\";position: absolute;border-left: 1px solid gray;box-sizing: border-box;top: 0;bottom: 0;left: 50%;z-index: 0;}#sk-container-id-1 div.sk-serial {display: flex;flex-direction: column;align-items: center;background-color: white;padding-right: 0.2em;padding-left: 0.2em;position: relative;}#sk-container-id-1 div.sk-item {position: relative;z-index: 1;}#sk-container-id-1 div.sk-parallel {display: flex;align-items: stretch;justify-content: center;background-color: white;position: relative;}#sk-container-id-1 div.sk-item::before, #sk-container-id-1 div.sk-parallel-item::before {content: \"\";position: absolute;border-left: 1px solid gray;box-sizing: border-box;top: 0;bottom: 0;left: 50%;z-index: -1;}#sk-container-id-1 div.sk-parallel-item {display: flex;flex-direction: column;z-index: 1;position: relative;background-color: white;}#sk-container-id-1 div.sk-parallel-item:first-child::after {align-self: flex-end;width: 50%;}#sk-container-id-1 div.sk-parallel-item:last-child::after {align-self: flex-start;width: 50%;}#sk-container-id-1 div.sk-parallel-item:only-child::after {width: 0;}#sk-container-id-1 div.sk-dashed-wrapped {border: 1px dashed gray;margin: 0 0.4em 0.5em 0.4em;box-sizing: border-box;padding-bottom: 0.4em;background-color: white;}#sk-container-id-1 div.sk-label label {font-family: monospace;font-weight: bold;display: inline-block;line-height: 1.2em;}#sk-container-id-1 div.sk-label-container {text-align: center;}#sk-container-id-1 div.sk-container {/* jupyter's `normalize.less` sets `[hidden] { display: none; }` but bootstrap.min.css set `[hidden] { display: none !important; }` so we also need the `!important` here to be able to override the default hidden behavior on the sphinx rendered scikit-learn.org. See: https://github.com/scikit-learn/scikit-learn/issues/21755 */display: inline-block !important;position: relative;}#sk-container-id-1 div.sk-text-repr-fallback {display: none;}</style><div id=\"sk-container-id-1\" class=\"sk-top-container\"><div class=\"sk-text-repr-fallback\"><pre>SVR(C=8.11804381800097, gamma=0.0892824287903499, kernel=&#x27;poly&#x27;)</pre><b>In a Jupyter environment, please rerun this cell to show the HTML representation or trust the notebook. <br />On GitHub, the HTML representation is unable to render, please try loading this page with nbviewer.org.</b></div><div class=\"sk-container\" hidden><div class=\"sk-item\"><div class=\"sk-estimator sk-toggleable\"><input class=\"sk-toggleable__control sk-hidden--visually\" id=\"sk-estimator-id-1\" type=\"checkbox\" checked><label for=\"sk-estimator-id-1\" class=\"sk-toggleable__label sk-toggleable__label-arrow\">SVR</label><div class=\"sk-toggleable__content\"><pre>SVR(C=8.11804381800097, gamma=0.0892824287903499, kernel=&#x27;poly&#x27;)</pre></div></div></div></div></div>"
      ],
      "text/plain": [
       "SVR(C=8.11804381800097, gamma=0.0892824287903499, kernel='poly')"
      ]
     },
     "execution_count": 7,
     "metadata": {},
     "output_type": "execute_result"
    }
   ],
   "source": [
    "def bo_params_generic(model, params, X_train, y_train):\n",
    "    # Create the model instance with the specified parameters\n",
    "    classifier = model(**params)\n",
    "    \n",
    "    # Calculating accuracy based on cross-validation\n",
    "    scores = cross_val_score(classifier, X_train, y_train, cv=10, scoring='neg_mean_squared_error')\n",
    "    return scores.mean()\n",
    "\n",
    "params_ranges = {\n",
    "    'C': (0.1, 10),\n",
    "    'kernel_int': (1, 4),\n",
    "    'gamma': (0.001, 0.1)\n",
    "}\n",
    "\n",
    "kernel_mapping = {\n",
    "    1: 'linear',\n",
    "    2: 'rbf',\n",
    "    3: 'poly',\n",
    "    4: 'sigmoid'\n",
    "}\n",
    "\n",
    "# Example usage with SVM\n",
    "model = SVR\n",
    "model_bo = BayesianOptimization(f=lambda C, kernel_int, gamma:\n",
    "                                    bo_params_generic(model, {\n",
    "                                        'C': C,\n",
    "                                        'kernel': kernel_mapping[int(kernel_int)],\n",
    "                                        'gamma': gamma\n",
    "                                    }, X_train, y_train),\n",
    "                             pbounds=params_ranges)\n",
    "\n",
    "results = model_bo.maximize(n_iter=40, init_points=10)\n",
    "params = model_bo.max['params']\n",
    "\n",
    "# Creating a model with the best hyperparameters\n",
    "best_model_svm = model(\n",
    "    C=params['C'],\n",
    "    kernel=kernel_mapping[int(params['kernel_int'])],\n",
    "    gamma=params['gamma']\n",
    ")\n",
    "\n",
    "# Fit the model\n",
    "best_model_svm.fit(X_train, y_train)\n"
   ]
  },
  {
   "attachments": {},
   "cell_type": "markdown",
   "metadata": {},
   "source": [
    "**Feature Selection**"
   ]
  },
  {
   "cell_type": "code",
   "execution_count": 8,
   "metadata": {},
   "outputs": [
    {
     "name": "stdout",
     "output_type": "stream",
     "text": [
      "Scince the kernal is not linear, this feature selection is not possible\n",
      "Best features: Index(['NederlandseAntillenEnAruba', 'GeboorteRelatief', 'SterfteRelatief',\n",
      "       'GemiddeldeWoningwaarde', 'PercentageOnbewoond',\n",
      "       'InBezitWoningcorporatie', 'InBezitOverigeVerhuurders',\n",
      "       'EigendomOnbekend', 'BouwjaarVanaf2000', 'kPersonenMetLaagsteInkomen',\n",
      "       'ALandbouwBosbouwEnVisserij', 'KLFinancieleDienstenOnroerendGoed',\n",
      "       'PersonenautoSOverigeBrandstof', 'PersonenautoSPerHuishouden',\n",
      "       'PersonenautoSNaarOppervlakte', 'AfstandTotHuisartsenpraktijk',\n",
      "       'AfstandTotKinderdagverblijf', 'AfstandTotSchool', 'OppervlakteWater',\n",
      "       'TotaalDiefstalUitWoningSchuurED',\n",
      "       'VernielingMisdrijfTegenOpenbareOrde', 'GeweldsEnSeksueleMisdrijven',\n",
      "       'AfstandTotHuisartsenpost', 'AfstandTotApotheek',\n",
      "       'AfstandTotConsultatiebureau', 'AfstandTotOvDagelLevensmiddelen',\n",
      "       'AfstandTotWarenhuis', 'AfstandTotCafeED', 'AfstandTotCafetariaED',\n",
      "       'AfstandTotRestaurant', 'AfstandTotHotelED',\n",
      "       'AfstandTotBuitenschoolseOpvang', 'AfstandTotOpenbaarGroenTotaal',\n",
      "       'AfstandTotDagrecreatiefTerrein', 'AfstandTotBos',\n",
      "       'AfstandTotOpenNatTerreinTotaal', 'AfstandTotOpenDroogNatTerrein',\n",
      "       'AfstandTotOpenNatNatuurlijkTerrein',\n",
      "       'AfstandTotSemiOpenbaarGroenTotaal', 'AfstandTotSportterrein',\n",
      "       'AfstandTotVolkstuin', 'AfstandTotVerblijfsrecreatiefTerrein',\n",
      "       'AfstandTotBegraafplaats', 'AfstandTotTreinstationsTotaal',\n",
      "       'AfstandTotBelangrijkOverstapstation', 'AfstandTotBibliotheek',\n",
      "       'AfstandTotZwembad', 'AfstandTotKunstijsbaan', 'AfstandTotMuseum',\n",
      "       'AfstandTotPodiumkunstenTotaal', 'AfstandTotPoppodium',\n",
      "       'AfstandTotBioscoop', 'AfstandTotSauna', 'AfstandTotZonnebank',\n",
      "       'AfstandTotAttractie', 'AfstandTotBrandweerkazerne',\n",
      "       'ErvarenGezondheidGoedZeerGoed', 'EenOfMeerLangdurigeAandoeningen',\n",
      "       'BeperkingInHoren', 'BeperkingInZien', 'Ondergewicht',\n",
      "       'MatigOvergewicht', 'ErnstigOvergewichtObesitas',\n",
      "       'VoldoetAanBeweegrichtlijn', 'Mantelzorger',\n",
      "       'ZwaarBelasteMantelzorgers', 'UrenMantelzorgPerWeek', 'Rokers',\n",
      "       'VoldoetAanRichtlijnAlcoholgebruik', 'OvermatigDrinker'],\n",
      "      dtype='object')\n",
      "Dropped features: []\n"
     ]
    }
   ],
   "source": [
    "# Get the accuracy score of the model with all features\n",
    "best_accuracy = cross_val_score(best_model_svm, X_train, y_train, cv=10, scoring='neg_mean_squared_error', n_jobs=-1).mean()\n",
    "best_model = best_model_svm\n",
    "selected_features = X_train.columns\n",
    "best_features = selected_features\n",
    "\n",
    "while len(selected_features) > 1:\n",
    "    try:\n",
    "        # Retrieve the coefficients from the SVM model\n",
    "        coefficients = best_model_svm.coef_[0]\n",
    "\n",
    "        # Sort features based on their coefficient magnitudes\n",
    "        sorted_indices = np.argsort(np.abs(coefficients))\n",
    "        selected_features = [X_train.columns[i] for i in sorted_indices[::-1]]\n",
    "\n",
    "        # Remove the least important feature\n",
    "        selected_features = selected_features[:-1]\n",
    "        \n",
    "        # Refit the linear SVM classifier\n",
    "        best_model_svm_classification.fit(X_train[selected_features], y_train)\n",
    "        \n",
    "        # Evaluate Model Performance\n",
    "        accuracy = cross_val_score(best_model_svm, X_train[selected_features], y_train, cv=10, scoring='neg_mean_squared_error', n_jobs=-1).mean()\n",
    "\n",
    "        # Check if the model performs better without the insignificant features\n",
    "        if accuracy >= best_accuracy:\n",
    "            best_accuracy = accuracy\n",
    "            best_features = selected_features.copy()\n",
    "            best_model = best_model_svm\n",
    "    except:\n",
    "        print(\"Scince the kernal is not linear, this feature selection is not possible\") \n",
    "        break\n",
    "\n",
    "# Save results\n",
    "best_model_svm = best_model\n",
    "best_features_svm = best_features\n",
    "\n",
    "# Show results\n",
    "print(\"Best features:\", best_features_svm)\n",
    "print(\"Dropped features:\", list(set(X_train.columns.tolist()) - set(best_features_svm)))"
   ]
  },
  {
   "attachments": {},
   "cell_type": "markdown",
   "metadata": {},
   "source": [
    "# Random Forest"
   ]
  },
  {
   "attachments": {},
   "cell_type": "markdown",
   "metadata": {},
   "source": [
    "**Feature selection**"
   ]
  },
  {
   "cell_type": "code",
   "execution_count": 9,
   "metadata": {},
   "outputs": [
    {
     "name": "stdout",
     "output_type": "stream",
     "text": [
      "Best features: ['AfstandTotZonnebank']\n",
      "Dropped features: ['GeboorteRelatief', 'NederlandseAntillenEnAruba', 'PercentageOnbewoond', 'AfstandTotOvDagelLevensmiddelen', 'VernielingMisdrijfTegenOpenbareOrde', 'AfstandTotOpenNatNatuurlijkTerrein', 'AfstandTotHuisartsenpost', 'AfstandTotHotelED', 'InBezitOverigeVerhuurders', 'AfstandTotOpenDroogNatTerrein', 'AfstandTotPodiumkunstenTotaal', 'SterfteRelatief', 'PersonenautoSNaarOppervlakte', 'ZwaarBelasteMantelzorgers', 'Mantelzorger', 'AfstandTotBos', 'AfstandTotHuisartsenpraktijk', 'kPersonenMetLaagsteInkomen', 'VoldoetAanRichtlijnAlcoholgebruik', 'EenOfMeerLangdurigeAandoeningen', 'KLFinancieleDienstenOnroerendGoed', 'AfstandTotVolkstuin', 'AfstandTotMuseum', 'AfstandTotBioscoop', 'AfstandTotTreinstationsTotaal', 'AfstandTotKunstijsbaan', 'ErvarenGezondheidGoedZeerGoed', 'AfstandTotSportterrein', 'AfstandTotBegraafplaats', 'MatigOvergewicht', 'UrenMantelzorgPerWeek', 'AfstandTotCafeED', 'BouwjaarVanaf2000', 'PersonenautoSOverigeBrandstof', 'AfstandTotPoppodium', 'Ondergewicht', 'AfstandTotVerblijfsrecreatiefTerrein', 'PersonenautoSPerHuishouden', 'AfstandTotKinderdagverblijf', 'TotaalDiefstalUitWoningSchuurED', 'AfstandTotCafetariaED', 'AfstandTotRestaurant', 'InBezitWoningcorporatie', 'AfstandTotOpenNatTerreinTotaal', 'EigendomOnbekend', 'AfstandTotWarenhuis', 'AfstandTotZwembad', 'AfstandTotAttractie', 'VoldoetAanBeweegrichtlijn', 'OvermatigDrinker', 'BeperkingInZien', 'AfstandTotConsultatiebureau', 'AfstandTotBrandweerkazerne', 'AfstandTotSauna', 'GemiddeldeWoningwaarde', 'AfstandTotDagrecreatiefTerrein', 'Rokers', 'OppervlakteWater', 'AfstandTotBuitenschoolseOpvang', 'AfstandTotApotheek', 'AfstandTotSemiOpenbaarGroenTotaal', 'AfstandTotBelangrijkOverstapstation', 'ALandbouwBosbouwEnVisserij', 'BeperkingInHoren', 'AfstandTotOpenbaarGroenTotaal', 'AfstandTotBibliotheek', 'AfstandTotSchool', 'ErnstigOvergewichtObesitas', 'GeweldsEnSeksueleMisdrijven']\n"
     ]
    }
   ],
   "source": [
    "# Get the accuracy score of the model with all the features\n",
    "rf = RandomForestRegressor(n_estimators=100, random_state=0).fit(X_train, y_train)\n",
    "best_rf = rf\n",
    "selected_features = X_train.columns.tolist()\n",
    "best_features = selected_features\n",
    "best_features_accuracy = cross_val_score(RandomForestRegressor(n_estimators=100, random_state=0), X_train, y_train, cv=10, scoring='neg_mean_squared_error', n_jobs=-1).mean()\n",
    "\n",
    "while True:\n",
    "    # Make DataFrame of feature impotances\n",
    "    result = permutation_importance(\n",
    "            rf, X_train[selected_features], y_train, n_repeats=10, random_state=42, n_jobs=-1\n",
    "        )\n",
    "    df_importances = pd.DataFrame({'feature': X_train[selected_features].columns, 'importance': result.importances_mean, 'std': result.importances_std})\n",
    "    df_importances = df_importances.sort_values('importance')\n",
    "\n",
    "    # Remove least important feature\n",
    "    selected_features.remove(df_importances['feature'].iloc[0])\n",
    "\n",
    "    # When there are no features left\n",
    "    if len(selected_features) == 0:\n",
    "        break\n",
    "    \n",
    "    # Refit the Model\n",
    "    rf = RandomForestRegressor(n_estimators=100, random_state=0).fit(X_train[selected_features], y_train)\n",
    "\n",
    "    # Evaluate Model Performance\n",
    "    accuracy = cross_val_score(RandomForestRegressor(n_estimators=100, random_state=0), X_train[selected_features], y_train, cv=10, scoring='neg_mean_squared_error', n_jobs=-1).mean()\n",
    "\n",
    "    # Check if the model performs better without the insignificant features\n",
    "    if accuracy >= best_features_accuracy:\n",
    "        best_features_accuracy = accuracy\n",
    "        best_features = selected_features.copy()\n",
    "        best_model = rf\n",
    "\n",
    "# Save results\n",
    "best_model_rf = best_model\n",
    "best_features_rf = best_features\n",
    "\n",
    "# Show results\n",
    "print(\"Best features:\", best_features_rf)\n",
    "print(\"Dropped features:\", list(set(X_train.columns.tolist()) - set(best_features_rf)))"
   ]
  },
  {
   "attachments": {},
   "cell_type": "markdown",
   "metadata": {},
   "source": [
    "**Hyperparameter optimalisatie**"
   ]
  },
  {
   "cell_type": "code",
   "execution_count": 10,
   "metadata": {},
   "outputs": [
    {
     "name": "stdout",
     "output_type": "stream",
     "text": [
      "|   iter    |  target   | max_depth | max_fe... | min_sa... | n_esti... |\n",
      "-------------------------------------------------------------------------\n",
      "| \u001b[0m1        \u001b[0m | \u001b[0m-1.431   \u001b[0m | \u001b[0m16.01    \u001b[0m | \u001b[0m0.3792   \u001b[0m | \u001b[0m10.02    \u001b[0m | \u001b[0m631.9    \u001b[0m |\n",
      "| \u001b[95m2        \u001b[0m | \u001b[95m-1.431   \u001b[0m | \u001b[95m19.75    \u001b[0m | \u001b[95m0.9291   \u001b[0m | \u001b[95m5.092    \u001b[0m | \u001b[95m956.0    \u001b[0m |\n",
      "| \u001b[0m3        \u001b[0m | \u001b[0m-1.431   \u001b[0m | \u001b[0m15.49    \u001b[0m | \u001b[0m0.5633   \u001b[0m | \u001b[0m10.19    \u001b[0m | \u001b[0m721.4    \u001b[0m |\n",
      "| \u001b[0m4        \u001b[0m | \u001b[0m-1.431   \u001b[0m | \u001b[0m6.254    \u001b[0m | \u001b[0m0.8138   \u001b[0m | \u001b[0m9.955    \u001b[0m | \u001b[0m193.0    \u001b[0m |\n",
      "| \u001b[0m5        \u001b[0m | \u001b[0m-1.431   \u001b[0m | \u001b[0m7.144    \u001b[0m | \u001b[0m0.3693   \u001b[0m | \u001b[0m11.74    \u001b[0m | \u001b[0m210.8    \u001b[0m |\n",
      "| \u001b[0m6        \u001b[0m | \u001b[0m-1.442   \u001b[0m | \u001b[0m1.867    \u001b[0m | \u001b[0m0.6937   \u001b[0m | \u001b[0m10.03    \u001b[0m | \u001b[0m660.9    \u001b[0m |\n",
      "| \u001b[0m7        \u001b[0m | \u001b[0m-1.431   \u001b[0m | \u001b[0m10.87    \u001b[0m | \u001b[0m0.6695   \u001b[0m | \u001b[0m10.58    \u001b[0m | \u001b[0m201.2    \u001b[0m |\n",
      "| \u001b[0m8        \u001b[0m | \u001b[0m-1.431   \u001b[0m | \u001b[0m11.71    \u001b[0m | \u001b[0m0.7981   \u001b[0m | \u001b[0m4.448    \u001b[0m | \u001b[0m451.9    \u001b[0m |\n",
      "| \u001b[0m9        \u001b[0m | \u001b[0m-1.442   \u001b[0m | \u001b[0m3.467    \u001b[0m | \u001b[0m0.6373   \u001b[0m | \u001b[0m10.17    \u001b[0m | \u001b[0m895.5    \u001b[0m |\n",
      "| \u001b[0m10       \u001b[0m | \u001b[0m-1.431   \u001b[0m | \u001b[0m15.18    \u001b[0m | \u001b[0m0.6726   \u001b[0m | \u001b[0m8.454    \u001b[0m | \u001b[0m491.3    \u001b[0m |\n",
      "| \u001b[0m11       \u001b[0m | \u001b[0m-1.431   \u001b[0m | \u001b[0m11.55    \u001b[0m | \u001b[0m0.4418   \u001b[0m | \u001b[0m11.51    \u001b[0m | \u001b[0m199.9    \u001b[0m |\n",
      "| \u001b[0m12       \u001b[0m | \u001b[0m-1.431   \u001b[0m | \u001b[0m19.46    \u001b[0m | \u001b[0m0.565    \u001b[0m | \u001b[0m8.106    \u001b[0m | \u001b[0m597.8    \u001b[0m |\n",
      "| \u001b[0m13       \u001b[0m | \u001b[0m-1.431   \u001b[0m | \u001b[0m19.94    \u001b[0m | \u001b[0m0.3948   \u001b[0m | \u001b[0m6.462    \u001b[0m | \u001b[0m765.0    \u001b[0m |\n",
      "| \u001b[0m14       \u001b[0m | \u001b[0m-1.431   \u001b[0m | \u001b[0m19.76    \u001b[0m | \u001b[0m0.8133   \u001b[0m | \u001b[0m7.606    \u001b[0m | \u001b[0m999.4    \u001b[0m |\n",
      "| \u001b[0m15       \u001b[0m | \u001b[0m-1.442   \u001b[0m | \u001b[0m2.267    \u001b[0m | \u001b[0m0.7031   \u001b[0m | \u001b[0m2.259    \u001b[0m | \u001b[0m539.2    \u001b[0m |\n",
      "| \u001b[0m16       \u001b[0m | \u001b[0m-1.431   \u001b[0m | \u001b[0m19.68    \u001b[0m | \u001b[0m0.3517   \u001b[0m | \u001b[0m2.476    \u001b[0m | \u001b[0m263.7    \u001b[0m |\n",
      "| \u001b[0m17       \u001b[0m | \u001b[0m-1.442   \u001b[0m | \u001b[0m2.407    \u001b[0m | \u001b[0m0.1876   \u001b[0m | \u001b[0m9.5      \u001b[0m | \u001b[0m309.5    \u001b[0m |\n",
      "| \u001b[0m18       \u001b[0m | \u001b[0m-1.431   \u001b[0m | \u001b[0m19.72    \u001b[0m | \u001b[0m0.1939   \u001b[0m | \u001b[0m8.103    \u001b[0m | \u001b[0m406.0    \u001b[0m |\n",
      "| \u001b[0m19       \u001b[0m | \u001b[0m-1.436   \u001b[0m | \u001b[0m1.06     \u001b[0m | \u001b[0m0.1494   \u001b[0m | \u001b[0m7.207    \u001b[0m | \u001b[0m804.6    \u001b[0m |\n",
      "| \u001b[0m20       \u001b[0m | \u001b[0m-1.431   \u001b[0m | \u001b[0m19.4     \u001b[0m | \u001b[0m0.4245   \u001b[0m | \u001b[0m9.751    \u001b[0m | \u001b[0m134.7    \u001b[0m |\n",
      "| \u001b[0m21       \u001b[0m | \u001b[0m-1.442   \u001b[0m | \u001b[0m3.064    \u001b[0m | \u001b[0m0.8464   \u001b[0m | \u001b[0m6.671    \u001b[0m | \u001b[0m100.4    \u001b[0m |\n",
      "| \u001b[0m22       \u001b[0m | \u001b[0m-1.431   \u001b[0m | \u001b[0m18.52    \u001b[0m | \u001b[0m0.2757   \u001b[0m | \u001b[0m2.115    \u001b[0m | \u001b[0m160.5    \u001b[0m |\n",
      "| \u001b[0m23       \u001b[0m | \u001b[0m-1.436   \u001b[0m | \u001b[0m1.0      \u001b[0m | \u001b[0m0.1      \u001b[0m | \u001b[0m12.0     \u001b[0m | \u001b[0m976.5    \u001b[0m |\n",
      "| \u001b[0m24       \u001b[0m | \u001b[0m-1.431   \u001b[0m | \u001b[0m19.56    \u001b[0m | \u001b[0m0.8686   \u001b[0m | \u001b[0m2.536    \u001b[0m | \u001b[0m234.8    \u001b[0m |\n",
      "| \u001b[0m25       \u001b[0m | \u001b[0m-1.436   \u001b[0m | \u001b[0m1.0      \u001b[0m | \u001b[0m1.0      \u001b[0m | \u001b[0m2.0      \u001b[0m | \u001b[0m744.1    \u001b[0m |\n",
      "| \u001b[0m26       \u001b[0m | \u001b[0m-1.436   \u001b[0m | \u001b[0m1.0      \u001b[0m | \u001b[0m0.1      \u001b[0m | \u001b[0m2.0      \u001b[0m | \u001b[0m424.8    \u001b[0m |\n",
      "| \u001b[0m27       \u001b[0m | \u001b[0m-1.436   \u001b[0m | \u001b[0m1.0      \u001b[0m | \u001b[0m0.1      \u001b[0m | \u001b[0m2.0      \u001b[0m | \u001b[0m612.7    \u001b[0m |\n",
      "| \u001b[0m28       \u001b[0m | \u001b[0m-1.442   \u001b[0m | \u001b[0m1.803    \u001b[0m | \u001b[0m0.5063   \u001b[0m | \u001b[0m10.44    \u001b[0m | \u001b[0m472.6    \u001b[0m |\n",
      "| \u001b[0m29       \u001b[0m | \u001b[0m-1.431   \u001b[0m | \u001b[0m8.586    \u001b[0m | \u001b[0m0.9994   \u001b[0m | \u001b[0m6.062    \u001b[0m | \u001b[0m249.6    \u001b[0m |\n",
      "| \u001b[0m30       \u001b[0m | \u001b[0m-1.442   \u001b[0m | \u001b[0m2.719    \u001b[0m | \u001b[0m0.5136   \u001b[0m | \u001b[0m10.55    \u001b[0m | \u001b[0m149.2    \u001b[0m |\n",
      "| \u001b[0m31       \u001b[0m | \u001b[0m-1.431   \u001b[0m | \u001b[0m6.977    \u001b[0m | \u001b[0m0.4107   \u001b[0m | \u001b[0m11.15    \u001b[0m | \u001b[0m231.4    \u001b[0m |\n",
      "| \u001b[0m32       \u001b[0m | \u001b[0m-1.431   \u001b[0m | \u001b[0m20.0     \u001b[0m | \u001b[0m0.2913   \u001b[0m | \u001b[0m2.82     \u001b[0m | \u001b[0m178.8    \u001b[0m |\n",
      "| \u001b[0m33       \u001b[0m | \u001b[0m-1.431   \u001b[0m | \u001b[0m19.41    \u001b[0m | \u001b[0m0.9017   \u001b[0m | \u001b[0m2.145    \u001b[0m | \u001b[0m215.5    \u001b[0m |\n",
      "| \u001b[0m34       \u001b[0m | \u001b[0m-1.431   \u001b[0m | \u001b[0m20.0     \u001b[0m | \u001b[0m0.1      \u001b[0m | \u001b[0m10.63    \u001b[0m | \u001b[0m507.1    \u001b[0m |\n",
      "| \u001b[0m35       \u001b[0m | \u001b[0m-1.431   \u001b[0m | \u001b[0m20.0     \u001b[0m | \u001b[0m0.5279   \u001b[0m | \u001b[0m9.387    \u001b[0m | \u001b[0m385.7    \u001b[0m |\n",
      "| \u001b[0m36       \u001b[0m | \u001b[0m-1.442   \u001b[0m | \u001b[0m1.519    \u001b[0m | \u001b[0m0.1559   \u001b[0m | \u001b[0m10.99    \u001b[0m | \u001b[0m390.1    \u001b[0m |\n",
      "| \u001b[0m37       \u001b[0m | \u001b[0m-1.438   \u001b[0m | \u001b[0m3.71     \u001b[0m | \u001b[0m0.7251   \u001b[0m | \u001b[0m11.98    \u001b[0m | \u001b[0m266.5    \u001b[0m |\n",
      "| \u001b[0m38       \u001b[0m | \u001b[0m-1.431   \u001b[0m | \u001b[0m19.69    \u001b[0m | \u001b[0m0.7815   \u001b[0m | \u001b[0m10.21    \u001b[0m | \u001b[0m440.5    \u001b[0m |\n",
      "| \u001b[0m39       \u001b[0m | \u001b[0m-1.431   \u001b[0m | \u001b[0m19.22    \u001b[0m | \u001b[0m0.4636   \u001b[0m | \u001b[0m2.705    \u001b[0m | \u001b[0m705.4    \u001b[0m |\n",
      "| \u001b[0m40       \u001b[0m | \u001b[0m-1.436   \u001b[0m | \u001b[0m1.465    \u001b[0m | \u001b[0m0.5656   \u001b[0m | \u001b[0m10.2     \u001b[0m | \u001b[0m705.9    \u001b[0m |\n",
      "| \u001b[0m41       \u001b[0m | \u001b[0m-1.431   \u001b[0m | \u001b[0m20.0     \u001b[0m | \u001b[0m1.0      \u001b[0m | \u001b[0m12.0     \u001b[0m | \u001b[0m615.7    \u001b[0m |\n",
      "| \u001b[0m42       \u001b[0m | \u001b[0m-1.431   \u001b[0m | \u001b[0m20.0     \u001b[0m | \u001b[0m0.7717   \u001b[0m | \u001b[0m6.952    \u001b[0m | \u001b[0m936.9    \u001b[0m |\n",
      "| \u001b[0m43       \u001b[0m | \u001b[0m-1.442   \u001b[0m | \u001b[0m2.827    \u001b[0m | \u001b[0m0.1963   \u001b[0m | \u001b[0m3.24     \u001b[0m | \u001b[0m944.3    \u001b[0m |\n",
      "| \u001b[0m44       \u001b[0m | \u001b[0m-1.431   \u001b[0m | \u001b[0m19.89    \u001b[0m | \u001b[0m0.21     \u001b[0m | \u001b[0m11.08    \u001b[0m | \u001b[0m249.1    \u001b[0m |\n",
      "| \u001b[0m45       \u001b[0m | \u001b[0m-1.431   \u001b[0m | \u001b[0m5.73     \u001b[0m | \u001b[0m1.0      \u001b[0m | \u001b[0m2.0      \u001b[0m | \u001b[0m503.6    \u001b[0m |\n",
      "| \u001b[0m46       \u001b[0m | \u001b[0m-1.431   \u001b[0m | \u001b[0m20.0     \u001b[0m | \u001b[0m1.0      \u001b[0m | \u001b[0m2.426    \u001b[0m | \u001b[0m366.3    \u001b[0m |\n",
      "| \u001b[0m47       \u001b[0m | \u001b[0m-1.431   \u001b[0m | \u001b[0m19.88    \u001b[0m | \u001b[0m0.5779   \u001b[0m | \u001b[0m10.88    \u001b[0m | \u001b[0m578.9    \u001b[0m |\n",
      "| \u001b[0m48       \u001b[0m | \u001b[0m-1.436   \u001b[0m | \u001b[0m1.303    \u001b[0m | \u001b[0m1.0      \u001b[0m | \u001b[0m12.0     \u001b[0m | \u001b[0m584.7    \u001b[0m |\n",
      "| \u001b[0m49       \u001b[0m | \u001b[0m-1.431   \u001b[0m | \u001b[0m19.77    \u001b[0m | \u001b[0m0.9435   \u001b[0m | \u001b[0m10.85    \u001b[0m | \u001b[0m347.2    \u001b[0m |\n",
      "| \u001b[0m50       \u001b[0m | \u001b[0m-1.438   \u001b[0m | \u001b[0m3.926    \u001b[0m | \u001b[0m1.0      \u001b[0m | \u001b[0m2.0      \u001b[0m | \u001b[0m352.9    \u001b[0m |\n",
      "=========================================================================\n"
     ]
    },
    {
     "data": {
      "text/html": [
       "<style>#sk-container-id-2 {color: black;background-color: white;}#sk-container-id-2 pre{padding: 0;}#sk-container-id-2 div.sk-toggleable {background-color: white;}#sk-container-id-2 label.sk-toggleable__label {cursor: pointer;display: block;width: 100%;margin-bottom: 0;padding: 0.3em;box-sizing: border-box;text-align: center;}#sk-container-id-2 label.sk-toggleable__label-arrow:before {content: \"▸\";float: left;margin-right: 0.25em;color: #696969;}#sk-container-id-2 label.sk-toggleable__label-arrow:hover:before {color: black;}#sk-container-id-2 div.sk-estimator:hover label.sk-toggleable__label-arrow:before {color: black;}#sk-container-id-2 div.sk-toggleable__content {max-height: 0;max-width: 0;overflow: hidden;text-align: left;background-color: #f0f8ff;}#sk-container-id-2 div.sk-toggleable__content pre {margin: 0.2em;color: black;border-radius: 0.25em;background-color: #f0f8ff;}#sk-container-id-2 input.sk-toggleable__control:checked~div.sk-toggleable__content {max-height: 200px;max-width: 100%;overflow: auto;}#sk-container-id-2 input.sk-toggleable__control:checked~label.sk-toggleable__label-arrow:before {content: \"▾\";}#sk-container-id-2 div.sk-estimator input.sk-toggleable__control:checked~label.sk-toggleable__label {background-color: #d4ebff;}#sk-container-id-2 div.sk-label input.sk-toggleable__control:checked~label.sk-toggleable__label {background-color: #d4ebff;}#sk-container-id-2 input.sk-hidden--visually {border: 0;clip: rect(1px 1px 1px 1px);clip: rect(1px, 1px, 1px, 1px);height: 1px;margin: -1px;overflow: hidden;padding: 0;position: absolute;width: 1px;}#sk-container-id-2 div.sk-estimator {font-family: monospace;background-color: #f0f8ff;border: 1px dotted black;border-radius: 0.25em;box-sizing: border-box;margin-bottom: 0.5em;}#sk-container-id-2 div.sk-estimator:hover {background-color: #d4ebff;}#sk-container-id-2 div.sk-parallel-item::after {content: \"\";width: 100%;border-bottom: 1px solid gray;flex-grow: 1;}#sk-container-id-2 div.sk-label:hover label.sk-toggleable__label {background-color: #d4ebff;}#sk-container-id-2 div.sk-serial::before {content: \"\";position: absolute;border-left: 1px solid gray;box-sizing: border-box;top: 0;bottom: 0;left: 50%;z-index: 0;}#sk-container-id-2 div.sk-serial {display: flex;flex-direction: column;align-items: center;background-color: white;padding-right: 0.2em;padding-left: 0.2em;position: relative;}#sk-container-id-2 div.sk-item {position: relative;z-index: 1;}#sk-container-id-2 div.sk-parallel {display: flex;align-items: stretch;justify-content: center;background-color: white;position: relative;}#sk-container-id-2 div.sk-item::before, #sk-container-id-2 div.sk-parallel-item::before {content: \"\";position: absolute;border-left: 1px solid gray;box-sizing: border-box;top: 0;bottom: 0;left: 50%;z-index: -1;}#sk-container-id-2 div.sk-parallel-item {display: flex;flex-direction: column;z-index: 1;position: relative;background-color: white;}#sk-container-id-2 div.sk-parallel-item:first-child::after {align-self: flex-end;width: 50%;}#sk-container-id-2 div.sk-parallel-item:last-child::after {align-self: flex-start;width: 50%;}#sk-container-id-2 div.sk-parallel-item:only-child::after {width: 0;}#sk-container-id-2 div.sk-dashed-wrapped {border: 1px dashed gray;margin: 0 0.4em 0.5em 0.4em;box-sizing: border-box;padding-bottom: 0.4em;background-color: white;}#sk-container-id-2 div.sk-label label {font-family: monospace;font-weight: bold;display: inline-block;line-height: 1.2em;}#sk-container-id-2 div.sk-label-container {text-align: center;}#sk-container-id-2 div.sk-container {/* jupyter's `normalize.less` sets `[hidden] { display: none; }` but bootstrap.min.css set `[hidden] { display: none !important; }` so we also need the `!important` here to be able to override the default hidden behavior on the sphinx rendered scikit-learn.org. See: https://github.com/scikit-learn/scikit-learn/issues/21755 */display: inline-block !important;position: relative;}#sk-container-id-2 div.sk-text-repr-fallback {display: none;}</style><div id=\"sk-container-id-2\" class=\"sk-top-container\"><div class=\"sk-text-repr-fallback\"><pre>RandomForestRegressor(bootstrap=False, max_depth=20,\n",
       "                      max_features=0.9291402877778352, min_samples_split=5,\n",
       "                      n_estimators=956)</pre><b>In a Jupyter environment, please rerun this cell to show the HTML representation or trust the notebook. <br />On GitHub, the HTML representation is unable to render, please try loading this page with nbviewer.org.</b></div><div class=\"sk-container\" hidden><div class=\"sk-item\"><div class=\"sk-estimator sk-toggleable\"><input class=\"sk-toggleable__control sk-hidden--visually\" id=\"sk-estimator-id-2\" type=\"checkbox\" checked><label for=\"sk-estimator-id-2\" class=\"sk-toggleable__label sk-toggleable__label-arrow\">RandomForestRegressor</label><div class=\"sk-toggleable__content\"><pre>RandomForestRegressor(bootstrap=False, max_depth=20,\n",
       "                      max_features=0.9291402877778352, min_samples_split=5,\n",
       "                      n_estimators=956)</pre></div></div></div></div></div>"
      ],
      "text/plain": [
       "RandomForestRegressor(bootstrap=False, max_depth=20,\n",
       "                      max_features=0.9291402877778352, min_samples_split=5,\n",
       "                      n_estimators=956)"
      ]
     },
     "execution_count": 10,
     "metadata": {},
     "output_type": "execute_result"
    }
   ],
   "source": [
    "def bo_params_rf(min_samples_split,max_depth,max_features,n_estimators):\n",
    "    \n",
    "    params = {\n",
    "        'min_samples_split': round(min_samples_split),\n",
    "        'max_depth': round(max_depth),\n",
    "        'max_features': max_features,\n",
    "        'n_estimators':round(n_estimators)\n",
    "    }    \n",
    "        \n",
    "    clf = RandomForestRegressor(min_samples_split=int(params['min_samples_split']), \n",
    "                                 max_depth=int(params['max_depth']), \n",
    "                                 max_features=params['max_features'],\n",
    "                                 n_estimators=int(params['n_estimators']), \n",
    "                                 bootstrap=False,\n",
    "                                 n_jobs = -1)\n",
    "    return cross_val_score(clf, X_train[best_features_rf], y_train, cv=10, scoring='neg_mean_squared_error', n_jobs=-1).mean()\n",
    "\n",
    "# Create Bayesian Optimization\n",
    "rf_bo = BayesianOptimization(f=bo_params_rf, pbounds={\n",
    "    'n_estimators': (100, 1000),\n",
    "    'max_depth': (1, 20),\n",
    "    'max_features': (0.1, 1),\n",
    "    'min_samples_split': (2, 12)\n",
    "})\n",
    "\n",
    "# Bayesian optimization\n",
    "results = rf_bo.maximize(n_iter=40, init_points=10)\n",
    "\n",
    "# Getting best hyperparameters from bayesian optimization\n",
    "params = rf_bo.max['params']\n",
    "params['n_estimators']= round(params['n_estimators'])\n",
    "params['min_samples_split']= round(params['min_samples_split'])\n",
    "params['max_depth']= round(params['max_depth'])\n",
    "\n",
    "# Making random forest model with the best hyperparameters\n",
    "# criterion entropy is after the hyperparameter optimization since it's more accurate but increases training time\n",
    "best_model_rf_classification = RandomForestRegressor(min_samples_split=params['min_samples_split'],\n",
    "                                                max_depth=params['max_depth'],\n",
    "                                                max_features=params['max_features'],\n",
    "                                                n_estimators=params['n_estimators'],\n",
    "                                                bootstrap=False)\n",
    "\n",
    "best_model_rf_classification.fit(X_train[best_features_rf], y_train)"
   ]
  },
  {
   "attachments": {},
   "cell_type": "markdown",
   "metadata": {},
   "source": [
    "# neural network"
   ]
  },
  {
   "attachments": {},
   "cell_type": "markdown",
   "metadata": {},
   "source": [
    "**Feature selection**"
   ]
  },
  {
   "cell_type": "code",
   "execution_count": 11,
   "metadata": {},
   "outputs": [
    {
     "name": "stdout",
     "output_type": "stream",
     "text": [
      "Best features: ['ErnstigOvergewichtObesitas', 'UrenMantelzorgPerWeek', 'ZwaarBelasteMantelzorgers', 'AfstandTotSchool', 'AfstandTotBos', 'kPersonenMetLaagsteInkomen', 'VoldoetAanBeweegrichtlijn', 'OvermatigDrinker', 'InBezitWoningcorporatie', 'MatigOvergewicht', 'PersonenautoSPerHuishouden', 'AfstandTotWarenhuis', 'ErvarenGezondheidGoedZeerGoed', 'BouwjaarVanaf2000', 'AfstandTotConsultatiebureau', 'NederlandseAntillenEnAruba', 'AfstandTotBibliotheek', 'BeperkingInZien', 'AfstandTotHotelED', 'OppervlakteWater', 'PersonenautoSNaarOppervlakte', 'VernielingMisdrijfTegenOpenbareOrde', 'AfstandTotBrandweerkazerne', 'Ondergewicht', 'GeboorteRelatief', 'AfstandTotTreinstationsTotaal', 'AfstandTotCafeED', 'GeweldsEnSeksueleMisdrijven', 'AfstandTotSauna', 'AfstandTotBegraafplaats', 'AfstandTotZwembad', 'AfstandTotPodiumkunstenTotaal', 'KLFinancieleDienstenOnroerendGoed', 'AfstandTotOpenNatNatuurlijkTerrein', 'VoldoetAanRichtlijnAlcoholgebruik', 'AfstandTotPoppodium', 'AfstandTotBuitenschoolseOpvang', 'AfstandTotBelangrijkOverstapstation', 'AfstandTotZonnebank', 'AfstandTotOpenbaarGroenTotaal', 'AfstandTotVolkstuin', 'TotaalDiefstalUitWoningSchuurED', 'BeperkingInHoren', 'AfstandTotSportterrein', 'AfstandTotKinderdagverblijf', 'AfstandTotVerblijfsrecreatiefTerrein', 'AfstandTotMuseum', 'AfstandTotOvDagelLevensmiddelen', 'PercentageOnbewoond', 'AfstandTotHuisartsenpost', 'AfstandTotDagrecreatiefTerrein', 'AfstandTotHuisartsenpraktijk', 'InBezitOverigeVerhuurders', 'AfstandTotBioscoop', 'SterfteRelatief', 'AfstandTotSemiOpenbaarGroenTotaal', 'AfstandTotOpenDroogNatTerrein', 'AfstandTotAttractie', 'GemiddeldeWoningwaarde', 'AfstandTotRestaurant', 'AfstandTotApotheek', 'Mantelzorger', 'EigendomOnbekend', 'EenOfMeerLangdurigeAandoeningen', 'AfstandTotCafetariaED', 'ALandbouwBosbouwEnVisserij']\n",
      "Dropped features: ['AfstandTotKunstijsbaan', 'AfstandTotOpenNatTerreinTotaal', 'Rokers', 'PersonenautoSOverigeBrandstof']\n"
     ]
    }
   ],
   "source": [
    "# Get the accuracy score of the model with all the features\n",
    "mlp = MLPRegressor(random_state=0).fit(X_train, y_train)\n",
    "best_model = mlp\n",
    "selected_features = X_train.columns.tolist()\n",
    "best_features = selected_features\n",
    "best_features_accuracy = cross_val_score(MLPRegressor(random_state=0), X_train, y_train, cv=10, scoring='neg_mean_squared_error', n_jobs=-1).mean()\n",
    "\n",
    "while True:\n",
    "    # Retrieve the learned weights\n",
    "    weights = mlp.coefs_[0]  # Weights connecting input features to the first hidden layer\n",
    "\n",
    "    # Normalize the weights\n",
    "    normalized_weights = np.abs(weights) / np.sum(np.abs(weights), axis=0)\n",
    "\n",
    "    # Calculate feature importance\n",
    "    feature_importance = np.mean(normalized_weights, axis=1)\n",
    "\n",
    "    # Sort features based on their importance\n",
    "    sorted_indices = np.argsort(feature_importance)\n",
    "    selected_features = [selected_features[i] for i in sorted_indices[:-1]]\n",
    "\n",
    "    # When there are no features left\n",
    "    if len(selected_features) == 0:\n",
    "        break\n",
    "    \n",
    "    # Refit the Model\n",
    "    mlp = MLPRegressor(random_state=0).fit(X_train[selected_features], y_train)\n",
    "\n",
    "    # Evaluate Model Performance\n",
    "    accuracy = cross_val_score(MLPRegressor(random_state=0), X_train[selected_features], y_train, cv=10, scoring='neg_mean_squared_error', n_jobs=-1).mean()\n",
    "\n",
    "    # Check if the model performs better without the insignificant features\n",
    "    if accuracy >= best_features_accuracy:\n",
    "        best_features_accuracy = accuracy\n",
    "        best_features = selected_features.copy()\n",
    "        best_model = mlp\n",
    "\n",
    "# Save results\n",
    "best_model_nn = best_model\n",
    "best_features_nn = best_features\n",
    "\n",
    "# Show results\n",
    "print(\"Best features:\", best_features_nn)\n",
    "print(\"Dropped features:\", list(set(X_train.columns.tolist()) - set(best_features_nn)))"
   ]
  },
  {
   "attachments": {},
   "cell_type": "markdown",
   "metadata": {},
   "source": [
    "**Hyperparameter optimalisatie**"
   ]
  },
  {
   "cell_type": "code",
   "execution_count": 12,
   "metadata": {},
   "outputs": [
    {
     "name": "stdout",
     "output_type": "stream",
     "text": [
      "|   iter    |  target   |   alpha   | hidden... | learni... | max_iter  |\n",
      "-------------------------------------------------------------------------\n",
      "| \u001b[0m1        \u001b[0m | \u001b[0m-1.196   \u001b[0m | \u001b[0m0.01551  \u001b[0m | \u001b[0m34.05    \u001b[0m | \u001b[0m0.05803  \u001b[0m | \u001b[0m339.0    \u001b[0m |\n",
      "| \u001b[95m2        \u001b[0m | \u001b[95m-1.189   \u001b[0m | \u001b[95m0.05164  \u001b[0m | \u001b[95m89.73    \u001b[0m | \u001b[95m0.07927  \u001b[0m | \u001b[95m794.0    \u001b[0m |\n",
      "| \u001b[0m3        \u001b[0m | \u001b[0m-1.195   \u001b[0m | \u001b[0m0.02318  \u001b[0m | \u001b[0m79.38    \u001b[0m | \u001b[0m0.006472 \u001b[0m | \u001b[0m335.8    \u001b[0m |\n",
      "| \u001b[0m4        \u001b[0m | \u001b[0m-1.189   \u001b[0m | \u001b[0m0.005794 \u001b[0m | \u001b[0m84.41    \u001b[0m | \u001b[0m0.03631  \u001b[0m | \u001b[0m437.0    \u001b[0m |\n",
      "| \u001b[0m5        \u001b[0m | \u001b[0m-1.196   \u001b[0m | \u001b[0m0.06415  \u001b[0m | \u001b[0m28.57    \u001b[0m | \u001b[0m0.05     \u001b[0m | \u001b[0m421.8    \u001b[0m |\n",
      "| \u001b[0m6        \u001b[0m | \u001b[0m-1.193   \u001b[0m | \u001b[0m0.05351  \u001b[0m | \u001b[0m27.65    \u001b[0m | \u001b[0m0.05896  \u001b[0m | \u001b[0m195.5    \u001b[0m |\n",
      "| \u001b[0m7        \u001b[0m | \u001b[0m-1.195   \u001b[0m | \u001b[0m0.0496   \u001b[0m | \u001b[0m91.51    \u001b[0m | \u001b[0m0.06839  \u001b[0m | \u001b[0m175.4    \u001b[0m |\n",
      "| \u001b[0m8        \u001b[0m | \u001b[0m-1.193   \u001b[0m | \u001b[0m0.01449  \u001b[0m | \u001b[0m86.53    \u001b[0m | \u001b[0m0.02649  \u001b[0m | \u001b[0m943.2    \u001b[0m |\n",
      "| \u001b[0m9        \u001b[0m | \u001b[0m-1.194   \u001b[0m | \u001b[0m0.07669  \u001b[0m | \u001b[0m21.22    \u001b[0m | \u001b[0m0.02702  \u001b[0m | \u001b[0m404.0    \u001b[0m |\n",
      "| \u001b[0m10       \u001b[0m | \u001b[0m-1.196   \u001b[0m | \u001b[0m0.002999 \u001b[0m | \u001b[0m70.37    \u001b[0m | \u001b[0m0.05547  \u001b[0m | \u001b[0m785.5    \u001b[0m |\n",
      "| \u001b[0m11       \u001b[0m | \u001b[0m-1.197   \u001b[0m | \u001b[0m0.06806  \u001b[0m | \u001b[0m88.24    \u001b[0m | \u001b[0m0.0177   \u001b[0m | \u001b[0m793.8    \u001b[0m |\n",
      "| \u001b[0m12       \u001b[0m | \u001b[0m-1.192   \u001b[0m | \u001b[0m0.0914   \u001b[0m | \u001b[0m84.32    \u001b[0m | \u001b[0m0.01394  \u001b[0m | \u001b[0m555.7    \u001b[0m |\n",
      "| \u001b[95m13       \u001b[0m | \u001b[95m-1.189   \u001b[0m | \u001b[95m0.07917  \u001b[0m | \u001b[95m89.77    \u001b[0m | \u001b[95m0.003061 \u001b[0m | \u001b[95m793.1    \u001b[0m |\n",
      "| \u001b[0m14       \u001b[0m | \u001b[0m-1.196   \u001b[0m | \u001b[0m0.0597   \u001b[0m | \u001b[0m84.9     \u001b[0m | \u001b[0m0.07994  \u001b[0m | \u001b[0m437.1    \u001b[0m |\n",
      "| \u001b[0m15       \u001b[0m | \u001b[0m-1.2     \u001b[0m | \u001b[0m0.04663  \u001b[0m | \u001b[0m85.2     \u001b[0m | \u001b[0m0.002626 \u001b[0m | \u001b[0m899.5    \u001b[0m |\n",
      "| \u001b[0m16       \u001b[0m | \u001b[0m-1.193   \u001b[0m | \u001b[0m0.01812  \u001b[0m | \u001b[0m10.11    \u001b[0m | \u001b[0m0.09597  \u001b[0m | \u001b[0m101.4    \u001b[0m |\n",
      "| \u001b[0m17       \u001b[0m | \u001b[0m-1.196   \u001b[0m | \u001b[0m0.001682 \u001b[0m | \u001b[0m18.26    \u001b[0m | \u001b[0m0.04101  \u001b[0m | \u001b[0m829.4    \u001b[0m |\n",
      "| \u001b[0m18       \u001b[0m | \u001b[0m-1.195   \u001b[0m | \u001b[0m0.07597  \u001b[0m | \u001b[0m40.57    \u001b[0m | \u001b[0m0.07731  \u001b[0m | \u001b[0m426.1    \u001b[0m |\n",
      "| \u001b[0m19       \u001b[0m | \u001b[0m-1.197   \u001b[0m | \u001b[0m0.0427   \u001b[0m | \u001b[0m43.23    \u001b[0m | \u001b[0m0.09392  \u001b[0m | \u001b[0m109.8    \u001b[0m |\n",
      "| \u001b[0m20       \u001b[0m | \u001b[0m-1.192   \u001b[0m | \u001b[0m0.06013  \u001b[0m | \u001b[0m36.37    \u001b[0m | \u001b[0m0.06767  \u001b[0m | \u001b[0m404.6    \u001b[0m |\n",
      "| \u001b[0m21       \u001b[0m | \u001b[0m-1.198   \u001b[0m | \u001b[0m0.03204  \u001b[0m | \u001b[0m85.54    \u001b[0m | \u001b[0m0.0225   \u001b[0m | \u001b[0m779.6    \u001b[0m |\n",
      "| \u001b[0m22       \u001b[0m | \u001b[0m-1.197   \u001b[0m | \u001b[0m0.03471  \u001b[0m | \u001b[0m46.98    \u001b[0m | \u001b[0m0.01908  \u001b[0m | \u001b[0m299.8    \u001b[0m |\n",
      "| \u001b[0m23       \u001b[0m | \u001b[0m-1.193   \u001b[0m | \u001b[0m0.0375   \u001b[0m | \u001b[0m65.48    \u001b[0m | \u001b[0m0.009768 \u001b[0m | \u001b[0m365.1    \u001b[0m |\n",
      "| \u001b[0m24       \u001b[0m | \u001b[0m-1.191   \u001b[0m | \u001b[0m0.02518  \u001b[0m | \u001b[0m78.03    \u001b[0m | \u001b[0m0.01267  \u001b[0m | \u001b[0m968.5    \u001b[0m |\n",
      "| \u001b[0m25       \u001b[0m | \u001b[0m-1.201   \u001b[0m | \u001b[0m0.02311  \u001b[0m | \u001b[0m49.41    \u001b[0m | \u001b[0m0.002403 \u001b[0m | \u001b[0m415.3    \u001b[0m |\n",
      "| \u001b[0m26       \u001b[0m | \u001b[0m-1.191   \u001b[0m | \u001b[0m0.01506  \u001b[0m | \u001b[0m76.48    \u001b[0m | \u001b[0m0.06724  \u001b[0m | \u001b[0m629.1    \u001b[0m |\n",
      "| \u001b[0m27       \u001b[0m | \u001b[0m-1.19    \u001b[0m | \u001b[0m0.05971  \u001b[0m | \u001b[0m12.21    \u001b[0m | \u001b[0m0.06474  \u001b[0m | \u001b[0m381.2    \u001b[0m |\n",
      "| \u001b[0m28       \u001b[0m | \u001b[0m-1.194   \u001b[0m | \u001b[0m0.09872  \u001b[0m | \u001b[0m16.89    \u001b[0m | \u001b[0m0.09635  \u001b[0m | \u001b[0m528.7    \u001b[0m |\n",
      "| \u001b[0m29       \u001b[0m | \u001b[0m-1.192   \u001b[0m | \u001b[0m0.04147  \u001b[0m | \u001b[0m41.88    \u001b[0m | \u001b[0m0.05212  \u001b[0m | \u001b[0m921.5    \u001b[0m |\n",
      "| \u001b[0m30       \u001b[0m | \u001b[0m-1.189   \u001b[0m | \u001b[0m0.09478  \u001b[0m | \u001b[0m52.4     \u001b[0m | \u001b[0m0.01291  \u001b[0m | \u001b[0m248.5    \u001b[0m |\n",
      "| \u001b[0m31       \u001b[0m | \u001b[0m-1.194   \u001b[0m | \u001b[0m0.08081  \u001b[0m | \u001b[0m61.63    \u001b[0m | \u001b[0m0.03431  \u001b[0m | \u001b[0m528.4    \u001b[0m |\n",
      "| \u001b[0m32       \u001b[0m | \u001b[0m-1.192   \u001b[0m | \u001b[0m0.08707  \u001b[0m | \u001b[0m66.99    \u001b[0m | \u001b[0m0.04899  \u001b[0m | \u001b[0m952.0    \u001b[0m |\n",
      "| \u001b[0m33       \u001b[0m | \u001b[0m-1.193   \u001b[0m | \u001b[0m0.04209  \u001b[0m | \u001b[0m22.79    \u001b[0m | \u001b[0m0.07166  \u001b[0m | \u001b[0m383.9    \u001b[0m |\n",
      "| \u001b[0m34       \u001b[0m | \u001b[0m-1.197   \u001b[0m | \u001b[0m0.05397  \u001b[0m | \u001b[0m55.32    \u001b[0m | \u001b[0m0.07467  \u001b[0m | \u001b[0m970.7    \u001b[0m |\n",
      "| \u001b[0m35       \u001b[0m | \u001b[0m-1.191   \u001b[0m | \u001b[0m0.07226  \u001b[0m | \u001b[0m76.91    \u001b[0m | \u001b[0m0.06831  \u001b[0m | \u001b[0m373.4    \u001b[0m |\n",
      "| \u001b[0m36       \u001b[0m | \u001b[0m-1.192   \u001b[0m | \u001b[0m0.04928  \u001b[0m | \u001b[0m31.68    \u001b[0m | \u001b[0m0.02901  \u001b[0m | \u001b[0m975.5    \u001b[0m |\n",
      "| \u001b[0m37       \u001b[0m | \u001b[0m-1.195   \u001b[0m | \u001b[0m0.02421  \u001b[0m | \u001b[0m91.82    \u001b[0m | \u001b[0m0.05328  \u001b[0m | \u001b[0m476.8    \u001b[0m |\n",
      "| \u001b[0m38       \u001b[0m | \u001b[0m-1.196   \u001b[0m | \u001b[0m0.05064  \u001b[0m | \u001b[0m42.99    \u001b[0m | \u001b[0m0.06325  \u001b[0m | \u001b[0m798.4    \u001b[0m |\n",
      "| \u001b[0m39       \u001b[0m | \u001b[0m-1.192   \u001b[0m | \u001b[0m0.08145  \u001b[0m | \u001b[0m17.32    \u001b[0m | \u001b[0m0.06003  \u001b[0m | \u001b[0m704.1    \u001b[0m |\n",
      "| \u001b[0m40       \u001b[0m | \u001b[0m-1.195   \u001b[0m | \u001b[0m0.0954   \u001b[0m | \u001b[0m12.67    \u001b[0m | \u001b[0m0.03767  \u001b[0m | \u001b[0m216.1    \u001b[0m |\n",
      "| \u001b[0m41       \u001b[0m | \u001b[0m-1.192   \u001b[0m | \u001b[0m0.04451  \u001b[0m | \u001b[0m24.34    \u001b[0m | \u001b[0m0.04433  \u001b[0m | \u001b[0m287.2    \u001b[0m |\n",
      "| \u001b[0m42       \u001b[0m | \u001b[0m-1.197   \u001b[0m | \u001b[0m0.004946 \u001b[0m | \u001b[0m76.61    \u001b[0m | \u001b[0m0.04327  \u001b[0m | \u001b[0m531.7    \u001b[0m |\n",
      "| \u001b[0m43       \u001b[0m | \u001b[0m-1.2     \u001b[0m | \u001b[0m0.08743  \u001b[0m | \u001b[0m25.15    \u001b[0m | \u001b[0m0.08395  \u001b[0m | \u001b[0m614.1    \u001b[0m |\n",
      "| \u001b[0m44       \u001b[0m | \u001b[0m-1.195   \u001b[0m | \u001b[0m0.0478   \u001b[0m | \u001b[0m88.42    \u001b[0m | \u001b[0m0.09219  \u001b[0m | \u001b[0m431.7    \u001b[0m |\n",
      "| \u001b[0m45       \u001b[0m | \u001b[0m-1.194   \u001b[0m | \u001b[0m0.01818  \u001b[0m | \u001b[0m19.83    \u001b[0m | \u001b[0m0.04086  \u001b[0m | \u001b[0m725.7    \u001b[0m |\n",
      "| \u001b[0m46       \u001b[0m | \u001b[0m-1.19    \u001b[0m | \u001b[0m0.06018  \u001b[0m | \u001b[0m30.2     \u001b[0m | \u001b[0m0.03235  \u001b[0m | \u001b[0m869.1    \u001b[0m |\n",
      "| \u001b[0m47       \u001b[0m | \u001b[0m-1.195   \u001b[0m | \u001b[0m0.02428  \u001b[0m | \u001b[0m73.31    \u001b[0m | \u001b[0m0.04069  \u001b[0m | \u001b[0m580.2    \u001b[0m |\n",
      "| \u001b[0m48       \u001b[0m | \u001b[0m-1.193   \u001b[0m | \u001b[0m0.001078 \u001b[0m | \u001b[0m48.56    \u001b[0m | \u001b[0m0.08384  \u001b[0m | \u001b[0m450.8    \u001b[0m |\n",
      "| \u001b[0m49       \u001b[0m | \u001b[0m-1.198   \u001b[0m | \u001b[0m0.01289  \u001b[0m | \u001b[0m97.39    \u001b[0m | \u001b[0m0.05021  \u001b[0m | \u001b[0m751.7    \u001b[0m |\n",
      "| \u001b[0m50       \u001b[0m | \u001b[0m-1.192   \u001b[0m | \u001b[0m0.09741  \u001b[0m | \u001b[0m75.14    \u001b[0m | \u001b[0m0.05417  \u001b[0m | \u001b[0m360.5    \u001b[0m |\n",
      "=========================================================================\n"
     ]
    },
    {
     "data": {
      "text/html": [
       "<style>#sk-container-id-3 {color: black;background-color: white;}#sk-container-id-3 pre{padding: 0;}#sk-container-id-3 div.sk-toggleable {background-color: white;}#sk-container-id-3 label.sk-toggleable__label {cursor: pointer;display: block;width: 100%;margin-bottom: 0;padding: 0.3em;box-sizing: border-box;text-align: center;}#sk-container-id-3 label.sk-toggleable__label-arrow:before {content: \"▸\";float: left;margin-right: 0.25em;color: #696969;}#sk-container-id-3 label.sk-toggleable__label-arrow:hover:before {color: black;}#sk-container-id-3 div.sk-estimator:hover label.sk-toggleable__label-arrow:before {color: black;}#sk-container-id-3 div.sk-toggleable__content {max-height: 0;max-width: 0;overflow: hidden;text-align: left;background-color: #f0f8ff;}#sk-container-id-3 div.sk-toggleable__content pre {margin: 0.2em;color: black;border-radius: 0.25em;background-color: #f0f8ff;}#sk-container-id-3 input.sk-toggleable__control:checked~div.sk-toggleable__content {max-height: 200px;max-width: 100%;overflow: auto;}#sk-container-id-3 input.sk-toggleable__control:checked~label.sk-toggleable__label-arrow:before {content: \"▾\";}#sk-container-id-3 div.sk-estimator input.sk-toggleable__control:checked~label.sk-toggleable__label {background-color: #d4ebff;}#sk-container-id-3 div.sk-label input.sk-toggleable__control:checked~label.sk-toggleable__label {background-color: #d4ebff;}#sk-container-id-3 input.sk-hidden--visually {border: 0;clip: rect(1px 1px 1px 1px);clip: rect(1px, 1px, 1px, 1px);height: 1px;margin: -1px;overflow: hidden;padding: 0;position: absolute;width: 1px;}#sk-container-id-3 div.sk-estimator {font-family: monospace;background-color: #f0f8ff;border: 1px dotted black;border-radius: 0.25em;box-sizing: border-box;margin-bottom: 0.5em;}#sk-container-id-3 div.sk-estimator:hover {background-color: #d4ebff;}#sk-container-id-3 div.sk-parallel-item::after {content: \"\";width: 100%;border-bottom: 1px solid gray;flex-grow: 1;}#sk-container-id-3 div.sk-label:hover label.sk-toggleable__label {background-color: #d4ebff;}#sk-container-id-3 div.sk-serial::before {content: \"\";position: absolute;border-left: 1px solid gray;box-sizing: border-box;top: 0;bottom: 0;left: 50%;z-index: 0;}#sk-container-id-3 div.sk-serial {display: flex;flex-direction: column;align-items: center;background-color: white;padding-right: 0.2em;padding-left: 0.2em;position: relative;}#sk-container-id-3 div.sk-item {position: relative;z-index: 1;}#sk-container-id-3 div.sk-parallel {display: flex;align-items: stretch;justify-content: center;background-color: white;position: relative;}#sk-container-id-3 div.sk-item::before, #sk-container-id-3 div.sk-parallel-item::before {content: \"\";position: absolute;border-left: 1px solid gray;box-sizing: border-box;top: 0;bottom: 0;left: 50%;z-index: -1;}#sk-container-id-3 div.sk-parallel-item {display: flex;flex-direction: column;z-index: 1;position: relative;background-color: white;}#sk-container-id-3 div.sk-parallel-item:first-child::after {align-self: flex-end;width: 50%;}#sk-container-id-3 div.sk-parallel-item:last-child::after {align-self: flex-start;width: 50%;}#sk-container-id-3 div.sk-parallel-item:only-child::after {width: 0;}#sk-container-id-3 div.sk-dashed-wrapped {border: 1px dashed gray;margin: 0 0.4em 0.5em 0.4em;box-sizing: border-box;padding-bottom: 0.4em;background-color: white;}#sk-container-id-3 div.sk-label label {font-family: monospace;font-weight: bold;display: inline-block;line-height: 1.2em;}#sk-container-id-3 div.sk-label-container {text-align: center;}#sk-container-id-3 div.sk-container {/* jupyter's `normalize.less` sets `[hidden] { display: none; }` but bootstrap.min.css set `[hidden] { display: none !important; }` so we also need the `!important` here to be able to override the default hidden behavior on the sphinx rendered scikit-learn.org. See: https://github.com/scikit-learn/scikit-learn/issues/21755 */display: inline-block !important;position: relative;}#sk-container-id-3 div.sk-text-repr-fallback {display: none;}</style><div id=\"sk-container-id-3\" class=\"sk-top-container\"><div class=\"sk-text-repr-fallback\"><pre>MLPRegressor(alpha=0.07916970912831299, hidden_layer_sizes=(90,),\n",
       "             learning_rate_init=0.0030611719544255144, max_iter=793)</pre><b>In a Jupyter environment, please rerun this cell to show the HTML representation or trust the notebook. <br />On GitHub, the HTML representation is unable to render, please try loading this page with nbviewer.org.</b></div><div class=\"sk-container\" hidden><div class=\"sk-item\"><div class=\"sk-estimator sk-toggleable\"><input class=\"sk-toggleable__control sk-hidden--visually\" id=\"sk-estimator-id-3\" type=\"checkbox\" checked><label for=\"sk-estimator-id-3\" class=\"sk-toggleable__label sk-toggleable__label-arrow\">MLPRegressor</label><div class=\"sk-toggleable__content\"><pre>MLPRegressor(alpha=0.07916970912831299, hidden_layer_sizes=(90,),\n",
       "             learning_rate_init=0.0030611719544255144, max_iter=793)</pre></div></div></div></div></div>"
      ],
      "text/plain": [
       "MLPRegressor(alpha=0.07916970912831299, hidden_layer_sizes=(90,),\n",
       "             learning_rate_init=0.0030611719544255144, max_iter=793)"
      ]
     },
     "execution_count": 12,
     "metadata": {},
     "output_type": "execute_result"
    }
   ],
   "source": [
    "def bo_params_generic(model, params, X_train, y_train):\n",
    "    # Create the model instance with the specified parameters\n",
    "    regressor = model(**params)\n",
    "    \n",
    "    # Calculating rmse based on\n",
    "    scores = cross_val_score(regressor, X_train, y_train, cv=10, scoring='neg_root_mean_squared_error')\n",
    "    return scores.mean()\n",
    "\n",
    "params_ranges = {\n",
    "    'hidden_layer_sizes': (10, 100),\n",
    "    'alpha': (0.0001, 0.1),\n",
    "    'learning_rate_init': (0.001, 0.1),\n",
    "    'max_iter': (100, 1000)\n",
    "}\n",
    "\n",
    "# Example usage with Neural Network\n",
    "model = MLPRegressor\n",
    "model_bo = BayesianOptimization(f=lambda hidden_layer_sizes, alpha, learning_rate_init, max_iter:\n",
    "                                    bo_params_generic(model, {\n",
    "                                        'hidden_layer_sizes': (int(round(hidden_layer_sizes)),),\n",
    "                                        'alpha': alpha,\n",
    "                                        'learning_rate_init': learning_rate_init,\n",
    "                                        'max_iter': int(round(max_iter))\n",
    "                                    }, X_train[best_features_nn], y_train),\n",
    "                             pbounds=params_ranges)\n",
    "\n",
    "results = model_bo.maximize(n_iter=40, init_points=10)\n",
    "params = model_bo.max['params']\n",
    "\n",
    "# Creating a model with the best hyperparameters\n",
    "best_model_nn = model(\n",
    "    hidden_layer_sizes=(int(round(params['hidden_layer_sizes'])),),\n",
    "    alpha=params['alpha'],\n",
    "    learning_rate_init=params['learning_rate_init'],\n",
    "    max_iter=int(round(params['max_iter']))\n",
    ")\n",
    "\n",
    "# Fit the model\n",
    "best_model_nn.fit(X_train[best_features_nn], y_train)"
   ]
  },
  {
   "attachments": {},
   "cell_type": "markdown",
   "metadata": {},
   "source": [
    "# plotting the bar chart"
   ]
  },
  {
   "attachments": {},
   "cell_type": "markdown",
   "metadata": {},
   "source": [
    "**using train dataset**"
   ]
  },
  {
   "cell_type": "code",
   "execution_count": 13,
   "metadata": {},
   "outputs": [
    {
     "data": {
      "text/plain": [
       "[{'model': 'Multiple Linear Regression',\n",
       "  'mae': 0.8658034142298338,\n",
       "  'mse': 1.4329686505901573,\n",
       "  'rmse': 1.1970666859411623,\n",
       "  'r2': -0.00024049827615324482,\n",
       "  'adj_r2': -0.07829717038243067},\n",
       " {'model': 'Random Forest',\n",
       "  'mae': 0.8660175252217047,\n",
       "  'mse': 1.4303383451797227,\n",
       "  'rmse': 1.195967535169631,\n",
       "  'r2': 0.0015955069939328492,\n",
       "  'adj_r2': -0.07631788710910459},\n",
       " {'model': 'Neural Network',\n",
       "  'mae': 0.8710141324847772,\n",
       "  'mse': 1.4350780077305418,\n",
       "  'rmse': 1.1979474144262519,\n",
       "  'r2': -0.0017128713362837278,\n",
       "  'adj_r2': -0.07988444435026354},\n",
       " {'model': 'Support Vector Machine',\n",
       "  'mae': 0.8606476198631337,\n",
       "  'mse': 1.4553841018399163,\n",
       "  'rmse': 1.2063930130102363,\n",
       "  'r2': -0.01588692718993978,\n",
       "  'adj_r2': -0.09516461381568764}]"
      ]
     },
     "execution_count": 13,
     "metadata": {},
     "output_type": "execute_result"
    }
   ],
   "source": [
    "regression_models = [\n",
    "    {\n",
    "        'name': 'Multiple Linear Regression',\n",
    "        'model': best_model_mlr,\n",
    "        'features': best_features_mlr\n",
    "    },\n",
    "    {\n",
    "        'name': 'Random Forest',\n",
    "        'model': best_model_rf,\n",
    "        'features': best_features_rf\n",
    "    },\n",
    "    {\n",
    "        'name': 'Neural Network',\n",
    "        'model': best_model_nn,\n",
    "        'features': best_features_nn\n",
    "    },\n",
    "    {\n",
    "        'name': 'Support Vector Machine',\n",
    "        'model': best_model_svm,\n",
    "        'features': best_features_svm\n",
    "    }\n",
    "]\n",
    "\n",
    "regression_stats_val = []\n",
    "\n",
    "for model in regression_models:\n",
    "    try:\n",
    "        # Perform cross-validation and calculate predictions and metrics\n",
    "        y_pred = cross_val_predict(model['model'], X_train[model['features']], y_train, cv=10)\n",
    "        y_true = y_train\n",
    "    except: # cv can't be higher then n_splits in the dt\n",
    "        # Perform cross-validation and calculate predictions and metrics\n",
    "        y_pred = cross_val_predict(model['model'], X_train[model['features']], y_train, cv=5)\n",
    "        y_true = y_train\n",
    "\n",
    "    # R2 Score\n",
    "    r2 = r2_score(y_true, y_pred)\n",
    "\n",
    "    # Adjusted R2 Score\n",
    "    n = len(y_true)  # Number of samples\n",
    "    p = X_test.shape[1]  # Number of predictors (features) in X\n",
    "    adj_r2 = 1 - ((1 - r2) * (n - 1)) / (n - p - 1)\n",
    "\n",
    "    # Save stats\n",
    "    regression_stats_val.append(\n",
    "        {\n",
    "            'model': model['name'],\n",
    "            'mae': mean_absolute_error(y_true, y_pred),\n",
    "            'mse': mean_squared_error(y_true, y_pred),\n",
    "            'rmse': np.sqrt(mean_squared_error(y_true, y_pred)),\n",
    "            'r2': r2,\n",
    "            'adj_r2': adj_r2\n",
    "        }\n",
    "    )\n",
    "\n",
    "# View stats\n",
    "regression_stats_val"
   ]
  },
  {
   "cell_type": "code",
   "execution_count": 14,
   "metadata": {},
   "outputs": [
    {
     "data": {
      "application/vnd.plotly.v1+json": {
       "config": {
        "plotlyServerURL": "https://plot.ly"
       },
       "data": [
        {
         "name": "mae",
         "type": "bar",
         "x": [
          "Multiple Linear Regression",
          "Random Forest",
          "Neural Network",
          "Support Vector Machine"
         ],
         "y": [
          0.8658034142298338,
          0.8660175252217047,
          0.8710141324847772,
          0.8606476198631337
         ]
        },
        {
         "name": "mse",
         "type": "bar",
         "x": [
          "Multiple Linear Regression",
          "Random Forest",
          "Neural Network",
          "Support Vector Machine"
         ],
         "y": [
          1.4329686505901573,
          1.4303383451797227,
          1.4350780077305418,
          1.4553841018399163
         ]
        },
        {
         "name": "rmse",
         "type": "bar",
         "x": [
          "Multiple Linear Regression",
          "Random Forest",
          "Neural Network",
          "Support Vector Machine"
         ],
         "y": [
          1.1970666859411623,
          1.195967535169631,
          1.1979474144262519,
          1.2063930130102363
         ]
        },
        {
         "name": "r2",
         "type": "bar",
         "x": [
          "Multiple Linear Regression",
          "Random Forest",
          "Neural Network",
          "Support Vector Machine"
         ],
         "y": [
          -0.00024049827615324482,
          0.0015955069939328492,
          -0.0017128713362837278,
          -0.01588692718993978
         ]
        },
        {
         "name": "adj_r2",
         "type": "bar",
         "x": [
          "Multiple Linear Regression",
          "Random Forest",
          "Neural Network",
          "Support Vector Machine"
         ],
         "y": [
          -0.07829717038243067,
          -0.07631788710910459,
          -0.07988444435026354,
          -0.09516461381568764
         ]
        }
       ],
       "layout": {
        "barmode": "group",
        "template": {
         "data": {
          "bar": [
           {
            "error_x": {
             "color": "#2a3f5f"
            },
            "error_y": {
             "color": "#2a3f5f"
            },
            "marker": {
             "line": {
              "color": "#E5ECF6",
              "width": 0.5
             },
             "pattern": {
              "fillmode": "overlay",
              "size": 10,
              "solidity": 0.2
             }
            },
            "type": "bar"
           }
          ],
          "barpolar": [
           {
            "marker": {
             "line": {
              "color": "#E5ECF6",
              "width": 0.5
             },
             "pattern": {
              "fillmode": "overlay",
              "size": 10,
              "solidity": 0.2
             }
            },
            "type": "barpolar"
           }
          ],
          "carpet": [
           {
            "aaxis": {
             "endlinecolor": "#2a3f5f",
             "gridcolor": "white",
             "linecolor": "white",
             "minorgridcolor": "white",
             "startlinecolor": "#2a3f5f"
            },
            "baxis": {
             "endlinecolor": "#2a3f5f",
             "gridcolor": "white",
             "linecolor": "white",
             "minorgridcolor": "white",
             "startlinecolor": "#2a3f5f"
            },
            "type": "carpet"
           }
          ],
          "choropleth": [
           {
            "colorbar": {
             "outlinewidth": 0,
             "ticks": ""
            },
            "type": "choropleth"
           }
          ],
          "contour": [
           {
            "colorbar": {
             "outlinewidth": 0,
             "ticks": ""
            },
            "colorscale": [
             [
              0,
              "#0d0887"
             ],
             [
              0.1111111111111111,
              "#46039f"
             ],
             [
              0.2222222222222222,
              "#7201a8"
             ],
             [
              0.3333333333333333,
              "#9c179e"
             ],
             [
              0.4444444444444444,
              "#bd3786"
             ],
             [
              0.5555555555555556,
              "#d8576b"
             ],
             [
              0.6666666666666666,
              "#ed7953"
             ],
             [
              0.7777777777777778,
              "#fb9f3a"
             ],
             [
              0.8888888888888888,
              "#fdca26"
             ],
             [
              1,
              "#f0f921"
             ]
            ],
            "type": "contour"
           }
          ],
          "contourcarpet": [
           {
            "colorbar": {
             "outlinewidth": 0,
             "ticks": ""
            },
            "type": "contourcarpet"
           }
          ],
          "heatmap": [
           {
            "colorbar": {
             "outlinewidth": 0,
             "ticks": ""
            },
            "colorscale": [
             [
              0,
              "#0d0887"
             ],
             [
              0.1111111111111111,
              "#46039f"
             ],
             [
              0.2222222222222222,
              "#7201a8"
             ],
             [
              0.3333333333333333,
              "#9c179e"
             ],
             [
              0.4444444444444444,
              "#bd3786"
             ],
             [
              0.5555555555555556,
              "#d8576b"
             ],
             [
              0.6666666666666666,
              "#ed7953"
             ],
             [
              0.7777777777777778,
              "#fb9f3a"
             ],
             [
              0.8888888888888888,
              "#fdca26"
             ],
             [
              1,
              "#f0f921"
             ]
            ],
            "type": "heatmap"
           }
          ],
          "heatmapgl": [
           {
            "colorbar": {
             "outlinewidth": 0,
             "ticks": ""
            },
            "colorscale": [
             [
              0,
              "#0d0887"
             ],
             [
              0.1111111111111111,
              "#46039f"
             ],
             [
              0.2222222222222222,
              "#7201a8"
             ],
             [
              0.3333333333333333,
              "#9c179e"
             ],
             [
              0.4444444444444444,
              "#bd3786"
             ],
             [
              0.5555555555555556,
              "#d8576b"
             ],
             [
              0.6666666666666666,
              "#ed7953"
             ],
             [
              0.7777777777777778,
              "#fb9f3a"
             ],
             [
              0.8888888888888888,
              "#fdca26"
             ],
             [
              1,
              "#f0f921"
             ]
            ],
            "type": "heatmapgl"
           }
          ],
          "histogram": [
           {
            "marker": {
             "pattern": {
              "fillmode": "overlay",
              "size": 10,
              "solidity": 0.2
             }
            },
            "type": "histogram"
           }
          ],
          "histogram2d": [
           {
            "colorbar": {
             "outlinewidth": 0,
             "ticks": ""
            },
            "colorscale": [
             [
              0,
              "#0d0887"
             ],
             [
              0.1111111111111111,
              "#46039f"
             ],
             [
              0.2222222222222222,
              "#7201a8"
             ],
             [
              0.3333333333333333,
              "#9c179e"
             ],
             [
              0.4444444444444444,
              "#bd3786"
             ],
             [
              0.5555555555555556,
              "#d8576b"
             ],
             [
              0.6666666666666666,
              "#ed7953"
             ],
             [
              0.7777777777777778,
              "#fb9f3a"
             ],
             [
              0.8888888888888888,
              "#fdca26"
             ],
             [
              1,
              "#f0f921"
             ]
            ],
            "type": "histogram2d"
           }
          ],
          "histogram2dcontour": [
           {
            "colorbar": {
             "outlinewidth": 0,
             "ticks": ""
            },
            "colorscale": [
             [
              0,
              "#0d0887"
             ],
             [
              0.1111111111111111,
              "#46039f"
             ],
             [
              0.2222222222222222,
              "#7201a8"
             ],
             [
              0.3333333333333333,
              "#9c179e"
             ],
             [
              0.4444444444444444,
              "#bd3786"
             ],
             [
              0.5555555555555556,
              "#d8576b"
             ],
             [
              0.6666666666666666,
              "#ed7953"
             ],
             [
              0.7777777777777778,
              "#fb9f3a"
             ],
             [
              0.8888888888888888,
              "#fdca26"
             ],
             [
              1,
              "#f0f921"
             ]
            ],
            "type": "histogram2dcontour"
           }
          ],
          "mesh3d": [
           {
            "colorbar": {
             "outlinewidth": 0,
             "ticks": ""
            },
            "type": "mesh3d"
           }
          ],
          "parcoords": [
           {
            "line": {
             "colorbar": {
              "outlinewidth": 0,
              "ticks": ""
             }
            },
            "type": "parcoords"
           }
          ],
          "pie": [
           {
            "automargin": true,
            "type": "pie"
           }
          ],
          "scatter": [
           {
            "fillpattern": {
             "fillmode": "overlay",
             "size": 10,
             "solidity": 0.2
            },
            "type": "scatter"
           }
          ],
          "scatter3d": [
           {
            "line": {
             "colorbar": {
              "outlinewidth": 0,
              "ticks": ""
             }
            },
            "marker": {
             "colorbar": {
              "outlinewidth": 0,
              "ticks": ""
             }
            },
            "type": "scatter3d"
           }
          ],
          "scattercarpet": [
           {
            "marker": {
             "colorbar": {
              "outlinewidth": 0,
              "ticks": ""
             }
            },
            "type": "scattercarpet"
           }
          ],
          "scattergeo": [
           {
            "marker": {
             "colorbar": {
              "outlinewidth": 0,
              "ticks": ""
             }
            },
            "type": "scattergeo"
           }
          ],
          "scattergl": [
           {
            "marker": {
             "colorbar": {
              "outlinewidth": 0,
              "ticks": ""
             }
            },
            "type": "scattergl"
           }
          ],
          "scattermapbox": [
           {
            "marker": {
             "colorbar": {
              "outlinewidth": 0,
              "ticks": ""
             }
            },
            "type": "scattermapbox"
           }
          ],
          "scatterpolar": [
           {
            "marker": {
             "colorbar": {
              "outlinewidth": 0,
              "ticks": ""
             }
            },
            "type": "scatterpolar"
           }
          ],
          "scatterpolargl": [
           {
            "marker": {
             "colorbar": {
              "outlinewidth": 0,
              "ticks": ""
             }
            },
            "type": "scatterpolargl"
           }
          ],
          "scatterternary": [
           {
            "marker": {
             "colorbar": {
              "outlinewidth": 0,
              "ticks": ""
             }
            },
            "type": "scatterternary"
           }
          ],
          "surface": [
           {
            "colorbar": {
             "outlinewidth": 0,
             "ticks": ""
            },
            "colorscale": [
             [
              0,
              "#0d0887"
             ],
             [
              0.1111111111111111,
              "#46039f"
             ],
             [
              0.2222222222222222,
              "#7201a8"
             ],
             [
              0.3333333333333333,
              "#9c179e"
             ],
             [
              0.4444444444444444,
              "#bd3786"
             ],
             [
              0.5555555555555556,
              "#d8576b"
             ],
             [
              0.6666666666666666,
              "#ed7953"
             ],
             [
              0.7777777777777778,
              "#fb9f3a"
             ],
             [
              0.8888888888888888,
              "#fdca26"
             ],
             [
              1,
              "#f0f921"
             ]
            ],
            "type": "surface"
           }
          ],
          "table": [
           {
            "cells": {
             "fill": {
              "color": "#EBF0F8"
             },
             "line": {
              "color": "white"
             }
            },
            "header": {
             "fill": {
              "color": "#C8D4E3"
             },
             "line": {
              "color": "white"
             }
            },
            "type": "table"
           }
          ]
         },
         "layout": {
          "annotationdefaults": {
           "arrowcolor": "#2a3f5f",
           "arrowhead": 0,
           "arrowwidth": 1
          },
          "autotypenumbers": "strict",
          "coloraxis": {
           "colorbar": {
            "outlinewidth": 0,
            "ticks": ""
           }
          },
          "colorscale": {
           "diverging": [
            [
             0,
             "#8e0152"
            ],
            [
             0.1,
             "#c51b7d"
            ],
            [
             0.2,
             "#de77ae"
            ],
            [
             0.3,
             "#f1b6da"
            ],
            [
             0.4,
             "#fde0ef"
            ],
            [
             0.5,
             "#f7f7f7"
            ],
            [
             0.6,
             "#e6f5d0"
            ],
            [
             0.7,
             "#b8e186"
            ],
            [
             0.8,
             "#7fbc41"
            ],
            [
             0.9,
             "#4d9221"
            ],
            [
             1,
             "#276419"
            ]
           ],
           "sequential": [
            [
             0,
             "#0d0887"
            ],
            [
             0.1111111111111111,
             "#46039f"
            ],
            [
             0.2222222222222222,
             "#7201a8"
            ],
            [
             0.3333333333333333,
             "#9c179e"
            ],
            [
             0.4444444444444444,
             "#bd3786"
            ],
            [
             0.5555555555555556,
             "#d8576b"
            ],
            [
             0.6666666666666666,
             "#ed7953"
            ],
            [
             0.7777777777777778,
             "#fb9f3a"
            ],
            [
             0.8888888888888888,
             "#fdca26"
            ],
            [
             1,
             "#f0f921"
            ]
           ],
           "sequentialminus": [
            [
             0,
             "#0d0887"
            ],
            [
             0.1111111111111111,
             "#46039f"
            ],
            [
             0.2222222222222222,
             "#7201a8"
            ],
            [
             0.3333333333333333,
             "#9c179e"
            ],
            [
             0.4444444444444444,
             "#bd3786"
            ],
            [
             0.5555555555555556,
             "#d8576b"
            ],
            [
             0.6666666666666666,
             "#ed7953"
            ],
            [
             0.7777777777777778,
             "#fb9f3a"
            ],
            [
             0.8888888888888888,
             "#fdca26"
            ],
            [
             1,
             "#f0f921"
            ]
           ]
          },
          "colorway": [
           "#636efa",
           "#EF553B",
           "#00cc96",
           "#ab63fa",
           "#FFA15A",
           "#19d3f3",
           "#FF6692",
           "#B6E880",
           "#FF97FF",
           "#FECB52"
          ],
          "font": {
           "color": "#2a3f5f"
          },
          "geo": {
           "bgcolor": "white",
           "lakecolor": "white",
           "landcolor": "#E5ECF6",
           "showlakes": true,
           "showland": true,
           "subunitcolor": "white"
          },
          "hoverlabel": {
           "align": "left"
          },
          "hovermode": "closest",
          "mapbox": {
           "style": "light"
          },
          "paper_bgcolor": "white",
          "plot_bgcolor": "#E5ECF6",
          "polar": {
           "angularaxis": {
            "gridcolor": "white",
            "linecolor": "white",
            "ticks": ""
           },
           "bgcolor": "#E5ECF6",
           "radialaxis": {
            "gridcolor": "white",
            "linecolor": "white",
            "ticks": ""
           }
          },
          "scene": {
           "xaxis": {
            "backgroundcolor": "#E5ECF6",
            "gridcolor": "white",
            "gridwidth": 2,
            "linecolor": "white",
            "showbackground": true,
            "ticks": "",
            "zerolinecolor": "white"
           },
           "yaxis": {
            "backgroundcolor": "#E5ECF6",
            "gridcolor": "white",
            "gridwidth": 2,
            "linecolor": "white",
            "showbackground": true,
            "ticks": "",
            "zerolinecolor": "white"
           },
           "zaxis": {
            "backgroundcolor": "#E5ECF6",
            "gridcolor": "white",
            "gridwidth": 2,
            "linecolor": "white",
            "showbackground": true,
            "ticks": "",
            "zerolinecolor": "white"
           }
          },
          "shapedefaults": {
           "line": {
            "color": "#2a3f5f"
           }
          },
          "ternary": {
           "aaxis": {
            "gridcolor": "white",
            "linecolor": "white",
            "ticks": ""
           },
           "baxis": {
            "gridcolor": "white",
            "linecolor": "white",
            "ticks": ""
           },
           "bgcolor": "#E5ECF6",
           "caxis": {
            "gridcolor": "white",
            "linecolor": "white",
            "ticks": ""
           }
          },
          "title": {
           "x": 0.05
          },
          "xaxis": {
           "automargin": true,
           "gridcolor": "white",
           "linecolor": "white",
           "ticks": "",
           "title": {
            "standoff": 15
           },
           "zerolinecolor": "white",
           "zerolinewidth": 2
          },
          "yaxis": {
           "automargin": true,
           "gridcolor": "white",
           "linecolor": "white",
           "ticks": "",
           "title": {
            "standoff": 15
           },
           "zerolinecolor": "white",
           "zerolinewidth": 2
          }
         }
        },
        "title": {
         "text": "Evaluation Metrics Comparison BMI"
        },
        "xaxis": {
         "title": {
          "text": "Models"
         }
        },
        "yaxis": {
         "title": {
          "text": "Scores"
         }
        }
       }
      }
     },
     "metadata": {},
     "output_type": "display_data"
    }
   ],
   "source": [
    "# Extracting model names and metric scores\n",
    "model_names = [d['model'] for d in regression_stats_val]\n",
    "metric_labels = list(regression_stats_val[0].keys())[1:]\n",
    "metric_scores = {metric: [d[metric] for d in regression_stats_val] for metric in metric_labels}\n",
    "\n",
    "# Plotting the bar chart\n",
    "fig = go.Figure()\n",
    "\n",
    "for metric in metric_labels:\n",
    "    fig.add_trace(go.Bar(\n",
    "        x=model_names,\n",
    "        y=metric_scores[metric],\n",
    "        name=metric\n",
    "    ))\n",
    "\n",
    "# Updating the layout\n",
    "fig.update_layout(\n",
    "    title='Evaluation Metrics Comparison BMI',\n",
    "    xaxis_title='Models',\n",
    "    yaxis_title='Scores',\n",
    "    barmode='group'\n",
    ")\n",
    "\n",
    "# Display the plot\n",
    "fig.show()"
   ]
  },
  {
   "attachments": {},
   "cell_type": "markdown",
   "metadata": {},
   "source": [
    "**Evaluating on test data**"
   ]
  },
  {
   "cell_type": "code",
   "execution_count": 15,
   "metadata": {},
   "outputs": [
    {
     "data": {
      "text/plain": [
       "[{'model': 'Multiple Linear Regression',\n",
       "  'mae': 0.9044952818839904,\n",
       "  'mse': 1.5831372919145972,\n",
       "  'rmse': 1.2582278378396328,\n",
       "  'r2': 0.00014222434620525526,\n",
       "  'adj_r2': -0.4091562803073949},\n",
       " {'model': 'Random Forest',\n",
       "  'mae': 0.8941572116607733,\n",
       "  'mse': 1.5706296636202557,\n",
       "  'rmse': 1.2532476465648184,\n",
       "  'r2': 0.00804163361977539,\n",
       "  'adj_r2': -0.3980231947230066},\n",
       " {'model': 'Neural Network',\n",
       "  'mae': 0.9102933583645284,\n",
       "  'mse': 1.5865271895589421,\n",
       "  'rmse': 1.2595742096275797,\n",
       "  'r2': -0.0019987242219821066,\n",
       "  'adj_r2': -0.4121736405701619},\n",
       " {'model': 'Support Vector Machine',\n",
       "  'mae': 0.8925430540704585,\n",
       "  'mse': 1.6333271641412361,\n",
       "  'rmse': 1.2780168872676276,\n",
       "  'r2': -0.031556058715642044,\n",
       "  'adj_r2': -0.45383046871619714}]"
      ]
     },
     "execution_count": 15,
     "metadata": {},
     "output_type": "execute_result"
    }
   ],
   "source": [
    "regression_models = [\n",
    "    {\n",
    "        'name': 'Multiple Linear Regression',\n",
    "        'model': best_model_mlr,\n",
    "        'features': best_features_mlr\n",
    "    },\n",
    "    {\n",
    "        'name': 'Random Forest',\n",
    "        'model': best_model_rf,\n",
    "        'features': best_features_rf\n",
    "    },\n",
    "    {\n",
    "        'name': 'Neural Network',\n",
    "        'model': best_model_nn,\n",
    "        'features': best_features_nn\n",
    "    },\n",
    "    {\n",
    "        'name': 'Support Vector Machine',\n",
    "        'model': best_model_svm,\n",
    "        'features': best_features_svm\n",
    "    }\n",
    "]\n",
    "\n",
    "regression_stats_test = []\n",
    "\n",
    "for model in regression_models:\n",
    "    # Make predictions on the test set\n",
    "    y_pred = model['model'].predict(X_test[model['features']])\n",
    "\n",
    "    # Defining Actual values\n",
    "    y_true = y_test.copy()\n",
    "\n",
    "    # R2 Score\n",
    "    r2 = r2_score(y_true, y_pred)\n",
    "\n",
    "    # Adjusted R2 Score\n",
    "    n = len(y_true)  # Number of samples\n",
    "    p = X_test.shape[1]  # Number of predictors (features) in X\n",
    "    adj_r2 = 1 - ((1 - r2) * (n - 1)) / (n - p - 1)\n",
    "\n",
    "    # Save stats\n",
    "    regression_stats_test.append(\n",
    "        {\n",
    "            'model': model['name'],\n",
    "            'mae': mean_absolute_error(y_true, y_pred),\n",
    "            'mse': mean_squared_error(y_true, y_pred),\n",
    "            'rmse': np.sqrt(mean_squared_error(y_true, y_pred)),\n",
    "            'r2': r2,\n",
    "            'adj_r2': adj_r2\n",
    "        }\n",
    "    )\n",
    "\n",
    "# View stats\n",
    "regression_stats_test"
   ]
  },
  {
   "cell_type": "code",
   "execution_count": 19,
   "metadata": {},
   "outputs": [
    {
     "data": {
      "application/vnd.plotly.v1+json": {
       "config": {
        "plotlyServerURL": "https://plot.ly"
       },
       "data": [
        {
         "name": "mae",
         "text": [
          "0.9044952818839904",
          "0.8941572116607733",
          "0.9102933583645284",
          "0.8925430540704585"
         ],
         "textposition": "auto",
         "type": "bar",
         "x": [
          "Multiple Linear Regression",
          "Random Forest",
          "Neural Network",
          "Support Vector Machine"
         ],
         "y": [
          0.9044952818839904,
          0.8941572116607733,
          0.9102933583645284,
          0.8925430540704585
         ]
        },
        {
         "name": "mse",
         "text": [
          "1.5831372919145972",
          "1.5706296636202557",
          "1.5865271895589421",
          "1.6333271641412361"
         ],
         "textposition": "auto",
         "type": "bar",
         "x": [
          "Multiple Linear Regression",
          "Random Forest",
          "Neural Network",
          "Support Vector Machine"
         ],
         "y": [
          1.5831372919145972,
          1.5706296636202557,
          1.5865271895589421,
          1.6333271641412361
         ]
        },
        {
         "name": "rmse",
         "text": [
          "1.2582278378396328",
          "1.2532476465648184",
          "1.2595742096275797",
          "1.2780168872676276"
         ],
         "textposition": "auto",
         "type": "bar",
         "x": [
          "Multiple Linear Regression",
          "Random Forest",
          "Neural Network",
          "Support Vector Machine"
         ],
         "y": [
          1.2582278378396328,
          1.2532476465648184,
          1.2595742096275797,
          1.2780168872676276
         ]
        },
        {
         "name": "r2",
         "text": [
          "0.00014222434620525526",
          "0.00804163361977539",
          "-0.0019987242219821066",
          "-0.031556058715642044"
         ],
         "textposition": "auto",
         "type": "bar",
         "x": [
          "Multiple Linear Regression",
          "Random Forest",
          "Neural Network",
          "Support Vector Machine"
         ],
         "y": [
          0.00014222434620525526,
          0.00804163361977539,
          -0.0019987242219821066,
          -0.031556058715642044
         ]
        },
        {
         "name": "adj_r2",
         "text": [
          "-0.4091562803073949",
          "-0.3980231947230066",
          "-0.4121736405701619",
          "-0.45383046871619714"
         ],
         "textposition": "auto",
         "type": "bar",
         "x": [
          "Multiple Linear Regression",
          "Random Forest",
          "Neural Network",
          "Support Vector Machine"
         ],
         "y": [
          -0.4091562803073949,
          -0.3980231947230066,
          -0.4121736405701619,
          -0.45383046871619714
         ]
        }
       ],
       "layout": {
        "barmode": "group",
        "template": {
         "data": {
          "bar": [
           {
            "error_x": {
             "color": "#2a3f5f"
            },
            "error_y": {
             "color": "#2a3f5f"
            },
            "marker": {
             "line": {
              "color": "#E5ECF6",
              "width": 0.5
             },
             "pattern": {
              "fillmode": "overlay",
              "size": 10,
              "solidity": 0.2
             }
            },
            "type": "bar"
           }
          ],
          "barpolar": [
           {
            "marker": {
             "line": {
              "color": "#E5ECF6",
              "width": 0.5
             },
             "pattern": {
              "fillmode": "overlay",
              "size": 10,
              "solidity": 0.2
             }
            },
            "type": "barpolar"
           }
          ],
          "carpet": [
           {
            "aaxis": {
             "endlinecolor": "#2a3f5f",
             "gridcolor": "white",
             "linecolor": "white",
             "minorgridcolor": "white",
             "startlinecolor": "#2a3f5f"
            },
            "baxis": {
             "endlinecolor": "#2a3f5f",
             "gridcolor": "white",
             "linecolor": "white",
             "minorgridcolor": "white",
             "startlinecolor": "#2a3f5f"
            },
            "type": "carpet"
           }
          ],
          "choropleth": [
           {
            "colorbar": {
             "outlinewidth": 0,
             "ticks": ""
            },
            "type": "choropleth"
           }
          ],
          "contour": [
           {
            "colorbar": {
             "outlinewidth": 0,
             "ticks": ""
            },
            "colorscale": [
             [
              0,
              "#0d0887"
             ],
             [
              0.1111111111111111,
              "#46039f"
             ],
             [
              0.2222222222222222,
              "#7201a8"
             ],
             [
              0.3333333333333333,
              "#9c179e"
             ],
             [
              0.4444444444444444,
              "#bd3786"
             ],
             [
              0.5555555555555556,
              "#d8576b"
             ],
             [
              0.6666666666666666,
              "#ed7953"
             ],
             [
              0.7777777777777778,
              "#fb9f3a"
             ],
             [
              0.8888888888888888,
              "#fdca26"
             ],
             [
              1,
              "#f0f921"
             ]
            ],
            "type": "contour"
           }
          ],
          "contourcarpet": [
           {
            "colorbar": {
             "outlinewidth": 0,
             "ticks": ""
            },
            "type": "contourcarpet"
           }
          ],
          "heatmap": [
           {
            "colorbar": {
             "outlinewidth": 0,
             "ticks": ""
            },
            "colorscale": [
             [
              0,
              "#0d0887"
             ],
             [
              0.1111111111111111,
              "#46039f"
             ],
             [
              0.2222222222222222,
              "#7201a8"
             ],
             [
              0.3333333333333333,
              "#9c179e"
             ],
             [
              0.4444444444444444,
              "#bd3786"
             ],
             [
              0.5555555555555556,
              "#d8576b"
             ],
             [
              0.6666666666666666,
              "#ed7953"
             ],
             [
              0.7777777777777778,
              "#fb9f3a"
             ],
             [
              0.8888888888888888,
              "#fdca26"
             ],
             [
              1,
              "#f0f921"
             ]
            ],
            "type": "heatmap"
           }
          ],
          "heatmapgl": [
           {
            "colorbar": {
             "outlinewidth": 0,
             "ticks": ""
            },
            "colorscale": [
             [
              0,
              "#0d0887"
             ],
             [
              0.1111111111111111,
              "#46039f"
             ],
             [
              0.2222222222222222,
              "#7201a8"
             ],
             [
              0.3333333333333333,
              "#9c179e"
             ],
             [
              0.4444444444444444,
              "#bd3786"
             ],
             [
              0.5555555555555556,
              "#d8576b"
             ],
             [
              0.6666666666666666,
              "#ed7953"
             ],
             [
              0.7777777777777778,
              "#fb9f3a"
             ],
             [
              0.8888888888888888,
              "#fdca26"
             ],
             [
              1,
              "#f0f921"
             ]
            ],
            "type": "heatmapgl"
           }
          ],
          "histogram": [
           {
            "marker": {
             "pattern": {
              "fillmode": "overlay",
              "size": 10,
              "solidity": 0.2
             }
            },
            "type": "histogram"
           }
          ],
          "histogram2d": [
           {
            "colorbar": {
             "outlinewidth": 0,
             "ticks": ""
            },
            "colorscale": [
             [
              0,
              "#0d0887"
             ],
             [
              0.1111111111111111,
              "#46039f"
             ],
             [
              0.2222222222222222,
              "#7201a8"
             ],
             [
              0.3333333333333333,
              "#9c179e"
             ],
             [
              0.4444444444444444,
              "#bd3786"
             ],
             [
              0.5555555555555556,
              "#d8576b"
             ],
             [
              0.6666666666666666,
              "#ed7953"
             ],
             [
              0.7777777777777778,
              "#fb9f3a"
             ],
             [
              0.8888888888888888,
              "#fdca26"
             ],
             [
              1,
              "#f0f921"
             ]
            ],
            "type": "histogram2d"
           }
          ],
          "histogram2dcontour": [
           {
            "colorbar": {
             "outlinewidth": 0,
             "ticks": ""
            },
            "colorscale": [
             [
              0,
              "#0d0887"
             ],
             [
              0.1111111111111111,
              "#46039f"
             ],
             [
              0.2222222222222222,
              "#7201a8"
             ],
             [
              0.3333333333333333,
              "#9c179e"
             ],
             [
              0.4444444444444444,
              "#bd3786"
             ],
             [
              0.5555555555555556,
              "#d8576b"
             ],
             [
              0.6666666666666666,
              "#ed7953"
             ],
             [
              0.7777777777777778,
              "#fb9f3a"
             ],
             [
              0.8888888888888888,
              "#fdca26"
             ],
             [
              1,
              "#f0f921"
             ]
            ],
            "type": "histogram2dcontour"
           }
          ],
          "mesh3d": [
           {
            "colorbar": {
             "outlinewidth": 0,
             "ticks": ""
            },
            "type": "mesh3d"
           }
          ],
          "parcoords": [
           {
            "line": {
             "colorbar": {
              "outlinewidth": 0,
              "ticks": ""
             }
            },
            "type": "parcoords"
           }
          ],
          "pie": [
           {
            "automargin": true,
            "type": "pie"
           }
          ],
          "scatter": [
           {
            "fillpattern": {
             "fillmode": "overlay",
             "size": 10,
             "solidity": 0.2
            },
            "type": "scatter"
           }
          ],
          "scatter3d": [
           {
            "line": {
             "colorbar": {
              "outlinewidth": 0,
              "ticks": ""
             }
            },
            "marker": {
             "colorbar": {
              "outlinewidth": 0,
              "ticks": ""
             }
            },
            "type": "scatter3d"
           }
          ],
          "scattercarpet": [
           {
            "marker": {
             "colorbar": {
              "outlinewidth": 0,
              "ticks": ""
             }
            },
            "type": "scattercarpet"
           }
          ],
          "scattergeo": [
           {
            "marker": {
             "colorbar": {
              "outlinewidth": 0,
              "ticks": ""
             }
            },
            "type": "scattergeo"
           }
          ],
          "scattergl": [
           {
            "marker": {
             "colorbar": {
              "outlinewidth": 0,
              "ticks": ""
             }
            },
            "type": "scattergl"
           }
          ],
          "scattermapbox": [
           {
            "marker": {
             "colorbar": {
              "outlinewidth": 0,
              "ticks": ""
             }
            },
            "type": "scattermapbox"
           }
          ],
          "scatterpolar": [
           {
            "marker": {
             "colorbar": {
              "outlinewidth": 0,
              "ticks": ""
             }
            },
            "type": "scatterpolar"
           }
          ],
          "scatterpolargl": [
           {
            "marker": {
             "colorbar": {
              "outlinewidth": 0,
              "ticks": ""
             }
            },
            "type": "scatterpolargl"
           }
          ],
          "scatterternary": [
           {
            "marker": {
             "colorbar": {
              "outlinewidth": 0,
              "ticks": ""
             }
            },
            "type": "scatterternary"
           }
          ],
          "surface": [
           {
            "colorbar": {
             "outlinewidth": 0,
             "ticks": ""
            },
            "colorscale": [
             [
              0,
              "#0d0887"
             ],
             [
              0.1111111111111111,
              "#46039f"
             ],
             [
              0.2222222222222222,
              "#7201a8"
             ],
             [
              0.3333333333333333,
              "#9c179e"
             ],
             [
              0.4444444444444444,
              "#bd3786"
             ],
             [
              0.5555555555555556,
              "#d8576b"
             ],
             [
              0.6666666666666666,
              "#ed7953"
             ],
             [
              0.7777777777777778,
              "#fb9f3a"
             ],
             [
              0.8888888888888888,
              "#fdca26"
             ],
             [
              1,
              "#f0f921"
             ]
            ],
            "type": "surface"
           }
          ],
          "table": [
           {
            "cells": {
             "fill": {
              "color": "#EBF0F8"
             },
             "line": {
              "color": "white"
             }
            },
            "header": {
             "fill": {
              "color": "#C8D4E3"
             },
             "line": {
              "color": "white"
             }
            },
            "type": "table"
           }
          ]
         },
         "layout": {
          "annotationdefaults": {
           "arrowcolor": "#2a3f5f",
           "arrowhead": 0,
           "arrowwidth": 1
          },
          "autotypenumbers": "strict",
          "coloraxis": {
           "colorbar": {
            "outlinewidth": 0,
            "ticks": ""
           }
          },
          "colorscale": {
           "diverging": [
            [
             0,
             "#8e0152"
            ],
            [
             0.1,
             "#c51b7d"
            ],
            [
             0.2,
             "#de77ae"
            ],
            [
             0.3,
             "#f1b6da"
            ],
            [
             0.4,
             "#fde0ef"
            ],
            [
             0.5,
             "#f7f7f7"
            ],
            [
             0.6,
             "#e6f5d0"
            ],
            [
             0.7,
             "#b8e186"
            ],
            [
             0.8,
             "#7fbc41"
            ],
            [
             0.9,
             "#4d9221"
            ],
            [
             1,
             "#276419"
            ]
           ],
           "sequential": [
            [
             0,
             "#0d0887"
            ],
            [
             0.1111111111111111,
             "#46039f"
            ],
            [
             0.2222222222222222,
             "#7201a8"
            ],
            [
             0.3333333333333333,
             "#9c179e"
            ],
            [
             0.4444444444444444,
             "#bd3786"
            ],
            [
             0.5555555555555556,
             "#d8576b"
            ],
            [
             0.6666666666666666,
             "#ed7953"
            ],
            [
             0.7777777777777778,
             "#fb9f3a"
            ],
            [
             0.8888888888888888,
             "#fdca26"
            ],
            [
             1,
             "#f0f921"
            ]
           ],
           "sequentialminus": [
            [
             0,
             "#0d0887"
            ],
            [
             0.1111111111111111,
             "#46039f"
            ],
            [
             0.2222222222222222,
             "#7201a8"
            ],
            [
             0.3333333333333333,
             "#9c179e"
            ],
            [
             0.4444444444444444,
             "#bd3786"
            ],
            [
             0.5555555555555556,
             "#d8576b"
            ],
            [
             0.6666666666666666,
             "#ed7953"
            ],
            [
             0.7777777777777778,
             "#fb9f3a"
            ],
            [
             0.8888888888888888,
             "#fdca26"
            ],
            [
             1,
             "#f0f921"
            ]
           ]
          },
          "colorway": [
           "#636efa",
           "#EF553B",
           "#00cc96",
           "#ab63fa",
           "#FFA15A",
           "#19d3f3",
           "#FF6692",
           "#B6E880",
           "#FF97FF",
           "#FECB52"
          ],
          "font": {
           "color": "#2a3f5f"
          },
          "geo": {
           "bgcolor": "white",
           "lakecolor": "white",
           "landcolor": "#E5ECF6",
           "showlakes": true,
           "showland": true,
           "subunitcolor": "white"
          },
          "hoverlabel": {
           "align": "left"
          },
          "hovermode": "closest",
          "mapbox": {
           "style": "light"
          },
          "paper_bgcolor": "white",
          "plot_bgcolor": "#E5ECF6",
          "polar": {
           "angularaxis": {
            "gridcolor": "white",
            "linecolor": "white",
            "ticks": ""
           },
           "bgcolor": "#E5ECF6",
           "radialaxis": {
            "gridcolor": "white",
            "linecolor": "white",
            "ticks": ""
           }
          },
          "scene": {
           "xaxis": {
            "backgroundcolor": "#E5ECF6",
            "gridcolor": "white",
            "gridwidth": 2,
            "linecolor": "white",
            "showbackground": true,
            "ticks": "",
            "zerolinecolor": "white"
           },
           "yaxis": {
            "backgroundcolor": "#E5ECF6",
            "gridcolor": "white",
            "gridwidth": 2,
            "linecolor": "white",
            "showbackground": true,
            "ticks": "",
            "zerolinecolor": "white"
           },
           "zaxis": {
            "backgroundcolor": "#E5ECF6",
            "gridcolor": "white",
            "gridwidth": 2,
            "linecolor": "white",
            "showbackground": true,
            "ticks": "",
            "zerolinecolor": "white"
           }
          },
          "shapedefaults": {
           "line": {
            "color": "#2a3f5f"
           }
          },
          "ternary": {
           "aaxis": {
            "gridcolor": "white",
            "linecolor": "white",
            "ticks": ""
           },
           "baxis": {
            "gridcolor": "white",
            "linecolor": "white",
            "ticks": ""
           },
           "bgcolor": "#E5ECF6",
           "caxis": {
            "gridcolor": "white",
            "linecolor": "white",
            "ticks": ""
           }
          },
          "title": {
           "x": 0.05
          },
          "xaxis": {
           "automargin": true,
           "gridcolor": "white",
           "linecolor": "white",
           "ticks": "",
           "title": {
            "standoff": 15
           },
           "zerolinecolor": "white",
           "zerolinewidth": 2
          },
          "yaxis": {
           "automargin": true,
           "gridcolor": "white",
           "linecolor": "white",
           "ticks": "",
           "title": {
            "standoff": 15
           },
           "zerolinecolor": "white",
           "zerolinewidth": 2
          }
         }
        },
        "title": {
         "text": "Evaluation Metrics Comparison BMI"
        },
        "xaxis": {
         "title": {
          "text": "Models"
         }
        },
        "yaxis": {
         "title": {
          "text": "Scores"
         }
        }
       }
      }
     },
     "metadata": {},
     "output_type": "display_data"
    }
   ],
   "source": [
    "# Extracting model names and metric scores\n",
    "model_names = [d['model'] for d in regression_stats_test]\n",
    "metric_labels = list(regression_stats_test[0].keys())[1:]\n",
    "metric_scores = {metric: [d[metric] for d in regression_stats_test] for metric in metric_labels}\n",
    "\n",
    "# Plotting the bar chart\n",
    "fig = go.Figure()\n",
    "\n",
    "for metric in metric_labels:\n",
    "    fig.add_trace(go.Bar(\n",
    "        x=model_names,\n",
    "        y=metric_scores[metric],\n",
    "        text=metric_scores[metric],  # Display the values on the bars\n",
    "        textposition='auto',  # Position the text inside the bars\n",
    "        name=metric\n",
    "    ))\n",
    "\n",
    "# Updating the layout\n",
    "fig.update_layout(\n",
    "    title='Evaluation Metrics Comparison BMI',\n",
    "    xaxis_title='Models',\n",
    "    yaxis_title='Scores',\n",
    "    barmode='group'\n",
    ")\n",
    "\n",
    "# Display the plot\n",
    "fig.show()"
   ]
  },
  {
   "attachments": {},
   "cell_type": "markdown",
   "metadata": {},
   "source": [
    "Naive bayes"
   ]
  },
  {
   "cell_type": "code",
   "execution_count": 17,
   "metadata": {},
   "outputs": [
    {
     "name": "stdout",
     "output_type": "stream",
     "text": [
      "Mean Absolute Error: 0.9067514130956161\n",
      "Mean Squared Error: 1.5936473903413322\n",
      "Root Mean Squared Error: 1.2623974771605544\n",
      "R2 Score: -0.006495610343513203\n",
      "Adjusted R2 Score: -0.41851135726775834\n"
     ]
    }
   ],
   "source": [
    "# Defining Actual values\n",
    "y_true = y_test.copy()\n",
    "\n",
    "# Defining Predicted values\n",
    "y_pred = np.full_like(y_test, y_train.mean())\n",
    "\n",
    "# Mean absolute error\n",
    "mae = mean_absolute_error(y_test, y_pred)\n",
    "print(\"Mean Absolute Error:\", mae)\n",
    "\n",
    "# Mean Squared Error\n",
    "mse = mean_squared_error(y_true, y_pred)\n",
    "print(\"Mean Squared Error:\", mse)\n",
    "\n",
    "# Root Mean Squared Error\n",
    "rmse = np.sqrt(mse)\n",
    "print(\"Root Mean Squared Error:\", rmse)\n",
    "\n",
    "# R2 Score\n",
    "r2 = r2_score(y_true, y_pred)\n",
    "print(\"R2 Score:\", r2)\n",
    "\n",
    "# Adjusted R2 Score\n",
    "n = len(y_true)  # Number of samples\n",
    "p = X_test.shape[1]  # Number of predictors (features) in X\n",
    "adj_r2 = 1 - ((1 - r2) * (n - 1)) / (n - p - 1)\n",
    "print(\"Adjusted R2 Score:\", adj_r2)"
   ]
  },
  {
   "attachments": {},
   "cell_type": "markdown",
   "metadata": {},
   "source": [
    "Save best model as Pickle"
   ]
  },
  {
   "cell_type": "code",
   "execution_count": 18,
   "metadata": {},
   "outputs": [],
   "source": [
    "import pickle\n",
    "\n",
    "# Save model\n",
    "file_path = 'Saved Models/BMI.pkl'\n",
    "\n",
    "with open(file_path, 'wb') as file:\n",
    "    pickle.dump(best_model_mlr, file)\n",
    "\n",
    "# Save features\n",
    "with open('Saved Models/best_features_BMI.txt', 'w') as file:\n",
    "    file.write(f'{best_features_mlr}')"
   ]
  }
 ],
 "metadata": {
  "kernelspec": {
   "display_name": "Python 3",
   "language": "python",
   "name": "python3"
  },
  "language_info": {
   "codemirror_mode": {
    "name": "ipython",
    "version": 3
   },
   "file_extension": ".py",
   "mimetype": "text/x-python",
   "name": "python",
   "nbconvert_exporter": "python",
   "pygments_lexer": "ipython3",
   "version": "3.10.9"
  },
  "orig_nbformat": 4
 },
 "nbformat": 4,
 "nbformat_minor": 2
}
