{
 "cells": [
  {
   "attachments": {},
   "cell_type": "markdown",
   "metadata": {},
   "source": [
    "# General Imports"
   ]
  },
  {
   "attachments": {},
   "cell_type": "markdown",
   "metadata": {},
   "source": [
    "**Importing all libraries**"
   ]
  },
  {
   "cell_type": "code",
   "execution_count": 1,
   "metadata": {},
   "outputs": [],
   "source": [
    "import numpy as np\n",
    "import pandas as pd\n",
    "import warnings\n",
    "\n",
    "import plotly.graph_objects as go\n",
    "from bayes_opt import BayesianOptimization\n",
    "import statsmodels.api as sm\n",
    "\n",
    "from sklearn.model_selection import cross_val_score, train_test_split\n",
    "from sklearn.linear_model import LinearRegression\n",
    "from sklearn.svm import SVR\n",
    "from sklearn.model_selection import cross_val_predict\n",
    "from sklearn.ensemble import RandomForestRegressor\n",
    "from sklearn.neural_network import MLPRegressor\n",
    "from sklearn.metrics import r2_score, mean_squared_error, mean_absolute_error\n",
    "from sklearn.inspection import permutation_importance\n"
   ]
  },
  {
   "attachments": {},
   "cell_type": "markdown",
   "metadata": {},
   "source": [
    "Disable warnings"
   ]
  },
  {
   "cell_type": "code",
   "execution_count": 2,
   "metadata": {},
   "outputs": [],
   "source": [
    "# Disable all warnings\n",
    "warnings.filterwarnings(\"ignore\")\n",
    "\n",
    "# Enable warnings again\n",
    "## warnings.filterwarnings(\"default\")"
   ]
  },
  {
   "attachments": {},
   "cell_type": "markdown",
   "metadata": {},
   "source": [
    "Generate train and test data"
   ]
  },
  {
   "cell_type": "code",
   "execution_count": 3,
   "metadata": {},
   "outputs": [],
   "source": [
    "# Read Data\n",
    "df = pd.read_csv(\"data_finish_prep.csv\")\n",
    "\n",
    "# Select only the usefull part of the df\n",
    "df.drop(columns=['verschil_Lengte',\n",
    "               'verschil_6 MWT', 'verschil_TUG',\n",
    "               'verschil_Gewicht', 'verschil_Conditie',\n",
    "               'verschil_Lenigheid', 'verschil_Knijpkracht'], inplace=True)\n",
    "\n",
    "# Drop NaN values\n",
    "df.dropna(inplace=True)\n",
    "\n",
    "# Define X and y\n",
    "X = df.drop(columns=['verschil_BMI'])\n",
    "y = df['verschil_BMI']\n",
    "\n",
    "# Split data into train & test data\n",
    "X_train, X_test, y_train, y_test = train_test_split(X, y, test_size=0.2, random_state=42)"
   ]
  },
  {
   "cell_type": "code",
   "execution_count": 4,
   "metadata": {},
   "outputs": [],
   "source": [
    "def bo_params_generic(model, params, X_train, y_train):\n",
    "    # Create the model instance with the specified parameters\n",
    "    regressor = model(**params)\n",
    "    \n",
    "    # Assuming you have X_train, y_train defined for regression\n",
    "    scores = cross_val_score(regressor, X_train, y_train, cv=10, scoring='neg_root_mean_squared_error')\n",
    "    return -scores.mean()"
   ]
  },
  {
   "attachments": {},
   "cell_type": "markdown",
   "metadata": {},
   "source": [
    "# MLR"
   ]
  },
  {
   "attachments": {},
   "cell_type": "markdown",
   "metadata": {},
   "source": [
    "**feature selection**"
   ]
  },
  {
   "cell_type": "code",
   "execution_count": 5,
   "metadata": {},
   "outputs": [
    {
     "name": "stdout",
     "output_type": "stream",
     "text": [
      "Best features: ['SterfteRelatief', 'AfstandTotApotheek', 'AfstandTotSportterrein', 'AfstandTotBelangrijkOverstapstation', 'AfstandTotSauna', 'AfstandTotAttractie', 'EenOfMeerLangdurigeAandoeningen']\n",
      "Dropped features: ['OppervlakteWater', 'AfstandTotPodiumkunstenTotaal', 'AfstandTotBioscoop', 'PercentageOnbewoond', 'AfstandTotKunstijsbaan', 'GemiddeldeWoningwaarde', 'Ondergewicht', 'AfstandTotBrandweerkazerne', 'InBezitOverigeVerhuurders', 'GeweldsEnSeksueleMisdrijven', 'ALandbouwBosbouwEnVisserij', 'MatigOvergewicht', 'AfstandTotBuitenschoolseOpvang', 'AfstandTotOpenDroogNatTerrein', 'AfstandTotSchool', 'AfstandTotHuisartsenpraktijk', 'AfstandTotOpenNatNatuurlijkTerrein', 'VernielingMisdrijfTegenOpenbareOrde', 'AfstandTotTreinstationsTotaal', 'kPersonenMetLaagsteInkomen', 'PersonenautoSOverigeBrandstof', 'AfstandTotHotelED', 'PersonenautoSNaarOppervlakte', 'VoldoetAanBeweegrichtlijn', 'AfstandTotOvDagelLevensmiddelen', 'AfstandTotRestaurant', 'BouwjaarVanaf2000', 'AfstandTotWarenhuis', 'TotaalDiefstalUitWoningSchuurED', 'AfstandTotVerblijfsrecreatiefTerrein', 'AfstandTotZonnebank', 'Mantelzorger', 'Rokers', 'ZwaarBelasteMantelzorgers', 'AfstandTotBibliotheek', 'ErvarenGezondheidGoedZeerGoed', 'AfstandTotPoppodium', 'BeperkingInZien', 'BeperkingInHoren', 'AfstandTotOpenbaarGroenTotaal', 'AfstandTotKinderdagverblijf', 'AfstandTotConsultatiebureau', 'AfstandTotBegraafplaats', 'AfstandTotOpenNatTerreinTotaal', 'AfstandTotCafetariaED', 'AfstandTotCafeED', 'AfstandTotMuseum', 'VoldoetAanRichtlijnAlcoholgebruik', 'ErnstigOvergewichtObesitas', 'AfstandTotHuisartsenpost', 'NederlandseAntillenEnAruba', 'AfstandTotVolkstuin', 'AfstandTotDagrecreatiefTerrein', 'UrenMantelzorgPerWeek', 'EigendomOnbekend', 'InBezitWoningcorporatie', 'PersonenautoSPerHuishouden', 'GeboorteRelatief', 'AfstandTotSemiOpenbaarGroenTotaal', 'AfstandTotZwembad', 'OvermatigDrinker', 'AfstandTotBos', 'KLFinancieleDienstenOnroerendGoed']\n"
     ]
    }
   ],
   "source": [
    "# Fit the Full Model\n",
    "X =  sm.add_constant(X_train)  # Add constant term for the intercept\n",
    "model = sm.OLS(y_train, X_train).fit()  # Fit the MLR model\n",
    "best_model = model  # Initialize the best model\n",
    "selected_features = X_train.columns.tolist()\n",
    "best_features = X_train.columns.tolist()\n",
    "best_features_rmse = np.sqrt(-cross_val_score(LinearRegression(), X_train, y_train, cv=10, scoring='neg_mean_squared_error').mean())\n",
    "\n",
    "# Iteratively remove one feature at a time based on p-values\n",
    "while True:\n",
    "    # Compute p-values\n",
    "    p_values = model.pvalues[1:]  # Exclude the constant term\n",
    "\n",
    "    # Identify Insignificant Features\n",
    "    insignificant_feature = p_values.idxmax()\n",
    "    max_p_value = p_values.max()\n",
    "\n",
    "    # Remove Insignificant Feature\n",
    "    X = X.drop(insignificant_feature, axis=1)\n",
    "    selected_features.remove(insignificant_feature)\n",
    "\n",
    "    # When there a no features left\n",
    "    if len(selected_features) == 0:\n",
    "        break\n",
    "    \n",
    "    # Refit the Model\n",
    "    model = sm.OLS(y_train, X).fit()\n",
    "    \n",
    "    # Evaluate Model Performance\n",
    "    rmse = np.sqrt(-cross_val_score(LinearRegression(), X_train[selected_features], y_train, cv=10, scoring='neg_mean_squared_error').mean())\n",
    "\n",
    "    # Check if the model performs better without the insignificant features\n",
    "    if rmse <= best_features_rmse:\n",
    "        best_features_rmse = rmse\n",
    "        best_features = selected_features.copy()\n",
    "        best_model = model\n",
    "\n",
    "# Save results\n",
    "best_model_mlr = LinearRegression().fit(X_train[best_features], y_train)\n",
    "best_features_mlr = best_features\n",
    "\n",
    "# Show results\n",
    "print(\"Best features:\", best_features)\n",
    "print(\"Dropped features:\", list(set(X_train.columns.tolist()) - set(best_features)))"
   ]
  },
  {
   "attachments": {},
   "cell_type": "markdown",
   "metadata": {},
   "source": [
    "*Er zijn geen hyperparameters om te optimaliseren.*"
   ]
  },
  {
   "attachments": {},
   "cell_type": "markdown",
   "metadata": {},
   "source": [
    "# Support Vector Machines"
   ]
  },
  {
   "attachments": {},
   "cell_type": "markdown",
   "metadata": {},
   "source": [
    "**Hyperparameter optimalisatie**"
   ]
  },
  {
   "cell_type": "code",
   "execution_count": 6,
   "metadata": {},
   "outputs": [
    {
     "name": "stdout",
     "output_type": "stream",
     "text": [
      "|   iter    |  target   |     C     |   gamma   | kernel... |\n",
      "-------------------------------------------------------------\n",
      "| \u001b[0m1        \u001b[0m | \u001b[0m-1.461   \u001b[0m | \u001b[0m0.6336   \u001b[0m | \u001b[0m0.05196  \u001b[0m | \u001b[0m1.424    \u001b[0m |\n",
      "| \u001b[0m2        \u001b[0m | \u001b[0m-1.462   \u001b[0m | \u001b[0m1.145    \u001b[0m | \u001b[0m0.05214  \u001b[0m | \u001b[0m3.62     \u001b[0m |\n",
      "| \u001b[95m3        \u001b[0m | \u001b[95m-1.46    \u001b[0m | \u001b[95m7.784    \u001b[0m | \u001b[95m0.05134  \u001b[0m | \u001b[95m2.684    \u001b[0m |\n",
      "| \u001b[0m4        \u001b[0m | \u001b[0m-1.465   \u001b[0m | \u001b[0m7.644    \u001b[0m | \u001b[0m0.09708  \u001b[0m | \u001b[0m1.771    \u001b[0m |\n",
      "| \u001b[0m5        \u001b[0m | \u001b[0m-1.463   \u001b[0m | \u001b[0m4.671    \u001b[0m | \u001b[0m0.07817  \u001b[0m | \u001b[0m1.495    \u001b[0m |\n",
      "| \u001b[0m6        \u001b[0m | \u001b[0m-1.462   \u001b[0m | \u001b[0m3.835    \u001b[0m | \u001b[0m0.01504  \u001b[0m | \u001b[0m2.826    \u001b[0m |\n",
      "| \u001b[95m7        \u001b[0m | \u001b[95m-1.458   \u001b[0m | \u001b[95m1.859    \u001b[0m | \u001b[95m0.08366  \u001b[0m | \u001b[95m3.973    \u001b[0m |\n",
      "| \u001b[0m8        \u001b[0m | \u001b[0m-1.46    \u001b[0m | \u001b[0m8.995    \u001b[0m | \u001b[0m0.04196  \u001b[0m | \u001b[0m2.89     \u001b[0m |\n",
      "| \u001b[0m9        \u001b[0m | \u001b[0m-1.46    \u001b[0m | \u001b[0m9.289    \u001b[0m | \u001b[0m0.0327   \u001b[0m | \u001b[0m3.033    \u001b[0m |\n",
      "| \u001b[0m10       \u001b[0m | \u001b[0m-1.463   \u001b[0m | \u001b[0m2.138    \u001b[0m | \u001b[0m0.01165  \u001b[0m | \u001b[0m3.4      \u001b[0m |\n",
      "| \u001b[0m11       \u001b[0m | \u001b[0m-1.46    \u001b[0m | \u001b[0m2.929    \u001b[0m | \u001b[0m0.00238  \u001b[0m | \u001b[0m3.148    \u001b[0m |\n",
      "| \u001b[0m12       \u001b[0m | \u001b[0m-1.459   \u001b[0m | \u001b[0m9.652    \u001b[0m | \u001b[0m0.04476  \u001b[0m | \u001b[0m3.092    \u001b[0m |\n",
      "| \u001b[0m13       \u001b[0m | \u001b[0m-1.459   \u001b[0m | \u001b[0m1.888    \u001b[0m | \u001b[0m0.06154  \u001b[0m | \u001b[0m3.99     \u001b[0m |\n",
      "| \u001b[0m14       \u001b[0m | \u001b[0m-1.459   \u001b[0m | \u001b[0m2.77     \u001b[0m | \u001b[0m0.03955  \u001b[0m | \u001b[0m2.914    \u001b[0m |\n",
      "| \u001b[0m15       \u001b[0m | \u001b[0m-1.459   \u001b[0m | \u001b[0m1.784    \u001b[0m | \u001b[0m0.06323  \u001b[0m | \u001b[0m3.956    \u001b[0m |\n",
      "| \u001b[0m16       \u001b[0m | \u001b[0m-1.463   \u001b[0m | \u001b[0m2.825    \u001b[0m | \u001b[0m0.01953  \u001b[0m | \u001b[0m3.017    \u001b[0m |\n",
      "| \u001b[0m17       \u001b[0m | \u001b[0m-1.459   \u001b[0m | \u001b[0m1.879    \u001b[0m | \u001b[0m0.07952  \u001b[0m | \u001b[0m3.912    \u001b[0m |\n",
      "| \u001b[0m18       \u001b[0m | \u001b[0m-1.462   \u001b[0m | \u001b[0m2.724    \u001b[0m | \u001b[0m0.02029  \u001b[0m | \u001b[0m2.821    \u001b[0m |\n",
      "| \u001b[95m19       \u001b[0m | \u001b[95m-1.457   \u001b[0m | \u001b[95m9.679    \u001b[0m | \u001b[95m0.07087  \u001b[0m | \u001b[95m3.026    \u001b[0m |\n",
      "| \u001b[95m20       \u001b[0m | \u001b[95m-1.456   \u001b[0m | \u001b[95m9.73     \u001b[0m | \u001b[95m0.09377  \u001b[0m | \u001b[95m3.054    \u001b[0m |\n",
      "| \u001b[0m21       \u001b[0m | \u001b[0m-1.464   \u001b[0m | \u001b[0m7.435    \u001b[0m | \u001b[0m0.04037  \u001b[0m | \u001b[0m1.141    \u001b[0m |\n",
      "| \u001b[0m22       \u001b[0m | \u001b[0m-1.459   \u001b[0m | \u001b[0m9.767    \u001b[0m | \u001b[0m0.0841   \u001b[0m | \u001b[0m2.963    \u001b[0m |\n",
      "| \u001b[0m23       \u001b[0m | \u001b[0m-1.462   \u001b[0m | \u001b[0m9.762    \u001b[0m | \u001b[0m0.01096  \u001b[0m | \u001b[0m3.092    \u001b[0m |\n",
      "| \u001b[0m24       \u001b[0m | \u001b[0m-1.464   \u001b[0m | \u001b[0m5.296    \u001b[0m | \u001b[0m0.08223  \u001b[0m | \u001b[0m1.636    \u001b[0m |\n",
      "| \u001b[0m25       \u001b[0m | \u001b[0m-1.459   \u001b[0m | \u001b[0m9.58     \u001b[0m | \u001b[0m0.08863  \u001b[0m | \u001b[0m2.941    \u001b[0m |\n",
      "| \u001b[0m26       \u001b[0m | \u001b[0m-1.459   \u001b[0m | \u001b[0m9.558    \u001b[0m | \u001b[0m0.04592  \u001b[0m | \u001b[0m3.05     \u001b[0m |\n",
      "| \u001b[0m27       \u001b[0m | \u001b[0m-1.46    \u001b[0m | \u001b[0m9.637    \u001b[0m | \u001b[0m0.02329  \u001b[0m | \u001b[0m2.962    \u001b[0m |\n",
      "| \u001b[0m28       \u001b[0m | \u001b[0m-1.456   \u001b[0m | \u001b[0m9.471    \u001b[0m | \u001b[0m0.09511  \u001b[0m | \u001b[0m3.003    \u001b[0m |\n",
      "| \u001b[0m29       \u001b[0m | \u001b[0m-1.459   \u001b[0m | \u001b[0m9.424    \u001b[0m | \u001b[0m0.06434  \u001b[0m | \u001b[0m2.935    \u001b[0m |\n",
      "| \u001b[0m30       \u001b[0m | \u001b[0m-1.46    \u001b[0m | \u001b[0m7.481    \u001b[0m | \u001b[0m0.02355  \u001b[0m | \u001b[0m2.858    \u001b[0m |\n",
      "| \u001b[0m31       \u001b[0m | \u001b[0m-1.463   \u001b[0m | \u001b[0m0.1795   \u001b[0m | \u001b[0m0.07571  \u001b[0m | \u001b[0m2.745    \u001b[0m |\n",
      "| \u001b[0m32       \u001b[0m | \u001b[0m-1.457   \u001b[0m | \u001b[0m9.409    \u001b[0m | \u001b[0m0.09628  \u001b[0m | \u001b[0m3.033    \u001b[0m |\n",
      "| \u001b[95m33       \u001b[0m | \u001b[95m-1.456   \u001b[0m | \u001b[95m9.466    \u001b[0m | \u001b[95m0.08635  \u001b[0m | \u001b[95m3.145    \u001b[0m |\n",
      "| \u001b[0m34       \u001b[0m | \u001b[0m-1.457   \u001b[0m | \u001b[0m9.382    \u001b[0m | \u001b[0m0.1      \u001b[0m | \u001b[0m3.157    \u001b[0m |\n",
      "| \u001b[0m35       \u001b[0m | \u001b[0m-1.456   \u001b[0m | \u001b[0m9.375    \u001b[0m | \u001b[0m0.09393  \u001b[0m | \u001b[0m3.153    \u001b[0m |\n",
      "| \u001b[0m36       \u001b[0m | \u001b[0m-1.462   \u001b[0m | \u001b[0m9.425    \u001b[0m | \u001b[0m0.02369  \u001b[0m | \u001b[0m3.108    \u001b[0m |\n",
      "| \u001b[0m37       \u001b[0m | \u001b[0m-1.456   \u001b[0m | \u001b[0m9.489    \u001b[0m | \u001b[0m0.0928   \u001b[0m | \u001b[0m3.068    \u001b[0m |\n",
      "| \u001b[0m38       \u001b[0m | \u001b[0m-1.457   \u001b[0m | \u001b[0m9.5      \u001b[0m | \u001b[0m0.0988   \u001b[0m | \u001b[0m3.218    \u001b[0m |\n",
      "| \u001b[0m39       \u001b[0m | \u001b[0m-1.457   \u001b[0m | \u001b[0m9.525    \u001b[0m | \u001b[0m0.06874  \u001b[0m | \u001b[0m3.142    \u001b[0m |\n",
      "| \u001b[0m40       \u001b[0m | \u001b[0m-1.465   \u001b[0m | \u001b[0m8.082    \u001b[0m | \u001b[0m0.04133  \u001b[0m | \u001b[0m1.815    \u001b[0m |\n",
      "| \u001b[0m41       \u001b[0m | \u001b[0m-1.46    \u001b[0m | \u001b[0m9.29     \u001b[0m | \u001b[0m0.02954  \u001b[0m | \u001b[0m3.203    \u001b[0m |\n",
      "| \u001b[0m42       \u001b[0m | \u001b[0m-1.457   \u001b[0m | \u001b[0m9.595    \u001b[0m | \u001b[0m0.09977  \u001b[0m | \u001b[0m3.24     \u001b[0m |\n",
      "| \u001b[0m43       \u001b[0m | \u001b[0m-1.457   \u001b[0m | \u001b[0m9.588    \u001b[0m | \u001b[0m0.06857  \u001b[0m | \u001b[0m3.341    \u001b[0m |\n",
      "| \u001b[0m44       \u001b[0m | \u001b[0m-1.46    \u001b[0m | \u001b[0m4.435    \u001b[0m | \u001b[0m0.01847  \u001b[0m | \u001b[0m2.625    \u001b[0m |\n",
      "| \u001b[0m45       \u001b[0m | \u001b[0m-1.461   \u001b[0m | \u001b[0m9.554    \u001b[0m | \u001b[0m0.01844  \u001b[0m | \u001b[0m3.269    \u001b[0m |\n",
      "| \u001b[0m46       \u001b[0m | \u001b[0m-1.456   \u001b[0m | \u001b[0m9.562    \u001b[0m | \u001b[0m0.08588  \u001b[0m | \u001b[0m3.406    \u001b[0m |\n",
      "| \u001b[0m47       \u001b[0m | \u001b[0m-1.464   \u001b[0m | \u001b[0m9.988    \u001b[0m | \u001b[0m0.02537  \u001b[0m | \u001b[0m1.13     \u001b[0m |\n",
      "| \u001b[0m48       \u001b[0m | \u001b[0m-1.461   \u001b[0m | \u001b[0m9.834    \u001b[0m | \u001b[0m0.008714 \u001b[0m | \u001b[0m2.212    \u001b[0m |\n",
      "| \u001b[0m49       \u001b[0m | \u001b[0m-1.464   \u001b[0m | \u001b[0m1.037    \u001b[0m | \u001b[0m0.002171 \u001b[0m | \u001b[0m2.163    \u001b[0m |\n",
      "| \u001b[0m50       \u001b[0m | \u001b[0m-1.46    \u001b[0m | \u001b[0m9.63     \u001b[0m | \u001b[0m0.03036  \u001b[0m | \u001b[0m3.413    \u001b[0m |\n",
      "=============================================================\n"
     ]
    },
    {
     "data": {
      "text/html": [
       "<style>#sk-container-id-1 {color: black;background-color: white;}#sk-container-id-1 pre{padding: 0;}#sk-container-id-1 div.sk-toggleable {background-color: white;}#sk-container-id-1 label.sk-toggleable__label {cursor: pointer;display: block;width: 100%;margin-bottom: 0;padding: 0.3em;box-sizing: border-box;text-align: center;}#sk-container-id-1 label.sk-toggleable__label-arrow:before {content: \"▸\";float: left;margin-right: 0.25em;color: #696969;}#sk-container-id-1 label.sk-toggleable__label-arrow:hover:before {color: black;}#sk-container-id-1 div.sk-estimator:hover label.sk-toggleable__label-arrow:before {color: black;}#sk-container-id-1 div.sk-toggleable__content {max-height: 0;max-width: 0;overflow: hidden;text-align: left;background-color: #f0f8ff;}#sk-container-id-1 div.sk-toggleable__content pre {margin: 0.2em;color: black;border-radius: 0.25em;background-color: #f0f8ff;}#sk-container-id-1 input.sk-toggleable__control:checked~div.sk-toggleable__content {max-height: 200px;max-width: 100%;overflow: auto;}#sk-container-id-1 input.sk-toggleable__control:checked~label.sk-toggleable__label-arrow:before {content: \"▾\";}#sk-container-id-1 div.sk-estimator input.sk-toggleable__control:checked~label.sk-toggleable__label {background-color: #d4ebff;}#sk-container-id-1 div.sk-label input.sk-toggleable__control:checked~label.sk-toggleable__label {background-color: #d4ebff;}#sk-container-id-1 input.sk-hidden--visually {border: 0;clip: rect(1px 1px 1px 1px);clip: rect(1px, 1px, 1px, 1px);height: 1px;margin: -1px;overflow: hidden;padding: 0;position: absolute;width: 1px;}#sk-container-id-1 div.sk-estimator {font-family: monospace;background-color: #f0f8ff;border: 1px dotted black;border-radius: 0.25em;box-sizing: border-box;margin-bottom: 0.5em;}#sk-container-id-1 div.sk-estimator:hover {background-color: #d4ebff;}#sk-container-id-1 div.sk-parallel-item::after {content: \"\";width: 100%;border-bottom: 1px solid gray;flex-grow: 1;}#sk-container-id-1 div.sk-label:hover label.sk-toggleable__label {background-color: #d4ebff;}#sk-container-id-1 div.sk-serial::before {content: \"\";position: absolute;border-left: 1px solid gray;box-sizing: border-box;top: 0;bottom: 0;left: 50%;z-index: 0;}#sk-container-id-1 div.sk-serial {display: flex;flex-direction: column;align-items: center;background-color: white;padding-right: 0.2em;padding-left: 0.2em;position: relative;}#sk-container-id-1 div.sk-item {position: relative;z-index: 1;}#sk-container-id-1 div.sk-parallel {display: flex;align-items: stretch;justify-content: center;background-color: white;position: relative;}#sk-container-id-1 div.sk-item::before, #sk-container-id-1 div.sk-parallel-item::before {content: \"\";position: absolute;border-left: 1px solid gray;box-sizing: border-box;top: 0;bottom: 0;left: 50%;z-index: -1;}#sk-container-id-1 div.sk-parallel-item {display: flex;flex-direction: column;z-index: 1;position: relative;background-color: white;}#sk-container-id-1 div.sk-parallel-item:first-child::after {align-self: flex-end;width: 50%;}#sk-container-id-1 div.sk-parallel-item:last-child::after {align-self: flex-start;width: 50%;}#sk-container-id-1 div.sk-parallel-item:only-child::after {width: 0;}#sk-container-id-1 div.sk-dashed-wrapped {border: 1px dashed gray;margin: 0 0.4em 0.5em 0.4em;box-sizing: border-box;padding-bottom: 0.4em;background-color: white;}#sk-container-id-1 div.sk-label label {font-family: monospace;font-weight: bold;display: inline-block;line-height: 1.2em;}#sk-container-id-1 div.sk-label-container {text-align: center;}#sk-container-id-1 div.sk-container {/* jupyter's `normalize.less` sets `[hidden] { display: none; }` but bootstrap.min.css set `[hidden] { display: none !important; }` so we also need the `!important` here to be able to override the default hidden behavior on the sphinx rendered scikit-learn.org. See: https://github.com/scikit-learn/scikit-learn/issues/21755 */display: inline-block !important;position: relative;}#sk-container-id-1 div.sk-text-repr-fallback {display: none;}</style><div id=\"sk-container-id-1\" class=\"sk-top-container\"><div class=\"sk-text-repr-fallback\"><pre>SVR(C=9.46640201332018, gamma=0.08635486453021478, kernel=&#x27;poly&#x27;)</pre><b>In a Jupyter environment, please rerun this cell to show the HTML representation or trust the notebook. <br />On GitHub, the HTML representation is unable to render, please try loading this page with nbviewer.org.</b></div><div class=\"sk-container\" hidden><div class=\"sk-item\"><div class=\"sk-estimator sk-toggleable\"><input class=\"sk-toggleable__control sk-hidden--visually\" id=\"sk-estimator-id-1\" type=\"checkbox\" checked><label for=\"sk-estimator-id-1\" class=\"sk-toggleable__label sk-toggleable__label-arrow\">SVR</label><div class=\"sk-toggleable__content\"><pre>SVR(C=9.46640201332018, gamma=0.08635486453021478, kernel=&#x27;poly&#x27;)</pre></div></div></div></div></div>"
      ],
      "text/plain": [
       "SVR(C=9.46640201332018, gamma=0.08635486453021478, kernel='poly')"
      ]
     },
     "execution_count": 6,
     "metadata": {},
     "output_type": "execute_result"
    }
   ],
   "source": [
    "def bo_params_generic(model, params, X_train, y_train):\n",
    "    # Create the model instance with the specified parameters\n",
    "    classifier = model(**params)\n",
    "    \n",
    "    # Calculating accuracy based on cross-validation\n",
    "    scores = cross_val_score(classifier, X_train, y_train, cv=10, scoring='neg_mean_squared_error')\n",
    "    return scores.mean()\n",
    "\n",
    "params_ranges = {\n",
    "    'C': (0.1, 10),\n",
    "    'kernel_int': (1, 4),\n",
    "    'gamma': (0.001, 0.1)\n",
    "}\n",
    "\n",
    "kernel_mapping = {\n",
    "    1: 'linear',\n",
    "    2: 'rbf',\n",
    "    3: 'poly',\n",
    "    4: 'sigmoid'\n",
    "}\n",
    "\n",
    "# Example usage with SVM\n",
    "model = SVR\n",
    "model_bo = BayesianOptimization(f=lambda C, kernel_int, gamma:\n",
    "                                    bo_params_generic(model, {\n",
    "                                        'C': C,\n",
    "                                        'kernel': kernel_mapping[int(kernel_int)],\n",
    "                                        'gamma': gamma\n",
    "                                    }, X_train, y_train),\n",
    "                             pbounds=params_ranges)\n",
    "\n",
    "results = model_bo.maximize(n_iter=40, init_points=10)\n",
    "params = model_bo.max['params']\n",
    "\n",
    "# Creating a model with the best hyperparameters\n",
    "best_model_svm = model(\n",
    "    C=params['C'],\n",
    "    kernel=kernel_mapping[int(params['kernel_int'])],\n",
    "    gamma=params['gamma']\n",
    ")\n",
    "\n",
    "# Fit the model\n",
    "best_model_svm.fit(X_train, y_train)\n"
   ]
  },
  {
   "attachments": {},
   "cell_type": "markdown",
   "metadata": {},
   "source": [
    "**Feature Selection**"
   ]
  },
  {
   "cell_type": "code",
   "execution_count": 7,
   "metadata": {},
   "outputs": [
    {
     "name": "stdout",
     "output_type": "stream",
     "text": [
      "Scince the kernal is not linear, this feature selection is not possible\n",
      "Best features: Index(['NederlandseAntillenEnAruba', 'GeboorteRelatief', 'SterfteRelatief',\n",
      "       'GemiddeldeWoningwaarde', 'PercentageOnbewoond',\n",
      "       'InBezitWoningcorporatie', 'InBezitOverigeVerhuurders',\n",
      "       'EigendomOnbekend', 'BouwjaarVanaf2000', 'kPersonenMetLaagsteInkomen',\n",
      "       'ALandbouwBosbouwEnVisserij', 'KLFinancieleDienstenOnroerendGoed',\n",
      "       'PersonenautoSOverigeBrandstof', 'PersonenautoSPerHuishouden',\n",
      "       'PersonenautoSNaarOppervlakte', 'AfstandTotHuisartsenpraktijk',\n",
      "       'AfstandTotKinderdagverblijf', 'AfstandTotSchool', 'OppervlakteWater',\n",
      "       'TotaalDiefstalUitWoningSchuurED',\n",
      "       'VernielingMisdrijfTegenOpenbareOrde', 'GeweldsEnSeksueleMisdrijven',\n",
      "       'AfstandTotHuisartsenpost', 'AfstandTotApotheek',\n",
      "       'AfstandTotConsultatiebureau', 'AfstandTotOvDagelLevensmiddelen',\n",
      "       'AfstandTotWarenhuis', 'AfstandTotCafeED', 'AfstandTotCafetariaED',\n",
      "       'AfstandTotRestaurant', 'AfstandTotHotelED',\n",
      "       'AfstandTotBuitenschoolseOpvang', 'AfstandTotOpenbaarGroenTotaal',\n",
      "       'AfstandTotDagrecreatiefTerrein', 'AfstandTotBos',\n",
      "       'AfstandTotOpenNatTerreinTotaal', 'AfstandTotOpenDroogNatTerrein',\n",
      "       'AfstandTotOpenNatNatuurlijkTerrein',\n",
      "       'AfstandTotSemiOpenbaarGroenTotaal', 'AfstandTotSportterrein',\n",
      "       'AfstandTotVolkstuin', 'AfstandTotVerblijfsrecreatiefTerrein',\n",
      "       'AfstandTotBegraafplaats', 'AfstandTotTreinstationsTotaal',\n",
      "       'AfstandTotBelangrijkOverstapstation', 'AfstandTotBibliotheek',\n",
      "       'AfstandTotZwembad', 'AfstandTotKunstijsbaan', 'AfstandTotMuseum',\n",
      "       'AfstandTotPodiumkunstenTotaal', 'AfstandTotPoppodium',\n",
      "       'AfstandTotBioscoop', 'AfstandTotSauna', 'AfstandTotZonnebank',\n",
      "       'AfstandTotAttractie', 'AfstandTotBrandweerkazerne',\n",
      "       'ErvarenGezondheidGoedZeerGoed', 'EenOfMeerLangdurigeAandoeningen',\n",
      "       'BeperkingInHoren', 'BeperkingInZien', 'Ondergewicht',\n",
      "       'MatigOvergewicht', 'ErnstigOvergewichtObesitas',\n",
      "       'VoldoetAanBeweegrichtlijn', 'Mantelzorger',\n",
      "       'ZwaarBelasteMantelzorgers', 'UrenMantelzorgPerWeek', 'Rokers',\n",
      "       'VoldoetAanRichtlijnAlcoholgebruik', 'OvermatigDrinker'],\n",
      "      dtype='object')\n",
      "Dropped features: []\n"
     ]
    }
   ],
   "source": [
    "# Get the accuracy score of the model with all features\n",
    "best_accuracy = cross_val_score(best_model_svm, X_train, y_train, cv=10, scoring='neg_mean_squared_error', n_jobs=-1).mean()\n",
    "best_model = best_model_svm\n",
    "selected_features = X_train.columns\n",
    "best_features = selected_features\n",
    "\n",
    "while len(selected_features) > 1:\n",
    "    try:\n",
    "        # Retrieve the coefficients from the SVM model\n",
    "        coefficients = best_model_svm.coef_[0]\n",
    "\n",
    "        # Sort features based on their coefficient magnitudes\n",
    "        sorted_indices = np.argsort(np.abs(coefficients))\n",
    "        selected_features = [X_train.columns[i] for i in sorted_indices[::-1]]\n",
    "\n",
    "        # Remove the least important feature\n",
    "        selected_features = selected_features[:-1]\n",
    "        \n",
    "        # Refit the linear SVM classifier\n",
    "        best_model_svm_classification.fit(X_train[selected_features], y_train)\n",
    "        \n",
    "        # Evaluate Model Performance\n",
    "        accuracy = cross_val_score(best_model_svm, X_train[selected_features], y_train, cv=10, scoring='neg_mean_squared_error', n_jobs=-1).mean()\n",
    "\n",
    "        # Check if the model performs better without the insignificant features\n",
    "        if accuracy >= best_accuracy:\n",
    "            best_accuracy = accuracy\n",
    "            best_features = selected_features.copy()\n",
    "            best_model = best_model_svm\n",
    "    except:\n",
    "        print(\"Scince the kernal is not linear, this feature selection is not possible\") \n",
    "        break\n",
    "\n",
    "# Save results\n",
    "best_model_svm = best_model\n",
    "best_features_svm = best_features\n",
    "\n",
    "# Show results\n",
    "print(\"Best features:\", best_features_svm)\n",
    "print(\"Dropped features:\", list(set(X_train.columns.tolist()) - set(best_features_svm)))"
   ]
  },
  {
   "attachments": {},
   "cell_type": "markdown",
   "metadata": {},
   "source": [
    "# Random Forest"
   ]
  },
  {
   "attachments": {},
   "cell_type": "markdown",
   "metadata": {},
   "source": [
    "**Feature selection**"
   ]
  },
  {
   "cell_type": "code",
   "execution_count": 8,
   "metadata": {},
   "outputs": [
    {
     "name": "stdout",
     "output_type": "stream",
     "text": [
      "Best features: ['AfstandTotZonnebank']\n",
      "Dropped features: ['OppervlakteWater', 'AfstandTotPodiumkunstenTotaal', 'AfstandTotBioscoop', 'PercentageOnbewoond', 'AfstandTotKunstijsbaan', 'GemiddeldeWoningwaarde', 'Ondergewicht', 'AfstandTotBrandweerkazerne', 'InBezitOverigeVerhuurders', 'GeweldsEnSeksueleMisdrijven', 'ALandbouwBosbouwEnVisserij', 'MatigOvergewicht', 'AfstandTotBuitenschoolseOpvang', 'AfstandTotSauna', 'AfstandTotOpenDroogNatTerrein', 'AfstandTotSchool', 'AfstandTotHuisartsenpraktijk', 'AfstandTotOpenNatNatuurlijkTerrein', 'VernielingMisdrijfTegenOpenbareOrde', 'AfstandTotTreinstationsTotaal', 'kPersonenMetLaagsteInkomen', 'PersonenautoSOverigeBrandstof', 'AfstandTotHotelED', 'PersonenautoSNaarOppervlakte', 'VoldoetAanBeweegrichtlijn', 'AfstandTotOvDagelLevensmiddelen', 'AfstandTotRestaurant', 'BouwjaarVanaf2000', 'AfstandTotWarenhuis', 'TotaalDiefstalUitWoningSchuurED', 'AfstandTotVerblijfsrecreatiefTerrein', 'Mantelzorger', 'Rokers', 'ZwaarBelasteMantelzorgers', 'AfstandTotBibliotheek', 'ErvarenGezondheidGoedZeerGoed', 'AfstandTotSportterrein', 'AfstandTotPoppodium', 'EenOfMeerLangdurigeAandoeningen', 'BeperkingInZien', 'BeperkingInHoren', 'AfstandTotOpenbaarGroenTotaal', 'AfstandTotKinderdagverblijf', 'AfstandTotApotheek', 'AfstandTotConsultatiebureau', 'AfstandTotBegraafplaats', 'AfstandTotOpenNatTerreinTotaal', 'AfstandTotCafetariaED', 'AfstandTotCafeED', 'AfstandTotMuseum', 'SterfteRelatief', 'AfstandTotAttractie', 'VoldoetAanRichtlijnAlcoholgebruik', 'ErnstigOvergewichtObesitas', 'AfstandTotHuisartsenpost', 'NederlandseAntillenEnAruba', 'AfstandTotVolkstuin', 'AfstandTotDagrecreatiefTerrein', 'UrenMantelzorgPerWeek', 'EigendomOnbekend', 'InBezitWoningcorporatie', 'PersonenautoSPerHuishouden', 'GeboorteRelatief', 'AfstandTotSemiOpenbaarGroenTotaal', 'AfstandTotZwembad', 'OvermatigDrinker', 'AfstandTotBos', 'AfstandTotBelangrijkOverstapstation', 'KLFinancieleDienstenOnroerendGoed']\n"
     ]
    }
   ],
   "source": [
    "# Get the accuracy score of the model with all the features\n",
    "rf = RandomForestRegressor(n_estimators=100, random_state=0).fit(X_train, y_train)\n",
    "best_rf = rf\n",
    "selected_features = X_train.columns.tolist()\n",
    "best_features = selected_features\n",
    "best_features_accuracy = cross_val_score(RandomForestRegressor(n_estimators=100, random_state=0), X_train, y_train, cv=10, scoring='neg_mean_squared_error', n_jobs=-1).mean()\n",
    "\n",
    "while True:\n",
    "    # Make DataFrame of feature impotances\n",
    "    result = permutation_importance(\n",
    "            rf, X_train[selected_features], y_train, n_repeats=10, random_state=42, n_jobs=-1\n",
    "        )\n",
    "    df_importances = pd.DataFrame({'feature': X_train[selected_features].columns, 'importance': result.importances_mean, 'std': result.importances_std})\n",
    "    df_importances = df_importances.sort_values('importance')\n",
    "\n",
    "    # Remove least important feature\n",
    "    selected_features.remove(df_importances['feature'].iloc[0])\n",
    "\n",
    "    # When there are no features left\n",
    "    if len(selected_features) == 0:\n",
    "        break\n",
    "    \n",
    "    # Refit the Model\n",
    "    rf = RandomForestRegressor(n_estimators=100, random_state=0).fit(X_train[selected_features], y_train)\n",
    "\n",
    "    # Evaluate Model Performance\n",
    "    accuracy = cross_val_score(RandomForestRegressor(n_estimators=100, random_state=0), X_train[selected_features], y_train, cv=10, scoring='neg_mean_squared_error', n_jobs=-1).mean()\n",
    "\n",
    "    # Check if the model performs better without the insignificant features\n",
    "    if accuracy >= best_features_accuracy:\n",
    "        best_features_accuracy = accuracy\n",
    "        best_features = selected_features.copy()\n",
    "        best_model = rf\n",
    "\n",
    "# Save results\n",
    "best_model_rf = best_model\n",
    "best_features_rf = best_features\n",
    "\n",
    "# Show results\n",
    "print(\"Best features:\", best_features_rf)\n",
    "print(\"Dropped features:\", list(set(X_train.columns.tolist()) - set(best_features_rf)))"
   ]
  },
  {
   "attachments": {},
   "cell_type": "markdown",
   "metadata": {},
   "source": [
    "**Hyperparameter optimalisatie**"
   ]
  },
  {
   "cell_type": "code",
   "execution_count": 9,
   "metadata": {},
   "outputs": [
    {
     "name": "stdout",
     "output_type": "stream",
     "text": [
      "|   iter    |  target   | max_depth | max_fe... | min_sa... | n_esti... |\n",
      "-------------------------------------------------------------------------\n"
     ]
    },
    {
     "name": "stdout",
     "output_type": "stream",
     "text": [
      "| \u001b[0m1        \u001b[0m | \u001b[0m-1.431   \u001b[0m | \u001b[0m14.59    \u001b[0m | \u001b[0m0.7003   \u001b[0m | \u001b[0m8.114    \u001b[0m | \u001b[0m889.7    \u001b[0m |\n",
      "| \u001b[0m2        \u001b[0m | \u001b[0m-1.442   \u001b[0m | \u001b[0m2.336    \u001b[0m | \u001b[0m0.8459   \u001b[0m | \u001b[0m2.45     \u001b[0m | \u001b[0m485.4    \u001b[0m |\n",
      "| \u001b[0m3        \u001b[0m | \u001b[0m-1.431   \u001b[0m | \u001b[0m7.726    \u001b[0m | \u001b[0m0.3436   \u001b[0m | \u001b[0m3.167    \u001b[0m | \u001b[0m241.2    \u001b[0m |\n",
      "| \u001b[0m4        \u001b[0m | \u001b[0m-1.431   \u001b[0m | \u001b[0m8.023    \u001b[0m | \u001b[0m0.928    \u001b[0m | \u001b[0m8.678    \u001b[0m | \u001b[0m318.8    \u001b[0m |\n",
      "| \u001b[0m5        \u001b[0m | \u001b[0m-1.442   \u001b[0m | \u001b[0m1.773    \u001b[0m | \u001b[0m0.8244   \u001b[0m | \u001b[0m5.41     \u001b[0m | \u001b[0m658.4    \u001b[0m |\n",
      "| \u001b[0m6        \u001b[0m | \u001b[0m-1.433   \u001b[0m | \u001b[0m5.467    \u001b[0m | \u001b[0m0.8026   \u001b[0m | \u001b[0m6.991    \u001b[0m | \u001b[0m798.1    \u001b[0m |\n",
      "| \u001b[0m7        \u001b[0m | \u001b[0m-1.436   \u001b[0m | \u001b[0m1.03     \u001b[0m | \u001b[0m0.9623   \u001b[0m | \u001b[0m10.91    \u001b[0m | \u001b[0m109.2    \u001b[0m |\n",
      "| \u001b[0m8        \u001b[0m | \u001b[0m-1.431   \u001b[0m | \u001b[0m6.815    \u001b[0m | \u001b[0m0.793    \u001b[0m | \u001b[0m2.236    \u001b[0m | \u001b[0m827.2    \u001b[0m |\n",
      "| \u001b[0m9        \u001b[0m | \u001b[0m-1.431   \u001b[0m | \u001b[0m13.36    \u001b[0m | \u001b[0m0.8899   \u001b[0m | \u001b[0m9.789    \u001b[0m | \u001b[0m642.8    \u001b[0m |\n",
      "| \u001b[0m10       \u001b[0m | \u001b[0m-1.431   \u001b[0m | \u001b[0m7.929    \u001b[0m | \u001b[0m0.5725   \u001b[0m | \u001b[0m10.7     \u001b[0m | \u001b[0m644.6    \u001b[0m |\n",
      "| \u001b[0m11       \u001b[0m | \u001b[0m-1.433   \u001b[0m | \u001b[0m5.117    \u001b[0m | \u001b[0m0.3451   \u001b[0m | \u001b[0m11.75    \u001b[0m | \u001b[0m633.5    \u001b[0m |\n",
      "| \u001b[0m12       \u001b[0m | \u001b[0m-1.431   \u001b[0m | \u001b[0m12.66    \u001b[0m | \u001b[0m0.5007   \u001b[0m | \u001b[0m6.587    \u001b[0m | \u001b[0m815.3    \u001b[0m |\n",
      "| \u001b[0m13       \u001b[0m | \u001b[0m-1.431   \u001b[0m | \u001b[0m18.99    \u001b[0m | \u001b[0m0.9924   \u001b[0m | \u001b[0m8.779    \u001b[0m | \u001b[0m829.6    \u001b[0m |\n",
      "| \u001b[0m14       \u001b[0m | \u001b[0m-1.431   \u001b[0m | \u001b[0m5.872    \u001b[0m | \u001b[0m0.5234   \u001b[0m | \u001b[0m11.39    \u001b[0m | \u001b[0m842.1    \u001b[0m |\n",
      "| \u001b[0m15       \u001b[0m | \u001b[0m-1.431   \u001b[0m | \u001b[0m11.51    \u001b[0m | \u001b[0m0.6175   \u001b[0m | \u001b[0m8.68     \u001b[0m | \u001b[0m870.0    \u001b[0m |\n",
      "| \u001b[0m16       \u001b[0m | \u001b[0m-1.431   \u001b[0m | \u001b[0m19.97    \u001b[0m | \u001b[0m0.2532   \u001b[0m | \u001b[0m3.214    \u001b[0m | \u001b[0m854.9    \u001b[0m |\n",
      "| \u001b[0m17       \u001b[0m | \u001b[0m-1.436   \u001b[0m | \u001b[0m1.0      \u001b[0m | \u001b[0m0.4145   \u001b[0m | \u001b[0m2.0      \u001b[0m | \u001b[0m882.5    \u001b[0m |\n",
      "| \u001b[0m18       \u001b[0m | \u001b[0m-1.431   \u001b[0m | \u001b[0m5.691    \u001b[0m | \u001b[0m0.2353   \u001b[0m | \u001b[0m2.178    \u001b[0m | \u001b[0m856.7    \u001b[0m |\n",
      "| \u001b[0m19       \u001b[0m | \u001b[0m-1.431   \u001b[0m | \u001b[0m19.08    \u001b[0m | \u001b[0m0.8548   \u001b[0m | \u001b[0m9.405    \u001b[0m | \u001b[0m906.2    \u001b[0m |\n",
      "| \u001b[0m20       \u001b[0m | \u001b[0m-1.431   \u001b[0m | \u001b[0m8.584    \u001b[0m | \u001b[0m0.854    \u001b[0m | \u001b[0m10.44    \u001b[0m | \u001b[0m299.8    \u001b[0m |\n",
      "| \u001b[0m21       \u001b[0m | \u001b[0m-1.438   \u001b[0m | \u001b[0m4.417    \u001b[0m | \u001b[0m0.1607   \u001b[0m | \u001b[0m4.682    \u001b[0m | \u001b[0m260.3    \u001b[0m |\n",
      "| \u001b[0m22       \u001b[0m | \u001b[0m-1.431   \u001b[0m | \u001b[0m8.921    \u001b[0m | \u001b[0m0.5087   \u001b[0m | \u001b[0m4.966    \u001b[0m | \u001b[0m225.7    \u001b[0m |\n",
      "| \u001b[0m23       \u001b[0m | \u001b[0m-1.431   \u001b[0m | \u001b[0m19.4     \u001b[0m | \u001b[0m0.7734   \u001b[0m | \u001b[0m2.572    \u001b[0m | \u001b[0m309.8    \u001b[0m |\n",
      "| \u001b[0m24       \u001b[0m | \u001b[0m-1.431   \u001b[0m | \u001b[0m19.93    \u001b[0m | \u001b[0m0.9667   \u001b[0m | \u001b[0m4.594    \u001b[0m | \u001b[0m333.0    \u001b[0m |\n",
      "| \u001b[0m25       \u001b[0m | \u001b[0m-1.442   \u001b[0m | \u001b[0m1.593    \u001b[0m | \u001b[0m0.9705   \u001b[0m | \u001b[0m7.537    \u001b[0m | \u001b[0m339.0    \u001b[0m |\n",
      "| \u001b[0m26       \u001b[0m | \u001b[0m-1.431   \u001b[0m | \u001b[0m18.6     \u001b[0m | \u001b[0m0.3547   \u001b[0m | \u001b[0m11.79    \u001b[0m | \u001b[0m233.9    \u001b[0m |\n",
      "| \u001b[0m27       \u001b[0m | \u001b[0m-1.431   \u001b[0m | \u001b[0m18.98    \u001b[0m | \u001b[0m0.8667   \u001b[0m | \u001b[0m11.75    \u001b[0m | \u001b[0m209.9    \u001b[0m |\n",
      "| \u001b[0m28       \u001b[0m | \u001b[0m-1.442   \u001b[0m | \u001b[0m2.365    \u001b[0m | \u001b[0m0.4226   \u001b[0m | \u001b[0m7.252    \u001b[0m | \u001b[0m204.6    \u001b[0m |\n",
      "| \u001b[0m29       \u001b[0m | \u001b[0m-1.431   \u001b[0m | \u001b[0m19.46    \u001b[0m | \u001b[0m0.5092   \u001b[0m | \u001b[0m11.14    \u001b[0m | \u001b[0m320.8    \u001b[0m |\n",
      "| \u001b[0m30       \u001b[0m | \u001b[0m-1.436   \u001b[0m | \u001b[0m1.0      \u001b[0m | \u001b[0m0.1      \u001b[0m | \u001b[0m2.0      \u001b[0m | \u001b[0m307.4    \u001b[0m |\n",
      "| \u001b[0m31       \u001b[0m | \u001b[0m-1.431   \u001b[0m | \u001b[0m20.0     \u001b[0m | \u001b[0m1.0      \u001b[0m | \u001b[0m2.0      \u001b[0m | \u001b[0m222.1    \u001b[0m |\n",
      "| \u001b[0m32       \u001b[0m | \u001b[0m-1.431   \u001b[0m | \u001b[0m20.0     \u001b[0m | \u001b[0m1.0      \u001b[0m | \u001b[0m12.0     \u001b[0m | \u001b[0m292.7    \u001b[0m |\n",
      "| \u001b[0m33       \u001b[0m | \u001b[0m-1.442   \u001b[0m | \u001b[0m2.241    \u001b[0m | \u001b[0m0.9601   \u001b[0m | \u001b[0m11.7     \u001b[0m | \u001b[0m910.5    \u001b[0m |\n",
      "| \u001b[0m34       \u001b[0m | \u001b[0m-1.436   \u001b[0m | \u001b[0m1.484    \u001b[0m | \u001b[0m0.6455   \u001b[0m | \u001b[0m11.36    \u001b[0m | \u001b[0m818.3    \u001b[0m |\n",
      "| \u001b[0m35       \u001b[0m | \u001b[0m-1.431   \u001b[0m | \u001b[0m16.35    \u001b[0m | \u001b[0m0.1993   \u001b[0m | \u001b[0m2.633    \u001b[0m | \u001b[0m842.4    \u001b[0m |\n",
      "| \u001b[0m36       \u001b[0m | \u001b[0m-1.431   \u001b[0m | \u001b[0m20.0     \u001b[0m | \u001b[0m0.1      \u001b[0m | \u001b[0m12.0     \u001b[0m | \u001b[0m878.7    \u001b[0m |\n",
      "| \u001b[0m37       \u001b[0m | \u001b[0m-1.431   \u001b[0m | \u001b[0m19.72    \u001b[0m | \u001b[0m0.8494   \u001b[0m | \u001b[0m2.012    \u001b[0m | \u001b[0m805.5    \u001b[0m |\n",
      "| \u001b[0m38       \u001b[0m | \u001b[0m-1.431   \u001b[0m | \u001b[0m19.64    \u001b[0m | \u001b[0m0.287    \u001b[0m | \u001b[0m2.717    \u001b[0m | \u001b[0m783.2    \u001b[0m |\n",
      "| \u001b[0m39       \u001b[0m | \u001b[0m-1.431   \u001b[0m | \u001b[0m6.052    \u001b[0m | \u001b[0m0.9054   \u001b[0m | \u001b[0m6.867    \u001b[0m | \u001b[0m770.0    \u001b[0m |\n",
      "| \u001b[0m40       \u001b[0m | \u001b[0m-1.431   \u001b[0m | \u001b[0m19.62    \u001b[0m | \u001b[0m0.4829   \u001b[0m | \u001b[0m2.743    \u001b[0m | \u001b[0m761.5    \u001b[0m |\n",
      "| \u001b[0m41       \u001b[0m | \u001b[0m-1.431   \u001b[0m | \u001b[0m5.885    \u001b[0m | \u001b[0m0.716    \u001b[0m | \u001b[0m4.561    \u001b[0m | \u001b[0m748.2    \u001b[0m |\n",
      "| \u001b[0m42       \u001b[0m | \u001b[0m-1.431   \u001b[0m | \u001b[0m20.0     \u001b[0m | \u001b[0m1.0      \u001b[0m | \u001b[0m12.0     \u001b[0m | \u001b[0m743.6    \u001b[0m |\n",
      "| \u001b[0m43       \u001b[0m | \u001b[0m-1.431   \u001b[0m | \u001b[0m13.19    \u001b[0m | \u001b[0m0.9551   \u001b[0m | \u001b[0m2.862    \u001b[0m | \u001b[0m727.7    \u001b[0m |\n",
      "| \u001b[0m44       \u001b[0m | \u001b[0m-1.442   \u001b[0m | \u001b[0m1.826    \u001b[0m | \u001b[0m0.5769   \u001b[0m | \u001b[0m11.89    \u001b[0m | \u001b[0m715.6    \u001b[0m |\n",
      "| \u001b[0m45       \u001b[0m | \u001b[0m-1.431   \u001b[0m | \u001b[0m20.0     \u001b[0m | \u001b[0m0.1      \u001b[0m | \u001b[0m2.0      \u001b[0m | \u001b[0m737.9    \u001b[0m |\n",
      "| \u001b[0m46       \u001b[0m | \u001b[0m-1.431   \u001b[0m | \u001b[0m19.49    \u001b[0m | \u001b[0m0.4161   \u001b[0m | \u001b[0m4.871    \u001b[0m | \u001b[0m998.8    \u001b[0m |\n",
      "| \u001b[0m47       \u001b[0m | \u001b[0m-1.438   \u001b[0m | \u001b[0m3.724    \u001b[0m | \u001b[0m0.8922   \u001b[0m | \u001b[0m9.424    \u001b[0m | \u001b[0m987.9    \u001b[0m |\n",
      "| \u001b[0m48       \u001b[0m | \u001b[0m-1.431   \u001b[0m | \u001b[0m18.34    \u001b[0m | \u001b[0m0.7666   \u001b[0m | \u001b[0m7.454    \u001b[0m | \u001b[0m566.3    \u001b[0m |\n",
      "| \u001b[0m49       \u001b[0m | \u001b[0m-1.442   \u001b[0m | \u001b[0m2.431    \u001b[0m | \u001b[0m0.996    \u001b[0m | \u001b[0m4.464    \u001b[0m | \u001b[0m556.9    \u001b[0m |\n",
      "| \u001b[0m50       \u001b[0m | \u001b[0m-1.431   \u001b[0m | \u001b[0m18.21    \u001b[0m | \u001b[0m0.6749   \u001b[0m | \u001b[0m9.026    \u001b[0m | \u001b[0m584.9    \u001b[0m |\n",
      "=========================================================================\n"
     ]
    },
    {
     "data": {
      "text/html": [
       "<style>#sk-container-id-2 {color: black;background-color: white;}#sk-container-id-2 pre{padding: 0;}#sk-container-id-2 div.sk-toggleable {background-color: white;}#sk-container-id-2 label.sk-toggleable__label {cursor: pointer;display: block;width: 100%;margin-bottom: 0;padding: 0.3em;box-sizing: border-box;text-align: center;}#sk-container-id-2 label.sk-toggleable__label-arrow:before {content: \"▸\";float: left;margin-right: 0.25em;color: #696969;}#sk-container-id-2 label.sk-toggleable__label-arrow:hover:before {color: black;}#sk-container-id-2 div.sk-estimator:hover label.sk-toggleable__label-arrow:before {color: black;}#sk-container-id-2 div.sk-toggleable__content {max-height: 0;max-width: 0;overflow: hidden;text-align: left;background-color: #f0f8ff;}#sk-container-id-2 div.sk-toggleable__content pre {margin: 0.2em;color: black;border-radius: 0.25em;background-color: #f0f8ff;}#sk-container-id-2 input.sk-toggleable__control:checked~div.sk-toggleable__content {max-height: 200px;max-width: 100%;overflow: auto;}#sk-container-id-2 input.sk-toggleable__control:checked~label.sk-toggleable__label-arrow:before {content: \"▾\";}#sk-container-id-2 div.sk-estimator input.sk-toggleable__control:checked~label.sk-toggleable__label {background-color: #d4ebff;}#sk-container-id-2 div.sk-label input.sk-toggleable__control:checked~label.sk-toggleable__label {background-color: #d4ebff;}#sk-container-id-2 input.sk-hidden--visually {border: 0;clip: rect(1px 1px 1px 1px);clip: rect(1px, 1px, 1px, 1px);height: 1px;margin: -1px;overflow: hidden;padding: 0;position: absolute;width: 1px;}#sk-container-id-2 div.sk-estimator {font-family: monospace;background-color: #f0f8ff;border: 1px dotted black;border-radius: 0.25em;box-sizing: border-box;margin-bottom: 0.5em;}#sk-container-id-2 div.sk-estimator:hover {background-color: #d4ebff;}#sk-container-id-2 div.sk-parallel-item::after {content: \"\";width: 100%;border-bottom: 1px solid gray;flex-grow: 1;}#sk-container-id-2 div.sk-label:hover label.sk-toggleable__label {background-color: #d4ebff;}#sk-container-id-2 div.sk-serial::before {content: \"\";position: absolute;border-left: 1px solid gray;box-sizing: border-box;top: 0;bottom: 0;left: 50%;z-index: 0;}#sk-container-id-2 div.sk-serial {display: flex;flex-direction: column;align-items: center;background-color: white;padding-right: 0.2em;padding-left: 0.2em;position: relative;}#sk-container-id-2 div.sk-item {position: relative;z-index: 1;}#sk-container-id-2 div.sk-parallel {display: flex;align-items: stretch;justify-content: center;background-color: white;position: relative;}#sk-container-id-2 div.sk-item::before, #sk-container-id-2 div.sk-parallel-item::before {content: \"\";position: absolute;border-left: 1px solid gray;box-sizing: border-box;top: 0;bottom: 0;left: 50%;z-index: -1;}#sk-container-id-2 div.sk-parallel-item {display: flex;flex-direction: column;z-index: 1;position: relative;background-color: white;}#sk-container-id-2 div.sk-parallel-item:first-child::after {align-self: flex-end;width: 50%;}#sk-container-id-2 div.sk-parallel-item:last-child::after {align-self: flex-start;width: 50%;}#sk-container-id-2 div.sk-parallel-item:only-child::after {width: 0;}#sk-container-id-2 div.sk-dashed-wrapped {border: 1px dashed gray;margin: 0 0.4em 0.5em 0.4em;box-sizing: border-box;padding-bottom: 0.4em;background-color: white;}#sk-container-id-2 div.sk-label label {font-family: monospace;font-weight: bold;display: inline-block;line-height: 1.2em;}#sk-container-id-2 div.sk-label-container {text-align: center;}#sk-container-id-2 div.sk-container {/* jupyter's `normalize.less` sets `[hidden] { display: none; }` but bootstrap.min.css set `[hidden] { display: none !important; }` so we also need the `!important` here to be able to override the default hidden behavior on the sphinx rendered scikit-learn.org. See: https://github.com/scikit-learn/scikit-learn/issues/21755 */display: inline-block !important;position: relative;}#sk-container-id-2 div.sk-text-repr-fallback {display: none;}</style><div id=\"sk-container-id-2\" class=\"sk-top-container\"><div class=\"sk-text-repr-fallback\"><pre>RandomForestRegressor(bootstrap=False, max_depth=15,\n",
       "                      max_features=0.7003310088823661, min_samples_split=8,\n",
       "                      n_estimators=890)</pre><b>In a Jupyter environment, please rerun this cell to show the HTML representation or trust the notebook. <br />On GitHub, the HTML representation is unable to render, please try loading this page with nbviewer.org.</b></div><div class=\"sk-container\" hidden><div class=\"sk-item\"><div class=\"sk-estimator sk-toggleable\"><input class=\"sk-toggleable__control sk-hidden--visually\" id=\"sk-estimator-id-2\" type=\"checkbox\" checked><label for=\"sk-estimator-id-2\" class=\"sk-toggleable__label sk-toggleable__label-arrow\">RandomForestRegressor</label><div class=\"sk-toggleable__content\"><pre>RandomForestRegressor(bootstrap=False, max_depth=15,\n",
       "                      max_features=0.7003310088823661, min_samples_split=8,\n",
       "                      n_estimators=890)</pre></div></div></div></div></div>"
      ],
      "text/plain": [
       "RandomForestRegressor(bootstrap=False, max_depth=15,\n",
       "                      max_features=0.7003310088823661, min_samples_split=8,\n",
       "                      n_estimators=890)"
      ]
     },
     "execution_count": 9,
     "metadata": {},
     "output_type": "execute_result"
    }
   ],
   "source": [
    "def bo_params_rf(min_samples_split,max_depth,max_features,n_estimators):\n",
    "    \n",
    "    params = {\n",
    "        'min_samples_split': round(min_samples_split),\n",
    "        'max_depth': round(max_depth),\n",
    "        'max_features': max_features,\n",
    "        'n_estimators':round(n_estimators)\n",
    "    }    \n",
    "        \n",
    "    clf = RandomForestRegressor(min_samples_split=int(params['min_samples_split']), \n",
    "                                 max_depth=int(params['max_depth']), \n",
    "                                 max_features=params['max_features'],\n",
    "                                 n_estimators=int(params['n_estimators']), \n",
    "                                 bootstrap=False,\n",
    "                                 n_jobs = -1)\n",
    "    return cross_val_score(clf, X_train[best_features_rf], y_train, cv=10, scoring='neg_mean_squared_error', n_jobs=-1).mean()\n",
    "\n",
    "# Create Bayesian Optimization\n",
    "rf_bo = BayesianOptimization(f=bo_params_rf, pbounds={\n",
    "    'n_estimators': (100, 1000),\n",
    "    'max_depth': (1, 20),\n",
    "    'max_features': (0.1, 1),\n",
    "    'min_samples_split': (2, 12)\n",
    "})\n",
    "\n",
    "# Bayesian optimization\n",
    "results = rf_bo.maximize(n_iter=40, init_points=10)\n",
    "\n",
    "# Getting best hyperparameters from bayesian optimization\n",
    "params = rf_bo.max['params']\n",
    "params['n_estimators']= round(params['n_estimators'])\n",
    "params['min_samples_split']= round(params['min_samples_split'])\n",
    "params['max_depth']= round(params['max_depth'])\n",
    "\n",
    "# Making random forest model with the best hyperparameters\n",
    "# criterion entropy is after the hyperparameter optimization since it's more accurate but increases training time\n",
    "best_model_rf_classification = RandomForestRegressor(min_samples_split=params['min_samples_split'],\n",
    "                                                max_depth=params['max_depth'],\n",
    "                                                max_features=params['max_features'],\n",
    "                                                n_estimators=params['n_estimators'],\n",
    "                                                bootstrap=False)\n",
    "\n",
    "best_model_rf_classification.fit(X_train[best_features_rf], y_train)"
   ]
  },
  {
   "attachments": {},
   "cell_type": "markdown",
   "metadata": {},
   "source": [
    "# neural network"
   ]
  },
  {
   "attachments": {},
   "cell_type": "markdown",
   "metadata": {},
   "source": [
    "**Feature selection**"
   ]
  },
  {
   "cell_type": "code",
   "execution_count": 10,
   "metadata": {},
   "outputs": [
    {
     "name": "stdout",
     "output_type": "stream",
     "text": [
      "Best features: ['ErnstigOvergewichtObesitas', 'UrenMantelzorgPerWeek', 'ZwaarBelasteMantelzorgers', 'AfstandTotSchool', 'AfstandTotBos', 'kPersonenMetLaagsteInkomen', 'VoldoetAanBeweegrichtlijn', 'OvermatigDrinker', 'InBezitWoningcorporatie', 'MatigOvergewicht', 'PersonenautoSPerHuishouden', 'AfstandTotWarenhuis', 'ErvarenGezondheidGoedZeerGoed', 'BouwjaarVanaf2000', 'AfstandTotConsultatiebureau', 'NederlandseAntillenEnAruba', 'AfstandTotBibliotheek', 'BeperkingInZien', 'AfstandTotHotelED', 'OppervlakteWater', 'PersonenautoSNaarOppervlakte', 'VernielingMisdrijfTegenOpenbareOrde', 'AfstandTotBrandweerkazerne', 'Ondergewicht', 'GeboorteRelatief', 'AfstandTotTreinstationsTotaal', 'AfstandTotCafeED', 'GeweldsEnSeksueleMisdrijven', 'AfstandTotSauna', 'AfstandTotBegraafplaats', 'AfstandTotZwembad', 'AfstandTotPodiumkunstenTotaal', 'KLFinancieleDienstenOnroerendGoed', 'AfstandTotOpenNatNatuurlijkTerrein', 'VoldoetAanRichtlijnAlcoholgebruik', 'AfstandTotPoppodium', 'AfstandTotBuitenschoolseOpvang', 'AfstandTotBelangrijkOverstapstation', 'AfstandTotZonnebank', 'AfstandTotOpenbaarGroenTotaal', 'AfstandTotVolkstuin', 'TotaalDiefstalUitWoningSchuurED', 'BeperkingInHoren', 'AfstandTotSportterrein', 'AfstandTotKinderdagverblijf', 'AfstandTotVerblijfsrecreatiefTerrein', 'AfstandTotMuseum', 'AfstandTotOvDagelLevensmiddelen', 'PercentageOnbewoond', 'AfstandTotHuisartsenpost', 'AfstandTotDagrecreatiefTerrein', 'AfstandTotHuisartsenpraktijk', 'InBezitOverigeVerhuurders', 'AfstandTotBioscoop', 'SterfteRelatief', 'AfstandTotSemiOpenbaarGroenTotaal', 'AfstandTotOpenDroogNatTerrein', 'AfstandTotAttractie', 'GemiddeldeWoningwaarde', 'AfstandTotRestaurant', 'AfstandTotApotheek', 'Mantelzorger', 'EigendomOnbekend', 'EenOfMeerLangdurigeAandoeningen', 'AfstandTotCafetariaED', 'ALandbouwBosbouwEnVisserij']\n",
      "Dropped features: ['AfstandTotKunstijsbaan', 'AfstandTotOpenNatTerreinTotaal', 'PersonenautoSOverigeBrandstof', 'Rokers']\n"
     ]
    }
   ],
   "source": [
    "# Get the accuracy score of the model with all the features\n",
    "mlp = MLPRegressor(random_state=0).fit(X_train, y_train)\n",
    "best_model = mlp\n",
    "selected_features = X_train.columns.tolist()\n",
    "best_features = selected_features\n",
    "best_features_accuracy = cross_val_score(MLPRegressor(random_state=0), X_train, y_train, cv=10, scoring='neg_mean_squared_error', n_jobs=-1).mean()\n",
    "\n",
    "while True:\n",
    "    # Retrieve the learned weights\n",
    "    weights = mlp.coefs_[0]  # Weights connecting input features to the first hidden layer\n",
    "\n",
    "    # Normalize the weights\n",
    "    normalized_weights = np.abs(weights) / np.sum(np.abs(weights), axis=0)\n",
    "\n",
    "    # Calculate feature importance\n",
    "    feature_importance = np.mean(normalized_weights, axis=1)\n",
    "\n",
    "    # Sort features based on their importance\n",
    "    sorted_indices = np.argsort(feature_importance)\n",
    "    selected_features = [selected_features[i] for i in sorted_indices[:-1]]\n",
    "\n",
    "    # When there are no features left\n",
    "    if len(selected_features) == 0:\n",
    "        break\n",
    "    \n",
    "    # Refit the Model\n",
    "    mlp = MLPRegressor(random_state=0).fit(X_train[selected_features], y_train)\n",
    "\n",
    "    # Evaluate Model Performance\n",
    "    accuracy = cross_val_score(MLPRegressor(random_state=0), X_train[selected_features], y_train, cv=10, scoring='neg_mean_squared_error', n_jobs=-1).mean()\n",
    "\n",
    "    # Check if the model performs better without the insignificant features\n",
    "    if accuracy >= best_features_accuracy:\n",
    "        best_features_accuracy = accuracy\n",
    "        best_features = selected_features.copy()\n",
    "        best_model = mlp\n",
    "\n",
    "# Save results\n",
    "best_model_nn = best_model\n",
    "best_features_nn = best_features\n",
    "\n",
    "# Show results\n",
    "print(\"Best features:\", best_features_nn)\n",
    "print(\"Dropped features:\", list(set(X_train.columns.tolist()) - set(best_features_nn)))"
   ]
  },
  {
   "attachments": {},
   "cell_type": "markdown",
   "metadata": {},
   "source": [
    "**Hyperparameter optimalisatie**"
   ]
  },
  {
   "cell_type": "code",
   "execution_count": 11,
   "metadata": {},
   "outputs": [
    {
     "name": "stdout",
     "output_type": "stream",
     "text": [
      "|   iter    |  target   |   alpha   | hidden... | learni... | max_iter  |\n",
      "-------------------------------------------------------------------------\n",
      "| \u001b[0m1        \u001b[0m | \u001b[0m-1.192   \u001b[0m | \u001b[0m0.05145  \u001b[0m | \u001b[0m97.22    \u001b[0m | \u001b[0m0.02344  \u001b[0m | \u001b[0m919.3    \u001b[0m |\n",
      "| \u001b[0m2        \u001b[0m | \u001b[0m-1.192   \u001b[0m | \u001b[0m0.07949  \u001b[0m | \u001b[0m95.44    \u001b[0m | \u001b[0m0.08917  \u001b[0m | \u001b[0m458.7    \u001b[0m |\n",
      "| \u001b[0m3        \u001b[0m | \u001b[0m-1.195   \u001b[0m | \u001b[0m0.02829  \u001b[0m | \u001b[0m91.05    \u001b[0m | \u001b[0m0.05618  \u001b[0m | \u001b[0m918.9    \u001b[0m |\n",
      "| \u001b[0m4        \u001b[0m | \u001b[0m-1.195   \u001b[0m | \u001b[0m0.07181  \u001b[0m | \u001b[0m58.68    \u001b[0m | \u001b[0m0.09417  \u001b[0m | \u001b[0m412.2    \u001b[0m |\n",
      "| \u001b[0m5        \u001b[0m | \u001b[0m-1.194   \u001b[0m | \u001b[0m0.01843  \u001b[0m | \u001b[0m99.69    \u001b[0m | \u001b[0m0.02227  \u001b[0m | \u001b[0m595.3    \u001b[0m |\n",
      "| \u001b[0m6        \u001b[0m | \u001b[0m-1.194   \u001b[0m | \u001b[0m0.08451  \u001b[0m | \u001b[0m85.88    \u001b[0m | \u001b[0m0.02077  \u001b[0m | \u001b[0m386.4    \u001b[0m |\n",
      "| \u001b[95m7        \u001b[0m | \u001b[95m-1.191   \u001b[0m | \u001b[95m0.00817  \u001b[0m | \u001b[95m14.62    \u001b[0m | \u001b[95m0.07069  \u001b[0m | \u001b[95m628.4    \u001b[0m |\n",
      "| \u001b[95m8        \u001b[0m | \u001b[95m-1.19    \u001b[0m | \u001b[95m0.04943  \u001b[0m | \u001b[95m18.1     \u001b[0m | \u001b[95m0.0867   \u001b[0m | \u001b[95m844.1    \u001b[0m |\n",
      "| \u001b[0m9        \u001b[0m | \u001b[0m-1.194   \u001b[0m | \u001b[0m0.03918  \u001b[0m | \u001b[0m42.7     \u001b[0m | \u001b[0m0.05326  \u001b[0m | \u001b[0m744.4    \u001b[0m |\n",
      "| \u001b[0m10       \u001b[0m | \u001b[0m-1.195   \u001b[0m | \u001b[0m0.05927  \u001b[0m | \u001b[0m76.74    \u001b[0m | \u001b[0m0.01524  \u001b[0m | \u001b[0m713.4    \u001b[0m |\n",
      "| \u001b[0m11       \u001b[0m | \u001b[0m-1.197   \u001b[0m | \u001b[0m0.06102  \u001b[0m | \u001b[0m49.27    \u001b[0m | \u001b[0m0.01517  \u001b[0m | \u001b[0m819.5    \u001b[0m |\n",
      "| \u001b[0m12       \u001b[0m | \u001b[0m-1.195   \u001b[0m | \u001b[0m0.0786   \u001b[0m | \u001b[0m10.32    \u001b[0m | \u001b[0m0.03227  \u001b[0m | \u001b[0m665.5    \u001b[0m |\n",
      "| \u001b[0m13       \u001b[0m | \u001b[0m-1.194   \u001b[0m | \u001b[0m0.06271  \u001b[0m | \u001b[0m95.79    \u001b[0m | \u001b[0m0.006216 \u001b[0m | \u001b[0m458.7    \u001b[0m |\n",
      "| \u001b[0m14       \u001b[0m | \u001b[0m-1.191   \u001b[0m | \u001b[0m0.0166   \u001b[0m | \u001b[0m82.04    \u001b[0m | \u001b[0m0.05448  \u001b[0m | \u001b[0m563.5    \u001b[0m |\n",
      "| \u001b[95m15       \u001b[0m | \u001b[95m-1.183   \u001b[0m | \u001b[95m0.07908  \u001b[0m | \u001b[95m95.71    \u001b[0m | \u001b[95m0.06985  \u001b[0m | \u001b[95m726.0    \u001b[0m |\n",
      "| \u001b[0m16       \u001b[0m | \u001b[0m-1.195   \u001b[0m | \u001b[0m0.002976 \u001b[0m | \u001b[0m95.1     \u001b[0m | \u001b[0m0.02425  \u001b[0m | \u001b[0m726.6    \u001b[0m |\n",
      "| \u001b[0m17       \u001b[0m | \u001b[0m-1.192   \u001b[0m | \u001b[0m0.07833  \u001b[0m | \u001b[0m79.06    \u001b[0m | \u001b[0m0.01616  \u001b[0m | \u001b[0m663.9    \u001b[0m |\n",
      "| \u001b[0m18       \u001b[0m | \u001b[0m-1.191   \u001b[0m | \u001b[0m0.0974   \u001b[0m | \u001b[0m77.08    \u001b[0m | \u001b[0m0.03596  \u001b[0m | \u001b[0m627.1    \u001b[0m |\n",
      "| \u001b[0m19       \u001b[0m | \u001b[0m-1.197   \u001b[0m | \u001b[0m0.01396  \u001b[0m | \u001b[0m24.56    \u001b[0m | \u001b[0m0.09528  \u001b[0m | \u001b[0m950.6    \u001b[0m |\n",
      "| \u001b[0m20       \u001b[0m | \u001b[0m-1.19    \u001b[0m | \u001b[0m0.0148   \u001b[0m | \u001b[0m73.02    \u001b[0m | \u001b[0m0.003921 \u001b[0m | \u001b[0m523.0    \u001b[0m |\n",
      "| \u001b[0m21       \u001b[0m | \u001b[0m-1.19    \u001b[0m | \u001b[0m0.01465  \u001b[0m | \u001b[0m59.09    \u001b[0m | \u001b[0m0.09519  \u001b[0m | \u001b[0m733.7    \u001b[0m |\n",
      "| \u001b[0m22       \u001b[0m | \u001b[0m-1.192   \u001b[0m | \u001b[0m0.0833   \u001b[0m | \u001b[0m22.01    \u001b[0m | \u001b[0m0.05525  \u001b[0m | \u001b[0m187.8    \u001b[0m |\n",
      "| \u001b[0m23       \u001b[0m | \u001b[0m-1.203   \u001b[0m | \u001b[0m0.08573  \u001b[0m | \u001b[0m93.24    \u001b[0m | \u001b[0m0.06482  \u001b[0m | \u001b[0m651.9    \u001b[0m |\n",
      "| \u001b[0m24       \u001b[0m | \u001b[0m-1.244   \u001b[0m | \u001b[0m0.0443   \u001b[0m | \u001b[0m42.24    \u001b[0m | \u001b[0m0.08246  \u001b[0m | \u001b[0m194.9    \u001b[0m |\n",
      "| \u001b[0m25       \u001b[0m | \u001b[0m-1.198   \u001b[0m | \u001b[0m0.04101  \u001b[0m | \u001b[0m96.63    \u001b[0m | \u001b[0m0.07743  \u001b[0m | \u001b[0m727.2    \u001b[0m |\n",
      "| \u001b[0m26       \u001b[0m | \u001b[0m-1.197   \u001b[0m | \u001b[0m0.04144  \u001b[0m | \u001b[0m96.82    \u001b[0m | \u001b[0m0.01881  \u001b[0m | \u001b[0m726.1    \u001b[0m |\n",
      "| \u001b[0m27       \u001b[0m | \u001b[0m-1.195   \u001b[0m | \u001b[0m0.0495   \u001b[0m | \u001b[0m74.3     \u001b[0m | \u001b[0m0.07733  \u001b[0m | \u001b[0m523.9    \u001b[0m |\n",
      "| \u001b[0m28       \u001b[0m | \u001b[0m-1.198   \u001b[0m | \u001b[0m0.06747  \u001b[0m | \u001b[0m95.52    \u001b[0m | \u001b[0m0.04089  \u001b[0m | \u001b[0m725.1    \u001b[0m |\n",
      "| \u001b[0m29       \u001b[0m | \u001b[0m-1.193   \u001b[0m | \u001b[0m0.03097  \u001b[0m | \u001b[0m71.85    \u001b[0m | \u001b[0m0.02871  \u001b[0m | \u001b[0m522.6    \u001b[0m |\n",
      "| \u001b[0m30       \u001b[0m | \u001b[0m-1.195   \u001b[0m | \u001b[0m0.07204  \u001b[0m | \u001b[0m59.84    \u001b[0m | \u001b[0m0.04898  \u001b[0m | \u001b[0m734.2    \u001b[0m |\n",
      "| \u001b[0m31       \u001b[0m | \u001b[0m-1.2     \u001b[0m | \u001b[0m0.028    \u001b[0m | \u001b[0m72.82    \u001b[0m | \u001b[0m0.04     \u001b[0m | \u001b[0m524.2    \u001b[0m |\n",
      "| \u001b[0m32       \u001b[0m | \u001b[0m-1.193   \u001b[0m | \u001b[0m0.04343  \u001b[0m | \u001b[0m18.07    \u001b[0m | \u001b[0m0.003898 \u001b[0m | \u001b[0m845.0    \u001b[0m |\n",
      "| \u001b[0m33       \u001b[0m | \u001b[0m-1.192   \u001b[0m | \u001b[0m0.03729  \u001b[0m | \u001b[0m17.75    \u001b[0m | \u001b[0m0.09589  \u001b[0m | \u001b[0m842.6    \u001b[0m |\n",
      "| \u001b[0m34       \u001b[0m | \u001b[0m-1.197   \u001b[0m | \u001b[0m0.07857  \u001b[0m | \u001b[0m83.52    \u001b[0m | \u001b[0m0.03364  \u001b[0m | \u001b[0m563.7    \u001b[0m |\n",
      "| \u001b[0m35       \u001b[0m | \u001b[0m-1.193   \u001b[0m | \u001b[0m0.07147  \u001b[0m | \u001b[0m17.02    \u001b[0m | \u001b[0m0.09386  \u001b[0m | \u001b[0m843.8    \u001b[0m |\n",
      "| \u001b[0m36       \u001b[0m | \u001b[0m-1.195   \u001b[0m | \u001b[0m0.06452  \u001b[0m | \u001b[0m15.99    \u001b[0m | \u001b[0m0.03081  \u001b[0m | \u001b[0m628.3    \u001b[0m |\n",
      "| \u001b[0m37       \u001b[0m | \u001b[0m-1.19    \u001b[0m | \u001b[0m0.08904  \u001b[0m | \u001b[0m73.2     \u001b[0m | \u001b[0m0.00527  \u001b[0m | \u001b[0m521.7    \u001b[0m |\n",
      "| \u001b[0m38       \u001b[0m | \u001b[0m-1.204   \u001b[0m | \u001b[0m0.04243  \u001b[0m | \u001b[0m58.37    \u001b[0m | \u001b[0m0.08726  \u001b[0m | \u001b[0m732.6    \u001b[0m |\n",
      "| \u001b[0m39       \u001b[0m | \u001b[0m-1.195   \u001b[0m | \u001b[0m0.004398 \u001b[0m | \u001b[0m14.51    \u001b[0m | \u001b[0m0.0576   \u001b[0m | \u001b[0m629.7    \u001b[0m |\n",
      "| \u001b[0m40       \u001b[0m | \u001b[0m-1.191   \u001b[0m | \u001b[0m0.003275 \u001b[0m | \u001b[0m80.97    \u001b[0m | \u001b[0m0.02889  \u001b[0m | \u001b[0m564.0    \u001b[0m |\n",
      "| \u001b[0m41       \u001b[0m | \u001b[0m-1.193   \u001b[0m | \u001b[0m0.00812  \u001b[0m | \u001b[0m79.82    \u001b[0m | \u001b[0m0.09769  \u001b[0m | \u001b[0m563.3    \u001b[0m |\n",
      "| \u001b[0m42       \u001b[0m | \u001b[0m-1.195   \u001b[0m | \u001b[0m0.08777  \u001b[0m | \u001b[0m74.14    \u001b[0m | \u001b[0m0.05494  \u001b[0m | \u001b[0m521.2    \u001b[0m |\n",
      "| \u001b[0m43       \u001b[0m | \u001b[0m-1.198   \u001b[0m | \u001b[0m0.006194 \u001b[0m | \u001b[0m78.13    \u001b[0m | \u001b[0m0.03939  \u001b[0m | \u001b[0m628.0    \u001b[0m |\n",
      "| \u001b[0m44       \u001b[0m | \u001b[0m-1.194   \u001b[0m | \u001b[0m0.06647  \u001b[0m | \u001b[0m72.31    \u001b[0m | \u001b[0m0.01686  \u001b[0m | \u001b[0m520.3    \u001b[0m |\n",
      "| \u001b[0m45       \u001b[0m | \u001b[0m-1.193   \u001b[0m | \u001b[0m0.06615  \u001b[0m | \u001b[0m85.82    \u001b[0m | \u001b[0m0.05642  \u001b[0m | \u001b[0m386.3    \u001b[0m |\n",
      "| \u001b[0m46       \u001b[0m | \u001b[0m-1.191   \u001b[0m | \u001b[0m0.02135  \u001b[0m | \u001b[0m94.12    \u001b[0m | \u001b[0m0.08817  \u001b[0m | \u001b[0m459.6    \u001b[0m |\n",
      "| \u001b[0m47       \u001b[0m | \u001b[0m-1.198   \u001b[0m | \u001b[0m0.03532  \u001b[0m | \u001b[0m75.46    \u001b[0m | \u001b[0m0.09915  \u001b[0m | \u001b[0m626.6    \u001b[0m |\n",
      "| \u001b[0m48       \u001b[0m | \u001b[0m-1.195   \u001b[0m | \u001b[0m0.06591  \u001b[0m | \u001b[0m13.52    \u001b[0m | \u001b[0m0.007884 \u001b[0m | \u001b[0m627.9    \u001b[0m |\n",
      "| \u001b[0m49       \u001b[0m | \u001b[0m-1.199   \u001b[0m | \u001b[0m0.04179  \u001b[0m | \u001b[0m81.25    \u001b[0m | \u001b[0m0.046    \u001b[0m | \u001b[0m562.2    \u001b[0m |\n",
      "| \u001b[0m50       \u001b[0m | \u001b[0m-1.191   \u001b[0m | \u001b[0m0.07921  \u001b[0m | \u001b[0m85.01    \u001b[0m | \u001b[0m0.0685   \u001b[0m | \u001b[0m384.5    \u001b[0m |\n",
      "=========================================================================\n"
     ]
    },
    {
     "data": {
      "text/html": [
       "<style>#sk-container-id-3 {color: black;background-color: white;}#sk-container-id-3 pre{padding: 0;}#sk-container-id-3 div.sk-toggleable {background-color: white;}#sk-container-id-3 label.sk-toggleable__label {cursor: pointer;display: block;width: 100%;margin-bottom: 0;padding: 0.3em;box-sizing: border-box;text-align: center;}#sk-container-id-3 label.sk-toggleable__label-arrow:before {content: \"▸\";float: left;margin-right: 0.25em;color: #696969;}#sk-container-id-3 label.sk-toggleable__label-arrow:hover:before {color: black;}#sk-container-id-3 div.sk-estimator:hover label.sk-toggleable__label-arrow:before {color: black;}#sk-container-id-3 div.sk-toggleable__content {max-height: 0;max-width: 0;overflow: hidden;text-align: left;background-color: #f0f8ff;}#sk-container-id-3 div.sk-toggleable__content pre {margin: 0.2em;color: black;border-radius: 0.25em;background-color: #f0f8ff;}#sk-container-id-3 input.sk-toggleable__control:checked~div.sk-toggleable__content {max-height: 200px;max-width: 100%;overflow: auto;}#sk-container-id-3 input.sk-toggleable__control:checked~label.sk-toggleable__label-arrow:before {content: \"▾\";}#sk-container-id-3 div.sk-estimator input.sk-toggleable__control:checked~label.sk-toggleable__label {background-color: #d4ebff;}#sk-container-id-3 div.sk-label input.sk-toggleable__control:checked~label.sk-toggleable__label {background-color: #d4ebff;}#sk-container-id-3 input.sk-hidden--visually {border: 0;clip: rect(1px 1px 1px 1px);clip: rect(1px, 1px, 1px, 1px);height: 1px;margin: -1px;overflow: hidden;padding: 0;position: absolute;width: 1px;}#sk-container-id-3 div.sk-estimator {font-family: monospace;background-color: #f0f8ff;border: 1px dotted black;border-radius: 0.25em;box-sizing: border-box;margin-bottom: 0.5em;}#sk-container-id-3 div.sk-estimator:hover {background-color: #d4ebff;}#sk-container-id-3 div.sk-parallel-item::after {content: \"\";width: 100%;border-bottom: 1px solid gray;flex-grow: 1;}#sk-container-id-3 div.sk-label:hover label.sk-toggleable__label {background-color: #d4ebff;}#sk-container-id-3 div.sk-serial::before {content: \"\";position: absolute;border-left: 1px solid gray;box-sizing: border-box;top: 0;bottom: 0;left: 50%;z-index: 0;}#sk-container-id-3 div.sk-serial {display: flex;flex-direction: column;align-items: center;background-color: white;padding-right: 0.2em;padding-left: 0.2em;position: relative;}#sk-container-id-3 div.sk-item {position: relative;z-index: 1;}#sk-container-id-3 div.sk-parallel {display: flex;align-items: stretch;justify-content: center;background-color: white;position: relative;}#sk-container-id-3 div.sk-item::before, #sk-container-id-3 div.sk-parallel-item::before {content: \"\";position: absolute;border-left: 1px solid gray;box-sizing: border-box;top: 0;bottom: 0;left: 50%;z-index: -1;}#sk-container-id-3 div.sk-parallel-item {display: flex;flex-direction: column;z-index: 1;position: relative;background-color: white;}#sk-container-id-3 div.sk-parallel-item:first-child::after {align-self: flex-end;width: 50%;}#sk-container-id-3 div.sk-parallel-item:last-child::after {align-self: flex-start;width: 50%;}#sk-container-id-3 div.sk-parallel-item:only-child::after {width: 0;}#sk-container-id-3 div.sk-dashed-wrapped {border: 1px dashed gray;margin: 0 0.4em 0.5em 0.4em;box-sizing: border-box;padding-bottom: 0.4em;background-color: white;}#sk-container-id-3 div.sk-label label {font-family: monospace;font-weight: bold;display: inline-block;line-height: 1.2em;}#sk-container-id-3 div.sk-label-container {text-align: center;}#sk-container-id-3 div.sk-container {/* jupyter's `normalize.less` sets `[hidden] { display: none; }` but bootstrap.min.css set `[hidden] { display: none !important; }` so we also need the `!important` here to be able to override the default hidden behavior on the sphinx rendered scikit-learn.org. See: https://github.com/scikit-learn/scikit-learn/issues/21755 */display: inline-block !important;position: relative;}#sk-container-id-3 div.sk-text-repr-fallback {display: none;}</style><div id=\"sk-container-id-3\" class=\"sk-top-container\"><div class=\"sk-text-repr-fallback\"><pre>MLPRegressor(alpha=0.07908331240409669, hidden_layer_sizes=(96,),\n",
       "             learning_rate_init=0.06985298045720616, max_iter=726)</pre><b>In a Jupyter environment, please rerun this cell to show the HTML representation or trust the notebook. <br />On GitHub, the HTML representation is unable to render, please try loading this page with nbviewer.org.</b></div><div class=\"sk-container\" hidden><div class=\"sk-item\"><div class=\"sk-estimator sk-toggleable\"><input class=\"sk-toggleable__control sk-hidden--visually\" id=\"sk-estimator-id-3\" type=\"checkbox\" checked><label for=\"sk-estimator-id-3\" class=\"sk-toggleable__label sk-toggleable__label-arrow\">MLPRegressor</label><div class=\"sk-toggleable__content\"><pre>MLPRegressor(alpha=0.07908331240409669, hidden_layer_sizes=(96,),\n",
       "             learning_rate_init=0.06985298045720616, max_iter=726)</pre></div></div></div></div></div>"
      ],
      "text/plain": [
       "MLPRegressor(alpha=0.07908331240409669, hidden_layer_sizes=(96,),\n",
       "             learning_rate_init=0.06985298045720616, max_iter=726)"
      ]
     },
     "execution_count": 11,
     "metadata": {},
     "output_type": "execute_result"
    }
   ],
   "source": [
    "def bo_params_generic(model, params, X_train, y_train):\n",
    "    # Create the model instance with the specified parameters\n",
    "    regressor = model(**params)\n",
    "    \n",
    "    # Calculating rmse based on\n",
    "    scores = cross_val_score(regressor, X_train, y_train, cv=10, scoring='neg_root_mean_squared_error')\n",
    "    return scores.mean()\n",
    "\n",
    "params_ranges = {\n",
    "    'hidden_layer_sizes': (10, 100),\n",
    "    'alpha': (0.0001, 0.1),\n",
    "    'learning_rate_init': (0.001, 0.1),\n",
    "    'max_iter': (100, 1000)\n",
    "}\n",
    "\n",
    "# Example usage with Neural Network\n",
    "model = MLPRegressor\n",
    "model_bo = BayesianOptimization(f=lambda hidden_layer_sizes, alpha, learning_rate_init, max_iter:\n",
    "                                    bo_params_generic(model, {\n",
    "                                        'hidden_layer_sizes': (int(round(hidden_layer_sizes)),),\n",
    "                                        'alpha': alpha,\n",
    "                                        'learning_rate_init': learning_rate_init,\n",
    "                                        'max_iter': int(round(max_iter))\n",
    "                                    }, X_train[best_features_nn], y_train),\n",
    "                             pbounds=params_ranges)\n",
    "\n",
    "results = model_bo.maximize(n_iter=40, init_points=10)\n",
    "params = model_bo.max['params']\n",
    "\n",
    "# Creating a model with the best hyperparameters\n",
    "best_model_nn = model(\n",
    "    hidden_layer_sizes=(int(round(params['hidden_layer_sizes'])),),\n",
    "    alpha=params['alpha'],\n",
    "    learning_rate_init=params['learning_rate_init'],\n",
    "    max_iter=int(round(params['max_iter']))\n",
    ")\n",
    "\n",
    "# Fit the model\n",
    "best_model_nn.fit(X_train[best_features_nn], y_train)"
   ]
  },
  {
   "attachments": {},
   "cell_type": "markdown",
   "metadata": {},
   "source": [
    "# plotting the bar chart"
   ]
  },
  {
   "attachments": {},
   "cell_type": "markdown",
   "metadata": {},
   "source": [
    "**using train dataset**"
   ]
  },
  {
   "cell_type": "code",
   "execution_count": 12,
   "metadata": {},
   "outputs": [
    {
     "data": {
      "text/plain": [
       "[{'model': 'Multiple Linear Regression',\n",
       "  'mae': 0.8671939412421841,\n",
       "  'mse': 1.4268453165906185,\n",
       "  'rmse': 1.1945063066349288,\n",
       "  'r2': 0.004033710129095258,\n",
       "  'adj_r2': -0.0736894117114435},\n",
       " {'model': 'Random Forest',\n",
       "  'mae': 0.8660175252217047,\n",
       "  'mse': 1.4303383451797227,\n",
       "  'rmse': 1.195967535169631,\n",
       "  'r2': 0.0015955069939328492,\n",
       "  'adj_r2': -0.07631788710910459},\n",
       " {'model': 'Neural Network',\n",
       "  'mae': 0.8778584647650217,\n",
       "  'mse': 1.4437759688925358,\n",
       "  'rmse': 1.2015722903315205,\n",
       "  'r2': -0.007784220491812377,\n",
       "  'adj_r2': -0.08642958886910002},\n",
       " {'model': 'Support Vector Machine',\n",
       "  'mae': 0.8606249650525079,\n",
       "  'mse': 1.455202466589116,\n",
       "  'rmse': 1.2063177303634047,\n",
       "  'r2': -0.01576014218756705,\n",
       "  'adj_r2': -0.09502793477745519}]"
      ]
     },
     "execution_count": 12,
     "metadata": {},
     "output_type": "execute_result"
    }
   ],
   "source": [
    "regression_models = [\n",
    "    {\n",
    "        'name': 'Multiple Linear Regression',\n",
    "        'model': best_model_mlr,\n",
    "        'features': best_features_mlr\n",
    "    },\n",
    "    {\n",
    "        'name': 'Random Forest',\n",
    "        'model': best_model_rf,\n",
    "        'features': best_features_rf\n",
    "    },\n",
    "    {\n",
    "        'name': 'Neural Network',\n",
    "        'model': best_model_nn,\n",
    "        'features': best_features_nn\n",
    "    },\n",
    "    {\n",
    "        'name': 'Support Vector Machine',\n",
    "        'model': best_model_svm,\n",
    "        'features': best_features_svm\n",
    "    }\n",
    "]\n",
    "\n",
    "regression_stats_val = []\n",
    "\n",
    "for model in regression_models:\n",
    "    try:\n",
    "        # Perform cross-validation and calculate predictions and metrics\n",
    "        y_pred = cross_val_predict(model['model'], X_train[model['features']], y_train, cv=10)\n",
    "        y_true = y_train\n",
    "    except: # cv can't be higher then n_splits in the dt\n",
    "        # Perform cross-validation and calculate predictions and metrics\n",
    "        y_pred = cross_val_predict(model['model'], X_train[model['features']], y_train, cv=5)\n",
    "        y_true = y_train\n",
    "\n",
    "    # R2 Score\n",
    "    r2 = r2_score(y_true, y_pred)\n",
    "\n",
    "    # Adjusted R2 Score\n",
    "    n = len(y_true)  # Number of samples\n",
    "    p = X_test.shape[1]  # Number of predictors (features) in X\n",
    "    adj_r2 = 1 - ((1 - r2) * (n - 1)) / (n - p - 1)\n",
    "\n",
    "    # Save stats\n",
    "    regression_stats_val.append(\n",
    "        {\n",
    "            'model': model['name'],\n",
    "            'mae': mean_absolute_error(y_true, y_pred),\n",
    "            'mse': mean_squared_error(y_true, y_pred),\n",
    "            'rmse': np.sqrt(mean_squared_error(y_true, y_pred)),\n",
    "            'r2': r2,\n",
    "            'adj_r2': adj_r2\n",
    "        }\n",
    "    )\n",
    "\n",
    "# View stats\n",
    "regression_stats_val"
   ]
  },
  {
   "cell_type": "code",
   "execution_count": 13,
   "metadata": {},
   "outputs": [
    {
     "data": {
      "application/vnd.plotly.v1+json": {
       "config": {
        "plotlyServerURL": "https://plot.ly"
       },
       "data": [
        {
         "name": "mae",
         "type": "bar",
         "x": [
          "Multiple Linear Regression",
          "Random Forest",
          "Neural Network",
          "Support Vector Machine"
         ],
         "y": [
          0.8671939412421841,
          0.8660175252217047,
          0.8778584647650217,
          0.8606249650525079
         ]
        },
        {
         "name": "mse",
         "type": "bar",
         "x": [
          "Multiple Linear Regression",
          "Random Forest",
          "Neural Network",
          "Support Vector Machine"
         ],
         "y": [
          1.4268453165906185,
          1.4303383451797227,
          1.4437759688925358,
          1.455202466589116
         ]
        },
        {
         "name": "rmse",
         "type": "bar",
         "x": [
          "Multiple Linear Regression",
          "Random Forest",
          "Neural Network",
          "Support Vector Machine"
         ],
         "y": [
          1.1945063066349288,
          1.195967535169631,
          1.2015722903315205,
          1.2063177303634047
         ]
        },
        {
         "name": "r2",
         "type": "bar",
         "x": [
          "Multiple Linear Regression",
          "Random Forest",
          "Neural Network",
          "Support Vector Machine"
         ],
         "y": [
          0.004033710129095258,
          0.0015955069939328492,
          -0.007784220491812377,
          -0.01576014218756705
         ]
        },
        {
         "name": "adj_r2",
         "type": "bar",
         "x": [
          "Multiple Linear Regression",
          "Random Forest",
          "Neural Network",
          "Support Vector Machine"
         ],
         "y": [
          -0.0736894117114435,
          -0.07631788710910459,
          -0.08642958886910002,
          -0.09502793477745519
         ]
        }
       ],
       "layout": {
        "barmode": "group",
        "template": {
         "data": {
          "bar": [
           {
            "error_x": {
             "color": "#2a3f5f"
            },
            "error_y": {
             "color": "#2a3f5f"
            },
            "marker": {
             "line": {
              "color": "#E5ECF6",
              "width": 0.5
             },
             "pattern": {
              "fillmode": "overlay",
              "size": 10,
              "solidity": 0.2
             }
            },
            "type": "bar"
           }
          ],
          "barpolar": [
           {
            "marker": {
             "line": {
              "color": "#E5ECF6",
              "width": 0.5
             },
             "pattern": {
              "fillmode": "overlay",
              "size": 10,
              "solidity": 0.2
             }
            },
            "type": "barpolar"
           }
          ],
          "carpet": [
           {
            "aaxis": {
             "endlinecolor": "#2a3f5f",
             "gridcolor": "white",
             "linecolor": "white",
             "minorgridcolor": "white",
             "startlinecolor": "#2a3f5f"
            },
            "baxis": {
             "endlinecolor": "#2a3f5f",
             "gridcolor": "white",
             "linecolor": "white",
             "minorgridcolor": "white",
             "startlinecolor": "#2a3f5f"
            },
            "type": "carpet"
           }
          ],
          "choropleth": [
           {
            "colorbar": {
             "outlinewidth": 0,
             "ticks": ""
            },
            "type": "choropleth"
           }
          ],
          "contour": [
           {
            "colorbar": {
             "outlinewidth": 0,
             "ticks": ""
            },
            "colorscale": [
             [
              0,
              "#0d0887"
             ],
             [
              0.1111111111111111,
              "#46039f"
             ],
             [
              0.2222222222222222,
              "#7201a8"
             ],
             [
              0.3333333333333333,
              "#9c179e"
             ],
             [
              0.4444444444444444,
              "#bd3786"
             ],
             [
              0.5555555555555556,
              "#d8576b"
             ],
             [
              0.6666666666666666,
              "#ed7953"
             ],
             [
              0.7777777777777778,
              "#fb9f3a"
             ],
             [
              0.8888888888888888,
              "#fdca26"
             ],
             [
              1,
              "#f0f921"
             ]
            ],
            "type": "contour"
           }
          ],
          "contourcarpet": [
           {
            "colorbar": {
             "outlinewidth": 0,
             "ticks": ""
            },
            "type": "contourcarpet"
           }
          ],
          "heatmap": [
           {
            "colorbar": {
             "outlinewidth": 0,
             "ticks": ""
            },
            "colorscale": [
             [
              0,
              "#0d0887"
             ],
             [
              0.1111111111111111,
              "#46039f"
             ],
             [
              0.2222222222222222,
              "#7201a8"
             ],
             [
              0.3333333333333333,
              "#9c179e"
             ],
             [
              0.4444444444444444,
              "#bd3786"
             ],
             [
              0.5555555555555556,
              "#d8576b"
             ],
             [
              0.6666666666666666,
              "#ed7953"
             ],
             [
              0.7777777777777778,
              "#fb9f3a"
             ],
             [
              0.8888888888888888,
              "#fdca26"
             ],
             [
              1,
              "#f0f921"
             ]
            ],
            "type": "heatmap"
           }
          ],
          "heatmapgl": [
           {
            "colorbar": {
             "outlinewidth": 0,
             "ticks": ""
            },
            "colorscale": [
             [
              0,
              "#0d0887"
             ],
             [
              0.1111111111111111,
              "#46039f"
             ],
             [
              0.2222222222222222,
              "#7201a8"
             ],
             [
              0.3333333333333333,
              "#9c179e"
             ],
             [
              0.4444444444444444,
              "#bd3786"
             ],
             [
              0.5555555555555556,
              "#d8576b"
             ],
             [
              0.6666666666666666,
              "#ed7953"
             ],
             [
              0.7777777777777778,
              "#fb9f3a"
             ],
             [
              0.8888888888888888,
              "#fdca26"
             ],
             [
              1,
              "#f0f921"
             ]
            ],
            "type": "heatmapgl"
           }
          ],
          "histogram": [
           {
            "marker": {
             "pattern": {
              "fillmode": "overlay",
              "size": 10,
              "solidity": 0.2
             }
            },
            "type": "histogram"
           }
          ],
          "histogram2d": [
           {
            "colorbar": {
             "outlinewidth": 0,
             "ticks": ""
            },
            "colorscale": [
             [
              0,
              "#0d0887"
             ],
             [
              0.1111111111111111,
              "#46039f"
             ],
             [
              0.2222222222222222,
              "#7201a8"
             ],
             [
              0.3333333333333333,
              "#9c179e"
             ],
             [
              0.4444444444444444,
              "#bd3786"
             ],
             [
              0.5555555555555556,
              "#d8576b"
             ],
             [
              0.6666666666666666,
              "#ed7953"
             ],
             [
              0.7777777777777778,
              "#fb9f3a"
             ],
             [
              0.8888888888888888,
              "#fdca26"
             ],
             [
              1,
              "#f0f921"
             ]
            ],
            "type": "histogram2d"
           }
          ],
          "histogram2dcontour": [
           {
            "colorbar": {
             "outlinewidth": 0,
             "ticks": ""
            },
            "colorscale": [
             [
              0,
              "#0d0887"
             ],
             [
              0.1111111111111111,
              "#46039f"
             ],
             [
              0.2222222222222222,
              "#7201a8"
             ],
             [
              0.3333333333333333,
              "#9c179e"
             ],
             [
              0.4444444444444444,
              "#bd3786"
             ],
             [
              0.5555555555555556,
              "#d8576b"
             ],
             [
              0.6666666666666666,
              "#ed7953"
             ],
             [
              0.7777777777777778,
              "#fb9f3a"
             ],
             [
              0.8888888888888888,
              "#fdca26"
             ],
             [
              1,
              "#f0f921"
             ]
            ],
            "type": "histogram2dcontour"
           }
          ],
          "mesh3d": [
           {
            "colorbar": {
             "outlinewidth": 0,
             "ticks": ""
            },
            "type": "mesh3d"
           }
          ],
          "parcoords": [
           {
            "line": {
             "colorbar": {
              "outlinewidth": 0,
              "ticks": ""
             }
            },
            "type": "parcoords"
           }
          ],
          "pie": [
           {
            "automargin": true,
            "type": "pie"
           }
          ],
          "scatter": [
           {
            "fillpattern": {
             "fillmode": "overlay",
             "size": 10,
             "solidity": 0.2
            },
            "type": "scatter"
           }
          ],
          "scatter3d": [
           {
            "line": {
             "colorbar": {
              "outlinewidth": 0,
              "ticks": ""
             }
            },
            "marker": {
             "colorbar": {
              "outlinewidth": 0,
              "ticks": ""
             }
            },
            "type": "scatter3d"
           }
          ],
          "scattercarpet": [
           {
            "marker": {
             "colorbar": {
              "outlinewidth": 0,
              "ticks": ""
             }
            },
            "type": "scattercarpet"
           }
          ],
          "scattergeo": [
           {
            "marker": {
             "colorbar": {
              "outlinewidth": 0,
              "ticks": ""
             }
            },
            "type": "scattergeo"
           }
          ],
          "scattergl": [
           {
            "marker": {
             "colorbar": {
              "outlinewidth": 0,
              "ticks": ""
             }
            },
            "type": "scattergl"
           }
          ],
          "scattermapbox": [
           {
            "marker": {
             "colorbar": {
              "outlinewidth": 0,
              "ticks": ""
             }
            },
            "type": "scattermapbox"
           }
          ],
          "scatterpolar": [
           {
            "marker": {
             "colorbar": {
              "outlinewidth": 0,
              "ticks": ""
             }
            },
            "type": "scatterpolar"
           }
          ],
          "scatterpolargl": [
           {
            "marker": {
             "colorbar": {
              "outlinewidth": 0,
              "ticks": ""
             }
            },
            "type": "scatterpolargl"
           }
          ],
          "scatterternary": [
           {
            "marker": {
             "colorbar": {
              "outlinewidth": 0,
              "ticks": ""
             }
            },
            "type": "scatterternary"
           }
          ],
          "surface": [
           {
            "colorbar": {
             "outlinewidth": 0,
             "ticks": ""
            },
            "colorscale": [
             [
              0,
              "#0d0887"
             ],
             [
              0.1111111111111111,
              "#46039f"
             ],
             [
              0.2222222222222222,
              "#7201a8"
             ],
             [
              0.3333333333333333,
              "#9c179e"
             ],
             [
              0.4444444444444444,
              "#bd3786"
             ],
             [
              0.5555555555555556,
              "#d8576b"
             ],
             [
              0.6666666666666666,
              "#ed7953"
             ],
             [
              0.7777777777777778,
              "#fb9f3a"
             ],
             [
              0.8888888888888888,
              "#fdca26"
             ],
             [
              1,
              "#f0f921"
             ]
            ],
            "type": "surface"
           }
          ],
          "table": [
           {
            "cells": {
             "fill": {
              "color": "#EBF0F8"
             },
             "line": {
              "color": "white"
             }
            },
            "header": {
             "fill": {
              "color": "#C8D4E3"
             },
             "line": {
              "color": "white"
             }
            },
            "type": "table"
           }
          ]
         },
         "layout": {
          "annotationdefaults": {
           "arrowcolor": "#2a3f5f",
           "arrowhead": 0,
           "arrowwidth": 1
          },
          "autotypenumbers": "strict",
          "coloraxis": {
           "colorbar": {
            "outlinewidth": 0,
            "ticks": ""
           }
          },
          "colorscale": {
           "diverging": [
            [
             0,
             "#8e0152"
            ],
            [
             0.1,
             "#c51b7d"
            ],
            [
             0.2,
             "#de77ae"
            ],
            [
             0.3,
             "#f1b6da"
            ],
            [
             0.4,
             "#fde0ef"
            ],
            [
             0.5,
             "#f7f7f7"
            ],
            [
             0.6,
             "#e6f5d0"
            ],
            [
             0.7,
             "#b8e186"
            ],
            [
             0.8,
             "#7fbc41"
            ],
            [
             0.9,
             "#4d9221"
            ],
            [
             1,
             "#276419"
            ]
           ],
           "sequential": [
            [
             0,
             "#0d0887"
            ],
            [
             0.1111111111111111,
             "#46039f"
            ],
            [
             0.2222222222222222,
             "#7201a8"
            ],
            [
             0.3333333333333333,
             "#9c179e"
            ],
            [
             0.4444444444444444,
             "#bd3786"
            ],
            [
             0.5555555555555556,
             "#d8576b"
            ],
            [
             0.6666666666666666,
             "#ed7953"
            ],
            [
             0.7777777777777778,
             "#fb9f3a"
            ],
            [
             0.8888888888888888,
             "#fdca26"
            ],
            [
             1,
             "#f0f921"
            ]
           ],
           "sequentialminus": [
            [
             0,
             "#0d0887"
            ],
            [
             0.1111111111111111,
             "#46039f"
            ],
            [
             0.2222222222222222,
             "#7201a8"
            ],
            [
             0.3333333333333333,
             "#9c179e"
            ],
            [
             0.4444444444444444,
             "#bd3786"
            ],
            [
             0.5555555555555556,
             "#d8576b"
            ],
            [
             0.6666666666666666,
             "#ed7953"
            ],
            [
             0.7777777777777778,
             "#fb9f3a"
            ],
            [
             0.8888888888888888,
             "#fdca26"
            ],
            [
             1,
             "#f0f921"
            ]
           ]
          },
          "colorway": [
           "#636efa",
           "#EF553B",
           "#00cc96",
           "#ab63fa",
           "#FFA15A",
           "#19d3f3",
           "#FF6692",
           "#B6E880",
           "#FF97FF",
           "#FECB52"
          ],
          "font": {
           "color": "#2a3f5f"
          },
          "geo": {
           "bgcolor": "white",
           "lakecolor": "white",
           "landcolor": "#E5ECF6",
           "showlakes": true,
           "showland": true,
           "subunitcolor": "white"
          },
          "hoverlabel": {
           "align": "left"
          },
          "hovermode": "closest",
          "mapbox": {
           "style": "light"
          },
          "paper_bgcolor": "white",
          "plot_bgcolor": "#E5ECF6",
          "polar": {
           "angularaxis": {
            "gridcolor": "white",
            "linecolor": "white",
            "ticks": ""
           },
           "bgcolor": "#E5ECF6",
           "radialaxis": {
            "gridcolor": "white",
            "linecolor": "white",
            "ticks": ""
           }
          },
          "scene": {
           "xaxis": {
            "backgroundcolor": "#E5ECF6",
            "gridcolor": "white",
            "gridwidth": 2,
            "linecolor": "white",
            "showbackground": true,
            "ticks": "",
            "zerolinecolor": "white"
           },
           "yaxis": {
            "backgroundcolor": "#E5ECF6",
            "gridcolor": "white",
            "gridwidth": 2,
            "linecolor": "white",
            "showbackground": true,
            "ticks": "",
            "zerolinecolor": "white"
           },
           "zaxis": {
            "backgroundcolor": "#E5ECF6",
            "gridcolor": "white",
            "gridwidth": 2,
            "linecolor": "white",
            "showbackground": true,
            "ticks": "",
            "zerolinecolor": "white"
           }
          },
          "shapedefaults": {
           "line": {
            "color": "#2a3f5f"
           }
          },
          "ternary": {
           "aaxis": {
            "gridcolor": "white",
            "linecolor": "white",
            "ticks": ""
           },
           "baxis": {
            "gridcolor": "white",
            "linecolor": "white",
            "ticks": ""
           },
           "bgcolor": "#E5ECF6",
           "caxis": {
            "gridcolor": "white",
            "linecolor": "white",
            "ticks": ""
           }
          },
          "title": {
           "x": 0.05
          },
          "xaxis": {
           "automargin": true,
           "gridcolor": "white",
           "linecolor": "white",
           "ticks": "",
           "title": {
            "standoff": 15
           },
           "zerolinecolor": "white",
           "zerolinewidth": 2
          },
          "yaxis": {
           "automargin": true,
           "gridcolor": "white",
           "linecolor": "white",
           "ticks": "",
           "title": {
            "standoff": 15
           },
           "zerolinecolor": "white",
           "zerolinewidth": 2
          }
         }
        },
        "title": {
         "text": "Evaluation Metrics Comparison"
        },
        "xaxis": {
         "title": {
          "text": "Models"
         }
        },
        "yaxis": {
         "title": {
          "text": "Scores"
         }
        }
       }
      }
     },
     "metadata": {},
     "output_type": "display_data"
    }
   ],
   "source": [
    "# Extracting model names and metric scores\n",
    "model_names = [d['model'] for d in regression_stats_val]\n",
    "metric_labels = list(regression_stats_val[0].keys())[1:]\n",
    "metric_scores = {metric: [d[metric] for d in regression_stats_val] for metric in metric_labels}\n",
    "\n",
    "# Plotting the bar chart\n",
    "fig = go.Figure()\n",
    "\n",
    "for metric in metric_labels:\n",
    "    fig.add_trace(go.Bar(\n",
    "        x=model_names,\n",
    "        y=metric_scores[metric],\n",
    "        name=metric\n",
    "    ))\n",
    "\n",
    "# Updating the layout\n",
    "fig.update_layout(\n",
    "    title='Evaluation Metrics Comparison',\n",
    "    xaxis_title='Models',\n",
    "    yaxis_title='Scores',\n",
    "    barmode='group'\n",
    ")\n",
    "\n",
    "# Display the plot\n",
    "fig.show()"
   ]
  },
  {
   "attachments": {},
   "cell_type": "markdown",
   "metadata": {},
   "source": [
    "**Evaluating on test data**"
   ]
  },
  {
   "cell_type": "code",
   "execution_count": 14,
   "metadata": {},
   "outputs": [
    {
     "data": {
      "text/plain": [
       "[{'model': 'Multiple Linear Regression',\n",
       "  'mae': 0.9045298004108571,\n",
       "  'mse': 1.5779823658292136,\n",
       "  'rmse': 1.2561776808354834,\n",
       "  'r2': 0.0033979071955164697,\n",
       "  'adj_r2': -0.40456786178877513},\n",
       " {'model': 'Random Forest',\n",
       "  'mae': 0.8941572116607733,\n",
       "  'mse': 1.5706296636202557,\n",
       "  'rmse': 1.2532476465648184,\n",
       "  'r2': 0.00804163361977539,\n",
       "  'adj_r2': -0.3980231947230066},\n",
       " {'model': 'Neural Network',\n",
       "  'mae': 0.8977895369858052,\n",
       "  'mse': 1.5946822122768582,\n",
       "  'rmse': 1.2628072743997234,\n",
       "  'r2': -0.007149170059361776,\n",
       "  'adj_r2': -0.41943245604857426},\n",
       " {'model': 'Support Vector Machine',\n",
       "  'mae': 0.8924119168242366,\n",
       "  'mse': 1.6334579766730493,\n",
       "  'rmse': 1.2780680641785278,\n",
       "  'r2': -0.031638675635699665,\n",
       "  'adj_r2': -0.45394690542809135}]"
      ]
     },
     "execution_count": 14,
     "metadata": {},
     "output_type": "execute_result"
    }
   ],
   "source": [
    "regression_models = [\n",
    "    {\n",
    "        'name': 'Multiple Linear Regression',\n",
    "        'model': best_model_mlr,\n",
    "        'features': best_features_mlr\n",
    "    },\n",
    "    {\n",
    "        'name': 'Random Forest',\n",
    "        'model': best_model_rf,\n",
    "        'features': best_features_rf\n",
    "    },\n",
    "    {\n",
    "        'name': 'Neural Network',\n",
    "        'model': best_model_nn,\n",
    "        'features': best_features_nn\n",
    "    },\n",
    "    {\n",
    "        'name': 'Support Vector Machine',\n",
    "        'model': best_model_svm,\n",
    "        'features': best_features_svm\n",
    "    }\n",
    "]\n",
    "\n",
    "regression_stats_test = []\n",
    "\n",
    "for model in regression_models:\n",
    "    # Make predictions on the test set\n",
    "    y_pred = model['model'].predict(X_test[model['features']])\n",
    "\n",
    "    # Defining Actual values\n",
    "    y_true = y_test.copy()\n",
    "\n",
    "    # R2 Score\n",
    "    r2 = r2_score(y_true, y_pred)\n",
    "\n",
    "    # Adjusted R2 Score\n",
    "    n = len(y_true)  # Number of samples\n",
    "    p = X_test.shape[1]  # Number of predictors (features) in X\n",
    "    adj_r2 = 1 - ((1 - r2) * (n - 1)) / (n - p - 1)\n",
    "\n",
    "    # Save stats\n",
    "    regression_stats_test.append(\n",
    "        {\n",
    "            'model': model['name'],\n",
    "            'mae': mean_absolute_error(y_true, y_pred),\n",
    "            'mse': mean_squared_error(y_true, y_pred),\n",
    "            'rmse': np.sqrt(mean_squared_error(y_true, y_pred)),\n",
    "            'r2': r2,\n",
    "            'adj_r2': adj_r2\n",
    "        }\n",
    "    )\n",
    "\n",
    "# View stats\n",
    "regression_stats_test"
   ]
  },
  {
   "cell_type": "code",
   "execution_count": 15,
   "metadata": {},
   "outputs": [
    {
     "data": {
      "application/vnd.plotly.v1+json": {
       "config": {
        "plotlyServerURL": "https://plot.ly"
       },
       "data": [
        {
         "name": "mae",
         "type": "bar",
         "x": [
          "Multiple Linear Regression",
          "Random Forest",
          "Neural Network",
          "Support Vector Machine"
         ],
         "y": [
          0.9045298004108571,
          0.8941572116607733,
          0.8977895369858052,
          0.8924119168242366
         ]
        },
        {
         "name": "mse",
         "type": "bar",
         "x": [
          "Multiple Linear Regression",
          "Random Forest",
          "Neural Network",
          "Support Vector Machine"
         ],
         "y": [
          1.5779823658292136,
          1.5706296636202557,
          1.5946822122768582,
          1.6334579766730493
         ]
        },
        {
         "name": "rmse",
         "type": "bar",
         "x": [
          "Multiple Linear Regression",
          "Random Forest",
          "Neural Network",
          "Support Vector Machine"
         ],
         "y": [
          1.2561776808354834,
          1.2532476465648184,
          1.2628072743997234,
          1.2780680641785278
         ]
        },
        {
         "name": "r2",
         "type": "bar",
         "x": [
          "Multiple Linear Regression",
          "Random Forest",
          "Neural Network",
          "Support Vector Machine"
         ],
         "y": [
          0.0033979071955164697,
          0.00804163361977539,
          -0.007149170059361776,
          -0.031638675635699665
         ]
        },
        {
         "name": "adj_r2",
         "type": "bar",
         "x": [
          "Multiple Linear Regression",
          "Random Forest",
          "Neural Network",
          "Support Vector Machine"
         ],
         "y": [
          -0.40456786178877513,
          -0.3980231947230066,
          -0.41943245604857426,
          -0.45394690542809135
         ]
        }
       ],
       "layout": {
        "barmode": "group",
        "template": {
         "data": {
          "bar": [
           {
            "error_x": {
             "color": "#2a3f5f"
            },
            "error_y": {
             "color": "#2a3f5f"
            },
            "marker": {
             "line": {
              "color": "#E5ECF6",
              "width": 0.5
             },
             "pattern": {
              "fillmode": "overlay",
              "size": 10,
              "solidity": 0.2
             }
            },
            "type": "bar"
           }
          ],
          "barpolar": [
           {
            "marker": {
             "line": {
              "color": "#E5ECF6",
              "width": 0.5
             },
             "pattern": {
              "fillmode": "overlay",
              "size": 10,
              "solidity": 0.2
             }
            },
            "type": "barpolar"
           }
          ],
          "carpet": [
           {
            "aaxis": {
             "endlinecolor": "#2a3f5f",
             "gridcolor": "white",
             "linecolor": "white",
             "minorgridcolor": "white",
             "startlinecolor": "#2a3f5f"
            },
            "baxis": {
             "endlinecolor": "#2a3f5f",
             "gridcolor": "white",
             "linecolor": "white",
             "minorgridcolor": "white",
             "startlinecolor": "#2a3f5f"
            },
            "type": "carpet"
           }
          ],
          "choropleth": [
           {
            "colorbar": {
             "outlinewidth": 0,
             "ticks": ""
            },
            "type": "choropleth"
           }
          ],
          "contour": [
           {
            "colorbar": {
             "outlinewidth": 0,
             "ticks": ""
            },
            "colorscale": [
             [
              0,
              "#0d0887"
             ],
             [
              0.1111111111111111,
              "#46039f"
             ],
             [
              0.2222222222222222,
              "#7201a8"
             ],
             [
              0.3333333333333333,
              "#9c179e"
             ],
             [
              0.4444444444444444,
              "#bd3786"
             ],
             [
              0.5555555555555556,
              "#d8576b"
             ],
             [
              0.6666666666666666,
              "#ed7953"
             ],
             [
              0.7777777777777778,
              "#fb9f3a"
             ],
             [
              0.8888888888888888,
              "#fdca26"
             ],
             [
              1,
              "#f0f921"
             ]
            ],
            "type": "contour"
           }
          ],
          "contourcarpet": [
           {
            "colorbar": {
             "outlinewidth": 0,
             "ticks": ""
            },
            "type": "contourcarpet"
           }
          ],
          "heatmap": [
           {
            "colorbar": {
             "outlinewidth": 0,
             "ticks": ""
            },
            "colorscale": [
             [
              0,
              "#0d0887"
             ],
             [
              0.1111111111111111,
              "#46039f"
             ],
             [
              0.2222222222222222,
              "#7201a8"
             ],
             [
              0.3333333333333333,
              "#9c179e"
             ],
             [
              0.4444444444444444,
              "#bd3786"
             ],
             [
              0.5555555555555556,
              "#d8576b"
             ],
             [
              0.6666666666666666,
              "#ed7953"
             ],
             [
              0.7777777777777778,
              "#fb9f3a"
             ],
             [
              0.8888888888888888,
              "#fdca26"
             ],
             [
              1,
              "#f0f921"
             ]
            ],
            "type": "heatmap"
           }
          ],
          "heatmapgl": [
           {
            "colorbar": {
             "outlinewidth": 0,
             "ticks": ""
            },
            "colorscale": [
             [
              0,
              "#0d0887"
             ],
             [
              0.1111111111111111,
              "#46039f"
             ],
             [
              0.2222222222222222,
              "#7201a8"
             ],
             [
              0.3333333333333333,
              "#9c179e"
             ],
             [
              0.4444444444444444,
              "#bd3786"
             ],
             [
              0.5555555555555556,
              "#d8576b"
             ],
             [
              0.6666666666666666,
              "#ed7953"
             ],
             [
              0.7777777777777778,
              "#fb9f3a"
             ],
             [
              0.8888888888888888,
              "#fdca26"
             ],
             [
              1,
              "#f0f921"
             ]
            ],
            "type": "heatmapgl"
           }
          ],
          "histogram": [
           {
            "marker": {
             "pattern": {
              "fillmode": "overlay",
              "size": 10,
              "solidity": 0.2
             }
            },
            "type": "histogram"
           }
          ],
          "histogram2d": [
           {
            "colorbar": {
             "outlinewidth": 0,
             "ticks": ""
            },
            "colorscale": [
             [
              0,
              "#0d0887"
             ],
             [
              0.1111111111111111,
              "#46039f"
             ],
             [
              0.2222222222222222,
              "#7201a8"
             ],
             [
              0.3333333333333333,
              "#9c179e"
             ],
             [
              0.4444444444444444,
              "#bd3786"
             ],
             [
              0.5555555555555556,
              "#d8576b"
             ],
             [
              0.6666666666666666,
              "#ed7953"
             ],
             [
              0.7777777777777778,
              "#fb9f3a"
             ],
             [
              0.8888888888888888,
              "#fdca26"
             ],
             [
              1,
              "#f0f921"
             ]
            ],
            "type": "histogram2d"
           }
          ],
          "histogram2dcontour": [
           {
            "colorbar": {
             "outlinewidth": 0,
             "ticks": ""
            },
            "colorscale": [
             [
              0,
              "#0d0887"
             ],
             [
              0.1111111111111111,
              "#46039f"
             ],
             [
              0.2222222222222222,
              "#7201a8"
             ],
             [
              0.3333333333333333,
              "#9c179e"
             ],
             [
              0.4444444444444444,
              "#bd3786"
             ],
             [
              0.5555555555555556,
              "#d8576b"
             ],
             [
              0.6666666666666666,
              "#ed7953"
             ],
             [
              0.7777777777777778,
              "#fb9f3a"
             ],
             [
              0.8888888888888888,
              "#fdca26"
             ],
             [
              1,
              "#f0f921"
             ]
            ],
            "type": "histogram2dcontour"
           }
          ],
          "mesh3d": [
           {
            "colorbar": {
             "outlinewidth": 0,
             "ticks": ""
            },
            "type": "mesh3d"
           }
          ],
          "parcoords": [
           {
            "line": {
             "colorbar": {
              "outlinewidth": 0,
              "ticks": ""
             }
            },
            "type": "parcoords"
           }
          ],
          "pie": [
           {
            "automargin": true,
            "type": "pie"
           }
          ],
          "scatter": [
           {
            "fillpattern": {
             "fillmode": "overlay",
             "size": 10,
             "solidity": 0.2
            },
            "type": "scatter"
           }
          ],
          "scatter3d": [
           {
            "line": {
             "colorbar": {
              "outlinewidth": 0,
              "ticks": ""
             }
            },
            "marker": {
             "colorbar": {
              "outlinewidth": 0,
              "ticks": ""
             }
            },
            "type": "scatter3d"
           }
          ],
          "scattercarpet": [
           {
            "marker": {
             "colorbar": {
              "outlinewidth": 0,
              "ticks": ""
             }
            },
            "type": "scattercarpet"
           }
          ],
          "scattergeo": [
           {
            "marker": {
             "colorbar": {
              "outlinewidth": 0,
              "ticks": ""
             }
            },
            "type": "scattergeo"
           }
          ],
          "scattergl": [
           {
            "marker": {
             "colorbar": {
              "outlinewidth": 0,
              "ticks": ""
             }
            },
            "type": "scattergl"
           }
          ],
          "scattermapbox": [
           {
            "marker": {
             "colorbar": {
              "outlinewidth": 0,
              "ticks": ""
             }
            },
            "type": "scattermapbox"
           }
          ],
          "scatterpolar": [
           {
            "marker": {
             "colorbar": {
              "outlinewidth": 0,
              "ticks": ""
             }
            },
            "type": "scatterpolar"
           }
          ],
          "scatterpolargl": [
           {
            "marker": {
             "colorbar": {
              "outlinewidth": 0,
              "ticks": ""
             }
            },
            "type": "scatterpolargl"
           }
          ],
          "scatterternary": [
           {
            "marker": {
             "colorbar": {
              "outlinewidth": 0,
              "ticks": ""
             }
            },
            "type": "scatterternary"
           }
          ],
          "surface": [
           {
            "colorbar": {
             "outlinewidth": 0,
             "ticks": ""
            },
            "colorscale": [
             [
              0,
              "#0d0887"
             ],
             [
              0.1111111111111111,
              "#46039f"
             ],
             [
              0.2222222222222222,
              "#7201a8"
             ],
             [
              0.3333333333333333,
              "#9c179e"
             ],
             [
              0.4444444444444444,
              "#bd3786"
             ],
             [
              0.5555555555555556,
              "#d8576b"
             ],
             [
              0.6666666666666666,
              "#ed7953"
             ],
             [
              0.7777777777777778,
              "#fb9f3a"
             ],
             [
              0.8888888888888888,
              "#fdca26"
             ],
             [
              1,
              "#f0f921"
             ]
            ],
            "type": "surface"
           }
          ],
          "table": [
           {
            "cells": {
             "fill": {
              "color": "#EBF0F8"
             },
             "line": {
              "color": "white"
             }
            },
            "header": {
             "fill": {
              "color": "#C8D4E3"
             },
             "line": {
              "color": "white"
             }
            },
            "type": "table"
           }
          ]
         },
         "layout": {
          "annotationdefaults": {
           "arrowcolor": "#2a3f5f",
           "arrowhead": 0,
           "arrowwidth": 1
          },
          "autotypenumbers": "strict",
          "coloraxis": {
           "colorbar": {
            "outlinewidth": 0,
            "ticks": ""
           }
          },
          "colorscale": {
           "diverging": [
            [
             0,
             "#8e0152"
            ],
            [
             0.1,
             "#c51b7d"
            ],
            [
             0.2,
             "#de77ae"
            ],
            [
             0.3,
             "#f1b6da"
            ],
            [
             0.4,
             "#fde0ef"
            ],
            [
             0.5,
             "#f7f7f7"
            ],
            [
             0.6,
             "#e6f5d0"
            ],
            [
             0.7,
             "#b8e186"
            ],
            [
             0.8,
             "#7fbc41"
            ],
            [
             0.9,
             "#4d9221"
            ],
            [
             1,
             "#276419"
            ]
           ],
           "sequential": [
            [
             0,
             "#0d0887"
            ],
            [
             0.1111111111111111,
             "#46039f"
            ],
            [
             0.2222222222222222,
             "#7201a8"
            ],
            [
             0.3333333333333333,
             "#9c179e"
            ],
            [
             0.4444444444444444,
             "#bd3786"
            ],
            [
             0.5555555555555556,
             "#d8576b"
            ],
            [
             0.6666666666666666,
             "#ed7953"
            ],
            [
             0.7777777777777778,
             "#fb9f3a"
            ],
            [
             0.8888888888888888,
             "#fdca26"
            ],
            [
             1,
             "#f0f921"
            ]
           ],
           "sequentialminus": [
            [
             0,
             "#0d0887"
            ],
            [
             0.1111111111111111,
             "#46039f"
            ],
            [
             0.2222222222222222,
             "#7201a8"
            ],
            [
             0.3333333333333333,
             "#9c179e"
            ],
            [
             0.4444444444444444,
             "#bd3786"
            ],
            [
             0.5555555555555556,
             "#d8576b"
            ],
            [
             0.6666666666666666,
             "#ed7953"
            ],
            [
             0.7777777777777778,
             "#fb9f3a"
            ],
            [
             0.8888888888888888,
             "#fdca26"
            ],
            [
             1,
             "#f0f921"
            ]
           ]
          },
          "colorway": [
           "#636efa",
           "#EF553B",
           "#00cc96",
           "#ab63fa",
           "#FFA15A",
           "#19d3f3",
           "#FF6692",
           "#B6E880",
           "#FF97FF",
           "#FECB52"
          ],
          "font": {
           "color": "#2a3f5f"
          },
          "geo": {
           "bgcolor": "white",
           "lakecolor": "white",
           "landcolor": "#E5ECF6",
           "showlakes": true,
           "showland": true,
           "subunitcolor": "white"
          },
          "hoverlabel": {
           "align": "left"
          },
          "hovermode": "closest",
          "mapbox": {
           "style": "light"
          },
          "paper_bgcolor": "white",
          "plot_bgcolor": "#E5ECF6",
          "polar": {
           "angularaxis": {
            "gridcolor": "white",
            "linecolor": "white",
            "ticks": ""
           },
           "bgcolor": "#E5ECF6",
           "radialaxis": {
            "gridcolor": "white",
            "linecolor": "white",
            "ticks": ""
           }
          },
          "scene": {
           "xaxis": {
            "backgroundcolor": "#E5ECF6",
            "gridcolor": "white",
            "gridwidth": 2,
            "linecolor": "white",
            "showbackground": true,
            "ticks": "",
            "zerolinecolor": "white"
           },
           "yaxis": {
            "backgroundcolor": "#E5ECF6",
            "gridcolor": "white",
            "gridwidth": 2,
            "linecolor": "white",
            "showbackground": true,
            "ticks": "",
            "zerolinecolor": "white"
           },
           "zaxis": {
            "backgroundcolor": "#E5ECF6",
            "gridcolor": "white",
            "gridwidth": 2,
            "linecolor": "white",
            "showbackground": true,
            "ticks": "",
            "zerolinecolor": "white"
           }
          },
          "shapedefaults": {
           "line": {
            "color": "#2a3f5f"
           }
          },
          "ternary": {
           "aaxis": {
            "gridcolor": "white",
            "linecolor": "white",
            "ticks": ""
           },
           "baxis": {
            "gridcolor": "white",
            "linecolor": "white",
            "ticks": ""
           },
           "bgcolor": "#E5ECF6",
           "caxis": {
            "gridcolor": "white",
            "linecolor": "white",
            "ticks": ""
           }
          },
          "title": {
           "x": 0.05
          },
          "xaxis": {
           "automargin": true,
           "gridcolor": "white",
           "linecolor": "white",
           "ticks": "",
           "title": {
            "standoff": 15
           },
           "zerolinecolor": "white",
           "zerolinewidth": 2
          },
          "yaxis": {
           "automargin": true,
           "gridcolor": "white",
           "linecolor": "white",
           "ticks": "",
           "title": {
            "standoff": 15
           },
           "zerolinecolor": "white",
           "zerolinewidth": 2
          }
         }
        },
        "title": {
         "text": "Evaluation Metrics Comparison"
        },
        "xaxis": {
         "title": {
          "text": "Models"
         }
        },
        "yaxis": {
         "title": {
          "text": "Scores"
         }
        }
       }
      }
     },
     "metadata": {},
     "output_type": "display_data"
    }
   ],
   "source": [
    "# Extracting model names and metric scores\n",
    "model_names = [d['model'] for d in regression_stats_test]\n",
    "metric_labels = list(regression_stats_test[0].keys())[1:]\n",
    "metric_scores = {metric: [d[metric] for d in regression_stats_test] for metric in metric_labels}\n",
    "\n",
    "# Plotting the bar chart\n",
    "fig = go.Figure()\n",
    "\n",
    "for metric in metric_labels:\n",
    "    fig.add_trace(go.Bar(\n",
    "        x=model_names,\n",
    "        y=metric_scores[metric],\n",
    "        name=metric\n",
    "    ))\n",
    "\n",
    "# Updating the layout\n",
    "fig.update_layout(\n",
    "    title='Evaluation Metrics Comparison',\n",
    "    xaxis_title='Models',\n",
    "    yaxis_title='Scores',\n",
    "    barmode='group'\n",
    ")\n",
    "\n",
    "# Display the plot\n",
    "fig.show()"
   ]
  },
  {
   "attachments": {},
   "cell_type": "markdown",
   "metadata": {},
   "source": [
    "Naive bayes"
   ]
  },
  {
   "cell_type": "code",
   "execution_count": 16,
   "metadata": {},
   "outputs": [
    {
     "name": "stdout",
     "output_type": "stream",
     "text": [
      "Mean Absolute Error: 0.9067514130956161\n",
      "Mean Squared Error: 1.5936473903413322\n",
      "Root Mean Squared Error: 1.2623974771605544\n",
      "R2 Score: -0.006495610343513203\n",
      "Adjusted R2 Score: -0.41851135726775834\n"
     ]
    }
   ],
   "source": [
    "# Defining Actual values\n",
    "y_true = y_test.copy()\n",
    "\n",
    "# Defining Predicted values\n",
    "y_pred = np.full_like(y_test, y_train.mean())\n",
    "\n",
    "# Mean absolute error\n",
    "mae = mean_absolute_error(y_test, y_pred)\n",
    "print(\"Mean Absolute Error:\", mae)\n",
    "\n",
    "# Mean Squared Error\n",
    "mse = mean_squared_error(y_true, y_pred)\n",
    "print(\"Mean Squared Error:\", mse)\n",
    "\n",
    "# Root Mean Squared Error\n",
    "rmse = np.sqrt(mse)\n",
    "print(\"Root Mean Squared Error:\", rmse)\n",
    "\n",
    "# R2 Score\n",
    "r2 = r2_score(y_true, y_pred)\n",
    "print(\"R2 Score:\", r2)\n",
    "\n",
    "# Adjusted R2 Score\n",
    "n = len(y_true)  # Number of samples\n",
    "p = X_test.shape[1]  # Number of predictors (features) in X\n",
    "adj_r2 = 1 - ((1 - r2) * (n - 1)) / (n - p - 1)\n",
    "print(\"Adjusted R2 Score:\", adj_r2)"
   ]
  },
  {
   "attachments": {},
   "cell_type": "markdown",
   "metadata": {},
   "source": [
    "Save best model as Pickle"
   ]
  },
  {
   "cell_type": "code",
   "execution_count": 17,
   "metadata": {},
   "outputs": [],
   "source": [
    "import pickle\n",
    "\n",
    "# Save model\n",
    "file_path = 'Saved Models/BMI.pkl'\n",
    "\n",
    "with open(file_path, 'wb') as file:\n",
    "    pickle.dump(best_model_mlr, file)\n",
    "\n",
    "# Save features\n",
    "with open('Saved Models/best_features_BMI.txt', 'w') as file:\n",
    "    file.write(f'{best_features_mlr}')"
   ]
  }
 ],
 "metadata": {
  "kernelspec": {
   "display_name": "Python 3",
   "language": "python",
   "name": "python3"
  },
  "language_info": {
   "codemirror_mode": {
    "name": "ipython",
    "version": 3
   },
   "file_extension": ".py",
   "mimetype": "text/x-python",
   "name": "python",
   "nbconvert_exporter": "python",
   "pygments_lexer": "ipython3",
   "version": "3.9.5"
  },
  "orig_nbformat": 4
 },
 "nbformat": 4,
 "nbformat_minor": 2
}
