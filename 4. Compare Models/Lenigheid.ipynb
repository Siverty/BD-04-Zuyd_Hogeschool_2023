{
 "cells": [
  {
   "attachments": {},
   "cell_type": "markdown",
   "metadata": {},
   "source": [
    "# General Imports"
   ]
  },
  {
   "attachments": {},
   "cell_type": "markdown",
   "metadata": {},
   "source": [
    "**Importing all libraries**"
   ]
  },
  {
   "cell_type": "code",
   "execution_count": 1,
   "metadata": {},
   "outputs": [],
   "source": [
    "import numpy as np\n",
    "import pandas as pd\n",
    "import warnings\n",
    "\n",
    "import plotly.graph_objects as go\n",
    "from bayes_opt import BayesianOptimization\n",
    "import statsmodels.api as sm\n",
    "\n",
    "from sklearn.model_selection import cross_val_score, train_test_split\n",
    "from sklearn.linear_model import LinearRegression\n",
    "from sklearn.svm import SVR\n",
    "from sklearn.model_selection import cross_val_predict\n",
    "from sklearn.ensemble import RandomForestRegressor\n",
    "from sklearn.neural_network import MLPRegressor\n",
    "from sklearn.metrics import r2_score, mean_squared_error, mean_absolute_error\n",
    "from sklearn.inspection import permutation_importance\n"
   ]
  },
  {
   "attachments": {},
   "cell_type": "markdown",
   "metadata": {},
   "source": [
    "Disable warnings"
   ]
  },
  {
   "cell_type": "code",
   "execution_count": 2,
   "metadata": {},
   "outputs": [],
   "source": [
    "# Disable all warnings\n",
    "warnings.filterwarnings(\"ignore\")\n",
    "\n",
    "# Enable warnings again\n",
    "## warnings.filterwarnings(\"default\")"
   ]
  },
  {
   "attachments": {},
   "cell_type": "markdown",
   "metadata": {},
   "source": [
    "Generate train and test data"
   ]
  },
  {
   "cell_type": "code",
   "execution_count": 3,
   "metadata": {},
   "outputs": [],
   "source": [
    "# Read Data\n",
    "df = pd.read_csv(\"data_finish_prep.csv\")\n",
    "\n",
    "# Select only the usefull part of the df\n",
    "df.drop(columns=['verschil_Lengte',\n",
    "               'verschil_6 MWT', 'verschil_TUG',\n",
    "               'verschil_BMI', 'verschil_Conditie',\n",
    "               'verschil_Gewicht', 'verschil_Knijpkracht'], inplace=True)\n",
    "\n",
    "# Drop NaN values\n",
    "df.dropna(inplace=True)\n",
    "\n",
    "# Define X and y\n",
    "X = df.drop(columns=['verschil_Lenigheid'])\n",
    "y = df['verschil_Lenigheid']\n",
    "\n",
    "# Split data into train & test data\n",
    "X_train, X_test, y_train, y_test = train_test_split(X, y, test_size=0.2, random_state=42)"
   ]
  },
  {
   "cell_type": "code",
   "execution_count": 4,
   "metadata": {},
   "outputs": [],
   "source": [
    "def bo_params_generic(model, params, X_train, y_train):\n",
    "    # Create the model instance with the specified parameters\n",
    "    regressor = model(**params)\n",
    "    \n",
    "    # Assuming you have X_train, y_train defined for regression\n",
    "    scores = cross_val_score(regressor, X_train, y_train, cv=10, scoring='neg_root_mean_squared_error')\n",
    "    return -scores.mean()"
   ]
  },
  {
   "attachments": {},
   "cell_type": "markdown",
   "metadata": {},
   "source": [
    "# MLR"
   ]
  },
  {
   "attachments": {},
   "cell_type": "markdown",
   "metadata": {},
   "source": [
    "**feature selection**"
   ]
  },
  {
   "cell_type": "code",
   "execution_count": 5,
   "metadata": {},
   "outputs": [
    {
     "name": "stdout",
     "output_type": "stream",
     "text": [
      "Best features: ['GeboorteRelatief', 'ALandbouwBosbouwEnVisserij', 'AfstandTotSchool', 'AfstandTotOpenNatNatuurlijkTerrein', 'AfstandTotSportterrein', 'AfstandTotMuseum', 'ErvarenGezondheidGoedZeerGoed', 'ErnstigOvergewichtObesitas', 'UrenMantelzorgPerWeek']\n",
      "Dropped features: ['AfstandTotBioscoop', 'AfstandTotRestaurant', 'AfstandTotSemiOpenbaarGroenTotaal', 'AfstandTotSauna', 'VoldoetAanRichtlijnAlcoholgebruik', 'AfstandTotOpenDroogNatTerrein', 'NederlandseAntillenEnAruba', 'ZwaarBelasteMantelzorgers', 'OppervlakteWater', 'BeperkingInZien', 'PercentageOnbewoond', 'AfstandTotHuisartsenpost', 'AfstandTotBos', 'GemiddeldeWoningwaarde', 'AfstandTotWarenhuis', 'AfstandTotBegraafplaats', 'AfstandTotZonnebank', 'VernielingMisdrijfTegenOpenbareOrde', 'AfstandTotOpenNatTerreinTotaal', 'AfstandTotBibliotheek', 'AfstandTotCafeED', 'Ondergewicht', 'MatigOvergewicht', 'VoldoetAanBeweegrichtlijn', 'InBezitWoningcorporatie', 'AfstandTotZwembad', 'AfstandTotPoppodium', 'AfstandTotBrandweerkazerne', 'AfstandTotCafetariaED', 'SterfteRelatief', 'AfstandTotBelangrijkOverstapstation', 'EigendomOnbekend', 'PersonenautoSNaarOppervlakte', 'InBezitOverigeVerhuurders', 'AfstandTotDagrecreatiefTerrein', 'PersonenautoSPerHuishouden', 'AfstandTotTreinstationsTotaal', 'AfstandTotAttractie', 'Mantelzorger', 'AfstandTotKunstijsbaan', 'AfstandTotBuitenschoolseOpvang', 'AfstandTotKinderdagverblijf', 'EenOfMeerLangdurigeAandoeningen', 'BouwjaarVanaf2000', 'PersonenautoSOverigeBrandstof', 'OvermatigDrinker', 'AfstandTotApotheek', 'TotaalDiefstalUitWoningSchuurED', 'AfstandTotVolkstuin', 'AfstandTotHotelED', 'AfstandTotVerblijfsrecreatiefTerrein', 'Rokers', 'KLFinancieleDienstenOnroerendGoed', 'AfstandTotConsultatiebureau', 'AfstandTotHuisartsenpraktijk', 'GeweldsEnSeksueleMisdrijven', 'kPersonenMetLaagsteInkomen', 'AfstandTotOvDagelLevensmiddelen', 'BeperkingInHoren', 'AfstandTotOpenbaarGroenTotaal', 'AfstandTotPodiumkunstenTotaal']\n"
     ]
    }
   ],
   "source": [
    "# Fit the Full Model\n",
    "X =  sm.add_constant(X_train)  # Add constant term for the intercept\n",
    "model = sm.OLS(y_train, X_train).fit()  # Fit the MLR model\n",
    "best_model = model  # Initialize the best model\n",
    "selected_features = X_train.columns.tolist()\n",
    "best_features = X_train.columns.tolist()\n",
    "best_features_rmse = np.sqrt(-cross_val_score(LinearRegression(), X_train, y_train, cv=10, scoring='neg_mean_squared_error').mean())\n",
    "\n",
    "# Iteratively remove one feature at a time based on p-values\n",
    "while True:\n",
    "    # Compute p-values\n",
    "    p_values = model.pvalues[1:]  # Exclude the constant term\n",
    "\n",
    "    # Identify Insignificant Features\n",
    "    insignificant_feature = p_values.idxmax()\n",
    "    max_p_value = p_values.max()\n",
    "\n",
    "    # Remove Insignificant Feature\n",
    "    X = X.drop(insignificant_feature, axis=1)\n",
    "    selected_features.remove(insignificant_feature)\n",
    "\n",
    "    # When there a no features left\n",
    "    if len(selected_features) == 0:\n",
    "        break\n",
    "    \n",
    "    # Refit the Model\n",
    "    model = sm.OLS(y_train, X).fit()\n",
    "    \n",
    "    # Evaluate Model Performance\n",
    "    rmse = np.sqrt(-cross_val_score(LinearRegression(), X_train[selected_features], y_train, cv=10, scoring='neg_mean_squared_error').mean())\n",
    "\n",
    "    # Check if the model performs better without the insignificant features\n",
    "    if rmse <= best_features_rmse:\n",
    "        best_features_rmse = rmse\n",
    "        best_features = selected_features.copy()\n",
    "        best_model = model\n",
    "\n",
    "# Save results\n",
    "best_model_mlr = LinearRegression().fit(X_train[best_features], y_train)\n",
    "best_features_mlr = best_features\n",
    "\n",
    "# Show results\n",
    "print(\"Best features:\", best_features)\n",
    "print(\"Dropped features:\", list(set(X_train.columns.tolist()) - set(best_features)))"
   ]
  },
  {
   "attachments": {},
   "cell_type": "markdown",
   "metadata": {},
   "source": [
    "*Er zijn geen hyperparameters om te optimaliseren.*"
   ]
  },
  {
   "attachments": {},
   "cell_type": "markdown",
   "metadata": {},
   "source": [
    "# Support Vector Machines"
   ]
  },
  {
   "attachments": {},
   "cell_type": "markdown",
   "metadata": {},
   "source": [
    "**Hyperparameter optimalisatie**"
   ]
  },
  {
   "cell_type": "code",
   "execution_count": 6,
   "metadata": {},
   "outputs": [
    {
     "name": "stdout",
     "output_type": "stream",
     "text": [
      "|   iter    |  target   |     C     |   gamma   | kernel... |\n",
      "-------------------------------------------------------------\n"
     ]
    },
    {
     "name": "stdout",
     "output_type": "stream",
     "text": [
      "| \u001b[0m1        \u001b[0m | \u001b[0m-40.25   \u001b[0m | \u001b[0m2.161    \u001b[0m | \u001b[0m0.05162  \u001b[0m | \u001b[0m1.883    \u001b[0m |\n",
      "| \u001b[95m2        \u001b[0m | \u001b[95m-40.22   \u001b[0m | \u001b[95m6.319    \u001b[0m | \u001b[95m0.0546   \u001b[0m | \u001b[95m1.304    \u001b[0m |\n",
      "| \u001b[0m3        \u001b[0m | \u001b[0m-40.27   \u001b[0m | \u001b[0m8.27     \u001b[0m | \u001b[0m0.03721  \u001b[0m | \u001b[0m3.711    \u001b[0m |\n",
      "| \u001b[0m4        \u001b[0m | \u001b[0m-40.3    \u001b[0m | \u001b[0m6.465    \u001b[0m | \u001b[0m0.01071  \u001b[0m | \u001b[0m2.532    \u001b[0m |\n",
      "| \u001b[95m5        \u001b[0m | \u001b[95m-40.2    \u001b[0m | \u001b[95m3.104    \u001b[0m | \u001b[95m0.01005  \u001b[0m | \u001b[95m3.305    \u001b[0m |\n",
      "| \u001b[0m6        \u001b[0m | \u001b[0m-40.29   \u001b[0m | \u001b[0m5.734    \u001b[0m | \u001b[0m0.03661  \u001b[0m | \u001b[0m2.975    \u001b[0m |\n",
      "| \u001b[0m7        \u001b[0m | \u001b[0m-40.25   \u001b[0m | \u001b[0m8.413    \u001b[0m | \u001b[0m0.04796  \u001b[0m | \u001b[0m1.258    \u001b[0m |\n",
      "| \u001b[0m8        \u001b[0m | \u001b[0m-40.33   \u001b[0m | \u001b[0m4.812    \u001b[0m | \u001b[0m0.06648  \u001b[0m | \u001b[0m3.684    \u001b[0m |\n",
      "| \u001b[0m9        \u001b[0m | \u001b[0m-40.33   \u001b[0m | \u001b[0m5.268    \u001b[0m | \u001b[0m0.06415  \u001b[0m | \u001b[0m3.652    \u001b[0m |\n",
      "| \u001b[0m10       \u001b[0m | \u001b[0m-40.25   \u001b[0m | \u001b[0m3.311    \u001b[0m | \u001b[0m0.05962  \u001b[0m | \u001b[0m1.344    \u001b[0m |\n",
      "| \u001b[0m11       \u001b[0m | \u001b[0m-40.55   \u001b[0m | \u001b[0m2.305    \u001b[0m | \u001b[0m0.001    \u001b[0m | \u001b[0m3.368    \u001b[0m |\n",
      "| \u001b[0m12       \u001b[0m | \u001b[0m-40.29   \u001b[0m | \u001b[0m3.342    \u001b[0m | \u001b[0m0.01884  \u001b[0m | \u001b[0m3.291    \u001b[0m |\n",
      "| \u001b[0m13       \u001b[0m | \u001b[0m-40.25   \u001b[0m | \u001b[0m3.093    \u001b[0m | \u001b[0m0.01565  \u001b[0m | \u001b[0m3.278    \u001b[0m |\n",
      "| \u001b[0m14       \u001b[0m | \u001b[0m-40.22   \u001b[0m | \u001b[0m5.488    \u001b[0m | \u001b[0m0.003116 \u001b[0m | \u001b[0m2.706    \u001b[0m |\n",
      "| \u001b[0m15       \u001b[0m | \u001b[0m-40.32   \u001b[0m | \u001b[0m9.352    \u001b[0m | \u001b[0m0.04939  \u001b[0m | \u001b[0m3.02     \u001b[0m |\n",
      "| \u001b[0m16       \u001b[0m | \u001b[0m-40.25   \u001b[0m | \u001b[0m3.34     \u001b[0m | \u001b[0m0.02372  \u001b[0m | \u001b[0m1.979    \u001b[0m |\n",
      "| \u001b[0m17       \u001b[0m | \u001b[0m-40.26   \u001b[0m | \u001b[0m1.589    \u001b[0m | \u001b[0m0.04285  \u001b[0m | \u001b[0m2.844    \u001b[0m |\n",
      "| \u001b[0m18       \u001b[0m | \u001b[0m-40.31   \u001b[0m | \u001b[0m6.861    \u001b[0m | \u001b[0m0.09554  \u001b[0m | \u001b[0m3.803    \u001b[0m |\n",
      "| \u001b[0m19       \u001b[0m | \u001b[0m-40.27   \u001b[0m | \u001b[0m3.156    \u001b[0m | \u001b[0m0.03432  \u001b[0m | \u001b[0m3.342    \u001b[0m |\n",
      "| \u001b[0m20       \u001b[0m | \u001b[0m-40.31   \u001b[0m | \u001b[0m3.041    \u001b[0m | \u001b[0m0.004457 \u001b[0m | \u001b[0m3.319    \u001b[0m |\n",
      "| \u001b[0m21       \u001b[0m | \u001b[0m-40.31   \u001b[0m | \u001b[0m5.44     \u001b[0m | \u001b[0m0.01764  \u001b[0m | \u001b[0m2.689    \u001b[0m |\n",
      "| \u001b[0m22       \u001b[0m | \u001b[0m-40.26   \u001b[0m | \u001b[0m3.097    \u001b[0m | \u001b[0m0.03652  \u001b[0m | \u001b[0m3.317    \u001b[0m |\n",
      "| \u001b[0m23       \u001b[0m | \u001b[0m-40.22   \u001b[0m | \u001b[0m6.34     \u001b[0m | \u001b[0m0.09106  \u001b[0m | \u001b[0m1.313    \u001b[0m |\n",
      "| \u001b[0m24       \u001b[0m | \u001b[0m-40.28   \u001b[0m | \u001b[0m5.496    \u001b[0m | \u001b[0m0.009291 \u001b[0m | \u001b[0m2.751    \u001b[0m |\n",
      "| \u001b[0m25       \u001b[0m | \u001b[0m-40.22   \u001b[0m | \u001b[0m6.363    \u001b[0m | \u001b[0m0.0455   \u001b[0m | \u001b[0m1.28     \u001b[0m |\n",
      "| \u001b[0m26       \u001b[0m | \u001b[0m-40.22   \u001b[0m | \u001b[0m6.375    \u001b[0m | \u001b[0m0.04612  \u001b[0m | \u001b[0m1.339    \u001b[0m |\n",
      "| \u001b[0m27       \u001b[0m | \u001b[0m-40.31   \u001b[0m | \u001b[0m5.518    \u001b[0m | \u001b[0m0.02422  \u001b[0m | \u001b[0m2.665    \u001b[0m |\n",
      "| \u001b[0m28       \u001b[0m | \u001b[0m-40.22   \u001b[0m | \u001b[0m6.333    \u001b[0m | \u001b[0m0.08227  \u001b[0m | \u001b[0m1.39     \u001b[0m |\n",
      "| \u001b[0m29       \u001b[0m | \u001b[0m-40.22   \u001b[0m | \u001b[0m6.408    \u001b[0m | \u001b[0m0.0929   \u001b[0m | \u001b[0m1.374    \u001b[0m |\n",
      "| \u001b[0m30       \u001b[0m | \u001b[0m-40.22   \u001b[0m | \u001b[0m6.404    \u001b[0m | \u001b[0m0.05755  \u001b[0m | \u001b[0m1.421    \u001b[0m |\n",
      "| \u001b[0m31       \u001b[0m | \u001b[0m-40.22   \u001b[0m | \u001b[0m6.311    \u001b[0m | \u001b[0m0.09001  \u001b[0m | \u001b[0m1.24     \u001b[0m |\n",
      "| \u001b[0m32       \u001b[0m | \u001b[0m-40.22   \u001b[0m | \u001b[0m6.35     \u001b[0m | \u001b[0m0.009493 \u001b[0m | \u001b[0m1.416    \u001b[0m |\n",
      "| \u001b[0m33       \u001b[0m | \u001b[0m-40.28   \u001b[0m | \u001b[0m8.921    \u001b[0m | \u001b[0m0.09231  \u001b[0m | \u001b[0m2.557    \u001b[0m |\n",
      "| \u001b[0m34       \u001b[0m | \u001b[0m-40.22   \u001b[0m | \u001b[0m6.272    \u001b[0m | \u001b[0m0.0137   \u001b[0m | \u001b[0m1.372    \u001b[0m |\n",
      "| \u001b[0m35       \u001b[0m | \u001b[0m-40.22   \u001b[0m | \u001b[0m6.255    \u001b[0m | \u001b[0m0.09184  \u001b[0m | \u001b[0m1.334    \u001b[0m |\n",
      "| \u001b[0m36       \u001b[0m | \u001b[0m-40.22   \u001b[0m | \u001b[0m6.349    \u001b[0m | \u001b[0m0.04396  \u001b[0m | \u001b[0m1.989    \u001b[0m |\n",
      "| \u001b[95m37       \u001b[0m | \u001b[95m-40.19   \u001b[0m | \u001b[95m0.8609   \u001b[0m | \u001b[95m0.01744  \u001b[0m | \u001b[95m2.59     \u001b[0m |\n",
      "| \u001b[0m38       \u001b[0m | \u001b[0m-40.2    \u001b[0m | \u001b[0m0.8725   \u001b[0m | \u001b[0m0.02257  \u001b[0m | \u001b[0m2.66     \u001b[0m |\n",
      "| \u001b[0m39       \u001b[0m | \u001b[0m-40.3    \u001b[0m | \u001b[0m9.52     \u001b[0m | \u001b[0m0.006347 \u001b[0m | \u001b[0m2.028    \u001b[0m |\n",
      "| \u001b[0m40       \u001b[0m | \u001b[0m-40.22   \u001b[0m | \u001b[0m6.371    \u001b[0m | \u001b[0m0.05395  \u001b[0m | \u001b[0m1.34     \u001b[0m |\n",
      "| \u001b[0m41       \u001b[0m | \u001b[0m-40.23   \u001b[0m | \u001b[0m6.888    \u001b[0m | \u001b[0m0.01918  \u001b[0m | \u001b[0m1.481    \u001b[0m |\n",
      "| \u001b[0m42       \u001b[0m | \u001b[0m-40.26   \u001b[0m | \u001b[0m0.8516   \u001b[0m | \u001b[0m0.06923  \u001b[0m | \u001b[0m2.629    \u001b[0m |\n",
      "| \u001b[0m43       \u001b[0m | \u001b[0m-40.22   \u001b[0m | \u001b[0m6.377    \u001b[0m | \u001b[0m0.05864  \u001b[0m | \u001b[0m1.343    \u001b[0m |\n",
      "| \u001b[95m44       \u001b[0m | \u001b[95m-40.13   \u001b[0m | \u001b[95m0.8389   \u001b[0m | \u001b[95m0.005442 \u001b[0m | \u001b[95m2.508    \u001b[0m |\n",
      "| \u001b[0m45       \u001b[0m | \u001b[0m-40.21   \u001b[0m | \u001b[0m0.7829   \u001b[0m | \u001b[0m0.03423  \u001b[0m | \u001b[0m2.491    \u001b[0m |\n",
      "| \u001b[0m46       \u001b[0m | \u001b[0m-40.25   \u001b[0m | \u001b[0m0.8902   \u001b[0m | \u001b[0m0.001    \u001b[0m | \u001b[0m2.513    \u001b[0m |\n",
      "| \u001b[0m47       \u001b[0m | \u001b[0m-40.17   \u001b[0m | \u001b[0m0.8427   \u001b[0m | \u001b[0m0.01091  \u001b[0m | \u001b[0m2.53     \u001b[0m |\n",
      "| \u001b[0m48       \u001b[0m | \u001b[0m-40.21   \u001b[0m | \u001b[0m0.8363   \u001b[0m | \u001b[0m0.02853  \u001b[0m | \u001b[0m2.428    \u001b[0m |\n",
      "| \u001b[0m49       \u001b[0m | \u001b[0m-40.16   \u001b[0m | \u001b[0m0.7826   \u001b[0m | \u001b[0m0.009333 \u001b[0m | \u001b[0m2.586    \u001b[0m |\n",
      "| \u001b[0m50       \u001b[0m | \u001b[0m-40.25   \u001b[0m | \u001b[0m8.984    \u001b[0m | \u001b[0m0.02999  \u001b[0m | \u001b[0m1.303    \u001b[0m |\n",
      "=============================================================\n"
     ]
    },
    {
     "data": {
      "text/html": [
       "<style>#sk-container-id-1 {color: black;background-color: white;}#sk-container-id-1 pre{padding: 0;}#sk-container-id-1 div.sk-toggleable {background-color: white;}#sk-container-id-1 label.sk-toggleable__label {cursor: pointer;display: block;width: 100%;margin-bottom: 0;padding: 0.3em;box-sizing: border-box;text-align: center;}#sk-container-id-1 label.sk-toggleable__label-arrow:before {content: \"▸\";float: left;margin-right: 0.25em;color: #696969;}#sk-container-id-1 label.sk-toggleable__label-arrow:hover:before {color: black;}#sk-container-id-1 div.sk-estimator:hover label.sk-toggleable__label-arrow:before {color: black;}#sk-container-id-1 div.sk-toggleable__content {max-height: 0;max-width: 0;overflow: hidden;text-align: left;background-color: #f0f8ff;}#sk-container-id-1 div.sk-toggleable__content pre {margin: 0.2em;color: black;border-radius: 0.25em;background-color: #f0f8ff;}#sk-container-id-1 input.sk-toggleable__control:checked~div.sk-toggleable__content {max-height: 200px;max-width: 100%;overflow: auto;}#sk-container-id-1 input.sk-toggleable__control:checked~label.sk-toggleable__label-arrow:before {content: \"▾\";}#sk-container-id-1 div.sk-estimator input.sk-toggleable__control:checked~label.sk-toggleable__label {background-color: #d4ebff;}#sk-container-id-1 div.sk-label input.sk-toggleable__control:checked~label.sk-toggleable__label {background-color: #d4ebff;}#sk-container-id-1 input.sk-hidden--visually {border: 0;clip: rect(1px 1px 1px 1px);clip: rect(1px, 1px, 1px, 1px);height: 1px;margin: -1px;overflow: hidden;padding: 0;position: absolute;width: 1px;}#sk-container-id-1 div.sk-estimator {font-family: monospace;background-color: #f0f8ff;border: 1px dotted black;border-radius: 0.25em;box-sizing: border-box;margin-bottom: 0.5em;}#sk-container-id-1 div.sk-estimator:hover {background-color: #d4ebff;}#sk-container-id-1 div.sk-parallel-item::after {content: \"\";width: 100%;border-bottom: 1px solid gray;flex-grow: 1;}#sk-container-id-1 div.sk-label:hover label.sk-toggleable__label {background-color: #d4ebff;}#sk-container-id-1 div.sk-serial::before {content: \"\";position: absolute;border-left: 1px solid gray;box-sizing: border-box;top: 0;bottom: 0;left: 50%;z-index: 0;}#sk-container-id-1 div.sk-serial {display: flex;flex-direction: column;align-items: center;background-color: white;padding-right: 0.2em;padding-left: 0.2em;position: relative;}#sk-container-id-1 div.sk-item {position: relative;z-index: 1;}#sk-container-id-1 div.sk-parallel {display: flex;align-items: stretch;justify-content: center;background-color: white;position: relative;}#sk-container-id-1 div.sk-item::before, #sk-container-id-1 div.sk-parallel-item::before {content: \"\";position: absolute;border-left: 1px solid gray;box-sizing: border-box;top: 0;bottom: 0;left: 50%;z-index: -1;}#sk-container-id-1 div.sk-parallel-item {display: flex;flex-direction: column;z-index: 1;position: relative;background-color: white;}#sk-container-id-1 div.sk-parallel-item:first-child::after {align-self: flex-end;width: 50%;}#sk-container-id-1 div.sk-parallel-item:last-child::after {align-self: flex-start;width: 50%;}#sk-container-id-1 div.sk-parallel-item:only-child::after {width: 0;}#sk-container-id-1 div.sk-dashed-wrapped {border: 1px dashed gray;margin: 0 0.4em 0.5em 0.4em;box-sizing: border-box;padding-bottom: 0.4em;background-color: white;}#sk-container-id-1 div.sk-label label {font-family: monospace;font-weight: bold;display: inline-block;line-height: 1.2em;}#sk-container-id-1 div.sk-label-container {text-align: center;}#sk-container-id-1 div.sk-container {/* jupyter's `normalize.less` sets `[hidden] { display: none; }` but bootstrap.min.css set `[hidden] { display: none !important; }` so we also need the `!important` here to be able to override the default hidden behavior on the sphinx rendered scikit-learn.org. See: https://github.com/scikit-learn/scikit-learn/issues/21755 */display: inline-block !important;position: relative;}#sk-container-id-1 div.sk-text-repr-fallback {display: none;}</style><div id=\"sk-container-id-1\" class=\"sk-top-container\"><div class=\"sk-text-repr-fallback\"><pre>SVR(C=0.8389103323874555, gamma=0.0054424540530956115)</pre><b>In a Jupyter environment, please rerun this cell to show the HTML representation or trust the notebook. <br />On GitHub, the HTML representation is unable to render, please try loading this page with nbviewer.org.</b></div><div class=\"sk-container\" hidden><div class=\"sk-item\"><div class=\"sk-estimator sk-toggleable\"><input class=\"sk-toggleable__control sk-hidden--visually\" id=\"sk-estimator-id-1\" type=\"checkbox\" checked><label for=\"sk-estimator-id-1\" class=\"sk-toggleable__label sk-toggleable__label-arrow\">SVR</label><div class=\"sk-toggleable__content\"><pre>SVR(C=0.8389103323874555, gamma=0.0054424540530956115)</pre></div></div></div></div></div>"
      ],
      "text/plain": [
       "SVR(C=0.8389103323874555, gamma=0.0054424540530956115)"
      ]
     },
     "execution_count": 6,
     "metadata": {},
     "output_type": "execute_result"
    }
   ],
   "source": [
    "def bo_params_generic(model, params, X_train, y_train):\n",
    "    # Create the model instance with the specified parameters\n",
    "    classifier = model(**params)\n",
    "    \n",
    "    # Calculating accuracy based on cross-validation\n",
    "    scores = cross_val_score(classifier, X_train, y_train, cv=10, scoring='neg_mean_squared_error')\n",
    "    return scores.mean()\n",
    "\n",
    "params_ranges = {\n",
    "    'C': (0.1, 10),\n",
    "    'kernel_int': (1, 4),\n",
    "    'gamma': (0.001, 0.1)\n",
    "}\n",
    "\n",
    "kernel_mapping = {\n",
    "    1: 'linear',\n",
    "    2: 'rbf',\n",
    "    3: 'poly',\n",
    "    4: 'sigmoid'\n",
    "}\n",
    "\n",
    "# Example usage with SVM\n",
    "model = SVR\n",
    "model_bo = BayesianOptimization(f=lambda C, kernel_int, gamma:\n",
    "                                    bo_params_generic(model, {\n",
    "                                        'C': C,\n",
    "                                        'kernel': kernel_mapping[int(kernel_int)],\n",
    "                                        'gamma': gamma\n",
    "                                    }, X_train, y_train),\n",
    "                             pbounds=params_ranges)\n",
    "\n",
    "results = model_bo.maximize(n_iter=40, init_points=10)\n",
    "params = model_bo.max['params']\n",
    "\n",
    "# Creating a model with the best hyperparameters\n",
    "best_model_svm = model(\n",
    "    C=params['C'],\n",
    "    kernel=kernel_mapping[int(params['kernel_int'])],\n",
    "    gamma=params['gamma']\n",
    ")\n",
    "\n",
    "# Fit the model\n",
    "best_model_svm.fit(X_train, y_train)\n"
   ]
  },
  {
   "attachments": {},
   "cell_type": "markdown",
   "metadata": {},
   "source": [
    "**Feature Selection**"
   ]
  },
  {
   "cell_type": "code",
   "execution_count": 7,
   "metadata": {},
   "outputs": [
    {
     "name": "stdout",
     "output_type": "stream",
     "text": [
      "Scince the kernal is not linear, this feature selection is not possible\n",
      "Best features: Index(['NederlandseAntillenEnAruba', 'GeboorteRelatief', 'SterfteRelatief',\n",
      "       'GemiddeldeWoningwaarde', 'PercentageOnbewoond',\n",
      "       'InBezitWoningcorporatie', 'InBezitOverigeVerhuurders',\n",
      "       'EigendomOnbekend', 'BouwjaarVanaf2000', 'kPersonenMetLaagsteInkomen',\n",
      "       'ALandbouwBosbouwEnVisserij', 'KLFinancieleDienstenOnroerendGoed',\n",
      "       'PersonenautoSOverigeBrandstof', 'PersonenautoSPerHuishouden',\n",
      "       'PersonenautoSNaarOppervlakte', 'AfstandTotHuisartsenpraktijk',\n",
      "       'AfstandTotKinderdagverblijf', 'AfstandTotSchool', 'OppervlakteWater',\n",
      "       'TotaalDiefstalUitWoningSchuurED',\n",
      "       'VernielingMisdrijfTegenOpenbareOrde', 'GeweldsEnSeksueleMisdrijven',\n",
      "       'AfstandTotHuisartsenpost', 'AfstandTotApotheek',\n",
      "       'AfstandTotConsultatiebureau', 'AfstandTotOvDagelLevensmiddelen',\n",
      "       'AfstandTotWarenhuis', 'AfstandTotCafeED', 'AfstandTotCafetariaED',\n",
      "       'AfstandTotRestaurant', 'AfstandTotHotelED',\n",
      "       'AfstandTotBuitenschoolseOpvang', 'AfstandTotOpenbaarGroenTotaal',\n",
      "       'AfstandTotDagrecreatiefTerrein', 'AfstandTotBos',\n",
      "       'AfstandTotOpenNatTerreinTotaal', 'AfstandTotOpenDroogNatTerrein',\n",
      "       'AfstandTotOpenNatNatuurlijkTerrein',\n",
      "       'AfstandTotSemiOpenbaarGroenTotaal', 'AfstandTotSportterrein',\n",
      "       'AfstandTotVolkstuin', 'AfstandTotVerblijfsrecreatiefTerrein',\n",
      "       'AfstandTotBegraafplaats', 'AfstandTotTreinstationsTotaal',\n",
      "       'AfstandTotBelangrijkOverstapstation', 'AfstandTotBibliotheek',\n",
      "       'AfstandTotZwembad', 'AfstandTotKunstijsbaan', 'AfstandTotMuseum',\n",
      "       'AfstandTotPodiumkunstenTotaal', 'AfstandTotPoppodium',\n",
      "       'AfstandTotBioscoop', 'AfstandTotSauna', 'AfstandTotZonnebank',\n",
      "       'AfstandTotAttractie', 'AfstandTotBrandweerkazerne',\n",
      "       'ErvarenGezondheidGoedZeerGoed', 'EenOfMeerLangdurigeAandoeningen',\n",
      "       'BeperkingInHoren', 'BeperkingInZien', 'Ondergewicht',\n",
      "       'MatigOvergewicht', 'ErnstigOvergewichtObesitas',\n",
      "       'VoldoetAanBeweegrichtlijn', 'Mantelzorger',\n",
      "       'ZwaarBelasteMantelzorgers', 'UrenMantelzorgPerWeek', 'Rokers',\n",
      "       'VoldoetAanRichtlijnAlcoholgebruik', 'OvermatigDrinker'],\n",
      "      dtype='object')\n",
      "Dropped features: []\n"
     ]
    }
   ],
   "source": [
    "# Get the accuracy score of the model with all features\n",
    "best_accuracy = cross_val_score(best_model_svm, X_train, y_train, cv=10, scoring='neg_mean_squared_error', n_jobs=-1).mean()\n",
    "best_model = best_model_svm\n",
    "selected_features = X_train.columns\n",
    "best_features = selected_features\n",
    "\n",
    "while len(selected_features) > 1:\n",
    "    try:\n",
    "        # Retrieve the coefficients from the SVM model\n",
    "        coefficients = best_model_svm.coef_[0]\n",
    "\n",
    "        # Sort features based on their coefficient magnitudes\n",
    "        sorted_indices = np.argsort(np.abs(coefficients))\n",
    "        selected_features = [X_train.columns[i] for i in sorted_indices[::-1]]\n",
    "\n",
    "        # Remove the least important feature\n",
    "        selected_features = selected_features[:-1]\n",
    "        \n",
    "        # Refit the linear SVM classifier\n",
    "        best_model_svm_classification.fit(X_train[selected_features], y_train)\n",
    "        \n",
    "        # Evaluate Model Performance\n",
    "        accuracy = cross_val_score(best_model_svm, X_train[selected_features], y_train, cv=10, scoring='neg_mean_squared_error', n_jobs=-1).mean()\n",
    "\n",
    "        # Check if the model performs better without the insignificant features\n",
    "        if accuracy >= best_accuracy:\n",
    "            best_accuracy = accuracy\n",
    "            best_features = selected_features.copy()\n",
    "            best_model = best_model_svm\n",
    "    except:\n",
    "        print(\"Scince the kernal is not linear, this feature selection is not possible\") \n",
    "        break\n",
    "\n",
    "# Save results\n",
    "best_model_svm = best_model\n",
    "best_features_svm = best_features\n",
    "\n",
    "# Show results\n",
    "print(\"Best features:\", best_features_svm)\n",
    "print(\"Dropped features:\", list(set(X_train.columns.tolist()) - set(best_features_svm)))"
   ]
  },
  {
   "attachments": {},
   "cell_type": "markdown",
   "metadata": {},
   "source": [
    "# Random Forest"
   ]
  },
  {
   "attachments": {},
   "cell_type": "markdown",
   "metadata": {},
   "source": [
    "**Feature selection**"
   ]
  },
  {
   "cell_type": "code",
   "execution_count": 8,
   "metadata": {},
   "outputs": [
    {
     "name": "stdout",
     "output_type": "stream",
     "text": [
      "Best features: ['AfstandTotHotelED', 'AfstandTotOpenNatNatuurlijkTerrein', 'AfstandTotKunstijsbaan']\n",
      "Dropped features: ['AfstandTotMuseum', 'AfstandTotBioscoop', 'AfstandTotRestaurant', 'AfstandTotSemiOpenbaarGroenTotaal', 'AfstandTotSauna', 'VoldoetAanRichtlijnAlcoholgebruik', 'AfstandTotOpenDroogNatTerrein', 'NederlandseAntillenEnAruba', 'ZwaarBelasteMantelzorgers', 'OppervlakteWater', 'BeperkingInZien', 'AfstandTotSportterrein', 'PercentageOnbewoond', 'AfstandTotHuisartsenpost', 'AfstandTotBos', 'GemiddeldeWoningwaarde', 'AfstandTotWarenhuis', 'AfstandTotBegraafplaats', 'AfstandTotZonnebank', 'VernielingMisdrijfTegenOpenbareOrde', 'AfstandTotOpenNatTerreinTotaal', 'AfstandTotBibliotheek', 'AfstandTotCafeED', 'Ondergewicht', 'MatigOvergewicht', 'VoldoetAanBeweegrichtlijn', 'InBezitWoningcorporatie', 'AfstandTotZwembad', 'AfstandTotPoppodium', 'AfstandTotBrandweerkazerne', 'AfstandTotCafetariaED', 'SterfteRelatief', 'AfstandTotBelangrijkOverstapstation', 'ALandbouwBosbouwEnVisserij', 'EigendomOnbekend', 'PersonenautoSNaarOppervlakte', 'InBezitOverigeVerhuurders', 'AfstandTotDagrecreatiefTerrein', 'PersonenautoSPerHuishouden', 'AfstandTotTreinstationsTotaal', 'AfstandTotAttractie', 'ErvarenGezondheidGoedZeerGoed', 'Mantelzorger', 'AfstandTotBuitenschoolseOpvang', 'AfstandTotKinderdagverblijf', 'EenOfMeerLangdurigeAandoeningen', 'BouwjaarVanaf2000', 'PersonenautoSOverigeBrandstof', 'AfstandTotSchool', 'OvermatigDrinker', 'AfstandTotApotheek', 'TotaalDiefstalUitWoningSchuurED', 'AfstandTotVolkstuin', 'AfstandTotVerblijfsrecreatiefTerrein', 'Rokers', 'GeboorteRelatief', 'KLFinancieleDienstenOnroerendGoed', 'AfstandTotConsultatiebureau', 'AfstandTotHuisartsenpraktijk', 'UrenMantelzorgPerWeek', 'GeweldsEnSeksueleMisdrijven', 'kPersonenMetLaagsteInkomen', 'AfstandTotOvDagelLevensmiddelen', 'BeperkingInHoren', 'AfstandTotOpenbaarGroenTotaal', 'AfstandTotPodiumkunstenTotaal', 'ErnstigOvergewichtObesitas']\n"
     ]
    }
   ],
   "source": [
    "# Get the accuracy score of the model with all the features\n",
    "rf = RandomForestRegressor(n_estimators=100, random_state=0).fit(X_train, y_train)\n",
    "best_rf = rf\n",
    "selected_features = X_train.columns.tolist()\n",
    "best_features = selected_features\n",
    "best_features_accuracy = cross_val_score(RandomForestRegressor(n_estimators=100, random_state=0), X_train, y_train, cv=10, scoring='neg_mean_squared_error', n_jobs=-1).mean()\n",
    "\n",
    "while True:\n",
    "    # Make DataFrame of feature impotances\n",
    "    result = permutation_importance(\n",
    "            rf, X_train[selected_features], y_train, n_repeats=10, random_state=42, n_jobs=-1\n",
    "        )\n",
    "    df_importances = pd.DataFrame({'feature': X_train[selected_features].columns, 'importance': result.importances_mean, 'std': result.importances_std})\n",
    "    df_importances = df_importances.sort_values('importance')\n",
    "\n",
    "    # Remove least important feature\n",
    "    selected_features.remove(df_importances['feature'].iloc[0])\n",
    "\n",
    "    # When there are no features left\n",
    "    if len(selected_features) == 0:\n",
    "        break\n",
    "    \n",
    "    # Refit the Model\n",
    "    rf = RandomForestRegressor(n_estimators=100, random_state=0).fit(X_train[selected_features], y_train)\n",
    "\n",
    "    # Evaluate Model Performance\n",
    "    accuracy = cross_val_score(RandomForestRegressor(n_estimators=100, random_state=0), X_train[selected_features], y_train, cv=10, scoring='neg_mean_squared_error', n_jobs=-1).mean()\n",
    "\n",
    "    # Check if the model performs better without the insignificant features\n",
    "    if accuracy >= best_features_accuracy:\n",
    "        best_features_accuracy = accuracy\n",
    "        best_features = selected_features.copy()\n",
    "        best_model = rf\n",
    "\n",
    "# Save results\n",
    "best_model_rf = best_model\n",
    "best_features_rf = best_features\n",
    "\n",
    "# Show results\n",
    "print(\"Best features:\", best_features_rf)\n",
    "print(\"Dropped features:\", list(set(X_train.columns.tolist()) - set(best_features_rf)))"
   ]
  },
  {
   "attachments": {},
   "cell_type": "markdown",
   "metadata": {},
   "source": [
    "**Hyperparameter optimalisatie**"
   ]
  },
  {
   "cell_type": "code",
   "execution_count": 9,
   "metadata": {},
   "outputs": [
    {
     "name": "stdout",
     "output_type": "stream",
     "text": [
      "|   iter    |  target   | max_depth | max_fe... | min_sa... | n_esti... |\n",
      "-------------------------------------------------------------------------\n",
      "| \u001b[0m1        \u001b[0m | \u001b[0m-40.1    \u001b[0m | \u001b[0m3.129    \u001b[0m | \u001b[0m0.8523   \u001b[0m | \u001b[0m6.341    \u001b[0m | \u001b[0m727.2    \u001b[0m |\n",
      "| \u001b[95m2        \u001b[0m | \u001b[95m-40.08   \u001b[0m | \u001b[95m11.8     \u001b[0m | \u001b[95m0.5172   \u001b[0m | \u001b[95m5.467    \u001b[0m | \u001b[95m709.6    \u001b[0m |\n",
      "| \u001b[95m3        \u001b[0m | \u001b[95m-40.01   \u001b[0m | \u001b[95m2.254    \u001b[0m | \u001b[95m0.1926   \u001b[0m | \u001b[95m11.71    \u001b[0m | \u001b[95m323.4    \u001b[0m |\n",
      "| \u001b[0m4        \u001b[0m | \u001b[0m-40.15   \u001b[0m | \u001b[0m12.09    \u001b[0m | \u001b[0m0.8239   \u001b[0m | \u001b[0m3.298    \u001b[0m | \u001b[0m516.6    \u001b[0m |\n",
      "| \u001b[95m5        \u001b[0m | \u001b[95m-39.93   \u001b[0m | \u001b[95m3.751    \u001b[0m | \u001b[95m0.1231   \u001b[0m | \u001b[95m8.699    \u001b[0m | \u001b[95m680.1    \u001b[0m |\n",
      "| \u001b[0m6        \u001b[0m | \u001b[0m-40.14   \u001b[0m | \u001b[0m10.01    \u001b[0m | \u001b[0m0.8345   \u001b[0m | \u001b[0m8.751    \u001b[0m | \u001b[0m233.8    \u001b[0m |\n",
      "| \u001b[0m7        \u001b[0m | \u001b[0m-40.08   \u001b[0m | \u001b[0m17.97    \u001b[0m | \u001b[0m0.4666   \u001b[0m | \u001b[0m8.429    \u001b[0m | \u001b[0m227.8    \u001b[0m |\n",
      "| \u001b[0m8        \u001b[0m | \u001b[0m-39.95   \u001b[0m | \u001b[0m3.404    \u001b[0m | \u001b[0m0.4272   \u001b[0m | \u001b[0m11.08    \u001b[0m | \u001b[0m415.6    \u001b[0m |\n",
      "| \u001b[0m9        \u001b[0m | \u001b[0m-40.14   \u001b[0m | \u001b[0m10.65    \u001b[0m | \u001b[0m0.9097   \u001b[0m | \u001b[0m3.581    \u001b[0m | \u001b[0m309.8    \u001b[0m |\n",
      "| \u001b[0m10       \u001b[0m | \u001b[0m-40.15   \u001b[0m | \u001b[0m8.027    \u001b[0m | \u001b[0m0.9791   \u001b[0m | \u001b[0m7.741    \u001b[0m | \u001b[0m850.9    \u001b[0m |\n",
      "| \u001b[0m11       \u001b[0m | \u001b[0m-39.94   \u001b[0m | \u001b[0m3.198    \u001b[0m | \u001b[0m0.6492   \u001b[0m | \u001b[0m9.817    \u001b[0m | \u001b[0m681.2    \u001b[0m |\n",
      "| \u001b[0m12       \u001b[0m | \u001b[0m-39.95   \u001b[0m | \u001b[0m1.118    \u001b[0m | \u001b[0m0.7384   \u001b[0m | \u001b[0m10.07    \u001b[0m | \u001b[0m665.8    \u001b[0m |\n",
      "| \u001b[0m13       \u001b[0m | \u001b[0m-40.21   \u001b[0m | \u001b[0m20.0     \u001b[0m | \u001b[0m1.0      \u001b[0m | \u001b[0m2.0      \u001b[0m | \u001b[0m670.5    \u001b[0m |\n",
      "| \u001b[0m14       \u001b[0m | \u001b[0m-40.01   \u001b[0m | \u001b[0m1.735    \u001b[0m | \u001b[0m0.599    \u001b[0m | \u001b[0m2.592    \u001b[0m | \u001b[0m672.6    \u001b[0m |\n",
      "| \u001b[0m15       \u001b[0m | \u001b[0m-40.0    \u001b[0m | \u001b[0m5.284    \u001b[0m | \u001b[0m0.4739   \u001b[0m | \u001b[0m11.35    \u001b[0m | \u001b[0m404.5    \u001b[0m |\n",
      "| \u001b[0m16       \u001b[0m | \u001b[0m-40.08   \u001b[0m | \u001b[0m14.96    \u001b[0m | \u001b[0m0.4349   \u001b[0m | \u001b[0m9.966    \u001b[0m | \u001b[0m417.9    \u001b[0m |\n",
      "| \u001b[0m17       \u001b[0m | \u001b[0m-40.19   \u001b[0m | \u001b[0m1.0      \u001b[0m | \u001b[0m1.0      \u001b[0m | \u001b[0m2.0      \u001b[0m | \u001b[0m412.8    \u001b[0m |\n",
      "| \u001b[0m18       \u001b[0m | \u001b[0m-39.94   \u001b[0m | \u001b[0m1.112    \u001b[0m | \u001b[0m0.1722   \u001b[0m | \u001b[0m11.7     \u001b[0m | \u001b[0m672.4    \u001b[0m |\n",
      "| \u001b[0m19       \u001b[0m | \u001b[0m-40.07   \u001b[0m | \u001b[0m7.017    \u001b[0m | \u001b[0m0.2836   \u001b[0m | \u001b[0m11.91    \u001b[0m | \u001b[0m672.4    \u001b[0m |\n",
      "| \u001b[0m20       \u001b[0m | \u001b[0m-39.94   \u001b[0m | \u001b[0m1.048    \u001b[0m | \u001b[0m0.1225   \u001b[0m | \u001b[0m3.729    \u001b[0m | \u001b[0m682.6    \u001b[0m |\n",
      "| \u001b[0m21       \u001b[0m | \u001b[0m-40.08   \u001b[0m | \u001b[0m7.663    \u001b[0m | \u001b[0m0.1      \u001b[0m | \u001b[0m5.198    \u001b[0m | \u001b[0m686.8    \u001b[0m |\n",
      "| \u001b[0m22       \u001b[0m | \u001b[0m-40.08   \u001b[0m | \u001b[0m2.381    \u001b[0m | \u001b[0m0.8753   \u001b[0m | \u001b[0m11.13    \u001b[0m | \u001b[0m423.7    \u001b[0m |\n",
      "| \u001b[0m23       \u001b[0m | \u001b[0m-39.95   \u001b[0m | \u001b[0m1.001    \u001b[0m | \u001b[0m0.8548   \u001b[0m | \u001b[0m7.415    \u001b[0m | \u001b[0m678.5    \u001b[0m |\n",
      "| \u001b[0m24       \u001b[0m | \u001b[0m-39.95   \u001b[0m | \u001b[0m2.53     \u001b[0m | \u001b[0m0.4879   \u001b[0m | \u001b[0m11.52    \u001b[0m | \u001b[0m657.2    \u001b[0m |\n",
      "| \u001b[0m25       \u001b[0m | \u001b[0m-39.96   \u001b[0m | \u001b[0m1.384    \u001b[0m | \u001b[0m0.9483   \u001b[0m | \u001b[0m3.333    \u001b[0m | \u001b[0m657.0    \u001b[0m |\n",
      "| \u001b[0m26       \u001b[0m | \u001b[0m-39.94   \u001b[0m | \u001b[0m1.0      \u001b[0m | \u001b[0m0.1      \u001b[0m | \u001b[0m8.025    \u001b[0m | \u001b[0m649.6    \u001b[0m |\n",
      "| \u001b[0m27       \u001b[0m | \u001b[0m-40.21   \u001b[0m | \u001b[0m8.712    \u001b[0m | \u001b[0m1.0      \u001b[0m | \u001b[0m7.025    \u001b[0m | \u001b[0m651.5    \u001b[0m |\n",
      "| \u001b[0m28       \u001b[0m | \u001b[0m-39.94   \u001b[0m | \u001b[0m4.153    \u001b[0m | \u001b[0m0.4603   \u001b[0m | \u001b[0m3.835    \u001b[0m | \u001b[0m663.1    \u001b[0m |\n",
      "| \u001b[0m29       \u001b[0m | \u001b[0m-39.94   \u001b[0m | \u001b[0m1.465    \u001b[0m | \u001b[0m0.5963   \u001b[0m | \u001b[0m7.609    \u001b[0m | \u001b[0m660.3    \u001b[0m |\n",
      "| \u001b[0m30       \u001b[0m | \u001b[0m-39.96   \u001b[0m | \u001b[0m1.193    \u001b[0m | \u001b[0m0.8249   \u001b[0m | \u001b[0m10.01    \u001b[0m | \u001b[0m640.8    \u001b[0m |\n",
      "| \u001b[0m31       \u001b[0m | \u001b[0m-39.95   \u001b[0m | \u001b[0m1.055    \u001b[0m | \u001b[0m0.4565   \u001b[0m | \u001b[0m2.345    \u001b[0m | \u001b[0m636.3    \u001b[0m |\n",
      "| \u001b[0m32       \u001b[0m | \u001b[0m-39.94   \u001b[0m | \u001b[0m1.41     \u001b[0m | \u001b[0m0.8019   \u001b[0m | \u001b[0m9.74     \u001b[0m | \u001b[0m630.2    \u001b[0m |\n",
      "| \u001b[0m33       \u001b[0m | \u001b[0m-40.15   \u001b[0m | \u001b[0m7.914    \u001b[0m | \u001b[0m0.7629   \u001b[0m | \u001b[0m6.154    \u001b[0m | \u001b[0m633.1    \u001b[0m |\n",
      "| \u001b[0m34       \u001b[0m | \u001b[0m-39.95   \u001b[0m | \u001b[0m1.334    \u001b[0m | \u001b[0m0.7703   \u001b[0m | \u001b[0m3.432    \u001b[0m | \u001b[0m642.1    \u001b[0m |\n",
      "| \u001b[0m35       \u001b[0m | \u001b[0m-40.01   \u001b[0m | \u001b[0m2.037    \u001b[0m | \u001b[0m0.2074   \u001b[0m | \u001b[0m9.929    \u001b[0m | \u001b[0m622.2    \u001b[0m |\n",
      "| \u001b[0m36       \u001b[0m | \u001b[0m-40.16   \u001b[0m | \u001b[0m13.22    \u001b[0m | \u001b[0m0.8179   \u001b[0m | \u001b[0m11.38    \u001b[0m | \u001b[0m395.5    \u001b[0m |\n",
      "| \u001b[0m37       \u001b[0m | \u001b[0m-39.99   \u001b[0m | \u001b[0m4.991    \u001b[0m | \u001b[0m0.6627   \u001b[0m | \u001b[0m10.76    \u001b[0m | \u001b[0m335.5    \u001b[0m |\n",
      "| \u001b[0m38       \u001b[0m | \u001b[0m-40.09   \u001b[0m | \u001b[0m15.59    \u001b[0m | \u001b[0m0.4865   \u001b[0m | \u001b[0m11.79    \u001b[0m | \u001b[0m334.7    \u001b[0m |\n",
      "| \u001b[0m39       \u001b[0m | \u001b[0m-40.01   \u001b[0m | \u001b[0m1.522    \u001b[0m | \u001b[0m0.2229   \u001b[0m | \u001b[0m2.36     \u001b[0m | \u001b[0m332.1    \u001b[0m |\n",
      "| \u001b[0m40       \u001b[0m | \u001b[0m-39.94   \u001b[0m | \u001b[0m2.946    \u001b[0m | \u001b[0m0.3953   \u001b[0m | \u001b[0m7.425    \u001b[0m | \u001b[0m344.6    \u001b[0m |\n",
      "| \u001b[0m41       \u001b[0m | \u001b[0m-40.24   \u001b[0m | \u001b[0m7.256    \u001b[0m | \u001b[0m1.0      \u001b[0m | \u001b[0m2.0      \u001b[0m | \u001b[0m343.2    \u001b[0m |\n",
      "| \u001b[0m42       \u001b[0m | \u001b[0m-40.01   \u001b[0m | \u001b[0m1.762    \u001b[0m | \u001b[0m0.4179   \u001b[0m | \u001b[0m11.19    \u001b[0m | \u001b[0m342.8    \u001b[0m |\n",
      "| \u001b[0m43       \u001b[0m | \u001b[0m-40.13   \u001b[0m | \u001b[0m4.966    \u001b[0m | \u001b[0m0.8304   \u001b[0m | \u001b[0m11.01    \u001b[0m | \u001b[0m663.2    \u001b[0m |\n",
      "| \u001b[95m44       \u001b[0m | \u001b[95m-39.93   \u001b[0m | \u001b[95m1.0      \u001b[0m | \u001b[95m0.1      \u001b[0m | \u001b[95m12.0     \u001b[0m | \u001b[95m677.3    \u001b[0m |\n",
      "| \u001b[0m45       \u001b[0m | \u001b[0m-39.94   \u001b[0m | \u001b[0m1.168    \u001b[0m | \u001b[0m0.3171   \u001b[0m | \u001b[0m2.418    \u001b[0m | \u001b[0m661.6    \u001b[0m |\n",
      "| \u001b[0m46       \u001b[0m | \u001b[0m-39.94   \u001b[0m | \u001b[0m1.36     \u001b[0m | \u001b[0m0.138    \u001b[0m | \u001b[0m6.426    \u001b[0m | \u001b[0m666.5    \u001b[0m |\n",
      "| \u001b[0m47       \u001b[0m | \u001b[0m-40.0    \u001b[0m | \u001b[0m1.985    \u001b[0m | \u001b[0m0.1873   \u001b[0m | \u001b[0m7.362    \u001b[0m | \u001b[0m350.4    \u001b[0m |\n",
      "| \u001b[0m48       \u001b[0m | \u001b[0m-39.95   \u001b[0m | \u001b[0m1.061    \u001b[0m | \u001b[0m0.2692   \u001b[0m | \u001b[0m3.653    \u001b[0m | \u001b[0m629.1    \u001b[0m |\n",
      "| \u001b[0m49       \u001b[0m | \u001b[0m-40.01   \u001b[0m | \u001b[0m1.787    \u001b[0m | \u001b[0m0.1533   \u001b[0m | \u001b[0m2.229    \u001b[0m | \u001b[0m613.7    \u001b[0m |\n",
      "| \u001b[0m50       \u001b[0m | \u001b[0m-39.94   \u001b[0m | \u001b[0m1.036    \u001b[0m | \u001b[0m0.2493   \u001b[0m | \u001b[0m8.403    \u001b[0m | \u001b[0m654.5    \u001b[0m |\n",
      "=========================================================================\n"
     ]
    },
    {
     "data": {
      "text/html": [
       "<style>#sk-container-id-2 {color: black;background-color: white;}#sk-container-id-2 pre{padding: 0;}#sk-container-id-2 div.sk-toggleable {background-color: white;}#sk-container-id-2 label.sk-toggleable__label {cursor: pointer;display: block;width: 100%;margin-bottom: 0;padding: 0.3em;box-sizing: border-box;text-align: center;}#sk-container-id-2 label.sk-toggleable__label-arrow:before {content: \"▸\";float: left;margin-right: 0.25em;color: #696969;}#sk-container-id-2 label.sk-toggleable__label-arrow:hover:before {color: black;}#sk-container-id-2 div.sk-estimator:hover label.sk-toggleable__label-arrow:before {color: black;}#sk-container-id-2 div.sk-toggleable__content {max-height: 0;max-width: 0;overflow: hidden;text-align: left;background-color: #f0f8ff;}#sk-container-id-2 div.sk-toggleable__content pre {margin: 0.2em;color: black;border-radius: 0.25em;background-color: #f0f8ff;}#sk-container-id-2 input.sk-toggleable__control:checked~div.sk-toggleable__content {max-height: 200px;max-width: 100%;overflow: auto;}#sk-container-id-2 input.sk-toggleable__control:checked~label.sk-toggleable__label-arrow:before {content: \"▾\";}#sk-container-id-2 div.sk-estimator input.sk-toggleable__control:checked~label.sk-toggleable__label {background-color: #d4ebff;}#sk-container-id-2 div.sk-label input.sk-toggleable__control:checked~label.sk-toggleable__label {background-color: #d4ebff;}#sk-container-id-2 input.sk-hidden--visually {border: 0;clip: rect(1px 1px 1px 1px);clip: rect(1px, 1px, 1px, 1px);height: 1px;margin: -1px;overflow: hidden;padding: 0;position: absolute;width: 1px;}#sk-container-id-2 div.sk-estimator {font-family: monospace;background-color: #f0f8ff;border: 1px dotted black;border-radius: 0.25em;box-sizing: border-box;margin-bottom: 0.5em;}#sk-container-id-2 div.sk-estimator:hover {background-color: #d4ebff;}#sk-container-id-2 div.sk-parallel-item::after {content: \"\";width: 100%;border-bottom: 1px solid gray;flex-grow: 1;}#sk-container-id-2 div.sk-label:hover label.sk-toggleable__label {background-color: #d4ebff;}#sk-container-id-2 div.sk-serial::before {content: \"\";position: absolute;border-left: 1px solid gray;box-sizing: border-box;top: 0;bottom: 0;left: 50%;z-index: 0;}#sk-container-id-2 div.sk-serial {display: flex;flex-direction: column;align-items: center;background-color: white;padding-right: 0.2em;padding-left: 0.2em;position: relative;}#sk-container-id-2 div.sk-item {position: relative;z-index: 1;}#sk-container-id-2 div.sk-parallel {display: flex;align-items: stretch;justify-content: center;background-color: white;position: relative;}#sk-container-id-2 div.sk-item::before, #sk-container-id-2 div.sk-parallel-item::before {content: \"\";position: absolute;border-left: 1px solid gray;box-sizing: border-box;top: 0;bottom: 0;left: 50%;z-index: -1;}#sk-container-id-2 div.sk-parallel-item {display: flex;flex-direction: column;z-index: 1;position: relative;background-color: white;}#sk-container-id-2 div.sk-parallel-item:first-child::after {align-self: flex-end;width: 50%;}#sk-container-id-2 div.sk-parallel-item:last-child::after {align-self: flex-start;width: 50%;}#sk-container-id-2 div.sk-parallel-item:only-child::after {width: 0;}#sk-container-id-2 div.sk-dashed-wrapped {border: 1px dashed gray;margin: 0 0.4em 0.5em 0.4em;box-sizing: border-box;padding-bottom: 0.4em;background-color: white;}#sk-container-id-2 div.sk-label label {font-family: monospace;font-weight: bold;display: inline-block;line-height: 1.2em;}#sk-container-id-2 div.sk-label-container {text-align: center;}#sk-container-id-2 div.sk-container {/* jupyter's `normalize.less` sets `[hidden] { display: none; }` but bootstrap.min.css set `[hidden] { display: none !important; }` so we also need the `!important` here to be able to override the default hidden behavior on the sphinx rendered scikit-learn.org. See: https://github.com/scikit-learn/scikit-learn/issues/21755 */display: inline-block !important;position: relative;}#sk-container-id-2 div.sk-text-repr-fallback {display: none;}</style><div id=\"sk-container-id-2\" class=\"sk-top-container\"><div class=\"sk-text-repr-fallback\"><pre>RandomForestRegressor(bootstrap=False, max_depth=1, max_features=0.1,\n",
       "                      min_samples_split=12, n_estimators=677)</pre><b>In a Jupyter environment, please rerun this cell to show the HTML representation or trust the notebook. <br />On GitHub, the HTML representation is unable to render, please try loading this page with nbviewer.org.</b></div><div class=\"sk-container\" hidden><div class=\"sk-item\"><div class=\"sk-estimator sk-toggleable\"><input class=\"sk-toggleable__control sk-hidden--visually\" id=\"sk-estimator-id-2\" type=\"checkbox\" checked><label for=\"sk-estimator-id-2\" class=\"sk-toggleable__label sk-toggleable__label-arrow\">RandomForestRegressor</label><div class=\"sk-toggleable__content\"><pre>RandomForestRegressor(bootstrap=False, max_depth=1, max_features=0.1,\n",
       "                      min_samples_split=12, n_estimators=677)</pre></div></div></div></div></div>"
      ],
      "text/plain": [
       "RandomForestRegressor(bootstrap=False, max_depth=1, max_features=0.1,\n",
       "                      min_samples_split=12, n_estimators=677)"
      ]
     },
     "execution_count": 9,
     "metadata": {},
     "output_type": "execute_result"
    }
   ],
   "source": [
    "def bo_params_rf(min_samples_split,max_depth,max_features,n_estimators):\n",
    "    \n",
    "    params = {\n",
    "        'min_samples_split': round(min_samples_split),\n",
    "        'max_depth': round(max_depth),\n",
    "        'max_features': max_features,\n",
    "        'n_estimators':round(n_estimators)\n",
    "    }    \n",
    "        \n",
    "    clf = RandomForestRegressor(min_samples_split=int(params['min_samples_split']), \n",
    "                                 max_depth=int(params['max_depth']), \n",
    "                                 max_features=params['max_features'],\n",
    "                                 n_estimators=int(params['n_estimators']), \n",
    "                                 bootstrap=False,\n",
    "                                 n_jobs = -1)\n",
    "    return cross_val_score(clf, X_train[best_features_rf], y_train, cv=10, scoring='neg_mean_squared_error', n_jobs=-1).mean()\n",
    "\n",
    "# Create Bayesian Optimization\n",
    "rf_bo = BayesianOptimization(f=bo_params_rf, pbounds={\n",
    "    'n_estimators': (100, 1000),\n",
    "    'max_depth': (1, 20),\n",
    "    'max_features': (0.1, 1),\n",
    "    'min_samples_split': (2, 12)\n",
    "})\n",
    "\n",
    "# Bayesian optimization\n",
    "results = rf_bo.maximize(n_iter=40, init_points=10)\n",
    "\n",
    "# Getting best hyperparameters from bayesian optimization\n",
    "params = rf_bo.max['params']\n",
    "params['n_estimators']= round(params['n_estimators'])\n",
    "params['min_samples_split']= round(params['min_samples_split'])\n",
    "params['max_depth']= round(params['max_depth'])\n",
    "\n",
    "# Making random forest model with the best hyperparameters\n",
    "# criterion entropy is after the hyperparameter optimization since it's more accurate but increases training time\n",
    "best_model_rf_classification = RandomForestRegressor(min_samples_split=params['min_samples_split'],\n",
    "                                                max_depth=params['max_depth'],\n",
    "                                                max_features=params['max_features'],\n",
    "                                                n_estimators=params['n_estimators'],\n",
    "                                                bootstrap=False)\n",
    "\n",
    "best_model_rf_classification.fit(X_train[best_features_rf], y_train)"
   ]
  },
  {
   "attachments": {},
   "cell_type": "markdown",
   "metadata": {},
   "source": [
    "# neural network"
   ]
  },
  {
   "attachments": {},
   "cell_type": "markdown",
   "metadata": {},
   "source": [
    "**Feature selection**"
   ]
  },
  {
   "cell_type": "code",
   "execution_count": 10,
   "metadata": {},
   "outputs": [
    {
     "name": "stdout",
     "output_type": "stream",
     "text": [
      "Best features: ['AfstandTotBelangrijkOverstapstation', 'VoldoetAanRichtlijnAlcoholgebruik', 'AfstandTotCafeED', 'NederlandseAntillenEnAruba', 'PersonenautoSPerHuishouden', 'AfstandTotPoppodium', 'SterfteRelatief', 'AfstandTotHuisartsenpraktijk', 'ALandbouwBosbouwEnVisserij', 'Ondergewicht', 'AfstandTotBegraafplaats', 'TotaalDiefstalUitWoningSchuurED', 'ErnstigOvergewichtObesitas', 'InBezitOverigeVerhuurders']\n",
      "Dropped features: ['AfstandTotMuseum', 'AfstandTotBioscoop', 'AfstandTotRestaurant', 'AfstandTotSemiOpenbaarGroenTotaal', 'AfstandTotSauna', 'AfstandTotOpenDroogNatTerrein', 'ZwaarBelasteMantelzorgers', 'OppervlakteWater', 'BeperkingInZien', 'AfstandTotSportterrein', 'AfstandTotOpenNatNatuurlijkTerrein', 'PercentageOnbewoond', 'AfstandTotHuisartsenpost', 'AfstandTotBos', 'GemiddeldeWoningwaarde', 'AfstandTotWarenhuis', 'AfstandTotZonnebank', 'VernielingMisdrijfTegenOpenbareOrde', 'AfstandTotOpenNatTerreinTotaal', 'AfstandTotBibliotheek', 'MatigOvergewicht', 'VoldoetAanBeweegrichtlijn', 'InBezitWoningcorporatie', 'AfstandTotZwembad', 'AfstandTotBrandweerkazerne', 'AfstandTotCafetariaED', 'EigendomOnbekend', 'PersonenautoSNaarOppervlakte', 'AfstandTotDagrecreatiefTerrein', 'AfstandTotTreinstationsTotaal', 'AfstandTotAttractie', 'ErvarenGezondheidGoedZeerGoed', 'Mantelzorger', 'AfstandTotKunstijsbaan', 'AfstandTotBuitenschoolseOpvang', 'AfstandTotKinderdagverblijf', 'EenOfMeerLangdurigeAandoeningen', 'BouwjaarVanaf2000', 'PersonenautoSOverigeBrandstof', 'AfstandTotSchool', 'OvermatigDrinker', 'AfstandTotApotheek', 'AfstandTotVolkstuin', 'AfstandTotHotelED', 'AfstandTotVerblijfsrecreatiefTerrein', 'Rokers', 'GeboorteRelatief', 'KLFinancieleDienstenOnroerendGoed', 'AfstandTotConsultatiebureau', 'UrenMantelzorgPerWeek', 'GeweldsEnSeksueleMisdrijven', 'kPersonenMetLaagsteInkomen', 'AfstandTotOvDagelLevensmiddelen', 'BeperkingInHoren', 'AfstandTotOpenbaarGroenTotaal', 'AfstandTotPodiumkunstenTotaal']\n"
     ]
    }
   ],
   "source": [
    "# Get the accuracy score of the model with all the features\n",
    "mlp = MLPRegressor(random_state=0).fit(X_train, y_train)\n",
    "best_model = mlp\n",
    "selected_features = X_train.columns.tolist()\n",
    "best_features = selected_features\n",
    "best_features_accuracy = cross_val_score(MLPRegressor(random_state=0), X_train, y_train, cv=10, scoring='neg_mean_squared_error', n_jobs=-1).mean()\n",
    "\n",
    "while True:\n",
    "    # Retrieve the learned weights\n",
    "    weights = mlp.coefs_[0]  # Weights connecting input features to the first hidden layer\n",
    "\n",
    "    # Normalize the weights\n",
    "    normalized_weights = np.abs(weights) / np.sum(np.abs(weights), axis=0)\n",
    "\n",
    "    # Calculate feature importance\n",
    "    feature_importance = np.mean(normalized_weights, axis=1)\n",
    "\n",
    "    # Sort features based on their importance\n",
    "    sorted_indices = np.argsort(feature_importance)\n",
    "    selected_features = [selected_features[i] for i in sorted_indices[:-1]]\n",
    "\n",
    "    # When there are no features left\n",
    "    if len(selected_features) == 0:\n",
    "        break\n",
    "    \n",
    "    # Refit the Model\n",
    "    mlp = MLPRegressor(random_state=0).fit(X_train[selected_features], y_train)\n",
    "\n",
    "    # Evaluate Model Performance\n",
    "    accuracy = cross_val_score(MLPRegressor(random_state=0), X_train[selected_features], y_train, cv=10, scoring='neg_mean_squared_error', n_jobs=-1).mean()\n",
    "\n",
    "    # Check if the model performs better without the insignificant features\n",
    "    if accuracy >= best_features_accuracy:\n",
    "        best_features_accuracy = accuracy\n",
    "        best_features = selected_features.copy()\n",
    "        best_model = mlp\n",
    "\n",
    "# Save results\n",
    "best_model_nn = best_model\n",
    "best_features_nn = best_features\n",
    "\n",
    "# Show results\n",
    "print(\"Best features:\", best_features_nn)\n",
    "print(\"Dropped features:\", list(set(X_train.columns.tolist()) - set(best_features_nn)))"
   ]
  },
  {
   "attachments": {},
   "cell_type": "markdown",
   "metadata": {},
   "source": [
    "**Hyperparameter optimalisatie**"
   ]
  },
  {
   "cell_type": "code",
   "execution_count": 11,
   "metadata": {},
   "outputs": [
    {
     "name": "stdout",
     "output_type": "stream",
     "text": [
      "|   iter    |  target   |   alpha   | hidden... | learni... | max_iter  |\n",
      "-------------------------------------------------------------------------\n",
      "| \u001b[0m1        \u001b[0m | \u001b[0m-6.316   \u001b[0m | \u001b[0m0.0517   \u001b[0m | \u001b[0m63.37    \u001b[0m | \u001b[0m0.05341  \u001b[0m | \u001b[0m241.5    \u001b[0m |\n",
      "| \u001b[95m2        \u001b[0m | \u001b[95m-6.314   \u001b[0m | \u001b[95m0.07993  \u001b[0m | \u001b[95m19.1     \u001b[0m | \u001b[95m0.005022 \u001b[0m | \u001b[95m822.7    \u001b[0m |\n",
      "| \u001b[0m3        \u001b[0m | \u001b[0m-6.34    \u001b[0m | \u001b[0m0.04186  \u001b[0m | \u001b[0m53.56    \u001b[0m | \u001b[0m0.05991  \u001b[0m | \u001b[0m928.1    \u001b[0m |\n",
      "| \u001b[0m4        \u001b[0m | \u001b[0m-6.325   \u001b[0m | \u001b[0m0.05354  \u001b[0m | \u001b[0m60.14    \u001b[0m | \u001b[0m0.05987  \u001b[0m | \u001b[0m134.9    \u001b[0m |\n",
      "| \u001b[0m5        \u001b[0m | \u001b[0m-6.33    \u001b[0m | \u001b[0m0.006379 \u001b[0m | \u001b[0m89.96    \u001b[0m | \u001b[0m0.07883  \u001b[0m | \u001b[0m828.4    \u001b[0m |\n",
      "| \u001b[0m6        \u001b[0m | \u001b[0m-6.329   \u001b[0m | \u001b[0m0.05151  \u001b[0m | \u001b[0m82.39    \u001b[0m | \u001b[0m0.03464  \u001b[0m | \u001b[0m594.8    \u001b[0m |\n",
      "| \u001b[0m7        \u001b[0m | \u001b[0m-6.322   \u001b[0m | \u001b[0m0.06436  \u001b[0m | \u001b[0m53.29    \u001b[0m | \u001b[0m0.06099  \u001b[0m | \u001b[0m722.8    \u001b[0m |\n",
      "| \u001b[0m8        \u001b[0m | \u001b[0m-6.335   \u001b[0m | \u001b[0m0.02121  \u001b[0m | \u001b[0m52.33    \u001b[0m | \u001b[0m0.0947   \u001b[0m | \u001b[0m758.2    \u001b[0m |\n",
      "| \u001b[0m9        \u001b[0m | \u001b[0m-6.323   \u001b[0m | \u001b[0m0.09895  \u001b[0m | \u001b[0m94.48    \u001b[0m | \u001b[0m0.02001  \u001b[0m | \u001b[0m949.2    \u001b[0m |\n",
      "| \u001b[0m10       \u001b[0m | \u001b[0m-6.342   \u001b[0m | \u001b[0m0.08639  \u001b[0m | \u001b[0m30.33    \u001b[0m | \u001b[0m0.04893  \u001b[0m | \u001b[0m383.7    \u001b[0m |\n",
      "| \u001b[0m11       \u001b[0m | \u001b[0m-6.332   \u001b[0m | \u001b[0m0.02184  \u001b[0m | \u001b[0m63.95    \u001b[0m | \u001b[0m0.05781  \u001b[0m | \u001b[0m242.9    \u001b[0m |\n",
      "| \u001b[0m12       \u001b[0m | \u001b[0m-6.326   \u001b[0m | \u001b[0m0.007006 \u001b[0m | \u001b[0m81.41    \u001b[0m | \u001b[0m0.08706  \u001b[0m | \u001b[0m656.5    \u001b[0m |\n",
      "| \u001b[0m13       \u001b[0m | \u001b[0m-6.336   \u001b[0m | \u001b[0m0.05681  \u001b[0m | \u001b[0m29.17    \u001b[0m | \u001b[0m0.03656  \u001b[0m | \u001b[0m265.4    \u001b[0m |\n",
      "| \u001b[0m14       \u001b[0m | \u001b[0m-6.316   \u001b[0m | \u001b[0m0.01197  \u001b[0m | \u001b[0m94.62    \u001b[0m | \u001b[0m0.09516  \u001b[0m | \u001b[0m949.0    \u001b[0m |\n",
      "| \u001b[0m15       \u001b[0m | \u001b[0m-6.323   \u001b[0m | \u001b[0m0.08549  \u001b[0m | \u001b[0m19.67    \u001b[0m | \u001b[0m0.04296  \u001b[0m | \u001b[0m823.3    \u001b[0m |\n",
      "| \u001b[0m16       \u001b[0m | \u001b[0m-6.333   \u001b[0m | \u001b[0m0.08677  \u001b[0m | \u001b[0m88.04    \u001b[0m | \u001b[0m0.01263  \u001b[0m | \u001b[0m913.8    \u001b[0m |\n",
      "| \u001b[0m17       \u001b[0m | \u001b[0m-6.318   \u001b[0m | \u001b[0m0.02818  \u001b[0m | \u001b[0m79.04    \u001b[0m | \u001b[0m0.03073  \u001b[0m | \u001b[0m148.5    \u001b[0m |\n",
      "| \u001b[0m18       \u001b[0m | \u001b[0m-6.318   \u001b[0m | \u001b[0m0.004344 \u001b[0m | \u001b[0m62.97    \u001b[0m | \u001b[0m0.0802   \u001b[0m | \u001b[0m241.4    \u001b[0m |\n",
      "| \u001b[0m19       \u001b[0m | \u001b[0m-6.333   \u001b[0m | \u001b[0m0.07337  \u001b[0m | \u001b[0m94.33    \u001b[0m | \u001b[0m0.08303  \u001b[0m | \u001b[0m949.2    \u001b[0m |\n",
      "| \u001b[0m20       \u001b[0m | \u001b[0m-6.332   \u001b[0m | \u001b[0m0.07673  \u001b[0m | \u001b[0m65.2     \u001b[0m | \u001b[0m0.02988  \u001b[0m | \u001b[0m285.0    \u001b[0m |\n",
      "| \u001b[0m21       \u001b[0m | \u001b[0m-6.325   \u001b[0m | \u001b[0m0.06392  \u001b[0m | \u001b[0m56.58    \u001b[0m | \u001b[0m0.003336 \u001b[0m | \u001b[0m517.2    \u001b[0m |\n",
      "| \u001b[0m22       \u001b[0m | \u001b[0m-6.336   \u001b[0m | \u001b[0m0.07754  \u001b[0m | \u001b[0m72.61    \u001b[0m | \u001b[0m0.01712  \u001b[0m | \u001b[0m460.6    \u001b[0m |\n",
      "| \u001b[0m23       \u001b[0m | \u001b[0m-6.337   \u001b[0m | \u001b[0m0.01069  \u001b[0m | \u001b[0m87.95    \u001b[0m | \u001b[0m0.08663  \u001b[0m | \u001b[0m517.0    \u001b[0m |\n",
      "| \u001b[0m24       \u001b[0m | \u001b[0m-6.337   \u001b[0m | \u001b[0m0.00681  \u001b[0m | \u001b[0m19.77    \u001b[0m | \u001b[0m0.03731  \u001b[0m | \u001b[0m822.5    \u001b[0m |\n",
      "| \u001b[0m25       \u001b[0m | \u001b[0m-6.32    \u001b[0m | \u001b[0m0.03249  \u001b[0m | \u001b[0m59.84    \u001b[0m | \u001b[0m0.09963  \u001b[0m | \u001b[0m134.3    \u001b[0m |\n",
      "| \u001b[0m26       \u001b[0m | \u001b[0m-6.324   \u001b[0m | \u001b[0m0.0589   \u001b[0m | \u001b[0m61.8     \u001b[0m | \u001b[0m0.02422  \u001b[0m | \u001b[0m318.3    \u001b[0m |\n",
      "| \u001b[0m27       \u001b[0m | \u001b[0m-6.325   \u001b[0m | \u001b[0m0.07656  \u001b[0m | \u001b[0m53.44    \u001b[0m | \u001b[0m0.07075  \u001b[0m | \u001b[0m722.9    \u001b[0m |\n",
      "| \u001b[0m28       \u001b[0m | \u001b[0m-6.332   \u001b[0m | \u001b[0m0.0005681\u001b[0m | \u001b[0m51.47    \u001b[0m | \u001b[0m0.03747  \u001b[0m | \u001b[0m928.8    \u001b[0m |\n",
      "| \u001b[0m29       \u001b[0m | \u001b[0m-6.33    \u001b[0m | \u001b[0m0.05887  \u001b[0m | \u001b[0m85.1     \u001b[0m | \u001b[0m0.01227  \u001b[0m | \u001b[0m928.5    \u001b[0m |\n",
      "| \u001b[0m30       \u001b[0m | \u001b[0m-6.324   \u001b[0m | \u001b[0m0.0155   \u001b[0m | \u001b[0m51.69    \u001b[0m | \u001b[0m0.02342  \u001b[0m | \u001b[0m819.8    \u001b[0m |\n",
      "| \u001b[0m31       \u001b[0m | \u001b[0m-6.337   \u001b[0m | \u001b[0m0.06411  \u001b[0m | \u001b[0m63.38    \u001b[0m | \u001b[0m0.05956  \u001b[0m | \u001b[0m242.2    \u001b[0m |\n",
      "| \u001b[0m32       \u001b[0m | \u001b[0m-6.321   \u001b[0m | \u001b[0m0.05769  \u001b[0m | \u001b[0m63.3     \u001b[0m | \u001b[0m0.0262   \u001b[0m | \u001b[0m241.0    \u001b[0m |\n",
      "| \u001b[0m33       \u001b[0m | \u001b[0m-6.319   \u001b[0m | \u001b[0m0.02738  \u001b[0m | \u001b[0m93.14    \u001b[0m | \u001b[0m0.08589  \u001b[0m | \u001b[0m787.4    \u001b[0m |\n",
      "| \u001b[0m34       \u001b[0m | \u001b[0m-6.327   \u001b[0m | \u001b[0m0.02956  \u001b[0m | \u001b[0m51.54    \u001b[0m | \u001b[0m0.05568  \u001b[0m | \u001b[0m820.5    \u001b[0m |\n",
      "| \u001b[95m35       \u001b[0m | \u001b[95m-6.3     \u001b[0m | \u001b[95m0.07607  \u001b[0m | \u001b[95m43.14    \u001b[0m | \u001b[95m0.07145  \u001b[0m | \u001b[95m187.8    \u001b[0m |\n",
      "| \u001b[0m36       \u001b[0m | \u001b[0m-6.322   \u001b[0m | \u001b[0m0.02947  \u001b[0m | \u001b[0m79.41    \u001b[0m | \u001b[0m0.09142  \u001b[0m | \u001b[0m147.7    \u001b[0m |\n",
      "| \u001b[0m37       \u001b[0m | \u001b[0m-6.345   \u001b[0m | \u001b[0m0.033    \u001b[0m | \u001b[0m19.07    \u001b[0m | \u001b[0m0.03915  \u001b[0m | \u001b[0m323.6    \u001b[0m |\n",
      "| \u001b[0m38       \u001b[0m | \u001b[0m-6.319   \u001b[0m | \u001b[0m0.09964  \u001b[0m | \u001b[0m78.18    \u001b[0m | \u001b[0m0.08106  \u001b[0m | \u001b[0m148.7    \u001b[0m |\n",
      "| \u001b[0m39       \u001b[0m | \u001b[0m-6.321   \u001b[0m | \u001b[0m0.08781  \u001b[0m | \u001b[0m55.24    \u001b[0m | \u001b[0m0.05681  \u001b[0m | \u001b[0m209.7    \u001b[0m |\n",
      "| \u001b[0m40       \u001b[0m | \u001b[0m-6.318   \u001b[0m | \u001b[0m0.08488  \u001b[0m | \u001b[0m79.22    \u001b[0m | \u001b[0m0.03597  \u001b[0m | \u001b[0m357.7    \u001b[0m |\n",
      "| \u001b[0m41       \u001b[0m | \u001b[0m-6.328   \u001b[0m | \u001b[0m0.06099  \u001b[0m | \u001b[0m11.47    \u001b[0m | \u001b[0m0.09048  \u001b[0m | \u001b[0m112.1    \u001b[0m |\n",
      "| \u001b[0m42       \u001b[0m | \u001b[0m-6.319   \u001b[0m | \u001b[0m0.04017  \u001b[0m | \u001b[0m65.43    \u001b[0m | \u001b[0m0.0369   \u001b[0m | \u001b[0m922.3    \u001b[0m |\n",
      "| \u001b[0m43       \u001b[0m | \u001b[0m-6.33    \u001b[0m | \u001b[0m0.02293  \u001b[0m | \u001b[0m78.03    \u001b[0m | \u001b[0m0.06483  \u001b[0m | \u001b[0m148.2    \u001b[0m |\n",
      "| \u001b[0m44       \u001b[0m | \u001b[0m-6.325   \u001b[0m | \u001b[0m0.07355  \u001b[0m | \u001b[0m69.76    \u001b[0m | \u001b[0m0.08941  \u001b[0m | \u001b[0m656.9    \u001b[0m |\n",
      "| \u001b[0m45       \u001b[0m | \u001b[0m-6.331   \u001b[0m | \u001b[0m0.06117  \u001b[0m | \u001b[0m27.67    \u001b[0m | \u001b[0m0.07119  \u001b[0m | \u001b[0m589.3    \u001b[0m |\n",
      "| \u001b[0m46       \u001b[0m | \u001b[0m-6.327   \u001b[0m | \u001b[0m0.08277  \u001b[0m | \u001b[0m32.85    \u001b[0m | \u001b[0m0.03397  \u001b[0m | \u001b[0m323.3    \u001b[0m |\n",
      "| \u001b[0m47       \u001b[0m | \u001b[0m-6.324   \u001b[0m | \u001b[0m0.09873  \u001b[0m | \u001b[0m10.53    \u001b[0m | \u001b[0m0.0303   \u001b[0m | \u001b[0m486.4    \u001b[0m |\n",
      "| \u001b[0m48       \u001b[0m | \u001b[0m-6.329   \u001b[0m | \u001b[0m0.005071 \u001b[0m | \u001b[0m11.43    \u001b[0m | \u001b[0m0.02227  \u001b[0m | \u001b[0m710.9    \u001b[0m |\n",
      "| \u001b[0m49       \u001b[0m | \u001b[0m-6.324   \u001b[0m | \u001b[0m0.06584  \u001b[0m | \u001b[0m18.47    \u001b[0m | \u001b[0m0.02647  \u001b[0m | \u001b[0m363.6    \u001b[0m |\n",
      "| \u001b[0m50       \u001b[0m | \u001b[0m-6.343   \u001b[0m | \u001b[0m0.03827  \u001b[0m | \u001b[0m46.86    \u001b[0m | \u001b[0m0.01887  \u001b[0m | \u001b[0m790.9    \u001b[0m |\n",
      "=========================================================================\n"
     ]
    },
    {
     "data": {
      "text/html": [
       "<style>#sk-container-id-3 {color: black;background-color: white;}#sk-container-id-3 pre{padding: 0;}#sk-container-id-3 div.sk-toggleable {background-color: white;}#sk-container-id-3 label.sk-toggleable__label {cursor: pointer;display: block;width: 100%;margin-bottom: 0;padding: 0.3em;box-sizing: border-box;text-align: center;}#sk-container-id-3 label.sk-toggleable__label-arrow:before {content: \"▸\";float: left;margin-right: 0.25em;color: #696969;}#sk-container-id-3 label.sk-toggleable__label-arrow:hover:before {color: black;}#sk-container-id-3 div.sk-estimator:hover label.sk-toggleable__label-arrow:before {color: black;}#sk-container-id-3 div.sk-toggleable__content {max-height: 0;max-width: 0;overflow: hidden;text-align: left;background-color: #f0f8ff;}#sk-container-id-3 div.sk-toggleable__content pre {margin: 0.2em;color: black;border-radius: 0.25em;background-color: #f0f8ff;}#sk-container-id-3 input.sk-toggleable__control:checked~div.sk-toggleable__content {max-height: 200px;max-width: 100%;overflow: auto;}#sk-container-id-3 input.sk-toggleable__control:checked~label.sk-toggleable__label-arrow:before {content: \"▾\";}#sk-container-id-3 div.sk-estimator input.sk-toggleable__control:checked~label.sk-toggleable__label {background-color: #d4ebff;}#sk-container-id-3 div.sk-label input.sk-toggleable__control:checked~label.sk-toggleable__label {background-color: #d4ebff;}#sk-container-id-3 input.sk-hidden--visually {border: 0;clip: rect(1px 1px 1px 1px);clip: rect(1px, 1px, 1px, 1px);height: 1px;margin: -1px;overflow: hidden;padding: 0;position: absolute;width: 1px;}#sk-container-id-3 div.sk-estimator {font-family: monospace;background-color: #f0f8ff;border: 1px dotted black;border-radius: 0.25em;box-sizing: border-box;margin-bottom: 0.5em;}#sk-container-id-3 div.sk-estimator:hover {background-color: #d4ebff;}#sk-container-id-3 div.sk-parallel-item::after {content: \"\";width: 100%;border-bottom: 1px solid gray;flex-grow: 1;}#sk-container-id-3 div.sk-label:hover label.sk-toggleable__label {background-color: #d4ebff;}#sk-container-id-3 div.sk-serial::before {content: \"\";position: absolute;border-left: 1px solid gray;box-sizing: border-box;top: 0;bottom: 0;left: 50%;z-index: 0;}#sk-container-id-3 div.sk-serial {display: flex;flex-direction: column;align-items: center;background-color: white;padding-right: 0.2em;padding-left: 0.2em;position: relative;}#sk-container-id-3 div.sk-item {position: relative;z-index: 1;}#sk-container-id-3 div.sk-parallel {display: flex;align-items: stretch;justify-content: center;background-color: white;position: relative;}#sk-container-id-3 div.sk-item::before, #sk-container-id-3 div.sk-parallel-item::before {content: \"\";position: absolute;border-left: 1px solid gray;box-sizing: border-box;top: 0;bottom: 0;left: 50%;z-index: -1;}#sk-container-id-3 div.sk-parallel-item {display: flex;flex-direction: column;z-index: 1;position: relative;background-color: white;}#sk-container-id-3 div.sk-parallel-item:first-child::after {align-self: flex-end;width: 50%;}#sk-container-id-3 div.sk-parallel-item:last-child::after {align-self: flex-start;width: 50%;}#sk-container-id-3 div.sk-parallel-item:only-child::after {width: 0;}#sk-container-id-3 div.sk-dashed-wrapped {border: 1px dashed gray;margin: 0 0.4em 0.5em 0.4em;box-sizing: border-box;padding-bottom: 0.4em;background-color: white;}#sk-container-id-3 div.sk-label label {font-family: monospace;font-weight: bold;display: inline-block;line-height: 1.2em;}#sk-container-id-3 div.sk-label-container {text-align: center;}#sk-container-id-3 div.sk-container {/* jupyter's `normalize.less` sets `[hidden] { display: none; }` but bootstrap.min.css set `[hidden] { display: none !important; }` so we also need the `!important` here to be able to override the default hidden behavior on the sphinx rendered scikit-learn.org. See: https://github.com/scikit-learn/scikit-learn/issues/21755 */display: inline-block !important;position: relative;}#sk-container-id-3 div.sk-text-repr-fallback {display: none;}</style><div id=\"sk-container-id-3\" class=\"sk-top-container\"><div class=\"sk-text-repr-fallback\"><pre>MLPRegressor(alpha=0.07607286962003253, hidden_layer_sizes=(43,),\n",
       "             learning_rate_init=0.07145203076172235, max_iter=188)</pre><b>In a Jupyter environment, please rerun this cell to show the HTML representation or trust the notebook. <br />On GitHub, the HTML representation is unable to render, please try loading this page with nbviewer.org.</b></div><div class=\"sk-container\" hidden><div class=\"sk-item\"><div class=\"sk-estimator sk-toggleable\"><input class=\"sk-toggleable__control sk-hidden--visually\" id=\"sk-estimator-id-3\" type=\"checkbox\" checked><label for=\"sk-estimator-id-3\" class=\"sk-toggleable__label sk-toggleable__label-arrow\">MLPRegressor</label><div class=\"sk-toggleable__content\"><pre>MLPRegressor(alpha=0.07607286962003253, hidden_layer_sizes=(43,),\n",
       "             learning_rate_init=0.07145203076172235, max_iter=188)</pre></div></div></div></div></div>"
      ],
      "text/plain": [
       "MLPRegressor(alpha=0.07607286962003253, hidden_layer_sizes=(43,),\n",
       "             learning_rate_init=0.07145203076172235, max_iter=188)"
      ]
     },
     "execution_count": 11,
     "metadata": {},
     "output_type": "execute_result"
    }
   ],
   "source": [
    "def bo_params_generic(model, params, X_train, y_train):\n",
    "    # Create the model instance with the specified parameters\n",
    "    regressor = model(**params)\n",
    "    \n",
    "    # Calculating rmse based on\n",
    "    scores = cross_val_score(regressor, X_train, y_train, cv=10, scoring='neg_root_mean_squared_error')\n",
    "    return scores.mean()\n",
    "\n",
    "params_ranges = {\n",
    "    'hidden_layer_sizes': (10, 100),\n",
    "    'alpha': (0.0001, 0.1),\n",
    "    'learning_rate_init': (0.001, 0.1),\n",
    "    'max_iter': (100, 1000)\n",
    "}\n",
    "\n",
    "# Example usage with Neural Network\n",
    "model = MLPRegressor\n",
    "model_bo = BayesianOptimization(f=lambda hidden_layer_sizes, alpha, learning_rate_init, max_iter:\n",
    "                                    bo_params_generic(model, {\n",
    "                                        'hidden_layer_sizes': (int(round(hidden_layer_sizes)),),\n",
    "                                        'alpha': alpha,\n",
    "                                        'learning_rate_init': learning_rate_init,\n",
    "                                        'max_iter': int(round(max_iter))\n",
    "                                    }, X_train[best_features_nn], y_train),\n",
    "                             pbounds=params_ranges)\n",
    "\n",
    "results = model_bo.maximize(n_iter=40, init_points=10)\n",
    "params = model_bo.max['params']\n",
    "\n",
    "# Creating a model with the best hyperparameters\n",
    "best_model_nn = model(\n",
    "    hidden_layer_sizes=(int(round(params['hidden_layer_sizes'])),),\n",
    "    alpha=params['alpha'],\n",
    "    learning_rate_init=params['learning_rate_init'],\n",
    "    max_iter=int(round(params['max_iter']))\n",
    ")\n",
    "\n",
    "# Fit the model\n",
    "best_model_nn.fit(X_train[best_features_nn], y_train)"
   ]
  },
  {
   "attachments": {},
   "cell_type": "markdown",
   "metadata": {},
   "source": [
    "# plotting the bar chart"
   ]
  },
  {
   "attachments": {},
   "cell_type": "markdown",
   "metadata": {},
   "source": [
    "**using train dataset**"
   ]
  },
  {
   "cell_type": "code",
   "execution_count": 12,
   "metadata": {},
   "outputs": [
    {
     "data": {
      "text/plain": [
       "[{'model': 'Multiple Linear Regression',\n",
       "  'mae': 4.264611503438242,\n",
       "  'mse': 40.11965623451727,\n",
       "  'rmse': 6.334007912413536,\n",
       "  'r2': 0.008052087655813667,\n",
       "  'adj_r2': -0.06669102737550281},\n",
       " {'model': 'Random Forest',\n",
       "  'mae': 4.322654777866058,\n",
       "  'mse': 40.11135702458488,\n",
       "  'rmse': 6.333352747525191,\n",
       "  'r2': 0.008257283431131857,\n",
       "  'adj_r2': -0.06647037013164603},\n",
       " {'model': 'Neural Network',\n",
       "  'mae': 4.287658798082273,\n",
       "  'mse': 40.454843548256825,\n",
       "  'rmse': 6.36041221527794,\n",
       "  'r2': -0.0002353302164797011,\n",
       "  'adj_r2': -0.07560290084635435},\n",
       " {'model': 'Support Vector Machine',\n",
       "  'mae': 4.224581990775344,\n",
       "  'mse': 40.132381445923215,\n",
       "  'rmse': 6.335012347732498,\n",
       "  'r2': 0.007737460162136278,\n",
       "  'adj_r2': -0.06702936200002774}]"
      ]
     },
     "execution_count": 12,
     "metadata": {},
     "output_type": "execute_result"
    }
   ],
   "source": [
    "regression_models = [\n",
    "    {\n",
    "        'name': 'Multiple Linear Regression',\n",
    "        'model': best_model_mlr,\n",
    "        'features': best_features_mlr\n",
    "    },\n",
    "    {\n",
    "        'name': 'Random Forest',\n",
    "        'model': best_model_rf,\n",
    "        'features': best_features_rf\n",
    "    },\n",
    "    {\n",
    "        'name': 'Neural Network',\n",
    "        'model': best_model_nn,\n",
    "        'features': best_features_nn\n",
    "    },\n",
    "    {\n",
    "        'name': 'Support Vector Machine',\n",
    "        'model': best_model_svm,\n",
    "        'features': best_features_svm\n",
    "    }\n",
    "]\n",
    "\n",
    "regression_stats_val = []\n",
    "\n",
    "for model in regression_models:\n",
    "    try:\n",
    "        # Perform cross-validation and calculate predictions and metrics\n",
    "        y_pred = cross_val_predict(model['model'], X_train[model['features']], y_train, cv=10)\n",
    "        y_true = y_train\n",
    "    except: # cv can't be higher then n_splits in the dt\n",
    "        # Perform cross-validation and calculate predictions and metrics\n",
    "        y_pred = cross_val_predict(model['model'], X_train[model['features']], y_train, cv=5)\n",
    "        y_true = y_train\n",
    "\n",
    "    # R2 Score\n",
    "    r2 = r2_score(y_true, y_pred)\n",
    "\n",
    "    # Adjusted R2 Score\n",
    "    n = len(y_true)  # Number of samples\n",
    "    p = X_test.shape[1]  # Number of predictors (features) in X\n",
    "    adj_r2 = 1 - ((1 - r2) * (n - 1)) / (n - p - 1)\n",
    "\n",
    "    # Save stats\n",
    "    regression_stats_val.append(\n",
    "        {\n",
    "            'model': model['name'],\n",
    "            'mae': mean_absolute_error(y_true, y_pred),\n",
    "            'mse': mean_squared_error(y_true, y_pred),\n",
    "            'rmse': np.sqrt(mean_squared_error(y_true, y_pred)),\n",
    "            'r2': r2,\n",
    "            'adj_r2': adj_r2\n",
    "        }\n",
    "    )\n",
    "\n",
    "# View stats\n",
    "regression_stats_val"
   ]
  },
  {
   "cell_type": "code",
   "execution_count": 13,
   "metadata": {},
   "outputs": [
    {
     "data": {
      "application/vnd.plotly.v1+json": {
       "config": {
        "plotlyServerURL": "https://plot.ly"
       },
       "data": [
        {
         "name": "mae",
         "type": "bar",
         "x": [
          "Multiple Linear Regression",
          "Random Forest",
          "Neural Network",
          "Support Vector Machine"
         ],
         "y": [
          4.264611503438242,
          4.322654777866058,
          4.287658798082273,
          4.224581990775344
         ]
        },
        {
         "name": "mse",
         "type": "bar",
         "x": [
          "Multiple Linear Regression",
          "Random Forest",
          "Neural Network",
          "Support Vector Machine"
         ],
         "y": [
          40.11965623451727,
          40.11135702458488,
          40.454843548256825,
          40.132381445923215
         ]
        },
        {
         "name": "rmse",
         "type": "bar",
         "x": [
          "Multiple Linear Regression",
          "Random Forest",
          "Neural Network",
          "Support Vector Machine"
         ],
         "y": [
          6.334007912413536,
          6.333352747525191,
          6.36041221527794,
          6.335012347732498
         ]
        },
        {
         "name": "r2",
         "type": "bar",
         "x": [
          "Multiple Linear Regression",
          "Random Forest",
          "Neural Network",
          "Support Vector Machine"
         ],
         "y": [
          0.008052087655813667,
          0.008257283431131857,
          -0.0002353302164797011,
          0.007737460162136278
         ]
        },
        {
         "name": "adj_r2",
         "type": "bar",
         "x": [
          "Multiple Linear Regression",
          "Random Forest",
          "Neural Network",
          "Support Vector Machine"
         ],
         "y": [
          -0.06669102737550281,
          -0.06647037013164603,
          -0.07560290084635435,
          -0.06702936200002774
         ]
        }
       ],
       "layout": {
        "barmode": "group",
        "template": {
         "data": {
          "bar": [
           {
            "error_x": {
             "color": "#2a3f5f"
            },
            "error_y": {
             "color": "#2a3f5f"
            },
            "marker": {
             "line": {
              "color": "#E5ECF6",
              "width": 0.5
             },
             "pattern": {
              "fillmode": "overlay",
              "size": 10,
              "solidity": 0.2
             }
            },
            "type": "bar"
           }
          ],
          "barpolar": [
           {
            "marker": {
             "line": {
              "color": "#E5ECF6",
              "width": 0.5
             },
             "pattern": {
              "fillmode": "overlay",
              "size": 10,
              "solidity": 0.2
             }
            },
            "type": "barpolar"
           }
          ],
          "carpet": [
           {
            "aaxis": {
             "endlinecolor": "#2a3f5f",
             "gridcolor": "white",
             "linecolor": "white",
             "minorgridcolor": "white",
             "startlinecolor": "#2a3f5f"
            },
            "baxis": {
             "endlinecolor": "#2a3f5f",
             "gridcolor": "white",
             "linecolor": "white",
             "minorgridcolor": "white",
             "startlinecolor": "#2a3f5f"
            },
            "type": "carpet"
           }
          ],
          "choropleth": [
           {
            "colorbar": {
             "outlinewidth": 0,
             "ticks": ""
            },
            "type": "choropleth"
           }
          ],
          "contour": [
           {
            "colorbar": {
             "outlinewidth": 0,
             "ticks": ""
            },
            "colorscale": [
             [
              0,
              "#0d0887"
             ],
             [
              0.1111111111111111,
              "#46039f"
             ],
             [
              0.2222222222222222,
              "#7201a8"
             ],
             [
              0.3333333333333333,
              "#9c179e"
             ],
             [
              0.4444444444444444,
              "#bd3786"
             ],
             [
              0.5555555555555556,
              "#d8576b"
             ],
             [
              0.6666666666666666,
              "#ed7953"
             ],
             [
              0.7777777777777778,
              "#fb9f3a"
             ],
             [
              0.8888888888888888,
              "#fdca26"
             ],
             [
              1,
              "#f0f921"
             ]
            ],
            "type": "contour"
           }
          ],
          "contourcarpet": [
           {
            "colorbar": {
             "outlinewidth": 0,
             "ticks": ""
            },
            "type": "contourcarpet"
           }
          ],
          "heatmap": [
           {
            "colorbar": {
             "outlinewidth": 0,
             "ticks": ""
            },
            "colorscale": [
             [
              0,
              "#0d0887"
             ],
             [
              0.1111111111111111,
              "#46039f"
             ],
             [
              0.2222222222222222,
              "#7201a8"
             ],
             [
              0.3333333333333333,
              "#9c179e"
             ],
             [
              0.4444444444444444,
              "#bd3786"
             ],
             [
              0.5555555555555556,
              "#d8576b"
             ],
             [
              0.6666666666666666,
              "#ed7953"
             ],
             [
              0.7777777777777778,
              "#fb9f3a"
             ],
             [
              0.8888888888888888,
              "#fdca26"
             ],
             [
              1,
              "#f0f921"
             ]
            ],
            "type": "heatmap"
           }
          ],
          "heatmapgl": [
           {
            "colorbar": {
             "outlinewidth": 0,
             "ticks": ""
            },
            "colorscale": [
             [
              0,
              "#0d0887"
             ],
             [
              0.1111111111111111,
              "#46039f"
             ],
             [
              0.2222222222222222,
              "#7201a8"
             ],
             [
              0.3333333333333333,
              "#9c179e"
             ],
             [
              0.4444444444444444,
              "#bd3786"
             ],
             [
              0.5555555555555556,
              "#d8576b"
             ],
             [
              0.6666666666666666,
              "#ed7953"
             ],
             [
              0.7777777777777778,
              "#fb9f3a"
             ],
             [
              0.8888888888888888,
              "#fdca26"
             ],
             [
              1,
              "#f0f921"
             ]
            ],
            "type": "heatmapgl"
           }
          ],
          "histogram": [
           {
            "marker": {
             "pattern": {
              "fillmode": "overlay",
              "size": 10,
              "solidity": 0.2
             }
            },
            "type": "histogram"
           }
          ],
          "histogram2d": [
           {
            "colorbar": {
             "outlinewidth": 0,
             "ticks": ""
            },
            "colorscale": [
             [
              0,
              "#0d0887"
             ],
             [
              0.1111111111111111,
              "#46039f"
             ],
             [
              0.2222222222222222,
              "#7201a8"
             ],
             [
              0.3333333333333333,
              "#9c179e"
             ],
             [
              0.4444444444444444,
              "#bd3786"
             ],
             [
              0.5555555555555556,
              "#d8576b"
             ],
             [
              0.6666666666666666,
              "#ed7953"
             ],
             [
              0.7777777777777778,
              "#fb9f3a"
             ],
             [
              0.8888888888888888,
              "#fdca26"
             ],
             [
              1,
              "#f0f921"
             ]
            ],
            "type": "histogram2d"
           }
          ],
          "histogram2dcontour": [
           {
            "colorbar": {
             "outlinewidth": 0,
             "ticks": ""
            },
            "colorscale": [
             [
              0,
              "#0d0887"
             ],
             [
              0.1111111111111111,
              "#46039f"
             ],
             [
              0.2222222222222222,
              "#7201a8"
             ],
             [
              0.3333333333333333,
              "#9c179e"
             ],
             [
              0.4444444444444444,
              "#bd3786"
             ],
             [
              0.5555555555555556,
              "#d8576b"
             ],
             [
              0.6666666666666666,
              "#ed7953"
             ],
             [
              0.7777777777777778,
              "#fb9f3a"
             ],
             [
              0.8888888888888888,
              "#fdca26"
             ],
             [
              1,
              "#f0f921"
             ]
            ],
            "type": "histogram2dcontour"
           }
          ],
          "mesh3d": [
           {
            "colorbar": {
             "outlinewidth": 0,
             "ticks": ""
            },
            "type": "mesh3d"
           }
          ],
          "parcoords": [
           {
            "line": {
             "colorbar": {
              "outlinewidth": 0,
              "ticks": ""
             }
            },
            "type": "parcoords"
           }
          ],
          "pie": [
           {
            "automargin": true,
            "type": "pie"
           }
          ],
          "scatter": [
           {
            "fillpattern": {
             "fillmode": "overlay",
             "size": 10,
             "solidity": 0.2
            },
            "type": "scatter"
           }
          ],
          "scatter3d": [
           {
            "line": {
             "colorbar": {
              "outlinewidth": 0,
              "ticks": ""
             }
            },
            "marker": {
             "colorbar": {
              "outlinewidth": 0,
              "ticks": ""
             }
            },
            "type": "scatter3d"
           }
          ],
          "scattercarpet": [
           {
            "marker": {
             "colorbar": {
              "outlinewidth": 0,
              "ticks": ""
             }
            },
            "type": "scattercarpet"
           }
          ],
          "scattergeo": [
           {
            "marker": {
             "colorbar": {
              "outlinewidth": 0,
              "ticks": ""
             }
            },
            "type": "scattergeo"
           }
          ],
          "scattergl": [
           {
            "marker": {
             "colorbar": {
              "outlinewidth": 0,
              "ticks": ""
             }
            },
            "type": "scattergl"
           }
          ],
          "scattermapbox": [
           {
            "marker": {
             "colorbar": {
              "outlinewidth": 0,
              "ticks": ""
             }
            },
            "type": "scattermapbox"
           }
          ],
          "scatterpolar": [
           {
            "marker": {
             "colorbar": {
              "outlinewidth": 0,
              "ticks": ""
             }
            },
            "type": "scatterpolar"
           }
          ],
          "scatterpolargl": [
           {
            "marker": {
             "colorbar": {
              "outlinewidth": 0,
              "ticks": ""
             }
            },
            "type": "scatterpolargl"
           }
          ],
          "scatterternary": [
           {
            "marker": {
             "colorbar": {
              "outlinewidth": 0,
              "ticks": ""
             }
            },
            "type": "scatterternary"
           }
          ],
          "surface": [
           {
            "colorbar": {
             "outlinewidth": 0,
             "ticks": ""
            },
            "colorscale": [
             [
              0,
              "#0d0887"
             ],
             [
              0.1111111111111111,
              "#46039f"
             ],
             [
              0.2222222222222222,
              "#7201a8"
             ],
             [
              0.3333333333333333,
              "#9c179e"
             ],
             [
              0.4444444444444444,
              "#bd3786"
             ],
             [
              0.5555555555555556,
              "#d8576b"
             ],
             [
              0.6666666666666666,
              "#ed7953"
             ],
             [
              0.7777777777777778,
              "#fb9f3a"
             ],
             [
              0.8888888888888888,
              "#fdca26"
             ],
             [
              1,
              "#f0f921"
             ]
            ],
            "type": "surface"
           }
          ],
          "table": [
           {
            "cells": {
             "fill": {
              "color": "#EBF0F8"
             },
             "line": {
              "color": "white"
             }
            },
            "header": {
             "fill": {
              "color": "#C8D4E3"
             },
             "line": {
              "color": "white"
             }
            },
            "type": "table"
           }
          ]
         },
         "layout": {
          "annotationdefaults": {
           "arrowcolor": "#2a3f5f",
           "arrowhead": 0,
           "arrowwidth": 1
          },
          "autotypenumbers": "strict",
          "coloraxis": {
           "colorbar": {
            "outlinewidth": 0,
            "ticks": ""
           }
          },
          "colorscale": {
           "diverging": [
            [
             0,
             "#8e0152"
            ],
            [
             0.1,
             "#c51b7d"
            ],
            [
             0.2,
             "#de77ae"
            ],
            [
             0.3,
             "#f1b6da"
            ],
            [
             0.4,
             "#fde0ef"
            ],
            [
             0.5,
             "#f7f7f7"
            ],
            [
             0.6,
             "#e6f5d0"
            ],
            [
             0.7,
             "#b8e186"
            ],
            [
             0.8,
             "#7fbc41"
            ],
            [
             0.9,
             "#4d9221"
            ],
            [
             1,
             "#276419"
            ]
           ],
           "sequential": [
            [
             0,
             "#0d0887"
            ],
            [
             0.1111111111111111,
             "#46039f"
            ],
            [
             0.2222222222222222,
             "#7201a8"
            ],
            [
             0.3333333333333333,
             "#9c179e"
            ],
            [
             0.4444444444444444,
             "#bd3786"
            ],
            [
             0.5555555555555556,
             "#d8576b"
            ],
            [
             0.6666666666666666,
             "#ed7953"
            ],
            [
             0.7777777777777778,
             "#fb9f3a"
            ],
            [
             0.8888888888888888,
             "#fdca26"
            ],
            [
             1,
             "#f0f921"
            ]
           ],
           "sequentialminus": [
            [
             0,
             "#0d0887"
            ],
            [
             0.1111111111111111,
             "#46039f"
            ],
            [
             0.2222222222222222,
             "#7201a8"
            ],
            [
             0.3333333333333333,
             "#9c179e"
            ],
            [
             0.4444444444444444,
             "#bd3786"
            ],
            [
             0.5555555555555556,
             "#d8576b"
            ],
            [
             0.6666666666666666,
             "#ed7953"
            ],
            [
             0.7777777777777778,
             "#fb9f3a"
            ],
            [
             0.8888888888888888,
             "#fdca26"
            ],
            [
             1,
             "#f0f921"
            ]
           ]
          },
          "colorway": [
           "#636efa",
           "#EF553B",
           "#00cc96",
           "#ab63fa",
           "#FFA15A",
           "#19d3f3",
           "#FF6692",
           "#B6E880",
           "#FF97FF",
           "#FECB52"
          ],
          "font": {
           "color": "#2a3f5f"
          },
          "geo": {
           "bgcolor": "white",
           "lakecolor": "white",
           "landcolor": "#E5ECF6",
           "showlakes": true,
           "showland": true,
           "subunitcolor": "white"
          },
          "hoverlabel": {
           "align": "left"
          },
          "hovermode": "closest",
          "mapbox": {
           "style": "light"
          },
          "paper_bgcolor": "white",
          "plot_bgcolor": "#E5ECF6",
          "polar": {
           "angularaxis": {
            "gridcolor": "white",
            "linecolor": "white",
            "ticks": ""
           },
           "bgcolor": "#E5ECF6",
           "radialaxis": {
            "gridcolor": "white",
            "linecolor": "white",
            "ticks": ""
           }
          },
          "scene": {
           "xaxis": {
            "backgroundcolor": "#E5ECF6",
            "gridcolor": "white",
            "gridwidth": 2,
            "linecolor": "white",
            "showbackground": true,
            "ticks": "",
            "zerolinecolor": "white"
           },
           "yaxis": {
            "backgroundcolor": "#E5ECF6",
            "gridcolor": "white",
            "gridwidth": 2,
            "linecolor": "white",
            "showbackground": true,
            "ticks": "",
            "zerolinecolor": "white"
           },
           "zaxis": {
            "backgroundcolor": "#E5ECF6",
            "gridcolor": "white",
            "gridwidth": 2,
            "linecolor": "white",
            "showbackground": true,
            "ticks": "",
            "zerolinecolor": "white"
           }
          },
          "shapedefaults": {
           "line": {
            "color": "#2a3f5f"
           }
          },
          "ternary": {
           "aaxis": {
            "gridcolor": "white",
            "linecolor": "white",
            "ticks": ""
           },
           "baxis": {
            "gridcolor": "white",
            "linecolor": "white",
            "ticks": ""
           },
           "bgcolor": "#E5ECF6",
           "caxis": {
            "gridcolor": "white",
            "linecolor": "white",
            "ticks": ""
           }
          },
          "title": {
           "x": 0.05
          },
          "xaxis": {
           "automargin": true,
           "gridcolor": "white",
           "linecolor": "white",
           "ticks": "",
           "title": {
            "standoff": 15
           },
           "zerolinecolor": "white",
           "zerolinewidth": 2
          },
          "yaxis": {
           "automargin": true,
           "gridcolor": "white",
           "linecolor": "white",
           "ticks": "",
           "title": {
            "standoff": 15
           },
           "zerolinecolor": "white",
           "zerolinewidth": 2
          }
         }
        },
        "title": {
         "text": "Evaluation Metrics Comparison"
        },
        "xaxis": {
         "title": {
          "text": "Models"
         }
        },
        "yaxis": {
         "title": {
          "text": "Scores"
         }
        }
       }
      }
     },
     "metadata": {},
     "output_type": "display_data"
    }
   ],
   "source": [
    "# Extracting model names and metric scores\n",
    "model_names = [d['model'] for d in regression_stats_val]\n",
    "metric_labels = list(regression_stats_val[0].keys())[1:]\n",
    "metric_scores = {metric: [d[metric] for d in regression_stats_val] for metric in metric_labels}\n",
    "\n",
    "# Plotting the bar chart\n",
    "fig = go.Figure()\n",
    "\n",
    "for metric in metric_labels:\n",
    "    fig.add_trace(go.Bar(\n",
    "        x=model_names,\n",
    "        y=metric_scores[metric],\n",
    "        name=metric\n",
    "    ))\n",
    "\n",
    "# Updating the layout\n",
    "fig.update_layout(\n",
    "    title='Evaluation Metrics Comparison',\n",
    "    xaxis_title='Models',\n",
    "    yaxis_title='Scores',\n",
    "    barmode='group'\n",
    ")\n",
    "\n",
    "# Display the plot\n",
    "fig.show()"
   ]
  },
  {
   "attachments": {},
   "cell_type": "markdown",
   "metadata": {},
   "source": [
    "**Evaluating on test data**"
   ]
  },
  {
   "cell_type": "code",
   "execution_count": 14,
   "metadata": {},
   "outputs": [
    {
     "data": {
      "text/plain": [
       "[{'model': 'Multiple Linear Regression',\n",
       "  'mae': 3.938800607982198,\n",
       "  'mse': 33.87969414469903,\n",
       "  'rmse': 5.8206266110015195,\n",
       "  'r2': -0.004265664212496079,\n",
       "  'adj_r2': -0.39481342251735563},\n",
       " {'model': 'Random Forest',\n",
       "  'mae': 3.9341030694094976,\n",
       "  'mse': 33.660782863811036,\n",
       "  'rmse': 5.801791349558431,\n",
       "  'r2': 0.002223328337602859,\n",
       "  'adj_r2': -0.3858009328644405},\n",
       " {'model': 'Neural Network',\n",
       "  'mae': 3.888797858771391,\n",
       "  'mse': 33.14580861110289,\n",
       "  'rmse': 5.75723966941649,\n",
       "  'r2': 0.017488252446405617,\n",
       "  'adj_r2': -0.36459964937999234},\n",
       " {'model': 'Support Vector Machine',\n",
       "  'mae': 3.8638537025283712,\n",
       "  'mse': 33.27785145409668,\n",
       "  'rmse': 5.768695819168894,\n",
       "  'r2': 0.013574223799709295,\n",
       "  'adj_r2': -0.3700358002781814}]"
      ]
     },
     "execution_count": 14,
     "metadata": {},
     "output_type": "execute_result"
    }
   ],
   "source": [
    "regression_models = [\n",
    "    {\n",
    "        'name': 'Multiple Linear Regression',\n",
    "        'model': best_model_mlr,\n",
    "        'features': best_features_mlr\n",
    "    },\n",
    "    {\n",
    "        'name': 'Random Forest',\n",
    "        'model': best_model_rf,\n",
    "        'features': best_features_rf\n",
    "    },\n",
    "    {\n",
    "        'name': 'Neural Network',\n",
    "        'model': best_model_nn,\n",
    "        'features': best_features_nn\n",
    "    },\n",
    "    {\n",
    "        'name': 'Support Vector Machine',\n",
    "        'model': best_model_svm,\n",
    "        'features': best_features_svm\n",
    "    }\n",
    "]\n",
    "\n",
    "regression_stats_test = []\n",
    "\n",
    "for model in regression_models:\n",
    "    # Make predictions on the test set\n",
    "    y_pred = model['model'].predict(X_test[model['features']])\n",
    "\n",
    "    # Defining Actual values\n",
    "    y_true = y_test.copy()\n",
    "\n",
    "    # R2 Score\n",
    "    r2 = r2_score(y_true, y_pred)\n",
    "\n",
    "    # Adjusted R2 Score\n",
    "    n = len(y_true)  # Number of samples\n",
    "    p = X_test.shape[1]  # Number of predictors (features) in X\n",
    "    adj_r2 = 1 - ((1 - r2) * (n - 1)) / (n - p - 1)\n",
    "\n",
    "    # Save stats\n",
    "    regression_stats_test.append(\n",
    "        {\n",
    "            'model': model['name'],\n",
    "            'mae': mean_absolute_error(y_true, y_pred),\n",
    "            'mse': mean_squared_error(y_true, y_pred),\n",
    "            'rmse': np.sqrt(mean_squared_error(y_true, y_pred)),\n",
    "            'r2': r2,\n",
    "            'adj_r2': adj_r2\n",
    "        }\n",
    "    )\n",
    "\n",
    "# View stats\n",
    "regression_stats_test"
   ]
  },
  {
   "cell_type": "code",
   "execution_count": 15,
   "metadata": {},
   "outputs": [
    {
     "data": {
      "application/vnd.plotly.v1+json": {
       "config": {
        "plotlyServerURL": "https://plot.ly"
       },
       "data": [
        {
         "name": "mae",
         "type": "bar",
         "x": [
          "Multiple Linear Regression",
          "Random Forest",
          "Neural Network",
          "Support Vector Machine"
         ],
         "y": [
          3.938800607982198,
          3.9341030694094976,
          3.888797858771391,
          3.8638537025283712
         ]
        },
        {
         "name": "mse",
         "type": "bar",
         "x": [
          "Multiple Linear Regression",
          "Random Forest",
          "Neural Network",
          "Support Vector Machine"
         ],
         "y": [
          33.87969414469903,
          33.660782863811036,
          33.14580861110289,
          33.27785145409668
         ]
        },
        {
         "name": "rmse",
         "type": "bar",
         "x": [
          "Multiple Linear Regression",
          "Random Forest",
          "Neural Network",
          "Support Vector Machine"
         ],
         "y": [
          5.8206266110015195,
          5.801791349558431,
          5.75723966941649,
          5.768695819168894
         ]
        },
        {
         "name": "r2",
         "type": "bar",
         "x": [
          "Multiple Linear Regression",
          "Random Forest",
          "Neural Network",
          "Support Vector Machine"
         ],
         "y": [
          -0.004265664212496079,
          0.002223328337602859,
          0.017488252446405617,
          0.013574223799709295
         ]
        },
        {
         "name": "adj_r2",
         "type": "bar",
         "x": [
          "Multiple Linear Regression",
          "Random Forest",
          "Neural Network",
          "Support Vector Machine"
         ],
         "y": [
          -0.39481342251735563,
          -0.3858009328644405,
          -0.36459964937999234,
          -0.3700358002781814
         ]
        }
       ],
       "layout": {
        "barmode": "group",
        "template": {
         "data": {
          "bar": [
           {
            "error_x": {
             "color": "#2a3f5f"
            },
            "error_y": {
             "color": "#2a3f5f"
            },
            "marker": {
             "line": {
              "color": "#E5ECF6",
              "width": 0.5
             },
             "pattern": {
              "fillmode": "overlay",
              "size": 10,
              "solidity": 0.2
             }
            },
            "type": "bar"
           }
          ],
          "barpolar": [
           {
            "marker": {
             "line": {
              "color": "#E5ECF6",
              "width": 0.5
             },
             "pattern": {
              "fillmode": "overlay",
              "size": 10,
              "solidity": 0.2
             }
            },
            "type": "barpolar"
           }
          ],
          "carpet": [
           {
            "aaxis": {
             "endlinecolor": "#2a3f5f",
             "gridcolor": "white",
             "linecolor": "white",
             "minorgridcolor": "white",
             "startlinecolor": "#2a3f5f"
            },
            "baxis": {
             "endlinecolor": "#2a3f5f",
             "gridcolor": "white",
             "linecolor": "white",
             "minorgridcolor": "white",
             "startlinecolor": "#2a3f5f"
            },
            "type": "carpet"
           }
          ],
          "choropleth": [
           {
            "colorbar": {
             "outlinewidth": 0,
             "ticks": ""
            },
            "type": "choropleth"
           }
          ],
          "contour": [
           {
            "colorbar": {
             "outlinewidth": 0,
             "ticks": ""
            },
            "colorscale": [
             [
              0,
              "#0d0887"
             ],
             [
              0.1111111111111111,
              "#46039f"
             ],
             [
              0.2222222222222222,
              "#7201a8"
             ],
             [
              0.3333333333333333,
              "#9c179e"
             ],
             [
              0.4444444444444444,
              "#bd3786"
             ],
             [
              0.5555555555555556,
              "#d8576b"
             ],
             [
              0.6666666666666666,
              "#ed7953"
             ],
             [
              0.7777777777777778,
              "#fb9f3a"
             ],
             [
              0.8888888888888888,
              "#fdca26"
             ],
             [
              1,
              "#f0f921"
             ]
            ],
            "type": "contour"
           }
          ],
          "contourcarpet": [
           {
            "colorbar": {
             "outlinewidth": 0,
             "ticks": ""
            },
            "type": "contourcarpet"
           }
          ],
          "heatmap": [
           {
            "colorbar": {
             "outlinewidth": 0,
             "ticks": ""
            },
            "colorscale": [
             [
              0,
              "#0d0887"
             ],
             [
              0.1111111111111111,
              "#46039f"
             ],
             [
              0.2222222222222222,
              "#7201a8"
             ],
             [
              0.3333333333333333,
              "#9c179e"
             ],
             [
              0.4444444444444444,
              "#bd3786"
             ],
             [
              0.5555555555555556,
              "#d8576b"
             ],
             [
              0.6666666666666666,
              "#ed7953"
             ],
             [
              0.7777777777777778,
              "#fb9f3a"
             ],
             [
              0.8888888888888888,
              "#fdca26"
             ],
             [
              1,
              "#f0f921"
             ]
            ],
            "type": "heatmap"
           }
          ],
          "heatmapgl": [
           {
            "colorbar": {
             "outlinewidth": 0,
             "ticks": ""
            },
            "colorscale": [
             [
              0,
              "#0d0887"
             ],
             [
              0.1111111111111111,
              "#46039f"
             ],
             [
              0.2222222222222222,
              "#7201a8"
             ],
             [
              0.3333333333333333,
              "#9c179e"
             ],
             [
              0.4444444444444444,
              "#bd3786"
             ],
             [
              0.5555555555555556,
              "#d8576b"
             ],
             [
              0.6666666666666666,
              "#ed7953"
             ],
             [
              0.7777777777777778,
              "#fb9f3a"
             ],
             [
              0.8888888888888888,
              "#fdca26"
             ],
             [
              1,
              "#f0f921"
             ]
            ],
            "type": "heatmapgl"
           }
          ],
          "histogram": [
           {
            "marker": {
             "pattern": {
              "fillmode": "overlay",
              "size": 10,
              "solidity": 0.2
             }
            },
            "type": "histogram"
           }
          ],
          "histogram2d": [
           {
            "colorbar": {
             "outlinewidth": 0,
             "ticks": ""
            },
            "colorscale": [
             [
              0,
              "#0d0887"
             ],
             [
              0.1111111111111111,
              "#46039f"
             ],
             [
              0.2222222222222222,
              "#7201a8"
             ],
             [
              0.3333333333333333,
              "#9c179e"
             ],
             [
              0.4444444444444444,
              "#bd3786"
             ],
             [
              0.5555555555555556,
              "#d8576b"
             ],
             [
              0.6666666666666666,
              "#ed7953"
             ],
             [
              0.7777777777777778,
              "#fb9f3a"
             ],
             [
              0.8888888888888888,
              "#fdca26"
             ],
             [
              1,
              "#f0f921"
             ]
            ],
            "type": "histogram2d"
           }
          ],
          "histogram2dcontour": [
           {
            "colorbar": {
             "outlinewidth": 0,
             "ticks": ""
            },
            "colorscale": [
             [
              0,
              "#0d0887"
             ],
             [
              0.1111111111111111,
              "#46039f"
             ],
             [
              0.2222222222222222,
              "#7201a8"
             ],
             [
              0.3333333333333333,
              "#9c179e"
             ],
             [
              0.4444444444444444,
              "#bd3786"
             ],
             [
              0.5555555555555556,
              "#d8576b"
             ],
             [
              0.6666666666666666,
              "#ed7953"
             ],
             [
              0.7777777777777778,
              "#fb9f3a"
             ],
             [
              0.8888888888888888,
              "#fdca26"
             ],
             [
              1,
              "#f0f921"
             ]
            ],
            "type": "histogram2dcontour"
           }
          ],
          "mesh3d": [
           {
            "colorbar": {
             "outlinewidth": 0,
             "ticks": ""
            },
            "type": "mesh3d"
           }
          ],
          "parcoords": [
           {
            "line": {
             "colorbar": {
              "outlinewidth": 0,
              "ticks": ""
             }
            },
            "type": "parcoords"
           }
          ],
          "pie": [
           {
            "automargin": true,
            "type": "pie"
           }
          ],
          "scatter": [
           {
            "fillpattern": {
             "fillmode": "overlay",
             "size": 10,
             "solidity": 0.2
            },
            "type": "scatter"
           }
          ],
          "scatter3d": [
           {
            "line": {
             "colorbar": {
              "outlinewidth": 0,
              "ticks": ""
             }
            },
            "marker": {
             "colorbar": {
              "outlinewidth": 0,
              "ticks": ""
             }
            },
            "type": "scatter3d"
           }
          ],
          "scattercarpet": [
           {
            "marker": {
             "colorbar": {
              "outlinewidth": 0,
              "ticks": ""
             }
            },
            "type": "scattercarpet"
           }
          ],
          "scattergeo": [
           {
            "marker": {
             "colorbar": {
              "outlinewidth": 0,
              "ticks": ""
             }
            },
            "type": "scattergeo"
           }
          ],
          "scattergl": [
           {
            "marker": {
             "colorbar": {
              "outlinewidth": 0,
              "ticks": ""
             }
            },
            "type": "scattergl"
           }
          ],
          "scattermapbox": [
           {
            "marker": {
             "colorbar": {
              "outlinewidth": 0,
              "ticks": ""
             }
            },
            "type": "scattermapbox"
           }
          ],
          "scatterpolar": [
           {
            "marker": {
             "colorbar": {
              "outlinewidth": 0,
              "ticks": ""
             }
            },
            "type": "scatterpolar"
           }
          ],
          "scatterpolargl": [
           {
            "marker": {
             "colorbar": {
              "outlinewidth": 0,
              "ticks": ""
             }
            },
            "type": "scatterpolargl"
           }
          ],
          "scatterternary": [
           {
            "marker": {
             "colorbar": {
              "outlinewidth": 0,
              "ticks": ""
             }
            },
            "type": "scatterternary"
           }
          ],
          "surface": [
           {
            "colorbar": {
             "outlinewidth": 0,
             "ticks": ""
            },
            "colorscale": [
             [
              0,
              "#0d0887"
             ],
             [
              0.1111111111111111,
              "#46039f"
             ],
             [
              0.2222222222222222,
              "#7201a8"
             ],
             [
              0.3333333333333333,
              "#9c179e"
             ],
             [
              0.4444444444444444,
              "#bd3786"
             ],
             [
              0.5555555555555556,
              "#d8576b"
             ],
             [
              0.6666666666666666,
              "#ed7953"
             ],
             [
              0.7777777777777778,
              "#fb9f3a"
             ],
             [
              0.8888888888888888,
              "#fdca26"
             ],
             [
              1,
              "#f0f921"
             ]
            ],
            "type": "surface"
           }
          ],
          "table": [
           {
            "cells": {
             "fill": {
              "color": "#EBF0F8"
             },
             "line": {
              "color": "white"
             }
            },
            "header": {
             "fill": {
              "color": "#C8D4E3"
             },
             "line": {
              "color": "white"
             }
            },
            "type": "table"
           }
          ]
         },
         "layout": {
          "annotationdefaults": {
           "arrowcolor": "#2a3f5f",
           "arrowhead": 0,
           "arrowwidth": 1
          },
          "autotypenumbers": "strict",
          "coloraxis": {
           "colorbar": {
            "outlinewidth": 0,
            "ticks": ""
           }
          },
          "colorscale": {
           "diverging": [
            [
             0,
             "#8e0152"
            ],
            [
             0.1,
             "#c51b7d"
            ],
            [
             0.2,
             "#de77ae"
            ],
            [
             0.3,
             "#f1b6da"
            ],
            [
             0.4,
             "#fde0ef"
            ],
            [
             0.5,
             "#f7f7f7"
            ],
            [
             0.6,
             "#e6f5d0"
            ],
            [
             0.7,
             "#b8e186"
            ],
            [
             0.8,
             "#7fbc41"
            ],
            [
             0.9,
             "#4d9221"
            ],
            [
             1,
             "#276419"
            ]
           ],
           "sequential": [
            [
             0,
             "#0d0887"
            ],
            [
             0.1111111111111111,
             "#46039f"
            ],
            [
             0.2222222222222222,
             "#7201a8"
            ],
            [
             0.3333333333333333,
             "#9c179e"
            ],
            [
             0.4444444444444444,
             "#bd3786"
            ],
            [
             0.5555555555555556,
             "#d8576b"
            ],
            [
             0.6666666666666666,
             "#ed7953"
            ],
            [
             0.7777777777777778,
             "#fb9f3a"
            ],
            [
             0.8888888888888888,
             "#fdca26"
            ],
            [
             1,
             "#f0f921"
            ]
           ],
           "sequentialminus": [
            [
             0,
             "#0d0887"
            ],
            [
             0.1111111111111111,
             "#46039f"
            ],
            [
             0.2222222222222222,
             "#7201a8"
            ],
            [
             0.3333333333333333,
             "#9c179e"
            ],
            [
             0.4444444444444444,
             "#bd3786"
            ],
            [
             0.5555555555555556,
             "#d8576b"
            ],
            [
             0.6666666666666666,
             "#ed7953"
            ],
            [
             0.7777777777777778,
             "#fb9f3a"
            ],
            [
             0.8888888888888888,
             "#fdca26"
            ],
            [
             1,
             "#f0f921"
            ]
           ]
          },
          "colorway": [
           "#636efa",
           "#EF553B",
           "#00cc96",
           "#ab63fa",
           "#FFA15A",
           "#19d3f3",
           "#FF6692",
           "#B6E880",
           "#FF97FF",
           "#FECB52"
          ],
          "font": {
           "color": "#2a3f5f"
          },
          "geo": {
           "bgcolor": "white",
           "lakecolor": "white",
           "landcolor": "#E5ECF6",
           "showlakes": true,
           "showland": true,
           "subunitcolor": "white"
          },
          "hoverlabel": {
           "align": "left"
          },
          "hovermode": "closest",
          "mapbox": {
           "style": "light"
          },
          "paper_bgcolor": "white",
          "plot_bgcolor": "#E5ECF6",
          "polar": {
           "angularaxis": {
            "gridcolor": "white",
            "linecolor": "white",
            "ticks": ""
           },
           "bgcolor": "#E5ECF6",
           "radialaxis": {
            "gridcolor": "white",
            "linecolor": "white",
            "ticks": ""
           }
          },
          "scene": {
           "xaxis": {
            "backgroundcolor": "#E5ECF6",
            "gridcolor": "white",
            "gridwidth": 2,
            "linecolor": "white",
            "showbackground": true,
            "ticks": "",
            "zerolinecolor": "white"
           },
           "yaxis": {
            "backgroundcolor": "#E5ECF6",
            "gridcolor": "white",
            "gridwidth": 2,
            "linecolor": "white",
            "showbackground": true,
            "ticks": "",
            "zerolinecolor": "white"
           },
           "zaxis": {
            "backgroundcolor": "#E5ECF6",
            "gridcolor": "white",
            "gridwidth": 2,
            "linecolor": "white",
            "showbackground": true,
            "ticks": "",
            "zerolinecolor": "white"
           }
          },
          "shapedefaults": {
           "line": {
            "color": "#2a3f5f"
           }
          },
          "ternary": {
           "aaxis": {
            "gridcolor": "white",
            "linecolor": "white",
            "ticks": ""
           },
           "baxis": {
            "gridcolor": "white",
            "linecolor": "white",
            "ticks": ""
           },
           "bgcolor": "#E5ECF6",
           "caxis": {
            "gridcolor": "white",
            "linecolor": "white",
            "ticks": ""
           }
          },
          "title": {
           "x": 0.05
          },
          "xaxis": {
           "automargin": true,
           "gridcolor": "white",
           "linecolor": "white",
           "ticks": "",
           "title": {
            "standoff": 15
           },
           "zerolinecolor": "white",
           "zerolinewidth": 2
          },
          "yaxis": {
           "automargin": true,
           "gridcolor": "white",
           "linecolor": "white",
           "ticks": "",
           "title": {
            "standoff": 15
           },
           "zerolinecolor": "white",
           "zerolinewidth": 2
          }
         }
        },
        "title": {
         "text": "Evaluation Metrics Comparison"
        },
        "xaxis": {
         "title": {
          "text": "Models"
         }
        },
        "yaxis": {
         "title": {
          "text": "Scores"
         }
        }
       }
      }
     },
     "metadata": {},
     "output_type": "display_data"
    }
   ],
   "source": [
    "# Extracting model names and metric scores\n",
    "model_names = [d['model'] for d in regression_stats_test]\n",
    "metric_labels = list(regression_stats_test[0].keys())[1:]\n",
    "metric_scores = {metric: [d[metric] for d in regression_stats_test] for metric in metric_labels}\n",
    "\n",
    "# Plotting the bar chart\n",
    "fig = go.Figure()\n",
    "\n",
    "for metric in metric_labels:\n",
    "    fig.add_trace(go.Bar(\n",
    "        x=model_names,\n",
    "        y=metric_scores[metric],\n",
    "        name=metric\n",
    "    ))\n",
    "\n",
    "# Updating the layout\n",
    "fig.update_layout(\n",
    "    title='Evaluation Metrics Comparison',\n",
    "    xaxis_title='Models',\n",
    "    yaxis_title='Scores',\n",
    "    barmode='group'\n",
    ")\n",
    "\n",
    "# Display the plot\n",
    "fig.show()"
   ]
  },
  {
   "attachments": {},
   "cell_type": "markdown",
   "metadata": {},
   "source": [
    "Naive bayes"
   ]
  },
  {
   "cell_type": "code",
   "execution_count": 16,
   "metadata": {},
   "outputs": [
    {
     "name": "stdout",
     "output_type": "stream",
     "text": [
      "Mean Absolute Error: 3.901570418326693\n",
      "Mean Squared Error: 33.74061749653026\n",
      "Root Mean Squared Error: 5.808667445854536\n",
      "R2 Score: -0.00014313873003102273\n",
      "Adjusted R2 Score: -0.3890876926805986\n"
     ]
    }
   ],
   "source": [
    "# Defining Actual values\n",
    "y_true = y_test.copy()\n",
    "\n",
    "# Defining Predicted values\n",
    "y_pred = np.full_like(y_test, y_train.mean())\n",
    "\n",
    "# Mean absolute error\n",
    "mae = mean_absolute_error(y_test, y_pred)\n",
    "print(\"Mean Absolute Error:\", mae)\n",
    "\n",
    "# Mean Squared Error\n",
    "mse = mean_squared_error(y_true, y_pred)\n",
    "print(\"Mean Squared Error:\", mse)\n",
    "\n",
    "# Root Mean Squared Error\n",
    "rmse = np.sqrt(mse)\n",
    "print(\"Root Mean Squared Error:\", rmse)\n",
    "\n",
    "# R2 Score\n",
    "r2 = r2_score(y_true, y_pred)\n",
    "print(\"R2 Score:\", r2)\n",
    "\n",
    "# Adjusted R2 Score\n",
    "n = len(y_true)  # Number of samples\n",
    "p = X_test.shape[1]  # Number of predictors (features) in X\n",
    "adj_r2 = 1 - ((1 - r2) * (n - 1)) / (n - p - 1)\n",
    "print(\"Adjusted R2 Score:\", adj_r2)"
   ]
  },
  {
   "attachments": {},
   "cell_type": "markdown",
   "metadata": {},
   "source": [
    "Save best model as Pickle"
   ]
  },
  {
   "cell_type": "code",
   "execution_count": 17,
   "metadata": {},
   "outputs": [],
   "source": [
    "import pickle\n",
    "\n",
    "# Save model\n",
    "file_path = 'Saved Models/Lenigheid.pkl'\n",
    "\n",
    "with open(file_path, 'wb') as file:\n",
    "    pickle.dump(best_model_mlr, file)\n",
    "\n",
    "# Save features\n",
    "with open('Saved Models/best_features_Lenigheid.txt', 'w') as file:\n",
    "    file.write(f'{best_features_mlr}')"
   ]
  }
 ],
 "metadata": {
  "kernelspec": {
   "display_name": "Python 3",
   "language": "python",
   "name": "python3"
  },
  "language_info": {
   "codemirror_mode": {
    "name": "ipython",
    "version": 3
   },
   "file_extension": ".py",
   "mimetype": "text/x-python",
   "name": "python",
   "nbconvert_exporter": "python",
   "pygments_lexer": "ipython3",
   "version": "3.9.5"
  },
  "orig_nbformat": 4
 },
 "nbformat": 4,
 "nbformat_minor": 2
}
