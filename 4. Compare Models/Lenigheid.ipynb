{
 "cells": [
  {
   "attachments": {},
   "cell_type": "markdown",
   "metadata": {},
   "source": [
    "# General Imports"
   ]
  },
  {
   "attachments": {},
   "cell_type": "markdown",
   "metadata": {},
   "source": [
    "**Importing all libraries**"
   ]
  },
  {
   "cell_type": "code",
   "execution_count": 1,
   "metadata": {},
   "outputs": [],
   "source": [
    "import numpy as np\n",
    "import pandas as pd\n",
    "import warnings\n",
    "\n",
    "import plotly.graph_objects as go\n",
    "from bayes_opt import BayesianOptimization\n",
    "import statsmodels.api as sm\n",
    "\n",
    "from sklearn.model_selection import cross_val_score, train_test_split\n",
    "from sklearn.linear_model import LinearRegression\n",
    "from sklearn.svm import SVR\n",
    "from sklearn.model_selection import cross_val_predict\n",
    "from sklearn.ensemble import RandomForestRegressor\n",
    "from sklearn.neural_network import MLPRegressor\n",
    "from sklearn.metrics import r2_score, mean_squared_error, mean_absolute_error\n",
    "from sklearn.inspection import permutation_importance\n"
   ]
  },
  {
   "attachments": {},
   "cell_type": "markdown",
   "metadata": {},
   "source": [
    "Disable warnings"
   ]
  },
  {
   "cell_type": "code",
   "execution_count": 2,
   "metadata": {},
   "outputs": [],
   "source": [
    "# Disable all warnings\n",
    "warnings.filterwarnings(\"ignore\")\n",
    "\n",
    "# Enable warnings again\n",
    "## warnings.filterwarnings(\"default\")"
   ]
  },
  {
   "attachments": {},
   "cell_type": "markdown",
   "metadata": {},
   "source": [
    "Generate train and test data"
   ]
  },
  {
   "cell_type": "code",
   "execution_count": 3,
   "metadata": {},
   "outputs": [],
   "source": [
    "# Read Data\n",
    "df = pd.read_csv(\"data_finish_prep.csv\")\n",
    "\n",
    "# Select only the usefull part of the df\n",
    "df.drop(columns=['verschil_Lengte',\n",
    "               'verschil_6 MWT', 'verschil_TUG',\n",
    "               'verschil_BMI', 'verschil_Conditie',\n",
    "               'verschil_Gewicht', 'verschil_Knijpkracht'], inplace=True)\n",
    "\n",
    "# Drop NaN values\n",
    "df.dropna(inplace=True)\n",
    "\n",
    "# Define X and y\n",
    "X = df.drop(columns=['verschil_Lenigheid'])\n",
    "y = df['verschil_Lenigheid']\n",
    "\n",
    "# Split data into train & test data\n",
    "X_train, X_test, y_train, y_test = train_test_split(X, y, test_size=0.2, random_state=42)"
   ]
  },
  {
   "cell_type": "code",
   "execution_count": 4,
   "metadata": {},
   "outputs": [],
   "source": [
    "def bo_params_generic(model, params, X_train, y_train):\n",
    "    # Create the model instance with the specified parameters\n",
    "    regressor = model(**params)\n",
    "    \n",
    "    # Assuming you have X_train, y_train defined for regression\n",
    "    scores = cross_val_score(regressor, X_train, y_train, cv=10, scoring='neg_root_mean_squared_error')\n",
    "    return -scores.mean()"
   ]
  },
  {
   "attachments": {},
   "cell_type": "markdown",
   "metadata": {},
   "source": [
    "# MLR"
   ]
  },
  {
   "attachments": {},
   "cell_type": "markdown",
   "metadata": {},
   "source": [
    "**feature selection**"
   ]
  },
  {
   "cell_type": "code",
   "execution_count": 5,
   "metadata": {},
   "outputs": [
    {
     "name": "stdout",
     "output_type": "stream",
     "text": [
      "Best features: ['EigendomOnbekend', 'PersonenautoSOverigeBrandstof', 'AfstandTotHuisartsenpraktijk', 'TotaalDiefstalUitWoningSchuurED', 'AfstandTotConsultatiebureau', 'AfstandTotHotelED']\n",
      "Dropped features: ['AfstandTotOvDagelLevensmiddelen', 'ZwaarBelasteMantelzorgers', 'AfstandTotCafetariaED', 'SterfteRelatief', 'AfstandTotPodiumkunstenTotaal', 'AfstandTotBioscoop', 'ErvarenGezondheidGoedZeerGoed', 'GeweldsEnSeksueleMisdrijven', 'AfstandTotSemiOpenbaarGroenTotaal', 'kPersonenMetLaagsteInkomen', 'AfstandTotPoppodium', 'AfstandTotDagrecreatiefTerrein', 'AfstandTotVolkstuin', 'GeboorteRelatief', 'AfstandTotApotheek', 'AfstandTotHuisartsenpost', 'AfstandTotRestaurant', 'PersonenautoSPerHuishouden', 'AfstandTotSportterrein', 'AfstandTotBos', 'AfstandTotSchool', 'AfstandTotBegraafplaats', 'UrenMantelzorgPerWeek', 'AfstandTotTreinstationsTotaal', 'AfstandTotBrandweerkazerne', 'NederlandseAntillenEnAruba', 'AfstandTotMuseum', 'PercentageOnbewoond', 'ALandbouwBosbouwEnVisserij', 'AfstandTotVerblijfsrecreatiefTerrein', 'BouwjaarVanaf2000', 'GemiddeldeWoningwaarde', 'OppervlakteWater', 'AfstandTotZwembad', 'AfstandTotKunstijsbaan', 'BeperkingInZien', 'AfstandTotBuitenschoolseOpvang', 'AfstandTotOpenNatTerreinTotaal', 'InBezitOverigeVerhuurders', 'VoldoetAanBeweegrichtlijn', 'AfstandTotOpenDroogNatTerrein', 'AfstandTotAttractie', 'VernielingMisdrijfTegenOpenbareOrde', 'AfstandTotWarenhuis', 'Ondergewicht', 'MatigOvergewicht', 'AfstandTotZonnebank', 'Mantelzorger', 'AfstandTotBibliotheek', 'BeperkingInHoren', 'ErnstigOvergewichtObesitas', 'AfstandTotKinderdagverblijf', 'InBezitWoningcorporatie', 'AfstandTotOpenNatNatuurlijkTerrein', 'OvermatigDrinker', 'AfstandTotCafeED', 'AfstandTotOpenbaarGroenTotaal', 'KLFinancieleDienstenOnroerendGoed', 'VoldoetAanRichtlijnAlcoholgebruik', 'EenOfMeerLangdurigeAandoeningen', 'Rokers', 'AfstandTotBelangrijkOverstapstation', 'AfstandTotSauna', 'PersonenautoSNaarOppervlakte']\n"
     ]
    }
   ],
   "source": [
    "# Fit the Full Model\n",
    "X =  sm.add_constant(X_train)  # Add constant term for the intercept\n",
    "model = sm.OLS(y_train, X_train).fit()  # Fit the MLR model\n",
    "best_model = model  # Initialize the best model\n",
    "selected_features = X_train.columns.tolist()\n",
    "best_features = X_train.columns.tolist()\n",
    "best_features_rmse = np.sqrt(-cross_val_score(LinearRegression(), X_train, y_train, cv=10, scoring='neg_mean_squared_error').mean())\n",
    "\n",
    "# Iteratively remove one feature at a time based on p-values\n",
    "while True:\n",
    "    # Compute p-values\n",
    "    p_values = model.pvalues[1:]  # Exclude the constant term\n",
    "\n",
    "    # Identify Insignificant Features\n",
    "    insignificant_feature = p_values.idxmax()\n",
    "    max_p_value = p_values.max()\n",
    "\n",
    "    # Remove Insignificant Feature\n",
    "    X = X.drop(insignificant_feature, axis=1)\n",
    "    selected_features.remove(insignificant_feature)\n",
    "\n",
    "    # When there a no features left\n",
    "    if len(selected_features) == 0:\n",
    "        break\n",
    "    \n",
    "    # Refit the Model\n",
    "    model = sm.OLS(y_train, X).fit()\n",
    "    \n",
    "    # Evaluate Model Performance\n",
    "    rmse = np.sqrt(-cross_val_score(LinearRegression(), X_train[selected_features], y_train, cv=10, scoring='neg_mean_squared_error').mean())\n",
    "\n",
    "    # Check if the model performs better without the insignificant features\n",
    "    if rmse <= best_features_rmse:\n",
    "        best_features_rmse = rmse\n",
    "        best_features = selected_features.copy()\n",
    "        best_model = model\n",
    "\n",
    "# Save results\n",
    "best_model_mlr = LinearRegression().fit(X_train[best_features], y_train)\n",
    "best_features_mlr = best_features\n",
    "\n",
    "# Show results\n",
    "print(\"Best features:\", best_features)\n",
    "print(\"Dropped features:\", list(set(X_train.columns.tolist()) - set(best_features)))"
   ]
  },
  {
   "attachments": {},
   "cell_type": "markdown",
   "metadata": {},
   "source": [
    "*Er zijn geen hyperparameters om te optimaliseren.*"
   ]
  },
  {
   "attachments": {},
   "cell_type": "markdown",
   "metadata": {},
   "source": [
    "# Support Vector Machines"
   ]
  },
  {
   "attachments": {},
   "cell_type": "markdown",
   "metadata": {},
   "source": [
    "**Hyperparameter optimalisatie**"
   ]
  },
  {
   "cell_type": "code",
   "execution_count": 6,
   "metadata": {},
   "outputs": [
    {
     "name": "stdout",
     "output_type": "stream",
     "text": [
      "|   iter    |  target   |     C     |   gamma   | kernel... |\n",
      "-------------------------------------------------------------\n",
      "| \u001b[0m1        \u001b[0m | \u001b[0m-40.25   \u001b[0m | \u001b[0m6.609    \u001b[0m | \u001b[0m0.004262 \u001b[0m | \u001b[0m2.613    \u001b[0m |\n",
      "| \u001b[0m2        \u001b[0m | \u001b[0m-40.27   \u001b[0m | \u001b[0m3.138    \u001b[0m | \u001b[0m0.08299  \u001b[0m | \u001b[0m2.216    \u001b[0m |\n",
      "| \u001b[0m3        \u001b[0m | \u001b[0m-40.28   \u001b[0m | \u001b[0m9.28     \u001b[0m | \u001b[0m0.08618  \u001b[0m | \u001b[0m2.721    \u001b[0m |\n",
      "| \u001b[0m4        \u001b[0m | \u001b[0m-40.3    \u001b[0m | \u001b[0m6.0      \u001b[0m | \u001b[0m0.08572  \u001b[0m | \u001b[0m3.029    \u001b[0m |\n",
      "| \u001b[0m5        \u001b[0m | \u001b[0m-40.28   \u001b[0m | \u001b[0m4.186    \u001b[0m | \u001b[0m0.04879  \u001b[0m | \u001b[0m2.218    \u001b[0m |\n",
      "| \u001b[0m6        \u001b[0m | \u001b[0m-40.27   \u001b[0m | \u001b[0m3.146    \u001b[0m | \u001b[0m0.04924  \u001b[0m | \u001b[0m3.083    \u001b[0m |\n",
      "| \u001b[95m7        \u001b[0m | \u001b[95m-40.24   \u001b[0m | \u001b[95m7.463    \u001b[0m | \u001b[95m0.004816 \u001b[0m | \u001b[95m1.321    \u001b[0m |\n",
      "| \u001b[0m8        \u001b[0m | \u001b[0m-40.25   \u001b[0m | \u001b[0m0.8075   \u001b[0m | \u001b[0m0.05861  \u001b[0m | \u001b[0m2.358    \u001b[0m |\n",
      "| \u001b[0m9        \u001b[0m | \u001b[0m-40.33   \u001b[0m | \u001b[0m6.765    \u001b[0m | \u001b[0m0.06164  \u001b[0m | \u001b[0m3.6      \u001b[0m |\n",
      "| \u001b[0m10       \u001b[0m | \u001b[0m-40.29   \u001b[0m | \u001b[0m2.941    \u001b[0m | \u001b[0m0.05177  \u001b[0m | \u001b[0m2.856    \u001b[0m |\n",
      "| \u001b[0m11       \u001b[0m | \u001b[0m-40.27   \u001b[0m | \u001b[0m2.927    \u001b[0m | \u001b[0m0.01801  \u001b[0m | \u001b[0m2.512    \u001b[0m |\n",
      "| \u001b[0m12       \u001b[0m | \u001b[0m-40.27   \u001b[0m | \u001b[0m6.666    \u001b[0m | \u001b[0m0.04321  \u001b[0m | \u001b[0m2.967    \u001b[0m |\n",
      "| \u001b[95m13       \u001b[0m | \u001b[95m-40.18   \u001b[0m | \u001b[95m7.483    \u001b[0m | \u001b[95m0.001355 \u001b[0m | \u001b[95m2.624    \u001b[0m |\n",
      "| \u001b[95m14       \u001b[0m | \u001b[95m-40.17   \u001b[0m | \u001b[95m7.43     \u001b[0m | \u001b[95m0.001    \u001b[0m | \u001b[95m2.271    \u001b[0m |\n",
      "| \u001b[0m15       \u001b[0m | \u001b[0m-40.28   \u001b[0m | \u001b[0m7.91     \u001b[0m | \u001b[0m0.1      \u001b[0m | \u001b[0m2.325    \u001b[0m |\n",
      "| \u001b[0m16       \u001b[0m | \u001b[0m-40.26   \u001b[0m | \u001b[0m9.256    \u001b[0m | \u001b[0m0.0432   \u001b[0m | \u001b[0m2.06     \u001b[0m |\n",
      "| \u001b[95m17       \u001b[0m | \u001b[95m-40.14   \u001b[0m | \u001b[95m0.836    \u001b[0m | \u001b[95m0.006965 \u001b[0m | \u001b[95m2.652    \u001b[0m |\n",
      "| \u001b[0m18       \u001b[0m | \u001b[0m-40.26   \u001b[0m | \u001b[0m0.8522   \u001b[0m | \u001b[0m0.001    \u001b[0m | \u001b[0m2.819    \u001b[0m |\n",
      "| \u001b[0m19       \u001b[0m | \u001b[0m-40.29   \u001b[0m | \u001b[0m7.034    \u001b[0m | \u001b[0m0.02969  \u001b[0m | \u001b[0m2.074    \u001b[0m |\n",
      "| \u001b[0m20       \u001b[0m | \u001b[0m-40.26   \u001b[0m | \u001b[0m6.956    \u001b[0m | \u001b[0m0.07287  \u001b[0m | \u001b[0m2.148    \u001b[0m |\n",
      "| \u001b[0m21       \u001b[0m | \u001b[0m-40.19   \u001b[0m | \u001b[0m0.8528   \u001b[0m | \u001b[0m0.01731  \u001b[0m | \u001b[0m2.688    \u001b[0m |\n",
      "| \u001b[0m22       \u001b[0m | \u001b[0m-40.3    \u001b[0m | \u001b[0m3.714    \u001b[0m | \u001b[0m0.0226   \u001b[0m | \u001b[0m2.821    \u001b[0m |\n",
      "| \u001b[0m23       \u001b[0m | \u001b[0m-40.3    \u001b[0m | \u001b[0m4.135    \u001b[0m | \u001b[0m0.0369   \u001b[0m | \u001b[0m2.796    \u001b[0m |\n",
      "| \u001b[0m24       \u001b[0m | \u001b[0m-40.31   \u001b[0m | \u001b[0m7.48     \u001b[0m | \u001b[0m0.01743  \u001b[0m | \u001b[0m2.615    \u001b[0m |\n",
      "| \u001b[0m25       \u001b[0m | \u001b[0m-40.3    \u001b[0m | \u001b[0m8.468    \u001b[0m | \u001b[0m0.02204  \u001b[0m | \u001b[0m2.485    \u001b[0m |\n",
      "| \u001b[0m26       \u001b[0m | \u001b[0m-40.29   \u001b[0m | \u001b[0m3.951    \u001b[0m | \u001b[0m0.04183  \u001b[0m | \u001b[0m2.241    \u001b[0m |\n",
      "| \u001b[0m27       \u001b[0m | \u001b[0m-40.26   \u001b[0m | \u001b[0m1.214    \u001b[0m | \u001b[0m0.0659   \u001b[0m | \u001b[0m1.001    \u001b[0m |\n",
      "| \u001b[0m28       \u001b[0m | \u001b[0m-40.3    \u001b[0m | \u001b[0m3.113    \u001b[0m | \u001b[0m0.03207  \u001b[0m | \u001b[0m2.562    \u001b[0m |\n",
      "| \u001b[0m29       \u001b[0m | \u001b[0m-40.31   \u001b[0m | \u001b[0m8.165    \u001b[0m | \u001b[0m0.09479  \u001b[0m | \u001b[0m3.026    \u001b[0m |\n",
      "| \u001b[0m30       \u001b[0m | \u001b[0m-40.25   \u001b[0m | \u001b[0m3.483    \u001b[0m | \u001b[0m0.02523  \u001b[0m | \u001b[0m1.108    \u001b[0m |\n",
      "| \u001b[0m31       \u001b[0m | \u001b[0m-40.28   \u001b[0m | \u001b[0m2.227    \u001b[0m | \u001b[0m0.03588  \u001b[0m | \u001b[0m2.96     \u001b[0m |\n",
      "| \u001b[0m32       \u001b[0m | \u001b[0m-40.26   \u001b[0m | \u001b[0m7.972    \u001b[0m | \u001b[0m0.07715  \u001b[0m | \u001b[0m2.062    \u001b[0m |\n",
      "| \u001b[0m33       \u001b[0m | \u001b[0m-40.24   \u001b[0m | \u001b[0m4.632    \u001b[0m | \u001b[0m0.04866  \u001b[0m | \u001b[0m1.51     \u001b[0m |\n",
      "| \u001b[0m34       \u001b[0m | \u001b[0m-40.31   \u001b[0m | \u001b[0m5.914    \u001b[0m | \u001b[0m0.02606  \u001b[0m | \u001b[0m2.416    \u001b[0m |\n",
      "| \u001b[0m35       \u001b[0m | \u001b[0m-40.27   \u001b[0m | \u001b[0m8.298    \u001b[0m | \u001b[0m0.08337  \u001b[0m | \u001b[0m2.143    \u001b[0m |\n",
      "| \u001b[0m36       \u001b[0m | \u001b[0m-40.31   \u001b[0m | \u001b[0m4.946    \u001b[0m | \u001b[0m0.02042  \u001b[0m | \u001b[0m2.816    \u001b[0m |\n",
      "| \u001b[0m37       \u001b[0m | \u001b[0m-40.25   \u001b[0m | \u001b[0m8.425    \u001b[0m | \u001b[0m0.02266  \u001b[0m | \u001b[0m1.783    \u001b[0m |\n",
      "| \u001b[0m38       \u001b[0m | \u001b[0m-40.24   \u001b[0m | \u001b[0m2.703    \u001b[0m | \u001b[0m0.05803  \u001b[0m | \u001b[0m1.947    \u001b[0m |\n",
      "| \u001b[0m39       \u001b[0m | \u001b[0m-40.25   \u001b[0m | \u001b[0m3.16     \u001b[0m | \u001b[0m0.04499  \u001b[0m | \u001b[0m1.836    \u001b[0m |\n",
      "| \u001b[0m40       \u001b[0m | \u001b[0m-40.26   \u001b[0m | \u001b[0m6.112    \u001b[0m | \u001b[0m0.09263  \u001b[0m | \u001b[0m2.636    \u001b[0m |\n",
      "| \u001b[0m41       \u001b[0m | \u001b[0m-40.18   \u001b[0m | \u001b[0m1.776    \u001b[0m | \u001b[0m0.0115   \u001b[0m | \u001b[0m3.25     \u001b[0m |\n",
      "| \u001b[0m42       \u001b[0m | \u001b[0m-40.25   \u001b[0m | \u001b[0m3.823    \u001b[0m | \u001b[0m0.009673 \u001b[0m | \u001b[0m2.501    \u001b[0m |\n",
      "| \u001b[0m43       \u001b[0m | \u001b[0m-40.31   \u001b[0m | \u001b[0m7.455    \u001b[0m | \u001b[0m0.06923  \u001b[0m | \u001b[0m3.636    \u001b[0m |\n",
      "| \u001b[0m44       \u001b[0m | \u001b[0m-40.27   \u001b[0m | \u001b[0m6.497    \u001b[0m | \u001b[0m0.04586  \u001b[0m | \u001b[0m3.873    \u001b[0m |\n",
      "| \u001b[0m45       \u001b[0m | \u001b[0m-40.24   \u001b[0m | \u001b[0m7.13     \u001b[0m | \u001b[0m0.05024  \u001b[0m | \u001b[0m1.983    \u001b[0m |\n",
      "| \u001b[0m46       \u001b[0m | \u001b[0m-40.27   \u001b[0m | \u001b[0m8.586    \u001b[0m | \u001b[0m0.07597  \u001b[0m | \u001b[0m2.122    \u001b[0m |\n",
      "| \u001b[0m47       \u001b[0m | \u001b[0m-40.26   \u001b[0m | \u001b[0m1.853    \u001b[0m | \u001b[0m0.03022  \u001b[0m | \u001b[0m2.241    \u001b[0m |\n",
      "| \u001b[0m48       \u001b[0m | \u001b[0m-40.24   \u001b[0m | \u001b[0m7.917    \u001b[0m | \u001b[0m0.02964  \u001b[0m | \u001b[0m1.733    \u001b[0m |\n",
      "| \u001b[0m49       \u001b[0m | \u001b[0m-40.31   \u001b[0m | \u001b[0m4.604    \u001b[0m | \u001b[0m0.08441  \u001b[0m | \u001b[0m3.372    \u001b[0m |\n",
      "| \u001b[0m50       \u001b[0m | \u001b[0m-40.26   \u001b[0m | \u001b[0m1.307    \u001b[0m | \u001b[0m0.05283  \u001b[0m | \u001b[0m1.011    \u001b[0m |\n",
      "=============================================================\n"
     ]
    },
    {
     "data": {
      "text/html": [
       "<style>#sk-container-id-1 {color: black;background-color: white;}#sk-container-id-1 pre{padding: 0;}#sk-container-id-1 div.sk-toggleable {background-color: white;}#sk-container-id-1 label.sk-toggleable__label {cursor: pointer;display: block;width: 100%;margin-bottom: 0;padding: 0.3em;box-sizing: border-box;text-align: center;}#sk-container-id-1 label.sk-toggleable__label-arrow:before {content: \"▸\";float: left;margin-right: 0.25em;color: #696969;}#sk-container-id-1 label.sk-toggleable__label-arrow:hover:before {color: black;}#sk-container-id-1 div.sk-estimator:hover label.sk-toggleable__label-arrow:before {color: black;}#sk-container-id-1 div.sk-toggleable__content {max-height: 0;max-width: 0;overflow: hidden;text-align: left;background-color: #f0f8ff;}#sk-container-id-1 div.sk-toggleable__content pre {margin: 0.2em;color: black;border-radius: 0.25em;background-color: #f0f8ff;}#sk-container-id-1 input.sk-toggleable__control:checked~div.sk-toggleable__content {max-height: 200px;max-width: 100%;overflow: auto;}#sk-container-id-1 input.sk-toggleable__control:checked~label.sk-toggleable__label-arrow:before {content: \"▾\";}#sk-container-id-1 div.sk-estimator input.sk-toggleable__control:checked~label.sk-toggleable__label {background-color: #d4ebff;}#sk-container-id-1 div.sk-label input.sk-toggleable__control:checked~label.sk-toggleable__label {background-color: #d4ebff;}#sk-container-id-1 input.sk-hidden--visually {border: 0;clip: rect(1px 1px 1px 1px);clip: rect(1px, 1px, 1px, 1px);height: 1px;margin: -1px;overflow: hidden;padding: 0;position: absolute;width: 1px;}#sk-container-id-1 div.sk-estimator {font-family: monospace;background-color: #f0f8ff;border: 1px dotted black;border-radius: 0.25em;box-sizing: border-box;margin-bottom: 0.5em;}#sk-container-id-1 div.sk-estimator:hover {background-color: #d4ebff;}#sk-container-id-1 div.sk-parallel-item::after {content: \"\";width: 100%;border-bottom: 1px solid gray;flex-grow: 1;}#sk-container-id-1 div.sk-label:hover label.sk-toggleable__label {background-color: #d4ebff;}#sk-container-id-1 div.sk-serial::before {content: \"\";position: absolute;border-left: 1px solid gray;box-sizing: border-box;top: 0;bottom: 0;left: 50%;z-index: 0;}#sk-container-id-1 div.sk-serial {display: flex;flex-direction: column;align-items: center;background-color: white;padding-right: 0.2em;padding-left: 0.2em;position: relative;}#sk-container-id-1 div.sk-item {position: relative;z-index: 1;}#sk-container-id-1 div.sk-parallel {display: flex;align-items: stretch;justify-content: center;background-color: white;position: relative;}#sk-container-id-1 div.sk-item::before, #sk-container-id-1 div.sk-parallel-item::before {content: \"\";position: absolute;border-left: 1px solid gray;box-sizing: border-box;top: 0;bottom: 0;left: 50%;z-index: -1;}#sk-container-id-1 div.sk-parallel-item {display: flex;flex-direction: column;z-index: 1;position: relative;background-color: white;}#sk-container-id-1 div.sk-parallel-item:first-child::after {align-self: flex-end;width: 50%;}#sk-container-id-1 div.sk-parallel-item:last-child::after {align-self: flex-start;width: 50%;}#sk-container-id-1 div.sk-parallel-item:only-child::after {width: 0;}#sk-container-id-1 div.sk-dashed-wrapped {border: 1px dashed gray;margin: 0 0.4em 0.5em 0.4em;box-sizing: border-box;padding-bottom: 0.4em;background-color: white;}#sk-container-id-1 div.sk-label label {font-family: monospace;font-weight: bold;display: inline-block;line-height: 1.2em;}#sk-container-id-1 div.sk-label-container {text-align: center;}#sk-container-id-1 div.sk-container {/* jupyter's `normalize.less` sets `[hidden] { display: none; }` but bootstrap.min.css set `[hidden] { display: none !important; }` so we also need the `!important` here to be able to override the default hidden behavior on the sphinx rendered scikit-learn.org. See: https://github.com/scikit-learn/scikit-learn/issues/21755 */display: inline-block !important;position: relative;}#sk-container-id-1 div.sk-text-repr-fallback {display: none;}</style><div id=\"sk-container-id-1\" class=\"sk-top-container\"><div class=\"sk-text-repr-fallback\"><pre>SVR(C=0.8360180818045465, gamma=0.006964608397808802)</pre><b>In a Jupyter environment, please rerun this cell to show the HTML representation or trust the notebook. <br />On GitHub, the HTML representation is unable to render, please try loading this page with nbviewer.org.</b></div><div class=\"sk-container\" hidden><div class=\"sk-item\"><div class=\"sk-estimator sk-toggleable\"><input class=\"sk-toggleable__control sk-hidden--visually\" id=\"sk-estimator-id-1\" type=\"checkbox\" checked><label for=\"sk-estimator-id-1\" class=\"sk-toggleable__label sk-toggleable__label-arrow\">SVR</label><div class=\"sk-toggleable__content\"><pre>SVR(C=0.8360180818045465, gamma=0.006964608397808802)</pre></div></div></div></div></div>"
      ],
      "text/plain": [
       "SVR(C=0.8360180818045465, gamma=0.006964608397808802)"
      ]
     },
     "execution_count": 6,
     "metadata": {},
     "output_type": "execute_result"
    }
   ],
   "source": [
    "def bo_params_generic(model, params, X_train, y_train):\n",
    "    # Create the model instance with the specified parameters\n",
    "    classifier = model(**params)\n",
    "    \n",
    "    # Calculating accuracy based on cross-validation\n",
    "    scores = cross_val_score(classifier, X_train, y_train, cv=10, scoring='neg_mean_squared_error')\n",
    "    return scores.mean()\n",
    "\n",
    "params_ranges = {\n",
    "    'C': (0.1, 10),\n",
    "    'kernel_int': (1, 4),\n",
    "    'gamma': (0.001, 0.1)\n",
    "}\n",
    "\n",
    "kernel_mapping = {\n",
    "    1: 'linear',\n",
    "    2: 'rbf',\n",
    "    3: 'poly',\n",
    "    4: 'sigmoid'\n",
    "}\n",
    "\n",
    "# Example usage with SVM\n",
    "model = SVR\n",
    "model_bo = BayesianOptimization(f=lambda C, kernel_int, gamma:\n",
    "                                    bo_params_generic(model, {\n",
    "                                        'C': C,\n",
    "                                        'kernel': kernel_mapping[int(kernel_int)],\n",
    "                                        'gamma': gamma\n",
    "                                    }, X_train, y_train),\n",
    "                             pbounds=params_ranges)\n",
    "\n",
    "results = model_bo.maximize(n_iter=40, init_points=10)\n",
    "params = model_bo.max['params']\n",
    "\n",
    "# Creating a model with the best hyperparameters\n",
    "best_model_svm = model(\n",
    "    C=params['C'],\n",
    "    kernel=kernel_mapping[int(params['kernel_int'])],\n",
    "    gamma=params['gamma']\n",
    ")\n",
    "\n",
    "# Fit the model\n",
    "best_model_svm.fit(X_train, y_train)\n"
   ]
  },
  {
   "attachments": {},
   "cell_type": "markdown",
   "metadata": {},
   "source": [
    "**Feature Selection**"
   ]
  },
  {
   "cell_type": "code",
   "execution_count": 7,
   "metadata": {},
   "outputs": [
    {
     "name": "stdout",
     "output_type": "stream",
     "text": [
      "Scince the kernal is not linear, this feature selection is not possible\n",
      "Best features: Index(['NederlandseAntillenEnAruba', 'GeboorteRelatief', 'SterfteRelatief',\n",
      "       'GemiddeldeWoningwaarde', 'PercentageOnbewoond',\n",
      "       'InBezitWoningcorporatie', 'InBezitOverigeVerhuurders',\n",
      "       'EigendomOnbekend', 'BouwjaarVanaf2000', 'kPersonenMetLaagsteInkomen',\n",
      "       'ALandbouwBosbouwEnVisserij', 'KLFinancieleDienstenOnroerendGoed',\n",
      "       'PersonenautoSOverigeBrandstof', 'PersonenautoSPerHuishouden',\n",
      "       'PersonenautoSNaarOppervlakte', 'AfstandTotHuisartsenpraktijk',\n",
      "       'AfstandTotKinderdagverblijf', 'AfstandTotSchool', 'OppervlakteWater',\n",
      "       'TotaalDiefstalUitWoningSchuurED',\n",
      "       'VernielingMisdrijfTegenOpenbareOrde', 'GeweldsEnSeksueleMisdrijven',\n",
      "       'AfstandTotHuisartsenpost', 'AfstandTotApotheek',\n",
      "       'AfstandTotConsultatiebureau', 'AfstandTotOvDagelLevensmiddelen',\n",
      "       'AfstandTotWarenhuis', 'AfstandTotCafeED', 'AfstandTotCafetariaED',\n",
      "       'AfstandTotRestaurant', 'AfstandTotHotelED',\n",
      "       'AfstandTotBuitenschoolseOpvang', 'AfstandTotOpenbaarGroenTotaal',\n",
      "       'AfstandTotDagrecreatiefTerrein', 'AfstandTotBos',\n",
      "       'AfstandTotOpenNatTerreinTotaal', 'AfstandTotOpenDroogNatTerrein',\n",
      "       'AfstandTotOpenNatNatuurlijkTerrein',\n",
      "       'AfstandTotSemiOpenbaarGroenTotaal', 'AfstandTotSportterrein',\n",
      "       'AfstandTotVolkstuin', 'AfstandTotVerblijfsrecreatiefTerrein',\n",
      "       'AfstandTotBegraafplaats', 'AfstandTotTreinstationsTotaal',\n",
      "       'AfstandTotBelangrijkOverstapstation', 'AfstandTotBibliotheek',\n",
      "       'AfstandTotZwembad', 'AfstandTotKunstijsbaan', 'AfstandTotMuseum',\n",
      "       'AfstandTotPodiumkunstenTotaal', 'AfstandTotPoppodium',\n",
      "       'AfstandTotBioscoop', 'AfstandTotSauna', 'AfstandTotZonnebank',\n",
      "       'AfstandTotAttractie', 'AfstandTotBrandweerkazerne',\n",
      "       'ErvarenGezondheidGoedZeerGoed', 'EenOfMeerLangdurigeAandoeningen',\n",
      "       'BeperkingInHoren', 'BeperkingInZien', 'Ondergewicht',\n",
      "       'MatigOvergewicht', 'ErnstigOvergewichtObesitas',\n",
      "       'VoldoetAanBeweegrichtlijn', 'Mantelzorger',\n",
      "       'ZwaarBelasteMantelzorgers', 'UrenMantelzorgPerWeek', 'Rokers',\n",
      "       'VoldoetAanRichtlijnAlcoholgebruik', 'OvermatigDrinker'],\n",
      "      dtype='object')\n",
      "Dropped features: []\n"
     ]
    }
   ],
   "source": [
    "# Get the accuracy score of the model with all features\n",
    "best_accuracy = cross_val_score(best_model_svm, X_train, y_train, cv=10, scoring='neg_mean_squared_error', n_jobs=-1).mean()\n",
    "best_model = best_model_svm\n",
    "selected_features = X_train.columns\n",
    "best_features = selected_features\n",
    "\n",
    "while len(selected_features) > 1:\n",
    "    try:\n",
    "        # Retrieve the coefficients from the SVM model\n",
    "        coefficients = best_model_svm.coef_[0]\n",
    "\n",
    "        # Sort features based on their coefficient magnitudes\n",
    "        sorted_indices = np.argsort(np.abs(coefficients))\n",
    "        selected_features = [X_train.columns[i] for i in sorted_indices[::-1]]\n",
    "\n",
    "        # Remove the least important feature\n",
    "        selected_features = selected_features[:-1]\n",
    "        \n",
    "        # Refit the linear SVM classifier\n",
    "        best_model_svm_classification.fit(X_train[selected_features], y_train)\n",
    "        \n",
    "        # Evaluate Model Performance\n",
    "        accuracy = cross_val_score(best_model_svm, X_train[selected_features], y_train, cv=10, scoring='neg_mean_squared_error', n_jobs=-1).mean()\n",
    "\n",
    "        # Check if the model performs better without the insignificant features\n",
    "        if accuracy >= best_accuracy:\n",
    "            best_accuracy = accuracy\n",
    "            best_features = selected_features.copy()\n",
    "            best_model = best_model_svm\n",
    "    except:\n",
    "        print(\"Scince the kernal is not linear, this feature selection is not possible\") \n",
    "        break\n",
    "\n",
    "# Save results\n",
    "best_model_svm = best_model\n",
    "best_features_svm = best_features\n",
    "\n",
    "# Show results\n",
    "print(\"Best features:\", best_features_svm)\n",
    "print(\"Dropped features:\", list(set(X_train.columns.tolist()) - set(best_features_svm)))"
   ]
  },
  {
   "attachments": {},
   "cell_type": "markdown",
   "metadata": {},
   "source": [
    "# Random Forest"
   ]
  },
  {
   "attachments": {},
   "cell_type": "markdown",
   "metadata": {},
   "source": [
    "**Feature selection**"
   ]
  },
  {
   "cell_type": "code",
   "execution_count": 8,
   "metadata": {},
   "outputs": [
    {
     "name": "stdout",
     "output_type": "stream",
     "text": [
      "Best features: ['AfstandTotHotelED', 'AfstandTotOpenNatNatuurlijkTerrein', 'AfstandTotKunstijsbaan']\n",
      "Dropped features: ['AfstandTotOvDagelLevensmiddelen', 'ZwaarBelasteMantelzorgers', 'AfstandTotCafetariaED', 'SterfteRelatief', 'AfstandTotPodiumkunstenTotaal', 'AfstandTotBioscoop', 'ErvarenGezondheidGoedZeerGoed', 'GeweldsEnSeksueleMisdrijven', 'AfstandTotSemiOpenbaarGroenTotaal', 'AfstandTotHuisartsenpraktijk', 'kPersonenMetLaagsteInkomen', 'AfstandTotPoppodium', 'AfstandTotDagrecreatiefTerrein', 'AfstandTotVolkstuin', 'GeboorteRelatief', 'AfstandTotApotheek', 'AfstandTotHuisartsenpost', 'AfstandTotRestaurant', 'PersonenautoSPerHuishouden', 'AfstandTotSportterrein', 'AfstandTotBos', 'AfstandTotSchool', 'AfstandTotBegraafplaats', 'UrenMantelzorgPerWeek', 'AfstandTotTreinstationsTotaal', 'AfstandTotBrandweerkazerne', 'PersonenautoSOverigeBrandstof', 'TotaalDiefstalUitWoningSchuurED', 'NederlandseAntillenEnAruba', 'AfstandTotMuseum', 'PercentageOnbewoond', 'ALandbouwBosbouwEnVisserij', 'AfstandTotVerblijfsrecreatiefTerrein', 'BouwjaarVanaf2000', 'GemiddeldeWoningwaarde', 'OppervlakteWater', 'AfstandTotZwembad', 'BeperkingInZien', 'AfstandTotBuitenschoolseOpvang', 'AfstandTotOpenNatTerreinTotaal', 'EigendomOnbekend', 'InBezitOverigeVerhuurders', 'VoldoetAanBeweegrichtlijn', 'AfstandTotOpenDroogNatTerrein', 'AfstandTotAttractie', 'VernielingMisdrijfTegenOpenbareOrde', 'AfstandTotWarenhuis', 'Ondergewicht', 'MatigOvergewicht', 'AfstandTotZonnebank', 'Mantelzorger', 'AfstandTotBibliotheek', 'BeperkingInHoren', 'ErnstigOvergewichtObesitas', 'AfstandTotKinderdagverblijf', 'InBezitWoningcorporatie', 'AfstandTotConsultatiebureau', 'OvermatigDrinker', 'AfstandTotCafeED', 'AfstandTotOpenbaarGroenTotaal', 'KLFinancieleDienstenOnroerendGoed', 'VoldoetAanRichtlijnAlcoholgebruik', 'EenOfMeerLangdurigeAandoeningen', 'Rokers', 'AfstandTotBelangrijkOverstapstation', 'AfstandTotSauna', 'PersonenautoSNaarOppervlakte']\n"
     ]
    }
   ],
   "source": [
    "# Get the accuracy score of the model with all the features\n",
    "rf = RandomForestRegressor(n_estimators=100, random_state=0).fit(X_train, y_train)\n",
    "best_rf = rf\n",
    "selected_features = X_train.columns.tolist()\n",
    "best_features = selected_features\n",
    "best_features_accuracy = cross_val_score(RandomForestRegressor(n_estimators=100, random_state=0), X_train, y_train, cv=10, scoring='neg_mean_squared_error', n_jobs=-1).mean()\n",
    "\n",
    "while True:\n",
    "    # Make DataFrame of feature impotances\n",
    "    result = permutation_importance(\n",
    "            rf, X_train[selected_features], y_train, n_repeats=10, random_state=42, n_jobs=-1\n",
    "        )\n",
    "    df_importances = pd.DataFrame({'feature': X_train[selected_features].columns, 'importance': result.importances_mean, 'std': result.importances_std})\n",
    "    df_importances = df_importances.sort_values('importance')\n",
    "\n",
    "    # Remove least important feature\n",
    "    selected_features.remove(df_importances['feature'].iloc[0])\n",
    "\n",
    "    # When there are no features left\n",
    "    if len(selected_features) == 0:\n",
    "        break\n",
    "    \n",
    "    # Refit the Model\n",
    "    rf = RandomForestRegressor(n_estimators=100, random_state=0).fit(X_train[selected_features], y_train)\n",
    "\n",
    "    # Evaluate Model Performance\n",
    "    accuracy = cross_val_score(RandomForestRegressor(n_estimators=100, random_state=0), X_train[selected_features], y_train, cv=10, scoring='neg_mean_squared_error', n_jobs=-1).mean()\n",
    "\n",
    "    # Check if the model performs better without the insignificant features\n",
    "    if accuracy >= best_features_accuracy:\n",
    "        best_features_accuracy = accuracy\n",
    "        best_features = selected_features.copy()\n",
    "        best_model = rf\n",
    "\n",
    "# Save results\n",
    "best_model_rf = best_model\n",
    "best_features_rf = best_features\n",
    "\n",
    "# Show results\n",
    "print(\"Best features:\", best_features_rf)\n",
    "print(\"Dropped features:\", list(set(X_train.columns.tolist()) - set(best_features_rf)))"
   ]
  },
  {
   "attachments": {},
   "cell_type": "markdown",
   "metadata": {},
   "source": [
    "**Hyperparameter optimalisatie**"
   ]
  },
  {
   "cell_type": "code",
   "execution_count": 9,
   "metadata": {},
   "outputs": [
    {
     "name": "stdout",
     "output_type": "stream",
     "text": [
      "|   iter    |  target   | max_depth | max_fe... | min_sa... | n_esti... |\n",
      "-------------------------------------------------------------------------\n",
      "| \u001b[0m1        \u001b[0m | \u001b[0m-40.01   \u001b[0m | \u001b[0m1.831    \u001b[0m | \u001b[0m0.4243   \u001b[0m | \u001b[0m5.849    \u001b[0m | \u001b[0m971.8    \u001b[0m |\n",
      "| \u001b[0m2        \u001b[0m | \u001b[0m-40.07   \u001b[0m | \u001b[0m14.95    \u001b[0m | \u001b[0m0.3514   \u001b[0m | \u001b[0m10.61    \u001b[0m | \u001b[0m374.5    \u001b[0m |\n",
      "| \u001b[0m3        \u001b[0m | \u001b[0m-40.08   \u001b[0m | \u001b[0m9.579    \u001b[0m | \u001b[0m0.2602   \u001b[0m | \u001b[0m9.09     \u001b[0m | \u001b[0m339.8    \u001b[0m |\n",
      "| \u001b[0m4        \u001b[0m | \u001b[0m-40.17   \u001b[0m | \u001b[0m5.878    \u001b[0m | \u001b[0m0.8091   \u001b[0m | \u001b[0m6.319    \u001b[0m | \u001b[0m726.2    \u001b[0m |\n",
      "| \u001b[0m5        \u001b[0m | \u001b[0m-40.09   \u001b[0m | \u001b[0m19.09    \u001b[0m | \u001b[0m0.5504   \u001b[0m | \u001b[0m9.906    \u001b[0m | \u001b[0m266.5    \u001b[0m |\n",
      "| \u001b[0m6        \u001b[0m | \u001b[0m-40.09   \u001b[0m | \u001b[0m18.19    \u001b[0m | \u001b[0m0.3616   \u001b[0m | \u001b[0m2.716    \u001b[0m | \u001b[0m241.7    \u001b[0m |\n",
      "| \u001b[0m7        \u001b[0m | \u001b[0m-40.08   \u001b[0m | \u001b[0m18.49    \u001b[0m | \u001b[0m0.3557   \u001b[0m | \u001b[0m6.034    \u001b[0m | \u001b[0m401.5    \u001b[0m |\n",
      "| \u001b[0m8        \u001b[0m | \u001b[0m-40.15   \u001b[0m | \u001b[0m18.23    \u001b[0m | \u001b[0m0.8756   \u001b[0m | \u001b[0m10.5     \u001b[0m | \u001b[0m517.8    \u001b[0m |\n",
      "| \u001b[0m9        \u001b[0m | \u001b[0m-40.06   \u001b[0m | \u001b[0m3.821    \u001b[0m | \u001b[0m0.7402   \u001b[0m | \u001b[0m10.07    \u001b[0m | \u001b[0m845.0    \u001b[0m |\n",
      "| \u001b[0m10       \u001b[0m | \u001b[0m-40.08   \u001b[0m | \u001b[0m15.24    \u001b[0m | \u001b[0m0.3867   \u001b[0m | \u001b[0m6.386    \u001b[0m | \u001b[0m440.6    \u001b[0m |\n",
      "| \u001b[0m11       \u001b[0m | \u001b[0m-40.14   \u001b[0m | \u001b[0m19.58    \u001b[0m | \u001b[0m0.7117   \u001b[0m | \u001b[0m2.976    \u001b[0m | \u001b[0m924.6    \u001b[0m |\n",
      "| \u001b[95m12       \u001b[0m | \u001b[95m-39.94   \u001b[0m | \u001b[95m1.0      \u001b[0m | \u001b[95m0.3425   \u001b[0m | \u001b[95m6.883    \u001b[0m | \u001b[95m992.7    \u001b[0m |\n",
      "| \u001b[0m13       \u001b[0m | \u001b[0m-40.08   \u001b[0m | \u001b[0m19.58    \u001b[0m | \u001b[0m0.6301   \u001b[0m | \u001b[0m8.546    \u001b[0m | \u001b[0m999.9    \u001b[0m |\n",
      "| \u001b[0m14       \u001b[0m | \u001b[0m-40.07   \u001b[0m | \u001b[0m1.882    \u001b[0m | \u001b[0m0.9427   \u001b[0m | \u001b[0m6.762    \u001b[0m | \u001b[0m990.6    \u001b[0m |\n",
      "| \u001b[0m15       \u001b[0m | \u001b[0m-39.94   \u001b[0m | \u001b[0m1.276    \u001b[0m | \u001b[0m0.4059   \u001b[0m | \u001b[0m6.836    \u001b[0m | \u001b[0m971.1    \u001b[0m |\n",
      "| \u001b[0m16       \u001b[0m | \u001b[0m-40.01   \u001b[0m | \u001b[0m2.439    \u001b[0m | \u001b[0m0.5118   \u001b[0m | \u001b[0m5.972    \u001b[0m | \u001b[0m993.6    \u001b[0m |\n",
      "| \u001b[0m17       \u001b[0m | \u001b[0m-39.94   \u001b[0m | \u001b[0m3.179    \u001b[0m | \u001b[0m0.5582   \u001b[0m | \u001b[0m8.5      \u001b[0m | \u001b[0m971.0    \u001b[0m |\n",
      "| \u001b[0m18       \u001b[0m | \u001b[0m-39.95   \u001b[0m | \u001b[0m1.394    \u001b[0m | \u001b[0m0.3715   \u001b[0m | \u001b[0m8.747    \u001b[0m | \u001b[0m970.8    \u001b[0m |\n",
      "| \u001b[0m19       \u001b[0m | \u001b[0m-40.11   \u001b[0m | \u001b[0m2.936    \u001b[0m | \u001b[0m0.9461   \u001b[0m | \u001b[0m7.253    \u001b[0m | \u001b[0m970.6    \u001b[0m |\n",
      "| \u001b[95m20       \u001b[0m | \u001b[95m-39.93   \u001b[0m | \u001b[95m4.141    \u001b[0m | \u001b[95m0.2879   \u001b[0m | \u001b[95m9.379    \u001b[0m | \u001b[95m970.6    \u001b[0m |\n",
      "| \u001b[0m21       \u001b[0m | \u001b[0m-40.0    \u001b[0m | \u001b[0m1.884    \u001b[0m | \u001b[0m0.301    \u001b[0m | \u001b[0m8.396    \u001b[0m | \u001b[0m972.0    \u001b[0m |\n",
      "| \u001b[0m22       \u001b[0m | \u001b[0m-40.01   \u001b[0m | \u001b[0m2.413    \u001b[0m | \u001b[0m0.1222   \u001b[0m | \u001b[0m10.59    \u001b[0m | \u001b[0m971.2    \u001b[0m |\n",
      "| \u001b[0m23       \u001b[0m | \u001b[0m-40.07   \u001b[0m | \u001b[0m2.163    \u001b[0m | \u001b[0m0.6847   \u001b[0m | \u001b[0m8.581    \u001b[0m | \u001b[0m969.5    \u001b[0m |\n",
      "| \u001b[0m24       \u001b[0m | \u001b[0m-40.01   \u001b[0m | \u001b[0m1.633    \u001b[0m | \u001b[0m0.1711   \u001b[0m | \u001b[0m6.212    \u001b[0m | \u001b[0m992.2    \u001b[0m |\n",
      "| \u001b[0m25       \u001b[0m | \u001b[0m-39.94   \u001b[0m | \u001b[0m3.456    \u001b[0m | \u001b[0m0.5281   \u001b[0m | \u001b[0m9.614    \u001b[0m | \u001b[0m971.1    \u001b[0m |\n",
      "| \u001b[0m26       \u001b[0m | \u001b[0m-40.12   \u001b[0m | \u001b[0m4.927    \u001b[0m | \u001b[0m0.9655   \u001b[0m | \u001b[0m8.876    \u001b[0m | \u001b[0m972.5    \u001b[0m |\n",
      "| \u001b[0m27       \u001b[0m | \u001b[0m-40.0    \u001b[0m | \u001b[0m1.502    \u001b[0m | \u001b[0m0.5607   \u001b[0m | \u001b[0m8.766    \u001b[0m | \u001b[0m992.6    \u001b[0m |\n",
      "| \u001b[0m28       \u001b[0m | \u001b[0m-39.95   \u001b[0m | \u001b[0m2.684    \u001b[0m | \u001b[0m0.3883   \u001b[0m | \u001b[0m7.325    \u001b[0m | \u001b[0m994.9    \u001b[0m |\n",
      "| \u001b[0m29       \u001b[0m | \u001b[0m-40.1    \u001b[0m | \u001b[0m2.824    \u001b[0m | \u001b[0m0.7448   \u001b[0m | \u001b[0m7.727    \u001b[0m | \u001b[0m993.3    \u001b[0m |\n",
      "| \u001b[0m30       \u001b[0m | \u001b[0m-40.1    \u001b[0m | \u001b[0m3.48     \u001b[0m | \u001b[0m0.7234   \u001b[0m | \u001b[0m6.975    \u001b[0m | \u001b[0m994.5    \u001b[0m |\n",
      "| \u001b[95m31       \u001b[0m | \u001b[95m-39.93   \u001b[0m | \u001b[95m3.645    \u001b[0m | \u001b[95m0.1387   \u001b[0m | \u001b[95m8.185    \u001b[0m | \u001b[95m970.6    \u001b[0m |\n",
      "| \u001b[0m32       \u001b[0m | \u001b[0m-39.99   \u001b[0m | \u001b[0m4.745    \u001b[0m | \u001b[0m0.1945   \u001b[0m | \u001b[0m8.418    \u001b[0m | \u001b[0m970.9    \u001b[0m |\n",
      "| \u001b[0m33       \u001b[0m | \u001b[0m-39.94   \u001b[0m | \u001b[0m1.188    \u001b[0m | \u001b[0m0.5316   \u001b[0m | \u001b[0m6.727    \u001b[0m | \u001b[0m995.2    \u001b[0m |\n",
      "| \u001b[0m34       \u001b[0m | \u001b[0m-40.0    \u001b[0m | \u001b[0m1.717    \u001b[0m | \u001b[0m0.3834   \u001b[0m | \u001b[0m6.759    \u001b[0m | \u001b[0m996.1    \u001b[0m |\n",
      "| \u001b[0m35       \u001b[0m | \u001b[0m-40.08   \u001b[0m | \u001b[0m1.739    \u001b[0m | \u001b[0m0.9019   \u001b[0m | \u001b[0m7.124    \u001b[0m | \u001b[0m994.8    \u001b[0m |\n",
      "| \u001b[0m36       \u001b[0m | \u001b[0m-40.08   \u001b[0m | \u001b[0m9.64     \u001b[0m | \u001b[0m0.6513   \u001b[0m | \u001b[0m6.874    \u001b[0m | \u001b[0m861.2    \u001b[0m |\n",
      "| \u001b[0m37       \u001b[0m | \u001b[0m-40.1    \u001b[0m | \u001b[0m2.805    \u001b[0m | \u001b[0m0.8992   \u001b[0m | \u001b[0m8.875    \u001b[0m | \u001b[0m970.8    \u001b[0m |\n",
      "| \u001b[0m38       \u001b[0m | \u001b[0m-40.09   \u001b[0m | \u001b[0m9.673    \u001b[0m | \u001b[0m0.2093   \u001b[0m | \u001b[0m6.453    \u001b[0m | \u001b[0m518.1    \u001b[0m |\n",
      "| \u001b[0m39       \u001b[0m | \u001b[0m-40.1    \u001b[0m | \u001b[0m3.339    \u001b[0m | \u001b[0m0.8478   \u001b[0m | \u001b[0m9.375    \u001b[0m | \u001b[0m971.7    \u001b[0m |\n",
      "| \u001b[0m40       \u001b[0m | \u001b[0m-39.99   \u001b[0m | \u001b[0m5.261    \u001b[0m | \u001b[0m0.3218   \u001b[0m | \u001b[0m6.718    \u001b[0m | \u001b[0m835.9    \u001b[0m |\n",
      "| \u001b[0m41       \u001b[0m | \u001b[0m-39.99   \u001b[0m | \u001b[0m4.746    \u001b[0m | \u001b[0m0.556    \u001b[0m | \u001b[0m11.68    \u001b[0m | \u001b[0m721.6    \u001b[0m |\n",
      "| \u001b[0m42       \u001b[0m | \u001b[0m-40.15   \u001b[0m | \u001b[0m12.59    \u001b[0m | \u001b[0m0.717    \u001b[0m | \u001b[0m3.348    \u001b[0m | \u001b[0m922.3    \u001b[0m |\n",
      "| \u001b[0m43       \u001b[0m | \u001b[0m-40.08   \u001b[0m | \u001b[0m8.937    \u001b[0m | \u001b[0m0.4007   \u001b[0m | \u001b[0m2.857    \u001b[0m | \u001b[0m334.1    \u001b[0m |\n",
      "| \u001b[0m44       \u001b[0m | \u001b[0m-39.95   \u001b[0m | \u001b[0m1.459    \u001b[0m | \u001b[0m0.9392   \u001b[0m | \u001b[0m9.093    \u001b[0m | \u001b[0m713.6    \u001b[0m |\n",
      "| \u001b[0m45       \u001b[0m | \u001b[0m-39.94   \u001b[0m | \u001b[0m1.474    \u001b[0m | \u001b[0m0.9298   \u001b[0m | \u001b[0m4.547    \u001b[0m | \u001b[0m574.2    \u001b[0m |\n",
      "| \u001b[0m46       \u001b[0m | \u001b[0m-40.06   \u001b[0m | \u001b[0m3.528    \u001b[0m | \u001b[0m0.7301   \u001b[0m | \u001b[0m11.25    \u001b[0m | \u001b[0m309.7    \u001b[0m |\n",
      "| \u001b[0m47       \u001b[0m | \u001b[0m-40.08   \u001b[0m | \u001b[0m13.03    \u001b[0m | \u001b[0m0.6327   \u001b[0m | \u001b[0m9.079    \u001b[0m | \u001b[0m238.8    \u001b[0m |\n",
      "| \u001b[0m48       \u001b[0m | \u001b[0m-40.07   \u001b[0m | \u001b[0m12.48    \u001b[0m | \u001b[0m0.2937   \u001b[0m | \u001b[0m3.437    \u001b[0m | \u001b[0m128.0    \u001b[0m |\n",
      "| \u001b[0m49       \u001b[0m | \u001b[0m-40.08   \u001b[0m | \u001b[0m19.04    \u001b[0m | \u001b[0m0.3187   \u001b[0m | \u001b[0m9.607    \u001b[0m | \u001b[0m996.0    \u001b[0m |\n",
      "| \u001b[0m50       \u001b[0m | \u001b[0m-40.13   \u001b[0m | \u001b[0m4.546    \u001b[0m | \u001b[0m0.8477   \u001b[0m | \u001b[0m2.684    \u001b[0m | \u001b[0m525.3    \u001b[0m |\n",
      "=========================================================================\n"
     ]
    },
    {
     "data": {
      "text/html": [
       "<style>#sk-container-id-2 {color: black;background-color: white;}#sk-container-id-2 pre{padding: 0;}#sk-container-id-2 div.sk-toggleable {background-color: white;}#sk-container-id-2 label.sk-toggleable__label {cursor: pointer;display: block;width: 100%;margin-bottom: 0;padding: 0.3em;box-sizing: border-box;text-align: center;}#sk-container-id-2 label.sk-toggleable__label-arrow:before {content: \"▸\";float: left;margin-right: 0.25em;color: #696969;}#sk-container-id-2 label.sk-toggleable__label-arrow:hover:before {color: black;}#sk-container-id-2 div.sk-estimator:hover label.sk-toggleable__label-arrow:before {color: black;}#sk-container-id-2 div.sk-toggleable__content {max-height: 0;max-width: 0;overflow: hidden;text-align: left;background-color: #f0f8ff;}#sk-container-id-2 div.sk-toggleable__content pre {margin: 0.2em;color: black;border-radius: 0.25em;background-color: #f0f8ff;}#sk-container-id-2 input.sk-toggleable__control:checked~div.sk-toggleable__content {max-height: 200px;max-width: 100%;overflow: auto;}#sk-container-id-2 input.sk-toggleable__control:checked~label.sk-toggleable__label-arrow:before {content: \"▾\";}#sk-container-id-2 div.sk-estimator input.sk-toggleable__control:checked~label.sk-toggleable__label {background-color: #d4ebff;}#sk-container-id-2 div.sk-label input.sk-toggleable__control:checked~label.sk-toggleable__label {background-color: #d4ebff;}#sk-container-id-2 input.sk-hidden--visually {border: 0;clip: rect(1px 1px 1px 1px);clip: rect(1px, 1px, 1px, 1px);height: 1px;margin: -1px;overflow: hidden;padding: 0;position: absolute;width: 1px;}#sk-container-id-2 div.sk-estimator {font-family: monospace;background-color: #f0f8ff;border: 1px dotted black;border-radius: 0.25em;box-sizing: border-box;margin-bottom: 0.5em;}#sk-container-id-2 div.sk-estimator:hover {background-color: #d4ebff;}#sk-container-id-2 div.sk-parallel-item::after {content: \"\";width: 100%;border-bottom: 1px solid gray;flex-grow: 1;}#sk-container-id-2 div.sk-label:hover label.sk-toggleable__label {background-color: #d4ebff;}#sk-container-id-2 div.sk-serial::before {content: \"\";position: absolute;border-left: 1px solid gray;box-sizing: border-box;top: 0;bottom: 0;left: 50%;z-index: 0;}#sk-container-id-2 div.sk-serial {display: flex;flex-direction: column;align-items: center;background-color: white;padding-right: 0.2em;padding-left: 0.2em;position: relative;}#sk-container-id-2 div.sk-item {position: relative;z-index: 1;}#sk-container-id-2 div.sk-parallel {display: flex;align-items: stretch;justify-content: center;background-color: white;position: relative;}#sk-container-id-2 div.sk-item::before, #sk-container-id-2 div.sk-parallel-item::before {content: \"\";position: absolute;border-left: 1px solid gray;box-sizing: border-box;top: 0;bottom: 0;left: 50%;z-index: -1;}#sk-container-id-2 div.sk-parallel-item {display: flex;flex-direction: column;z-index: 1;position: relative;background-color: white;}#sk-container-id-2 div.sk-parallel-item:first-child::after {align-self: flex-end;width: 50%;}#sk-container-id-2 div.sk-parallel-item:last-child::after {align-self: flex-start;width: 50%;}#sk-container-id-2 div.sk-parallel-item:only-child::after {width: 0;}#sk-container-id-2 div.sk-dashed-wrapped {border: 1px dashed gray;margin: 0 0.4em 0.5em 0.4em;box-sizing: border-box;padding-bottom: 0.4em;background-color: white;}#sk-container-id-2 div.sk-label label {font-family: monospace;font-weight: bold;display: inline-block;line-height: 1.2em;}#sk-container-id-2 div.sk-label-container {text-align: center;}#sk-container-id-2 div.sk-container {/* jupyter's `normalize.less` sets `[hidden] { display: none; }` but bootstrap.min.css set `[hidden] { display: none !important; }` so we also need the `!important` here to be able to override the default hidden behavior on the sphinx rendered scikit-learn.org. See: https://github.com/scikit-learn/scikit-learn/issues/21755 */display: inline-block !important;position: relative;}#sk-container-id-2 div.sk-text-repr-fallback {display: none;}</style><div id=\"sk-container-id-2\" class=\"sk-top-container\"><div class=\"sk-text-repr-fallback\"><pre>RandomForestRegressor(bootstrap=False, max_depth=4,\n",
       "                      max_features=0.13867547408340522, min_samples_split=8,\n",
       "                      n_estimators=971)</pre><b>In a Jupyter environment, please rerun this cell to show the HTML representation or trust the notebook. <br />On GitHub, the HTML representation is unable to render, please try loading this page with nbviewer.org.</b></div><div class=\"sk-container\" hidden><div class=\"sk-item\"><div class=\"sk-estimator sk-toggleable\"><input class=\"sk-toggleable__control sk-hidden--visually\" id=\"sk-estimator-id-2\" type=\"checkbox\" checked><label for=\"sk-estimator-id-2\" class=\"sk-toggleable__label sk-toggleable__label-arrow\">RandomForestRegressor</label><div class=\"sk-toggleable__content\"><pre>RandomForestRegressor(bootstrap=False, max_depth=4,\n",
       "                      max_features=0.13867547408340522, min_samples_split=8,\n",
       "                      n_estimators=971)</pre></div></div></div></div></div>"
      ],
      "text/plain": [
       "RandomForestRegressor(bootstrap=False, max_depth=4,\n",
       "                      max_features=0.13867547408340522, min_samples_split=8,\n",
       "                      n_estimators=971)"
      ]
     },
     "execution_count": 9,
     "metadata": {},
     "output_type": "execute_result"
    }
   ],
   "source": [
    "def bo_params_rf(min_samples_split,max_depth,max_features,n_estimators):\n",
    "    \n",
    "    params = {\n",
    "        'min_samples_split': round(min_samples_split),\n",
    "        'max_depth': round(max_depth),\n",
    "        'max_features': max_features,\n",
    "        'n_estimators':round(n_estimators)\n",
    "    }    \n",
    "        \n",
    "    clf = RandomForestRegressor(min_samples_split=int(params['min_samples_split']), \n",
    "                                 max_depth=int(params['max_depth']), \n",
    "                                 max_features=params['max_features'],\n",
    "                                 n_estimators=int(params['n_estimators']), \n",
    "                                 bootstrap=False,\n",
    "                                 n_jobs = -1)\n",
    "    return cross_val_score(clf, X_train[best_features_rf], y_train, cv=10, scoring='neg_mean_squared_error', n_jobs=-1).mean()\n",
    "\n",
    "# Create Bayesian Optimization\n",
    "rf_bo = BayesianOptimization(f=bo_params_rf, pbounds={\n",
    "    'n_estimators': (100, 1000),\n",
    "    'max_depth': (1, 20),\n",
    "    'max_features': (0.1, 1),\n",
    "    'min_samples_split': (2, 12)\n",
    "})\n",
    "\n",
    "# Bayesian optimization\n",
    "results = rf_bo.maximize(n_iter=40, init_points=10)\n",
    "\n",
    "# Getting best hyperparameters from bayesian optimization\n",
    "params = rf_bo.max['params']\n",
    "params['n_estimators']= round(params['n_estimators'])\n",
    "params['min_samples_split']= round(params['min_samples_split'])\n",
    "params['max_depth']= round(params['max_depth'])\n",
    "\n",
    "# Making random forest model with the best hyperparameters\n",
    "# criterion entropy is after the hyperparameter optimization since it's more accurate but increases training time\n",
    "best_model_rf_classification = RandomForestRegressor(min_samples_split=params['min_samples_split'],\n",
    "                                                max_depth=params['max_depth'],\n",
    "                                                max_features=params['max_features'],\n",
    "                                                n_estimators=params['n_estimators'],\n",
    "                                                bootstrap=False)\n",
    "\n",
    "best_model_rf_classification.fit(X_train[best_features_rf], y_train)"
   ]
  },
  {
   "attachments": {},
   "cell_type": "markdown",
   "metadata": {},
   "source": [
    "# neural network"
   ]
  },
  {
   "attachments": {},
   "cell_type": "markdown",
   "metadata": {},
   "source": [
    "**Feature selection**"
   ]
  },
  {
   "cell_type": "code",
   "execution_count": 10,
   "metadata": {},
   "outputs": [
    {
     "name": "stdout",
     "output_type": "stream",
     "text": [
      "Best features: ['AfstandTotBelangrijkOverstapstation', 'VoldoetAanRichtlijnAlcoholgebruik', 'AfstandTotCafeED', 'NederlandseAntillenEnAruba', 'PersonenautoSPerHuishouden', 'AfstandTotPoppodium', 'SterfteRelatief', 'AfstandTotHuisartsenpraktijk', 'ALandbouwBosbouwEnVisserij', 'Ondergewicht', 'AfstandTotBegraafplaats', 'TotaalDiefstalUitWoningSchuurED', 'ErnstigOvergewichtObesitas', 'InBezitOverigeVerhuurders']\n",
      "Dropped features: ['AfstandTotHotelED', 'AfstandTotOvDagelLevensmiddelen', 'ZwaarBelasteMantelzorgers', 'AfstandTotCafetariaED', 'AfstandTotPodiumkunstenTotaal', 'AfstandTotBioscoop', 'ErvarenGezondheidGoedZeerGoed', 'GeweldsEnSeksueleMisdrijven', 'AfstandTotSemiOpenbaarGroenTotaal', 'kPersonenMetLaagsteInkomen', 'AfstandTotDagrecreatiefTerrein', 'AfstandTotVolkstuin', 'GeboorteRelatief', 'AfstandTotApotheek', 'AfstandTotHuisartsenpost', 'AfstandTotRestaurant', 'AfstandTotSportterrein', 'AfstandTotBos', 'AfstandTotSchool', 'UrenMantelzorgPerWeek', 'AfstandTotTreinstationsTotaal', 'AfstandTotBrandweerkazerne', 'PersonenautoSOverigeBrandstof', 'AfstandTotMuseum', 'PercentageOnbewoond', 'AfstandTotVerblijfsrecreatiefTerrein', 'BouwjaarVanaf2000', 'GemiddeldeWoningwaarde', 'OppervlakteWater', 'AfstandTotZwembad', 'AfstandTotKunstijsbaan', 'BeperkingInZien', 'AfstandTotBuitenschoolseOpvang', 'AfstandTotOpenNatTerreinTotaal', 'EigendomOnbekend', 'VoldoetAanBeweegrichtlijn', 'AfstandTotOpenDroogNatTerrein', 'AfstandTotAttractie', 'VernielingMisdrijfTegenOpenbareOrde', 'AfstandTotWarenhuis', 'MatigOvergewicht', 'AfstandTotZonnebank', 'Mantelzorger', 'AfstandTotBibliotheek', 'BeperkingInHoren', 'AfstandTotKinderdagverblijf', 'InBezitWoningcorporatie', 'AfstandTotConsultatiebureau', 'AfstandTotOpenNatNatuurlijkTerrein', 'OvermatigDrinker', 'AfstandTotOpenbaarGroenTotaal', 'KLFinancieleDienstenOnroerendGoed', 'EenOfMeerLangdurigeAandoeningen', 'Rokers', 'AfstandTotSauna', 'PersonenautoSNaarOppervlakte']\n"
     ]
    }
   ],
   "source": [
    "# Get the accuracy score of the model with all the features\n",
    "mlp = MLPRegressor(random_state=0).fit(X_train, y_train)\n",
    "best_model = mlp\n",
    "selected_features = X_train.columns.tolist()\n",
    "best_features = selected_features\n",
    "best_features_accuracy = cross_val_score(MLPRegressor(random_state=0), X_train, y_train, cv=10, scoring='neg_mean_squared_error', n_jobs=-1).mean()\n",
    "\n",
    "while True:\n",
    "    # Retrieve the learned weights\n",
    "    weights = mlp.coefs_[0]  # Weights connecting input features to the first hidden layer\n",
    "\n",
    "    # Normalize the weights\n",
    "    normalized_weights = np.abs(weights) / np.sum(np.abs(weights), axis=0)\n",
    "\n",
    "    # Calculate feature importance\n",
    "    feature_importance = np.mean(normalized_weights, axis=1)\n",
    "\n",
    "    # Sort features based on their importance\n",
    "    sorted_indices = np.argsort(feature_importance)\n",
    "    selected_features = [selected_features[i] for i in sorted_indices[:-1]]\n",
    "\n",
    "    # When there are no features left\n",
    "    if len(selected_features) == 0:\n",
    "        break\n",
    "    \n",
    "    # Refit the Model\n",
    "    mlp = MLPRegressor(random_state=0).fit(X_train[selected_features], y_train)\n",
    "\n",
    "    # Evaluate Model Performance\n",
    "    accuracy = cross_val_score(MLPRegressor(random_state=0), X_train[selected_features], y_train, cv=10, scoring='neg_mean_squared_error', n_jobs=-1).mean()\n",
    "\n",
    "    # Check if the model performs better without the insignificant features\n",
    "    if accuracy >= best_features_accuracy:\n",
    "        best_features_accuracy = accuracy\n",
    "        best_features = selected_features.copy()\n",
    "        best_model = mlp\n",
    "\n",
    "# Save results\n",
    "best_model_nn = best_model\n",
    "best_features_nn = best_features\n",
    "\n",
    "# Show results\n",
    "print(\"Best features:\", best_features_nn)\n",
    "print(\"Dropped features:\", list(set(X_train.columns.tolist()) - set(best_features_nn)))"
   ]
  },
  {
   "attachments": {},
   "cell_type": "markdown",
   "metadata": {},
   "source": [
    "**Hyperparameter optimalisatie**"
   ]
  },
  {
   "cell_type": "code",
   "execution_count": 11,
   "metadata": {},
   "outputs": [
    {
     "name": "stdout",
     "output_type": "stream",
     "text": [
      "|   iter    |  target   |   alpha   | hidden... | learni... | max_iter  |\n",
      "-------------------------------------------------------------------------\n",
      "| \u001b[0m1        \u001b[0m | \u001b[0m-6.326   \u001b[0m | \u001b[0m0.0384   \u001b[0m | \u001b[0m33.01    \u001b[0m | \u001b[0m0.09991  \u001b[0m | \u001b[0m735.5    \u001b[0m |\n",
      "| \u001b[95m2        \u001b[0m | \u001b[95m-6.322   \u001b[0m | \u001b[95m0.08634  \u001b[0m | \u001b[95m38.05    \u001b[0m | \u001b[95m0.09131  \u001b[0m | \u001b[95m296.6    \u001b[0m |\n",
      "| \u001b[0m3        \u001b[0m | \u001b[0m-6.329   \u001b[0m | \u001b[0m0.05689  \u001b[0m | \u001b[0m43.52    \u001b[0m | \u001b[0m0.03594  \u001b[0m | \u001b[0m810.1    \u001b[0m |\n",
      "| \u001b[95m4        \u001b[0m | \u001b[95m-6.319   \u001b[0m | \u001b[95m0.09579  \u001b[0m | \u001b[95m56.55    \u001b[0m | \u001b[95m0.07501  \u001b[0m | \u001b[95m569.6    \u001b[0m |\n",
      "| \u001b[0m5        \u001b[0m | \u001b[0m-6.326   \u001b[0m | \u001b[0m0.06148  \u001b[0m | \u001b[0m75.15    \u001b[0m | \u001b[0m0.02454  \u001b[0m | \u001b[0m811.8    \u001b[0m |\n",
      "| \u001b[0m6        \u001b[0m | \u001b[0m-6.332   \u001b[0m | \u001b[0m0.01993  \u001b[0m | \u001b[0m75.45    \u001b[0m | \u001b[0m0.009217 \u001b[0m | \u001b[0m538.4    \u001b[0m |\n",
      "| \u001b[0m7        \u001b[0m | \u001b[0m-6.32    \u001b[0m | \u001b[0m0.09086  \u001b[0m | \u001b[0m88.87    \u001b[0m | \u001b[0m0.08749  \u001b[0m | \u001b[0m641.5    \u001b[0m |\n",
      "| \u001b[0m8        \u001b[0m | \u001b[0m-6.328   \u001b[0m | \u001b[0m0.08606  \u001b[0m | \u001b[0m39.1     \u001b[0m | \u001b[0m0.003184 \u001b[0m | \u001b[0m880.9    \u001b[0m |\n",
      "| \u001b[0m9        \u001b[0m | \u001b[0m-6.336   \u001b[0m | \u001b[0m0.02575  \u001b[0m | \u001b[0m79.84    \u001b[0m | \u001b[0m0.08505  \u001b[0m | \u001b[0m786.0    \u001b[0m |\n",
      "| \u001b[95m10       \u001b[0m | \u001b[95m-6.312   \u001b[0m | \u001b[95m0.05644  \u001b[0m | \u001b[95m99.86    \u001b[0m | \u001b[95m0.07951  \u001b[0m | \u001b[95m395.9    \u001b[0m |\n",
      "| \u001b[0m11       \u001b[0m | \u001b[0m-6.323   \u001b[0m | \u001b[0m0.01487  \u001b[0m | \u001b[0m99.54    \u001b[0m | \u001b[0m0.08754  \u001b[0m | \u001b[0m397.7    \u001b[0m |\n",
      "| \u001b[0m12       \u001b[0m | \u001b[0m-6.329   \u001b[0m | \u001b[0m0.07773  \u001b[0m | \u001b[0m98.68    \u001b[0m | \u001b[0m0.06486  \u001b[0m | \u001b[0m396.9    \u001b[0m |\n",
      "| \u001b[0m13       \u001b[0m | \u001b[0m-6.333   \u001b[0m | \u001b[0m0.0915   \u001b[0m | \u001b[0m94.05    \u001b[0m | \u001b[0m0.04016  \u001b[0m | \u001b[0m748.9    \u001b[0m |\n",
      "| \u001b[0m14       \u001b[0m | \u001b[0m-6.334   \u001b[0m | \u001b[0m0.0463   \u001b[0m | \u001b[0m73.65    \u001b[0m | \u001b[0m0.04842  \u001b[0m | \u001b[0m290.8    \u001b[0m |\n",
      "| \u001b[0m15       \u001b[0m | \u001b[0m-6.313   \u001b[0m | \u001b[0m0.0378   \u001b[0m | \u001b[0m30.73    \u001b[0m | \u001b[0m0.04179  \u001b[0m | \u001b[0m191.0    \u001b[0m |\n",
      "| \u001b[0m16       \u001b[0m | \u001b[0m-6.326   \u001b[0m | \u001b[0m0.08306  \u001b[0m | \u001b[0m13.44    \u001b[0m | \u001b[0m0.01106  \u001b[0m | \u001b[0m975.4    \u001b[0m |\n",
      "| \u001b[0m17       \u001b[0m | \u001b[0m-6.331   \u001b[0m | \u001b[0m0.01263  \u001b[0m | \u001b[0m41.71    \u001b[0m | \u001b[0m0.09745  \u001b[0m | \u001b[0m489.2    \u001b[0m |\n",
      "| \u001b[0m18       \u001b[0m | \u001b[0m-6.323   \u001b[0m | \u001b[0m0.09315  \u001b[0m | \u001b[0m77.22    \u001b[0m | \u001b[0m0.01959  \u001b[0m | \u001b[0m644.2    \u001b[0m |\n",
      "| \u001b[0m19       \u001b[0m | \u001b[0m-6.34    \u001b[0m | \u001b[0m0.02807  \u001b[0m | \u001b[0m31.21    \u001b[0m | \u001b[0m0.03123  \u001b[0m | \u001b[0m468.3    \u001b[0m |\n",
      "| \u001b[0m20       \u001b[0m | \u001b[0m-6.342   \u001b[0m | \u001b[0m0.02259  \u001b[0m | \u001b[0m30.7     \u001b[0m | \u001b[0m0.007229 \u001b[0m | \u001b[0m190.9    \u001b[0m |\n",
      "| \u001b[0m21       \u001b[0m | \u001b[0m-6.322   \u001b[0m | \u001b[0m0.01619  \u001b[0m | \u001b[0m38.03    \u001b[0m | \u001b[0m0.093    \u001b[0m | \u001b[0m937.6    \u001b[0m |\n",
      "| \u001b[0m22       \u001b[0m | \u001b[0m-6.333   \u001b[0m | \u001b[0m0.06689  \u001b[0m | \u001b[0m86.78    \u001b[0m | \u001b[0m0.07849  \u001b[0m | \u001b[0m573.0    \u001b[0m |\n",
      "| \u001b[0m23       \u001b[0m | \u001b[0m-6.33    \u001b[0m | \u001b[0m0.07043  \u001b[0m | \u001b[0m71.54    \u001b[0m | \u001b[0m0.06341  \u001b[0m | \u001b[0m106.8    \u001b[0m |\n",
      "| \u001b[0m24       \u001b[0m | \u001b[0m-6.327   \u001b[0m | \u001b[0m0.01029  \u001b[0m | \u001b[0m70.63    \u001b[0m | \u001b[0m0.09554  \u001b[0m | \u001b[0m169.6    \u001b[0m |\n",
      "| \u001b[0m25       \u001b[0m | \u001b[0m-6.34    \u001b[0m | \u001b[0m0.01274  \u001b[0m | \u001b[0m12.54    \u001b[0m | \u001b[0m0.03667  \u001b[0m | \u001b[0m356.5    \u001b[0m |\n",
      "| \u001b[0m26       \u001b[0m | \u001b[0m-6.333   \u001b[0m | \u001b[0m0.03904  \u001b[0m | \u001b[0m42.07    \u001b[0m | \u001b[0m0.02024  \u001b[0m | \u001b[0m321.3    \u001b[0m |\n",
      "| \u001b[0m27       \u001b[0m | \u001b[0m-6.324   \u001b[0m | \u001b[0m0.0982   \u001b[0m | \u001b[0m56.21    \u001b[0m | \u001b[0m0.06122  \u001b[0m | \u001b[0m841.4    \u001b[0m |\n",
      "| \u001b[95m28       \u001b[0m | \u001b[95m-6.309   \u001b[0m | \u001b[95m0.07867  \u001b[0m | \u001b[95m29.94    \u001b[0m | \u001b[95m0.03101  \u001b[0m | \u001b[95m776.8    \u001b[0m |\n",
      "| \u001b[0m29       \u001b[0m | \u001b[0m-6.335   \u001b[0m | \u001b[0m0.04483  \u001b[0m | \u001b[0m49.49    \u001b[0m | \u001b[0m0.01819  \u001b[0m | \u001b[0m895.8    \u001b[0m |\n",
      "| \u001b[0m30       \u001b[0m | \u001b[0m-6.323   \u001b[0m | \u001b[0m0.08401  \u001b[0m | \u001b[0m20.45    \u001b[0m | \u001b[0m0.001123 \u001b[0m | \u001b[0m167.2    \u001b[0m |\n",
      "| \u001b[0m31       \u001b[0m | \u001b[0m-6.324   \u001b[0m | \u001b[0m0.08722  \u001b[0m | \u001b[0m84.97    \u001b[0m | \u001b[0m0.03392  \u001b[0m | \u001b[0m245.2    \u001b[0m |\n",
      "| \u001b[0m32       \u001b[0m | \u001b[0m-6.319   \u001b[0m | \u001b[0m0.07743  \u001b[0m | \u001b[0m21.79    \u001b[0m | \u001b[0m0.01023  \u001b[0m | \u001b[0m954.7    \u001b[0m |\n",
      "| \u001b[0m33       \u001b[0m | \u001b[0m-6.331   \u001b[0m | \u001b[0m0.06404  \u001b[0m | \u001b[0m70.8     \u001b[0m | \u001b[0m0.06863  \u001b[0m | \u001b[0m279.7    \u001b[0m |\n",
      "| \u001b[0m34       \u001b[0m | \u001b[0m-6.324   \u001b[0m | \u001b[0m0.02117  \u001b[0m | \u001b[0m77.09    \u001b[0m | \u001b[0m0.03071  \u001b[0m | \u001b[0m479.9    \u001b[0m |\n",
      "| \u001b[0m35       \u001b[0m | \u001b[0m-6.335   \u001b[0m | \u001b[0m0.01277  \u001b[0m | \u001b[0m92.83    \u001b[0m | \u001b[0m0.01557  \u001b[0m | \u001b[0m604.1    \u001b[0m |\n",
      "| \u001b[0m36       \u001b[0m | \u001b[0m-6.329   \u001b[0m | \u001b[0m0.0168   \u001b[0m | \u001b[0m73.61    \u001b[0m | \u001b[0m0.07385  \u001b[0m | \u001b[0m451.5    \u001b[0m |\n",
      "| \u001b[95m37       \u001b[0m | \u001b[95m-6.308   \u001b[0m | \u001b[95m0.008318 \u001b[0m | \u001b[95m19.32    \u001b[0m | \u001b[95m0.09416  \u001b[0m | \u001b[95m640.2    \u001b[0m |\n",
      "| \u001b[0m38       \u001b[0m | \u001b[0m-6.334   \u001b[0m | \u001b[0m0.09735  \u001b[0m | \u001b[0m76.5     \u001b[0m | \u001b[0m0.004056 \u001b[0m | \u001b[0m213.7    \u001b[0m |\n",
      "| \u001b[0m39       \u001b[0m | \u001b[0m-6.341   \u001b[0m | \u001b[0m0.01777  \u001b[0m | \u001b[0m75.44    \u001b[0m | \u001b[0m0.007301 \u001b[0m | \u001b[0m432.1    \u001b[0m |\n",
      "| \u001b[0m40       \u001b[0m | \u001b[0m-6.322   \u001b[0m | \u001b[0m0.0443   \u001b[0m | \u001b[0m74.53    \u001b[0m | \u001b[0m0.03736  \u001b[0m | \u001b[0m109.7    \u001b[0m |\n",
      "| \u001b[0m41       \u001b[0m | \u001b[0m-6.334   \u001b[0m | \u001b[0m0.09073  \u001b[0m | \u001b[0m85.52    \u001b[0m | \u001b[0m0.04763  \u001b[0m | \u001b[0m307.2    \u001b[0m |\n",
      "| \u001b[0m42       \u001b[0m | \u001b[0m-6.314   \u001b[0m | \u001b[0m0.08698  \u001b[0m | \u001b[0m25.01    \u001b[0m | \u001b[0m0.07033  \u001b[0m | \u001b[0m298.5    \u001b[0m |\n",
      "| \u001b[0m43       \u001b[0m | \u001b[0m-6.32    \u001b[0m | \u001b[0m0.09126  \u001b[0m | \u001b[0m66.07    \u001b[0m | \u001b[0m0.08006  \u001b[0m | \u001b[0m650.7    \u001b[0m |\n",
      "| \u001b[0m44       \u001b[0m | \u001b[0m-6.332   \u001b[0m | \u001b[0m0.007127 \u001b[0m | \u001b[0m33.29    \u001b[0m | \u001b[0m0.02098  \u001b[0m | \u001b[0m104.4    \u001b[0m |\n",
      "| \u001b[0m45       \u001b[0m | \u001b[0m-6.327   \u001b[0m | \u001b[0m0.07772  \u001b[0m | \u001b[0m12.88    \u001b[0m | \u001b[0m0.08645  \u001b[0m | \u001b[0m305.0    \u001b[0m |\n",
      "| \u001b[0m46       \u001b[0m | \u001b[0m-6.326   \u001b[0m | \u001b[0m0.07015  \u001b[0m | \u001b[0m86.54    \u001b[0m | \u001b[0m0.03997  \u001b[0m | \u001b[0m963.6    \u001b[0m |\n",
      "| \u001b[0m47       \u001b[0m | \u001b[0m-6.327   \u001b[0m | \u001b[0m0.03764  \u001b[0m | \u001b[0m98.21    \u001b[0m | \u001b[0m0.02495  \u001b[0m | \u001b[0m768.2    \u001b[0m |\n",
      "| \u001b[0m48       \u001b[0m | \u001b[0m-6.328   \u001b[0m | \u001b[0m0.09511  \u001b[0m | \u001b[0m69.38    \u001b[0m | \u001b[0m0.02912  \u001b[0m | \u001b[0m813.7    \u001b[0m |\n",
      "| \u001b[0m49       \u001b[0m | \u001b[0m-6.312   \u001b[0m | \u001b[0m0.01725  \u001b[0m | \u001b[0m22.77    \u001b[0m | \u001b[0m0.09401  \u001b[0m | \u001b[0m176.6    \u001b[0m |\n",
      "| \u001b[0m50       \u001b[0m | \u001b[0m-6.347   \u001b[0m | \u001b[0m0.05588  \u001b[0m | \u001b[0m36.67    \u001b[0m | \u001b[0m0.01262  \u001b[0m | \u001b[0m541.9    \u001b[0m |\n",
      "=========================================================================\n"
     ]
    },
    {
     "data": {
      "text/html": [
       "<style>#sk-container-id-3 {color: black;background-color: white;}#sk-container-id-3 pre{padding: 0;}#sk-container-id-3 div.sk-toggleable {background-color: white;}#sk-container-id-3 label.sk-toggleable__label {cursor: pointer;display: block;width: 100%;margin-bottom: 0;padding: 0.3em;box-sizing: border-box;text-align: center;}#sk-container-id-3 label.sk-toggleable__label-arrow:before {content: \"▸\";float: left;margin-right: 0.25em;color: #696969;}#sk-container-id-3 label.sk-toggleable__label-arrow:hover:before {color: black;}#sk-container-id-3 div.sk-estimator:hover label.sk-toggleable__label-arrow:before {color: black;}#sk-container-id-3 div.sk-toggleable__content {max-height: 0;max-width: 0;overflow: hidden;text-align: left;background-color: #f0f8ff;}#sk-container-id-3 div.sk-toggleable__content pre {margin: 0.2em;color: black;border-radius: 0.25em;background-color: #f0f8ff;}#sk-container-id-3 input.sk-toggleable__control:checked~div.sk-toggleable__content {max-height: 200px;max-width: 100%;overflow: auto;}#sk-container-id-3 input.sk-toggleable__control:checked~label.sk-toggleable__label-arrow:before {content: \"▾\";}#sk-container-id-3 div.sk-estimator input.sk-toggleable__control:checked~label.sk-toggleable__label {background-color: #d4ebff;}#sk-container-id-3 div.sk-label input.sk-toggleable__control:checked~label.sk-toggleable__label {background-color: #d4ebff;}#sk-container-id-3 input.sk-hidden--visually {border: 0;clip: rect(1px 1px 1px 1px);clip: rect(1px, 1px, 1px, 1px);height: 1px;margin: -1px;overflow: hidden;padding: 0;position: absolute;width: 1px;}#sk-container-id-3 div.sk-estimator {font-family: monospace;background-color: #f0f8ff;border: 1px dotted black;border-radius: 0.25em;box-sizing: border-box;margin-bottom: 0.5em;}#sk-container-id-3 div.sk-estimator:hover {background-color: #d4ebff;}#sk-container-id-3 div.sk-parallel-item::after {content: \"\";width: 100%;border-bottom: 1px solid gray;flex-grow: 1;}#sk-container-id-3 div.sk-label:hover label.sk-toggleable__label {background-color: #d4ebff;}#sk-container-id-3 div.sk-serial::before {content: \"\";position: absolute;border-left: 1px solid gray;box-sizing: border-box;top: 0;bottom: 0;left: 50%;z-index: 0;}#sk-container-id-3 div.sk-serial {display: flex;flex-direction: column;align-items: center;background-color: white;padding-right: 0.2em;padding-left: 0.2em;position: relative;}#sk-container-id-3 div.sk-item {position: relative;z-index: 1;}#sk-container-id-3 div.sk-parallel {display: flex;align-items: stretch;justify-content: center;background-color: white;position: relative;}#sk-container-id-3 div.sk-item::before, #sk-container-id-3 div.sk-parallel-item::before {content: \"\";position: absolute;border-left: 1px solid gray;box-sizing: border-box;top: 0;bottom: 0;left: 50%;z-index: -1;}#sk-container-id-3 div.sk-parallel-item {display: flex;flex-direction: column;z-index: 1;position: relative;background-color: white;}#sk-container-id-3 div.sk-parallel-item:first-child::after {align-self: flex-end;width: 50%;}#sk-container-id-3 div.sk-parallel-item:last-child::after {align-self: flex-start;width: 50%;}#sk-container-id-3 div.sk-parallel-item:only-child::after {width: 0;}#sk-container-id-3 div.sk-dashed-wrapped {border: 1px dashed gray;margin: 0 0.4em 0.5em 0.4em;box-sizing: border-box;padding-bottom: 0.4em;background-color: white;}#sk-container-id-3 div.sk-label label {font-family: monospace;font-weight: bold;display: inline-block;line-height: 1.2em;}#sk-container-id-3 div.sk-label-container {text-align: center;}#sk-container-id-3 div.sk-container {/* jupyter's `normalize.less` sets `[hidden] { display: none; }` but bootstrap.min.css set `[hidden] { display: none !important; }` so we also need the `!important` here to be able to override the default hidden behavior on the sphinx rendered scikit-learn.org. See: https://github.com/scikit-learn/scikit-learn/issues/21755 */display: inline-block !important;position: relative;}#sk-container-id-3 div.sk-text-repr-fallback {display: none;}</style><div id=\"sk-container-id-3\" class=\"sk-top-container\"><div class=\"sk-text-repr-fallback\"><pre>MLPRegressor(alpha=0.008318052675039267, hidden_layer_sizes=(19,),\n",
       "             learning_rate_init=0.09415862529442638, max_iter=640)</pre><b>In a Jupyter environment, please rerun this cell to show the HTML representation or trust the notebook. <br />On GitHub, the HTML representation is unable to render, please try loading this page with nbviewer.org.</b></div><div class=\"sk-container\" hidden><div class=\"sk-item\"><div class=\"sk-estimator sk-toggleable\"><input class=\"sk-toggleable__control sk-hidden--visually\" id=\"sk-estimator-id-3\" type=\"checkbox\" checked><label for=\"sk-estimator-id-3\" class=\"sk-toggleable__label sk-toggleable__label-arrow\">MLPRegressor</label><div class=\"sk-toggleable__content\"><pre>MLPRegressor(alpha=0.008318052675039267, hidden_layer_sizes=(19,),\n",
       "             learning_rate_init=0.09415862529442638, max_iter=640)</pre></div></div></div></div></div>"
      ],
      "text/plain": [
       "MLPRegressor(alpha=0.008318052675039267, hidden_layer_sizes=(19,),\n",
       "             learning_rate_init=0.09415862529442638, max_iter=640)"
      ]
     },
     "execution_count": 11,
     "metadata": {},
     "output_type": "execute_result"
    }
   ],
   "source": [
    "def bo_params_generic(model, params, X_train, y_train):\n",
    "    # Create the model instance with the specified parameters\n",
    "    regressor = model(**params)\n",
    "    \n",
    "    # Calculating rmse based on\n",
    "    scores = cross_val_score(regressor, X_train, y_train, cv=10, scoring='neg_root_mean_squared_error')\n",
    "    return scores.mean()\n",
    "\n",
    "params_ranges = {\n",
    "    'hidden_layer_sizes': (10, 100),\n",
    "    'alpha': (0.0001, 0.1),\n",
    "    'learning_rate_init': (0.001, 0.1),\n",
    "    'max_iter': (100, 1000)\n",
    "}\n",
    "\n",
    "# Example usage with Neural Network\n",
    "model = MLPRegressor\n",
    "model_bo = BayesianOptimization(f=lambda hidden_layer_sizes, alpha, learning_rate_init, max_iter:\n",
    "                                    bo_params_generic(model, {\n",
    "                                        'hidden_layer_sizes': (int(round(hidden_layer_sizes)),),\n",
    "                                        'alpha': alpha,\n",
    "                                        'learning_rate_init': learning_rate_init,\n",
    "                                        'max_iter': int(round(max_iter))\n",
    "                                    }, X_train[best_features_nn], y_train),\n",
    "                             pbounds=params_ranges)\n",
    "\n",
    "results = model_bo.maximize(n_iter=40, init_points=10)\n",
    "params = model_bo.max['params']\n",
    "\n",
    "# Creating a model with the best hyperparameters\n",
    "best_model_nn = model(\n",
    "    hidden_layer_sizes=(int(round(params['hidden_layer_sizes'])),),\n",
    "    alpha=params['alpha'],\n",
    "    learning_rate_init=params['learning_rate_init'],\n",
    "    max_iter=int(round(params['max_iter']))\n",
    ")\n",
    "\n",
    "# Fit the model\n",
    "best_model_nn.fit(X_train[best_features_nn], y_train)"
   ]
  },
  {
   "attachments": {},
   "cell_type": "markdown",
   "metadata": {},
   "source": [
    "# plotting the bar chart"
   ]
  },
  {
   "attachments": {},
   "cell_type": "markdown",
   "metadata": {},
   "source": [
    "**using train dataset**"
   ]
  },
  {
   "cell_type": "code",
   "execution_count": 12,
   "metadata": {},
   "outputs": [
    {
     "data": {
      "text/plain": [
       "[{'model': 'Multiple Linear Regression',\n",
       "  'mae': 4.271132898632918,\n",
       "  'mse': 39.92912894295568,\n",
       "  'rmse': 6.318949987375725,\n",
       "  'r2': 0.012762824657256755,\n",
       "  'adj_r2': -0.06162533710161511},\n",
       " {'model': 'Random Forest',\n",
       "  'mae': 4.322654777866058,\n",
       "  'mse': 40.11135702458488,\n",
       "  'rmse': 6.333352747525191,\n",
       "  'r2': 0.008257283431131857,\n",
       "  'adj_r2': -0.06647037013164603},\n",
       " {'model': 'Neural Network',\n",
       "  'mae': 4.260345979475965,\n",
       "  'mse': 40.24957054897028,\n",
       "  'rmse': 6.344254924651931,\n",
       "  'r2': 0.0048399905168952095,\n",
       "  'adj_r2': -0.07014515551520084},\n",
       " {'model': 'Support Vector Machine',\n",
       "  'mae': 4.225914993743921,\n",
       "  'mse': 40.14149887176524,\n",
       "  'rmse': 6.335731912870465,\n",
       "  'r2': 0.007512034214389174,\n",
       "  'adj_r2': -0.06727177375653937}]"
      ]
     },
     "execution_count": 12,
     "metadata": {},
     "output_type": "execute_result"
    }
   ],
   "source": [
    "regression_models = [\n",
    "    {\n",
    "        'name': 'Multiple Linear Regression',\n",
    "        'model': best_model_mlr,\n",
    "        'features': best_features_mlr\n",
    "    },\n",
    "    {\n",
    "        'name': 'Random Forest',\n",
    "        'model': best_model_rf,\n",
    "        'features': best_features_rf\n",
    "    },\n",
    "    {\n",
    "        'name': 'Neural Network',\n",
    "        'model': best_model_nn,\n",
    "        'features': best_features_nn\n",
    "    },\n",
    "    {\n",
    "        'name': 'Support Vector Machine',\n",
    "        'model': best_model_svm,\n",
    "        'features': best_features_svm\n",
    "    }\n",
    "]\n",
    "\n",
    "regression_stats_val = []\n",
    "\n",
    "for model in regression_models:\n",
    "    try:\n",
    "        # Perform cross-validation and calculate predictions and metrics\n",
    "        y_pred = cross_val_predict(model['model'], X_train[model['features']], y_train, cv=10)\n",
    "        y_true = y_train\n",
    "    except: # cv can't be higher then n_splits in the dt\n",
    "        # Perform cross-validation and calculate predictions and metrics\n",
    "        y_pred = cross_val_predict(model['model'], X_train[model['features']], y_train, cv=5)\n",
    "        y_true = y_train\n",
    "\n",
    "    # R2 Score\n",
    "    r2 = r2_score(y_true, y_pred)\n",
    "\n",
    "    # Adjusted R2 Score\n",
    "    n = len(y_true)  # Number of samples\n",
    "    p = X_test.shape[1]  # Number of predictors (features) in X\n",
    "    adj_r2 = 1 - ((1 - r2) * (n - 1)) / (n - p - 1)\n",
    "\n",
    "    # Save stats\n",
    "    regression_stats_val.append(\n",
    "        {\n",
    "            'model': model['name'],\n",
    "            'mae': mean_absolute_error(y_true, y_pred),\n",
    "            'mse': mean_squared_error(y_true, y_pred),\n",
    "            'rmse': np.sqrt(mean_squared_error(y_true, y_pred)),\n",
    "            'r2': r2,\n",
    "            'adj_r2': adj_r2\n",
    "        }\n",
    "    )\n",
    "\n",
    "# View stats\n",
    "regression_stats_val"
   ]
  },
  {
   "cell_type": "code",
   "execution_count": 13,
   "metadata": {},
   "outputs": [
    {
     "data": {
      "application/vnd.plotly.v1+json": {
       "config": {
        "plotlyServerURL": "https://plot.ly"
       },
       "data": [
        {
         "name": "mae",
         "text": [
          "4.271132898632918",
          "4.322654777866058",
          "4.260345979475965",
          "4.225914993743921"
         ],
         "textposition": "auto",
         "type": "bar",
         "x": [
          "Multiple Linear Regression",
          "Random Forest",
          "Neural Network",
          "Support Vector Machine"
         ],
         "y": [
          4.271132898632918,
          4.322654777866058,
          4.260345979475965,
          4.225914993743921
         ]
        },
        {
         "name": "mse",
         "text": [
          "39.92912894295568",
          "40.11135702458488",
          "40.24957054897028",
          "40.14149887176524"
         ],
         "textposition": "auto",
         "type": "bar",
         "x": [
          "Multiple Linear Regression",
          "Random Forest",
          "Neural Network",
          "Support Vector Machine"
         ],
         "y": [
          39.92912894295568,
          40.11135702458488,
          40.24957054897028,
          40.14149887176524
         ]
        },
        {
         "name": "rmse",
         "text": [
          "6.318949987375725",
          "6.333352747525191",
          "6.344254924651931",
          "6.335731912870465"
         ],
         "textposition": "auto",
         "type": "bar",
         "x": [
          "Multiple Linear Regression",
          "Random Forest",
          "Neural Network",
          "Support Vector Machine"
         ],
         "y": [
          6.318949987375725,
          6.333352747525191,
          6.344254924651931,
          6.335731912870465
         ]
        },
        {
         "name": "r2",
         "text": [
          "0.012762824657256755",
          "0.008257283431131857",
          "0.0048399905168952095",
          "0.007512034214389174"
         ],
         "textposition": "auto",
         "type": "bar",
         "x": [
          "Multiple Linear Regression",
          "Random Forest",
          "Neural Network",
          "Support Vector Machine"
         ],
         "y": [
          0.012762824657256755,
          0.008257283431131857,
          0.0048399905168952095,
          0.007512034214389174
         ]
        },
        {
         "name": "adj_r2",
         "text": [
          "-0.06162533710161511",
          "-0.06647037013164603",
          "-0.07014515551520084",
          "-0.06727177375653937"
         ],
         "textposition": "auto",
         "type": "bar",
         "x": [
          "Multiple Linear Regression",
          "Random Forest",
          "Neural Network",
          "Support Vector Machine"
         ],
         "y": [
          -0.06162533710161511,
          -0.06647037013164603,
          -0.07014515551520084,
          -0.06727177375653937
         ]
        }
       ],
       "layout": {
        "barmode": "group",
        "template": {
         "data": {
          "bar": [
           {
            "error_x": {
             "color": "#2a3f5f"
            },
            "error_y": {
             "color": "#2a3f5f"
            },
            "marker": {
             "line": {
              "color": "#E5ECF6",
              "width": 0.5
             },
             "pattern": {
              "fillmode": "overlay",
              "size": 10,
              "solidity": 0.2
             }
            },
            "type": "bar"
           }
          ],
          "barpolar": [
           {
            "marker": {
             "line": {
              "color": "#E5ECF6",
              "width": 0.5
             },
             "pattern": {
              "fillmode": "overlay",
              "size": 10,
              "solidity": 0.2
             }
            },
            "type": "barpolar"
           }
          ],
          "carpet": [
           {
            "aaxis": {
             "endlinecolor": "#2a3f5f",
             "gridcolor": "white",
             "linecolor": "white",
             "minorgridcolor": "white",
             "startlinecolor": "#2a3f5f"
            },
            "baxis": {
             "endlinecolor": "#2a3f5f",
             "gridcolor": "white",
             "linecolor": "white",
             "minorgridcolor": "white",
             "startlinecolor": "#2a3f5f"
            },
            "type": "carpet"
           }
          ],
          "choropleth": [
           {
            "colorbar": {
             "outlinewidth": 0,
             "ticks": ""
            },
            "type": "choropleth"
           }
          ],
          "contour": [
           {
            "colorbar": {
             "outlinewidth": 0,
             "ticks": ""
            },
            "colorscale": [
             [
              0,
              "#0d0887"
             ],
             [
              0.1111111111111111,
              "#46039f"
             ],
             [
              0.2222222222222222,
              "#7201a8"
             ],
             [
              0.3333333333333333,
              "#9c179e"
             ],
             [
              0.4444444444444444,
              "#bd3786"
             ],
             [
              0.5555555555555556,
              "#d8576b"
             ],
             [
              0.6666666666666666,
              "#ed7953"
             ],
             [
              0.7777777777777778,
              "#fb9f3a"
             ],
             [
              0.8888888888888888,
              "#fdca26"
             ],
             [
              1,
              "#f0f921"
             ]
            ],
            "type": "contour"
           }
          ],
          "contourcarpet": [
           {
            "colorbar": {
             "outlinewidth": 0,
             "ticks": ""
            },
            "type": "contourcarpet"
           }
          ],
          "heatmap": [
           {
            "colorbar": {
             "outlinewidth": 0,
             "ticks": ""
            },
            "colorscale": [
             [
              0,
              "#0d0887"
             ],
             [
              0.1111111111111111,
              "#46039f"
             ],
             [
              0.2222222222222222,
              "#7201a8"
             ],
             [
              0.3333333333333333,
              "#9c179e"
             ],
             [
              0.4444444444444444,
              "#bd3786"
             ],
             [
              0.5555555555555556,
              "#d8576b"
             ],
             [
              0.6666666666666666,
              "#ed7953"
             ],
             [
              0.7777777777777778,
              "#fb9f3a"
             ],
             [
              0.8888888888888888,
              "#fdca26"
             ],
             [
              1,
              "#f0f921"
             ]
            ],
            "type": "heatmap"
           }
          ],
          "heatmapgl": [
           {
            "colorbar": {
             "outlinewidth": 0,
             "ticks": ""
            },
            "colorscale": [
             [
              0,
              "#0d0887"
             ],
             [
              0.1111111111111111,
              "#46039f"
             ],
             [
              0.2222222222222222,
              "#7201a8"
             ],
             [
              0.3333333333333333,
              "#9c179e"
             ],
             [
              0.4444444444444444,
              "#bd3786"
             ],
             [
              0.5555555555555556,
              "#d8576b"
             ],
             [
              0.6666666666666666,
              "#ed7953"
             ],
             [
              0.7777777777777778,
              "#fb9f3a"
             ],
             [
              0.8888888888888888,
              "#fdca26"
             ],
             [
              1,
              "#f0f921"
             ]
            ],
            "type": "heatmapgl"
           }
          ],
          "histogram": [
           {
            "marker": {
             "pattern": {
              "fillmode": "overlay",
              "size": 10,
              "solidity": 0.2
             }
            },
            "type": "histogram"
           }
          ],
          "histogram2d": [
           {
            "colorbar": {
             "outlinewidth": 0,
             "ticks": ""
            },
            "colorscale": [
             [
              0,
              "#0d0887"
             ],
             [
              0.1111111111111111,
              "#46039f"
             ],
             [
              0.2222222222222222,
              "#7201a8"
             ],
             [
              0.3333333333333333,
              "#9c179e"
             ],
             [
              0.4444444444444444,
              "#bd3786"
             ],
             [
              0.5555555555555556,
              "#d8576b"
             ],
             [
              0.6666666666666666,
              "#ed7953"
             ],
             [
              0.7777777777777778,
              "#fb9f3a"
             ],
             [
              0.8888888888888888,
              "#fdca26"
             ],
             [
              1,
              "#f0f921"
             ]
            ],
            "type": "histogram2d"
           }
          ],
          "histogram2dcontour": [
           {
            "colorbar": {
             "outlinewidth": 0,
             "ticks": ""
            },
            "colorscale": [
             [
              0,
              "#0d0887"
             ],
             [
              0.1111111111111111,
              "#46039f"
             ],
             [
              0.2222222222222222,
              "#7201a8"
             ],
             [
              0.3333333333333333,
              "#9c179e"
             ],
             [
              0.4444444444444444,
              "#bd3786"
             ],
             [
              0.5555555555555556,
              "#d8576b"
             ],
             [
              0.6666666666666666,
              "#ed7953"
             ],
             [
              0.7777777777777778,
              "#fb9f3a"
             ],
             [
              0.8888888888888888,
              "#fdca26"
             ],
             [
              1,
              "#f0f921"
             ]
            ],
            "type": "histogram2dcontour"
           }
          ],
          "mesh3d": [
           {
            "colorbar": {
             "outlinewidth": 0,
             "ticks": ""
            },
            "type": "mesh3d"
           }
          ],
          "parcoords": [
           {
            "line": {
             "colorbar": {
              "outlinewidth": 0,
              "ticks": ""
             }
            },
            "type": "parcoords"
           }
          ],
          "pie": [
           {
            "automargin": true,
            "type": "pie"
           }
          ],
          "scatter": [
           {
            "fillpattern": {
             "fillmode": "overlay",
             "size": 10,
             "solidity": 0.2
            },
            "type": "scatter"
           }
          ],
          "scatter3d": [
           {
            "line": {
             "colorbar": {
              "outlinewidth": 0,
              "ticks": ""
             }
            },
            "marker": {
             "colorbar": {
              "outlinewidth": 0,
              "ticks": ""
             }
            },
            "type": "scatter3d"
           }
          ],
          "scattercarpet": [
           {
            "marker": {
             "colorbar": {
              "outlinewidth": 0,
              "ticks": ""
             }
            },
            "type": "scattercarpet"
           }
          ],
          "scattergeo": [
           {
            "marker": {
             "colorbar": {
              "outlinewidth": 0,
              "ticks": ""
             }
            },
            "type": "scattergeo"
           }
          ],
          "scattergl": [
           {
            "marker": {
             "colorbar": {
              "outlinewidth": 0,
              "ticks": ""
             }
            },
            "type": "scattergl"
           }
          ],
          "scattermapbox": [
           {
            "marker": {
             "colorbar": {
              "outlinewidth": 0,
              "ticks": ""
             }
            },
            "type": "scattermapbox"
           }
          ],
          "scatterpolar": [
           {
            "marker": {
             "colorbar": {
              "outlinewidth": 0,
              "ticks": ""
             }
            },
            "type": "scatterpolar"
           }
          ],
          "scatterpolargl": [
           {
            "marker": {
             "colorbar": {
              "outlinewidth": 0,
              "ticks": ""
             }
            },
            "type": "scatterpolargl"
           }
          ],
          "scatterternary": [
           {
            "marker": {
             "colorbar": {
              "outlinewidth": 0,
              "ticks": ""
             }
            },
            "type": "scatterternary"
           }
          ],
          "surface": [
           {
            "colorbar": {
             "outlinewidth": 0,
             "ticks": ""
            },
            "colorscale": [
             [
              0,
              "#0d0887"
             ],
             [
              0.1111111111111111,
              "#46039f"
             ],
             [
              0.2222222222222222,
              "#7201a8"
             ],
             [
              0.3333333333333333,
              "#9c179e"
             ],
             [
              0.4444444444444444,
              "#bd3786"
             ],
             [
              0.5555555555555556,
              "#d8576b"
             ],
             [
              0.6666666666666666,
              "#ed7953"
             ],
             [
              0.7777777777777778,
              "#fb9f3a"
             ],
             [
              0.8888888888888888,
              "#fdca26"
             ],
             [
              1,
              "#f0f921"
             ]
            ],
            "type": "surface"
           }
          ],
          "table": [
           {
            "cells": {
             "fill": {
              "color": "#EBF0F8"
             },
             "line": {
              "color": "white"
             }
            },
            "header": {
             "fill": {
              "color": "#C8D4E3"
             },
             "line": {
              "color": "white"
             }
            },
            "type": "table"
           }
          ]
         },
         "layout": {
          "annotationdefaults": {
           "arrowcolor": "#2a3f5f",
           "arrowhead": 0,
           "arrowwidth": 1
          },
          "autotypenumbers": "strict",
          "coloraxis": {
           "colorbar": {
            "outlinewidth": 0,
            "ticks": ""
           }
          },
          "colorscale": {
           "diverging": [
            [
             0,
             "#8e0152"
            ],
            [
             0.1,
             "#c51b7d"
            ],
            [
             0.2,
             "#de77ae"
            ],
            [
             0.3,
             "#f1b6da"
            ],
            [
             0.4,
             "#fde0ef"
            ],
            [
             0.5,
             "#f7f7f7"
            ],
            [
             0.6,
             "#e6f5d0"
            ],
            [
             0.7,
             "#b8e186"
            ],
            [
             0.8,
             "#7fbc41"
            ],
            [
             0.9,
             "#4d9221"
            ],
            [
             1,
             "#276419"
            ]
           ],
           "sequential": [
            [
             0,
             "#0d0887"
            ],
            [
             0.1111111111111111,
             "#46039f"
            ],
            [
             0.2222222222222222,
             "#7201a8"
            ],
            [
             0.3333333333333333,
             "#9c179e"
            ],
            [
             0.4444444444444444,
             "#bd3786"
            ],
            [
             0.5555555555555556,
             "#d8576b"
            ],
            [
             0.6666666666666666,
             "#ed7953"
            ],
            [
             0.7777777777777778,
             "#fb9f3a"
            ],
            [
             0.8888888888888888,
             "#fdca26"
            ],
            [
             1,
             "#f0f921"
            ]
           ],
           "sequentialminus": [
            [
             0,
             "#0d0887"
            ],
            [
             0.1111111111111111,
             "#46039f"
            ],
            [
             0.2222222222222222,
             "#7201a8"
            ],
            [
             0.3333333333333333,
             "#9c179e"
            ],
            [
             0.4444444444444444,
             "#bd3786"
            ],
            [
             0.5555555555555556,
             "#d8576b"
            ],
            [
             0.6666666666666666,
             "#ed7953"
            ],
            [
             0.7777777777777778,
             "#fb9f3a"
            ],
            [
             0.8888888888888888,
             "#fdca26"
            ],
            [
             1,
             "#f0f921"
            ]
           ]
          },
          "colorway": [
           "#636efa",
           "#EF553B",
           "#00cc96",
           "#ab63fa",
           "#FFA15A",
           "#19d3f3",
           "#FF6692",
           "#B6E880",
           "#FF97FF",
           "#FECB52"
          ],
          "font": {
           "color": "#2a3f5f"
          },
          "geo": {
           "bgcolor": "white",
           "lakecolor": "white",
           "landcolor": "#E5ECF6",
           "showlakes": true,
           "showland": true,
           "subunitcolor": "white"
          },
          "hoverlabel": {
           "align": "left"
          },
          "hovermode": "closest",
          "mapbox": {
           "style": "light"
          },
          "paper_bgcolor": "white",
          "plot_bgcolor": "#E5ECF6",
          "polar": {
           "angularaxis": {
            "gridcolor": "white",
            "linecolor": "white",
            "ticks": ""
           },
           "bgcolor": "#E5ECF6",
           "radialaxis": {
            "gridcolor": "white",
            "linecolor": "white",
            "ticks": ""
           }
          },
          "scene": {
           "xaxis": {
            "backgroundcolor": "#E5ECF6",
            "gridcolor": "white",
            "gridwidth": 2,
            "linecolor": "white",
            "showbackground": true,
            "ticks": "",
            "zerolinecolor": "white"
           },
           "yaxis": {
            "backgroundcolor": "#E5ECF6",
            "gridcolor": "white",
            "gridwidth": 2,
            "linecolor": "white",
            "showbackground": true,
            "ticks": "",
            "zerolinecolor": "white"
           },
           "zaxis": {
            "backgroundcolor": "#E5ECF6",
            "gridcolor": "white",
            "gridwidth": 2,
            "linecolor": "white",
            "showbackground": true,
            "ticks": "",
            "zerolinecolor": "white"
           }
          },
          "shapedefaults": {
           "line": {
            "color": "#2a3f5f"
           }
          },
          "ternary": {
           "aaxis": {
            "gridcolor": "white",
            "linecolor": "white",
            "ticks": ""
           },
           "baxis": {
            "gridcolor": "white",
            "linecolor": "white",
            "ticks": ""
           },
           "bgcolor": "#E5ECF6",
           "caxis": {
            "gridcolor": "white",
            "linecolor": "white",
            "ticks": ""
           }
          },
          "title": {
           "x": 0.05
          },
          "xaxis": {
           "automargin": true,
           "gridcolor": "white",
           "linecolor": "white",
           "ticks": "",
           "title": {
            "standoff": 15
           },
           "zerolinecolor": "white",
           "zerolinewidth": 2
          },
          "yaxis": {
           "automargin": true,
           "gridcolor": "white",
           "linecolor": "white",
           "ticks": "",
           "title": {
            "standoff": 15
           },
           "zerolinecolor": "white",
           "zerolinewidth": 2
          }
         }
        },
        "title": {
         "text": "Evaluation Metrics Comparison"
        },
        "xaxis": {
         "title": {
          "text": "Models"
         }
        },
        "yaxis": {
         "title": {
          "text": "Scores"
         }
        }
       }
      }
     },
     "metadata": {},
     "output_type": "display_data"
    }
   ],
   "source": [
    "# Extracting model names and metric scores\n",
    "model_names = [d['model'] for d in regression_stats_val]\n",
    "metric_labels = list(regression_stats_val[0].keys())[1:]\n",
    "metric_scores = {metric: [d[metric] for d in regression_stats_val] for metric in metric_labels}\n",
    "\n",
    "# Plotting the bar chart\n",
    "fig = go.Figure()\n",
    "\n",
    "for metric in metric_labels:\n",
    "    fig.add_trace(go.Bar(\n",
    "        x=model_names,\n",
    "        y=metric_scores[metric],\n",
    "        text=metric_scores[metric],  # Display the values on the bars\n",
    "        textposition='auto',  # Position the text inside the bars\n",
    "        name=metric\n",
    "    ))\n",
    "\n",
    "# Updating the layout\n",
    "fig.update_layout(\n",
    "    title='Evaluation Metrics Comparison',\n",
    "    xaxis_title='Models',\n",
    "    yaxis_title='Scores',\n",
    "    barmode='group'\n",
    ")\n",
    "\n",
    "# Display the plot\n",
    "fig.show()"
   ]
  },
  {
   "attachments": {},
   "cell_type": "markdown",
   "metadata": {},
   "source": [
    "**Evaluating on test data**"
   ]
  },
  {
   "cell_type": "code",
   "execution_count": 14,
   "metadata": {},
   "outputs": [
    {
     "data": {
      "text/plain": [
       "[{'model': 'Multiple Linear Regression',\n",
       "  'mae': 3.97781567679382,\n",
       "  'mse': 34.18902499117986,\n",
       "  'rmse': 5.84713818813784,\n",
       "  'r2': -0.013434883588436142,\n",
       "  'adj_r2': -0.40754844942838364},\n",
       " {'model': 'Random Forest',\n",
       "  'mae': 3.9341030694094976,\n",
       "  'mse': 33.660782863811036,\n",
       "  'rmse': 5.801791349558431,\n",
       "  'r2': 0.002223328337602859,\n",
       "  'adj_r2': -0.3858009328644405},\n",
       " {'model': 'Neural Network',\n",
       "  'mae': 3.8927329889485485,\n",
       "  'mse': 33.23141476486775,\n",
       "  'rmse': 5.764669527810571,\n",
       "  'r2': 0.014950705309641044,\n",
       "  'adj_r2': -0.3681240204032763},\n",
       " {'model': 'Support Vector Machine',\n",
       "  'mae': 3.8623681616949863,\n",
       "  'mse': 33.26738144798301,\n",
       "  'rmse': 5.7677882631025055,\n",
       "  'r2': 0.013884576886107891,\n",
       "  'adj_r2': -0.3696047543248502}]"
      ]
     },
     "execution_count": 14,
     "metadata": {},
     "output_type": "execute_result"
    }
   ],
   "source": [
    "regression_models = [\n",
    "    {\n",
    "        'name': 'Multiple Linear Regression',\n",
    "        'model': best_model_mlr,\n",
    "        'features': best_features_mlr\n",
    "    },\n",
    "    {\n",
    "        'name': 'Random Forest',\n",
    "        'model': best_model_rf,\n",
    "        'features': best_features_rf\n",
    "    },\n",
    "    {\n",
    "        'name': 'Neural Network',\n",
    "        'model': best_model_nn,\n",
    "        'features': best_features_nn\n",
    "    },\n",
    "    {\n",
    "        'name': 'Support Vector Machine',\n",
    "        'model': best_model_svm,\n",
    "        'features': best_features_svm\n",
    "    }\n",
    "]\n",
    "\n",
    "regression_stats_test = []\n",
    "\n",
    "for model in regression_models:\n",
    "    # Make predictions on the test set\n",
    "    y_pred = model['model'].predict(X_test[model['features']])\n",
    "\n",
    "    # Defining Actual values\n",
    "    y_true = y_test.copy()\n",
    "\n",
    "    # R2 Score\n",
    "    r2 = r2_score(y_true, y_pred)\n",
    "\n",
    "    # Adjusted R2 Score\n",
    "    n = len(y_true)  # Number of samples\n",
    "    p = X_test.shape[1]  # Number of predictors (features) in X\n",
    "    adj_r2 = 1 - ((1 - r2) * (n - 1)) / (n - p - 1)\n",
    "\n",
    "    # Save stats\n",
    "    regression_stats_test.append(\n",
    "        {\n",
    "            'model': model['name'],\n",
    "            'mae': mean_absolute_error(y_true, y_pred),\n",
    "            'mse': mean_squared_error(y_true, y_pred),\n",
    "            'rmse': np.sqrt(mean_squared_error(y_true, y_pred)),\n",
    "            'r2': r2,\n",
    "            'adj_r2': adj_r2\n",
    "        }\n",
    "    )\n",
    "\n",
    "# View stats\n",
    "regression_stats_test"
   ]
  },
  {
   "cell_type": "code",
   "execution_count": 18,
   "metadata": {},
   "outputs": [
    {
     "data": {
      "application/vnd.plotly.v1+json": {
       "config": {
        "plotlyServerURL": "https://plot.ly"
       },
       "data": [
        {
         "name": "mae",
         "text": [
          "3.97781567679382",
          "3.9341030694094976",
          "3.8927329889485485",
          "3.8623681616949863"
         ],
         "textposition": "auto",
         "type": "bar",
         "x": [
          "Multiple Linear Regression",
          "Random Forest",
          "Neural Network",
          "Support Vector Machine"
         ],
         "y": [
          3.97781567679382,
          3.9341030694094976,
          3.8927329889485485,
          3.8623681616949863
         ]
        },
        {
         "name": "mse",
         "text": [
          "34.18902499117986",
          "33.660782863811036",
          "33.23141476486775",
          "33.26738144798301"
         ],
         "textposition": "auto",
         "type": "bar",
         "x": [
          "Multiple Linear Regression",
          "Random Forest",
          "Neural Network",
          "Support Vector Machine"
         ],
         "y": [
          34.18902499117986,
          33.660782863811036,
          33.23141476486775,
          33.26738144798301
         ]
        },
        {
         "name": "rmse",
         "text": [
          "5.84713818813784",
          "5.801791349558431",
          "5.764669527810571",
          "5.7677882631025055"
         ],
         "textposition": "auto",
         "type": "bar",
         "x": [
          "Multiple Linear Regression",
          "Random Forest",
          "Neural Network",
          "Support Vector Machine"
         ],
         "y": [
          5.84713818813784,
          5.801791349558431,
          5.764669527810571,
          5.7677882631025055
         ]
        },
        {
         "name": "r2",
         "text": [
          "-0.013434883588436142",
          "0.002223328337602859",
          "0.014950705309641044",
          "0.013884576886107891"
         ],
         "textposition": "auto",
         "type": "bar",
         "x": [
          "Multiple Linear Regression",
          "Random Forest",
          "Neural Network",
          "Support Vector Machine"
         ],
         "y": [
          -0.013434883588436142,
          0.002223328337602859,
          0.014950705309641044,
          0.013884576886107891
         ]
        },
        {
         "name": "adj_r2",
         "text": [
          "-0.40754844942838364",
          "-0.3858009328644405",
          "-0.3681240204032763",
          "-0.3696047543248502"
         ],
         "textposition": "auto",
         "type": "bar",
         "x": [
          "Multiple Linear Regression",
          "Random Forest",
          "Neural Network",
          "Support Vector Machine"
         ],
         "y": [
          -0.40754844942838364,
          -0.3858009328644405,
          -0.3681240204032763,
          -0.3696047543248502
         ]
        }
       ],
       "layout": {
        "barmode": "group",
        "template": {
         "data": {
          "bar": [
           {
            "error_x": {
             "color": "#2a3f5f"
            },
            "error_y": {
             "color": "#2a3f5f"
            },
            "marker": {
             "line": {
              "color": "#E5ECF6",
              "width": 0.5
             },
             "pattern": {
              "fillmode": "overlay",
              "size": 10,
              "solidity": 0.2
             }
            },
            "type": "bar"
           }
          ],
          "barpolar": [
           {
            "marker": {
             "line": {
              "color": "#E5ECF6",
              "width": 0.5
             },
             "pattern": {
              "fillmode": "overlay",
              "size": 10,
              "solidity": 0.2
             }
            },
            "type": "barpolar"
           }
          ],
          "carpet": [
           {
            "aaxis": {
             "endlinecolor": "#2a3f5f",
             "gridcolor": "white",
             "linecolor": "white",
             "minorgridcolor": "white",
             "startlinecolor": "#2a3f5f"
            },
            "baxis": {
             "endlinecolor": "#2a3f5f",
             "gridcolor": "white",
             "linecolor": "white",
             "minorgridcolor": "white",
             "startlinecolor": "#2a3f5f"
            },
            "type": "carpet"
           }
          ],
          "choropleth": [
           {
            "colorbar": {
             "outlinewidth": 0,
             "ticks": ""
            },
            "type": "choropleth"
           }
          ],
          "contour": [
           {
            "colorbar": {
             "outlinewidth": 0,
             "ticks": ""
            },
            "colorscale": [
             [
              0,
              "#0d0887"
             ],
             [
              0.1111111111111111,
              "#46039f"
             ],
             [
              0.2222222222222222,
              "#7201a8"
             ],
             [
              0.3333333333333333,
              "#9c179e"
             ],
             [
              0.4444444444444444,
              "#bd3786"
             ],
             [
              0.5555555555555556,
              "#d8576b"
             ],
             [
              0.6666666666666666,
              "#ed7953"
             ],
             [
              0.7777777777777778,
              "#fb9f3a"
             ],
             [
              0.8888888888888888,
              "#fdca26"
             ],
             [
              1,
              "#f0f921"
             ]
            ],
            "type": "contour"
           }
          ],
          "contourcarpet": [
           {
            "colorbar": {
             "outlinewidth": 0,
             "ticks": ""
            },
            "type": "contourcarpet"
           }
          ],
          "heatmap": [
           {
            "colorbar": {
             "outlinewidth": 0,
             "ticks": ""
            },
            "colorscale": [
             [
              0,
              "#0d0887"
             ],
             [
              0.1111111111111111,
              "#46039f"
             ],
             [
              0.2222222222222222,
              "#7201a8"
             ],
             [
              0.3333333333333333,
              "#9c179e"
             ],
             [
              0.4444444444444444,
              "#bd3786"
             ],
             [
              0.5555555555555556,
              "#d8576b"
             ],
             [
              0.6666666666666666,
              "#ed7953"
             ],
             [
              0.7777777777777778,
              "#fb9f3a"
             ],
             [
              0.8888888888888888,
              "#fdca26"
             ],
             [
              1,
              "#f0f921"
             ]
            ],
            "type": "heatmap"
           }
          ],
          "heatmapgl": [
           {
            "colorbar": {
             "outlinewidth": 0,
             "ticks": ""
            },
            "colorscale": [
             [
              0,
              "#0d0887"
             ],
             [
              0.1111111111111111,
              "#46039f"
             ],
             [
              0.2222222222222222,
              "#7201a8"
             ],
             [
              0.3333333333333333,
              "#9c179e"
             ],
             [
              0.4444444444444444,
              "#bd3786"
             ],
             [
              0.5555555555555556,
              "#d8576b"
             ],
             [
              0.6666666666666666,
              "#ed7953"
             ],
             [
              0.7777777777777778,
              "#fb9f3a"
             ],
             [
              0.8888888888888888,
              "#fdca26"
             ],
             [
              1,
              "#f0f921"
             ]
            ],
            "type": "heatmapgl"
           }
          ],
          "histogram": [
           {
            "marker": {
             "pattern": {
              "fillmode": "overlay",
              "size": 10,
              "solidity": 0.2
             }
            },
            "type": "histogram"
           }
          ],
          "histogram2d": [
           {
            "colorbar": {
             "outlinewidth": 0,
             "ticks": ""
            },
            "colorscale": [
             [
              0,
              "#0d0887"
             ],
             [
              0.1111111111111111,
              "#46039f"
             ],
             [
              0.2222222222222222,
              "#7201a8"
             ],
             [
              0.3333333333333333,
              "#9c179e"
             ],
             [
              0.4444444444444444,
              "#bd3786"
             ],
             [
              0.5555555555555556,
              "#d8576b"
             ],
             [
              0.6666666666666666,
              "#ed7953"
             ],
             [
              0.7777777777777778,
              "#fb9f3a"
             ],
             [
              0.8888888888888888,
              "#fdca26"
             ],
             [
              1,
              "#f0f921"
             ]
            ],
            "type": "histogram2d"
           }
          ],
          "histogram2dcontour": [
           {
            "colorbar": {
             "outlinewidth": 0,
             "ticks": ""
            },
            "colorscale": [
             [
              0,
              "#0d0887"
             ],
             [
              0.1111111111111111,
              "#46039f"
             ],
             [
              0.2222222222222222,
              "#7201a8"
             ],
             [
              0.3333333333333333,
              "#9c179e"
             ],
             [
              0.4444444444444444,
              "#bd3786"
             ],
             [
              0.5555555555555556,
              "#d8576b"
             ],
             [
              0.6666666666666666,
              "#ed7953"
             ],
             [
              0.7777777777777778,
              "#fb9f3a"
             ],
             [
              0.8888888888888888,
              "#fdca26"
             ],
             [
              1,
              "#f0f921"
             ]
            ],
            "type": "histogram2dcontour"
           }
          ],
          "mesh3d": [
           {
            "colorbar": {
             "outlinewidth": 0,
             "ticks": ""
            },
            "type": "mesh3d"
           }
          ],
          "parcoords": [
           {
            "line": {
             "colorbar": {
              "outlinewidth": 0,
              "ticks": ""
             }
            },
            "type": "parcoords"
           }
          ],
          "pie": [
           {
            "automargin": true,
            "type": "pie"
           }
          ],
          "scatter": [
           {
            "fillpattern": {
             "fillmode": "overlay",
             "size": 10,
             "solidity": 0.2
            },
            "type": "scatter"
           }
          ],
          "scatter3d": [
           {
            "line": {
             "colorbar": {
              "outlinewidth": 0,
              "ticks": ""
             }
            },
            "marker": {
             "colorbar": {
              "outlinewidth": 0,
              "ticks": ""
             }
            },
            "type": "scatter3d"
           }
          ],
          "scattercarpet": [
           {
            "marker": {
             "colorbar": {
              "outlinewidth": 0,
              "ticks": ""
             }
            },
            "type": "scattercarpet"
           }
          ],
          "scattergeo": [
           {
            "marker": {
             "colorbar": {
              "outlinewidth": 0,
              "ticks": ""
             }
            },
            "type": "scattergeo"
           }
          ],
          "scattergl": [
           {
            "marker": {
             "colorbar": {
              "outlinewidth": 0,
              "ticks": ""
             }
            },
            "type": "scattergl"
           }
          ],
          "scattermapbox": [
           {
            "marker": {
             "colorbar": {
              "outlinewidth": 0,
              "ticks": ""
             }
            },
            "type": "scattermapbox"
           }
          ],
          "scatterpolar": [
           {
            "marker": {
             "colorbar": {
              "outlinewidth": 0,
              "ticks": ""
             }
            },
            "type": "scatterpolar"
           }
          ],
          "scatterpolargl": [
           {
            "marker": {
             "colorbar": {
              "outlinewidth": 0,
              "ticks": ""
             }
            },
            "type": "scatterpolargl"
           }
          ],
          "scatterternary": [
           {
            "marker": {
             "colorbar": {
              "outlinewidth": 0,
              "ticks": ""
             }
            },
            "type": "scatterternary"
           }
          ],
          "surface": [
           {
            "colorbar": {
             "outlinewidth": 0,
             "ticks": ""
            },
            "colorscale": [
             [
              0,
              "#0d0887"
             ],
             [
              0.1111111111111111,
              "#46039f"
             ],
             [
              0.2222222222222222,
              "#7201a8"
             ],
             [
              0.3333333333333333,
              "#9c179e"
             ],
             [
              0.4444444444444444,
              "#bd3786"
             ],
             [
              0.5555555555555556,
              "#d8576b"
             ],
             [
              0.6666666666666666,
              "#ed7953"
             ],
             [
              0.7777777777777778,
              "#fb9f3a"
             ],
             [
              0.8888888888888888,
              "#fdca26"
             ],
             [
              1,
              "#f0f921"
             ]
            ],
            "type": "surface"
           }
          ],
          "table": [
           {
            "cells": {
             "fill": {
              "color": "#EBF0F8"
             },
             "line": {
              "color": "white"
             }
            },
            "header": {
             "fill": {
              "color": "#C8D4E3"
             },
             "line": {
              "color": "white"
             }
            },
            "type": "table"
           }
          ]
         },
         "layout": {
          "annotationdefaults": {
           "arrowcolor": "#2a3f5f",
           "arrowhead": 0,
           "arrowwidth": 1
          },
          "autotypenumbers": "strict",
          "coloraxis": {
           "colorbar": {
            "outlinewidth": 0,
            "ticks": ""
           }
          },
          "colorscale": {
           "diverging": [
            [
             0,
             "#8e0152"
            ],
            [
             0.1,
             "#c51b7d"
            ],
            [
             0.2,
             "#de77ae"
            ],
            [
             0.3,
             "#f1b6da"
            ],
            [
             0.4,
             "#fde0ef"
            ],
            [
             0.5,
             "#f7f7f7"
            ],
            [
             0.6,
             "#e6f5d0"
            ],
            [
             0.7,
             "#b8e186"
            ],
            [
             0.8,
             "#7fbc41"
            ],
            [
             0.9,
             "#4d9221"
            ],
            [
             1,
             "#276419"
            ]
           ],
           "sequential": [
            [
             0,
             "#0d0887"
            ],
            [
             0.1111111111111111,
             "#46039f"
            ],
            [
             0.2222222222222222,
             "#7201a8"
            ],
            [
             0.3333333333333333,
             "#9c179e"
            ],
            [
             0.4444444444444444,
             "#bd3786"
            ],
            [
             0.5555555555555556,
             "#d8576b"
            ],
            [
             0.6666666666666666,
             "#ed7953"
            ],
            [
             0.7777777777777778,
             "#fb9f3a"
            ],
            [
             0.8888888888888888,
             "#fdca26"
            ],
            [
             1,
             "#f0f921"
            ]
           ],
           "sequentialminus": [
            [
             0,
             "#0d0887"
            ],
            [
             0.1111111111111111,
             "#46039f"
            ],
            [
             0.2222222222222222,
             "#7201a8"
            ],
            [
             0.3333333333333333,
             "#9c179e"
            ],
            [
             0.4444444444444444,
             "#bd3786"
            ],
            [
             0.5555555555555556,
             "#d8576b"
            ],
            [
             0.6666666666666666,
             "#ed7953"
            ],
            [
             0.7777777777777778,
             "#fb9f3a"
            ],
            [
             0.8888888888888888,
             "#fdca26"
            ],
            [
             1,
             "#f0f921"
            ]
           ]
          },
          "colorway": [
           "#636efa",
           "#EF553B",
           "#00cc96",
           "#ab63fa",
           "#FFA15A",
           "#19d3f3",
           "#FF6692",
           "#B6E880",
           "#FF97FF",
           "#FECB52"
          ],
          "font": {
           "color": "#2a3f5f"
          },
          "geo": {
           "bgcolor": "white",
           "lakecolor": "white",
           "landcolor": "#E5ECF6",
           "showlakes": true,
           "showland": true,
           "subunitcolor": "white"
          },
          "hoverlabel": {
           "align": "left"
          },
          "hovermode": "closest",
          "mapbox": {
           "style": "light"
          },
          "paper_bgcolor": "white",
          "plot_bgcolor": "#E5ECF6",
          "polar": {
           "angularaxis": {
            "gridcolor": "white",
            "linecolor": "white",
            "ticks": ""
           },
           "bgcolor": "#E5ECF6",
           "radialaxis": {
            "gridcolor": "white",
            "linecolor": "white",
            "ticks": ""
           }
          },
          "scene": {
           "xaxis": {
            "backgroundcolor": "#E5ECF6",
            "gridcolor": "white",
            "gridwidth": 2,
            "linecolor": "white",
            "showbackground": true,
            "ticks": "",
            "zerolinecolor": "white"
           },
           "yaxis": {
            "backgroundcolor": "#E5ECF6",
            "gridcolor": "white",
            "gridwidth": 2,
            "linecolor": "white",
            "showbackground": true,
            "ticks": "",
            "zerolinecolor": "white"
           },
           "zaxis": {
            "backgroundcolor": "#E5ECF6",
            "gridcolor": "white",
            "gridwidth": 2,
            "linecolor": "white",
            "showbackground": true,
            "ticks": "",
            "zerolinecolor": "white"
           }
          },
          "shapedefaults": {
           "line": {
            "color": "#2a3f5f"
           }
          },
          "ternary": {
           "aaxis": {
            "gridcolor": "white",
            "linecolor": "white",
            "ticks": ""
           },
           "baxis": {
            "gridcolor": "white",
            "linecolor": "white",
            "ticks": ""
           },
           "bgcolor": "#E5ECF6",
           "caxis": {
            "gridcolor": "white",
            "linecolor": "white",
            "ticks": ""
           }
          },
          "title": {
           "x": 0.05
          },
          "xaxis": {
           "automargin": true,
           "gridcolor": "white",
           "linecolor": "white",
           "ticks": "",
           "title": {
            "standoff": 15
           },
           "zerolinecolor": "white",
           "zerolinewidth": 2
          },
          "yaxis": {
           "automargin": true,
           "gridcolor": "white",
           "linecolor": "white",
           "ticks": "",
           "title": {
            "standoff": 15
           },
           "zerolinecolor": "white",
           "zerolinewidth": 2
          }
         }
        },
        "title": {
         "text": "Evaluation Metrics Comparison Lenigheid"
        },
        "xaxis": {
         "title": {
          "text": "Models"
         }
        },
        "yaxis": {
         "title": {
          "text": "Scores"
         }
        }
       }
      }
     },
     "metadata": {},
     "output_type": "display_data"
    }
   ],
   "source": [
    "# Extracting model names and metric scores\n",
    "model_names = [d['model'] for d in regression_stats_test]\n",
    "metric_labels = list(regression_stats_test[0].keys())[1:]\n",
    "metric_scores = {metric: [d[metric] for d in regression_stats_test] for metric in metric_labels}\n",
    "\n",
    "# Plotting the bar chart\n",
    "fig = go.Figure()\n",
    "\n",
    "for metric in metric_labels:\n",
    "    fig.add_trace(go.Bar(\n",
    "        x=model_names,\n",
    "        y=metric_scores[metric],\n",
    "        text=metric_scores[metric],  # Display the values on the bars\n",
    "        textposition='auto',  # Position the text inside the bars\n",
    "        name=metric\n",
    "    ))\n",
    "\n",
    "# Updating the layout\n",
    "fig.update_layout(\n",
    "    title='Evaluation Metrics Comparison Lenigheid',\n",
    "    xaxis_title='Models',\n",
    "    yaxis_title='Scores',\n",
    "    barmode='group'\n",
    ")\n",
    "\n",
    "# Display the plot\n",
    "fig.show()"
   ]
  },
  {
   "attachments": {},
   "cell_type": "markdown",
   "metadata": {},
   "source": [
    "Naive bayes"
   ]
  },
  {
   "cell_type": "code",
   "execution_count": 16,
   "metadata": {},
   "outputs": [
    {
     "name": "stdout",
     "output_type": "stream",
     "text": [
      "Mean Absolute Error: 3.901570418326693\n",
      "Mean Squared Error: 33.74061749653026\n",
      "Root Mean Squared Error: 5.808667445854536\n",
      "R2 Score: -0.00014313873003102273\n",
      "Adjusted R2 Score: -0.3890876926805986\n"
     ]
    }
   ],
   "source": [
    "# Defining Actual values\n",
    "y_true = y_test.copy()\n",
    "\n",
    "# Defining Predicted values\n",
    "y_pred = np.full_like(y_test, y_train.mean())\n",
    "\n",
    "# Mean absolute error\n",
    "mae = mean_absolute_error(y_test, y_pred)\n",
    "print(\"Mean Absolute Error:\", mae)\n",
    "\n",
    "# Mean Squared Error\n",
    "mse = mean_squared_error(y_true, y_pred)\n",
    "print(\"Mean Squared Error:\", mse)\n",
    "\n",
    "# Root Mean Squared Error\n",
    "rmse = np.sqrt(mse)\n",
    "print(\"Root Mean Squared Error:\", rmse)\n",
    "\n",
    "# R2 Score\n",
    "r2 = r2_score(y_true, y_pred)\n",
    "print(\"R2 Score:\", r2)\n",
    "\n",
    "# Adjusted R2 Score\n",
    "n = len(y_true)  # Number of samples\n",
    "p = X_test.shape[1]  # Number of predictors (features) in X\n",
    "adj_r2 = 1 - ((1 - r2) * (n - 1)) / (n - p - 1)\n",
    "print(\"Adjusted R2 Score:\", adj_r2)"
   ]
  },
  {
   "attachments": {},
   "cell_type": "markdown",
   "metadata": {},
   "source": [
    "Save best model as Pickle"
   ]
  },
  {
   "cell_type": "code",
   "execution_count": 17,
   "metadata": {},
   "outputs": [],
   "source": [
    "import pickle\n",
    "\n",
    "# Save model\n",
    "file_path = 'Saved Models/Lenigheid.pkl'\n",
    "\n",
    "with open(file_path, 'wb') as file:\n",
    "    pickle.dump(best_model_mlr, file)\n",
    "\n",
    "# Save features\n",
    "with open('Saved Models/best_features_Lenigheid.txt', 'w') as file:\n",
    "    file.write(f'{best_features_mlr}')"
   ]
  }
 ],
 "metadata": {
  "kernelspec": {
   "display_name": "Python 3",
   "language": "python",
   "name": "python3"
  },
  "language_info": {
   "codemirror_mode": {
    "name": "ipython",
    "version": 3
   },
   "file_extension": ".py",
   "mimetype": "text/x-python",
   "name": "python",
   "nbconvert_exporter": "python",
   "pygments_lexer": "ipython3",
   "version": "3.10.9"
  },
  "orig_nbformat": 4
 },
 "nbformat": 4,
 "nbformat_minor": 2
}
