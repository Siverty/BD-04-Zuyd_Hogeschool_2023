{
 "cells": [
  {
   "attachments": {},
   "cell_type": "markdown",
   "metadata": {},
   "source": [
    "# General Imports"
   ]
  },
  {
   "attachments": {},
   "cell_type": "markdown",
   "metadata": {},
   "source": [
    "**Importing all libraries**"
   ]
  },
  {
   "cell_type": "code",
   "execution_count": 1,
   "metadata": {},
   "outputs": [],
   "source": [
    "import numpy as np\n",
    "import pandas as pd\n",
    "import warnings\n",
    "\n",
    "import plotly.graph_objects as go\n",
    "from bayes_opt import BayesianOptimization\n",
    "import statsmodels.api as sm\n",
    "\n",
    "from sklearn.model_selection import cross_val_score, train_test_split\n",
    "from sklearn.linear_model import LinearRegression\n",
    "from sklearn.svm import SVR\n",
    "from sklearn.model_selection import cross_val_predict\n",
    "from sklearn.ensemble import RandomForestRegressor\n",
    "from sklearn.neural_network import MLPRegressor\n",
    "from sklearn.metrics import r2_score, mean_squared_error, mean_absolute_error\n",
    "from sklearn.inspection import permutation_importance\n"
   ]
  },
  {
   "attachments": {},
   "cell_type": "markdown",
   "metadata": {},
   "source": [
    "Disable warnings"
   ]
  },
  {
   "cell_type": "code",
   "execution_count": 2,
   "metadata": {},
   "outputs": [],
   "source": [
    "# Disable all warnings\n",
    "warnings.filterwarnings(\"ignore\")\n",
    "\n",
    "# Enable warnings again\n",
    "## warnings.filterwarnings(\"default\")"
   ]
  },
  {
   "attachments": {},
   "cell_type": "markdown",
   "metadata": {},
   "source": [
    "Generate train and test data"
   ]
  },
  {
   "cell_type": "code",
   "execution_count": 3,
   "metadata": {},
   "outputs": [],
   "source": [
    "# Read Data\n",
    "df = pd.read_csv(\"data_finish_prep.csv\")\n",
    "\n",
    "# Select only the usefull part of the df\n",
    "df.drop(columns=['verschil_Lengte',\n",
    "               'verschil_Gewicht', 'verschil_TUG',\n",
    "               'verschil_BMI', 'verschil_Conditie',\n",
    "               'verschil_Lenigheid', 'verschil_Knijpkracht'], inplace=True)\n",
    "\n",
    "# Drop NaN values\n",
    "df.dropna(inplace=True)\n",
    "\n",
    "# Define X and y\n",
    "X = df.drop(columns=['verschil_6 MWT'])\n",
    "y = df['verschil_6 MWT']\n",
    "\n",
    "# Split data into train & test data\n",
    "X_train, X_test, y_train, y_test = train_test_split(X, y, test_size=0.2, random_state=42)"
   ]
  },
  {
   "cell_type": "code",
   "execution_count": 4,
   "metadata": {},
   "outputs": [],
   "source": [
    "def bo_params_generic(model, params, X_train, y_train):\n",
    "    # Create the model instance with the specified parameters\n",
    "    regressor = model(**params)\n",
    "    \n",
    "    # Assuming you have X_train, y_train defined for regression\n",
    "    scores = cross_val_score(regressor, X_train, y_train, cv=10, scoring='neg_root_mean_squared_error')\n",
    "    return -scores.mean()"
   ]
  },
  {
   "attachments": {},
   "cell_type": "markdown",
   "metadata": {},
   "source": [
    "# MLR"
   ]
  },
  {
   "attachments": {},
   "cell_type": "markdown",
   "metadata": {},
   "source": [
    "**feature selection**"
   ]
  },
  {
   "cell_type": "code",
   "execution_count": 5,
   "metadata": {},
   "outputs": [
    {
     "name": "stdout",
     "output_type": "stream",
     "text": [
      "Best features: ['AfstandTotKinderdagverblijf', 'TotaalDiefstalUitWoningSchuurED', 'VernielingMisdrijfTegenOpenbareOrde', 'AfstandTotHotelED', 'AfstandTotSemiOpenbaarGroenTotaal', 'AfstandTotVerblijfsrecreatiefTerrein', 'AfstandTotBibliotheek', 'AfstandTotKunstijsbaan', 'AfstandTotMuseum', 'EenOfMeerLangdurigeAandoeningen', 'BeperkingInHoren', 'ZwaarBelasteMantelzorgers', 'Rokers']\n",
      "Dropped features: ['KLFinancieleDienstenOnroerendGoed', 'AfstandTotZonnebank', 'AfstandTotApotheek', 'AfstandTotConsultatiebureau', 'BouwjaarVanaf2000', 'GeboorteRelatief', 'AfstandTotDagrecreatiefTerrein', 'AfstandTotBioscoop', 'AfstandTotHuisartsenpost', 'BeperkingInZien', 'AfstandTotOpenbaarGroenTotaal', 'PersonenautoSNaarOppervlakte', 'OppervlakteWater', 'AfstandTotPodiumkunstenTotaal', 'VoldoetAanBeweegrichtlijn', 'AfstandTotBrandweerkazerne', 'AfstandTotZwembad', 'AfstandTotAttractie', 'GemiddeldeWoningwaarde', 'SterfteRelatief', 'InBezitOverigeVerhuurders', 'AfstandTotCafetariaED', 'AfstandTotOpenNatTerreinTotaal', 'Ondergewicht', 'kPersonenMetLaagsteInkomen', 'AfstandTotBuitenschoolseOpvang', 'AfstandTotCafeED', 'VoldoetAanRichtlijnAlcoholgebruik', 'AfstandTotBegraafplaats', 'PersonenautoSOverigeBrandstof', 'PersonenautoSPerHuishouden', 'AfstandTotOpenNatNatuurlijkTerrein', 'OvermatigDrinker', 'EigendomOnbekend', 'ErvarenGezondheidGoedZeerGoed', 'AfstandTotSchool', 'AfstandTotBelangrijkOverstapstation', 'AfstandTotRestaurant', 'AfstandTotSportterrein', 'AfstandTotSauna', 'ErnstigOvergewichtObesitas', 'AfstandTotTreinstationsTotaal', 'AfstandTotHuisartsenpraktijk', 'NederlandseAntillenEnAruba', 'Mantelzorger', 'AfstandTotOpenDroogNatTerrein', 'PercentageOnbewoond', 'AfstandTotWarenhuis', 'AfstandTotVolkstuin', 'AfstandTotBos', 'MatigOvergewicht', 'ALandbouwBosbouwEnVisserij', 'AfstandTotPoppodium', 'UrenMantelzorgPerWeek', 'GeweldsEnSeksueleMisdrijven', 'AfstandTotOvDagelLevensmiddelen', 'InBezitWoningcorporatie']\n"
     ]
    }
   ],
   "source": [
    "# Fit the Full Model\n",
    "X =  sm.add_constant(X_train)  # Add constant term for the intercept\n",
    "model = sm.OLS(y_train, X_train).fit()  # Fit the MLR model\n",
    "best_model = model  # Initialize the best model\n",
    "selected_features = X_train.columns.tolist()\n",
    "best_features = X_train.columns.tolist()\n",
    "best_features_rmse = np.sqrt(-cross_val_score(LinearRegression(), X_train, y_train, cv=10, scoring='neg_mean_squared_error').mean())\n",
    "\n",
    "# Iteratively remove one feature at a time based on p-values\n",
    "while True:\n",
    "    # Compute p-values\n",
    "    p_values = model.pvalues[1:]  # Exclude the constant term\n",
    "\n",
    "    # Identify Insignificant Features\n",
    "    insignificant_feature = p_values.idxmax()\n",
    "    max_p_value = p_values.max()\n",
    "\n",
    "    # Remove Insignificant Feature\n",
    "    X = X.drop(insignificant_feature, axis=1)\n",
    "    selected_features.remove(insignificant_feature)\n",
    "\n",
    "    # When there a no features left\n",
    "    if len(selected_features) == 0:\n",
    "        break\n",
    "    \n",
    "    # Refit the Model\n",
    "    model = sm.OLS(y_train, X).fit()\n",
    "    \n",
    "    # Evaluate Model Performance\n",
    "    rmse = np.sqrt(-cross_val_score(LinearRegression(), X_train[selected_features], y_train, cv=10, scoring='neg_mean_squared_error').mean())\n",
    "\n",
    "    # Check if the model performs better without the insignificant features\n",
    "    if rmse <= best_features_rmse:\n",
    "        best_features_rmse = rmse\n",
    "        best_features = selected_features.copy()\n",
    "        best_model = model\n",
    "\n",
    "# Save results\n",
    "best_model_mlr = LinearRegression().fit(X_train[best_features], y_train)\n",
    "best_features_mlr = best_features\n",
    "\n",
    "# Show results\n",
    "print(\"Best features:\", best_features)\n",
    "print(\"Dropped features:\", list(set(X_train.columns.tolist()) - set(best_features)))"
   ]
  },
  {
   "attachments": {},
   "cell_type": "markdown",
   "metadata": {},
   "source": [
    "*Er zijn geen hyperparameters om te optimaliseren.*"
   ]
  },
  {
   "attachments": {},
   "cell_type": "markdown",
   "metadata": {},
   "source": [
    "# Support Vector Machines"
   ]
  },
  {
   "attachments": {},
   "cell_type": "markdown",
   "metadata": {},
   "source": [
    "**Hyperparameter optimalisatie**"
   ]
  },
  {
   "cell_type": "code",
   "execution_count": 6,
   "metadata": {},
   "outputs": [
    {
     "name": "stdout",
     "output_type": "stream",
     "text": [
      "|   iter    |  target   |     C     |   gamma   | kernel... |\n",
      "-------------------------------------------------------------\n"
     ]
    },
    {
     "name": "stdout",
     "output_type": "stream",
     "text": [
      "| \u001b[0m1        \u001b[0m | \u001b[0m-4.585e+0\u001b[0m | \u001b[0m0.7077   \u001b[0m | \u001b[0m0.04572  \u001b[0m | \u001b[0m3.822    \u001b[0m |\n",
      "| \u001b[95m2        \u001b[0m | \u001b[95m-4.529e+0\u001b[0m | \u001b[95m3.507    \u001b[0m | \u001b[95m0.07     \u001b[0m | \u001b[95m1.505    \u001b[0m |\n",
      "| \u001b[0m3        \u001b[0m | \u001b[0m-4.565e+0\u001b[0m | \u001b[0m8.62     \u001b[0m | \u001b[0m0.02918  \u001b[0m | \u001b[0m3.196    \u001b[0m |\n",
      "| \u001b[0m4        \u001b[0m | \u001b[0m-4.581e+0\u001b[0m | \u001b[0m3.089    \u001b[0m | \u001b[0m0.03111  \u001b[0m | \u001b[0m3.314    \u001b[0m |\n",
      "| \u001b[0m5        \u001b[0m | \u001b[0m-4.536e+0\u001b[0m | \u001b[0m4.407    \u001b[0m | \u001b[0m0.06039  \u001b[0m | \u001b[0m3.258    \u001b[0m |\n",
      "| \u001b[95m6        \u001b[0m | \u001b[95m-4.512e+0\u001b[0m | \u001b[95m7.862    \u001b[0m | \u001b[95m0.04272  \u001b[0m | \u001b[95m1.406    \u001b[0m |\n",
      "| \u001b[0m7        \u001b[0m | \u001b[0m-4.519e+0\u001b[0m | \u001b[0m5.927    \u001b[0m | \u001b[0m0.06606  \u001b[0m | \u001b[0m1.514    \u001b[0m |\n",
      "| \u001b[0m8        \u001b[0m | \u001b[0m-4.537e+0\u001b[0m | \u001b[0m2.304    \u001b[0m | \u001b[0m0.0642   \u001b[0m | \u001b[0m3.297    \u001b[0m |\n",
      "| \u001b[0m9        \u001b[0m | \u001b[0m-4.568e+0\u001b[0m | \u001b[0m5.6      \u001b[0m | \u001b[0m0.03113  \u001b[0m | \u001b[0m2.67     \u001b[0m |\n",
      "| \u001b[0m10       \u001b[0m | \u001b[0m-4.526e+0\u001b[0m | \u001b[0m7.733    \u001b[0m | \u001b[0m0.06046  \u001b[0m | \u001b[0m3.565    \u001b[0m |\n",
      "| \u001b[0m11       \u001b[0m | \u001b[0m-4.553e+0\u001b[0m | \u001b[0m8.997    \u001b[0m | \u001b[0m0.06508  \u001b[0m | \u001b[0m2.491    \u001b[0m |\n",
      "| \u001b[0m12       \u001b[0m | \u001b[0m-4.536e+0\u001b[0m | \u001b[0m1.304    \u001b[0m | \u001b[0m0.08803  \u001b[0m | \u001b[0m3.301    \u001b[0m |\n",
      "| \u001b[0m13       \u001b[0m | \u001b[0m-4.552e+0\u001b[0m | \u001b[0m0.3798   \u001b[0m | \u001b[0m0.09835  \u001b[0m | \u001b[0m3.553    \u001b[0m |\n",
      "| \u001b[0m14       \u001b[0m | \u001b[0m-4.513e+0\u001b[0m | \u001b[0m7.443    \u001b[0m | \u001b[0m0.04111  \u001b[0m | \u001b[0m1.125    \u001b[0m |\n",
      "| \u001b[0m15       \u001b[0m | \u001b[0m-4.513e+0\u001b[0m | \u001b[0m7.504    \u001b[0m | \u001b[0m0.02537  \u001b[0m | \u001b[0m1.53     \u001b[0m |\n",
      "| \u001b[0m16       \u001b[0m | \u001b[0m-4.516e+0\u001b[0m | \u001b[0m6.773    \u001b[0m | \u001b[0m0.08387  \u001b[0m | \u001b[0m1.331    \u001b[0m |\n",
      "| \u001b[0m17       \u001b[0m | \u001b[0m-4.587e+0\u001b[0m | \u001b[0m1.383    \u001b[0m | \u001b[0m0.0381   \u001b[0m | \u001b[0m2.254    \u001b[0m |\n",
      "| \u001b[0m18       \u001b[0m | \u001b[0m-4.518e+0\u001b[0m | \u001b[0m6.241    \u001b[0m | \u001b[0m0.001    \u001b[0m | \u001b[0m1.0      \u001b[0m |\n",
      "| \u001b[95m19       \u001b[0m | \u001b[95m-4.511e+0\u001b[0m | \u001b[95m7.907    \u001b[0m | \u001b[95m0.01061  \u001b[0m | \u001b[95m1.395    \u001b[0m |\n",
      "| \u001b[0m20       \u001b[0m | \u001b[0m-4.512e+0\u001b[0m | \u001b[0m8.624    \u001b[0m | \u001b[0m0.1      \u001b[0m | \u001b[0m1.0      \u001b[0m |\n",
      "| \u001b[95m21       \u001b[0m | \u001b[95m-4.507e+0\u001b[0m | \u001b[95m9.469    \u001b[0m | \u001b[95m0.001    \u001b[0m | \u001b[95m1.0      \u001b[0m |\n",
      "| \u001b[95m22       \u001b[0m | \u001b[95m-4.505e+0\u001b[0m | \u001b[95m9.989    \u001b[0m | \u001b[95m0.03537  \u001b[0m | \u001b[95m1.559    \u001b[0m |\n",
      "| \u001b[95m23       \u001b[0m | \u001b[95m-4.505e+0\u001b[0m | \u001b[95m10.0     \u001b[0m | \u001b[95m0.1      \u001b[0m | \u001b[95m1.0      \u001b[0m |\n",
      "| \u001b[0m24       \u001b[0m | \u001b[0m-4.524e+0\u001b[0m | \u001b[0m4.896    \u001b[0m | \u001b[0m0.1      \u001b[0m | \u001b[0m1.0      \u001b[0m |\n",
      "| \u001b[0m25       \u001b[0m | \u001b[0m-4.517e+0\u001b[0m | \u001b[0m6.783    \u001b[0m | \u001b[0m0.09002  \u001b[0m | \u001b[0m3.991    \u001b[0m |\n",
      "| \u001b[0m26       \u001b[0m | \u001b[0m-4.572e+0\u001b[0m | \u001b[0m7.152    \u001b[0m | \u001b[0m0.02045  \u001b[0m | \u001b[0m2.59     \u001b[0m |\n",
      "| \u001b[0m27       \u001b[0m | \u001b[0m-4.508e+0\u001b[0m | \u001b[0m9.192    \u001b[0m | \u001b[0m0.06111  \u001b[0m | \u001b[0m1.509    \u001b[0m |\n",
      "| \u001b[0m28       \u001b[0m | \u001b[0m-4.602e+0\u001b[0m | \u001b[0m10.0     \u001b[0m | \u001b[0m0.001    \u001b[0m | \u001b[0m4.0      \u001b[0m |\n",
      "| \u001b[0m29       \u001b[0m | \u001b[0m-4.592e+0\u001b[0m | \u001b[0m0.1      \u001b[0m | \u001b[0m0.1      \u001b[0m | \u001b[0m1.0      \u001b[0m |\n",
      "| \u001b[0m30       \u001b[0m | \u001b[0m-4.604e+0\u001b[0m | \u001b[0m5.389    \u001b[0m | \u001b[0m0.001    \u001b[0m | \u001b[0m4.0      \u001b[0m |\n",
      "| \u001b[0m31       \u001b[0m | \u001b[0m-4.558e+0\u001b[0m | \u001b[0m4.409    \u001b[0m | \u001b[0m0.07284  \u001b[0m | \u001b[0m2.027    \u001b[0m |\n",
      "| \u001b[0m32       \u001b[0m | \u001b[0m-4.53e+03\u001b[0m | \u001b[0m2.69     \u001b[0m | \u001b[0m0.001    \u001b[0m | \u001b[0m1.0      \u001b[0m |\n",
      "| \u001b[0m33       \u001b[0m | \u001b[0m-3.414e+0\u001b[0m | \u001b[0m7.41     \u001b[0m | \u001b[0m0.1      \u001b[0m | \u001b[0m4.0      \u001b[0m |\n",
      "| \u001b[0m34       \u001b[0m | \u001b[0m-4.585e+0\u001b[0m | \u001b[0m2.72     \u001b[0m | \u001b[0m0.02806  \u001b[0m | \u001b[0m2.807    \u001b[0m |\n",
      "| \u001b[0m35       \u001b[0m | \u001b[0m-4.552e+0\u001b[0m | \u001b[0m8.01     \u001b[0m | \u001b[0m0.03313  \u001b[0m | \u001b[0m3.257    \u001b[0m |\n",
      "| \u001b[0m36       \u001b[0m | \u001b[0m-4.534e+0\u001b[0m | \u001b[0m6.332    \u001b[0m | \u001b[0m0.04753  \u001b[0m | \u001b[0m3.962    \u001b[0m |\n",
      "| \u001b[0m37       \u001b[0m | \u001b[0m-4.511e+0\u001b[0m | \u001b[0m8.712    \u001b[0m | \u001b[0m0.03799  \u001b[0m | \u001b[0m1.703    \u001b[0m |\n",
      "| \u001b[0m38       \u001b[0m | \u001b[0m-4.517e+0\u001b[0m | \u001b[0m6.624    \u001b[0m | \u001b[0m0.004122 \u001b[0m | \u001b[0m1.565    \u001b[0m |\n",
      "| \u001b[0m39       \u001b[0m | \u001b[0m-4.595e+0\u001b[0m | \u001b[0m7.571    \u001b[0m | \u001b[0m0.01356  \u001b[0m | \u001b[0m3.077    \u001b[0m |\n",
      "| \u001b[0m40       \u001b[0m | \u001b[0m-4.551e+0\u001b[0m | \u001b[0m9.438    \u001b[0m | \u001b[0m0.07475  \u001b[0m | \u001b[0m2.066    \u001b[0m |\n",
      "| \u001b[0m41       \u001b[0m | \u001b[0m-4.603e+0\u001b[0m | \u001b[0m9.947    \u001b[0m | \u001b[0m0.007512 \u001b[0m | \u001b[0m3.788    \u001b[0m |\n",
      "| \u001b[0m42       \u001b[0m | \u001b[0m-4.59e+03\u001b[0m | \u001b[0m1.775    \u001b[0m | \u001b[0m0.01271  \u001b[0m | \u001b[0m2.851    \u001b[0m |\n",
      "| \u001b[0m43       \u001b[0m | \u001b[0m-4.586e+0\u001b[0m | \u001b[0m1.558    \u001b[0m | \u001b[0m0.04148  \u001b[0m | \u001b[0m2.642    \u001b[0m |\n",
      "| \u001b[0m44       \u001b[0m | \u001b[0m-4.529e+0\u001b[0m | \u001b[0m4.226    \u001b[0m | \u001b[0m0.07705  \u001b[0m | \u001b[0m1.352    \u001b[0m |\n",
      "| \u001b[0m45       \u001b[0m | \u001b[0m-4.557e+0\u001b[0m | \u001b[0m3.963    \u001b[0m | \u001b[0m0.09067  \u001b[0m | \u001b[0m2.404    \u001b[0m |\n",
      "| \u001b[0m46       \u001b[0m | \u001b[0m-4.561e+0\u001b[0m | \u001b[0m4.695    \u001b[0m | \u001b[0m0.05785  \u001b[0m | \u001b[0m2.665    \u001b[0m |\n",
      "| \u001b[0m47       \u001b[0m | \u001b[0m-4.515e+0\u001b[0m | \u001b[0m7.097    \u001b[0m | \u001b[0m0.05214  \u001b[0m | \u001b[0m1.224    \u001b[0m |\n",
      "| \u001b[0m48       \u001b[0m | \u001b[0m-4.571e+0\u001b[0m | \u001b[0m5.134    \u001b[0m | \u001b[0m0.03155  \u001b[0m | \u001b[0m3.256    \u001b[0m |\n",
      "| \u001b[0m49       \u001b[0m | \u001b[0m-4.523e+0\u001b[0m | \u001b[0m5.117    \u001b[0m | \u001b[0m0.07651  \u001b[0m | \u001b[0m1.683    \u001b[0m |\n",
      "| \u001b[0m50       \u001b[0m | \u001b[0m-4.555e+0\u001b[0m | \u001b[0m1.475    \u001b[0m | \u001b[0m0.05568  \u001b[0m | \u001b[0m3.414    \u001b[0m |\n",
      "=============================================================\n"
     ]
    },
    {
     "data": {
      "text/html": [
       "<style>#sk-container-id-1 {color: black;background-color: white;}#sk-container-id-1 pre{padding: 0;}#sk-container-id-1 div.sk-toggleable {background-color: white;}#sk-container-id-1 label.sk-toggleable__label {cursor: pointer;display: block;width: 100%;margin-bottom: 0;padding: 0.3em;box-sizing: border-box;text-align: center;}#sk-container-id-1 label.sk-toggleable__label-arrow:before {content: \"▸\";float: left;margin-right: 0.25em;color: #696969;}#sk-container-id-1 label.sk-toggleable__label-arrow:hover:before {color: black;}#sk-container-id-1 div.sk-estimator:hover label.sk-toggleable__label-arrow:before {color: black;}#sk-container-id-1 div.sk-toggleable__content {max-height: 0;max-width: 0;overflow: hidden;text-align: left;background-color: #f0f8ff;}#sk-container-id-1 div.sk-toggleable__content pre {margin: 0.2em;color: black;border-radius: 0.25em;background-color: #f0f8ff;}#sk-container-id-1 input.sk-toggleable__control:checked~div.sk-toggleable__content {max-height: 200px;max-width: 100%;overflow: auto;}#sk-container-id-1 input.sk-toggleable__control:checked~label.sk-toggleable__label-arrow:before {content: \"▾\";}#sk-container-id-1 div.sk-estimator input.sk-toggleable__control:checked~label.sk-toggleable__label {background-color: #d4ebff;}#sk-container-id-1 div.sk-label input.sk-toggleable__control:checked~label.sk-toggleable__label {background-color: #d4ebff;}#sk-container-id-1 input.sk-hidden--visually {border: 0;clip: rect(1px 1px 1px 1px);clip: rect(1px, 1px, 1px, 1px);height: 1px;margin: -1px;overflow: hidden;padding: 0;position: absolute;width: 1px;}#sk-container-id-1 div.sk-estimator {font-family: monospace;background-color: #f0f8ff;border: 1px dotted black;border-radius: 0.25em;box-sizing: border-box;margin-bottom: 0.5em;}#sk-container-id-1 div.sk-estimator:hover {background-color: #d4ebff;}#sk-container-id-1 div.sk-parallel-item::after {content: \"\";width: 100%;border-bottom: 1px solid gray;flex-grow: 1;}#sk-container-id-1 div.sk-label:hover label.sk-toggleable__label {background-color: #d4ebff;}#sk-container-id-1 div.sk-serial::before {content: \"\";position: absolute;border-left: 1px solid gray;box-sizing: border-box;top: 0;bottom: 0;left: 50%;z-index: 0;}#sk-container-id-1 div.sk-serial {display: flex;flex-direction: column;align-items: center;background-color: white;padding-right: 0.2em;padding-left: 0.2em;position: relative;}#sk-container-id-1 div.sk-item {position: relative;z-index: 1;}#sk-container-id-1 div.sk-parallel {display: flex;align-items: stretch;justify-content: center;background-color: white;position: relative;}#sk-container-id-1 div.sk-item::before, #sk-container-id-1 div.sk-parallel-item::before {content: \"\";position: absolute;border-left: 1px solid gray;box-sizing: border-box;top: 0;bottom: 0;left: 50%;z-index: -1;}#sk-container-id-1 div.sk-parallel-item {display: flex;flex-direction: column;z-index: 1;position: relative;background-color: white;}#sk-container-id-1 div.sk-parallel-item:first-child::after {align-self: flex-end;width: 50%;}#sk-container-id-1 div.sk-parallel-item:last-child::after {align-self: flex-start;width: 50%;}#sk-container-id-1 div.sk-parallel-item:only-child::after {width: 0;}#sk-container-id-1 div.sk-dashed-wrapped {border: 1px dashed gray;margin: 0 0.4em 0.5em 0.4em;box-sizing: border-box;padding-bottom: 0.4em;background-color: white;}#sk-container-id-1 div.sk-label label {font-family: monospace;font-weight: bold;display: inline-block;line-height: 1.2em;}#sk-container-id-1 div.sk-label-container {text-align: center;}#sk-container-id-1 div.sk-container {/* jupyter's `normalize.less` sets `[hidden] { display: none; }` but bootstrap.min.css set `[hidden] { display: none !important; }` so we also need the `!important` here to be able to override the default hidden behavior on the sphinx rendered scikit-learn.org. See: https://github.com/scikit-learn/scikit-learn/issues/21755 */display: inline-block !important;position: relative;}#sk-container-id-1 div.sk-text-repr-fallback {display: none;}</style><div id=\"sk-container-id-1\" class=\"sk-top-container\"><div class=\"sk-text-repr-fallback\"><pre>SVR(C=10.0, gamma=0.1, kernel=&#x27;linear&#x27;)</pre><b>In a Jupyter environment, please rerun this cell to show the HTML representation or trust the notebook. <br />On GitHub, the HTML representation is unable to render, please try loading this page with nbviewer.org.</b></div><div class=\"sk-container\" hidden><div class=\"sk-item\"><div class=\"sk-estimator sk-toggleable\"><input class=\"sk-toggleable__control sk-hidden--visually\" id=\"sk-estimator-id-1\" type=\"checkbox\" checked><label for=\"sk-estimator-id-1\" class=\"sk-toggleable__label sk-toggleable__label-arrow\">SVR</label><div class=\"sk-toggleable__content\"><pre>SVR(C=10.0, gamma=0.1, kernel=&#x27;linear&#x27;)</pre></div></div></div></div></div>"
      ],
      "text/plain": [
       "SVR(C=10.0, gamma=0.1, kernel='linear')"
      ]
     },
     "execution_count": 6,
     "metadata": {},
     "output_type": "execute_result"
    }
   ],
   "source": [
    "def bo_params_generic(model, params, X_train, y_train):\n",
    "    # Create the model instance with the specified parameters\n",
    "    classifier = model(**params)\n",
    "    \n",
    "    # Calculating accuracy based on cross-validation\n",
    "    scores = cross_val_score(classifier, X_train, y_train, cv=10, scoring='neg_mean_squared_error')\n",
    "    return scores.mean()\n",
    "\n",
    "params_ranges = {\n",
    "    'C': (0.1, 10),\n",
    "    'kernel_int': (1, 4),\n",
    "    'gamma': (0.001, 0.1)\n",
    "}\n",
    "\n",
    "kernel_mapping = {\n",
    "    1: 'linear',\n",
    "    2: 'rbf',\n",
    "    3: 'poly',\n",
    "    4: 'sigmoid'\n",
    "}\n",
    "\n",
    "# Example usage with SVM\n",
    "model = SVR\n",
    "model_bo = BayesianOptimization(f=lambda C, kernel_int, gamma:\n",
    "                                    bo_params_generic(model, {\n",
    "                                        'C': C,\n",
    "                                        'kernel': kernel_mapping[int(kernel_int)],\n",
    "                                        'gamma': gamma\n",
    "                                    }, X_train, y_train),\n",
    "                             pbounds=params_ranges)\n",
    "\n",
    "results = model_bo.maximize(n_iter=40, init_points=10)\n",
    "params = model_bo.max['params']\n",
    "\n",
    "# Creating a model with the best hyperparameters\n",
    "best_model_svm = model(\n",
    "    C=params['C'],\n",
    "    kernel=kernel_mapping[int(params['kernel_int'])],\n",
    "    gamma=params['gamma']\n",
    ")\n",
    "\n",
    "# Fit the model\n",
    "best_model_svm.fit(X_train, y_train)\n"
   ]
  },
  {
   "attachments": {},
   "cell_type": "markdown",
   "metadata": {},
   "source": [
    "**Feature Selection**"
   ]
  },
  {
   "cell_type": "code",
   "execution_count": 7,
   "metadata": {},
   "outputs": [
    {
     "name": "stdout",
     "output_type": "stream",
     "text": [
      "Scince the kernal is not linear, this feature selection is not possible\n",
      "Best features: Index(['NederlandseAntillenEnAruba', 'GeboorteRelatief', 'SterfteRelatief',\n",
      "       'GemiddeldeWoningwaarde', 'PercentageOnbewoond',\n",
      "       'InBezitWoningcorporatie', 'InBezitOverigeVerhuurders',\n",
      "       'EigendomOnbekend', 'BouwjaarVanaf2000', 'kPersonenMetLaagsteInkomen',\n",
      "       'ALandbouwBosbouwEnVisserij', 'KLFinancieleDienstenOnroerendGoed',\n",
      "       'PersonenautoSOverigeBrandstof', 'PersonenautoSPerHuishouden',\n",
      "       'PersonenautoSNaarOppervlakte', 'AfstandTotHuisartsenpraktijk',\n",
      "       'AfstandTotKinderdagverblijf', 'AfstandTotSchool', 'OppervlakteWater',\n",
      "       'TotaalDiefstalUitWoningSchuurED',\n",
      "       'VernielingMisdrijfTegenOpenbareOrde', 'GeweldsEnSeksueleMisdrijven',\n",
      "       'AfstandTotHuisartsenpost', 'AfstandTotApotheek',\n",
      "       'AfstandTotConsultatiebureau', 'AfstandTotOvDagelLevensmiddelen',\n",
      "       'AfstandTotWarenhuis', 'AfstandTotCafeED', 'AfstandTotCafetariaED',\n",
      "       'AfstandTotRestaurant', 'AfstandTotHotelED',\n",
      "       'AfstandTotBuitenschoolseOpvang', 'AfstandTotOpenbaarGroenTotaal',\n",
      "       'AfstandTotDagrecreatiefTerrein', 'AfstandTotBos',\n",
      "       'AfstandTotOpenNatTerreinTotaal', 'AfstandTotOpenDroogNatTerrein',\n",
      "       'AfstandTotOpenNatNatuurlijkTerrein',\n",
      "       'AfstandTotSemiOpenbaarGroenTotaal', 'AfstandTotSportterrein',\n",
      "       'AfstandTotVolkstuin', 'AfstandTotVerblijfsrecreatiefTerrein',\n",
      "       'AfstandTotBegraafplaats', 'AfstandTotTreinstationsTotaal',\n",
      "       'AfstandTotBelangrijkOverstapstation', 'AfstandTotBibliotheek',\n",
      "       'AfstandTotZwembad', 'AfstandTotKunstijsbaan', 'AfstandTotMuseum',\n",
      "       'AfstandTotPodiumkunstenTotaal', 'AfstandTotPoppodium',\n",
      "       'AfstandTotBioscoop', 'AfstandTotSauna', 'AfstandTotZonnebank',\n",
      "       'AfstandTotAttractie', 'AfstandTotBrandweerkazerne',\n",
      "       'ErvarenGezondheidGoedZeerGoed', 'EenOfMeerLangdurigeAandoeningen',\n",
      "       'BeperkingInHoren', 'BeperkingInZien', 'Ondergewicht',\n",
      "       'MatigOvergewicht', 'ErnstigOvergewichtObesitas',\n",
      "       'VoldoetAanBeweegrichtlijn', 'Mantelzorger',\n",
      "       'ZwaarBelasteMantelzorgers', 'UrenMantelzorgPerWeek', 'Rokers',\n",
      "       'VoldoetAanRichtlijnAlcoholgebruik', 'OvermatigDrinker'],\n",
      "      dtype='object')\n",
      "Dropped features: []\n"
     ]
    }
   ],
   "source": [
    "# Get the accuracy score of the model with all features\n",
    "best_accuracy = cross_val_score(best_model_svm, X_train, y_train, cv=10, scoring='neg_mean_squared_error', n_jobs=-1).mean()\n",
    "best_model = best_model_svm\n",
    "selected_features = X_train.columns\n",
    "best_features = selected_features\n",
    "\n",
    "while len(selected_features) > 1:\n",
    "    try:\n",
    "        # Retrieve the coefficients from the SVM model\n",
    "        coefficients = best_model_svm.coef_[0]\n",
    "\n",
    "        # Sort features based on their coefficient magnitudes\n",
    "        sorted_indices = np.argsort(np.abs(coefficients))\n",
    "        selected_features = [X_train.columns[i] for i in sorted_indices[::-1]]\n",
    "\n",
    "        # Remove the least important feature\n",
    "        selected_features = selected_features[:-1]\n",
    "        \n",
    "        # Refit the linear SVM classifier\n",
    "        best_model_svm_classification.fit(X_train[selected_features], y_train)\n",
    "        \n",
    "        # Evaluate Model Performance\n",
    "        accuracy = cross_val_score(best_model_svm, X_train[selected_features], y_train, cv=10, scoring='neg_mean_squared_error', n_jobs=-1).mean()\n",
    "\n",
    "        # Check if the model performs better without the insignificant features\n",
    "        if accuracy >= best_accuracy:\n",
    "            best_accuracy = accuracy\n",
    "            best_features = selected_features.copy()\n",
    "            best_model = best_model_svm\n",
    "    except:\n",
    "        print(\"Scince the kernal is not linear, this feature selection is not possible\") \n",
    "        break\n",
    "\n",
    "# Save results\n",
    "best_model_svm = best_model\n",
    "best_features_svm = best_features\n",
    "\n",
    "# Show results\n",
    "print(\"Best features:\", best_features_svm)\n",
    "print(\"Dropped features:\", list(set(X_train.columns.tolist()) - set(best_features_svm)))"
   ]
  },
  {
   "attachments": {},
   "cell_type": "markdown",
   "metadata": {},
   "source": [
    "# Random Forest"
   ]
  },
  {
   "attachments": {},
   "cell_type": "markdown",
   "metadata": {},
   "source": [
    "**Feature selection**"
   ]
  },
  {
   "cell_type": "code",
   "execution_count": 8,
   "metadata": {},
   "outputs": [
    {
     "name": "stdout",
     "output_type": "stream",
     "text": [
      "Best features: ['AfstandTotApotheek', 'AfstandTotBioscoop', 'AfstandTotAttractie']\n",
      "Dropped features: ['KLFinancieleDienstenOnroerendGoed', 'AfstandTotZonnebank', 'AfstandTotConsultatiebureau', 'AfstandTotHotelED', 'BeperkingInHoren', 'BouwjaarVanaf2000', 'GeboorteRelatief', 'AfstandTotDagrecreatiefTerrein', 'AfstandTotHuisartsenpost', 'BeperkingInZien', 'AfstandTotOpenbaarGroenTotaal', 'PersonenautoSNaarOppervlakte', 'OppervlakteWater', 'AfstandTotPodiumkunstenTotaal', 'VoldoetAanBeweegrichtlijn', 'AfstandTotBrandweerkazerne', 'AfstandTotZwembad', 'AfstandTotBibliotheek', 'AfstandTotMuseum', 'GemiddeldeWoningwaarde', 'SterfteRelatief', 'InBezitOverigeVerhuurders', 'AfstandTotCafetariaED', 'AfstandTotOpenNatTerreinTotaal', 'Ondergewicht', 'kPersonenMetLaagsteInkomen', 'AfstandTotBuitenschoolseOpvang', 'AfstandTotCafeED', 'VoldoetAanRichtlijnAlcoholgebruik', 'AfstandTotBegraafplaats', 'PersonenautoSOverigeBrandstof', 'PersonenautoSPerHuishouden', 'AfstandTotOpenNatNatuurlijkTerrein', 'Rokers', 'OvermatigDrinker', 'EigendomOnbekend', 'ErvarenGezondheidGoedZeerGoed', 'AfstandTotSchool', 'AfstandTotBelangrijkOverstapstation', 'AfstandTotRestaurant', 'ZwaarBelasteMantelzorgers', 'AfstandTotSportterrein', 'TotaalDiefstalUitWoningSchuurED', 'AfstandTotSauna', 'ErnstigOvergewichtObesitas', 'AfstandTotTreinstationsTotaal', 'AfstandTotHuisartsenpraktijk', 'NederlandseAntillenEnAruba', 'Mantelzorger', 'AfstandTotOpenDroogNatTerrein', 'AfstandTotKunstijsbaan', 'PercentageOnbewoond', 'AfstandTotKinderdagverblijf', 'AfstandTotWarenhuis', 'AfstandTotVolkstuin', 'AfstandTotBos', 'MatigOvergewicht', 'AfstandTotSemiOpenbaarGroenTotaal', 'ALandbouwBosbouwEnVisserij', 'VernielingMisdrijfTegenOpenbareOrde', 'AfstandTotPoppodium', 'UrenMantelzorgPerWeek', 'GeweldsEnSeksueleMisdrijven', 'AfstandTotOvDagelLevensmiddelen', 'InBezitWoningcorporatie', 'EenOfMeerLangdurigeAandoeningen', 'AfstandTotVerblijfsrecreatiefTerrein']\n"
     ]
    }
   ],
   "source": [
    "# Get the accuracy score of the model with all the features\n",
    "rf = RandomForestRegressor(n_estimators=100, random_state=0).fit(X_train, y_train)\n",
    "best_rf = rf\n",
    "selected_features = X_train.columns.tolist()\n",
    "best_features = selected_features\n",
    "best_features_accuracy = cross_val_score(RandomForestRegressor(n_estimators=100, random_state=0), X_train, y_train, cv=10, scoring='neg_mean_squared_error', n_jobs=-1).mean()\n",
    "\n",
    "while True:\n",
    "    # Make DataFrame of feature impotances\n",
    "    result = permutation_importance(\n",
    "            rf, X_train[selected_features], y_train, n_repeats=10, random_state=42, n_jobs=-1\n",
    "        )\n",
    "    df_importances = pd.DataFrame({'feature': X_train[selected_features].columns, 'importance': result.importances_mean, 'std': result.importances_std})\n",
    "    df_importances = df_importances.sort_values('importance')\n",
    "\n",
    "    # Remove least important feature\n",
    "    selected_features.remove(df_importances['feature'].iloc[0])\n",
    "\n",
    "    # When there are no features left\n",
    "    if len(selected_features) == 0:\n",
    "        break\n",
    "    \n",
    "    # Refit the Model\n",
    "    rf = RandomForestRegressor(n_estimators=100, random_state=0).fit(X_train[selected_features], y_train)\n",
    "\n",
    "    # Evaluate Model Performance\n",
    "    accuracy = cross_val_score(RandomForestRegressor(n_estimators=100, random_state=0), X_train[selected_features], y_train, cv=10, scoring='neg_mean_squared_error', n_jobs=-1).mean()\n",
    "\n",
    "    # Check if the model performs better without the insignificant features\n",
    "    if accuracy >= best_features_accuracy:\n",
    "        best_features_accuracy = accuracy\n",
    "        best_features = selected_features.copy()\n",
    "        best_model = rf\n",
    "\n",
    "# Save results\n",
    "best_model_rf = best_model\n",
    "best_features_rf = best_features\n",
    "\n",
    "# Show results\n",
    "print(\"Best features:\", best_features_rf)\n",
    "print(\"Dropped features:\", list(set(X_train.columns.tolist()) - set(best_features_rf)))"
   ]
  },
  {
   "attachments": {},
   "cell_type": "markdown",
   "metadata": {},
   "source": [
    "**Hyperparameter optimalisatie**"
   ]
  },
  {
   "cell_type": "code",
   "execution_count": 9,
   "metadata": {},
   "outputs": [
    {
     "name": "stdout",
     "output_type": "stream",
     "text": [
      "|   iter    |  target   | max_depth | max_fe... | min_sa... | n_esti... |\n",
      "-------------------------------------------------------------------------\n"
     ]
    },
    {
     "name": "stdout",
     "output_type": "stream",
     "text": [
      "| \u001b[0m1        \u001b[0m | \u001b[0m-4.485e+0\u001b[0m | \u001b[0m15.99    \u001b[0m | \u001b[0m0.4798   \u001b[0m | \u001b[0m4.665    \u001b[0m | \u001b[0m163.0    \u001b[0m |\n",
      "| \u001b[95m2        \u001b[0m | \u001b[95m-4.48e+03\u001b[0m | \u001b[95m8.102    \u001b[0m | \u001b[95m0.2177   \u001b[0m | \u001b[95m10.88    \u001b[0m | \u001b[95m782.8    \u001b[0m |\n",
      "| \u001b[0m3        \u001b[0m | \u001b[0m-4.485e+0\u001b[0m | \u001b[0m10.36    \u001b[0m | \u001b[0m0.9763   \u001b[0m | \u001b[0m5.224    \u001b[0m | \u001b[0m341.0    \u001b[0m |\n",
      "| \u001b[0m4        \u001b[0m | \u001b[0m-4.485e+0\u001b[0m | \u001b[0m13.99    \u001b[0m | \u001b[0m0.9378   \u001b[0m | \u001b[0m8.969    \u001b[0m | \u001b[0m421.4    \u001b[0m |\n",
      "| \u001b[0m5        \u001b[0m | \u001b[0m-4.483e+0\u001b[0m | \u001b[0m19.36    \u001b[0m | \u001b[0m0.8433   \u001b[0m | \u001b[0m11.51    \u001b[0m | \u001b[0m522.7    \u001b[0m |\n",
      "| \u001b[95m6        \u001b[0m | \u001b[95m-4.477e+0\u001b[0m | \u001b[95m6.973    \u001b[0m | \u001b[95m0.9671   \u001b[0m | \u001b[95m6.297    \u001b[0m | \u001b[95m626.0    \u001b[0m |\n",
      "| \u001b[0m7        \u001b[0m | \u001b[0m-4.485e+0\u001b[0m | \u001b[0m12.41    \u001b[0m | \u001b[0m0.8322   \u001b[0m | \u001b[0m8.286    \u001b[0m | \u001b[0m523.2    \u001b[0m |\n",
      "| \u001b[0m8        \u001b[0m | \u001b[0m-4.485e+0\u001b[0m | \u001b[0m18.81    \u001b[0m | \u001b[0m0.3537   \u001b[0m | \u001b[0m4.854    \u001b[0m | \u001b[0m338.6    \u001b[0m |\n",
      "| \u001b[0m9        \u001b[0m | \u001b[0m-4.485e+0\u001b[0m | \u001b[0m19.19    \u001b[0m | \u001b[0m0.134    \u001b[0m | \u001b[0m8.48     \u001b[0m | \u001b[0m296.3    \u001b[0m |\n",
      "| \u001b[0m10       \u001b[0m | \u001b[0m-4.485e+0\u001b[0m | \u001b[0m12.0     \u001b[0m | \u001b[0m0.1368   \u001b[0m | \u001b[0m8.574    \u001b[0m | \u001b[0m332.1    \u001b[0m |\n",
      "| \u001b[0m11       \u001b[0m | \u001b[0m-4.485e+0\u001b[0m | \u001b[0m17.51    \u001b[0m | \u001b[0m0.2784   \u001b[0m | \u001b[0m10.03    \u001b[0m | \u001b[0m637.5    \u001b[0m |\n",
      "| \u001b[0m12       \u001b[0m | \u001b[0m-4.485e+0\u001b[0m | \u001b[0m16.36    \u001b[0m | \u001b[0m0.2261   \u001b[0m | \u001b[0m9.555    \u001b[0m | \u001b[0m413.0    \u001b[0m |\n",
      "| \u001b[0m13       \u001b[0m | \u001b[0m-4.516e+0\u001b[0m | \u001b[0m1.323    \u001b[0m | \u001b[0m0.1676   \u001b[0m | \u001b[0m10.38    \u001b[0m | \u001b[0m161.2    \u001b[0m |\n",
      "| \u001b[95m14       \u001b[0m | \u001b[95m-4.47e+03\u001b[0m | \u001b[95m6.158    \u001b[0m | \u001b[95m0.5499   \u001b[0m | \u001b[95m7.069    \u001b[0m | \u001b[95m624.4    \u001b[0m |\n",
      "| \u001b[0m15       \u001b[0m | \u001b[0m-4.474e+0\u001b[0m | \u001b[0m2.821    \u001b[0m | \u001b[0m0.1      \u001b[0m | \u001b[0m8.695    \u001b[0m | \u001b[0m621.9    \u001b[0m |\n",
      "| \u001b[0m16       \u001b[0m | \u001b[0m-4.482e+0\u001b[0m | \u001b[0m7.958    \u001b[0m | \u001b[0m0.6683   \u001b[0m | \u001b[0m4.553    \u001b[0m | \u001b[0m619.6    \u001b[0m |\n",
      "| \u001b[0m17       \u001b[0m | \u001b[0m-4.482e+0\u001b[0m | \u001b[0m8.627    \u001b[0m | \u001b[0m0.3637   \u001b[0m | \u001b[0m11.86    \u001b[0m | \u001b[0m622.0    \u001b[0m |\n",
      "| \u001b[0m18       \u001b[0m | \u001b[0m-4.518e+0\u001b[0m | \u001b[0m1.31     \u001b[0m | \u001b[0m0.4265   \u001b[0m | \u001b[0m4.443    \u001b[0m | \u001b[0m625.4    \u001b[0m |\n",
      "| \u001b[95m19       \u001b[0m | \u001b[95m-4.461e+0\u001b[0m | \u001b[95m5.2      \u001b[0m | \u001b[95m0.8374   \u001b[0m | \u001b[95m8.91     \u001b[0m | \u001b[95m625.4    \u001b[0m |\n",
      "| \u001b[95m20       \u001b[0m | \u001b[95m-4.449e+0\u001b[0m | \u001b[95m5.25     \u001b[0m | \u001b[95m1.0      \u001b[0m | \u001b[95m10.16    \u001b[0m | \u001b[95m623.7    \u001b[0m |\n",
      "| \u001b[0m21       \u001b[0m | \u001b[0m-4.477e+0\u001b[0m | \u001b[0m3.373    \u001b[0m | \u001b[0m0.3994   \u001b[0m | \u001b[0m11.87    \u001b[0m | \u001b[0m624.6    \u001b[0m |\n",
      "| \u001b[0m22       \u001b[0m | \u001b[0m-4.469e+0\u001b[0m | \u001b[0m5.846    \u001b[0m | \u001b[0m0.2299   \u001b[0m | \u001b[0m11.14    \u001b[0m | \u001b[0m625.3    \u001b[0m |\n",
      "| \u001b[0m23       \u001b[0m | \u001b[0m-4.48e+03\u001b[0m | \u001b[0m4.196    \u001b[0m | \u001b[0m0.8075   \u001b[0m | \u001b[0m9.339    \u001b[0m | \u001b[0m622.7    \u001b[0m |\n",
      "| \u001b[0m24       \u001b[0m | \u001b[0m-4.476e+0\u001b[0m | \u001b[0m7.053    \u001b[0m | \u001b[0m0.99     \u001b[0m | \u001b[0m11.5     \u001b[0m | \u001b[0m624.5    \u001b[0m |\n",
      "| \u001b[0m25       \u001b[0m | \u001b[0m-4.47e+03\u001b[0m | \u001b[0m5.697    \u001b[0m | \u001b[0m0.2492   \u001b[0m | \u001b[0m10.17    \u001b[0m | \u001b[0m624.7    \u001b[0m |\n",
      "| \u001b[0m26       \u001b[0m | \u001b[0m-4.47e+03\u001b[0m | \u001b[0m6.423    \u001b[0m | \u001b[0m0.6117   \u001b[0m | \u001b[0m9.963    \u001b[0m | \u001b[0m623.3    \u001b[0m |\n",
      "| \u001b[0m27       \u001b[0m | \u001b[0m-4.471e+0\u001b[0m | \u001b[0m4.633    \u001b[0m | \u001b[0m0.3668   \u001b[0m | \u001b[0m9.96     \u001b[0m | \u001b[0m626.0    \u001b[0m |\n",
      "| \u001b[0m28       \u001b[0m | \u001b[0m-4.461e+0\u001b[0m | \u001b[0m4.976    \u001b[0m | \u001b[0m0.7817   \u001b[0m | \u001b[0m7.759    \u001b[0m | \u001b[0m626.5    \u001b[0m |\n",
      "| \u001b[0m29       \u001b[0m | \u001b[0m-4.478e+0\u001b[0m | \u001b[0m4.398    \u001b[0m | \u001b[0m0.4495   \u001b[0m | \u001b[0m9.41     \u001b[0m | \u001b[0m627.9    \u001b[0m |\n",
      "| \u001b[0m30       \u001b[0m | \u001b[0m-4.467e+0\u001b[0m | \u001b[0m5.848    \u001b[0m | \u001b[0m0.8223   \u001b[0m | \u001b[0m8.277    \u001b[0m | \u001b[0m626.6    \u001b[0m |\n",
      "| \u001b[0m31       \u001b[0m | \u001b[0m-4.449e+0\u001b[0m | \u001b[0m5.108    \u001b[0m | \u001b[0m1.0      \u001b[0m | \u001b[0m11.1     \u001b[0m | \u001b[0m623.5    \u001b[0m |\n",
      "| \u001b[0m32       \u001b[0m | \u001b[0m-4.477e+0\u001b[0m | \u001b[0m3.62     \u001b[0m | \u001b[0m0.2536   \u001b[0m | \u001b[0m8.403    \u001b[0m | \u001b[0m625.6    \u001b[0m |\n",
      "| \u001b[0m33       \u001b[0m | \u001b[0m-4.472e+0\u001b[0m | \u001b[0m5.218    \u001b[0m | \u001b[0m0.5378   \u001b[0m | \u001b[0m10.39    \u001b[0m | \u001b[0m623.4    \u001b[0m |\n",
      "| \u001b[0m34       \u001b[0m | \u001b[0m-4.465e+0\u001b[0m | \u001b[0m5.662    \u001b[0m | \u001b[0m0.8222   \u001b[0m | \u001b[0m8.385    \u001b[0m | \u001b[0m624.2    \u001b[0m |\n",
      "| \u001b[0m35       \u001b[0m | \u001b[0m-4.466e+0\u001b[0m | \u001b[0m5.774    \u001b[0m | \u001b[0m0.9617   \u001b[0m | \u001b[0m7.097    \u001b[0m | \u001b[0m627.2    \u001b[0m |\n",
      "| \u001b[0m36       \u001b[0m | \u001b[0m-4.462e+0\u001b[0m | \u001b[0m5.405    \u001b[0m | \u001b[0m0.9763   \u001b[0m | \u001b[0m6.249    \u001b[0m | \u001b[0m626.5    \u001b[0m |\n",
      "| \u001b[0m37       \u001b[0m | \u001b[0m-4.471e+0\u001b[0m | \u001b[0m5.029    \u001b[0m | \u001b[0m0.4255   \u001b[0m | \u001b[0m5.615    \u001b[0m | \u001b[0m627.9    \u001b[0m |\n",
      "| \u001b[0m38       \u001b[0m | \u001b[0m-4.476e+0\u001b[0m | \u001b[0m4.437    \u001b[0m | \u001b[0m0.2719   \u001b[0m | \u001b[0m7.514    \u001b[0m | \u001b[0m627.9    \u001b[0m |\n",
      "| \u001b[0m39       \u001b[0m | \u001b[0m-4.48e+03\u001b[0m | \u001b[0m4.282    \u001b[0m | \u001b[0m0.7385   \u001b[0m | \u001b[0m9.891    \u001b[0m | \u001b[0m624.0    \u001b[0m |\n",
      "| \u001b[0m40       \u001b[0m | \u001b[0m-4.462e+0\u001b[0m | \u001b[0m4.846    \u001b[0m | \u001b[0m0.8814   \u001b[0m | \u001b[0m7.568    \u001b[0m | \u001b[0m625.6    \u001b[0m |\n",
      "| \u001b[0m41       \u001b[0m | \u001b[0m-4.477e+0\u001b[0m | \u001b[0m4.343    \u001b[0m | \u001b[0m0.6399   \u001b[0m | \u001b[0m5.81     \u001b[0m | \u001b[0m623.6    \u001b[0m |\n",
      "| \u001b[0m42       \u001b[0m | \u001b[0m-4.469e+0\u001b[0m | \u001b[0m6.478    \u001b[0m | \u001b[0m0.1163   \u001b[0m | \u001b[0m7.143    \u001b[0m | \u001b[0m626.4    \u001b[0m |\n",
      "| \u001b[0m43       \u001b[0m | \u001b[0m-4.481e+0\u001b[0m | \u001b[0m7.701    \u001b[0m | \u001b[0m0.3947   \u001b[0m | \u001b[0m8.662    \u001b[0m | \u001b[0m625.0    \u001b[0m |\n",
      "| \u001b[0m44       \u001b[0m | \u001b[0m-4.475e+0\u001b[0m | \u001b[0m6.8      \u001b[0m | \u001b[0m0.6624   \u001b[0m | \u001b[0m5.663    \u001b[0m | \u001b[0m628.2    \u001b[0m |\n",
      "| \u001b[0m45       \u001b[0m | \u001b[0m-4.471e+0\u001b[0m | \u001b[0m4.745    \u001b[0m | \u001b[0m0.132    \u001b[0m | \u001b[0m6.819    \u001b[0m | \u001b[0m626.4    \u001b[0m |\n",
      "| \u001b[0m46       \u001b[0m | \u001b[0m-4.475e+0\u001b[0m | \u001b[0m7.109    \u001b[0m | \u001b[0m0.477    \u001b[0m | \u001b[0m8.683    \u001b[0m | \u001b[0m627.9    \u001b[0m |\n",
      "| \u001b[0m47       \u001b[0m | \u001b[0m-4.476e+0\u001b[0m | \u001b[0m6.808    \u001b[0m | \u001b[0m0.8022   \u001b[0m | \u001b[0m11.98    \u001b[0m | \u001b[0m626.7    \u001b[0m |\n",
      "| \u001b[0m48       \u001b[0m | \u001b[0m-4.461e+0\u001b[0m | \u001b[0m5.019    \u001b[0m | \u001b[0m0.9445   \u001b[0m | \u001b[0m11.88    \u001b[0m | \u001b[0m623.6    \u001b[0m |\n",
      "| \u001b[0m49       \u001b[0m | \u001b[0m-4.462e+0\u001b[0m | \u001b[0m4.836    \u001b[0m | \u001b[0m0.9417   \u001b[0m | \u001b[0m10.98    \u001b[0m | \u001b[0m622.9    \u001b[0m |\n",
      "| \u001b[0m50       \u001b[0m | \u001b[0m-4.467e+0\u001b[0m | \u001b[0m6.312    \u001b[0m | \u001b[0m0.9781   \u001b[0m | \u001b[0m9.271    \u001b[0m | \u001b[0m625.9    \u001b[0m |\n",
      "=========================================================================\n"
     ]
    },
    {
     "data": {
      "text/html": [
       "<style>#sk-container-id-2 {color: black;background-color: white;}#sk-container-id-2 pre{padding: 0;}#sk-container-id-2 div.sk-toggleable {background-color: white;}#sk-container-id-2 label.sk-toggleable__label {cursor: pointer;display: block;width: 100%;margin-bottom: 0;padding: 0.3em;box-sizing: border-box;text-align: center;}#sk-container-id-2 label.sk-toggleable__label-arrow:before {content: \"▸\";float: left;margin-right: 0.25em;color: #696969;}#sk-container-id-2 label.sk-toggleable__label-arrow:hover:before {color: black;}#sk-container-id-2 div.sk-estimator:hover label.sk-toggleable__label-arrow:before {color: black;}#sk-container-id-2 div.sk-toggleable__content {max-height: 0;max-width: 0;overflow: hidden;text-align: left;background-color: #f0f8ff;}#sk-container-id-2 div.sk-toggleable__content pre {margin: 0.2em;color: black;border-radius: 0.25em;background-color: #f0f8ff;}#sk-container-id-2 input.sk-toggleable__control:checked~div.sk-toggleable__content {max-height: 200px;max-width: 100%;overflow: auto;}#sk-container-id-2 input.sk-toggleable__control:checked~label.sk-toggleable__label-arrow:before {content: \"▾\";}#sk-container-id-2 div.sk-estimator input.sk-toggleable__control:checked~label.sk-toggleable__label {background-color: #d4ebff;}#sk-container-id-2 div.sk-label input.sk-toggleable__control:checked~label.sk-toggleable__label {background-color: #d4ebff;}#sk-container-id-2 input.sk-hidden--visually {border: 0;clip: rect(1px 1px 1px 1px);clip: rect(1px, 1px, 1px, 1px);height: 1px;margin: -1px;overflow: hidden;padding: 0;position: absolute;width: 1px;}#sk-container-id-2 div.sk-estimator {font-family: monospace;background-color: #f0f8ff;border: 1px dotted black;border-radius: 0.25em;box-sizing: border-box;margin-bottom: 0.5em;}#sk-container-id-2 div.sk-estimator:hover {background-color: #d4ebff;}#sk-container-id-2 div.sk-parallel-item::after {content: \"\";width: 100%;border-bottom: 1px solid gray;flex-grow: 1;}#sk-container-id-2 div.sk-label:hover label.sk-toggleable__label {background-color: #d4ebff;}#sk-container-id-2 div.sk-serial::before {content: \"\";position: absolute;border-left: 1px solid gray;box-sizing: border-box;top: 0;bottom: 0;left: 50%;z-index: 0;}#sk-container-id-2 div.sk-serial {display: flex;flex-direction: column;align-items: center;background-color: white;padding-right: 0.2em;padding-left: 0.2em;position: relative;}#sk-container-id-2 div.sk-item {position: relative;z-index: 1;}#sk-container-id-2 div.sk-parallel {display: flex;align-items: stretch;justify-content: center;background-color: white;position: relative;}#sk-container-id-2 div.sk-item::before, #sk-container-id-2 div.sk-parallel-item::before {content: \"\";position: absolute;border-left: 1px solid gray;box-sizing: border-box;top: 0;bottom: 0;left: 50%;z-index: -1;}#sk-container-id-2 div.sk-parallel-item {display: flex;flex-direction: column;z-index: 1;position: relative;background-color: white;}#sk-container-id-2 div.sk-parallel-item:first-child::after {align-self: flex-end;width: 50%;}#sk-container-id-2 div.sk-parallel-item:last-child::after {align-self: flex-start;width: 50%;}#sk-container-id-2 div.sk-parallel-item:only-child::after {width: 0;}#sk-container-id-2 div.sk-dashed-wrapped {border: 1px dashed gray;margin: 0 0.4em 0.5em 0.4em;box-sizing: border-box;padding-bottom: 0.4em;background-color: white;}#sk-container-id-2 div.sk-label label {font-family: monospace;font-weight: bold;display: inline-block;line-height: 1.2em;}#sk-container-id-2 div.sk-label-container {text-align: center;}#sk-container-id-2 div.sk-container {/* jupyter's `normalize.less` sets `[hidden] { display: none; }` but bootstrap.min.css set `[hidden] { display: none !important; }` so we also need the `!important` here to be able to override the default hidden behavior on the sphinx rendered scikit-learn.org. See: https://github.com/scikit-learn/scikit-learn/issues/21755 */display: inline-block !important;position: relative;}#sk-container-id-2 div.sk-text-repr-fallback {display: none;}</style><div id=\"sk-container-id-2\" class=\"sk-top-container\"><div class=\"sk-text-repr-fallback\"><pre>RandomForestRegressor(bootstrap=False, max_depth=5, min_samples_split=10,\n",
       "                      n_estimators=624)</pre><b>In a Jupyter environment, please rerun this cell to show the HTML representation or trust the notebook. <br />On GitHub, the HTML representation is unable to render, please try loading this page with nbviewer.org.</b></div><div class=\"sk-container\" hidden><div class=\"sk-item\"><div class=\"sk-estimator sk-toggleable\"><input class=\"sk-toggleable__control sk-hidden--visually\" id=\"sk-estimator-id-2\" type=\"checkbox\" checked><label for=\"sk-estimator-id-2\" class=\"sk-toggleable__label sk-toggleable__label-arrow\">RandomForestRegressor</label><div class=\"sk-toggleable__content\"><pre>RandomForestRegressor(bootstrap=False, max_depth=5, min_samples_split=10,\n",
       "                      n_estimators=624)</pre></div></div></div></div></div>"
      ],
      "text/plain": [
       "RandomForestRegressor(bootstrap=False, max_depth=5, min_samples_split=10,\n",
       "                      n_estimators=624)"
      ]
     },
     "execution_count": 9,
     "metadata": {},
     "output_type": "execute_result"
    }
   ],
   "source": [
    "def bo_params_rf(min_samples_split,max_depth,max_features,n_estimators):\n",
    "    \n",
    "    params = {\n",
    "        'min_samples_split': round(min_samples_split),\n",
    "        'max_depth': round(max_depth),\n",
    "        'max_features': max_features,\n",
    "        'n_estimators':round(n_estimators)\n",
    "    }    \n",
    "        \n",
    "    clf = RandomForestRegressor(min_samples_split=int(params['min_samples_split']), \n",
    "                                 max_depth=int(params['max_depth']), \n",
    "                                 max_features=params['max_features'],\n",
    "                                 n_estimators=int(params['n_estimators']), \n",
    "                                 bootstrap=False,\n",
    "                                 n_jobs = -1)\n",
    "    return cross_val_score(clf, X_train[best_features_rf], y_train, cv=10, scoring='neg_mean_squared_error', n_jobs=-1).mean()\n",
    "\n",
    "# Create Bayesian Optimization\n",
    "rf_bo = BayesianOptimization(f=bo_params_rf, pbounds={\n",
    "    'n_estimators': (100, 1000),\n",
    "    'max_depth': (1, 20),\n",
    "    'max_features': (0.1, 1),\n",
    "    'min_samples_split': (2, 12)\n",
    "})\n",
    "\n",
    "# Bayesian optimization\n",
    "results = rf_bo.maximize(n_iter=40, init_points=10)\n",
    "\n",
    "# Getting best hyperparameters from bayesian optimization\n",
    "params = rf_bo.max['params']\n",
    "params['n_estimators']= round(params['n_estimators'])\n",
    "params['min_samples_split']= round(params['min_samples_split'])\n",
    "params['max_depth']= round(params['max_depth'])\n",
    "\n",
    "# Making random forest model with the best hyperparameters\n",
    "# criterion entropy is after the hyperparameter optimization since it's more accurate but increases training time\n",
    "best_model_rf_classification = RandomForestRegressor(min_samples_split=params['min_samples_split'],\n",
    "                                                max_depth=params['max_depth'],\n",
    "                                                max_features=params['max_features'],\n",
    "                                                n_estimators=params['n_estimators'],\n",
    "                                                bootstrap=False)\n",
    "\n",
    "best_model_rf_classification.fit(X_train[best_features_rf], y_train)"
   ]
  },
  {
   "attachments": {},
   "cell_type": "markdown",
   "metadata": {},
   "source": [
    "# neural network"
   ]
  },
  {
   "attachments": {},
   "cell_type": "markdown",
   "metadata": {},
   "source": [
    "**Feature selection**"
   ]
  },
  {
   "cell_type": "code",
   "execution_count": 10,
   "metadata": {},
   "outputs": [
    {
     "name": "stdout",
     "output_type": "stream",
     "text": [
      "Best features: ['NederlandseAntillenEnAruba', 'GeboorteRelatief', 'SterfteRelatief', 'GemiddeldeWoningwaarde', 'PercentageOnbewoond', 'InBezitWoningcorporatie', 'InBezitOverigeVerhuurders', 'EigendomOnbekend', 'BouwjaarVanaf2000', 'kPersonenMetLaagsteInkomen', 'ALandbouwBosbouwEnVisserij', 'KLFinancieleDienstenOnroerendGoed', 'PersonenautoSOverigeBrandstof', 'PersonenautoSPerHuishouden', 'PersonenautoSNaarOppervlakte', 'AfstandTotHuisartsenpraktijk', 'AfstandTotKinderdagverblijf', 'AfstandTotSchool', 'OppervlakteWater', 'TotaalDiefstalUitWoningSchuurED', 'VernielingMisdrijfTegenOpenbareOrde', 'GeweldsEnSeksueleMisdrijven', 'AfstandTotHuisartsenpost', 'AfstandTotApotheek', 'AfstandTotConsultatiebureau', 'AfstandTotOvDagelLevensmiddelen', 'AfstandTotWarenhuis', 'AfstandTotCafeED', 'AfstandTotCafetariaED', 'AfstandTotRestaurant', 'AfstandTotHotelED', 'AfstandTotBuitenschoolseOpvang', 'AfstandTotOpenbaarGroenTotaal', 'AfstandTotDagrecreatiefTerrein', 'AfstandTotBos', 'AfstandTotOpenNatTerreinTotaal', 'AfstandTotOpenDroogNatTerrein', 'AfstandTotOpenNatNatuurlijkTerrein', 'AfstandTotSemiOpenbaarGroenTotaal', 'AfstandTotSportterrein', 'AfstandTotVolkstuin', 'AfstandTotVerblijfsrecreatiefTerrein', 'AfstandTotBegraafplaats', 'AfstandTotTreinstationsTotaal', 'AfstandTotBelangrijkOverstapstation', 'AfstandTotBibliotheek', 'AfstandTotZwembad', 'AfstandTotKunstijsbaan', 'AfstandTotMuseum', 'AfstandTotPodiumkunstenTotaal', 'AfstandTotPoppodium', 'AfstandTotBioscoop', 'AfstandTotSauna', 'AfstandTotZonnebank', 'AfstandTotAttractie', 'AfstandTotBrandweerkazerne', 'ErvarenGezondheidGoedZeerGoed', 'EenOfMeerLangdurigeAandoeningen', 'BeperkingInHoren', 'BeperkingInZien', 'Ondergewicht', 'MatigOvergewicht', 'ErnstigOvergewichtObesitas', 'VoldoetAanBeweegrichtlijn', 'Mantelzorger', 'ZwaarBelasteMantelzorgers', 'UrenMantelzorgPerWeek', 'Rokers', 'VoldoetAanRichtlijnAlcoholgebruik', 'OvermatigDrinker']\n",
      "Dropped features: []\n"
     ]
    }
   ],
   "source": [
    "# Get the accuracy score of the model with all the features\n",
    "mlp = MLPRegressor(random_state=0).fit(X_train, y_train)\n",
    "best_model = mlp\n",
    "selected_features = X_train.columns.tolist()\n",
    "best_features = selected_features\n",
    "best_features_accuracy = cross_val_score(MLPRegressor(random_state=0), X_train, y_train, cv=10, scoring='neg_mean_squared_error', n_jobs=-1).mean()\n",
    "\n",
    "while True:\n",
    "    # Retrieve the learned weights\n",
    "    weights = mlp.coefs_[0]  # Weights connecting input features to the first hidden layer\n",
    "\n",
    "    # Normalize the weights\n",
    "    normalized_weights = np.abs(weights) / np.sum(np.abs(weights), axis=0)\n",
    "\n",
    "    # Calculate feature importance\n",
    "    feature_importance = np.mean(normalized_weights, axis=1)\n",
    "\n",
    "    # Sort features based on their importance\n",
    "    sorted_indices = np.argsort(feature_importance)\n",
    "    selected_features = [selected_features[i] for i in sorted_indices[:-1]]\n",
    "\n",
    "    # When there are no features left\n",
    "    if len(selected_features) == 0:\n",
    "        break\n",
    "    \n",
    "    # Refit the Model\n",
    "    mlp = MLPRegressor(random_state=0).fit(X_train[selected_features], y_train)\n",
    "\n",
    "    # Evaluate Model Performance\n",
    "    accuracy = cross_val_score(MLPRegressor(random_state=0), X_train[selected_features], y_train, cv=10, scoring='neg_mean_squared_error', n_jobs=-1).mean()\n",
    "\n",
    "    # Check if the model performs better without the insignificant features\n",
    "    if accuracy >= best_features_accuracy:\n",
    "        best_features_accuracy = accuracy\n",
    "        best_features = selected_features.copy()\n",
    "        best_model = mlp\n",
    "\n",
    "# Save results\n",
    "best_model_nn = best_model\n",
    "best_features_nn = best_features\n",
    "\n",
    "# Show results\n",
    "print(\"Best features:\", best_features_nn)\n",
    "print(\"Dropped features:\", list(set(X_train.columns.tolist()) - set(best_features_nn)))"
   ]
  },
  {
   "attachments": {},
   "cell_type": "markdown",
   "metadata": {},
   "source": [
    "**Hyperparameter optimalisatie**"
   ]
  },
  {
   "cell_type": "code",
   "execution_count": 11,
   "metadata": {},
   "outputs": [
    {
     "name": "stdout",
     "output_type": "stream",
     "text": [
      "|   iter    |  target   |   alpha   | hidden... | learni... | max_iter  |\n",
      "-------------------------------------------------------------------------\n"
     ]
    },
    {
     "name": "stdout",
     "output_type": "stream",
     "text": [
      "| \u001b[0m1        \u001b[0m | \u001b[0m-67.34   \u001b[0m | \u001b[0m0.0966   \u001b[0m | \u001b[0m65.79    \u001b[0m | \u001b[0m0.07472  \u001b[0m | \u001b[0m897.0    \u001b[0m |\n",
      "| \u001b[95m2        \u001b[0m | \u001b[95m-67.23   \u001b[0m | \u001b[95m0.04926  \u001b[0m | \u001b[95m43.0     \u001b[0m | \u001b[95m0.09549  \u001b[0m | \u001b[95m227.9    \u001b[0m |\n",
      "| \u001b[95m3        \u001b[0m | \u001b[95m-67.02   \u001b[0m | \u001b[95m0.0634   \u001b[0m | \u001b[95m46.0     \u001b[0m | \u001b[95m0.06351  \u001b[0m | \u001b[95m320.4    \u001b[0m |\n",
      "| \u001b[0m4        \u001b[0m | \u001b[0m-67.16   \u001b[0m | \u001b[0m0.09866  \u001b[0m | \u001b[0m18.07    \u001b[0m | \u001b[0m0.06363  \u001b[0m | \u001b[0m808.5    \u001b[0m |\n",
      "| \u001b[95m5        \u001b[0m | \u001b[95m-67.01   \u001b[0m | \u001b[95m0.08187  \u001b[0m | \u001b[95m88.86    \u001b[0m | \u001b[95m0.05362  \u001b[0m | \u001b[95m579.4    \u001b[0m |\n",
      "| \u001b[0m6        \u001b[0m | \u001b[0m-67.19   \u001b[0m | \u001b[0m0.03233  \u001b[0m | \u001b[0m47.24    \u001b[0m | \u001b[0m0.01056  \u001b[0m | \u001b[0m100.7    \u001b[0m |\n",
      "| \u001b[0m7        \u001b[0m | \u001b[0m-67.07   \u001b[0m | \u001b[0m0.0709   \u001b[0m | \u001b[0m79.64    \u001b[0m | \u001b[0m0.09444  \u001b[0m | \u001b[0m724.4    \u001b[0m |\n",
      "| \u001b[0m8        \u001b[0m | \u001b[0m-67.07   \u001b[0m | \u001b[0m0.07925  \u001b[0m | \u001b[0m26.99    \u001b[0m | \u001b[0m0.05911  \u001b[0m | \u001b[0m287.5    \u001b[0m |\n",
      "| \u001b[0m9        \u001b[0m | \u001b[0m-67.12   \u001b[0m | \u001b[0m0.01221  \u001b[0m | \u001b[0m89.33    \u001b[0m | \u001b[0m0.09381  \u001b[0m | \u001b[0m610.4    \u001b[0m |\n",
      "| \u001b[0m10       \u001b[0m | \u001b[0m-67.18   \u001b[0m | \u001b[0m0.004295 \u001b[0m | \u001b[0m10.5     \u001b[0m | \u001b[0m0.09477  \u001b[0m | \u001b[0m457.7    \u001b[0m |\n",
      "| \u001b[0m11       \u001b[0m | \u001b[0m-67.06   \u001b[0m | \u001b[0m0.09454  \u001b[0m | \u001b[0m45.88    \u001b[0m | \u001b[0m0.008566 \u001b[0m | \u001b[0m319.4    \u001b[0m |\n",
      "| \u001b[0m12       \u001b[0m | \u001b[0m-67.12   \u001b[0m | \u001b[0m0.08862  \u001b[0m | \u001b[0m89.09    \u001b[0m | \u001b[0m0.0153   \u001b[0m | \u001b[0m582.9    \u001b[0m |\n",
      "| \u001b[95m13       \u001b[0m | \u001b[95m-67.0    \u001b[0m | \u001b[95m0.07129  \u001b[0m | \u001b[95m43.5     \u001b[0m | \u001b[95m0.06399  \u001b[0m | \u001b[95m323.1    \u001b[0m |\n",
      "| \u001b[0m14       \u001b[0m | \u001b[0m-67.11   \u001b[0m | \u001b[0m0.09859  \u001b[0m | \u001b[0m48.64    \u001b[0m | \u001b[0m0.06121  \u001b[0m | \u001b[0m325.2    \u001b[0m |\n",
      "| \u001b[0m15       \u001b[0m | \u001b[0m-67.17   \u001b[0m | \u001b[0m0.05979  \u001b[0m | \u001b[0m87.83    \u001b[0m | \u001b[0m0.07047  \u001b[0m | \u001b[0m574.9    \u001b[0m |\n",
      "| \u001b[0m16       \u001b[0m | \u001b[0m-67.1    \u001b[0m | \u001b[0m0.0439   \u001b[0m | \u001b[0m41.39    \u001b[0m | \u001b[0m0.03493  \u001b[0m | \u001b[0m321.2    \u001b[0m |\n",
      "| \u001b[0m17       \u001b[0m | \u001b[0m-67.1    \u001b[0m | \u001b[0m0.07705  \u001b[0m | \u001b[0m42.23    \u001b[0m | \u001b[0m0.09585  \u001b[0m | \u001b[0m325.6    \u001b[0m |\n",
      "| \u001b[0m18       \u001b[0m | \u001b[0m-67.07   \u001b[0m | \u001b[0m0.08959  \u001b[0m | \u001b[0m25.47    \u001b[0m | \u001b[0m0.005074 \u001b[0m | \u001b[0m291.6    \u001b[0m |\n",
      "| \u001b[0m19       \u001b[0m | \u001b[0m-67.07   \u001b[0m | \u001b[0m0.08936  \u001b[0m | \u001b[0m46.42    \u001b[0m | \u001b[0m0.06917  \u001b[0m | \u001b[0m323.4    \u001b[0m |\n",
      "| \u001b[0m20       \u001b[0m | \u001b[0m-67.12   \u001b[0m | \u001b[0m0.07183  \u001b[0m | \u001b[0m92.6     \u001b[0m | \u001b[0m0.03002  \u001b[0m | \u001b[0m578.7    \u001b[0m |\n",
      "| \u001b[0m21       \u001b[0m | \u001b[0m-67.1    \u001b[0m | \u001b[0m0.01921  \u001b[0m | \u001b[0m87.33    \u001b[0m | \u001b[0m0.02887  \u001b[0m | \u001b[0m579.2    \u001b[0m |\n",
      "| \u001b[0m22       \u001b[0m | \u001b[0m-67.15   \u001b[0m | \u001b[0m0.01114  \u001b[0m | \u001b[0m23.93    \u001b[0m | \u001b[0m0.01395  \u001b[0m | \u001b[0m287.7    \u001b[0m |\n",
      "| \u001b[0m23       \u001b[0m | \u001b[0m-67.14   \u001b[0m | \u001b[0m0.04405  \u001b[0m | \u001b[0m48.66    \u001b[0m | \u001b[0m0.00489  \u001b[0m | \u001b[0m320.4    \u001b[0m |\n",
      "| \u001b[0m24       \u001b[0m | \u001b[0m-67.04   \u001b[0m | \u001b[0m0.02386  \u001b[0m | \u001b[0m29.15    \u001b[0m | \u001b[0m0.01379  \u001b[0m | \u001b[0m290.6    \u001b[0m |\n",
      "| \u001b[0m25       \u001b[0m | \u001b[0m-67.22   \u001b[0m | \u001b[0m0.08335  \u001b[0m | \u001b[0m44.18    \u001b[0m | \u001b[0m0.06639  \u001b[0m | \u001b[0m320.2    \u001b[0m |\n",
      "| \u001b[95m26       \u001b[0m | \u001b[95m-66.89   \u001b[0m | \u001b[95m0.05957  \u001b[0m | \u001b[95m44.45    \u001b[0m | \u001b[95m0.08842  \u001b[0m | \u001b[95m323.5    \u001b[0m |\n",
      "| \u001b[0m27       \u001b[0m | \u001b[0m-67.04   \u001b[0m | \u001b[0m0.03937  \u001b[0m | \u001b[0m44.19    \u001b[0m | \u001b[0m0.05524  \u001b[0m | \u001b[0m323.9    \u001b[0m |\n",
      "| \u001b[0m28       \u001b[0m | \u001b[0m-67.13   \u001b[0m | \u001b[0m0.04183  \u001b[0m | \u001b[0m89.89    \u001b[0m | \u001b[0m0.09043  \u001b[0m | \u001b[0m578.7    \u001b[0m |\n",
      "| \u001b[0m29       \u001b[0m | \u001b[0m-67.2    \u001b[0m | \u001b[0m0.01183  \u001b[0m | \u001b[0m45.75    \u001b[0m | \u001b[0m0.03628  \u001b[0m | \u001b[0m323.6    \u001b[0m |\n",
      "| \u001b[0m30       \u001b[0m | \u001b[0m-67.04   \u001b[0m | \u001b[0m0.006782 \u001b[0m | \u001b[0m45.41    \u001b[0m | \u001b[0m0.07374  \u001b[0m | \u001b[0m320.5    \u001b[0m |\n",
      "| \u001b[0m31       \u001b[0m | \u001b[0m-67.31   \u001b[0m | \u001b[0m0.07006  \u001b[0m | \u001b[0m81.57    \u001b[0m | \u001b[0m0.08476  \u001b[0m | \u001b[0m635.4    \u001b[0m |\n",
      "| \u001b[0m32       \u001b[0m | \u001b[0m-67.01   \u001b[0m | \u001b[0m0.05875  \u001b[0m | \u001b[0m43.01    \u001b[0m | \u001b[0m0.07721  \u001b[0m | \u001b[0m323.3    \u001b[0m |\n",
      "| \u001b[0m33       \u001b[0m | \u001b[0m-67.31   \u001b[0m | \u001b[0m0.09361  \u001b[0m | \u001b[0m29.98    \u001b[0m | \u001b[0m0.03465  \u001b[0m | \u001b[0m290.6    \u001b[0m |\n",
      "| \u001b[0m34       \u001b[0m | \u001b[0m-67.1    \u001b[0m | \u001b[0m0.01236  \u001b[0m | \u001b[0m26.92    \u001b[0m | \u001b[0m0.04503  \u001b[0m | \u001b[0m287.8    \u001b[0m |\n",
      "| \u001b[0m35       \u001b[0m | \u001b[0m-67.19   \u001b[0m | \u001b[0m0.006708 \u001b[0m | \u001b[0m43.86    \u001b[0m | \u001b[0m0.0444   \u001b[0m | \u001b[0m323.2    \u001b[0m |\n",
      "| \u001b[0m36       \u001b[0m | \u001b[0m-66.93   \u001b[0m | \u001b[0m0.066    \u001b[0m | \u001b[0m43.67    \u001b[0m | \u001b[0m0.02414  \u001b[0m | \u001b[0m322.6    \u001b[0m |\n",
      "| \u001b[0m37       \u001b[0m | \u001b[0m-67.16   \u001b[0m | \u001b[0m0.02496  \u001b[0m | \u001b[0m63.32    \u001b[0m | \u001b[0m0.07951  \u001b[0m | \u001b[0m764.3    \u001b[0m |\n",
      "| \u001b[0m38       \u001b[0m | \u001b[0m-67.19   \u001b[0m | \u001b[0m0.03675  \u001b[0m | \u001b[0m51.45    \u001b[0m | \u001b[0m0.04119  \u001b[0m | \u001b[0m830.6    \u001b[0m |\n",
      "| \u001b[0m39       \u001b[0m | \u001b[0m-67.23   \u001b[0m | \u001b[0m0.03365  \u001b[0m | \u001b[0m69.48    \u001b[0m | \u001b[0m0.01342  \u001b[0m | \u001b[0m192.1    \u001b[0m |\n",
      "| \u001b[0m40       \u001b[0m | \u001b[0m-67.2    \u001b[0m | \u001b[0m0.09669  \u001b[0m | \u001b[0m81.57    \u001b[0m | \u001b[0m0.08117  \u001b[0m | \u001b[0m843.2    \u001b[0m |\n",
      "| \u001b[0m41       \u001b[0m | \u001b[0m-67.01   \u001b[0m | \u001b[0m0.03432  \u001b[0m | \u001b[0m89.31    \u001b[0m | \u001b[0m0.05286  \u001b[0m | \u001b[0m579.3    \u001b[0m |\n",
      "| \u001b[0m42       \u001b[0m | \u001b[0m-67.54   \u001b[0m | \u001b[0m0.07925  \u001b[0m | \u001b[0m65.41    \u001b[0m | \u001b[0m0.09842  \u001b[0m | \u001b[0m681.9    \u001b[0m |\n",
      "| \u001b[0m43       \u001b[0m | \u001b[0m-67.19   \u001b[0m | \u001b[0m0.01531  \u001b[0m | \u001b[0m43.28    \u001b[0m | \u001b[0m0.04028  \u001b[0m | \u001b[0m323.3    \u001b[0m |\n",
      "| \u001b[0m44       \u001b[0m | \u001b[0m-67.1    \u001b[0m | \u001b[0m0.03754  \u001b[0m | \u001b[0m61.28    \u001b[0m | \u001b[0m0.007248 \u001b[0m | \u001b[0m587.1    \u001b[0m |\n",
      "| \u001b[0m45       \u001b[0m | \u001b[0m-67.19   \u001b[0m | \u001b[0m0.08017  \u001b[0m | \u001b[0m79.89    \u001b[0m | \u001b[0m0.04581  \u001b[0m | \u001b[0m270.5    \u001b[0m |\n",
      "| \u001b[0m46       \u001b[0m | \u001b[0m-67.15   \u001b[0m | \u001b[0m0.01802  \u001b[0m | \u001b[0m31.7     \u001b[0m | \u001b[0m0.0901   \u001b[0m | \u001b[0m282.2    \u001b[0m |\n",
      "| \u001b[0m47       \u001b[0m | \u001b[0m-67.29   \u001b[0m | \u001b[0m0.03782  \u001b[0m | \u001b[0m60.38    \u001b[0m | \u001b[0m0.001774 \u001b[0m | \u001b[0m864.5    \u001b[0m |\n",
      "| \u001b[0m48       \u001b[0m | \u001b[0m-67.02   \u001b[0m | \u001b[0m0.09543  \u001b[0m | \u001b[0m12.83    \u001b[0m | \u001b[0m0.02636  \u001b[0m | \u001b[0m950.2    \u001b[0m |\n",
      "| \u001b[0m49       \u001b[0m | \u001b[0m-67.2    \u001b[0m | \u001b[0m0.01272  \u001b[0m | \u001b[0m21.95    \u001b[0m | \u001b[0m0.0469   \u001b[0m | \u001b[0m550.3    \u001b[0m |\n",
      "| \u001b[0m50       \u001b[0m | \u001b[0m-67.19   \u001b[0m | \u001b[0m0.06749  \u001b[0m | \u001b[0m40.14    \u001b[0m | \u001b[0m0.06013  \u001b[0m | \u001b[0m652.0    \u001b[0m |\n",
      "=========================================================================\n"
     ]
    },
    {
     "data": {
      "text/html": [
       "<style>#sk-container-id-3 {color: black;background-color: white;}#sk-container-id-3 pre{padding: 0;}#sk-container-id-3 div.sk-toggleable {background-color: white;}#sk-container-id-3 label.sk-toggleable__label {cursor: pointer;display: block;width: 100%;margin-bottom: 0;padding: 0.3em;box-sizing: border-box;text-align: center;}#sk-container-id-3 label.sk-toggleable__label-arrow:before {content: \"▸\";float: left;margin-right: 0.25em;color: #696969;}#sk-container-id-3 label.sk-toggleable__label-arrow:hover:before {color: black;}#sk-container-id-3 div.sk-estimator:hover label.sk-toggleable__label-arrow:before {color: black;}#sk-container-id-3 div.sk-toggleable__content {max-height: 0;max-width: 0;overflow: hidden;text-align: left;background-color: #f0f8ff;}#sk-container-id-3 div.sk-toggleable__content pre {margin: 0.2em;color: black;border-radius: 0.25em;background-color: #f0f8ff;}#sk-container-id-3 input.sk-toggleable__control:checked~div.sk-toggleable__content {max-height: 200px;max-width: 100%;overflow: auto;}#sk-container-id-3 input.sk-toggleable__control:checked~label.sk-toggleable__label-arrow:before {content: \"▾\";}#sk-container-id-3 div.sk-estimator input.sk-toggleable__control:checked~label.sk-toggleable__label {background-color: #d4ebff;}#sk-container-id-3 div.sk-label input.sk-toggleable__control:checked~label.sk-toggleable__label {background-color: #d4ebff;}#sk-container-id-3 input.sk-hidden--visually {border: 0;clip: rect(1px 1px 1px 1px);clip: rect(1px, 1px, 1px, 1px);height: 1px;margin: -1px;overflow: hidden;padding: 0;position: absolute;width: 1px;}#sk-container-id-3 div.sk-estimator {font-family: monospace;background-color: #f0f8ff;border: 1px dotted black;border-radius: 0.25em;box-sizing: border-box;margin-bottom: 0.5em;}#sk-container-id-3 div.sk-estimator:hover {background-color: #d4ebff;}#sk-container-id-3 div.sk-parallel-item::after {content: \"\";width: 100%;border-bottom: 1px solid gray;flex-grow: 1;}#sk-container-id-3 div.sk-label:hover label.sk-toggleable__label {background-color: #d4ebff;}#sk-container-id-3 div.sk-serial::before {content: \"\";position: absolute;border-left: 1px solid gray;box-sizing: border-box;top: 0;bottom: 0;left: 50%;z-index: 0;}#sk-container-id-3 div.sk-serial {display: flex;flex-direction: column;align-items: center;background-color: white;padding-right: 0.2em;padding-left: 0.2em;position: relative;}#sk-container-id-3 div.sk-item {position: relative;z-index: 1;}#sk-container-id-3 div.sk-parallel {display: flex;align-items: stretch;justify-content: center;background-color: white;position: relative;}#sk-container-id-3 div.sk-item::before, #sk-container-id-3 div.sk-parallel-item::before {content: \"\";position: absolute;border-left: 1px solid gray;box-sizing: border-box;top: 0;bottom: 0;left: 50%;z-index: -1;}#sk-container-id-3 div.sk-parallel-item {display: flex;flex-direction: column;z-index: 1;position: relative;background-color: white;}#sk-container-id-3 div.sk-parallel-item:first-child::after {align-self: flex-end;width: 50%;}#sk-container-id-3 div.sk-parallel-item:last-child::after {align-self: flex-start;width: 50%;}#sk-container-id-3 div.sk-parallel-item:only-child::after {width: 0;}#sk-container-id-3 div.sk-dashed-wrapped {border: 1px dashed gray;margin: 0 0.4em 0.5em 0.4em;box-sizing: border-box;padding-bottom: 0.4em;background-color: white;}#sk-container-id-3 div.sk-label label {font-family: monospace;font-weight: bold;display: inline-block;line-height: 1.2em;}#sk-container-id-3 div.sk-label-container {text-align: center;}#sk-container-id-3 div.sk-container {/* jupyter's `normalize.less` sets `[hidden] { display: none; }` but bootstrap.min.css set `[hidden] { display: none !important; }` so we also need the `!important` here to be able to override the default hidden behavior on the sphinx rendered scikit-learn.org. See: https://github.com/scikit-learn/scikit-learn/issues/21755 */display: inline-block !important;position: relative;}#sk-container-id-3 div.sk-text-repr-fallback {display: none;}</style><div id=\"sk-container-id-3\" class=\"sk-top-container\"><div class=\"sk-text-repr-fallback\"><pre>MLPRegressor(alpha=0.0595719792555474, hidden_layer_sizes=(44,),\n",
       "             learning_rate_init=0.08842356712197524, max_iter=323)</pre><b>In a Jupyter environment, please rerun this cell to show the HTML representation or trust the notebook. <br />On GitHub, the HTML representation is unable to render, please try loading this page with nbviewer.org.</b></div><div class=\"sk-container\" hidden><div class=\"sk-item\"><div class=\"sk-estimator sk-toggleable\"><input class=\"sk-toggleable__control sk-hidden--visually\" id=\"sk-estimator-id-3\" type=\"checkbox\" checked><label for=\"sk-estimator-id-3\" class=\"sk-toggleable__label sk-toggleable__label-arrow\">MLPRegressor</label><div class=\"sk-toggleable__content\"><pre>MLPRegressor(alpha=0.0595719792555474, hidden_layer_sizes=(44,),\n",
       "             learning_rate_init=0.08842356712197524, max_iter=323)</pre></div></div></div></div></div>"
      ],
      "text/plain": [
       "MLPRegressor(alpha=0.0595719792555474, hidden_layer_sizes=(44,),\n",
       "             learning_rate_init=0.08842356712197524, max_iter=323)"
      ]
     },
     "execution_count": 11,
     "metadata": {},
     "output_type": "execute_result"
    }
   ],
   "source": [
    "def bo_params_generic(model, params, X_train, y_train):\n",
    "    # Create the model instance with the specified parameters\n",
    "    regressor = model(**params)\n",
    "    \n",
    "    # Calculating rmse based on\n",
    "    scores = cross_val_score(regressor, X_train, y_train, cv=10, scoring='neg_root_mean_squared_error')\n",
    "    return scores.mean()\n",
    "\n",
    "params_ranges = {\n",
    "    'hidden_layer_sizes': (10, 100),\n",
    "    'alpha': (0.0001, 0.1),\n",
    "    'learning_rate_init': (0.001, 0.1),\n",
    "    'max_iter': (100, 1000)\n",
    "}\n",
    "\n",
    "# Example usage with Neural Network\n",
    "model = MLPRegressor\n",
    "model_bo = BayesianOptimization(f=lambda hidden_layer_sizes, alpha, learning_rate_init, max_iter:\n",
    "                                    bo_params_generic(model, {\n",
    "                                        'hidden_layer_sizes': (int(round(hidden_layer_sizes)),),\n",
    "                                        'alpha': alpha,\n",
    "                                        'learning_rate_init': learning_rate_init,\n",
    "                                        'max_iter': int(round(max_iter))\n",
    "                                    }, X_train[best_features_nn], y_train),\n",
    "                             pbounds=params_ranges)\n",
    "\n",
    "results = model_bo.maximize(n_iter=40, init_points=10)\n",
    "params = model_bo.max['params']\n",
    "\n",
    "# Creating a model with the best hyperparameters\n",
    "best_model_nn = model(\n",
    "    hidden_layer_sizes=(int(round(params['hidden_layer_sizes'])),),\n",
    "    alpha=params['alpha'],\n",
    "    learning_rate_init=params['learning_rate_init'],\n",
    "    max_iter=int(round(params['max_iter']))\n",
    ")\n",
    "\n",
    "# Fit the model\n",
    "best_model_nn.fit(X_train[best_features_nn], y_train)"
   ]
  },
  {
   "attachments": {},
   "cell_type": "markdown",
   "metadata": {},
   "source": [
    "# plotting the bar chart"
   ]
  },
  {
   "attachments": {},
   "cell_type": "markdown",
   "metadata": {},
   "source": [
    "**using train dataset**"
   ]
  },
  {
   "cell_type": "code",
   "execution_count": 12,
   "metadata": {},
   "outputs": [
    {
     "data": {
      "text/plain": [
       "[{'model': 'Multiple Linear Regression',\n",
       "  'mae': 51.177004846366174,\n",
       "  'mse': 4514.103993359065,\n",
       "  'rmse': 67.18708204230234,\n",
       "  'r2': 0.015764357653800687,\n",
       "  'adj_r2': -0.0613873724293279},\n",
       " {'model': 'Random Forest',\n",
       "  'mae': 51.20904367269245,\n",
       "  'mse': 4482.568726908269,\n",
       "  'rmse': 66.95198822221988,\n",
       "  'r2': 0.022640170279610627,\n",
       "  'adj_r2': -0.05397258233005031},\n",
       " {'model': 'Neural Network',\n",
       "  'mae': 51.47219711855017,\n",
       "  'mse': 4548.7800670073,\n",
       "  'rmse': 67.4446444649781,\n",
       "  'r2': 0.008203737058567473,\n",
       "  'adj_r2': -0.06954065085397487},\n",
       " {'model': 'Support Vector Machine',\n",
       "  'mae': 51.10157527341273,\n",
       "  'mse': 4503.4729707350225,\n",
       "  'rmse': 67.1079203278944,\n",
       "  'r2': 0.018082299685389658,\n",
       "  'adj_r2': -0.058887732814076}]"
      ]
     },
     "execution_count": 12,
     "metadata": {},
     "output_type": "execute_result"
    }
   ],
   "source": [
    "regression_models = [\n",
    "    {\n",
    "        'name': 'Multiple Linear Regression',\n",
    "        'model': best_model_mlr,\n",
    "        'features': best_features_mlr\n",
    "    },\n",
    "    {\n",
    "        'name': 'Random Forest',\n",
    "        'model': best_model_rf,\n",
    "        'features': best_features_rf\n",
    "    },\n",
    "    {\n",
    "        'name': 'Neural Network',\n",
    "        'model': best_model_nn,\n",
    "        'features': best_features_nn\n",
    "    },\n",
    "    {\n",
    "        'name': 'Support Vector Machine',\n",
    "        'model': best_model_svm,\n",
    "        'features': best_features_svm\n",
    "    }\n",
    "]\n",
    "\n",
    "regression_stats_val = []\n",
    "\n",
    "for model in regression_models:\n",
    "    try:\n",
    "        # Perform cross-validation and calculate predictions and metrics\n",
    "        y_pred = cross_val_predict(model['model'], X_train[model['features']], y_train, cv=10)\n",
    "        y_true = y_train\n",
    "    except: # cv can't be higher then n_splits in the dt\n",
    "        # Perform cross-validation and calculate predictions and metrics\n",
    "        y_pred = cross_val_predict(model['model'], X_train[model['features']], y_train, cv=5)\n",
    "        y_true = y_train\n",
    "\n",
    "    # R2 Score\n",
    "    r2 = r2_score(y_true, y_pred)\n",
    "\n",
    "    # Adjusted R2 Score\n",
    "    n = len(y_true)  # Number of samples\n",
    "    p = X_test.shape[1]  # Number of predictors (features) in X\n",
    "    adj_r2 = 1 - ((1 - r2) * (n - 1)) / (n - p - 1)\n",
    "\n",
    "    # Save stats\n",
    "    regression_stats_val.append(\n",
    "        {\n",
    "            'model': model['name'],\n",
    "            'mae': mean_absolute_error(y_true, y_pred),\n",
    "            'mse': mean_squared_error(y_true, y_pred),\n",
    "            'rmse': np.sqrt(mean_squared_error(y_true, y_pred)),\n",
    "            'r2': r2,\n",
    "            'adj_r2': adj_r2\n",
    "        }\n",
    "    )\n",
    "\n",
    "# View stats\n",
    "regression_stats_val"
   ]
  },
  {
   "cell_type": "code",
   "execution_count": 13,
   "metadata": {},
   "outputs": [
    {
     "data": {
      "application/vnd.plotly.v1+json": {
       "config": {
        "plotlyServerURL": "https://plot.ly"
       },
       "data": [
        {
         "name": "mae",
         "type": "bar",
         "x": [
          "Multiple Linear Regression",
          "Random Forest",
          "Neural Network",
          "Support Vector Machine"
         ],
         "y": [
          51.177004846366174,
          51.20904367269245,
          51.47219711855017,
          51.10157527341273
         ]
        },
        {
         "name": "mse",
         "type": "bar",
         "x": [
          "Multiple Linear Regression",
          "Random Forest",
          "Neural Network",
          "Support Vector Machine"
         ],
         "y": [
          4514.103993359065,
          4482.568726908269,
          4548.7800670073,
          4503.4729707350225
         ]
        },
        {
         "name": "rmse",
         "type": "bar",
         "x": [
          "Multiple Linear Regression",
          "Random Forest",
          "Neural Network",
          "Support Vector Machine"
         ],
         "y": [
          67.18708204230234,
          66.95198822221988,
          67.4446444649781,
          67.1079203278944
         ]
        },
        {
         "name": "r2",
         "type": "bar",
         "x": [
          "Multiple Linear Regression",
          "Random Forest",
          "Neural Network",
          "Support Vector Machine"
         ],
         "y": [
          0.015764357653800687,
          0.022640170279610627,
          0.008203737058567473,
          0.018082299685389658
         ]
        },
        {
         "name": "adj_r2",
         "type": "bar",
         "x": [
          "Multiple Linear Regression",
          "Random Forest",
          "Neural Network",
          "Support Vector Machine"
         ],
         "y": [
          -0.0613873724293279,
          -0.05397258233005031,
          -0.06954065085397487,
          -0.058887732814076
         ]
        }
       ],
       "layout": {
        "barmode": "group",
        "template": {
         "data": {
          "bar": [
           {
            "error_x": {
             "color": "#2a3f5f"
            },
            "error_y": {
             "color": "#2a3f5f"
            },
            "marker": {
             "line": {
              "color": "#E5ECF6",
              "width": 0.5
             },
             "pattern": {
              "fillmode": "overlay",
              "size": 10,
              "solidity": 0.2
             }
            },
            "type": "bar"
           }
          ],
          "barpolar": [
           {
            "marker": {
             "line": {
              "color": "#E5ECF6",
              "width": 0.5
             },
             "pattern": {
              "fillmode": "overlay",
              "size": 10,
              "solidity": 0.2
             }
            },
            "type": "barpolar"
           }
          ],
          "carpet": [
           {
            "aaxis": {
             "endlinecolor": "#2a3f5f",
             "gridcolor": "white",
             "linecolor": "white",
             "minorgridcolor": "white",
             "startlinecolor": "#2a3f5f"
            },
            "baxis": {
             "endlinecolor": "#2a3f5f",
             "gridcolor": "white",
             "linecolor": "white",
             "minorgridcolor": "white",
             "startlinecolor": "#2a3f5f"
            },
            "type": "carpet"
           }
          ],
          "choropleth": [
           {
            "colorbar": {
             "outlinewidth": 0,
             "ticks": ""
            },
            "type": "choropleth"
           }
          ],
          "contour": [
           {
            "colorbar": {
             "outlinewidth": 0,
             "ticks": ""
            },
            "colorscale": [
             [
              0,
              "#0d0887"
             ],
             [
              0.1111111111111111,
              "#46039f"
             ],
             [
              0.2222222222222222,
              "#7201a8"
             ],
             [
              0.3333333333333333,
              "#9c179e"
             ],
             [
              0.4444444444444444,
              "#bd3786"
             ],
             [
              0.5555555555555556,
              "#d8576b"
             ],
             [
              0.6666666666666666,
              "#ed7953"
             ],
             [
              0.7777777777777778,
              "#fb9f3a"
             ],
             [
              0.8888888888888888,
              "#fdca26"
             ],
             [
              1,
              "#f0f921"
             ]
            ],
            "type": "contour"
           }
          ],
          "contourcarpet": [
           {
            "colorbar": {
             "outlinewidth": 0,
             "ticks": ""
            },
            "type": "contourcarpet"
           }
          ],
          "heatmap": [
           {
            "colorbar": {
             "outlinewidth": 0,
             "ticks": ""
            },
            "colorscale": [
             [
              0,
              "#0d0887"
             ],
             [
              0.1111111111111111,
              "#46039f"
             ],
             [
              0.2222222222222222,
              "#7201a8"
             ],
             [
              0.3333333333333333,
              "#9c179e"
             ],
             [
              0.4444444444444444,
              "#bd3786"
             ],
             [
              0.5555555555555556,
              "#d8576b"
             ],
             [
              0.6666666666666666,
              "#ed7953"
             ],
             [
              0.7777777777777778,
              "#fb9f3a"
             ],
             [
              0.8888888888888888,
              "#fdca26"
             ],
             [
              1,
              "#f0f921"
             ]
            ],
            "type": "heatmap"
           }
          ],
          "heatmapgl": [
           {
            "colorbar": {
             "outlinewidth": 0,
             "ticks": ""
            },
            "colorscale": [
             [
              0,
              "#0d0887"
             ],
             [
              0.1111111111111111,
              "#46039f"
             ],
             [
              0.2222222222222222,
              "#7201a8"
             ],
             [
              0.3333333333333333,
              "#9c179e"
             ],
             [
              0.4444444444444444,
              "#bd3786"
             ],
             [
              0.5555555555555556,
              "#d8576b"
             ],
             [
              0.6666666666666666,
              "#ed7953"
             ],
             [
              0.7777777777777778,
              "#fb9f3a"
             ],
             [
              0.8888888888888888,
              "#fdca26"
             ],
             [
              1,
              "#f0f921"
             ]
            ],
            "type": "heatmapgl"
           }
          ],
          "histogram": [
           {
            "marker": {
             "pattern": {
              "fillmode": "overlay",
              "size": 10,
              "solidity": 0.2
             }
            },
            "type": "histogram"
           }
          ],
          "histogram2d": [
           {
            "colorbar": {
             "outlinewidth": 0,
             "ticks": ""
            },
            "colorscale": [
             [
              0,
              "#0d0887"
             ],
             [
              0.1111111111111111,
              "#46039f"
             ],
             [
              0.2222222222222222,
              "#7201a8"
             ],
             [
              0.3333333333333333,
              "#9c179e"
             ],
             [
              0.4444444444444444,
              "#bd3786"
             ],
             [
              0.5555555555555556,
              "#d8576b"
             ],
             [
              0.6666666666666666,
              "#ed7953"
             ],
             [
              0.7777777777777778,
              "#fb9f3a"
             ],
             [
              0.8888888888888888,
              "#fdca26"
             ],
             [
              1,
              "#f0f921"
             ]
            ],
            "type": "histogram2d"
           }
          ],
          "histogram2dcontour": [
           {
            "colorbar": {
             "outlinewidth": 0,
             "ticks": ""
            },
            "colorscale": [
             [
              0,
              "#0d0887"
             ],
             [
              0.1111111111111111,
              "#46039f"
             ],
             [
              0.2222222222222222,
              "#7201a8"
             ],
             [
              0.3333333333333333,
              "#9c179e"
             ],
             [
              0.4444444444444444,
              "#bd3786"
             ],
             [
              0.5555555555555556,
              "#d8576b"
             ],
             [
              0.6666666666666666,
              "#ed7953"
             ],
             [
              0.7777777777777778,
              "#fb9f3a"
             ],
             [
              0.8888888888888888,
              "#fdca26"
             ],
             [
              1,
              "#f0f921"
             ]
            ],
            "type": "histogram2dcontour"
           }
          ],
          "mesh3d": [
           {
            "colorbar": {
             "outlinewidth": 0,
             "ticks": ""
            },
            "type": "mesh3d"
           }
          ],
          "parcoords": [
           {
            "line": {
             "colorbar": {
              "outlinewidth": 0,
              "ticks": ""
             }
            },
            "type": "parcoords"
           }
          ],
          "pie": [
           {
            "automargin": true,
            "type": "pie"
           }
          ],
          "scatter": [
           {
            "fillpattern": {
             "fillmode": "overlay",
             "size": 10,
             "solidity": 0.2
            },
            "type": "scatter"
           }
          ],
          "scatter3d": [
           {
            "line": {
             "colorbar": {
              "outlinewidth": 0,
              "ticks": ""
             }
            },
            "marker": {
             "colorbar": {
              "outlinewidth": 0,
              "ticks": ""
             }
            },
            "type": "scatter3d"
           }
          ],
          "scattercarpet": [
           {
            "marker": {
             "colorbar": {
              "outlinewidth": 0,
              "ticks": ""
             }
            },
            "type": "scattercarpet"
           }
          ],
          "scattergeo": [
           {
            "marker": {
             "colorbar": {
              "outlinewidth": 0,
              "ticks": ""
             }
            },
            "type": "scattergeo"
           }
          ],
          "scattergl": [
           {
            "marker": {
             "colorbar": {
              "outlinewidth": 0,
              "ticks": ""
             }
            },
            "type": "scattergl"
           }
          ],
          "scattermapbox": [
           {
            "marker": {
             "colorbar": {
              "outlinewidth": 0,
              "ticks": ""
             }
            },
            "type": "scattermapbox"
           }
          ],
          "scatterpolar": [
           {
            "marker": {
             "colorbar": {
              "outlinewidth": 0,
              "ticks": ""
             }
            },
            "type": "scatterpolar"
           }
          ],
          "scatterpolargl": [
           {
            "marker": {
             "colorbar": {
              "outlinewidth": 0,
              "ticks": ""
             }
            },
            "type": "scatterpolargl"
           }
          ],
          "scatterternary": [
           {
            "marker": {
             "colorbar": {
              "outlinewidth": 0,
              "ticks": ""
             }
            },
            "type": "scatterternary"
           }
          ],
          "surface": [
           {
            "colorbar": {
             "outlinewidth": 0,
             "ticks": ""
            },
            "colorscale": [
             [
              0,
              "#0d0887"
             ],
             [
              0.1111111111111111,
              "#46039f"
             ],
             [
              0.2222222222222222,
              "#7201a8"
             ],
             [
              0.3333333333333333,
              "#9c179e"
             ],
             [
              0.4444444444444444,
              "#bd3786"
             ],
             [
              0.5555555555555556,
              "#d8576b"
             ],
             [
              0.6666666666666666,
              "#ed7953"
             ],
             [
              0.7777777777777778,
              "#fb9f3a"
             ],
             [
              0.8888888888888888,
              "#fdca26"
             ],
             [
              1,
              "#f0f921"
             ]
            ],
            "type": "surface"
           }
          ],
          "table": [
           {
            "cells": {
             "fill": {
              "color": "#EBF0F8"
             },
             "line": {
              "color": "white"
             }
            },
            "header": {
             "fill": {
              "color": "#C8D4E3"
             },
             "line": {
              "color": "white"
             }
            },
            "type": "table"
           }
          ]
         },
         "layout": {
          "annotationdefaults": {
           "arrowcolor": "#2a3f5f",
           "arrowhead": 0,
           "arrowwidth": 1
          },
          "autotypenumbers": "strict",
          "coloraxis": {
           "colorbar": {
            "outlinewidth": 0,
            "ticks": ""
           }
          },
          "colorscale": {
           "diverging": [
            [
             0,
             "#8e0152"
            ],
            [
             0.1,
             "#c51b7d"
            ],
            [
             0.2,
             "#de77ae"
            ],
            [
             0.3,
             "#f1b6da"
            ],
            [
             0.4,
             "#fde0ef"
            ],
            [
             0.5,
             "#f7f7f7"
            ],
            [
             0.6,
             "#e6f5d0"
            ],
            [
             0.7,
             "#b8e186"
            ],
            [
             0.8,
             "#7fbc41"
            ],
            [
             0.9,
             "#4d9221"
            ],
            [
             1,
             "#276419"
            ]
           ],
           "sequential": [
            [
             0,
             "#0d0887"
            ],
            [
             0.1111111111111111,
             "#46039f"
            ],
            [
             0.2222222222222222,
             "#7201a8"
            ],
            [
             0.3333333333333333,
             "#9c179e"
            ],
            [
             0.4444444444444444,
             "#bd3786"
            ],
            [
             0.5555555555555556,
             "#d8576b"
            ],
            [
             0.6666666666666666,
             "#ed7953"
            ],
            [
             0.7777777777777778,
             "#fb9f3a"
            ],
            [
             0.8888888888888888,
             "#fdca26"
            ],
            [
             1,
             "#f0f921"
            ]
           ],
           "sequentialminus": [
            [
             0,
             "#0d0887"
            ],
            [
             0.1111111111111111,
             "#46039f"
            ],
            [
             0.2222222222222222,
             "#7201a8"
            ],
            [
             0.3333333333333333,
             "#9c179e"
            ],
            [
             0.4444444444444444,
             "#bd3786"
            ],
            [
             0.5555555555555556,
             "#d8576b"
            ],
            [
             0.6666666666666666,
             "#ed7953"
            ],
            [
             0.7777777777777778,
             "#fb9f3a"
            ],
            [
             0.8888888888888888,
             "#fdca26"
            ],
            [
             1,
             "#f0f921"
            ]
           ]
          },
          "colorway": [
           "#636efa",
           "#EF553B",
           "#00cc96",
           "#ab63fa",
           "#FFA15A",
           "#19d3f3",
           "#FF6692",
           "#B6E880",
           "#FF97FF",
           "#FECB52"
          ],
          "font": {
           "color": "#2a3f5f"
          },
          "geo": {
           "bgcolor": "white",
           "lakecolor": "white",
           "landcolor": "#E5ECF6",
           "showlakes": true,
           "showland": true,
           "subunitcolor": "white"
          },
          "hoverlabel": {
           "align": "left"
          },
          "hovermode": "closest",
          "mapbox": {
           "style": "light"
          },
          "paper_bgcolor": "white",
          "plot_bgcolor": "#E5ECF6",
          "polar": {
           "angularaxis": {
            "gridcolor": "white",
            "linecolor": "white",
            "ticks": ""
           },
           "bgcolor": "#E5ECF6",
           "radialaxis": {
            "gridcolor": "white",
            "linecolor": "white",
            "ticks": ""
           }
          },
          "scene": {
           "xaxis": {
            "backgroundcolor": "#E5ECF6",
            "gridcolor": "white",
            "gridwidth": 2,
            "linecolor": "white",
            "showbackground": true,
            "ticks": "",
            "zerolinecolor": "white"
           },
           "yaxis": {
            "backgroundcolor": "#E5ECF6",
            "gridcolor": "white",
            "gridwidth": 2,
            "linecolor": "white",
            "showbackground": true,
            "ticks": "",
            "zerolinecolor": "white"
           },
           "zaxis": {
            "backgroundcolor": "#E5ECF6",
            "gridcolor": "white",
            "gridwidth": 2,
            "linecolor": "white",
            "showbackground": true,
            "ticks": "",
            "zerolinecolor": "white"
           }
          },
          "shapedefaults": {
           "line": {
            "color": "#2a3f5f"
           }
          },
          "ternary": {
           "aaxis": {
            "gridcolor": "white",
            "linecolor": "white",
            "ticks": ""
           },
           "baxis": {
            "gridcolor": "white",
            "linecolor": "white",
            "ticks": ""
           },
           "bgcolor": "#E5ECF6",
           "caxis": {
            "gridcolor": "white",
            "linecolor": "white",
            "ticks": ""
           }
          },
          "title": {
           "x": 0.05
          },
          "xaxis": {
           "automargin": true,
           "gridcolor": "white",
           "linecolor": "white",
           "ticks": "",
           "title": {
            "standoff": 15
           },
           "zerolinecolor": "white",
           "zerolinewidth": 2
          },
          "yaxis": {
           "automargin": true,
           "gridcolor": "white",
           "linecolor": "white",
           "ticks": "",
           "title": {
            "standoff": 15
           },
           "zerolinecolor": "white",
           "zerolinewidth": 2
          }
         }
        },
        "title": {
         "text": "Evaluation Metrics Comparison"
        },
        "xaxis": {
         "title": {
          "text": "Models"
         }
        },
        "yaxis": {
         "title": {
          "text": "Scores"
         }
        }
       }
      }
     },
     "metadata": {},
     "output_type": "display_data"
    }
   ],
   "source": [
    "# Extracting model names and metric scores\n",
    "model_names = [d['model'] for d in regression_stats_val]\n",
    "metric_labels = list(regression_stats_val[0].keys())[1:]\n",
    "metric_scores = {metric: [d[metric] for d in regression_stats_val] for metric in metric_labels}\n",
    "\n",
    "# Plotting the bar chart\n",
    "fig = go.Figure()\n",
    "\n",
    "for metric in metric_labels:\n",
    "    fig.add_trace(go.Bar(\n",
    "        x=model_names,\n",
    "        y=metric_scores[metric],\n",
    "        name=metric\n",
    "    ))\n",
    "\n",
    "# Updating the layout\n",
    "fig.update_layout(\n",
    "    title='Evaluation Metrics Comparison',\n",
    "    xaxis_title='Models',\n",
    "    yaxis_title='Scores',\n",
    "    barmode='group'\n",
    ")\n",
    "\n",
    "# Display the plot\n",
    "fig.show()"
   ]
  },
  {
   "attachments": {},
   "cell_type": "markdown",
   "metadata": {},
   "source": [
    "**Evaluating on test data**"
   ]
  },
  {
   "cell_type": "code",
   "execution_count": 14,
   "metadata": {},
   "outputs": [
    {
     "data": {
      "text/plain": [
       "[{'model': 'Multiple Linear Regression',\n",
       "  'mae': 50.338805087237034,\n",
       "  'mse': 4820.445507166995,\n",
       "  'rmse': 69.42942825032478,\n",
       "  'r2': 0.03886992011321011,\n",
       "  'adj_r2': -0.3545751418287506},\n",
       " {'model': 'Random Forest',\n",
       "  'mae': 50.78543381200227,\n",
       "  'mse': 4848.774530620403,\n",
       "  'rmse': 69.63314247267894,\n",
       "  'r2': 0.03322150514110711,\n",
       "  'adj_r2': -0.36253577345610055},\n",
       " {'model': 'Neural Network',\n",
       "  'mae': 50.52752838528488,\n",
       "  'mse': 4837.631988326093,\n",
       "  'rmse': 69.5530875542279,\n",
       "  'r2': 0.03544317377101891,\n",
       "  'adj_r2': -0.359404649831488},\n",
       " {'model': 'Support Vector Machine',\n",
       "  'mae': 49.95451175891637,\n",
       "  'mse': 4780.20192342944,\n",
       "  'rmse': 69.13900435665414,\n",
       "  'r2': 0.04689393341137915,\n",
       "  'adj_r2': -0.34326644472431367}]"
      ]
     },
     "execution_count": 14,
     "metadata": {},
     "output_type": "execute_result"
    }
   ],
   "source": [
    "regression_models = [\n",
    "    {\n",
    "        'name': 'Multiple Linear Regression',\n",
    "        'model': best_model_mlr,\n",
    "        'features': best_features_mlr\n",
    "    },\n",
    "    {\n",
    "        'name': 'Random Forest',\n",
    "        'model': best_model_rf,\n",
    "        'features': best_features_rf\n",
    "    },\n",
    "    {\n",
    "        'name': 'Neural Network',\n",
    "        'model': best_model_nn,\n",
    "        'features': best_features_nn\n",
    "    },\n",
    "    {\n",
    "        'name': 'Support Vector Machine',\n",
    "        'model': best_model_svm,\n",
    "        'features': best_features_svm\n",
    "    }\n",
    "]\n",
    "\n",
    "regression_stats_test = []\n",
    "\n",
    "for model in regression_models:\n",
    "    # Make predictions on the test set\n",
    "    y_pred = model['model'].predict(X_test[model['features']])\n",
    "\n",
    "    # Defining Actual values\n",
    "    y_true = y_test.copy()\n",
    "\n",
    "    # R2 Score\n",
    "    r2 = r2_score(y_true, y_pred)\n",
    "\n",
    "    # Adjusted R2 Score\n",
    "    n = len(y_true)  # Number of samples\n",
    "    p = X_test.shape[1]  # Number of predictors (features) in X\n",
    "    adj_r2 = 1 - ((1 - r2) * (n - 1)) / (n - p - 1)\n",
    "\n",
    "    # Save stats\n",
    "    regression_stats_test.append(\n",
    "        {\n",
    "            'model': model['name'],\n",
    "            'mae': mean_absolute_error(y_true, y_pred),\n",
    "            'mse': mean_squared_error(y_true, y_pred),\n",
    "            'rmse': np.sqrt(mean_squared_error(y_true, y_pred)),\n",
    "            'r2': r2,\n",
    "            'adj_r2': adj_r2\n",
    "        }\n",
    "    )\n",
    "\n",
    "# View stats\n",
    "regression_stats_test"
   ]
  },
  {
   "cell_type": "code",
   "execution_count": 15,
   "metadata": {},
   "outputs": [
    {
     "data": {
      "application/vnd.plotly.v1+json": {
       "config": {
        "plotlyServerURL": "https://plot.ly"
       },
       "data": [
        {
         "name": "mae",
         "type": "bar",
         "x": [
          "Multiple Linear Regression",
          "Random Forest",
          "Neural Network",
          "Support Vector Machine"
         ],
         "y": [
          50.338805087237034,
          50.78543381200227,
          50.52752838528488,
          49.95451175891637
         ]
        },
        {
         "name": "mse",
         "type": "bar",
         "x": [
          "Multiple Linear Regression",
          "Random Forest",
          "Neural Network",
          "Support Vector Machine"
         ],
         "y": [
          4820.445507166995,
          4848.774530620403,
          4837.631988326093,
          4780.20192342944
         ]
        },
        {
         "name": "rmse",
         "type": "bar",
         "x": [
          "Multiple Linear Regression",
          "Random Forest",
          "Neural Network",
          "Support Vector Machine"
         ],
         "y": [
          69.42942825032478,
          69.63314247267894,
          69.5530875542279,
          69.13900435665414
         ]
        },
        {
         "name": "r2",
         "type": "bar",
         "x": [
          "Multiple Linear Regression",
          "Random Forest",
          "Neural Network",
          "Support Vector Machine"
         ],
         "y": [
          0.03886992011321011,
          0.03322150514110711,
          0.03544317377101891,
          0.04689393341137915
         ]
        },
        {
         "name": "adj_r2",
         "type": "bar",
         "x": [
          "Multiple Linear Regression",
          "Random Forest",
          "Neural Network",
          "Support Vector Machine"
         ],
         "y": [
          -0.3545751418287506,
          -0.36253577345610055,
          -0.359404649831488,
          -0.34326644472431367
         ]
        }
       ],
       "layout": {
        "barmode": "group",
        "template": {
         "data": {
          "bar": [
           {
            "error_x": {
             "color": "#2a3f5f"
            },
            "error_y": {
             "color": "#2a3f5f"
            },
            "marker": {
             "line": {
              "color": "#E5ECF6",
              "width": 0.5
             },
             "pattern": {
              "fillmode": "overlay",
              "size": 10,
              "solidity": 0.2
             }
            },
            "type": "bar"
           }
          ],
          "barpolar": [
           {
            "marker": {
             "line": {
              "color": "#E5ECF6",
              "width": 0.5
             },
             "pattern": {
              "fillmode": "overlay",
              "size": 10,
              "solidity": 0.2
             }
            },
            "type": "barpolar"
           }
          ],
          "carpet": [
           {
            "aaxis": {
             "endlinecolor": "#2a3f5f",
             "gridcolor": "white",
             "linecolor": "white",
             "minorgridcolor": "white",
             "startlinecolor": "#2a3f5f"
            },
            "baxis": {
             "endlinecolor": "#2a3f5f",
             "gridcolor": "white",
             "linecolor": "white",
             "minorgridcolor": "white",
             "startlinecolor": "#2a3f5f"
            },
            "type": "carpet"
           }
          ],
          "choropleth": [
           {
            "colorbar": {
             "outlinewidth": 0,
             "ticks": ""
            },
            "type": "choropleth"
           }
          ],
          "contour": [
           {
            "colorbar": {
             "outlinewidth": 0,
             "ticks": ""
            },
            "colorscale": [
             [
              0,
              "#0d0887"
             ],
             [
              0.1111111111111111,
              "#46039f"
             ],
             [
              0.2222222222222222,
              "#7201a8"
             ],
             [
              0.3333333333333333,
              "#9c179e"
             ],
             [
              0.4444444444444444,
              "#bd3786"
             ],
             [
              0.5555555555555556,
              "#d8576b"
             ],
             [
              0.6666666666666666,
              "#ed7953"
             ],
             [
              0.7777777777777778,
              "#fb9f3a"
             ],
             [
              0.8888888888888888,
              "#fdca26"
             ],
             [
              1,
              "#f0f921"
             ]
            ],
            "type": "contour"
           }
          ],
          "contourcarpet": [
           {
            "colorbar": {
             "outlinewidth": 0,
             "ticks": ""
            },
            "type": "contourcarpet"
           }
          ],
          "heatmap": [
           {
            "colorbar": {
             "outlinewidth": 0,
             "ticks": ""
            },
            "colorscale": [
             [
              0,
              "#0d0887"
             ],
             [
              0.1111111111111111,
              "#46039f"
             ],
             [
              0.2222222222222222,
              "#7201a8"
             ],
             [
              0.3333333333333333,
              "#9c179e"
             ],
             [
              0.4444444444444444,
              "#bd3786"
             ],
             [
              0.5555555555555556,
              "#d8576b"
             ],
             [
              0.6666666666666666,
              "#ed7953"
             ],
             [
              0.7777777777777778,
              "#fb9f3a"
             ],
             [
              0.8888888888888888,
              "#fdca26"
             ],
             [
              1,
              "#f0f921"
             ]
            ],
            "type": "heatmap"
           }
          ],
          "heatmapgl": [
           {
            "colorbar": {
             "outlinewidth": 0,
             "ticks": ""
            },
            "colorscale": [
             [
              0,
              "#0d0887"
             ],
             [
              0.1111111111111111,
              "#46039f"
             ],
             [
              0.2222222222222222,
              "#7201a8"
             ],
             [
              0.3333333333333333,
              "#9c179e"
             ],
             [
              0.4444444444444444,
              "#bd3786"
             ],
             [
              0.5555555555555556,
              "#d8576b"
             ],
             [
              0.6666666666666666,
              "#ed7953"
             ],
             [
              0.7777777777777778,
              "#fb9f3a"
             ],
             [
              0.8888888888888888,
              "#fdca26"
             ],
             [
              1,
              "#f0f921"
             ]
            ],
            "type": "heatmapgl"
           }
          ],
          "histogram": [
           {
            "marker": {
             "pattern": {
              "fillmode": "overlay",
              "size": 10,
              "solidity": 0.2
             }
            },
            "type": "histogram"
           }
          ],
          "histogram2d": [
           {
            "colorbar": {
             "outlinewidth": 0,
             "ticks": ""
            },
            "colorscale": [
             [
              0,
              "#0d0887"
             ],
             [
              0.1111111111111111,
              "#46039f"
             ],
             [
              0.2222222222222222,
              "#7201a8"
             ],
             [
              0.3333333333333333,
              "#9c179e"
             ],
             [
              0.4444444444444444,
              "#bd3786"
             ],
             [
              0.5555555555555556,
              "#d8576b"
             ],
             [
              0.6666666666666666,
              "#ed7953"
             ],
             [
              0.7777777777777778,
              "#fb9f3a"
             ],
             [
              0.8888888888888888,
              "#fdca26"
             ],
             [
              1,
              "#f0f921"
             ]
            ],
            "type": "histogram2d"
           }
          ],
          "histogram2dcontour": [
           {
            "colorbar": {
             "outlinewidth": 0,
             "ticks": ""
            },
            "colorscale": [
             [
              0,
              "#0d0887"
             ],
             [
              0.1111111111111111,
              "#46039f"
             ],
             [
              0.2222222222222222,
              "#7201a8"
             ],
             [
              0.3333333333333333,
              "#9c179e"
             ],
             [
              0.4444444444444444,
              "#bd3786"
             ],
             [
              0.5555555555555556,
              "#d8576b"
             ],
             [
              0.6666666666666666,
              "#ed7953"
             ],
             [
              0.7777777777777778,
              "#fb9f3a"
             ],
             [
              0.8888888888888888,
              "#fdca26"
             ],
             [
              1,
              "#f0f921"
             ]
            ],
            "type": "histogram2dcontour"
           }
          ],
          "mesh3d": [
           {
            "colorbar": {
             "outlinewidth": 0,
             "ticks": ""
            },
            "type": "mesh3d"
           }
          ],
          "parcoords": [
           {
            "line": {
             "colorbar": {
              "outlinewidth": 0,
              "ticks": ""
             }
            },
            "type": "parcoords"
           }
          ],
          "pie": [
           {
            "automargin": true,
            "type": "pie"
           }
          ],
          "scatter": [
           {
            "fillpattern": {
             "fillmode": "overlay",
             "size": 10,
             "solidity": 0.2
            },
            "type": "scatter"
           }
          ],
          "scatter3d": [
           {
            "line": {
             "colorbar": {
              "outlinewidth": 0,
              "ticks": ""
             }
            },
            "marker": {
             "colorbar": {
              "outlinewidth": 0,
              "ticks": ""
             }
            },
            "type": "scatter3d"
           }
          ],
          "scattercarpet": [
           {
            "marker": {
             "colorbar": {
              "outlinewidth": 0,
              "ticks": ""
             }
            },
            "type": "scattercarpet"
           }
          ],
          "scattergeo": [
           {
            "marker": {
             "colorbar": {
              "outlinewidth": 0,
              "ticks": ""
             }
            },
            "type": "scattergeo"
           }
          ],
          "scattergl": [
           {
            "marker": {
             "colorbar": {
              "outlinewidth": 0,
              "ticks": ""
             }
            },
            "type": "scattergl"
           }
          ],
          "scattermapbox": [
           {
            "marker": {
             "colorbar": {
              "outlinewidth": 0,
              "ticks": ""
             }
            },
            "type": "scattermapbox"
           }
          ],
          "scatterpolar": [
           {
            "marker": {
             "colorbar": {
              "outlinewidth": 0,
              "ticks": ""
             }
            },
            "type": "scatterpolar"
           }
          ],
          "scatterpolargl": [
           {
            "marker": {
             "colorbar": {
              "outlinewidth": 0,
              "ticks": ""
             }
            },
            "type": "scatterpolargl"
           }
          ],
          "scatterternary": [
           {
            "marker": {
             "colorbar": {
              "outlinewidth": 0,
              "ticks": ""
             }
            },
            "type": "scatterternary"
           }
          ],
          "surface": [
           {
            "colorbar": {
             "outlinewidth": 0,
             "ticks": ""
            },
            "colorscale": [
             [
              0,
              "#0d0887"
             ],
             [
              0.1111111111111111,
              "#46039f"
             ],
             [
              0.2222222222222222,
              "#7201a8"
             ],
             [
              0.3333333333333333,
              "#9c179e"
             ],
             [
              0.4444444444444444,
              "#bd3786"
             ],
             [
              0.5555555555555556,
              "#d8576b"
             ],
             [
              0.6666666666666666,
              "#ed7953"
             ],
             [
              0.7777777777777778,
              "#fb9f3a"
             ],
             [
              0.8888888888888888,
              "#fdca26"
             ],
             [
              1,
              "#f0f921"
             ]
            ],
            "type": "surface"
           }
          ],
          "table": [
           {
            "cells": {
             "fill": {
              "color": "#EBF0F8"
             },
             "line": {
              "color": "white"
             }
            },
            "header": {
             "fill": {
              "color": "#C8D4E3"
             },
             "line": {
              "color": "white"
             }
            },
            "type": "table"
           }
          ]
         },
         "layout": {
          "annotationdefaults": {
           "arrowcolor": "#2a3f5f",
           "arrowhead": 0,
           "arrowwidth": 1
          },
          "autotypenumbers": "strict",
          "coloraxis": {
           "colorbar": {
            "outlinewidth": 0,
            "ticks": ""
           }
          },
          "colorscale": {
           "diverging": [
            [
             0,
             "#8e0152"
            ],
            [
             0.1,
             "#c51b7d"
            ],
            [
             0.2,
             "#de77ae"
            ],
            [
             0.3,
             "#f1b6da"
            ],
            [
             0.4,
             "#fde0ef"
            ],
            [
             0.5,
             "#f7f7f7"
            ],
            [
             0.6,
             "#e6f5d0"
            ],
            [
             0.7,
             "#b8e186"
            ],
            [
             0.8,
             "#7fbc41"
            ],
            [
             0.9,
             "#4d9221"
            ],
            [
             1,
             "#276419"
            ]
           ],
           "sequential": [
            [
             0,
             "#0d0887"
            ],
            [
             0.1111111111111111,
             "#46039f"
            ],
            [
             0.2222222222222222,
             "#7201a8"
            ],
            [
             0.3333333333333333,
             "#9c179e"
            ],
            [
             0.4444444444444444,
             "#bd3786"
            ],
            [
             0.5555555555555556,
             "#d8576b"
            ],
            [
             0.6666666666666666,
             "#ed7953"
            ],
            [
             0.7777777777777778,
             "#fb9f3a"
            ],
            [
             0.8888888888888888,
             "#fdca26"
            ],
            [
             1,
             "#f0f921"
            ]
           ],
           "sequentialminus": [
            [
             0,
             "#0d0887"
            ],
            [
             0.1111111111111111,
             "#46039f"
            ],
            [
             0.2222222222222222,
             "#7201a8"
            ],
            [
             0.3333333333333333,
             "#9c179e"
            ],
            [
             0.4444444444444444,
             "#bd3786"
            ],
            [
             0.5555555555555556,
             "#d8576b"
            ],
            [
             0.6666666666666666,
             "#ed7953"
            ],
            [
             0.7777777777777778,
             "#fb9f3a"
            ],
            [
             0.8888888888888888,
             "#fdca26"
            ],
            [
             1,
             "#f0f921"
            ]
           ]
          },
          "colorway": [
           "#636efa",
           "#EF553B",
           "#00cc96",
           "#ab63fa",
           "#FFA15A",
           "#19d3f3",
           "#FF6692",
           "#B6E880",
           "#FF97FF",
           "#FECB52"
          ],
          "font": {
           "color": "#2a3f5f"
          },
          "geo": {
           "bgcolor": "white",
           "lakecolor": "white",
           "landcolor": "#E5ECF6",
           "showlakes": true,
           "showland": true,
           "subunitcolor": "white"
          },
          "hoverlabel": {
           "align": "left"
          },
          "hovermode": "closest",
          "mapbox": {
           "style": "light"
          },
          "paper_bgcolor": "white",
          "plot_bgcolor": "#E5ECF6",
          "polar": {
           "angularaxis": {
            "gridcolor": "white",
            "linecolor": "white",
            "ticks": ""
           },
           "bgcolor": "#E5ECF6",
           "radialaxis": {
            "gridcolor": "white",
            "linecolor": "white",
            "ticks": ""
           }
          },
          "scene": {
           "xaxis": {
            "backgroundcolor": "#E5ECF6",
            "gridcolor": "white",
            "gridwidth": 2,
            "linecolor": "white",
            "showbackground": true,
            "ticks": "",
            "zerolinecolor": "white"
           },
           "yaxis": {
            "backgroundcolor": "#E5ECF6",
            "gridcolor": "white",
            "gridwidth": 2,
            "linecolor": "white",
            "showbackground": true,
            "ticks": "",
            "zerolinecolor": "white"
           },
           "zaxis": {
            "backgroundcolor": "#E5ECF6",
            "gridcolor": "white",
            "gridwidth": 2,
            "linecolor": "white",
            "showbackground": true,
            "ticks": "",
            "zerolinecolor": "white"
           }
          },
          "shapedefaults": {
           "line": {
            "color": "#2a3f5f"
           }
          },
          "ternary": {
           "aaxis": {
            "gridcolor": "white",
            "linecolor": "white",
            "ticks": ""
           },
           "baxis": {
            "gridcolor": "white",
            "linecolor": "white",
            "ticks": ""
           },
           "bgcolor": "#E5ECF6",
           "caxis": {
            "gridcolor": "white",
            "linecolor": "white",
            "ticks": ""
           }
          },
          "title": {
           "x": 0.05
          },
          "xaxis": {
           "automargin": true,
           "gridcolor": "white",
           "linecolor": "white",
           "ticks": "",
           "title": {
            "standoff": 15
           },
           "zerolinecolor": "white",
           "zerolinewidth": 2
          },
          "yaxis": {
           "automargin": true,
           "gridcolor": "white",
           "linecolor": "white",
           "ticks": "",
           "title": {
            "standoff": 15
           },
           "zerolinecolor": "white",
           "zerolinewidth": 2
          }
         }
        },
        "title": {
         "text": "Evaluation Metrics Comparison"
        },
        "xaxis": {
         "title": {
          "text": "Models"
         }
        },
        "yaxis": {
         "title": {
          "text": "Scores"
         }
        }
       }
      }
     },
     "metadata": {},
     "output_type": "display_data"
    }
   ],
   "source": [
    "# Extracting model names and metric scores\n",
    "model_names = [d['model'] for d in regression_stats_test]\n",
    "metric_labels = list(regression_stats_test[0].keys())[1:]\n",
    "metric_scores = {metric: [d[metric] for d in regression_stats_test] for metric in metric_labels}\n",
    "\n",
    "# Plotting the bar chart\n",
    "fig = go.Figure()\n",
    "\n",
    "for metric in metric_labels:\n",
    "    fig.add_trace(go.Bar(\n",
    "        x=model_names,\n",
    "        y=metric_scores[metric],\n",
    "        name=metric\n",
    "    ))\n",
    "\n",
    "# Updating the layout\n",
    "fig.update_layout(\n",
    "    title='Evaluation Metrics Comparison',\n",
    "    xaxis_title='Models',\n",
    "    yaxis_title='Scores',\n",
    "    barmode='group'\n",
    ")\n",
    "\n",
    "# Display the plot\n",
    "fig.show()"
   ]
  },
  {
   "attachments": {},
   "cell_type": "markdown",
   "metadata": {},
   "source": [
    "Naive bayes"
   ]
  },
  {
   "cell_type": "code",
   "execution_count": 16,
   "metadata": {},
   "outputs": [
    {
     "name": "stdout",
     "output_type": "stream",
     "text": [
      "Mean Absolute Error: 50.91615513871266\n",
      "Mean Squared Error: 5027.712127213051\n",
      "Root Mean Squared Error: 70.90636168365326\n",
      "R2 Score: -0.002456173665164929\n",
      "Adjusted R2 Score: -0.4128183500193261\n"
     ]
    }
   ],
   "source": [
    "# Defining Actual values\n",
    "y_true = y_test.copy()\n",
    "\n",
    "# Defining Predicted values\n",
    "y_pred = np.full_like(y_test, y_train.mean())\n",
    "\n",
    "# Mean absolute error\n",
    "mae = mean_absolute_error(y_test, y_pred)\n",
    "print(\"Mean Absolute Error:\", mae)\n",
    "\n",
    "# Mean Squared Error\n",
    "mse = mean_squared_error(y_true, y_pred)\n",
    "print(\"Mean Squared Error:\", mse)\n",
    "\n",
    "# Root Mean Squared Error\n",
    "rmse = np.sqrt(mse)\n",
    "print(\"Root Mean Squared Error:\", rmse)\n",
    "\n",
    "# R2 Score\n",
    "r2 = r2_score(y_true, y_pred)\n",
    "print(\"R2 Score:\", r2)\n",
    "\n",
    "# Adjusted R2 Score\n",
    "n = len(y_true)  # Number of samples\n",
    "p = X_test.shape[1]  # Number of predictors (features) in X\n",
    "adj_r2 = 1 - ((1 - r2) * (n - 1)) / (n - p - 1)\n",
    "print(\"Adjusted R2 Score:\", adj_r2)"
   ]
  },
  {
   "attachments": {},
   "cell_type": "markdown",
   "metadata": {},
   "source": [
    "Save best model as Pickle"
   ]
  },
  {
   "cell_type": "code",
   "execution_count": 17,
   "metadata": {},
   "outputs": [],
   "source": [
    "import pickle\n",
    "\n",
    "# Save model\n",
    "file_path = 'Saved Models/6 MWT.pkl'\n",
    "\n",
    "with open(file_path, 'wb') as file:\n",
    "    pickle.dump(best_model_mlr, file)\n",
    "\n",
    "# Save features\n",
    "with open('Saved Models/best_features_6 MWT.txt', 'w') as file:\n",
    "    file.write(f'{best_features_mlr}')"
   ]
  }
 ],
 "metadata": {
  "kernelspec": {
   "display_name": "Python 3",
   "language": "python",
   "name": "python3"
  },
  "language_info": {
   "codemirror_mode": {
    "name": "ipython",
    "version": 3
   },
   "file_extension": ".py",
   "mimetype": "text/x-python",
   "name": "python",
   "nbconvert_exporter": "python",
   "pygments_lexer": "ipython3",
   "version": "3.9.5"
  },
  "orig_nbformat": 4
 },
 "nbformat": 4,
 "nbformat_minor": 2
}
