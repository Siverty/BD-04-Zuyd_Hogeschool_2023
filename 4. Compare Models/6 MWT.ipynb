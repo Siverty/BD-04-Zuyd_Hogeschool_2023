{
 "cells": [
  {
   "attachments": {},
   "cell_type": "markdown",
   "metadata": {},
   "source": [
    "# General Imports"
   ]
  },
  {
   "attachments": {},
   "cell_type": "markdown",
   "metadata": {},
   "source": [
    "**Importing all libraries**"
   ]
  },
  {
   "cell_type": "code",
   "execution_count": 1,
   "metadata": {},
   "outputs": [],
   "source": [
    "import numpy as np\n",
    "import pandas as pd\n",
    "import warnings\n",
    "\n",
    "import plotly.graph_objects as go\n",
    "from bayes_opt import BayesianOptimization\n",
    "import statsmodels.api as sm\n",
    "\n",
    "from sklearn.model_selection import cross_val_score, train_test_split\n",
    "from sklearn.linear_model import LinearRegression\n",
    "from sklearn.svm import SVR\n",
    "from sklearn.model_selection import cross_val_predict\n",
    "from sklearn.ensemble import RandomForestRegressor\n",
    "from sklearn.neural_network import MLPRegressor\n",
    "from sklearn.metrics import r2_score, mean_squared_error, mean_absolute_error\n",
    "from sklearn.inspection import permutation_importance\n"
   ]
  },
  {
   "attachments": {},
   "cell_type": "markdown",
   "metadata": {},
   "source": [
    "Disable warnings"
   ]
  },
  {
   "cell_type": "code",
   "execution_count": 2,
   "metadata": {},
   "outputs": [],
   "source": [
    "# Disable all warnings\n",
    "warnings.filterwarnings(\"ignore\")\n",
    "\n",
    "# Enable warnings again\n",
    "## warnings.filterwarnings(\"default\")"
   ]
  },
  {
   "attachments": {},
   "cell_type": "markdown",
   "metadata": {},
   "source": [
    "Generate train and test data"
   ]
  },
  {
   "cell_type": "code",
   "execution_count": 3,
   "metadata": {},
   "outputs": [],
   "source": [
    "# Read Data\n",
    "df = pd.read_csv(\"data_finish_prep.csv\")\n",
    "\n",
    "# Select only the usefull part of the df\n",
    "df.drop(columns=['verschil_Lengte',\n",
    "               'verschil_Gewicht', 'verschil_TUG',\n",
    "               'verschil_BMI', 'verschil_Conditie',\n",
    "               'verschil_Lenigheid', 'verschil_Knijpkracht'], inplace=True)\n",
    "\n",
    "# Drop NaN values\n",
    "df.dropna(inplace=True)\n",
    "\n",
    "# Define X and y\n",
    "X = df.drop(columns=['verschil_6 MWT'])\n",
    "y = df['verschil_6 MWT']\n",
    "\n",
    "# Split data into train & test data\n",
    "X_train, X_test, y_train, y_test = train_test_split(X, y, test_size=0.2, random_state=42)"
   ]
  },
  {
   "cell_type": "code",
   "execution_count": 4,
   "metadata": {},
   "outputs": [],
   "source": [
    "def bo_params_generic(model, params, X_train, y_train):\n",
    "    # Create the model instance with the specified parameters\n",
    "    regressor = model(**params)\n",
    "    \n",
    "    # Assuming you have X_train, y_train defined for regression\n",
    "    scores = cross_val_score(regressor, X_train, y_train, cv=10, scoring='neg_root_mean_squared_error')\n",
    "    return -scores.mean()"
   ]
  },
  {
   "attachments": {},
   "cell_type": "markdown",
   "metadata": {},
   "source": [
    "# MLR"
   ]
  },
  {
   "attachments": {},
   "cell_type": "markdown",
   "metadata": {},
   "source": [
    "**feature selection**"
   ]
  },
  {
   "cell_type": "code",
   "execution_count": 5,
   "metadata": {},
   "outputs": [
    {
     "name": "stdout",
     "output_type": "stream",
     "text": [
      "Best features: ['GeboorteRelatief', 'SterfteRelatief', 'InBezitWoningcorporatie', 'PersonenautoSOverigeBrandstof', 'GeweldsEnSeksueleMisdrijven', 'AfstandTotVolkstuin', 'Mantelzorger']\n",
      "Dropped features: ['TotaalDiefstalUitWoningSchuurED', 'AfstandTotSemiOpenbaarGroenTotaal', 'AfstandTotKinderdagverblijf', 'PersonenautoSPerHuishouden', 'AfstandTotPoppodium', 'UrenMantelzorgPerWeek', 'AfstandTotDagrecreatiefTerrein', 'AfstandTotOpenbaarGroenTotaal', 'AfstandTotSchool', 'AfstandTotZonnebank', 'AfstandTotBelangrijkOverstapstation', 'VernielingMisdrijfTegenOpenbareOrde', 'AfstandTotBuitenschoolseOpvang', 'ErvarenGezondheidGoedZeerGoed', 'BouwjaarVanaf2000', 'BeperkingInZien', 'ErnstigOvergewichtObesitas', 'AfstandTotOpenNatNatuurlijkTerrein', 'AfstandTotBrandweerkazerne', 'AfstandTotOpenNatTerreinTotaal', 'AfstandTotTreinstationsTotaal', 'kPersonenMetLaagsteInkomen', 'AfstandTotAttractie', 'VoldoetAanRichtlijnAlcoholgebruik', 'AfstandTotOvDagelLevensmiddelen', 'KLFinancieleDienstenOnroerendGoed', 'AfstandTotOpenDroogNatTerrein', 'AfstandTotVerblijfsrecreatiefTerrein', 'AfstandTotBioscoop', 'OppervlakteWater', 'AfstandTotZwembad', 'AfstandTotMuseum', 'ALandbouwBosbouwEnVisserij', 'AfstandTotHuisartsenpost', 'BeperkingInHoren', 'VoldoetAanBeweegrichtlijn', 'AfstandTotBibliotheek', 'MatigOvergewicht', 'AfstandTotApotheek', 'AfstandTotBos', 'AfstandTotSauna', 'AfstandTotKunstijsbaan', 'AfstandTotSportterrein', 'AfstandTotPodiumkunstenTotaal', 'Rokers', 'AfstandTotRestaurant', 'AfstandTotCafeED', 'PersonenautoSNaarOppervlakte', 'Ondergewicht', 'AfstandTotWarenhuis', 'AfstandTotHuisartsenpraktijk', 'EenOfMeerLangdurigeAandoeningen', 'AfstandTotCafetariaED', 'ZwaarBelasteMantelzorgers', 'AfstandTotHotelED', 'AfstandTotBegraafplaats', 'EigendomOnbekend', 'PercentageOnbewoond', 'OvermatigDrinker', 'AfstandTotConsultatiebureau', 'InBezitOverigeVerhuurders', 'NederlandseAntillenEnAruba', 'GemiddeldeWoningwaarde']\n"
     ]
    }
   ],
   "source": [
    "# Fit the Full Model\n",
    "X =  sm.add_constant(X_train)  # Add constant term for the intercept\n",
    "model = sm.OLS(y_train, X_train).fit()  # Fit the MLR model\n",
    "best_model = model  # Initialize the best model\n",
    "selected_features = X_train.columns.tolist()\n",
    "best_features = X_train.columns.tolist()\n",
    "best_features_rmse = np.sqrt(-cross_val_score(LinearRegression(), X_train, y_train, cv=10, scoring='neg_mean_squared_error').mean())\n",
    "\n",
    "# Iteratively remove one feature at a time based on p-values\n",
    "while True:\n",
    "    # Compute p-values\n",
    "    p_values = model.pvalues[1:]  # Exclude the constant term\n",
    "\n",
    "    # Identify Insignificant Features\n",
    "    insignificant_feature = p_values.idxmax()\n",
    "    max_p_value = p_values.max()\n",
    "\n",
    "    # Remove Insignificant Feature\n",
    "    X = X.drop(insignificant_feature, axis=1)\n",
    "    selected_features.remove(insignificant_feature)\n",
    "\n",
    "    # When there a no features left\n",
    "    if len(selected_features) == 0:\n",
    "        break\n",
    "    \n",
    "    # Refit the Model\n",
    "    model = sm.OLS(y_train, X).fit()\n",
    "    \n",
    "    # Evaluate Model Performance\n",
    "    rmse = np.sqrt(-cross_val_score(LinearRegression(), X_train[selected_features], y_train, cv=10, scoring='neg_mean_squared_error').mean())\n",
    "\n",
    "    # Check if the model performs better without the insignificant features\n",
    "    if rmse <= best_features_rmse:\n",
    "        best_features_rmse = rmse\n",
    "        best_features = selected_features.copy()\n",
    "        best_model = model\n",
    "\n",
    "# Save results\n",
    "best_model_mlr = LinearRegression().fit(X_train[best_features], y_train)\n",
    "best_features_mlr = best_features\n",
    "\n",
    "# Show results\n",
    "print(\"Best features:\", best_features)\n",
    "print(\"Dropped features:\", list(set(X_train.columns.tolist()) - set(best_features)))"
   ]
  },
  {
   "attachments": {},
   "cell_type": "markdown",
   "metadata": {},
   "source": [
    "*Er zijn geen hyperparameters om te optimaliseren.*"
   ]
  },
  {
   "attachments": {},
   "cell_type": "markdown",
   "metadata": {},
   "source": [
    "# Support Vector Machines"
   ]
  },
  {
   "attachments": {},
   "cell_type": "markdown",
   "metadata": {},
   "source": [
    "**Hyperparameter optimalisatie**"
   ]
  },
  {
   "cell_type": "code",
   "execution_count": 6,
   "metadata": {},
   "outputs": [
    {
     "name": "stdout",
     "output_type": "stream",
     "text": [
      "|   iter    |  target   |     C     |   gamma   | kernel... |\n",
      "-------------------------------------------------------------\n",
      "| \u001b[0m1        \u001b[0m | \u001b[0m-4.578e+0\u001b[0m | \u001b[0m5.522    \u001b[0m | \u001b[0m0.02113  \u001b[0m | \u001b[0m2.579    \u001b[0m |\n",
      "| \u001b[95m2        \u001b[0m | \u001b[95m-4.575e+0\u001b[0m | \u001b[95m6.055    \u001b[0m | \u001b[95m0.02225  \u001b[0m | \u001b[95m2.558    \u001b[0m |\n",
      "| \u001b[95m3        \u001b[0m | \u001b[95m-4.521e+0\u001b[0m | \u001b[95m7.694    \u001b[0m | \u001b[95m0.07436  \u001b[0m | \u001b[95m3.869    \u001b[0m |\n",
      "| \u001b[0m4        \u001b[0m | \u001b[0m-4.553e+0\u001b[0m | \u001b[0m7.906    \u001b[0m | \u001b[0m0.07924  \u001b[0m | \u001b[0m2.346    \u001b[0m |\n",
      "| \u001b[0m5        \u001b[0m | \u001b[0m-4.525e+0\u001b[0m | \u001b[0m5.572    \u001b[0m | \u001b[0m0.07804  \u001b[0m | \u001b[0m3.487    \u001b[0m |\n",
      "| \u001b[0m6        \u001b[0m | \u001b[0m-4.53e+03\u001b[0m | \u001b[0m4.188    \u001b[0m | \u001b[0m0.07188  \u001b[0m | \u001b[0m3.914    \u001b[0m |\n",
      "| \u001b[0m7        \u001b[0m | \u001b[0m-4.558e+0\u001b[0m | \u001b[0m4.225    \u001b[0m | \u001b[0m0.07391  \u001b[0m | \u001b[0m2.514    \u001b[0m |\n",
      "| \u001b[0m8        \u001b[0m | \u001b[0m-4.555e+0\u001b[0m | \u001b[0m7.041    \u001b[0m | \u001b[0m0.07779  \u001b[0m | \u001b[0m2.709    \u001b[0m |\n",
      "| \u001b[0m9        \u001b[0m | \u001b[0m-4.571e+0\u001b[0m | \u001b[0m2.758    \u001b[0m | \u001b[0m0.07276  \u001b[0m | \u001b[0m2.395    \u001b[0m |\n",
      "| \u001b[0m10       \u001b[0m | \u001b[0m-4.551e+0\u001b[0m | \u001b[0m8.356    \u001b[0m | \u001b[0m0.08802  \u001b[0m | \u001b[0m2.586    \u001b[0m |\n",
      "| \u001b[95m11       \u001b[0m | \u001b[95m-4.521e+0\u001b[0m | \u001b[95m6.498    \u001b[0m | \u001b[95m0.07917  \u001b[0m | \u001b[95m3.987    \u001b[0m |\n",
      "| \u001b[0m12       \u001b[0m | \u001b[0m-4.575e+0\u001b[0m | \u001b[0m5.219    \u001b[0m | \u001b[0m0.02876  \u001b[0m | \u001b[0m3.994    \u001b[0m |\n",
      "| \u001b[95m13       \u001b[0m | \u001b[95m-4.508e+0\u001b[0m | \u001b[95m9.365    \u001b[0m | \u001b[95m0.04472  \u001b[0m | \u001b[95m1.898    \u001b[0m |\n",
      "| \u001b[95m14       \u001b[0m | \u001b[95m-4.506e+0\u001b[0m | \u001b[95m9.572    \u001b[0m | \u001b[95m0.03906  \u001b[0m | \u001b[95m1.708    \u001b[0m |\n",
      "| \u001b[0m15       \u001b[0m | \u001b[0m-4.553e+0\u001b[0m | \u001b[0m6.865    \u001b[0m | \u001b[0m0.03398  \u001b[0m | \u001b[0m3.517    \u001b[0m |\n",
      "| \u001b[95m16       \u001b[0m | \u001b[95m-4.506e+0\u001b[0m | \u001b[95m9.58     \u001b[0m | \u001b[95m0.01423  \u001b[0m | \u001b[95m1.729    \u001b[0m |\n",
      "| \u001b[0m17       \u001b[0m | \u001b[0m-4.562e+0\u001b[0m | \u001b[0m9.875    \u001b[0m | \u001b[0m0.02957  \u001b[0m | \u001b[0m2.495    \u001b[0m |\n",
      "| \u001b[0m18       \u001b[0m | \u001b[0m-4.509e+0\u001b[0m | \u001b[0m9.131    \u001b[0m | \u001b[0m0.001    \u001b[0m | \u001b[0m1.488    \u001b[0m |\n",
      "| \u001b[0m19       \u001b[0m | \u001b[0m-4.526e+0\u001b[0m | \u001b[0m4.649    \u001b[0m | \u001b[0m0.03989  \u001b[0m | \u001b[0m1.463    \u001b[0m |\n",
      "| \u001b[0m20       \u001b[0m | \u001b[0m-4.535e+0\u001b[0m | \u001b[0m9.347    \u001b[0m | \u001b[0m0.04532  \u001b[0m | \u001b[0m3.416    \u001b[0m |\n",
      "| \u001b[0m21       \u001b[0m | \u001b[0m-4.529e+0\u001b[0m | \u001b[0m3.43     \u001b[0m | \u001b[0m0.08675  \u001b[0m | \u001b[0m1.746    \u001b[0m |\n",
      "| \u001b[0m22       \u001b[0m | \u001b[0m-4.507e+0\u001b[0m | \u001b[0m9.552    \u001b[0m | \u001b[0m0.03776  \u001b[0m | \u001b[0m1.706    \u001b[0m |\n",
      "| \u001b[0m23       \u001b[0m | \u001b[0m-4.552e+0\u001b[0m | \u001b[0m8.952    \u001b[0m | \u001b[0m0.0754   \u001b[0m | \u001b[0m2.688    \u001b[0m |\n",
      "| \u001b[0m24       \u001b[0m | \u001b[0m-4.582e+0\u001b[0m | \u001b[0m0.1343   \u001b[0m | \u001b[0m0.08575  \u001b[0m | \u001b[0m3.95     \u001b[0m |\n",
      "| \u001b[95m25       \u001b[0m | \u001b[95m-4.505e+0\u001b[0m | \u001b[95m9.887    \u001b[0m | \u001b[95m0.001    \u001b[0m | \u001b[95m1.112    \u001b[0m |\n",
      "| \u001b[0m26       \u001b[0m | \u001b[0m-4.508e+0\u001b[0m | \u001b[0m9.348    \u001b[0m | \u001b[0m0.07762  \u001b[0m | \u001b[0m1.027    \u001b[0m |\n",
      "| \u001b[0m27       \u001b[0m | \u001b[0m-4.512e+0\u001b[0m | \u001b[0m8.516    \u001b[0m | \u001b[0m0.04477  \u001b[0m | \u001b[0m1.002    \u001b[0m |\n",
      "| \u001b[0m28       \u001b[0m | \u001b[0m-4.529e+0\u001b[0m | \u001b[0m3.811    \u001b[0m | \u001b[0m0.08925  \u001b[0m | \u001b[0m1.004    \u001b[0m |\n",
      "| \u001b[0m29       \u001b[0m | \u001b[0m-4.514e+0\u001b[0m | \u001b[0m8.437    \u001b[0m | \u001b[0m0.09367  \u001b[0m | \u001b[0m4.0      \u001b[0m |\n",
      "| \u001b[0m30       \u001b[0m | \u001b[0m-4.513e+0\u001b[0m | \u001b[0m7.592    \u001b[0m | \u001b[0m0.001    \u001b[0m | \u001b[0m1.0      \u001b[0m |\n",
      "| \u001b[0m31       \u001b[0m | \u001b[0m-4.516e+0\u001b[0m | \u001b[0m6.773    \u001b[0m | \u001b[0m0.09853  \u001b[0m | \u001b[0m1.021    \u001b[0m |\n",
      "| \u001b[0m32       \u001b[0m | \u001b[0m-4.592e+0\u001b[0m | \u001b[0m0.1      \u001b[0m | \u001b[0m0.1      \u001b[0m | \u001b[0m1.0      \u001b[0m |\n",
      "| \u001b[0m33       \u001b[0m | \u001b[0m-6.965e+0\u001b[0m | \u001b[0m3.17     \u001b[0m | \u001b[0m0.1      \u001b[0m | \u001b[0m4.0      \u001b[0m |\n",
      "| \u001b[0m34       \u001b[0m | \u001b[0m-4.537e+0\u001b[0m | \u001b[0m1.937    \u001b[0m | \u001b[0m0.001    \u001b[0m | \u001b[0m1.22     \u001b[0m |\n",
      "| \u001b[0m35       \u001b[0m | \u001b[0m-4.605e+0\u001b[0m | \u001b[0m0.1      \u001b[0m | \u001b[0m0.001    \u001b[0m | \u001b[0m2.477    \u001b[0m |\n",
      "| \u001b[0m36       \u001b[0m | \u001b[0m-4.582e+0\u001b[0m | \u001b[0m1.393    \u001b[0m | \u001b[0m0.1      \u001b[0m | \u001b[0m2.271    \u001b[0m |\n",
      "| \u001b[0m37       \u001b[0m | \u001b[0m-4.52e+03\u001b[0m | \u001b[0m5.62     \u001b[0m | \u001b[0m0.06311  \u001b[0m | \u001b[0m1.003    \u001b[0m |\n",
      "| \u001b[0m38       \u001b[0m | \u001b[0m-6.215e+0\u001b[0m | \u001b[0m10.0     \u001b[0m | \u001b[0m0.1      \u001b[0m | \u001b[0m4.0      \u001b[0m |\n",
      "| \u001b[0m39       \u001b[0m | \u001b[0m-4.537e+0\u001b[0m | \u001b[0m1.517    \u001b[0m | \u001b[0m0.0965   \u001b[0m | \u001b[0m3.914    \u001b[0m |\n",
      "| \u001b[0m40       \u001b[0m | \u001b[0m-4.555e+0\u001b[0m | \u001b[0m0.9749   \u001b[0m | \u001b[0m0.01708  \u001b[0m | \u001b[0m1.025    \u001b[0m |\n",
      "| \u001b[0m41       \u001b[0m | \u001b[0m-4.605e+0\u001b[0m | \u001b[0m0.8641   \u001b[0m | \u001b[0m0.001    \u001b[0m | \u001b[0m3.177    \u001b[0m |\n",
      "| \u001b[0m42       \u001b[0m | \u001b[0m-4.605e+0\u001b[0m | \u001b[0m8.677    \u001b[0m | \u001b[0m0.001    \u001b[0m | \u001b[0m3.345    \u001b[0m |\n",
      "| \u001b[0m43       \u001b[0m | \u001b[0m-4.605e+0\u001b[0m | \u001b[0m2.155    \u001b[0m | \u001b[0m0.001    \u001b[0m | \u001b[0m3.187    \u001b[0m |\n",
      "| \u001b[0m44       \u001b[0m | \u001b[0m-4.529e+0\u001b[0m | \u001b[0m2.832    \u001b[0m | \u001b[0m0.001    \u001b[0m | \u001b[0m1.0      \u001b[0m |\n",
      "| \u001b[0m45       \u001b[0m | \u001b[0m-4.605e+0\u001b[0m | \u001b[0m3.466    \u001b[0m | \u001b[0m0.001    \u001b[0m | \u001b[0m3.053    \u001b[0m |\n",
      "| \u001b[0m46       \u001b[0m | \u001b[0m-4.517e+0\u001b[0m | \u001b[0m6.702    \u001b[0m | \u001b[0m0.001    \u001b[0m | \u001b[0m1.84     \u001b[0m |\n",
      "| \u001b[0m47       \u001b[0m | \u001b[0m-4.568e+0\u001b[0m | \u001b[0m0.5693   \u001b[0m | \u001b[0m0.1      \u001b[0m | \u001b[0m1.786    \u001b[0m |\n",
      "| \u001b[0m48       \u001b[0m | \u001b[0m-4.519e+0\u001b[0m | \u001b[0m4.711    \u001b[0m | \u001b[0m0.1      \u001b[0m | \u001b[0m3.218    \u001b[0m |\n",
      "| \u001b[0m49       \u001b[0m | \u001b[0m-4.52e+03\u001b[0m | \u001b[0m5.672    \u001b[0m | \u001b[0m0.1      \u001b[0m | \u001b[0m1.776    \u001b[0m |\n",
      "| \u001b[0m50       \u001b[0m | \u001b[0m-4.584e+0\u001b[0m | \u001b[0m2.251    \u001b[0m | \u001b[0m0.03195  \u001b[0m | \u001b[0m3.991    \u001b[0m |\n",
      "=============================================================\n"
     ]
    },
    {
     "data": {
      "text/html": [
       "<style>#sk-container-id-1 {color: black;background-color: white;}#sk-container-id-1 pre{padding: 0;}#sk-container-id-1 div.sk-toggleable {background-color: white;}#sk-container-id-1 label.sk-toggleable__label {cursor: pointer;display: block;width: 100%;margin-bottom: 0;padding: 0.3em;box-sizing: border-box;text-align: center;}#sk-container-id-1 label.sk-toggleable__label-arrow:before {content: \"▸\";float: left;margin-right: 0.25em;color: #696969;}#sk-container-id-1 label.sk-toggleable__label-arrow:hover:before {color: black;}#sk-container-id-1 div.sk-estimator:hover label.sk-toggleable__label-arrow:before {color: black;}#sk-container-id-1 div.sk-toggleable__content {max-height: 0;max-width: 0;overflow: hidden;text-align: left;background-color: #f0f8ff;}#sk-container-id-1 div.sk-toggleable__content pre {margin: 0.2em;color: black;border-radius: 0.25em;background-color: #f0f8ff;}#sk-container-id-1 input.sk-toggleable__control:checked~div.sk-toggleable__content {max-height: 200px;max-width: 100%;overflow: auto;}#sk-container-id-1 input.sk-toggleable__control:checked~label.sk-toggleable__label-arrow:before {content: \"▾\";}#sk-container-id-1 div.sk-estimator input.sk-toggleable__control:checked~label.sk-toggleable__label {background-color: #d4ebff;}#sk-container-id-1 div.sk-label input.sk-toggleable__control:checked~label.sk-toggleable__label {background-color: #d4ebff;}#sk-container-id-1 input.sk-hidden--visually {border: 0;clip: rect(1px 1px 1px 1px);clip: rect(1px, 1px, 1px, 1px);height: 1px;margin: -1px;overflow: hidden;padding: 0;position: absolute;width: 1px;}#sk-container-id-1 div.sk-estimator {font-family: monospace;background-color: #f0f8ff;border: 1px dotted black;border-radius: 0.25em;box-sizing: border-box;margin-bottom: 0.5em;}#sk-container-id-1 div.sk-estimator:hover {background-color: #d4ebff;}#sk-container-id-1 div.sk-parallel-item::after {content: \"\";width: 100%;border-bottom: 1px solid gray;flex-grow: 1;}#sk-container-id-1 div.sk-label:hover label.sk-toggleable__label {background-color: #d4ebff;}#sk-container-id-1 div.sk-serial::before {content: \"\";position: absolute;border-left: 1px solid gray;box-sizing: border-box;top: 0;bottom: 0;left: 50%;z-index: 0;}#sk-container-id-1 div.sk-serial {display: flex;flex-direction: column;align-items: center;background-color: white;padding-right: 0.2em;padding-left: 0.2em;position: relative;}#sk-container-id-1 div.sk-item {position: relative;z-index: 1;}#sk-container-id-1 div.sk-parallel {display: flex;align-items: stretch;justify-content: center;background-color: white;position: relative;}#sk-container-id-1 div.sk-item::before, #sk-container-id-1 div.sk-parallel-item::before {content: \"\";position: absolute;border-left: 1px solid gray;box-sizing: border-box;top: 0;bottom: 0;left: 50%;z-index: -1;}#sk-container-id-1 div.sk-parallel-item {display: flex;flex-direction: column;z-index: 1;position: relative;background-color: white;}#sk-container-id-1 div.sk-parallel-item:first-child::after {align-self: flex-end;width: 50%;}#sk-container-id-1 div.sk-parallel-item:last-child::after {align-self: flex-start;width: 50%;}#sk-container-id-1 div.sk-parallel-item:only-child::after {width: 0;}#sk-container-id-1 div.sk-dashed-wrapped {border: 1px dashed gray;margin: 0 0.4em 0.5em 0.4em;box-sizing: border-box;padding-bottom: 0.4em;background-color: white;}#sk-container-id-1 div.sk-label label {font-family: monospace;font-weight: bold;display: inline-block;line-height: 1.2em;}#sk-container-id-1 div.sk-label-container {text-align: center;}#sk-container-id-1 div.sk-container {/* jupyter's `normalize.less` sets `[hidden] { display: none; }` but bootstrap.min.css set `[hidden] { display: none !important; }` so we also need the `!important` here to be able to override the default hidden behavior on the sphinx rendered scikit-learn.org. See: https://github.com/scikit-learn/scikit-learn/issues/21755 */display: inline-block !important;position: relative;}#sk-container-id-1 div.sk-text-repr-fallback {display: none;}</style><div id=\"sk-container-id-1\" class=\"sk-top-container\"><div class=\"sk-text-repr-fallback\"><pre>SVR(C=9.887090610768734, gamma=0.001, kernel=&#x27;linear&#x27;)</pre><b>In a Jupyter environment, please rerun this cell to show the HTML representation or trust the notebook. <br />On GitHub, the HTML representation is unable to render, please try loading this page with nbviewer.org.</b></div><div class=\"sk-container\" hidden><div class=\"sk-item\"><div class=\"sk-estimator sk-toggleable\"><input class=\"sk-toggleable__control sk-hidden--visually\" id=\"sk-estimator-id-1\" type=\"checkbox\" checked><label for=\"sk-estimator-id-1\" class=\"sk-toggleable__label sk-toggleable__label-arrow\">SVR</label><div class=\"sk-toggleable__content\"><pre>SVR(C=9.887090610768734, gamma=0.001, kernel=&#x27;linear&#x27;)</pre></div></div></div></div></div>"
      ],
      "text/plain": [
       "SVR(C=9.887090610768734, gamma=0.001, kernel='linear')"
      ]
     },
     "execution_count": 6,
     "metadata": {},
     "output_type": "execute_result"
    }
   ],
   "source": [
    "def bo_params_generic(model, params, X_train, y_train):\n",
    "    # Create the model instance with the specified parameters\n",
    "    classifier = model(**params)\n",
    "    \n",
    "    # Calculating accuracy based on cross-validation\n",
    "    scores = cross_val_score(classifier, X_train, y_train, cv=10, scoring='neg_mean_squared_error')\n",
    "    return scores.mean()\n",
    "\n",
    "params_ranges = {\n",
    "    'C': (0.1, 10),\n",
    "    'kernel_int': (1, 4),\n",
    "    'gamma': (0.001, 0.1)\n",
    "}\n",
    "\n",
    "kernel_mapping = {\n",
    "    1: 'linear',\n",
    "    2: 'rbf',\n",
    "    3: 'poly',\n",
    "    4: 'sigmoid'\n",
    "}\n",
    "\n",
    "# Example usage with SVM\n",
    "model = SVR\n",
    "model_bo = BayesianOptimization(f=lambda C, kernel_int, gamma:\n",
    "                                    bo_params_generic(model, {\n",
    "                                        'C': C,\n",
    "                                        'kernel': kernel_mapping[int(kernel_int)],\n",
    "                                        'gamma': gamma\n",
    "                                    }, X_train, y_train),\n",
    "                             pbounds=params_ranges)\n",
    "\n",
    "results = model_bo.maximize(n_iter=40, init_points=10)\n",
    "params = model_bo.max['params']\n",
    "\n",
    "# Creating a model with the best hyperparameters\n",
    "best_model_svm = model(\n",
    "    C=params['C'],\n",
    "    kernel=kernel_mapping[int(params['kernel_int'])],\n",
    "    gamma=params['gamma']\n",
    ")\n",
    "\n",
    "# Fit the model\n",
    "best_model_svm.fit(X_train, y_train)\n"
   ]
  },
  {
   "attachments": {},
   "cell_type": "markdown",
   "metadata": {},
   "source": [
    "**Feature Selection**"
   ]
  },
  {
   "cell_type": "code",
   "execution_count": 7,
   "metadata": {},
   "outputs": [
    {
     "name": "stdout",
     "output_type": "stream",
     "text": [
      "Scince the kernal is not linear, this feature selection is not possible\n",
      "Best features: Index(['NederlandseAntillenEnAruba', 'GeboorteRelatief', 'SterfteRelatief',\n",
      "       'GemiddeldeWoningwaarde', 'PercentageOnbewoond',\n",
      "       'InBezitWoningcorporatie', 'InBezitOverigeVerhuurders',\n",
      "       'EigendomOnbekend', 'BouwjaarVanaf2000', 'kPersonenMetLaagsteInkomen',\n",
      "       'ALandbouwBosbouwEnVisserij', 'KLFinancieleDienstenOnroerendGoed',\n",
      "       'PersonenautoSOverigeBrandstof', 'PersonenautoSPerHuishouden',\n",
      "       'PersonenautoSNaarOppervlakte', 'AfstandTotHuisartsenpraktijk',\n",
      "       'AfstandTotKinderdagverblijf', 'AfstandTotSchool', 'OppervlakteWater',\n",
      "       'TotaalDiefstalUitWoningSchuurED',\n",
      "       'VernielingMisdrijfTegenOpenbareOrde', 'GeweldsEnSeksueleMisdrijven',\n",
      "       'AfstandTotHuisartsenpost', 'AfstandTotApotheek',\n",
      "       'AfstandTotConsultatiebureau', 'AfstandTotOvDagelLevensmiddelen',\n",
      "       'AfstandTotWarenhuis', 'AfstandTotCafeED', 'AfstandTotCafetariaED',\n",
      "       'AfstandTotRestaurant', 'AfstandTotHotelED',\n",
      "       'AfstandTotBuitenschoolseOpvang', 'AfstandTotOpenbaarGroenTotaal',\n",
      "       'AfstandTotDagrecreatiefTerrein', 'AfstandTotBos',\n",
      "       'AfstandTotOpenNatTerreinTotaal', 'AfstandTotOpenDroogNatTerrein',\n",
      "       'AfstandTotOpenNatNatuurlijkTerrein',\n",
      "       'AfstandTotSemiOpenbaarGroenTotaal', 'AfstandTotSportterrein',\n",
      "       'AfstandTotVolkstuin', 'AfstandTotVerblijfsrecreatiefTerrein',\n",
      "       'AfstandTotBegraafplaats', 'AfstandTotTreinstationsTotaal',\n",
      "       'AfstandTotBelangrijkOverstapstation', 'AfstandTotBibliotheek',\n",
      "       'AfstandTotZwembad', 'AfstandTotKunstijsbaan', 'AfstandTotMuseum',\n",
      "       'AfstandTotPodiumkunstenTotaal', 'AfstandTotPoppodium',\n",
      "       'AfstandTotBioscoop', 'AfstandTotSauna', 'AfstandTotZonnebank',\n",
      "       'AfstandTotAttractie', 'AfstandTotBrandweerkazerne',\n",
      "       'ErvarenGezondheidGoedZeerGoed', 'EenOfMeerLangdurigeAandoeningen',\n",
      "       'BeperkingInHoren', 'BeperkingInZien', 'Ondergewicht',\n",
      "       'MatigOvergewicht', 'ErnstigOvergewichtObesitas',\n",
      "       'VoldoetAanBeweegrichtlijn', 'Mantelzorger',\n",
      "       'ZwaarBelasteMantelzorgers', 'UrenMantelzorgPerWeek', 'Rokers',\n",
      "       'VoldoetAanRichtlijnAlcoholgebruik', 'OvermatigDrinker'],\n",
      "      dtype='object')\n",
      "Dropped features: []\n"
     ]
    }
   ],
   "source": [
    "# Get the accuracy score of the model with all features\n",
    "best_accuracy = cross_val_score(best_model_svm, X_train, y_train, cv=10, scoring='neg_mean_squared_error', n_jobs=-1).mean()\n",
    "best_model = best_model_svm\n",
    "selected_features = X_train.columns\n",
    "best_features = selected_features\n",
    "\n",
    "while len(selected_features) > 1:\n",
    "    try:\n",
    "        # Retrieve the coefficients from the SVM model\n",
    "        coefficients = best_model_svm.coef_[0]\n",
    "\n",
    "        # Sort features based on their coefficient magnitudes\n",
    "        sorted_indices = np.argsort(np.abs(coefficients))\n",
    "        selected_features = [X_train.columns[i] for i in sorted_indices[::-1]]\n",
    "\n",
    "        # Remove the least important feature\n",
    "        selected_features = selected_features[:-1]\n",
    "        \n",
    "        # Refit the linear SVM classifier\n",
    "        best_model_svm_classification.fit(X_train[selected_features], y_train)\n",
    "        \n",
    "        # Evaluate Model Performance\n",
    "        accuracy = cross_val_score(best_model_svm, X_train[selected_features], y_train, cv=10, scoring='neg_mean_squared_error', n_jobs=-1).mean()\n",
    "\n",
    "        # Check if the model performs better without the insignificant features\n",
    "        if accuracy >= best_accuracy:\n",
    "            best_accuracy = accuracy\n",
    "            best_features = selected_features.copy()\n",
    "            best_model = best_model_svm\n",
    "    except:\n",
    "        print(\"Scince the kernal is not linear, this feature selection is not possible\") \n",
    "        break\n",
    "\n",
    "# Save results\n",
    "best_model_svm = best_model\n",
    "best_features_svm = best_features\n",
    "\n",
    "# Show results\n",
    "print(\"Best features:\", best_features_svm)\n",
    "print(\"Dropped features:\", list(set(X_train.columns.tolist()) - set(best_features_svm)))"
   ]
  },
  {
   "attachments": {},
   "cell_type": "markdown",
   "metadata": {},
   "source": [
    "# Random Forest"
   ]
  },
  {
   "attachments": {},
   "cell_type": "markdown",
   "metadata": {},
   "source": [
    "**Feature selection**"
   ]
  },
  {
   "cell_type": "code",
   "execution_count": 8,
   "metadata": {},
   "outputs": [
    {
     "name": "stdout",
     "output_type": "stream",
     "text": [
      "Best features: ['AfstandTotApotheek', 'AfstandTotBioscoop', 'AfstandTotAttractie']\n",
      "Dropped features: ['TotaalDiefstalUitWoningSchuurED', 'AfstandTotSemiOpenbaarGroenTotaal', 'AfstandTotKinderdagverblijf', 'PersonenautoSPerHuishouden', 'AfstandTotPoppodium', 'UrenMantelzorgPerWeek', 'AfstandTotDagrecreatiefTerrein', 'AfstandTotOpenbaarGroenTotaal', 'AfstandTotSchool', 'AfstandTotZonnebank', 'AfstandTotBelangrijkOverstapstation', 'GeweldsEnSeksueleMisdrijven', 'VernielingMisdrijfTegenOpenbareOrde', 'AfstandTotBuitenschoolseOpvang', 'ErvarenGezondheidGoedZeerGoed', 'BouwjaarVanaf2000', 'BeperkingInZien', 'GeboorteRelatief', 'ErnstigOvergewichtObesitas', 'AfstandTotOpenNatNatuurlijkTerrein', 'AfstandTotBrandweerkazerne', 'AfstandTotOpenNatTerreinTotaal', 'AfstandTotTreinstationsTotaal', 'kPersonenMetLaagsteInkomen', 'VoldoetAanRichtlijnAlcoholgebruik', 'AfstandTotOvDagelLevensmiddelen', 'KLFinancieleDienstenOnroerendGoed', 'AfstandTotOpenDroogNatTerrein', 'AfstandTotVerblijfsrecreatiefTerrein', 'OppervlakteWater', 'AfstandTotZwembad', 'AfstandTotMuseum', 'ALandbouwBosbouwEnVisserij', 'AfstandTotHuisartsenpost', 'BeperkingInHoren', 'VoldoetAanBeweegrichtlijn', 'AfstandTotBibliotheek', 'MatigOvergewicht', 'AfstandTotBos', 'AfstandTotSauna', 'AfstandTotKunstijsbaan', 'AfstandTotSportterrein', 'SterfteRelatief', 'Mantelzorger', 'AfstandTotPodiumkunstenTotaal', 'Rokers', 'AfstandTotRestaurant', 'AfstandTotCafeED', 'AfstandTotVolkstuin', 'PersonenautoSNaarOppervlakte', 'Ondergewicht', 'AfstandTotWarenhuis', 'InBezitWoningcorporatie', 'AfstandTotHuisartsenpraktijk', 'EenOfMeerLangdurigeAandoeningen', 'AfstandTotCafetariaED', 'ZwaarBelasteMantelzorgers', 'PersonenautoSOverigeBrandstof', 'AfstandTotHotelED', 'AfstandTotBegraafplaats', 'EigendomOnbekend', 'PercentageOnbewoond', 'OvermatigDrinker', 'AfstandTotConsultatiebureau', 'InBezitOverigeVerhuurders', 'NederlandseAntillenEnAruba', 'GemiddeldeWoningwaarde']\n"
     ]
    }
   ],
   "source": [
    "# Get the accuracy score of the model with all the features\n",
    "rf = RandomForestRegressor(n_estimators=100, random_state=0).fit(X_train, y_train)\n",
    "best_rf = rf\n",
    "selected_features = X_train.columns.tolist()\n",
    "best_features = selected_features\n",
    "best_features_accuracy = cross_val_score(RandomForestRegressor(n_estimators=100, random_state=0), X_train, y_train, cv=10, scoring='neg_mean_squared_error', n_jobs=-1).mean()\n",
    "\n",
    "while True:\n",
    "    # Make DataFrame of feature impotances\n",
    "    result = permutation_importance(\n",
    "            rf, X_train[selected_features], y_train, n_repeats=10, random_state=42, n_jobs=-1\n",
    "        )\n",
    "    df_importances = pd.DataFrame({'feature': X_train[selected_features].columns, 'importance': result.importances_mean, 'std': result.importances_std})\n",
    "    df_importances = df_importances.sort_values('importance')\n",
    "\n",
    "    # Remove least important feature\n",
    "    selected_features.remove(df_importances['feature'].iloc[0])\n",
    "\n",
    "    # When there are no features left\n",
    "    if len(selected_features) == 0:\n",
    "        break\n",
    "    \n",
    "    # Refit the Model\n",
    "    rf = RandomForestRegressor(n_estimators=100, random_state=0).fit(X_train[selected_features], y_train)\n",
    "\n",
    "    # Evaluate Model Performance\n",
    "    accuracy = cross_val_score(RandomForestRegressor(n_estimators=100, random_state=0), X_train[selected_features], y_train, cv=10, scoring='neg_mean_squared_error', n_jobs=-1).mean()\n",
    "\n",
    "    # Check if the model performs better without the insignificant features\n",
    "    if accuracy >= best_features_accuracy:\n",
    "        best_features_accuracy = accuracy\n",
    "        best_features = selected_features.copy()\n",
    "        best_model = rf\n",
    "\n",
    "# Save results\n",
    "best_model_rf = best_model\n",
    "best_features_rf = best_features\n",
    "\n",
    "# Show results\n",
    "print(\"Best features:\", best_features_rf)\n",
    "print(\"Dropped features:\", list(set(X_train.columns.tolist()) - set(best_features_rf)))"
   ]
  },
  {
   "attachments": {},
   "cell_type": "markdown",
   "metadata": {},
   "source": [
    "**Hyperparameter optimalisatie**"
   ]
  },
  {
   "cell_type": "code",
   "execution_count": 9,
   "metadata": {},
   "outputs": [
    {
     "name": "stdout",
     "output_type": "stream",
     "text": [
      "|   iter    |  target   | max_depth | max_fe... | min_sa... | n_esti... |\n",
      "-------------------------------------------------------------------------\n",
      "| \u001b[0m1        \u001b[0m | \u001b[0m-4.481e+0\u001b[0m | \u001b[0m4.103    \u001b[0m | \u001b[0m0.8689   \u001b[0m | \u001b[0m9.584    \u001b[0m | \u001b[0m904.9    \u001b[0m |\n",
      "| \u001b[0m2        \u001b[0m | \u001b[0m-4.481e+0\u001b[0m | \u001b[0m3.56     \u001b[0m | \u001b[0m0.8826   \u001b[0m | \u001b[0m9.711    \u001b[0m | \u001b[0m831.6    \u001b[0m |\n",
      "| \u001b[0m3        \u001b[0m | \u001b[0m-4.485e+0\u001b[0m | \u001b[0m14.12    \u001b[0m | \u001b[0m0.2246   \u001b[0m | \u001b[0m4.379    \u001b[0m | \u001b[0m544.1    \u001b[0m |\n",
      "| \u001b[95m4        \u001b[0m | \u001b[95m-4.475e+0\u001b[0m | \u001b[95m3.213    \u001b[0m | \u001b[95m0.3754   \u001b[0m | \u001b[95m8.735    \u001b[0m | \u001b[95m140.7    \u001b[0m |\n",
      "| \u001b[0m5        \u001b[0m | \u001b[0m-4.484e+0\u001b[0m | \u001b[0m15.22    \u001b[0m | \u001b[0m0.842    \u001b[0m | \u001b[0m9.347    \u001b[0m | \u001b[0m764.5    \u001b[0m |\n",
      "| \u001b[0m6        \u001b[0m | \u001b[0m-4.485e+0\u001b[0m | \u001b[0m13.04    \u001b[0m | \u001b[0m0.6182   \u001b[0m | \u001b[0m4.432    \u001b[0m | \u001b[0m325.2    \u001b[0m |\n",
      "| \u001b[0m7        \u001b[0m | \u001b[0m-4.484e+0\u001b[0m | \u001b[0m18.05    \u001b[0m | \u001b[0m0.9042   \u001b[0m | \u001b[0m9.818    \u001b[0m | \u001b[0m180.4    \u001b[0m |\n",
      "| \u001b[0m8        \u001b[0m | \u001b[0m-4.485e+0\u001b[0m | \u001b[0m17.01    \u001b[0m | \u001b[0m0.3149   \u001b[0m | \u001b[0m7.036    \u001b[0m | \u001b[0m207.3    \u001b[0m |\n",
      "| \u001b[0m9        \u001b[0m | \u001b[0m-4.484e+0\u001b[0m | \u001b[0m16.41    \u001b[0m | \u001b[0m0.9293   \u001b[0m | \u001b[0m9.057    \u001b[0m | \u001b[0m586.8    \u001b[0m |\n",
      "| \u001b[0m10       \u001b[0m | \u001b[0m-4.476e+0\u001b[0m | \u001b[0m2.585    \u001b[0m | \u001b[0m0.385    \u001b[0m | \u001b[0m11.6     \u001b[0m | \u001b[0m446.5    \u001b[0m |\n",
      "| \u001b[0m11       \u001b[0m | \u001b[0m-4.476e+0\u001b[0m | \u001b[0m3.789    \u001b[0m | \u001b[0m0.1702   \u001b[0m | \u001b[0m9.295    \u001b[0m | \u001b[0m141.9    \u001b[0m |\n",
      "| \u001b[0m12       \u001b[0m | \u001b[0m-4.518e+0\u001b[0m | \u001b[0m1.0      \u001b[0m | \u001b[0m0.1      \u001b[0m | \u001b[0m12.0     \u001b[0m | \u001b[0m102.3    \u001b[0m |\n",
      "| \u001b[0m13       \u001b[0m | \u001b[0m-4.485e+0\u001b[0m | \u001b[0m20.0     \u001b[0m | \u001b[0m0.2882   \u001b[0m | \u001b[0m2.854    \u001b[0m | \u001b[0m435.9    \u001b[0m |\n",
      "| \u001b[0m14       \u001b[0m | \u001b[0m-4.519e+0\u001b[0m | \u001b[0m1.0      \u001b[0m | \u001b[0m0.3279   \u001b[0m | \u001b[0m12.0     \u001b[0m | \u001b[0m467.4    \u001b[0m |\n",
      "| \u001b[0m15       \u001b[0m | \u001b[0m-4.483e+0\u001b[0m | \u001b[0m2.285    \u001b[0m | \u001b[0m0.2389   \u001b[0m | \u001b[0m9.563    \u001b[0m | \u001b[0m433.7    \u001b[0m |\n",
      "| \u001b[0m16       \u001b[0m | \u001b[0m-4.485e+0\u001b[0m | \u001b[0m14.99    \u001b[0m | \u001b[0m1.0      \u001b[0m | \u001b[0m2.0      \u001b[0m | \u001b[0m138.4    \u001b[0m |\n",
      "| \u001b[0m17       \u001b[0m | \u001b[0m-4.562e+0\u001b[0m | \u001b[0m1.0      \u001b[0m | \u001b[0m1.0      \u001b[0m | \u001b[0m2.0      \u001b[0m | \u001b[0m153.5    \u001b[0m |\n",
      "| \u001b[0m18       \u001b[0m | \u001b[0m-4.483e+0\u001b[0m | \u001b[0m10.22    \u001b[0m | \u001b[0m0.1827   \u001b[0m | \u001b[0m10.81    \u001b[0m | \u001b[0m133.9    \u001b[0m |\n",
      "| \u001b[0m19       \u001b[0m | \u001b[0m-4.485e+0\u001b[0m | \u001b[0m11.33    \u001b[0m | \u001b[0m0.1893   \u001b[0m | \u001b[0m9.037    \u001b[0m | \u001b[0m443.7    \u001b[0m |\n",
      "| \u001b[0m20       \u001b[0m | \u001b[0m-4.525e+0\u001b[0m | \u001b[0m1.05     \u001b[0m | \u001b[0m0.8672   \u001b[0m | \u001b[0m3.034    \u001b[0m | \u001b[0m441.9    \u001b[0m |\n",
      "| \u001b[95m21       \u001b[0m | \u001b[95m-4.47e+03\u001b[0m | \u001b[95m6.405    \u001b[0m | \u001b[95m0.2315   \u001b[0m | \u001b[95m11.35    \u001b[0m | \u001b[95m452.3    \u001b[0m |\n",
      "| \u001b[0m22       \u001b[0m | \u001b[0m-4.485e+0\u001b[0m | \u001b[0m12.42    \u001b[0m | \u001b[0m0.3886   \u001b[0m | \u001b[0m6.81     \u001b[0m | \u001b[0m453.9    \u001b[0m |\n",
      "| \u001b[0m23       \u001b[0m | \u001b[0m-4.48e+03\u001b[0m | \u001b[0m3.497    \u001b[0m | \u001b[0m0.919    \u001b[0m | \u001b[0m2.641    \u001b[0m | \u001b[0m131.3    \u001b[0m |\n",
      "| \u001b[0m24       \u001b[0m | \u001b[0m-4.527e+0\u001b[0m | \u001b[0m1.49     \u001b[0m | \u001b[0m0.985    \u001b[0m | \u001b[0m11.64    \u001b[0m | \u001b[0m130.7    \u001b[0m |\n",
      "| \u001b[0m25       \u001b[0m | \u001b[0m-4.518e+0\u001b[0m | \u001b[0m1.143    \u001b[0m | \u001b[0m0.2507   \u001b[0m | \u001b[0m10.26    \u001b[0m | \u001b[0m452.2    \u001b[0m |\n",
      "| \u001b[0m26       \u001b[0m | \u001b[0m-4.474e+0\u001b[0m | \u001b[0m6.898    \u001b[0m | \u001b[0m0.3044   \u001b[0m | \u001b[0m11.76    \u001b[0m | \u001b[0m448.8    \u001b[0m |\n",
      "| \u001b[0m27       \u001b[0m | \u001b[0m-4.484e+0\u001b[0m | \u001b[0m10.63    \u001b[0m | \u001b[0m0.5521   \u001b[0m | \u001b[0m10.88    \u001b[0m | \u001b[0m450.4    \u001b[0m |\n",
      "| \u001b[0m28       \u001b[0m | \u001b[0m-4.482e+0\u001b[0m | \u001b[0m8.9      \u001b[0m | \u001b[0m0.1      \u001b[0m | \u001b[0m12.0     \u001b[0m | \u001b[0m456.1    \u001b[0m |\n",
      "| \u001b[0m29       \u001b[0m | \u001b[0m-4.481e+0\u001b[0m | \u001b[0m8.118    \u001b[0m | \u001b[0m0.1      \u001b[0m | \u001b[0m6.255    \u001b[0m | \u001b[0m139.2    \u001b[0m |\n",
      "| \u001b[0m30       \u001b[0m | \u001b[0m-4.472e+0\u001b[0m | \u001b[0m5.312    \u001b[0m | \u001b[0m0.1      \u001b[0m | \u001b[0m12.0     \u001b[0m | \u001b[0m441.9    \u001b[0m |\n",
      "| \u001b[0m31       \u001b[0m | \u001b[0m-4.484e+0\u001b[0m | \u001b[0m10.59    \u001b[0m | \u001b[0m0.1213   \u001b[0m | \u001b[0m11.43    \u001b[0m | \u001b[0m436.0    \u001b[0m |\n",
      "| \u001b[0m32       \u001b[0m | \u001b[0m-4.483e+0\u001b[0m | \u001b[0m11.58    \u001b[0m | \u001b[0m0.5742   \u001b[0m | \u001b[0m11.99    \u001b[0m | \u001b[0m144.0    \u001b[0m |\n",
      "| \u001b[0m33       \u001b[0m | \u001b[0m-4.485e+0\u001b[0m | \u001b[0m10.83    \u001b[0m | \u001b[0m0.1      \u001b[0m | \u001b[0m2.0      \u001b[0m | \u001b[0m130.8    \u001b[0m |\n",
      "| \u001b[0m34       \u001b[0m | \u001b[0m-4.483e+0\u001b[0m | \u001b[0m1.62     \u001b[0m | \u001b[0m0.1      \u001b[0m | \u001b[0m2.0      \u001b[0m | \u001b[0m138.2    \u001b[0m |\n",
      "| \u001b[0m35       \u001b[0m | \u001b[0m-4.484e+0\u001b[0m | \u001b[0m17.8     \u001b[0m | \u001b[0m0.1      \u001b[0m | \u001b[0m11.26    \u001b[0m | \u001b[0m137.0    \u001b[0m |\n",
      "| \u001b[0m36       \u001b[0m | \u001b[0m-4.485e+0\u001b[0m | \u001b[0m9.581    \u001b[0m | \u001b[0m0.5006   \u001b[0m | \u001b[0m7.743    \u001b[0m | \u001b[0m899.1    \u001b[0m |\n",
      "| \u001b[0m37       \u001b[0m | \u001b[0m-4.483e+0\u001b[0m | \u001b[0m11.25    \u001b[0m | \u001b[0m0.983    \u001b[0m | \u001b[0m11.27    \u001b[0m | \u001b[0m908.1    \u001b[0m |\n",
      "| \u001b[0m38       \u001b[0m | \u001b[0m-4.482e+0\u001b[0m | \u001b[0m7.728    \u001b[0m | \u001b[0m0.9991   \u001b[0m | \u001b[0m2.876    \u001b[0m | \u001b[0m907.7    \u001b[0m |\n",
      "| \u001b[0m39       \u001b[0m | \u001b[0m-4.472e+0\u001b[0m | \u001b[0m5.052    \u001b[0m | \u001b[0m0.343    \u001b[0m | \u001b[0m8.828    \u001b[0m | \u001b[0m913.7    \u001b[0m |\n",
      "| \u001b[0m40       \u001b[0m | \u001b[0m-4.518e+0\u001b[0m | \u001b[0m1.0      \u001b[0m | \u001b[0m0.1      \u001b[0m | \u001b[0m4.549    \u001b[0m | \u001b[0m912.1    \u001b[0m |\n",
      "| \u001b[0m41       \u001b[0m | \u001b[0m-4.48e+03\u001b[0m | \u001b[0m8.164    \u001b[0m | \u001b[0m0.7056   \u001b[0m | \u001b[0m12.0     \u001b[0m | \u001b[0m914.9    \u001b[0m |\n",
      "| \u001b[0m42       \u001b[0m | \u001b[0m-4.485e+0\u001b[0m | \u001b[0m10.05    \u001b[0m | \u001b[0m0.9782   \u001b[0m | \u001b[0m6.681    \u001b[0m | \u001b[0m912.9    \u001b[0m |\n",
      "| \u001b[0m43       \u001b[0m | \u001b[0m-4.475e+0\u001b[0m | \u001b[0m2.79     \u001b[0m | \u001b[0m0.1      \u001b[0m | \u001b[0m12.0     \u001b[0m | \u001b[0m917.5    \u001b[0m |\n",
      "| \u001b[0m44       \u001b[0m | \u001b[0m-4.47e+03\u001b[0m | \u001b[0m6.147    \u001b[0m | \u001b[0m0.2525   \u001b[0m | \u001b[0m8.645    \u001b[0m | \u001b[0m920.1    \u001b[0m |\n",
      "| \u001b[0m45       \u001b[0m | \u001b[0m-4.479e+0\u001b[0m | \u001b[0m4.356    \u001b[0m | \u001b[0m1.0      \u001b[0m | \u001b[0m12.0     \u001b[0m | \u001b[0m924.3    \u001b[0m |\n",
      "| \u001b[0m46       \u001b[0m | \u001b[0m-4.485e+0\u001b[0m | \u001b[0m10.14    \u001b[0m | \u001b[0m0.6961   \u001b[0m | \u001b[0m6.55     \u001b[0m | \u001b[0m923.7    \u001b[0m |\n",
      "| \u001b[0m47       \u001b[0m | \u001b[0m-4.518e+0\u001b[0m | \u001b[0m1.49     \u001b[0m | \u001b[0m0.4825   \u001b[0m | \u001b[0m5.763    \u001b[0m | \u001b[0m924.7    \u001b[0m |\n",
      "| \u001b[0m48       \u001b[0m | \u001b[0m-4.485e+0\u001b[0m | \u001b[0m13.8     \u001b[0m | \u001b[0m0.1224   \u001b[0m | \u001b[0m3.543    \u001b[0m | \u001b[0m903.8    \u001b[0m |\n",
      "| \u001b[0m49       \u001b[0m | \u001b[0m-4.483e+0\u001b[0m | \u001b[0m9.898    \u001b[0m | \u001b[0m0.8728   \u001b[0m | \u001b[0m10.65    \u001b[0m | \u001b[0m920.8    \u001b[0m |\n",
      "| \u001b[0m50       \u001b[0m | \u001b[0m-4.48e+03\u001b[0m | \u001b[0m8.218    \u001b[0m | \u001b[0m0.3155   \u001b[0m | \u001b[0m5.366    \u001b[0m | \u001b[0m836.2    \u001b[0m |\n",
      "=========================================================================\n"
     ]
    },
    {
     "data": {
      "text/html": [
       "<style>#sk-container-id-2 {color: black;background-color: white;}#sk-container-id-2 pre{padding: 0;}#sk-container-id-2 div.sk-toggleable {background-color: white;}#sk-container-id-2 label.sk-toggleable__label {cursor: pointer;display: block;width: 100%;margin-bottom: 0;padding: 0.3em;box-sizing: border-box;text-align: center;}#sk-container-id-2 label.sk-toggleable__label-arrow:before {content: \"▸\";float: left;margin-right: 0.25em;color: #696969;}#sk-container-id-2 label.sk-toggleable__label-arrow:hover:before {color: black;}#sk-container-id-2 div.sk-estimator:hover label.sk-toggleable__label-arrow:before {color: black;}#sk-container-id-2 div.sk-toggleable__content {max-height: 0;max-width: 0;overflow: hidden;text-align: left;background-color: #f0f8ff;}#sk-container-id-2 div.sk-toggleable__content pre {margin: 0.2em;color: black;border-radius: 0.25em;background-color: #f0f8ff;}#sk-container-id-2 input.sk-toggleable__control:checked~div.sk-toggleable__content {max-height: 200px;max-width: 100%;overflow: auto;}#sk-container-id-2 input.sk-toggleable__control:checked~label.sk-toggleable__label-arrow:before {content: \"▾\";}#sk-container-id-2 div.sk-estimator input.sk-toggleable__control:checked~label.sk-toggleable__label {background-color: #d4ebff;}#sk-container-id-2 div.sk-label input.sk-toggleable__control:checked~label.sk-toggleable__label {background-color: #d4ebff;}#sk-container-id-2 input.sk-hidden--visually {border: 0;clip: rect(1px 1px 1px 1px);clip: rect(1px, 1px, 1px, 1px);height: 1px;margin: -1px;overflow: hidden;padding: 0;position: absolute;width: 1px;}#sk-container-id-2 div.sk-estimator {font-family: monospace;background-color: #f0f8ff;border: 1px dotted black;border-radius: 0.25em;box-sizing: border-box;margin-bottom: 0.5em;}#sk-container-id-2 div.sk-estimator:hover {background-color: #d4ebff;}#sk-container-id-2 div.sk-parallel-item::after {content: \"\";width: 100%;border-bottom: 1px solid gray;flex-grow: 1;}#sk-container-id-2 div.sk-label:hover label.sk-toggleable__label {background-color: #d4ebff;}#sk-container-id-2 div.sk-serial::before {content: \"\";position: absolute;border-left: 1px solid gray;box-sizing: border-box;top: 0;bottom: 0;left: 50%;z-index: 0;}#sk-container-id-2 div.sk-serial {display: flex;flex-direction: column;align-items: center;background-color: white;padding-right: 0.2em;padding-left: 0.2em;position: relative;}#sk-container-id-2 div.sk-item {position: relative;z-index: 1;}#sk-container-id-2 div.sk-parallel {display: flex;align-items: stretch;justify-content: center;background-color: white;position: relative;}#sk-container-id-2 div.sk-item::before, #sk-container-id-2 div.sk-parallel-item::before {content: \"\";position: absolute;border-left: 1px solid gray;box-sizing: border-box;top: 0;bottom: 0;left: 50%;z-index: -1;}#sk-container-id-2 div.sk-parallel-item {display: flex;flex-direction: column;z-index: 1;position: relative;background-color: white;}#sk-container-id-2 div.sk-parallel-item:first-child::after {align-self: flex-end;width: 50%;}#sk-container-id-2 div.sk-parallel-item:last-child::after {align-self: flex-start;width: 50%;}#sk-container-id-2 div.sk-parallel-item:only-child::after {width: 0;}#sk-container-id-2 div.sk-dashed-wrapped {border: 1px dashed gray;margin: 0 0.4em 0.5em 0.4em;box-sizing: border-box;padding-bottom: 0.4em;background-color: white;}#sk-container-id-2 div.sk-label label {font-family: monospace;font-weight: bold;display: inline-block;line-height: 1.2em;}#sk-container-id-2 div.sk-label-container {text-align: center;}#sk-container-id-2 div.sk-container {/* jupyter's `normalize.less` sets `[hidden] { display: none; }` but bootstrap.min.css set `[hidden] { display: none !important; }` so we also need the `!important` here to be able to override the default hidden behavior on the sphinx rendered scikit-learn.org. See: https://github.com/scikit-learn/scikit-learn/issues/21755 */display: inline-block !important;position: relative;}#sk-container-id-2 div.sk-text-repr-fallback {display: none;}</style><div id=\"sk-container-id-2\" class=\"sk-top-container\"><div class=\"sk-text-repr-fallback\"><pre>RandomForestRegressor(bootstrap=False, max_depth=6,\n",
       "                      max_features=0.23149460250575904, min_samples_split=11,\n",
       "                      n_estimators=452)</pre><b>In a Jupyter environment, please rerun this cell to show the HTML representation or trust the notebook. <br />On GitHub, the HTML representation is unable to render, please try loading this page with nbviewer.org.</b></div><div class=\"sk-container\" hidden><div class=\"sk-item\"><div class=\"sk-estimator sk-toggleable\"><input class=\"sk-toggleable__control sk-hidden--visually\" id=\"sk-estimator-id-2\" type=\"checkbox\" checked><label for=\"sk-estimator-id-2\" class=\"sk-toggleable__label sk-toggleable__label-arrow\">RandomForestRegressor</label><div class=\"sk-toggleable__content\"><pre>RandomForestRegressor(bootstrap=False, max_depth=6,\n",
       "                      max_features=0.23149460250575904, min_samples_split=11,\n",
       "                      n_estimators=452)</pre></div></div></div></div></div>"
      ],
      "text/plain": [
       "RandomForestRegressor(bootstrap=False, max_depth=6,\n",
       "                      max_features=0.23149460250575904, min_samples_split=11,\n",
       "                      n_estimators=452)"
      ]
     },
     "execution_count": 9,
     "metadata": {},
     "output_type": "execute_result"
    }
   ],
   "source": [
    "def bo_params_rf(min_samples_split,max_depth,max_features,n_estimators):\n",
    "    \n",
    "    params = {\n",
    "        'min_samples_split': round(min_samples_split),\n",
    "        'max_depth': round(max_depth),\n",
    "        'max_features': max_features,\n",
    "        'n_estimators':round(n_estimators)\n",
    "    }    \n",
    "        \n",
    "    clf = RandomForestRegressor(min_samples_split=int(params['min_samples_split']), \n",
    "                                 max_depth=int(params['max_depth']), \n",
    "                                 max_features=params['max_features'],\n",
    "                                 n_estimators=int(params['n_estimators']), \n",
    "                                 bootstrap=False,\n",
    "                                 n_jobs = -1)\n",
    "    return cross_val_score(clf, X_train[best_features_rf], y_train, cv=10, scoring='neg_mean_squared_error', n_jobs=-1).mean()\n",
    "\n",
    "# Create Bayesian Optimization\n",
    "rf_bo = BayesianOptimization(f=bo_params_rf, pbounds={\n",
    "    'n_estimators': (100, 1000),\n",
    "    'max_depth': (1, 20),\n",
    "    'max_features': (0.1, 1),\n",
    "    'min_samples_split': (2, 12)\n",
    "})\n",
    "\n",
    "# Bayesian optimization\n",
    "results = rf_bo.maximize(n_iter=40, init_points=10)\n",
    "\n",
    "# Getting best hyperparameters from bayesian optimization\n",
    "params = rf_bo.max['params']\n",
    "params['n_estimators']= round(params['n_estimators'])\n",
    "params['min_samples_split']= round(params['min_samples_split'])\n",
    "params['max_depth']= round(params['max_depth'])\n",
    "\n",
    "# Making random forest model with the best hyperparameters\n",
    "# criterion entropy is after the hyperparameter optimization since it's more accurate but increases training time\n",
    "best_model_rf_classification = RandomForestRegressor(min_samples_split=params['min_samples_split'],\n",
    "                                                max_depth=params['max_depth'],\n",
    "                                                max_features=params['max_features'],\n",
    "                                                n_estimators=params['n_estimators'],\n",
    "                                                bootstrap=False)\n",
    "\n",
    "best_model_rf_classification.fit(X_train[best_features_rf], y_train)"
   ]
  },
  {
   "attachments": {},
   "cell_type": "markdown",
   "metadata": {},
   "source": [
    "# neural network"
   ]
  },
  {
   "attachments": {},
   "cell_type": "markdown",
   "metadata": {},
   "source": [
    "**Feature selection**"
   ]
  },
  {
   "cell_type": "code",
   "execution_count": 10,
   "metadata": {},
   "outputs": [
    {
     "name": "stdout",
     "output_type": "stream",
     "text": [
      "Best features: ['NederlandseAntillenEnAruba', 'GeboorteRelatief', 'SterfteRelatief', 'GemiddeldeWoningwaarde', 'PercentageOnbewoond', 'InBezitWoningcorporatie', 'InBezitOverigeVerhuurders', 'EigendomOnbekend', 'BouwjaarVanaf2000', 'kPersonenMetLaagsteInkomen', 'ALandbouwBosbouwEnVisserij', 'KLFinancieleDienstenOnroerendGoed', 'PersonenautoSOverigeBrandstof', 'PersonenautoSPerHuishouden', 'PersonenautoSNaarOppervlakte', 'AfstandTotHuisartsenpraktijk', 'AfstandTotKinderdagverblijf', 'AfstandTotSchool', 'OppervlakteWater', 'TotaalDiefstalUitWoningSchuurED', 'VernielingMisdrijfTegenOpenbareOrde', 'GeweldsEnSeksueleMisdrijven', 'AfstandTotHuisartsenpost', 'AfstandTotApotheek', 'AfstandTotConsultatiebureau', 'AfstandTotOvDagelLevensmiddelen', 'AfstandTotWarenhuis', 'AfstandTotCafeED', 'AfstandTotCafetariaED', 'AfstandTotRestaurant', 'AfstandTotHotelED', 'AfstandTotBuitenschoolseOpvang', 'AfstandTotOpenbaarGroenTotaal', 'AfstandTotDagrecreatiefTerrein', 'AfstandTotBos', 'AfstandTotOpenNatTerreinTotaal', 'AfstandTotOpenDroogNatTerrein', 'AfstandTotOpenNatNatuurlijkTerrein', 'AfstandTotSemiOpenbaarGroenTotaal', 'AfstandTotSportterrein', 'AfstandTotVolkstuin', 'AfstandTotVerblijfsrecreatiefTerrein', 'AfstandTotBegraafplaats', 'AfstandTotTreinstationsTotaal', 'AfstandTotBelangrijkOverstapstation', 'AfstandTotBibliotheek', 'AfstandTotZwembad', 'AfstandTotKunstijsbaan', 'AfstandTotMuseum', 'AfstandTotPodiumkunstenTotaal', 'AfstandTotPoppodium', 'AfstandTotBioscoop', 'AfstandTotSauna', 'AfstandTotZonnebank', 'AfstandTotAttractie', 'AfstandTotBrandweerkazerne', 'ErvarenGezondheidGoedZeerGoed', 'EenOfMeerLangdurigeAandoeningen', 'BeperkingInHoren', 'BeperkingInZien', 'Ondergewicht', 'MatigOvergewicht', 'ErnstigOvergewichtObesitas', 'VoldoetAanBeweegrichtlijn', 'Mantelzorger', 'ZwaarBelasteMantelzorgers', 'UrenMantelzorgPerWeek', 'Rokers', 'VoldoetAanRichtlijnAlcoholgebruik', 'OvermatigDrinker']\n",
      "Dropped features: []\n"
     ]
    }
   ],
   "source": [
    "# Get the accuracy score of the model with all the features\n",
    "mlp = MLPRegressor(random_state=0).fit(X_train, y_train)\n",
    "best_model = mlp\n",
    "selected_features = X_train.columns.tolist()\n",
    "best_features = selected_features\n",
    "best_features_accuracy = cross_val_score(MLPRegressor(random_state=0), X_train, y_train, cv=10, scoring='neg_mean_squared_error', n_jobs=-1).mean()\n",
    "\n",
    "while True:\n",
    "    # Retrieve the learned weights\n",
    "    weights = mlp.coefs_[0]  # Weights connecting input features to the first hidden layer\n",
    "\n",
    "    # Normalize the weights\n",
    "    normalized_weights = np.abs(weights) / np.sum(np.abs(weights), axis=0)\n",
    "\n",
    "    # Calculate feature importance\n",
    "    feature_importance = np.mean(normalized_weights, axis=1)\n",
    "\n",
    "    # Sort features based on their importance\n",
    "    sorted_indices = np.argsort(feature_importance)\n",
    "    selected_features = [selected_features[i] for i in sorted_indices[:-1]]\n",
    "\n",
    "    # When there are no features left\n",
    "    if len(selected_features) == 0:\n",
    "        break\n",
    "    \n",
    "    # Refit the Model\n",
    "    mlp = MLPRegressor(random_state=0).fit(X_train[selected_features], y_train)\n",
    "\n",
    "    # Evaluate Model Performance\n",
    "    accuracy = cross_val_score(MLPRegressor(random_state=0), X_train[selected_features], y_train, cv=10, scoring='neg_mean_squared_error', n_jobs=-1).mean()\n",
    "\n",
    "    # Check if the model performs better without the insignificant features\n",
    "    if accuracy >= best_features_accuracy:\n",
    "        best_features_accuracy = accuracy\n",
    "        best_features = selected_features.copy()\n",
    "        best_model = mlp\n",
    "\n",
    "# Save results\n",
    "best_model_nn = best_model\n",
    "best_features_nn = best_features\n",
    "\n",
    "# Show results\n",
    "print(\"Best features:\", best_features_nn)\n",
    "print(\"Dropped features:\", list(set(X_train.columns.tolist()) - set(best_features_nn)))"
   ]
  },
  {
   "attachments": {},
   "cell_type": "markdown",
   "metadata": {},
   "source": [
    "**Hyperparameter optimalisatie**"
   ]
  },
  {
   "cell_type": "code",
   "execution_count": 11,
   "metadata": {},
   "outputs": [
    {
     "name": "stdout",
     "output_type": "stream",
     "text": [
      "|   iter    |  target   |   alpha   | hidden... | learni... | max_iter  |\n",
      "-------------------------------------------------------------------------\n",
      "| \u001b[0m1        \u001b[0m | \u001b[0m-67.2    \u001b[0m | \u001b[0m0.04307  \u001b[0m | \u001b[0m66.21    \u001b[0m | \u001b[0m0.007714 \u001b[0m | \u001b[0m239.4    \u001b[0m |\n",
      "| \u001b[95m2        \u001b[0m | \u001b[95m-67.11   \u001b[0m | \u001b[95m0.06746  \u001b[0m | \u001b[95m13.27    \u001b[0m | \u001b[95m0.04038  \u001b[0m | \u001b[95m944.5    \u001b[0m |\n",
      "| \u001b[0m3        \u001b[0m | \u001b[0m-67.16   \u001b[0m | \u001b[0m0.01971  \u001b[0m | \u001b[0m94.58    \u001b[0m | \u001b[0m0.05792  \u001b[0m | \u001b[0m400.1    \u001b[0m |\n",
      "| \u001b[95m4        \u001b[0m | \u001b[95m-67.1    \u001b[0m | \u001b[95m0.009786 \u001b[0m | \u001b[95m95.8     \u001b[0m | \u001b[95m0.05962  \u001b[0m | \u001b[95m586.8    \u001b[0m |\n",
      "| \u001b[0m5        \u001b[0m | \u001b[0m-67.2    \u001b[0m | \u001b[0m0.005891 \u001b[0m | \u001b[0m18.67    \u001b[0m | \u001b[0m0.08431  \u001b[0m | \u001b[0m278.1    \u001b[0m |\n",
      "| \u001b[0m6        \u001b[0m | \u001b[0m-67.17   \u001b[0m | \u001b[0m0.01697  \u001b[0m | \u001b[0m70.04    \u001b[0m | \u001b[0m0.02806  \u001b[0m | \u001b[0m329.8    \u001b[0m |\n",
      "| \u001b[95m7        \u001b[0m | \u001b[95m-66.88   \u001b[0m | \u001b[95m0.08656  \u001b[0m | \u001b[95m10.71    \u001b[0m | \u001b[95m0.05557  \u001b[0m | \u001b[95m511.4    \u001b[0m |\n",
      "| \u001b[0m8        \u001b[0m | \u001b[0m-67.24   \u001b[0m | \u001b[0m0.09568  \u001b[0m | \u001b[0m64.14    \u001b[0m | \u001b[0m0.005395 \u001b[0m | \u001b[0m697.8    \u001b[0m |\n",
      "| \u001b[0m9        \u001b[0m | \u001b[0m-67.14   \u001b[0m | \u001b[0m0.07081  \u001b[0m | \u001b[0m84.7     \u001b[0m | \u001b[0m0.06444  \u001b[0m | \u001b[0m850.1    \u001b[0m |\n",
      "| \u001b[0m10       \u001b[0m | \u001b[0m-67.0    \u001b[0m | \u001b[0m0.05967  \u001b[0m | \u001b[0m46.61    \u001b[0m | \u001b[0m0.01851  \u001b[0m | \u001b[0m645.5    \u001b[0m |\n",
      "| \u001b[0m11       \u001b[0m | \u001b[0m-67.11   \u001b[0m | \u001b[0m0.06614  \u001b[0m | \u001b[0m10.86    \u001b[0m | \u001b[0m0.08457  \u001b[0m | \u001b[0m511.1    \u001b[0m |\n",
      "| \u001b[0m12       \u001b[0m | \u001b[0m-67.28   \u001b[0m | \u001b[0m0.08851  \u001b[0m | \u001b[0m96.11    \u001b[0m | \u001b[0m0.03444  \u001b[0m | \u001b[0m587.2    \u001b[0m |\n",
      "| \u001b[0m13       \u001b[0m | \u001b[0m-67.19   \u001b[0m | \u001b[0m0.02734  \u001b[0m | \u001b[0m76.46    \u001b[0m | \u001b[0m0.05302  \u001b[0m | \u001b[0m749.7    \u001b[0m |\n",
      "| \u001b[0m14       \u001b[0m | \u001b[0m-67.21   \u001b[0m | \u001b[0m0.07564  \u001b[0m | \u001b[0m74.04    \u001b[0m | \u001b[0m0.06282  \u001b[0m | \u001b[0m182.0    \u001b[0m |\n",
      "| \u001b[0m15       \u001b[0m | \u001b[0m-67.13   \u001b[0m | \u001b[0m0.09319  \u001b[0m | \u001b[0m47.7     \u001b[0m | \u001b[0m0.046    \u001b[0m | \u001b[0m645.7    \u001b[0m |\n",
      "| \u001b[0m16       \u001b[0m | \u001b[0m-67.36   \u001b[0m | \u001b[0m0.02255  \u001b[0m | \u001b[0m46.38    \u001b[0m | \u001b[0m0.03307  \u001b[0m | \u001b[0m645.9    \u001b[0m |\n",
      "| \u001b[0m17       \u001b[0m | \u001b[0m-67.13   \u001b[0m | \u001b[0m0.007909 \u001b[0m | \u001b[0m91.05    \u001b[0m | \u001b[0m0.001921 \u001b[0m | \u001b[0m462.9    \u001b[0m |\n",
      "| \u001b[0m18       \u001b[0m | \u001b[0m-67.02   \u001b[0m | \u001b[0m0.08302  \u001b[0m | \u001b[0m47.74    \u001b[0m | \u001b[0m0.0372   \u001b[0m | \u001b[0m646.0    \u001b[0m |\n",
      "| \u001b[0m19       \u001b[0m | \u001b[0m-67.15   \u001b[0m | \u001b[0m0.01419  \u001b[0m | \u001b[0m49.14    \u001b[0m | \u001b[0m0.001536 \u001b[0m | \u001b[0m486.9    \u001b[0m |\n",
      "| \u001b[0m20       \u001b[0m | \u001b[0m-67.03   \u001b[0m | \u001b[0m0.03688  \u001b[0m | \u001b[0m50.82    \u001b[0m | \u001b[0m0.008681 \u001b[0m | \u001b[0m295.5    \u001b[0m |\n",
      "| \u001b[0m21       \u001b[0m | \u001b[0m-67.03   \u001b[0m | \u001b[0m0.09882  \u001b[0m | \u001b[0m50.32    \u001b[0m | \u001b[0m0.05543  \u001b[0m | \u001b[0m507.3    \u001b[0m |\n",
      "| \u001b[0m22       \u001b[0m | \u001b[0m-67.32   \u001b[0m | \u001b[0m0.01045  \u001b[0m | \u001b[0m90.78    \u001b[0m | \u001b[0m0.09387  \u001b[0m | \u001b[0m448.9    \u001b[0m |\n",
      "| \u001b[0m23       \u001b[0m | \u001b[0m-67.17   \u001b[0m | \u001b[0m0.09693  \u001b[0m | \u001b[0m95.04    \u001b[0m | \u001b[0m0.001822 \u001b[0m | \u001b[0m228.9    \u001b[0m |\n",
      "| \u001b[0m24       \u001b[0m | \u001b[0m-67.04   \u001b[0m | \u001b[0m0.06908  \u001b[0m | \u001b[0m11.03    \u001b[0m | \u001b[0m0.09495  \u001b[0m | \u001b[0m510.3    \u001b[0m |\n",
      "| \u001b[0m25       \u001b[0m | \u001b[0m-67.06   \u001b[0m | \u001b[0m0.08192  \u001b[0m | \u001b[0m40.16    \u001b[0m | \u001b[0m0.037    \u001b[0m | \u001b[0m297.5    \u001b[0m |\n",
      "| \u001b[0m26       \u001b[0m | \u001b[0m-67.16   \u001b[0m | \u001b[0m0.07434  \u001b[0m | \u001b[0m10.49    \u001b[0m | \u001b[0m0.09539  \u001b[0m | \u001b[0m512.0    \u001b[0m |\n",
      "| \u001b[0m27       \u001b[0m | \u001b[0m-67.24   \u001b[0m | \u001b[0m0.005168 \u001b[0m | \u001b[0m26.41    \u001b[0m | \u001b[0m0.0272   \u001b[0m | \u001b[0m331.0    \u001b[0m |\n",
      "| \u001b[0m28       \u001b[0m | \u001b[0m-67.23   \u001b[0m | \u001b[0m0.006677 \u001b[0m | \u001b[0m28.08    \u001b[0m | \u001b[0m0.009828 \u001b[0m | \u001b[0m775.1    \u001b[0m |\n",
      "| \u001b[0m29       \u001b[0m | \u001b[0m-66.89   \u001b[0m | \u001b[0m0.04502  \u001b[0m | \u001b[0m46.64    \u001b[0m | \u001b[0m0.07219  \u001b[0m | \u001b[0m645.6    \u001b[0m |\n",
      "| \u001b[0m30       \u001b[0m | \u001b[0m-67.03   \u001b[0m | \u001b[0m0.01191  \u001b[0m | \u001b[0m91.59    \u001b[0m | \u001b[0m0.06659  \u001b[0m | \u001b[0m388.1    \u001b[0m |\n",
      "| \u001b[0m31       \u001b[0m | \u001b[0m-67.23   \u001b[0m | \u001b[0m0.03937  \u001b[0m | \u001b[0m95.49    \u001b[0m | \u001b[0m0.05992  \u001b[0m | \u001b[0m586.8    \u001b[0m |\n",
      "| \u001b[0m32       \u001b[0m | \u001b[0m-67.23   \u001b[0m | \u001b[0m0.01322  \u001b[0m | \u001b[0m34.96    \u001b[0m | \u001b[0m0.04248  \u001b[0m | \u001b[0m595.3    \u001b[0m |\n",
      "| \u001b[0m33       \u001b[0m | \u001b[0m-67.02   \u001b[0m | \u001b[0m0.04534  \u001b[0m | \u001b[0m13.26    \u001b[0m | \u001b[0m0.03519  \u001b[0m | \u001b[0m944.7    \u001b[0m |\n",
      "| \u001b[0m34       \u001b[0m | \u001b[0m-67.15   \u001b[0m | \u001b[0m0.07044  \u001b[0m | \u001b[0m18.81    \u001b[0m | \u001b[0m0.008826 \u001b[0m | \u001b[0m650.0    \u001b[0m |\n",
      "| \u001b[0m35       \u001b[0m | \u001b[0m-67.09   \u001b[0m | \u001b[0m0.07639  \u001b[0m | \u001b[0m53.16    \u001b[0m | \u001b[0m0.003594 \u001b[0m | \u001b[0m752.0    \u001b[0m |\n",
      "| \u001b[0m36       \u001b[0m | \u001b[0m-67.35   \u001b[0m | \u001b[0m0.02891  \u001b[0m | \u001b[0m49.54    \u001b[0m | \u001b[0m0.05584  \u001b[0m | \u001b[0m507.3    \u001b[0m |\n",
      "| \u001b[0m37       \u001b[0m | \u001b[0m-67.15   \u001b[0m | \u001b[0m0.04113  \u001b[0m | \u001b[0m10.88    \u001b[0m | \u001b[0m0.005056 \u001b[0m | \u001b[0m510.4    \u001b[0m |\n",
      "| \u001b[0m38       \u001b[0m | \u001b[0m-66.92   \u001b[0m | \u001b[0m0.08516  \u001b[0m | \u001b[0m35.13    \u001b[0m | \u001b[0m0.0424   \u001b[0m | \u001b[0m490.9    \u001b[0m |\n",
      "| \u001b[0m39       \u001b[0m | \u001b[0m-67.35   \u001b[0m | \u001b[0m0.07008  \u001b[0m | \u001b[0m75.21    \u001b[0m | \u001b[0m0.09383  \u001b[0m | \u001b[0m253.5    \u001b[0m |\n",
      "| \u001b[0m40       \u001b[0m | \u001b[0m-67.31   \u001b[0m | \u001b[0m0.02097  \u001b[0m | \u001b[0m84.04    \u001b[0m | \u001b[0m0.07953  \u001b[0m | \u001b[0m214.4    \u001b[0m |\n",
      "| \u001b[0m41       \u001b[0m | \u001b[0m-67.46   \u001b[0m | \u001b[0m0.02973  \u001b[0m | \u001b[0m47.45    \u001b[0m | \u001b[0m0.03598  \u001b[0m | \u001b[0m646.5    \u001b[0m |\n",
      "| \u001b[0m42       \u001b[0m | \u001b[0m-67.18   \u001b[0m | \u001b[0m0.09004  \u001b[0m | \u001b[0m48.28    \u001b[0m | \u001b[0m0.03487  \u001b[0m | \u001b[0m646.4    \u001b[0m |\n",
      "| \u001b[0m43       \u001b[0m | \u001b[0m-67.16   \u001b[0m | \u001b[0m0.09024  \u001b[0m | \u001b[0m90.95    \u001b[0m | \u001b[0m0.03726  \u001b[0m | \u001b[0m993.6    \u001b[0m |\n",
      "| \u001b[0m44       \u001b[0m | \u001b[0m-67.08   \u001b[0m | \u001b[0m0.06947  \u001b[0m | \u001b[0m84.72    \u001b[0m | \u001b[0m0.0769   \u001b[0m | \u001b[0m849.7    \u001b[0m |\n",
      "| \u001b[0m45       \u001b[0m | \u001b[0m-66.97   \u001b[0m | \u001b[0m0.01099  \u001b[0m | \u001b[0m45.23    \u001b[0m | \u001b[0m0.05759  \u001b[0m | \u001b[0m224.5    \u001b[0m |\n",
      "| \u001b[0m46       \u001b[0m | \u001b[0m-67.04   \u001b[0m | \u001b[0m0.07759  \u001b[0m | \u001b[0m47.86    \u001b[0m | \u001b[0m0.05968  \u001b[0m | \u001b[0m645.9    \u001b[0m |\n",
      "| \u001b[0m47       \u001b[0m | \u001b[0m-67.16   \u001b[0m | \u001b[0m0.09826  \u001b[0m | \u001b[0m19.51    \u001b[0m | \u001b[0m0.05741  \u001b[0m | \u001b[0m785.3    \u001b[0m |\n",
      "| \u001b[0m48       \u001b[0m | \u001b[0m-66.98   \u001b[0m | \u001b[0m0.04078  \u001b[0m | \u001b[0m38.75    \u001b[0m | \u001b[0m0.09105  \u001b[0m | \u001b[0m284.2    \u001b[0m |\n",
      "| \u001b[0m49       \u001b[0m | \u001b[0m-67.03   \u001b[0m | \u001b[0m0.09089  \u001b[0m | \u001b[0m40.18    \u001b[0m | \u001b[0m0.004971 \u001b[0m | \u001b[0m297.9    \u001b[0m |\n",
      "| \u001b[0m50       \u001b[0m | \u001b[0m-67.03   \u001b[0m | \u001b[0m0.01562  \u001b[0m | \u001b[0m97.63    \u001b[0m | \u001b[0m0.08762  \u001b[0m | \u001b[0m790.3    \u001b[0m |\n",
      "=========================================================================\n"
     ]
    },
    {
     "data": {
      "text/html": [
       "<style>#sk-container-id-3 {color: black;background-color: white;}#sk-container-id-3 pre{padding: 0;}#sk-container-id-3 div.sk-toggleable {background-color: white;}#sk-container-id-3 label.sk-toggleable__label {cursor: pointer;display: block;width: 100%;margin-bottom: 0;padding: 0.3em;box-sizing: border-box;text-align: center;}#sk-container-id-3 label.sk-toggleable__label-arrow:before {content: \"▸\";float: left;margin-right: 0.25em;color: #696969;}#sk-container-id-3 label.sk-toggleable__label-arrow:hover:before {color: black;}#sk-container-id-3 div.sk-estimator:hover label.sk-toggleable__label-arrow:before {color: black;}#sk-container-id-3 div.sk-toggleable__content {max-height: 0;max-width: 0;overflow: hidden;text-align: left;background-color: #f0f8ff;}#sk-container-id-3 div.sk-toggleable__content pre {margin: 0.2em;color: black;border-radius: 0.25em;background-color: #f0f8ff;}#sk-container-id-3 input.sk-toggleable__control:checked~div.sk-toggleable__content {max-height: 200px;max-width: 100%;overflow: auto;}#sk-container-id-3 input.sk-toggleable__control:checked~label.sk-toggleable__label-arrow:before {content: \"▾\";}#sk-container-id-3 div.sk-estimator input.sk-toggleable__control:checked~label.sk-toggleable__label {background-color: #d4ebff;}#sk-container-id-3 div.sk-label input.sk-toggleable__control:checked~label.sk-toggleable__label {background-color: #d4ebff;}#sk-container-id-3 input.sk-hidden--visually {border: 0;clip: rect(1px 1px 1px 1px);clip: rect(1px, 1px, 1px, 1px);height: 1px;margin: -1px;overflow: hidden;padding: 0;position: absolute;width: 1px;}#sk-container-id-3 div.sk-estimator {font-family: monospace;background-color: #f0f8ff;border: 1px dotted black;border-radius: 0.25em;box-sizing: border-box;margin-bottom: 0.5em;}#sk-container-id-3 div.sk-estimator:hover {background-color: #d4ebff;}#sk-container-id-3 div.sk-parallel-item::after {content: \"\";width: 100%;border-bottom: 1px solid gray;flex-grow: 1;}#sk-container-id-3 div.sk-label:hover label.sk-toggleable__label {background-color: #d4ebff;}#sk-container-id-3 div.sk-serial::before {content: \"\";position: absolute;border-left: 1px solid gray;box-sizing: border-box;top: 0;bottom: 0;left: 50%;z-index: 0;}#sk-container-id-3 div.sk-serial {display: flex;flex-direction: column;align-items: center;background-color: white;padding-right: 0.2em;padding-left: 0.2em;position: relative;}#sk-container-id-3 div.sk-item {position: relative;z-index: 1;}#sk-container-id-3 div.sk-parallel {display: flex;align-items: stretch;justify-content: center;background-color: white;position: relative;}#sk-container-id-3 div.sk-item::before, #sk-container-id-3 div.sk-parallel-item::before {content: \"\";position: absolute;border-left: 1px solid gray;box-sizing: border-box;top: 0;bottom: 0;left: 50%;z-index: -1;}#sk-container-id-3 div.sk-parallel-item {display: flex;flex-direction: column;z-index: 1;position: relative;background-color: white;}#sk-container-id-3 div.sk-parallel-item:first-child::after {align-self: flex-end;width: 50%;}#sk-container-id-3 div.sk-parallel-item:last-child::after {align-self: flex-start;width: 50%;}#sk-container-id-3 div.sk-parallel-item:only-child::after {width: 0;}#sk-container-id-3 div.sk-dashed-wrapped {border: 1px dashed gray;margin: 0 0.4em 0.5em 0.4em;box-sizing: border-box;padding-bottom: 0.4em;background-color: white;}#sk-container-id-3 div.sk-label label {font-family: monospace;font-weight: bold;display: inline-block;line-height: 1.2em;}#sk-container-id-3 div.sk-label-container {text-align: center;}#sk-container-id-3 div.sk-container {/* jupyter's `normalize.less` sets `[hidden] { display: none; }` but bootstrap.min.css set `[hidden] { display: none !important; }` so we also need the `!important` here to be able to override the default hidden behavior on the sphinx rendered scikit-learn.org. See: https://github.com/scikit-learn/scikit-learn/issues/21755 */display: inline-block !important;position: relative;}#sk-container-id-3 div.sk-text-repr-fallback {display: none;}</style><div id=\"sk-container-id-3\" class=\"sk-top-container\"><div class=\"sk-text-repr-fallback\"><pre>MLPRegressor(alpha=0.0865633552041844, hidden_layer_sizes=(11,),\n",
       "             learning_rate_init=0.05557146485916377, max_iter=511)</pre><b>In a Jupyter environment, please rerun this cell to show the HTML representation or trust the notebook. <br />On GitHub, the HTML representation is unable to render, please try loading this page with nbviewer.org.</b></div><div class=\"sk-container\" hidden><div class=\"sk-item\"><div class=\"sk-estimator sk-toggleable\"><input class=\"sk-toggleable__control sk-hidden--visually\" id=\"sk-estimator-id-3\" type=\"checkbox\" checked><label for=\"sk-estimator-id-3\" class=\"sk-toggleable__label sk-toggleable__label-arrow\">MLPRegressor</label><div class=\"sk-toggleable__content\"><pre>MLPRegressor(alpha=0.0865633552041844, hidden_layer_sizes=(11,),\n",
       "             learning_rate_init=0.05557146485916377, max_iter=511)</pre></div></div></div></div></div>"
      ],
      "text/plain": [
       "MLPRegressor(alpha=0.0865633552041844, hidden_layer_sizes=(11,),\n",
       "             learning_rate_init=0.05557146485916377, max_iter=511)"
      ]
     },
     "execution_count": 11,
     "metadata": {},
     "output_type": "execute_result"
    }
   ],
   "source": [
    "def bo_params_generic(model, params, X_train, y_train):\n",
    "    # Create the model instance with the specified parameters\n",
    "    regressor = model(**params)\n",
    "    \n",
    "    # Calculating rmse based on\n",
    "    scores = cross_val_score(regressor, X_train, y_train, cv=10, scoring='neg_root_mean_squared_error')\n",
    "    return scores.mean()\n",
    "\n",
    "params_ranges = {\n",
    "    'hidden_layer_sizes': (10, 100),\n",
    "    'alpha': (0.0001, 0.1),\n",
    "    'learning_rate_init': (0.001, 0.1),\n",
    "    'max_iter': (100, 1000)\n",
    "}\n",
    "\n",
    "# Example usage with Neural Network\n",
    "model = MLPRegressor\n",
    "model_bo = BayesianOptimization(f=lambda hidden_layer_sizes, alpha, learning_rate_init, max_iter:\n",
    "                                    bo_params_generic(model, {\n",
    "                                        'hidden_layer_sizes': (int(round(hidden_layer_sizes)),),\n",
    "                                        'alpha': alpha,\n",
    "                                        'learning_rate_init': learning_rate_init,\n",
    "                                        'max_iter': int(round(max_iter))\n",
    "                                    }, X_train[best_features_nn], y_train),\n",
    "                             pbounds=params_ranges)\n",
    "\n",
    "results = model_bo.maximize(n_iter=40, init_points=10)\n",
    "params = model_bo.max['params']\n",
    "\n",
    "# Creating a model with the best hyperparameters\n",
    "best_model_nn = model(\n",
    "    hidden_layer_sizes=(int(round(params['hidden_layer_sizes'])),),\n",
    "    alpha=params['alpha'],\n",
    "    learning_rate_init=params['learning_rate_init'],\n",
    "    max_iter=int(round(params['max_iter']))\n",
    ")\n",
    "\n",
    "# Fit the model\n",
    "best_model_nn.fit(X_train[best_features_nn], y_train)"
   ]
  },
  {
   "attachments": {},
   "cell_type": "markdown",
   "metadata": {},
   "source": [
    "# plotting the bar chart"
   ]
  },
  {
   "attachments": {},
   "cell_type": "markdown",
   "metadata": {},
   "source": [
    "**using train dataset**"
   ]
  },
  {
   "cell_type": "code",
   "execution_count": 12,
   "metadata": {},
   "outputs": [
    {
     "data": {
      "text/plain": [
       "[{'model': 'Multiple Linear Regression',\n",
       "  'mae': 51.80079528782675,\n",
       "  'mse': 4574.852965355593,\n",
       "  'rmse': 67.63765937224316,\n",
       "  'r2': 0.002518915465752336,\n",
       "  'adj_r2': -0.07567109116067239},\n",
       " {'model': 'Random Forest',\n",
       "  'mae': 51.20904367269245,\n",
       "  'mse': 4482.568726908269,\n",
       "  'rmse': 66.95198822221988,\n",
       "  'r2': 0.022640170279610627,\n",
       "  'adj_r2': -0.05397258233005031},\n",
       " {'model': 'Neural Network',\n",
       "  'mae': 51.38431198591982,\n",
       "  'mse': 4523.164857569359,\n",
       "  'rmse': 67.25447834582734,\n",
       "  'r2': 0.013788766147855958,\n",
       "  'adj_r2': -0.06351782553148344},\n",
       " {'model': 'Support Vector Machine',\n",
       "  'mae': 51.1046341381457,\n",
       "  'mse': 4504.0257791475715,\n",
       "  'rmse': 67.11203900305497,\n",
       "  'r2': 0.017961767738447376,\n",
       "  'adj_r2': -0.05901771295394753}]"
      ]
     },
     "execution_count": 12,
     "metadata": {},
     "output_type": "execute_result"
    }
   ],
   "source": [
    "regression_models = [\n",
    "    {\n",
    "        'name': 'Multiple Linear Regression',\n",
    "        'model': best_model_mlr,\n",
    "        'features': best_features_mlr\n",
    "    },\n",
    "    {\n",
    "        'name': 'Random Forest',\n",
    "        'model': best_model_rf,\n",
    "        'features': best_features_rf\n",
    "    },\n",
    "    {\n",
    "        'name': 'Neural Network',\n",
    "        'model': best_model_nn,\n",
    "        'features': best_features_nn\n",
    "    },\n",
    "    {\n",
    "        'name': 'Support Vector Machine',\n",
    "        'model': best_model_svm,\n",
    "        'features': best_features_svm\n",
    "    }\n",
    "]\n",
    "\n",
    "regression_stats_val = []\n",
    "\n",
    "for model in regression_models:\n",
    "    try:\n",
    "        # Perform cross-validation and calculate predictions and metrics\n",
    "        y_pred = cross_val_predict(model['model'], X_train[model['features']], y_train, cv=10)\n",
    "        y_true = y_train\n",
    "    except: # cv can't be higher then n_splits in the dt\n",
    "        # Perform cross-validation and calculate predictions and metrics\n",
    "        y_pred = cross_val_predict(model['model'], X_train[model['features']], y_train, cv=5)\n",
    "        y_true = y_train\n",
    "\n",
    "    # R2 Score\n",
    "    r2 = r2_score(y_true, y_pred)\n",
    "\n",
    "    # Adjusted R2 Score\n",
    "    n = len(y_true)  # Number of samples\n",
    "    p = X_test.shape[1]  # Number of predictors (features) in X\n",
    "    adj_r2 = 1 - ((1 - r2) * (n - 1)) / (n - p - 1)\n",
    "\n",
    "    # Save stats\n",
    "    regression_stats_val.append(\n",
    "        {\n",
    "            'model': model['name'],\n",
    "            'mae': mean_absolute_error(y_true, y_pred),\n",
    "            'mse': mean_squared_error(y_true, y_pred),\n",
    "            'rmse': np.sqrt(mean_squared_error(y_true, y_pred)),\n",
    "            'r2': r2,\n",
    "            'adj_r2': adj_r2\n",
    "        }\n",
    "    )\n",
    "\n",
    "# View stats\n",
    "regression_stats_val"
   ]
  },
  {
   "cell_type": "code",
   "execution_count": 13,
   "metadata": {},
   "outputs": [
    {
     "data": {
      "application/vnd.plotly.v1+json": {
       "config": {
        "plotlyServerURL": "https://plot.ly"
       },
       "data": [
        {
         "name": "mae",
         "type": "bar",
         "x": [
          "Multiple Linear Regression",
          "Random Forest",
          "Neural Network",
          "Support Vector Machine"
         ],
         "y": [
          51.80079528782675,
          51.20904367269245,
          51.38431198591982,
          51.1046341381457
         ]
        },
        {
         "name": "mse",
         "type": "bar",
         "x": [
          "Multiple Linear Regression",
          "Random Forest",
          "Neural Network",
          "Support Vector Machine"
         ],
         "y": [
          4574.852965355593,
          4482.568726908269,
          4523.164857569359,
          4504.0257791475715
         ]
        },
        {
         "name": "rmse",
         "type": "bar",
         "x": [
          "Multiple Linear Regression",
          "Random Forest",
          "Neural Network",
          "Support Vector Machine"
         ],
         "y": [
          67.63765937224316,
          66.95198822221988,
          67.25447834582734,
          67.11203900305497
         ]
        },
        {
         "name": "r2",
         "type": "bar",
         "x": [
          "Multiple Linear Regression",
          "Random Forest",
          "Neural Network",
          "Support Vector Machine"
         ],
         "y": [
          0.002518915465752336,
          0.022640170279610627,
          0.013788766147855958,
          0.017961767738447376
         ]
        },
        {
         "name": "adj_r2",
         "type": "bar",
         "x": [
          "Multiple Linear Regression",
          "Random Forest",
          "Neural Network",
          "Support Vector Machine"
         ],
         "y": [
          -0.07567109116067239,
          -0.05397258233005031,
          -0.06351782553148344,
          -0.05901771295394753
         ]
        }
       ],
       "layout": {
        "barmode": "group",
        "template": {
         "data": {
          "bar": [
           {
            "error_x": {
             "color": "#2a3f5f"
            },
            "error_y": {
             "color": "#2a3f5f"
            },
            "marker": {
             "line": {
              "color": "#E5ECF6",
              "width": 0.5
             },
             "pattern": {
              "fillmode": "overlay",
              "size": 10,
              "solidity": 0.2
             }
            },
            "type": "bar"
           }
          ],
          "barpolar": [
           {
            "marker": {
             "line": {
              "color": "#E5ECF6",
              "width": 0.5
             },
             "pattern": {
              "fillmode": "overlay",
              "size": 10,
              "solidity": 0.2
             }
            },
            "type": "barpolar"
           }
          ],
          "carpet": [
           {
            "aaxis": {
             "endlinecolor": "#2a3f5f",
             "gridcolor": "white",
             "linecolor": "white",
             "minorgridcolor": "white",
             "startlinecolor": "#2a3f5f"
            },
            "baxis": {
             "endlinecolor": "#2a3f5f",
             "gridcolor": "white",
             "linecolor": "white",
             "minorgridcolor": "white",
             "startlinecolor": "#2a3f5f"
            },
            "type": "carpet"
           }
          ],
          "choropleth": [
           {
            "colorbar": {
             "outlinewidth": 0,
             "ticks": ""
            },
            "type": "choropleth"
           }
          ],
          "contour": [
           {
            "colorbar": {
             "outlinewidth": 0,
             "ticks": ""
            },
            "colorscale": [
             [
              0,
              "#0d0887"
             ],
             [
              0.1111111111111111,
              "#46039f"
             ],
             [
              0.2222222222222222,
              "#7201a8"
             ],
             [
              0.3333333333333333,
              "#9c179e"
             ],
             [
              0.4444444444444444,
              "#bd3786"
             ],
             [
              0.5555555555555556,
              "#d8576b"
             ],
             [
              0.6666666666666666,
              "#ed7953"
             ],
             [
              0.7777777777777778,
              "#fb9f3a"
             ],
             [
              0.8888888888888888,
              "#fdca26"
             ],
             [
              1,
              "#f0f921"
             ]
            ],
            "type": "contour"
           }
          ],
          "contourcarpet": [
           {
            "colorbar": {
             "outlinewidth": 0,
             "ticks": ""
            },
            "type": "contourcarpet"
           }
          ],
          "heatmap": [
           {
            "colorbar": {
             "outlinewidth": 0,
             "ticks": ""
            },
            "colorscale": [
             [
              0,
              "#0d0887"
             ],
             [
              0.1111111111111111,
              "#46039f"
             ],
             [
              0.2222222222222222,
              "#7201a8"
             ],
             [
              0.3333333333333333,
              "#9c179e"
             ],
             [
              0.4444444444444444,
              "#bd3786"
             ],
             [
              0.5555555555555556,
              "#d8576b"
             ],
             [
              0.6666666666666666,
              "#ed7953"
             ],
             [
              0.7777777777777778,
              "#fb9f3a"
             ],
             [
              0.8888888888888888,
              "#fdca26"
             ],
             [
              1,
              "#f0f921"
             ]
            ],
            "type": "heatmap"
           }
          ],
          "heatmapgl": [
           {
            "colorbar": {
             "outlinewidth": 0,
             "ticks": ""
            },
            "colorscale": [
             [
              0,
              "#0d0887"
             ],
             [
              0.1111111111111111,
              "#46039f"
             ],
             [
              0.2222222222222222,
              "#7201a8"
             ],
             [
              0.3333333333333333,
              "#9c179e"
             ],
             [
              0.4444444444444444,
              "#bd3786"
             ],
             [
              0.5555555555555556,
              "#d8576b"
             ],
             [
              0.6666666666666666,
              "#ed7953"
             ],
             [
              0.7777777777777778,
              "#fb9f3a"
             ],
             [
              0.8888888888888888,
              "#fdca26"
             ],
             [
              1,
              "#f0f921"
             ]
            ],
            "type": "heatmapgl"
           }
          ],
          "histogram": [
           {
            "marker": {
             "pattern": {
              "fillmode": "overlay",
              "size": 10,
              "solidity": 0.2
             }
            },
            "type": "histogram"
           }
          ],
          "histogram2d": [
           {
            "colorbar": {
             "outlinewidth": 0,
             "ticks": ""
            },
            "colorscale": [
             [
              0,
              "#0d0887"
             ],
             [
              0.1111111111111111,
              "#46039f"
             ],
             [
              0.2222222222222222,
              "#7201a8"
             ],
             [
              0.3333333333333333,
              "#9c179e"
             ],
             [
              0.4444444444444444,
              "#bd3786"
             ],
             [
              0.5555555555555556,
              "#d8576b"
             ],
             [
              0.6666666666666666,
              "#ed7953"
             ],
             [
              0.7777777777777778,
              "#fb9f3a"
             ],
             [
              0.8888888888888888,
              "#fdca26"
             ],
             [
              1,
              "#f0f921"
             ]
            ],
            "type": "histogram2d"
           }
          ],
          "histogram2dcontour": [
           {
            "colorbar": {
             "outlinewidth": 0,
             "ticks": ""
            },
            "colorscale": [
             [
              0,
              "#0d0887"
             ],
             [
              0.1111111111111111,
              "#46039f"
             ],
             [
              0.2222222222222222,
              "#7201a8"
             ],
             [
              0.3333333333333333,
              "#9c179e"
             ],
             [
              0.4444444444444444,
              "#bd3786"
             ],
             [
              0.5555555555555556,
              "#d8576b"
             ],
             [
              0.6666666666666666,
              "#ed7953"
             ],
             [
              0.7777777777777778,
              "#fb9f3a"
             ],
             [
              0.8888888888888888,
              "#fdca26"
             ],
             [
              1,
              "#f0f921"
             ]
            ],
            "type": "histogram2dcontour"
           }
          ],
          "mesh3d": [
           {
            "colorbar": {
             "outlinewidth": 0,
             "ticks": ""
            },
            "type": "mesh3d"
           }
          ],
          "parcoords": [
           {
            "line": {
             "colorbar": {
              "outlinewidth": 0,
              "ticks": ""
             }
            },
            "type": "parcoords"
           }
          ],
          "pie": [
           {
            "automargin": true,
            "type": "pie"
           }
          ],
          "scatter": [
           {
            "fillpattern": {
             "fillmode": "overlay",
             "size": 10,
             "solidity": 0.2
            },
            "type": "scatter"
           }
          ],
          "scatter3d": [
           {
            "line": {
             "colorbar": {
              "outlinewidth": 0,
              "ticks": ""
             }
            },
            "marker": {
             "colorbar": {
              "outlinewidth": 0,
              "ticks": ""
             }
            },
            "type": "scatter3d"
           }
          ],
          "scattercarpet": [
           {
            "marker": {
             "colorbar": {
              "outlinewidth": 0,
              "ticks": ""
             }
            },
            "type": "scattercarpet"
           }
          ],
          "scattergeo": [
           {
            "marker": {
             "colorbar": {
              "outlinewidth": 0,
              "ticks": ""
             }
            },
            "type": "scattergeo"
           }
          ],
          "scattergl": [
           {
            "marker": {
             "colorbar": {
              "outlinewidth": 0,
              "ticks": ""
             }
            },
            "type": "scattergl"
           }
          ],
          "scattermapbox": [
           {
            "marker": {
             "colorbar": {
              "outlinewidth": 0,
              "ticks": ""
             }
            },
            "type": "scattermapbox"
           }
          ],
          "scatterpolar": [
           {
            "marker": {
             "colorbar": {
              "outlinewidth": 0,
              "ticks": ""
             }
            },
            "type": "scatterpolar"
           }
          ],
          "scatterpolargl": [
           {
            "marker": {
             "colorbar": {
              "outlinewidth": 0,
              "ticks": ""
             }
            },
            "type": "scatterpolargl"
           }
          ],
          "scatterternary": [
           {
            "marker": {
             "colorbar": {
              "outlinewidth": 0,
              "ticks": ""
             }
            },
            "type": "scatterternary"
           }
          ],
          "surface": [
           {
            "colorbar": {
             "outlinewidth": 0,
             "ticks": ""
            },
            "colorscale": [
             [
              0,
              "#0d0887"
             ],
             [
              0.1111111111111111,
              "#46039f"
             ],
             [
              0.2222222222222222,
              "#7201a8"
             ],
             [
              0.3333333333333333,
              "#9c179e"
             ],
             [
              0.4444444444444444,
              "#bd3786"
             ],
             [
              0.5555555555555556,
              "#d8576b"
             ],
             [
              0.6666666666666666,
              "#ed7953"
             ],
             [
              0.7777777777777778,
              "#fb9f3a"
             ],
             [
              0.8888888888888888,
              "#fdca26"
             ],
             [
              1,
              "#f0f921"
             ]
            ],
            "type": "surface"
           }
          ],
          "table": [
           {
            "cells": {
             "fill": {
              "color": "#EBF0F8"
             },
             "line": {
              "color": "white"
             }
            },
            "header": {
             "fill": {
              "color": "#C8D4E3"
             },
             "line": {
              "color": "white"
             }
            },
            "type": "table"
           }
          ]
         },
         "layout": {
          "annotationdefaults": {
           "arrowcolor": "#2a3f5f",
           "arrowhead": 0,
           "arrowwidth": 1
          },
          "autotypenumbers": "strict",
          "coloraxis": {
           "colorbar": {
            "outlinewidth": 0,
            "ticks": ""
           }
          },
          "colorscale": {
           "diverging": [
            [
             0,
             "#8e0152"
            ],
            [
             0.1,
             "#c51b7d"
            ],
            [
             0.2,
             "#de77ae"
            ],
            [
             0.3,
             "#f1b6da"
            ],
            [
             0.4,
             "#fde0ef"
            ],
            [
             0.5,
             "#f7f7f7"
            ],
            [
             0.6,
             "#e6f5d0"
            ],
            [
             0.7,
             "#b8e186"
            ],
            [
             0.8,
             "#7fbc41"
            ],
            [
             0.9,
             "#4d9221"
            ],
            [
             1,
             "#276419"
            ]
           ],
           "sequential": [
            [
             0,
             "#0d0887"
            ],
            [
             0.1111111111111111,
             "#46039f"
            ],
            [
             0.2222222222222222,
             "#7201a8"
            ],
            [
             0.3333333333333333,
             "#9c179e"
            ],
            [
             0.4444444444444444,
             "#bd3786"
            ],
            [
             0.5555555555555556,
             "#d8576b"
            ],
            [
             0.6666666666666666,
             "#ed7953"
            ],
            [
             0.7777777777777778,
             "#fb9f3a"
            ],
            [
             0.8888888888888888,
             "#fdca26"
            ],
            [
             1,
             "#f0f921"
            ]
           ],
           "sequentialminus": [
            [
             0,
             "#0d0887"
            ],
            [
             0.1111111111111111,
             "#46039f"
            ],
            [
             0.2222222222222222,
             "#7201a8"
            ],
            [
             0.3333333333333333,
             "#9c179e"
            ],
            [
             0.4444444444444444,
             "#bd3786"
            ],
            [
             0.5555555555555556,
             "#d8576b"
            ],
            [
             0.6666666666666666,
             "#ed7953"
            ],
            [
             0.7777777777777778,
             "#fb9f3a"
            ],
            [
             0.8888888888888888,
             "#fdca26"
            ],
            [
             1,
             "#f0f921"
            ]
           ]
          },
          "colorway": [
           "#636efa",
           "#EF553B",
           "#00cc96",
           "#ab63fa",
           "#FFA15A",
           "#19d3f3",
           "#FF6692",
           "#B6E880",
           "#FF97FF",
           "#FECB52"
          ],
          "font": {
           "color": "#2a3f5f"
          },
          "geo": {
           "bgcolor": "white",
           "lakecolor": "white",
           "landcolor": "#E5ECF6",
           "showlakes": true,
           "showland": true,
           "subunitcolor": "white"
          },
          "hoverlabel": {
           "align": "left"
          },
          "hovermode": "closest",
          "mapbox": {
           "style": "light"
          },
          "paper_bgcolor": "white",
          "plot_bgcolor": "#E5ECF6",
          "polar": {
           "angularaxis": {
            "gridcolor": "white",
            "linecolor": "white",
            "ticks": ""
           },
           "bgcolor": "#E5ECF6",
           "radialaxis": {
            "gridcolor": "white",
            "linecolor": "white",
            "ticks": ""
           }
          },
          "scene": {
           "xaxis": {
            "backgroundcolor": "#E5ECF6",
            "gridcolor": "white",
            "gridwidth": 2,
            "linecolor": "white",
            "showbackground": true,
            "ticks": "",
            "zerolinecolor": "white"
           },
           "yaxis": {
            "backgroundcolor": "#E5ECF6",
            "gridcolor": "white",
            "gridwidth": 2,
            "linecolor": "white",
            "showbackground": true,
            "ticks": "",
            "zerolinecolor": "white"
           },
           "zaxis": {
            "backgroundcolor": "#E5ECF6",
            "gridcolor": "white",
            "gridwidth": 2,
            "linecolor": "white",
            "showbackground": true,
            "ticks": "",
            "zerolinecolor": "white"
           }
          },
          "shapedefaults": {
           "line": {
            "color": "#2a3f5f"
           }
          },
          "ternary": {
           "aaxis": {
            "gridcolor": "white",
            "linecolor": "white",
            "ticks": ""
           },
           "baxis": {
            "gridcolor": "white",
            "linecolor": "white",
            "ticks": ""
           },
           "bgcolor": "#E5ECF6",
           "caxis": {
            "gridcolor": "white",
            "linecolor": "white",
            "ticks": ""
           }
          },
          "title": {
           "x": 0.05
          },
          "xaxis": {
           "automargin": true,
           "gridcolor": "white",
           "linecolor": "white",
           "ticks": "",
           "title": {
            "standoff": 15
           },
           "zerolinecolor": "white",
           "zerolinewidth": 2
          },
          "yaxis": {
           "automargin": true,
           "gridcolor": "white",
           "linecolor": "white",
           "ticks": "",
           "title": {
            "standoff": 15
           },
           "zerolinecolor": "white",
           "zerolinewidth": 2
          }
         }
        },
        "title": {
         "text": "Evaluation Metrics Comparison"
        },
        "xaxis": {
         "title": {
          "text": "Models"
         }
        },
        "yaxis": {
         "title": {
          "text": "Scores"
         }
        }
       }
      }
     },
     "metadata": {},
     "output_type": "display_data"
    }
   ],
   "source": [
    "# Extracting model names and metric scores\n",
    "model_names = [d['model'] for d in regression_stats_val]\n",
    "metric_labels = list(regression_stats_val[0].keys())[1:]\n",
    "metric_scores = {metric: [d[metric] for d in regression_stats_val] for metric in metric_labels}\n",
    "\n",
    "# Plotting the bar chart\n",
    "fig = go.Figure()\n",
    "\n",
    "for metric in metric_labels:\n",
    "    fig.add_trace(go.Bar(\n",
    "        x=model_names,\n",
    "        y=metric_scores[metric],\n",
    "        name=metric\n",
    "    ))\n",
    "\n",
    "# Updating the layout\n",
    "fig.update_layout(\n",
    "    title='Evaluation Metrics Comparison 6MWT',\n",
    "    xaxis_title='Models',\n",
    "    yaxis_title='Scores',\n",
    "    barmode='group'\n",
    ")\n",
    "\n",
    "# Display the plot\n",
    "fig.show()"
   ]
  },
  {
   "attachments": {},
   "cell_type": "markdown",
   "metadata": {},
   "source": [
    "**Evaluating on test data**"
   ]
  },
  {
   "cell_type": "code",
   "execution_count": 14,
   "metadata": {},
   "outputs": [
    {
     "data": {
      "text/plain": [
       "[{'model': 'Multiple Linear Regression',\n",
       "  'mae': 49.8918225194864,\n",
       "  'mse': 4851.733018231057,\n",
       "  'rmse': 69.65438262041418,\n",
       "  'r2': 0.03263162368111683,\n",
       "  'adj_r2': -0.3633671268587768},\n",
       " {'model': 'Random Forest',\n",
       "  'mae': 50.78543381200227,\n",
       "  'mse': 4848.774530620403,\n",
       "  'rmse': 69.63314247267894,\n",
       "  'r2': 0.03322150514110711,\n",
       "  'adj_r2': -0.36253577345610055},\n",
       " {'model': 'Neural Network',\n",
       "  'mae': 50.255410541596184,\n",
       "  'mse': 4817.906865245726,\n",
       "  'rmse': 69.41114366761094,\n",
       "  'r2': 0.03937609015682242,\n",
       "  'adj_r2': -0.35386176767371813},\n",
       " {'model': 'Support Vector Machine',\n",
       "  'mae': 49.95468166287966,\n",
       "  'mse': 4780.516023273689,\n",
       "  'rmse': 69.14127582908554,\n",
       "  'r2': 0.04683130625213716,\n",
       "  'adj_r2': -0.34335470873236806}]"
      ]
     },
     "execution_count": 14,
     "metadata": {},
     "output_type": "execute_result"
    }
   ],
   "source": [
    "regression_models = [\n",
    "    {\n",
    "        'name': 'Multiple Linear Regression',\n",
    "        'model': best_model_mlr,\n",
    "        'features': best_features_mlr\n",
    "    },\n",
    "    {\n",
    "        'name': 'Random Forest',\n",
    "        'model': best_model_rf,\n",
    "        'features': best_features_rf\n",
    "    },\n",
    "    {\n",
    "        'name': 'Neural Network',\n",
    "        'model': best_model_nn,\n",
    "        'features': best_features_nn\n",
    "    },\n",
    "    {\n",
    "        'name': 'Support Vector Machine',\n",
    "        'model': best_model_svm,\n",
    "        'features': best_features_svm\n",
    "    }\n",
    "]\n",
    "\n",
    "regression_stats_test = []\n",
    "\n",
    "for model in regression_models:\n",
    "    # Make predictions on the test set\n",
    "    y_pred = model['model'].predict(X_test[model['features']])\n",
    "\n",
    "    # Defining Actual values\n",
    "    y_true = y_test.copy()\n",
    "\n",
    "    # R2 Score\n",
    "    r2 = r2_score(y_true, y_pred)\n",
    "\n",
    "    # Adjusted R2 Score\n",
    "    n = len(y_true)  # Number of samples\n",
    "    p = X_test.shape[1]  # Number of predictors (features) in X\n",
    "    adj_r2 = 1 - ((1 - r2) * (n - 1)) / (n - p - 1)\n",
    "\n",
    "    # Save stats\n",
    "    regression_stats_test.append(\n",
    "        {\n",
    "            'model': model['name'],\n",
    "            'mae': mean_absolute_error(y_true, y_pred),\n",
    "            'mse': mean_squared_error(y_true, y_pred),\n",
    "            'rmse': np.sqrt(mean_squared_error(y_true, y_pred)),\n",
    "            'r2': r2,\n",
    "            'adj_r2': adj_r2\n",
    "        }\n",
    "    )\n",
    "\n",
    "# View stats\n",
    "regression_stats_test"
   ]
  },
  {
   "cell_type": "code",
   "execution_count": 35,
   "metadata": {},
   "outputs": [
    {
     "data": {
      "application/vnd.plotly.v1+json": {
       "config": {
        "plotlyServerURL": "https://plot.ly"
       },
       "data": [
        {
         "name": "mae",
         "text": [
          "49.8918225194864",
          "50.78543381200227",
          "50.255410541596184",
          "49.95468166287966"
         ],
         "textposition": "auto",
         "type": "bar",
         "x": [
          "Multiple Linear Regression",
          "Random Forest",
          "Neural Network",
          "Support Vector Machine"
         ],
         "y": [
          49.8918225194864,
          50.78543381200227,
          50.255410541596184,
          49.95468166287966
         ]
        },
        {
         "name": "mse",
         "text": [
          "4851.733018231057",
          "4848.774530620403",
          "4817.906865245726",
          "4780.516023273689"
         ],
         "textposition": "auto",
         "type": "bar",
         "x": [
          "Multiple Linear Regression",
          "Random Forest",
          "Neural Network",
          "Support Vector Machine"
         ],
         "y": [
          4851.733018231057,
          4848.774530620403,
          4817.906865245726,
          4780.516023273689
         ]
        },
        {
         "name": "rmse",
         "text": [
          "69.65438262041418",
          "69.63314247267894",
          "69.41114366761094",
          "69.14127582908554"
         ],
         "textposition": "auto",
         "type": "bar",
         "x": [
          "Multiple Linear Regression",
          "Random Forest",
          "Neural Network",
          "Support Vector Machine"
         ],
         "y": [
          69.65438262041418,
          69.63314247267894,
          69.41114366761094,
          69.14127582908554
         ]
        },
        {
         "name": "r2",
         "text": [
          "0.03263162368111683",
          "0.03322150514110711",
          "0.03937609015682242",
          "0.04683130625213716"
         ],
         "textposition": "auto",
         "type": "bar",
         "x": [
          "Multiple Linear Regression",
          "Random Forest",
          "Neural Network",
          "Support Vector Machine"
         ],
         "y": [
          0.03263162368111683,
          0.03322150514110711,
          0.03937609015682242,
          0.04683130625213716
         ]
        },
        {
         "name": "adj_r2",
         "text": [
          "-0.3633671268587768",
          "-0.36253577345610055",
          "-0.35386176767371813",
          "-0.34335470873236806"
         ],
         "textposition": "auto",
         "type": "bar",
         "x": [
          "Multiple Linear Regression",
          "Random Forest",
          "Neural Network",
          "Support Vector Machine"
         ],
         "y": [
          -0.3633671268587768,
          -0.36253577345610055,
          -0.35386176767371813,
          -0.34335470873236806
         ]
        }
       ],
       "layout": {
        "barmode": "group",
        "template": {
         "data": {
          "bar": [
           {
            "error_x": {
             "color": "#2a3f5f"
            },
            "error_y": {
             "color": "#2a3f5f"
            },
            "marker": {
             "line": {
              "color": "#E5ECF6",
              "width": 0.5
             },
             "pattern": {
              "fillmode": "overlay",
              "size": 10,
              "solidity": 0.2
             }
            },
            "type": "bar"
           }
          ],
          "barpolar": [
           {
            "marker": {
             "line": {
              "color": "#E5ECF6",
              "width": 0.5
             },
             "pattern": {
              "fillmode": "overlay",
              "size": 10,
              "solidity": 0.2
             }
            },
            "type": "barpolar"
           }
          ],
          "carpet": [
           {
            "aaxis": {
             "endlinecolor": "#2a3f5f",
             "gridcolor": "white",
             "linecolor": "white",
             "minorgridcolor": "white",
             "startlinecolor": "#2a3f5f"
            },
            "baxis": {
             "endlinecolor": "#2a3f5f",
             "gridcolor": "white",
             "linecolor": "white",
             "minorgridcolor": "white",
             "startlinecolor": "#2a3f5f"
            },
            "type": "carpet"
           }
          ],
          "choropleth": [
           {
            "colorbar": {
             "outlinewidth": 0,
             "ticks": ""
            },
            "type": "choropleth"
           }
          ],
          "contour": [
           {
            "colorbar": {
             "outlinewidth": 0,
             "ticks": ""
            },
            "colorscale": [
             [
              0,
              "#0d0887"
             ],
             [
              0.1111111111111111,
              "#46039f"
             ],
             [
              0.2222222222222222,
              "#7201a8"
             ],
             [
              0.3333333333333333,
              "#9c179e"
             ],
             [
              0.4444444444444444,
              "#bd3786"
             ],
             [
              0.5555555555555556,
              "#d8576b"
             ],
             [
              0.6666666666666666,
              "#ed7953"
             ],
             [
              0.7777777777777778,
              "#fb9f3a"
             ],
             [
              0.8888888888888888,
              "#fdca26"
             ],
             [
              1,
              "#f0f921"
             ]
            ],
            "type": "contour"
           }
          ],
          "contourcarpet": [
           {
            "colorbar": {
             "outlinewidth": 0,
             "ticks": ""
            },
            "type": "contourcarpet"
           }
          ],
          "heatmap": [
           {
            "colorbar": {
             "outlinewidth": 0,
             "ticks": ""
            },
            "colorscale": [
             [
              0,
              "#0d0887"
             ],
             [
              0.1111111111111111,
              "#46039f"
             ],
             [
              0.2222222222222222,
              "#7201a8"
             ],
             [
              0.3333333333333333,
              "#9c179e"
             ],
             [
              0.4444444444444444,
              "#bd3786"
             ],
             [
              0.5555555555555556,
              "#d8576b"
             ],
             [
              0.6666666666666666,
              "#ed7953"
             ],
             [
              0.7777777777777778,
              "#fb9f3a"
             ],
             [
              0.8888888888888888,
              "#fdca26"
             ],
             [
              1,
              "#f0f921"
             ]
            ],
            "type": "heatmap"
           }
          ],
          "heatmapgl": [
           {
            "colorbar": {
             "outlinewidth": 0,
             "ticks": ""
            },
            "colorscale": [
             [
              0,
              "#0d0887"
             ],
             [
              0.1111111111111111,
              "#46039f"
             ],
             [
              0.2222222222222222,
              "#7201a8"
             ],
             [
              0.3333333333333333,
              "#9c179e"
             ],
             [
              0.4444444444444444,
              "#bd3786"
             ],
             [
              0.5555555555555556,
              "#d8576b"
             ],
             [
              0.6666666666666666,
              "#ed7953"
             ],
             [
              0.7777777777777778,
              "#fb9f3a"
             ],
             [
              0.8888888888888888,
              "#fdca26"
             ],
             [
              1,
              "#f0f921"
             ]
            ],
            "type": "heatmapgl"
           }
          ],
          "histogram": [
           {
            "marker": {
             "pattern": {
              "fillmode": "overlay",
              "size": 10,
              "solidity": 0.2
             }
            },
            "type": "histogram"
           }
          ],
          "histogram2d": [
           {
            "colorbar": {
             "outlinewidth": 0,
             "ticks": ""
            },
            "colorscale": [
             [
              0,
              "#0d0887"
             ],
             [
              0.1111111111111111,
              "#46039f"
             ],
             [
              0.2222222222222222,
              "#7201a8"
             ],
             [
              0.3333333333333333,
              "#9c179e"
             ],
             [
              0.4444444444444444,
              "#bd3786"
             ],
             [
              0.5555555555555556,
              "#d8576b"
             ],
             [
              0.6666666666666666,
              "#ed7953"
             ],
             [
              0.7777777777777778,
              "#fb9f3a"
             ],
             [
              0.8888888888888888,
              "#fdca26"
             ],
             [
              1,
              "#f0f921"
             ]
            ],
            "type": "histogram2d"
           }
          ],
          "histogram2dcontour": [
           {
            "colorbar": {
             "outlinewidth": 0,
             "ticks": ""
            },
            "colorscale": [
             [
              0,
              "#0d0887"
             ],
             [
              0.1111111111111111,
              "#46039f"
             ],
             [
              0.2222222222222222,
              "#7201a8"
             ],
             [
              0.3333333333333333,
              "#9c179e"
             ],
             [
              0.4444444444444444,
              "#bd3786"
             ],
             [
              0.5555555555555556,
              "#d8576b"
             ],
             [
              0.6666666666666666,
              "#ed7953"
             ],
             [
              0.7777777777777778,
              "#fb9f3a"
             ],
             [
              0.8888888888888888,
              "#fdca26"
             ],
             [
              1,
              "#f0f921"
             ]
            ],
            "type": "histogram2dcontour"
           }
          ],
          "mesh3d": [
           {
            "colorbar": {
             "outlinewidth": 0,
             "ticks": ""
            },
            "type": "mesh3d"
           }
          ],
          "parcoords": [
           {
            "line": {
             "colorbar": {
              "outlinewidth": 0,
              "ticks": ""
             }
            },
            "type": "parcoords"
           }
          ],
          "pie": [
           {
            "automargin": true,
            "type": "pie"
           }
          ],
          "scatter": [
           {
            "fillpattern": {
             "fillmode": "overlay",
             "size": 10,
             "solidity": 0.2
            },
            "type": "scatter"
           }
          ],
          "scatter3d": [
           {
            "line": {
             "colorbar": {
              "outlinewidth": 0,
              "ticks": ""
             }
            },
            "marker": {
             "colorbar": {
              "outlinewidth": 0,
              "ticks": ""
             }
            },
            "type": "scatter3d"
           }
          ],
          "scattercarpet": [
           {
            "marker": {
             "colorbar": {
              "outlinewidth": 0,
              "ticks": ""
             }
            },
            "type": "scattercarpet"
           }
          ],
          "scattergeo": [
           {
            "marker": {
             "colorbar": {
              "outlinewidth": 0,
              "ticks": ""
             }
            },
            "type": "scattergeo"
           }
          ],
          "scattergl": [
           {
            "marker": {
             "colorbar": {
              "outlinewidth": 0,
              "ticks": ""
             }
            },
            "type": "scattergl"
           }
          ],
          "scattermapbox": [
           {
            "marker": {
             "colorbar": {
              "outlinewidth": 0,
              "ticks": ""
             }
            },
            "type": "scattermapbox"
           }
          ],
          "scatterpolar": [
           {
            "marker": {
             "colorbar": {
              "outlinewidth": 0,
              "ticks": ""
             }
            },
            "type": "scatterpolar"
           }
          ],
          "scatterpolargl": [
           {
            "marker": {
             "colorbar": {
              "outlinewidth": 0,
              "ticks": ""
             }
            },
            "type": "scatterpolargl"
           }
          ],
          "scatterternary": [
           {
            "marker": {
             "colorbar": {
              "outlinewidth": 0,
              "ticks": ""
             }
            },
            "type": "scatterternary"
           }
          ],
          "surface": [
           {
            "colorbar": {
             "outlinewidth": 0,
             "ticks": ""
            },
            "colorscale": [
             [
              0,
              "#0d0887"
             ],
             [
              0.1111111111111111,
              "#46039f"
             ],
             [
              0.2222222222222222,
              "#7201a8"
             ],
             [
              0.3333333333333333,
              "#9c179e"
             ],
             [
              0.4444444444444444,
              "#bd3786"
             ],
             [
              0.5555555555555556,
              "#d8576b"
             ],
             [
              0.6666666666666666,
              "#ed7953"
             ],
             [
              0.7777777777777778,
              "#fb9f3a"
             ],
             [
              0.8888888888888888,
              "#fdca26"
             ],
             [
              1,
              "#f0f921"
             ]
            ],
            "type": "surface"
           }
          ],
          "table": [
           {
            "cells": {
             "fill": {
              "color": "#EBF0F8"
             },
             "line": {
              "color": "white"
             }
            },
            "header": {
             "fill": {
              "color": "#C8D4E3"
             },
             "line": {
              "color": "white"
             }
            },
            "type": "table"
           }
          ]
         },
         "layout": {
          "annotationdefaults": {
           "arrowcolor": "#2a3f5f",
           "arrowhead": 0,
           "arrowwidth": 1
          },
          "autotypenumbers": "strict",
          "coloraxis": {
           "colorbar": {
            "outlinewidth": 0,
            "ticks": ""
           }
          },
          "colorscale": {
           "diverging": [
            [
             0,
             "#8e0152"
            ],
            [
             0.1,
             "#c51b7d"
            ],
            [
             0.2,
             "#de77ae"
            ],
            [
             0.3,
             "#f1b6da"
            ],
            [
             0.4,
             "#fde0ef"
            ],
            [
             0.5,
             "#f7f7f7"
            ],
            [
             0.6,
             "#e6f5d0"
            ],
            [
             0.7,
             "#b8e186"
            ],
            [
             0.8,
             "#7fbc41"
            ],
            [
             0.9,
             "#4d9221"
            ],
            [
             1,
             "#276419"
            ]
           ],
           "sequential": [
            [
             0,
             "#0d0887"
            ],
            [
             0.1111111111111111,
             "#46039f"
            ],
            [
             0.2222222222222222,
             "#7201a8"
            ],
            [
             0.3333333333333333,
             "#9c179e"
            ],
            [
             0.4444444444444444,
             "#bd3786"
            ],
            [
             0.5555555555555556,
             "#d8576b"
            ],
            [
             0.6666666666666666,
             "#ed7953"
            ],
            [
             0.7777777777777778,
             "#fb9f3a"
            ],
            [
             0.8888888888888888,
             "#fdca26"
            ],
            [
             1,
             "#f0f921"
            ]
           ],
           "sequentialminus": [
            [
             0,
             "#0d0887"
            ],
            [
             0.1111111111111111,
             "#46039f"
            ],
            [
             0.2222222222222222,
             "#7201a8"
            ],
            [
             0.3333333333333333,
             "#9c179e"
            ],
            [
             0.4444444444444444,
             "#bd3786"
            ],
            [
             0.5555555555555556,
             "#d8576b"
            ],
            [
             0.6666666666666666,
             "#ed7953"
            ],
            [
             0.7777777777777778,
             "#fb9f3a"
            ],
            [
             0.8888888888888888,
             "#fdca26"
            ],
            [
             1,
             "#f0f921"
            ]
           ]
          },
          "colorway": [
           "#636efa",
           "#EF553B",
           "#00cc96",
           "#ab63fa",
           "#FFA15A",
           "#19d3f3",
           "#FF6692",
           "#B6E880",
           "#FF97FF",
           "#FECB52"
          ],
          "font": {
           "color": "#2a3f5f"
          },
          "geo": {
           "bgcolor": "white",
           "lakecolor": "white",
           "landcolor": "#E5ECF6",
           "showlakes": true,
           "showland": true,
           "subunitcolor": "white"
          },
          "hoverlabel": {
           "align": "left"
          },
          "hovermode": "closest",
          "mapbox": {
           "style": "light"
          },
          "paper_bgcolor": "white",
          "plot_bgcolor": "#E5ECF6",
          "polar": {
           "angularaxis": {
            "gridcolor": "white",
            "linecolor": "white",
            "ticks": ""
           },
           "bgcolor": "#E5ECF6",
           "radialaxis": {
            "gridcolor": "white",
            "linecolor": "white",
            "ticks": ""
           }
          },
          "scene": {
           "xaxis": {
            "backgroundcolor": "#E5ECF6",
            "gridcolor": "white",
            "gridwidth": 2,
            "linecolor": "white",
            "showbackground": true,
            "ticks": "",
            "zerolinecolor": "white"
           },
           "yaxis": {
            "backgroundcolor": "#E5ECF6",
            "gridcolor": "white",
            "gridwidth": 2,
            "linecolor": "white",
            "showbackground": true,
            "ticks": "",
            "zerolinecolor": "white"
           },
           "zaxis": {
            "backgroundcolor": "#E5ECF6",
            "gridcolor": "white",
            "gridwidth": 2,
            "linecolor": "white",
            "showbackground": true,
            "ticks": "",
            "zerolinecolor": "white"
           }
          },
          "shapedefaults": {
           "line": {
            "color": "#2a3f5f"
           }
          },
          "ternary": {
           "aaxis": {
            "gridcolor": "white",
            "linecolor": "white",
            "ticks": ""
           },
           "baxis": {
            "gridcolor": "white",
            "linecolor": "white",
            "ticks": ""
           },
           "bgcolor": "#E5ECF6",
           "caxis": {
            "gridcolor": "white",
            "linecolor": "white",
            "ticks": ""
           }
          },
          "title": {
           "x": 0.05
          },
          "xaxis": {
           "automargin": true,
           "gridcolor": "white",
           "linecolor": "white",
           "ticks": "",
           "title": {
            "standoff": 15
           },
           "zerolinecolor": "white",
           "zerolinewidth": 2
          },
          "yaxis": {
           "automargin": true,
           "gridcolor": "white",
           "linecolor": "white",
           "ticks": "",
           "title": {
            "standoff": 15
           },
           "zerolinecolor": "white",
           "zerolinewidth": 2
          }
         }
        },
        "title": {
         "text": "Evaluation Metrics Comparison 6MWT"
        },
        "xaxis": {
         "title": {
          "text": "Models"
         }
        },
        "yaxis": {
         "title": {
          "text": "Scores"
         }
        }
       }
      }
     },
     "metadata": {},
     "output_type": "display_data"
    }
   ],
   "source": [
    "# Plotting the bar chart\n",
    "fig = go.Figure()\n",
    "\n",
    "for metric in metric_labels:\n",
    "    fig.add_trace(go.Bar(\n",
    "        x=model_names,\n",
    "        y=metric_scores[metric],\n",
    "        text=metric_scores[metric],  # Display the values on the bars\n",
    "        textposition='auto',  # Position the text inside the bars\n",
    "        name=metric\n",
    "    ))\n",
    "\n",
    "# Updating the layout\n",
    "fig.update_layout(\n",
    "    title='Evaluation Metrics Comparison 6MWT',\n",
    "    xaxis_title='Models',\n",
    "    yaxis_title='Scores',\n",
    "    barmode='group'\n",
    ")\n",
    "\n",
    "# Display the plot\n",
    "fig.show()\n"
   ]
  },
  {
   "attachments": {},
   "cell_type": "markdown",
   "metadata": {},
   "source": [
    "Naive bayes"
   ]
  },
  {
   "cell_type": "code",
   "execution_count": 16,
   "metadata": {},
   "outputs": [
    {
     "name": "stdout",
     "output_type": "stream",
     "text": [
      "Mean Absolute Error: 50.91615513871266\n",
      "Mean Squared Error: 5027.712127213051\n",
      "Root Mean Squared Error: 70.90636168365326\n",
      "R2 Score: -0.002456173665164929\n",
      "Adjusted R2 Score: -0.4128183500193261\n"
     ]
    }
   ],
   "source": [
    "# Defining Actual values\n",
    "y_true = y_test.copy()\n",
    "\n",
    "# Defining Predicted values\n",
    "y_pred = np.full_like(y_test, y_train.mean())\n",
    "\n",
    "# Mean absolute error\n",
    "mae = mean_absolute_error(y_test, y_pred)\n",
    "print(\"Mean Absolute Error:\", mae)\n",
    "\n",
    "# Mean Squared Error\n",
    "mse = mean_squared_error(y_true, y_pred)\n",
    "print(\"Mean Squared Error:\", mse)\n",
    "\n",
    "# Root Mean Squared Error\n",
    "rmse = np.sqrt(mse)\n",
    "print(\"Root Mean Squared Error:\", rmse)\n",
    "\n",
    "# R2 Score\n",
    "r2 = r2_score(y_true, y_pred)\n",
    "print(\"R2 Score:\", r2)\n",
    "\n",
    "# Adjusted R2 Score\n",
    "n = len(y_true)  # Number of samples\n",
    "p = X_test.shape[1]  # Number of predictors (features) in X\n",
    "adj_r2 = 1 - ((1 - r2) * (n - 1)) / (n - p - 1)\n",
    "print(\"Adjusted R2 Score:\", adj_r2)"
   ]
  },
  {
   "attachments": {},
   "cell_type": "markdown",
   "metadata": {},
   "source": [
    "Save best model as Pickle"
   ]
  },
  {
   "cell_type": "code",
   "execution_count": 17,
   "metadata": {},
   "outputs": [],
   "source": [
    "import pickle\n",
    "\n",
    "# Save model\n",
    "file_path = 'Saved Models/6 MWT.pkl'\n",
    "\n",
    "with open(file_path, 'wb') as file:\n",
    "    pickle.dump(best_model_mlr, file)\n",
    "\n",
    "# Save features\n",
    "with open('Saved Models/best_features_6 MWT.txt', 'w') as file:\n",
    "    file.write(f'{best_features_mlr}')"
   ]
  }
 ],
 "metadata": {
  "kernelspec": {
   "display_name": "Python 3",
   "language": "python",
   "name": "python3"
  },
  "language_info": {
   "codemirror_mode": {
    "name": "ipython",
    "version": 3
   },
   "file_extension": ".py",
   "mimetype": "text/x-python",
   "name": "python",
   "nbconvert_exporter": "python",
   "pygments_lexer": "ipython3",
   "version": "3.9.5"
  },
  "orig_nbformat": 4
 },
 "nbformat": 4,
 "nbformat_minor": 2
}
