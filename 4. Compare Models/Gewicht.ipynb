{
 "cells": [
  {
   "attachments": {},
   "cell_type": "markdown",
   "metadata": {},
   "source": [
    "# General Imports"
   ]
  },
  {
   "attachments": {},
   "cell_type": "markdown",
   "metadata": {},
   "source": [
    "**Importing all libraries**"
   ]
  },
  {
   "cell_type": "code",
   "execution_count": 1,
   "metadata": {},
   "outputs": [],
   "source": [
    "import numpy as np\n",
    "import pandas as pd\n",
    "import warnings\n",
    "\n",
    "import plotly.graph_objects as go\n",
    "from bayes_opt import BayesianOptimization\n",
    "import statsmodels.api as sm\n",
    "\n",
    "from sklearn.model_selection import cross_val_score, train_test_split\n",
    "from sklearn.linear_model import LinearRegression\n",
    "from sklearn.svm import SVR\n",
    "from sklearn.model_selection import cross_val_predict\n",
    "from sklearn.ensemble import RandomForestRegressor\n",
    "from sklearn.neural_network import MLPRegressor\n",
    "from sklearn.metrics import r2_score, mean_squared_error, mean_absolute_error\n",
    "from sklearn.inspection import permutation_importance\n"
   ]
  },
  {
   "attachments": {},
   "cell_type": "markdown",
   "metadata": {},
   "source": [
    "Disable warnings"
   ]
  },
  {
   "cell_type": "code",
   "execution_count": 2,
   "metadata": {},
   "outputs": [],
   "source": [
    "# Disable all warnings\n",
    "warnings.filterwarnings(\"ignore\")\n",
    "\n",
    "# Enable warnings again\n",
    "## warnings.filterwarnings(\"default\")"
   ]
  },
  {
   "attachments": {},
   "cell_type": "markdown",
   "metadata": {},
   "source": [
    "Generate train and test data"
   ]
  },
  {
   "cell_type": "code",
   "execution_count": 3,
   "metadata": {},
   "outputs": [],
   "source": [
    "# Read Data\n",
    "df = pd.read_csv(\"data_finish_prep.csv\")\n",
    "\n",
    "# Select only the usefull part of the df\n",
    "df.drop(columns=['verschil_Lengte',\n",
    "               'verschil_6 MWT', 'verschil_TUG',\n",
    "               'verschil_BMI', 'verschil_Conditie',\n",
    "               'verschil_Lenigheid', 'verschil_Knijpkracht'], inplace=True)\n",
    "\n",
    "# Drop NaN values\n",
    "df.dropna(inplace=True)\n",
    "\n",
    "# Define X and y\n",
    "X = df.drop(columns=['verschil_Gewicht'])\n",
    "y = df['verschil_Gewicht']\n",
    "\n",
    "# Split data into train & test data\n",
    "X_train, X_test, y_train, y_test = train_test_split(X, y, test_size=0.2, random_state=42)"
   ]
  },
  {
   "cell_type": "code",
   "execution_count": 4,
   "metadata": {},
   "outputs": [],
   "source": [
    "def bo_params_generic(model, params, X_train, y_train):\n",
    "    # Create the model instance with the specified parameters\n",
    "    regressor = model(**params)\n",
    "    \n",
    "    # Assuming you have X_train, y_train defined for regression\n",
    "    scores = cross_val_score(regressor, X_train, y_train, cv=10, scoring='neg_root_mean_squared_error')\n",
    "    return -scores.mean()"
   ]
  },
  {
   "attachments": {},
   "cell_type": "markdown",
   "metadata": {},
   "source": [
    "# MLR"
   ]
  },
  {
   "attachments": {},
   "cell_type": "markdown",
   "metadata": {},
   "source": [
    "**feature selection**"
   ]
  },
  {
   "cell_type": "code",
   "execution_count": 5,
   "metadata": {},
   "outputs": [
    {
     "name": "stdout",
     "output_type": "stream",
     "text": [
      "Best features: ['AfstandTotRestaurant', 'AfstandTotSportterrein', 'AfstandTotKunstijsbaan', 'AfstandTotMuseum', 'AfstandTotPodiumkunstenTotaal', 'AfstandTotBioscoop', 'AfstandTotSauna', 'BeperkingInZien', 'VoldoetAanBeweegrichtlijn', 'UrenMantelzorgPerWeek']\n",
      "Dropped features: ['AfstandTotAttractie', 'AfstandTotBibliotheek', 'AfstandTotOvDagelLevensmiddelen', 'AfstandTotSchool', 'VoldoetAanRichtlijnAlcoholgebruik', 'AfstandTotBos', 'AfstandTotCafeED', 'AfstandTotVolkstuin', 'InBezitWoningcorporatie', 'AfstandTotKinderdagverblijf', 'AfstandTotDagrecreatiefTerrein', 'SterfteRelatief', 'NederlandseAntillenEnAruba', 'AfstandTotBrandweerkazerne', 'PercentageOnbewoond', 'AfstandTotOpenNatTerreinTotaal', 'AfstandTotSemiOpenbaarGroenTotaal', 'AfstandTotZwembad', 'ALandbouwBosbouwEnVisserij', 'AfstandTotBelangrijkOverstapstation', 'AfstandTotOpenNatNatuurlijkTerrein', 'AfstandTotTreinstationsTotaal', 'Mantelzorger', 'Rokers', 'VernielingMisdrijfTegenOpenbareOrde', 'AfstandTotApotheek', 'GemiddeldeWoningwaarde', 'AfstandTotBuitenschoolseOpvang', 'AfstandTotVerblijfsrecreatiefTerrein', 'AfstandTotWarenhuis', 'AfstandTotPoppodium', 'PersonenautoSNaarOppervlakte', 'ErvarenGezondheidGoedZeerGoed', 'AfstandTotBegraafplaats', 'MatigOvergewicht', 'EigendomOnbekend', 'BouwjaarVanaf2000', 'AfstandTotOpenDroogNatTerrein', 'ErnstigOvergewichtObesitas', 'AfstandTotHuisartsenpost', 'kPersonenMetLaagsteInkomen', 'PersonenautoSPerHuishouden', 'AfstandTotHuisartsenpraktijk', 'PersonenautoSOverigeBrandstof', 'TotaalDiefstalUitWoningSchuurED', 'KLFinancieleDienstenOnroerendGoed', 'EenOfMeerLangdurigeAandoeningen', 'OvermatigDrinker', 'ZwaarBelasteMantelzorgers', 'GeweldsEnSeksueleMisdrijven', 'AfstandTotCafetariaED', 'AfstandTotHotelED', 'InBezitOverigeVerhuurders', 'AfstandTotConsultatiebureau', 'AfstandTotOpenbaarGroenTotaal', 'AfstandTotZonnebank', 'BeperkingInHoren', 'GeboorteRelatief', 'OppervlakteWater', 'Ondergewicht']\n"
     ]
    }
   ],
   "source": [
    "# Fit the Full Model\n",
    "X =  sm.add_constant(X_train)  # Add constant term for the intercept\n",
    "model = sm.OLS(y_train, X_train).fit()  # Fit the MLR model\n",
    "best_model = model  # Initialize the best model\n",
    "selected_features = X_train.columns.tolist()\n",
    "best_features = X_train.columns.tolist()\n",
    "best_features_rmse = np.sqrt(-cross_val_score(LinearRegression(), X_train, y_train, cv=10, scoring='neg_mean_squared_error').mean())\n",
    "\n",
    "# Iteratively remove one feature at a time based on p-values\n",
    "while True:\n",
    "    # Compute p-values\n",
    "    p_values = model.pvalues[1:]  # Exclude the constant term\n",
    "\n",
    "    # Identify Insignificant Features\n",
    "    insignificant_feature = p_values.idxmax()\n",
    "    max_p_value = p_values.max()\n",
    "\n",
    "    # Remove Insignificant Feature\n",
    "    X = X.drop(insignificant_feature, axis=1)\n",
    "    selected_features.remove(insignificant_feature)\n",
    "\n",
    "    # When there a no features left\n",
    "    if len(selected_features) == 0:\n",
    "        break\n",
    "    \n",
    "    # Refit the Model\n",
    "    model = sm.OLS(y_train, X).fit()\n",
    "    \n",
    "    # Evaluate Model Performance\n",
    "    rmse = np.sqrt(-cross_val_score(LinearRegression(), X_train[selected_features], y_train, cv=10, scoring='neg_mean_squared_error').mean())\n",
    "\n",
    "    # Check if the model performs better without the insignificant features\n",
    "    if rmse <= best_features_rmse:\n",
    "        best_features_rmse = rmse\n",
    "        best_features = selected_features.copy()\n",
    "        best_model = model\n",
    "\n",
    "# Save results\n",
    "best_model_mlr = LinearRegression().fit(X_train[best_features], y_train)\n",
    "best_features_mlr = best_features\n",
    "\n",
    "# Show results\n",
    "print(\"Best features:\", best_features)\n",
    "print(\"Dropped features:\", list(set(X_train.columns.tolist()) - set(best_features)))"
   ]
  },
  {
   "attachments": {},
   "cell_type": "markdown",
   "metadata": {},
   "source": [
    "*Er zijn geen hyperparameters om te optimaliseren.*"
   ]
  },
  {
   "attachments": {},
   "cell_type": "markdown",
   "metadata": {},
   "source": [
    "# Support Vector Machines"
   ]
  },
  {
   "attachments": {},
   "cell_type": "markdown",
   "metadata": {},
   "source": [
    "**Hyperparameter optimalisatie**"
   ]
  },
  {
   "cell_type": "code",
   "execution_count": 6,
   "metadata": {},
   "outputs": [
    {
     "name": "stdout",
     "output_type": "stream",
     "text": [
      "|   iter    |  target   |     C     |   gamma   | kernel... |\n",
      "-------------------------------------------------------------\n",
      "| \u001b[0m1        \u001b[0m | \u001b[0m-11.67   \u001b[0m | \u001b[0m5.415    \u001b[0m | \u001b[0m0.04511  \u001b[0m | \u001b[0m1.636    \u001b[0m |\n",
      "| \u001b[95m2        \u001b[0m | \u001b[95m-11.6    \u001b[0m | \u001b[95m0.6959   \u001b[0m | \u001b[95m0.05126  \u001b[0m | \u001b[95m2.078    \u001b[0m |\n",
      "| \u001b[0m3        \u001b[0m | \u001b[0m-11.64   \u001b[0m | \u001b[0m1.222    \u001b[0m | \u001b[0m0.01465  \u001b[0m | \u001b[0m1.69     \u001b[0m |\n",
      "| \u001b[0m4        \u001b[0m | \u001b[0m-11.65   \u001b[0m | \u001b[0m9.473    \u001b[0m | \u001b[0m0.09062  \u001b[0m | \u001b[0m3.904    \u001b[0m |\n",
      "| \u001b[0m5        \u001b[0m | \u001b[0m-11.63   \u001b[0m | \u001b[0m2.815    \u001b[0m | \u001b[0m0.06129  \u001b[0m | \u001b[0m2.657    \u001b[0m |\n",
      "| \u001b[0m6        \u001b[0m | \u001b[0m-11.64   \u001b[0m | \u001b[0m9.167    \u001b[0m | \u001b[0m0.07089  \u001b[0m | \u001b[0m3.377    \u001b[0m |\n",
      "| \u001b[0m7        \u001b[0m | \u001b[0m-11.63   \u001b[0m | \u001b[0m5.375    \u001b[0m | \u001b[0m0.09218  \u001b[0m | \u001b[0m2.982    \u001b[0m |\n",
      "| \u001b[95m8        \u001b[0m | \u001b[95m-11.6    \u001b[0m | \u001b[95m0.5399   \u001b[0m | \u001b[95m0.008482 \u001b[0m | \u001b[95m3.015    \u001b[0m |\n",
      "| \u001b[0m9        \u001b[0m | \u001b[0m-11.63   \u001b[0m | \u001b[0m2.989    \u001b[0m | \u001b[0m0.03659  \u001b[0m | \u001b[0m3.925    \u001b[0m |\n",
      "| \u001b[0m10       \u001b[0m | \u001b[0m-11.65   \u001b[0m | \u001b[0m2.751    \u001b[0m | \u001b[0m0.08992  \u001b[0m | \u001b[0m3.122    \u001b[0m |\n",
      "| \u001b[0m11       \u001b[0m | \u001b[0m-11.61   \u001b[0m | \u001b[0m0.3962   \u001b[0m | \u001b[0m0.0406   \u001b[0m | \u001b[0m2.08     \u001b[0m |\n",
      "| \u001b[0m12       \u001b[0m | \u001b[0m-11.63   \u001b[0m | \u001b[0m2.864    \u001b[0m | \u001b[0m0.03342  \u001b[0m | \u001b[0m3.865    \u001b[0m |\n",
      "| \u001b[0m13       \u001b[0m | \u001b[0m-11.61   \u001b[0m | \u001b[0m0.8747   \u001b[0m | \u001b[0m0.1      \u001b[0m | \u001b[0m2.62     \u001b[0m |\n",
      "| \u001b[0m14       \u001b[0m | \u001b[0m-11.63   \u001b[0m | \u001b[0m0.1      \u001b[0m | \u001b[0m0.1      \u001b[0m | \u001b[0m3.434    \u001b[0m |\n",
      "| \u001b[0m15       \u001b[0m | \u001b[0m-11.61   \u001b[0m | \u001b[0m0.6619   \u001b[0m | \u001b[0m0.03883  \u001b[0m | \u001b[0m2.482    \u001b[0m |\n",
      "| \u001b[0m16       \u001b[0m | \u001b[0m-11.63   \u001b[0m | \u001b[0m4.812    \u001b[0m | \u001b[0m0.07989  \u001b[0m | \u001b[0m2.703    \u001b[0m |\n",
      "| \u001b[0m17       \u001b[0m | \u001b[0m-11.69   \u001b[0m | \u001b[0m0.9914   \u001b[0m | \u001b[0m0.001    \u001b[0m | \u001b[0m3.337    \u001b[0m |\n",
      "| \u001b[0m18       \u001b[0m | \u001b[0m-11.61   \u001b[0m | \u001b[0m0.3095   \u001b[0m | \u001b[0m0.1      \u001b[0m | \u001b[0m2.792    \u001b[0m |\n",
      "| \u001b[0m19       \u001b[0m | \u001b[0m-11.63   \u001b[0m | \u001b[0m0.5053   \u001b[0m | \u001b[0m0.1      \u001b[0m | \u001b[0m1.641    \u001b[0m |\n",
      "| \u001b[0m20       \u001b[0m | \u001b[0m-11.61   \u001b[0m | \u001b[0m1.061    \u001b[0m | \u001b[0m0.1      \u001b[0m | \u001b[0m2.27     \u001b[0m |\n",
      "| \u001b[0m21       \u001b[0m | \u001b[0m-11.65   \u001b[0m | \u001b[0m2.974    \u001b[0m | \u001b[0m0.02011  \u001b[0m | \u001b[0m1.915    \u001b[0m |\n",
      "| \u001b[0m22       \u001b[0m | \u001b[0m-11.62   \u001b[0m | \u001b[0m1.649    \u001b[0m | \u001b[0m0.1      \u001b[0m | \u001b[0m2.417    \u001b[0m |\n",
      "| \u001b[0m23       \u001b[0m | \u001b[0m-11.64   \u001b[0m | \u001b[0m5.961    \u001b[0m | \u001b[0m0.1      \u001b[0m | \u001b[0m3.67     \u001b[0m |\n",
      "| \u001b[0m24       \u001b[0m | \u001b[0m-11.61   \u001b[0m | \u001b[0m0.5978   \u001b[0m | \u001b[0m0.1      \u001b[0m | \u001b[0m2.805    \u001b[0m |\n",
      "| \u001b[0m25       \u001b[0m | \u001b[0m-11.61   \u001b[0m | \u001b[0m0.6875   \u001b[0m | \u001b[0m0.08553  \u001b[0m | \u001b[0m2.094    \u001b[0m |\n",
      "| \u001b[0m26       \u001b[0m | \u001b[0m-11.61   \u001b[0m | \u001b[0m0.1227   \u001b[0m | \u001b[0m0.08998  \u001b[0m | \u001b[0m2.399    \u001b[0m |\n",
      "| \u001b[0m27       \u001b[0m | \u001b[0m-11.66   \u001b[0m | \u001b[0m8.274    \u001b[0m | \u001b[0m0.0229   \u001b[0m | \u001b[0m1.003    \u001b[0m |\n",
      "| \u001b[0m28       \u001b[0m | \u001b[0m-11.63   \u001b[0m | \u001b[0m4.071    \u001b[0m | \u001b[0m0.06183  \u001b[0m | \u001b[0m3.987    \u001b[0m |\n",
      "| \u001b[0m29       \u001b[0m | \u001b[0m-11.61   \u001b[0m | \u001b[0m0.3824   \u001b[0m | \u001b[0m0.01864  \u001b[0m | \u001b[0m2.079    \u001b[0m |\n",
      "| \u001b[0m30       \u001b[0m | \u001b[0m-11.62   \u001b[0m | \u001b[0m7.049    \u001b[0m | \u001b[0m0.002832 \u001b[0m | \u001b[0m2.673    \u001b[0m |\n",
      "| \u001b[0m31       \u001b[0m | \u001b[0m-11.61   \u001b[0m | \u001b[0m0.3723   \u001b[0m | \u001b[0m0.04062  \u001b[0m | \u001b[0m2.081    \u001b[0m |\n",
      "| \u001b[0m32       \u001b[0m | \u001b[0m-11.65   \u001b[0m | \u001b[0m7.591    \u001b[0m | \u001b[0m0.09606  \u001b[0m | \u001b[0m3.025    \u001b[0m |\n",
      "| \u001b[0m33       \u001b[0m | \u001b[0m-11.64   \u001b[0m | \u001b[0m0.1153   \u001b[0m | \u001b[0m0.003023 \u001b[0m | \u001b[0m1.908    \u001b[0m |\n",
      "| \u001b[0m34       \u001b[0m | \u001b[0m-11.64   \u001b[0m | \u001b[0m0.2516   \u001b[0m | \u001b[0m0.003794 \u001b[0m | \u001b[0m3.032    \u001b[0m |\n",
      "| \u001b[0m35       \u001b[0m | \u001b[0m-11.61   \u001b[0m | \u001b[0m0.3474   \u001b[0m | \u001b[0m0.01028  \u001b[0m | \u001b[0m2.541    \u001b[0m |\n",
      "| \u001b[0m36       \u001b[0m | \u001b[0m-11.62   \u001b[0m | \u001b[0m0.9185   \u001b[0m | \u001b[0m0.001    \u001b[0m | \u001b[0m2.033    \u001b[0m |\n",
      "| \u001b[0m37       \u001b[0m | \u001b[0m-11.61   \u001b[0m | \u001b[0m1.189    \u001b[0m | \u001b[0m0.005909 \u001b[0m | \u001b[0m2.541    \u001b[0m |\n",
      "| \u001b[0m38       \u001b[0m | \u001b[0m-11.66   \u001b[0m | \u001b[0m6.619    \u001b[0m | \u001b[0m0.04217  \u001b[0m | \u001b[0m1.624    \u001b[0m |\n",
      "| \u001b[0m39       \u001b[0m | \u001b[0m-11.61   \u001b[0m | \u001b[0m0.8033   \u001b[0m | \u001b[0m0.01126  \u001b[0m | \u001b[0m2.272    \u001b[0m |\n",
      "| \u001b[0m40       \u001b[0m | \u001b[0m-11.66   \u001b[0m | \u001b[0m4.361    \u001b[0m | \u001b[0m0.01464  \u001b[0m | \u001b[0m1.063    \u001b[0m |\n",
      "| \u001b[0m41       \u001b[0m | \u001b[0m-11.62   \u001b[0m | \u001b[0m6.56     \u001b[0m | \u001b[0m0.001    \u001b[0m | \u001b[0m2.776    \u001b[0m |\n",
      "| \u001b[95m42       \u001b[0m | \u001b[95m-11.59   \u001b[0m | \u001b[95m6.774    \u001b[0m | \u001b[95m0.004595 \u001b[0m | \u001b[95m3.151    \u001b[0m |\n",
      "| \u001b[0m43       \u001b[0m | \u001b[0m-11.65   \u001b[0m | \u001b[0m6.77     \u001b[0m | \u001b[0m0.1      \u001b[0m | \u001b[0m3.405    \u001b[0m |\n",
      "| \u001b[0m44       \u001b[0m | \u001b[0m-11.62   \u001b[0m | \u001b[0m6.88     \u001b[0m | \u001b[0m0.002085 \u001b[0m | \u001b[0m2.988    \u001b[0m |\n",
      "| \u001b[0m45       \u001b[0m | \u001b[0m-11.67   \u001b[0m | \u001b[0m6.583    \u001b[0m | \u001b[0m0.001    \u001b[0m | \u001b[0m3.093    \u001b[0m |\n",
      "| \u001b[0m46       \u001b[0m | \u001b[0m-11.66   \u001b[0m | \u001b[0m5.179    \u001b[0m | \u001b[0m0.08014  \u001b[0m | \u001b[0m1.778    \u001b[0m |\n",
      "| \u001b[0m47       \u001b[0m | \u001b[0m-11.61   \u001b[0m | \u001b[0m6.938    \u001b[0m | \u001b[0m0.01503  \u001b[0m | \u001b[0m3.193    \u001b[0m |\n",
      "| \u001b[0m48       \u001b[0m | \u001b[0m-11.63   \u001b[0m | \u001b[0m0.3976   \u001b[0m | \u001b[0m0.001    \u001b[0m | \u001b[0m2.286    \u001b[0m |\n",
      "| \u001b[0m49       \u001b[0m | \u001b[0m-11.62   \u001b[0m | \u001b[0m1.004    \u001b[0m | \u001b[0m0.02833  \u001b[0m | \u001b[0m2.466    \u001b[0m |\n",
      "| \u001b[0m50       \u001b[0m | \u001b[0m-11.61   \u001b[0m | \u001b[0m0.4792   \u001b[0m | \u001b[0m0.02104  \u001b[0m | \u001b[0m2.691    \u001b[0m |\n",
      "=============================================================\n"
     ]
    },
    {
     "data": {
      "text/html": [
       "<style>#sk-container-id-1 {color: black;background-color: white;}#sk-container-id-1 pre{padding: 0;}#sk-container-id-1 div.sk-toggleable {background-color: white;}#sk-container-id-1 label.sk-toggleable__label {cursor: pointer;display: block;width: 100%;margin-bottom: 0;padding: 0.3em;box-sizing: border-box;text-align: center;}#sk-container-id-1 label.sk-toggleable__label-arrow:before {content: \"▸\";float: left;margin-right: 0.25em;color: #696969;}#sk-container-id-1 label.sk-toggleable__label-arrow:hover:before {color: black;}#sk-container-id-1 div.sk-estimator:hover label.sk-toggleable__label-arrow:before {color: black;}#sk-container-id-1 div.sk-toggleable__content {max-height: 0;max-width: 0;overflow: hidden;text-align: left;background-color: #f0f8ff;}#sk-container-id-1 div.sk-toggleable__content pre {margin: 0.2em;color: black;border-radius: 0.25em;background-color: #f0f8ff;}#sk-container-id-1 input.sk-toggleable__control:checked~div.sk-toggleable__content {max-height: 200px;max-width: 100%;overflow: auto;}#sk-container-id-1 input.sk-toggleable__control:checked~label.sk-toggleable__label-arrow:before {content: \"▾\";}#sk-container-id-1 div.sk-estimator input.sk-toggleable__control:checked~label.sk-toggleable__label {background-color: #d4ebff;}#sk-container-id-1 div.sk-label input.sk-toggleable__control:checked~label.sk-toggleable__label {background-color: #d4ebff;}#sk-container-id-1 input.sk-hidden--visually {border: 0;clip: rect(1px 1px 1px 1px);clip: rect(1px, 1px, 1px, 1px);height: 1px;margin: -1px;overflow: hidden;padding: 0;position: absolute;width: 1px;}#sk-container-id-1 div.sk-estimator {font-family: monospace;background-color: #f0f8ff;border: 1px dotted black;border-radius: 0.25em;box-sizing: border-box;margin-bottom: 0.5em;}#sk-container-id-1 div.sk-estimator:hover {background-color: #d4ebff;}#sk-container-id-1 div.sk-parallel-item::after {content: \"\";width: 100%;border-bottom: 1px solid gray;flex-grow: 1;}#sk-container-id-1 div.sk-label:hover label.sk-toggleable__label {background-color: #d4ebff;}#sk-container-id-1 div.sk-serial::before {content: \"\";position: absolute;border-left: 1px solid gray;box-sizing: border-box;top: 0;bottom: 0;left: 50%;z-index: 0;}#sk-container-id-1 div.sk-serial {display: flex;flex-direction: column;align-items: center;background-color: white;padding-right: 0.2em;padding-left: 0.2em;position: relative;}#sk-container-id-1 div.sk-item {position: relative;z-index: 1;}#sk-container-id-1 div.sk-parallel {display: flex;align-items: stretch;justify-content: center;background-color: white;position: relative;}#sk-container-id-1 div.sk-item::before, #sk-container-id-1 div.sk-parallel-item::before {content: \"\";position: absolute;border-left: 1px solid gray;box-sizing: border-box;top: 0;bottom: 0;left: 50%;z-index: -1;}#sk-container-id-1 div.sk-parallel-item {display: flex;flex-direction: column;z-index: 1;position: relative;background-color: white;}#sk-container-id-1 div.sk-parallel-item:first-child::after {align-self: flex-end;width: 50%;}#sk-container-id-1 div.sk-parallel-item:last-child::after {align-self: flex-start;width: 50%;}#sk-container-id-1 div.sk-parallel-item:only-child::after {width: 0;}#sk-container-id-1 div.sk-dashed-wrapped {border: 1px dashed gray;margin: 0 0.4em 0.5em 0.4em;box-sizing: border-box;padding-bottom: 0.4em;background-color: white;}#sk-container-id-1 div.sk-label label {font-family: monospace;font-weight: bold;display: inline-block;line-height: 1.2em;}#sk-container-id-1 div.sk-label-container {text-align: center;}#sk-container-id-1 div.sk-container {/* jupyter's `normalize.less` sets `[hidden] { display: none; }` but bootstrap.min.css set `[hidden] { display: none !important; }` so we also need the `!important` here to be able to override the default hidden behavior on the sphinx rendered scikit-learn.org. See: https://github.com/scikit-learn/scikit-learn/issues/21755 */display: inline-block !important;position: relative;}#sk-container-id-1 div.sk-text-repr-fallback {display: none;}</style><div id=\"sk-container-id-1\" class=\"sk-top-container\"><div class=\"sk-text-repr-fallback\"><pre>SVR(C=6.774140797265948, gamma=0.004595268341590318, kernel=&#x27;poly&#x27;)</pre><b>In a Jupyter environment, please rerun this cell to show the HTML representation or trust the notebook. <br />On GitHub, the HTML representation is unable to render, please try loading this page with nbviewer.org.</b></div><div class=\"sk-container\" hidden><div class=\"sk-item\"><div class=\"sk-estimator sk-toggleable\"><input class=\"sk-toggleable__control sk-hidden--visually\" id=\"sk-estimator-id-1\" type=\"checkbox\" checked><label for=\"sk-estimator-id-1\" class=\"sk-toggleable__label sk-toggleable__label-arrow\">SVR</label><div class=\"sk-toggleable__content\"><pre>SVR(C=6.774140797265948, gamma=0.004595268341590318, kernel=&#x27;poly&#x27;)</pre></div></div></div></div></div>"
      ],
      "text/plain": [
       "SVR(C=6.774140797265948, gamma=0.004595268341590318, kernel='poly')"
      ]
     },
     "execution_count": 6,
     "metadata": {},
     "output_type": "execute_result"
    }
   ],
   "source": [
    "def bo_params_generic(model, params, X_train, y_train):\n",
    "    # Create the model instance with the specified parameters\n",
    "    classifier = model(**params)\n",
    "    \n",
    "    # Calculating accuracy based on cross-validation\n",
    "    scores = cross_val_score(classifier, X_train, y_train, cv=10, scoring='neg_mean_squared_error')\n",
    "    return scores.mean()\n",
    "\n",
    "params_ranges = {\n",
    "    'C': (0.1, 10),\n",
    "    'kernel_int': (1, 4),\n",
    "    'gamma': (0.001, 0.1)\n",
    "}\n",
    "\n",
    "kernel_mapping = {\n",
    "    1: 'linear',\n",
    "    2: 'rbf',\n",
    "    3: 'poly',\n",
    "    4: 'sigmoid'\n",
    "}\n",
    "\n",
    "# Example usage with SVM\n",
    "model = SVR\n",
    "model_bo = BayesianOptimization(f=lambda C, kernel_int, gamma:\n",
    "                                    bo_params_generic(model, {\n",
    "                                        'C': C,\n",
    "                                        'kernel': kernel_mapping[int(kernel_int)],\n",
    "                                        'gamma': gamma\n",
    "                                    }, X_train, y_train),\n",
    "                             pbounds=params_ranges)\n",
    "\n",
    "results = model_bo.maximize(n_iter=40, init_points=10)\n",
    "params = model_bo.max['params']\n",
    "\n",
    "# Creating a model with the best hyperparameters\n",
    "best_model_svm = model(\n",
    "    C=params['C'],\n",
    "    kernel=kernel_mapping[int(params['kernel_int'])],\n",
    "    gamma=params['gamma']\n",
    ")\n",
    "\n",
    "# Fit the model\n",
    "best_model_svm.fit(X_train, y_train)\n"
   ]
  },
  {
   "attachments": {},
   "cell_type": "markdown",
   "metadata": {},
   "source": [
    "**Feature Selection**"
   ]
  },
  {
   "cell_type": "code",
   "execution_count": 7,
   "metadata": {},
   "outputs": [
    {
     "name": "stdout",
     "output_type": "stream",
     "text": [
      "Scince the kernal is not linear, this feature selection is not possible\n",
      "Best features: Index(['NederlandseAntillenEnAruba', 'GeboorteRelatief', 'SterfteRelatief',\n",
      "       'GemiddeldeWoningwaarde', 'PercentageOnbewoond',\n",
      "       'InBezitWoningcorporatie', 'InBezitOverigeVerhuurders',\n",
      "       'EigendomOnbekend', 'BouwjaarVanaf2000', 'kPersonenMetLaagsteInkomen',\n",
      "       'ALandbouwBosbouwEnVisserij', 'KLFinancieleDienstenOnroerendGoed',\n",
      "       'PersonenautoSOverigeBrandstof', 'PersonenautoSPerHuishouden',\n",
      "       'PersonenautoSNaarOppervlakte', 'AfstandTotHuisartsenpraktijk',\n",
      "       'AfstandTotKinderdagverblijf', 'AfstandTotSchool', 'OppervlakteWater',\n",
      "       'TotaalDiefstalUitWoningSchuurED',\n",
      "       'VernielingMisdrijfTegenOpenbareOrde', 'GeweldsEnSeksueleMisdrijven',\n",
      "       'AfstandTotHuisartsenpost', 'AfstandTotApotheek',\n",
      "       'AfstandTotConsultatiebureau', 'AfstandTotOvDagelLevensmiddelen',\n",
      "       'AfstandTotWarenhuis', 'AfstandTotCafeED', 'AfstandTotCafetariaED',\n",
      "       'AfstandTotRestaurant', 'AfstandTotHotelED',\n",
      "       'AfstandTotBuitenschoolseOpvang', 'AfstandTotOpenbaarGroenTotaal',\n",
      "       'AfstandTotDagrecreatiefTerrein', 'AfstandTotBos',\n",
      "       'AfstandTotOpenNatTerreinTotaal', 'AfstandTotOpenDroogNatTerrein',\n",
      "       'AfstandTotOpenNatNatuurlijkTerrein',\n",
      "       'AfstandTotSemiOpenbaarGroenTotaal', 'AfstandTotSportterrein',\n",
      "       'AfstandTotVolkstuin', 'AfstandTotVerblijfsrecreatiefTerrein',\n",
      "       'AfstandTotBegraafplaats', 'AfstandTotTreinstationsTotaal',\n",
      "       'AfstandTotBelangrijkOverstapstation', 'AfstandTotBibliotheek',\n",
      "       'AfstandTotZwembad', 'AfstandTotKunstijsbaan', 'AfstandTotMuseum',\n",
      "       'AfstandTotPodiumkunstenTotaal', 'AfstandTotPoppodium',\n",
      "       'AfstandTotBioscoop', 'AfstandTotSauna', 'AfstandTotZonnebank',\n",
      "       'AfstandTotAttractie', 'AfstandTotBrandweerkazerne',\n",
      "       'ErvarenGezondheidGoedZeerGoed', 'EenOfMeerLangdurigeAandoeningen',\n",
      "       'BeperkingInHoren', 'BeperkingInZien', 'Ondergewicht',\n",
      "       'MatigOvergewicht', 'ErnstigOvergewichtObesitas',\n",
      "       'VoldoetAanBeweegrichtlijn', 'Mantelzorger',\n",
      "       'ZwaarBelasteMantelzorgers', 'UrenMantelzorgPerWeek', 'Rokers',\n",
      "       'VoldoetAanRichtlijnAlcoholgebruik', 'OvermatigDrinker'],\n",
      "      dtype='object')\n",
      "Dropped features: []\n"
     ]
    }
   ],
   "source": [
    "# Get the accuracy score of the model with all features\n",
    "best_accuracy = cross_val_score(best_model_svm, X_train, y_train, cv=10, scoring='neg_mean_squared_error', n_jobs=-1).mean()\n",
    "best_model = best_model_svm\n",
    "selected_features = X_train.columns\n",
    "best_features = selected_features\n",
    "\n",
    "while len(selected_features) > 1:\n",
    "    try:\n",
    "        # Retrieve the coefficients from the SVM model\n",
    "        coefficients = best_model_svm.coef_[0]\n",
    "\n",
    "        # Sort features based on their coefficient magnitudes\n",
    "        sorted_indices = np.argsort(np.abs(coefficients))\n",
    "        selected_features = [X_train.columns[i] for i in sorted_indices[::-1]]\n",
    "\n",
    "        # Remove the least important feature\n",
    "        selected_features = selected_features[:-1]\n",
    "        \n",
    "        # Refit the linear SVM classifier\n",
    "        best_model_svm_classification.fit(X_train[selected_features], y_train)\n",
    "        \n",
    "        # Evaluate Model Performance\n",
    "        accuracy = cross_val_score(best_model_svm, X_train[selected_features], y_train, cv=10, scoring='neg_mean_squared_error', n_jobs=-1).mean()\n",
    "\n",
    "        # Check if the model performs better without the insignificant features\n",
    "        if accuracy >= best_accuracy:\n",
    "            best_accuracy = accuracy\n",
    "            best_features = selected_features.copy()\n",
    "            best_model = best_model_svm\n",
    "    except:\n",
    "        print(\"Scince the kernal is not linear, this feature selection is not possible\") \n",
    "        break\n",
    "\n",
    "# Save results\n",
    "best_model_svm = best_model\n",
    "best_features_svm = best_features\n",
    "\n",
    "# Show results\n",
    "print(\"Best features:\", best_features_svm)\n",
    "print(\"Dropped features:\", list(set(X_train.columns.tolist()) - set(best_features_svm)))"
   ]
  },
  {
   "attachments": {},
   "cell_type": "markdown",
   "metadata": {},
   "source": [
    "# Random Forest"
   ]
  },
  {
   "attachments": {},
   "cell_type": "markdown",
   "metadata": {},
   "source": [
    "**Feature selection**"
   ]
  },
  {
   "cell_type": "code",
   "execution_count": 8,
   "metadata": {},
   "outputs": [
    {
     "name": "stdout",
     "output_type": "stream",
     "text": [
      "Best features: ['AfstandTotTreinstationsTotaal', 'AfstandTotZonnebank']\n",
      "Dropped features: ['AfstandTotAttractie', 'AfstandTotBibliotheek', 'AfstandTotOvDagelLevensmiddelen', 'AfstandTotSchool', 'VoldoetAanRichtlijnAlcoholgebruik', 'AfstandTotBos', 'AfstandTotCafeED', 'VoldoetAanBeweegrichtlijn', 'AfstandTotVolkstuin', 'InBezitWoningcorporatie', 'AfstandTotKinderdagverblijf', 'UrenMantelzorgPerWeek', 'AfstandTotDagrecreatiefTerrein', 'SterfteRelatief', 'NederlandseAntillenEnAruba', 'AfstandTotBrandweerkazerne', 'AfstandTotPodiumkunstenTotaal', 'PercentageOnbewoond', 'AfstandTotOpenNatTerreinTotaal', 'AfstandTotSemiOpenbaarGroenTotaal', 'AfstandTotZwembad', 'ALandbouwBosbouwEnVisserij', 'AfstandTotBelangrijkOverstapstation', 'AfstandTotOpenNatNatuurlijkTerrein', 'AfstandTotKunstijsbaan', 'AfstandTotBioscoop', 'Mantelzorger', 'Rokers', 'VernielingMisdrijfTegenOpenbareOrde', 'AfstandTotApotheek', 'GemiddeldeWoningwaarde', 'AfstandTotBuitenschoolseOpvang', 'AfstandTotVerblijfsrecreatiefTerrein', 'AfstandTotWarenhuis', 'AfstandTotPoppodium', 'AfstandTotSportterrein', 'PersonenautoSNaarOppervlakte', 'ErvarenGezondheidGoedZeerGoed', 'AfstandTotBegraafplaats', 'MatigOvergewicht', 'EigendomOnbekend', 'BouwjaarVanaf2000', 'AfstandTotOpenDroogNatTerrein', 'ErnstigOvergewichtObesitas', 'AfstandTotRestaurant', 'AfstandTotHuisartsenpost', 'kPersonenMetLaagsteInkomen', 'PersonenautoSPerHuishouden', 'AfstandTotSauna', 'AfstandTotHuisartsenpraktijk', 'AfstandTotMuseum', 'PersonenautoSOverigeBrandstof', 'TotaalDiefstalUitWoningSchuurED', 'KLFinancieleDienstenOnroerendGoed', 'EenOfMeerLangdurigeAandoeningen', 'OvermatigDrinker', 'ZwaarBelasteMantelzorgers', 'GeweldsEnSeksueleMisdrijven', 'AfstandTotCafetariaED', 'AfstandTotHotelED', 'InBezitOverigeVerhuurders', 'AfstandTotConsultatiebureau', 'AfstandTotOpenbaarGroenTotaal', 'BeperkingInHoren', 'BeperkingInZien', 'GeboorteRelatief', 'OppervlakteWater', 'Ondergewicht']\n"
     ]
    }
   ],
   "source": [
    "# Get the accuracy score of the model with all the features\n",
    "rf = RandomForestRegressor(n_estimators=100, random_state=0).fit(X_train, y_train)\n",
    "best_rf = rf\n",
    "selected_features = X_train.columns.tolist()\n",
    "best_features = selected_features\n",
    "best_features_accuracy = cross_val_score(RandomForestRegressor(n_estimators=100, random_state=0), X_train, y_train, cv=10, scoring='neg_mean_squared_error', n_jobs=-1).mean()\n",
    "\n",
    "while True:\n",
    "    # Make DataFrame of feature impotances\n",
    "    result = permutation_importance(\n",
    "            rf, X_train[selected_features], y_train, n_repeats=10, random_state=42, n_jobs=-1\n",
    "        )\n",
    "    df_importances = pd.DataFrame({'feature': X_train[selected_features].columns, 'importance': result.importances_mean, 'std': result.importances_std})\n",
    "    df_importances = df_importances.sort_values('importance')\n",
    "\n",
    "    # Remove least important feature\n",
    "    selected_features.remove(df_importances['feature'].iloc[0])\n",
    "\n",
    "    # When there are no features left\n",
    "    if len(selected_features) == 0:\n",
    "        break\n",
    "    \n",
    "    # Refit the Model\n",
    "    rf = RandomForestRegressor(n_estimators=100, random_state=0).fit(X_train[selected_features], y_train)\n",
    "\n",
    "    # Evaluate Model Performance\n",
    "    accuracy = cross_val_score(RandomForestRegressor(n_estimators=100, random_state=0), X_train[selected_features], y_train, cv=10, scoring='neg_mean_squared_error', n_jobs=-1).mean()\n",
    "\n",
    "    # Check if the model performs better without the insignificant features\n",
    "    if accuracy >= best_features_accuracy:\n",
    "        best_features_accuracy = accuracy\n",
    "        best_features = selected_features.copy()\n",
    "        best_model = rf\n",
    "\n",
    "# Save results\n",
    "best_model_rf = best_model\n",
    "best_features_rf = best_features\n",
    "\n",
    "# Show results\n",
    "print(\"Best features:\", best_features_rf)\n",
    "print(\"Dropped features:\", list(set(X_train.columns.tolist()) - set(best_features_rf)))"
   ]
  },
  {
   "attachments": {},
   "cell_type": "markdown",
   "metadata": {},
   "source": [
    "**Hyperparameter optimalisatie**"
   ]
  },
  {
   "cell_type": "code",
   "execution_count": 9,
   "metadata": {},
   "outputs": [
    {
     "name": "stdout",
     "output_type": "stream",
     "text": [
      "|   iter    |  target   | max_depth | max_fe... | min_sa... | n_esti... |\n",
      "-------------------------------------------------------------------------\n",
      "| \u001b[0m1        \u001b[0m | \u001b[0m-11.44   \u001b[0m | \u001b[0m19.46    \u001b[0m | \u001b[0m0.9104   \u001b[0m | \u001b[0m3.687    \u001b[0m | \u001b[0m145.2    \u001b[0m |\n",
      "| \u001b[95m2        \u001b[0m | \u001b[95m-11.4    \u001b[0m | \u001b[95m1.447    \u001b[0m | \u001b[95m0.2382   \u001b[0m | \u001b[95m5.798    \u001b[0m | \u001b[95m229.2    \u001b[0m |\n",
      "| \u001b[0m3        \u001b[0m | \u001b[0m-11.46   \u001b[0m | \u001b[0m4.675    \u001b[0m | \u001b[0m0.4554   \u001b[0m | \u001b[0m10.92    \u001b[0m | \u001b[0m640.3    \u001b[0m |\n",
      "| \u001b[0m4        \u001b[0m | \u001b[0m-11.45   \u001b[0m | \u001b[0m6.888    \u001b[0m | \u001b[0m0.4656   \u001b[0m | \u001b[0m5.567    \u001b[0m | \u001b[0m988.7    \u001b[0m |\n",
      "| \u001b[0m5        \u001b[0m | \u001b[0m-11.44   \u001b[0m | \u001b[0m8.231    \u001b[0m | \u001b[0m0.8258   \u001b[0m | \u001b[0m6.019    \u001b[0m | \u001b[0m251.9    \u001b[0m |\n",
      "| \u001b[0m6        \u001b[0m | \u001b[0m-11.44   \u001b[0m | \u001b[0m16.24    \u001b[0m | \u001b[0m0.2215   \u001b[0m | \u001b[0m6.145    \u001b[0m | \u001b[0m533.6    \u001b[0m |\n",
      "| \u001b[0m7        \u001b[0m | \u001b[0m-11.45   \u001b[0m | \u001b[0m5.879    \u001b[0m | \u001b[0m0.471    \u001b[0m | \u001b[0m5.657    \u001b[0m | \u001b[0m244.2    \u001b[0m |\n",
      "| \u001b[0m8        \u001b[0m | \u001b[0m-11.45   \u001b[0m | \u001b[0m7.195    \u001b[0m | \u001b[0m0.2209   \u001b[0m | \u001b[0m6.444    \u001b[0m | \u001b[0m902.4    \u001b[0m |\n",
      "| \u001b[0m9        \u001b[0m | \u001b[0m-11.47   \u001b[0m | \u001b[0m3.737    \u001b[0m | \u001b[0m0.1299   \u001b[0m | \u001b[0m6.746    \u001b[0m | \u001b[0m601.6    \u001b[0m |\n",
      "| \u001b[0m10       \u001b[0m | \u001b[0m-11.44   \u001b[0m | \u001b[0m15.92    \u001b[0m | \u001b[0m0.7102   \u001b[0m | \u001b[0m5.549    \u001b[0m | \u001b[0m851.0    \u001b[0m |\n",
      "| \u001b[0m11       \u001b[0m | \u001b[0m-11.49   \u001b[0m | \u001b[0m2.852    \u001b[0m | \u001b[0m0.5282   \u001b[0m | \u001b[0m3.023    \u001b[0m | \u001b[0m226.4    \u001b[0m |\n",
      "| \u001b[0m12       \u001b[0m | \u001b[0m-11.49   \u001b[0m | \u001b[0m3.476    \u001b[0m | \u001b[0m0.4173   \u001b[0m | \u001b[0m7.942    \u001b[0m | \u001b[0m159.7    \u001b[0m |\n",
      "| \u001b[0m13       \u001b[0m | \u001b[0m-11.49   \u001b[0m | \u001b[0m3.07     \u001b[0m | \u001b[0m0.5949   \u001b[0m | \u001b[0m6.526    \u001b[0m | \u001b[0m180.5    \u001b[0m |\n",
      "| \u001b[0m14       \u001b[0m | \u001b[0m-11.46   \u001b[0m | \u001b[0m5.042    \u001b[0m | \u001b[0m0.6135   \u001b[0m | \u001b[0m10.26    \u001b[0m | \u001b[0m437.0    \u001b[0m |\n",
      "| \u001b[0m15       \u001b[0m | \u001b[0m-11.44   \u001b[0m | \u001b[0m9.288    \u001b[0m | \u001b[0m0.232    \u001b[0m | \u001b[0m8.486    \u001b[0m | \u001b[0m241.3    \u001b[0m |\n",
      "| \u001b[0m16       \u001b[0m | \u001b[0m-11.44   \u001b[0m | \u001b[0m9.0      \u001b[0m | \u001b[0m0.6332   \u001b[0m | \u001b[0m2.62     \u001b[0m | \u001b[0m783.6    \u001b[0m |\n",
      "| \u001b[0m17       \u001b[0m | \u001b[0m-11.45   \u001b[0m | \u001b[0m6.165    \u001b[0m | \u001b[0m0.5765   \u001b[0m | \u001b[0m2.262    \u001b[0m | \u001b[0m363.6    \u001b[0m |\n",
      "| \u001b[0m18       \u001b[0m | \u001b[0m-11.44   \u001b[0m | \u001b[0m12.13    \u001b[0m | \u001b[0m0.5066   \u001b[0m | \u001b[0m9.45     \u001b[0m | \u001b[0m442.3    \u001b[0m |\n",
      "| \u001b[0m19       \u001b[0m | \u001b[0m-11.49   \u001b[0m | \u001b[0m3.272    \u001b[0m | \u001b[0m0.6234   \u001b[0m | \u001b[0m2.151    \u001b[0m | \u001b[0m745.5    \u001b[0m |\n",
      "| \u001b[0m20       \u001b[0m | \u001b[0m-11.44   \u001b[0m | \u001b[0m9.87     \u001b[0m | \u001b[0m0.8862   \u001b[0m | \u001b[0m11.55    \u001b[0m | \u001b[0m150.7    \u001b[0m |\n",
      "| \u001b[0m21       \u001b[0m | \u001b[0m-11.44   \u001b[0m | \u001b[0m11.66    \u001b[0m | \u001b[0m0.1822   \u001b[0m | \u001b[0m7.576    \u001b[0m | \u001b[0m617.0    \u001b[0m |\n",
      "| \u001b[0m22       \u001b[0m | \u001b[0m-11.45   \u001b[0m | \u001b[0m7.046    \u001b[0m | \u001b[0m0.877    \u001b[0m | \u001b[0m11.5     \u001b[0m | \u001b[0m734.7    \u001b[0m |\n",
      "| \u001b[0m23       \u001b[0m | \u001b[0m-11.44   \u001b[0m | \u001b[0m17.05    \u001b[0m | \u001b[0m0.1217   \u001b[0m | \u001b[0m7.043    \u001b[0m | \u001b[0m986.5    \u001b[0m |\n",
      "| \u001b[0m24       \u001b[0m | \u001b[0m-11.44   \u001b[0m | \u001b[0m15.81    \u001b[0m | \u001b[0m0.5277   \u001b[0m | \u001b[0m2.7      \u001b[0m | \u001b[0m630.1    \u001b[0m |\n",
      "| \u001b[0m25       \u001b[0m | \u001b[0m-11.44   \u001b[0m | \u001b[0m12.32    \u001b[0m | \u001b[0m0.6276   \u001b[0m | \u001b[0m8.745    \u001b[0m | \u001b[0m441.8    \u001b[0m |\n",
      "| \u001b[0m26       \u001b[0m | \u001b[0m-11.44   \u001b[0m | \u001b[0m1.805    \u001b[0m | \u001b[0m0.99     \u001b[0m | \u001b[0m4.746    \u001b[0m | \u001b[0m229.1    \u001b[0m |\n",
      "| \u001b[95m27       \u001b[0m | \u001b[95m-11.4    \u001b[0m | \u001b[95m1.329    \u001b[0m | \u001b[95m0.4813   \u001b[0m | \u001b[95m7.918    \u001b[0m | \u001b[95m228.9    \u001b[0m |\n",
      "| \u001b[0m28       \u001b[0m | \u001b[0m-11.44   \u001b[0m | \u001b[0m1.679    \u001b[0m | \u001b[0m0.8966   \u001b[0m | \u001b[0m7.225    \u001b[0m | \u001b[0m229.4    \u001b[0m |\n",
      "| \u001b[0m29       \u001b[0m | \u001b[0m-11.44   \u001b[0m | \u001b[0m2.247    \u001b[0m | \u001b[0m0.7824   \u001b[0m | \u001b[0m7.474    \u001b[0m | \u001b[0m227.4    \u001b[0m |\n",
      "| \u001b[0m30       \u001b[0m | \u001b[0m-11.4    \u001b[0m | \u001b[0m1.148    \u001b[0m | \u001b[0m0.3049   \u001b[0m | \u001b[0m3.65     \u001b[0m | \u001b[0m230.7    \u001b[0m |\n",
      "| \u001b[0m31       \u001b[0m | \u001b[0m-11.4    \u001b[0m | \u001b[0m1.062    \u001b[0m | \u001b[0m0.1718   \u001b[0m | \u001b[0m6.387    \u001b[0m | \u001b[0m229.8    \u001b[0m |\n",
      "| \u001b[0m32       \u001b[0m | \u001b[0m-11.4    \u001b[0m | \u001b[0m1.136    \u001b[0m | \u001b[0m0.5402   \u001b[0m | \u001b[0m7.22     \u001b[0m | \u001b[0m228.6    \u001b[0m |\n",
      "| \u001b[0m33       \u001b[0m | \u001b[0m-11.4    \u001b[0m | \u001b[0m1.31     \u001b[0m | \u001b[0m0.8766   \u001b[0m | \u001b[0m4.797    \u001b[0m | \u001b[0m231.1    \u001b[0m |\n",
      "| \u001b[0m34       \u001b[0m | \u001b[0m-11.4    \u001b[0m | \u001b[0m1.015    \u001b[0m | \u001b[0m0.7787   \u001b[0m | \u001b[0m5.98     \u001b[0m | \u001b[0m233.4    \u001b[0m |\n",
      "| \u001b[0m35       \u001b[0m | \u001b[0m-11.4    \u001b[0m | \u001b[0m1.289    \u001b[0m | \u001b[0m0.5703   \u001b[0m | \u001b[0m7.247    \u001b[0m | \u001b[0m233.7    \u001b[0m |\n",
      "| \u001b[0m36       \u001b[0m | \u001b[0m-11.44   \u001b[0m | \u001b[0m2.385    \u001b[0m | \u001b[0m0.8489   \u001b[0m | \u001b[0m5.088    \u001b[0m | \u001b[0m232.9    \u001b[0m |\n",
      "| \u001b[0m37       \u001b[0m | \u001b[0m-11.44   \u001b[0m | \u001b[0m1.891    \u001b[0m | \u001b[0m0.2499   \u001b[0m | \u001b[0m9.78     \u001b[0m | \u001b[0m229.1    \u001b[0m |\n",
      "| \u001b[0m38       \u001b[0m | \u001b[0m-11.44   \u001b[0m | \u001b[0m1.645    \u001b[0m | \u001b[0m0.3086   \u001b[0m | \u001b[0m8.636    \u001b[0m | \u001b[0m234.4    \u001b[0m |\n",
      "| \u001b[0m39       \u001b[0m | \u001b[0m-11.4    \u001b[0m | \u001b[0m1.089    \u001b[0m | \u001b[0m0.1875   \u001b[0m | \u001b[0m7.032    \u001b[0m | \u001b[0m232.4    \u001b[0m |\n",
      "| \u001b[0m40       \u001b[0m | \u001b[0m-11.49   \u001b[0m | \u001b[0m3.262    \u001b[0m | \u001b[0m0.9477   \u001b[0m | \u001b[0m7.045    \u001b[0m | \u001b[0m233.9    \u001b[0m |\n",
      "| \u001b[0m41       \u001b[0m | \u001b[0m-11.44   \u001b[0m | \u001b[0m2.086    \u001b[0m | \u001b[0m0.1903   \u001b[0m | \u001b[0m4.202    \u001b[0m | \u001b[0m230.8    \u001b[0m |\n",
      "| \u001b[0m42       \u001b[0m | \u001b[0m-11.4    \u001b[0m | \u001b[0m1.016    \u001b[0m | \u001b[0m0.1514   \u001b[0m | \u001b[0m2.49     \u001b[0m | \u001b[0m230.1    \u001b[0m |\n",
      "| \u001b[0m43       \u001b[0m | \u001b[0m-11.4    \u001b[0m | \u001b[0m1.064    \u001b[0m | \u001b[0m0.2736   \u001b[0m | \u001b[0m8.116    \u001b[0m | \u001b[0m232.1    \u001b[0m |\n",
      "| \u001b[0m44       \u001b[0m | \u001b[0m-11.4    \u001b[0m | \u001b[0m1.007    \u001b[0m | \u001b[0m0.6213   \u001b[0m | \u001b[0m4.728    \u001b[0m | \u001b[0m233.3    \u001b[0m |\n",
      "| \u001b[0m45       \u001b[0m | \u001b[0m-11.44   \u001b[0m | \u001b[0m2.119    \u001b[0m | \u001b[0m0.9421   \u001b[0m | \u001b[0m2.174    \u001b[0m | \u001b[0m233.0    \u001b[0m |\n",
      "| \u001b[0m46       \u001b[0m | \u001b[0m-11.44   \u001b[0m | \u001b[0m1.815    \u001b[0m | \u001b[0m0.9058   \u001b[0m | \u001b[0m3.122    \u001b[0m | \u001b[0m237.7    \u001b[0m |\n",
      "| \u001b[0m47       \u001b[0m | \u001b[0m-11.4    \u001b[0m | \u001b[0m1.459    \u001b[0m | \u001b[0m0.4168   \u001b[0m | \u001b[0m4.721    \u001b[0m | \u001b[0m235.7    \u001b[0m |\n",
      "| \u001b[0m48       \u001b[0m | \u001b[0m-11.44   \u001b[0m | \u001b[0m1.679    \u001b[0m | \u001b[0m0.9127   \u001b[0m | \u001b[0m2.281    \u001b[0m | \u001b[0m230.9    \u001b[0m |\n",
      "| \u001b[0m49       \u001b[0m | \u001b[0m-11.44   \u001b[0m | \u001b[0m1.928    \u001b[0m | \u001b[0m0.2406   \u001b[0m | \u001b[0m3.214    \u001b[0m | \u001b[0m235.2    \u001b[0m |\n",
      "| \u001b[0m50       \u001b[0m | \u001b[0m-11.4    \u001b[0m | \u001b[0m1.067    \u001b[0m | \u001b[0m0.7455   \u001b[0m | \u001b[0m6.815    \u001b[0m | \u001b[0m236.2    \u001b[0m |\n",
      "=========================================================================\n"
     ]
    },
    {
     "data": {
      "text/html": [
       "<style>#sk-container-id-2 {color: black;background-color: white;}#sk-container-id-2 pre{padding: 0;}#sk-container-id-2 div.sk-toggleable {background-color: white;}#sk-container-id-2 label.sk-toggleable__label {cursor: pointer;display: block;width: 100%;margin-bottom: 0;padding: 0.3em;box-sizing: border-box;text-align: center;}#sk-container-id-2 label.sk-toggleable__label-arrow:before {content: \"▸\";float: left;margin-right: 0.25em;color: #696969;}#sk-container-id-2 label.sk-toggleable__label-arrow:hover:before {color: black;}#sk-container-id-2 div.sk-estimator:hover label.sk-toggleable__label-arrow:before {color: black;}#sk-container-id-2 div.sk-toggleable__content {max-height: 0;max-width: 0;overflow: hidden;text-align: left;background-color: #f0f8ff;}#sk-container-id-2 div.sk-toggleable__content pre {margin: 0.2em;color: black;border-radius: 0.25em;background-color: #f0f8ff;}#sk-container-id-2 input.sk-toggleable__control:checked~div.sk-toggleable__content {max-height: 200px;max-width: 100%;overflow: auto;}#sk-container-id-2 input.sk-toggleable__control:checked~label.sk-toggleable__label-arrow:before {content: \"▾\";}#sk-container-id-2 div.sk-estimator input.sk-toggleable__control:checked~label.sk-toggleable__label {background-color: #d4ebff;}#sk-container-id-2 div.sk-label input.sk-toggleable__control:checked~label.sk-toggleable__label {background-color: #d4ebff;}#sk-container-id-2 input.sk-hidden--visually {border: 0;clip: rect(1px 1px 1px 1px);clip: rect(1px, 1px, 1px, 1px);height: 1px;margin: -1px;overflow: hidden;padding: 0;position: absolute;width: 1px;}#sk-container-id-2 div.sk-estimator {font-family: monospace;background-color: #f0f8ff;border: 1px dotted black;border-radius: 0.25em;box-sizing: border-box;margin-bottom: 0.5em;}#sk-container-id-2 div.sk-estimator:hover {background-color: #d4ebff;}#sk-container-id-2 div.sk-parallel-item::after {content: \"\";width: 100%;border-bottom: 1px solid gray;flex-grow: 1;}#sk-container-id-2 div.sk-label:hover label.sk-toggleable__label {background-color: #d4ebff;}#sk-container-id-2 div.sk-serial::before {content: \"\";position: absolute;border-left: 1px solid gray;box-sizing: border-box;top: 0;bottom: 0;left: 50%;z-index: 0;}#sk-container-id-2 div.sk-serial {display: flex;flex-direction: column;align-items: center;background-color: white;padding-right: 0.2em;padding-left: 0.2em;position: relative;}#sk-container-id-2 div.sk-item {position: relative;z-index: 1;}#sk-container-id-2 div.sk-parallel {display: flex;align-items: stretch;justify-content: center;background-color: white;position: relative;}#sk-container-id-2 div.sk-item::before, #sk-container-id-2 div.sk-parallel-item::before {content: \"\";position: absolute;border-left: 1px solid gray;box-sizing: border-box;top: 0;bottom: 0;left: 50%;z-index: -1;}#sk-container-id-2 div.sk-parallel-item {display: flex;flex-direction: column;z-index: 1;position: relative;background-color: white;}#sk-container-id-2 div.sk-parallel-item:first-child::after {align-self: flex-end;width: 50%;}#sk-container-id-2 div.sk-parallel-item:last-child::after {align-self: flex-start;width: 50%;}#sk-container-id-2 div.sk-parallel-item:only-child::after {width: 0;}#sk-container-id-2 div.sk-dashed-wrapped {border: 1px dashed gray;margin: 0 0.4em 0.5em 0.4em;box-sizing: border-box;padding-bottom: 0.4em;background-color: white;}#sk-container-id-2 div.sk-label label {font-family: monospace;font-weight: bold;display: inline-block;line-height: 1.2em;}#sk-container-id-2 div.sk-label-container {text-align: center;}#sk-container-id-2 div.sk-container {/* jupyter's `normalize.less` sets `[hidden] { display: none; }` but bootstrap.min.css set `[hidden] { display: none !important; }` so we also need the `!important` here to be able to override the default hidden behavior on the sphinx rendered scikit-learn.org. See: https://github.com/scikit-learn/scikit-learn/issues/21755 */display: inline-block !important;position: relative;}#sk-container-id-2 div.sk-text-repr-fallback {display: none;}</style><div id=\"sk-container-id-2\" class=\"sk-top-container\"><div class=\"sk-text-repr-fallback\"><pre>RandomForestRegressor(bootstrap=False, max_depth=1,\n",
       "                      max_features=0.4813287553335581, min_samples_split=8,\n",
       "                      n_estimators=229)</pre><b>In a Jupyter environment, please rerun this cell to show the HTML representation or trust the notebook. <br />On GitHub, the HTML representation is unable to render, please try loading this page with nbviewer.org.</b></div><div class=\"sk-container\" hidden><div class=\"sk-item\"><div class=\"sk-estimator sk-toggleable\"><input class=\"sk-toggleable__control sk-hidden--visually\" id=\"sk-estimator-id-2\" type=\"checkbox\" checked><label for=\"sk-estimator-id-2\" class=\"sk-toggleable__label sk-toggleable__label-arrow\">RandomForestRegressor</label><div class=\"sk-toggleable__content\"><pre>RandomForestRegressor(bootstrap=False, max_depth=1,\n",
       "                      max_features=0.4813287553335581, min_samples_split=8,\n",
       "                      n_estimators=229)</pre></div></div></div></div></div>"
      ],
      "text/plain": [
       "RandomForestRegressor(bootstrap=False, max_depth=1,\n",
       "                      max_features=0.4813287553335581, min_samples_split=8,\n",
       "                      n_estimators=229)"
      ]
     },
     "execution_count": 9,
     "metadata": {},
     "output_type": "execute_result"
    }
   ],
   "source": [
    "def bo_params_rf(min_samples_split,max_depth,max_features,n_estimators):\n",
    "    \n",
    "    params = {\n",
    "        'min_samples_split': round(min_samples_split),\n",
    "        'max_depth': round(max_depth),\n",
    "        'max_features': max_features,\n",
    "        'n_estimators':round(n_estimators)\n",
    "    }    \n",
    "        \n",
    "    clf = RandomForestRegressor(min_samples_split=int(params['min_samples_split']), \n",
    "                                 max_depth=int(params['max_depth']), \n",
    "                                 max_features=params['max_features'],\n",
    "                                 n_estimators=int(params['n_estimators']), \n",
    "                                 bootstrap=False,\n",
    "                                 n_jobs = -1)\n",
    "    return cross_val_score(clf, X_train[best_features_rf], y_train, cv=10, scoring='neg_mean_squared_error', n_jobs=-1).mean()\n",
    "\n",
    "# Create Bayesian Optimization\n",
    "rf_bo = BayesianOptimization(f=bo_params_rf, pbounds={\n",
    "    'n_estimators': (100, 1000),\n",
    "    'max_depth': (1, 20),\n",
    "    'max_features': (0.1, 1),\n",
    "    'min_samples_split': (2, 12)\n",
    "})\n",
    "\n",
    "# Bayesian optimization\n",
    "results = rf_bo.maximize(n_iter=40, init_points=10)\n",
    "\n",
    "# Getting best hyperparameters from bayesian optimization\n",
    "params = rf_bo.max['params']\n",
    "params['n_estimators']= round(params['n_estimators'])\n",
    "params['min_samples_split']= round(params['min_samples_split'])\n",
    "params['max_depth']= round(params['max_depth'])\n",
    "\n",
    "# Making random forest model with the best hyperparameters\n",
    "# criterion entropy is after the hyperparameter optimization since it's more accurate but increases training time\n",
    "best_model_rf_classification = RandomForestRegressor(min_samples_split=params['min_samples_split'],\n",
    "                                                max_depth=params['max_depth'],\n",
    "                                                max_features=params['max_features'],\n",
    "                                                n_estimators=params['n_estimators'],\n",
    "                                                bootstrap=False)\n",
    "\n",
    "best_model_rf_classification.fit(X_train[best_features_rf], y_train)"
   ]
  },
  {
   "attachments": {},
   "cell_type": "markdown",
   "metadata": {},
   "source": [
    "# neural network"
   ]
  },
  {
   "attachments": {},
   "cell_type": "markdown",
   "metadata": {},
   "source": [
    "**Feature selection**"
   ]
  },
  {
   "cell_type": "code",
   "execution_count": 10,
   "metadata": {},
   "outputs": [
    {
     "name": "stdout",
     "output_type": "stream",
     "text": [
      "Best features: ['AfstandTotCafetariaED']\n",
      "Dropped features: ['AfstandTotAttractie', 'AfstandTotBibliotheek', 'AfstandTotOvDagelLevensmiddelen', 'AfstandTotSchool', 'VoldoetAanRichtlijnAlcoholgebruik', 'AfstandTotBos', 'AfstandTotCafeED', 'VoldoetAanBeweegrichtlijn', 'AfstandTotVolkstuin', 'InBezitWoningcorporatie', 'AfstandTotKinderdagverblijf', 'UrenMantelzorgPerWeek', 'AfstandTotDagrecreatiefTerrein', 'SterfteRelatief', 'NederlandseAntillenEnAruba', 'AfstandTotBrandweerkazerne', 'AfstandTotPodiumkunstenTotaal', 'PercentageOnbewoond', 'AfstandTotOpenNatTerreinTotaal', 'AfstandTotSemiOpenbaarGroenTotaal', 'AfstandTotZwembad', 'ALandbouwBosbouwEnVisserij', 'AfstandTotBelangrijkOverstapstation', 'AfstandTotOpenNatNatuurlijkTerrein', 'AfstandTotTreinstationsTotaal', 'AfstandTotKunstijsbaan', 'AfstandTotBioscoop', 'Mantelzorger', 'Rokers', 'VernielingMisdrijfTegenOpenbareOrde', 'AfstandTotApotheek', 'GemiddeldeWoningwaarde', 'AfstandTotBuitenschoolseOpvang', 'AfstandTotVerblijfsrecreatiefTerrein', 'AfstandTotWarenhuis', 'AfstandTotPoppodium', 'AfstandTotSportterrein', 'PersonenautoSNaarOppervlakte', 'ErvarenGezondheidGoedZeerGoed', 'AfstandTotBegraafplaats', 'MatigOvergewicht', 'EigendomOnbekend', 'BouwjaarVanaf2000', 'AfstandTotOpenDroogNatTerrein', 'ErnstigOvergewichtObesitas', 'AfstandTotRestaurant', 'AfstandTotHuisartsenpost', 'kPersonenMetLaagsteInkomen', 'PersonenautoSPerHuishouden', 'AfstandTotSauna', 'AfstandTotHuisartsenpraktijk', 'AfstandTotMuseum', 'PersonenautoSOverigeBrandstof', 'TotaalDiefstalUitWoningSchuurED', 'KLFinancieleDienstenOnroerendGoed', 'EenOfMeerLangdurigeAandoeningen', 'OvermatigDrinker', 'ZwaarBelasteMantelzorgers', 'GeweldsEnSeksueleMisdrijven', 'AfstandTotHotelED', 'InBezitOverigeVerhuurders', 'AfstandTotConsultatiebureau', 'AfstandTotOpenbaarGroenTotaal', 'AfstandTotZonnebank', 'BeperkingInHoren', 'BeperkingInZien', 'GeboorteRelatief', 'OppervlakteWater', 'Ondergewicht']\n"
     ]
    }
   ],
   "source": [
    "# Get the accuracy score of the model with all the features\n",
    "mlp = MLPRegressor(random_state=0).fit(X_train, y_train)\n",
    "best_model = mlp\n",
    "selected_features = X_train.columns.tolist()\n",
    "best_features = selected_features\n",
    "best_features_accuracy = cross_val_score(MLPRegressor(random_state=0), X_train, y_train, cv=10, scoring='neg_mean_squared_error', n_jobs=-1).mean()\n",
    "\n",
    "while True:\n",
    "    # Retrieve the learned weights\n",
    "    weights = mlp.coefs_[0]  # Weights connecting input features to the first hidden layer\n",
    "\n",
    "    # Normalize the weights\n",
    "    normalized_weights = np.abs(weights) / np.sum(np.abs(weights), axis=0)\n",
    "\n",
    "    # Calculate feature importance\n",
    "    feature_importance = np.mean(normalized_weights, axis=1)\n",
    "\n",
    "    # Sort features based on their importance\n",
    "    sorted_indices = np.argsort(feature_importance)\n",
    "    selected_features = [selected_features[i] for i in sorted_indices[:-1]]\n",
    "\n",
    "    # When there are no features left\n",
    "    if len(selected_features) == 0:\n",
    "        break\n",
    "    \n",
    "    # Refit the Model\n",
    "    mlp = MLPRegressor(random_state=0).fit(X_train[selected_features], y_train)\n",
    "\n",
    "    # Evaluate Model Performance\n",
    "    accuracy = cross_val_score(MLPRegressor(random_state=0), X_train[selected_features], y_train, cv=10, scoring='neg_mean_squared_error', n_jobs=-1).mean()\n",
    "\n",
    "    # Check if the model performs better without the insignificant features\n",
    "    if accuracy >= best_features_accuracy:\n",
    "        best_features_accuracy = accuracy\n",
    "        best_features = selected_features.copy()\n",
    "        best_model = mlp\n",
    "\n",
    "# Save results\n",
    "best_model_nn = best_model\n",
    "best_features_nn = best_features\n",
    "\n",
    "# Show results\n",
    "print(\"Best features:\", best_features_nn)\n",
    "print(\"Dropped features:\", list(set(X_train.columns.tolist()) - set(best_features_nn)))"
   ]
  },
  {
   "attachments": {},
   "cell_type": "markdown",
   "metadata": {},
   "source": [
    "**Hyperparameter optimalisatie**"
   ]
  },
  {
   "cell_type": "code",
   "execution_count": 11,
   "metadata": {},
   "outputs": [
    {
     "name": "stdout",
     "output_type": "stream",
     "text": [
      "|   iter    |  target   |   alpha   | hidden... | learni... | max_iter  |\n",
      "-------------------------------------------------------------------------\n",
      "| \u001b[0m1        \u001b[0m | \u001b[0m-3.349   \u001b[0m | \u001b[0m0.02671  \u001b[0m | \u001b[0m79.52    \u001b[0m | \u001b[0m0.03777  \u001b[0m | \u001b[0m492.8    \u001b[0m |\n",
      "| \u001b[0m2        \u001b[0m | \u001b[0m-3.351   \u001b[0m | \u001b[0m0.0624   \u001b[0m | \u001b[0m97.76    \u001b[0m | \u001b[0m0.02612  \u001b[0m | \u001b[0m694.2    \u001b[0m |\n",
      "| \u001b[0m3        \u001b[0m | \u001b[0m-3.35    \u001b[0m | \u001b[0m0.07469  \u001b[0m | \u001b[0m92.64    \u001b[0m | \u001b[0m0.008793 \u001b[0m | \u001b[0m278.0    \u001b[0m |\n",
      "| \u001b[0m4        \u001b[0m | \u001b[0m-3.359   \u001b[0m | \u001b[0m0.0224   \u001b[0m | \u001b[0m81.93    \u001b[0m | \u001b[0m0.05514  \u001b[0m | \u001b[0m583.7    \u001b[0m |\n",
      "| \u001b[95m5        \u001b[0m | \u001b[95m-3.342   \u001b[0m | \u001b[95m0.03745  \u001b[0m | \u001b[95m44.61    \u001b[0m | \u001b[95m0.08772  \u001b[0m | \u001b[95m390.5    \u001b[0m |\n",
      "| \u001b[0m6        \u001b[0m | \u001b[0m-3.348   \u001b[0m | \u001b[0m0.06595  \u001b[0m | \u001b[0m79.09    \u001b[0m | \u001b[0m0.04013  \u001b[0m | \u001b[0m949.3    \u001b[0m |\n",
      "| \u001b[0m7        \u001b[0m | \u001b[0m-3.357   \u001b[0m | \u001b[0m0.02148  \u001b[0m | \u001b[0m45.47    \u001b[0m | \u001b[0m0.03208  \u001b[0m | \u001b[0m968.0    \u001b[0m |\n",
      "| \u001b[0m8        \u001b[0m | \u001b[0m-3.362   \u001b[0m | \u001b[0m0.08949  \u001b[0m | \u001b[0m79.03    \u001b[0m | \u001b[0m0.0379   \u001b[0m | \u001b[0m951.4    \u001b[0m |\n",
      "| \u001b[0m9        \u001b[0m | \u001b[0m-3.351   \u001b[0m | \u001b[0m0.02997  \u001b[0m | \u001b[0m28.95    \u001b[0m | \u001b[0m0.03716  \u001b[0m | \u001b[0m239.1    \u001b[0m |\n",
      "| \u001b[0m10       \u001b[0m | \u001b[0m-3.356   \u001b[0m | \u001b[0m0.0504   \u001b[0m | \u001b[0m21.37    \u001b[0m | \u001b[0m0.02854  \u001b[0m | \u001b[0m236.3    \u001b[0m |\n",
      "| \u001b[0m11       \u001b[0m | \u001b[0m-3.35    \u001b[0m | \u001b[0m0.09671  \u001b[0m | \u001b[0m79.01    \u001b[0m | \u001b[0m0.02844  \u001b[0m | \u001b[0m739.7    \u001b[0m |\n",
      "| \u001b[0m12       \u001b[0m | \u001b[0m-3.352   \u001b[0m | \u001b[0m0.07882  \u001b[0m | \u001b[0m73.05    \u001b[0m | \u001b[0m0.01016  \u001b[0m | \u001b[0m453.1    \u001b[0m |\n",
      "| \u001b[0m13       \u001b[0m | \u001b[0m-3.366   \u001b[0m | \u001b[0m0.05375  \u001b[0m | \u001b[0m75.96    \u001b[0m | \u001b[0m0.06206  \u001b[0m | \u001b[0m752.2    \u001b[0m |\n",
      "| \u001b[0m14       \u001b[0m | \u001b[0m-3.359   \u001b[0m | \u001b[0m0.01014  \u001b[0m | \u001b[0m82.48    \u001b[0m | \u001b[0m0.02248  \u001b[0m | \u001b[0m909.8    \u001b[0m |\n",
      "| \u001b[0m15       \u001b[0m | \u001b[0m-3.352   \u001b[0m | \u001b[0m0.04091  \u001b[0m | \u001b[0m90.16    \u001b[0m | \u001b[0m0.005837 \u001b[0m | \u001b[0m363.9    \u001b[0m |\n",
      "| \u001b[0m16       \u001b[0m | \u001b[0m-3.344   \u001b[0m | \u001b[0m0.06923  \u001b[0m | \u001b[0m95.34    \u001b[0m | \u001b[0m0.02703  \u001b[0m | \u001b[0m317.9    \u001b[0m |\n",
      "| \u001b[0m17       \u001b[0m | \u001b[0m-3.355   \u001b[0m | \u001b[0m0.03746  \u001b[0m | \u001b[0m55.5     \u001b[0m | \u001b[0m0.01284  \u001b[0m | \u001b[0m611.2    \u001b[0m |\n",
      "| \u001b[0m18       \u001b[0m | \u001b[0m-3.359   \u001b[0m | \u001b[0m0.07406  \u001b[0m | \u001b[0m94.86    \u001b[0m | \u001b[0m0.02498  \u001b[0m | \u001b[0m460.5    \u001b[0m |\n",
      "| \u001b[0m19       \u001b[0m | \u001b[0m-3.353   \u001b[0m | \u001b[0m0.07909  \u001b[0m | \u001b[0m21.09    \u001b[0m | \u001b[0m0.08819  \u001b[0m | \u001b[0m305.7    \u001b[0m |\n",
      "| \u001b[0m20       \u001b[0m | \u001b[0m-3.359   \u001b[0m | \u001b[0m0.05555  \u001b[0m | \u001b[0m79.25    \u001b[0m | \u001b[0m0.08254  \u001b[0m | \u001b[0m493.2    \u001b[0m |\n",
      "| \u001b[0m21       \u001b[0m | \u001b[0m-3.355   \u001b[0m | \u001b[0m0.06519  \u001b[0m | \u001b[0m25.54    \u001b[0m | \u001b[0m0.04692  \u001b[0m | \u001b[0m194.1    \u001b[0m |\n",
      "| \u001b[0m22       \u001b[0m | \u001b[0m-3.355   \u001b[0m | \u001b[0m0.07898  \u001b[0m | \u001b[0m48.14    \u001b[0m | \u001b[0m0.03192  \u001b[0m | \u001b[0m120.5    \u001b[0m |\n",
      "| \u001b[0m23       \u001b[0m | \u001b[0m-3.349   \u001b[0m | \u001b[0m0.04314  \u001b[0m | \u001b[0m12.97    \u001b[0m | \u001b[0m0.004894 \u001b[0m | \u001b[0m946.8    \u001b[0m |\n",
      "| \u001b[0m24       \u001b[0m | \u001b[0m-3.351   \u001b[0m | \u001b[0m0.002289 \u001b[0m | \u001b[0m41.89    \u001b[0m | \u001b[0m0.08538  \u001b[0m | \u001b[0m480.2    \u001b[0m |\n",
      "| \u001b[0m25       \u001b[0m | \u001b[0m-3.356   \u001b[0m | \u001b[0m0.0821   \u001b[0m | \u001b[0m48.28    \u001b[0m | \u001b[0m0.03783  \u001b[0m | \u001b[0m287.2    \u001b[0m |\n",
      "| \u001b[0m26       \u001b[0m | \u001b[0m-3.353   \u001b[0m | \u001b[0m0.07157  \u001b[0m | \u001b[0m20.07    \u001b[0m | \u001b[0m0.07095  \u001b[0m | \u001b[0m403.0    \u001b[0m |\n",
      "| \u001b[0m27       \u001b[0m | \u001b[0m-3.352   \u001b[0m | \u001b[0m0.07624  \u001b[0m | \u001b[0m37.1     \u001b[0m | \u001b[0m0.04828  \u001b[0m | \u001b[0m873.3    \u001b[0m |\n",
      "| \u001b[0m28       \u001b[0m | \u001b[0m-3.352   \u001b[0m | \u001b[0m0.09018  \u001b[0m | \u001b[0m56.23    \u001b[0m | \u001b[0m0.05413  \u001b[0m | \u001b[0m372.9    \u001b[0m |\n",
      "| \u001b[0m29       \u001b[0m | \u001b[0m-3.352   \u001b[0m | \u001b[0m0.04322  \u001b[0m | \u001b[0m91.97    \u001b[0m | \u001b[0m0.07255  \u001b[0m | \u001b[0m630.9    \u001b[0m |\n",
      "| \u001b[0m30       \u001b[0m | \u001b[0m-3.344   \u001b[0m | \u001b[0m0.01937  \u001b[0m | \u001b[0m74.29    \u001b[0m | \u001b[0m0.06915  \u001b[0m | \u001b[0m417.3    \u001b[0m |\n",
      "| \u001b[0m31       \u001b[0m | \u001b[0m-3.354   \u001b[0m | \u001b[0m0.02819  \u001b[0m | \u001b[0m94.03    \u001b[0m | \u001b[0m0.09124  \u001b[0m | \u001b[0m915.0    \u001b[0m |\n",
      "| \u001b[0m32       \u001b[0m | \u001b[0m-3.349   \u001b[0m | \u001b[0m0.0742   \u001b[0m | \u001b[0m47.48    \u001b[0m | \u001b[0m0.05341  \u001b[0m | \u001b[0m356.3    \u001b[0m |\n",
      "| \u001b[0m33       \u001b[0m | \u001b[0m-3.354   \u001b[0m | \u001b[0m0.08089  \u001b[0m | \u001b[0m16.33    \u001b[0m | \u001b[0m0.08162  \u001b[0m | \u001b[0m448.9    \u001b[0m |\n",
      "| \u001b[0m34       \u001b[0m | \u001b[0m-3.348   \u001b[0m | \u001b[0m0.08312  \u001b[0m | \u001b[0m53.39    \u001b[0m | \u001b[0m0.02985  \u001b[0m | \u001b[0m950.2    \u001b[0m |\n",
      "| \u001b[0m35       \u001b[0m | \u001b[0m-3.356   \u001b[0m | \u001b[0m0.05876  \u001b[0m | \u001b[0m40.26    \u001b[0m | \u001b[0m0.08073  \u001b[0m | \u001b[0m971.5    \u001b[0m |\n",
      "| \u001b[0m36       \u001b[0m | \u001b[0m-3.352   \u001b[0m | \u001b[0m0.05972  \u001b[0m | \u001b[0m77.64    \u001b[0m | \u001b[0m0.08418  \u001b[0m | \u001b[0m638.6    \u001b[0m |\n",
      "| \u001b[0m37       \u001b[0m | \u001b[0m-3.353   \u001b[0m | \u001b[0m0.07641  \u001b[0m | \u001b[0m55.28    \u001b[0m | \u001b[0m0.01418  \u001b[0m | \u001b[0m935.4    \u001b[0m |\n",
      "| \u001b[0m38       \u001b[0m | \u001b[0m-3.347   \u001b[0m | \u001b[0m0.04872  \u001b[0m | \u001b[0m13.89    \u001b[0m | \u001b[0m0.05175  \u001b[0m | \u001b[0m397.7    \u001b[0m |\n",
      "| \u001b[0m39       \u001b[0m | \u001b[0m-3.346   \u001b[0m | \u001b[0m0.09942  \u001b[0m | \u001b[0m84.78    \u001b[0m | \u001b[0m0.06113  \u001b[0m | \u001b[0m580.6    \u001b[0m |\n",
      "| \u001b[0m40       \u001b[0m | \u001b[0m-3.355   \u001b[0m | \u001b[0m0.005291 \u001b[0m | \u001b[0m72.59    \u001b[0m | \u001b[0m0.01508  \u001b[0m | \u001b[0m591.7    \u001b[0m |\n",
      "| \u001b[0m41       \u001b[0m | \u001b[0m-3.351   \u001b[0m | \u001b[0m0.01875  \u001b[0m | \u001b[0m83.34    \u001b[0m | \u001b[0m0.003088 \u001b[0m | \u001b[0m511.1    \u001b[0m |\n",
      "| \u001b[0m42       \u001b[0m | \u001b[0m-3.356   \u001b[0m | \u001b[0m0.07639  \u001b[0m | \u001b[0m75.18    \u001b[0m | \u001b[0m0.05803  \u001b[0m | \u001b[0m572.3    \u001b[0m |\n",
      "| \u001b[0m43       \u001b[0m | \u001b[0m-3.353   \u001b[0m | \u001b[0m0.02952  \u001b[0m | \u001b[0m45.62    \u001b[0m | \u001b[0m0.04674  \u001b[0m | \u001b[0m881.8    \u001b[0m |\n",
      "| \u001b[0m44       \u001b[0m | \u001b[0m-3.347   \u001b[0m | \u001b[0m0.04254  \u001b[0m | \u001b[0m47.07    \u001b[0m | \u001b[0m0.02404  \u001b[0m | \u001b[0m325.1    \u001b[0m |\n",
      "| \u001b[0m45       \u001b[0m | \u001b[0m-3.36    \u001b[0m | \u001b[0m0.06749  \u001b[0m | \u001b[0m75.37    \u001b[0m | \u001b[0m0.06264  \u001b[0m | \u001b[0m698.4    \u001b[0m |\n",
      "| \u001b[0m46       \u001b[0m | \u001b[0m-3.355   \u001b[0m | \u001b[0m0.01162  \u001b[0m | \u001b[0m56.1     \u001b[0m | \u001b[0m0.06664  \u001b[0m | \u001b[0m769.1    \u001b[0m |\n",
      "| \u001b[0m47       \u001b[0m | \u001b[0m-3.354   \u001b[0m | \u001b[0m0.05184  \u001b[0m | \u001b[0m26.39    \u001b[0m | \u001b[0m0.03774  \u001b[0m | \u001b[0m380.2    \u001b[0m |\n",
      "| \u001b[0m48       \u001b[0m | \u001b[0m-3.351   \u001b[0m | \u001b[0m0.09944  \u001b[0m | \u001b[0m15.84    \u001b[0m | \u001b[0m0.05889  \u001b[0m | \u001b[0m309.9    \u001b[0m |\n",
      "| \u001b[0m49       \u001b[0m | \u001b[0m-3.355   \u001b[0m | \u001b[0m0.05467  \u001b[0m | \u001b[0m71.9     \u001b[0m | \u001b[0m0.08455  \u001b[0m | \u001b[0m411.5    \u001b[0m |\n",
      "| \u001b[0m50       \u001b[0m | \u001b[0m-3.345   \u001b[0m | \u001b[0m0.08302  \u001b[0m | \u001b[0m88.71    \u001b[0m | \u001b[0m0.07348  \u001b[0m | \u001b[0m703.3    \u001b[0m |\n",
      "=========================================================================\n"
     ]
    },
    {
     "data": {
      "text/html": [
       "<style>#sk-container-id-3 {color: black;background-color: white;}#sk-container-id-3 pre{padding: 0;}#sk-container-id-3 div.sk-toggleable {background-color: white;}#sk-container-id-3 label.sk-toggleable__label {cursor: pointer;display: block;width: 100%;margin-bottom: 0;padding: 0.3em;box-sizing: border-box;text-align: center;}#sk-container-id-3 label.sk-toggleable__label-arrow:before {content: \"▸\";float: left;margin-right: 0.25em;color: #696969;}#sk-container-id-3 label.sk-toggleable__label-arrow:hover:before {color: black;}#sk-container-id-3 div.sk-estimator:hover label.sk-toggleable__label-arrow:before {color: black;}#sk-container-id-3 div.sk-toggleable__content {max-height: 0;max-width: 0;overflow: hidden;text-align: left;background-color: #f0f8ff;}#sk-container-id-3 div.sk-toggleable__content pre {margin: 0.2em;color: black;border-radius: 0.25em;background-color: #f0f8ff;}#sk-container-id-3 input.sk-toggleable__control:checked~div.sk-toggleable__content {max-height: 200px;max-width: 100%;overflow: auto;}#sk-container-id-3 input.sk-toggleable__control:checked~label.sk-toggleable__label-arrow:before {content: \"▾\";}#sk-container-id-3 div.sk-estimator input.sk-toggleable__control:checked~label.sk-toggleable__label {background-color: #d4ebff;}#sk-container-id-3 div.sk-label input.sk-toggleable__control:checked~label.sk-toggleable__label {background-color: #d4ebff;}#sk-container-id-3 input.sk-hidden--visually {border: 0;clip: rect(1px 1px 1px 1px);clip: rect(1px, 1px, 1px, 1px);height: 1px;margin: -1px;overflow: hidden;padding: 0;position: absolute;width: 1px;}#sk-container-id-3 div.sk-estimator {font-family: monospace;background-color: #f0f8ff;border: 1px dotted black;border-radius: 0.25em;box-sizing: border-box;margin-bottom: 0.5em;}#sk-container-id-3 div.sk-estimator:hover {background-color: #d4ebff;}#sk-container-id-3 div.sk-parallel-item::after {content: \"\";width: 100%;border-bottom: 1px solid gray;flex-grow: 1;}#sk-container-id-3 div.sk-label:hover label.sk-toggleable__label {background-color: #d4ebff;}#sk-container-id-3 div.sk-serial::before {content: \"\";position: absolute;border-left: 1px solid gray;box-sizing: border-box;top: 0;bottom: 0;left: 50%;z-index: 0;}#sk-container-id-3 div.sk-serial {display: flex;flex-direction: column;align-items: center;background-color: white;padding-right: 0.2em;padding-left: 0.2em;position: relative;}#sk-container-id-3 div.sk-item {position: relative;z-index: 1;}#sk-container-id-3 div.sk-parallel {display: flex;align-items: stretch;justify-content: center;background-color: white;position: relative;}#sk-container-id-3 div.sk-item::before, #sk-container-id-3 div.sk-parallel-item::before {content: \"\";position: absolute;border-left: 1px solid gray;box-sizing: border-box;top: 0;bottom: 0;left: 50%;z-index: -1;}#sk-container-id-3 div.sk-parallel-item {display: flex;flex-direction: column;z-index: 1;position: relative;background-color: white;}#sk-container-id-3 div.sk-parallel-item:first-child::after {align-self: flex-end;width: 50%;}#sk-container-id-3 div.sk-parallel-item:last-child::after {align-self: flex-start;width: 50%;}#sk-container-id-3 div.sk-parallel-item:only-child::after {width: 0;}#sk-container-id-3 div.sk-dashed-wrapped {border: 1px dashed gray;margin: 0 0.4em 0.5em 0.4em;box-sizing: border-box;padding-bottom: 0.4em;background-color: white;}#sk-container-id-3 div.sk-label label {font-family: monospace;font-weight: bold;display: inline-block;line-height: 1.2em;}#sk-container-id-3 div.sk-label-container {text-align: center;}#sk-container-id-3 div.sk-container {/* jupyter's `normalize.less` sets `[hidden] { display: none; }` but bootstrap.min.css set `[hidden] { display: none !important; }` so we also need the `!important` here to be able to override the default hidden behavior on the sphinx rendered scikit-learn.org. See: https://github.com/scikit-learn/scikit-learn/issues/21755 */display: inline-block !important;position: relative;}#sk-container-id-3 div.sk-text-repr-fallback {display: none;}</style><div id=\"sk-container-id-3\" class=\"sk-top-container\"><div class=\"sk-text-repr-fallback\"><pre>MLPRegressor(alpha=0.0374455933364084, hidden_layer_sizes=(45,),\n",
       "             learning_rate_init=0.08772010408759297, max_iter=391)</pre><b>In a Jupyter environment, please rerun this cell to show the HTML representation or trust the notebook. <br />On GitHub, the HTML representation is unable to render, please try loading this page with nbviewer.org.</b></div><div class=\"sk-container\" hidden><div class=\"sk-item\"><div class=\"sk-estimator sk-toggleable\"><input class=\"sk-toggleable__control sk-hidden--visually\" id=\"sk-estimator-id-3\" type=\"checkbox\" checked><label for=\"sk-estimator-id-3\" class=\"sk-toggleable__label sk-toggleable__label-arrow\">MLPRegressor</label><div class=\"sk-toggleable__content\"><pre>MLPRegressor(alpha=0.0374455933364084, hidden_layer_sizes=(45,),\n",
       "             learning_rate_init=0.08772010408759297, max_iter=391)</pre></div></div></div></div></div>"
      ],
      "text/plain": [
       "MLPRegressor(alpha=0.0374455933364084, hidden_layer_sizes=(45,),\n",
       "             learning_rate_init=0.08772010408759297, max_iter=391)"
      ]
     },
     "execution_count": 11,
     "metadata": {},
     "output_type": "execute_result"
    }
   ],
   "source": [
    "def bo_params_generic(model, params, X_train, y_train):\n",
    "    # Create the model instance with the specified parameters\n",
    "    regressor = model(**params)\n",
    "    \n",
    "    # Calculating rmse based on\n",
    "    scores = cross_val_score(regressor, X_train, y_train, cv=10, scoring='neg_root_mean_squared_error')\n",
    "    return scores.mean()\n",
    "\n",
    "params_ranges = {\n",
    "    'hidden_layer_sizes': (10, 100),\n",
    "    'alpha': (0.0001, 0.1),\n",
    "    'learning_rate_init': (0.001, 0.1),\n",
    "    'max_iter': (100, 1000)\n",
    "}\n",
    "\n",
    "# Example usage with Neural Network\n",
    "model = MLPRegressor\n",
    "model_bo = BayesianOptimization(f=lambda hidden_layer_sizes, alpha, learning_rate_init, max_iter:\n",
    "                                    bo_params_generic(model, {\n",
    "                                        'hidden_layer_sizes': (int(round(hidden_layer_sizes)),),\n",
    "                                        'alpha': alpha,\n",
    "                                        'learning_rate_init': learning_rate_init,\n",
    "                                        'max_iter': int(round(max_iter))\n",
    "                                    }, X_train[best_features_nn], y_train),\n",
    "                             pbounds=params_ranges)\n",
    "\n",
    "results = model_bo.maximize(n_iter=40, init_points=10)\n",
    "params = model_bo.max['params']\n",
    "\n",
    "# Creating a model with the best hyperparameters\n",
    "best_model_nn = model(\n",
    "    hidden_layer_sizes=(int(round(params['hidden_layer_sizes'])),),\n",
    "    alpha=params['alpha'],\n",
    "    learning_rate_init=params['learning_rate_init'],\n",
    "    max_iter=int(round(params['max_iter']))\n",
    ")\n",
    "\n",
    "# Fit the model\n",
    "best_model_nn.fit(X_train[best_features_nn], y_train)"
   ]
  },
  {
   "attachments": {},
   "cell_type": "markdown",
   "metadata": {},
   "source": [
    "# plotting the bar chart"
   ]
  },
  {
   "attachments": {},
   "cell_type": "markdown",
   "metadata": {},
   "source": [
    "**using train dataset**"
   ]
  },
  {
   "cell_type": "code",
   "execution_count": 12,
   "metadata": {},
   "outputs": [
    {
     "data": {
      "text/plain": [
       "[{'model': 'Multiple Linear Regression',\n",
       "  'mae': 2.4324810322722312,\n",
       "  'mse': 11.407483187566488,\n",
       "  'rmse': 3.3774965858704413,\n",
       "  'r2': 0.001819433776709789,\n",
       "  'adj_r2': -0.07363698051662748},\n",
       " {'model': 'Random Forest',\n",
       "  'mae': 2.444316719603332,\n",
       "  'mse': 11.431662965555118,\n",
       "  'rmse': 3.381074232482203,\n",
       "  'r2': -0.0002963514571576731,\n",
       "  'adj_r2': -0.07591270631892977},\n",
       " {'model': 'Neural Network',\n",
       "  'mae': 2.440447399049653,\n",
       "  'mse': 11.489787486367598,\n",
       "  'rmse': 3.3896589041329217,\n",
       "  'r2': -0.005382378422272627,\n",
       "  'adj_r2': -0.08138320616477701},\n",
       " {'model': 'Support Vector Machine',\n",
       "  'mae': 2.3836127999921297,\n",
       "  'mse': 11.586496334933189,\n",
       "  'rmse': 3.4038942896237523,\n",
       "  'r2': -0.013844621288010117,\n",
       "  'adj_r2': -0.09048514341561353}]"
      ]
     },
     "execution_count": 12,
     "metadata": {},
     "output_type": "execute_result"
    }
   ],
   "source": [
    "regression_models = [\n",
    "    {\n",
    "        'name': 'Multiple Linear Regression',\n",
    "        'model': best_model_mlr,\n",
    "        'features': best_features_mlr\n",
    "    },\n",
    "    {\n",
    "        'name': 'Random Forest',\n",
    "        'model': best_model_rf,\n",
    "        'features': best_features_rf\n",
    "    },\n",
    "    {\n",
    "        'name': 'Neural Network',\n",
    "        'model': best_model_nn,\n",
    "        'features': best_features_nn\n",
    "    },\n",
    "    {\n",
    "        'name': 'Support Vector Machine',\n",
    "        'model': best_model_svm,\n",
    "        'features': best_features_svm\n",
    "    }\n",
    "]\n",
    "\n",
    "regression_stats_val = []\n",
    "\n",
    "for model in regression_models:\n",
    "    try:\n",
    "        # Perform cross-validation and calculate predictions and metrics\n",
    "        y_pred = cross_val_predict(model['model'], X_train[model['features']], y_train, cv=10)\n",
    "        y_true = y_train\n",
    "    except: # cv can't be higher then n_splits in the dt\n",
    "        # Perform cross-validation and calculate predictions and metrics\n",
    "        y_pred = cross_val_predict(model['model'], X_train[model['features']], y_train, cv=5)\n",
    "        y_true = y_train\n",
    "\n",
    "    # R2 Score\n",
    "    r2 = r2_score(y_true, y_pred)\n",
    "\n",
    "    # Adjusted R2 Score\n",
    "    n = len(y_true)  # Number of samples\n",
    "    p = X_test.shape[1]  # Number of predictors (features) in X\n",
    "    adj_r2 = 1 - ((1 - r2) * (n - 1)) / (n - p - 1)\n",
    "\n",
    "    # Save stats\n",
    "    regression_stats_val.append(\n",
    "        {\n",
    "            'model': model['name'],\n",
    "            'mae': mean_absolute_error(y_true, y_pred),\n",
    "            'mse': mean_squared_error(y_true, y_pred),\n",
    "            'rmse': np.sqrt(mean_squared_error(y_true, y_pred)),\n",
    "            'r2': r2,\n",
    "            'adj_r2': adj_r2\n",
    "        }\n",
    "    )\n",
    "\n",
    "# View stats\n",
    "regression_stats_val"
   ]
  },
  {
   "cell_type": "code",
   "execution_count": 13,
   "metadata": {},
   "outputs": [
    {
     "data": {
      "application/vnd.plotly.v1+json": {
       "config": {
        "plotlyServerURL": "https://plot.ly"
       },
       "data": [
        {
         "name": "mae",
         "type": "bar",
         "x": [
          "Multiple Linear Regression",
          "Random Forest",
          "Neural Network",
          "Support Vector Machine"
         ],
         "y": [
          2.4324810322722312,
          2.444316719603332,
          2.440447399049653,
          2.3836127999921297
         ]
        },
        {
         "name": "mse",
         "type": "bar",
         "x": [
          "Multiple Linear Regression",
          "Random Forest",
          "Neural Network",
          "Support Vector Machine"
         ],
         "y": [
          11.407483187566488,
          11.431662965555118,
          11.489787486367598,
          11.586496334933189
         ]
        },
        {
         "name": "rmse",
         "type": "bar",
         "x": [
          "Multiple Linear Regression",
          "Random Forest",
          "Neural Network",
          "Support Vector Machine"
         ],
         "y": [
          3.3774965858704413,
          3.381074232482203,
          3.3896589041329217,
          3.4038942896237523
         ]
        },
        {
         "name": "r2",
         "type": "bar",
         "x": [
          "Multiple Linear Regression",
          "Random Forest",
          "Neural Network",
          "Support Vector Machine"
         ],
         "y": [
          0.001819433776709789,
          -0.0002963514571576731,
          -0.005382378422272627,
          -0.013844621288010117
         ]
        },
        {
         "name": "adj_r2",
         "type": "bar",
         "x": [
          "Multiple Linear Regression",
          "Random Forest",
          "Neural Network",
          "Support Vector Machine"
         ],
         "y": [
          -0.07363698051662748,
          -0.07591270631892977,
          -0.08138320616477701,
          -0.09048514341561353
         ]
        }
       ],
       "layout": {
        "barmode": "group",
        "template": {
         "data": {
          "bar": [
           {
            "error_x": {
             "color": "#2a3f5f"
            },
            "error_y": {
             "color": "#2a3f5f"
            },
            "marker": {
             "line": {
              "color": "#E5ECF6",
              "width": 0.5
             },
             "pattern": {
              "fillmode": "overlay",
              "size": 10,
              "solidity": 0.2
             }
            },
            "type": "bar"
           }
          ],
          "barpolar": [
           {
            "marker": {
             "line": {
              "color": "#E5ECF6",
              "width": 0.5
             },
             "pattern": {
              "fillmode": "overlay",
              "size": 10,
              "solidity": 0.2
             }
            },
            "type": "barpolar"
           }
          ],
          "carpet": [
           {
            "aaxis": {
             "endlinecolor": "#2a3f5f",
             "gridcolor": "white",
             "linecolor": "white",
             "minorgridcolor": "white",
             "startlinecolor": "#2a3f5f"
            },
            "baxis": {
             "endlinecolor": "#2a3f5f",
             "gridcolor": "white",
             "linecolor": "white",
             "minorgridcolor": "white",
             "startlinecolor": "#2a3f5f"
            },
            "type": "carpet"
           }
          ],
          "choropleth": [
           {
            "colorbar": {
             "outlinewidth": 0,
             "ticks": ""
            },
            "type": "choropleth"
           }
          ],
          "contour": [
           {
            "colorbar": {
             "outlinewidth": 0,
             "ticks": ""
            },
            "colorscale": [
             [
              0,
              "#0d0887"
             ],
             [
              0.1111111111111111,
              "#46039f"
             ],
             [
              0.2222222222222222,
              "#7201a8"
             ],
             [
              0.3333333333333333,
              "#9c179e"
             ],
             [
              0.4444444444444444,
              "#bd3786"
             ],
             [
              0.5555555555555556,
              "#d8576b"
             ],
             [
              0.6666666666666666,
              "#ed7953"
             ],
             [
              0.7777777777777778,
              "#fb9f3a"
             ],
             [
              0.8888888888888888,
              "#fdca26"
             ],
             [
              1,
              "#f0f921"
             ]
            ],
            "type": "contour"
           }
          ],
          "contourcarpet": [
           {
            "colorbar": {
             "outlinewidth": 0,
             "ticks": ""
            },
            "type": "contourcarpet"
           }
          ],
          "heatmap": [
           {
            "colorbar": {
             "outlinewidth": 0,
             "ticks": ""
            },
            "colorscale": [
             [
              0,
              "#0d0887"
             ],
             [
              0.1111111111111111,
              "#46039f"
             ],
             [
              0.2222222222222222,
              "#7201a8"
             ],
             [
              0.3333333333333333,
              "#9c179e"
             ],
             [
              0.4444444444444444,
              "#bd3786"
             ],
             [
              0.5555555555555556,
              "#d8576b"
             ],
             [
              0.6666666666666666,
              "#ed7953"
             ],
             [
              0.7777777777777778,
              "#fb9f3a"
             ],
             [
              0.8888888888888888,
              "#fdca26"
             ],
             [
              1,
              "#f0f921"
             ]
            ],
            "type": "heatmap"
           }
          ],
          "heatmapgl": [
           {
            "colorbar": {
             "outlinewidth": 0,
             "ticks": ""
            },
            "colorscale": [
             [
              0,
              "#0d0887"
             ],
             [
              0.1111111111111111,
              "#46039f"
             ],
             [
              0.2222222222222222,
              "#7201a8"
             ],
             [
              0.3333333333333333,
              "#9c179e"
             ],
             [
              0.4444444444444444,
              "#bd3786"
             ],
             [
              0.5555555555555556,
              "#d8576b"
             ],
             [
              0.6666666666666666,
              "#ed7953"
             ],
             [
              0.7777777777777778,
              "#fb9f3a"
             ],
             [
              0.8888888888888888,
              "#fdca26"
             ],
             [
              1,
              "#f0f921"
             ]
            ],
            "type": "heatmapgl"
           }
          ],
          "histogram": [
           {
            "marker": {
             "pattern": {
              "fillmode": "overlay",
              "size": 10,
              "solidity": 0.2
             }
            },
            "type": "histogram"
           }
          ],
          "histogram2d": [
           {
            "colorbar": {
             "outlinewidth": 0,
             "ticks": ""
            },
            "colorscale": [
             [
              0,
              "#0d0887"
             ],
             [
              0.1111111111111111,
              "#46039f"
             ],
             [
              0.2222222222222222,
              "#7201a8"
             ],
             [
              0.3333333333333333,
              "#9c179e"
             ],
             [
              0.4444444444444444,
              "#bd3786"
             ],
             [
              0.5555555555555556,
              "#d8576b"
             ],
             [
              0.6666666666666666,
              "#ed7953"
             ],
             [
              0.7777777777777778,
              "#fb9f3a"
             ],
             [
              0.8888888888888888,
              "#fdca26"
             ],
             [
              1,
              "#f0f921"
             ]
            ],
            "type": "histogram2d"
           }
          ],
          "histogram2dcontour": [
           {
            "colorbar": {
             "outlinewidth": 0,
             "ticks": ""
            },
            "colorscale": [
             [
              0,
              "#0d0887"
             ],
             [
              0.1111111111111111,
              "#46039f"
             ],
             [
              0.2222222222222222,
              "#7201a8"
             ],
             [
              0.3333333333333333,
              "#9c179e"
             ],
             [
              0.4444444444444444,
              "#bd3786"
             ],
             [
              0.5555555555555556,
              "#d8576b"
             ],
             [
              0.6666666666666666,
              "#ed7953"
             ],
             [
              0.7777777777777778,
              "#fb9f3a"
             ],
             [
              0.8888888888888888,
              "#fdca26"
             ],
             [
              1,
              "#f0f921"
             ]
            ],
            "type": "histogram2dcontour"
           }
          ],
          "mesh3d": [
           {
            "colorbar": {
             "outlinewidth": 0,
             "ticks": ""
            },
            "type": "mesh3d"
           }
          ],
          "parcoords": [
           {
            "line": {
             "colorbar": {
              "outlinewidth": 0,
              "ticks": ""
             }
            },
            "type": "parcoords"
           }
          ],
          "pie": [
           {
            "automargin": true,
            "type": "pie"
           }
          ],
          "scatter": [
           {
            "fillpattern": {
             "fillmode": "overlay",
             "size": 10,
             "solidity": 0.2
            },
            "type": "scatter"
           }
          ],
          "scatter3d": [
           {
            "line": {
             "colorbar": {
              "outlinewidth": 0,
              "ticks": ""
             }
            },
            "marker": {
             "colorbar": {
              "outlinewidth": 0,
              "ticks": ""
             }
            },
            "type": "scatter3d"
           }
          ],
          "scattercarpet": [
           {
            "marker": {
             "colorbar": {
              "outlinewidth": 0,
              "ticks": ""
             }
            },
            "type": "scattercarpet"
           }
          ],
          "scattergeo": [
           {
            "marker": {
             "colorbar": {
              "outlinewidth": 0,
              "ticks": ""
             }
            },
            "type": "scattergeo"
           }
          ],
          "scattergl": [
           {
            "marker": {
             "colorbar": {
              "outlinewidth": 0,
              "ticks": ""
             }
            },
            "type": "scattergl"
           }
          ],
          "scattermapbox": [
           {
            "marker": {
             "colorbar": {
              "outlinewidth": 0,
              "ticks": ""
             }
            },
            "type": "scattermapbox"
           }
          ],
          "scatterpolar": [
           {
            "marker": {
             "colorbar": {
              "outlinewidth": 0,
              "ticks": ""
             }
            },
            "type": "scatterpolar"
           }
          ],
          "scatterpolargl": [
           {
            "marker": {
             "colorbar": {
              "outlinewidth": 0,
              "ticks": ""
             }
            },
            "type": "scatterpolargl"
           }
          ],
          "scatterternary": [
           {
            "marker": {
             "colorbar": {
              "outlinewidth": 0,
              "ticks": ""
             }
            },
            "type": "scatterternary"
           }
          ],
          "surface": [
           {
            "colorbar": {
             "outlinewidth": 0,
             "ticks": ""
            },
            "colorscale": [
             [
              0,
              "#0d0887"
             ],
             [
              0.1111111111111111,
              "#46039f"
             ],
             [
              0.2222222222222222,
              "#7201a8"
             ],
             [
              0.3333333333333333,
              "#9c179e"
             ],
             [
              0.4444444444444444,
              "#bd3786"
             ],
             [
              0.5555555555555556,
              "#d8576b"
             ],
             [
              0.6666666666666666,
              "#ed7953"
             ],
             [
              0.7777777777777778,
              "#fb9f3a"
             ],
             [
              0.8888888888888888,
              "#fdca26"
             ],
             [
              1,
              "#f0f921"
             ]
            ],
            "type": "surface"
           }
          ],
          "table": [
           {
            "cells": {
             "fill": {
              "color": "#EBF0F8"
             },
             "line": {
              "color": "white"
             }
            },
            "header": {
             "fill": {
              "color": "#C8D4E3"
             },
             "line": {
              "color": "white"
             }
            },
            "type": "table"
           }
          ]
         },
         "layout": {
          "annotationdefaults": {
           "arrowcolor": "#2a3f5f",
           "arrowhead": 0,
           "arrowwidth": 1
          },
          "autotypenumbers": "strict",
          "coloraxis": {
           "colorbar": {
            "outlinewidth": 0,
            "ticks": ""
           }
          },
          "colorscale": {
           "diverging": [
            [
             0,
             "#8e0152"
            ],
            [
             0.1,
             "#c51b7d"
            ],
            [
             0.2,
             "#de77ae"
            ],
            [
             0.3,
             "#f1b6da"
            ],
            [
             0.4,
             "#fde0ef"
            ],
            [
             0.5,
             "#f7f7f7"
            ],
            [
             0.6,
             "#e6f5d0"
            ],
            [
             0.7,
             "#b8e186"
            ],
            [
             0.8,
             "#7fbc41"
            ],
            [
             0.9,
             "#4d9221"
            ],
            [
             1,
             "#276419"
            ]
           ],
           "sequential": [
            [
             0,
             "#0d0887"
            ],
            [
             0.1111111111111111,
             "#46039f"
            ],
            [
             0.2222222222222222,
             "#7201a8"
            ],
            [
             0.3333333333333333,
             "#9c179e"
            ],
            [
             0.4444444444444444,
             "#bd3786"
            ],
            [
             0.5555555555555556,
             "#d8576b"
            ],
            [
             0.6666666666666666,
             "#ed7953"
            ],
            [
             0.7777777777777778,
             "#fb9f3a"
            ],
            [
             0.8888888888888888,
             "#fdca26"
            ],
            [
             1,
             "#f0f921"
            ]
           ],
           "sequentialminus": [
            [
             0,
             "#0d0887"
            ],
            [
             0.1111111111111111,
             "#46039f"
            ],
            [
             0.2222222222222222,
             "#7201a8"
            ],
            [
             0.3333333333333333,
             "#9c179e"
            ],
            [
             0.4444444444444444,
             "#bd3786"
            ],
            [
             0.5555555555555556,
             "#d8576b"
            ],
            [
             0.6666666666666666,
             "#ed7953"
            ],
            [
             0.7777777777777778,
             "#fb9f3a"
            ],
            [
             0.8888888888888888,
             "#fdca26"
            ],
            [
             1,
             "#f0f921"
            ]
           ]
          },
          "colorway": [
           "#636efa",
           "#EF553B",
           "#00cc96",
           "#ab63fa",
           "#FFA15A",
           "#19d3f3",
           "#FF6692",
           "#B6E880",
           "#FF97FF",
           "#FECB52"
          ],
          "font": {
           "color": "#2a3f5f"
          },
          "geo": {
           "bgcolor": "white",
           "lakecolor": "white",
           "landcolor": "#E5ECF6",
           "showlakes": true,
           "showland": true,
           "subunitcolor": "white"
          },
          "hoverlabel": {
           "align": "left"
          },
          "hovermode": "closest",
          "mapbox": {
           "style": "light"
          },
          "paper_bgcolor": "white",
          "plot_bgcolor": "#E5ECF6",
          "polar": {
           "angularaxis": {
            "gridcolor": "white",
            "linecolor": "white",
            "ticks": ""
           },
           "bgcolor": "#E5ECF6",
           "radialaxis": {
            "gridcolor": "white",
            "linecolor": "white",
            "ticks": ""
           }
          },
          "scene": {
           "xaxis": {
            "backgroundcolor": "#E5ECF6",
            "gridcolor": "white",
            "gridwidth": 2,
            "linecolor": "white",
            "showbackground": true,
            "ticks": "",
            "zerolinecolor": "white"
           },
           "yaxis": {
            "backgroundcolor": "#E5ECF6",
            "gridcolor": "white",
            "gridwidth": 2,
            "linecolor": "white",
            "showbackground": true,
            "ticks": "",
            "zerolinecolor": "white"
           },
           "zaxis": {
            "backgroundcolor": "#E5ECF6",
            "gridcolor": "white",
            "gridwidth": 2,
            "linecolor": "white",
            "showbackground": true,
            "ticks": "",
            "zerolinecolor": "white"
           }
          },
          "shapedefaults": {
           "line": {
            "color": "#2a3f5f"
           }
          },
          "ternary": {
           "aaxis": {
            "gridcolor": "white",
            "linecolor": "white",
            "ticks": ""
           },
           "baxis": {
            "gridcolor": "white",
            "linecolor": "white",
            "ticks": ""
           },
           "bgcolor": "#E5ECF6",
           "caxis": {
            "gridcolor": "white",
            "linecolor": "white",
            "ticks": ""
           }
          },
          "title": {
           "x": 0.05
          },
          "xaxis": {
           "automargin": true,
           "gridcolor": "white",
           "linecolor": "white",
           "ticks": "",
           "title": {
            "standoff": 15
           },
           "zerolinecolor": "white",
           "zerolinewidth": 2
          },
          "yaxis": {
           "automargin": true,
           "gridcolor": "white",
           "linecolor": "white",
           "ticks": "",
           "title": {
            "standoff": 15
           },
           "zerolinecolor": "white",
           "zerolinewidth": 2
          }
         }
        },
        "title": {
         "text": "Evaluation Metrics Comparison"
        },
        "xaxis": {
         "title": {
          "text": "Models"
         }
        },
        "yaxis": {
         "title": {
          "text": "Scores"
         }
        }
       }
      }
     },
     "metadata": {},
     "output_type": "display_data"
    }
   ],
   "source": [
    "# Extracting model names and metric scores\n",
    "model_names = [d['model'] for d in regression_stats_val]\n",
    "metric_labels = list(regression_stats_val[0].keys())[1:]\n",
    "metric_scores = {metric: [d[metric] for d in regression_stats_val] for metric in metric_labels}\n",
    "\n",
    "# Plotting the bar chart\n",
    "fig = go.Figure()\n",
    "\n",
    "for metric in metric_labels:\n",
    "    fig.add_trace(go.Bar(\n",
    "        x=model_names,\n",
    "        y=metric_scores[metric],\n",
    "        name=metric\n",
    "    ))\n",
    "\n",
    "# Updating the layout\n",
    "fig.update_layout(\n",
    "    title='Evaluation Metrics Comparison',\n",
    "    xaxis_title='Models',\n",
    "    yaxis_title='Scores',\n",
    "    barmode='group'\n",
    ")\n",
    "\n",
    "# Display the plot\n",
    "fig.show()"
   ]
  },
  {
   "attachments": {},
   "cell_type": "markdown",
   "metadata": {},
   "source": [
    "**Evaluating on test data**"
   ]
  },
  {
   "cell_type": "code",
   "execution_count": 14,
   "metadata": {},
   "outputs": [
    {
     "data": {
      "text/plain": [
       "[{'model': 'Multiple Linear Regression',\n",
       "  'mae': 2.7085294488746827,\n",
       "  'mse': 15.159529909991816,\n",
       "  'rmse': 3.8935240990639595,\n",
       "  'r2': -0.006618760105282728,\n",
       "  'adj_r2': -0.40026855455986254},\n",
       " {'model': 'Random Forest',\n",
       "  'mae': 2.6953939551701644,\n",
       "  'mse': 15.035564193768085,\n",
       "  'rmse': 3.8775719456598203,\n",
       "  'r2': 0.0016127758527318958,\n",
       "  'adj_r2': -0.3888179821936859},\n",
       " {'model': 'Neural Network',\n",
       "  'mae': 2.7107636581659507,\n",
       "  'mse': 15.117860906033686,\n",
       "  'rmse': 3.888169351511542,\n",
       "  'r2': -0.003851866847497165,\n",
       "  'adj_r2': -0.39641963600573615},\n",
       " {'model': 'Support Vector Machine',\n",
       "  'mae': 2.696605016873673,\n",
       "  'mse': 15.800409444438392,\n",
       "  'rmse': 3.974972886000405,\n",
       "  'r2': -0.049174259264676445,\n",
       "  'adj_r2': -0.4594658690329856}]"
      ]
     },
     "execution_count": 14,
     "metadata": {},
     "output_type": "execute_result"
    }
   ],
   "source": [
    "regression_models = [\n",
    "    {\n",
    "        'name': 'Multiple Linear Regression',\n",
    "        'model': best_model_mlr,\n",
    "        'features': best_features_mlr\n",
    "    },\n",
    "    {\n",
    "        'name': 'Random Forest',\n",
    "        'model': best_model_rf,\n",
    "        'features': best_features_rf\n",
    "    },\n",
    "    {\n",
    "        'name': 'Neural Network',\n",
    "        'model': best_model_nn,\n",
    "        'features': best_features_nn\n",
    "    },\n",
    "    {\n",
    "        'name': 'Support Vector Machine',\n",
    "        'model': best_model_svm,\n",
    "        'features': best_features_svm\n",
    "    }\n",
    "]\n",
    "\n",
    "regression_stats_test = []\n",
    "\n",
    "for model in regression_models:\n",
    "    # Make predictions on the test set\n",
    "    y_pred = model['model'].predict(X_test[model['features']])\n",
    "\n",
    "    # Defining Actual values\n",
    "    y_true = y_test.copy()\n",
    "\n",
    "    # R2 Score\n",
    "    r2 = r2_score(y_true, y_pred)\n",
    "\n",
    "    # Adjusted R2 Score\n",
    "    n = len(y_true)  # Number of samples\n",
    "    p = X_test.shape[1]  # Number of predictors (features) in X\n",
    "    adj_r2 = 1 - ((1 - r2) * (n - 1)) / (n - p - 1)\n",
    "\n",
    "    # Save stats\n",
    "    regression_stats_test.append(\n",
    "        {\n",
    "            'model': model['name'],\n",
    "            'mae': mean_absolute_error(y_true, y_pred),\n",
    "            'mse': mean_squared_error(y_true, y_pred),\n",
    "            'rmse': np.sqrt(mean_squared_error(y_true, y_pred)),\n",
    "            'r2': r2,\n",
    "            'adj_r2': adj_r2\n",
    "        }\n",
    "    )\n",
    "\n",
    "# View stats\n",
    "regression_stats_test"
   ]
  },
  {
   "cell_type": "code",
   "execution_count": 15,
   "metadata": {},
   "outputs": [
    {
     "data": {
      "application/vnd.plotly.v1+json": {
       "config": {
        "plotlyServerURL": "https://plot.ly"
       },
       "data": [
        {
         "name": "mae",
         "type": "bar",
         "x": [
          "Multiple Linear Regression",
          "Random Forest",
          "Neural Network",
          "Support Vector Machine"
         ],
         "y": [
          2.7085294488746827,
          2.6953939551701644,
          2.7107636581659507,
          2.696605016873673
         ]
        },
        {
         "name": "mse",
         "type": "bar",
         "x": [
          "Multiple Linear Regression",
          "Random Forest",
          "Neural Network",
          "Support Vector Machine"
         ],
         "y": [
          15.159529909991816,
          15.035564193768085,
          15.117860906033686,
          15.800409444438392
         ]
        },
        {
         "name": "rmse",
         "type": "bar",
         "x": [
          "Multiple Linear Regression",
          "Random Forest",
          "Neural Network",
          "Support Vector Machine"
         ],
         "y": [
          3.8935240990639595,
          3.8775719456598203,
          3.888169351511542,
          3.974972886000405
         ]
        },
        {
         "name": "r2",
         "type": "bar",
         "x": [
          "Multiple Linear Regression",
          "Random Forest",
          "Neural Network",
          "Support Vector Machine"
         ],
         "y": [
          -0.006618760105282728,
          0.0016127758527318958,
          -0.003851866847497165,
          -0.049174259264676445
         ]
        },
        {
         "name": "adj_r2",
         "type": "bar",
         "x": [
          "Multiple Linear Regression",
          "Random Forest",
          "Neural Network",
          "Support Vector Machine"
         ],
         "y": [
          -0.40026855455986254,
          -0.3888179821936859,
          -0.39641963600573615,
          -0.4594658690329856
         ]
        }
       ],
       "layout": {
        "barmode": "group",
        "template": {
         "data": {
          "bar": [
           {
            "error_x": {
             "color": "#2a3f5f"
            },
            "error_y": {
             "color": "#2a3f5f"
            },
            "marker": {
             "line": {
              "color": "#E5ECF6",
              "width": 0.5
             },
             "pattern": {
              "fillmode": "overlay",
              "size": 10,
              "solidity": 0.2
             }
            },
            "type": "bar"
           }
          ],
          "barpolar": [
           {
            "marker": {
             "line": {
              "color": "#E5ECF6",
              "width": 0.5
             },
             "pattern": {
              "fillmode": "overlay",
              "size": 10,
              "solidity": 0.2
             }
            },
            "type": "barpolar"
           }
          ],
          "carpet": [
           {
            "aaxis": {
             "endlinecolor": "#2a3f5f",
             "gridcolor": "white",
             "linecolor": "white",
             "minorgridcolor": "white",
             "startlinecolor": "#2a3f5f"
            },
            "baxis": {
             "endlinecolor": "#2a3f5f",
             "gridcolor": "white",
             "linecolor": "white",
             "minorgridcolor": "white",
             "startlinecolor": "#2a3f5f"
            },
            "type": "carpet"
           }
          ],
          "choropleth": [
           {
            "colorbar": {
             "outlinewidth": 0,
             "ticks": ""
            },
            "type": "choropleth"
           }
          ],
          "contour": [
           {
            "colorbar": {
             "outlinewidth": 0,
             "ticks": ""
            },
            "colorscale": [
             [
              0,
              "#0d0887"
             ],
             [
              0.1111111111111111,
              "#46039f"
             ],
             [
              0.2222222222222222,
              "#7201a8"
             ],
             [
              0.3333333333333333,
              "#9c179e"
             ],
             [
              0.4444444444444444,
              "#bd3786"
             ],
             [
              0.5555555555555556,
              "#d8576b"
             ],
             [
              0.6666666666666666,
              "#ed7953"
             ],
             [
              0.7777777777777778,
              "#fb9f3a"
             ],
             [
              0.8888888888888888,
              "#fdca26"
             ],
             [
              1,
              "#f0f921"
             ]
            ],
            "type": "contour"
           }
          ],
          "contourcarpet": [
           {
            "colorbar": {
             "outlinewidth": 0,
             "ticks": ""
            },
            "type": "contourcarpet"
           }
          ],
          "heatmap": [
           {
            "colorbar": {
             "outlinewidth": 0,
             "ticks": ""
            },
            "colorscale": [
             [
              0,
              "#0d0887"
             ],
             [
              0.1111111111111111,
              "#46039f"
             ],
             [
              0.2222222222222222,
              "#7201a8"
             ],
             [
              0.3333333333333333,
              "#9c179e"
             ],
             [
              0.4444444444444444,
              "#bd3786"
             ],
             [
              0.5555555555555556,
              "#d8576b"
             ],
             [
              0.6666666666666666,
              "#ed7953"
             ],
             [
              0.7777777777777778,
              "#fb9f3a"
             ],
             [
              0.8888888888888888,
              "#fdca26"
             ],
             [
              1,
              "#f0f921"
             ]
            ],
            "type": "heatmap"
           }
          ],
          "heatmapgl": [
           {
            "colorbar": {
             "outlinewidth": 0,
             "ticks": ""
            },
            "colorscale": [
             [
              0,
              "#0d0887"
             ],
             [
              0.1111111111111111,
              "#46039f"
             ],
             [
              0.2222222222222222,
              "#7201a8"
             ],
             [
              0.3333333333333333,
              "#9c179e"
             ],
             [
              0.4444444444444444,
              "#bd3786"
             ],
             [
              0.5555555555555556,
              "#d8576b"
             ],
             [
              0.6666666666666666,
              "#ed7953"
             ],
             [
              0.7777777777777778,
              "#fb9f3a"
             ],
             [
              0.8888888888888888,
              "#fdca26"
             ],
             [
              1,
              "#f0f921"
             ]
            ],
            "type": "heatmapgl"
           }
          ],
          "histogram": [
           {
            "marker": {
             "pattern": {
              "fillmode": "overlay",
              "size": 10,
              "solidity": 0.2
             }
            },
            "type": "histogram"
           }
          ],
          "histogram2d": [
           {
            "colorbar": {
             "outlinewidth": 0,
             "ticks": ""
            },
            "colorscale": [
             [
              0,
              "#0d0887"
             ],
             [
              0.1111111111111111,
              "#46039f"
             ],
             [
              0.2222222222222222,
              "#7201a8"
             ],
             [
              0.3333333333333333,
              "#9c179e"
             ],
             [
              0.4444444444444444,
              "#bd3786"
             ],
             [
              0.5555555555555556,
              "#d8576b"
             ],
             [
              0.6666666666666666,
              "#ed7953"
             ],
             [
              0.7777777777777778,
              "#fb9f3a"
             ],
             [
              0.8888888888888888,
              "#fdca26"
             ],
             [
              1,
              "#f0f921"
             ]
            ],
            "type": "histogram2d"
           }
          ],
          "histogram2dcontour": [
           {
            "colorbar": {
             "outlinewidth": 0,
             "ticks": ""
            },
            "colorscale": [
             [
              0,
              "#0d0887"
             ],
             [
              0.1111111111111111,
              "#46039f"
             ],
             [
              0.2222222222222222,
              "#7201a8"
             ],
             [
              0.3333333333333333,
              "#9c179e"
             ],
             [
              0.4444444444444444,
              "#bd3786"
             ],
             [
              0.5555555555555556,
              "#d8576b"
             ],
             [
              0.6666666666666666,
              "#ed7953"
             ],
             [
              0.7777777777777778,
              "#fb9f3a"
             ],
             [
              0.8888888888888888,
              "#fdca26"
             ],
             [
              1,
              "#f0f921"
             ]
            ],
            "type": "histogram2dcontour"
           }
          ],
          "mesh3d": [
           {
            "colorbar": {
             "outlinewidth": 0,
             "ticks": ""
            },
            "type": "mesh3d"
           }
          ],
          "parcoords": [
           {
            "line": {
             "colorbar": {
              "outlinewidth": 0,
              "ticks": ""
             }
            },
            "type": "parcoords"
           }
          ],
          "pie": [
           {
            "automargin": true,
            "type": "pie"
           }
          ],
          "scatter": [
           {
            "fillpattern": {
             "fillmode": "overlay",
             "size": 10,
             "solidity": 0.2
            },
            "type": "scatter"
           }
          ],
          "scatter3d": [
           {
            "line": {
             "colorbar": {
              "outlinewidth": 0,
              "ticks": ""
             }
            },
            "marker": {
             "colorbar": {
              "outlinewidth": 0,
              "ticks": ""
             }
            },
            "type": "scatter3d"
           }
          ],
          "scattercarpet": [
           {
            "marker": {
             "colorbar": {
              "outlinewidth": 0,
              "ticks": ""
             }
            },
            "type": "scattercarpet"
           }
          ],
          "scattergeo": [
           {
            "marker": {
             "colorbar": {
              "outlinewidth": 0,
              "ticks": ""
             }
            },
            "type": "scattergeo"
           }
          ],
          "scattergl": [
           {
            "marker": {
             "colorbar": {
              "outlinewidth": 0,
              "ticks": ""
             }
            },
            "type": "scattergl"
           }
          ],
          "scattermapbox": [
           {
            "marker": {
             "colorbar": {
              "outlinewidth": 0,
              "ticks": ""
             }
            },
            "type": "scattermapbox"
           }
          ],
          "scatterpolar": [
           {
            "marker": {
             "colorbar": {
              "outlinewidth": 0,
              "ticks": ""
             }
            },
            "type": "scatterpolar"
           }
          ],
          "scatterpolargl": [
           {
            "marker": {
             "colorbar": {
              "outlinewidth": 0,
              "ticks": ""
             }
            },
            "type": "scatterpolargl"
           }
          ],
          "scatterternary": [
           {
            "marker": {
             "colorbar": {
              "outlinewidth": 0,
              "ticks": ""
             }
            },
            "type": "scatterternary"
           }
          ],
          "surface": [
           {
            "colorbar": {
             "outlinewidth": 0,
             "ticks": ""
            },
            "colorscale": [
             [
              0,
              "#0d0887"
             ],
             [
              0.1111111111111111,
              "#46039f"
             ],
             [
              0.2222222222222222,
              "#7201a8"
             ],
             [
              0.3333333333333333,
              "#9c179e"
             ],
             [
              0.4444444444444444,
              "#bd3786"
             ],
             [
              0.5555555555555556,
              "#d8576b"
             ],
             [
              0.6666666666666666,
              "#ed7953"
             ],
             [
              0.7777777777777778,
              "#fb9f3a"
             ],
             [
              0.8888888888888888,
              "#fdca26"
             ],
             [
              1,
              "#f0f921"
             ]
            ],
            "type": "surface"
           }
          ],
          "table": [
           {
            "cells": {
             "fill": {
              "color": "#EBF0F8"
             },
             "line": {
              "color": "white"
             }
            },
            "header": {
             "fill": {
              "color": "#C8D4E3"
             },
             "line": {
              "color": "white"
             }
            },
            "type": "table"
           }
          ]
         },
         "layout": {
          "annotationdefaults": {
           "arrowcolor": "#2a3f5f",
           "arrowhead": 0,
           "arrowwidth": 1
          },
          "autotypenumbers": "strict",
          "coloraxis": {
           "colorbar": {
            "outlinewidth": 0,
            "ticks": ""
           }
          },
          "colorscale": {
           "diverging": [
            [
             0,
             "#8e0152"
            ],
            [
             0.1,
             "#c51b7d"
            ],
            [
             0.2,
             "#de77ae"
            ],
            [
             0.3,
             "#f1b6da"
            ],
            [
             0.4,
             "#fde0ef"
            ],
            [
             0.5,
             "#f7f7f7"
            ],
            [
             0.6,
             "#e6f5d0"
            ],
            [
             0.7,
             "#b8e186"
            ],
            [
             0.8,
             "#7fbc41"
            ],
            [
             0.9,
             "#4d9221"
            ],
            [
             1,
             "#276419"
            ]
           ],
           "sequential": [
            [
             0,
             "#0d0887"
            ],
            [
             0.1111111111111111,
             "#46039f"
            ],
            [
             0.2222222222222222,
             "#7201a8"
            ],
            [
             0.3333333333333333,
             "#9c179e"
            ],
            [
             0.4444444444444444,
             "#bd3786"
            ],
            [
             0.5555555555555556,
             "#d8576b"
            ],
            [
             0.6666666666666666,
             "#ed7953"
            ],
            [
             0.7777777777777778,
             "#fb9f3a"
            ],
            [
             0.8888888888888888,
             "#fdca26"
            ],
            [
             1,
             "#f0f921"
            ]
           ],
           "sequentialminus": [
            [
             0,
             "#0d0887"
            ],
            [
             0.1111111111111111,
             "#46039f"
            ],
            [
             0.2222222222222222,
             "#7201a8"
            ],
            [
             0.3333333333333333,
             "#9c179e"
            ],
            [
             0.4444444444444444,
             "#bd3786"
            ],
            [
             0.5555555555555556,
             "#d8576b"
            ],
            [
             0.6666666666666666,
             "#ed7953"
            ],
            [
             0.7777777777777778,
             "#fb9f3a"
            ],
            [
             0.8888888888888888,
             "#fdca26"
            ],
            [
             1,
             "#f0f921"
            ]
           ]
          },
          "colorway": [
           "#636efa",
           "#EF553B",
           "#00cc96",
           "#ab63fa",
           "#FFA15A",
           "#19d3f3",
           "#FF6692",
           "#B6E880",
           "#FF97FF",
           "#FECB52"
          ],
          "font": {
           "color": "#2a3f5f"
          },
          "geo": {
           "bgcolor": "white",
           "lakecolor": "white",
           "landcolor": "#E5ECF6",
           "showlakes": true,
           "showland": true,
           "subunitcolor": "white"
          },
          "hoverlabel": {
           "align": "left"
          },
          "hovermode": "closest",
          "mapbox": {
           "style": "light"
          },
          "paper_bgcolor": "white",
          "plot_bgcolor": "#E5ECF6",
          "polar": {
           "angularaxis": {
            "gridcolor": "white",
            "linecolor": "white",
            "ticks": ""
           },
           "bgcolor": "#E5ECF6",
           "radialaxis": {
            "gridcolor": "white",
            "linecolor": "white",
            "ticks": ""
           }
          },
          "scene": {
           "xaxis": {
            "backgroundcolor": "#E5ECF6",
            "gridcolor": "white",
            "gridwidth": 2,
            "linecolor": "white",
            "showbackground": true,
            "ticks": "",
            "zerolinecolor": "white"
           },
           "yaxis": {
            "backgroundcolor": "#E5ECF6",
            "gridcolor": "white",
            "gridwidth": 2,
            "linecolor": "white",
            "showbackground": true,
            "ticks": "",
            "zerolinecolor": "white"
           },
           "zaxis": {
            "backgroundcolor": "#E5ECF6",
            "gridcolor": "white",
            "gridwidth": 2,
            "linecolor": "white",
            "showbackground": true,
            "ticks": "",
            "zerolinecolor": "white"
           }
          },
          "shapedefaults": {
           "line": {
            "color": "#2a3f5f"
           }
          },
          "ternary": {
           "aaxis": {
            "gridcolor": "white",
            "linecolor": "white",
            "ticks": ""
           },
           "baxis": {
            "gridcolor": "white",
            "linecolor": "white",
            "ticks": ""
           },
           "bgcolor": "#E5ECF6",
           "caxis": {
            "gridcolor": "white",
            "linecolor": "white",
            "ticks": ""
           }
          },
          "title": {
           "x": 0.05
          },
          "xaxis": {
           "automargin": true,
           "gridcolor": "white",
           "linecolor": "white",
           "ticks": "",
           "title": {
            "standoff": 15
           },
           "zerolinecolor": "white",
           "zerolinewidth": 2
          },
          "yaxis": {
           "automargin": true,
           "gridcolor": "white",
           "linecolor": "white",
           "ticks": "",
           "title": {
            "standoff": 15
           },
           "zerolinecolor": "white",
           "zerolinewidth": 2
          }
         }
        },
        "title": {
         "text": "Evaluation Metrics Comparison"
        },
        "xaxis": {
         "title": {
          "text": "Models"
         }
        },
        "yaxis": {
         "title": {
          "text": "Scores"
         }
        }
       }
      }
     },
     "metadata": {},
     "output_type": "display_data"
    }
   ],
   "source": [
    "# Extracting model names and metric scores\n",
    "model_names = [d['model'] for d in regression_stats_test]\n",
    "metric_labels = list(regression_stats_test[0].keys())[1:]\n",
    "metric_scores = {metric: [d[metric] for d in regression_stats_test] for metric in metric_labels}\n",
    "\n",
    "# Plotting the bar chart\n",
    "fig = go.Figure()\n",
    "\n",
    "for metric in metric_labels:\n",
    "    fig.add_trace(go.Bar(\n",
    "        x=model_names,\n",
    "        y=metric_scores[metric],\n",
    "        name=metric\n",
    "    ))\n",
    "\n",
    "# Updating the layout\n",
    "fig.update_layout(\n",
    "    title='Evaluation Metrics Comparison',\n",
    "    xaxis_title='Models',\n",
    "    yaxis_title='Scores',\n",
    "    barmode='group'\n",
    ")\n",
    "\n",
    "# Display the plot\n",
    "fig.show()"
   ]
  },
  {
   "attachments": {},
   "cell_type": "markdown",
   "metadata": {},
   "source": [
    "Naive bayes"
   ]
  },
  {
   "cell_type": "code",
   "execution_count": 16,
   "metadata": {},
   "outputs": [
    {
     "name": "stdout",
     "output_type": "stream",
     "text": [
      "Mean Absolute Error: 2.717184553660983\n",
      "Mean Squared Error: 15.253915202666954\n",
      "Root Mean Squared Error: 3.905626096116595\n",
      "R2 Score: -0.012886105257073899\n",
      "Adjusted R2 Score: -0.4089868168101196\n"
     ]
    }
   ],
   "source": [
    "# Defining Actual values\n",
    "y_true = y_test.copy()\n",
    "\n",
    "# Defining Predicted values\n",
    "y_pred = np.full_like(y_test, y_train.mean())\n",
    "\n",
    "# Mean absolute error\n",
    "mae = mean_absolute_error(y_test, y_pred)\n",
    "print(\"Mean Absolute Error:\", mae)\n",
    "\n",
    "# Mean Squared Error\n",
    "mse = mean_squared_error(y_true, y_pred)\n",
    "print(\"Mean Squared Error:\", mse)\n",
    "\n",
    "# Root Mean Squared Error\n",
    "rmse = np.sqrt(mse)\n",
    "print(\"Root Mean Squared Error:\", rmse)\n",
    "\n",
    "# R2 Score\n",
    "r2 = r2_score(y_true, y_pred)\n",
    "print(\"R2 Score:\", r2)\n",
    "\n",
    "# Adjusted R2 Score\n",
    "n = len(y_true)  # Number of samples\n",
    "p = X_test.shape[1]  # Number of predictors (features) in X\n",
    "adj_r2 = 1 - ((1 - r2) * (n - 1)) / (n - p - 1)\n",
    "print(\"Adjusted R2 Score:\", adj_r2)"
   ]
  },
  {
   "attachments": {},
   "cell_type": "markdown",
   "metadata": {},
   "source": [
    "Save best model & features as Pickle"
   ]
  },
  {
   "cell_type": "code",
   "execution_count": 20,
   "metadata": {},
   "outputs": [],
   "source": [
    "import pickle\n",
    "\n",
    "# Save model\n",
    "file_path = 'Saved Models/gewicht.pkl'\n",
    "\n",
    "with open(file_path, 'wb') as file:\n",
    "    pickle.dump(best_model_mlr, file)\n",
    "\n",
    "# Save features\n",
    "with open('Saved Models/best_features_gewicht.txt', 'w') as file:\n",
    "    file.write(f'{best_features_mlr}')"
   ]
  }
 ],
 "metadata": {
  "kernelspec": {
   "display_name": "Python 3",
   "language": "python",
   "name": "python3"
  },
  "language_info": {
   "codemirror_mode": {
    "name": "ipython",
    "version": 3
   },
   "file_extension": ".py",
   "mimetype": "text/x-python",
   "name": "python",
   "nbconvert_exporter": "python",
   "pygments_lexer": "ipython3",
   "version": "3.9.5"
  },
  "orig_nbformat": 4
 },
 "nbformat": 4,
 "nbformat_minor": 2
}
