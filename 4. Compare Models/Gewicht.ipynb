{
 "cells": [
  {
   "attachments": {},
   "cell_type": "markdown",
   "metadata": {},
   "source": [
    "# General Imports"
   ]
  },
  {
   "attachments": {},
   "cell_type": "markdown",
   "metadata": {},
   "source": [
    "**Importing all libraries**"
   ]
  },
  {
   "cell_type": "code",
   "execution_count": 1,
   "metadata": {},
   "outputs": [],
   "source": [
    "import numpy as np\n",
    "import pandas as pd\n",
    "import warnings\n",
    "\n",
    "import plotly.graph_objects as go\n",
    "from bayes_opt import BayesianOptimization\n",
    "import statsmodels.api as sm\n",
    "\n",
    "from sklearn.model_selection import cross_val_score, train_test_split\n",
    "from sklearn.linear_model import LinearRegression\n",
    "from sklearn.svm import SVR\n",
    "from sklearn.model_selection import cross_val_predict\n",
    "from sklearn.ensemble import RandomForestRegressor\n",
    "from sklearn.neural_network import MLPRegressor\n",
    "from sklearn.metrics import r2_score, mean_squared_error, mean_absolute_error\n",
    "from sklearn.inspection import permutation_importance\n"
   ]
  },
  {
   "attachments": {},
   "cell_type": "markdown",
   "metadata": {},
   "source": [
    "Disable warnings"
   ]
  },
  {
   "cell_type": "code",
   "execution_count": 2,
   "metadata": {},
   "outputs": [],
   "source": [
    "# Disable all warnings\n",
    "warnings.filterwarnings(\"ignore\")\n",
    "\n",
    "# Enable warnings again\n",
    "## warnings.filterwarnings(\"default\")"
   ]
  },
  {
   "attachments": {},
   "cell_type": "markdown",
   "metadata": {},
   "source": [
    "Generate train and test data"
   ]
  },
  {
   "cell_type": "code",
   "execution_count": 3,
   "metadata": {},
   "outputs": [],
   "source": [
    "# Read Data\n",
    "df = pd.read_csv(\"data_finish_prep.csv\")\n",
    "\n",
    "# Select only the usefull part of the df\n",
    "df.drop(columns=['verschil_Lengte',\n",
    "               'verschil_6 MWT', 'verschil_TUG',\n",
    "               'verschil_BMI', 'verschil_Conditie',\n",
    "               'verschil_Lenigheid', 'verschil_Knijpkracht'], inplace=True)\n",
    "\n",
    "# Drop NaN values\n",
    "df.dropna(inplace=True)\n",
    "\n",
    "# Define X and y\n",
    "X = df.drop(columns=['verschil_Gewicht'])\n",
    "y = df['verschil_Gewicht']\n",
    "\n",
    "# Split data into train & test data\n",
    "X_train, X_test, y_train, y_test = train_test_split(X, y, test_size=0.2, random_state=42)"
   ]
  },
  {
   "cell_type": "code",
   "execution_count": 4,
   "metadata": {},
   "outputs": [],
   "source": [
    "def bo_params_generic(model, params, X_train, y_train):\n",
    "    # Create the model instance with the specified parameters\n",
    "    regressor = model(**params)\n",
    "    \n",
    "    # Assuming you have X_train, y_train defined for regression\n",
    "    scores = cross_val_score(regressor, X_train, y_train, cv=10, scoring='neg_root_mean_squared_error')\n",
    "    return -scores.mean()"
   ]
  },
  {
   "attachments": {},
   "cell_type": "markdown",
   "metadata": {},
   "source": [
    "# MLR"
   ]
  },
  {
   "attachments": {},
   "cell_type": "markdown",
   "metadata": {},
   "source": [
    "**feature selection**"
   ]
  },
  {
   "cell_type": "code",
   "execution_count": 5,
   "metadata": {},
   "outputs": [
    {
     "name": "stdout",
     "output_type": "stream",
     "text": [
      "Best features: ['OppervlakteWater', 'AfstandTotDagrecreatiefTerrein', 'AfstandTotTreinstationsTotaal', 'AfstandTotMuseum']\n",
      "Dropped features: ['AfstandTotCafetariaED', 'VoldoetAanBeweegrichtlijn', 'AfstandTotCafeED', 'GemiddeldeWoningwaarde', 'EenOfMeerLangdurigeAandoeningen', 'KLFinancieleDienstenOnroerendGoed', 'Ondergewicht', 'AfstandTotSemiOpenbaarGroenTotaal', 'PersonenautoSNaarOppervlakte', 'AfstandTotKinderdagverblijf', 'AfstandTotPodiumkunstenTotaal', 'AfstandTotHuisartsenpost', 'AfstandTotPoppodium', 'AfstandTotSchool', 'AfstandTotOvDagelLevensmiddelen', 'AfstandTotOpenbaarGroenTotaal', 'MatigOvergewicht', 'EigendomOnbekend', 'AfstandTotVolkstuin', 'PersonenautoSOverigeBrandstof', 'AfstandTotZwembad', 'AfstandTotBrandweerkazerne', 'NederlandseAntillenEnAruba', 'VernielingMisdrijfTegenOpenbareOrde', 'AfstandTotBelangrijkOverstapstation', 'AfstandTotRestaurant', 'AfstandTotHuisartsenpraktijk', 'ErvarenGezondheidGoedZeerGoed', 'AfstandTotConsultatiebureau', 'PercentageOnbewoond', 'UrenMantelzorgPerWeek', 'kPersonenMetLaagsteInkomen', 'AfstandTotHotelED', 'TotaalDiefstalUitWoningSchuurED', 'VoldoetAanRichtlijnAlcoholgebruik', 'BeperkingInHoren', 'AfstandTotBioscoop', 'ErnstigOvergewichtObesitas', 'Rokers', 'BeperkingInZien', 'OvermatigDrinker', 'AfstandTotOpenDroogNatTerrein', 'AfstandTotZonnebank', 'AfstandTotBuitenschoolseOpvang', 'AfstandTotApotheek', 'AfstandTotBegraafplaats', 'AfstandTotWarenhuis', 'AfstandTotVerblijfsrecreatiefTerrein', 'AfstandTotSportterrein', 'AfstandTotKunstijsbaan', 'BouwjaarVanaf2000', 'SterfteRelatief', 'AfstandTotAttractie', 'ZwaarBelasteMantelzorgers', 'AfstandTotOpenNatTerreinTotaal', 'Mantelzorger', 'AfstandTotBos', 'InBezitOverigeVerhuurders', 'PersonenautoSPerHuishouden', 'ALandbouwBosbouwEnVisserij', 'GeweldsEnSeksueleMisdrijven', 'InBezitWoningcorporatie', 'AfstandTotBibliotheek', 'GeboorteRelatief', 'AfstandTotOpenNatNatuurlijkTerrein', 'AfstandTotSauna']\n"
     ]
    }
   ],
   "source": [
    "# Fit the Full Model\n",
    "X =  sm.add_constant(X_train)  # Add constant term for the intercept\n",
    "model = sm.OLS(y_train, X_train).fit()  # Fit the MLR model\n",
    "best_model = model  # Initialize the best model\n",
    "selected_features = X_train.columns.tolist()\n",
    "best_features = X_train.columns.tolist()\n",
    "best_features_rmse = np.sqrt(-cross_val_score(LinearRegression(), X_train, y_train, cv=10, scoring='neg_mean_squared_error').mean())\n",
    "\n",
    "# Iteratively remove one feature at a time based on p-values\n",
    "while True:\n",
    "    # Compute p-values\n",
    "    p_values = model.pvalues[1:]  # Exclude the constant term\n",
    "\n",
    "    # Identify Insignificant Features\n",
    "    insignificant_feature = p_values.idxmax()\n",
    "    max_p_value = p_values.max()\n",
    "\n",
    "    # Remove Insignificant Feature\n",
    "    X = X.drop(insignificant_feature, axis=1)\n",
    "    selected_features.remove(insignificant_feature)\n",
    "\n",
    "    # When there a no features left\n",
    "    if len(selected_features) == 0:\n",
    "        break\n",
    "    \n",
    "    # Refit the Model\n",
    "    model = sm.OLS(y_train, X).fit()\n",
    "    \n",
    "    # Evaluate Model Performance\n",
    "    rmse = np.sqrt(-cross_val_score(LinearRegression(), X_train[selected_features], y_train, cv=10, scoring='neg_mean_squared_error').mean())\n",
    "\n",
    "    # Check if the model performs better without the insignificant features\n",
    "    if rmse <= best_features_rmse:\n",
    "        best_features_rmse = rmse\n",
    "        best_features = selected_features.copy()\n",
    "        best_model = model\n",
    "\n",
    "# Save results\n",
    "best_model_mlr = LinearRegression().fit(X_train[best_features], y_train)\n",
    "best_features_mlr = best_features\n",
    "\n",
    "# Show results\n",
    "print(\"Best features:\", best_features)\n",
    "print(\"Dropped features:\", list(set(X_train.columns.tolist()) - set(best_features)))"
   ]
  },
  {
   "attachments": {},
   "cell_type": "markdown",
   "metadata": {},
   "source": [
    "*Er zijn geen hyperparameters om te optimaliseren.*"
   ]
  },
  {
   "attachments": {},
   "cell_type": "markdown",
   "metadata": {},
   "source": [
    "# Support Vector Machines"
   ]
  },
  {
   "attachments": {},
   "cell_type": "markdown",
   "metadata": {},
   "source": [
    "**Hyperparameter optimalisatie**"
   ]
  },
  {
   "cell_type": "code",
   "execution_count": 6,
   "metadata": {},
   "outputs": [
    {
     "name": "stdout",
     "output_type": "stream",
     "text": [
      "|   iter    |  target   |     C     |   gamma   | kernel... |\n",
      "-------------------------------------------------------------\n",
      "| \u001b[0m1        \u001b[0m | \u001b[0m-11.63   \u001b[0m | \u001b[0m7.947    \u001b[0m | \u001b[0m0.03275  \u001b[0m | \u001b[0m3.669    \u001b[0m |\n",
      "| \u001b[0m2        \u001b[0m | \u001b[0m-11.63   \u001b[0m | \u001b[0m4.731    \u001b[0m | \u001b[0m0.05049  \u001b[0m | \u001b[0m3.069    \u001b[0m |\n",
      "| \u001b[95m3        \u001b[0m | \u001b[95m-11.61   \u001b[0m | \u001b[95m1.575    \u001b[0m | \u001b[95m0.06861  \u001b[0m | \u001b[95m2.332    \u001b[0m |\n",
      "| \u001b[0m4        \u001b[0m | \u001b[0m-11.66   \u001b[0m | \u001b[0m8.345    \u001b[0m | \u001b[0m0.03465  \u001b[0m | \u001b[0m1.675    \u001b[0m |\n",
      "| \u001b[95m5        \u001b[0m | \u001b[95m-11.6    \u001b[0m | \u001b[95m9.802    \u001b[0m | \u001b[95m0.01023  \u001b[0m | \u001b[95m3.373    \u001b[0m |\n",
      "| \u001b[0m6        \u001b[0m | \u001b[0m-11.63   \u001b[0m | \u001b[0m1.409    \u001b[0m | \u001b[0m0.04455  \u001b[0m | \u001b[0m3.453    \u001b[0m |\n",
      "| \u001b[0m7        \u001b[0m | \u001b[0m-11.66   \u001b[0m | \u001b[0m9.945    \u001b[0m | \u001b[0m0.05055  \u001b[0m | \u001b[0m1.272    \u001b[0m |\n",
      "| \u001b[0m8        \u001b[0m | \u001b[0m-11.63   \u001b[0m | \u001b[0m4.705    \u001b[0m | \u001b[0m0.04566  \u001b[0m | \u001b[0m3.032    \u001b[0m |\n",
      "| \u001b[0m9        \u001b[0m | \u001b[0m-11.64   \u001b[0m | \u001b[0m1.538    \u001b[0m | \u001b[0m0.05723  \u001b[0m | \u001b[0m1.299    \u001b[0m |\n",
      "| \u001b[0m10       \u001b[0m | \u001b[0m-11.66   \u001b[0m | \u001b[0m5.909    \u001b[0m | \u001b[0m0.04467  \u001b[0m | \u001b[0m1.575    \u001b[0m |\n",
      "| \u001b[0m11       \u001b[0m | \u001b[0m-11.63   \u001b[0m | \u001b[0m9.575    \u001b[0m | \u001b[0m0.03001  \u001b[0m | \u001b[0m3.949    \u001b[0m |\n",
      "| \u001b[0m12       \u001b[0m | \u001b[0m-11.62   \u001b[0m | \u001b[0m10.0     \u001b[0m | \u001b[0m0.001    \u001b[0m | \u001b[0m2.977    \u001b[0m |\n",
      "| \u001b[0m13       \u001b[0m | \u001b[0m-11.65   \u001b[0m | \u001b[0m9.389    \u001b[0m | \u001b[0m0.001    \u001b[0m | \u001b[0m3.153    \u001b[0m |\n",
      "| \u001b[0m14       \u001b[0m | \u001b[0m-11.65   \u001b[0m | \u001b[0m8.278    \u001b[0m | \u001b[0m0.0598   \u001b[0m | \u001b[0m3.035    \u001b[0m |\n",
      "| \u001b[0m15       \u001b[0m | \u001b[0m-11.66   \u001b[0m | \u001b[0m10.0     \u001b[0m | \u001b[0m0.1      \u001b[0m | \u001b[0m3.381    \u001b[0m |\n",
      "| \u001b[0m16       \u001b[0m | \u001b[0m-11.63   \u001b[0m | \u001b[0m8.883    \u001b[0m | \u001b[0m0.01964  \u001b[0m | \u001b[0m3.829    \u001b[0m |\n",
      "| \u001b[0m17       \u001b[0m | \u001b[0m-11.63   \u001b[0m | \u001b[0m9.78     \u001b[0m | \u001b[0m0.02791  \u001b[0m | \u001b[0m3.298    \u001b[0m |\n",
      "| \u001b[0m18       \u001b[0m | \u001b[0m-11.63   \u001b[0m | \u001b[0m3.394    \u001b[0m | \u001b[0m0.05128  \u001b[0m | \u001b[0m3.513    \u001b[0m |\n",
      "| \u001b[0m19       \u001b[0m | \u001b[0m-11.66   \u001b[0m | \u001b[0m7.196    \u001b[0m | \u001b[0m0.01038  \u001b[0m | \u001b[0m1.086    \u001b[0m |\n",
      "| \u001b[0m20       \u001b[0m | \u001b[0m-11.63   \u001b[0m | \u001b[0m9.786    \u001b[0m | \u001b[0m0.04709  \u001b[0m | \u001b[0m3.416    \u001b[0m |\n",
      "| \u001b[0m21       \u001b[0m | \u001b[0m-11.63   \u001b[0m | \u001b[0m9.834    \u001b[0m | \u001b[0m0.04308  \u001b[0m | \u001b[0m3.358    \u001b[0m |\n",
      "| \u001b[0m22       \u001b[0m | \u001b[0m-11.62   \u001b[0m | \u001b[0m1.564    \u001b[0m | \u001b[0m0.09316  \u001b[0m | \u001b[0m2.366    \u001b[0m |\n",
      "| \u001b[0m23       \u001b[0m | \u001b[0m-11.63   \u001b[0m | \u001b[0m8.885    \u001b[0m | \u001b[0m0.03117  \u001b[0m | \u001b[0m3.836    \u001b[0m |\n",
      "| \u001b[0m24       \u001b[0m | \u001b[0m-11.61   \u001b[0m | \u001b[0m1.548    \u001b[0m | \u001b[0m0.04721  \u001b[0m | \u001b[0m2.256    \u001b[0m |\n",
      "| \u001b[0m25       \u001b[0m | \u001b[0m-11.62   \u001b[0m | \u001b[0m1.602    \u001b[0m | \u001b[0m0.1      \u001b[0m | \u001b[0m2.27     \u001b[0m |\n",
      "| \u001b[0m26       \u001b[0m | \u001b[0m-11.65   \u001b[0m | \u001b[0m6.428    \u001b[0m | \u001b[0m0.0883   \u001b[0m | \u001b[0m3.435    \u001b[0m |\n",
      "| \u001b[0m27       \u001b[0m | \u001b[0m-11.64   \u001b[0m | \u001b[0m3.381    \u001b[0m | \u001b[0m0.09461  \u001b[0m | \u001b[0m2.766    \u001b[0m |\n",
      "| \u001b[0m28       \u001b[0m | \u001b[0m-11.63   \u001b[0m | \u001b[0m1.52     \u001b[0m | \u001b[0m0.0294   \u001b[0m | \u001b[0m3.676    \u001b[0m |\n",
      "| \u001b[0m29       \u001b[0m | \u001b[0m-11.63   \u001b[0m | \u001b[0m1.423    \u001b[0m | \u001b[0m0.05468  \u001b[0m | \u001b[0m3.459    \u001b[0m |\n",
      "| \u001b[95m30       \u001b[0m | \u001b[95m-11.6    \u001b[0m | \u001b[95m9.771    \u001b[0m | \u001b[95m0.009545 \u001b[0m | \u001b[95m3.373    \u001b[0m |\n",
      "| \u001b[0m31       \u001b[0m | \u001b[0m-11.62   \u001b[0m | \u001b[0m1.483    \u001b[0m | \u001b[0m0.09897  \u001b[0m | \u001b[0m2.28     \u001b[0m |\n",
      "| \u001b[95m32       \u001b[0m | \u001b[95m-11.6    \u001b[0m | \u001b[95m9.65     \u001b[0m | \u001b[95m0.004182 \u001b[0m | \u001b[95m3.341    \u001b[0m |\n",
      "| \u001b[0m33       \u001b[0m | \u001b[0m-11.63   \u001b[0m | \u001b[0m9.585    \u001b[0m | \u001b[0m0.01916  \u001b[0m | \u001b[0m3.346    \u001b[0m |\n",
      "| \u001b[0m34       \u001b[0m | \u001b[0m-11.63   \u001b[0m | \u001b[0m2.537    \u001b[0m | \u001b[0m0.06632  \u001b[0m | \u001b[0m3.145    \u001b[0m |\n",
      "| \u001b[0m35       \u001b[0m | \u001b[0m-11.66   \u001b[0m | \u001b[0m2.327    \u001b[0m | \u001b[0m0.01725  \u001b[0m | \u001b[0m1.217    \u001b[0m |\n",
      "| \u001b[0m36       \u001b[0m | \u001b[0m-11.6    \u001b[0m | \u001b[0m9.696    \u001b[0m | \u001b[0m0.01032  \u001b[0m | \u001b[0m3.373    \u001b[0m |\n",
      "| \u001b[0m37       \u001b[0m | \u001b[0m-11.64   \u001b[0m | \u001b[0m9.65     \u001b[0m | \u001b[0m0.07404  \u001b[0m | \u001b[0m3.326    \u001b[0m |\n",
      "| \u001b[0m38       \u001b[0m | \u001b[0m-11.63   \u001b[0m | \u001b[0m9.771    \u001b[0m | \u001b[0m0.02418  \u001b[0m | \u001b[0m3.384    \u001b[0m |\n",
      "| \u001b[0m39       \u001b[0m | \u001b[0m-11.63   \u001b[0m | \u001b[0m9.659    \u001b[0m | \u001b[0m0.02862  \u001b[0m | \u001b[0m3.372    \u001b[0m |\n",
      "| \u001b[0m40       \u001b[0m | \u001b[0m-11.62   \u001b[0m | \u001b[0m1.591    \u001b[0m | \u001b[0m0.09071  \u001b[0m | \u001b[0m2.327    \u001b[0m |\n",
      "| \u001b[0m41       \u001b[0m | \u001b[0m-11.61   \u001b[0m | \u001b[0m1.496    \u001b[0m | \u001b[0m0.05984  \u001b[0m | \u001b[0m2.236    \u001b[0m |\n",
      "| \u001b[0m42       \u001b[0m | \u001b[0m-11.61   \u001b[0m | \u001b[0m9.794    \u001b[0m | \u001b[0m0.003075 \u001b[0m | \u001b[0m3.34     \u001b[0m |\n",
      "| \u001b[0m43       \u001b[0m | \u001b[0m-11.6    \u001b[0m | \u001b[0m9.721    \u001b[0m | \u001b[0m0.005016 \u001b[0m | \u001b[0m3.332    \u001b[0m |\n",
      "| \u001b[0m44       \u001b[0m | \u001b[0m-11.62   \u001b[0m | \u001b[0m1.545    \u001b[0m | \u001b[0m0.09487  \u001b[0m | \u001b[0m2.279    \u001b[0m |\n",
      "| \u001b[0m45       \u001b[0m | \u001b[0m-11.63   \u001b[0m | \u001b[0m9.659    \u001b[0m | \u001b[0m0.01793  \u001b[0m | \u001b[0m3.313    \u001b[0m |\n",
      "| \u001b[0m46       \u001b[0m | \u001b[0m-11.61   \u001b[0m | \u001b[0m1.548    \u001b[0m | \u001b[0m0.05141  \u001b[0m | \u001b[0m2.25     \u001b[0m |\n",
      "| \u001b[0m47       \u001b[0m | \u001b[0m-11.65   \u001b[0m | \u001b[0m5.267    \u001b[0m | \u001b[0m0.08114  \u001b[0m | \u001b[0m3.92     \u001b[0m |\n",
      "| \u001b[0m48       \u001b[0m | \u001b[0m-11.63   \u001b[0m | \u001b[0m7.69     \u001b[0m | \u001b[0m0.03319  \u001b[0m | \u001b[0m3.425    \u001b[0m |\n",
      "| \u001b[0m49       \u001b[0m | \u001b[0m-11.61   \u001b[0m | \u001b[0m1.521    \u001b[0m | \u001b[0m0.03282  \u001b[0m | \u001b[0m2.235    \u001b[0m |\n",
      "| \u001b[0m50       \u001b[0m | \u001b[0m-11.63   \u001b[0m | \u001b[0m8.908    \u001b[0m | \u001b[0m0.02983  \u001b[0m | \u001b[0m2.994    \u001b[0m |\n",
      "=============================================================\n"
     ]
    },
    {
     "data": {
      "text/html": [
       "<style>#sk-container-id-1 {color: black;background-color: white;}#sk-container-id-1 pre{padding: 0;}#sk-container-id-1 div.sk-toggleable {background-color: white;}#sk-container-id-1 label.sk-toggleable__label {cursor: pointer;display: block;width: 100%;margin-bottom: 0;padding: 0.3em;box-sizing: border-box;text-align: center;}#sk-container-id-1 label.sk-toggleable__label-arrow:before {content: \"▸\";float: left;margin-right: 0.25em;color: #696969;}#sk-container-id-1 label.sk-toggleable__label-arrow:hover:before {color: black;}#sk-container-id-1 div.sk-estimator:hover label.sk-toggleable__label-arrow:before {color: black;}#sk-container-id-1 div.sk-toggleable__content {max-height: 0;max-width: 0;overflow: hidden;text-align: left;background-color: #f0f8ff;}#sk-container-id-1 div.sk-toggleable__content pre {margin: 0.2em;color: black;border-radius: 0.25em;background-color: #f0f8ff;}#sk-container-id-1 input.sk-toggleable__control:checked~div.sk-toggleable__content {max-height: 200px;max-width: 100%;overflow: auto;}#sk-container-id-1 input.sk-toggleable__control:checked~label.sk-toggleable__label-arrow:before {content: \"▾\";}#sk-container-id-1 div.sk-estimator input.sk-toggleable__control:checked~label.sk-toggleable__label {background-color: #d4ebff;}#sk-container-id-1 div.sk-label input.sk-toggleable__control:checked~label.sk-toggleable__label {background-color: #d4ebff;}#sk-container-id-1 input.sk-hidden--visually {border: 0;clip: rect(1px 1px 1px 1px);clip: rect(1px, 1px, 1px, 1px);height: 1px;margin: -1px;overflow: hidden;padding: 0;position: absolute;width: 1px;}#sk-container-id-1 div.sk-estimator {font-family: monospace;background-color: #f0f8ff;border: 1px dotted black;border-radius: 0.25em;box-sizing: border-box;margin-bottom: 0.5em;}#sk-container-id-1 div.sk-estimator:hover {background-color: #d4ebff;}#sk-container-id-1 div.sk-parallel-item::after {content: \"\";width: 100%;border-bottom: 1px solid gray;flex-grow: 1;}#sk-container-id-1 div.sk-label:hover label.sk-toggleable__label {background-color: #d4ebff;}#sk-container-id-1 div.sk-serial::before {content: \"\";position: absolute;border-left: 1px solid gray;box-sizing: border-box;top: 0;bottom: 0;left: 50%;z-index: 0;}#sk-container-id-1 div.sk-serial {display: flex;flex-direction: column;align-items: center;background-color: white;padding-right: 0.2em;padding-left: 0.2em;position: relative;}#sk-container-id-1 div.sk-item {position: relative;z-index: 1;}#sk-container-id-1 div.sk-parallel {display: flex;align-items: stretch;justify-content: center;background-color: white;position: relative;}#sk-container-id-1 div.sk-item::before, #sk-container-id-1 div.sk-parallel-item::before {content: \"\";position: absolute;border-left: 1px solid gray;box-sizing: border-box;top: 0;bottom: 0;left: 50%;z-index: -1;}#sk-container-id-1 div.sk-parallel-item {display: flex;flex-direction: column;z-index: 1;position: relative;background-color: white;}#sk-container-id-1 div.sk-parallel-item:first-child::after {align-self: flex-end;width: 50%;}#sk-container-id-1 div.sk-parallel-item:last-child::after {align-self: flex-start;width: 50%;}#sk-container-id-1 div.sk-parallel-item:only-child::after {width: 0;}#sk-container-id-1 div.sk-dashed-wrapped {border: 1px dashed gray;margin: 0 0.4em 0.5em 0.4em;box-sizing: border-box;padding-bottom: 0.4em;background-color: white;}#sk-container-id-1 div.sk-label label {font-family: monospace;font-weight: bold;display: inline-block;line-height: 1.2em;}#sk-container-id-1 div.sk-label-container {text-align: center;}#sk-container-id-1 div.sk-container {/* jupyter's `normalize.less` sets `[hidden] { display: none; }` but bootstrap.min.css set `[hidden] { display: none !important; }` so we also need the `!important` here to be able to override the default hidden behavior on the sphinx rendered scikit-learn.org. See: https://github.com/scikit-learn/scikit-learn/issues/21755 */display: inline-block !important;position: relative;}#sk-container-id-1 div.sk-text-repr-fallback {display: none;}</style><div id=\"sk-container-id-1\" class=\"sk-top-container\"><div class=\"sk-text-repr-fallback\"><pre>SVR(C=9.650306259403994, gamma=0.004182316765762341, kernel=&#x27;poly&#x27;)</pre><b>In a Jupyter environment, please rerun this cell to show the HTML representation or trust the notebook. <br />On GitHub, the HTML representation is unable to render, please try loading this page with nbviewer.org.</b></div><div class=\"sk-container\" hidden><div class=\"sk-item\"><div class=\"sk-estimator sk-toggleable\"><input class=\"sk-toggleable__control sk-hidden--visually\" id=\"sk-estimator-id-1\" type=\"checkbox\" checked><label for=\"sk-estimator-id-1\" class=\"sk-toggleable__label sk-toggleable__label-arrow\">SVR</label><div class=\"sk-toggleable__content\"><pre>SVR(C=9.650306259403994, gamma=0.004182316765762341, kernel=&#x27;poly&#x27;)</pre></div></div></div></div></div>"
      ],
      "text/plain": [
       "SVR(C=9.650306259403994, gamma=0.004182316765762341, kernel='poly')"
      ]
     },
     "execution_count": 6,
     "metadata": {},
     "output_type": "execute_result"
    }
   ],
   "source": [
    "def bo_params_generic(model, params, X_train, y_train):\n",
    "    # Create the model instance with the specified parameters\n",
    "    classifier = model(**params)\n",
    "    \n",
    "    # Calculating accuracy based on cross-validation\n",
    "    scores = cross_val_score(classifier, X_train, y_train, cv=10, scoring='neg_mean_squared_error')\n",
    "    return scores.mean()\n",
    "\n",
    "params_ranges = {\n",
    "    'C': (0.1, 10),\n",
    "    'kernel_int': (1, 4),\n",
    "    'gamma': (0.001, 0.1)\n",
    "}\n",
    "\n",
    "kernel_mapping = {\n",
    "    1: 'linear',\n",
    "    2: 'rbf',\n",
    "    3: 'poly',\n",
    "    4: 'sigmoid'\n",
    "}\n",
    "\n",
    "# Example usage with SVM\n",
    "model = SVR\n",
    "model_bo = BayesianOptimization(f=lambda C, kernel_int, gamma:\n",
    "                                    bo_params_generic(model, {\n",
    "                                        'C': C,\n",
    "                                        'kernel': kernel_mapping[int(kernel_int)],\n",
    "                                        'gamma': gamma\n",
    "                                    }, X_train, y_train),\n",
    "                             pbounds=params_ranges)\n",
    "\n",
    "results = model_bo.maximize(n_iter=40, init_points=10)\n",
    "params = model_bo.max['params']\n",
    "\n",
    "# Creating a model with the best hyperparameters\n",
    "best_model_svm = model(\n",
    "    C=params['C'],\n",
    "    kernel=kernel_mapping[int(params['kernel_int'])],\n",
    "    gamma=params['gamma']\n",
    ")\n",
    "\n",
    "# Fit the model\n",
    "best_model_svm.fit(X_train, y_train)\n"
   ]
  },
  {
   "attachments": {},
   "cell_type": "markdown",
   "metadata": {},
   "source": [
    "**Feature Selection**"
   ]
  },
  {
   "cell_type": "code",
   "execution_count": 7,
   "metadata": {},
   "outputs": [
    {
     "name": "stdout",
     "output_type": "stream",
     "text": [
      "Scince the kernal is not linear, this feature selection is not possible\n",
      "Best features: Index(['NederlandseAntillenEnAruba', 'GeboorteRelatief', 'SterfteRelatief',\n",
      "       'GemiddeldeWoningwaarde', 'PercentageOnbewoond',\n",
      "       'InBezitWoningcorporatie', 'InBezitOverigeVerhuurders',\n",
      "       'EigendomOnbekend', 'BouwjaarVanaf2000', 'kPersonenMetLaagsteInkomen',\n",
      "       'ALandbouwBosbouwEnVisserij', 'KLFinancieleDienstenOnroerendGoed',\n",
      "       'PersonenautoSOverigeBrandstof', 'PersonenautoSPerHuishouden',\n",
      "       'PersonenautoSNaarOppervlakte', 'AfstandTotHuisartsenpraktijk',\n",
      "       'AfstandTotKinderdagverblijf', 'AfstandTotSchool', 'OppervlakteWater',\n",
      "       'TotaalDiefstalUitWoningSchuurED',\n",
      "       'VernielingMisdrijfTegenOpenbareOrde', 'GeweldsEnSeksueleMisdrijven',\n",
      "       'AfstandTotHuisartsenpost', 'AfstandTotApotheek',\n",
      "       'AfstandTotConsultatiebureau', 'AfstandTotOvDagelLevensmiddelen',\n",
      "       'AfstandTotWarenhuis', 'AfstandTotCafeED', 'AfstandTotCafetariaED',\n",
      "       'AfstandTotRestaurant', 'AfstandTotHotelED',\n",
      "       'AfstandTotBuitenschoolseOpvang', 'AfstandTotOpenbaarGroenTotaal',\n",
      "       'AfstandTotDagrecreatiefTerrein', 'AfstandTotBos',\n",
      "       'AfstandTotOpenNatTerreinTotaal', 'AfstandTotOpenDroogNatTerrein',\n",
      "       'AfstandTotOpenNatNatuurlijkTerrein',\n",
      "       'AfstandTotSemiOpenbaarGroenTotaal', 'AfstandTotSportterrein',\n",
      "       'AfstandTotVolkstuin', 'AfstandTotVerblijfsrecreatiefTerrein',\n",
      "       'AfstandTotBegraafplaats', 'AfstandTotTreinstationsTotaal',\n",
      "       'AfstandTotBelangrijkOverstapstation', 'AfstandTotBibliotheek',\n",
      "       'AfstandTotZwembad', 'AfstandTotKunstijsbaan', 'AfstandTotMuseum',\n",
      "       'AfstandTotPodiumkunstenTotaal', 'AfstandTotPoppodium',\n",
      "       'AfstandTotBioscoop', 'AfstandTotSauna', 'AfstandTotZonnebank',\n",
      "       'AfstandTotAttractie', 'AfstandTotBrandweerkazerne',\n",
      "       'ErvarenGezondheidGoedZeerGoed', 'EenOfMeerLangdurigeAandoeningen',\n",
      "       'BeperkingInHoren', 'BeperkingInZien', 'Ondergewicht',\n",
      "       'MatigOvergewicht', 'ErnstigOvergewichtObesitas',\n",
      "       'VoldoetAanBeweegrichtlijn', 'Mantelzorger',\n",
      "       'ZwaarBelasteMantelzorgers', 'UrenMantelzorgPerWeek', 'Rokers',\n",
      "       'VoldoetAanRichtlijnAlcoholgebruik', 'OvermatigDrinker'],\n",
      "      dtype='object')\n",
      "Dropped features: []\n"
     ]
    }
   ],
   "source": [
    "# Get the accuracy score of the model with all features\n",
    "best_accuracy = cross_val_score(best_model_svm, X_train, y_train, cv=10, scoring='neg_mean_squared_error', n_jobs=-1).mean()\n",
    "best_model = best_model_svm\n",
    "selected_features = X_train.columns\n",
    "best_features = selected_features\n",
    "\n",
    "while len(selected_features) > 1:\n",
    "    try:\n",
    "        # Retrieve the coefficients from the SVM model\n",
    "        coefficients = best_model_svm.coef_[0]\n",
    "\n",
    "        # Sort features based on their coefficient magnitudes\n",
    "        sorted_indices = np.argsort(np.abs(coefficients))\n",
    "        selected_features = [X_train.columns[i] for i in sorted_indices[::-1]]\n",
    "\n",
    "        # Remove the least important feature\n",
    "        selected_features = selected_features[:-1]\n",
    "        \n",
    "        # Refit the linear SVM classifier\n",
    "        best_model_svm_classification.fit(X_train[selected_features], y_train)\n",
    "        \n",
    "        # Evaluate Model Performance\n",
    "        accuracy = cross_val_score(best_model_svm, X_train[selected_features], y_train, cv=10, scoring='neg_mean_squared_error', n_jobs=-1).mean()\n",
    "\n",
    "        # Check if the model performs better without the insignificant features\n",
    "        if accuracy >= best_accuracy:\n",
    "            best_accuracy = accuracy\n",
    "            best_features = selected_features.copy()\n",
    "            best_model = best_model_svm\n",
    "    except:\n",
    "        print(\"Scince the kernal is not linear, this feature selection is not possible\") \n",
    "        break\n",
    "\n",
    "# Save results\n",
    "best_model_svm = best_model\n",
    "best_features_svm = best_features\n",
    "\n",
    "# Show results\n",
    "print(\"Best features:\", best_features_svm)\n",
    "print(\"Dropped features:\", list(set(X_train.columns.tolist()) - set(best_features_svm)))"
   ]
  },
  {
   "attachments": {},
   "cell_type": "markdown",
   "metadata": {},
   "source": [
    "# Random Forest"
   ]
  },
  {
   "attachments": {},
   "cell_type": "markdown",
   "metadata": {},
   "source": [
    "**Feature selection**"
   ]
  },
  {
   "cell_type": "code",
   "execution_count": 8,
   "metadata": {},
   "outputs": [
    {
     "name": "stdout",
     "output_type": "stream",
     "text": [
      "Best features: ['AfstandTotTreinstationsTotaal', 'AfstandTotZonnebank']\n",
      "Dropped features: ['AfstandTotCafetariaED', 'VoldoetAanBeweegrichtlijn', 'OppervlakteWater', 'AfstandTotCafeED', 'GemiddeldeWoningwaarde', 'EenOfMeerLangdurigeAandoeningen', 'KLFinancieleDienstenOnroerendGoed', 'Ondergewicht', 'AfstandTotSemiOpenbaarGroenTotaal', 'PersonenautoSNaarOppervlakte', 'AfstandTotKinderdagverblijf', 'AfstandTotPodiumkunstenTotaal', 'AfstandTotHuisartsenpost', 'AfstandTotPoppodium', 'AfstandTotSchool', 'AfstandTotOvDagelLevensmiddelen', 'AfstandTotOpenbaarGroenTotaal', 'AfstandTotMuseum', 'MatigOvergewicht', 'EigendomOnbekend', 'AfstandTotVolkstuin', 'PersonenautoSOverigeBrandstof', 'AfstandTotZwembad', 'AfstandTotBrandweerkazerne', 'NederlandseAntillenEnAruba', 'VernielingMisdrijfTegenOpenbareOrde', 'AfstandTotBelangrijkOverstapstation', 'AfstandTotRestaurant', 'AfstandTotHuisartsenpraktijk', 'ErvarenGezondheidGoedZeerGoed', 'AfstandTotConsultatiebureau', 'AfstandTotDagrecreatiefTerrein', 'PercentageOnbewoond', 'UrenMantelzorgPerWeek', 'kPersonenMetLaagsteInkomen', 'AfstandTotHotelED', 'TotaalDiefstalUitWoningSchuurED', 'VoldoetAanRichtlijnAlcoholgebruik', 'BeperkingInHoren', 'AfstandTotBioscoop', 'ErnstigOvergewichtObesitas', 'Rokers', 'BeperkingInZien', 'OvermatigDrinker', 'AfstandTotOpenDroogNatTerrein', 'AfstandTotBuitenschoolseOpvang', 'AfstandTotApotheek', 'AfstandTotBegraafplaats', 'AfstandTotWarenhuis', 'AfstandTotVerblijfsrecreatiefTerrein', 'AfstandTotSportterrein', 'AfstandTotKunstijsbaan', 'BouwjaarVanaf2000', 'SterfteRelatief', 'AfstandTotAttractie', 'ZwaarBelasteMantelzorgers', 'AfstandTotOpenNatTerreinTotaal', 'Mantelzorger', 'AfstandTotBos', 'InBezitOverigeVerhuurders', 'PersonenautoSPerHuishouden', 'ALandbouwBosbouwEnVisserij', 'GeweldsEnSeksueleMisdrijven', 'InBezitWoningcorporatie', 'AfstandTotBibliotheek', 'GeboorteRelatief', 'AfstandTotOpenNatNatuurlijkTerrein', 'AfstandTotSauna']\n"
     ]
    }
   ],
   "source": [
    "# Get the accuracy score of the model with all the features\n",
    "rf = RandomForestRegressor(n_estimators=100, random_state=0).fit(X_train, y_train)\n",
    "best_rf = rf\n",
    "selected_features = X_train.columns.tolist()\n",
    "best_features = selected_features\n",
    "best_features_accuracy = cross_val_score(RandomForestRegressor(n_estimators=100, random_state=0), X_train, y_train, cv=10, scoring='neg_mean_squared_error', n_jobs=-1).mean()\n",
    "\n",
    "while True:\n",
    "    # Make DataFrame of feature impotances\n",
    "    result = permutation_importance(\n",
    "            rf, X_train[selected_features], y_train, n_repeats=10, random_state=42, n_jobs=-1\n",
    "        )\n",
    "    df_importances = pd.DataFrame({'feature': X_train[selected_features].columns, 'importance': result.importances_mean, 'std': result.importances_std})\n",
    "    df_importances = df_importances.sort_values('importance')\n",
    "\n",
    "    # Remove least important feature\n",
    "    selected_features.remove(df_importances['feature'].iloc[0])\n",
    "\n",
    "    # When there are no features left\n",
    "    if len(selected_features) == 0:\n",
    "        break\n",
    "    \n",
    "    # Refit the Model\n",
    "    rf = RandomForestRegressor(n_estimators=100, random_state=0).fit(X_train[selected_features], y_train)\n",
    "\n",
    "    # Evaluate Model Performance\n",
    "    accuracy = cross_val_score(RandomForestRegressor(n_estimators=100, random_state=0), X_train[selected_features], y_train, cv=10, scoring='neg_mean_squared_error', n_jobs=-1).mean()\n",
    "\n",
    "    # Check if the model performs better without the insignificant features\n",
    "    if accuracy >= best_features_accuracy:\n",
    "        best_features_accuracy = accuracy\n",
    "        best_features = selected_features.copy()\n",
    "        best_model = rf\n",
    "\n",
    "# Save results\n",
    "best_model_rf = best_model\n",
    "best_features_rf = best_features\n",
    "\n",
    "# Show results\n",
    "print(\"Best features:\", best_features_rf)\n",
    "print(\"Dropped features:\", list(set(X_train.columns.tolist()) - set(best_features_rf)))"
   ]
  },
  {
   "attachments": {},
   "cell_type": "markdown",
   "metadata": {},
   "source": [
    "**Hyperparameter optimalisatie**"
   ]
  },
  {
   "cell_type": "code",
   "execution_count": 9,
   "metadata": {},
   "outputs": [
    {
     "name": "stdout",
     "output_type": "stream",
     "text": [
      "|   iter    |  target   | max_depth | max_fe... | min_sa... | n_esti... |\n",
      "-------------------------------------------------------------------------\n"
     ]
    },
    {
     "name": "stdout",
     "output_type": "stream",
     "text": [
      "| \u001b[0m1        \u001b[0m | \u001b[0m-11.45   \u001b[0m | \u001b[0m6.495    \u001b[0m | \u001b[0m0.4076   \u001b[0m | \u001b[0m7.755    \u001b[0m | \u001b[0m310.2    \u001b[0m |\n",
      "| \u001b[95m2        \u001b[0m | \u001b[95m-11.44   \u001b[0m | \u001b[95m16.28    \u001b[0m | \u001b[95m0.8118   \u001b[0m | \u001b[95m3.481    \u001b[0m | \u001b[95m393.2    \u001b[0m |\n",
      "| \u001b[95m3        \u001b[0m | \u001b[95m-11.44   \u001b[0m | \u001b[95m15.67    \u001b[0m | \u001b[95m0.4153   \u001b[0m | \u001b[95m5.503    \u001b[0m | \u001b[95m774.8    \u001b[0m |\n",
      "| \u001b[95m4        \u001b[0m | \u001b[95m-11.44   \u001b[0m | \u001b[95m18.62    \u001b[0m | \u001b[95m0.3349   \u001b[0m | \u001b[95m11.15    \u001b[0m | \u001b[95m878.5    \u001b[0m |\n",
      "| \u001b[95m5        \u001b[0m | \u001b[95m-11.44   \u001b[0m | \u001b[95m17.11    \u001b[0m | \u001b[95m0.4591   \u001b[0m | \u001b[95m5.302    \u001b[0m | \u001b[95m952.3    \u001b[0m |\n",
      "| \u001b[0m6        \u001b[0m | \u001b[0m-11.49   \u001b[0m | \u001b[0m2.679    \u001b[0m | \u001b[0m0.5015   \u001b[0m | \u001b[0m8.054    \u001b[0m | \u001b[0m434.7    \u001b[0m |\n",
      "| \u001b[0m7        \u001b[0m | \u001b[0m-11.44   \u001b[0m | \u001b[0m16.14    \u001b[0m | \u001b[0m0.8167   \u001b[0m | \u001b[0m8.266    \u001b[0m | \u001b[0m312.5    \u001b[0m |\n",
      "| \u001b[0m8        \u001b[0m | \u001b[0m-11.44   \u001b[0m | \u001b[0m18.05    \u001b[0m | \u001b[0m0.5575   \u001b[0m | \u001b[0m10.09    \u001b[0m | \u001b[0m278.5    \u001b[0m |\n",
      "| \u001b[0m9        \u001b[0m | \u001b[0m-11.45   \u001b[0m | \u001b[0m4.7      \u001b[0m | \u001b[0m0.8214   \u001b[0m | \u001b[0m6.348    \u001b[0m | \u001b[0m820.4    \u001b[0m |\n",
      "| \u001b[0m10       \u001b[0m | \u001b[0m-11.47   \u001b[0m | \u001b[0m4.308    \u001b[0m | \u001b[0m0.2356   \u001b[0m | \u001b[0m3.392    \u001b[0m | \u001b[0m512.5    \u001b[0m |\n",
      "| \u001b[0m11       \u001b[0m | \u001b[0m-11.44   \u001b[0m | \u001b[0m20.0     \u001b[0m | \u001b[0m1.0      \u001b[0m | \u001b[0m4.075    \u001b[0m | \u001b[0m357.6    \u001b[0m |\n",
      "| \u001b[0m12       \u001b[0m | \u001b[0m-11.44   \u001b[0m | \u001b[0m19.75    \u001b[0m | \u001b[0m0.6902   \u001b[0m | \u001b[0m9.454    \u001b[0m | \u001b[0m724.9    \u001b[0m |\n",
      "| \u001b[95m13       \u001b[0m | \u001b[95m-11.4    \u001b[0m | \u001b[95m1.0      \u001b[0m | \u001b[95m0.3553   \u001b[0m | \u001b[95m8.743    \u001b[0m | \u001b[95m1e+03    \u001b[0m |\n",
      "| \u001b[0m14       \u001b[0m | \u001b[0m-11.44   \u001b[0m | \u001b[0m18.22    \u001b[0m | \u001b[0m0.1858   \u001b[0m | \u001b[0m8.474    \u001b[0m | \u001b[0m482.6    \u001b[0m |\n",
      "| \u001b[0m15       \u001b[0m | \u001b[0m-11.44   \u001b[0m | \u001b[0m10.43    \u001b[0m | \u001b[0m0.4786   \u001b[0m | \u001b[0m10.22    \u001b[0m | \u001b[0m811.8    \u001b[0m |\n",
      "| \u001b[0m16       \u001b[0m | \u001b[0m-11.44   \u001b[0m | \u001b[0m16.07    \u001b[0m | \u001b[0m0.2402   \u001b[0m | \u001b[0m2.699    \u001b[0m | \u001b[0m270.9    \u001b[0m |\n",
      "| \u001b[0m17       \u001b[0m | \u001b[0m-11.44   \u001b[0m | \u001b[0m15.87    \u001b[0m | \u001b[0m0.7107   \u001b[0m | \u001b[0m9.72     \u001b[0m | \u001b[0m675.9    \u001b[0m |\n",
      "| \u001b[0m18       \u001b[0m | \u001b[0m-11.44   \u001b[0m | \u001b[0m14.03    \u001b[0m | \u001b[0m0.6761   \u001b[0m | \u001b[0m8.604    \u001b[0m | \u001b[0m256.7    \u001b[0m |\n",
      "| \u001b[0m19       \u001b[0m | \u001b[0m-11.44   \u001b[0m | \u001b[0m14.05    \u001b[0m | \u001b[0m0.6851   \u001b[0m | \u001b[0m11.39    \u001b[0m | \u001b[0m232.7    \u001b[0m |\n",
      "| \u001b[0m20       \u001b[0m | \u001b[0m-11.44   \u001b[0m | \u001b[0m15.96    \u001b[0m | \u001b[0m0.5123   \u001b[0m | \u001b[0m9.915    \u001b[0m | \u001b[0m1e+03    \u001b[0m |\n",
      "| \u001b[0m21       \u001b[0m | \u001b[0m-11.44   \u001b[0m | \u001b[0m10.73    \u001b[0m | \u001b[0m0.7061   \u001b[0m | \u001b[0m2.697    \u001b[0m | \u001b[0m696.4    \u001b[0m |\n",
      "| \u001b[95m22       \u001b[0m | \u001b[95m-11.4    \u001b[0m | \u001b[95m1.404    \u001b[0m | \u001b[95m0.66     \u001b[0m | \u001b[95m9.787    \u001b[0m | \u001b[95m995.6    \u001b[0m |\n",
      "| \u001b[95m23       \u001b[0m | \u001b[95m-11.4    \u001b[0m | \u001b[95m1.0      \u001b[0m | \u001b[95m0.1      \u001b[0m | \u001b[95m2.0      \u001b[0m | \u001b[95m994.8    \u001b[0m |\n",
      "| \u001b[0m24       \u001b[0m | \u001b[0m-11.4    \u001b[0m | \u001b[0m1.226    \u001b[0m | \u001b[0m0.2249   \u001b[0m | \u001b[0m4.092    \u001b[0m | \u001b[0m976.1    \u001b[0m |\n",
      "| \u001b[0m25       \u001b[0m | \u001b[0m-11.48   \u001b[0m | \u001b[0m2.879    \u001b[0m | \u001b[0m0.5976   \u001b[0m | \u001b[0m4.684    \u001b[0m | \u001b[0m100.1    \u001b[0m |\n",
      "| \u001b[0m26       \u001b[0m | \u001b[0m-11.4    \u001b[0m | \u001b[0m1.092    \u001b[0m | \u001b[0m0.8589   \u001b[0m | \u001b[0m2.751    \u001b[0m | \u001b[0m608.6    \u001b[0m |\n",
      "| \u001b[0m27       \u001b[0m | \u001b[0m-11.44   \u001b[0m | \u001b[0m20.0     \u001b[0m | \u001b[0m0.1      \u001b[0m | \u001b[0m12.0     \u001b[0m | \u001b[0m595.9    \u001b[0m |\n",
      "| \u001b[0m28       \u001b[0m | \u001b[0m-11.43   \u001b[0m | \u001b[0m1.0      \u001b[0m | \u001b[0m1.0      \u001b[0m | \u001b[0m2.0      \u001b[0m | \u001b[0m629.2    \u001b[0m |\n",
      "| \u001b[0m29       \u001b[0m | \u001b[0m-11.4    \u001b[0m | \u001b[0m1.498    \u001b[0m | \u001b[0m0.3308   \u001b[0m | \u001b[0m2.38     \u001b[0m | \u001b[0m590.2    \u001b[0m |\n",
      "| \u001b[0m30       \u001b[0m | \u001b[0m-11.43   \u001b[0m | \u001b[0m1.0      \u001b[0m | \u001b[0m1.0      \u001b[0m | \u001b[0m2.0      \u001b[0m | \u001b[0m567.1    \u001b[0m |\n",
      "| \u001b[0m31       \u001b[0m | \u001b[0m-11.43   \u001b[0m | \u001b[0m1.0      \u001b[0m | \u001b[0m1.0      \u001b[0m | \u001b[0m12.0     \u001b[0m | \u001b[0m599.8    \u001b[0m |\n",
      "| \u001b[0m32       \u001b[0m | \u001b[0m-11.4    \u001b[0m | \u001b[0m1.0      \u001b[0m | \u001b[0m0.1      \u001b[0m | \u001b[0m12.0     \u001b[0m | \u001b[0m980.5    \u001b[0m |\n",
      "| \u001b[0m33       \u001b[0m | \u001b[0m-11.44   \u001b[0m | \u001b[0m19.15    \u001b[0m | \u001b[0m0.9985   \u001b[0m | \u001b[0m2.012    \u001b[0m | \u001b[0m177.7    \u001b[0m |\n",
      "| \u001b[0m34       \u001b[0m | \u001b[0m-11.43   \u001b[0m | \u001b[0m1.0      \u001b[0m | \u001b[0m1.0      \u001b[0m | \u001b[0m2.0      \u001b[0m | \u001b[0m913.4    \u001b[0m |\n",
      "| \u001b[0m35       \u001b[0m | \u001b[0m-11.44   \u001b[0m | \u001b[0m15.17    \u001b[0m | \u001b[0m0.6428   \u001b[0m | \u001b[0m2.289    \u001b[0m | \u001b[0m616.4    \u001b[0m |\n",
      "| \u001b[0m36       \u001b[0m | \u001b[0m-11.4    \u001b[0m | \u001b[0m1.174    \u001b[0m | \u001b[0m0.7876   \u001b[0m | \u001b[0m11.18    \u001b[0m | \u001b[0m964.5    \u001b[0m |\n",
      "| \u001b[0m37       \u001b[0m | \u001b[0m-11.44   \u001b[0m | \u001b[0m9.159    \u001b[0m | \u001b[0m0.3953   \u001b[0m | \u001b[0m11.25    \u001b[0m | \u001b[0m970.8    \u001b[0m |\n",
      "| \u001b[0m38       \u001b[0m | \u001b[0m-11.43   \u001b[0m | \u001b[0m1.0      \u001b[0m | \u001b[0m1.0      \u001b[0m | \u001b[0m2.0      \u001b[0m | \u001b[0m959.9    \u001b[0m |\n",
      "| \u001b[0m39       \u001b[0m | \u001b[0m-11.49   \u001b[0m | \u001b[0m2.662    \u001b[0m | \u001b[0m0.6226   \u001b[0m | \u001b[0m3.172    \u001b[0m | \u001b[0m986.2    \u001b[0m |\n",
      "| \u001b[0m40       \u001b[0m | \u001b[0m-11.49   \u001b[0m | \u001b[0m2.952    \u001b[0m | \u001b[0m0.4774   \u001b[0m | \u001b[0m6.053    \u001b[0m | \u001b[0m998.0    \u001b[0m |\n",
      "| \u001b[0m41       \u001b[0m | \u001b[0m-11.45   \u001b[0m | \u001b[0m7.469    \u001b[0m | \u001b[0m0.9396   \u001b[0m | \u001b[0m3.239    \u001b[0m | \u001b[0m866.6    \u001b[0m |\n",
      "| \u001b[0m42       \u001b[0m | \u001b[0m-11.44   \u001b[0m | \u001b[0m17.38    \u001b[0m | \u001b[0m0.5712   \u001b[0m | \u001b[0m3.548    \u001b[0m | \u001b[0m322.6    \u001b[0m |\n",
      "| \u001b[0m43       \u001b[0m | \u001b[0m-11.44   \u001b[0m | \u001b[0m15.94    \u001b[0m | \u001b[0m0.411    \u001b[0m | \u001b[0m4.74     \u001b[0m | \u001b[0m685.2    \u001b[0m |\n",
      "| \u001b[0m44       \u001b[0m | \u001b[0m-11.44   \u001b[0m | \u001b[0m12.61    \u001b[0m | \u001b[0m0.3779   \u001b[0m | \u001b[0m8.001    \u001b[0m | \u001b[0m457.7    \u001b[0m |\n",
      "| \u001b[0m45       \u001b[0m | \u001b[0m-11.44   \u001b[0m | \u001b[0m2.42     \u001b[0m | \u001b[0m0.9183   \u001b[0m | \u001b[0m2.994    \u001b[0m | \u001b[0m444.7    \u001b[0m |\n",
      "| \u001b[0m46       \u001b[0m | \u001b[0m-11.46   \u001b[0m | \u001b[0m5.163    \u001b[0m | \u001b[0m0.4718   \u001b[0m | \u001b[0m8.088    \u001b[0m | \u001b[0m623.6    \u001b[0m |\n",
      "| \u001b[0m47       \u001b[0m | \u001b[0m-11.45   \u001b[0m | \u001b[0m7.096    \u001b[0m | \u001b[0m0.8355   \u001b[0m | \u001b[0m11.69    \u001b[0m | \u001b[0m298.1    \u001b[0m |\n",
      "| \u001b[0m48       \u001b[0m | \u001b[0m-11.44   \u001b[0m | \u001b[0m14.85    \u001b[0m | \u001b[0m0.4427   \u001b[0m | \u001b[0m8.058    \u001b[0m | \u001b[0m734.7    \u001b[0m |\n",
      "| \u001b[0m49       \u001b[0m | \u001b[0m-11.44   \u001b[0m | \u001b[0m13.59    \u001b[0m | \u001b[0m0.4453   \u001b[0m | \u001b[0m2.663    \u001b[0m | \u001b[0m721.8    \u001b[0m |\n",
      "| \u001b[0m50       \u001b[0m | \u001b[0m-11.47   \u001b[0m | \u001b[0m3.903    \u001b[0m | \u001b[0m0.4046   \u001b[0m | \u001b[0m5.622    \u001b[0m | \u001b[0m437.9    \u001b[0m |\n",
      "=========================================================================\n"
     ]
    },
    {
     "data": {
      "text/html": [
       "<style>#sk-container-id-2 {color: black;background-color: white;}#sk-container-id-2 pre{padding: 0;}#sk-container-id-2 div.sk-toggleable {background-color: white;}#sk-container-id-2 label.sk-toggleable__label {cursor: pointer;display: block;width: 100%;margin-bottom: 0;padding: 0.3em;box-sizing: border-box;text-align: center;}#sk-container-id-2 label.sk-toggleable__label-arrow:before {content: \"▸\";float: left;margin-right: 0.25em;color: #696969;}#sk-container-id-2 label.sk-toggleable__label-arrow:hover:before {color: black;}#sk-container-id-2 div.sk-estimator:hover label.sk-toggleable__label-arrow:before {color: black;}#sk-container-id-2 div.sk-toggleable__content {max-height: 0;max-width: 0;overflow: hidden;text-align: left;background-color: #f0f8ff;}#sk-container-id-2 div.sk-toggleable__content pre {margin: 0.2em;color: black;border-radius: 0.25em;background-color: #f0f8ff;}#sk-container-id-2 input.sk-toggleable__control:checked~div.sk-toggleable__content {max-height: 200px;max-width: 100%;overflow: auto;}#sk-container-id-2 input.sk-toggleable__control:checked~label.sk-toggleable__label-arrow:before {content: \"▾\";}#sk-container-id-2 div.sk-estimator input.sk-toggleable__control:checked~label.sk-toggleable__label {background-color: #d4ebff;}#sk-container-id-2 div.sk-label input.sk-toggleable__control:checked~label.sk-toggleable__label {background-color: #d4ebff;}#sk-container-id-2 input.sk-hidden--visually {border: 0;clip: rect(1px 1px 1px 1px);clip: rect(1px, 1px, 1px, 1px);height: 1px;margin: -1px;overflow: hidden;padding: 0;position: absolute;width: 1px;}#sk-container-id-2 div.sk-estimator {font-family: monospace;background-color: #f0f8ff;border: 1px dotted black;border-radius: 0.25em;box-sizing: border-box;margin-bottom: 0.5em;}#sk-container-id-2 div.sk-estimator:hover {background-color: #d4ebff;}#sk-container-id-2 div.sk-parallel-item::after {content: \"\";width: 100%;border-bottom: 1px solid gray;flex-grow: 1;}#sk-container-id-2 div.sk-label:hover label.sk-toggleable__label {background-color: #d4ebff;}#sk-container-id-2 div.sk-serial::before {content: \"\";position: absolute;border-left: 1px solid gray;box-sizing: border-box;top: 0;bottom: 0;left: 50%;z-index: 0;}#sk-container-id-2 div.sk-serial {display: flex;flex-direction: column;align-items: center;background-color: white;padding-right: 0.2em;padding-left: 0.2em;position: relative;}#sk-container-id-2 div.sk-item {position: relative;z-index: 1;}#sk-container-id-2 div.sk-parallel {display: flex;align-items: stretch;justify-content: center;background-color: white;position: relative;}#sk-container-id-2 div.sk-item::before, #sk-container-id-2 div.sk-parallel-item::before {content: \"\";position: absolute;border-left: 1px solid gray;box-sizing: border-box;top: 0;bottom: 0;left: 50%;z-index: -1;}#sk-container-id-2 div.sk-parallel-item {display: flex;flex-direction: column;z-index: 1;position: relative;background-color: white;}#sk-container-id-2 div.sk-parallel-item:first-child::after {align-self: flex-end;width: 50%;}#sk-container-id-2 div.sk-parallel-item:last-child::after {align-self: flex-start;width: 50%;}#sk-container-id-2 div.sk-parallel-item:only-child::after {width: 0;}#sk-container-id-2 div.sk-dashed-wrapped {border: 1px dashed gray;margin: 0 0.4em 0.5em 0.4em;box-sizing: border-box;padding-bottom: 0.4em;background-color: white;}#sk-container-id-2 div.sk-label label {font-family: monospace;font-weight: bold;display: inline-block;line-height: 1.2em;}#sk-container-id-2 div.sk-label-container {text-align: center;}#sk-container-id-2 div.sk-container {/* jupyter's `normalize.less` sets `[hidden] { display: none; }` but bootstrap.min.css set `[hidden] { display: none !important; }` so we also need the `!important` here to be able to override the default hidden behavior on the sphinx rendered scikit-learn.org. See: https://github.com/scikit-learn/scikit-learn/issues/21755 */display: inline-block !important;position: relative;}#sk-container-id-2 div.sk-text-repr-fallback {display: none;}</style><div id=\"sk-container-id-2\" class=\"sk-top-container\"><div class=\"sk-text-repr-fallback\"><pre>RandomForestRegressor(bootstrap=False, max_depth=1, max_features=0.1,\n",
       "                      n_estimators=995)</pre><b>In a Jupyter environment, please rerun this cell to show the HTML representation or trust the notebook. <br />On GitHub, the HTML representation is unable to render, please try loading this page with nbviewer.org.</b></div><div class=\"sk-container\" hidden><div class=\"sk-item\"><div class=\"sk-estimator sk-toggleable\"><input class=\"sk-toggleable__control sk-hidden--visually\" id=\"sk-estimator-id-2\" type=\"checkbox\" checked><label for=\"sk-estimator-id-2\" class=\"sk-toggleable__label sk-toggleable__label-arrow\">RandomForestRegressor</label><div class=\"sk-toggleable__content\"><pre>RandomForestRegressor(bootstrap=False, max_depth=1, max_features=0.1,\n",
       "                      n_estimators=995)</pre></div></div></div></div></div>"
      ],
      "text/plain": [
       "RandomForestRegressor(bootstrap=False, max_depth=1, max_features=0.1,\n",
       "                      n_estimators=995)"
      ]
     },
     "execution_count": 9,
     "metadata": {},
     "output_type": "execute_result"
    }
   ],
   "source": [
    "def bo_params_rf(min_samples_split,max_depth,max_features,n_estimators):\n",
    "    \n",
    "    params = {\n",
    "        'min_samples_split': round(min_samples_split),\n",
    "        'max_depth': round(max_depth),\n",
    "        'max_features': max_features,\n",
    "        'n_estimators':round(n_estimators)\n",
    "    }    \n",
    "        \n",
    "    clf = RandomForestRegressor(min_samples_split=int(params['min_samples_split']), \n",
    "                                 max_depth=int(params['max_depth']), \n",
    "                                 max_features=params['max_features'],\n",
    "                                 n_estimators=int(params['n_estimators']), \n",
    "                                 bootstrap=False,\n",
    "                                 n_jobs = -1)\n",
    "    return cross_val_score(clf, X_train[best_features_rf], y_train, cv=10, scoring='neg_mean_squared_error', n_jobs=-1).mean()\n",
    "\n",
    "# Create Bayesian Optimization\n",
    "rf_bo = BayesianOptimization(f=bo_params_rf, pbounds={\n",
    "    'n_estimators': (100, 1000),\n",
    "    'max_depth': (1, 20),\n",
    "    'max_features': (0.1, 1),\n",
    "    'min_samples_split': (2, 12)\n",
    "})\n",
    "\n",
    "# Bayesian optimization\n",
    "results = rf_bo.maximize(n_iter=40, init_points=10)\n",
    "\n",
    "# Getting best hyperparameters from bayesian optimization\n",
    "params = rf_bo.max['params']\n",
    "params['n_estimators']= round(params['n_estimators'])\n",
    "params['min_samples_split']= round(params['min_samples_split'])\n",
    "params['max_depth']= round(params['max_depth'])\n",
    "\n",
    "# Making random forest model with the best hyperparameters\n",
    "# criterion entropy is after the hyperparameter optimization since it's more accurate but increases training time\n",
    "best_model_rf_classification = RandomForestRegressor(min_samples_split=params['min_samples_split'],\n",
    "                                                max_depth=params['max_depth'],\n",
    "                                                max_features=params['max_features'],\n",
    "                                                n_estimators=params['n_estimators'],\n",
    "                                                bootstrap=False)\n",
    "\n",
    "best_model_rf_classification.fit(X_train[best_features_rf], y_train)"
   ]
  },
  {
   "attachments": {},
   "cell_type": "markdown",
   "metadata": {},
   "source": [
    "# neural network"
   ]
  },
  {
   "attachments": {},
   "cell_type": "markdown",
   "metadata": {},
   "source": [
    "**Feature selection**"
   ]
  },
  {
   "cell_type": "code",
   "execution_count": 10,
   "metadata": {},
   "outputs": [
    {
     "name": "stdout",
     "output_type": "stream",
     "text": [
      "Best features: ['AfstandTotCafetariaED']\n",
      "Dropped features: ['VoldoetAanBeweegrichtlijn', 'OppervlakteWater', 'AfstandTotCafeED', 'GemiddeldeWoningwaarde', 'EenOfMeerLangdurigeAandoeningen', 'KLFinancieleDienstenOnroerendGoed', 'Ondergewicht', 'AfstandTotSemiOpenbaarGroenTotaal', 'PersonenautoSNaarOppervlakte', 'AfstandTotKinderdagverblijf', 'AfstandTotPodiumkunstenTotaal', 'AfstandTotHuisartsenpost', 'AfstandTotPoppodium', 'AfstandTotSchool', 'AfstandTotOvDagelLevensmiddelen', 'AfstandTotOpenbaarGroenTotaal', 'AfstandTotMuseum', 'MatigOvergewicht', 'EigendomOnbekend', 'AfstandTotVolkstuin', 'PersonenautoSOverigeBrandstof', 'AfstandTotZwembad', 'AfstandTotBrandweerkazerne', 'NederlandseAntillenEnAruba', 'VernielingMisdrijfTegenOpenbareOrde', 'AfstandTotBelangrijkOverstapstation', 'AfstandTotRestaurant', 'AfstandTotHuisartsenpraktijk', 'ErvarenGezondheidGoedZeerGoed', 'AfstandTotConsultatiebureau', 'AfstandTotDagrecreatiefTerrein', 'PercentageOnbewoond', 'UrenMantelzorgPerWeek', 'kPersonenMetLaagsteInkomen', 'AfstandTotHotelED', 'TotaalDiefstalUitWoningSchuurED', 'VoldoetAanRichtlijnAlcoholgebruik', 'BeperkingInHoren', 'AfstandTotBioscoop', 'ErnstigOvergewichtObesitas', 'Rokers', 'BeperkingInZien', 'OvermatigDrinker', 'AfstandTotOpenDroogNatTerrein', 'AfstandTotZonnebank', 'AfstandTotBuitenschoolseOpvang', 'AfstandTotApotheek', 'AfstandTotBegraafplaats', 'AfstandTotWarenhuis', 'AfstandTotVerblijfsrecreatiefTerrein', 'AfstandTotSportterrein', 'AfstandTotKunstijsbaan', 'BouwjaarVanaf2000', 'SterfteRelatief', 'AfstandTotAttractie', 'AfstandTotTreinstationsTotaal', 'ZwaarBelasteMantelzorgers', 'AfstandTotOpenNatTerreinTotaal', 'Mantelzorger', 'AfstandTotBos', 'InBezitOverigeVerhuurders', 'PersonenautoSPerHuishouden', 'ALandbouwBosbouwEnVisserij', 'GeweldsEnSeksueleMisdrijven', 'InBezitWoningcorporatie', 'AfstandTotBibliotheek', 'GeboorteRelatief', 'AfstandTotOpenNatNatuurlijkTerrein', 'AfstandTotSauna']\n"
     ]
    }
   ],
   "source": [
    "# Get the accuracy score of the model with all the features\n",
    "mlp = MLPRegressor(random_state=0).fit(X_train, y_train)\n",
    "best_model = mlp\n",
    "selected_features = X_train.columns.tolist()\n",
    "best_features = selected_features\n",
    "best_features_accuracy = cross_val_score(MLPRegressor(random_state=0), X_train, y_train, cv=10, scoring='neg_mean_squared_error', n_jobs=-1).mean()\n",
    "\n",
    "while True:\n",
    "    # Retrieve the learned weights\n",
    "    weights = mlp.coefs_[0]  # Weights connecting input features to the first hidden layer\n",
    "\n",
    "    # Normalize the weights\n",
    "    normalized_weights = np.abs(weights) / np.sum(np.abs(weights), axis=0)\n",
    "\n",
    "    # Calculate feature importance\n",
    "    feature_importance = np.mean(normalized_weights, axis=1)\n",
    "\n",
    "    # Sort features based on their importance\n",
    "    sorted_indices = np.argsort(feature_importance)\n",
    "    selected_features = [selected_features[i] for i in sorted_indices[:-1]]\n",
    "\n",
    "    # When there are no features left\n",
    "    if len(selected_features) == 0:\n",
    "        break\n",
    "    \n",
    "    # Refit the Model\n",
    "    mlp = MLPRegressor(random_state=0).fit(X_train[selected_features], y_train)\n",
    "\n",
    "    # Evaluate Model Performance\n",
    "    accuracy = cross_val_score(MLPRegressor(random_state=0), X_train[selected_features], y_train, cv=10, scoring='neg_mean_squared_error', n_jobs=-1).mean()\n",
    "\n",
    "    # Check if the model performs better without the insignificant features\n",
    "    if accuracy >= best_features_accuracy:\n",
    "        best_features_accuracy = accuracy\n",
    "        best_features = selected_features.copy()\n",
    "        best_model = mlp\n",
    "\n",
    "# Save results\n",
    "best_model_nn = best_model\n",
    "best_features_nn = best_features\n",
    "\n",
    "# Show results\n",
    "print(\"Best features:\", best_features_nn)\n",
    "print(\"Dropped features:\", list(set(X_train.columns.tolist()) - set(best_features_nn)))"
   ]
  },
  {
   "attachments": {},
   "cell_type": "markdown",
   "metadata": {},
   "source": [
    "**Hyperparameter optimalisatie**"
   ]
  },
  {
   "cell_type": "code",
   "execution_count": 11,
   "metadata": {},
   "outputs": [
    {
     "name": "stdout",
     "output_type": "stream",
     "text": [
      "|   iter    |  target   |   alpha   | hidden... | learni... | max_iter  |\n",
      "-------------------------------------------------------------------------\n",
      "| \u001b[0m1        \u001b[0m | \u001b[0m-3.354   \u001b[0m | \u001b[0m0.08925  \u001b[0m | \u001b[0m31.46    \u001b[0m | \u001b[0m0.04426  \u001b[0m | \u001b[0m781.0    \u001b[0m |\n",
      "| \u001b[95m2        \u001b[0m | \u001b[95m-3.346   \u001b[0m | \u001b[95m0.001358 \u001b[0m | \u001b[95m19.45    \u001b[0m | \u001b[95m0.07448  \u001b[0m | \u001b[95m291.5    \u001b[0m |\n",
      "| \u001b[0m3        \u001b[0m | \u001b[0m-3.352   \u001b[0m | \u001b[0m0.01552  \u001b[0m | \u001b[0m20.38    \u001b[0m | \u001b[0m0.01594  \u001b[0m | \u001b[0m833.3    \u001b[0m |\n",
      "| \u001b[0m4        \u001b[0m | \u001b[0m-3.349   \u001b[0m | \u001b[0m0.0563   \u001b[0m | \u001b[0m25.6     \u001b[0m | \u001b[0m0.09474  \u001b[0m | \u001b[0m247.9    \u001b[0m |\n",
      "| \u001b[0m5        \u001b[0m | \u001b[0m-3.357   \u001b[0m | \u001b[0m0.01557  \u001b[0m | \u001b[0m59.86    \u001b[0m | \u001b[0m0.04426  \u001b[0m | \u001b[0m896.2    \u001b[0m |\n",
      "| \u001b[0m6        \u001b[0m | \u001b[0m-3.35    \u001b[0m | \u001b[0m0.01716  \u001b[0m | \u001b[0m47.86    \u001b[0m | \u001b[0m0.02623  \u001b[0m | \u001b[0m101.3    \u001b[0m |\n",
      "| \u001b[0m7        \u001b[0m | \u001b[0m-3.356   \u001b[0m | \u001b[0m0.04807  \u001b[0m | \u001b[0m78.92    \u001b[0m | \u001b[0m0.08684  \u001b[0m | \u001b[0m250.5    \u001b[0m |\n",
      "| \u001b[0m8        \u001b[0m | \u001b[0m-3.351   \u001b[0m | \u001b[0m0.04741  \u001b[0m | \u001b[0m27.74    \u001b[0m | \u001b[0m0.02559  \u001b[0m | \u001b[0m486.1    \u001b[0m |\n",
      "| \u001b[0m9        \u001b[0m | \u001b[0m-3.354   \u001b[0m | \u001b[0m0.01038  \u001b[0m | \u001b[0m51.66    \u001b[0m | \u001b[0m0.00573  \u001b[0m | \u001b[0m639.0    \u001b[0m |\n",
      "| \u001b[0m10       \u001b[0m | \u001b[0m-3.355   \u001b[0m | \u001b[0m0.05378  \u001b[0m | \u001b[0m84.96    \u001b[0m | \u001b[0m0.02231  \u001b[0m | \u001b[0m860.9    \u001b[0m |\n",
      "| \u001b[0m11       \u001b[0m | \u001b[0m-3.35    \u001b[0m | \u001b[0m0.0533   \u001b[0m | \u001b[0m24.66    \u001b[0m | \u001b[0m0.06342  \u001b[0m | \u001b[0m246.8    \u001b[0m |\n",
      "| \u001b[0m12       \u001b[0m | \u001b[0m-3.352   \u001b[0m | \u001b[0m0.04874  \u001b[0m | \u001b[0m11.96    \u001b[0m | \u001b[0m0.05534  \u001b[0m | \u001b[0m289.8    \u001b[0m |\n",
      "| \u001b[0m13       \u001b[0m | \u001b[0m-3.348   \u001b[0m | \u001b[0m0.04997  \u001b[0m | \u001b[0m23.15    \u001b[0m | \u001b[0m0.02163  \u001b[0m | \u001b[0m294.3    \u001b[0m |\n",
      "| \u001b[0m14       \u001b[0m | \u001b[0m-3.353   \u001b[0m | \u001b[0m0.0003898\u001b[0m | \u001b[0m21.2     \u001b[0m | \u001b[0m0.08865  \u001b[0m | \u001b[0m285.1    \u001b[0m |\n",
      "| \u001b[0m15       \u001b[0m | \u001b[0m-3.354   \u001b[0m | \u001b[0m0.09656  \u001b[0m | \u001b[0m18.58    \u001b[0m | \u001b[0m0.05521  \u001b[0m | \u001b[0m296.2    \u001b[0m |\n",
      "| \u001b[0m16       \u001b[0m | \u001b[0m-3.361   \u001b[0m | \u001b[0m0.07445  \u001b[0m | \u001b[0m21.91    \u001b[0m | \u001b[0m0.08586  \u001b[0m | \u001b[0m292.2    \u001b[0m |\n",
      "| \u001b[0m17       \u001b[0m | \u001b[0m-3.351   \u001b[0m | \u001b[0m0.02389  \u001b[0m | \u001b[0m19.13    \u001b[0m | \u001b[0m0.05844  \u001b[0m | \u001b[0m290.8    \u001b[0m |\n",
      "| \u001b[0m18       \u001b[0m | \u001b[0m-3.355   \u001b[0m | \u001b[0m0.07997  \u001b[0m | \u001b[0m89.64    \u001b[0m | \u001b[0m0.01395  \u001b[0m | \u001b[0m342.8    \u001b[0m |\n",
      "| \u001b[0m19       \u001b[0m | \u001b[0m-3.356   \u001b[0m | \u001b[0m0.07488  \u001b[0m | \u001b[0m56.71    \u001b[0m | \u001b[0m0.0534   \u001b[0m | \u001b[0m113.2    \u001b[0m |\n",
      "| \u001b[0m20       \u001b[0m | \u001b[0m-3.351   \u001b[0m | \u001b[0m0.04216  \u001b[0m | \u001b[0m24.73    \u001b[0m | \u001b[0m0.04381  \u001b[0m | \u001b[0m247.0    \u001b[0m |\n",
      "| \u001b[0m21       \u001b[0m | \u001b[0m-3.349   \u001b[0m | \u001b[0m0.08312  \u001b[0m | \u001b[0m47.04    \u001b[0m | \u001b[0m0.01075  \u001b[0m | \u001b[0m352.2    \u001b[0m |\n",
      "| \u001b[0m22       \u001b[0m | \u001b[0m-3.362   \u001b[0m | \u001b[0m0.04225  \u001b[0m | \u001b[0m82.98    \u001b[0m | \u001b[0m0.05997  \u001b[0m | \u001b[0m831.1    \u001b[0m |\n",
      "| \u001b[0m23       \u001b[0m | \u001b[0m-3.346   \u001b[0m | \u001b[0m0.05011  \u001b[0m | \u001b[0m18.53    \u001b[0m | \u001b[0m0.04018  \u001b[0m | \u001b[0m291.5    \u001b[0m |\n",
      "| \u001b[95m24       \u001b[0m | \u001b[95m-3.346   \u001b[0m | \u001b[95m0.05382  \u001b[0m | \u001b[95m48.08    \u001b[0m | \u001b[95m0.06276  \u001b[0m | \u001b[95m352.9    \u001b[0m |\n",
      "| \u001b[0m25       \u001b[0m | \u001b[0m-3.35    \u001b[0m | \u001b[0m0.003993 \u001b[0m | \u001b[0m25.93    \u001b[0m | \u001b[0m0.04513  \u001b[0m | \u001b[0m249.0    \u001b[0m |\n",
      "| \u001b[0m26       \u001b[0m | \u001b[0m-3.35    \u001b[0m | \u001b[0m0.0436   \u001b[0m | \u001b[0m47.94    \u001b[0m | \u001b[0m0.02171  \u001b[0m | \u001b[0m352.4    \u001b[0m |\n",
      "| \u001b[0m27       \u001b[0m | \u001b[0m-3.349   \u001b[0m | \u001b[0m0.08807  \u001b[0m | \u001b[0m48.61    \u001b[0m | \u001b[0m0.08209  \u001b[0m | \u001b[0m353.9    \u001b[0m |\n",
      "| \u001b[0m28       \u001b[0m | \u001b[0m-3.347   \u001b[0m | \u001b[0m0.07542  \u001b[0m | \u001b[0m18.78    \u001b[0m | \u001b[0m0.05457  \u001b[0m | \u001b[0m292.7    \u001b[0m |\n",
      "| \u001b[0m29       \u001b[0m | \u001b[0m-3.351   \u001b[0m | \u001b[0m0.08276  \u001b[0m | \u001b[0m19.98    \u001b[0m | \u001b[0m0.0258   \u001b[0m | \u001b[0m292.6    \u001b[0m |\n",
      "| \u001b[0m30       \u001b[0m | \u001b[0m-3.356   \u001b[0m | \u001b[0m0.01225  \u001b[0m | \u001b[0m23.89    \u001b[0m | \u001b[0m0.09018  \u001b[0m | \u001b[0m294.9    \u001b[0m |\n",
      "| \u001b[0m31       \u001b[0m | \u001b[0m-3.356   \u001b[0m | \u001b[0m0.04957  \u001b[0m | \u001b[0m47.18    \u001b[0m | \u001b[0m0.08316  \u001b[0m | \u001b[0m353.3    \u001b[0m |\n",
      "| \u001b[0m32       \u001b[0m | \u001b[0m-3.351   \u001b[0m | \u001b[0m0.0908   \u001b[0m | \u001b[0m10.78    \u001b[0m | \u001b[0m0.05236  \u001b[0m | \u001b[0m786.0    \u001b[0m |\n",
      "| \u001b[0m33       \u001b[0m | \u001b[0m-3.354   \u001b[0m | \u001b[0m0.07199  \u001b[0m | \u001b[0m23.45    \u001b[0m | \u001b[0m0.02937  \u001b[0m | \u001b[0m246.3    \u001b[0m |\n",
      "| \u001b[0m34       \u001b[0m | \u001b[0m-3.35    \u001b[0m | \u001b[0m0.03678  \u001b[0m | \u001b[0m23.49    \u001b[0m | \u001b[0m0.0853   \u001b[0m | \u001b[0m293.7    \u001b[0m |\n",
      "| \u001b[0m35       \u001b[0m | \u001b[0m-3.359   \u001b[0m | \u001b[0m0.01285  \u001b[0m | \u001b[0m82.05    \u001b[0m | \u001b[0m0.01085  \u001b[0m | \u001b[0m633.1    \u001b[0m |\n",
      "| \u001b[0m36       \u001b[0m | \u001b[0m-3.351   \u001b[0m | \u001b[0m0.08997  \u001b[0m | \u001b[0m28.14    \u001b[0m | \u001b[0m0.04865  \u001b[0m | \u001b[0m111.1    \u001b[0m |\n",
      "| \u001b[0m37       \u001b[0m | \u001b[0m-3.35    \u001b[0m | \u001b[0m0.06405  \u001b[0m | \u001b[0m21.79    \u001b[0m | \u001b[0m0.0344   \u001b[0m | \u001b[0m294.4    \u001b[0m |\n",
      "| \u001b[95m38       \u001b[0m | \u001b[95m-3.344   \u001b[0m | \u001b[95m0.04835  \u001b[0m | \u001b[95m40.72    \u001b[0m | \u001b[95m0.02763  \u001b[0m | \u001b[95m846.4    \u001b[0m |\n",
      "| \u001b[0m39       \u001b[0m | \u001b[0m-3.368   \u001b[0m | \u001b[0m0.01975  \u001b[0m | \u001b[0m57.49    \u001b[0m | \u001b[0m0.04714  \u001b[0m | \u001b[0m747.6    \u001b[0m |\n",
      "| \u001b[0m40       \u001b[0m | \u001b[0m-3.356   \u001b[0m | \u001b[0m0.02164  \u001b[0m | \u001b[0m25.09    \u001b[0m | \u001b[0m0.05922  \u001b[0m | \u001b[0m245.8    \u001b[0m |\n",
      "| \u001b[0m41       \u001b[0m | \u001b[0m-3.355   \u001b[0m | \u001b[0m0.02     \u001b[0m | \u001b[0m16.52    \u001b[0m | \u001b[0m0.06672  \u001b[0m | \u001b[0m226.3    \u001b[0m |\n",
      "| \u001b[0m42       \u001b[0m | \u001b[0m-3.356   \u001b[0m | \u001b[0m0.07658  \u001b[0m | \u001b[0m53.11    \u001b[0m | \u001b[0m0.06606  \u001b[0m | \u001b[0m279.2    \u001b[0m |\n",
      "| \u001b[0m43       \u001b[0m | \u001b[0m-3.347   \u001b[0m | \u001b[0m0.09701  \u001b[0m | \u001b[0m18.89    \u001b[0m | \u001b[0m0.0551   \u001b[0m | \u001b[0m291.7    \u001b[0m |\n",
      "| \u001b[0m44       \u001b[0m | \u001b[0m-3.35    \u001b[0m | \u001b[0m0.01794  \u001b[0m | \u001b[0m49.45    \u001b[0m | \u001b[0m0.04189  \u001b[0m | \u001b[0m353.3    \u001b[0m |\n",
      "| \u001b[0m45       \u001b[0m | \u001b[0m-3.359   \u001b[0m | \u001b[0m0.08435  \u001b[0m | \u001b[0m39.72    \u001b[0m | \u001b[0m0.09427  \u001b[0m | \u001b[0m845.1    \u001b[0m |\n",
      "| \u001b[0m46       \u001b[0m | \u001b[0m-3.351   \u001b[0m | \u001b[0m0.05765  \u001b[0m | \u001b[0m42.28    \u001b[0m | \u001b[0m0.003151 \u001b[0m | \u001b[0m847.6    \u001b[0m |\n",
      "| \u001b[0m47       \u001b[0m | \u001b[0m-3.345   \u001b[0m | \u001b[0m0.0559   \u001b[0m | \u001b[0m19.84    \u001b[0m | \u001b[0m0.05205  \u001b[0m | \u001b[0m291.7    \u001b[0m |\n",
      "| \u001b[0m48       \u001b[0m | \u001b[0m-3.35    \u001b[0m | \u001b[0m0.09095  \u001b[0m | \u001b[0m41.77    \u001b[0m | \u001b[0m0.03274  \u001b[0m | \u001b[0m845.4    \u001b[0m |\n",
      "| \u001b[95m49       \u001b[0m | \u001b[95m-3.344   \u001b[0m | \u001b[95m0.01023  \u001b[0m | \u001b[95m40.3     \u001b[0m | \u001b[95m0.08884  \u001b[0m | \u001b[95m847.1    \u001b[0m |\n",
      "| \u001b[0m50       \u001b[0m | \u001b[0m-3.348   \u001b[0m | \u001b[0m0.08577  \u001b[0m | \u001b[0m26.94    \u001b[0m | \u001b[0m0.08237  \u001b[0m | \u001b[0m248.3    \u001b[0m |\n",
      "=========================================================================\n"
     ]
    },
    {
     "data": {
      "text/html": [
       "<style>#sk-container-id-3 {color: black;background-color: white;}#sk-container-id-3 pre{padding: 0;}#sk-container-id-3 div.sk-toggleable {background-color: white;}#sk-container-id-3 label.sk-toggleable__label {cursor: pointer;display: block;width: 100%;margin-bottom: 0;padding: 0.3em;box-sizing: border-box;text-align: center;}#sk-container-id-3 label.sk-toggleable__label-arrow:before {content: \"▸\";float: left;margin-right: 0.25em;color: #696969;}#sk-container-id-3 label.sk-toggleable__label-arrow:hover:before {color: black;}#sk-container-id-3 div.sk-estimator:hover label.sk-toggleable__label-arrow:before {color: black;}#sk-container-id-3 div.sk-toggleable__content {max-height: 0;max-width: 0;overflow: hidden;text-align: left;background-color: #f0f8ff;}#sk-container-id-3 div.sk-toggleable__content pre {margin: 0.2em;color: black;border-radius: 0.25em;background-color: #f0f8ff;}#sk-container-id-3 input.sk-toggleable__control:checked~div.sk-toggleable__content {max-height: 200px;max-width: 100%;overflow: auto;}#sk-container-id-3 input.sk-toggleable__control:checked~label.sk-toggleable__label-arrow:before {content: \"▾\";}#sk-container-id-3 div.sk-estimator input.sk-toggleable__control:checked~label.sk-toggleable__label {background-color: #d4ebff;}#sk-container-id-3 div.sk-label input.sk-toggleable__control:checked~label.sk-toggleable__label {background-color: #d4ebff;}#sk-container-id-3 input.sk-hidden--visually {border: 0;clip: rect(1px 1px 1px 1px);clip: rect(1px, 1px, 1px, 1px);height: 1px;margin: -1px;overflow: hidden;padding: 0;position: absolute;width: 1px;}#sk-container-id-3 div.sk-estimator {font-family: monospace;background-color: #f0f8ff;border: 1px dotted black;border-radius: 0.25em;box-sizing: border-box;margin-bottom: 0.5em;}#sk-container-id-3 div.sk-estimator:hover {background-color: #d4ebff;}#sk-container-id-3 div.sk-parallel-item::after {content: \"\";width: 100%;border-bottom: 1px solid gray;flex-grow: 1;}#sk-container-id-3 div.sk-label:hover label.sk-toggleable__label {background-color: #d4ebff;}#sk-container-id-3 div.sk-serial::before {content: \"\";position: absolute;border-left: 1px solid gray;box-sizing: border-box;top: 0;bottom: 0;left: 50%;z-index: 0;}#sk-container-id-3 div.sk-serial {display: flex;flex-direction: column;align-items: center;background-color: white;padding-right: 0.2em;padding-left: 0.2em;position: relative;}#sk-container-id-3 div.sk-item {position: relative;z-index: 1;}#sk-container-id-3 div.sk-parallel {display: flex;align-items: stretch;justify-content: center;background-color: white;position: relative;}#sk-container-id-3 div.sk-item::before, #sk-container-id-3 div.sk-parallel-item::before {content: \"\";position: absolute;border-left: 1px solid gray;box-sizing: border-box;top: 0;bottom: 0;left: 50%;z-index: -1;}#sk-container-id-3 div.sk-parallel-item {display: flex;flex-direction: column;z-index: 1;position: relative;background-color: white;}#sk-container-id-3 div.sk-parallel-item:first-child::after {align-self: flex-end;width: 50%;}#sk-container-id-3 div.sk-parallel-item:last-child::after {align-self: flex-start;width: 50%;}#sk-container-id-3 div.sk-parallel-item:only-child::after {width: 0;}#sk-container-id-3 div.sk-dashed-wrapped {border: 1px dashed gray;margin: 0 0.4em 0.5em 0.4em;box-sizing: border-box;padding-bottom: 0.4em;background-color: white;}#sk-container-id-3 div.sk-label label {font-family: monospace;font-weight: bold;display: inline-block;line-height: 1.2em;}#sk-container-id-3 div.sk-label-container {text-align: center;}#sk-container-id-3 div.sk-container {/* jupyter's `normalize.less` sets `[hidden] { display: none; }` but bootstrap.min.css set `[hidden] { display: none !important; }` so we also need the `!important` here to be able to override the default hidden behavior on the sphinx rendered scikit-learn.org. See: https://github.com/scikit-learn/scikit-learn/issues/21755 */display: inline-block !important;position: relative;}#sk-container-id-3 div.sk-text-repr-fallback {display: none;}</style><div id=\"sk-container-id-3\" class=\"sk-top-container\"><div class=\"sk-text-repr-fallback\"><pre>MLPRegressor(alpha=0.010229269149781084, hidden_layer_sizes=(40,),\n",
       "             learning_rate_init=0.08883859776502816, max_iter=847)</pre><b>In a Jupyter environment, please rerun this cell to show the HTML representation or trust the notebook. <br />On GitHub, the HTML representation is unable to render, please try loading this page with nbviewer.org.</b></div><div class=\"sk-container\" hidden><div class=\"sk-item\"><div class=\"sk-estimator sk-toggleable\"><input class=\"sk-toggleable__control sk-hidden--visually\" id=\"sk-estimator-id-3\" type=\"checkbox\" checked><label for=\"sk-estimator-id-3\" class=\"sk-toggleable__label sk-toggleable__label-arrow\">MLPRegressor</label><div class=\"sk-toggleable__content\"><pre>MLPRegressor(alpha=0.010229269149781084, hidden_layer_sizes=(40,),\n",
       "             learning_rate_init=0.08883859776502816, max_iter=847)</pre></div></div></div></div></div>"
      ],
      "text/plain": [
       "MLPRegressor(alpha=0.010229269149781084, hidden_layer_sizes=(40,),\n",
       "             learning_rate_init=0.08883859776502816, max_iter=847)"
      ]
     },
     "execution_count": 11,
     "metadata": {},
     "output_type": "execute_result"
    }
   ],
   "source": [
    "def bo_params_generic(model, params, X_train, y_train):\n",
    "    # Create the model instance with the specified parameters\n",
    "    regressor = model(**params)\n",
    "    \n",
    "    # Calculating rmse based on\n",
    "    scores = cross_val_score(regressor, X_train, y_train, cv=10, scoring='neg_root_mean_squared_error')\n",
    "    return scores.mean()\n",
    "\n",
    "params_ranges = {\n",
    "    'hidden_layer_sizes': (10, 100),\n",
    "    'alpha': (0.0001, 0.1),\n",
    "    'learning_rate_init': (0.001, 0.1),\n",
    "    'max_iter': (100, 1000)\n",
    "}\n",
    "\n",
    "# Example usage with Neural Network\n",
    "model = MLPRegressor\n",
    "model_bo = BayesianOptimization(f=lambda hidden_layer_sizes, alpha, learning_rate_init, max_iter:\n",
    "                                    bo_params_generic(model, {\n",
    "                                        'hidden_layer_sizes': (int(round(hidden_layer_sizes)),),\n",
    "                                        'alpha': alpha,\n",
    "                                        'learning_rate_init': learning_rate_init,\n",
    "                                        'max_iter': int(round(max_iter))\n",
    "                                    }, X_train[best_features_nn], y_train),\n",
    "                             pbounds=params_ranges)\n",
    "\n",
    "results = model_bo.maximize(n_iter=40, init_points=10)\n",
    "params = model_bo.max['params']\n",
    "\n",
    "# Creating a model with the best hyperparameters\n",
    "best_model_nn = model(\n",
    "    hidden_layer_sizes=(int(round(params['hidden_layer_sizes'])),),\n",
    "    alpha=params['alpha'],\n",
    "    learning_rate_init=params['learning_rate_init'],\n",
    "    max_iter=int(round(params['max_iter']))\n",
    ")\n",
    "\n",
    "# Fit the model\n",
    "best_model_nn.fit(X_train[best_features_nn], y_train)"
   ]
  },
  {
   "attachments": {},
   "cell_type": "markdown",
   "metadata": {},
   "source": [
    "# plotting the bar chart"
   ]
  },
  {
   "attachments": {},
   "cell_type": "markdown",
   "metadata": {},
   "source": [
    "**using train dataset**"
   ]
  },
  {
   "cell_type": "code",
   "execution_count": 12,
   "metadata": {},
   "outputs": [
    {
     "data": {
      "text/plain": [
       "[{'model': 'Multiple Linear Regression',\n",
       "  'mae': 2.428248129544741,\n",
       "  'mse': 11.386043955957959,\n",
       "  'rmse': 3.3743212585582243,\n",
       "  'r2': 0.0036954150071462077,\n",
       "  'adj_r2': -0.07161918645019694},\n",
       " {'model': 'Random Forest',\n",
       "  'mae': 2.444316719603332,\n",
       "  'mse': 11.431662965555118,\n",
       "  'rmse': 3.381074232482203,\n",
       "  'r2': -0.0002963514571576731,\n",
       "  'adj_r2': -0.07591270631892977},\n",
       " {'model': 'Neural Network',\n",
       "  'mae': 2.4442323248047897,\n",
       "  'mse': 11.560072297714047,\n",
       "  'rmse': 3.400010632000148,\n",
       "  'r2': -0.011532458298187942,\n",
       "  'adj_r2': -0.08799819488660376},\n",
       " {'model': 'Support Vector Machine',\n",
       "  'mae': 2.3838975570789347,\n",
       "  'mse': 11.589771115794967,\n",
       "  'rmse': 3.404375290092878,\n",
       "  'r2': -0.014131172016257576,\n",
       "  'adj_r2': -0.09079335564599633}]"
      ]
     },
     "execution_count": 12,
     "metadata": {},
     "output_type": "execute_result"
    }
   ],
   "source": [
    "regression_models = [\n",
    "    {\n",
    "        'name': 'Multiple Linear Regression',\n",
    "        'model': best_model_mlr,\n",
    "        'features': best_features_mlr\n",
    "    },\n",
    "    {\n",
    "        'name': 'Random Forest',\n",
    "        'model': best_model_rf,\n",
    "        'features': best_features_rf\n",
    "    },\n",
    "    {\n",
    "        'name': 'Neural Network',\n",
    "        'model': best_model_nn,\n",
    "        'features': best_features_nn\n",
    "    },\n",
    "    {\n",
    "        'name': 'Support Vector Machine',\n",
    "        'model': best_model_svm,\n",
    "        'features': best_features_svm\n",
    "    }\n",
    "]\n",
    "\n",
    "regression_stats_val = []\n",
    "\n",
    "for model in regression_models:\n",
    "    try:\n",
    "        # Perform cross-validation and calculate predictions and metrics\n",
    "        y_pred = cross_val_predict(model['model'], X_train[model['features']], y_train, cv=10)\n",
    "        y_true = y_train\n",
    "    except: # cv can't be higher then n_splits in the dt\n",
    "        # Perform cross-validation and calculate predictions and metrics\n",
    "        y_pred = cross_val_predict(model['model'], X_train[model['features']], y_train, cv=5)\n",
    "        y_true = y_train\n",
    "\n",
    "    # R2 Score\n",
    "    r2 = r2_score(y_true, y_pred)\n",
    "\n",
    "    # Adjusted R2 Score\n",
    "    n = len(y_true)  # Number of samples\n",
    "    p = X_test.shape[1]  # Number of predictors (features) in X\n",
    "    adj_r2 = 1 - ((1 - r2) * (n - 1)) / (n - p - 1)\n",
    "\n",
    "    # Save stats\n",
    "    regression_stats_val.append(\n",
    "        {\n",
    "            'model': model['name'],\n",
    "            'mae': mean_absolute_error(y_true, y_pred),\n",
    "            'mse': mean_squared_error(y_true, y_pred),\n",
    "            'rmse': np.sqrt(mean_squared_error(y_true, y_pred)),\n",
    "            'r2': r2,\n",
    "            'adj_r2': adj_r2\n",
    "        }\n",
    "    )\n",
    "\n",
    "# View stats\n",
    "regression_stats_val"
   ]
  },
  {
   "cell_type": "code",
   "execution_count": 13,
   "metadata": {},
   "outputs": [
    {
     "data": {
      "application/vnd.plotly.v1+json": {
       "config": {
        "plotlyServerURL": "https://plot.ly"
       },
       "data": [
        {
         "name": "mae",
         "text": [
          "2.428248129544741",
          "2.444316719603332",
          "2.4442323248047897",
          "2.3838975570789347"
         ],
         "textposition": "auto",
         "type": "bar",
         "x": [
          "Multiple Linear Regression",
          "Random Forest",
          "Neural Network",
          "Support Vector Machine"
         ],
         "y": [
          2.428248129544741,
          2.444316719603332,
          2.4442323248047897,
          2.3838975570789347
         ]
        },
        {
         "name": "mse",
         "text": [
          "11.386043955957959",
          "11.431662965555118",
          "11.560072297714047",
          "11.589771115794967"
         ],
         "textposition": "auto",
         "type": "bar",
         "x": [
          "Multiple Linear Regression",
          "Random Forest",
          "Neural Network",
          "Support Vector Machine"
         ],
         "y": [
          11.386043955957959,
          11.431662965555118,
          11.560072297714047,
          11.589771115794967
         ]
        },
        {
         "name": "rmse",
         "text": [
          "3.3743212585582243",
          "3.381074232482203",
          "3.400010632000148",
          "3.404375290092878"
         ],
         "textposition": "auto",
         "type": "bar",
         "x": [
          "Multiple Linear Regression",
          "Random Forest",
          "Neural Network",
          "Support Vector Machine"
         ],
         "y": [
          3.3743212585582243,
          3.381074232482203,
          3.400010632000148,
          3.404375290092878
         ]
        },
        {
         "name": "r2",
         "text": [
          "0.0036954150071462077",
          "-0.0002963514571576731",
          "-0.011532458298187942",
          "-0.014131172016257576"
         ],
         "textposition": "auto",
         "type": "bar",
         "x": [
          "Multiple Linear Regression",
          "Random Forest",
          "Neural Network",
          "Support Vector Machine"
         ],
         "y": [
          0.0036954150071462077,
          -0.0002963514571576731,
          -0.011532458298187942,
          -0.014131172016257576
         ]
        },
        {
         "name": "adj_r2",
         "text": [
          "-0.07161918645019694",
          "-0.07591270631892977",
          "-0.08799819488660376",
          "-0.09079335564599633"
         ],
         "textposition": "auto",
         "type": "bar",
         "x": [
          "Multiple Linear Regression",
          "Random Forest",
          "Neural Network",
          "Support Vector Machine"
         ],
         "y": [
          -0.07161918645019694,
          -0.07591270631892977,
          -0.08799819488660376,
          -0.09079335564599633
         ]
        }
       ],
       "layout": {
        "barmode": "group",
        "template": {
         "data": {
          "bar": [
           {
            "error_x": {
             "color": "#2a3f5f"
            },
            "error_y": {
             "color": "#2a3f5f"
            },
            "marker": {
             "line": {
              "color": "#E5ECF6",
              "width": 0.5
             },
             "pattern": {
              "fillmode": "overlay",
              "size": 10,
              "solidity": 0.2
             }
            },
            "type": "bar"
           }
          ],
          "barpolar": [
           {
            "marker": {
             "line": {
              "color": "#E5ECF6",
              "width": 0.5
             },
             "pattern": {
              "fillmode": "overlay",
              "size": 10,
              "solidity": 0.2
             }
            },
            "type": "barpolar"
           }
          ],
          "carpet": [
           {
            "aaxis": {
             "endlinecolor": "#2a3f5f",
             "gridcolor": "white",
             "linecolor": "white",
             "minorgridcolor": "white",
             "startlinecolor": "#2a3f5f"
            },
            "baxis": {
             "endlinecolor": "#2a3f5f",
             "gridcolor": "white",
             "linecolor": "white",
             "minorgridcolor": "white",
             "startlinecolor": "#2a3f5f"
            },
            "type": "carpet"
           }
          ],
          "choropleth": [
           {
            "colorbar": {
             "outlinewidth": 0,
             "ticks": ""
            },
            "type": "choropleth"
           }
          ],
          "contour": [
           {
            "colorbar": {
             "outlinewidth": 0,
             "ticks": ""
            },
            "colorscale": [
             [
              0,
              "#0d0887"
             ],
             [
              0.1111111111111111,
              "#46039f"
             ],
             [
              0.2222222222222222,
              "#7201a8"
             ],
             [
              0.3333333333333333,
              "#9c179e"
             ],
             [
              0.4444444444444444,
              "#bd3786"
             ],
             [
              0.5555555555555556,
              "#d8576b"
             ],
             [
              0.6666666666666666,
              "#ed7953"
             ],
             [
              0.7777777777777778,
              "#fb9f3a"
             ],
             [
              0.8888888888888888,
              "#fdca26"
             ],
             [
              1,
              "#f0f921"
             ]
            ],
            "type": "contour"
           }
          ],
          "contourcarpet": [
           {
            "colorbar": {
             "outlinewidth": 0,
             "ticks": ""
            },
            "type": "contourcarpet"
           }
          ],
          "heatmap": [
           {
            "colorbar": {
             "outlinewidth": 0,
             "ticks": ""
            },
            "colorscale": [
             [
              0,
              "#0d0887"
             ],
             [
              0.1111111111111111,
              "#46039f"
             ],
             [
              0.2222222222222222,
              "#7201a8"
             ],
             [
              0.3333333333333333,
              "#9c179e"
             ],
             [
              0.4444444444444444,
              "#bd3786"
             ],
             [
              0.5555555555555556,
              "#d8576b"
             ],
             [
              0.6666666666666666,
              "#ed7953"
             ],
             [
              0.7777777777777778,
              "#fb9f3a"
             ],
             [
              0.8888888888888888,
              "#fdca26"
             ],
             [
              1,
              "#f0f921"
             ]
            ],
            "type": "heatmap"
           }
          ],
          "heatmapgl": [
           {
            "colorbar": {
             "outlinewidth": 0,
             "ticks": ""
            },
            "colorscale": [
             [
              0,
              "#0d0887"
             ],
             [
              0.1111111111111111,
              "#46039f"
             ],
             [
              0.2222222222222222,
              "#7201a8"
             ],
             [
              0.3333333333333333,
              "#9c179e"
             ],
             [
              0.4444444444444444,
              "#bd3786"
             ],
             [
              0.5555555555555556,
              "#d8576b"
             ],
             [
              0.6666666666666666,
              "#ed7953"
             ],
             [
              0.7777777777777778,
              "#fb9f3a"
             ],
             [
              0.8888888888888888,
              "#fdca26"
             ],
             [
              1,
              "#f0f921"
             ]
            ],
            "type": "heatmapgl"
           }
          ],
          "histogram": [
           {
            "marker": {
             "pattern": {
              "fillmode": "overlay",
              "size": 10,
              "solidity": 0.2
             }
            },
            "type": "histogram"
           }
          ],
          "histogram2d": [
           {
            "colorbar": {
             "outlinewidth": 0,
             "ticks": ""
            },
            "colorscale": [
             [
              0,
              "#0d0887"
             ],
             [
              0.1111111111111111,
              "#46039f"
             ],
             [
              0.2222222222222222,
              "#7201a8"
             ],
             [
              0.3333333333333333,
              "#9c179e"
             ],
             [
              0.4444444444444444,
              "#bd3786"
             ],
             [
              0.5555555555555556,
              "#d8576b"
             ],
             [
              0.6666666666666666,
              "#ed7953"
             ],
             [
              0.7777777777777778,
              "#fb9f3a"
             ],
             [
              0.8888888888888888,
              "#fdca26"
             ],
             [
              1,
              "#f0f921"
             ]
            ],
            "type": "histogram2d"
           }
          ],
          "histogram2dcontour": [
           {
            "colorbar": {
             "outlinewidth": 0,
             "ticks": ""
            },
            "colorscale": [
             [
              0,
              "#0d0887"
             ],
             [
              0.1111111111111111,
              "#46039f"
             ],
             [
              0.2222222222222222,
              "#7201a8"
             ],
             [
              0.3333333333333333,
              "#9c179e"
             ],
             [
              0.4444444444444444,
              "#bd3786"
             ],
             [
              0.5555555555555556,
              "#d8576b"
             ],
             [
              0.6666666666666666,
              "#ed7953"
             ],
             [
              0.7777777777777778,
              "#fb9f3a"
             ],
             [
              0.8888888888888888,
              "#fdca26"
             ],
             [
              1,
              "#f0f921"
             ]
            ],
            "type": "histogram2dcontour"
           }
          ],
          "mesh3d": [
           {
            "colorbar": {
             "outlinewidth": 0,
             "ticks": ""
            },
            "type": "mesh3d"
           }
          ],
          "parcoords": [
           {
            "line": {
             "colorbar": {
              "outlinewidth": 0,
              "ticks": ""
             }
            },
            "type": "parcoords"
           }
          ],
          "pie": [
           {
            "automargin": true,
            "type": "pie"
           }
          ],
          "scatter": [
           {
            "fillpattern": {
             "fillmode": "overlay",
             "size": 10,
             "solidity": 0.2
            },
            "type": "scatter"
           }
          ],
          "scatter3d": [
           {
            "line": {
             "colorbar": {
              "outlinewidth": 0,
              "ticks": ""
             }
            },
            "marker": {
             "colorbar": {
              "outlinewidth": 0,
              "ticks": ""
             }
            },
            "type": "scatter3d"
           }
          ],
          "scattercarpet": [
           {
            "marker": {
             "colorbar": {
              "outlinewidth": 0,
              "ticks": ""
             }
            },
            "type": "scattercarpet"
           }
          ],
          "scattergeo": [
           {
            "marker": {
             "colorbar": {
              "outlinewidth": 0,
              "ticks": ""
             }
            },
            "type": "scattergeo"
           }
          ],
          "scattergl": [
           {
            "marker": {
             "colorbar": {
              "outlinewidth": 0,
              "ticks": ""
             }
            },
            "type": "scattergl"
           }
          ],
          "scattermapbox": [
           {
            "marker": {
             "colorbar": {
              "outlinewidth": 0,
              "ticks": ""
             }
            },
            "type": "scattermapbox"
           }
          ],
          "scatterpolar": [
           {
            "marker": {
             "colorbar": {
              "outlinewidth": 0,
              "ticks": ""
             }
            },
            "type": "scatterpolar"
           }
          ],
          "scatterpolargl": [
           {
            "marker": {
             "colorbar": {
              "outlinewidth": 0,
              "ticks": ""
             }
            },
            "type": "scatterpolargl"
           }
          ],
          "scatterternary": [
           {
            "marker": {
             "colorbar": {
              "outlinewidth": 0,
              "ticks": ""
             }
            },
            "type": "scatterternary"
           }
          ],
          "surface": [
           {
            "colorbar": {
             "outlinewidth": 0,
             "ticks": ""
            },
            "colorscale": [
             [
              0,
              "#0d0887"
             ],
             [
              0.1111111111111111,
              "#46039f"
             ],
             [
              0.2222222222222222,
              "#7201a8"
             ],
             [
              0.3333333333333333,
              "#9c179e"
             ],
             [
              0.4444444444444444,
              "#bd3786"
             ],
             [
              0.5555555555555556,
              "#d8576b"
             ],
             [
              0.6666666666666666,
              "#ed7953"
             ],
             [
              0.7777777777777778,
              "#fb9f3a"
             ],
             [
              0.8888888888888888,
              "#fdca26"
             ],
             [
              1,
              "#f0f921"
             ]
            ],
            "type": "surface"
           }
          ],
          "table": [
           {
            "cells": {
             "fill": {
              "color": "#EBF0F8"
             },
             "line": {
              "color": "white"
             }
            },
            "header": {
             "fill": {
              "color": "#C8D4E3"
             },
             "line": {
              "color": "white"
             }
            },
            "type": "table"
           }
          ]
         },
         "layout": {
          "annotationdefaults": {
           "arrowcolor": "#2a3f5f",
           "arrowhead": 0,
           "arrowwidth": 1
          },
          "autotypenumbers": "strict",
          "coloraxis": {
           "colorbar": {
            "outlinewidth": 0,
            "ticks": ""
           }
          },
          "colorscale": {
           "diverging": [
            [
             0,
             "#8e0152"
            ],
            [
             0.1,
             "#c51b7d"
            ],
            [
             0.2,
             "#de77ae"
            ],
            [
             0.3,
             "#f1b6da"
            ],
            [
             0.4,
             "#fde0ef"
            ],
            [
             0.5,
             "#f7f7f7"
            ],
            [
             0.6,
             "#e6f5d0"
            ],
            [
             0.7,
             "#b8e186"
            ],
            [
             0.8,
             "#7fbc41"
            ],
            [
             0.9,
             "#4d9221"
            ],
            [
             1,
             "#276419"
            ]
           ],
           "sequential": [
            [
             0,
             "#0d0887"
            ],
            [
             0.1111111111111111,
             "#46039f"
            ],
            [
             0.2222222222222222,
             "#7201a8"
            ],
            [
             0.3333333333333333,
             "#9c179e"
            ],
            [
             0.4444444444444444,
             "#bd3786"
            ],
            [
             0.5555555555555556,
             "#d8576b"
            ],
            [
             0.6666666666666666,
             "#ed7953"
            ],
            [
             0.7777777777777778,
             "#fb9f3a"
            ],
            [
             0.8888888888888888,
             "#fdca26"
            ],
            [
             1,
             "#f0f921"
            ]
           ],
           "sequentialminus": [
            [
             0,
             "#0d0887"
            ],
            [
             0.1111111111111111,
             "#46039f"
            ],
            [
             0.2222222222222222,
             "#7201a8"
            ],
            [
             0.3333333333333333,
             "#9c179e"
            ],
            [
             0.4444444444444444,
             "#bd3786"
            ],
            [
             0.5555555555555556,
             "#d8576b"
            ],
            [
             0.6666666666666666,
             "#ed7953"
            ],
            [
             0.7777777777777778,
             "#fb9f3a"
            ],
            [
             0.8888888888888888,
             "#fdca26"
            ],
            [
             1,
             "#f0f921"
            ]
           ]
          },
          "colorway": [
           "#636efa",
           "#EF553B",
           "#00cc96",
           "#ab63fa",
           "#FFA15A",
           "#19d3f3",
           "#FF6692",
           "#B6E880",
           "#FF97FF",
           "#FECB52"
          ],
          "font": {
           "color": "#2a3f5f"
          },
          "geo": {
           "bgcolor": "white",
           "lakecolor": "white",
           "landcolor": "#E5ECF6",
           "showlakes": true,
           "showland": true,
           "subunitcolor": "white"
          },
          "hoverlabel": {
           "align": "left"
          },
          "hovermode": "closest",
          "mapbox": {
           "style": "light"
          },
          "paper_bgcolor": "white",
          "plot_bgcolor": "#E5ECF6",
          "polar": {
           "angularaxis": {
            "gridcolor": "white",
            "linecolor": "white",
            "ticks": ""
           },
           "bgcolor": "#E5ECF6",
           "radialaxis": {
            "gridcolor": "white",
            "linecolor": "white",
            "ticks": ""
           }
          },
          "scene": {
           "xaxis": {
            "backgroundcolor": "#E5ECF6",
            "gridcolor": "white",
            "gridwidth": 2,
            "linecolor": "white",
            "showbackground": true,
            "ticks": "",
            "zerolinecolor": "white"
           },
           "yaxis": {
            "backgroundcolor": "#E5ECF6",
            "gridcolor": "white",
            "gridwidth": 2,
            "linecolor": "white",
            "showbackground": true,
            "ticks": "",
            "zerolinecolor": "white"
           },
           "zaxis": {
            "backgroundcolor": "#E5ECF6",
            "gridcolor": "white",
            "gridwidth": 2,
            "linecolor": "white",
            "showbackground": true,
            "ticks": "",
            "zerolinecolor": "white"
           }
          },
          "shapedefaults": {
           "line": {
            "color": "#2a3f5f"
           }
          },
          "ternary": {
           "aaxis": {
            "gridcolor": "white",
            "linecolor": "white",
            "ticks": ""
           },
           "baxis": {
            "gridcolor": "white",
            "linecolor": "white",
            "ticks": ""
           },
           "bgcolor": "#E5ECF6",
           "caxis": {
            "gridcolor": "white",
            "linecolor": "white",
            "ticks": ""
           }
          },
          "title": {
           "x": 0.05
          },
          "xaxis": {
           "automargin": true,
           "gridcolor": "white",
           "linecolor": "white",
           "ticks": "",
           "title": {
            "standoff": 15
           },
           "zerolinecolor": "white",
           "zerolinewidth": 2
          },
          "yaxis": {
           "automargin": true,
           "gridcolor": "white",
           "linecolor": "white",
           "ticks": "",
           "title": {
            "standoff": 15
           },
           "zerolinecolor": "white",
           "zerolinewidth": 2
          }
         }
        },
        "title": {
         "text": "Evaluation Metrics Comparison"
        },
        "xaxis": {
         "title": {
          "text": "Models"
         }
        },
        "yaxis": {
         "title": {
          "text": "Scores"
         }
        }
       }
      }
     },
     "metadata": {},
     "output_type": "display_data"
    }
   ],
   "source": [
    "# Extracting model names and metric scores\n",
    "model_names = [d['model'] for d in regression_stats_val]\n",
    "metric_labels = list(regression_stats_val[0].keys())[1:]\n",
    "metric_scores = {metric: [d[metric] for d in regression_stats_val] for metric in metric_labels}\n",
    "\n",
    "# Plotting the bar chart\n",
    "fig = go.Figure()\n",
    "\n",
    "for metric in metric_labels:\n",
    "    fig.add_trace(go.Bar(\n",
    "        x=model_names,\n",
    "        y=metric_scores[metric],\n",
    "        text=metric_scores[metric],  # Display the values on the bars\n",
    "        textposition='auto',  # Position the text inside the bars\n",
    "        name=metric\n",
    "    ))\n",
    "\n",
    "# Updating the layout\n",
    "fig.update_layout(\n",
    "    title='Evaluation Metrics Comparison',\n",
    "    xaxis_title='Models',\n",
    "    yaxis_title='Scores',\n",
    "    barmode='group'\n",
    ")\n",
    "\n",
    "# Display the plot\n",
    "fig.show()"
   ]
  },
  {
   "attachments": {},
   "cell_type": "markdown",
   "metadata": {},
   "source": [
    "**Evaluating on test data**"
   ]
  },
  {
   "cell_type": "code",
   "execution_count": 14,
   "metadata": {},
   "outputs": [
    {
     "data": {
      "text/plain": [
       "[{'model': 'Multiple Linear Regression',\n",
       "  'mae': 2.7253657054090223,\n",
       "  'mse': 15.270360392651488,\n",
       "  'rmse': 3.9077308495662146,\n",
       "  'r2': -0.013978094048957113,\n",
       "  'adj_r2': -0.41050584032508564},\n",
       " {'model': 'Random Forest',\n",
       "  'mae': 2.6953939551701644,\n",
       "  'mse': 15.035564193768085,\n",
       "  'rmse': 3.8775719456598203,\n",
       "  'r2': 0.0016127758527318958,\n",
       "  'adj_r2': -0.3888179821936859},\n",
       " {'model': 'Neural Network',\n",
       "  'mae': 2.7088676362641295,\n",
       "  'mse': 15.22687205559117,\n",
       "  'rmse': 3.902162484519471,\n",
       "  'r2': -0.011090393955971667,\n",
       "  'adj_r2': -0.4064888720393127},\n",
       " {'model': 'Support Vector Machine',\n",
       "  'mae': 2.6965576811215595,\n",
       "  'mse': 15.801823935639826,\n",
       "  'rmse': 3.9751508066537333,\n",
       "  'r2': -0.04926818390401699,\n",
       "  'adj_r2': -0.4595965239782136}]"
      ]
     },
     "execution_count": 14,
     "metadata": {},
     "output_type": "execute_result"
    }
   ],
   "source": [
    "regression_models = [\n",
    "    {\n",
    "        'name': 'Multiple Linear Regression',\n",
    "        'model': best_model_mlr,\n",
    "        'features': best_features_mlr\n",
    "    },\n",
    "    {\n",
    "        'name': 'Random Forest',\n",
    "        'model': best_model_rf,\n",
    "        'features': best_features_rf\n",
    "    },\n",
    "    {\n",
    "        'name': 'Neural Network',\n",
    "        'model': best_model_nn,\n",
    "        'features': best_features_nn\n",
    "    },\n",
    "    {\n",
    "        'name': 'Support Vector Machine',\n",
    "        'model': best_model_svm,\n",
    "        'features': best_features_svm\n",
    "    }\n",
    "]\n",
    "\n",
    "regression_stats_test = []\n",
    "\n",
    "for model in regression_models:\n",
    "    # Make predictions on the test set\n",
    "    y_pred = model['model'].predict(X_test[model['features']])\n",
    "\n",
    "    # Defining Actual values\n",
    "    y_true = y_test.copy()\n",
    "\n",
    "    # R2 Score\n",
    "    r2 = r2_score(y_true, y_pred)\n",
    "\n",
    "    # Adjusted R2 Score\n",
    "    n = len(y_true)  # Number of samples\n",
    "    p = X_test.shape[1]  # Number of predictors (features) in X\n",
    "    adj_r2 = 1 - ((1 - r2) * (n - 1)) / (n - p - 1)\n",
    "\n",
    "    # Save stats\n",
    "    regression_stats_test.append(\n",
    "        {\n",
    "            'model': model['name'],\n",
    "            'mae': mean_absolute_error(y_true, y_pred),\n",
    "            'mse': mean_squared_error(y_true, y_pred),\n",
    "            'rmse': np.sqrt(mean_squared_error(y_true, y_pred)),\n",
    "            'r2': r2,\n",
    "            'adj_r2': adj_r2\n",
    "        }\n",
    "    )\n",
    "\n",
    "# View stats\n",
    "regression_stats_test"
   ]
  },
  {
   "cell_type": "code",
   "execution_count": 18,
   "metadata": {},
   "outputs": [
    {
     "data": {
      "application/vnd.plotly.v1+json": {
       "config": {
        "plotlyServerURL": "https://plot.ly"
       },
       "data": [
        {
         "name": "mae",
         "text": [
          "2.7253657054090223",
          "2.6953939551701644",
          "2.7088676362641295",
          "2.6965576811215595"
         ],
         "textposition": "auto",
         "type": "bar",
         "x": [
          "Multiple Linear Regression",
          "Random Forest",
          "Neural Network",
          "Support Vector Machine"
         ],
         "y": [
          2.7253657054090223,
          2.6953939551701644,
          2.7088676362641295,
          2.6965576811215595
         ]
        },
        {
         "name": "mse",
         "text": [
          "15.270360392651488",
          "15.035564193768085",
          "15.22687205559117",
          "15.801823935639826"
         ],
         "textposition": "auto",
         "type": "bar",
         "x": [
          "Multiple Linear Regression",
          "Random Forest",
          "Neural Network",
          "Support Vector Machine"
         ],
         "y": [
          15.270360392651488,
          15.035564193768085,
          15.22687205559117,
          15.801823935639826
         ]
        },
        {
         "name": "rmse",
         "text": [
          "3.9077308495662146",
          "3.8775719456598203",
          "3.902162484519471",
          "3.9751508066537333"
         ],
         "textposition": "auto",
         "type": "bar",
         "x": [
          "Multiple Linear Regression",
          "Random Forest",
          "Neural Network",
          "Support Vector Machine"
         ],
         "y": [
          3.9077308495662146,
          3.8775719456598203,
          3.902162484519471,
          3.9751508066537333
         ]
        },
        {
         "name": "r2",
         "text": [
          "-0.013978094048957113",
          "0.0016127758527318958",
          "-0.011090393955971667",
          "-0.04926818390401699"
         ],
         "textposition": "auto",
         "type": "bar",
         "x": [
          "Multiple Linear Regression",
          "Random Forest",
          "Neural Network",
          "Support Vector Machine"
         ],
         "y": [
          -0.013978094048957113,
          0.0016127758527318958,
          -0.011090393955971667,
          -0.04926818390401699
         ]
        },
        {
         "name": "adj_r2",
         "text": [
          "-0.41050584032508564",
          "-0.3888179821936859",
          "-0.4064888720393127",
          "-0.4595965239782136"
         ],
         "textposition": "auto",
         "type": "bar",
         "x": [
          "Multiple Linear Regression",
          "Random Forest",
          "Neural Network",
          "Support Vector Machine"
         ],
         "y": [
          -0.41050584032508564,
          -0.3888179821936859,
          -0.4064888720393127,
          -0.4595965239782136
         ]
        }
       ],
       "layout": {
        "barmode": "group",
        "template": {
         "data": {
          "bar": [
           {
            "error_x": {
             "color": "#2a3f5f"
            },
            "error_y": {
             "color": "#2a3f5f"
            },
            "marker": {
             "line": {
              "color": "#E5ECF6",
              "width": 0.5
             },
             "pattern": {
              "fillmode": "overlay",
              "size": 10,
              "solidity": 0.2
             }
            },
            "type": "bar"
           }
          ],
          "barpolar": [
           {
            "marker": {
             "line": {
              "color": "#E5ECF6",
              "width": 0.5
             },
             "pattern": {
              "fillmode": "overlay",
              "size": 10,
              "solidity": 0.2
             }
            },
            "type": "barpolar"
           }
          ],
          "carpet": [
           {
            "aaxis": {
             "endlinecolor": "#2a3f5f",
             "gridcolor": "white",
             "linecolor": "white",
             "minorgridcolor": "white",
             "startlinecolor": "#2a3f5f"
            },
            "baxis": {
             "endlinecolor": "#2a3f5f",
             "gridcolor": "white",
             "linecolor": "white",
             "minorgridcolor": "white",
             "startlinecolor": "#2a3f5f"
            },
            "type": "carpet"
           }
          ],
          "choropleth": [
           {
            "colorbar": {
             "outlinewidth": 0,
             "ticks": ""
            },
            "type": "choropleth"
           }
          ],
          "contour": [
           {
            "colorbar": {
             "outlinewidth": 0,
             "ticks": ""
            },
            "colorscale": [
             [
              0,
              "#0d0887"
             ],
             [
              0.1111111111111111,
              "#46039f"
             ],
             [
              0.2222222222222222,
              "#7201a8"
             ],
             [
              0.3333333333333333,
              "#9c179e"
             ],
             [
              0.4444444444444444,
              "#bd3786"
             ],
             [
              0.5555555555555556,
              "#d8576b"
             ],
             [
              0.6666666666666666,
              "#ed7953"
             ],
             [
              0.7777777777777778,
              "#fb9f3a"
             ],
             [
              0.8888888888888888,
              "#fdca26"
             ],
             [
              1,
              "#f0f921"
             ]
            ],
            "type": "contour"
           }
          ],
          "contourcarpet": [
           {
            "colorbar": {
             "outlinewidth": 0,
             "ticks": ""
            },
            "type": "contourcarpet"
           }
          ],
          "heatmap": [
           {
            "colorbar": {
             "outlinewidth": 0,
             "ticks": ""
            },
            "colorscale": [
             [
              0,
              "#0d0887"
             ],
             [
              0.1111111111111111,
              "#46039f"
             ],
             [
              0.2222222222222222,
              "#7201a8"
             ],
             [
              0.3333333333333333,
              "#9c179e"
             ],
             [
              0.4444444444444444,
              "#bd3786"
             ],
             [
              0.5555555555555556,
              "#d8576b"
             ],
             [
              0.6666666666666666,
              "#ed7953"
             ],
             [
              0.7777777777777778,
              "#fb9f3a"
             ],
             [
              0.8888888888888888,
              "#fdca26"
             ],
             [
              1,
              "#f0f921"
             ]
            ],
            "type": "heatmap"
           }
          ],
          "heatmapgl": [
           {
            "colorbar": {
             "outlinewidth": 0,
             "ticks": ""
            },
            "colorscale": [
             [
              0,
              "#0d0887"
             ],
             [
              0.1111111111111111,
              "#46039f"
             ],
             [
              0.2222222222222222,
              "#7201a8"
             ],
             [
              0.3333333333333333,
              "#9c179e"
             ],
             [
              0.4444444444444444,
              "#bd3786"
             ],
             [
              0.5555555555555556,
              "#d8576b"
             ],
             [
              0.6666666666666666,
              "#ed7953"
             ],
             [
              0.7777777777777778,
              "#fb9f3a"
             ],
             [
              0.8888888888888888,
              "#fdca26"
             ],
             [
              1,
              "#f0f921"
             ]
            ],
            "type": "heatmapgl"
           }
          ],
          "histogram": [
           {
            "marker": {
             "pattern": {
              "fillmode": "overlay",
              "size": 10,
              "solidity": 0.2
             }
            },
            "type": "histogram"
           }
          ],
          "histogram2d": [
           {
            "colorbar": {
             "outlinewidth": 0,
             "ticks": ""
            },
            "colorscale": [
             [
              0,
              "#0d0887"
             ],
             [
              0.1111111111111111,
              "#46039f"
             ],
             [
              0.2222222222222222,
              "#7201a8"
             ],
             [
              0.3333333333333333,
              "#9c179e"
             ],
             [
              0.4444444444444444,
              "#bd3786"
             ],
             [
              0.5555555555555556,
              "#d8576b"
             ],
             [
              0.6666666666666666,
              "#ed7953"
             ],
             [
              0.7777777777777778,
              "#fb9f3a"
             ],
             [
              0.8888888888888888,
              "#fdca26"
             ],
             [
              1,
              "#f0f921"
             ]
            ],
            "type": "histogram2d"
           }
          ],
          "histogram2dcontour": [
           {
            "colorbar": {
             "outlinewidth": 0,
             "ticks": ""
            },
            "colorscale": [
             [
              0,
              "#0d0887"
             ],
             [
              0.1111111111111111,
              "#46039f"
             ],
             [
              0.2222222222222222,
              "#7201a8"
             ],
             [
              0.3333333333333333,
              "#9c179e"
             ],
             [
              0.4444444444444444,
              "#bd3786"
             ],
             [
              0.5555555555555556,
              "#d8576b"
             ],
             [
              0.6666666666666666,
              "#ed7953"
             ],
             [
              0.7777777777777778,
              "#fb9f3a"
             ],
             [
              0.8888888888888888,
              "#fdca26"
             ],
             [
              1,
              "#f0f921"
             ]
            ],
            "type": "histogram2dcontour"
           }
          ],
          "mesh3d": [
           {
            "colorbar": {
             "outlinewidth": 0,
             "ticks": ""
            },
            "type": "mesh3d"
           }
          ],
          "parcoords": [
           {
            "line": {
             "colorbar": {
              "outlinewidth": 0,
              "ticks": ""
             }
            },
            "type": "parcoords"
           }
          ],
          "pie": [
           {
            "automargin": true,
            "type": "pie"
           }
          ],
          "scatter": [
           {
            "fillpattern": {
             "fillmode": "overlay",
             "size": 10,
             "solidity": 0.2
            },
            "type": "scatter"
           }
          ],
          "scatter3d": [
           {
            "line": {
             "colorbar": {
              "outlinewidth": 0,
              "ticks": ""
             }
            },
            "marker": {
             "colorbar": {
              "outlinewidth": 0,
              "ticks": ""
             }
            },
            "type": "scatter3d"
           }
          ],
          "scattercarpet": [
           {
            "marker": {
             "colorbar": {
              "outlinewidth": 0,
              "ticks": ""
             }
            },
            "type": "scattercarpet"
           }
          ],
          "scattergeo": [
           {
            "marker": {
             "colorbar": {
              "outlinewidth": 0,
              "ticks": ""
             }
            },
            "type": "scattergeo"
           }
          ],
          "scattergl": [
           {
            "marker": {
             "colorbar": {
              "outlinewidth": 0,
              "ticks": ""
             }
            },
            "type": "scattergl"
           }
          ],
          "scattermapbox": [
           {
            "marker": {
             "colorbar": {
              "outlinewidth": 0,
              "ticks": ""
             }
            },
            "type": "scattermapbox"
           }
          ],
          "scatterpolar": [
           {
            "marker": {
             "colorbar": {
              "outlinewidth": 0,
              "ticks": ""
             }
            },
            "type": "scatterpolar"
           }
          ],
          "scatterpolargl": [
           {
            "marker": {
             "colorbar": {
              "outlinewidth": 0,
              "ticks": ""
             }
            },
            "type": "scatterpolargl"
           }
          ],
          "scatterternary": [
           {
            "marker": {
             "colorbar": {
              "outlinewidth": 0,
              "ticks": ""
             }
            },
            "type": "scatterternary"
           }
          ],
          "surface": [
           {
            "colorbar": {
             "outlinewidth": 0,
             "ticks": ""
            },
            "colorscale": [
             [
              0,
              "#0d0887"
             ],
             [
              0.1111111111111111,
              "#46039f"
             ],
             [
              0.2222222222222222,
              "#7201a8"
             ],
             [
              0.3333333333333333,
              "#9c179e"
             ],
             [
              0.4444444444444444,
              "#bd3786"
             ],
             [
              0.5555555555555556,
              "#d8576b"
             ],
             [
              0.6666666666666666,
              "#ed7953"
             ],
             [
              0.7777777777777778,
              "#fb9f3a"
             ],
             [
              0.8888888888888888,
              "#fdca26"
             ],
             [
              1,
              "#f0f921"
             ]
            ],
            "type": "surface"
           }
          ],
          "table": [
           {
            "cells": {
             "fill": {
              "color": "#EBF0F8"
             },
             "line": {
              "color": "white"
             }
            },
            "header": {
             "fill": {
              "color": "#C8D4E3"
             },
             "line": {
              "color": "white"
             }
            },
            "type": "table"
           }
          ]
         },
         "layout": {
          "annotationdefaults": {
           "arrowcolor": "#2a3f5f",
           "arrowhead": 0,
           "arrowwidth": 1
          },
          "autotypenumbers": "strict",
          "coloraxis": {
           "colorbar": {
            "outlinewidth": 0,
            "ticks": ""
           }
          },
          "colorscale": {
           "diverging": [
            [
             0,
             "#8e0152"
            ],
            [
             0.1,
             "#c51b7d"
            ],
            [
             0.2,
             "#de77ae"
            ],
            [
             0.3,
             "#f1b6da"
            ],
            [
             0.4,
             "#fde0ef"
            ],
            [
             0.5,
             "#f7f7f7"
            ],
            [
             0.6,
             "#e6f5d0"
            ],
            [
             0.7,
             "#b8e186"
            ],
            [
             0.8,
             "#7fbc41"
            ],
            [
             0.9,
             "#4d9221"
            ],
            [
             1,
             "#276419"
            ]
           ],
           "sequential": [
            [
             0,
             "#0d0887"
            ],
            [
             0.1111111111111111,
             "#46039f"
            ],
            [
             0.2222222222222222,
             "#7201a8"
            ],
            [
             0.3333333333333333,
             "#9c179e"
            ],
            [
             0.4444444444444444,
             "#bd3786"
            ],
            [
             0.5555555555555556,
             "#d8576b"
            ],
            [
             0.6666666666666666,
             "#ed7953"
            ],
            [
             0.7777777777777778,
             "#fb9f3a"
            ],
            [
             0.8888888888888888,
             "#fdca26"
            ],
            [
             1,
             "#f0f921"
            ]
           ],
           "sequentialminus": [
            [
             0,
             "#0d0887"
            ],
            [
             0.1111111111111111,
             "#46039f"
            ],
            [
             0.2222222222222222,
             "#7201a8"
            ],
            [
             0.3333333333333333,
             "#9c179e"
            ],
            [
             0.4444444444444444,
             "#bd3786"
            ],
            [
             0.5555555555555556,
             "#d8576b"
            ],
            [
             0.6666666666666666,
             "#ed7953"
            ],
            [
             0.7777777777777778,
             "#fb9f3a"
            ],
            [
             0.8888888888888888,
             "#fdca26"
            ],
            [
             1,
             "#f0f921"
            ]
           ]
          },
          "colorway": [
           "#636efa",
           "#EF553B",
           "#00cc96",
           "#ab63fa",
           "#FFA15A",
           "#19d3f3",
           "#FF6692",
           "#B6E880",
           "#FF97FF",
           "#FECB52"
          ],
          "font": {
           "color": "#2a3f5f"
          },
          "geo": {
           "bgcolor": "white",
           "lakecolor": "white",
           "landcolor": "#E5ECF6",
           "showlakes": true,
           "showland": true,
           "subunitcolor": "white"
          },
          "hoverlabel": {
           "align": "left"
          },
          "hovermode": "closest",
          "mapbox": {
           "style": "light"
          },
          "paper_bgcolor": "white",
          "plot_bgcolor": "#E5ECF6",
          "polar": {
           "angularaxis": {
            "gridcolor": "white",
            "linecolor": "white",
            "ticks": ""
           },
           "bgcolor": "#E5ECF6",
           "radialaxis": {
            "gridcolor": "white",
            "linecolor": "white",
            "ticks": ""
           }
          },
          "scene": {
           "xaxis": {
            "backgroundcolor": "#E5ECF6",
            "gridcolor": "white",
            "gridwidth": 2,
            "linecolor": "white",
            "showbackground": true,
            "ticks": "",
            "zerolinecolor": "white"
           },
           "yaxis": {
            "backgroundcolor": "#E5ECF6",
            "gridcolor": "white",
            "gridwidth": 2,
            "linecolor": "white",
            "showbackground": true,
            "ticks": "",
            "zerolinecolor": "white"
           },
           "zaxis": {
            "backgroundcolor": "#E5ECF6",
            "gridcolor": "white",
            "gridwidth": 2,
            "linecolor": "white",
            "showbackground": true,
            "ticks": "",
            "zerolinecolor": "white"
           }
          },
          "shapedefaults": {
           "line": {
            "color": "#2a3f5f"
           }
          },
          "ternary": {
           "aaxis": {
            "gridcolor": "white",
            "linecolor": "white",
            "ticks": ""
           },
           "baxis": {
            "gridcolor": "white",
            "linecolor": "white",
            "ticks": ""
           },
           "bgcolor": "#E5ECF6",
           "caxis": {
            "gridcolor": "white",
            "linecolor": "white",
            "ticks": ""
           }
          },
          "title": {
           "x": 0.05
          },
          "xaxis": {
           "automargin": true,
           "gridcolor": "white",
           "linecolor": "white",
           "ticks": "",
           "title": {
            "standoff": 15
           },
           "zerolinecolor": "white",
           "zerolinewidth": 2
          },
          "yaxis": {
           "automargin": true,
           "gridcolor": "white",
           "linecolor": "white",
           "ticks": "",
           "title": {
            "standoff": 15
           },
           "zerolinecolor": "white",
           "zerolinewidth": 2
          }
         }
        },
        "title": {
         "text": "Evaluation Metrics Comparison Gewicht"
        },
        "xaxis": {
         "title": {
          "text": "Models"
         }
        },
        "yaxis": {
         "title": {
          "text": "Scores"
         }
        }
       }
      }
     },
     "metadata": {},
     "output_type": "display_data"
    }
   ],
   "source": [
    "# Extracting model names and metric scores\n",
    "model_names = [d['model'] for d in regression_stats_test]\n",
    "metric_labels = list(regression_stats_test[0].keys())[1:]\n",
    "metric_scores = {metric: [d[metric] for d in regression_stats_test] for metric in metric_labels}\n",
    "\n",
    "# Plotting the bar chart\n",
    "fig = go.Figure()\n",
    "\n",
    "for metric in metric_labels:\n",
    "    fig.add_trace(go.Bar(\n",
    "        x=model_names,\n",
    "        y=metric_scores[metric],\n",
    "        text=metric_scores[metric],  # Display the values on the bars\n",
    "        textposition='auto',  # Position the text inside the bars\n",
    "        name=metric\n",
    "    ))\n",
    "\n",
    "# Updating the layout\n",
    "fig.update_layout(\n",
    "    title='Evaluation Metrics Comparison Gewicht',\n",
    "    xaxis_title='Models',\n",
    "    yaxis_title='Scores',\n",
    "    barmode='group'\n",
    ")\n",
    "\n",
    "# Display the plot\n",
    "fig.show()"
   ]
  },
  {
   "attachments": {},
   "cell_type": "markdown",
   "metadata": {},
   "source": [
    "Naive bayes"
   ]
  },
  {
   "cell_type": "code",
   "execution_count": 16,
   "metadata": {},
   "outputs": [
    {
     "name": "stdout",
     "output_type": "stream",
     "text": [
      "Mean Absolute Error: 2.717184553660983\n",
      "Mean Squared Error: 15.253915202666954\n",
      "Root Mean Squared Error: 3.905626096116595\n",
      "R2 Score: -0.012886105257073899\n",
      "Adjusted R2 Score: -0.4089868168101196\n"
     ]
    }
   ],
   "source": [
    "# Defining Actual values\n",
    "y_true = y_test.copy()\n",
    "\n",
    "# Defining Predicted values\n",
    "y_pred = np.full_like(y_test, y_train.mean())\n",
    "\n",
    "# Mean absolute error\n",
    "mae = mean_absolute_error(y_test, y_pred)\n",
    "print(\"Mean Absolute Error:\", mae)\n",
    "\n",
    "# Mean Squared Error\n",
    "mse = mean_squared_error(y_true, y_pred)\n",
    "print(\"Mean Squared Error:\", mse)\n",
    "\n",
    "# Root Mean Squared Error\n",
    "rmse = np.sqrt(mse)\n",
    "print(\"Root Mean Squared Error:\", rmse)\n",
    "\n",
    "# R2 Score\n",
    "r2 = r2_score(y_true, y_pred)\n",
    "print(\"R2 Score:\", r2)\n",
    "\n",
    "# Adjusted R2 Score\n",
    "n = len(y_true)  # Number of samples\n",
    "p = X_test.shape[1]  # Number of predictors (features) in X\n",
    "adj_r2 = 1 - ((1 - r2) * (n - 1)) / (n - p - 1)\n",
    "print(\"Adjusted R2 Score:\", adj_r2)"
   ]
  },
  {
   "attachments": {},
   "cell_type": "markdown",
   "metadata": {},
   "source": [
    "Save best model & features as Pickle"
   ]
  },
  {
   "cell_type": "code",
   "execution_count": 17,
   "metadata": {},
   "outputs": [],
   "source": [
    "import pickle\n",
    "\n",
    "# Save model\n",
    "file_path = 'Saved Models/gewicht.pkl'\n",
    "\n",
    "with open(file_path, 'wb') as file:\n",
    "    pickle.dump(best_model_mlr, file)\n",
    "\n",
    "# Save features\n",
    "with open('Saved Models/best_features_gewicht.txt', 'w') as file:\n",
    "    file.write(f'{best_features_mlr}')"
   ]
  }
 ],
 "metadata": {
  "kernelspec": {
   "display_name": "Python 3",
   "language": "python",
   "name": "python3"
  },
  "language_info": {
   "codemirror_mode": {
    "name": "ipython",
    "version": 3
   },
   "file_extension": ".py",
   "mimetype": "text/x-python",
   "name": "python",
   "nbconvert_exporter": "python",
   "pygments_lexer": "ipython3",
   "version": "3.10.9"
  },
  "orig_nbformat": 4
 },
 "nbformat": 4,
 "nbformat_minor": 2
}
