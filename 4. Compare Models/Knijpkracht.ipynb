{
 "cells": [
  {
   "attachments": {},
   "cell_type": "markdown",
   "metadata": {},
   "source": [
    "# General Imports"
   ]
  },
  {
   "attachments": {},
   "cell_type": "markdown",
   "metadata": {},
   "source": [
    "**Importing all libraries**"
   ]
  },
  {
   "cell_type": "code",
   "execution_count": 1,
   "metadata": {},
   "outputs": [],
   "source": [
    "import numpy as np\n",
    "import pandas as pd\n",
    "import warnings\n",
    "\n",
    "import plotly.graph_objects as go\n",
    "from bayes_opt import BayesianOptimization\n",
    "import statsmodels.api as sm\n",
    "\n",
    "from sklearn.model_selection import cross_val_score, train_test_split\n",
    "from sklearn.linear_model import LinearRegression\n",
    "from sklearn.svm import SVR\n",
    "from sklearn.model_selection import cross_val_predict\n",
    "from sklearn.ensemble import RandomForestRegressor\n",
    "from sklearn.neural_network import MLPRegressor\n",
    "from sklearn.metrics import r2_score, mean_squared_error, mean_absolute_error\n",
    "from sklearn.inspection import permutation_importance\n"
   ]
  },
  {
   "attachments": {},
   "cell_type": "markdown",
   "metadata": {},
   "source": [
    "Disable warnings"
   ]
  },
  {
   "cell_type": "code",
   "execution_count": 2,
   "metadata": {},
   "outputs": [],
   "source": [
    "# Disable all warnings\n",
    "warnings.filterwarnings(\"ignore\")\n",
    "\n",
    "# Enable warnings again\n",
    "## warnings.filterwarnings(\"default\")"
   ]
  },
  {
   "attachments": {},
   "cell_type": "markdown",
   "metadata": {},
   "source": [
    "Generate train and test data"
   ]
  },
  {
   "cell_type": "code",
   "execution_count": 3,
   "metadata": {},
   "outputs": [],
   "source": [
    "# Read Data\n",
    "df = pd.read_csv(\"data_finish_prep.csv\")\n",
    "\n",
    "# Select only the usefull part of the df\n",
    "df.drop(columns=['verschil_Lengte',\n",
    "               'verschil_6 MWT', 'verschil_TUG',\n",
    "               'verschil_BMI', 'verschil_Conditie',\n",
    "               'verschil_Lenigheid', 'verschil_Gewicht'], inplace=True)\n",
    "\n",
    "# Drop NaN values\n",
    "df.dropna(inplace=True)\n",
    "\n",
    "# Define X and y\n",
    "X = df.drop(columns=['verschil_Knijpkracht'])\n",
    "y = df['verschil_Knijpkracht']\n",
    "\n",
    "# Split data into train & test data\n",
    "X_train, X_test, y_train, y_test = train_test_split(X, y, test_size=0.2, random_state=42)"
   ]
  },
  {
   "cell_type": "code",
   "execution_count": 4,
   "metadata": {},
   "outputs": [],
   "source": [
    "def bo_params_generic(model, params, X_train, y_train):\n",
    "    # Create the model instance with the specified parameters\n",
    "    regressor = model(**params)\n",
    "    \n",
    "    # Assuming you have X_train, y_train defined for regression\n",
    "    scores = cross_val_score(regressor, X_train, y_train, cv=10, scoring='neg_root_mean_squared_error')\n",
    "    return -scores.mean()"
   ]
  },
  {
   "attachments": {},
   "cell_type": "markdown",
   "metadata": {},
   "source": [
    "# MLR"
   ]
  },
  {
   "attachments": {},
   "cell_type": "markdown",
   "metadata": {},
   "source": [
    "**feature selection**"
   ]
  },
  {
   "cell_type": "code",
   "execution_count": 5,
   "metadata": {},
   "outputs": [
    {
     "name": "stdout",
     "output_type": "stream",
     "text": [
      "Best features: ['AfstandTotOpenNatNatuurlijkTerrein', 'BeperkingInZien']\n",
      "Dropped features: ['AfstandTotBioscoop', 'UrenMantelzorgPerWeek', 'SterfteRelatief', 'Ondergewicht', 'ALandbouwBosbouwEnVisserij', 'AfstandTotDagrecreatiefTerrein', 'AfstandTotOpenDroogNatTerrein', 'VoldoetAanBeweegrichtlijn', 'AfstandTotConsultatiebureau', 'AfstandTotCafeED', 'AfstandTotPodiumkunstenTotaal', 'AfstandTotVolkstuin', 'Rokers', 'AfstandTotCafetariaED', 'AfstandTotWarenhuis', 'GeboorteRelatief', 'ErvarenGezondheidGoedZeerGoed', 'AfstandTotPoppodium', 'TotaalDiefstalUitWoningSchuurED', 'ErnstigOvergewichtObesitas', 'Mantelzorger', 'InBezitOverigeVerhuurders', 'MatigOvergewicht', 'AfstandTotSemiOpenbaarGroenTotaal', 'AfstandTotVerblijfsrecreatiefTerrein', 'AfstandTotKunstijsbaan', 'AfstandTotZwembad', 'NederlandseAntillenEnAruba', 'AfstandTotAttractie', 'AfstandTotBibliotheek', 'AfstandTotOpenbaarGroenTotaal', 'PersonenautoSPerHuishouden', 'AfstandTotSportterrein', 'GeweldsEnSeksueleMisdrijven', 'ZwaarBelasteMantelzorgers', 'AfstandTotMuseum', 'EigendomOnbekend', 'OppervlakteWater', 'AfstandTotApotheek', 'AfstandTotOpenNatTerreinTotaal', 'EenOfMeerLangdurigeAandoeningen', 'KLFinancieleDienstenOnroerendGoed', 'VoldoetAanRichtlijnAlcoholgebruik', 'PersonenautoSOverigeBrandstof', 'BouwjaarVanaf2000', 'InBezitWoningcorporatie', 'AfstandTotOvDagelLevensmiddelen', 'AfstandTotKinderdagverblijf', 'VernielingMisdrijfTegenOpenbareOrde', 'kPersonenMetLaagsteInkomen', 'AfstandTotTreinstationsTotaal', 'AfstandTotHuisartsenpost', 'AfstandTotZonnebank', 'AfstandTotSchool', 'AfstandTotHotelED', 'AfstandTotBos', 'AfstandTotHuisartsenpraktijk', 'GemiddeldeWoningwaarde', 'PersonenautoSNaarOppervlakte', 'AfstandTotRestaurant', 'AfstandTotBegraafplaats', 'AfstandTotSauna', 'OvermatigDrinker', 'AfstandTotBelangrijkOverstapstation', 'AfstandTotBrandweerkazerne', 'AfstandTotBuitenschoolseOpvang', 'BeperkingInHoren', 'PercentageOnbewoond']\n"
     ]
    }
   ],
   "source": [
    "# Fit the Full Model\n",
    "X =  sm.add_constant(X_train)  # Add constant term for the intercept\n",
    "model = sm.OLS(y_train, X_train).fit()  # Fit the MLR model\n",
    "best_model = model  # Initialize the best model\n",
    "selected_features = X_train.columns.tolist()\n",
    "best_features = X_train.columns.tolist()\n",
    "best_features_rmse = np.sqrt(-cross_val_score(LinearRegression(), X_train, y_train, cv=10, scoring='neg_mean_squared_error').mean())\n",
    "\n",
    "# Iteratively remove one feature at a time based on p-values\n",
    "while True:\n",
    "    # Compute p-values\n",
    "    p_values = model.pvalues[1:]  # Exclude the constant term\n",
    "\n",
    "    # Identify Insignificant Features\n",
    "    insignificant_feature = p_values.idxmax()\n",
    "    max_p_value = p_values.max()\n",
    "\n",
    "    # Remove Insignificant Feature\n",
    "    X = X.drop(insignificant_feature, axis=1)\n",
    "    selected_features.remove(insignificant_feature)\n",
    "\n",
    "    # When there a no features left\n",
    "    if len(selected_features) == 0:\n",
    "        break\n",
    "    \n",
    "    # Refit the Model\n",
    "    model = sm.OLS(y_train, X).fit()\n",
    "    \n",
    "    # Evaluate Model Performance\n",
    "    rmse = np.sqrt(-cross_val_score(LinearRegression(), X_train[selected_features], y_train, cv=10, scoring='neg_mean_squared_error').mean())\n",
    "\n",
    "    # Check if the model performs better without the insignificant features\n",
    "    if rmse <= best_features_rmse:\n",
    "        best_features_rmse = rmse\n",
    "        best_features = selected_features.copy()\n",
    "        best_model = model\n",
    "\n",
    "# Save results\n",
    "best_model_mlr = LinearRegression().fit(X_train[best_features], y_train)\n",
    "best_features_mlr = best_features\n",
    "\n",
    "# Show results\n",
    "print(\"Best features:\", best_features)\n",
    "print(\"Dropped features:\", list(set(X_train.columns.tolist()) - set(best_features)))"
   ]
  },
  {
   "attachments": {},
   "cell_type": "markdown",
   "metadata": {},
   "source": [
    "*Er zijn geen hyperparameters om te optimaliseren.*"
   ]
  },
  {
   "attachments": {},
   "cell_type": "markdown",
   "metadata": {},
   "source": [
    "# Support Vector Machines"
   ]
  },
  {
   "attachments": {},
   "cell_type": "markdown",
   "metadata": {},
   "source": [
    "**Hyperparameter optimalisatie**"
   ]
  },
  {
   "cell_type": "code",
   "execution_count": 6,
   "metadata": {},
   "outputs": [
    {
     "name": "stdout",
     "output_type": "stream",
     "text": [
      "|   iter    |  target   |     C     |   gamma   | kernel... |\n",
      "-------------------------------------------------------------\n",
      "| \u001b[0m1        \u001b[0m | \u001b[0m-25.24   \u001b[0m | \u001b[0m2.497    \u001b[0m | \u001b[0m0.03018  \u001b[0m | \u001b[0m2.199    \u001b[0m |\n",
      "| \u001b[95m2        \u001b[0m | \u001b[95m-25.16   \u001b[0m | \u001b[95m0.9853   \u001b[0m | \u001b[95m0.04557  \u001b[0m | \u001b[95m2.725    \u001b[0m |\n",
      "| \u001b[0m3        \u001b[0m | \u001b[0m-25.86   \u001b[0m | \u001b[0m8.422    \u001b[0m | \u001b[0m0.09313  \u001b[0m | \u001b[0m1.538    \u001b[0m |\n",
      "| \u001b[0m4        \u001b[0m | \u001b[0m-25.31   \u001b[0m | \u001b[0m2.347    \u001b[0m | \u001b[0m0.02277  \u001b[0m | \u001b[0m3.411    \u001b[0m |\n"
     ]
    },
    {
     "name": "stdout",
     "output_type": "stream",
     "text": [
      "| \u001b[0m5        \u001b[0m | \u001b[0m-25.92   \u001b[0m | \u001b[0m9.168    \u001b[0m | \u001b[0m0.0791   \u001b[0m | \u001b[0m3.834    \u001b[0m |\n",
      "| \u001b[0m6        \u001b[0m | \u001b[0m-25.41   \u001b[0m | \u001b[0m0.6342   \u001b[0m | \u001b[0m0.09743  \u001b[0m | \u001b[0m1.958    \u001b[0m |\n",
      "| \u001b[0m7        \u001b[0m | \u001b[0m-25.46   \u001b[0m | \u001b[0m3.824    \u001b[0m | \u001b[0m0.06113  \u001b[0m | \u001b[0m2.053    \u001b[0m |\n",
      "| \u001b[0m8        \u001b[0m | \u001b[0m-25.87   \u001b[0m | \u001b[0m5.562    \u001b[0m | \u001b[0m0.05148  \u001b[0m | \u001b[0m3.567    \u001b[0m |\n",
      "| \u001b[95m9        \u001b[0m | \u001b[95m-25.11   \u001b[0m | \u001b[95m7.674    \u001b[0m | \u001b[95m0.003102 \u001b[0m | \u001b[95m2.887    \u001b[0m |\n",
      "| \u001b[0m10       \u001b[0m | \u001b[0m-25.82   \u001b[0m | \u001b[0m0.4557   \u001b[0m | \u001b[0m0.0896   \u001b[0m | \u001b[0m3.721    \u001b[0m |\n",
      "| \u001b[95m11       \u001b[0m | \u001b[95m-24.93   \u001b[0m | \u001b[95m7.353    \u001b[0m | \u001b[95m0.001    \u001b[0m | \u001b[95m3.17     \u001b[0m |\n",
      "| \u001b[0m12       \u001b[0m | \u001b[0m-24.98   \u001b[0m | \u001b[0m6.981    \u001b[0m | \u001b[0m0.001    \u001b[0m | \u001b[0m2.756    \u001b[0m |\n",
      "| \u001b[0m13       \u001b[0m | \u001b[0m-24.93   \u001b[0m | \u001b[0m7.221    \u001b[0m | \u001b[0m0.001    \u001b[0m | \u001b[0m3.997    \u001b[0m |\n",
      "| \u001b[0m14       \u001b[0m | \u001b[0m-25.86   \u001b[0m | \u001b[0m6.29     \u001b[0m | \u001b[0m0.001    \u001b[0m | \u001b[0m1.52     \u001b[0m |\n",
      "| \u001b[0m15       \u001b[0m | \u001b[0m-25.89   \u001b[0m | \u001b[0m6.805    \u001b[0m | \u001b[0m0.1      \u001b[0m | \u001b[0m3.522    \u001b[0m |\n",
      "| \u001b[0m16       \u001b[0m | \u001b[0m-25.79   \u001b[0m | \u001b[0m7.295    \u001b[0m | \u001b[0m0.1      \u001b[0m | \u001b[0m2.855    \u001b[0m |\n",
      "| \u001b[0m17       \u001b[0m | \u001b[0m-25.66   \u001b[0m | \u001b[0m1.996    \u001b[0m | \u001b[0m0.06114  \u001b[0m | \u001b[0m1.024    \u001b[0m |\n",
      "| \u001b[0m18       \u001b[0m | \u001b[0m-25.83   \u001b[0m | \u001b[0m1.619    \u001b[0m | \u001b[0m0.06075  \u001b[0m | \u001b[0m3.256    \u001b[0m |\n",
      "| \u001b[0m19       \u001b[0m | \u001b[0m-25.83   \u001b[0m | \u001b[0m1.855    \u001b[0m | \u001b[0m0.05928  \u001b[0m | \u001b[0m3.594    \u001b[0m |\n",
      "| \u001b[0m20       \u001b[0m | \u001b[0m-25.34   \u001b[0m | \u001b[0m2.378    \u001b[0m | \u001b[0m0.05421  \u001b[0m | \u001b[0m2.751    \u001b[0m |\n",
      "| \u001b[0m21       \u001b[0m | \u001b[0m-25.88   \u001b[0m | \u001b[0m3.292    \u001b[0m | \u001b[0m0.06886  \u001b[0m | \u001b[0m3.652    \u001b[0m |\n",
      "| \u001b[0m22       \u001b[0m | \u001b[0m-25.86   \u001b[0m | \u001b[0m5.59     \u001b[0m | \u001b[0m0.04886  \u001b[0m | \u001b[0m1.451    \u001b[0m |\n",
      "| \u001b[0m23       \u001b[0m | \u001b[0m-25.85   \u001b[0m | \u001b[0m9.087    \u001b[0m | \u001b[0m0.02559  \u001b[0m | \u001b[0m1.105    \u001b[0m |\n",
      "| \u001b[0m24       \u001b[0m | \u001b[0m-25.32   \u001b[0m | \u001b[0m4.872    \u001b[0m | \u001b[0m0.0228   \u001b[0m | \u001b[0m2.958    \u001b[0m |\n",
      "| \u001b[0m25       \u001b[0m | \u001b[0m-25.86   \u001b[0m | \u001b[0m8.051    \u001b[0m | \u001b[0m0.07785  \u001b[0m | \u001b[0m1.146    \u001b[0m |\n",
      "| \u001b[0m26       \u001b[0m | \u001b[0m-25.2    \u001b[0m | \u001b[0m4.356    \u001b[0m | \u001b[0m0.01513  \u001b[0m | \u001b[0m3.655    \u001b[0m |\n",
      "| \u001b[0m27       \u001b[0m | \u001b[0m-25.21   \u001b[0m | \u001b[0m1.279    \u001b[0m | \u001b[0m0.04978  \u001b[0m | \u001b[0m2.049    \u001b[0m |\n",
      "| \u001b[0m28       \u001b[0m | \u001b[0m-25.08   \u001b[0m | \u001b[0m2.039    \u001b[0m | \u001b[0m0.0153   \u001b[0m | \u001b[0m3.075    \u001b[0m |\n",
      "| \u001b[0m29       \u001b[0m | \u001b[0m-25.92   \u001b[0m | \u001b[0m7.044    \u001b[0m | \u001b[0m0.08955  \u001b[0m | \u001b[0m3.971    \u001b[0m |\n",
      "| \u001b[0m30       \u001b[0m | \u001b[0m-25.86   \u001b[0m | \u001b[0m5.272    \u001b[0m | \u001b[0m0.04938  \u001b[0m | \u001b[0m1.147    \u001b[0m |\n",
      "| \u001b[0m31       \u001b[0m | \u001b[0m-25.88   \u001b[0m | \u001b[0m3.484    \u001b[0m | \u001b[0m0.06628  \u001b[0m | \u001b[0m3.142    \u001b[0m |\n",
      "| \u001b[0m32       \u001b[0m | \u001b[0m-25.86   \u001b[0m | \u001b[0m5.447    \u001b[0m | \u001b[0m0.0799   \u001b[0m | \u001b[0m1.911    \u001b[0m |\n",
      "| \u001b[0m33       \u001b[0m | \u001b[0m-25.78   \u001b[0m | \u001b[0m3.459    \u001b[0m | \u001b[0m0.02942  \u001b[0m | \u001b[0m1.589    \u001b[0m |\n",
      "| \u001b[0m34       \u001b[0m | \u001b[0m-25.93   \u001b[0m | \u001b[0m2.867    \u001b[0m | \u001b[0m0.09295  \u001b[0m | \u001b[0m3.531    \u001b[0m |\n",
      "| \u001b[0m35       \u001b[0m | \u001b[0m-25.81   \u001b[0m | \u001b[0m0.5529   \u001b[0m | \u001b[0m0.0776   \u001b[0m | \u001b[0m3.03     \u001b[0m |\n",
      "| \u001b[0m36       \u001b[0m | \u001b[0m-25.68   \u001b[0m | \u001b[0m4.674    \u001b[0m | \u001b[0m0.09953  \u001b[0m | \u001b[0m2.806    \u001b[0m |\n",
      "| \u001b[0m37       \u001b[0m | \u001b[0m-25.16   \u001b[0m | \u001b[0m0.3699   \u001b[0m | \u001b[0m0.03265  \u001b[0m | \u001b[0m3.598    \u001b[0m |\n",
      "| \u001b[0m38       \u001b[0m | \u001b[0m-25.78   \u001b[0m | \u001b[0m0.361    \u001b[0m | \u001b[0m0.07709  \u001b[0m | \u001b[0m3.608    \u001b[0m |\n",
      "| \u001b[0m39       \u001b[0m | \u001b[0m-25.47   \u001b[0m | \u001b[0m5.26     \u001b[0m | \u001b[0m0.04643  \u001b[0m | \u001b[0m2.167    \u001b[0m |\n",
      "| \u001b[0m40       \u001b[0m | \u001b[0m-25.23   \u001b[0m | \u001b[0m1.494    \u001b[0m | \u001b[0m0.05461  \u001b[0m | \u001b[0m2.698    \u001b[0m |\n",
      "| \u001b[0m41       \u001b[0m | \u001b[0m-25.85   \u001b[0m | \u001b[0m5.018    \u001b[0m | \u001b[0m0.03593  \u001b[0m | \u001b[0m1.06     \u001b[0m |\n",
      "| \u001b[0m42       \u001b[0m | \u001b[0m-25.3    \u001b[0m | \u001b[0m3.145    \u001b[0m | \u001b[0m0.0307   \u001b[0m | \u001b[0m2.922    \u001b[0m |\n",
      "| \u001b[0m43       \u001b[0m | \u001b[0m-25.37   \u001b[0m | \u001b[0m1.785    \u001b[0m | \u001b[0m0.09757  \u001b[0m | \u001b[0m2.384    \u001b[0m |\n",
      "| \u001b[0m44       \u001b[0m | \u001b[0m-25.49   \u001b[0m | \u001b[0m8.156    \u001b[0m | \u001b[0m0.03199  \u001b[0m | \u001b[0m2.886    \u001b[0m |\n",
      "| \u001b[0m45       \u001b[0m | \u001b[0m-25.52   \u001b[0m | \u001b[0m3.008    \u001b[0m | \u001b[0m0.0964   \u001b[0m | \u001b[0m2.539    \u001b[0m |\n",
      "| \u001b[0m46       \u001b[0m | \u001b[0m-25.73   \u001b[0m | \u001b[0m5.839    \u001b[0m | \u001b[0m0.09738  \u001b[0m | \u001b[0m2.632    \u001b[0m |\n",
      "| \u001b[0m47       \u001b[0m | \u001b[0m-25.75   \u001b[0m | \u001b[0m8.297    \u001b[0m | \u001b[0m0.07064  \u001b[0m | \u001b[0m2.696    \u001b[0m |\n",
      "| \u001b[0m48       \u001b[0m | \u001b[0m-25.69   \u001b[0m | \u001b[0m0.5166   \u001b[0m | \u001b[0m0.0612   \u001b[0m | \u001b[0m3.461    \u001b[0m |\n",
      "| \u001b[0m49       \u001b[0m | \u001b[0m-25.78   \u001b[0m | \u001b[0m3.548    \u001b[0m | \u001b[0m0.0817   \u001b[0m | \u001b[0m1.066    \u001b[0m |\n",
      "| \u001b[0m50       \u001b[0m | \u001b[0m-25.15   \u001b[0m | \u001b[0m1.842    \u001b[0m | \u001b[0m0.02202  \u001b[0m | \u001b[0m2.305    \u001b[0m |\n",
      "=============================================================\n"
     ]
    },
    {
     "data": {
      "text/html": [
       "<style>#sk-container-id-1 {color: black;background-color: white;}#sk-container-id-1 pre{padding: 0;}#sk-container-id-1 div.sk-toggleable {background-color: white;}#sk-container-id-1 label.sk-toggleable__label {cursor: pointer;display: block;width: 100%;margin-bottom: 0;padding: 0.3em;box-sizing: border-box;text-align: center;}#sk-container-id-1 label.sk-toggleable__label-arrow:before {content: \"▸\";float: left;margin-right: 0.25em;color: #696969;}#sk-container-id-1 label.sk-toggleable__label-arrow:hover:before {color: black;}#sk-container-id-1 div.sk-estimator:hover label.sk-toggleable__label-arrow:before {color: black;}#sk-container-id-1 div.sk-toggleable__content {max-height: 0;max-width: 0;overflow: hidden;text-align: left;background-color: #f0f8ff;}#sk-container-id-1 div.sk-toggleable__content pre {margin: 0.2em;color: black;border-radius: 0.25em;background-color: #f0f8ff;}#sk-container-id-1 input.sk-toggleable__control:checked~div.sk-toggleable__content {max-height: 200px;max-width: 100%;overflow: auto;}#sk-container-id-1 input.sk-toggleable__control:checked~label.sk-toggleable__label-arrow:before {content: \"▾\";}#sk-container-id-1 div.sk-estimator input.sk-toggleable__control:checked~label.sk-toggleable__label {background-color: #d4ebff;}#sk-container-id-1 div.sk-label input.sk-toggleable__control:checked~label.sk-toggleable__label {background-color: #d4ebff;}#sk-container-id-1 input.sk-hidden--visually {border: 0;clip: rect(1px 1px 1px 1px);clip: rect(1px, 1px, 1px, 1px);height: 1px;margin: -1px;overflow: hidden;padding: 0;position: absolute;width: 1px;}#sk-container-id-1 div.sk-estimator {font-family: monospace;background-color: #f0f8ff;border: 1px dotted black;border-radius: 0.25em;box-sizing: border-box;margin-bottom: 0.5em;}#sk-container-id-1 div.sk-estimator:hover {background-color: #d4ebff;}#sk-container-id-1 div.sk-parallel-item::after {content: \"\";width: 100%;border-bottom: 1px solid gray;flex-grow: 1;}#sk-container-id-1 div.sk-label:hover label.sk-toggleable__label {background-color: #d4ebff;}#sk-container-id-1 div.sk-serial::before {content: \"\";position: absolute;border-left: 1px solid gray;box-sizing: border-box;top: 0;bottom: 0;left: 50%;z-index: 0;}#sk-container-id-1 div.sk-serial {display: flex;flex-direction: column;align-items: center;background-color: white;padding-right: 0.2em;padding-left: 0.2em;position: relative;}#sk-container-id-1 div.sk-item {position: relative;z-index: 1;}#sk-container-id-1 div.sk-parallel {display: flex;align-items: stretch;justify-content: center;background-color: white;position: relative;}#sk-container-id-1 div.sk-item::before, #sk-container-id-1 div.sk-parallel-item::before {content: \"\";position: absolute;border-left: 1px solid gray;box-sizing: border-box;top: 0;bottom: 0;left: 50%;z-index: -1;}#sk-container-id-1 div.sk-parallel-item {display: flex;flex-direction: column;z-index: 1;position: relative;background-color: white;}#sk-container-id-1 div.sk-parallel-item:first-child::after {align-self: flex-end;width: 50%;}#sk-container-id-1 div.sk-parallel-item:last-child::after {align-self: flex-start;width: 50%;}#sk-container-id-1 div.sk-parallel-item:only-child::after {width: 0;}#sk-container-id-1 div.sk-dashed-wrapped {border: 1px dashed gray;margin: 0 0.4em 0.5em 0.4em;box-sizing: border-box;padding-bottom: 0.4em;background-color: white;}#sk-container-id-1 div.sk-label label {font-family: monospace;font-weight: bold;display: inline-block;line-height: 1.2em;}#sk-container-id-1 div.sk-label-container {text-align: center;}#sk-container-id-1 div.sk-container {/* jupyter's `normalize.less` sets `[hidden] { display: none; }` but bootstrap.min.css set `[hidden] { display: none !important; }` so we also need the `!important` here to be able to override the default hidden behavior on the sphinx rendered scikit-learn.org. See: https://github.com/scikit-learn/scikit-learn/issues/21755 */display: inline-block !important;position: relative;}#sk-container-id-1 div.sk-text-repr-fallback {display: none;}</style><div id=\"sk-container-id-1\" class=\"sk-top-container\"><div class=\"sk-text-repr-fallback\"><pre>SVR(C=7.353083084830898, gamma=0.001, kernel=&#x27;poly&#x27;)</pre><b>In a Jupyter environment, please rerun this cell to show the HTML representation or trust the notebook. <br />On GitHub, the HTML representation is unable to render, please try loading this page with nbviewer.org.</b></div><div class=\"sk-container\" hidden><div class=\"sk-item\"><div class=\"sk-estimator sk-toggleable\"><input class=\"sk-toggleable__control sk-hidden--visually\" id=\"sk-estimator-id-1\" type=\"checkbox\" checked><label for=\"sk-estimator-id-1\" class=\"sk-toggleable__label sk-toggleable__label-arrow\">SVR</label><div class=\"sk-toggleable__content\"><pre>SVR(C=7.353083084830898, gamma=0.001, kernel=&#x27;poly&#x27;)</pre></div></div></div></div></div>"
      ],
      "text/plain": [
       "SVR(C=7.353083084830898, gamma=0.001, kernel='poly')"
      ]
     },
     "execution_count": 6,
     "metadata": {},
     "output_type": "execute_result"
    }
   ],
   "source": [
    "def bo_params_generic(model, params, X_train, y_train):\n",
    "    # Create the model instance with the specified parameters\n",
    "    classifier = model(**params)\n",
    "    \n",
    "    # Calculating accuracy based on cross-validation\n",
    "    scores = cross_val_score(classifier, X_train, y_train, cv=10, scoring='neg_mean_squared_error')\n",
    "    return scores.mean()\n",
    "\n",
    "params_ranges = {\n",
    "    'C': (0.1, 10),\n",
    "    'kernel_int': (1, 4),\n",
    "    'gamma': (0.001, 0.1)\n",
    "}\n",
    "\n",
    "kernel_mapping = {\n",
    "    1: 'linear',\n",
    "    2: 'rbf',\n",
    "    3: 'poly',\n",
    "    4: 'sigmoid'\n",
    "}\n",
    "\n",
    "# Example usage with SVM\n",
    "model = SVR\n",
    "model_bo = BayesianOptimization(f=lambda C, kernel_int, gamma:\n",
    "                                    bo_params_generic(model, {\n",
    "                                        'C': C,\n",
    "                                        'kernel': kernel_mapping[int(kernel_int)],\n",
    "                                        'gamma': gamma\n",
    "                                    }, X_train, y_train),\n",
    "                             pbounds=params_ranges)\n",
    "\n",
    "results = model_bo.maximize(n_iter=40, init_points=10)\n",
    "params = model_bo.max['params']\n",
    "\n",
    "# Creating a model with the best hyperparameters\n",
    "best_model_svm = model(\n",
    "    C=params['C'],\n",
    "    kernel=kernel_mapping[int(params['kernel_int'])],\n",
    "    gamma=params['gamma']\n",
    ")\n",
    "\n",
    "# Fit the model\n",
    "best_model_svm.fit(X_train, y_train)\n"
   ]
  },
  {
   "attachments": {},
   "cell_type": "markdown",
   "metadata": {},
   "source": [
    "**Feature Selection**"
   ]
  },
  {
   "cell_type": "code",
   "execution_count": 7,
   "metadata": {},
   "outputs": [
    {
     "name": "stdout",
     "output_type": "stream",
     "text": [
      "Scince the kernal is not linear, this feature selection is not possible\n",
      "Best features: Index(['NederlandseAntillenEnAruba', 'GeboorteRelatief', 'SterfteRelatief',\n",
      "       'GemiddeldeWoningwaarde', 'PercentageOnbewoond',\n",
      "       'InBezitWoningcorporatie', 'InBezitOverigeVerhuurders',\n",
      "       'EigendomOnbekend', 'BouwjaarVanaf2000', 'kPersonenMetLaagsteInkomen',\n",
      "       'ALandbouwBosbouwEnVisserij', 'KLFinancieleDienstenOnroerendGoed',\n",
      "       'PersonenautoSOverigeBrandstof', 'PersonenautoSPerHuishouden',\n",
      "       'PersonenautoSNaarOppervlakte', 'AfstandTotHuisartsenpraktijk',\n",
      "       'AfstandTotKinderdagverblijf', 'AfstandTotSchool', 'OppervlakteWater',\n",
      "       'TotaalDiefstalUitWoningSchuurED',\n",
      "       'VernielingMisdrijfTegenOpenbareOrde', 'GeweldsEnSeksueleMisdrijven',\n",
      "       'AfstandTotHuisartsenpost', 'AfstandTotApotheek',\n",
      "       'AfstandTotConsultatiebureau', 'AfstandTotOvDagelLevensmiddelen',\n",
      "       'AfstandTotWarenhuis', 'AfstandTotCafeED', 'AfstandTotCafetariaED',\n",
      "       'AfstandTotRestaurant', 'AfstandTotHotelED',\n",
      "       'AfstandTotBuitenschoolseOpvang', 'AfstandTotOpenbaarGroenTotaal',\n",
      "       'AfstandTotDagrecreatiefTerrein', 'AfstandTotBos',\n",
      "       'AfstandTotOpenNatTerreinTotaal', 'AfstandTotOpenDroogNatTerrein',\n",
      "       'AfstandTotOpenNatNatuurlijkTerrein',\n",
      "       'AfstandTotSemiOpenbaarGroenTotaal', 'AfstandTotSportterrein',\n",
      "       'AfstandTotVolkstuin', 'AfstandTotVerblijfsrecreatiefTerrein',\n",
      "       'AfstandTotBegraafplaats', 'AfstandTotTreinstationsTotaal',\n",
      "       'AfstandTotBelangrijkOverstapstation', 'AfstandTotBibliotheek',\n",
      "       'AfstandTotZwembad', 'AfstandTotKunstijsbaan', 'AfstandTotMuseum',\n",
      "       'AfstandTotPodiumkunstenTotaal', 'AfstandTotPoppodium',\n",
      "       'AfstandTotBioscoop', 'AfstandTotSauna', 'AfstandTotZonnebank',\n",
      "       'AfstandTotAttractie', 'AfstandTotBrandweerkazerne',\n",
      "       'ErvarenGezondheidGoedZeerGoed', 'EenOfMeerLangdurigeAandoeningen',\n",
      "       'BeperkingInHoren', 'BeperkingInZien', 'Ondergewicht',\n",
      "       'MatigOvergewicht', 'ErnstigOvergewichtObesitas',\n",
      "       'VoldoetAanBeweegrichtlijn', 'Mantelzorger',\n",
      "       'ZwaarBelasteMantelzorgers', 'UrenMantelzorgPerWeek', 'Rokers',\n",
      "       'VoldoetAanRichtlijnAlcoholgebruik', 'OvermatigDrinker'],\n",
      "      dtype='object')\n",
      "Dropped features: []\n"
     ]
    }
   ],
   "source": [
    "# Get the accuracy score of the model with all features\n",
    "best_accuracy = cross_val_score(best_model_svm, X_train, y_train, cv=10, scoring='neg_mean_squared_error', n_jobs=-1).mean()\n",
    "best_model = best_model_svm\n",
    "selected_features = X_train.columns\n",
    "best_features = selected_features\n",
    "\n",
    "while len(selected_features) > 1:\n",
    "    try:\n",
    "        # Retrieve the coefficients from the SVM model\n",
    "        coefficients = best_model_svm.coef_[0]\n",
    "\n",
    "        # Sort features based on their coefficient magnitudes\n",
    "        sorted_indices = np.argsort(np.abs(coefficients))\n",
    "        selected_features = [X_train.columns[i] for i in sorted_indices[::-1]]\n",
    "\n",
    "        # Remove the least important feature\n",
    "        selected_features = selected_features[:-1]\n",
    "        \n",
    "        # Refit the linear SVM classifier\n",
    "        best_model_svm_classification.fit(X_train[selected_features], y_train)\n",
    "        \n",
    "        # Evaluate Model Performance\n",
    "        accuracy = cross_val_score(best_model_svm, X_train[selected_features], y_train, cv=10, scoring='neg_mean_squared_error', n_jobs=-1).mean()\n",
    "\n",
    "        # Check if the model performs better without the insignificant features\n",
    "        if accuracy >= best_accuracy:\n",
    "            best_accuracy = accuracy\n",
    "            best_features = selected_features.copy()\n",
    "            best_model = best_model_svm\n",
    "    except:\n",
    "        print(\"Scince the kernal is not linear, this feature selection is not possible\") \n",
    "        break\n",
    "\n",
    "# Save results\n",
    "best_model_svm = best_model\n",
    "best_features_svm = best_features\n",
    "\n",
    "# Show results\n",
    "print(\"Best features:\", best_features_svm)\n",
    "print(\"Dropped features:\", list(set(X_train.columns.tolist()) - set(best_features_svm)))"
   ]
  },
  {
   "attachments": {},
   "cell_type": "markdown",
   "metadata": {},
   "source": [
    "# Random Forest"
   ]
  },
  {
   "attachments": {},
   "cell_type": "markdown",
   "metadata": {},
   "source": [
    "**Feature selection**"
   ]
  },
  {
   "cell_type": "code",
   "execution_count": 8,
   "metadata": {},
   "outputs": [
    {
     "name": "stdout",
     "output_type": "stream",
     "text": [
      "Best features: ['ALandbouwBosbouwEnVisserij']\n",
      "Dropped features: ['AfstandTotBioscoop', 'UrenMantelzorgPerWeek', 'SterfteRelatief', 'Ondergewicht', 'AfstandTotDagrecreatiefTerrein', 'AfstandTotOpenDroogNatTerrein', 'VoldoetAanBeweegrichtlijn', 'AfstandTotConsultatiebureau', 'AfstandTotCafeED', 'AfstandTotPodiumkunstenTotaal', 'AfstandTotVolkstuin', 'Rokers', 'AfstandTotCafetariaED', 'AfstandTotWarenhuis', 'GeboorteRelatief', 'ErvarenGezondheidGoedZeerGoed', 'BeperkingInZien', 'AfstandTotPoppodium', 'TotaalDiefstalUitWoningSchuurED', 'ErnstigOvergewichtObesitas', 'Mantelzorger', 'AfstandTotOpenNatNatuurlijkTerrein', 'InBezitOverigeVerhuurders', 'MatigOvergewicht', 'AfstandTotSemiOpenbaarGroenTotaal', 'AfstandTotVerblijfsrecreatiefTerrein', 'AfstandTotKunstijsbaan', 'AfstandTotZwembad', 'NederlandseAntillenEnAruba', 'AfstandTotAttractie', 'AfstandTotBibliotheek', 'AfstandTotOpenbaarGroenTotaal', 'PersonenautoSPerHuishouden', 'AfstandTotSportterrein', 'GeweldsEnSeksueleMisdrijven', 'ZwaarBelasteMantelzorgers', 'AfstandTotMuseum', 'EigendomOnbekend', 'OppervlakteWater', 'AfstandTotApotheek', 'AfstandTotOpenNatTerreinTotaal', 'EenOfMeerLangdurigeAandoeningen', 'KLFinancieleDienstenOnroerendGoed', 'VoldoetAanRichtlijnAlcoholgebruik', 'PersonenautoSOverigeBrandstof', 'BouwjaarVanaf2000', 'InBezitWoningcorporatie', 'AfstandTotOvDagelLevensmiddelen', 'AfstandTotKinderdagverblijf', 'VernielingMisdrijfTegenOpenbareOrde', 'kPersonenMetLaagsteInkomen', 'AfstandTotTreinstationsTotaal', 'AfstandTotHuisartsenpost', 'AfstandTotZonnebank', 'AfstandTotSchool', 'AfstandTotHotelED', 'AfstandTotBos', 'AfstandTotHuisartsenpraktijk', 'GemiddeldeWoningwaarde', 'PersonenautoSNaarOppervlakte', 'AfstandTotRestaurant', 'AfstandTotBegraafplaats', 'AfstandTotSauna', 'OvermatigDrinker', 'AfstandTotBelangrijkOverstapstation', 'AfstandTotBrandweerkazerne', 'AfstandTotBuitenschoolseOpvang', 'BeperkingInHoren', 'PercentageOnbewoond']\n"
     ]
    }
   ],
   "source": [
    "# Get the accuracy score of the model with all the features\n",
    "rf = RandomForestRegressor(n_estimators=100, random_state=0).fit(X_train, y_train)\n",
    "best_rf = rf\n",
    "selected_features = X_train.columns.tolist()\n",
    "best_features = selected_features\n",
    "best_features_accuracy = cross_val_score(RandomForestRegressor(n_estimators=100, random_state=0), X_train, y_train, cv=10, scoring='neg_mean_squared_error', n_jobs=-1).mean()\n",
    "\n",
    "while True:\n",
    "    # Make DataFrame of feature impotances\n",
    "    result = permutation_importance(\n",
    "            rf, X_train[selected_features], y_train, n_repeats=10, random_state=42, n_jobs=-1\n",
    "        )\n",
    "    df_importances = pd.DataFrame({'feature': X_train[selected_features].columns, 'importance': result.importances_mean, 'std': result.importances_std})\n",
    "    df_importances = df_importances.sort_values('importance')\n",
    "\n",
    "    # Remove least important feature\n",
    "    selected_features.remove(df_importances['feature'].iloc[0])\n",
    "\n",
    "    # When there are no features left\n",
    "    if len(selected_features) == 0:\n",
    "        break\n",
    "    \n",
    "    # Refit the Model\n",
    "    rf = RandomForestRegressor(n_estimators=100, random_state=0).fit(X_train[selected_features], y_train)\n",
    "\n",
    "    # Evaluate Model Performance\n",
    "    accuracy = cross_val_score(RandomForestRegressor(n_estimators=100, random_state=0), X_train[selected_features], y_train, cv=10, scoring='neg_mean_squared_error', n_jobs=-1).mean()\n",
    "\n",
    "    # Check if the model performs better without the insignificant features\n",
    "    if accuracy >= best_features_accuracy:\n",
    "        best_features_accuracy = accuracy\n",
    "        best_features = selected_features.copy()\n",
    "        best_model = rf\n",
    "\n",
    "# Save results\n",
    "best_model_rf = best_model\n",
    "best_features_rf = best_features\n",
    "\n",
    "# Show results\n",
    "print(\"Best features:\", best_features_rf)\n",
    "print(\"Dropped features:\", list(set(X_train.columns.tolist()) - set(best_features_rf)))"
   ]
  },
  {
   "attachments": {},
   "cell_type": "markdown",
   "metadata": {},
   "source": [
    "**Hyperparameter optimalisatie**"
   ]
  },
  {
   "cell_type": "code",
   "execution_count": 9,
   "metadata": {},
   "outputs": [
    {
     "name": "stdout",
     "output_type": "stream",
     "text": [
      "|   iter    |  target   | max_depth | max_fe... | min_sa... | n_esti... |\n",
      "-------------------------------------------------------------------------\n",
      "| \u001b[0m1        \u001b[0m | \u001b[0m-24.93   \u001b[0m | \u001b[0m7.798    \u001b[0m | \u001b[0m0.3836   \u001b[0m | \u001b[0m3.099    \u001b[0m | \u001b[0m451.0    \u001b[0m |\n",
      "| \u001b[95m2        \u001b[0m | \u001b[95m-24.93   \u001b[0m | \u001b[95m8.807    \u001b[0m | \u001b[95m0.4258   \u001b[0m | \u001b[95m7.412    \u001b[0m | \u001b[95m546.6    \u001b[0m |\n",
      "| \u001b[0m3        \u001b[0m | \u001b[0m-24.93   \u001b[0m | \u001b[0m12.66    \u001b[0m | \u001b[0m0.6761   \u001b[0m | \u001b[0m8.063    \u001b[0m | \u001b[0m236.4    \u001b[0m |\n",
      "| \u001b[0m4        \u001b[0m | \u001b[0m-24.93   \u001b[0m | \u001b[0m9.409    \u001b[0m | \u001b[0m0.9179   \u001b[0m | \u001b[0m6.422    \u001b[0m | \u001b[0m528.8    \u001b[0m |\n",
      "| \u001b[0m5        \u001b[0m | \u001b[0m-24.93   \u001b[0m | \u001b[0m17.24    \u001b[0m | \u001b[0m0.8872   \u001b[0m | \u001b[0m9.247    \u001b[0m | \u001b[0m439.8    \u001b[0m |\n",
      "| \u001b[0m6        \u001b[0m | \u001b[0m-24.93   \u001b[0m | \u001b[0m12.59    \u001b[0m | \u001b[0m0.7683   \u001b[0m | \u001b[0m8.564    \u001b[0m | \u001b[0m454.3    \u001b[0m |\n",
      "| \u001b[0m7        \u001b[0m | \u001b[0m-24.93   \u001b[0m | \u001b[0m6.835    \u001b[0m | \u001b[0m0.3377   \u001b[0m | \u001b[0m3.608    \u001b[0m | \u001b[0m967.2    \u001b[0m |\n",
      "| \u001b[95m8        \u001b[0m | \u001b[95m-24.88   \u001b[0m | \u001b[95m3.078    \u001b[0m | \u001b[95m0.1753   \u001b[0m | \u001b[95m3.964    \u001b[0m | \u001b[95m877.1    \u001b[0m |\n",
      "| \u001b[0m9        \u001b[0m | \u001b[0m-24.93   \u001b[0m | \u001b[0m6.255    \u001b[0m | \u001b[0m0.5531   \u001b[0m | \u001b[0m9.193    \u001b[0m | \u001b[0m339.7    \u001b[0m |\n",
      "| \u001b[0m10       \u001b[0m | \u001b[0m-24.93   \u001b[0m | \u001b[0m10.16    \u001b[0m | \u001b[0m0.4124   \u001b[0m | \u001b[0m4.426    \u001b[0m | \u001b[0m836.8    \u001b[0m |\n",
      "| \u001b[95m11       \u001b[0m | \u001b[95m-24.73   \u001b[0m | \u001b[95m2.025    \u001b[0m | \u001b[95m0.2386   \u001b[0m | \u001b[95m5.023    \u001b[0m | \u001b[95m875.6    \u001b[0m |\n",
      "| \u001b[0m12       \u001b[0m | \u001b[0m-24.88   \u001b[0m | \u001b[0m3.203    \u001b[0m | \u001b[0m0.7916   \u001b[0m | \u001b[0m5.093    \u001b[0m | \u001b[0m876.2    \u001b[0m |\n",
      "| \u001b[0m13       \u001b[0m | \u001b[0m-24.88   \u001b[0m | \u001b[0m2.515    \u001b[0m | \u001b[0m0.5644   \u001b[0m | \u001b[0m4.895    \u001b[0m | \u001b[0m877.0    \u001b[0m |\n",
      "| \u001b[0m14       \u001b[0m | \u001b[0m-24.97   \u001b[0m | \u001b[0m3.571    \u001b[0m | \u001b[0m0.5525   \u001b[0m | \u001b[0m4.306    \u001b[0m | \u001b[0m875.3    \u001b[0m |\n",
      "| \u001b[0m15       \u001b[0m | \u001b[0m-24.73   \u001b[0m | \u001b[0m2.087    \u001b[0m | \u001b[0m0.6601   \u001b[0m | \u001b[0m6.058    \u001b[0m | \u001b[0m875.3    \u001b[0m |\n",
      "| \u001b[0m16       \u001b[0m | \u001b[0m-24.8    \u001b[0m | \u001b[0m1.041    \u001b[0m | \u001b[0m0.3836   \u001b[0m | \u001b[0m6.333    \u001b[0m | \u001b[0m876.8    \u001b[0m |\n",
      "| \u001b[0m17       \u001b[0m | \u001b[0m-24.8    \u001b[0m | \u001b[0m1.133    \u001b[0m | \u001b[0m0.2469   \u001b[0m | \u001b[0m4.315    \u001b[0m | \u001b[0m874.7    \u001b[0m |\n",
      "| \u001b[0m18       \u001b[0m | \u001b[0m-24.73   \u001b[0m | \u001b[0m1.941    \u001b[0m | \u001b[0m0.9143   \u001b[0m | \u001b[0m5.624    \u001b[0m | \u001b[0m873.6    \u001b[0m |\n",
      "| \u001b[0m19       \u001b[0m | \u001b[0m-24.8    \u001b[0m | \u001b[0m1.168    \u001b[0m | \u001b[0m0.4148   \u001b[0m | \u001b[0m6.668    \u001b[0m | \u001b[0m874.7    \u001b[0m |\n",
      "| \u001b[0m20       \u001b[0m | \u001b[0m-24.8    \u001b[0m | \u001b[0m1.226    \u001b[0m | \u001b[0m0.1703   \u001b[0m | \u001b[0m5.189    \u001b[0m | \u001b[0m872.7    \u001b[0m |\n",
      "| \u001b[0m21       \u001b[0m | \u001b[0m-24.88   \u001b[0m | \u001b[0m2.879    \u001b[0m | \u001b[0m0.7278   \u001b[0m | \u001b[0m7.381    \u001b[0m | \u001b[0m871.8    \u001b[0m |\n",
      "| \u001b[0m22       \u001b[0m | \u001b[0m-24.97   \u001b[0m | \u001b[0m4.184    \u001b[0m | \u001b[0m0.6988   \u001b[0m | \u001b[0m7.562    \u001b[0m | \u001b[0m874.7    \u001b[0m |\n",
      "| \u001b[0m23       \u001b[0m | \u001b[0m-24.73   \u001b[0m | \u001b[0m1.942    \u001b[0m | \u001b[0m0.6322   \u001b[0m | \u001b[0m6.595    \u001b[0m | \u001b[0m873.3    \u001b[0m |\n",
      "| \u001b[0m24       \u001b[0m | \u001b[0m-24.8    \u001b[0m | \u001b[0m1.417    \u001b[0m | \u001b[0m0.7112   \u001b[0m | \u001b[0m4.007    \u001b[0m | \u001b[0m871.2    \u001b[0m |\n",
      "| \u001b[0m25       \u001b[0m | \u001b[0m-24.73   \u001b[0m | \u001b[0m2.179    \u001b[0m | \u001b[0m0.8019   \u001b[0m | \u001b[0m5.353    \u001b[0m | \u001b[0m871.8    \u001b[0m |\n",
      "| \u001b[0m26       \u001b[0m | \u001b[0m-24.88   \u001b[0m | \u001b[0m3.449    \u001b[0m | \u001b[0m0.2503   \u001b[0m | \u001b[0m4.003    \u001b[0m | \u001b[0m870.8    \u001b[0m |\n",
      "| \u001b[0m27       \u001b[0m | \u001b[0m-24.88   \u001b[0m | \u001b[0m2.551    \u001b[0m | \u001b[0m0.2323   \u001b[0m | \u001b[0m6.172    \u001b[0m | \u001b[0m872.6    \u001b[0m |\n",
      "| \u001b[0m28       \u001b[0m | \u001b[0m-24.73   \u001b[0m | \u001b[0m1.584    \u001b[0m | \u001b[0m0.5923   \u001b[0m | \u001b[0m5.181    \u001b[0m | \u001b[0m874.5    \u001b[0m |\n",
      "| \u001b[0m29       \u001b[0m | \u001b[0m-24.73   \u001b[0m | \u001b[0m2.174    \u001b[0m | \u001b[0m0.8016   \u001b[0m | \u001b[0m4.037    \u001b[0m | \u001b[0m872.6    \u001b[0m |\n",
      "| \u001b[0m30       \u001b[0m | \u001b[0m-24.8    \u001b[0m | \u001b[0m1.256    \u001b[0m | \u001b[0m0.1729   \u001b[0m | \u001b[0m9.203    \u001b[0m | \u001b[0m873.7    \u001b[0m |\n",
      "| \u001b[0m31       \u001b[0m | \u001b[0m-24.73   \u001b[0m | \u001b[0m1.842    \u001b[0m | \u001b[0m0.9712   \u001b[0m | \u001b[0m10.69    \u001b[0m | \u001b[0m878.5    \u001b[0m |\n",
      "| \u001b[0m32       \u001b[0m | \u001b[0m-24.8    \u001b[0m | \u001b[0m1.031    \u001b[0m | \u001b[0m0.8011   \u001b[0m | \u001b[0m10.53    \u001b[0m | \u001b[0m876.7    \u001b[0m |\n",
      "| \u001b[0m33       \u001b[0m | \u001b[0m-24.8    \u001b[0m | \u001b[0m1.334    \u001b[0m | \u001b[0m0.9804   \u001b[0m | \u001b[0m11.81    \u001b[0m | \u001b[0m878.0    \u001b[0m |\n",
      "| \u001b[0m34       \u001b[0m | \u001b[0m-24.88   \u001b[0m | \u001b[0m2.603    \u001b[0m | \u001b[0m0.1      \u001b[0m | \u001b[0m10.4     \u001b[0m | \u001b[0m877.9    \u001b[0m |\n",
      "| \u001b[0m35       \u001b[0m | \u001b[0m-24.8    \u001b[0m | \u001b[0m1.198    \u001b[0m | \u001b[0m0.5676   \u001b[0m | \u001b[0m11.37    \u001b[0m | \u001b[0m879.9    \u001b[0m |\n",
      "| \u001b[0m36       \u001b[0m | \u001b[0m-24.73   \u001b[0m | \u001b[0m2.361    \u001b[0m | \u001b[0m0.9949   \u001b[0m | \u001b[0m7.494    \u001b[0m | \u001b[0m873.6    \u001b[0m |\n",
      "| \u001b[0m37       \u001b[0m | \u001b[0m-24.88   \u001b[0m | \u001b[0m2.578    \u001b[0m | \u001b[0m0.723    \u001b[0m | \u001b[0m10.69    \u001b[0m | \u001b[0m880.0    \u001b[0m |\n",
      "| \u001b[0m38       \u001b[0m | \u001b[0m-24.8    \u001b[0m | \u001b[0m1.135    \u001b[0m | \u001b[0m0.815    \u001b[0m | \u001b[0m5.067    \u001b[0m | \u001b[0m870.2    \u001b[0m |\n",
      "| \u001b[0m39       \u001b[0m | \u001b[0m-24.73   \u001b[0m | \u001b[0m1.822    \u001b[0m | \u001b[0m0.8416   \u001b[0m | \u001b[0m6.705    \u001b[0m | \u001b[0m874.3    \u001b[0m |\n",
      "| \u001b[0m40       \u001b[0m | \u001b[0m-24.8    \u001b[0m | \u001b[0m1.368    \u001b[0m | \u001b[0m0.3588   \u001b[0m | \u001b[0m8.095    \u001b[0m | \u001b[0m861.8    \u001b[0m |\n",
      "| \u001b[0m41       \u001b[0m | \u001b[0m-24.8    \u001b[0m | \u001b[0m1.062    \u001b[0m | \u001b[0m0.9818   \u001b[0m | \u001b[0m11.78    \u001b[0m | \u001b[0m873.9    \u001b[0m |\n",
      "| \u001b[0m42       \u001b[0m | \u001b[0m-24.8    \u001b[0m | \u001b[0m1.184    \u001b[0m | \u001b[0m0.4416   \u001b[0m | \u001b[0m10.69    \u001b[0m | \u001b[0m878.4    \u001b[0m |\n",
      "| \u001b[0m43       \u001b[0m | \u001b[0m-24.8    \u001b[0m | \u001b[0m1.036    \u001b[0m | \u001b[0m0.1941   \u001b[0m | \u001b[0m7.11     \u001b[0m | \u001b[0m872.5    \u001b[0m |\n",
      "| \u001b[0m44       \u001b[0m | \u001b[0m-24.8    \u001b[0m | \u001b[0m1.463    \u001b[0m | \u001b[0m0.3674   \u001b[0m | \u001b[0m7.779    \u001b[0m | \u001b[0m873.6    \u001b[0m |\n",
      "| \u001b[0m45       \u001b[0m | \u001b[0m-24.88   \u001b[0m | \u001b[0m2.849    \u001b[0m | \u001b[0m0.6484   \u001b[0m | \u001b[0m11.32    \u001b[0m | \u001b[0m872.9    \u001b[0m |\n",
      "| \u001b[95m46       \u001b[0m | \u001b[95m-24.73   \u001b[0m | \u001b[95m1.592    \u001b[0m | \u001b[95m0.883    \u001b[0m | \u001b[95m5.962    \u001b[0m | \u001b[95m862.5    \u001b[0m |\n",
      "| \u001b[0m47       \u001b[0m | \u001b[0m-24.88   \u001b[0m | \u001b[0m3.415    \u001b[0m | \u001b[0m0.9894   \u001b[0m | \u001b[0m3.748    \u001b[0m | \u001b[0m863.6    \u001b[0m |\n",
      "| \u001b[0m48       \u001b[0m | \u001b[0m-24.73   \u001b[0m | \u001b[0m2.3      \u001b[0m | \u001b[0m0.8953   \u001b[0m | \u001b[0m6.72     \u001b[0m | \u001b[0m862.6    \u001b[0m |\n",
      "| \u001b[0m49       \u001b[0m | \u001b[0m-24.73   \u001b[0m | \u001b[0m2.027    \u001b[0m | \u001b[0m0.3758   \u001b[0m | \u001b[0m6.477    \u001b[0m | \u001b[0m861.0    \u001b[0m |\n",
      "| \u001b[0m50       \u001b[0m | \u001b[0m-24.73   \u001b[0m | \u001b[0m2.059    \u001b[0m | \u001b[0m0.8817   \u001b[0m | \u001b[0m5.505    \u001b[0m | \u001b[0m859.6    \u001b[0m |\n",
      "=========================================================================\n"
     ]
    },
    {
     "data": {
      "text/html": [
       "<style>#sk-container-id-2 {color: black;background-color: white;}#sk-container-id-2 pre{padding: 0;}#sk-container-id-2 div.sk-toggleable {background-color: white;}#sk-container-id-2 label.sk-toggleable__label {cursor: pointer;display: block;width: 100%;margin-bottom: 0;padding: 0.3em;box-sizing: border-box;text-align: center;}#sk-container-id-2 label.sk-toggleable__label-arrow:before {content: \"▸\";float: left;margin-right: 0.25em;color: #696969;}#sk-container-id-2 label.sk-toggleable__label-arrow:hover:before {color: black;}#sk-container-id-2 div.sk-estimator:hover label.sk-toggleable__label-arrow:before {color: black;}#sk-container-id-2 div.sk-toggleable__content {max-height: 0;max-width: 0;overflow: hidden;text-align: left;background-color: #f0f8ff;}#sk-container-id-2 div.sk-toggleable__content pre {margin: 0.2em;color: black;border-radius: 0.25em;background-color: #f0f8ff;}#sk-container-id-2 input.sk-toggleable__control:checked~div.sk-toggleable__content {max-height: 200px;max-width: 100%;overflow: auto;}#sk-container-id-2 input.sk-toggleable__control:checked~label.sk-toggleable__label-arrow:before {content: \"▾\";}#sk-container-id-2 div.sk-estimator input.sk-toggleable__control:checked~label.sk-toggleable__label {background-color: #d4ebff;}#sk-container-id-2 div.sk-label input.sk-toggleable__control:checked~label.sk-toggleable__label {background-color: #d4ebff;}#sk-container-id-2 input.sk-hidden--visually {border: 0;clip: rect(1px 1px 1px 1px);clip: rect(1px, 1px, 1px, 1px);height: 1px;margin: -1px;overflow: hidden;padding: 0;position: absolute;width: 1px;}#sk-container-id-2 div.sk-estimator {font-family: monospace;background-color: #f0f8ff;border: 1px dotted black;border-radius: 0.25em;box-sizing: border-box;margin-bottom: 0.5em;}#sk-container-id-2 div.sk-estimator:hover {background-color: #d4ebff;}#sk-container-id-2 div.sk-parallel-item::after {content: \"\";width: 100%;border-bottom: 1px solid gray;flex-grow: 1;}#sk-container-id-2 div.sk-label:hover label.sk-toggleable__label {background-color: #d4ebff;}#sk-container-id-2 div.sk-serial::before {content: \"\";position: absolute;border-left: 1px solid gray;box-sizing: border-box;top: 0;bottom: 0;left: 50%;z-index: 0;}#sk-container-id-2 div.sk-serial {display: flex;flex-direction: column;align-items: center;background-color: white;padding-right: 0.2em;padding-left: 0.2em;position: relative;}#sk-container-id-2 div.sk-item {position: relative;z-index: 1;}#sk-container-id-2 div.sk-parallel {display: flex;align-items: stretch;justify-content: center;background-color: white;position: relative;}#sk-container-id-2 div.sk-item::before, #sk-container-id-2 div.sk-parallel-item::before {content: \"\";position: absolute;border-left: 1px solid gray;box-sizing: border-box;top: 0;bottom: 0;left: 50%;z-index: -1;}#sk-container-id-2 div.sk-parallel-item {display: flex;flex-direction: column;z-index: 1;position: relative;background-color: white;}#sk-container-id-2 div.sk-parallel-item:first-child::after {align-self: flex-end;width: 50%;}#sk-container-id-2 div.sk-parallel-item:last-child::after {align-self: flex-start;width: 50%;}#sk-container-id-2 div.sk-parallel-item:only-child::after {width: 0;}#sk-container-id-2 div.sk-dashed-wrapped {border: 1px dashed gray;margin: 0 0.4em 0.5em 0.4em;box-sizing: border-box;padding-bottom: 0.4em;background-color: white;}#sk-container-id-2 div.sk-label label {font-family: monospace;font-weight: bold;display: inline-block;line-height: 1.2em;}#sk-container-id-2 div.sk-label-container {text-align: center;}#sk-container-id-2 div.sk-container {/* jupyter's `normalize.less` sets `[hidden] { display: none; }` but bootstrap.min.css set `[hidden] { display: none !important; }` so we also need the `!important` here to be able to override the default hidden behavior on the sphinx rendered scikit-learn.org. See: https://github.com/scikit-learn/scikit-learn/issues/21755 */display: inline-block !important;position: relative;}#sk-container-id-2 div.sk-text-repr-fallback {display: none;}</style><div id=\"sk-container-id-2\" class=\"sk-top-container\"><div class=\"sk-text-repr-fallback\"><pre>RandomForestRegressor(bootstrap=False, max_depth=2,\n",
       "                      max_features=0.883005083348433, min_samples_split=6,\n",
       "                      n_estimators=863)</pre><b>In a Jupyter environment, please rerun this cell to show the HTML representation or trust the notebook. <br />On GitHub, the HTML representation is unable to render, please try loading this page with nbviewer.org.</b></div><div class=\"sk-container\" hidden><div class=\"sk-item\"><div class=\"sk-estimator sk-toggleable\"><input class=\"sk-toggleable__control sk-hidden--visually\" id=\"sk-estimator-id-2\" type=\"checkbox\" checked><label for=\"sk-estimator-id-2\" class=\"sk-toggleable__label sk-toggleable__label-arrow\">RandomForestRegressor</label><div class=\"sk-toggleable__content\"><pre>RandomForestRegressor(bootstrap=False, max_depth=2,\n",
       "                      max_features=0.883005083348433, min_samples_split=6,\n",
       "                      n_estimators=863)</pre></div></div></div></div></div>"
      ],
      "text/plain": [
       "RandomForestRegressor(bootstrap=False, max_depth=2,\n",
       "                      max_features=0.883005083348433, min_samples_split=6,\n",
       "                      n_estimators=863)"
      ]
     },
     "execution_count": 9,
     "metadata": {},
     "output_type": "execute_result"
    }
   ],
   "source": [
    "def bo_params_rf(min_samples_split,max_depth,max_features,n_estimators):\n",
    "    \n",
    "    params = {\n",
    "        'min_samples_split': round(min_samples_split),\n",
    "        'max_depth': round(max_depth),\n",
    "        'max_features': max_features,\n",
    "        'n_estimators':round(n_estimators)\n",
    "    }    \n",
    "        \n",
    "    clf = RandomForestRegressor(min_samples_split=int(params['min_samples_split']), \n",
    "                                 max_depth=int(params['max_depth']), \n",
    "                                 max_features=params['max_features'],\n",
    "                                 n_estimators=int(params['n_estimators']), \n",
    "                                 bootstrap=False,\n",
    "                                 n_jobs = -1)\n",
    "    return cross_val_score(clf, X_train[best_features_rf], y_train, cv=10, scoring='neg_mean_squared_error', n_jobs=-1).mean()\n",
    "\n",
    "# Create Bayesian Optimization\n",
    "rf_bo = BayesianOptimization(f=bo_params_rf, pbounds={\n",
    "    'n_estimators': (100, 1000),\n",
    "    'max_depth': (1, 20),\n",
    "    'max_features': (0.1, 1),\n",
    "    'min_samples_split': (2, 12)\n",
    "})\n",
    "\n",
    "# Bayesian optimization\n",
    "results = rf_bo.maximize(n_iter=40, init_points=10)\n",
    "\n",
    "# Getting best hyperparameters from bayesian optimization\n",
    "params = rf_bo.max['params']\n",
    "params['n_estimators']= round(params['n_estimators'])\n",
    "params['min_samples_split']= round(params['min_samples_split'])\n",
    "params['max_depth']= round(params['max_depth'])\n",
    "\n",
    "# Making random forest model with the best hyperparameters\n",
    "# criterion entropy is after the hyperparameter optimization since it's more accurate but increases training time\n",
    "best_model_rf_classification = RandomForestRegressor(min_samples_split=params['min_samples_split'],\n",
    "                                                max_depth=params['max_depth'],\n",
    "                                                max_features=params['max_features'],\n",
    "                                                n_estimators=params['n_estimators'],\n",
    "                                                bootstrap=False)\n",
    "\n",
    "best_model_rf_classification.fit(X_train[best_features_rf], y_train)"
   ]
  },
  {
   "attachments": {},
   "cell_type": "markdown",
   "metadata": {},
   "source": [
    "# neural network"
   ]
  },
  {
   "attachments": {},
   "cell_type": "markdown",
   "metadata": {},
   "source": [
    "**Feature selection**"
   ]
  },
  {
   "cell_type": "code",
   "execution_count": 10,
   "metadata": {},
   "outputs": [
    {
     "name": "stdout",
     "output_type": "stream",
     "text": [
      "Best features: ['GeweldsEnSeksueleMisdrijven']\n",
      "Dropped features: ['AfstandTotBioscoop', 'UrenMantelzorgPerWeek', 'SterfteRelatief', 'Ondergewicht', 'ALandbouwBosbouwEnVisserij', 'AfstandTotDagrecreatiefTerrein', 'AfstandTotOpenDroogNatTerrein', 'VoldoetAanBeweegrichtlijn', 'AfstandTotConsultatiebureau', 'AfstandTotCafeED', 'AfstandTotPodiumkunstenTotaal', 'AfstandTotVolkstuin', 'Rokers', 'AfstandTotCafetariaED', 'AfstandTotWarenhuis', 'GeboorteRelatief', 'ErvarenGezondheidGoedZeerGoed', 'BeperkingInZien', 'AfstandTotPoppodium', 'TotaalDiefstalUitWoningSchuurED', 'ErnstigOvergewichtObesitas', 'Mantelzorger', 'AfstandTotOpenNatNatuurlijkTerrein', 'InBezitOverigeVerhuurders', 'MatigOvergewicht', 'AfstandTotSemiOpenbaarGroenTotaal', 'AfstandTotVerblijfsrecreatiefTerrein', 'AfstandTotKunstijsbaan', 'AfstandTotZwembad', 'NederlandseAntillenEnAruba', 'AfstandTotAttractie', 'AfstandTotBibliotheek', 'AfstandTotOpenbaarGroenTotaal', 'PersonenautoSPerHuishouden', 'AfstandTotSportterrein', 'ZwaarBelasteMantelzorgers', 'AfstandTotMuseum', 'EigendomOnbekend', 'OppervlakteWater', 'AfstandTotApotheek', 'AfstandTotOpenNatTerreinTotaal', 'EenOfMeerLangdurigeAandoeningen', 'KLFinancieleDienstenOnroerendGoed', 'VoldoetAanRichtlijnAlcoholgebruik', 'PersonenautoSOverigeBrandstof', 'BouwjaarVanaf2000', 'InBezitWoningcorporatie', 'AfstandTotOvDagelLevensmiddelen', 'AfstandTotKinderdagverblijf', 'VernielingMisdrijfTegenOpenbareOrde', 'kPersonenMetLaagsteInkomen', 'AfstandTotTreinstationsTotaal', 'AfstandTotHuisartsenpost', 'AfstandTotZonnebank', 'AfstandTotSchool', 'AfstandTotHotelED', 'AfstandTotBos', 'AfstandTotHuisartsenpraktijk', 'GemiddeldeWoningwaarde', 'PersonenautoSNaarOppervlakte', 'AfstandTotRestaurant', 'AfstandTotBegraafplaats', 'AfstandTotSauna', 'OvermatigDrinker', 'AfstandTotBelangrijkOverstapstation', 'AfstandTotBrandweerkazerne', 'AfstandTotBuitenschoolseOpvang', 'BeperkingInHoren', 'PercentageOnbewoond']\n"
     ]
    }
   ],
   "source": [
    "# Get the accuracy score of the model with all the features\n",
    "mlp = MLPRegressor(random_state=0).fit(X_train, y_train)\n",
    "best_model = mlp\n",
    "selected_features = X_train.columns.tolist()\n",
    "best_features = selected_features\n",
    "best_features_accuracy = cross_val_score(MLPRegressor(random_state=0), X_train, y_train, cv=10, scoring='neg_mean_squared_error', n_jobs=-1).mean()\n",
    "\n",
    "while True:\n",
    "    # Retrieve the learned weights\n",
    "    weights = mlp.coefs_[0]  # Weights connecting input features to the first hidden layer\n",
    "\n",
    "    # Normalize the weights\n",
    "    normalized_weights = np.abs(weights) / np.sum(np.abs(weights), axis=0)\n",
    "\n",
    "    # Calculate feature importance\n",
    "    feature_importance = np.mean(normalized_weights, axis=1)\n",
    "\n",
    "    # Sort features based on their importance\n",
    "    sorted_indices = np.argsort(feature_importance)\n",
    "    selected_features = [selected_features[i] for i in sorted_indices[:-1]]\n",
    "\n",
    "    # When there are no features left\n",
    "    if len(selected_features) == 0:\n",
    "        break\n",
    "    \n",
    "    # Refit the Model\n",
    "    mlp = MLPRegressor(random_state=0).fit(X_train[selected_features], y_train)\n",
    "\n",
    "    # Evaluate Model Performance\n",
    "    accuracy = cross_val_score(MLPRegressor(random_state=0), X_train[selected_features], y_train, cv=10, scoring='neg_mean_squared_error', n_jobs=-1).mean()\n",
    "\n",
    "    # Check if the model performs better without the insignificant features\n",
    "    if accuracy >= best_features_accuracy:\n",
    "        best_features_accuracy = accuracy\n",
    "        best_features = selected_features.copy()\n",
    "        best_model = mlp\n",
    "\n",
    "# Save results\n",
    "best_model_nn = best_model\n",
    "best_features_nn = best_features\n",
    "\n",
    "# Show results\n",
    "print(\"Best features:\", best_features_nn)\n",
    "print(\"Dropped features:\", list(set(X_train.columns.tolist()) - set(best_features_nn)))"
   ]
  },
  {
   "attachments": {},
   "cell_type": "markdown",
   "metadata": {},
   "source": [
    "**Hyperparameter optimalisatie**"
   ]
  },
  {
   "cell_type": "code",
   "execution_count": 11,
   "metadata": {},
   "outputs": [
    {
     "name": "stdout",
     "output_type": "stream",
     "text": [
      "|   iter    |  target   |   alpha   | hidden... | learni... | max_iter  |\n",
      "-------------------------------------------------------------------------\n"
     ]
    },
    {
     "name": "stdout",
     "output_type": "stream",
     "text": [
      "| \u001b[0m1        \u001b[0m | \u001b[0m-4.939   \u001b[0m | \u001b[0m0.02407  \u001b[0m | \u001b[0m34.07    \u001b[0m | \u001b[0m0.07666  \u001b[0m | \u001b[0m487.3    \u001b[0m |\n",
      "| \u001b[0m2        \u001b[0m | \u001b[0m-4.948   \u001b[0m | \u001b[0m0.02797  \u001b[0m | \u001b[0m26.13    \u001b[0m | \u001b[0m0.0529   \u001b[0m | \u001b[0m103.9    \u001b[0m |\n",
      "| \u001b[0m3        \u001b[0m | \u001b[0m-4.948   \u001b[0m | \u001b[0m0.06644  \u001b[0m | \u001b[0m57.64    \u001b[0m | \u001b[0m0.09408  \u001b[0m | \u001b[0m906.2    \u001b[0m |\n",
      "| \u001b[0m4        \u001b[0m | \u001b[0m-4.941   \u001b[0m | \u001b[0m0.07624  \u001b[0m | \u001b[0m93.02    \u001b[0m | \u001b[0m0.051    \u001b[0m | \u001b[0m975.9    \u001b[0m |\n",
      "| \u001b[0m5        \u001b[0m | \u001b[0m-4.945   \u001b[0m | \u001b[0m0.04035  \u001b[0m | \u001b[0m25.32    \u001b[0m | \u001b[0m0.04646  \u001b[0m | \u001b[0m575.5    \u001b[0m |\n",
      "| \u001b[0m6        \u001b[0m | \u001b[0m-4.951   \u001b[0m | \u001b[0m0.03621  \u001b[0m | \u001b[0m39.91    \u001b[0m | \u001b[0m0.06925  \u001b[0m | \u001b[0m538.6    \u001b[0m |\n",
      "| \u001b[0m7        \u001b[0m | \u001b[0m-4.95    \u001b[0m | \u001b[0m0.08805  \u001b[0m | \u001b[0m58.36    \u001b[0m | \u001b[0m0.06372  \u001b[0m | \u001b[0m917.0    \u001b[0m |\n",
      "| \u001b[95m8        \u001b[0m | \u001b[95m-4.938   \u001b[0m | \u001b[95m0.02275  \u001b[0m | \u001b[95m74.94    \u001b[0m | \u001b[95m0.02653  \u001b[0m | \u001b[95m713.1    \u001b[0m |\n",
      "| \u001b[0m9        \u001b[0m | \u001b[0m-4.951   \u001b[0m | \u001b[0m0.03743  \u001b[0m | \u001b[0m87.94    \u001b[0m | \u001b[0m0.01644  \u001b[0m | \u001b[0m238.5    \u001b[0m |\n",
      "| \u001b[0m10       \u001b[0m | \u001b[0m-4.944   \u001b[0m | \u001b[0m0.003303 \u001b[0m | \u001b[0m59.08    \u001b[0m | \u001b[0m0.08734  \u001b[0m | \u001b[0m482.4    \u001b[0m |\n",
      "| \u001b[0m11       \u001b[0m | \u001b[0m-4.95    \u001b[0m | \u001b[0m0.06342  \u001b[0m | \u001b[0m33.32    \u001b[0m | \u001b[0m0.0468   \u001b[0m | \u001b[0m488.2    \u001b[0m |\n",
      "| \u001b[0m12       \u001b[0m | \u001b[0m-4.955   \u001b[0m | \u001b[0m0.0927   \u001b[0m | \u001b[0m39.31    \u001b[0m | \u001b[0m0.01818  \u001b[0m | \u001b[0m301.1    \u001b[0m |\n",
      "| \u001b[0m13       \u001b[0m | \u001b[0m-4.949   \u001b[0m | \u001b[0m0.08596  \u001b[0m | \u001b[0m56.97    \u001b[0m | \u001b[0m0.09174  \u001b[0m | \u001b[0m307.7    \u001b[0m |\n",
      "| \u001b[0m14       \u001b[0m | \u001b[0m-4.941   \u001b[0m | \u001b[0m0.09723  \u001b[0m | \u001b[0m40.53    \u001b[0m | \u001b[0m0.03409  \u001b[0m | \u001b[0m432.4    \u001b[0m |\n",
      "| \u001b[0m15       \u001b[0m | \u001b[0m-4.939   \u001b[0m | \u001b[0m0.05624  \u001b[0m | \u001b[0m51.95    \u001b[0m | \u001b[0m0.06099  \u001b[0m | \u001b[0m631.4    \u001b[0m |\n",
      "| \u001b[0m16       \u001b[0m | \u001b[0m-4.95    \u001b[0m | \u001b[0m0.04906  \u001b[0m | \u001b[0m77.11    \u001b[0m | \u001b[0m0.09907  \u001b[0m | \u001b[0m492.5    \u001b[0m |\n",
      "| \u001b[0m17       \u001b[0m | \u001b[0m-4.956   \u001b[0m | \u001b[0m0.04879  \u001b[0m | \u001b[0m79.56    \u001b[0m | \u001b[0m0.05742  \u001b[0m | \u001b[0m386.6    \u001b[0m |\n",
      "| \u001b[0m18       \u001b[0m | \u001b[0m-4.951   \u001b[0m | \u001b[0m0.08251  \u001b[0m | \u001b[0m28.31    \u001b[0m | \u001b[0m0.09115  \u001b[0m | \u001b[0m167.1    \u001b[0m |\n",
      "| \u001b[0m19       \u001b[0m | \u001b[0m-4.949   \u001b[0m | \u001b[0m0.08924  \u001b[0m | \u001b[0m32.68    \u001b[0m | \u001b[0m0.03511  \u001b[0m | \u001b[0m610.9    \u001b[0m |\n",
      "| \u001b[0m20       \u001b[0m | \u001b[0m-4.944   \u001b[0m | \u001b[0m0.08477  \u001b[0m | \u001b[0m52.78    \u001b[0m | \u001b[0m0.04725  \u001b[0m | \u001b[0m606.8    \u001b[0m |\n",
      "| \u001b[0m21       \u001b[0m | \u001b[0m-4.957   \u001b[0m | \u001b[0m0.05755  \u001b[0m | \u001b[0m30.78    \u001b[0m | \u001b[0m0.03115  \u001b[0m | \u001b[0m627.1    \u001b[0m |\n",
      "| \u001b[0m22       \u001b[0m | \u001b[0m-4.951   \u001b[0m | \u001b[0m0.04264  \u001b[0m | \u001b[0m99.28    \u001b[0m | \u001b[0m0.08296  \u001b[0m | \u001b[0m290.2    \u001b[0m |\n",
      "| \u001b[0m23       \u001b[0m | \u001b[0m-4.942   \u001b[0m | \u001b[0m0.05104  \u001b[0m | \u001b[0m43.54    \u001b[0m | \u001b[0m0.07773  \u001b[0m | \u001b[0m332.8    \u001b[0m |\n",
      "| \u001b[0m24       \u001b[0m | \u001b[0m-4.946   \u001b[0m | \u001b[0m0.01343  \u001b[0m | \u001b[0m36.96    \u001b[0m | \u001b[0m0.06828  \u001b[0m | \u001b[0m757.4    \u001b[0m |\n",
      "| \u001b[0m25       \u001b[0m | \u001b[0m-4.943   \u001b[0m | \u001b[0m0.05633  \u001b[0m | \u001b[0m90.17    \u001b[0m | \u001b[0m0.03136  \u001b[0m | \u001b[0m767.2    \u001b[0m |\n",
      "| \u001b[0m26       \u001b[0m | \u001b[0m-4.943   \u001b[0m | \u001b[0m0.007749 \u001b[0m | \u001b[0m19.47    \u001b[0m | \u001b[0m0.03972  \u001b[0m | \u001b[0m568.6    \u001b[0m |\n",
      "| \u001b[0m27       \u001b[0m | \u001b[0m-4.938   \u001b[0m | \u001b[0m0.04953  \u001b[0m | \u001b[0m12.78    \u001b[0m | \u001b[0m0.04937  \u001b[0m | \u001b[0m292.1    \u001b[0m |\n",
      "| \u001b[0m28       \u001b[0m | \u001b[0m-4.943   \u001b[0m | \u001b[0m0.05094  \u001b[0m | \u001b[0m76.55    \u001b[0m | \u001b[0m0.09286  \u001b[0m | \u001b[0m949.1    \u001b[0m |\n",
      "| \u001b[0m29       \u001b[0m | \u001b[0m-4.943   \u001b[0m | \u001b[0m0.04992  \u001b[0m | \u001b[0m19.32    \u001b[0m | \u001b[0m0.02378  \u001b[0m | \u001b[0m568.7    \u001b[0m |\n",
      "| \u001b[0m30       \u001b[0m | \u001b[0m-4.959   \u001b[0m | \u001b[0m0.02118  \u001b[0m | \u001b[0m93.48    \u001b[0m | \u001b[0m0.05438  \u001b[0m | \u001b[0m976.8    \u001b[0m |\n",
      "| \u001b[0m31       \u001b[0m | \u001b[0m-4.941   \u001b[0m | \u001b[0m0.0006377\u001b[0m | \u001b[0m52.66    \u001b[0m | \u001b[0m0.07884  \u001b[0m | \u001b[0m631.6    \u001b[0m |\n",
      "| \u001b[0m32       \u001b[0m | \u001b[0m-4.949   \u001b[0m | \u001b[0m0.05852  \u001b[0m | \u001b[0m75.05    \u001b[0m | \u001b[0m0.004303 \u001b[0m | \u001b[0m713.3    \u001b[0m |\n",
      "| \u001b[95m33       \u001b[0m | \u001b[95m-4.935   \u001b[0m | \u001b[95m0.06684  \u001b[0m | \u001b[95m38.03    \u001b[0m | \u001b[95m0.0665   \u001b[0m | \u001b[95m661.0    \u001b[0m |\n",
      "| \u001b[0m34       \u001b[0m | \u001b[0m-4.943   \u001b[0m | \u001b[0m0.0388   \u001b[0m | \u001b[0m10.47    \u001b[0m | \u001b[0m0.06164  \u001b[0m | \u001b[0m512.7    \u001b[0m |\n",
      "| \u001b[0m35       \u001b[0m | \u001b[0m-4.961   \u001b[0m | \u001b[0m0.05716  \u001b[0m | \u001b[0m83.02    \u001b[0m | \u001b[0m0.02458  \u001b[0m | \u001b[0m862.7    \u001b[0m |\n",
      "| \u001b[0m36       \u001b[0m | \u001b[0m-4.955   \u001b[0m | \u001b[0m0.08928  \u001b[0m | \u001b[0m58.47    \u001b[0m | \u001b[0m0.07964  \u001b[0m | \u001b[0m504.5    \u001b[0m |\n",
      "| \u001b[0m37       \u001b[0m | \u001b[0m-4.953   \u001b[0m | \u001b[0m0.06097  \u001b[0m | \u001b[0m32.64    \u001b[0m | \u001b[0m0.05308  \u001b[0m | \u001b[0m931.8    \u001b[0m |\n",
      "| \u001b[0m38       \u001b[0m | \u001b[0m-4.946   \u001b[0m | \u001b[0m0.04615  \u001b[0m | \u001b[0m66.72    \u001b[0m | \u001b[0m0.001586 \u001b[0m | \u001b[0m445.1    \u001b[0m |\n",
      "| \u001b[0m39       \u001b[0m | \u001b[0m-4.944   \u001b[0m | \u001b[0m0.03312  \u001b[0m | \u001b[0m97.99    \u001b[0m | \u001b[0m0.01678  \u001b[0m | \u001b[0m628.4    \u001b[0m |\n",
      "| \u001b[0m40       \u001b[0m | \u001b[0m-4.951   \u001b[0m | \u001b[0m0.04037  \u001b[0m | \u001b[0m52.24    \u001b[0m | \u001b[0m0.07539  \u001b[0m | \u001b[0m283.8    \u001b[0m |\n",
      "| \u001b[0m41       \u001b[0m | \u001b[0m-4.946   \u001b[0m | \u001b[0m0.02921  \u001b[0m | \u001b[0m85.24    \u001b[0m | \u001b[0m0.08615  \u001b[0m | \u001b[0m923.9    \u001b[0m |\n",
      "| \u001b[95m42       \u001b[0m | \u001b[95m-4.933   \u001b[0m | \u001b[95m0.06388  \u001b[0m | \u001b[95m90.64    \u001b[0m | \u001b[95m0.08962  \u001b[0m | \u001b[95m624.3    \u001b[0m |\n",
      "| \u001b[0m43       \u001b[0m | \u001b[0m-4.944   \u001b[0m | \u001b[0m0.068    \u001b[0m | \u001b[0m59.0     \u001b[0m | \u001b[0m0.08123  \u001b[0m | \u001b[0m703.4    \u001b[0m |\n",
      "| \u001b[0m44       \u001b[0m | \u001b[0m-4.948   \u001b[0m | \u001b[0m0.0537   \u001b[0m | \u001b[0m20.66    \u001b[0m | \u001b[0m0.02262  \u001b[0m | \u001b[0m272.7    \u001b[0m |\n",
      "| \u001b[0m45       \u001b[0m | \u001b[0m-4.96    \u001b[0m | \u001b[0m0.07707  \u001b[0m | \u001b[0m36.3     \u001b[0m | \u001b[0m0.08148  \u001b[0m | \u001b[0m299.4    \u001b[0m |\n",
      "| \u001b[0m46       \u001b[0m | \u001b[0m-4.95    \u001b[0m | \u001b[0m0.02814  \u001b[0m | \u001b[0m37.36    \u001b[0m | \u001b[0m0.03527  \u001b[0m | \u001b[0m949.5    \u001b[0m |\n",
      "| \u001b[0m47       \u001b[0m | \u001b[0m-4.953   \u001b[0m | \u001b[0m0.02496  \u001b[0m | \u001b[0m26.51    \u001b[0m | \u001b[0m0.03594  \u001b[0m | \u001b[0m692.5    \u001b[0m |\n",
      "| \u001b[0m48       \u001b[0m | \u001b[0m-4.946   \u001b[0m | \u001b[0m0.08932  \u001b[0m | \u001b[0m88.27    \u001b[0m | \u001b[0m0.02611  \u001b[0m | \u001b[0m886.3    \u001b[0m |\n",
      "| \u001b[0m49       \u001b[0m | \u001b[0m-4.95    \u001b[0m | \u001b[0m0.08196  \u001b[0m | \u001b[0m68.1     \u001b[0m | \u001b[0m0.02697  \u001b[0m | \u001b[0m645.3    \u001b[0m |\n",
      "| \u001b[0m50       \u001b[0m | \u001b[0m-4.947   \u001b[0m | \u001b[0m0.06919  \u001b[0m | \u001b[0m67.94    \u001b[0m | \u001b[0m0.07188  \u001b[0m | \u001b[0m520.0    \u001b[0m |\n",
      "=========================================================================\n"
     ]
    },
    {
     "data": {
      "text/html": [
       "<style>#sk-container-id-3 {color: black;background-color: white;}#sk-container-id-3 pre{padding: 0;}#sk-container-id-3 div.sk-toggleable {background-color: white;}#sk-container-id-3 label.sk-toggleable__label {cursor: pointer;display: block;width: 100%;margin-bottom: 0;padding: 0.3em;box-sizing: border-box;text-align: center;}#sk-container-id-3 label.sk-toggleable__label-arrow:before {content: \"▸\";float: left;margin-right: 0.25em;color: #696969;}#sk-container-id-3 label.sk-toggleable__label-arrow:hover:before {color: black;}#sk-container-id-3 div.sk-estimator:hover label.sk-toggleable__label-arrow:before {color: black;}#sk-container-id-3 div.sk-toggleable__content {max-height: 0;max-width: 0;overflow: hidden;text-align: left;background-color: #f0f8ff;}#sk-container-id-3 div.sk-toggleable__content pre {margin: 0.2em;color: black;border-radius: 0.25em;background-color: #f0f8ff;}#sk-container-id-3 input.sk-toggleable__control:checked~div.sk-toggleable__content {max-height: 200px;max-width: 100%;overflow: auto;}#sk-container-id-3 input.sk-toggleable__control:checked~label.sk-toggleable__label-arrow:before {content: \"▾\";}#sk-container-id-3 div.sk-estimator input.sk-toggleable__control:checked~label.sk-toggleable__label {background-color: #d4ebff;}#sk-container-id-3 div.sk-label input.sk-toggleable__control:checked~label.sk-toggleable__label {background-color: #d4ebff;}#sk-container-id-3 input.sk-hidden--visually {border: 0;clip: rect(1px 1px 1px 1px);clip: rect(1px, 1px, 1px, 1px);height: 1px;margin: -1px;overflow: hidden;padding: 0;position: absolute;width: 1px;}#sk-container-id-3 div.sk-estimator {font-family: monospace;background-color: #f0f8ff;border: 1px dotted black;border-radius: 0.25em;box-sizing: border-box;margin-bottom: 0.5em;}#sk-container-id-3 div.sk-estimator:hover {background-color: #d4ebff;}#sk-container-id-3 div.sk-parallel-item::after {content: \"\";width: 100%;border-bottom: 1px solid gray;flex-grow: 1;}#sk-container-id-3 div.sk-label:hover label.sk-toggleable__label {background-color: #d4ebff;}#sk-container-id-3 div.sk-serial::before {content: \"\";position: absolute;border-left: 1px solid gray;box-sizing: border-box;top: 0;bottom: 0;left: 50%;z-index: 0;}#sk-container-id-3 div.sk-serial {display: flex;flex-direction: column;align-items: center;background-color: white;padding-right: 0.2em;padding-left: 0.2em;position: relative;}#sk-container-id-3 div.sk-item {position: relative;z-index: 1;}#sk-container-id-3 div.sk-parallel {display: flex;align-items: stretch;justify-content: center;background-color: white;position: relative;}#sk-container-id-3 div.sk-item::before, #sk-container-id-3 div.sk-parallel-item::before {content: \"\";position: absolute;border-left: 1px solid gray;box-sizing: border-box;top: 0;bottom: 0;left: 50%;z-index: -1;}#sk-container-id-3 div.sk-parallel-item {display: flex;flex-direction: column;z-index: 1;position: relative;background-color: white;}#sk-container-id-3 div.sk-parallel-item:first-child::after {align-self: flex-end;width: 50%;}#sk-container-id-3 div.sk-parallel-item:last-child::after {align-self: flex-start;width: 50%;}#sk-container-id-3 div.sk-parallel-item:only-child::after {width: 0;}#sk-container-id-3 div.sk-dashed-wrapped {border: 1px dashed gray;margin: 0 0.4em 0.5em 0.4em;box-sizing: border-box;padding-bottom: 0.4em;background-color: white;}#sk-container-id-3 div.sk-label label {font-family: monospace;font-weight: bold;display: inline-block;line-height: 1.2em;}#sk-container-id-3 div.sk-label-container {text-align: center;}#sk-container-id-3 div.sk-container {/* jupyter's `normalize.less` sets `[hidden] { display: none; }` but bootstrap.min.css set `[hidden] { display: none !important; }` so we also need the `!important` here to be able to override the default hidden behavior on the sphinx rendered scikit-learn.org. See: https://github.com/scikit-learn/scikit-learn/issues/21755 */display: inline-block !important;position: relative;}#sk-container-id-3 div.sk-text-repr-fallback {display: none;}</style><div id=\"sk-container-id-3\" class=\"sk-top-container\"><div class=\"sk-text-repr-fallback\"><pre>MLPRegressor(alpha=0.06388451464463317, hidden_layer_sizes=(91,),\n",
       "             learning_rate_init=0.089619920389337, max_iter=624)</pre><b>In a Jupyter environment, please rerun this cell to show the HTML representation or trust the notebook. <br />On GitHub, the HTML representation is unable to render, please try loading this page with nbviewer.org.</b></div><div class=\"sk-container\" hidden><div class=\"sk-item\"><div class=\"sk-estimator sk-toggleable\"><input class=\"sk-toggleable__control sk-hidden--visually\" id=\"sk-estimator-id-3\" type=\"checkbox\" checked><label for=\"sk-estimator-id-3\" class=\"sk-toggleable__label sk-toggleable__label-arrow\">MLPRegressor</label><div class=\"sk-toggleable__content\"><pre>MLPRegressor(alpha=0.06388451464463317, hidden_layer_sizes=(91,),\n",
       "             learning_rate_init=0.089619920389337, max_iter=624)</pre></div></div></div></div></div>"
      ],
      "text/plain": [
       "MLPRegressor(alpha=0.06388451464463317, hidden_layer_sizes=(91,),\n",
       "             learning_rate_init=0.089619920389337, max_iter=624)"
      ]
     },
     "execution_count": 11,
     "metadata": {},
     "output_type": "execute_result"
    }
   ],
   "source": [
    "def bo_params_generic(model, params, X_train, y_train):\n",
    "    # Create the model instance with the specified parameters\n",
    "    regressor = model(**params)\n",
    "    \n",
    "    # Calculating rmse based on\n",
    "    scores = cross_val_score(regressor, X_train, y_train, cv=10, scoring='neg_root_mean_squared_error')\n",
    "    return scores.mean()\n",
    "\n",
    "params_ranges = {\n",
    "    'hidden_layer_sizes': (10, 100),\n",
    "    'alpha': (0.0001, 0.1),\n",
    "    'learning_rate_init': (0.001, 0.1),\n",
    "    'max_iter': (100, 1000)\n",
    "}\n",
    "\n",
    "# Example usage with Neural Network\n",
    "model = MLPRegressor\n",
    "model_bo = BayesianOptimization(f=lambda hidden_layer_sizes, alpha, learning_rate_init, max_iter:\n",
    "                                    bo_params_generic(model, {\n",
    "                                        'hidden_layer_sizes': (int(round(hidden_layer_sizes)),),\n",
    "                                        'alpha': alpha,\n",
    "                                        'learning_rate_init': learning_rate_init,\n",
    "                                        'max_iter': int(round(max_iter))\n",
    "                                    }, X_train[best_features_nn], y_train),\n",
    "                             pbounds=params_ranges)\n",
    "\n",
    "results = model_bo.maximize(n_iter=40, init_points=10)\n",
    "params = model_bo.max['params']\n",
    "\n",
    "# Creating a model with the best hyperparameters\n",
    "best_model_nn = model(\n",
    "    hidden_layer_sizes=(int(round(params['hidden_layer_sizes'])),),\n",
    "    alpha=params['alpha'],\n",
    "    learning_rate_init=params['learning_rate_init'],\n",
    "    max_iter=int(round(params['max_iter']))\n",
    ")\n",
    "\n",
    "# Fit the model\n",
    "best_model_nn.fit(X_train[best_features_nn], y_train)"
   ]
  },
  {
   "attachments": {},
   "cell_type": "markdown",
   "metadata": {},
   "source": [
    "# plotting the bar chart"
   ]
  },
  {
   "attachments": {},
   "cell_type": "markdown",
   "metadata": {},
   "source": [
    "**using train dataset**"
   ]
  },
  {
   "cell_type": "code",
   "execution_count": 12,
   "metadata": {},
   "outputs": [
    {
     "data": {
      "text/plain": [
       "[{'model': 'Multiple Linear Regression',\n",
       "  'mae': 3.545102125483616,\n",
       "  'mse': 24.67774624618409,\n",
       "  'rmse': 4.967670102390465,\n",
       "  'r2': 0.0019512174866703758,\n",
       "  'adj_r2': -0.07507570067863623},\n",
       " {'model': 'Random Forest',\n",
       "  'mae': 3.5679871211987404,\n",
       "  'mse': 24.914171126270848,\n",
       "  'rmse': 4.991409733358989,\n",
       "  'r2': -0.007610578042487104,\n",
       "  'adj_r2': -0.0853754517613119},\n",
       " {'model': 'Neural Network',\n",
       "  'mae': 3.562719464227476,\n",
       "  'mse': 24.87196341601521,\n",
       "  'rmse': 4.987179906120814,\n",
       "  'r2': -0.005903560172497269,\n",
       "  'adj_r2': -0.08353669050554546},\n",
       " {'model': 'Support Vector Machine',\n",
       "  'mae': 3.544808889803868,\n",
       "  'mse': 24.942230229164423,\n",
       "  'rmse': 4.994219681708487,\n",
       "  'r2': -0.008745379948705834,\n",
       "  'adj_r2': -0.08659783485103167}]"
      ]
     },
     "execution_count": 12,
     "metadata": {},
     "output_type": "execute_result"
    }
   ],
   "source": [
    "regression_models = [\n",
    "    {\n",
    "        'name': 'Multiple Linear Regression',\n",
    "        'model': best_model_mlr,\n",
    "        'features': best_features_mlr\n",
    "    },\n",
    "    {\n",
    "        'name': 'Random Forest',\n",
    "        'model': best_model_rf,\n",
    "        'features': best_features_rf\n",
    "    },\n",
    "    {\n",
    "        'name': 'Neural Network',\n",
    "        'model': best_model_nn,\n",
    "        'features': best_features_nn\n",
    "    },\n",
    "    {\n",
    "        'name': 'Support Vector Machine',\n",
    "        'model': best_model_svm,\n",
    "        'features': best_features_svm\n",
    "    }\n",
    "]\n",
    "\n",
    "regression_stats_val = []\n",
    "\n",
    "for model in regression_models:\n",
    "    try:\n",
    "        # Perform cross-validation and calculate predictions and metrics\n",
    "        y_pred = cross_val_predict(model['model'], X_train[model['features']], y_train, cv=10)\n",
    "        y_true = y_train\n",
    "    except: # cv can't be higher then n_splits in the dt\n",
    "        # Perform cross-validation and calculate predictions and metrics\n",
    "        y_pred = cross_val_predict(model['model'], X_train[model['features']], y_train, cv=5)\n",
    "        y_true = y_train\n",
    "\n",
    "    # R2 Score\n",
    "    r2 = r2_score(y_true, y_pred)\n",
    "\n",
    "    # Adjusted R2 Score\n",
    "    n = len(y_true)  # Number of samples\n",
    "    p = X_test.shape[1]  # Number of predictors (features) in X\n",
    "    adj_r2 = 1 - ((1 - r2) * (n - 1)) / (n - p - 1)\n",
    "\n",
    "    # Save stats\n",
    "    regression_stats_val.append(\n",
    "        {\n",
    "            'model': model['name'],\n",
    "            'mae': mean_absolute_error(y_true, y_pred),\n",
    "            'mse': mean_squared_error(y_true, y_pred),\n",
    "            'rmse': np.sqrt(mean_squared_error(y_true, y_pred)),\n",
    "            'r2': r2,\n",
    "            'adj_r2': adj_r2\n",
    "        }\n",
    "    )\n",
    "\n",
    "# View stats\n",
    "regression_stats_val"
   ]
  },
  {
   "cell_type": "code",
   "execution_count": 13,
   "metadata": {},
   "outputs": [
    {
     "data": {
      "application/vnd.plotly.v1+json": {
       "config": {
        "plotlyServerURL": "https://plot.ly"
       },
       "data": [
        {
         "name": "mae",
         "type": "bar",
         "x": [
          "Multiple Linear Regression",
          "Random Forest",
          "Neural Network",
          "Support Vector Machine"
         ],
         "y": [
          3.545102125483616,
          3.5679871211987404,
          3.562719464227476,
          3.544808889803868
         ]
        },
        {
         "name": "mse",
         "type": "bar",
         "x": [
          "Multiple Linear Regression",
          "Random Forest",
          "Neural Network",
          "Support Vector Machine"
         ],
         "y": [
          24.67774624618409,
          24.914171126270848,
          24.87196341601521,
          24.942230229164423
         ]
        },
        {
         "name": "rmse",
         "type": "bar",
         "x": [
          "Multiple Linear Regression",
          "Random Forest",
          "Neural Network",
          "Support Vector Machine"
         ],
         "y": [
          4.967670102390465,
          4.991409733358989,
          4.987179906120814,
          4.994219681708487
         ]
        },
        {
         "name": "r2",
         "type": "bar",
         "x": [
          "Multiple Linear Regression",
          "Random Forest",
          "Neural Network",
          "Support Vector Machine"
         ],
         "y": [
          0.0019512174866703758,
          -0.007610578042487104,
          -0.005903560172497269,
          -0.008745379948705834
         ]
        },
        {
         "name": "adj_r2",
         "type": "bar",
         "x": [
          "Multiple Linear Regression",
          "Random Forest",
          "Neural Network",
          "Support Vector Machine"
         ],
         "y": [
          -0.07507570067863623,
          -0.0853754517613119,
          -0.08353669050554546,
          -0.08659783485103167
         ]
        }
       ],
       "layout": {
        "barmode": "group",
        "template": {
         "data": {
          "bar": [
           {
            "error_x": {
             "color": "#2a3f5f"
            },
            "error_y": {
             "color": "#2a3f5f"
            },
            "marker": {
             "line": {
              "color": "#E5ECF6",
              "width": 0.5
             },
             "pattern": {
              "fillmode": "overlay",
              "size": 10,
              "solidity": 0.2
             }
            },
            "type": "bar"
           }
          ],
          "barpolar": [
           {
            "marker": {
             "line": {
              "color": "#E5ECF6",
              "width": 0.5
             },
             "pattern": {
              "fillmode": "overlay",
              "size": 10,
              "solidity": 0.2
             }
            },
            "type": "barpolar"
           }
          ],
          "carpet": [
           {
            "aaxis": {
             "endlinecolor": "#2a3f5f",
             "gridcolor": "white",
             "linecolor": "white",
             "minorgridcolor": "white",
             "startlinecolor": "#2a3f5f"
            },
            "baxis": {
             "endlinecolor": "#2a3f5f",
             "gridcolor": "white",
             "linecolor": "white",
             "minorgridcolor": "white",
             "startlinecolor": "#2a3f5f"
            },
            "type": "carpet"
           }
          ],
          "choropleth": [
           {
            "colorbar": {
             "outlinewidth": 0,
             "ticks": ""
            },
            "type": "choropleth"
           }
          ],
          "contour": [
           {
            "colorbar": {
             "outlinewidth": 0,
             "ticks": ""
            },
            "colorscale": [
             [
              0,
              "#0d0887"
             ],
             [
              0.1111111111111111,
              "#46039f"
             ],
             [
              0.2222222222222222,
              "#7201a8"
             ],
             [
              0.3333333333333333,
              "#9c179e"
             ],
             [
              0.4444444444444444,
              "#bd3786"
             ],
             [
              0.5555555555555556,
              "#d8576b"
             ],
             [
              0.6666666666666666,
              "#ed7953"
             ],
             [
              0.7777777777777778,
              "#fb9f3a"
             ],
             [
              0.8888888888888888,
              "#fdca26"
             ],
             [
              1,
              "#f0f921"
             ]
            ],
            "type": "contour"
           }
          ],
          "contourcarpet": [
           {
            "colorbar": {
             "outlinewidth": 0,
             "ticks": ""
            },
            "type": "contourcarpet"
           }
          ],
          "heatmap": [
           {
            "colorbar": {
             "outlinewidth": 0,
             "ticks": ""
            },
            "colorscale": [
             [
              0,
              "#0d0887"
             ],
             [
              0.1111111111111111,
              "#46039f"
             ],
             [
              0.2222222222222222,
              "#7201a8"
             ],
             [
              0.3333333333333333,
              "#9c179e"
             ],
             [
              0.4444444444444444,
              "#bd3786"
             ],
             [
              0.5555555555555556,
              "#d8576b"
             ],
             [
              0.6666666666666666,
              "#ed7953"
             ],
             [
              0.7777777777777778,
              "#fb9f3a"
             ],
             [
              0.8888888888888888,
              "#fdca26"
             ],
             [
              1,
              "#f0f921"
             ]
            ],
            "type": "heatmap"
           }
          ],
          "heatmapgl": [
           {
            "colorbar": {
             "outlinewidth": 0,
             "ticks": ""
            },
            "colorscale": [
             [
              0,
              "#0d0887"
             ],
             [
              0.1111111111111111,
              "#46039f"
             ],
             [
              0.2222222222222222,
              "#7201a8"
             ],
             [
              0.3333333333333333,
              "#9c179e"
             ],
             [
              0.4444444444444444,
              "#bd3786"
             ],
             [
              0.5555555555555556,
              "#d8576b"
             ],
             [
              0.6666666666666666,
              "#ed7953"
             ],
             [
              0.7777777777777778,
              "#fb9f3a"
             ],
             [
              0.8888888888888888,
              "#fdca26"
             ],
             [
              1,
              "#f0f921"
             ]
            ],
            "type": "heatmapgl"
           }
          ],
          "histogram": [
           {
            "marker": {
             "pattern": {
              "fillmode": "overlay",
              "size": 10,
              "solidity": 0.2
             }
            },
            "type": "histogram"
           }
          ],
          "histogram2d": [
           {
            "colorbar": {
             "outlinewidth": 0,
             "ticks": ""
            },
            "colorscale": [
             [
              0,
              "#0d0887"
             ],
             [
              0.1111111111111111,
              "#46039f"
             ],
             [
              0.2222222222222222,
              "#7201a8"
             ],
             [
              0.3333333333333333,
              "#9c179e"
             ],
             [
              0.4444444444444444,
              "#bd3786"
             ],
             [
              0.5555555555555556,
              "#d8576b"
             ],
             [
              0.6666666666666666,
              "#ed7953"
             ],
             [
              0.7777777777777778,
              "#fb9f3a"
             ],
             [
              0.8888888888888888,
              "#fdca26"
             ],
             [
              1,
              "#f0f921"
             ]
            ],
            "type": "histogram2d"
           }
          ],
          "histogram2dcontour": [
           {
            "colorbar": {
             "outlinewidth": 0,
             "ticks": ""
            },
            "colorscale": [
             [
              0,
              "#0d0887"
             ],
             [
              0.1111111111111111,
              "#46039f"
             ],
             [
              0.2222222222222222,
              "#7201a8"
             ],
             [
              0.3333333333333333,
              "#9c179e"
             ],
             [
              0.4444444444444444,
              "#bd3786"
             ],
             [
              0.5555555555555556,
              "#d8576b"
             ],
             [
              0.6666666666666666,
              "#ed7953"
             ],
             [
              0.7777777777777778,
              "#fb9f3a"
             ],
             [
              0.8888888888888888,
              "#fdca26"
             ],
             [
              1,
              "#f0f921"
             ]
            ],
            "type": "histogram2dcontour"
           }
          ],
          "mesh3d": [
           {
            "colorbar": {
             "outlinewidth": 0,
             "ticks": ""
            },
            "type": "mesh3d"
           }
          ],
          "parcoords": [
           {
            "line": {
             "colorbar": {
              "outlinewidth": 0,
              "ticks": ""
             }
            },
            "type": "parcoords"
           }
          ],
          "pie": [
           {
            "automargin": true,
            "type": "pie"
           }
          ],
          "scatter": [
           {
            "fillpattern": {
             "fillmode": "overlay",
             "size": 10,
             "solidity": 0.2
            },
            "type": "scatter"
           }
          ],
          "scatter3d": [
           {
            "line": {
             "colorbar": {
              "outlinewidth": 0,
              "ticks": ""
             }
            },
            "marker": {
             "colorbar": {
              "outlinewidth": 0,
              "ticks": ""
             }
            },
            "type": "scatter3d"
           }
          ],
          "scattercarpet": [
           {
            "marker": {
             "colorbar": {
              "outlinewidth": 0,
              "ticks": ""
             }
            },
            "type": "scattercarpet"
           }
          ],
          "scattergeo": [
           {
            "marker": {
             "colorbar": {
              "outlinewidth": 0,
              "ticks": ""
             }
            },
            "type": "scattergeo"
           }
          ],
          "scattergl": [
           {
            "marker": {
             "colorbar": {
              "outlinewidth": 0,
              "ticks": ""
             }
            },
            "type": "scattergl"
           }
          ],
          "scattermapbox": [
           {
            "marker": {
             "colorbar": {
              "outlinewidth": 0,
              "ticks": ""
             }
            },
            "type": "scattermapbox"
           }
          ],
          "scatterpolar": [
           {
            "marker": {
             "colorbar": {
              "outlinewidth": 0,
              "ticks": ""
             }
            },
            "type": "scatterpolar"
           }
          ],
          "scatterpolargl": [
           {
            "marker": {
             "colorbar": {
              "outlinewidth": 0,
              "ticks": ""
             }
            },
            "type": "scatterpolargl"
           }
          ],
          "scatterternary": [
           {
            "marker": {
             "colorbar": {
              "outlinewidth": 0,
              "ticks": ""
             }
            },
            "type": "scatterternary"
           }
          ],
          "surface": [
           {
            "colorbar": {
             "outlinewidth": 0,
             "ticks": ""
            },
            "colorscale": [
             [
              0,
              "#0d0887"
             ],
             [
              0.1111111111111111,
              "#46039f"
             ],
             [
              0.2222222222222222,
              "#7201a8"
             ],
             [
              0.3333333333333333,
              "#9c179e"
             ],
             [
              0.4444444444444444,
              "#bd3786"
             ],
             [
              0.5555555555555556,
              "#d8576b"
             ],
             [
              0.6666666666666666,
              "#ed7953"
             ],
             [
              0.7777777777777778,
              "#fb9f3a"
             ],
             [
              0.8888888888888888,
              "#fdca26"
             ],
             [
              1,
              "#f0f921"
             ]
            ],
            "type": "surface"
           }
          ],
          "table": [
           {
            "cells": {
             "fill": {
              "color": "#EBF0F8"
             },
             "line": {
              "color": "white"
             }
            },
            "header": {
             "fill": {
              "color": "#C8D4E3"
             },
             "line": {
              "color": "white"
             }
            },
            "type": "table"
           }
          ]
         },
         "layout": {
          "annotationdefaults": {
           "arrowcolor": "#2a3f5f",
           "arrowhead": 0,
           "arrowwidth": 1
          },
          "autotypenumbers": "strict",
          "coloraxis": {
           "colorbar": {
            "outlinewidth": 0,
            "ticks": ""
           }
          },
          "colorscale": {
           "diverging": [
            [
             0,
             "#8e0152"
            ],
            [
             0.1,
             "#c51b7d"
            ],
            [
             0.2,
             "#de77ae"
            ],
            [
             0.3,
             "#f1b6da"
            ],
            [
             0.4,
             "#fde0ef"
            ],
            [
             0.5,
             "#f7f7f7"
            ],
            [
             0.6,
             "#e6f5d0"
            ],
            [
             0.7,
             "#b8e186"
            ],
            [
             0.8,
             "#7fbc41"
            ],
            [
             0.9,
             "#4d9221"
            ],
            [
             1,
             "#276419"
            ]
           ],
           "sequential": [
            [
             0,
             "#0d0887"
            ],
            [
             0.1111111111111111,
             "#46039f"
            ],
            [
             0.2222222222222222,
             "#7201a8"
            ],
            [
             0.3333333333333333,
             "#9c179e"
            ],
            [
             0.4444444444444444,
             "#bd3786"
            ],
            [
             0.5555555555555556,
             "#d8576b"
            ],
            [
             0.6666666666666666,
             "#ed7953"
            ],
            [
             0.7777777777777778,
             "#fb9f3a"
            ],
            [
             0.8888888888888888,
             "#fdca26"
            ],
            [
             1,
             "#f0f921"
            ]
           ],
           "sequentialminus": [
            [
             0,
             "#0d0887"
            ],
            [
             0.1111111111111111,
             "#46039f"
            ],
            [
             0.2222222222222222,
             "#7201a8"
            ],
            [
             0.3333333333333333,
             "#9c179e"
            ],
            [
             0.4444444444444444,
             "#bd3786"
            ],
            [
             0.5555555555555556,
             "#d8576b"
            ],
            [
             0.6666666666666666,
             "#ed7953"
            ],
            [
             0.7777777777777778,
             "#fb9f3a"
            ],
            [
             0.8888888888888888,
             "#fdca26"
            ],
            [
             1,
             "#f0f921"
            ]
           ]
          },
          "colorway": [
           "#636efa",
           "#EF553B",
           "#00cc96",
           "#ab63fa",
           "#FFA15A",
           "#19d3f3",
           "#FF6692",
           "#B6E880",
           "#FF97FF",
           "#FECB52"
          ],
          "font": {
           "color": "#2a3f5f"
          },
          "geo": {
           "bgcolor": "white",
           "lakecolor": "white",
           "landcolor": "#E5ECF6",
           "showlakes": true,
           "showland": true,
           "subunitcolor": "white"
          },
          "hoverlabel": {
           "align": "left"
          },
          "hovermode": "closest",
          "mapbox": {
           "style": "light"
          },
          "paper_bgcolor": "white",
          "plot_bgcolor": "#E5ECF6",
          "polar": {
           "angularaxis": {
            "gridcolor": "white",
            "linecolor": "white",
            "ticks": ""
           },
           "bgcolor": "#E5ECF6",
           "radialaxis": {
            "gridcolor": "white",
            "linecolor": "white",
            "ticks": ""
           }
          },
          "scene": {
           "xaxis": {
            "backgroundcolor": "#E5ECF6",
            "gridcolor": "white",
            "gridwidth": 2,
            "linecolor": "white",
            "showbackground": true,
            "ticks": "",
            "zerolinecolor": "white"
           },
           "yaxis": {
            "backgroundcolor": "#E5ECF6",
            "gridcolor": "white",
            "gridwidth": 2,
            "linecolor": "white",
            "showbackground": true,
            "ticks": "",
            "zerolinecolor": "white"
           },
           "zaxis": {
            "backgroundcolor": "#E5ECF6",
            "gridcolor": "white",
            "gridwidth": 2,
            "linecolor": "white",
            "showbackground": true,
            "ticks": "",
            "zerolinecolor": "white"
           }
          },
          "shapedefaults": {
           "line": {
            "color": "#2a3f5f"
           }
          },
          "ternary": {
           "aaxis": {
            "gridcolor": "white",
            "linecolor": "white",
            "ticks": ""
           },
           "baxis": {
            "gridcolor": "white",
            "linecolor": "white",
            "ticks": ""
           },
           "bgcolor": "#E5ECF6",
           "caxis": {
            "gridcolor": "white",
            "linecolor": "white",
            "ticks": ""
           }
          },
          "title": {
           "x": 0.05
          },
          "xaxis": {
           "automargin": true,
           "gridcolor": "white",
           "linecolor": "white",
           "ticks": "",
           "title": {
            "standoff": 15
           },
           "zerolinecolor": "white",
           "zerolinewidth": 2
          },
          "yaxis": {
           "automargin": true,
           "gridcolor": "white",
           "linecolor": "white",
           "ticks": "",
           "title": {
            "standoff": 15
           },
           "zerolinecolor": "white",
           "zerolinewidth": 2
          }
         }
        },
        "title": {
         "text": "Evaluation Metrics Comparison"
        },
        "xaxis": {
         "title": {
          "text": "Models"
         }
        },
        "yaxis": {
         "title": {
          "text": "Scores"
         }
        }
       }
      }
     },
     "metadata": {},
     "output_type": "display_data"
    }
   ],
   "source": [
    "# Extracting model names and metric scores\n",
    "model_names = [d['model'] for d in regression_stats_val]\n",
    "metric_labels = list(regression_stats_val[0].keys())[1:]\n",
    "metric_scores = {metric: [d[metric] for d in regression_stats_val] for metric in metric_labels}\n",
    "\n",
    "# Plotting the bar chart\n",
    "fig = go.Figure()\n",
    "\n",
    "for metric in metric_labels:\n",
    "    fig.add_trace(go.Bar(\n",
    "        x=model_names,\n",
    "        y=metric_scores[metric],\n",
    "        name=metric\n",
    "    ))\n",
    "\n",
    "# Updating the layout\n",
    "fig.update_layout(\n",
    "    title='Evaluation Metrics Comparison',\n",
    "    xaxis_title='Models',\n",
    "    yaxis_title='Scores',\n",
    "    barmode='group'\n",
    ")\n",
    "\n",
    "# Display the plot\n",
    "fig.show()"
   ]
  },
  {
   "attachments": {},
   "cell_type": "markdown",
   "metadata": {},
   "source": [
    "**Evaluating on test data**"
   ]
  },
  {
   "cell_type": "code",
   "execution_count": 14,
   "metadata": {},
   "outputs": [
    {
     "data": {
      "text/plain": [
       "[{'model': 'Multiple Linear Regression',\n",
       "  'mae': 3.6601424802294154,\n",
       "  'mse': 25.673197373552902,\n",
       "  'rmse': 5.066872543645923,\n",
       "  'r2': 0.0021387097463306803,\n",
       "  'adj_r2': -0.39929974035572013},\n",
       " {'model': 'Random Forest',\n",
       "  'mae': 3.693346296531759,\n",
       "  'mse': 26.027548531026813,\n",
       "  'rmse': 5.101720154127117,\n",
       "  'r2': -0.011634148306949754,\n",
       "  'adj_r2': -0.41861340337296404},\n",
       " {'model': 'Neural Network',\n",
       "  'mae': 3.651841015864615,\n",
       "  'mse': 25.77500415763053,\n",
       "  'rmse': 5.076908917602376,\n",
       "  'r2': -0.001818298313013278,\n",
       "  'adj_r2': -0.404848648209053},\n",
       " {'model': 'Support Vector Machine',\n",
       "  'mae': 3.6623550886066574,\n",
       "  'mse': 25.73247552379513,\n",
       "  'rmse': 5.072718750709044,\n",
       "  'r2': -0.00016530290249860968,\n",
       "  'adj_r2': -0.40253065464488325}]"
      ]
     },
     "execution_count": 14,
     "metadata": {},
     "output_type": "execute_result"
    }
   ],
   "source": [
    "regression_models = [\n",
    "    {\n",
    "        'name': 'Multiple Linear Regression',\n",
    "        'model': best_model_mlr,\n",
    "        'features': best_features_mlr\n",
    "    },\n",
    "    {\n",
    "        'name': 'Random Forest',\n",
    "        'model': best_model_rf,\n",
    "        'features': best_features_rf\n",
    "    },\n",
    "    {\n",
    "        'name': 'Neural Network',\n",
    "        'model': best_model_nn,\n",
    "        'features': best_features_nn\n",
    "    },\n",
    "    {\n",
    "        'name': 'Support Vector Machine',\n",
    "        'model': best_model_svm,\n",
    "        'features': best_features_svm\n",
    "    }\n",
    "]\n",
    "\n",
    "regression_stats_test = []\n",
    "\n",
    "for model in regression_models:\n",
    "    # Make predictions on the test set\n",
    "    y_pred = model['model'].predict(X_test[model['features']])\n",
    "\n",
    "    # Defining Actual values\n",
    "    y_true = y_test.copy()\n",
    "\n",
    "    # R2 Score\n",
    "    r2 = r2_score(y_true, y_pred)\n",
    "\n",
    "    # Adjusted R2 Score\n",
    "    n = len(y_true)  # Number of samples\n",
    "    p = X_test.shape[1]  # Number of predictors (features) in X\n",
    "    adj_r2 = 1 - ((1 - r2) * (n - 1)) / (n - p - 1)\n",
    "\n",
    "    # Save stats\n",
    "    regression_stats_test.append(\n",
    "        {\n",
    "            'model': model['name'],\n",
    "            'mae': mean_absolute_error(y_true, y_pred),\n",
    "            'mse': mean_squared_error(y_true, y_pred),\n",
    "            'rmse': np.sqrt(mean_squared_error(y_true, y_pred)),\n",
    "            'r2': r2,\n",
    "            'adj_r2': adj_r2\n",
    "        }\n",
    "    )\n",
    "\n",
    "# View stats\n",
    "regression_stats_test"
   ]
  },
  {
   "cell_type": "code",
   "execution_count": 15,
   "metadata": {},
   "outputs": [
    {
     "data": {
      "application/vnd.plotly.v1+json": {
       "config": {
        "plotlyServerURL": "https://plot.ly"
       },
       "data": [
        {
         "name": "mae",
         "type": "bar",
         "x": [
          "Multiple Linear Regression",
          "Random Forest",
          "Neural Network",
          "Support Vector Machine"
         ],
         "y": [
          3.6601424802294154,
          3.693346296531759,
          3.651841015864615,
          3.6623550886066574
         ]
        },
        {
         "name": "mse",
         "type": "bar",
         "x": [
          "Multiple Linear Regression",
          "Random Forest",
          "Neural Network",
          "Support Vector Machine"
         ],
         "y": [
          25.673197373552902,
          26.027548531026813,
          25.77500415763053,
          25.73247552379513
         ]
        },
        {
         "name": "rmse",
         "type": "bar",
         "x": [
          "Multiple Linear Regression",
          "Random Forest",
          "Neural Network",
          "Support Vector Machine"
         ],
         "y": [
          5.066872543645923,
          5.101720154127117,
          5.076908917602376,
          5.072718750709044
         ]
        },
        {
         "name": "r2",
         "type": "bar",
         "x": [
          "Multiple Linear Regression",
          "Random Forest",
          "Neural Network",
          "Support Vector Machine"
         ],
         "y": [
          0.0021387097463306803,
          -0.011634148306949754,
          -0.001818298313013278,
          -0.00016530290249860968
         ]
        },
        {
         "name": "adj_r2",
         "type": "bar",
         "x": [
          "Multiple Linear Regression",
          "Random Forest",
          "Neural Network",
          "Support Vector Machine"
         ],
         "y": [
          -0.39929974035572013,
          -0.41861340337296404,
          -0.404848648209053,
          -0.40253065464488325
         ]
        }
       ],
       "layout": {
        "barmode": "group",
        "template": {
         "data": {
          "bar": [
           {
            "error_x": {
             "color": "#2a3f5f"
            },
            "error_y": {
             "color": "#2a3f5f"
            },
            "marker": {
             "line": {
              "color": "#E5ECF6",
              "width": 0.5
             },
             "pattern": {
              "fillmode": "overlay",
              "size": 10,
              "solidity": 0.2
             }
            },
            "type": "bar"
           }
          ],
          "barpolar": [
           {
            "marker": {
             "line": {
              "color": "#E5ECF6",
              "width": 0.5
             },
             "pattern": {
              "fillmode": "overlay",
              "size": 10,
              "solidity": 0.2
             }
            },
            "type": "barpolar"
           }
          ],
          "carpet": [
           {
            "aaxis": {
             "endlinecolor": "#2a3f5f",
             "gridcolor": "white",
             "linecolor": "white",
             "minorgridcolor": "white",
             "startlinecolor": "#2a3f5f"
            },
            "baxis": {
             "endlinecolor": "#2a3f5f",
             "gridcolor": "white",
             "linecolor": "white",
             "minorgridcolor": "white",
             "startlinecolor": "#2a3f5f"
            },
            "type": "carpet"
           }
          ],
          "choropleth": [
           {
            "colorbar": {
             "outlinewidth": 0,
             "ticks": ""
            },
            "type": "choropleth"
           }
          ],
          "contour": [
           {
            "colorbar": {
             "outlinewidth": 0,
             "ticks": ""
            },
            "colorscale": [
             [
              0,
              "#0d0887"
             ],
             [
              0.1111111111111111,
              "#46039f"
             ],
             [
              0.2222222222222222,
              "#7201a8"
             ],
             [
              0.3333333333333333,
              "#9c179e"
             ],
             [
              0.4444444444444444,
              "#bd3786"
             ],
             [
              0.5555555555555556,
              "#d8576b"
             ],
             [
              0.6666666666666666,
              "#ed7953"
             ],
             [
              0.7777777777777778,
              "#fb9f3a"
             ],
             [
              0.8888888888888888,
              "#fdca26"
             ],
             [
              1,
              "#f0f921"
             ]
            ],
            "type": "contour"
           }
          ],
          "contourcarpet": [
           {
            "colorbar": {
             "outlinewidth": 0,
             "ticks": ""
            },
            "type": "contourcarpet"
           }
          ],
          "heatmap": [
           {
            "colorbar": {
             "outlinewidth": 0,
             "ticks": ""
            },
            "colorscale": [
             [
              0,
              "#0d0887"
             ],
             [
              0.1111111111111111,
              "#46039f"
             ],
             [
              0.2222222222222222,
              "#7201a8"
             ],
             [
              0.3333333333333333,
              "#9c179e"
             ],
             [
              0.4444444444444444,
              "#bd3786"
             ],
             [
              0.5555555555555556,
              "#d8576b"
             ],
             [
              0.6666666666666666,
              "#ed7953"
             ],
             [
              0.7777777777777778,
              "#fb9f3a"
             ],
             [
              0.8888888888888888,
              "#fdca26"
             ],
             [
              1,
              "#f0f921"
             ]
            ],
            "type": "heatmap"
           }
          ],
          "heatmapgl": [
           {
            "colorbar": {
             "outlinewidth": 0,
             "ticks": ""
            },
            "colorscale": [
             [
              0,
              "#0d0887"
             ],
             [
              0.1111111111111111,
              "#46039f"
             ],
             [
              0.2222222222222222,
              "#7201a8"
             ],
             [
              0.3333333333333333,
              "#9c179e"
             ],
             [
              0.4444444444444444,
              "#bd3786"
             ],
             [
              0.5555555555555556,
              "#d8576b"
             ],
             [
              0.6666666666666666,
              "#ed7953"
             ],
             [
              0.7777777777777778,
              "#fb9f3a"
             ],
             [
              0.8888888888888888,
              "#fdca26"
             ],
             [
              1,
              "#f0f921"
             ]
            ],
            "type": "heatmapgl"
           }
          ],
          "histogram": [
           {
            "marker": {
             "pattern": {
              "fillmode": "overlay",
              "size": 10,
              "solidity": 0.2
             }
            },
            "type": "histogram"
           }
          ],
          "histogram2d": [
           {
            "colorbar": {
             "outlinewidth": 0,
             "ticks": ""
            },
            "colorscale": [
             [
              0,
              "#0d0887"
             ],
             [
              0.1111111111111111,
              "#46039f"
             ],
             [
              0.2222222222222222,
              "#7201a8"
             ],
             [
              0.3333333333333333,
              "#9c179e"
             ],
             [
              0.4444444444444444,
              "#bd3786"
             ],
             [
              0.5555555555555556,
              "#d8576b"
             ],
             [
              0.6666666666666666,
              "#ed7953"
             ],
             [
              0.7777777777777778,
              "#fb9f3a"
             ],
             [
              0.8888888888888888,
              "#fdca26"
             ],
             [
              1,
              "#f0f921"
             ]
            ],
            "type": "histogram2d"
           }
          ],
          "histogram2dcontour": [
           {
            "colorbar": {
             "outlinewidth": 0,
             "ticks": ""
            },
            "colorscale": [
             [
              0,
              "#0d0887"
             ],
             [
              0.1111111111111111,
              "#46039f"
             ],
             [
              0.2222222222222222,
              "#7201a8"
             ],
             [
              0.3333333333333333,
              "#9c179e"
             ],
             [
              0.4444444444444444,
              "#bd3786"
             ],
             [
              0.5555555555555556,
              "#d8576b"
             ],
             [
              0.6666666666666666,
              "#ed7953"
             ],
             [
              0.7777777777777778,
              "#fb9f3a"
             ],
             [
              0.8888888888888888,
              "#fdca26"
             ],
             [
              1,
              "#f0f921"
             ]
            ],
            "type": "histogram2dcontour"
           }
          ],
          "mesh3d": [
           {
            "colorbar": {
             "outlinewidth": 0,
             "ticks": ""
            },
            "type": "mesh3d"
           }
          ],
          "parcoords": [
           {
            "line": {
             "colorbar": {
              "outlinewidth": 0,
              "ticks": ""
             }
            },
            "type": "parcoords"
           }
          ],
          "pie": [
           {
            "automargin": true,
            "type": "pie"
           }
          ],
          "scatter": [
           {
            "fillpattern": {
             "fillmode": "overlay",
             "size": 10,
             "solidity": 0.2
            },
            "type": "scatter"
           }
          ],
          "scatter3d": [
           {
            "line": {
             "colorbar": {
              "outlinewidth": 0,
              "ticks": ""
             }
            },
            "marker": {
             "colorbar": {
              "outlinewidth": 0,
              "ticks": ""
             }
            },
            "type": "scatter3d"
           }
          ],
          "scattercarpet": [
           {
            "marker": {
             "colorbar": {
              "outlinewidth": 0,
              "ticks": ""
             }
            },
            "type": "scattercarpet"
           }
          ],
          "scattergeo": [
           {
            "marker": {
             "colorbar": {
              "outlinewidth": 0,
              "ticks": ""
             }
            },
            "type": "scattergeo"
           }
          ],
          "scattergl": [
           {
            "marker": {
             "colorbar": {
              "outlinewidth": 0,
              "ticks": ""
             }
            },
            "type": "scattergl"
           }
          ],
          "scattermapbox": [
           {
            "marker": {
             "colorbar": {
              "outlinewidth": 0,
              "ticks": ""
             }
            },
            "type": "scattermapbox"
           }
          ],
          "scatterpolar": [
           {
            "marker": {
             "colorbar": {
              "outlinewidth": 0,
              "ticks": ""
             }
            },
            "type": "scatterpolar"
           }
          ],
          "scatterpolargl": [
           {
            "marker": {
             "colorbar": {
              "outlinewidth": 0,
              "ticks": ""
             }
            },
            "type": "scatterpolargl"
           }
          ],
          "scatterternary": [
           {
            "marker": {
             "colorbar": {
              "outlinewidth": 0,
              "ticks": ""
             }
            },
            "type": "scatterternary"
           }
          ],
          "surface": [
           {
            "colorbar": {
             "outlinewidth": 0,
             "ticks": ""
            },
            "colorscale": [
             [
              0,
              "#0d0887"
             ],
             [
              0.1111111111111111,
              "#46039f"
             ],
             [
              0.2222222222222222,
              "#7201a8"
             ],
             [
              0.3333333333333333,
              "#9c179e"
             ],
             [
              0.4444444444444444,
              "#bd3786"
             ],
             [
              0.5555555555555556,
              "#d8576b"
             ],
             [
              0.6666666666666666,
              "#ed7953"
             ],
             [
              0.7777777777777778,
              "#fb9f3a"
             ],
             [
              0.8888888888888888,
              "#fdca26"
             ],
             [
              1,
              "#f0f921"
             ]
            ],
            "type": "surface"
           }
          ],
          "table": [
           {
            "cells": {
             "fill": {
              "color": "#EBF0F8"
             },
             "line": {
              "color": "white"
             }
            },
            "header": {
             "fill": {
              "color": "#C8D4E3"
             },
             "line": {
              "color": "white"
             }
            },
            "type": "table"
           }
          ]
         },
         "layout": {
          "annotationdefaults": {
           "arrowcolor": "#2a3f5f",
           "arrowhead": 0,
           "arrowwidth": 1
          },
          "autotypenumbers": "strict",
          "coloraxis": {
           "colorbar": {
            "outlinewidth": 0,
            "ticks": ""
           }
          },
          "colorscale": {
           "diverging": [
            [
             0,
             "#8e0152"
            ],
            [
             0.1,
             "#c51b7d"
            ],
            [
             0.2,
             "#de77ae"
            ],
            [
             0.3,
             "#f1b6da"
            ],
            [
             0.4,
             "#fde0ef"
            ],
            [
             0.5,
             "#f7f7f7"
            ],
            [
             0.6,
             "#e6f5d0"
            ],
            [
             0.7,
             "#b8e186"
            ],
            [
             0.8,
             "#7fbc41"
            ],
            [
             0.9,
             "#4d9221"
            ],
            [
             1,
             "#276419"
            ]
           ],
           "sequential": [
            [
             0,
             "#0d0887"
            ],
            [
             0.1111111111111111,
             "#46039f"
            ],
            [
             0.2222222222222222,
             "#7201a8"
            ],
            [
             0.3333333333333333,
             "#9c179e"
            ],
            [
             0.4444444444444444,
             "#bd3786"
            ],
            [
             0.5555555555555556,
             "#d8576b"
            ],
            [
             0.6666666666666666,
             "#ed7953"
            ],
            [
             0.7777777777777778,
             "#fb9f3a"
            ],
            [
             0.8888888888888888,
             "#fdca26"
            ],
            [
             1,
             "#f0f921"
            ]
           ],
           "sequentialminus": [
            [
             0,
             "#0d0887"
            ],
            [
             0.1111111111111111,
             "#46039f"
            ],
            [
             0.2222222222222222,
             "#7201a8"
            ],
            [
             0.3333333333333333,
             "#9c179e"
            ],
            [
             0.4444444444444444,
             "#bd3786"
            ],
            [
             0.5555555555555556,
             "#d8576b"
            ],
            [
             0.6666666666666666,
             "#ed7953"
            ],
            [
             0.7777777777777778,
             "#fb9f3a"
            ],
            [
             0.8888888888888888,
             "#fdca26"
            ],
            [
             1,
             "#f0f921"
            ]
           ]
          },
          "colorway": [
           "#636efa",
           "#EF553B",
           "#00cc96",
           "#ab63fa",
           "#FFA15A",
           "#19d3f3",
           "#FF6692",
           "#B6E880",
           "#FF97FF",
           "#FECB52"
          ],
          "font": {
           "color": "#2a3f5f"
          },
          "geo": {
           "bgcolor": "white",
           "lakecolor": "white",
           "landcolor": "#E5ECF6",
           "showlakes": true,
           "showland": true,
           "subunitcolor": "white"
          },
          "hoverlabel": {
           "align": "left"
          },
          "hovermode": "closest",
          "mapbox": {
           "style": "light"
          },
          "paper_bgcolor": "white",
          "plot_bgcolor": "#E5ECF6",
          "polar": {
           "angularaxis": {
            "gridcolor": "white",
            "linecolor": "white",
            "ticks": ""
           },
           "bgcolor": "#E5ECF6",
           "radialaxis": {
            "gridcolor": "white",
            "linecolor": "white",
            "ticks": ""
           }
          },
          "scene": {
           "xaxis": {
            "backgroundcolor": "#E5ECF6",
            "gridcolor": "white",
            "gridwidth": 2,
            "linecolor": "white",
            "showbackground": true,
            "ticks": "",
            "zerolinecolor": "white"
           },
           "yaxis": {
            "backgroundcolor": "#E5ECF6",
            "gridcolor": "white",
            "gridwidth": 2,
            "linecolor": "white",
            "showbackground": true,
            "ticks": "",
            "zerolinecolor": "white"
           },
           "zaxis": {
            "backgroundcolor": "#E5ECF6",
            "gridcolor": "white",
            "gridwidth": 2,
            "linecolor": "white",
            "showbackground": true,
            "ticks": "",
            "zerolinecolor": "white"
           }
          },
          "shapedefaults": {
           "line": {
            "color": "#2a3f5f"
           }
          },
          "ternary": {
           "aaxis": {
            "gridcolor": "white",
            "linecolor": "white",
            "ticks": ""
           },
           "baxis": {
            "gridcolor": "white",
            "linecolor": "white",
            "ticks": ""
           },
           "bgcolor": "#E5ECF6",
           "caxis": {
            "gridcolor": "white",
            "linecolor": "white",
            "ticks": ""
           }
          },
          "title": {
           "x": 0.05
          },
          "xaxis": {
           "automargin": true,
           "gridcolor": "white",
           "linecolor": "white",
           "ticks": "",
           "title": {
            "standoff": 15
           },
           "zerolinecolor": "white",
           "zerolinewidth": 2
          },
          "yaxis": {
           "automargin": true,
           "gridcolor": "white",
           "linecolor": "white",
           "ticks": "",
           "title": {
            "standoff": 15
           },
           "zerolinecolor": "white",
           "zerolinewidth": 2
          }
         }
        },
        "title": {
         "text": "Evaluation Metrics Comparison"
        },
        "xaxis": {
         "title": {
          "text": "Models"
         }
        },
        "yaxis": {
         "title": {
          "text": "Scores"
         }
        }
       }
      }
     },
     "metadata": {},
     "output_type": "display_data"
    }
   ],
   "source": [
    "# Extracting model names and metric scores\n",
    "model_names = [d['model'] for d in regression_stats_test]\n",
    "metric_labels = list(regression_stats_test[0].keys())[1:]\n",
    "metric_scores = {metric: [d[metric] for d in regression_stats_test] for metric in metric_labels}\n",
    "\n",
    "# Plotting the bar chart\n",
    "fig = go.Figure()\n",
    "\n",
    "for metric in metric_labels:\n",
    "    fig.add_trace(go.Bar(\n",
    "        x=model_names,\n",
    "        y=metric_scores[metric],\n",
    "        name=metric\n",
    "    ))\n",
    "\n",
    "# Updating the layout\n",
    "fig.update_layout(\n",
    "    title='Evaluation Metrics Comparison',\n",
    "    xaxis_title='Models',\n",
    "    yaxis_title='Scores',\n",
    "    barmode='group'\n",
    ")\n",
    "\n",
    "# Display the plot\n",
    "fig.show()"
   ]
  },
  {
   "attachments": {},
   "cell_type": "markdown",
   "metadata": {},
   "source": [
    "Naive bayes"
   ]
  },
  {
   "cell_type": "code",
   "execution_count": 16,
   "metadata": {},
   "outputs": [
    {
     "name": "stdout",
     "output_type": "stream",
     "text": [
      "Mean Absolute Error: 3.6518080074565615\n",
      "Mean Squared Error: 25.781358746682066\n",
      "Root Mean Squared Error: 5.077534711519171\n",
      "R2 Score: -0.0020652873552322593\n",
      "Adjusted R2 Score: -0.40519500065906144\n"
     ]
    }
   ],
   "source": [
    "# Defining Actual values\n",
    "y_true = y_test.copy()\n",
    "\n",
    "# Defining Predicted values\n",
    "y_pred = np.full_like(y_test, y_train.mean())\n",
    "\n",
    "# Mean absolute error\n",
    "mae = mean_absolute_error(y_test, y_pred)\n",
    "print(\"Mean Absolute Error:\", mae)\n",
    "\n",
    "# Mean Squared Error\n",
    "mse = mean_squared_error(y_true, y_pred)\n",
    "print(\"Mean Squared Error:\", mse)\n",
    "\n",
    "# Root Mean Squared Error\n",
    "rmse = np.sqrt(mse)\n",
    "print(\"Root Mean Squared Error:\", rmse)\n",
    "\n",
    "# R2 Score\n",
    "r2 = r2_score(y_true, y_pred)\n",
    "print(\"R2 Score:\", r2)\n",
    "\n",
    "# Adjusted R2 Score\n",
    "n = len(y_true)  # Number of samples\n",
    "p = X_test.shape[1]  # Number of predictors (features) in X\n",
    "adj_r2 = 1 - ((1 - r2) * (n - 1)) / (n - p - 1)\n",
    "print(\"Adjusted R2 Score:\", adj_r2)"
   ]
  },
  {
   "attachments": {},
   "cell_type": "markdown",
   "metadata": {},
   "source": [
    "Save best model as Pickle"
   ]
  },
  {
   "cell_type": "code",
   "execution_count": 17,
   "metadata": {},
   "outputs": [],
   "source": [
    "import pickle\n",
    "\n",
    "# Save model\n",
    "file_path = 'Saved Models/Knijpkracht.pkl'\n",
    "\n",
    "with open(file_path, 'wb') as file:\n",
    "    pickle.dump(best_model_mlr, file)\n",
    "\n",
    "# Save features\n",
    "with open('Saved Models/best_features_Knijpkracht.txt', 'w') as file:\n",
    "    file.write(f'{best_features_mlr}')"
   ]
  }
 ],
 "metadata": {
  "kernelspec": {
   "display_name": "Python 3",
   "language": "python",
   "name": "python3"
  },
  "language_info": {
   "codemirror_mode": {
    "name": "ipython",
    "version": 3
   },
   "file_extension": ".py",
   "mimetype": "text/x-python",
   "name": "python",
   "nbconvert_exporter": "python",
   "pygments_lexer": "ipython3",
   "version": "3.9.5"
  },
  "orig_nbformat": 4
 },
 "nbformat": 4,
 "nbformat_minor": 2
}
