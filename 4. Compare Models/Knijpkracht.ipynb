{
 "cells": [
  {
   "attachments": {},
   "cell_type": "markdown",
   "metadata": {},
   "source": [
    "# General Imports"
   ]
  },
  {
   "attachments": {},
   "cell_type": "markdown",
   "metadata": {},
   "source": [
    "**Importing all libraries**"
   ]
  },
  {
   "cell_type": "code",
   "execution_count": 1,
   "metadata": {},
   "outputs": [],
   "source": [
    "import numpy as np\n",
    "import pandas as pd\n",
    "import warnings\n",
    "\n",
    "import plotly.graph_objects as go\n",
    "from bayes_opt import BayesianOptimization\n",
    "import statsmodels.api as sm\n",
    "\n",
    "from sklearn.model_selection import cross_val_score, train_test_split\n",
    "from sklearn.linear_model import LinearRegression\n",
    "from sklearn.svm import SVR\n",
    "from sklearn.model_selection import cross_val_predict\n",
    "from sklearn.ensemble import RandomForestRegressor\n",
    "from sklearn.neural_network import MLPRegressor\n",
    "from sklearn.metrics import r2_score, mean_squared_error, mean_absolute_error\n",
    "from sklearn.inspection import permutation_importance\n"
   ]
  },
  {
   "attachments": {},
   "cell_type": "markdown",
   "metadata": {},
   "source": [
    "Disable warnings"
   ]
  },
  {
   "cell_type": "code",
   "execution_count": 2,
   "metadata": {},
   "outputs": [],
   "source": [
    "# Disable all warnings\n",
    "warnings.filterwarnings(\"ignore\")\n",
    "\n",
    "# Enable warnings again\n",
    "## warnings.filterwarnings(\"default\")"
   ]
  },
  {
   "attachments": {},
   "cell_type": "markdown",
   "metadata": {},
   "source": [
    "Generate train and test data"
   ]
  },
  {
   "cell_type": "code",
   "execution_count": 3,
   "metadata": {},
   "outputs": [],
   "source": [
    "# Read Data\n",
    "df = pd.read_csv(\"data_finish_prep.csv\")\n",
    "\n",
    "# Select only the usefull part of the df\n",
    "df.drop(columns=['verschil_Lengte',\n",
    "               'verschil_6 MWT', 'verschil_TUG',\n",
    "               'verschil_BMI', 'verschil_Conditie',\n",
    "               'verschil_Lenigheid', 'verschil_Gewicht'], inplace=True)\n",
    "\n",
    "# Drop NaN values\n",
    "df.dropna(inplace=True)\n",
    "\n",
    "# Define X and y\n",
    "X = df.drop(columns=['verschil_Knijpkracht'])\n",
    "y = df['verschil_Knijpkracht']\n",
    "\n",
    "# Split data into train & test data\n",
    "X_train, X_test, y_train, y_test = train_test_split(X, y, test_size=0.2, random_state=42)"
   ]
  },
  {
   "cell_type": "code",
   "execution_count": 4,
   "metadata": {},
   "outputs": [],
   "source": [
    "def bo_params_generic(model, params, X_train, y_train):\n",
    "    # Create the model instance with the specified parameters\n",
    "    regressor = model(**params)\n",
    "    \n",
    "    # Assuming you have X_train, y_train defined for regression\n",
    "    scores = cross_val_score(regressor, X_train, y_train, cv=10, scoring='neg_root_mean_squared_error')\n",
    "    return -scores.mean()"
   ]
  },
  {
   "attachments": {},
   "cell_type": "markdown",
   "metadata": {},
   "source": [
    "# MLR"
   ]
  },
  {
   "attachments": {},
   "cell_type": "markdown",
   "metadata": {},
   "source": [
    "**feature selection**"
   ]
  },
  {
   "cell_type": "code",
   "execution_count": 5,
   "metadata": {},
   "outputs": [
    {
     "name": "stdout",
     "output_type": "stream",
     "text": [
      "Best features: ['AfstandTotBos', 'ZwaarBelasteMantelzorgers']\n",
      "Dropped features: ['EenOfMeerLangdurigeAandoeningen', 'AfstandTotOpenDroogNatTerrein', 'GeboorteRelatief', 'Rokers', 'AfstandTotKinderdagverblijf', 'OppervlakteWater', 'ALandbouwBosbouwEnVisserij', 'AfstandTotOpenNatNatuurlijkTerrein', 'AfstandTotVolkstuin', 'AfstandTotDagrecreatiefTerrein', 'BeperkingInHoren', 'Mantelzorger', 'AfstandTotZonnebank', 'AfstandTotSchool', 'NederlandseAntillenEnAruba', 'AfstandTotBegraafplaats', 'AfstandTotPoppodium', 'TotaalDiefstalUitWoningSchuurED', 'KLFinancieleDienstenOnroerendGoed', 'AfstandTotBibliotheek', 'AfstandTotOpenbaarGroenTotaal', 'PercentageOnbewoond', 'AfstandTotApotheek', 'BeperkingInZien', 'InBezitWoningcorporatie', 'PersonenautoSOverigeBrandstof', 'AfstandTotSauna', 'AfstandTotOvDagelLevensmiddelen', 'MatigOvergewicht', 'AfstandTotHuisartsenpost', 'AfstandTotTreinstationsTotaal', 'AfstandTotCafetariaED', 'AfstandTotSemiOpenbaarGroenTotaal', 'PersonenautoSPerHuishouden', 'UrenMantelzorgPerWeek', 'AfstandTotBioscoop', 'AfstandTotOpenNatTerreinTotaal', 'VoldoetAanBeweegrichtlijn', 'AfstandTotHotelED', 'BouwjaarVanaf2000', 'ErvarenGezondheidGoedZeerGoed', 'VoldoetAanRichtlijnAlcoholgebruik', 'AfstandTotKunstijsbaan', 'AfstandTotPodiumkunstenTotaal', 'AfstandTotBelangrijkOverstapstation', 'AfstandTotRestaurant', 'AfstandTotAttractie', 'SterfteRelatief', 'AfstandTotBrandweerkazerne', 'InBezitOverigeVerhuurders', 'PersonenautoSNaarOppervlakte', 'AfstandTotBuitenschoolseOpvang', 'OvermatigDrinker', 'GeweldsEnSeksueleMisdrijven', 'GemiddeldeWoningwaarde', 'AfstandTotWarenhuis', 'AfstandTotCafeED', 'Ondergewicht', 'AfstandTotSportterrein', 'VernielingMisdrijfTegenOpenbareOrde', 'AfstandTotConsultatiebureau', 'AfstandTotZwembad', 'AfstandTotMuseum', 'AfstandTotHuisartsenpraktijk', 'kPersonenMetLaagsteInkomen', 'EigendomOnbekend', 'ErnstigOvergewichtObesitas', 'AfstandTotVerblijfsrecreatiefTerrein']\n"
     ]
    }
   ],
   "source": [
    "# Fit the Full Model\n",
    "X =  sm.add_constant(X_train)  # Add constant term for the intercept\n",
    "model = sm.OLS(y_train, X_train).fit()  # Fit the MLR model\n",
    "best_model = model  # Initialize the best model\n",
    "selected_features = X_train.columns.tolist()\n",
    "best_features = X_train.columns.tolist()\n",
    "best_features_rmse = np.sqrt(-cross_val_score(LinearRegression(), X_train, y_train, cv=10, scoring='neg_mean_squared_error').mean())\n",
    "\n",
    "# Iteratively remove one feature at a time based on p-values\n",
    "while True:\n",
    "    # Compute p-values\n",
    "    p_values = model.pvalues[1:]  # Exclude the constant term\n",
    "\n",
    "    # Identify Insignificant Features\n",
    "    insignificant_feature = p_values.idxmax()\n",
    "    max_p_value = p_values.max()\n",
    "\n",
    "    # Remove Insignificant Feature\n",
    "    X = X.drop(insignificant_feature, axis=1)\n",
    "    selected_features.remove(insignificant_feature)\n",
    "\n",
    "    # When there a no features left\n",
    "    if len(selected_features) == 0:\n",
    "        break\n",
    "    \n",
    "    # Refit the Model\n",
    "    model = sm.OLS(y_train, X).fit()\n",
    "    \n",
    "    # Evaluate Model Performance\n",
    "    rmse = np.sqrt(-cross_val_score(LinearRegression(), X_train[selected_features], y_train, cv=10, scoring='neg_mean_squared_error').mean())\n",
    "\n",
    "    # Check if the model performs better without the insignificant features\n",
    "    if rmse <= best_features_rmse:\n",
    "        best_features_rmse = rmse\n",
    "        best_features = selected_features.copy()\n",
    "        best_model = model\n",
    "\n",
    "# Save results\n",
    "best_model_mlr = LinearRegression().fit(X_train[best_features], y_train)\n",
    "best_features_mlr = best_features\n",
    "\n",
    "# Show results\n",
    "print(\"Best features:\", best_features)\n",
    "print(\"Dropped features:\", list(set(X_train.columns.tolist()) - set(best_features)))"
   ]
  },
  {
   "attachments": {},
   "cell_type": "markdown",
   "metadata": {},
   "source": [
    "*Er zijn geen hyperparameters om te optimaliseren.*"
   ]
  },
  {
   "attachments": {},
   "cell_type": "markdown",
   "metadata": {},
   "source": [
    "# Support Vector Machines"
   ]
  },
  {
   "attachments": {},
   "cell_type": "markdown",
   "metadata": {},
   "source": [
    "**Hyperparameter optimalisatie**"
   ]
  },
  {
   "cell_type": "code",
   "execution_count": 6,
   "metadata": {},
   "outputs": [
    {
     "name": "stdout",
     "output_type": "stream",
     "text": [
      "|   iter    |  target   |     C     |   gamma   | kernel... |\n",
      "-------------------------------------------------------------\n",
      "| \u001b[0m1        \u001b[0m | \u001b[0m-25.3    \u001b[0m | \u001b[0m0.9208   \u001b[0m | \u001b[0m0.03075  \u001b[0m | \u001b[0m3.208    \u001b[0m |\n",
      "| \u001b[95m2        \u001b[0m | \u001b[95m-25.24   \u001b[0m | \u001b[95m2.441    \u001b[0m | \u001b[95m0.03086  \u001b[0m | \u001b[95m2.147    \u001b[0m |\n",
      "| \u001b[0m3        \u001b[0m | \u001b[0m-25.56   \u001b[0m | \u001b[0m5.474    \u001b[0m | \u001b[0m0.05591  \u001b[0m | \u001b[0m2.601    \u001b[0m |\n",
      "| \u001b[0m4        \u001b[0m | \u001b[0m-25.67   \u001b[0m | \u001b[0m9.817    \u001b[0m | \u001b[0m0.0448   \u001b[0m | \u001b[0m2.346    \u001b[0m |\n",
      "| \u001b[95m5        \u001b[0m | \u001b[95m-24.83   \u001b[0m | \u001b[95m5.624    \u001b[0m | \u001b[95m0.005085 \u001b[0m | \u001b[95m3.997    \u001b[0m |\n",
      "| \u001b[0m6        \u001b[0m | \u001b[0m-25.41   \u001b[0m | \u001b[0m2.324    \u001b[0m | \u001b[0m0.08161  \u001b[0m | \u001b[0m2.318    \u001b[0m |\n",
      "| \u001b[0m7        \u001b[0m | \u001b[0m-25.82   \u001b[0m | \u001b[0m4.907    \u001b[0m | \u001b[0m0.03956  \u001b[0m | \u001b[0m3.93     \u001b[0m |\n",
      "| \u001b[0m8        \u001b[0m | \u001b[0m-25.79   \u001b[0m | \u001b[0m3.821    \u001b[0m | \u001b[0m0.08649  \u001b[0m | \u001b[0m1.561    \u001b[0m |\n",
      "| \u001b[0m9        \u001b[0m | \u001b[0m-25.36   \u001b[0m | \u001b[0m4.086    \u001b[0m | \u001b[0m0.03134  \u001b[0m | \u001b[0m2.823    \u001b[0m |\n",
      "| \u001b[0m10       \u001b[0m | \u001b[0m-25.11   \u001b[0m | \u001b[0m6.129    \u001b[0m | \u001b[0m0.003914 \u001b[0m | \u001b[0m2.141    \u001b[0m |\n",
      "| \u001b[0m11       \u001b[0m | \u001b[0m-25.03   \u001b[0m | \u001b[0m0.6918   \u001b[0m | \u001b[0m0.01933  \u001b[0m | \u001b[0m3.28     \u001b[0m |\n",
      "| \u001b[0m12       \u001b[0m | \u001b[0m-25.68   \u001b[0m | \u001b[0m3.293    \u001b[0m | \u001b[0m0.03275  \u001b[0m | \u001b[0m3.121    \u001b[0m |\n",
      "| \u001b[0m13       \u001b[0m | \u001b[0m-25.86   \u001b[0m | \u001b[0m5.825    \u001b[0m | \u001b[0m0.04978  \u001b[0m | \u001b[0m3.983    \u001b[0m |\n",
      "| \u001b[0m14       \u001b[0m | \u001b[0m-25.86   \u001b[0m | \u001b[0m5.924    \u001b[0m | \u001b[0m0.06652  \u001b[0m | \u001b[0m1.246    \u001b[0m |\n",
      "| \u001b[0m15       \u001b[0m | \u001b[0m-25.86   \u001b[0m | \u001b[0m6.549    \u001b[0m | \u001b[0m0.09271  \u001b[0m | \u001b[0m1.316    \u001b[0m |\n",
      "| \u001b[0m16       \u001b[0m | \u001b[0m-25.64   \u001b[0m | \u001b[0m9.501    \u001b[0m | \u001b[0m0.04128  \u001b[0m | \u001b[0m2.151    \u001b[0m |\n",
      "| \u001b[0m17       \u001b[0m | \u001b[0m-25.66   \u001b[0m | \u001b[0m1.993    \u001b[0m | \u001b[0m0.07091  \u001b[0m | \u001b[0m1.808    \u001b[0m |\n",
      "| \u001b[0m18       \u001b[0m | \u001b[0m-25.85   \u001b[0m | \u001b[0m9.311    \u001b[0m | \u001b[0m0.08798  \u001b[0m | \u001b[0m1.033    \u001b[0m |\n",
      "| \u001b[0m19       \u001b[0m | \u001b[0m-25.75   \u001b[0m | \u001b[0m2.939    \u001b[0m | \u001b[0m0.01168  \u001b[0m | \u001b[0m1.544    \u001b[0m |\n",
      "| \u001b[0m20       \u001b[0m | \u001b[0m-24.95   \u001b[0m | \u001b[0m0.3036   \u001b[0m | \u001b[0m0.01907  \u001b[0m | \u001b[0m2.948    \u001b[0m |\n",
      "| \u001b[0m21       \u001b[0m | \u001b[0m-25.67   \u001b[0m | \u001b[0m9.319    \u001b[0m | \u001b[0m0.04662  \u001b[0m | \u001b[0m2.686    \u001b[0m |\n",
      "| \u001b[0m22       \u001b[0m | \u001b[0m-25.46   \u001b[0m | \u001b[0m5.306    \u001b[0m | \u001b[0m0.0444   \u001b[0m | \u001b[0m2.847    \u001b[0m |\n",
      "| \u001b[0m23       \u001b[0m | \u001b[0m-25.93   \u001b[0m | \u001b[0m5.797    \u001b[0m | \u001b[0m0.08968  \u001b[0m | \u001b[0m3.558    \u001b[0m |\n",
      "| \u001b[0m24       \u001b[0m | \u001b[0m-25.0    \u001b[0m | \u001b[0m0.4938   \u001b[0m | \u001b[0m0.01875  \u001b[0m | \u001b[0m2.744    \u001b[0m |\n",
      "| \u001b[0m25       \u001b[0m | \u001b[0m-25.69   \u001b[0m | \u001b[0m0.9313   \u001b[0m | \u001b[0m0.05031  \u001b[0m | \u001b[0m3.483    \u001b[0m |\n",
      "| \u001b[0m26       \u001b[0m | \u001b[0m-24.86   \u001b[0m | \u001b[0m0.3434   \u001b[0m | \u001b[0m0.004247 \u001b[0m | \u001b[0m2.997    \u001b[0m |\n",
      "| \u001b[0m27       \u001b[0m | \u001b[0m-24.9    \u001b[0m | \u001b[0m0.4502   \u001b[0m | \u001b[0m0.006815 \u001b[0m | \u001b[0m2.913    \u001b[0m |\n",
      "| \u001b[0m28       \u001b[0m | \u001b[0m-25.16   \u001b[0m | \u001b[0m2.448    \u001b[0m | \u001b[0m0.01727  \u001b[0m | \u001b[0m2.147    \u001b[0m |\n",
      "| \u001b[0m29       \u001b[0m | \u001b[0m-25.94   \u001b[0m | \u001b[0m5.525    \u001b[0m | \u001b[0m0.07953  \u001b[0m | \u001b[0m3.973    \u001b[0m |\n",
      "| \u001b[0m30       \u001b[0m | \u001b[0m-25.03   \u001b[0m | \u001b[0m0.3879   \u001b[0m | \u001b[0m0.05732  \u001b[0m | \u001b[0m2.95     \u001b[0m |\n",
      "| \u001b[0m31       \u001b[0m | \u001b[0m-25.1    \u001b[0m | \u001b[0m0.4586   \u001b[0m | \u001b[0m0.09228  \u001b[0m | \u001b[0m2.815    \u001b[0m |\n",
      "| \u001b[0m32       \u001b[0m | \u001b[0m-25.22   \u001b[0m | \u001b[0m1.042    \u001b[0m | \u001b[0m0.08283  \u001b[0m | \u001b[0m2.698    \u001b[0m |\n",
      "| \u001b[0m33       \u001b[0m | \u001b[0m-25.03   \u001b[0m | \u001b[0m0.538    \u001b[0m | \u001b[0m0.02809  \u001b[0m | \u001b[0m2.873    \u001b[0m |\n",
      "| \u001b[0m34       \u001b[0m | \u001b[0m-25.55   \u001b[0m | \u001b[0m0.2881   \u001b[0m | \u001b[0m0.0627   \u001b[0m | \u001b[0m3.071    \u001b[0m |\n",
      "| \u001b[0m35       \u001b[0m | \u001b[0m-25.88   \u001b[0m | \u001b[0m3.122    \u001b[0m | \u001b[0m0.0644   \u001b[0m | \u001b[0m3.374    \u001b[0m |\n",
      "| \u001b[0m36       \u001b[0m | \u001b[0m-24.92   \u001b[0m | \u001b[0m0.4738   \u001b[0m | \u001b[0m0.01597  \u001b[0m | \u001b[0m3.022    \u001b[0m |\n",
      "| \u001b[0m37       \u001b[0m | \u001b[0m-25.77   \u001b[0m | \u001b[0m3.29     \u001b[0m | \u001b[0m0.06773  \u001b[0m | \u001b[0m1.702    \u001b[0m |\n",
      "| \u001b[0m38       \u001b[0m | \u001b[0m-25.04   \u001b[0m | \u001b[0m0.5333   \u001b[0m | \u001b[0m0.03481  \u001b[0m | \u001b[0m2.877    \u001b[0m |\n",
      "| \u001b[0m39       \u001b[0m | \u001b[0m-24.97   \u001b[0m | \u001b[0m0.3494   \u001b[0m | \u001b[0m0.02427  \u001b[0m | \u001b[0m2.804    \u001b[0m |\n",
      "| \u001b[0m40       \u001b[0m | \u001b[0m-25.17   \u001b[0m | \u001b[0m0.5509   \u001b[0m | \u001b[0m0.02906  \u001b[0m | \u001b[0m3.187    \u001b[0m |\n",
      "| \u001b[0m41       \u001b[0m | \u001b[0m-25.82   \u001b[0m | \u001b[0m0.6949   \u001b[0m | \u001b[0m0.07633  \u001b[0m | \u001b[0m3.113    \u001b[0m |\n",
      "| \u001b[0m42       \u001b[0m | \u001b[0m-25.79   \u001b[0m | \u001b[0m0.6142   \u001b[0m | \u001b[0m0.06619  \u001b[0m | \u001b[0m3.362    \u001b[0m |\n",
      "| \u001b[0m43       \u001b[0m | \u001b[0m-25.06   \u001b[0m | \u001b[0m0.4066   \u001b[0m | \u001b[0m0.07011  \u001b[0m | \u001b[0m2.698    \u001b[0m |\n",
      "| \u001b[0m44       \u001b[0m | \u001b[0m-24.87   \u001b[0m | \u001b[0m2.578    \u001b[0m | \u001b[0m0.001    \u001b[0m | \u001b[0m2.147    \u001b[0m |\n",
      "| \u001b[0m45       \u001b[0m | \u001b[0m-25.0    \u001b[0m | \u001b[0m2.626    \u001b[0m | \u001b[0m0.003046 \u001b[0m | \u001b[0m2.067    \u001b[0m |\n",
      "| \u001b[0m46       \u001b[0m | \u001b[0m-24.88   \u001b[0m | \u001b[0m2.688    \u001b[0m | \u001b[0m0.001    \u001b[0m | \u001b[0m2.189    \u001b[0m |\n",
      "| \u001b[0m47       \u001b[0m | \u001b[0m-25.82   \u001b[0m | \u001b[0m4.421    \u001b[0m | \u001b[0m0.0718   \u001b[0m | \u001b[0m1.576    \u001b[0m |\n",
      "| \u001b[0m48       \u001b[0m | \u001b[0m-24.87   \u001b[0m | \u001b[0m2.594    \u001b[0m | \u001b[0m0.001    \u001b[0m | \u001b[0m2.278    \u001b[0m |\n",
      "| \u001b[0m49       \u001b[0m | \u001b[0m-25.41   \u001b[0m | \u001b[0m2.662    \u001b[0m | \u001b[0m0.07226  \u001b[0m | \u001b[0m2.321    \u001b[0m |\n",
      "| \u001b[0m50       \u001b[0m | \u001b[0m-25.48   \u001b[0m | \u001b[0m2.687    \u001b[0m | \u001b[0m0.09565  \u001b[0m | \u001b[0m2.12     \u001b[0m |\n",
      "=============================================================\n"
     ]
    },
    {
     "data": {
      "text/html": [
       "<style>#sk-container-id-1 {color: black;background-color: white;}#sk-container-id-1 pre{padding: 0;}#sk-container-id-1 div.sk-toggleable {background-color: white;}#sk-container-id-1 label.sk-toggleable__label {cursor: pointer;display: block;width: 100%;margin-bottom: 0;padding: 0.3em;box-sizing: border-box;text-align: center;}#sk-container-id-1 label.sk-toggleable__label-arrow:before {content: \"▸\";float: left;margin-right: 0.25em;color: #696969;}#sk-container-id-1 label.sk-toggleable__label-arrow:hover:before {color: black;}#sk-container-id-1 div.sk-estimator:hover label.sk-toggleable__label-arrow:before {color: black;}#sk-container-id-1 div.sk-toggleable__content {max-height: 0;max-width: 0;overflow: hidden;text-align: left;background-color: #f0f8ff;}#sk-container-id-1 div.sk-toggleable__content pre {margin: 0.2em;color: black;border-radius: 0.25em;background-color: #f0f8ff;}#sk-container-id-1 input.sk-toggleable__control:checked~div.sk-toggleable__content {max-height: 200px;max-width: 100%;overflow: auto;}#sk-container-id-1 input.sk-toggleable__control:checked~label.sk-toggleable__label-arrow:before {content: \"▾\";}#sk-container-id-1 div.sk-estimator input.sk-toggleable__control:checked~label.sk-toggleable__label {background-color: #d4ebff;}#sk-container-id-1 div.sk-label input.sk-toggleable__control:checked~label.sk-toggleable__label {background-color: #d4ebff;}#sk-container-id-1 input.sk-hidden--visually {border: 0;clip: rect(1px 1px 1px 1px);clip: rect(1px, 1px, 1px, 1px);height: 1px;margin: -1px;overflow: hidden;padding: 0;position: absolute;width: 1px;}#sk-container-id-1 div.sk-estimator {font-family: monospace;background-color: #f0f8ff;border: 1px dotted black;border-radius: 0.25em;box-sizing: border-box;margin-bottom: 0.5em;}#sk-container-id-1 div.sk-estimator:hover {background-color: #d4ebff;}#sk-container-id-1 div.sk-parallel-item::after {content: \"\";width: 100%;border-bottom: 1px solid gray;flex-grow: 1;}#sk-container-id-1 div.sk-label:hover label.sk-toggleable__label {background-color: #d4ebff;}#sk-container-id-1 div.sk-serial::before {content: \"\";position: absolute;border-left: 1px solid gray;box-sizing: border-box;top: 0;bottom: 0;left: 50%;z-index: 0;}#sk-container-id-1 div.sk-serial {display: flex;flex-direction: column;align-items: center;background-color: white;padding-right: 0.2em;padding-left: 0.2em;position: relative;}#sk-container-id-1 div.sk-item {position: relative;z-index: 1;}#sk-container-id-1 div.sk-parallel {display: flex;align-items: stretch;justify-content: center;background-color: white;position: relative;}#sk-container-id-1 div.sk-item::before, #sk-container-id-1 div.sk-parallel-item::before {content: \"\";position: absolute;border-left: 1px solid gray;box-sizing: border-box;top: 0;bottom: 0;left: 50%;z-index: -1;}#sk-container-id-1 div.sk-parallel-item {display: flex;flex-direction: column;z-index: 1;position: relative;background-color: white;}#sk-container-id-1 div.sk-parallel-item:first-child::after {align-self: flex-end;width: 50%;}#sk-container-id-1 div.sk-parallel-item:last-child::after {align-self: flex-start;width: 50%;}#sk-container-id-1 div.sk-parallel-item:only-child::after {width: 0;}#sk-container-id-1 div.sk-dashed-wrapped {border: 1px dashed gray;margin: 0 0.4em 0.5em 0.4em;box-sizing: border-box;padding-bottom: 0.4em;background-color: white;}#sk-container-id-1 div.sk-label label {font-family: monospace;font-weight: bold;display: inline-block;line-height: 1.2em;}#sk-container-id-1 div.sk-label-container {text-align: center;}#sk-container-id-1 div.sk-container {/* jupyter's `normalize.less` sets `[hidden] { display: none; }` but bootstrap.min.css set `[hidden] { display: none !important; }` so we also need the `!important` here to be able to override the default hidden behavior on the sphinx rendered scikit-learn.org. See: https://github.com/scikit-learn/scikit-learn/issues/21755 */display: inline-block !important;position: relative;}#sk-container-id-1 div.sk-text-repr-fallback {display: none;}</style><div id=\"sk-container-id-1\" class=\"sk-top-container\"><div class=\"sk-text-repr-fallback\"><pre>SVR(C=5.624373971710246, gamma=0.005085470973802771, kernel=&#x27;poly&#x27;)</pre><b>In a Jupyter environment, please rerun this cell to show the HTML representation or trust the notebook. <br />On GitHub, the HTML representation is unable to render, please try loading this page with nbviewer.org.</b></div><div class=\"sk-container\" hidden><div class=\"sk-item\"><div class=\"sk-estimator sk-toggleable\"><input class=\"sk-toggleable__control sk-hidden--visually\" id=\"sk-estimator-id-1\" type=\"checkbox\" checked><label for=\"sk-estimator-id-1\" class=\"sk-toggleable__label sk-toggleable__label-arrow\">SVR</label><div class=\"sk-toggleable__content\"><pre>SVR(C=5.624373971710246, gamma=0.005085470973802771, kernel=&#x27;poly&#x27;)</pre></div></div></div></div></div>"
      ],
      "text/plain": [
       "SVR(C=5.624373971710246, gamma=0.005085470973802771, kernel='poly')"
      ]
     },
     "execution_count": 6,
     "metadata": {},
     "output_type": "execute_result"
    }
   ],
   "source": [
    "def bo_params_generic(model, params, X_train, y_train):\n",
    "    # Create the model instance with the specified parameters\n",
    "    classifier = model(**params)\n",
    "    \n",
    "    # Calculating accuracy based on cross-validation\n",
    "    scores = cross_val_score(classifier, X_train, y_train, cv=10, scoring='neg_mean_squared_error')\n",
    "    return scores.mean()\n",
    "\n",
    "params_ranges = {\n",
    "    'C': (0.1, 10),\n",
    "    'kernel_int': (1, 4),\n",
    "    'gamma': (0.001, 0.1)\n",
    "}\n",
    "\n",
    "kernel_mapping = {\n",
    "    1: 'linear',\n",
    "    2: 'rbf',\n",
    "    3: 'poly',\n",
    "    4: 'sigmoid'\n",
    "}\n",
    "\n",
    "# Example usage with SVM\n",
    "model = SVR\n",
    "model_bo = BayesianOptimization(f=lambda C, kernel_int, gamma:\n",
    "                                    bo_params_generic(model, {\n",
    "                                        'C': C,\n",
    "                                        'kernel': kernel_mapping[int(kernel_int)],\n",
    "                                        'gamma': gamma\n",
    "                                    }, X_train, y_train),\n",
    "                             pbounds=params_ranges)\n",
    "\n",
    "results = model_bo.maximize(n_iter=40, init_points=10)\n",
    "params = model_bo.max['params']\n",
    "\n",
    "# Creating a model with the best hyperparameters\n",
    "best_model_svm = model(\n",
    "    C=params['C'],\n",
    "    kernel=kernel_mapping[int(params['kernel_int'])],\n",
    "    gamma=params['gamma']\n",
    ")\n",
    "\n",
    "# Fit the model\n",
    "best_model_svm.fit(X_train, y_train)\n"
   ]
  },
  {
   "attachments": {},
   "cell_type": "markdown",
   "metadata": {},
   "source": [
    "**Feature Selection**"
   ]
  },
  {
   "cell_type": "code",
   "execution_count": 7,
   "metadata": {},
   "outputs": [
    {
     "name": "stdout",
     "output_type": "stream",
     "text": [
      "Scince the kernal is not linear, this feature selection is not possible\n",
      "Best features: Index(['NederlandseAntillenEnAruba', 'GeboorteRelatief', 'SterfteRelatief',\n",
      "       'GemiddeldeWoningwaarde', 'PercentageOnbewoond',\n",
      "       'InBezitWoningcorporatie', 'InBezitOverigeVerhuurders',\n",
      "       'EigendomOnbekend', 'BouwjaarVanaf2000', 'kPersonenMetLaagsteInkomen',\n",
      "       'ALandbouwBosbouwEnVisserij', 'KLFinancieleDienstenOnroerendGoed',\n",
      "       'PersonenautoSOverigeBrandstof', 'PersonenautoSPerHuishouden',\n",
      "       'PersonenautoSNaarOppervlakte', 'AfstandTotHuisartsenpraktijk',\n",
      "       'AfstandTotKinderdagverblijf', 'AfstandTotSchool', 'OppervlakteWater',\n",
      "       'TotaalDiefstalUitWoningSchuurED',\n",
      "       'VernielingMisdrijfTegenOpenbareOrde', 'GeweldsEnSeksueleMisdrijven',\n",
      "       'AfstandTotHuisartsenpost', 'AfstandTotApotheek',\n",
      "       'AfstandTotConsultatiebureau', 'AfstandTotOvDagelLevensmiddelen',\n",
      "       'AfstandTotWarenhuis', 'AfstandTotCafeED', 'AfstandTotCafetariaED',\n",
      "       'AfstandTotRestaurant', 'AfstandTotHotelED',\n",
      "       'AfstandTotBuitenschoolseOpvang', 'AfstandTotOpenbaarGroenTotaal',\n",
      "       'AfstandTotDagrecreatiefTerrein', 'AfstandTotBos',\n",
      "       'AfstandTotOpenNatTerreinTotaal', 'AfstandTotOpenDroogNatTerrein',\n",
      "       'AfstandTotOpenNatNatuurlijkTerrein',\n",
      "       'AfstandTotSemiOpenbaarGroenTotaal', 'AfstandTotSportterrein',\n",
      "       'AfstandTotVolkstuin', 'AfstandTotVerblijfsrecreatiefTerrein',\n",
      "       'AfstandTotBegraafplaats', 'AfstandTotTreinstationsTotaal',\n",
      "       'AfstandTotBelangrijkOverstapstation', 'AfstandTotBibliotheek',\n",
      "       'AfstandTotZwembad', 'AfstandTotKunstijsbaan', 'AfstandTotMuseum',\n",
      "       'AfstandTotPodiumkunstenTotaal', 'AfstandTotPoppodium',\n",
      "       'AfstandTotBioscoop', 'AfstandTotSauna', 'AfstandTotZonnebank',\n",
      "       'AfstandTotAttractie', 'AfstandTotBrandweerkazerne',\n",
      "       'ErvarenGezondheidGoedZeerGoed', 'EenOfMeerLangdurigeAandoeningen',\n",
      "       'BeperkingInHoren', 'BeperkingInZien', 'Ondergewicht',\n",
      "       'MatigOvergewicht', 'ErnstigOvergewichtObesitas',\n",
      "       'VoldoetAanBeweegrichtlijn', 'Mantelzorger',\n",
      "       'ZwaarBelasteMantelzorgers', 'UrenMantelzorgPerWeek', 'Rokers',\n",
      "       'VoldoetAanRichtlijnAlcoholgebruik', 'OvermatigDrinker'],\n",
      "      dtype='object')\n",
      "Dropped features: []\n"
     ]
    }
   ],
   "source": [
    "# Get the accuracy score of the model with all features\n",
    "best_accuracy = cross_val_score(best_model_svm, X_train, y_train, cv=10, scoring='neg_mean_squared_error', n_jobs=-1).mean()\n",
    "best_model = best_model_svm\n",
    "selected_features = X_train.columns\n",
    "best_features = selected_features\n",
    "\n",
    "while len(selected_features) > 1:\n",
    "    try:\n",
    "        # Retrieve the coefficients from the SVM model\n",
    "        coefficients = best_model_svm.coef_[0]\n",
    "\n",
    "        # Sort features based on their coefficient magnitudes\n",
    "        sorted_indices = np.argsort(np.abs(coefficients))\n",
    "        selected_features = [X_train.columns[i] for i in sorted_indices[::-1]]\n",
    "\n",
    "        # Remove the least important feature\n",
    "        selected_features = selected_features[:-1]\n",
    "        \n",
    "        # Refit the linear SVM classifier\n",
    "        best_model_svm_classification.fit(X_train[selected_features], y_train)\n",
    "        \n",
    "        # Evaluate Model Performance\n",
    "        accuracy = cross_val_score(best_model_svm, X_train[selected_features], y_train, cv=10, scoring='neg_mean_squared_error', n_jobs=-1).mean()\n",
    "\n",
    "        # Check if the model performs better without the insignificant features\n",
    "        if accuracy >= best_accuracy:\n",
    "            best_accuracy = accuracy\n",
    "            best_features = selected_features.copy()\n",
    "            best_model = best_model_svm\n",
    "    except:\n",
    "        print(\"Scince the kernal is not linear, this feature selection is not possible\") \n",
    "        break\n",
    "\n",
    "# Save results\n",
    "best_model_svm = best_model\n",
    "best_features_svm = best_features\n",
    "\n",
    "# Show results\n",
    "print(\"Best features:\", best_features_svm)\n",
    "print(\"Dropped features:\", list(set(X_train.columns.tolist()) - set(best_features_svm)))"
   ]
  },
  {
   "attachments": {},
   "cell_type": "markdown",
   "metadata": {},
   "source": [
    "# Random Forest"
   ]
  },
  {
   "attachments": {},
   "cell_type": "markdown",
   "metadata": {},
   "source": [
    "**Feature selection**"
   ]
  },
  {
   "cell_type": "code",
   "execution_count": 8,
   "metadata": {},
   "outputs": [
    {
     "name": "stdout",
     "output_type": "stream",
     "text": [
      "Best features: ['ALandbouwBosbouwEnVisserij']\n",
      "Dropped features: ['EenOfMeerLangdurigeAandoeningen', 'AfstandTotOpenDroogNatTerrein', 'GeboorteRelatief', 'Rokers', 'AfstandTotKinderdagverblijf', 'OppervlakteWater', 'AfstandTotOpenNatNatuurlijkTerrein', 'AfstandTotVolkstuin', 'AfstandTotDagrecreatiefTerrein', 'BeperkingInHoren', 'Mantelzorger', 'AfstandTotZonnebank', 'AfstandTotSchool', 'NederlandseAntillenEnAruba', 'AfstandTotBegraafplaats', 'AfstandTotPoppodium', 'TotaalDiefstalUitWoningSchuurED', 'KLFinancieleDienstenOnroerendGoed', 'AfstandTotBibliotheek', 'AfstandTotOpenbaarGroenTotaal', 'PercentageOnbewoond', 'AfstandTotApotheek', 'BeperkingInZien', 'InBezitWoningcorporatie', 'PersonenautoSOverigeBrandstof', 'AfstandTotSauna', 'AfstandTotOvDagelLevensmiddelen', 'MatigOvergewicht', 'AfstandTotHuisartsenpost', 'AfstandTotTreinstationsTotaal', 'AfstandTotCafetariaED', 'AfstandTotSemiOpenbaarGroenTotaal', 'PersonenautoSPerHuishouden', 'UrenMantelzorgPerWeek', 'AfstandTotBioscoop', 'AfstandTotOpenNatTerreinTotaal', 'VoldoetAanBeweegrichtlijn', 'AfstandTotHotelED', 'BouwjaarVanaf2000', 'ErvarenGezondheidGoedZeerGoed', 'VoldoetAanRichtlijnAlcoholgebruik', 'AfstandTotKunstijsbaan', 'AfstandTotPodiumkunstenTotaal', 'AfstandTotBelangrijkOverstapstation', 'AfstandTotRestaurant', 'AfstandTotAttractie', 'SterfteRelatief', 'AfstandTotBrandweerkazerne', 'InBezitOverigeVerhuurders', 'PersonenautoSNaarOppervlakte', 'AfstandTotBuitenschoolseOpvang', 'ZwaarBelasteMantelzorgers', 'OvermatigDrinker', 'GeweldsEnSeksueleMisdrijven', 'GemiddeldeWoningwaarde', 'AfstandTotWarenhuis', 'AfstandTotCafeED', 'Ondergewicht', 'AfstandTotBos', 'AfstandTotSportterrein', 'VernielingMisdrijfTegenOpenbareOrde', 'AfstandTotConsultatiebureau', 'AfstandTotZwembad', 'AfstandTotMuseum', 'AfstandTotHuisartsenpraktijk', 'kPersonenMetLaagsteInkomen', 'EigendomOnbekend', 'ErnstigOvergewichtObesitas', 'AfstandTotVerblijfsrecreatiefTerrein']\n"
     ]
    }
   ],
   "source": [
    "# Get the accuracy score of the model with all the features\n",
    "rf = RandomForestRegressor(n_estimators=100, random_state=0).fit(X_train, y_train)\n",
    "best_rf = rf\n",
    "selected_features = X_train.columns.tolist()\n",
    "best_features = selected_features\n",
    "best_features_accuracy = cross_val_score(RandomForestRegressor(n_estimators=100, random_state=0), X_train, y_train, cv=10, scoring='neg_mean_squared_error', n_jobs=-1).mean()\n",
    "\n",
    "while True:\n",
    "    # Make DataFrame of feature impotances\n",
    "    result = permutation_importance(\n",
    "            rf, X_train[selected_features], y_train, n_repeats=10, random_state=42, n_jobs=-1\n",
    "        )\n",
    "    df_importances = pd.DataFrame({'feature': X_train[selected_features].columns, 'importance': result.importances_mean, 'std': result.importances_std})\n",
    "    df_importances = df_importances.sort_values('importance')\n",
    "\n",
    "    # Remove least important feature\n",
    "    selected_features.remove(df_importances['feature'].iloc[0])\n",
    "\n",
    "    # When there are no features left\n",
    "    if len(selected_features) == 0:\n",
    "        break\n",
    "    \n",
    "    # Refit the Model\n",
    "    rf = RandomForestRegressor(n_estimators=100, random_state=0).fit(X_train[selected_features], y_train)\n",
    "\n",
    "    # Evaluate Model Performance\n",
    "    accuracy = cross_val_score(RandomForestRegressor(n_estimators=100, random_state=0), X_train[selected_features], y_train, cv=10, scoring='neg_mean_squared_error', n_jobs=-1).mean()\n",
    "\n",
    "    # Check if the model performs better without the insignificant features\n",
    "    if accuracy >= best_features_accuracy:\n",
    "        best_features_accuracy = accuracy\n",
    "        best_features = selected_features.copy()\n",
    "        best_model = rf\n",
    "\n",
    "# Save results\n",
    "best_model_rf = best_model\n",
    "best_features_rf = best_features\n",
    "\n",
    "# Show results\n",
    "print(\"Best features:\", best_features_rf)\n",
    "print(\"Dropped features:\", list(set(X_train.columns.tolist()) - set(best_features_rf)))"
   ]
  },
  {
   "attachments": {},
   "cell_type": "markdown",
   "metadata": {},
   "source": [
    "**Hyperparameter optimalisatie**"
   ]
  },
  {
   "cell_type": "code",
   "execution_count": 9,
   "metadata": {},
   "outputs": [
    {
     "name": "stdout",
     "output_type": "stream",
     "text": [
      "|   iter    |  target   | max_depth | max_fe... | min_sa... | n_esti... |\n",
      "-------------------------------------------------------------------------\n",
      "| \u001b[0m1        \u001b[0m | \u001b[0m-24.93   \u001b[0m | \u001b[0m12.69    \u001b[0m | \u001b[0m0.991    \u001b[0m | \u001b[0m11.36    \u001b[0m | \u001b[0m761.1    \u001b[0m |\n",
      "| \u001b[0m2        \u001b[0m | \u001b[0m-24.93   \u001b[0m | \u001b[0m19.25    \u001b[0m | \u001b[0m0.5006   \u001b[0m | \u001b[0m2.37     \u001b[0m | \u001b[0m534.6    \u001b[0m |\n",
      "| \u001b[0m3        \u001b[0m | \u001b[0m-24.93   \u001b[0m | \u001b[0m12.88    \u001b[0m | \u001b[0m0.5632   \u001b[0m | \u001b[0m2.749    \u001b[0m | \u001b[0m383.0    \u001b[0m |\n",
      "| \u001b[0m4        \u001b[0m | \u001b[0m-24.93   \u001b[0m | \u001b[0m13.1     \u001b[0m | \u001b[0m0.3733   \u001b[0m | \u001b[0m11.54    \u001b[0m | \u001b[0m762.6    \u001b[0m |\n",
      "| \u001b[0m5        \u001b[0m | \u001b[0m-24.97   \u001b[0m | \u001b[0m4.032    \u001b[0m | \u001b[0m0.2173   \u001b[0m | \u001b[0m10.38    \u001b[0m | \u001b[0m728.2    \u001b[0m |\n",
      "| \u001b[0m6        \u001b[0m | \u001b[0m-24.93   \u001b[0m | \u001b[0m8.277    \u001b[0m | \u001b[0m0.8029   \u001b[0m | \u001b[0m8.257    \u001b[0m | \u001b[0m481.7    \u001b[0m |\n",
      "| \u001b[0m7        \u001b[0m | \u001b[0m-24.93   \u001b[0m | \u001b[0m19.78    \u001b[0m | \u001b[0m0.1907   \u001b[0m | \u001b[0m9.966    \u001b[0m | \u001b[0m218.6    \u001b[0m |\n",
      "| \u001b[0m8        \u001b[0m | \u001b[0m-24.93   \u001b[0m | \u001b[0m12.47    \u001b[0m | \u001b[0m0.7779   \u001b[0m | \u001b[0m9.25     \u001b[0m | \u001b[0m600.4    \u001b[0m |\n",
      "| \u001b[95m9        \u001b[0m | \u001b[95m-24.88   \u001b[0m | \u001b[95m2.914    \u001b[0m | \u001b[95m0.4019   \u001b[0m | \u001b[95m7.635    \u001b[0m | \u001b[95m422.5    \u001b[0m |\n",
      "| \u001b[0m10       \u001b[0m | \u001b[0m-24.93   \u001b[0m | \u001b[0m10.35    \u001b[0m | \u001b[0m0.5521   \u001b[0m | \u001b[0m10.22    \u001b[0m | \u001b[0m457.4    \u001b[0m |\n",
      "| \u001b[0m11       \u001b[0m | \u001b[0m-24.93   \u001b[0m | \u001b[0m15.07    \u001b[0m | \u001b[0m0.9141   \u001b[0m | \u001b[0m2.35     \u001b[0m | \u001b[0m420.2    \u001b[0m |\n",
      "| \u001b[0m12       \u001b[0m | \u001b[0m-24.88   \u001b[0m | \u001b[0m2.805    \u001b[0m | \u001b[0m0.988    \u001b[0m | \u001b[0m9.589    \u001b[0m | \u001b[0m429.1    \u001b[0m |\n",
      "| \u001b[95m13       \u001b[0m | \u001b[95m-24.8    \u001b[0m | \u001b[95m1.42     \u001b[0m | \u001b[95m0.9568   \u001b[0m | \u001b[95m2.609    \u001b[0m | \u001b[95m432.9    \u001b[0m |\n",
      "| \u001b[0m14       \u001b[0m | \u001b[0m-24.88   \u001b[0m | \u001b[0m3.33     \u001b[0m | \u001b[0m0.694    \u001b[0m | \u001b[0m3.009    \u001b[0m | \u001b[0m440.2    \u001b[0m |\n",
      "| \u001b[0m15       \u001b[0m | \u001b[0m-24.93   \u001b[0m | \u001b[0m6.027    \u001b[0m | \u001b[0m0.9745   \u001b[0m | \u001b[0m3.393    \u001b[0m | \u001b[0m432.9    \u001b[0m |\n",
      "| \u001b[0m16       \u001b[0m | \u001b[0m-24.8    \u001b[0m | \u001b[0m1.0      \u001b[0m | \u001b[0m0.8794   \u001b[0m | \u001b[0m2.436    \u001b[0m | \u001b[0m434.4    \u001b[0m |\n",
      "| \u001b[95m17       \u001b[0m | \u001b[95m-24.8    \u001b[0m | \u001b[95m1.001    \u001b[0m | \u001b[95m0.4691   \u001b[0m | \u001b[95m7.451    \u001b[0m | \u001b[95m435.2    \u001b[0m |\n",
      "| \u001b[0m18       \u001b[0m | \u001b[0m-24.8    \u001b[0m | \u001b[0m1.469    \u001b[0m | \u001b[0m0.7561   \u001b[0m | \u001b[0m11.96    \u001b[0m | \u001b[0m441.9    \u001b[0m |\n",
      "| \u001b[95m19       \u001b[0m | \u001b[95m-24.73   \u001b[0m | \u001b[95m1.798    \u001b[0m | \u001b[95m0.1479   \u001b[0m | \u001b[95m8.754    \u001b[0m | \u001b[95m447.4    \u001b[0m |\n",
      "| \u001b[0m20       \u001b[0m | \u001b[0m-24.8    \u001b[0m | \u001b[0m1.0      \u001b[0m | \u001b[0m0.1      \u001b[0m | \u001b[0m12.0     \u001b[0m | \u001b[0m449.4    \u001b[0m |\n",
      "| \u001b[0m21       \u001b[0m | \u001b[0m-24.73   \u001b[0m | \u001b[0m2.273    \u001b[0m | \u001b[0m0.5451   \u001b[0m | \u001b[0m5.512    \u001b[0m | \u001b[0m450.7    \u001b[0m |\n",
      "| \u001b[0m22       \u001b[0m | \u001b[0m-24.93   \u001b[0m | \u001b[0m6.555    \u001b[0m | \u001b[0m0.1092   \u001b[0m | \u001b[0m6.382    \u001b[0m | \u001b[0m448.3    \u001b[0m |\n",
      "| \u001b[0m23       \u001b[0m | \u001b[0m-24.8    \u001b[0m | \u001b[0m1.0      \u001b[0m | \u001b[0m1.0      \u001b[0m | \u001b[0m5.48     \u001b[0m | \u001b[0m447.9    \u001b[0m |\n",
      "| \u001b[0m24       \u001b[0m | \u001b[0m-24.73   \u001b[0m | \u001b[0m1.51     \u001b[0m | \u001b[0m0.1539   \u001b[0m | \u001b[0m7.316    \u001b[0m | \u001b[0m450.7    \u001b[0m |\n",
      "| \u001b[0m25       \u001b[0m | \u001b[0m-24.73   \u001b[0m | \u001b[0m1.939    \u001b[0m | \u001b[0m0.9278   \u001b[0m | \u001b[0m6.149    \u001b[0m | \u001b[0m455.2    \u001b[0m |\n",
      "| \u001b[0m26       \u001b[0m | \u001b[0m-24.73   \u001b[0m | \u001b[0m1.665    \u001b[0m | \u001b[0m0.1753   \u001b[0m | \u001b[0m3.536    \u001b[0m | \u001b[0m454.8    \u001b[0m |\n",
      "| \u001b[0m27       \u001b[0m | \u001b[0m-24.88   \u001b[0m | \u001b[0m3.294    \u001b[0m | \u001b[0m0.791    \u001b[0m | \u001b[0m2.01     \u001b[0m | \u001b[0m460.7    \u001b[0m |\n",
      "| \u001b[0m28       \u001b[0m | \u001b[0m-24.88   \u001b[0m | \u001b[0m2.551    \u001b[0m | \u001b[0m0.2916   \u001b[0m | \u001b[0m2.47     \u001b[0m | \u001b[0m452.2    \u001b[0m |\n",
      "| \u001b[0m29       \u001b[0m | \u001b[0m-24.73   \u001b[0m | \u001b[0m2.434    \u001b[0m | \u001b[0m0.7273   \u001b[0m | \u001b[0m8.34     \u001b[0m | \u001b[0m452.9    \u001b[0m |\n",
      "| \u001b[0m30       \u001b[0m | \u001b[0m-24.73   \u001b[0m | \u001b[0m1.509    \u001b[0m | \u001b[0m0.6941   \u001b[0m | \u001b[0m5.349    \u001b[0m | \u001b[0m453.6    \u001b[0m |\n",
      "| \u001b[0m31       \u001b[0m | \u001b[0m-24.93   \u001b[0m | \u001b[0m5.21     \u001b[0m | \u001b[0m0.248    \u001b[0m | \u001b[0m6.165    \u001b[0m | \u001b[0m454.7    \u001b[0m |\n",
      "| \u001b[0m32       \u001b[0m | \u001b[0m-24.97   \u001b[0m | \u001b[0m4.351    \u001b[0m | \u001b[0m0.455    \u001b[0m | \u001b[0m11.57    \u001b[0m | \u001b[0m447.6    \u001b[0m |\n",
      "| \u001b[0m33       \u001b[0m | \u001b[0m-24.73   \u001b[0m | \u001b[0m1.542    \u001b[0m | \u001b[0m0.5321   \u001b[0m | \u001b[0m8.64     \u001b[0m | \u001b[0m443.5    \u001b[0m |\n",
      "| \u001b[0m34       \u001b[0m | \u001b[0m-24.8    \u001b[0m | \u001b[0m1.0      \u001b[0m | \u001b[0m0.1      \u001b[0m | \u001b[0m8.331    \u001b[0m | \u001b[0m440.2    \u001b[0m |\n",
      "| \u001b[0m35       \u001b[0m | \u001b[0m-24.8    \u001b[0m | \u001b[0m1.26     \u001b[0m | \u001b[0m0.673    \u001b[0m | \u001b[0m8.548    \u001b[0m | \u001b[0m454.5    \u001b[0m |\n",
      "| \u001b[0m36       \u001b[0m | \u001b[0m-24.8    \u001b[0m | \u001b[0m1.241    \u001b[0m | \u001b[0m0.369    \u001b[0m | \u001b[0m9.857    \u001b[0m | \u001b[0m445.8    \u001b[0m |\n",
      "| \u001b[0m37       \u001b[0m | \u001b[0m-24.73   \u001b[0m | \u001b[0m2.109    \u001b[0m | \u001b[0m0.9601   \u001b[0m | \u001b[0m9.821    \u001b[0m | \u001b[0m451.0    \u001b[0m |\n",
      "| \u001b[0m38       \u001b[0m | \u001b[0m-24.8    \u001b[0m | \u001b[0m1.412    \u001b[0m | \u001b[0m0.149    \u001b[0m | \u001b[0m4.636    \u001b[0m | \u001b[0m457.3    \u001b[0m |\n",
      "| \u001b[0m39       \u001b[0m | \u001b[0m-24.97   \u001b[0m | \u001b[0m3.536    \u001b[0m | \u001b[0m0.5649   \u001b[0m | \u001b[0m8.434    \u001b[0m | \u001b[0m441.4    \u001b[0m |\n",
      "| \u001b[0m40       \u001b[0m | \u001b[0m-24.88   \u001b[0m | \u001b[0m2.789    \u001b[0m | \u001b[0m0.6088   \u001b[0m | \u001b[0m7.397    \u001b[0m | \u001b[0m449.0    \u001b[0m |\n",
      "| \u001b[0m41       \u001b[0m | \u001b[0m-24.73   \u001b[0m | \u001b[0m2.123    \u001b[0m | \u001b[0m0.1111   \u001b[0m | \u001b[0m5.859    \u001b[0m | \u001b[0m452.2    \u001b[0m |\n",
      "| \u001b[0m42       \u001b[0m | \u001b[0m-24.88   \u001b[0m | \u001b[0m2.504    \u001b[0m | \u001b[0m0.5015   \u001b[0m | \u001b[0m11.58    \u001b[0m | \u001b[0m451.7    \u001b[0m |\n",
      "| \u001b[0m43       \u001b[0m | \u001b[0m-24.8    \u001b[0m | \u001b[0m1.017    \u001b[0m | \u001b[0m0.7472   \u001b[0m | \u001b[0m6.573    \u001b[0m | \u001b[0m452.9    \u001b[0m |\n",
      "| \u001b[0m44       \u001b[0m | \u001b[0m-24.8    \u001b[0m | \u001b[0m1.163    \u001b[0m | \u001b[0m0.3376   \u001b[0m | \u001b[0m6.148    \u001b[0m | \u001b[0m445.1    \u001b[0m |\n",
      "| \u001b[0m45       \u001b[0m | \u001b[0m-24.8    \u001b[0m | \u001b[0m1.194    \u001b[0m | \u001b[0m0.8166   \u001b[0m | \u001b[0m4.519    \u001b[0m | \u001b[0m454.5    \u001b[0m |\n",
      "| \u001b[0m46       \u001b[0m | \u001b[0m-24.88   \u001b[0m | \u001b[0m3.286    \u001b[0m | \u001b[0m0.3109   \u001b[0m | \u001b[0m7.16     \u001b[0m | \u001b[0m452.2    \u001b[0m |\n",
      "| \u001b[0m47       \u001b[0m | \u001b[0m-24.73   \u001b[0m | \u001b[0m2.36     \u001b[0m | \u001b[0m0.678    \u001b[0m | \u001b[0m6.771    \u001b[0m | \u001b[0m454.3    \u001b[0m |\n",
      "| \u001b[0m48       \u001b[0m | \u001b[0m-24.73   \u001b[0m | \u001b[0m2.418    \u001b[0m | \u001b[0m0.318    \u001b[0m | \u001b[0m8.197    \u001b[0m | \u001b[0m445.4    \u001b[0m |\n",
      "| \u001b[0m49       \u001b[0m | \u001b[0m-24.8    \u001b[0m | \u001b[0m1.451    \u001b[0m | \u001b[0m0.4579   \u001b[0m | \u001b[0m9.504    \u001b[0m | \u001b[0m448.7    \u001b[0m |\n",
      "| \u001b[0m50       \u001b[0m | \u001b[0m-24.88   \u001b[0m | \u001b[0m3.14     \u001b[0m | \u001b[0m0.6868   \u001b[0m | \u001b[0m3.913    \u001b[0m | \u001b[0m456.3    \u001b[0m |\n",
      "=========================================================================\n"
     ]
    },
    {
     "data": {
      "text/html": [
       "<style>#sk-container-id-2 {color: black;background-color: white;}#sk-container-id-2 pre{padding: 0;}#sk-container-id-2 div.sk-toggleable {background-color: white;}#sk-container-id-2 label.sk-toggleable__label {cursor: pointer;display: block;width: 100%;margin-bottom: 0;padding: 0.3em;box-sizing: border-box;text-align: center;}#sk-container-id-2 label.sk-toggleable__label-arrow:before {content: \"▸\";float: left;margin-right: 0.25em;color: #696969;}#sk-container-id-2 label.sk-toggleable__label-arrow:hover:before {color: black;}#sk-container-id-2 div.sk-estimator:hover label.sk-toggleable__label-arrow:before {color: black;}#sk-container-id-2 div.sk-toggleable__content {max-height: 0;max-width: 0;overflow: hidden;text-align: left;background-color: #f0f8ff;}#sk-container-id-2 div.sk-toggleable__content pre {margin: 0.2em;color: black;border-radius: 0.25em;background-color: #f0f8ff;}#sk-container-id-2 input.sk-toggleable__control:checked~div.sk-toggleable__content {max-height: 200px;max-width: 100%;overflow: auto;}#sk-container-id-2 input.sk-toggleable__control:checked~label.sk-toggleable__label-arrow:before {content: \"▾\";}#sk-container-id-2 div.sk-estimator input.sk-toggleable__control:checked~label.sk-toggleable__label {background-color: #d4ebff;}#sk-container-id-2 div.sk-label input.sk-toggleable__control:checked~label.sk-toggleable__label {background-color: #d4ebff;}#sk-container-id-2 input.sk-hidden--visually {border: 0;clip: rect(1px 1px 1px 1px);clip: rect(1px, 1px, 1px, 1px);height: 1px;margin: -1px;overflow: hidden;padding: 0;position: absolute;width: 1px;}#sk-container-id-2 div.sk-estimator {font-family: monospace;background-color: #f0f8ff;border: 1px dotted black;border-radius: 0.25em;box-sizing: border-box;margin-bottom: 0.5em;}#sk-container-id-2 div.sk-estimator:hover {background-color: #d4ebff;}#sk-container-id-2 div.sk-parallel-item::after {content: \"\";width: 100%;border-bottom: 1px solid gray;flex-grow: 1;}#sk-container-id-2 div.sk-label:hover label.sk-toggleable__label {background-color: #d4ebff;}#sk-container-id-2 div.sk-serial::before {content: \"\";position: absolute;border-left: 1px solid gray;box-sizing: border-box;top: 0;bottom: 0;left: 50%;z-index: 0;}#sk-container-id-2 div.sk-serial {display: flex;flex-direction: column;align-items: center;background-color: white;padding-right: 0.2em;padding-left: 0.2em;position: relative;}#sk-container-id-2 div.sk-item {position: relative;z-index: 1;}#sk-container-id-2 div.sk-parallel {display: flex;align-items: stretch;justify-content: center;background-color: white;position: relative;}#sk-container-id-2 div.sk-item::before, #sk-container-id-2 div.sk-parallel-item::before {content: \"\";position: absolute;border-left: 1px solid gray;box-sizing: border-box;top: 0;bottom: 0;left: 50%;z-index: -1;}#sk-container-id-2 div.sk-parallel-item {display: flex;flex-direction: column;z-index: 1;position: relative;background-color: white;}#sk-container-id-2 div.sk-parallel-item:first-child::after {align-self: flex-end;width: 50%;}#sk-container-id-2 div.sk-parallel-item:last-child::after {align-self: flex-start;width: 50%;}#sk-container-id-2 div.sk-parallel-item:only-child::after {width: 0;}#sk-container-id-2 div.sk-dashed-wrapped {border: 1px dashed gray;margin: 0 0.4em 0.5em 0.4em;box-sizing: border-box;padding-bottom: 0.4em;background-color: white;}#sk-container-id-2 div.sk-label label {font-family: monospace;font-weight: bold;display: inline-block;line-height: 1.2em;}#sk-container-id-2 div.sk-label-container {text-align: center;}#sk-container-id-2 div.sk-container {/* jupyter's `normalize.less` sets `[hidden] { display: none; }` but bootstrap.min.css set `[hidden] { display: none !important; }` so we also need the `!important` here to be able to override the default hidden behavior on the sphinx rendered scikit-learn.org. See: https://github.com/scikit-learn/scikit-learn/issues/21755 */display: inline-block !important;position: relative;}#sk-container-id-2 div.sk-text-repr-fallback {display: none;}</style><div id=\"sk-container-id-2\" class=\"sk-top-container\"><div class=\"sk-text-repr-fallback\"><pre>RandomForestRegressor(bootstrap=False, max_depth=2,\n",
       "                      max_features=0.14786307819947042, min_samples_split=9,\n",
       "                      n_estimators=447)</pre><b>In a Jupyter environment, please rerun this cell to show the HTML representation or trust the notebook. <br />On GitHub, the HTML representation is unable to render, please try loading this page with nbviewer.org.</b></div><div class=\"sk-container\" hidden><div class=\"sk-item\"><div class=\"sk-estimator sk-toggleable\"><input class=\"sk-toggleable__control sk-hidden--visually\" id=\"sk-estimator-id-2\" type=\"checkbox\" checked><label for=\"sk-estimator-id-2\" class=\"sk-toggleable__label sk-toggleable__label-arrow\">RandomForestRegressor</label><div class=\"sk-toggleable__content\"><pre>RandomForestRegressor(bootstrap=False, max_depth=2,\n",
       "                      max_features=0.14786307819947042, min_samples_split=9,\n",
       "                      n_estimators=447)</pre></div></div></div></div></div>"
      ],
      "text/plain": [
       "RandomForestRegressor(bootstrap=False, max_depth=2,\n",
       "                      max_features=0.14786307819947042, min_samples_split=9,\n",
       "                      n_estimators=447)"
      ]
     },
     "execution_count": 9,
     "metadata": {},
     "output_type": "execute_result"
    }
   ],
   "source": [
    "def bo_params_rf(min_samples_split,max_depth,max_features,n_estimators):\n",
    "    \n",
    "    params = {\n",
    "        'min_samples_split': round(min_samples_split),\n",
    "        'max_depth': round(max_depth),\n",
    "        'max_features': max_features,\n",
    "        'n_estimators':round(n_estimators)\n",
    "    }    \n",
    "        \n",
    "    clf = RandomForestRegressor(min_samples_split=int(params['min_samples_split']), \n",
    "                                 max_depth=int(params['max_depth']), \n",
    "                                 max_features=params['max_features'],\n",
    "                                 n_estimators=int(params['n_estimators']), \n",
    "                                 bootstrap=False,\n",
    "                                 n_jobs = -1)\n",
    "    return cross_val_score(clf, X_train[best_features_rf], y_train, cv=10, scoring='neg_mean_squared_error', n_jobs=-1).mean()\n",
    "\n",
    "# Create Bayesian Optimization\n",
    "rf_bo = BayesianOptimization(f=bo_params_rf, pbounds={\n",
    "    'n_estimators': (100, 1000),\n",
    "    'max_depth': (1, 20),\n",
    "    'max_features': (0.1, 1),\n",
    "    'min_samples_split': (2, 12)\n",
    "})\n",
    "\n",
    "# Bayesian optimization\n",
    "results = rf_bo.maximize(n_iter=40, init_points=10)\n",
    "\n",
    "# Getting best hyperparameters from bayesian optimization\n",
    "params = rf_bo.max['params']\n",
    "params['n_estimators']= round(params['n_estimators'])\n",
    "params['min_samples_split']= round(params['min_samples_split'])\n",
    "params['max_depth']= round(params['max_depth'])\n",
    "\n",
    "# Making random forest model with the best hyperparameters\n",
    "# criterion entropy is after the hyperparameter optimization since it's more accurate but increases training time\n",
    "best_model_rf_classification = RandomForestRegressor(min_samples_split=params['min_samples_split'],\n",
    "                                                max_depth=params['max_depth'],\n",
    "                                                max_features=params['max_features'],\n",
    "                                                n_estimators=params['n_estimators'],\n",
    "                                                bootstrap=False)\n",
    "\n",
    "best_model_rf_classification.fit(X_train[best_features_rf], y_train)"
   ]
  },
  {
   "attachments": {},
   "cell_type": "markdown",
   "metadata": {},
   "source": [
    "# neural network"
   ]
  },
  {
   "attachments": {},
   "cell_type": "markdown",
   "metadata": {},
   "source": [
    "**Feature selection**"
   ]
  },
  {
   "cell_type": "code",
   "execution_count": 10,
   "metadata": {},
   "outputs": [
    {
     "name": "stdout",
     "output_type": "stream",
     "text": [
      "Best features: ['GeweldsEnSeksueleMisdrijven']\n",
      "Dropped features: ['EenOfMeerLangdurigeAandoeningen', 'AfstandTotOpenDroogNatTerrein', 'GeboorteRelatief', 'Rokers', 'AfstandTotKinderdagverblijf', 'OppervlakteWater', 'ALandbouwBosbouwEnVisserij', 'AfstandTotOpenNatNatuurlijkTerrein', 'AfstandTotVolkstuin', 'AfstandTotDagrecreatiefTerrein', 'BeperkingInHoren', 'Mantelzorger', 'AfstandTotZonnebank', 'AfstandTotSchool', 'NederlandseAntillenEnAruba', 'AfstandTotBegraafplaats', 'AfstandTotPoppodium', 'TotaalDiefstalUitWoningSchuurED', 'KLFinancieleDienstenOnroerendGoed', 'AfstandTotBibliotheek', 'AfstandTotOpenbaarGroenTotaal', 'PercentageOnbewoond', 'AfstandTotApotheek', 'BeperkingInZien', 'InBezitWoningcorporatie', 'PersonenautoSOverigeBrandstof', 'AfstandTotSauna', 'AfstandTotOvDagelLevensmiddelen', 'MatigOvergewicht', 'AfstandTotHuisartsenpost', 'AfstandTotTreinstationsTotaal', 'AfstandTotCafetariaED', 'AfstandTotSemiOpenbaarGroenTotaal', 'PersonenautoSPerHuishouden', 'UrenMantelzorgPerWeek', 'AfstandTotBioscoop', 'AfstandTotOpenNatTerreinTotaal', 'VoldoetAanBeweegrichtlijn', 'AfstandTotHotelED', 'BouwjaarVanaf2000', 'ErvarenGezondheidGoedZeerGoed', 'VoldoetAanRichtlijnAlcoholgebruik', 'AfstandTotKunstijsbaan', 'AfstandTotPodiumkunstenTotaal', 'AfstandTotBelangrijkOverstapstation', 'AfstandTotRestaurant', 'AfstandTotAttractie', 'SterfteRelatief', 'AfstandTotBrandweerkazerne', 'InBezitOverigeVerhuurders', 'PersonenautoSNaarOppervlakte', 'AfstandTotBuitenschoolseOpvang', 'ZwaarBelasteMantelzorgers', 'OvermatigDrinker', 'GemiddeldeWoningwaarde', 'AfstandTotWarenhuis', 'AfstandTotCafeED', 'Ondergewicht', 'AfstandTotBos', 'AfstandTotSportterrein', 'VernielingMisdrijfTegenOpenbareOrde', 'AfstandTotConsultatiebureau', 'AfstandTotZwembad', 'AfstandTotMuseum', 'AfstandTotHuisartsenpraktijk', 'kPersonenMetLaagsteInkomen', 'EigendomOnbekend', 'ErnstigOvergewichtObesitas', 'AfstandTotVerblijfsrecreatiefTerrein']\n"
     ]
    }
   ],
   "source": [
    "# Get the accuracy score of the model with all the features\n",
    "mlp = MLPRegressor(random_state=0).fit(X_train, y_train)\n",
    "best_model = mlp\n",
    "selected_features = X_train.columns.tolist()\n",
    "best_features = selected_features\n",
    "best_features_accuracy = cross_val_score(MLPRegressor(random_state=0), X_train, y_train, cv=10, scoring='neg_mean_squared_error', n_jobs=-1).mean()\n",
    "\n",
    "while True:\n",
    "    # Retrieve the learned weights\n",
    "    weights = mlp.coefs_[0]  # Weights connecting input features to the first hidden layer\n",
    "\n",
    "    # Normalize the weights\n",
    "    normalized_weights = np.abs(weights) / np.sum(np.abs(weights), axis=0)\n",
    "\n",
    "    # Calculate feature importance\n",
    "    feature_importance = np.mean(normalized_weights, axis=1)\n",
    "\n",
    "    # Sort features based on their importance\n",
    "    sorted_indices = np.argsort(feature_importance)\n",
    "    selected_features = [selected_features[i] for i in sorted_indices[:-1]]\n",
    "\n",
    "    # When there are no features left\n",
    "    if len(selected_features) == 0:\n",
    "        break\n",
    "    \n",
    "    # Refit the Model\n",
    "    mlp = MLPRegressor(random_state=0).fit(X_train[selected_features], y_train)\n",
    "\n",
    "    # Evaluate Model Performance\n",
    "    accuracy = cross_val_score(MLPRegressor(random_state=0), X_train[selected_features], y_train, cv=10, scoring='neg_mean_squared_error', n_jobs=-1).mean()\n",
    "\n",
    "    # Check if the model performs better without the insignificant features\n",
    "    if accuracy >= best_features_accuracy:\n",
    "        best_features_accuracy = accuracy\n",
    "        best_features = selected_features.copy()\n",
    "        best_model = mlp\n",
    "\n",
    "# Save results\n",
    "best_model_nn = best_model\n",
    "best_features_nn = best_features\n",
    "\n",
    "# Show results\n",
    "print(\"Best features:\", best_features_nn)\n",
    "print(\"Dropped features:\", list(set(X_train.columns.tolist()) - set(best_features_nn)))"
   ]
  },
  {
   "attachments": {},
   "cell_type": "markdown",
   "metadata": {},
   "source": [
    "**Hyperparameter optimalisatie**"
   ]
  },
  {
   "cell_type": "code",
   "execution_count": 11,
   "metadata": {},
   "outputs": [
    {
     "name": "stdout",
     "output_type": "stream",
     "text": [
      "|   iter    |  target   |   alpha   | hidden... | learni... | max_iter  |\n",
      "-------------------------------------------------------------------------\n",
      "| \u001b[0m1        \u001b[0m | \u001b[0m-4.95    \u001b[0m | \u001b[0m0.01741  \u001b[0m | \u001b[0m91.09    \u001b[0m | \u001b[0m0.02227  \u001b[0m | \u001b[0m722.1    \u001b[0m |\n",
      "| \u001b[0m2        \u001b[0m | \u001b[0m-4.951   \u001b[0m | \u001b[0m0.01562  \u001b[0m | \u001b[0m49.69    \u001b[0m | \u001b[0m0.02611  \u001b[0m | \u001b[0m746.6    \u001b[0m |\n",
      "| \u001b[95m3        \u001b[0m | \u001b[95m-4.946   \u001b[0m | \u001b[95m0.06453  \u001b[0m | \u001b[95m88.25    \u001b[0m | \u001b[95m0.01337  \u001b[0m | \u001b[95m605.6    \u001b[0m |\n",
      "| \u001b[0m4        \u001b[0m | \u001b[0m-4.956   \u001b[0m | \u001b[0m0.02161  \u001b[0m | \u001b[0m39.27    \u001b[0m | \u001b[0m0.08851  \u001b[0m | \u001b[0m416.5    \u001b[0m |\n",
      "| \u001b[95m5        \u001b[0m | \u001b[95m-4.942   \u001b[0m | \u001b[95m0.07996  \u001b[0m | \u001b[95m37.3     \u001b[0m | \u001b[95m0.09379  \u001b[0m | \u001b[95m654.6    \u001b[0m |\n",
      "| \u001b[0m6        \u001b[0m | \u001b[0m-4.952   \u001b[0m | \u001b[0m0.03324  \u001b[0m | \u001b[0m58.58    \u001b[0m | \u001b[0m0.05339  \u001b[0m | \u001b[0m555.2    \u001b[0m |\n",
      "| \u001b[0m7        \u001b[0m | \u001b[0m-4.943   \u001b[0m | \u001b[0m0.0515   \u001b[0m | \u001b[0m77.05    \u001b[0m | \u001b[0m0.04451  \u001b[0m | \u001b[0m225.1    \u001b[0m |\n",
      "| \u001b[0m8        \u001b[0m | \u001b[0m-4.949   \u001b[0m | \u001b[0m0.05207  \u001b[0m | \u001b[0m43.79    \u001b[0m | \u001b[0m0.07301  \u001b[0m | \u001b[0m698.5    \u001b[0m |\n",
      "| \u001b[0m9        \u001b[0m | \u001b[0m-4.943   \u001b[0m | \u001b[0m0.034    \u001b[0m | \u001b[0m54.94    \u001b[0m | \u001b[0m0.008509 \u001b[0m | \u001b[0m975.6    \u001b[0m |\n",
      "| \u001b[0m10       \u001b[0m | \u001b[0m-4.947   \u001b[0m | \u001b[0m0.03859  \u001b[0m | \u001b[0m87.31    \u001b[0m | \u001b[0m0.04347  \u001b[0m | \u001b[0m780.8    \u001b[0m |\n",
      "| \u001b[95m11       \u001b[0m | \u001b[95m-4.939   \u001b[0m | \u001b[95m0.1      \u001b[0m | \u001b[95m10.0     \u001b[0m | \u001b[95m0.1      \u001b[0m | \u001b[95m629.9    \u001b[0m |\n",
      "| \u001b[0m12       \u001b[0m | \u001b[0m-4.946   \u001b[0m | \u001b[0m0.03709  \u001b[0m | \u001b[0m10.35    \u001b[0m | \u001b[0m0.009124 \u001b[0m | \u001b[0m630.5    \u001b[0m |\n",
      "| \u001b[0m13       \u001b[0m | \u001b[0m-4.945   \u001b[0m | \u001b[0m0.03708  \u001b[0m | \u001b[0m76.41    \u001b[0m | \u001b[0m0.001556 \u001b[0m | \u001b[0m224.1    \u001b[0m |\n",
      "| \u001b[95m14       \u001b[0m | \u001b[95m-4.936   \u001b[0m | \u001b[95m0.05188  \u001b[0m | \u001b[95m10.58    \u001b[0m | \u001b[95m0.09797  \u001b[0m | \u001b[95m629.3    \u001b[0m |\n",
      "| \u001b[0m15       \u001b[0m | \u001b[0m-4.949   \u001b[0m | \u001b[0m0.01933  \u001b[0m | \u001b[0m12.42    \u001b[0m | \u001b[0m0.03855  \u001b[0m | \u001b[0m629.5    \u001b[0m |\n",
      "| \u001b[0m16       \u001b[0m | \u001b[0m-4.943   \u001b[0m | \u001b[0m0.0004439\u001b[0m | \u001b[0m10.76    \u001b[0m | \u001b[0m0.03856  \u001b[0m | \u001b[0m629.0    \u001b[0m |\n",
      "| \u001b[0m17       \u001b[0m | \u001b[0m-4.947   \u001b[0m | \u001b[0m0.06902  \u001b[0m | \u001b[0m55.12    \u001b[0m | \u001b[0m0.05519  \u001b[0m | \u001b[0m976.8    \u001b[0m |\n",
      "| \u001b[0m18       \u001b[0m | \u001b[0m-4.942   \u001b[0m | \u001b[0m0.05473  \u001b[0m | \u001b[0m37.18    \u001b[0m | \u001b[0m0.06605  \u001b[0m | \u001b[0m655.0    \u001b[0m |\n",
      "| \u001b[0m19       \u001b[0m | \u001b[0m-4.947   \u001b[0m | \u001b[0m0.05788  \u001b[0m | \u001b[0m29.58    \u001b[0m | \u001b[0m0.08503  \u001b[0m | \u001b[0m969.4    \u001b[0m |\n",
      "| \u001b[0m20       \u001b[0m | \u001b[0m-4.945   \u001b[0m | \u001b[0m0.06601  \u001b[0m | \u001b[0m59.25    \u001b[0m | \u001b[0m0.04346  \u001b[0m | \u001b[0m796.8    \u001b[0m |\n",
      "| \u001b[0m21       \u001b[0m | \u001b[0m-4.943   \u001b[0m | \u001b[0m0.07004  \u001b[0m | \u001b[0m76.05    \u001b[0m | \u001b[0m0.03405  \u001b[0m | \u001b[0m225.2    \u001b[0m |\n",
      "| \u001b[0m22       \u001b[0m | \u001b[0m-4.95    \u001b[0m | \u001b[0m0.006282 \u001b[0m | \u001b[0m41.97    \u001b[0m | \u001b[0m0.004328 \u001b[0m | \u001b[0m842.7    \u001b[0m |\n",
      "| \u001b[0m23       \u001b[0m | \u001b[0m-4.944   \u001b[0m | \u001b[0m0.04929  \u001b[0m | \u001b[0m46.6     \u001b[0m | \u001b[0m0.09257  \u001b[0m | \u001b[0m300.7    \u001b[0m |\n",
      "| \u001b[0m24       \u001b[0m | \u001b[0m-4.943   \u001b[0m | \u001b[0m0.06497  \u001b[0m | \u001b[0m10.22    \u001b[0m | \u001b[0m0.03485  \u001b[0m | \u001b[0m629.5    \u001b[0m |\n",
      "| \u001b[0m25       \u001b[0m | \u001b[0m-4.943   \u001b[0m | \u001b[0m0.0783   \u001b[0m | \u001b[0m36.77    \u001b[0m | \u001b[0m0.03619  \u001b[0m | \u001b[0m654.8    \u001b[0m |\n",
      "| \u001b[0m26       \u001b[0m | \u001b[0m-4.947   \u001b[0m | \u001b[0m0.01641  \u001b[0m | \u001b[0m76.78    \u001b[0m | \u001b[0m0.06363  \u001b[0m | \u001b[0m225.6    \u001b[0m |\n",
      "| \u001b[0m27       \u001b[0m | \u001b[0m-4.949   \u001b[0m | \u001b[0m0.06564  \u001b[0m | \u001b[0m46.33    \u001b[0m | \u001b[0m0.08096  \u001b[0m | \u001b[0m698.2    \u001b[0m |\n",
      "| \u001b[0m28       \u001b[0m | \u001b[0m-4.945   \u001b[0m | \u001b[0m0.005485 \u001b[0m | \u001b[0m24.93    \u001b[0m | \u001b[0m0.001563 \u001b[0m | \u001b[0m140.9    \u001b[0m |\n",
      "| \u001b[0m29       \u001b[0m | \u001b[0m-4.947   \u001b[0m | \u001b[0m0.06756  \u001b[0m | \u001b[0m37.61    \u001b[0m | \u001b[0m0.08394  \u001b[0m | \u001b[0m655.7    \u001b[0m |\n",
      "| \u001b[0m30       \u001b[0m | \u001b[0m-4.944   \u001b[0m | \u001b[0m0.003962 \u001b[0m | \u001b[0m88.82    \u001b[0m | \u001b[0m0.01107  \u001b[0m | \u001b[0m884.7    \u001b[0m |\n",
      "| \u001b[0m31       \u001b[0m | \u001b[0m-4.943   \u001b[0m | \u001b[0m0.03702  \u001b[0m | \u001b[0m98.35    \u001b[0m | \u001b[0m0.01119  \u001b[0m | \u001b[0m704.3    \u001b[0m |\n",
      "| \u001b[0m32       \u001b[0m | \u001b[0m-4.947   \u001b[0m | \u001b[0m0.06783  \u001b[0m | \u001b[0m59.22    \u001b[0m | \u001b[0m0.01254  \u001b[0m | \u001b[0m797.5    \u001b[0m |\n",
      "| \u001b[0m33       \u001b[0m | \u001b[0m-4.954   \u001b[0m | \u001b[0m0.01519  \u001b[0m | \u001b[0m63.8     \u001b[0m | \u001b[0m0.04766  \u001b[0m | \u001b[0m564.7    \u001b[0m |\n",
      "| \u001b[0m34       \u001b[0m | \u001b[0m-4.943   \u001b[0m | \u001b[0m0.06677  \u001b[0m | \u001b[0m64.87    \u001b[0m | \u001b[0m0.04271  \u001b[0m | \u001b[0m679.2    \u001b[0m |\n",
      "| \u001b[0m35       \u001b[0m | \u001b[0m-4.94    \u001b[0m | \u001b[0m0.02736  \u001b[0m | \u001b[0m37.92    \u001b[0m | \u001b[0m0.04524  \u001b[0m | \u001b[0m654.6    \u001b[0m |\n",
      "| \u001b[0m36       \u001b[0m | \u001b[0m-4.949   \u001b[0m | \u001b[0m0.09313  \u001b[0m | \u001b[0m54.69    \u001b[0m | \u001b[0m0.09117  \u001b[0m | \u001b[0m286.8    \u001b[0m |\n",
      "| \u001b[0m37       \u001b[0m | \u001b[0m-4.944   \u001b[0m | \u001b[0m0.01785  \u001b[0m | \u001b[0m54.63    \u001b[0m | \u001b[0m0.04295  \u001b[0m | \u001b[0m939.7    \u001b[0m |\n",
      "| \u001b[0m38       \u001b[0m | \u001b[0m-4.948   \u001b[0m | \u001b[0m0.07403  \u001b[0m | \u001b[0m10.87    \u001b[0m | \u001b[0m0.0506   \u001b[0m | \u001b[0m629.6    \u001b[0m |\n",
      "| \u001b[0m39       \u001b[0m | \u001b[0m-4.962   \u001b[0m | \u001b[0m0.04358  \u001b[0m | \u001b[0m72.17    \u001b[0m | \u001b[0m0.07406  \u001b[0m | \u001b[0m781.4    \u001b[0m |\n",
      "| \u001b[0m40       \u001b[0m | \u001b[0m-4.955   \u001b[0m | \u001b[0m0.02031  \u001b[0m | \u001b[0m60.35    \u001b[0m | \u001b[0m0.07193  \u001b[0m | \u001b[0m197.4    \u001b[0m |\n",
      "| \u001b[0m41       \u001b[0m | \u001b[0m-4.946   \u001b[0m | \u001b[0m0.05585  \u001b[0m | \u001b[0m10.54    \u001b[0m | \u001b[0m0.01829  \u001b[0m | \u001b[0m629.1    \u001b[0m |\n",
      "| \u001b[0m42       \u001b[0m | \u001b[0m-4.946   \u001b[0m | \u001b[0m0.05374  \u001b[0m | \u001b[0m94.64    \u001b[0m | \u001b[0m0.01936  \u001b[0m | \u001b[0m367.3    \u001b[0m |\n",
      "| \u001b[0m43       \u001b[0m | \u001b[0m-4.943   \u001b[0m | \u001b[0m0.04521  \u001b[0m | \u001b[0m87.68    \u001b[0m | \u001b[0m0.07158  \u001b[0m | \u001b[0m346.2    \u001b[0m |\n",
      "| \u001b[0m44       \u001b[0m | \u001b[0m-4.94    \u001b[0m | \u001b[0m0.0645   \u001b[0m | \u001b[0m36.79    \u001b[0m | \u001b[0m0.08066  \u001b[0m | \u001b[0m654.9    \u001b[0m |\n",
      "| \u001b[0m45       \u001b[0m | \u001b[0m-4.952   \u001b[0m | \u001b[0m0.02862  \u001b[0m | \u001b[0m37.12    \u001b[0m | \u001b[0m0.04252  \u001b[0m | \u001b[0m654.9    \u001b[0m |\n",
      "| \u001b[0m46       \u001b[0m | \u001b[0m-4.947   \u001b[0m | \u001b[0m0.02036  \u001b[0m | \u001b[0m18.22    \u001b[0m | \u001b[0m0.001504 \u001b[0m | \u001b[0m662.0    \u001b[0m |\n",
      "| \u001b[0m47       \u001b[0m | \u001b[0m-4.956   \u001b[0m | \u001b[0m0.0191   \u001b[0m | \u001b[0m30.25    \u001b[0m | \u001b[0m0.02273  \u001b[0m | \u001b[0m700.3    \u001b[0m |\n",
      "| \u001b[0m48       \u001b[0m | \u001b[0m-4.941   \u001b[0m | \u001b[0m0.06624  \u001b[0m | \u001b[0m92.73    \u001b[0m | \u001b[0m0.09987  \u001b[0m | \u001b[0m470.5    \u001b[0m |\n",
      "| \u001b[0m49       \u001b[0m | \u001b[0m-4.947   \u001b[0m | \u001b[0m0.07263  \u001b[0m | \u001b[0m41.51    \u001b[0m | \u001b[0m0.02449  \u001b[0m | \u001b[0m724.4    \u001b[0m |\n",
      "| \u001b[95m50       \u001b[0m | \u001b[95m-4.935   \u001b[0m | \u001b[95m0.007173 \u001b[0m | \u001b[95m56.94    \u001b[0m | \u001b[95m0.09555  \u001b[0m | \u001b[95m978.8    \u001b[0m |\n",
      "=========================================================================\n"
     ]
    },
    {
     "data": {
      "text/html": [
       "<style>#sk-container-id-3 {color: black;background-color: white;}#sk-container-id-3 pre{padding: 0;}#sk-container-id-3 div.sk-toggleable {background-color: white;}#sk-container-id-3 label.sk-toggleable__label {cursor: pointer;display: block;width: 100%;margin-bottom: 0;padding: 0.3em;box-sizing: border-box;text-align: center;}#sk-container-id-3 label.sk-toggleable__label-arrow:before {content: \"▸\";float: left;margin-right: 0.25em;color: #696969;}#sk-container-id-3 label.sk-toggleable__label-arrow:hover:before {color: black;}#sk-container-id-3 div.sk-estimator:hover label.sk-toggleable__label-arrow:before {color: black;}#sk-container-id-3 div.sk-toggleable__content {max-height: 0;max-width: 0;overflow: hidden;text-align: left;background-color: #f0f8ff;}#sk-container-id-3 div.sk-toggleable__content pre {margin: 0.2em;color: black;border-radius: 0.25em;background-color: #f0f8ff;}#sk-container-id-3 input.sk-toggleable__control:checked~div.sk-toggleable__content {max-height: 200px;max-width: 100%;overflow: auto;}#sk-container-id-3 input.sk-toggleable__control:checked~label.sk-toggleable__label-arrow:before {content: \"▾\";}#sk-container-id-3 div.sk-estimator input.sk-toggleable__control:checked~label.sk-toggleable__label {background-color: #d4ebff;}#sk-container-id-3 div.sk-label input.sk-toggleable__control:checked~label.sk-toggleable__label {background-color: #d4ebff;}#sk-container-id-3 input.sk-hidden--visually {border: 0;clip: rect(1px 1px 1px 1px);clip: rect(1px, 1px, 1px, 1px);height: 1px;margin: -1px;overflow: hidden;padding: 0;position: absolute;width: 1px;}#sk-container-id-3 div.sk-estimator {font-family: monospace;background-color: #f0f8ff;border: 1px dotted black;border-radius: 0.25em;box-sizing: border-box;margin-bottom: 0.5em;}#sk-container-id-3 div.sk-estimator:hover {background-color: #d4ebff;}#sk-container-id-3 div.sk-parallel-item::after {content: \"\";width: 100%;border-bottom: 1px solid gray;flex-grow: 1;}#sk-container-id-3 div.sk-label:hover label.sk-toggleable__label {background-color: #d4ebff;}#sk-container-id-3 div.sk-serial::before {content: \"\";position: absolute;border-left: 1px solid gray;box-sizing: border-box;top: 0;bottom: 0;left: 50%;z-index: 0;}#sk-container-id-3 div.sk-serial {display: flex;flex-direction: column;align-items: center;background-color: white;padding-right: 0.2em;padding-left: 0.2em;position: relative;}#sk-container-id-3 div.sk-item {position: relative;z-index: 1;}#sk-container-id-3 div.sk-parallel {display: flex;align-items: stretch;justify-content: center;background-color: white;position: relative;}#sk-container-id-3 div.sk-item::before, #sk-container-id-3 div.sk-parallel-item::before {content: \"\";position: absolute;border-left: 1px solid gray;box-sizing: border-box;top: 0;bottom: 0;left: 50%;z-index: -1;}#sk-container-id-3 div.sk-parallel-item {display: flex;flex-direction: column;z-index: 1;position: relative;background-color: white;}#sk-container-id-3 div.sk-parallel-item:first-child::after {align-self: flex-end;width: 50%;}#sk-container-id-3 div.sk-parallel-item:last-child::after {align-self: flex-start;width: 50%;}#sk-container-id-3 div.sk-parallel-item:only-child::after {width: 0;}#sk-container-id-3 div.sk-dashed-wrapped {border: 1px dashed gray;margin: 0 0.4em 0.5em 0.4em;box-sizing: border-box;padding-bottom: 0.4em;background-color: white;}#sk-container-id-3 div.sk-label label {font-family: monospace;font-weight: bold;display: inline-block;line-height: 1.2em;}#sk-container-id-3 div.sk-label-container {text-align: center;}#sk-container-id-3 div.sk-container {/* jupyter's `normalize.less` sets `[hidden] { display: none; }` but bootstrap.min.css set `[hidden] { display: none !important; }` so we also need the `!important` here to be able to override the default hidden behavior on the sphinx rendered scikit-learn.org. See: https://github.com/scikit-learn/scikit-learn/issues/21755 */display: inline-block !important;position: relative;}#sk-container-id-3 div.sk-text-repr-fallback {display: none;}</style><div id=\"sk-container-id-3\" class=\"sk-top-container\"><div class=\"sk-text-repr-fallback\"><pre>MLPRegressor(alpha=0.00717303702078568, hidden_layer_sizes=(57,),\n",
       "             learning_rate_init=0.09555448081663771, max_iter=979)</pre><b>In a Jupyter environment, please rerun this cell to show the HTML representation or trust the notebook. <br />On GitHub, the HTML representation is unable to render, please try loading this page with nbviewer.org.</b></div><div class=\"sk-container\" hidden><div class=\"sk-item\"><div class=\"sk-estimator sk-toggleable\"><input class=\"sk-toggleable__control sk-hidden--visually\" id=\"sk-estimator-id-3\" type=\"checkbox\" checked><label for=\"sk-estimator-id-3\" class=\"sk-toggleable__label sk-toggleable__label-arrow\">MLPRegressor</label><div class=\"sk-toggleable__content\"><pre>MLPRegressor(alpha=0.00717303702078568, hidden_layer_sizes=(57,),\n",
       "             learning_rate_init=0.09555448081663771, max_iter=979)</pre></div></div></div></div></div>"
      ],
      "text/plain": [
       "MLPRegressor(alpha=0.00717303702078568, hidden_layer_sizes=(57,),\n",
       "             learning_rate_init=0.09555448081663771, max_iter=979)"
      ]
     },
     "execution_count": 11,
     "metadata": {},
     "output_type": "execute_result"
    }
   ],
   "source": [
    "def bo_params_generic(model, params, X_train, y_train):\n",
    "    # Create the model instance with the specified parameters\n",
    "    regressor = model(**params)\n",
    "    \n",
    "    # Calculating rmse based on\n",
    "    scores = cross_val_score(regressor, X_train, y_train, cv=10, scoring='neg_root_mean_squared_error')\n",
    "    return scores.mean()\n",
    "\n",
    "params_ranges = {\n",
    "    'hidden_layer_sizes': (10, 100),\n",
    "    'alpha': (0.0001, 0.1),\n",
    "    'learning_rate_init': (0.001, 0.1),\n",
    "    'max_iter': (100, 1000)\n",
    "}\n",
    "\n",
    "# Example usage with Neural Network\n",
    "model = MLPRegressor\n",
    "model_bo = BayesianOptimization(f=lambda hidden_layer_sizes, alpha, learning_rate_init, max_iter:\n",
    "                                    bo_params_generic(model, {\n",
    "                                        'hidden_layer_sizes': (int(round(hidden_layer_sizes)),),\n",
    "                                        'alpha': alpha,\n",
    "                                        'learning_rate_init': learning_rate_init,\n",
    "                                        'max_iter': int(round(max_iter))\n",
    "                                    }, X_train[best_features_nn], y_train),\n",
    "                             pbounds=params_ranges)\n",
    "\n",
    "results = model_bo.maximize(n_iter=40, init_points=10)\n",
    "params = model_bo.max['params']\n",
    "\n",
    "# Creating a model with the best hyperparameters\n",
    "best_model_nn = model(\n",
    "    hidden_layer_sizes=(int(round(params['hidden_layer_sizes'])),),\n",
    "    alpha=params['alpha'],\n",
    "    learning_rate_init=params['learning_rate_init'],\n",
    "    max_iter=int(round(params['max_iter']))\n",
    ")\n",
    "\n",
    "# Fit the model\n",
    "best_model_nn.fit(X_train[best_features_nn], y_train)"
   ]
  },
  {
   "attachments": {},
   "cell_type": "markdown",
   "metadata": {},
   "source": [
    "# plotting the bar chart"
   ]
  },
  {
   "attachments": {},
   "cell_type": "markdown",
   "metadata": {},
   "source": [
    "**using train dataset**"
   ]
  },
  {
   "cell_type": "code",
   "execution_count": 12,
   "metadata": {},
   "outputs": [
    {
     "data": {
      "text/plain": [
       "[{'model': 'Multiple Linear Regression',\n",
       "  'mae': 3.5479060457091083,\n",
       "  'mse': 24.72193256519051,\n",
       "  'rmse': 4.972115501996158,\n",
       "  'r2': 0.0001641782064960573,\n",
       "  'adj_r2': -0.0770006591976331},\n",
       " {'model': 'Random Forest',\n",
       "  'mae': 3.5679871211987404,\n",
       "  'mse': 24.914171126270848,\n",
       "  'rmse': 4.991409733358989,\n",
       "  'r2': -0.007610578042487104,\n",
       "  'adj_r2': -0.0853754517613119},\n",
       " {'model': 'Neural Network',\n",
       "  'mae': 3.5790822107970026,\n",
       "  'mse': 24.94288192938588,\n",
       "  'rmse': 4.994284926732343,\n",
       "  'r2': -0.008771736837463129,\n",
       "  'adj_r2': -0.08662622589878888},\n",
       " {'model': 'Support Vector Machine',\n",
       "  'mae': 3.543125897532928,\n",
       "  'mse': 24.84806393849684,\n",
       "  'rmse': 4.984783238867748,\n",
       "  'r2': -0.004936987123161263,\n",
       "  'adj_r2': -0.08249551975670188}]"
      ]
     },
     "execution_count": 12,
     "metadata": {},
     "output_type": "execute_result"
    }
   ],
   "source": [
    "regression_models = [\n",
    "    {\n",
    "        'name': 'Multiple Linear Regression',\n",
    "        'model': best_model_mlr,\n",
    "        'features': best_features_mlr\n",
    "    },\n",
    "    {\n",
    "        'name': 'Random Forest',\n",
    "        'model': best_model_rf,\n",
    "        'features': best_features_rf\n",
    "    },\n",
    "    {\n",
    "        'name': 'Neural Network',\n",
    "        'model': best_model_nn,\n",
    "        'features': best_features_nn\n",
    "    },\n",
    "    {\n",
    "        'name': 'Support Vector Machine',\n",
    "        'model': best_model_svm,\n",
    "        'features': best_features_svm\n",
    "    }\n",
    "]\n",
    "\n",
    "regression_stats_val = []\n",
    "\n",
    "for model in regression_models:\n",
    "    try:\n",
    "        # Perform cross-validation and calculate predictions and metrics\n",
    "        y_pred = cross_val_predict(model['model'], X_train[model['features']], y_train, cv=10)\n",
    "        y_true = y_train\n",
    "    except: # cv can't be higher then n_splits in the dt\n",
    "        # Perform cross-validation and calculate predictions and metrics\n",
    "        y_pred = cross_val_predict(model['model'], X_train[model['features']], y_train, cv=5)\n",
    "        y_true = y_train\n",
    "\n",
    "    # R2 Score\n",
    "    r2 = r2_score(y_true, y_pred)\n",
    "\n",
    "    # Adjusted R2 Score\n",
    "    n = len(y_true)  # Number of samples\n",
    "    p = X_test.shape[1]  # Number of predictors (features) in X\n",
    "    adj_r2 = 1 - ((1 - r2) * (n - 1)) / (n - p - 1)\n",
    "\n",
    "    # Save stats\n",
    "    regression_stats_val.append(\n",
    "        {\n",
    "            'model': model['name'],\n",
    "            'mae': mean_absolute_error(y_true, y_pred),\n",
    "            'mse': mean_squared_error(y_true, y_pred),\n",
    "            'rmse': np.sqrt(mean_squared_error(y_true, y_pred)),\n",
    "            'r2': r2,\n",
    "            'adj_r2': adj_r2\n",
    "        }\n",
    "    )\n",
    "\n",
    "# View stats\n",
    "regression_stats_val"
   ]
  },
  {
   "cell_type": "code",
   "execution_count": 13,
   "metadata": {},
   "outputs": [
    {
     "data": {
      "application/vnd.plotly.v1+json": {
       "config": {
        "plotlyServerURL": "https://plot.ly"
       },
       "data": [
        {
         "name": "mae",
         "text": [
          "3.5479060457091083",
          "3.5679871211987404",
          "3.5790822107970026",
          "3.543125897532928"
         ],
         "textposition": "auto",
         "type": "bar",
         "x": [
          "Multiple Linear Regression",
          "Random Forest",
          "Neural Network",
          "Support Vector Machine"
         ],
         "y": [
          3.5479060457091083,
          3.5679871211987404,
          3.5790822107970026,
          3.543125897532928
         ]
        },
        {
         "name": "mse",
         "text": [
          "24.72193256519051",
          "24.914171126270848",
          "24.94288192938588",
          "24.84806393849684"
         ],
         "textposition": "auto",
         "type": "bar",
         "x": [
          "Multiple Linear Regression",
          "Random Forest",
          "Neural Network",
          "Support Vector Machine"
         ],
         "y": [
          24.72193256519051,
          24.914171126270848,
          24.94288192938588,
          24.84806393849684
         ]
        },
        {
         "name": "rmse",
         "text": [
          "4.972115501996158",
          "4.991409733358989",
          "4.994284926732343",
          "4.984783238867748"
         ],
         "textposition": "auto",
         "type": "bar",
         "x": [
          "Multiple Linear Regression",
          "Random Forest",
          "Neural Network",
          "Support Vector Machine"
         ],
         "y": [
          4.972115501996158,
          4.991409733358989,
          4.994284926732343,
          4.984783238867748
         ]
        },
        {
         "name": "r2",
         "text": [
          "0.0001641782064960573",
          "-0.007610578042487104",
          "-0.008771736837463129",
          "-0.004936987123161263"
         ],
         "textposition": "auto",
         "type": "bar",
         "x": [
          "Multiple Linear Regression",
          "Random Forest",
          "Neural Network",
          "Support Vector Machine"
         ],
         "y": [
          0.0001641782064960573,
          -0.007610578042487104,
          -0.008771736837463129,
          -0.004936987123161263
         ]
        },
        {
         "name": "adj_r2",
         "text": [
          "-0.0770006591976331",
          "-0.0853754517613119",
          "-0.08662622589878888",
          "-0.08249551975670188"
         ],
         "textposition": "auto",
         "type": "bar",
         "x": [
          "Multiple Linear Regression",
          "Random Forest",
          "Neural Network",
          "Support Vector Machine"
         ],
         "y": [
          -0.0770006591976331,
          -0.0853754517613119,
          -0.08662622589878888,
          -0.08249551975670188
         ]
        }
       ],
       "layout": {
        "barmode": "group",
        "template": {
         "data": {
          "bar": [
           {
            "error_x": {
             "color": "#2a3f5f"
            },
            "error_y": {
             "color": "#2a3f5f"
            },
            "marker": {
             "line": {
              "color": "#E5ECF6",
              "width": 0.5
             },
             "pattern": {
              "fillmode": "overlay",
              "size": 10,
              "solidity": 0.2
             }
            },
            "type": "bar"
           }
          ],
          "barpolar": [
           {
            "marker": {
             "line": {
              "color": "#E5ECF6",
              "width": 0.5
             },
             "pattern": {
              "fillmode": "overlay",
              "size": 10,
              "solidity": 0.2
             }
            },
            "type": "barpolar"
           }
          ],
          "carpet": [
           {
            "aaxis": {
             "endlinecolor": "#2a3f5f",
             "gridcolor": "white",
             "linecolor": "white",
             "minorgridcolor": "white",
             "startlinecolor": "#2a3f5f"
            },
            "baxis": {
             "endlinecolor": "#2a3f5f",
             "gridcolor": "white",
             "linecolor": "white",
             "minorgridcolor": "white",
             "startlinecolor": "#2a3f5f"
            },
            "type": "carpet"
           }
          ],
          "choropleth": [
           {
            "colorbar": {
             "outlinewidth": 0,
             "ticks": ""
            },
            "type": "choropleth"
           }
          ],
          "contour": [
           {
            "colorbar": {
             "outlinewidth": 0,
             "ticks": ""
            },
            "colorscale": [
             [
              0,
              "#0d0887"
             ],
             [
              0.1111111111111111,
              "#46039f"
             ],
             [
              0.2222222222222222,
              "#7201a8"
             ],
             [
              0.3333333333333333,
              "#9c179e"
             ],
             [
              0.4444444444444444,
              "#bd3786"
             ],
             [
              0.5555555555555556,
              "#d8576b"
             ],
             [
              0.6666666666666666,
              "#ed7953"
             ],
             [
              0.7777777777777778,
              "#fb9f3a"
             ],
             [
              0.8888888888888888,
              "#fdca26"
             ],
             [
              1,
              "#f0f921"
             ]
            ],
            "type": "contour"
           }
          ],
          "contourcarpet": [
           {
            "colorbar": {
             "outlinewidth": 0,
             "ticks": ""
            },
            "type": "contourcarpet"
           }
          ],
          "heatmap": [
           {
            "colorbar": {
             "outlinewidth": 0,
             "ticks": ""
            },
            "colorscale": [
             [
              0,
              "#0d0887"
             ],
             [
              0.1111111111111111,
              "#46039f"
             ],
             [
              0.2222222222222222,
              "#7201a8"
             ],
             [
              0.3333333333333333,
              "#9c179e"
             ],
             [
              0.4444444444444444,
              "#bd3786"
             ],
             [
              0.5555555555555556,
              "#d8576b"
             ],
             [
              0.6666666666666666,
              "#ed7953"
             ],
             [
              0.7777777777777778,
              "#fb9f3a"
             ],
             [
              0.8888888888888888,
              "#fdca26"
             ],
             [
              1,
              "#f0f921"
             ]
            ],
            "type": "heatmap"
           }
          ],
          "heatmapgl": [
           {
            "colorbar": {
             "outlinewidth": 0,
             "ticks": ""
            },
            "colorscale": [
             [
              0,
              "#0d0887"
             ],
             [
              0.1111111111111111,
              "#46039f"
             ],
             [
              0.2222222222222222,
              "#7201a8"
             ],
             [
              0.3333333333333333,
              "#9c179e"
             ],
             [
              0.4444444444444444,
              "#bd3786"
             ],
             [
              0.5555555555555556,
              "#d8576b"
             ],
             [
              0.6666666666666666,
              "#ed7953"
             ],
             [
              0.7777777777777778,
              "#fb9f3a"
             ],
             [
              0.8888888888888888,
              "#fdca26"
             ],
             [
              1,
              "#f0f921"
             ]
            ],
            "type": "heatmapgl"
           }
          ],
          "histogram": [
           {
            "marker": {
             "pattern": {
              "fillmode": "overlay",
              "size": 10,
              "solidity": 0.2
             }
            },
            "type": "histogram"
           }
          ],
          "histogram2d": [
           {
            "colorbar": {
             "outlinewidth": 0,
             "ticks": ""
            },
            "colorscale": [
             [
              0,
              "#0d0887"
             ],
             [
              0.1111111111111111,
              "#46039f"
             ],
             [
              0.2222222222222222,
              "#7201a8"
             ],
             [
              0.3333333333333333,
              "#9c179e"
             ],
             [
              0.4444444444444444,
              "#bd3786"
             ],
             [
              0.5555555555555556,
              "#d8576b"
             ],
             [
              0.6666666666666666,
              "#ed7953"
             ],
             [
              0.7777777777777778,
              "#fb9f3a"
             ],
             [
              0.8888888888888888,
              "#fdca26"
             ],
             [
              1,
              "#f0f921"
             ]
            ],
            "type": "histogram2d"
           }
          ],
          "histogram2dcontour": [
           {
            "colorbar": {
             "outlinewidth": 0,
             "ticks": ""
            },
            "colorscale": [
             [
              0,
              "#0d0887"
             ],
             [
              0.1111111111111111,
              "#46039f"
             ],
             [
              0.2222222222222222,
              "#7201a8"
             ],
             [
              0.3333333333333333,
              "#9c179e"
             ],
             [
              0.4444444444444444,
              "#bd3786"
             ],
             [
              0.5555555555555556,
              "#d8576b"
             ],
             [
              0.6666666666666666,
              "#ed7953"
             ],
             [
              0.7777777777777778,
              "#fb9f3a"
             ],
             [
              0.8888888888888888,
              "#fdca26"
             ],
             [
              1,
              "#f0f921"
             ]
            ],
            "type": "histogram2dcontour"
           }
          ],
          "mesh3d": [
           {
            "colorbar": {
             "outlinewidth": 0,
             "ticks": ""
            },
            "type": "mesh3d"
           }
          ],
          "parcoords": [
           {
            "line": {
             "colorbar": {
              "outlinewidth": 0,
              "ticks": ""
             }
            },
            "type": "parcoords"
           }
          ],
          "pie": [
           {
            "automargin": true,
            "type": "pie"
           }
          ],
          "scatter": [
           {
            "fillpattern": {
             "fillmode": "overlay",
             "size": 10,
             "solidity": 0.2
            },
            "type": "scatter"
           }
          ],
          "scatter3d": [
           {
            "line": {
             "colorbar": {
              "outlinewidth": 0,
              "ticks": ""
             }
            },
            "marker": {
             "colorbar": {
              "outlinewidth": 0,
              "ticks": ""
             }
            },
            "type": "scatter3d"
           }
          ],
          "scattercarpet": [
           {
            "marker": {
             "colorbar": {
              "outlinewidth": 0,
              "ticks": ""
             }
            },
            "type": "scattercarpet"
           }
          ],
          "scattergeo": [
           {
            "marker": {
             "colorbar": {
              "outlinewidth": 0,
              "ticks": ""
             }
            },
            "type": "scattergeo"
           }
          ],
          "scattergl": [
           {
            "marker": {
             "colorbar": {
              "outlinewidth": 0,
              "ticks": ""
             }
            },
            "type": "scattergl"
           }
          ],
          "scattermapbox": [
           {
            "marker": {
             "colorbar": {
              "outlinewidth": 0,
              "ticks": ""
             }
            },
            "type": "scattermapbox"
           }
          ],
          "scatterpolar": [
           {
            "marker": {
             "colorbar": {
              "outlinewidth": 0,
              "ticks": ""
             }
            },
            "type": "scatterpolar"
           }
          ],
          "scatterpolargl": [
           {
            "marker": {
             "colorbar": {
              "outlinewidth": 0,
              "ticks": ""
             }
            },
            "type": "scatterpolargl"
           }
          ],
          "scatterternary": [
           {
            "marker": {
             "colorbar": {
              "outlinewidth": 0,
              "ticks": ""
             }
            },
            "type": "scatterternary"
           }
          ],
          "surface": [
           {
            "colorbar": {
             "outlinewidth": 0,
             "ticks": ""
            },
            "colorscale": [
             [
              0,
              "#0d0887"
             ],
             [
              0.1111111111111111,
              "#46039f"
             ],
             [
              0.2222222222222222,
              "#7201a8"
             ],
             [
              0.3333333333333333,
              "#9c179e"
             ],
             [
              0.4444444444444444,
              "#bd3786"
             ],
             [
              0.5555555555555556,
              "#d8576b"
             ],
             [
              0.6666666666666666,
              "#ed7953"
             ],
             [
              0.7777777777777778,
              "#fb9f3a"
             ],
             [
              0.8888888888888888,
              "#fdca26"
             ],
             [
              1,
              "#f0f921"
             ]
            ],
            "type": "surface"
           }
          ],
          "table": [
           {
            "cells": {
             "fill": {
              "color": "#EBF0F8"
             },
             "line": {
              "color": "white"
             }
            },
            "header": {
             "fill": {
              "color": "#C8D4E3"
             },
             "line": {
              "color": "white"
             }
            },
            "type": "table"
           }
          ]
         },
         "layout": {
          "annotationdefaults": {
           "arrowcolor": "#2a3f5f",
           "arrowhead": 0,
           "arrowwidth": 1
          },
          "autotypenumbers": "strict",
          "coloraxis": {
           "colorbar": {
            "outlinewidth": 0,
            "ticks": ""
           }
          },
          "colorscale": {
           "diverging": [
            [
             0,
             "#8e0152"
            ],
            [
             0.1,
             "#c51b7d"
            ],
            [
             0.2,
             "#de77ae"
            ],
            [
             0.3,
             "#f1b6da"
            ],
            [
             0.4,
             "#fde0ef"
            ],
            [
             0.5,
             "#f7f7f7"
            ],
            [
             0.6,
             "#e6f5d0"
            ],
            [
             0.7,
             "#b8e186"
            ],
            [
             0.8,
             "#7fbc41"
            ],
            [
             0.9,
             "#4d9221"
            ],
            [
             1,
             "#276419"
            ]
           ],
           "sequential": [
            [
             0,
             "#0d0887"
            ],
            [
             0.1111111111111111,
             "#46039f"
            ],
            [
             0.2222222222222222,
             "#7201a8"
            ],
            [
             0.3333333333333333,
             "#9c179e"
            ],
            [
             0.4444444444444444,
             "#bd3786"
            ],
            [
             0.5555555555555556,
             "#d8576b"
            ],
            [
             0.6666666666666666,
             "#ed7953"
            ],
            [
             0.7777777777777778,
             "#fb9f3a"
            ],
            [
             0.8888888888888888,
             "#fdca26"
            ],
            [
             1,
             "#f0f921"
            ]
           ],
           "sequentialminus": [
            [
             0,
             "#0d0887"
            ],
            [
             0.1111111111111111,
             "#46039f"
            ],
            [
             0.2222222222222222,
             "#7201a8"
            ],
            [
             0.3333333333333333,
             "#9c179e"
            ],
            [
             0.4444444444444444,
             "#bd3786"
            ],
            [
             0.5555555555555556,
             "#d8576b"
            ],
            [
             0.6666666666666666,
             "#ed7953"
            ],
            [
             0.7777777777777778,
             "#fb9f3a"
            ],
            [
             0.8888888888888888,
             "#fdca26"
            ],
            [
             1,
             "#f0f921"
            ]
           ]
          },
          "colorway": [
           "#636efa",
           "#EF553B",
           "#00cc96",
           "#ab63fa",
           "#FFA15A",
           "#19d3f3",
           "#FF6692",
           "#B6E880",
           "#FF97FF",
           "#FECB52"
          ],
          "font": {
           "color": "#2a3f5f"
          },
          "geo": {
           "bgcolor": "white",
           "lakecolor": "white",
           "landcolor": "#E5ECF6",
           "showlakes": true,
           "showland": true,
           "subunitcolor": "white"
          },
          "hoverlabel": {
           "align": "left"
          },
          "hovermode": "closest",
          "mapbox": {
           "style": "light"
          },
          "paper_bgcolor": "white",
          "plot_bgcolor": "#E5ECF6",
          "polar": {
           "angularaxis": {
            "gridcolor": "white",
            "linecolor": "white",
            "ticks": ""
           },
           "bgcolor": "#E5ECF6",
           "radialaxis": {
            "gridcolor": "white",
            "linecolor": "white",
            "ticks": ""
           }
          },
          "scene": {
           "xaxis": {
            "backgroundcolor": "#E5ECF6",
            "gridcolor": "white",
            "gridwidth": 2,
            "linecolor": "white",
            "showbackground": true,
            "ticks": "",
            "zerolinecolor": "white"
           },
           "yaxis": {
            "backgroundcolor": "#E5ECF6",
            "gridcolor": "white",
            "gridwidth": 2,
            "linecolor": "white",
            "showbackground": true,
            "ticks": "",
            "zerolinecolor": "white"
           },
           "zaxis": {
            "backgroundcolor": "#E5ECF6",
            "gridcolor": "white",
            "gridwidth": 2,
            "linecolor": "white",
            "showbackground": true,
            "ticks": "",
            "zerolinecolor": "white"
           }
          },
          "shapedefaults": {
           "line": {
            "color": "#2a3f5f"
           }
          },
          "ternary": {
           "aaxis": {
            "gridcolor": "white",
            "linecolor": "white",
            "ticks": ""
           },
           "baxis": {
            "gridcolor": "white",
            "linecolor": "white",
            "ticks": ""
           },
           "bgcolor": "#E5ECF6",
           "caxis": {
            "gridcolor": "white",
            "linecolor": "white",
            "ticks": ""
           }
          },
          "title": {
           "x": 0.05
          },
          "xaxis": {
           "automargin": true,
           "gridcolor": "white",
           "linecolor": "white",
           "ticks": "",
           "title": {
            "standoff": 15
           },
           "zerolinecolor": "white",
           "zerolinewidth": 2
          },
          "yaxis": {
           "automargin": true,
           "gridcolor": "white",
           "linecolor": "white",
           "ticks": "",
           "title": {
            "standoff": 15
           },
           "zerolinecolor": "white",
           "zerolinewidth": 2
          }
         }
        },
        "title": {
         "text": "Evaluation Metrics Comparison"
        },
        "xaxis": {
         "title": {
          "text": "Models"
         }
        },
        "yaxis": {
         "title": {
          "text": "Scores"
         }
        }
       }
      }
     },
     "metadata": {},
     "output_type": "display_data"
    }
   ],
   "source": [
    "# Extracting model names and metric scores\n",
    "model_names = [d['model'] for d in regression_stats_val]\n",
    "metric_labels = list(regression_stats_val[0].keys())[1:]\n",
    "metric_scores = {metric: [d[metric] for d in regression_stats_val] for metric in metric_labels}\n",
    "\n",
    "# Plotting the bar chart\n",
    "fig = go.Figure()\n",
    "\n",
    "for metric in metric_labels:\n",
    "    fig.add_trace(go.Bar(\n",
    "        x=model_names,\n",
    "        y=metric_scores[metric],\n",
    "        text=metric_scores[metric],  # Display the values on the bars\n",
    "        textposition='auto',  # Position the text inside the bars\n",
    "        name=metric\n",
    "    ))\n",
    "\n",
    "# Updating the layout\n",
    "fig.update_layout(\n",
    "    title='Evaluation Metrics Comparison',\n",
    "    xaxis_title='Models',\n",
    "    yaxis_title='Scores',\n",
    "    barmode='group'\n",
    ")\n",
    "\n",
    "# Display the plot\n",
    "fig.show()"
   ]
  },
  {
   "attachments": {},
   "cell_type": "markdown",
   "metadata": {},
   "source": [
    "**Evaluating on test data**"
   ]
  },
  {
   "cell_type": "code",
   "execution_count": 14,
   "metadata": {},
   "outputs": [
    {
     "data": {
      "text/plain": [
       "[{'model': 'Multiple Linear Regression',\n",
       "  'mae': 3.6547330972736276,\n",
       "  'mse': 25.668758181814894,\n",
       "  'rmse': 5.066434464375799,\n",
       "  'r2': 0.002311251464875541,\n",
       "  'adj_r2': -0.39905778530212843},\n",
       " {'model': 'Random Forest',\n",
       "  'mae': 3.693346296531759,\n",
       "  'mse': 26.027548531026813,\n",
       "  'rmse': 5.101720154127117,\n",
       "  'r2': -0.011634148306949754,\n",
       "  'adj_r2': -0.41861340337296404},\n",
       " {'model': 'Neural Network',\n",
       "  'mae': 3.6558830491010523,\n",
       "  'mse': 25.86057730792518,\n",
       "  'rmse': 5.085329616448198,\n",
       "  'r2': -0.005144340368532729,\n",
       "  'adj_r2': -0.4095127531604712},\n",
       " {'model': 'Support Vector Machine',\n",
       "  'mae': 3.656931401427199,\n",
       "  'mse': 25.6584615767374,\n",
       "  'rmse': 5.0654182035383215,\n",
       "  'r2': 0.002711458088085039,\n",
       "  'adj_r2': -0.39849657601440946}]"
      ]
     },
     "execution_count": 14,
     "metadata": {},
     "output_type": "execute_result"
    }
   ],
   "source": [
    "regression_models = [\n",
    "    {\n",
    "        'name': 'Multiple Linear Regression',\n",
    "        'model': best_model_mlr,\n",
    "        'features': best_features_mlr\n",
    "    },\n",
    "    {\n",
    "        'name': 'Random Forest',\n",
    "        'model': best_model_rf,\n",
    "        'features': best_features_rf\n",
    "    },\n",
    "    {\n",
    "        'name': 'Neural Network',\n",
    "        'model': best_model_nn,\n",
    "        'features': best_features_nn\n",
    "    },\n",
    "    {\n",
    "        'name': 'Support Vector Machine',\n",
    "        'model': best_model_svm,\n",
    "        'features': best_features_svm\n",
    "    }\n",
    "]\n",
    "\n",
    "regression_stats_test = []\n",
    "\n",
    "for model in regression_models:\n",
    "    # Make predictions on the test set\n",
    "    y_pred = model['model'].predict(X_test[model['features']])\n",
    "\n",
    "    # Defining Actual values\n",
    "    y_true = y_test.copy()\n",
    "\n",
    "    # R2 Score\n",
    "    r2 = r2_score(y_true, y_pred)\n",
    "\n",
    "    # Adjusted R2 Score\n",
    "    n = len(y_true)  # Number of samples\n",
    "    p = X_test.shape[1]  # Number of predictors (features) in X\n",
    "    adj_r2 = 1 - ((1 - r2) * (n - 1)) / (n - p - 1)\n",
    "\n",
    "    # Save stats\n",
    "    regression_stats_test.append(\n",
    "        {\n",
    "            'model': model['name'],\n",
    "            'mae': mean_absolute_error(y_true, y_pred),\n",
    "            'mse': mean_squared_error(y_true, y_pred),\n",
    "            'rmse': np.sqrt(mean_squared_error(y_true, y_pred)),\n",
    "            'r2': r2,\n",
    "            'adj_r2': adj_r2\n",
    "        }\n",
    "    )\n",
    "\n",
    "# View stats\n",
    "regression_stats_test"
   ]
  },
  {
   "cell_type": "code",
   "execution_count": 18,
   "metadata": {},
   "outputs": [
    {
     "data": {
      "application/vnd.plotly.v1+json": {
       "config": {
        "plotlyServerURL": "https://plot.ly"
       },
       "data": [
        {
         "name": "mae",
         "text": [
          "3.6547330972736276",
          "3.693346296531759",
          "3.6558830491010523",
          "3.656931401427199"
         ],
         "textposition": "auto",
         "type": "bar",
         "x": [
          "Multiple Linear Regression",
          "Random Forest",
          "Neural Network",
          "Support Vector Machine"
         ],
         "y": [
          3.6547330972736276,
          3.693346296531759,
          3.6558830491010523,
          3.656931401427199
         ]
        },
        {
         "name": "mse",
         "text": [
          "25.668758181814894",
          "26.027548531026813",
          "25.86057730792518",
          "25.6584615767374"
         ],
         "textposition": "auto",
         "type": "bar",
         "x": [
          "Multiple Linear Regression",
          "Random Forest",
          "Neural Network",
          "Support Vector Machine"
         ],
         "y": [
          25.668758181814894,
          26.027548531026813,
          25.86057730792518,
          25.6584615767374
         ]
        },
        {
         "name": "rmse",
         "text": [
          "5.066434464375799",
          "5.101720154127117",
          "5.085329616448198",
          "5.0654182035383215"
         ],
         "textposition": "auto",
         "type": "bar",
         "x": [
          "Multiple Linear Regression",
          "Random Forest",
          "Neural Network",
          "Support Vector Machine"
         ],
         "y": [
          5.066434464375799,
          5.101720154127117,
          5.085329616448198,
          5.0654182035383215
         ]
        },
        {
         "name": "r2",
         "text": [
          "0.002311251464875541",
          "-0.011634148306949754",
          "-0.005144340368532729",
          "0.002711458088085039"
         ],
         "textposition": "auto",
         "type": "bar",
         "x": [
          "Multiple Linear Regression",
          "Random Forest",
          "Neural Network",
          "Support Vector Machine"
         ],
         "y": [
          0.002311251464875541,
          -0.011634148306949754,
          -0.005144340368532729,
          0.002711458088085039
         ]
        },
        {
         "name": "adj_r2",
         "text": [
          "-0.39905778530212843",
          "-0.41861340337296404",
          "-0.4095127531604712",
          "-0.39849657601440946"
         ],
         "textposition": "auto",
         "type": "bar",
         "x": [
          "Multiple Linear Regression",
          "Random Forest",
          "Neural Network",
          "Support Vector Machine"
         ],
         "y": [
          -0.39905778530212843,
          -0.41861340337296404,
          -0.4095127531604712,
          -0.39849657601440946
         ]
        }
       ],
       "layout": {
        "barmode": "group",
        "template": {
         "data": {
          "bar": [
           {
            "error_x": {
             "color": "#2a3f5f"
            },
            "error_y": {
             "color": "#2a3f5f"
            },
            "marker": {
             "line": {
              "color": "#E5ECF6",
              "width": 0.5
             },
             "pattern": {
              "fillmode": "overlay",
              "size": 10,
              "solidity": 0.2
             }
            },
            "type": "bar"
           }
          ],
          "barpolar": [
           {
            "marker": {
             "line": {
              "color": "#E5ECF6",
              "width": 0.5
             },
             "pattern": {
              "fillmode": "overlay",
              "size": 10,
              "solidity": 0.2
             }
            },
            "type": "barpolar"
           }
          ],
          "carpet": [
           {
            "aaxis": {
             "endlinecolor": "#2a3f5f",
             "gridcolor": "white",
             "linecolor": "white",
             "minorgridcolor": "white",
             "startlinecolor": "#2a3f5f"
            },
            "baxis": {
             "endlinecolor": "#2a3f5f",
             "gridcolor": "white",
             "linecolor": "white",
             "minorgridcolor": "white",
             "startlinecolor": "#2a3f5f"
            },
            "type": "carpet"
           }
          ],
          "choropleth": [
           {
            "colorbar": {
             "outlinewidth": 0,
             "ticks": ""
            },
            "type": "choropleth"
           }
          ],
          "contour": [
           {
            "colorbar": {
             "outlinewidth": 0,
             "ticks": ""
            },
            "colorscale": [
             [
              0,
              "#0d0887"
             ],
             [
              0.1111111111111111,
              "#46039f"
             ],
             [
              0.2222222222222222,
              "#7201a8"
             ],
             [
              0.3333333333333333,
              "#9c179e"
             ],
             [
              0.4444444444444444,
              "#bd3786"
             ],
             [
              0.5555555555555556,
              "#d8576b"
             ],
             [
              0.6666666666666666,
              "#ed7953"
             ],
             [
              0.7777777777777778,
              "#fb9f3a"
             ],
             [
              0.8888888888888888,
              "#fdca26"
             ],
             [
              1,
              "#f0f921"
             ]
            ],
            "type": "contour"
           }
          ],
          "contourcarpet": [
           {
            "colorbar": {
             "outlinewidth": 0,
             "ticks": ""
            },
            "type": "contourcarpet"
           }
          ],
          "heatmap": [
           {
            "colorbar": {
             "outlinewidth": 0,
             "ticks": ""
            },
            "colorscale": [
             [
              0,
              "#0d0887"
             ],
             [
              0.1111111111111111,
              "#46039f"
             ],
             [
              0.2222222222222222,
              "#7201a8"
             ],
             [
              0.3333333333333333,
              "#9c179e"
             ],
             [
              0.4444444444444444,
              "#bd3786"
             ],
             [
              0.5555555555555556,
              "#d8576b"
             ],
             [
              0.6666666666666666,
              "#ed7953"
             ],
             [
              0.7777777777777778,
              "#fb9f3a"
             ],
             [
              0.8888888888888888,
              "#fdca26"
             ],
             [
              1,
              "#f0f921"
             ]
            ],
            "type": "heatmap"
           }
          ],
          "heatmapgl": [
           {
            "colorbar": {
             "outlinewidth": 0,
             "ticks": ""
            },
            "colorscale": [
             [
              0,
              "#0d0887"
             ],
             [
              0.1111111111111111,
              "#46039f"
             ],
             [
              0.2222222222222222,
              "#7201a8"
             ],
             [
              0.3333333333333333,
              "#9c179e"
             ],
             [
              0.4444444444444444,
              "#bd3786"
             ],
             [
              0.5555555555555556,
              "#d8576b"
             ],
             [
              0.6666666666666666,
              "#ed7953"
             ],
             [
              0.7777777777777778,
              "#fb9f3a"
             ],
             [
              0.8888888888888888,
              "#fdca26"
             ],
             [
              1,
              "#f0f921"
             ]
            ],
            "type": "heatmapgl"
           }
          ],
          "histogram": [
           {
            "marker": {
             "pattern": {
              "fillmode": "overlay",
              "size": 10,
              "solidity": 0.2
             }
            },
            "type": "histogram"
           }
          ],
          "histogram2d": [
           {
            "colorbar": {
             "outlinewidth": 0,
             "ticks": ""
            },
            "colorscale": [
             [
              0,
              "#0d0887"
             ],
             [
              0.1111111111111111,
              "#46039f"
             ],
             [
              0.2222222222222222,
              "#7201a8"
             ],
             [
              0.3333333333333333,
              "#9c179e"
             ],
             [
              0.4444444444444444,
              "#bd3786"
             ],
             [
              0.5555555555555556,
              "#d8576b"
             ],
             [
              0.6666666666666666,
              "#ed7953"
             ],
             [
              0.7777777777777778,
              "#fb9f3a"
             ],
             [
              0.8888888888888888,
              "#fdca26"
             ],
             [
              1,
              "#f0f921"
             ]
            ],
            "type": "histogram2d"
           }
          ],
          "histogram2dcontour": [
           {
            "colorbar": {
             "outlinewidth": 0,
             "ticks": ""
            },
            "colorscale": [
             [
              0,
              "#0d0887"
             ],
             [
              0.1111111111111111,
              "#46039f"
             ],
             [
              0.2222222222222222,
              "#7201a8"
             ],
             [
              0.3333333333333333,
              "#9c179e"
             ],
             [
              0.4444444444444444,
              "#bd3786"
             ],
             [
              0.5555555555555556,
              "#d8576b"
             ],
             [
              0.6666666666666666,
              "#ed7953"
             ],
             [
              0.7777777777777778,
              "#fb9f3a"
             ],
             [
              0.8888888888888888,
              "#fdca26"
             ],
             [
              1,
              "#f0f921"
             ]
            ],
            "type": "histogram2dcontour"
           }
          ],
          "mesh3d": [
           {
            "colorbar": {
             "outlinewidth": 0,
             "ticks": ""
            },
            "type": "mesh3d"
           }
          ],
          "parcoords": [
           {
            "line": {
             "colorbar": {
              "outlinewidth": 0,
              "ticks": ""
             }
            },
            "type": "parcoords"
           }
          ],
          "pie": [
           {
            "automargin": true,
            "type": "pie"
           }
          ],
          "scatter": [
           {
            "fillpattern": {
             "fillmode": "overlay",
             "size": 10,
             "solidity": 0.2
            },
            "type": "scatter"
           }
          ],
          "scatter3d": [
           {
            "line": {
             "colorbar": {
              "outlinewidth": 0,
              "ticks": ""
             }
            },
            "marker": {
             "colorbar": {
              "outlinewidth": 0,
              "ticks": ""
             }
            },
            "type": "scatter3d"
           }
          ],
          "scattercarpet": [
           {
            "marker": {
             "colorbar": {
              "outlinewidth": 0,
              "ticks": ""
             }
            },
            "type": "scattercarpet"
           }
          ],
          "scattergeo": [
           {
            "marker": {
             "colorbar": {
              "outlinewidth": 0,
              "ticks": ""
             }
            },
            "type": "scattergeo"
           }
          ],
          "scattergl": [
           {
            "marker": {
             "colorbar": {
              "outlinewidth": 0,
              "ticks": ""
             }
            },
            "type": "scattergl"
           }
          ],
          "scattermapbox": [
           {
            "marker": {
             "colorbar": {
              "outlinewidth": 0,
              "ticks": ""
             }
            },
            "type": "scattermapbox"
           }
          ],
          "scatterpolar": [
           {
            "marker": {
             "colorbar": {
              "outlinewidth": 0,
              "ticks": ""
             }
            },
            "type": "scatterpolar"
           }
          ],
          "scatterpolargl": [
           {
            "marker": {
             "colorbar": {
              "outlinewidth": 0,
              "ticks": ""
             }
            },
            "type": "scatterpolargl"
           }
          ],
          "scatterternary": [
           {
            "marker": {
             "colorbar": {
              "outlinewidth": 0,
              "ticks": ""
             }
            },
            "type": "scatterternary"
           }
          ],
          "surface": [
           {
            "colorbar": {
             "outlinewidth": 0,
             "ticks": ""
            },
            "colorscale": [
             [
              0,
              "#0d0887"
             ],
             [
              0.1111111111111111,
              "#46039f"
             ],
             [
              0.2222222222222222,
              "#7201a8"
             ],
             [
              0.3333333333333333,
              "#9c179e"
             ],
             [
              0.4444444444444444,
              "#bd3786"
             ],
             [
              0.5555555555555556,
              "#d8576b"
             ],
             [
              0.6666666666666666,
              "#ed7953"
             ],
             [
              0.7777777777777778,
              "#fb9f3a"
             ],
             [
              0.8888888888888888,
              "#fdca26"
             ],
             [
              1,
              "#f0f921"
             ]
            ],
            "type": "surface"
           }
          ],
          "table": [
           {
            "cells": {
             "fill": {
              "color": "#EBF0F8"
             },
             "line": {
              "color": "white"
             }
            },
            "header": {
             "fill": {
              "color": "#C8D4E3"
             },
             "line": {
              "color": "white"
             }
            },
            "type": "table"
           }
          ]
         },
         "layout": {
          "annotationdefaults": {
           "arrowcolor": "#2a3f5f",
           "arrowhead": 0,
           "arrowwidth": 1
          },
          "autotypenumbers": "strict",
          "coloraxis": {
           "colorbar": {
            "outlinewidth": 0,
            "ticks": ""
           }
          },
          "colorscale": {
           "diverging": [
            [
             0,
             "#8e0152"
            ],
            [
             0.1,
             "#c51b7d"
            ],
            [
             0.2,
             "#de77ae"
            ],
            [
             0.3,
             "#f1b6da"
            ],
            [
             0.4,
             "#fde0ef"
            ],
            [
             0.5,
             "#f7f7f7"
            ],
            [
             0.6,
             "#e6f5d0"
            ],
            [
             0.7,
             "#b8e186"
            ],
            [
             0.8,
             "#7fbc41"
            ],
            [
             0.9,
             "#4d9221"
            ],
            [
             1,
             "#276419"
            ]
           ],
           "sequential": [
            [
             0,
             "#0d0887"
            ],
            [
             0.1111111111111111,
             "#46039f"
            ],
            [
             0.2222222222222222,
             "#7201a8"
            ],
            [
             0.3333333333333333,
             "#9c179e"
            ],
            [
             0.4444444444444444,
             "#bd3786"
            ],
            [
             0.5555555555555556,
             "#d8576b"
            ],
            [
             0.6666666666666666,
             "#ed7953"
            ],
            [
             0.7777777777777778,
             "#fb9f3a"
            ],
            [
             0.8888888888888888,
             "#fdca26"
            ],
            [
             1,
             "#f0f921"
            ]
           ],
           "sequentialminus": [
            [
             0,
             "#0d0887"
            ],
            [
             0.1111111111111111,
             "#46039f"
            ],
            [
             0.2222222222222222,
             "#7201a8"
            ],
            [
             0.3333333333333333,
             "#9c179e"
            ],
            [
             0.4444444444444444,
             "#bd3786"
            ],
            [
             0.5555555555555556,
             "#d8576b"
            ],
            [
             0.6666666666666666,
             "#ed7953"
            ],
            [
             0.7777777777777778,
             "#fb9f3a"
            ],
            [
             0.8888888888888888,
             "#fdca26"
            ],
            [
             1,
             "#f0f921"
            ]
           ]
          },
          "colorway": [
           "#636efa",
           "#EF553B",
           "#00cc96",
           "#ab63fa",
           "#FFA15A",
           "#19d3f3",
           "#FF6692",
           "#B6E880",
           "#FF97FF",
           "#FECB52"
          ],
          "font": {
           "color": "#2a3f5f"
          },
          "geo": {
           "bgcolor": "white",
           "lakecolor": "white",
           "landcolor": "#E5ECF6",
           "showlakes": true,
           "showland": true,
           "subunitcolor": "white"
          },
          "hoverlabel": {
           "align": "left"
          },
          "hovermode": "closest",
          "mapbox": {
           "style": "light"
          },
          "paper_bgcolor": "white",
          "plot_bgcolor": "#E5ECF6",
          "polar": {
           "angularaxis": {
            "gridcolor": "white",
            "linecolor": "white",
            "ticks": ""
           },
           "bgcolor": "#E5ECF6",
           "radialaxis": {
            "gridcolor": "white",
            "linecolor": "white",
            "ticks": ""
           }
          },
          "scene": {
           "xaxis": {
            "backgroundcolor": "#E5ECF6",
            "gridcolor": "white",
            "gridwidth": 2,
            "linecolor": "white",
            "showbackground": true,
            "ticks": "",
            "zerolinecolor": "white"
           },
           "yaxis": {
            "backgroundcolor": "#E5ECF6",
            "gridcolor": "white",
            "gridwidth": 2,
            "linecolor": "white",
            "showbackground": true,
            "ticks": "",
            "zerolinecolor": "white"
           },
           "zaxis": {
            "backgroundcolor": "#E5ECF6",
            "gridcolor": "white",
            "gridwidth": 2,
            "linecolor": "white",
            "showbackground": true,
            "ticks": "",
            "zerolinecolor": "white"
           }
          },
          "shapedefaults": {
           "line": {
            "color": "#2a3f5f"
           }
          },
          "ternary": {
           "aaxis": {
            "gridcolor": "white",
            "linecolor": "white",
            "ticks": ""
           },
           "baxis": {
            "gridcolor": "white",
            "linecolor": "white",
            "ticks": ""
           },
           "bgcolor": "#E5ECF6",
           "caxis": {
            "gridcolor": "white",
            "linecolor": "white",
            "ticks": ""
           }
          },
          "title": {
           "x": 0.05
          },
          "xaxis": {
           "automargin": true,
           "gridcolor": "white",
           "linecolor": "white",
           "ticks": "",
           "title": {
            "standoff": 15
           },
           "zerolinecolor": "white",
           "zerolinewidth": 2
          },
          "yaxis": {
           "automargin": true,
           "gridcolor": "white",
           "linecolor": "white",
           "ticks": "",
           "title": {
            "standoff": 15
           },
           "zerolinecolor": "white",
           "zerolinewidth": 2
          }
         }
        },
        "title": {
         "text": "Evaluation Metrics Comparison Knijpkracht"
        },
        "xaxis": {
         "title": {
          "text": "Models"
         }
        },
        "yaxis": {
         "title": {
          "text": "Scores"
         }
        }
       }
      }
     },
     "metadata": {},
     "output_type": "display_data"
    }
   ],
   "source": [
    "# Extracting model names and metric scores\n",
    "model_names = [d['model'] for d in regression_stats_test]\n",
    "metric_labels = list(regression_stats_test[0].keys())[1:]\n",
    "metric_scores = {metric: [d[metric] for d in regression_stats_test] for metric in metric_labels}\n",
    "\n",
    "# Plotting the bar chart\n",
    "fig = go.Figure()\n",
    "\n",
    "for metric in metric_labels:\n",
    "    fig.add_trace(go.Bar(\n",
    "        x=model_names,\n",
    "        y=metric_scores[metric],\n",
    "        text=metric_scores[metric],  # Display the values on the bars\n",
    "        textposition='auto',  # Position the text inside the bars\n",
    "        name=metric\n",
    "    ))\n",
    "\n",
    "# Updating the layout\n",
    "fig.update_layout(\n",
    "    title='Evaluation Metrics Comparison Knijpkracht',\n",
    "    xaxis_title='Models',\n",
    "    yaxis_title='Scores',\n",
    "    barmode='group'\n",
    ")\n",
    "\n",
    "# Display the plot\n",
    "fig.show()"
   ]
  },
  {
   "attachments": {},
   "cell_type": "markdown",
   "metadata": {},
   "source": [
    "Naive bayes"
   ]
  },
  {
   "cell_type": "code",
   "execution_count": 16,
   "metadata": {},
   "outputs": [
    {
     "name": "stdout",
     "output_type": "stream",
     "text": [
      "Mean Absolute Error: 3.6518080074565615\n",
      "Mean Squared Error: 25.781358746682066\n",
      "Root Mean Squared Error: 5.077534711519171\n",
      "R2 Score: -0.0020652873552322593\n",
      "Adjusted R2 Score: -0.40519500065906144\n"
     ]
    }
   ],
   "source": [
    "# Defining Actual values\n",
    "y_true = y_test.copy()\n",
    "\n",
    "# Defining Predicted values\n",
    "y_pred = np.full_like(y_test, y_train.mean())\n",
    "\n",
    "# Mean absolute error\n",
    "mae = mean_absolute_error(y_test, y_pred)\n",
    "print(\"Mean Absolute Error:\", mae)\n",
    "\n",
    "# Mean Squared Error\n",
    "mse = mean_squared_error(y_true, y_pred)\n",
    "print(\"Mean Squared Error:\", mse)\n",
    "\n",
    "# Root Mean Squared Error\n",
    "rmse = np.sqrt(mse)\n",
    "print(\"Root Mean Squared Error:\", rmse)\n",
    "\n",
    "# R2 Score\n",
    "r2 = r2_score(y_true, y_pred)\n",
    "print(\"R2 Score:\", r2)\n",
    "\n",
    "# Adjusted R2 Score\n",
    "n = len(y_true)  # Number of samples\n",
    "p = X_test.shape[1]  # Number of predictors (features) in X\n",
    "adj_r2 = 1 - ((1 - r2) * (n - 1)) / (n - p - 1)\n",
    "print(\"Adjusted R2 Score:\", adj_r2)"
   ]
  },
  {
   "attachments": {},
   "cell_type": "markdown",
   "metadata": {},
   "source": [
    "Save best model as Pickle"
   ]
  },
  {
   "cell_type": "code",
   "execution_count": 17,
   "metadata": {},
   "outputs": [],
   "source": [
    "import pickle\n",
    "\n",
    "# Save model\n",
    "file_path = 'Saved Models/Knijpkracht.pkl'\n",
    "\n",
    "with open(file_path, 'wb') as file:\n",
    "    pickle.dump(best_model_mlr, file)\n",
    "\n",
    "# Save features\n",
    "with open('Saved Models/best_features_Knijpkracht.txt', 'w') as file:\n",
    "    file.write(f'{best_features_mlr}')"
   ]
  }
 ],
 "metadata": {
  "kernelspec": {
   "display_name": "Python 3",
   "language": "python",
   "name": "python3"
  },
  "language_info": {
   "codemirror_mode": {
    "name": "ipython",
    "version": 3
   },
   "file_extension": ".py",
   "mimetype": "text/x-python",
   "name": "python",
   "nbconvert_exporter": "python",
   "pygments_lexer": "ipython3",
   "version": "3.10.9"
  },
  "orig_nbformat": 4
 },
 "nbformat": 4,
 "nbformat_minor": 2
}
