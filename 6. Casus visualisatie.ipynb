{
 "cells": [
  {
   "attachments": {},
   "cell_type": "markdown",
   "metadata": {},
   "source": [
    "# General imports"
   ]
  },
  {
   "attachments": {},
   "cell_type": "markdown",
   "metadata": {},
   "source": [
    "**Importing all libraries**"
   ]
  },
  {
   "cell_type": "code",
   "execution_count": null,
   "metadata": {},
   "outputs": [],
   "source": [
    "# Used imports\n",
    "import pandas as pd\n",
    "import numpy as np\n",
    "import matplotlib.pyplot as plt\n",
    "import seaborn as sns\n",
    "\n",
    "# Extra imports used later in code, now separated for readability\n",
    "from functools import reduce\n",
    "import gc\n",
    "import geopandas as gpd\n",
    "import cbsodata\n",
    "from owslib.wfs import WebFeatureService"
   ]
  },
  {
   "cell_type": "code",
   "execution_count": null,
   "metadata": {},
   "outputs": [],
   "source": [
    "# Download geboortecijfers en verwijder spaties uit regiocodes\n",
    "data_gezondheidsmonitor = pd.DataFrame(cbsodata.get_data(\"85012NED\"))"
   ]
  },
  {
   "cell_type": "code",
   "execution_count": null,
   "metadata": {},
   "outputs": [],
   "source": [
    "# Verkijg alle leeftijds categorieën (aangezien deze niet specifiek genoeg zijn)\n",
    "data_gezondheidsmonitor = data_gezondheidsmonitor[\n",
    "    data_gezondheidsmonitor[\"Leeftijd\"] == \"Totaal\"\n",
    "]\n",
    "\n",
    "# Verkijg enkel de marges\n",
    "data_gezondheidsmonitor = data_gezondheidsmonitor[\n",
    "    data_gezondheidsmonitor[\"Marges\"] == \"Waarde\"\n",
    "]"
   ]
  },
  {
   "cell_type": "code",
   "execution_count": null,
   "metadata": {},
   "outputs": [],
   "source": [
    "# Leeftijd selectie of totaal\n",
    "data_gezondheidsmonitor[\n",
    "    [\n",
    "        \"RegioS\",\n",
    "        \"Ondergewicht_7\",\n",
    "        \"NormaalGewicht_8\",\n",
    "        \"Overgewicht_9\",\n",
    "        \"MatigOvergewicht_10\",\n",
    "        \"ErnstigOvergewichtObesitas_11\",\n",
    "    ]\n",
    "]"
   ]
  },
  {
   "cell_type": "code",
   "execution_count": null,
   "metadata": {},
   "outputs": [],
   "source": [
    "geodata_url = \"https://service.pdok.nl/cbs/gebiedsindelingen/2017/wfs/v1_0\"\n",
    "wfs = WebFeatureService(geodata_url, version=\"2.0.0\")\n",
    "\n",
    "# Controleer de beschikbare lagen\n",
    "print(wfs.contents)"
   ]
  },
  {
   "cell_type": "code",
   "execution_count": null,
   "metadata": {},
   "outputs": [],
   "source": [
    "# Kies de gewenste laag\n",
    "laagnaam = \"gemeente_gegeneraliseerd\"\n",
    "\n",
    "# Haal de gegevens op van de gekozen laag\n",
    "response = wfs.getfeature(typename=laagnaam, outputFormat=\"json\")\n",
    "data = response.read().decode(\"utf-8\")\n",
    "\n",
    "# Converteer de ontvangen gegevens naar een GeoDataFrame\n",
    "gemeentegrenzen = gpd.read_file(data)"
   ]
  },
  {
   "cell_type": "code",
   "execution_count": null,
   "metadata": {},
   "outputs": [],
   "source": [
    "# Koppel CBS-data aan geodata met regiocodes\n",
    "gemeentegrenzen = pd.merge(\n",
    "    gemeentegrenzen,\n",
    "    data_gezondheidsmonitor,\n",
    "    left_on=\"statnaam\",\n",
    "    right_on=\"RegioS\",\n",
    "    how=\"left\",\n",
    ")"
   ]
  },
  {
   "cell_type": "code",
   "execution_count": null,
   "metadata": {},
   "outputs": [],
   "source": [
    "gemeentegrenzen.columns"
   ]
  },
  {
   "cell_type": "code",
   "execution_count": null,
   "metadata": {},
   "outputs": [],
   "source": [
    "# Drop unnecessary columns\n",
    "gemeentegrenzen.drop(\n",
    "    columns=[\n",
    "        \"id\",\n",
    "        \"statcode\",\n",
    "        \"jrstatcode\",\n",
    "        \"rubriek\",\n",
    "        \"ID\",\n",
    "        \"Leeftijd\",\n",
    "        \"Marges\",\n",
    "        \"RegioS\",\n",
    "    ],\n",
    "    inplace=True,\n",
    ")\n",
    "\n",
    "# Rename columns\n",
    "gemeentegrenzen = gemeentegrenzen.rename(columns=lambda x: x.split(\"_\")[0])"
   ]
  },
  {
   "cell_type": "code",
   "execution_count": null,
   "metadata": {},
   "outputs": [],
   "source": [
    "# Interactive plot\n",
    "gemeentegrenzen.explore(\n",
    "    column=\"ErnstigOvergewichtObesitas\",\n",
    "    tooltip=[\n",
    "        \"ErnstigOvergewichtObesitas\",\n",
    "        \"MatigOvergewicht\",\n",
    "        \"Overgewicht\",\n",
    "        \"statnaam\",\n",
    "    ],\n",
    "    popup=True,\n",
    "    tiles=\"\",\n",
    "    cmap=\"OrRd\",\n",
    "    style_kwds=dict(color=\"black\"),\n",
    ")"
   ]
  },
  {
   "cell_type": "code",
   "execution_count": null,
   "metadata": {},
   "outputs": [],
   "source": [
    "# Interactive plot\n",
    "gemeentegrenzen.explore(\n",
    "    column=\"MatigOvergewicht\",\n",
    "    tooltip=[\n",
    "        \"ErnstigOvergewichtObesitas\",\n",
    "        \"MatigOvergewicht\",\n",
    "        \"Overgewicht\",\n",
    "        \"statnaam\",\n",
    "    ],\n",
    "    popup=True,\n",
    "    tiles=\"\",\n",
    "    cmap=\"OrRd\",\n",
    "    style_kwds=dict(color=\"black\"),\n",
    ")"
   ]
  },
  {
   "cell_type": "code",
   "execution_count": null,
   "metadata": {},
   "outputs": [],
   "source": [
    "# Interactive plot\n",
    "gemeentegrenzen.explore(\n",
    "    column=\"Overgewicht\",\n",
    "    tooltip=[\n",
    "        \"ErnstigOvergewichtObesitas\",\n",
    "        \"MatigOvergewicht\",\n",
    "        \"Overgewicht\",\n",
    "        \"statnaam\",\n",
    "    ],\n",
    "    popup=True,\n",
    "    tiles=\"\",\n",
    "    cmap=\"OrRd\",\n",
    "    style_kwds=dict(color=\"black\"),\n",
    ")"
   ]
  },
  {
   "attachments": {},
   "cell_type": "markdown",
   "metadata": {},
   "source": [
    "# Visualiseren effect programma"
   ]
  },
  {
   "cell_type": "code",
   "execution_count": null,
   "metadata": {},
   "outputs": [],
   "source": [
    "# Read df\n",
    "df_predictions = pd.read_csv('cbsdata_predictions.csv')"
   ]
  },
  {
   "cell_type": "code",
   "execution_count": null,
   "metadata": {},
   "outputs": [],
   "source": [
    "# Koppel CBS-data aan geodata met regiocodes\n",
    "gemeentegrenzen = pd.merge(gemeentegrenzen,\n",
    "                           df_predictions,\n",
    "                           left_on = \"statnaam\", \n",
    "                           right_on = \"Gemeente\", \n",
    "                           how=\"left\")"
   ]
  },
  {
   "cell_type": "code",
   "execution_count": null,
   "metadata": {},
   "outputs": [],
   "source": [
    "gemeentegrenzen"
   ]
  },
  {
   "cell_type": "code",
   "execution_count": null,
   "metadata": {},
   "outputs": [],
   "source": [
    "# Interactive plot\n",
    "gemeentegrenzen.explore(\n",
    "    column=\"verschil_Gewicht\",\n",
    "    tooltip=['verschil_Gewicht',\n",
    "    'verschil_6 MWT', 'verschil_TUG',\n",
    "               'verschil_BMI', 'verschil_Conditie',\n",
    "               'verschil_Lenigheid', 'verschil_Knijpkracht'],\n",
    "    popup=True,\n",
    "    tiles=\"\",\n",
    "    cmap=\"OrRd\",\n",
    "    style_kwds=dict(color=\"black\"), \n",
    ")"
   ]
  },
  {
   "cell_type": "code",
   "execution_count": null,
   "metadata": {},
   "outputs": [],
   "source": [
    "# Interactive plot\n",
    "gemeentegrenzen.explore(\n",
    "    column=\"verschil_6 MWT\",\n",
    "    tooltip=['verschil_Gewicht',\n",
    "    'verschil_6 MWT', 'verschil_TUG',\n",
    "               'verschil_BMI', 'verschil_Conditie',\n",
    "               'verschil_Lenigheid', 'verschil_Knijpkracht'],\n",
    "    popup=True,\n",
    "    tiles=\"\",\n",
    "    cmap=\"OrRd\",\n",
    "    style_kwds=dict(color=\"black\"), \n",
    ")"
   ]
  },
  {
   "cell_type": "code",
   "execution_count": null,
   "metadata": {},
   "outputs": [],
   "source": [
    "# Interactive plot\n",
    "gemeentegrenzen.explore(\n",
    "    column=\"verschil_TUG\",\n",
    "    tooltip=['verschil_Gewicht',\n",
    "    'verschil_6 MWT', 'verschil_TUG',\n",
    "               'verschil_BMI', 'verschil_Conditie',\n",
    "               'verschil_Lenigheid', 'verschil_Knijpkracht'],\n",
    "    popup=True,\n",
    "    tiles=\"\",\n",
    "    cmap=\"OrRd\",\n",
    "    style_kwds=dict(color=\"black\"), \n",
    ")"
   ]
  },
  {
   "cell_type": "code",
   "execution_count": null,
   "metadata": {},
   "outputs": [],
   "source": [
    "# Interactive plot\n",
    "gemeentegrenzen.explore(\n",
    "    column=\"verschil_BMI\",\n",
    "    tooltip=['verschil_Gewicht',\n",
    "    'verschil_6 MWT', 'verschil_TUG',\n",
    "               'verschil_BMI', 'verschil_Conditie',\n",
    "               'verschil_Lenigheid', 'verschil_Knijpkracht'],\n",
    "    popup=True,\n",
    "    tiles=\"\",\n",
    "    cmap=\"OrRd\",\n",
    "    style_kwds=dict(color=\"black\"), \n",
    ")"
   ]
  },
  {
   "cell_type": "code",
   "execution_count": null,
   "metadata": {},
   "outputs": [],
   "source": [
    "# Interactive plot\n",
    "gemeentegrenzen.explore(\n",
    "    column=\"verschil_Conditie\",\n",
    "    tooltip=['verschil_Gewicht',\n",
    "    'verschil_6 MWT', 'verschil_TUG',\n",
    "               'verschil_BMI', 'verschil_Conditie',\n",
    "               'verschil_Lenigheid', 'verschil_Knijpkracht'],\n",
    "    popup=True,\n",
    "    tiles=\"\",\n",
    "    cmap=\"OrRd\",\n",
    "    style_kwds=dict(color=\"black\"), \n",
    ")"
   ]
  },
  {
   "cell_type": "code",
   "execution_count": null,
   "metadata": {},
   "outputs": [],
   "source": [
    "# Interactive plot\n",
    "gemeentegrenzen.explore(\n",
    "    column=\"verschil_Lenigheid\",\n",
    "    tooltip=['verschil_Gewicht',\n",
    "    'verschil_6 MWT', 'verschil_TUG',\n",
    "               'verschil_BMI', 'verschil_Conditie',\n",
    "               'verschil_Lenigheid', 'verschil_Knijpkracht'],\n",
    "    popup=True,\n",
    "    tiles=\"\",\n",
    "    cmap=\"OrRd\",\n",
    "    style_kwds=dict(color=\"black\"), \n",
    ")"
   ]
  },
  {
   "cell_type": "code",
   "execution_count": null,
   "metadata": {},
   "outputs": [],
   "source": [
    "# Interactive plot\n",
    "gemeentegrenzen.explore(\n",
    "    column=\"verschil_Knijpkracht\",\n",
    "    tooltip=['verschil_Gewicht',\n",
    "    'verschil_6 MWT', 'verschil_TUG',\n",
    "               'verschil_BMI', 'verschil_Conditie',\n",
    "               'verschil_Lenigheid', 'verschil_Knijpkracht'],\n",
    "    popup=True,\n",
    "    tiles=\"\",\n",
    "    cmap=\"RdYlGn\",\n",
    "    style_kwds=dict(color=\"black\"), \n",
    ")"
   ]
  }
 ],
 "metadata": {
  "kernelspec": {
   "display_name": "base",
   "language": "python",
   "name": "python3"
  },
  "language_info": {
   "codemirror_mode": {
    "name": "ipython",
    "version": 3
   },
   "file_extension": ".py",
   "mimetype": "text/x-python",
   "name": "python",
   "nbconvert_exporter": "python",
   "pygments_lexer": "ipython3",
   "version": "3.10.9"
  },
  "orig_nbformat": 4
 },
 "nbformat": 4,
 "nbformat_minor": 2
}
