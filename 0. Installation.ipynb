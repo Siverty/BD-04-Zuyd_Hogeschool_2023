{
 "cells": [
  {
   "attachments": {},
   "cell_type": "markdown",
   "metadata": {},
   "source": [
    "# Installing all necessary libraries "
   ]
  },
  {
   "cell_type": "code",
   "execution_count": null,
   "metadata": {},
   "outputs": [],
   "source": [
    "# You can use this code to install packages you need using a code snippet from https://stackoverflow.com/questions/12332975/installing-python-module-within-code\n",
    "\n",
    "import subprocess\n",
    "import sys\n",
    "\n",
    "def install(package):\n",
    "    subprocess.check_call([sys.executable, \"-m\", \"pip\", \"install\", package])\n",
    "\n",
    "\n",
    "# Install packages\n",
    "install(\"pandas\")\n",
    "install(\"numpy\")\n",
    "install(\"seaborn\")\n",
    "install(\"matplotlib\")\n",
    "install(\"scipy\")\n",
    "install(\"scikit-learn\")\n",
    "install(\"statsmodels\")\n",
    "install(\"bayesian-optimization\")\n",
    "install(\"dmba\")"
   ]
  }
 ],
 "metadata": {
  "kernelspec": {
   "display_name": "Python 3",
   "language": "python",
   "name": "python3"
  },
  "language_info": {
   "name": "python",
   "version": "3.9.5"
  },
  "orig_nbformat": 4
 },
 "nbformat": 4,
 "nbformat_minor": 2
}
