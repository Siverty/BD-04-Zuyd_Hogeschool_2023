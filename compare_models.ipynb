{
 "cells": [
  {
   "cell_type": "code",
   "execution_count": 3,
   "metadata": {},
   "outputs": [],
   "source": [
    "from sklearn.datasets import make_regression\n",
    "\n",
    "# Generate regression toy data\n",
    "n_samples = 1000\n",
    "n_features = 5\n",
    "\n",
    "X, y = make_regression(n_samples=n_samples, n_features=n_features, random_state=42)\n",
    "\n",
    "# Split data into training and testing sets\n",
    "train_ratio = 0.8\n",
    "train_size = int(train_ratio * n_samples)\n",
    "\n",
    "X_train = X[:train_size]\n",
    "y_train = y[:train_size]\n",
    "\n",
    "# Test data\n",
    "X_test = X[train_size:]\n",
    "y_test = y[train_size:]"
   ]
  },
  {
   "cell_type": "code",
   "execution_count": 4,
   "metadata": {},
   "outputs": [],
   "source": [
    "from sklearn.model_selection import cross_val_score\n",
    "\n",
    "\n",
    "def bo_params_generic(model, params, X_train, y_train):\n",
    "    # Create the model instance with the specified parameters\n",
    "    regressor = model(**params)\n",
    "    \n",
    "    # Assuming you have X_train, y_train defined for regression\n",
    "    scores = cross_val_score(regressor, X_train, y_train, cv=10, scoring='neg_root_mean_squared_error')\n",
    "    return -scores.mean()"
   ]
  },
  {
   "cell_type": "code",
   "execution_count": 10,
   "metadata": {},
   "outputs": [
    {
     "name": "stdout",
     "output_type": "stream",
     "text": [
      "|   iter    |  target   | max_depth | max_fe... | max_le... | min_sa... | min_we... | n_esti... |\n",
      "-------------------------------------------------------------------------------------------------\n",
      "| \u001b[0m1        \u001b[0m | \u001b[0m46.61    \u001b[0m | \u001b[0m4.134    \u001b[0m | \u001b[0m0.46     \u001b[0m | \u001b[0m22.08    \u001b[0m | \u001b[0m9.013    \u001b[0m | \u001b[0m0.2209   \u001b[0m | \u001b[0m41.34    \u001b[0m |\n",
      "| \u001b[0m2        \u001b[0m | \u001b[0m36.43    \u001b[0m | \u001b[0m12.73    \u001b[0m | \u001b[0m0.1274   \u001b[0m | \u001b[0m62.41    \u001b[0m | \u001b[0m1.791    \u001b[0m | \u001b[0m0.04717  \u001b[0m | \u001b[0m29.28    \u001b[0m |\n",
      "| \u001b[0m3        \u001b[0m | \u001b[0m46.17    \u001b[0m | \u001b[0m15.91    \u001b[0m | \u001b[0m0.3348   \u001b[0m | \u001b[0m43.93    \u001b[0m | \u001b[0m8.521    \u001b[0m | \u001b[0m0.1384   \u001b[0m | \u001b[0m30.4     \u001b[0m |\n",
      "| \u001b[95m4        \u001b[0m | \u001b[95m48.93    \u001b[0m | \u001b[95m6.856    \u001b[0m | \u001b[95m0.3888   \u001b[0m | \u001b[95m32.59    \u001b[0m | \u001b[95m9.715    \u001b[0m | \u001b[95m0.1876   \u001b[0m | \u001b[95m41.59    \u001b[0m |\n",
      "| \u001b[0m5        \u001b[0m | \u001b[0m46.0     \u001b[0m | \u001b[0m1.771    \u001b[0m | \u001b[0m0.453    \u001b[0m | \u001b[0m85.14    \u001b[0m | \u001b[0m4.254    \u001b[0m | \u001b[0m0.1906   \u001b[0m | \u001b[0m39.71    \u001b[0m |\n",
      "| \u001b[0m6        \u001b[0m | \u001b[0m28.97    \u001b[0m | \u001b[0m19.53    \u001b[0m | \u001b[0m0.8609   \u001b[0m | \u001b[0m26.85    \u001b[0m | \u001b[0m3.368    \u001b[0m | \u001b[0m0.03503  \u001b[0m | \u001b[0m42.77    \u001b[0m |\n",
      "| \u001b[95m7        \u001b[0m | \u001b[95m51.6     \u001b[0m | \u001b[95m1.258    \u001b[0m | \u001b[95m0.7595   \u001b[0m | \u001b[95m29.45    \u001b[0m | \u001b[95m6.586    \u001b[0m | \u001b[95m0.3973   \u001b[0m | \u001b[95m20.35    \u001b[0m |\n",
      "| \u001b[95m8        \u001b[0m | \u001b[95m53.54    \u001b[0m | \u001b[95m13.96    \u001b[0m | \u001b[95m0.5825   \u001b[0m | \u001b[95m83.65    \u001b[0m | \u001b[95m2.978    \u001b[0m | \u001b[95m0.422    \u001b[0m | \u001b[95m30.61    \u001b[0m |\n",
      "| \u001b[0m9        \u001b[0m | \u001b[0m42.81    \u001b[0m | \u001b[0m14.83    \u001b[0m | \u001b[0m0.7992   \u001b[0m | \u001b[0m23.19    \u001b[0m | \u001b[0m7.773    \u001b[0m | \u001b[0m0.183    \u001b[0m | \u001b[0m43.22    \u001b[0m |\n",
      "| \u001b[0m10       \u001b[0m | \u001b[0m51.3     \u001b[0m | \u001b[0m4.062    \u001b[0m | \u001b[0m0.7497   \u001b[0m | \u001b[0m16.12    \u001b[0m | \u001b[0m7.805    \u001b[0m | \u001b[0m0.4442   \u001b[0m | \u001b[0m96.33    \u001b[0m |\n",
      "| \u001b[0m11       \u001b[0m | \u001b[0m50.52    \u001b[0m | \u001b[0m10.16    \u001b[0m | \u001b[0m0.8013   \u001b[0m | \u001b[0m28.42    \u001b[0m | \u001b[0m3.619    \u001b[0m | \u001b[0m0.4617   \u001b[0m | \u001b[0m74.85    \u001b[0m |\n",
      "| \u001b[0m12       \u001b[0m | \u001b[0m38.21    \u001b[0m | \u001b[0m10.75    \u001b[0m | \u001b[0m0.4449   \u001b[0m | \u001b[0m20.06    \u001b[0m | \u001b[0m9.851    \u001b[0m | \u001b[0m0.1069   \u001b[0m | \u001b[0m83.24    \u001b[0m |\n",
      "| \u001b[95m13       \u001b[0m | \u001b[95m56.14    \u001b[0m | \u001b[95m16.8     \u001b[0m | \u001b[95m0.1753   \u001b[0m | \u001b[95m56.89    \u001b[0m | \u001b[95m5.023    \u001b[0m | \u001b[95m0.4605   \u001b[0m | \u001b[95m49.45    \u001b[0m |\n",
      "| \u001b[0m14       \u001b[0m | \u001b[0m39.59    \u001b[0m | \u001b[0m8.803    \u001b[0m | \u001b[0m0.8771   \u001b[0m | \u001b[0m40.58    \u001b[0m | \u001b[0m3.057    \u001b[0m | \u001b[0m0.1292   \u001b[0m | \u001b[0m76.69    \u001b[0m |\n",
      "| \u001b[0m15       \u001b[0m | \u001b[0m38.58    \u001b[0m | \u001b[0m12.27    \u001b[0m | \u001b[0m0.1209   \u001b[0m | \u001b[0m99.71    \u001b[0m | \u001b[0m1.27     \u001b[0m | \u001b[0m0.05496  \u001b[0m | \u001b[0m77.48    \u001b[0m |\n",
      "| \u001b[0m16       \u001b[0m | \u001b[0m42.81    \u001b[0m | \u001b[0m8.873    \u001b[0m | \u001b[0m0.8988   \u001b[0m | \u001b[0m10.63    \u001b[0m | \u001b[0m8.444    \u001b[0m | \u001b[0m0.1776   \u001b[0m | \u001b[0m31.64    \u001b[0m |\n",
      "| \u001b[0m17       \u001b[0m | \u001b[0m42.27    \u001b[0m | \u001b[0m14.13    \u001b[0m | \u001b[0m0.9301   \u001b[0m | \u001b[0m40.06    \u001b[0m | \u001b[0m9.571    \u001b[0m | \u001b[0m0.1711   \u001b[0m | \u001b[0m70.4     \u001b[0m |\n",
      "| \u001b[0m18       \u001b[0m | \u001b[0m51.13    \u001b[0m | \u001b[0m18.17    \u001b[0m | \u001b[0m0.1109   \u001b[0m | \u001b[0m82.45    \u001b[0m | \u001b[0m4.669    \u001b[0m | \u001b[0m0.2332   \u001b[0m | \u001b[0m29.87    \u001b[0m |\n",
      "| \u001b[0m19       \u001b[0m | \u001b[0m53.51    \u001b[0m | \u001b[0m5.795    \u001b[0m | \u001b[0m0.4044   \u001b[0m | \u001b[0m42.79    \u001b[0m | \u001b[0m7.416    \u001b[0m | \u001b[0m0.3426   \u001b[0m | \u001b[0m23.1     \u001b[0m |\n",
      "| \u001b[95m20       \u001b[0m | \u001b[95m56.17    \u001b[0m | \u001b[95m2.557    \u001b[0m | \u001b[95m0.2583   \u001b[0m | \u001b[95m12.25    \u001b[0m | \u001b[95m3.39     \u001b[0m | \u001b[95m0.3648   \u001b[0m | \u001b[95m49.29    \u001b[0m |\n",
      "| \u001b[95m21       \u001b[0m | \u001b[95m56.95    \u001b[0m | \u001b[95m1.0      \u001b[0m | \u001b[95m0.1082   \u001b[0m | \u001b[95m13.19    \u001b[0m | \u001b[95m4.88     \u001b[0m | \u001b[95m0.4936   \u001b[0m | \u001b[95m54.31    \u001b[0m |\n",
      "| \u001b[0m22       \u001b[0m | \u001b[0m50.36    \u001b[0m | \u001b[0m1.0      \u001b[0m | \u001b[0m1.0      \u001b[0m | \u001b[0m18.24    \u001b[0m | \u001b[0m1.0      \u001b[0m | \u001b[0m0.0      \u001b[0m | \u001b[0m52.43    \u001b[0m |\n",
      "| \u001b[95m23       \u001b[0m | \u001b[95m59.62    \u001b[0m | \u001b[95m6.912    \u001b[0m | \u001b[95m0.1      \u001b[0m | \u001b[95m10.0     \u001b[0m | \u001b[95m6.472    \u001b[0m | \u001b[95m0.5      \u001b[0m | \u001b[95m53.93    \u001b[0m |\n",
      "| \u001b[0m24       \u001b[0m | \u001b[0m52.35    \u001b[0m | \u001b[0m6.869    \u001b[0m | \u001b[0m0.9333   \u001b[0m | \u001b[0m10.36    \u001b[0m | \u001b[0m1.599    \u001b[0m | \u001b[0m0.5      \u001b[0m | \u001b[0m60.49    \u001b[0m |\n",
      "| \u001b[0m25       \u001b[0m | \u001b[0m56.24    \u001b[0m | \u001b[0m8.951    \u001b[0m | \u001b[0m0.2988   \u001b[0m | \u001b[0m15.52    \u001b[0m | \u001b[0m9.801    \u001b[0m | \u001b[0m0.4549   \u001b[0m | \u001b[0m56.15    \u001b[0m |\n",
      "=================================================================================================\n"
     ]
    }
   ],
   "source": [
    "dt_bo = BayesianOptimization(f=lambda n_estimators, max_depth, min_samples_leaf, min_weight_fraction_leaf,\n",
    "                                    max_features, max_leaf_nodes: bo_params_generic(model, {\n",
    "                                        'n_estimators': int(round(n_estimators)),\n",
    "                                        'max_depth': int(round(max_depth)),\n",
    "                                        'min_samples_leaf': round(min_samples_leaf),\n",
    "                                        'min_weight_fraction_leaf': min_weight_fraction_leaf,\n",
    "                                        'max_features': max_features,\n",
    "                                        'max_leaf_nodes': int(round(max_leaf_nodes))\n",
    "                                    }, X_train, y_train),\n",
    "                             pbounds=params_ranges)\n",
    "results = dt_bo.maximize(n_iter=5, init_points=20)"
   ]
  },
  {
   "cell_type": "code",
   "execution_count": 5,
   "metadata": {},
   "outputs": [],
   "source": [
    "all_models = {}"
   ]
  },
  {
   "attachments": {},
   "cell_type": "markdown",
   "metadata": {},
   "source": [
    "# Random Forest"
   ]
  },
  {
   "attachments": {},
   "cell_type": "markdown",
   "metadata": {},
   "source": [
    "**Feature selection**"
   ]
  },
  {
   "cell_type": "code",
   "execution_count": 15,
   "metadata": {},
   "outputs": [
    {
     "name": "stdout",
     "output_type": "stream",
     "text": [
      "Feature Importances:\n",
      "Feature 2: 0.5484287743797435\n",
      "Feature 3: 0.17394567943882905\n",
      "Feature 4: 0.13497297114048568\n",
      "Feature 1: 0.08208743352080566\n",
      "Feature 0: 0.06056514152013607\n"
     ]
    }
   ],
   "source": [
    "from sklearn.ensemble import RandomForestRegressor\n",
    "\n",
    "# Assuming you have X_train and y_train defined for training data\n",
    "\n",
    "# Initialize the Random Forest model\n",
    "rf_model = RandomForestRegressor()\n",
    "\n",
    "# Fit the Random Forest model to the training data\n",
    "rf_model.fit(X_train, y_train)\n",
    "\n",
    "# Get feature importances\n",
    "importances = rf_model.feature_importances_\n",
    "\n",
    "# Create a list of feature names or indices paired with their importances\n",
    "feature_importances = list(zip(range(X_train.shape[1]), importances))\n",
    "\n",
    "# Sort the features based on importance in descending order\n",
    "feature_importances.sort(key=lambda x: x[1], reverse=True)\n",
    "\n",
    "# Print the ranked feature importances\n",
    "print(\"Feature Importances:\")\n",
    "for feature_index, importance in feature_importances:\n",
    "    print(f\"Feature {feature_index}: {importance}\")\n"
   ]
  },
  {
   "attachments": {},
   "cell_type": "markdown",
   "metadata": {},
   "source": [
    "**Hyperparameter optimalisatie**"
   ]
  },
  {
   "cell_type": "code",
   "execution_count": 13,
   "metadata": {},
   "outputs": [
    {
     "name": "stdout",
     "output_type": "stream",
     "text": [
      "|   iter    |  target   | max_depth | max_fe... | max_le... | min_sa... | min_we... | n_esti... |\n",
      "-------------------------------------------------------------------------------------------------\n",
      "| \u001b[0m1        \u001b[0m | \u001b[0m56.57    \u001b[0m | \u001b[0m6.18     \u001b[0m | \u001b[0m0.1356   \u001b[0m | \u001b[0m96.53    \u001b[0m | \u001b[0m1.01     \u001b[0m | \u001b[0m0.417    \u001b[0m | \u001b[0m20.46    \u001b[0m |\n",
      "| \u001b[0m2        \u001b[0m | \u001b[0m44.13    \u001b[0m | \u001b[0m7.106    \u001b[0m | \u001b[0m0.7864   \u001b[0m | \u001b[0m77.59    \u001b[0m | \u001b[0m7.03     \u001b[0m | \u001b[0m0.2144   \u001b[0m | \u001b[0m52.05    \u001b[0m |\n",
      "| \u001b[0m3        \u001b[0m | \u001b[0m49.95    \u001b[0m | \u001b[0m14.63    \u001b[0m | \u001b[0m0.7363   \u001b[0m | \u001b[0m33.25    \u001b[0m | \u001b[0m3.595    \u001b[0m | \u001b[0m0.3243   \u001b[0m | \u001b[0m10.47    \u001b[0m |\n",
      "| \u001b[0m4        \u001b[0m | \u001b[0m53.18    \u001b[0m | \u001b[0m11.58    \u001b[0m | \u001b[0m0.4948   \u001b[0m | \u001b[0m30.3     \u001b[0m | \u001b[0m1.18     \u001b[0m | \u001b[0m0.4085   \u001b[0m | \u001b[0m45.14    \u001b[0m |\n",
      "| \u001b[0m5        \u001b[0m | \u001b[0m56.2     \u001b[0m | \u001b[0m17.34    \u001b[0m | \u001b[0m0.2173   \u001b[0m | \u001b[0m58.35    \u001b[0m | \u001b[0m9.396    \u001b[0m | \u001b[0m0.4473   \u001b[0m | \u001b[0m95.6     \u001b[0m |\n",
      "| \u001b[0m6        \u001b[0m | \u001b[0m50.6     \u001b[0m | \u001b[0m15.72    \u001b[0m | \u001b[0m0.9867   \u001b[0m | \u001b[0m71.45    \u001b[0m | \u001b[0m3.314    \u001b[0m | \u001b[0m0.4187   \u001b[0m | \u001b[0m96.27    \u001b[0m |\n",
      "| \u001b[0m7        \u001b[0m | \u001b[0m45.6     \u001b[0m | \u001b[0m17.99    \u001b[0m | \u001b[0m0.875    \u001b[0m | \u001b[0m73.23    \u001b[0m | \u001b[0m4.524    \u001b[0m | \u001b[0m0.237    \u001b[0m | \u001b[0m68.85    \u001b[0m |\n",
      "| \u001b[0m8        \u001b[0m | \u001b[0m40.02    \u001b[0m | \u001b[0m19.35    \u001b[0m | \u001b[0m0.4018   \u001b[0m | \u001b[0m66.27    \u001b[0m | \u001b[0m2.867    \u001b[0m | \u001b[0m0.1252   \u001b[0m | \u001b[0m24.15    \u001b[0m |\n",
      "| \u001b[0m9        \u001b[0m | \u001b[0m49.05    \u001b[0m | \u001b[0m18.51    \u001b[0m | \u001b[0m0.3456   \u001b[0m | \u001b[0m56.26    \u001b[0m | \u001b[0m7.868    \u001b[0m | \u001b[0m0.1937   \u001b[0m | \u001b[0m22.05    \u001b[0m |\n",
      "| \u001b[95m10       \u001b[0m | \u001b[95m58.94    \u001b[0m | \u001b[95m18.36    \u001b[0m | \u001b[95m0.3194   \u001b[0m | \u001b[95m69.06    \u001b[0m | \u001b[95m8.165    \u001b[0m | \u001b[95m0.4993   \u001b[0m | \u001b[95m85.24    \u001b[0m |\n",
      "| \u001b[0m11       \u001b[0m | \u001b[0m51.37    \u001b[0m | \u001b[0m9.98     \u001b[0m | \u001b[0m0.9909   \u001b[0m | \u001b[0m86.58    \u001b[0m | \u001b[0m4.646    \u001b[0m | \u001b[0m0.4554   \u001b[0m | \u001b[0m12.5     \u001b[0m |\n",
      "| \u001b[0m12       \u001b[0m | \u001b[0m53.21    \u001b[0m | \u001b[0m9.994    \u001b[0m | \u001b[0m0.4444   \u001b[0m | \u001b[0m20.34    \u001b[0m | \u001b[0m8.066    \u001b[0m | \u001b[0m0.3446   \u001b[0m | \u001b[0m89.13    \u001b[0m |\n",
      "| \u001b[0m13       \u001b[0m | \u001b[0m47.24    \u001b[0m | \u001b[0m17.59    \u001b[0m | \u001b[0m0.7284   \u001b[0m | \u001b[0m38.16    \u001b[0m | \u001b[0m3.96     \u001b[0m | \u001b[0m0.2678   \u001b[0m | \u001b[0m90.63    \u001b[0m |\n",
      "| \u001b[0m14       \u001b[0m | \u001b[0m53.2     \u001b[0m | \u001b[0m8.296    \u001b[0m | \u001b[0m0.2365   \u001b[0m | \u001b[0m11.67    \u001b[0m | \u001b[0m5.092    \u001b[0m | \u001b[0m0.2969   \u001b[0m | \u001b[0m40.03    \u001b[0m |\n",
      "| \u001b[0m15       \u001b[0m | \u001b[0m56.6     \u001b[0m | \u001b[0m17.71    \u001b[0m | \u001b[0m0.3149   \u001b[0m | \u001b[0m16.84    \u001b[0m | \u001b[0m4.984    \u001b[0m | \u001b[0m0.4658   \u001b[0m | \u001b[0m59.19    \u001b[0m |\n",
      "| \u001b[0m16       \u001b[0m | \u001b[0m46.31    \u001b[0m | \u001b[0m5.045    \u001b[0m | \u001b[0m0.6752   \u001b[0m | \u001b[0m13.77    \u001b[0m | \u001b[0m3.755    \u001b[0m | \u001b[0m0.2489   \u001b[0m | \u001b[0m26.53    \u001b[0m |\n",
      "| \u001b[0m17       \u001b[0m | \u001b[0m53.9     \u001b[0m | \u001b[0m6.74     \u001b[0m | \u001b[0m0.7468   \u001b[0m | \u001b[0m54.0     \u001b[0m | \u001b[0m1.07     \u001b[0m | \u001b[0m0.4993   \u001b[0m | \u001b[0m21.64    \u001b[0m |\n",
      "| \u001b[0m18       \u001b[0m | \u001b[0m36.43    \u001b[0m | \u001b[0m3.366    \u001b[0m | \u001b[0m0.6095   \u001b[0m | \u001b[0m78.95    \u001b[0m | \u001b[0m9.462    \u001b[0m | \u001b[0m0.0179   \u001b[0m | \u001b[0m77.47    \u001b[0m |\n",
      "| \u001b[0m19       \u001b[0m | \u001b[0m50.24    \u001b[0m | \u001b[0m14.29    \u001b[0m | \u001b[0m0.9266   \u001b[0m | \u001b[0m52.83    \u001b[0m | \u001b[0m1.325    \u001b[0m | \u001b[0m0.3394   \u001b[0m | \u001b[0m61.63    \u001b[0m |\n",
      "| \u001b[0m20       \u001b[0m | \u001b[0m46.35    \u001b[0m | \u001b[0m18.44    \u001b[0m | \u001b[0m0.6974   \u001b[0m | \u001b[0m47.87    \u001b[0m | \u001b[0m1.569    \u001b[0m | \u001b[0m0.2537   \u001b[0m | \u001b[0m53.91    \u001b[0m |\n",
      "| \u001b[0m21       \u001b[0m | \u001b[0m46.91    \u001b[0m | \u001b[0m18.35    \u001b[0m | \u001b[0m0.1389   \u001b[0m | \u001b[0m64.68    \u001b[0m | \u001b[0m7.509    \u001b[0m | \u001b[0m0.154    \u001b[0m | \u001b[0m89.42    \u001b[0m |\n",
      "| \u001b[0m22       \u001b[0m | \u001b[0m55.7     \u001b[0m | \u001b[0m10.82    \u001b[0m | \u001b[0m0.2127   \u001b[0m | \u001b[0m31.82    \u001b[0m | \u001b[0m4.147    \u001b[0m | \u001b[0m0.3428   \u001b[0m | \u001b[0m94.67    \u001b[0m |\n",
      "| \u001b[0m23       \u001b[0m | \u001b[0m36.29    \u001b[0m | \u001b[0m17.66    \u001b[0m | \u001b[0m0.9785   \u001b[0m | \u001b[0m63.26    \u001b[0m | \u001b[0m8.239    \u001b[0m | \u001b[0m0.09206  \u001b[0m | \u001b[0m63.69    \u001b[0m |\n",
      "| \u001b[0m24       \u001b[0m | \u001b[0m50.75    \u001b[0m | \u001b[0m11.12    \u001b[0m | \u001b[0m0.825    \u001b[0m | \u001b[0m74.38    \u001b[0m | \u001b[0m1.199    \u001b[0m | \u001b[0m0.3967   \u001b[0m | \u001b[0m29.61    \u001b[0m |\n",
      "| \u001b[0m25       \u001b[0m | \u001b[0m37.27    \u001b[0m | \u001b[0m17.87    \u001b[0m | \u001b[0m0.7041   \u001b[0m | \u001b[0m69.92    \u001b[0m | \u001b[0m8.387    \u001b[0m | \u001b[0m0.1034   \u001b[0m | \u001b[0m85.75    \u001b[0m |\n",
      "=================================================================================================\n"
     ]
    },
    {
     "data": {
      "text/html": [
       "<style>#sk-container-id-3 {color: black;background-color: white;}#sk-container-id-3 pre{padding: 0;}#sk-container-id-3 div.sk-toggleable {background-color: white;}#sk-container-id-3 label.sk-toggleable__label {cursor: pointer;display: block;width: 100%;margin-bottom: 0;padding: 0.3em;box-sizing: border-box;text-align: center;}#sk-container-id-3 label.sk-toggleable__label-arrow:before {content: \"▸\";float: left;margin-right: 0.25em;color: #696969;}#sk-container-id-3 label.sk-toggleable__label-arrow:hover:before {color: black;}#sk-container-id-3 div.sk-estimator:hover label.sk-toggleable__label-arrow:before {color: black;}#sk-container-id-3 div.sk-toggleable__content {max-height: 0;max-width: 0;overflow: hidden;text-align: left;background-color: #f0f8ff;}#sk-container-id-3 div.sk-toggleable__content pre {margin: 0.2em;color: black;border-radius: 0.25em;background-color: #f0f8ff;}#sk-container-id-3 input.sk-toggleable__control:checked~div.sk-toggleable__content {max-height: 200px;max-width: 100%;overflow: auto;}#sk-container-id-3 input.sk-toggleable__control:checked~label.sk-toggleable__label-arrow:before {content: \"▾\";}#sk-container-id-3 div.sk-estimator input.sk-toggleable__control:checked~label.sk-toggleable__label {background-color: #d4ebff;}#sk-container-id-3 div.sk-label input.sk-toggleable__control:checked~label.sk-toggleable__label {background-color: #d4ebff;}#sk-container-id-3 input.sk-hidden--visually {border: 0;clip: rect(1px 1px 1px 1px);clip: rect(1px, 1px, 1px, 1px);height: 1px;margin: -1px;overflow: hidden;padding: 0;position: absolute;width: 1px;}#sk-container-id-3 div.sk-estimator {font-family: monospace;background-color: #f0f8ff;border: 1px dotted black;border-radius: 0.25em;box-sizing: border-box;margin-bottom: 0.5em;}#sk-container-id-3 div.sk-estimator:hover {background-color: #d4ebff;}#sk-container-id-3 div.sk-parallel-item::after {content: \"\";width: 100%;border-bottom: 1px solid gray;flex-grow: 1;}#sk-container-id-3 div.sk-label:hover label.sk-toggleable__label {background-color: #d4ebff;}#sk-container-id-3 div.sk-serial::before {content: \"\";position: absolute;border-left: 1px solid gray;box-sizing: border-box;top: 0;bottom: 0;left: 50%;z-index: 0;}#sk-container-id-3 div.sk-serial {display: flex;flex-direction: column;align-items: center;background-color: white;padding-right: 0.2em;padding-left: 0.2em;position: relative;}#sk-container-id-3 div.sk-item {position: relative;z-index: 1;}#sk-container-id-3 div.sk-parallel {display: flex;align-items: stretch;justify-content: center;background-color: white;position: relative;}#sk-container-id-3 div.sk-item::before, #sk-container-id-3 div.sk-parallel-item::before {content: \"\";position: absolute;border-left: 1px solid gray;box-sizing: border-box;top: 0;bottom: 0;left: 50%;z-index: -1;}#sk-container-id-3 div.sk-parallel-item {display: flex;flex-direction: column;z-index: 1;position: relative;background-color: white;}#sk-container-id-3 div.sk-parallel-item:first-child::after {align-self: flex-end;width: 50%;}#sk-container-id-3 div.sk-parallel-item:last-child::after {align-self: flex-start;width: 50%;}#sk-container-id-3 div.sk-parallel-item:only-child::after {width: 0;}#sk-container-id-3 div.sk-dashed-wrapped {border: 1px dashed gray;margin: 0 0.4em 0.5em 0.4em;box-sizing: border-box;padding-bottom: 0.4em;background-color: white;}#sk-container-id-3 div.sk-label label {font-family: monospace;font-weight: bold;display: inline-block;line-height: 1.2em;}#sk-container-id-3 div.sk-label-container {text-align: center;}#sk-container-id-3 div.sk-container {/* jupyter's `normalize.less` sets `[hidden] { display: none; }` but bootstrap.min.css set `[hidden] { display: none !important; }` so we also need the `!important` here to be able to override the default hidden behavior on the sphinx rendered scikit-learn.org. See: https://github.com/scikit-learn/scikit-learn/issues/21755 */display: inline-block !important;position: relative;}#sk-container-id-3 div.sk-text-repr-fallback {display: none;}</style><div id=\"sk-container-id-3\" class=\"sk-top-container\"><div class=\"sk-text-repr-fallback\"><pre>RandomForestRegressor(max_depth=18, max_features=0.31942131115922046,\n",
       "                      max_leaf_nodes=69, min_samples_leaf=8,\n",
       "                      min_weight_fraction_leaf=0.49934071613135156,\n",
       "                      n_estimators=85)</pre><b>In a Jupyter environment, please rerun this cell to show the HTML representation or trust the notebook. <br />On GitHub, the HTML representation is unable to render, please try loading this page with nbviewer.org.</b></div><div class=\"sk-container\" hidden><div class=\"sk-item\"><div class=\"sk-estimator sk-toggleable\"><input class=\"sk-toggleable__control sk-hidden--visually\" id=\"sk-estimator-id-3\" type=\"checkbox\" checked><label for=\"sk-estimator-id-3\" class=\"sk-toggleable__label sk-toggleable__label-arrow\">RandomForestRegressor</label><div class=\"sk-toggleable__content\"><pre>RandomForestRegressor(max_depth=18, max_features=0.31942131115922046,\n",
       "                      max_leaf_nodes=69, min_samples_leaf=8,\n",
       "                      min_weight_fraction_leaf=0.49934071613135156,\n",
       "                      n_estimators=85)</pre></div></div></div></div></div>"
      ],
      "text/plain": [
       "RandomForestRegressor(max_depth=18, max_features=0.31942131115922046,\n",
       "                      max_leaf_nodes=69, min_samples_leaf=8,\n",
       "                      min_weight_fraction_leaf=0.49934071613135156,\n",
       "                      n_estimators=85)"
      ]
     },
     "execution_count": 13,
     "metadata": {},
     "output_type": "execute_result"
    }
   ],
   "source": [
    "import subprocess\n",
    "import sys\n",
    "\n",
    "def install(package):\n",
    "    subprocess.check_call([sys.executable, \"-m\", \"pip\", \"install\", package])\n",
    "\n",
    "install(\"bayesian-optimization\")\n",
    "from sklearn.ensemble import RandomForestRegressor\n",
    "from bayes_opt import BayesianOptimization\n",
    "\n",
    "params_ranges = {\n",
    "    'n_estimators': (10, 100),\n",
    "    'max_depth': (1, 20),\n",
    "    'min_samples_leaf': (1, 10),\n",
    "    'min_weight_fraction_leaf': (0.0, 0.5),\n",
    "    'max_features': (0.1, 1),\n",
    "    'max_leaf_nodes': (10, 100)\n",
    "}\n",
    "\n",
    "# Example usage with Random Forest\n",
    "model = RandomForestRegressor\n",
    "dt_bo = BayesianOptimization(f=lambda n_estimators, max_depth, min_samples_leaf, min_weight_fraction_leaf,\n",
    "                                    max_features, max_leaf_nodes: bo_params_generic(model, {\n",
    "                                        'n_estimators': int(round(n_estimators)),\n",
    "                                        'max_depth': int(round(max_depth)),\n",
    "                                        'min_samples_leaf': round(min_samples_leaf),\n",
    "                                        'min_weight_fraction_leaf': min_weight_fraction_leaf,\n",
    "                                        'max_features': max_features,\n",
    "                                        'max_leaf_nodes': int(round(max_leaf_nodes))\n",
    "                                    }, X_train, y_train),\n",
    "                             pbounds=params_ranges)\n",
    "results = dt_bo.maximize(n_iter=5, init_points=20)\n",
    "params = dt_bo.max['params']\n",
    "\n",
    "# Creating a model with the best hyperparameters\n",
    "best_model = model(\n",
    "    n_estimators=int(round(params['n_estimators'])),\n",
    "    max_depth=int(round(params['max_depth'])),\n",
    "    min_samples_leaf=round(params['min_samples_leaf']),\n",
    "    min_weight_fraction_leaf=params['min_weight_fraction_leaf'],\n",
    "    max_features=params['max_features'],\n",
    "    max_leaf_nodes=int(round(params['max_leaf_nodes']))\n",
    ")\n",
    "\n",
    "# Fit the model\n",
    "best_model.fit(X_train, y_train)"
   ]
  },
  {
   "cell_type": "code",
   "execution_count": 7,
   "metadata": {},
   "outputs": [],
   "source": [
    "# Append model to list\n",
    "all_models['Random forest'] = best_model"
   ]
  }
 ],
 "metadata": {
  "kernelspec": {
   "display_name": "Python 3",
   "language": "python",
   "name": "python3"
  },
  "language_info": {
   "codemirror_mode": {
    "name": "ipython",
    "version": 3
   },
   "file_extension": ".py",
   "mimetype": "text/x-python",
   "name": "python",
   "nbconvert_exporter": "python",
   "pygments_lexer": "ipython3",
   "version": "3.10.5"
  },
  "orig_nbformat": 4
 },
 "nbformat": 4,
 "nbformat_minor": 2
}
