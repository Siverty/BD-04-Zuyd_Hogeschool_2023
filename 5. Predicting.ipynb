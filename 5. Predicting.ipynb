{
 "cells": [
  {
   "attachments": {},
   "cell_type": "markdown",
   "metadata": {},
   "source": [
    "# General imports"
   ]
  },
  {
   "attachments": {},
   "cell_type": "markdown",
   "metadata": {},
   "source": [
    "**Importing all libraries**"
   ]
  },
  {
   "cell_type": "code",
   "execution_count": 37,
   "metadata": {},
   "outputs": [],
   "source": [
    "import pandas as pd\n",
    "import pickle\n",
    "import ast"
   ]
  },
  {
   "attachments": {},
   "cell_type": "markdown",
   "metadata": {},
   "source": [
    "Load dataset"
   ]
  },
  {
   "cell_type": "code",
   "execution_count": 38,
   "metadata": {},
   "outputs": [],
   "source": [
    "# Read Data\n",
    "df = pd.read_csv(\"cbsdata_prep.csv\")"
   ]
  },
  {
   "attachments": {},
   "cell_type": "markdown",
   "metadata": {},
   "source": [
    "Load models"
   ]
  },
  {
   "cell_type": "code",
   "execution_count": 39,
   "metadata": {},
   "outputs": [],
   "source": [
    "# Load the pickle models\n",
    "with open('4. Compare Models/Saved Models/6 MWT.pkl', 'rb') as file:\n",
    "    model_6MWT = pickle.load(file)\n",
    "\n",
    "with open('4. Compare Models/Saved Models/BMI.pkl', 'rb') as file:\n",
    "    model_BMI = pickle.load(file)\n",
    "\n",
    "with open('4. Compare Models/Saved Models/Conditie.pkl', 'rb') as file:\n",
    "    model_Conditie = pickle.load(file)\n",
    "\n",
    "with open('4. Compare Models/Saved Models/gewicht.pkl', 'rb') as file:\n",
    "    model_gewicht = pickle.load(file)\n",
    "\n",
    "with open('4. Compare Models/Saved Models/Knijpkracht.pkl', 'rb') as file:\n",
    "    model_Knijpkracht = pickle.load(file)\n",
    "\n",
    "with open('4. Compare Models/Saved Models/Lenigheid.pkl', 'rb') as file:\n",
    "    model_Lenigheid = pickle.load(file)\n",
    "\n",
    "with open('4. Compare Models/Saved Models/TUG.pkl', 'rb') as file:\n",
    "    model_TUG = pickle.load(file)"
   ]
  },
  {
   "attachments": {},
   "cell_type": "markdown",
   "metadata": {},
   "source": [
    "Load best featurs"
   ]
  },
  {
   "cell_type": "code",
   "execution_count": 40,
   "metadata": {},
   "outputs": [],
   "source": [
    "# Load the best features\n",
    "with open('4. Compare Models/Saved Models/best_features_6 MWT.txt', 'r') as file:\n",
    "    model_6MWT_best_features = ast.literal_eval(file.readline())\n",
    "\n",
    "with open('4. Compare Models/Saved Models/best_features_BMI.txt', 'r') as file:\n",
    "    model_BMI_best_features = ast.literal_eval(file.readline())\n",
    "\n",
    "with open('4. Compare Models/Saved Models/best_features_Conditie.txt', 'r') as file:\n",
    "    model_Conditie_best_features = ast.literal_eval(file.readline())\n",
    "\n",
    "with open('4. Compare Models/Saved Models/best_features_gewicht.txt', 'r') as file:\n",
    "    model_gewicht_best_features = ast.literal_eval(file.readline())\n",
    "\n",
    "with open('4. Compare Models/Saved Models/best_features_Knijpkracht.txt', 'r') as file:\n",
    "    model_Knijpkracht_best_features = ast.literal_eval(file.readline())\n",
    "\n",
    "with open('4. Compare Models/Saved Models/best_features_Lenigheid.txt', 'r') as file:\n",
    "    model_Lenigheid_best_features = ast.literal_eval(file.readline())\n",
    "\n",
    "with open('4. Compare Models/Saved Models/best_features_TUG.txt', 'r') as file:\n",
    "    model_TUG_best_features = ast.literal_eval(file.readline())"
   ]
  },
  {
   "attachments": {},
   "cell_type": "markdown",
   "metadata": {},
   "source": [
    "Make predictions for every gemeente"
   ]
  },
  {
   "cell_type": "code",
   "execution_count": 41,
   "metadata": {},
   "outputs": [],
   "source": [
    "# Make predictions\n",
    "df['verschil_Gewicht'] = model_gewicht.predict(df[model_gewicht_best_features])\n",
    "df['verschil_6 MWT'] = model_6MWT.predict(df[model_6MWT_best_features])\n",
    "df['verschil_BMI'] = model_BMI.predict(df[model_BMI_best_features])\n",
    "df['verschil_Conditie'] = model_Conditie.predict(df[model_Conditie_best_features])\n",
    "df['verschil_Knijpkracht'] = model_Knijpkracht.predict(df[model_Knijpkracht_best_features])\n",
    "df['verschil_Lenigheid'] = model_Lenigheid.predict(df[model_Lenigheid_best_features])\n",
    "df['verschil_TUG'] = model_TUG.predict(df[model_TUG_best_features])\n"
   ]
  },
  {
   "attachments": {},
   "cell_type": "markdown",
   "metadata": {},
   "source": [
    "Save predictions"
   ]
  },
  {
   "cell_type": "code",
   "execution_count": 42,
   "metadata": {},
   "outputs": [],
   "source": [
    "# Save the updated dataset with predictions\n",
    "df.to_csv('cbsdata_predictions.csv', index=False)"
   ]
  }
 ],
 "metadata": {
  "kernelspec": {
   "display_name": "Python 3",
   "language": "python",
   "name": "python3"
  },
  "language_info": {
   "codemirror_mode": {
    "name": "ipython",
    "version": 3
   },
   "file_extension": ".py",
   "mimetype": "text/x-python",
   "name": "python",
   "nbconvert_exporter": "python",
   "pygments_lexer": "ipython3",
   "version": "3.9.5"
  },
  "orig_nbformat": 4
 },
 "nbformat": 4,
 "nbformat_minor": 2
}
