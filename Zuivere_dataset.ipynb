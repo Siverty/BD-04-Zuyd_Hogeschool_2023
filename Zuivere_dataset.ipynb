{
 "cells": [
  {
   "attachments": {},
   "cell_type": "markdown",
   "metadata": {
    "datalore": {
     "hide_input_from_viewers": true,
     "hide_output_from_viewers": true,
     "node_id": "dmpjaRdPYMZFEnlUZXxxsm",
     "type": "MD"
    }
   },
   "source": [
    "General imports made to make the code function"
   ]
  },
  {
   "cell_type": "code",
   "execution_count": null,
   "metadata": {},
   "outputs": [],
   "source": [
    "#test"
   ]
  },
  {
   "cell_type": "code",
   "execution_count": null,
   "metadata": {
    "datalore": {
     "hide_input_from_viewers": true,
     "hide_output_from_viewers": true,
     "node_id": "yFGtmkwzYqgjmIqsJutbLx",
     "type": "CODE"
    }
   },
   "outputs": [],
   "source": [
    "# Used imports\n",
    "import pandas as pd\n",
    "import numpy as np\n",
    "import matplotlib.pyplot as plt\n",
    "import seaborn as sns"
   ]
  },
  {
   "attachments": {},
   "cell_type": "markdown",
   "metadata": {
    "datalore": {
     "hide_input_from_viewers": true,
     "hide_output_from_viewers": true,
     "node_id": "yxXWFXTorh4pbspLfFnMIq",
     "type": "MD"
    }
   },
   "source": [
    "# **Preparing dataframes**\n",
    "Prepare every data category induvidually"
   ]
  },
  {
   "attachments": {},
   "cell_type": "markdown",
   "metadata": {
    "datalore": {
     "hide_input_from_viewers": true,
     "hide_output_from_viewers": true,
     "node_id": "ZhLSqv8RBwbbyalo97bAk1",
     "type": "MD"
    }
   },
   "source": [
    "Reading all the csv's into dataframes"
   ]
  },
  {
   "cell_type": "code",
   "execution_count": null,
   "metadata": {
    "datalore": {
     "hide_input_from_viewers": true,
     "hide_output_from_viewers": true,
     "node_id": "Ql3zIA5QR6dNIzcrCLK74z",
     "type": "CODE"
    }
   },
   "outputs": [],
   "source": [
    "df_deelnemeners = pd.read_csv('Data - Zuivere dataset/HealthyLIFE_datadump_03-2023_1.csv', sep=';')\n",
    "df_fitheids_scan = pd.read_csv('Data - Zuivere dataset/HealthyLIFE_datadump_03-2023_2.csv', sep=';')\n",
    "df_cbs_afstanden = pd.read_csv('Data - Zuivere dataset/Nabijheid_voorzieningen__regio_17052023_115259.csv', sep=';')\n",
    "df_kvk_inkomen = pd.read_csv('Data - Zuivere dataset/kvk2019-wb2022-inkomen-1.csv', sep=';')\n",
    "df_afkomst_per_gemeente = pd.read_csv('Data - Zuivere dataset/Afkomst_Per_Gemeente.csv',sep=\";\" )\n",
    "df_uitkeringen = pd.read_csv('Data - Zuivere dataset/Uitkeringen.csv', sep=';')\n",
    "df_welzijn = pd.read_csv('Data - Zuivere dataset/table_tabel-34911035-1268-41a0-961d-229504cfd3f2.csv')\n",
    "df_gezondheid = pd.read_csv('Data - Zuivere dataset/Gezondheidsmonitor__bevolking_18_jaar_of_ouder__regio__2020_17052023_132409.csv', sep=';')"
   ]
  },
  {
   "attachments": {},
   "cell_type": "markdown",
   "metadata": {
    "datalore": {
     "hide_input_from_viewers": true,
     "hide_output_from_viewers": true,
     "node_id": "c8vltKBaGaZxZNKXrMIPGH",
     "type": "MD"
    }
   },
   "source": [
    "**Verwijderen onbruikbare data**"
   ]
  },
  {
   "attachments": {},
   "cell_type": "markdown",
   "metadata": {
    "datalore": {
     "hide_input_from_viewers": true,
     "hide_output_from_viewers": true,
     "node_id": "BZpNWK0g7PYPVvw1uhfPP0",
     "type": "MD"
    }
   },
   "source": [
    "Bewerken van de df_deelnemers dataset uit de aangeleverde set data van Roel"
   ]
  },
  {
   "cell_type": "code",
   "execution_count": null,
   "metadata": {
    "datalore": {
     "hide_input_from_viewers": true,
     "hide_output_from_viewers": true,
     "node_id": "716CddWfHKwMknWDuM7mqf",
     "type": "CODE"
    }
   },
   "outputs": [],
   "source": [
    "df_deelnemeners.info()"
   ]
  },
  {
   "cell_type": "code",
   "execution_count": null,
   "metadata": {
    "datalore": {
     "hide_input_from_viewers": true,
     "hide_output_from_viewers": true,
     "node_id": "UpmR4tB69DDCewMJlqZxyf",
     "type": "CODE"
    }
   },
   "outputs": [],
   "source": [
    "# Rename columns\n",
    "df_deelnemeners.rename(columns={'Id': 'DeelnemerID'}, inplace=True)\n",
    "\n",
    "# Adding columns\n",
    "df_deelnemeners['Gemeente'] = df_deelnemeners['Woonplaats']\n",
    "\n",
    "# Replace values\n",
    "df_deelnemeners['Gemeente'] = df_deelnemeners['Gemeente'].replace(['Born', 'Geleen', 'Sittard'], 'Sittard-Geleen')\n",
    "df_deelnemeners['Gemeente'] = df_deelnemeners['Gemeente'].replace(['Schinnen'], 'Beekdaelen')\n",
    "\n",
    "# Dropping row with specific testing value\n",
    "df_deelnemeners.drop(df_deelnemeners[df_deelnemeners['Gemeente'] == 'Test'].index, inplace = True)\n",
    "\n",
    "# Dropping columns\n",
    "df_deelnemeners.drop(columns=['Woonplaats', 'Postcode'], inplace = True)\n",
    "\n",
    "# Dit is een beetje experimenteel maar hier drop ik gewoon waardeloze data die we niet nodig hebben -groetjes Justin XOXOXO\n",
    "df_deelnemeners.drop(columns={'Beweegcoach1', 'Leefstijlcoach1'}, inplace= True)\n",
    "# Ook doe ik even hier de deelnemerID naar int omzetten omdat er geen halve deelnemen kan zijn... denk ik\n",
    "df_deelnemeners['DeelnemerID'] = df_deelnemeners['DeelnemerID'].astype(int)\n",
    "\n",
    "# Display the modified DataFrame\n",
    "df_deelnemeners"
   ]
  },
  {
   "attachments": {},
   "cell_type": "markdown",
   "metadata": {
    "datalore": {
     "hide_input_from_viewers": true,
     "hide_output_from_viewers": true,
     "node_id": "HOYiFUEv0g8ihxZZdbjyjY",
     "type": "MD"
    }
   },
   "source": [
    "Bewerken van de df_fitheids_scan dataset"
   ]
  },
  {
   "cell_type": "code",
   "execution_count": null,
   "metadata": {
    "datalore": {
     "hide_input_from_viewers": true,
     "hide_output_from_viewers": true,
     "node_id": "iZg4BtaqoYCVANGZeBn8Pj",
     "type": "CODE"
    }
   },
   "outputs": [],
   "source": [
    "df_fitheids_scan.info()"
   ]
  },
  {
   "cell_type": "code",
   "execution_count": null,
   "metadata": {
    "datalore": {
     "hide_input_from_viewers": true,
     "hide_output_from_viewers": true,
     "node_id": "DEHKroI24ZlFmWccKmTcvQ",
     "type": "CODE"
    }
   },
   "outputs": [],
   "source": [
    "# Convert 'DeelnemerID' column to int\n",
    "df_fitheids_scan['DeelnemerID'] = df_fitheids_scan['DeelnemerID'].astype(pd.Int64Dtype())\n",
    "\n",
    "# Replace commas with periods and convert columns to float\n",
    "columns_to_convert = ['Lengte', 'Gewicht', '6 MWT', 'TUG', 'BMI', 'Conditie', 'Lenigheid', 'Knijpkracht']\n",
    "df_fitheids_scan[columns_to_convert] = df_fitheids_scan[\n",
    "    columns_to_convert].astype(str).apply(lambda x: x.str.replace(',', '.')).astype(float)\n",
    "\n",
    "df_fitheids_scan['Datum'] = pd.to_datetime(df_fitheids_scan['Datum'])\n",
    "\n",
    "# Display the modified DataFrame\n",
    "df_fitheids_scan"
   ]
  },
  {
   "attachments": {},
   "cell_type": "markdown",
   "metadata": {
    "datalore": {
     "hide_input_from_viewers": true,
     "hide_output_from_viewers": true,
     "node_id": "kY7hdK301YikUJV0EH5i04",
     "type": "MD"
    }
   },
   "source": [
    "Bewerken van de df_cbs_afstanden dataset"
   ]
  },
  {
   "cell_type": "code",
   "execution_count": null,
   "metadata": {
    "datalore": {
     "hide_input_from_viewers": true,
     "hide_output_from_viewers": true,
     "node_id": "HQ5coZl0fxH16rcp0ldwJ9",
     "type": "CODE"
    }
   },
   "outputs": [],
   "source": [
    "df_cbs_afstanden.info()"
   ]
  },
  {
   "cell_type": "code",
   "execution_count": null,
   "metadata": {
    "datalore": {
     "hide_input_from_viewers": true,
     "hide_output_from_viewers": true,
     "node_id": "cCpqMqlKZexHWgeB6lQjao",
     "type": "CODE"
    }
   },
   "outputs": [],
   "source": [
    "# rename columns for merging\n",
    "df_cbs_afstanden.rename(columns={\"Regio's\": 'Gemeente'}, inplace=True)\n",
    "\n",
    "# Display the modified DataFrame\n",
    "df_cbs_afstanden"
   ]
  },
  {
   "attachments": {},
   "cell_type": "markdown",
   "metadata": {
    "datalore": {
     "hide_input_from_viewers": true,
     "hide_output_from_viewers": true,
     "node_id": "AraOzGH6xOBPoAMYHD25LN",
     "type": "MD"
    }
   },
   "source": [
    "Bewerken van de df_gezondheid dataset"
   ]
  },
  {
   "cell_type": "code",
   "execution_count": null,
   "metadata": {
    "datalore": {
     "hide_input_from_viewers": true,
     "hide_output_from_viewers": true,
     "node_id": "JgCCWjWvbFucbchBqWdyr6",
     "type": "CODE"
    }
   },
   "outputs": [],
   "source": [
    "df_gezondheid.info()"
   ]
  },
  {
   "cell_type": "code",
   "execution_count": null,
   "metadata": {
    "datalore": {
     "hide_input_from_viewers": true,
     "hide_output_from_viewers": true,
     "node_id": "iV4CAtWopckWi3ySubSQS2",
     "type": "CODE"
    }
   },
   "outputs": [],
   "source": [
    "df_gezondheid"
   ]
  },
  {
   "attachments": {},
   "cell_type": "markdown",
   "metadata": {
    "datalore": {
     "hide_input_from_viewers": true,
     "hide_output_from_viewers": true,
     "node_id": "fBoFklbe5A6LX7jOCXZLYV",
     "type": "MD"
    }
   },
   "source": [
    "Bewerken van de df_kvk_inkomen dataset"
   ]
  },
  {
   "cell_type": "code",
   "execution_count": null,
   "metadata": {
    "datalore": {
     "hide_input_from_viewers": true,
     "hide_output_from_viewers": true,
     "node_id": "irc5c2wa61LbRzW66M1UGi",
     "type": "CODE"
    }
   },
   "outputs": [],
   "source": [
    "df_kvk_inkomen.info()"
   ]
  },
  {
   "cell_type": "code",
   "execution_count": null,
   "metadata": {
    "datalore": {
     "hide_input_from_viewers": true,
     "hide_output_from_viewers": true,
     "node_id": "rreAk95ihIICQbJVgPXtyg",
     "type": "CODE"
    }
   },
   "outputs": [],
   "source": [
    "# drops all rows that contain nan values in the column 'Gemeentenaam', this is every row except the total values\n",
    "df_kvk_inkomen.dropna(subset=['Gemeentecode'], inplace=True)\n",
    "\n",
    "# drops all the useless columns that contain no valuable information\n",
    "df_kvk_inkomen.drop(columns={'Gemeentecode', 'Wijkcode', '40 procent huishoudens met laagste besteedbaar inkomen', \n",
    "                             '20 procent huishoudens met hoogste besteedbaar inkomen'}, inplace=True)\n",
    "\n",
    "\n",
    "# define the strings to keep and drop the rest from the dataframe\n",
    "stringstokeep = ['Beek', 'Beekdaelen', 'Breda', 'Echt-Susteren', 'Heerlen', 'Kerkrade', \n",
    "                 'Maasgouw', 'Roerdalen','Roermond', 'Sittard-Geleen', 'Stein', 'Weert']\n",
    "condition = df_kvk_inkomen['Regionaam'].str.contains('|'.join(stringstokeep))\n",
    "df_kvk_inkomen = df_kvk_inkomen[condition]\n",
    "\n",
    "# Replace commas with periods and convert object column to float\n",
    "df_kvk_inkomen['Gemiddeld persoonlijk inkomen per inwoner (x 1000 euro)'] = df_kvk_inkomen[\n",
    "    'Gemiddeld persoonlijk inkomen per inwoner (x 1000 euro)'].str.replace(',', '.').astype(float)\n",
    "\n",
    "# Reset the index\n",
    "df_kvk_inkomen.reset_index(inplace=True, drop=True)\n",
    "\n",
    "# renames the column 'Gemiddeld persoonlijk inkomen per inwoner (x 1000 euro)' to 'gemiddeld inkomen'\n",
    "df_kvk_inkomen.rename(columns={'Gemiddeld persoonlijk inkomen per inwoner (x 1000 euro)': 'gemiddeld inkomen'}, inplace=True)\n",
    "\n",
    "df_kvk_inkomen['gemiddeld inkomen'] = df_kvk_inkomen['gemiddeld inkomen'] * 1000\n",
    "\n",
    "# Rename columns\n",
    "df_kvk_inkomen.rename(columns={'Regionaam': 'Gemeente'}, inplace=True)\n",
    "\n",
    "# Display the modified DataFrame\n",
    "df_kvk_inkomen"
   ]
  },
  {
   "attachments": {},
   "cell_type": "markdown",
   "metadata": {
    "datalore": {
     "hide_input_from_viewers": true,
     "hide_output_from_viewers": true,
     "node_id": "499ATP44j5xpyA0cWuG28n",
     "type": "MD"
    }
   },
   "source": [
    "Bewerken van de df_Afkomst_Per_Gemeente dataset"
   ]
  },
  {
   "cell_type": "code",
   "execution_count": null,
   "metadata": {
    "datalore": {
     "hide_input_from_viewers": true,
     "hide_output_from_viewers": true,
     "node_id": "jRKKXbC0FJgh2iahig8O1N",
     "type": "CODE"
    }
   },
   "outputs": [],
   "source": [
    "df_afkomst_per_gemeente.info()"
   ]
  },
  {
   "cell_type": "code",
   "execution_count": null,
   "metadata": {
    "datalore": {
     "hide_input_from_viewers": true,
     "hide_output_from_viewers": true,
     "node_id": "MXj1YlnmNRWIc2ET8exkBE",
     "type": "CODE"
    }
   },
   "outputs": [],
   "source": [
    "# Rename columns\n",
    "df_afkomst_per_gemeente.rename(columns={'Gemeentenaam': 'Gemeente'}, inplace=True)\n",
    "\n",
    "# Display the modified DataFrame\n",
    "df_afkomst_per_gemeente"
   ]
  },
  {
   "attachments": {},
   "cell_type": "markdown",
   "metadata": {
    "datalore": {
     "hide_input_from_viewers": true,
     "hide_output_from_viewers": true,
     "node_id": "FmKjb0jmX0ZODBkVWIz804",
     "type": "MD"
    }
   },
   "source": [
    "Bewerken van de df_uitkeringen dataset"
   ]
  },
  {
   "cell_type": "code",
   "execution_count": null,
   "metadata": {
    "datalore": {
     "hide_input_from_viewers": true,
     "hide_output_from_viewers": true,
     "node_id": "nMM84LRC1C35zWx76UAH0K",
     "type": "CODE"
    }
   },
   "outputs": [],
   "source": [
    "df_uitkeringen.info()"
   ]
  },
  {
   "cell_type": "code",
   "execution_count": null,
   "metadata": {
    "datalore": {
     "hide_input_from_viewers": true,
     "hide_output_from_viewers": true,
     "node_id": "rejTsUYTq7vaRepcGrolrZ",
     "type": "CODE"
    }
   },
   "outputs": [],
   "source": [
    "# Rename columns\n",
    "df_uitkeringen.rename(columns={'Plaats': 'Gemeente'}, inplace=True)\n",
    "\n",
    "# Display the modified DataFrame\n",
    "df_uitkeringen"
   ]
  },
  {
   "attachments": {},
   "cell_type": "markdown",
   "metadata": {
    "datalore": {
     "hide_input_from_viewers": true,
     "hide_output_from_viewers": true,
     "node_id": "hbxB129ZjDgyXTK4OnZbKw",
     "type": "MD"
    }
   },
   "source": [
    "Bewerken van de df_welzijn dataset"
   ]
  },
  {
   "cell_type": "code",
   "execution_count": null,
   "metadata": {
    "datalore": {
     "hide_input_from_viewers": true,
     "hide_output_from_viewers": true,
     "node_id": "z4NsDKRrpWjDMxQS25ekqh",
     "type": "CODE"
    }
   },
   "outputs": [],
   "source": [
    "df_welzijn.info()"
   ]
  },
  {
   "cell_type": "code",
   "execution_count": null,
   "metadata": {
    "datalore": {
     "hide_input_from_viewers": true,
     "hide_output_from_viewers": true,
     "node_id": "mnCkO0n4a2R2kTGOnN5gJd",
     "type": "CODE"
    }
   },
   "outputs": [],
   "source": [
    "df_welzijn\n",
    "\n",
    "# --"
   ]
  },
  {
   "attachments": {},
   "cell_type": "markdown",
   "metadata": {
    "datalore": {
     "hide_input_from_viewers": true,
     "hide_output_from_viewers": true,
     "node_id": "ZpRlqvZYtIU0mSJE2PKltB",
     "type": "MD"
    }
   },
   "source": [
    "**Merging dataframes**"
   ]
  },
  {
   "attachments": {},
   "cell_type": "markdown",
   "metadata": {
    "datalore": {
     "hide_input_from_viewers": true,
     "hide_output_from_viewers": true,
     "node_id": "PEbbfPBJnzvwc4YUEUr36y",
     "type": "MD"
    }
   },
   "source": [
    "Merge df_deelnemers & df_fitheids_scan en verwijder de losse datasets hierna"
   ]
  },
  {
   "cell_type": "code",
   "execution_count": null,
   "metadata": {
    "datalore": {
     "hide_input_from_viewers": true,
     "hide_output_from_viewers": true,
     "node_id": "9K1eWQDDbDFqL89gbD9KzD",
     "type": "CODE"
    }
   },
   "outputs": [],
   "source": [
    "# Converting DeelnemerID to INT to merge properly\n",
    "df_deelnemeners['DeelnemerID'] = df_deelnemeners['DeelnemerID'].astype(pd.Int64Dtype())\n",
    "\n",
    "# Merge df_deelnemers & df_fitheids_scan\n",
    "df_healthy_life = pd.merge(df_fitheids_scan, df_deelnemeners, on='DeelnemerID')\n",
    "\n",
    "# Delete df_deelnemers & df_fitheids_scan for minimalizing the ram usage\n",
    "del df_fitheids_scan, df_deelnemeners\n",
    "\n",
    "\n",
    "df_healthy_life.info()\n",
    "\n",
    "df_healthy_life"
   ]
  },
  {
   "attachments": {},
   "cell_type": "markdown",
   "metadata": {
    "datalore": {
     "hide_input_from_viewers": true,
     "hide_output_from_viewers": true,
     "node_id": "qNlLwhSnuzKBdnQm0ggsbZ",
     "type": "MD"
    }
   },
   "source": [
    "Merge all dataframes"
   ]
  },
  {
   "cell_type": "code",
   "execution_count": null,
   "metadata": {
    "datalore": {
     "hide_input_from_viewers": true,
     "hide_output_from_viewers": true,
     "node_id": "oX09d5JkqlEeQTQEPYaJwt",
     "type": "CODE"
    }
   },
   "outputs": [],
   "source": [
    "df_cbs_afstanden"
   ]
  },
  {
   "cell_type": "code",
   "execution_count": null,
   "metadata": {
    "datalore": {
     "hide_input_from_viewers": true,
     "hide_output_from_viewers": true,
     "node_id": "TyPrO7EvUjs9BFZS5Qeltd",
     "type": "CODE"
    }
   },
   "outputs": [],
   "source": [
    "merged_df = pd.merge(df_healthy_life, df_cbs_afstanden, on='Gemeente', how='inner')\n",
    "merged_df = pd.merge(merged_df, df_kvk_inkomen, on='Gemeente', how='inner')\n",
    "merged_df = pd.merge(merged_df, df_afkomst_per_gemeente, on='Gemeente', how='inner')\n",
    "merged_df = pd.merge(merged_df, df_uitkeringen, on='Gemeente', how='inner')\n",
    "#merged_df = pd.merge(merged_df, df_welzijn, on='Gemeente', how='inner')\n",
    "merged_df = pd.merge(merged_df, df_gezondheid, on='Gemeente', how='inner')\n",
    "\n",
    "del df_healthy_life, df_cbs_afstanden, df_kvk_inkomen, df_afkomst_per_gemeente, df_uitkeringen, df_welzijn, df_gezondheid\n",
    "\n",
    "df_clean = merged_df.copy()\n",
    "\n",
    "del merged_df"
   ]
  },
  {
   "attachments": {},
   "cell_type": "markdown",
   "metadata": {
    "datalore": {
     "hide_input_from_viewers": true,
     "hide_output_from_viewers": true,
     "node_id": "awDbTqRymwKO6Y0iusIFao",
     "type": "MD"
    }
   },
   "source": [
    "**Voorbereiding**"
   ]
  },
  {
   "cell_type": "code",
   "execution_count": null,
   "metadata": {
    "datalore": {
     "hide_input_from_viewers": true,
     "hide_output_from_viewers": true,
     "node_id": "hDhvWXYt0Vc2yS59AVVZxM",
     "type": "CODE"
    }
   },
   "outputs": [],
   "source": [
    "df_clean.isnull().sum()"
   ]
  },
  {
   "cell_type": "code",
   "execution_count": null,
   "metadata": {
    "datalore": {
     "hide_input_from_viewers": true,
     "hide_output_from_viewers": true,
     "node_id": "2kPs3DIUgNgbLwl2pb945m",
     "type": "CODE"
    }
   },
   "outputs": [],
   "source": [
    "fig, ax = plt.subplots(figsize=(15, 5))\n",
    "sns.heatmap(df_clean.isnull(),cbar=False,cmap='viridis')"
   ]
  },
  {
   "cell_type": "code",
   "execution_count": null,
   "metadata": {
    "datalore": {
     "hide_input_from_viewers": true,
     "hide_output_from_viewers": true,
     "node_id": "yzaxxsFNBQaB1PN0ZgQBtC",
     "type": "CODE"
    }
   },
   "outputs": [],
   "source": [
    "df_clean.info()"
   ]
  },
  {
   "cell_type": "code",
   "execution_count": null,
   "metadata": {
    "datalore": {
     "hide_input_from_viewers": true,
     "hide_output_from_viewers": true,
     "node_id": "vVmGnygREga1tKyKBGJZT5",
     "type": "CODE"
    }
   },
   "outputs": [],
   "source": [
    "#Checking for wrong entries like symbols -,?,#,*,etc.\n",
    "for col in df_clean.columns:\n",
    "    try:\n",
    "        print('{} : {}'.format(col,df_clean[col].unique()))\n",
    "    except:\n",
    "        print(col)"
   ]
  },
  {
   "cell_type": "code",
   "execution_count": null,
   "metadata": {
    "datalore": {
     "hide_input_from_viewers": true,
     "hide_output_from_viewers": true,
     "node_id": "PHUP0dfmndCD6f2s9EOxBm",
     "type": "CODE"
    }
   },
   "outputs": [],
   "source": [
    "for col in df_clean.columns:\n",
    "    df_clean[col].replace({'?':np.nan},inplace=True)"
   ]
  },
  {
   "cell_type": "code",
   "execution_count": null,
   "metadata": {
    "datalore": {
     "hide_input_from_viewers": true,
     "hide_output_from_viewers": true,
     "node_id": "gCCcGNgPT5ddG81dNJ9w21",
     "type": "CODE"
    }
   },
   "outputs": [],
   "source": []
  },
  {
   "attachments": {},
   "cell_type": "markdown",
   "metadata": {
    "datalore": {
     "hide_input_from_viewers": true,
     "hide_output_from_viewers": true,
     "node_id": "5W3Rmz1QPeW4XL5m2hS1Zl",
     "type": "MD"
    }
   },
   "source": [
    "null data vervangen"
   ]
  },
  {
   "cell_type": "code",
   "execution_count": null,
   "metadata": {
    "datalore": {
     "hide_input_from_viewers": true,
     "hide_output_from_viewers": true,
     "node_id": "2GxLWewnpvC4ocTmAYwy4b",
     "type": "CODE"
    }
   },
   "outputs": [],
   "source": [
    "\n",
    "df_clean"
   ]
  },
  {
   "cell_type": "code",
   "execution_count": null,
   "metadata": {
    "datalore": {
     "hide_input_from_viewers": true,
     "hide_output_from_viewers": true,
     "node_id": "wXHrBZFe76wjsDcmv8axP9",
     "type": "CODE"
    }
   },
   "outputs": [],
   "source": []
  },
  {
   "cell_type": "code",
   "execution_count": null,
   "metadata": {
    "datalore": {
     "hide_input_from_viewers": true,
     "hide_output_from_viewers": true,
     "node_id": "2FP6pESgDnzhyMYQxKZip2",
     "type": "CODE"
    }
   },
   "outputs": [],
   "source": [
    "# import seaborn as sns\n",
    "# import matplotlib.pyplot as plt\n",
    "\n",
    "# # Calculate the correlation matrix\n",
    "# corr_matrix = df_cbs_afstanden_volledig1.corr()\n",
    "\n",
    "# # Create a heatmap of the correlation matrix\n",
    "# plt.figure(figsize=(60, 60))  # Set the figure size\n",
    "# sns.heatmap(corr_matrix, annot=True, cmap='coolwarm', square=True)\n",
    "\n",
    "# # Add plot labels\n",
    "# plt.title('Correlation Matrix')\n",
    "# plt.xlabel('Features')\n",
    "# plt.ylabel('Features')\n",
    "\n",
    "# # Show the plot\n",
    "# plt.show()"
   ]
  },
  {
   "cell_type": "code",
   "execution_count": null,
   "metadata": {
    "datalore": {
     "hide_input_from_viewers": true,
     "hide_output_from_viewers": true,
     "node_id": "uz1C8yubmsLi5tRKpglYSd",
     "type": "CODE"
    }
   },
   "outputs": [],
   "source": [
    "df_gezondheid"
   ]
  },
  {
   "cell_type": "code",
   "execution_count": null,
   "metadata": {
    "datalore": {
     "hide_input_from_viewers": true,
     "hide_output_from_viewers": true,
     "node_id": "34DrBnat5BzDZvOi6JruI4",
     "type": "CODE"
    }
   },
   "outputs": [],
   "source": [
    "df_clean['Geslacht'] = df_clean['Geslacht'].astype(\"category\")\n",
    "pd.get_dummies(df_clean, columns=['Geslacht'], drop_first=True)\n",
    "\n",
    "df_clean"
   ]
  },
  {
   "cell_type": "code",
   "execution_count": null,
   "metadata": {
    "datalore": {
     "hide_input_from_viewers": true,
     "hide_output_from_viewers": true,
     "node_id": "T0qWwroh6sFP9bmpbOCRIT",
     "type": "CODE"
    }
   },
   "outputs": [],
   "source": [
    "df_clean.dtypes"
   ]
  },
  {
   "cell_type": "code",
   "execution_count": null,
   "metadata": {
    "datalore": {
     "hide_input_from_viewers": true,
     "hide_output_from_viewers": true,
     "node_id": "JjIlguEhcVTmUMOcV0kl9a",
     "type": "CODE"
    }
   },
   "outputs": [],
   "source": []
  },
  {
   "cell_type": "code",
   "execution_count": null,
   "metadata": {
    "datalore": {
     "hide_input_from_viewers": true,
     "hide_output_from_viewers": true,
     "node_id": "w9JrPZvau5HknzBkAfRCyi",
     "type": "CODE"
    }
   },
   "outputs": [],
   "source": [
    "# Deze code kan wellicth later weg maar even laten staan\n",
    "\n",
    "# rename columns for merging\n",
    "df_cbs_afstanden.rename(columns={\"Regio's\": 'Gemeentenaam'}, inplace=True)\n",
    "\n",
    "# merge df_cbs_gemeentecodes & df_cbs_afstanden\n",
    "df_cbs_afstanden_volledig = pd.merge(df_cbs_afstanden, df_cbs_gemeentecodes, on='Gemeentenaam')\n",
    "\n",
    "df_cbs_afstanden_volledig.drop(columns={'Gemeentecode', 'Provinciecode', 'ProvinciecodePV'}, inplace=True)\n",
    "\n",
    "stringstokeep = ['Beek', 'Beekdaelen', 'Breda', 'Echt-Susteren', 'Heerlen', 'Kerkrade', \n",
    "                 'Maasgouw', 'Roerdalen','Roermond', 'Sittard-Geleen', 'Stein', 'Weert']\n",
    "\n",
    "condition = df_cbs_afstanden_volledig['Gemeentenaam'].str.contains('|'.join(stringstokeep))\n",
    "\n",
    "df_cbs_afstanden_volledig = df_cbs_afstanden_volledig[condition]\n",
    "\n",
    "df_cbs_afstanden_volledig.replace('       .', pd.NA, inplace=True)\n",
    "\n",
    "df_cbs_afstanden_volledig.dropna(axis=1, how='all', inplace=True)\n",
    "\n",
    "# for some reason resetting the index makes a new column named index, so this one is also dropped\n",
    "df_cbs_afstanden_volledig.reset_index(inplace=True)\n",
    "df_cbs_afstanden_volledig.drop(columns={'index'},inplace=True)\n",
    "\n",
    "# delete df_cbs_gemeentecodes and df_cbs_afstanden for minimalizing the ram usage\n",
    "del(df_cbs_gemeentecodes, df_cbs_afstanden, condition, stringstokeep)"
   ]
  }
 ],
 "metadata": {
  "datalore": {
   "base_environment": "default",
   "computation_mode": "JUPYTER",
   "package_manager": "pip",
   "packages": [],
   "report_row_ids": [],
   "version": 3
  },
  "kernelspec": {
   "display_name": "Python 3 (ipykernel)",
   "language": "python",
   "name": "python3"
  },
  "language_info": {
   "codemirror_mode": {
    "name": "ipython",
    "version": 3
   },
   "file_extension": ".py",
   "mimetype": "text/x-python",
   "name": "python",
   "nbconvert_exporter": "python",
   "pygments_lexer": "ipython3",
   "version": "3.9.7"
  }
 },
 "nbformat": 4,
 "nbformat_minor": 4
}
