{
 "cells": [
  {
   "cell_type": "code",
   "execution_count": 5,
   "metadata": {},
   "outputs": [],
   "source": [
    "# Used imports -- standard imports\n",
    "import pandas as pd\n",
    "import cbsodata\n"
   ]
  },
  {
   "attachments": {},
   "cell_type": "markdown",
   "metadata": {},
   "source": [
    "Reading all the cbs data"
   ]
  },
  {
   "cell_type": "code",
   "execution_count": 10,
   "metadata": {},
   "outputs": [],
   "source": [
    "# Converteer naar een Pandas DataFrame voor gemakkelijke manipulatie\n",
    "df_algemeen = pd.DataFrame(cbsodata.get_data('83765NED'))\n",
    "\n",
    "# Converteer naar een Pandas DataFrame voor gemakkelijke manipulatie\n",
    "df_afstanden = pd.DataFrame(cbsodata.get_data('80305ned'))\n",
    "\n",
    "# Converteer naar een Pandas DataFrame voor gemakkelijke manipulatie\n",
    "df_gezondheidsmonitor = pd.DataFrame(cbsodata.get_data('85012NED'))"
   ]
  },
  {
   "attachments": {},
   "cell_type": "markdown",
   "metadata": {},
   "source": [
    "Gereed maken df_algemeen"
   ]
  },
  {
   "cell_type": "code",
   "execution_count": null,
   "metadata": {},
   "outputs": [
    {
     "name": "stdout",
     "output_type": "stream",
     "text": [
      "<class 'pandas.core.frame.DataFrame'>\n",
      "RangeIndex: 16667 entries, 0 to 16666\n",
      "Columns: 110 entries, ID to GeweldsEnSeksueleMisdrijven_108\n",
      "dtypes: float64(65), int64(39), object(6)\n",
      "memory usage: 14.0+ MB\n"
     ]
    }
   ],
   "source": [
    "df_algemeen.info()"
   ]
  },
  {
   "cell_type": "code",
   "execution_count": null,
   "metadata": {},
   "outputs": [],
   "source": [
    "# Checking for possible values\n",
    "for col in df_algemeen.columns:\n",
    "    try:\n",
    "        print('{} : {}'.format(col,df_algemeen[col].unique()))\n",
    "    except:\n",
    "        print(col)"
   ]
  },
  {
   "cell_type": "code",
   "execution_count": null,
   "metadata": {},
   "outputs": [],
   "source": [
    "df_algemeen"
   ]
  },
  {
   "cell_type": "code",
   "execution_count": 8,
   "metadata": {},
   "outputs": [],
   "source": [
    "# Select only Gemeente specific data\n",
    "df_algemeen = df_algemeen[(df_algemeen['SoortRegio_2'] == 'Gemeente')]"
   ]
  },
  {
   "cell_type": "code",
   "execution_count": null,
   "metadata": {},
   "outputs": [
    {
     "data": {
      "text/html": [
       "<div>\n",
       "<style scoped>\n",
       "    .dataframe tbody tr th:only-of-type {\n",
       "        vertical-align: middle;\n",
       "    }\n",
       "\n",
       "    .dataframe tbody tr th {\n",
       "        vertical-align: top;\n",
       "    }\n",
       "\n",
       "    .dataframe thead th {\n",
       "        text-align: right;\n",
       "    }\n",
       "</style>\n",
       "<table border=\"1\" class=\"dataframe\">\n",
       "  <thead>\n",
       "    <tr style=\"text-align: right;\">\n",
       "      <th></th>\n",
       "      <th>ID</th>\n",
       "      <th>WijkenEnBuurten</th>\n",
       "      <th>Gemeentenaam_1</th>\n",
       "      <th>SoortRegio_2</th>\n",
       "      <th>Codering_3</th>\n",
       "      <th>IndelingswijzigingWijkenEnBuurten_4</th>\n",
       "      <th>AantalInwoners_5</th>\n",
       "      <th>Mannen_6</th>\n",
       "      <th>Vrouwen_7</th>\n",
       "      <th>k_0Tot15Jaar_8</th>\n",
       "      <th>...</th>\n",
       "      <th>OppervlakteTotaal_99</th>\n",
       "      <th>OppervlakteLand_100</th>\n",
       "      <th>OppervlakteWater_101</th>\n",
       "      <th>MeestVoorkomendePostcode_102</th>\n",
       "      <th>Dekkingspercentage_103</th>\n",
       "      <th>MateVanStedelijkheid_104</th>\n",
       "      <th>Omgevingsadressendichtheid_105</th>\n",
       "      <th>TotaalDiefstalUitWoningSchuurED_106</th>\n",
       "      <th>VernielingMisdrijfTegenOpenbareOrde_107</th>\n",
       "      <th>GeweldsEnSeksueleMisdrijven_108</th>\n",
       "    </tr>\n",
       "  </thead>\n",
       "  <tbody>\n",
       "  </tbody>\n",
       "</table>\n",
       "<p>0 rows × 110 columns</p>\n",
       "</div>"
      ],
      "text/plain": [
       "Empty DataFrame\n",
       "Columns: [ID, WijkenEnBuurten, Gemeentenaam_1, SoortRegio_2, Codering_3, IndelingswijzigingWijkenEnBuurten_4, AantalInwoners_5, Mannen_6, Vrouwen_7, k_0Tot15Jaar_8, k_15Tot25Jaar_9, k_25Tot45Jaar_10, k_45Tot65Jaar_11, k_65JaarOfOuder_12, Ongehuwd_13, Gehuwd_14, Gescheiden_15, Verweduwd_16, WestersTotaal_17, NietWestersTotaal_18, Marokko_19, NederlandseAntillenEnAruba_20, Suriname_21, Turkije_22, OverigNietWesters_23, GeboorteTotaal_24, GeboorteRelatief_25, SterfteTotaal_26, SterfteRelatief_27, HuishoudensTotaal_28, Eenpersoonshuishoudens_29, HuishoudensZonderKinderen_30, HuishoudensMetKinderen_31, GemiddeldeHuishoudensgrootte_32, Bevolkingsdichtheid_33, Woningvoorraad_34, GemiddeldeWoningwaarde_35, PercentageEengezinswoning_36, PercentageMeergezinswoning_37, PercentageBewoond_38, PercentageOnbewoond_39, Koopwoningen_40, HuurwoningenTotaal_41, InBezitWoningcorporatie_42, InBezitOverigeVerhuurders_43, EigendomOnbekend_44, BouwjaarVoor2000_45, BouwjaarVanaf2000_46, GemiddeldElektriciteitsverbruikTotaal_47, Appartement_48, Tussenwoning_49, Hoekwoning_50, TweeOnderEenKapWoning_51, VrijstaandeWoning_52, Huurwoning_53, EigenWoning_54, GemiddeldAardgasverbruikTotaal_55, Appartement_56, Tussenwoning_57, Hoekwoning_58, TweeOnderEenKapWoning_59, VrijstaandeWoning_60, Huurwoning_61, EigenWoning_62, PercentageWoningenMetStadsverwarming_63, AantalInkomensontvangers_64, GemiddeldInkomenPerInkomensontvanger_65, GemiddeldInkomenPerInwoner_66, k_40PersonenMetLaagsteInkomen_67, k_20PersonenMetHoogsteInkomen_68, Actieven1575Jaar_69, k_40HuishoudensMetLaagsteInkomen_70, k_20HuishoudensMetHoogsteInkomen_71, HuishoudensMetEenLaagInkomen_72, HuishOnderOfRondSociaalMinimum_73, PersonenPerSoortUitkeringBijstand_74, PersonenPerSoortUitkeringAO_75, PersonenPerSoortUitkeringWW_76, PersonenPerSoortUitkeringAOW_77, BedrijfsvestigingenTotaal_78, ALandbouwBosbouwEnVisserij_79, BFNijverheidEnEnergie_80, GIHandelEnHoreca_81, HJVervoerInformatieEnCommunicatie_82, KLFinancieleDienstenOnroerendGoed_83, MNZakelijkeDienstverlening_84, RUCultuurRecreatieOverigeDiensten_85, PersonenautoSTotaal_86, PersonenautoSJongerDan6Jaar_87, PersonenautoS6JaarEnOuder_88, PersonenautoSBrandstofBenzine_89, PersonenautoSOverigeBrandstof_90, PersonenautoSPerHuishouden_91, PersonenautoSNaarOppervlakte_92, Motorfietsen_93, AfstandTotHuisartsenpraktijk_94, AfstandTotGroteSupermarkt_95, AfstandTotKinderdagverblijf_96, AfstandTotSchool_97, ScholenBinnen3Km_98, ...]\n",
       "Index: []\n",
       "\n",
       "[0 rows x 110 columns]"
      ]
     },
     "execution_count": 9,
     "metadata": {},
     "output_type": "execute_result"
    }
   ],
   "source": [
    "df_algemeen"
   ]
  },
  {
   "attachments": {},
   "cell_type": "markdown",
   "metadata": {},
   "source": []
  },
  {
   "cell_type": "code",
   "execution_count": null,
   "metadata": {},
   "outputs": [],
   "source": []
  }
 ],
 "metadata": {
  "kernelspec": {
   "display_name": "Python 3",
   "language": "python",
   "name": "python3"
  },
  "language_info": {
   "codemirror_mode": {
    "name": "ipython",
    "version": 3
   },
   "file_extension": ".py",
   "mimetype": "text/x-python",
   "name": "python",
   "nbconvert_exporter": "python",
   "pygments_lexer": "ipython3",
   "version": "3.9.5"
  },
  "orig_nbformat": 4
 },
 "nbformat": 4,
 "nbformat_minor": 2
}
